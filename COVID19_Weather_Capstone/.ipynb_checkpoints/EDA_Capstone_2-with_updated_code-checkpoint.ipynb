{
 "cells": [
  {
   "cell_type": "markdown",
   "id": "6bdb2b8d",
   "metadata": {},
   "source": [
    "# Exploratory Data Analysis"
   ]
  },
  {
   "cell_type": "code",
   "execution_count": 1,
   "id": "e5683f1b",
   "metadata": {},
   "outputs": [],
   "source": [
    "import pandas as pd\n",
    "import numpy as np \n",
    "import json\n",
    "import requests\n",
    "import datetime\n",
    "import matplotlib.pyplot as plt\n",
    "import seaborn as sns\n",
    "import ppscore\n",
    "from scipy import stats"
   ]
  },
  {
   "cell_type": "code",
   "execution_count": 2,
   "id": "7ab50b97",
   "metadata": {},
   "outputs": [],
   "source": [
    "#load dataframe created in data wrangling phase\n",
    "#parse datetime column\n",
    "df= pd.read_csv('cleaned_cov_weather3.csv', parse_dates=['date'], index_col ='date')"
   ]
  },
  {
   "cell_type": "code",
   "execution_count": 4,
   "id": "23dd53ca",
   "metadata": {
    "scrolled": true
   },
   "outputs": [
    {
     "data": {
      "text/html": [
       "<div>\n",
       "<style scoped>\n",
       "    .dataframe tbody tr th:only-of-type {\n",
       "        vertical-align: middle;\n",
       "    }\n",
       "\n",
       "    .dataframe tbody tr th {\n",
       "        vertical-align: top;\n",
       "    }\n",
       "\n",
       "    .dataframe thead th {\n",
       "        text-align: right;\n",
       "    }\n",
       "</style>\n",
       "<table border=\"1\" class=\"dataframe\">\n",
       "  <thead>\n",
       "    <tr style=\"text-align: right;\">\n",
       "      <th></th>\n",
       "      <th>vt_avg_temp</th>\n",
       "      <th>vt_prcp</th>\n",
       "      <th>me_avg_temp</th>\n",
       "      <th>me_prcp</th>\n",
       "      <th>ct_avg_temp</th>\n",
       "      <th>ct_prcp</th>\n",
       "      <th>ma_avg_temp</th>\n",
       "      <th>ma_prcp</th>\n",
       "      <th>CT_conf_cases</th>\n",
       "      <th>ME_conf_cases</th>\n",
       "      <th>MA_conf_cases</th>\n",
       "      <th>VT_conf_cases</th>\n",
       "    </tr>\n",
       "    <tr>\n",
       "      <th>date</th>\n",
       "      <th></th>\n",
       "      <th></th>\n",
       "      <th></th>\n",
       "      <th></th>\n",
       "      <th></th>\n",
       "      <th></th>\n",
       "      <th></th>\n",
       "      <th></th>\n",
       "      <th></th>\n",
       "      <th></th>\n",
       "      <th></th>\n",
       "      <th></th>\n",
       "    </tr>\n",
       "  </thead>\n",
       "  <tbody>\n",
       "    <tr>\n",
       "      <th>2020-01-22</th>\n",
       "      <td>-28</td>\n",
       "      <td>0</td>\n",
       "      <td>-72.0</td>\n",
       "      <td>0.0</td>\n",
       "      <td>-76.0</td>\n",
       "      <td>0.0</td>\n",
       "      <td>-53.0</td>\n",
       "      <td>0.0</td>\n",
       "      <td>0</td>\n",
       "      <td>0</td>\n",
       "      <td>0</td>\n",
       "      <td>0</td>\n",
       "    </tr>\n",
       "    <tr>\n",
       "      <th>2020-01-23</th>\n",
       "      <td>-27</td>\n",
       "      <td>0</td>\n",
       "      <td>-30.0</td>\n",
       "      <td>3.0</td>\n",
       "      <td>-46.0</td>\n",
       "      <td>0.0</td>\n",
       "      <td>0.0</td>\n",
       "      <td>0.0</td>\n",
       "      <td>0</td>\n",
       "      <td>0</td>\n",
       "      <td>0</td>\n",
       "      <td>0</td>\n",
       "    </tr>\n",
       "    <tr>\n",
       "      <th>2020-01-24</th>\n",
       "      <td>-8</td>\n",
       "      <td>0</td>\n",
       "      <td>-14.0</td>\n",
       "      <td>0.0</td>\n",
       "      <td>6.0</td>\n",
       "      <td>0.0</td>\n",
       "      <td>19.0</td>\n",
       "      <td>0.0</td>\n",
       "      <td>0</td>\n",
       "      <td>0</td>\n",
       "      <td>0</td>\n",
       "      <td>0</td>\n",
       "    </tr>\n",
       "    <tr>\n",
       "      <th>2020-01-25</th>\n",
       "      <td>3</td>\n",
       "      <td>119</td>\n",
       "      <td>-30.0</td>\n",
       "      <td>3.0</td>\n",
       "      <td>23.0</td>\n",
       "      <td>218.0</td>\n",
       "      <td>33.0</td>\n",
       "      <td>25.0</td>\n",
       "      <td>0</td>\n",
       "      <td>0</td>\n",
       "      <td>0</td>\n",
       "      <td>0</td>\n",
       "    </tr>\n",
       "    <tr>\n",
       "      <th>2020-01-26</th>\n",
       "      <td>22</td>\n",
       "      <td>23</td>\n",
       "      <td>11.0</td>\n",
       "      <td>132.0</td>\n",
       "      <td>49.0</td>\n",
       "      <td>0.0</td>\n",
       "      <td>64.0</td>\n",
       "      <td>193.0</td>\n",
       "      <td>0</td>\n",
       "      <td>0</td>\n",
       "      <td>0</td>\n",
       "      <td>0</td>\n",
       "    </tr>\n",
       "  </tbody>\n",
       "</table>\n",
       "</div>"
      ],
      "text/plain": [
       "            vt_avg_temp  vt_prcp  me_avg_temp  me_prcp  ct_avg_temp  ct_prcp  \\\n",
       "date                                                                           \n",
       "2020-01-22          -28        0        -72.0      0.0        -76.0      0.0   \n",
       "2020-01-23          -27        0        -30.0      3.0        -46.0      0.0   \n",
       "2020-01-24           -8        0        -14.0      0.0          6.0      0.0   \n",
       "2020-01-25            3      119        -30.0      3.0         23.0    218.0   \n",
       "2020-01-26           22       23         11.0    132.0         49.0      0.0   \n",
       "\n",
       "            ma_avg_temp  ma_prcp  CT_conf_cases  ME_conf_cases  MA_conf_cases  \\\n",
       "date                                                                            \n",
       "2020-01-22        -53.0      0.0              0              0              0   \n",
       "2020-01-23          0.0      0.0              0              0              0   \n",
       "2020-01-24         19.0      0.0              0              0              0   \n",
       "2020-01-25         33.0     25.0              0              0              0   \n",
       "2020-01-26         64.0    193.0              0              0              0   \n",
       "\n",
       "            VT_conf_cases  \n",
       "date                       \n",
       "2020-01-22              0  \n",
       "2020-01-23              0  \n",
       "2020-01-24              0  \n",
       "2020-01-25              0  \n",
       "2020-01-26              0  "
      ]
     },
     "execution_count": 4,
     "metadata": {},
     "output_type": "execute_result"
    }
   ],
   "source": [
    "df.head()"
   ]
  },
  {
   "cell_type": "code",
   "execution_count": 5,
   "id": "437397b5",
   "metadata": {
    "scrolled": true
   },
   "outputs": [
    {
     "data": {
      "text/plain": [
       "vt_avg_temp        int64\n",
       "vt_prcp            int64\n",
       "me_avg_temp      float64\n",
       "me_prcp          float64\n",
       "ct_avg_temp      float64\n",
       "ct_prcp          float64\n",
       "ma_avg_temp      float64\n",
       "ma_prcp          float64\n",
       "CT_conf_cases      int64\n",
       "ME_conf_cases      int64\n",
       "MA_conf_cases      int64\n",
       "VT_conf_cases      int64\n",
       "dtype: object"
      ]
     },
     "execution_count": 5,
     "metadata": {},
     "output_type": "execute_result"
    }
   ],
   "source": [
    "#double check data types\n",
    "df.dtypes"
   ]
  },
  {
   "cell_type": "code",
   "execution_count": 6,
   "id": "8454a75e",
   "metadata": {},
   "outputs": [],
   "source": [
    "#Convert int columns to float in preparation for calculations:\n",
    "int_columns= {\"CT_conf_cases\": 'float', \"ME_conf_cases\": 'float', \"MA_conf_cases\":\"float\", \"VT_conf_cases\":'float', \"vt_avg_temp\":'float', \"vt_prcp\":'float'}\n",
    "df = df.astype(int_columns)"
   ]
  },
  {
   "cell_type": "code",
   "execution_count": 7,
   "id": "8cb017ed",
   "metadata": {},
   "outputs": [
    {
     "data": {
      "text/plain": [
       "vt_avg_temp      float64\n",
       "vt_prcp          float64\n",
       "me_avg_temp      float64\n",
       "me_prcp          float64\n",
       "ct_avg_temp      float64\n",
       "ct_prcp          float64\n",
       "ma_avg_temp      float64\n",
       "ma_prcp          float64\n",
       "CT_conf_cases    float64\n",
       "ME_conf_cases    float64\n",
       "MA_conf_cases    float64\n",
       "VT_conf_cases    float64\n",
       "dtype: object"
      ]
     },
     "execution_count": 7,
     "metadata": {},
     "output_type": "execute_result"
    }
   ],
   "source": [
    "df.dtypes"
   ]
  },
  {
   "cell_type": "code",
   "execution_count": 8,
   "id": "c669aa3e",
   "metadata": {
    "scrolled": true
   },
   "outputs": [
    {
     "data": {
      "text/html": [
       "<div>\n",
       "<style scoped>\n",
       "    .dataframe tbody tr th:only-of-type {\n",
       "        vertical-align: middle;\n",
       "    }\n",
       "\n",
       "    .dataframe tbody tr th {\n",
       "        vertical-align: top;\n",
       "    }\n",
       "\n",
       "    .dataframe thead th {\n",
       "        text-align: right;\n",
       "    }\n",
       "</style>\n",
       "<table border=\"1\" class=\"dataframe\">\n",
       "  <thead>\n",
       "    <tr style=\"text-align: right;\">\n",
       "      <th></th>\n",
       "      <th>vt_avg_temp</th>\n",
       "      <th>vt_prcp</th>\n",
       "      <th>me_avg_temp</th>\n",
       "      <th>me_prcp</th>\n",
       "      <th>ct_avg_temp</th>\n",
       "      <th>ct_prcp</th>\n",
       "      <th>ma_avg_temp</th>\n",
       "      <th>ma_prcp</th>\n",
       "      <th>CT_conf_cases</th>\n",
       "      <th>ME_conf_cases</th>\n",
       "      <th>MA_conf_cases</th>\n",
       "      <th>VT_conf_cases</th>\n",
       "    </tr>\n",
       "    <tr>\n",
       "      <th>date</th>\n",
       "      <th></th>\n",
       "      <th></th>\n",
       "      <th></th>\n",
       "      <th></th>\n",
       "      <th></th>\n",
       "      <th></th>\n",
       "      <th></th>\n",
       "      <th></th>\n",
       "      <th></th>\n",
       "      <th></th>\n",
       "      <th></th>\n",
       "      <th></th>\n",
       "    </tr>\n",
       "  </thead>\n",
       "  <tbody>\n",
       "    <tr>\n",
       "      <th>2020-09-07</th>\n",
       "      <td>194.0</td>\n",
       "      <td>0.0</td>\n",
       "      <td>NaN</td>\n",
       "      <td>NaN</td>\n",
       "      <td>217.0</td>\n",
       "      <td>0.0</td>\n",
       "      <td>222.0</td>\n",
       "      <td>0.0</td>\n",
       "      <td>53365.0</td>\n",
       "      <td>4701.0</td>\n",
       "      <td>122791.0</td>\n",
       "      <td>1651.0</td>\n",
       "    </tr>\n",
       "  </tbody>\n",
       "</table>\n",
       "</div>"
      ],
      "text/plain": [
       "            vt_avg_temp  vt_prcp  me_avg_temp  me_prcp  ct_avg_temp  ct_prcp  \\\n",
       "date                                                                           \n",
       "2020-09-07        194.0      0.0          NaN      NaN        217.0      0.0   \n",
       "\n",
       "            ma_avg_temp  ma_prcp  CT_conf_cases  ME_conf_cases  MA_conf_cases  \\\n",
       "date                                                                            \n",
       "2020-09-07        222.0      0.0        53365.0         4701.0       122791.0   \n",
       "\n",
       "            VT_conf_cases  \n",
       "date                       \n",
       "2020-09-07         1651.0  "
      ]
     },
     "execution_count": 8,
     "metadata": {},
     "output_type": "execute_result"
    }
   ],
   "source": [
    "#Any missing values?\n",
    "df[pd.isnull(df).any(axis=1)]"
   ]
  },
  {
   "cell_type": "markdown",
   "id": "3062e9bc",
   "metadata": {},
   "source": [
    "No missing values.\n",
    "\n",
    "However, the units of TAVG and PRCP are clearly off. \n",
    "\n",
    "According to [NOAA documentation](https://www1.ncdc.noaa.gov/pub/data/ghcn/daily/readme.txt), temperatures are reported in __*tenths*__ of a degree Celsius. I'll convert to degrees Fahrenheit instead (since this is US data here)."
   ]
  },
  {
   "cell_type": "code",
   "execution_count": null,
   "id": "c965432d",
   "metadata": {},
   "outputs": [],
   "source": [
    "# (C*9/50)+32=F (since C is reported here as tenths of degrees)\n",
    "df2=df\n",
    "df2['vt_avg_temp'] = ((df['vt_avg_temp']*9)/50) + 32\n",
    "df2['me_avg_temp'] = ((df['me_avg_temp']*9)/50) + 32\n",
    "df2['ct_avg_temp'] = ((df['ct_avg_temp']*9)/50) + 32\n",
    "df2['ma_avg_temp'] = ((df['ma_avg_temp']*9)/50) + 32"
   ]
  },
  {
   "cell_type": "markdown",
   "id": "a6b0afea",
   "metadata": {},
   "source": [
    "The [same documention](https://www1.ncdc.noaa.gov/pub/data/ghcn/daily/readme.txt) cited above also explains that PRCP data is reported in __*tenths*__ of a mm. [Wikipedia](https://en.wikipedia.org/wiki/Precipitation) reports that generally PRCP data is reported in millimeters, so I'll convert to millimeters instead."
   ]
  },
  {
   "cell_type": "code",
   "execution_count": null,
   "id": "5a0b5367",
   "metadata": {},
   "outputs": [],
   "source": [
    "df3=df2\n",
    "df3['vt_prcp'] = df2['vt_prcp']/10\n",
    "df3['me_prcp'] = df2['me_prcp']/10\n",
    "df3['ct_prcp'] = df2['ct_prcp']/10\n",
    "df3['ma_prcp'] = df2['ma_prcp']/10"
   ]
  },
  {
   "cell_type": "code",
   "execution_count": null,
   "id": "216f3475",
   "metadata": {},
   "outputs": [],
   "source": [
    "df3.head()"
   ]
  },
  {
   "cell_type": "markdown",
   "id": "72516f9f",
   "metadata": {},
   "source": [
    "For the sake of clarity, I'll update column names to reflect this unit change."
   ]
  },
  {
   "cell_type": "code",
   "execution_count": null,
   "id": "d1ed36ac",
   "metadata": {},
   "outputs": [],
   "source": [
    "#Update column names to reflect new units:\n",
    "units_dict= {'vt_avg_temp': 'VT_Avg_Temp(F)', 'vt_prcp': 'VT_PRCP(mm)', 'me_avg_temp':'ME_Avg_Temp(F)', 'me_prcp': 'ME_PRCP(mm)', 'ct_avg_temp': 'CT_Avg_Temp(F)', 'ct_prcp':'CT_PRCP(mm)', 'ma_avg_temp': 'MA_Avg_Temp(F)', 'ma_prcp':'MA_PRCP(mm)'}\n",
    "df3.rename(columns=units_dict, inplace=True)\n",
    "df3.head()"
   ]
  },
  {
   "cell_type": "code",
   "execution_count": null,
   "id": "2f385308",
   "metadata": {},
   "outputs": [],
   "source": [
    "#Examine timespan of data:\n",
    "print('Beginning date: ',min(df3.index))\n",
    "print('End date: ', max(df3.index))\n",
    "print('Total timespan: ', max(df3.index-min(df3.index)))"
   ]
  },
  {
   "cell_type": "code",
   "execution_count": null,
   "id": "22587bb9",
   "metadata": {},
   "outputs": [],
   "source": [
    "# Make copy of df \n",
    "df4=df3"
   ]
  },
  {
   "cell_type": "code",
   "execution_count": null,
   "id": "9252b4f1",
   "metadata": {},
   "outputs": [],
   "source": [
    "# Make column of non-cumulative counts of confirmed cases for each state:\n",
    "df4[\"CT_Conf_Cases\"] = df4['CT_conf_cases'].diff().fillna(0)\n",
    "df4[\"VT_Conf_Cases\"] = df4['VT_conf_cases'].diff().fillna(0)\n",
    "df4[\"ME_Conf_Cases\"] = df4['ME_conf_cases'].diff().fillna(0)\n",
    "df4[\"MA_Conf_Cases\"] = df4['MA_conf_cases'].diff().fillna(0)"
   ]
  },
  {
   "cell_type": "code",
   "execution_count": null,
   "id": "7f7a12b1",
   "metadata": {},
   "outputs": [],
   "source": [
    "#Drop cumulative confirmed case columns:\n",
    "df5 = df4.drop(columns=['CT_conf_cases', 'VT_conf_cases', 'ME_conf_cases', 'MA_conf_cases'])"
   ]
  },
  {
   "cell_type": "code",
   "execution_count": null,
   "id": "02baa586",
   "metadata": {
    "scrolled": true
   },
   "outputs": [],
   "source": [
    "#Reset DateTimeIndex\n",
    "df5.set_index('date',inplace=True)\n",
    "df5"
   ]
  },
  {
   "cell_type": "code",
   "execution_count": null,
   "id": "bf8c28d0",
   "metadata": {
    "scrolled": false
   },
   "outputs": [],
   "source": [
    "#Take a look at some summary statistics of the data:\n",
    "df5.describe()"
   ]
  },
  {
   "cell_type": "markdown",
   "id": "440322fb",
   "metadata": {},
   "source": [
    "It looks like some of the states have `Conf_Cases` values that are less than zero (see `min` row). That can't be right; I'll replace them with zeroes instead."
   ]
  },
  {
   "cell_type": "code",
   "execution_count": null,
   "id": "9374d10d",
   "metadata": {},
   "outputs": [],
   "source": [
    "#Replace negative values with zeroes:\n",
    "df5[df5 < 0] = 0"
   ]
  },
  {
   "cell_type": "markdown",
   "id": "04c8730f",
   "metadata": {},
   "source": [
    "A quick look at the tail of the DataFrame reveals another interesting detail:"
   ]
  },
  {
   "cell_type": "code",
   "execution_count": null,
   "id": "60e8565b",
   "metadata": {},
   "outputs": [],
   "source": [
    "df5['CT_Conf_Cases'].tail(25)"
   ]
  },
  {
   "cell_type": "markdown",
   "id": "65c5ef05",
   "metadata": {},
   "source": [
    "It looks like, for every five days of values for `Conf_Cases`, there are two days of zero values. A quick calendar check confirms that the dates corresponding to zero values are weekend dates (besides 09/06/21, which was Labor Day- a bank holiday in the US). Because there is only data for weekdays, I'll remove weekend data, as it can only skew our summary statistics and plots."
   ]
  },
  {
   "cell_type": "code",
   "execution_count": null,
   "id": "fecd2c4b",
   "metadata": {},
   "outputs": [],
   "source": [
    "#Create column to designate day of week:\n",
    "df6= df5\n",
    "df6[\"weekday\"] = df6.index.dayofweek"
   ]
  },
  {
   "cell_type": "code",
   "execution_count": null,
   "id": "0b3a64f7",
   "metadata": {},
   "outputs": [],
   "source": [
    "#Filter DataFrame to only include weekdays (days 0-4)\n",
    "df6 = df6[(df6.weekday != 5) & (df6.weekday != 6)]"
   ]
  },
  {
   "cell_type": "markdown",
   "id": "9b4a66b5",
   "metadata": {},
   "source": [
    "Another quick check of the summary statistics:"
   ]
  },
  {
   "cell_type": "code",
   "execution_count": null,
   "id": "bd330df5",
   "metadata": {
    "scrolled": false
   },
   "outputs": [],
   "source": [
    "df6.describe()"
   ]
  },
  {
   "cell_type": "code",
   "execution_count": null,
   "id": "5df03881",
   "metadata": {},
   "outputs": [],
   "source": [
    "df6.head()"
   ]
  },
  {
   "cell_type": "code",
   "execution_count": null,
   "id": "e87da6ba",
   "metadata": {},
   "outputs": [],
   "source": [
    "#Create a list of US bank holidays in 2020-2021:\n",
    "#Please refer to note below, explaining how this list of dates was put together.\n",
    "US_bank_holidays = ['2020-02-17', '2020-12-25', '2020-11-26', '2020-12-25', '2021-01-01', '2021-05-31', '2021-09-06']"
   ]
  },
  {
   "cell_type": "markdown",
   "id": "19923e27",
   "metadata": {},
   "source": [
    "Full list of 2020 US Holidays [here](https://www.officeholidays.com/countries/usa/2020).\n",
    "Full list of 2021 US Holidays [here](https://www.officeholidays.com/countries/usa/2021).\\\n",
    "__Note:__ Not all bank holidays listed in the above resources appear in my `US_bank_holidays` list. I used the resources above as a general guide of dates that might not contain any data, and then checked each of the dates individually to make sure I wasn't deleting any significant data from the set. I found that data __was__ recorded for some of the bank holidays listed in the resources; whenever this was the case, I did __not__ drop that row of data. The dates listed in `US_bank_holidays` reflect only those bank holidays listed in these resources that I was __also__ able to confirm did not have any significant data."
   ]
  },
  {
   "cell_type": "code",
   "execution_count": null,
   "id": "4e3ed4f8",
   "metadata": {},
   "outputs": [],
   "source": [
    "#Drop rows with indices in US_bank_holidays list:\n",
    "df7= df6.drop(df6[(df6.index.isin(US_bank_holidays))].index)"
   ]
  },
  {
   "cell_type": "code",
   "execution_count": null,
   "id": "99c1f94f",
   "metadata": {
    "scrolled": true
   },
   "outputs": [],
   "source": [
    "#Check rows have been dropped:\n",
    "print(len(df6.index))\n",
    "print(len(df7.index))"
   ]
  },
  {
   "cell_type": "code",
   "execution_count": null,
   "id": "f5d7b7dc",
   "metadata": {},
   "outputs": [],
   "source": [
    "#Recheck summary statistics with dropped US_bank_holidays:\n",
    "df7.describe()"
   ]
  },
  {
   "cell_type": "markdown",
   "id": "b5564f2d",
   "metadata": {},
   "source": [
    "## Plots:"
   ]
  },
  {
   "cell_type": "markdown",
   "id": "cadc0bb2",
   "metadata": {},
   "source": [
    "With so many twin axes to plot, I'll define a function to help plot all of twin axes time series data:"
   ]
  },
  {
   "cell_type": "code",
   "execution_count": null,
   "id": "f90ff751",
   "metadata": {},
   "outputs": [],
   "source": [
    "def plot_timeseries(axes, x, y, color, xlabel, ylabel):\n",
    "    axes.plot(x,y,color=color)\n",
    "    axes.set_xlabel(xlabel)\n",
    "    axes.set_ylabel(ylabel)\n",
    "    axes.tick_params('y', colors = color)"
   ]
  },
  {
   "cell_type": "markdown",
   "id": "8387eb7d",
   "metadata": {},
   "source": [
    "## Connecticut"
   ]
  },
  {
   "cell_type": "code",
   "execution_count": null,
   "id": "b7ffb602",
   "metadata": {
    "scrolled": false
   },
   "outputs": [],
   "source": [
    "#Plot CT time vs confirmed cases\n",
    "fig, ax = plt.subplots()\n",
    "plot_timeseries(ax, df7.index, df7['CT_Conf_Cases'], 'blue', 'Time', 'Confirmed Cases')\n",
    "plt.xticks(rotation=90)\n",
    "ax2 = ax.twinx()\n",
    "#Plot CT temp vs time\n",
    "plot_timeseries(ax2, df7.index, df7['CT_Avg_Temp(F)'], 'red', 'Time', 'Average Temperature (F)')\n",
    "plt.title('Connecticut temp vs conf cases over time')\n",
    "plt.xticks(rotation=90)\n",
    "plt.show()"
   ]
  },
  {
   "cell_type": "code",
   "execution_count": null,
   "id": "937519de",
   "metadata": {},
   "outputs": [],
   "source": [
    "#Plot CT time vs confirmed cases\n",
    "fig, ax = plt.subplots()\n",
    "plot_timeseries(ax, df7.index, df7['CT_Conf_Cases'], 'blue', 'Time', 'Confirmed Cases')\n",
    "plt.xticks(rotation=90)\n",
    "ax2 = ax.twinx()\n",
    "#Plot CT prcp vs time\n",
    "plot_timeseries(ax2, df7.index, df7['CT_PRCP(mm)'], 'red', 'Time', 'CT_PRCP(mm)')\n",
    "plt.title('Connecticut prcp vs confirmed cases over time')\n",
    "plt.xticks(rotation=90)\n",
    "plt.show()"
   ]
  },
  {
   "cell_type": "markdown",
   "id": "d07b1ffe",
   "metadata": {},
   "source": [
    "***"
   ]
  },
  {
   "cell_type": "markdown",
   "id": "bcbf44e7",
   "metadata": {},
   "source": [
    "## Maine"
   ]
  },
  {
   "cell_type": "code",
   "execution_count": null,
   "id": "eb6de82c",
   "metadata": {},
   "outputs": [],
   "source": [
    "#Plot ME time vs Avg. Temp \n",
    "fig, ax = plt.subplots()\n",
    "plot_timeseries(ax, df7.index, df7['ME_Conf_Cases'], 'blue', 'Time', 'Confirmed Cases')\n",
    "plt.xticks(rotation=90)\n",
    "ax2 = ax.twinx()\n",
    "plot_timeseries(ax2, df7.index, df7['ME_Avg_Temp(F)'], 'red', 'Time', 'Average Temperature (F)')\n",
    "plt.title('Maine Temp vs Conf Cases')\n",
    "plt.xticks(rotation=90)\n",
    "plt.show()"
   ]
  },
  {
   "cell_type": "code",
   "execution_count": null,
   "id": "25ed4124",
   "metadata": {},
   "outputs": [],
   "source": [
    "#Plot ME time vs confirmed cases\n",
    "fig, ax = plt.subplots()\n",
    "plot_timeseries(ax, df7.index, df7['ME_Conf_Cases'], 'blue', 'Time', 'Confirmed Cases')\n",
    "plt.xticks(rotation=90)\n",
    "ax2 = ax.twinx()\n",
    "#Plot ME prcp vs time\n",
    "plot_timeseries(ax2, df7.index, df7['ME_PRCP(mm)'], 'red', 'Time', 'ME_PRCP(mm)')\n",
    "plt.title('Maine prcp vs confirmed cases over time')\n",
    "plt.xticks(rotation=90)\n",
    "plt.show()"
   ]
  },
  {
   "cell_type": "markdown",
   "id": "77f47afa",
   "metadata": {},
   "source": [
    "## Massachusetts"
   ]
  },
  {
   "cell_type": "code",
   "execution_count": null,
   "id": "03fc993e",
   "metadata": {},
   "outputs": [],
   "source": [
    "#Plot MA time vs confirmed cases\n",
    "fig, ax = plt.subplots()\n",
    "plot_timeseries(ax, df7.index, df7['MA_Conf_Cases'], 'blue', 'Time', 'Confirmed Cases')\n",
    "plt.xticks(rotation=90)\n",
    "ax2 = ax.twinx()\n",
    "#Plot MA temp vs time\n",
    "plot_timeseries(ax2, df7.index, df7['MA_Avg_Temp(F)'], 'red', 'Time', 'MA_Avg_Temp(F)')\n",
    "plt.title('Massachusetts TAVG vs confirmed cases over time')\n",
    "plt.xticks(rotation=90)\n",
    "plt.show()"
   ]
  },
  {
   "cell_type": "code",
   "execution_count": null,
   "id": "0e4bfa18",
   "metadata": {},
   "outputs": [],
   "source": [
    "#Plot MA time vs confirmed cases\n",
    "fig, ax = plt.subplots()\n",
    "plot_timeseries(ax, df7.index, df7['MA_Conf_Cases'], 'blue', 'Time', 'Confirmed Cases')\n",
    "plt.xticks(rotation=90)\n",
    "ax2 = ax.twinx()\n",
    "#Plot MA prcp vs time\n",
    "plot_timeseries(ax2, df7.index, df7['MA_PRCP(mm)'], 'red', 'Time', 'MA_PRCP(mm)')\n",
    "plt.title('Massachusetts prcp vs confirmed cases over time')\n",
    "plt.xticks(rotation=90)\n",
    "plt.show()"
   ]
  },
  {
   "cell_type": "markdown",
   "id": "21cb5d83",
   "metadata": {},
   "source": [
    "## Vermont"
   ]
  },
  {
   "cell_type": "code",
   "execution_count": null,
   "id": "b5696de3",
   "metadata": {},
   "outputs": [],
   "source": [
    "#Plot VT time vs confirmed cases\n",
    "fig, ax = plt.subplots()\n",
    "plot_timeseries(ax, df7.index, df7['VT_Conf_Cases'], 'blue', 'Time', 'Confirmed Cases')\n",
    "plt.xticks(rotation=90)\n",
    "ax2 = ax.twinx()\n",
    "#Plot VT temp vs time\n",
    "plot_timeseries(ax2, df7.index, df7['VT_Avg_Temp(F)'], 'red', 'Time', 'VT_Avg_Temp(F)')\n",
    "plt.title('Vermont TAVG vs confirmed cases over time')\n",
    "plt.xticks(rotation=90)\n",
    "plt.show()"
   ]
  },
  {
   "cell_type": "code",
   "execution_count": null,
   "id": "77bb5b7e",
   "metadata": {},
   "outputs": [],
   "source": [
    "#Plot VT time vs confirmed cases\n",
    "fig, ax = plt.subplots()\n",
    "plot_timeseries(ax, df7.index, df7['VT_Conf_Cases'], 'blue', 'Time', 'Confirmed Cases')\n",
    "plt.xticks(rotation=90)\n",
    "ax2 = ax.twinx()\n",
    "#Plot MA prcp vs time\n",
    "plot_timeseries(ax2, df7.index, df7['VT_PRCP(mm)'], 'red', 'Time', 'VT_PRCP(mm)')\n",
    "plt.title('Vermont prcp vs confirmed cases over time')\n",
    "plt.xticks(rotation=90)\n",
    "plt.show()"
   ]
  },
  {
   "cell_type": "markdown",
   "id": "28b89640",
   "metadata": {},
   "source": [
    "## Perform Shapiro-Wilk test for normality:"
   ]
  },
  {
   "cell_type": "code",
   "execution_count": null,
   "id": "5b9a292c",
   "metadata": {},
   "outputs": [],
   "source": [
    "#Convert dataframe to array to perform Shapiro-Wilcox test:\n",
    "np_cov_weather7 = df7.to_numpy()"
   ]
  },
  {
   "cell_type": "code",
   "execution_count": null,
   "id": "cdf9704c",
   "metadata": {},
   "outputs": [],
   "source": [
    "#Apply Shapiro test:\n",
    "shapiro_test = stats.shapiro(np_cov_weather7)"
   ]
  },
  {
   "cell_type": "code",
   "execution_count": null,
   "id": "29d7bfbd",
   "metadata": {},
   "outputs": [],
   "source": [
    "#Print values:\n",
    "print(\"Shapiro test statistic is: \", shapiro_test.statistic)\n",
    "print(\"Shapiro p-value is: \", shapiro_test.pvalue)"
   ]
  },
  {
   "cell_type": "markdown",
   "id": "427ca05c",
   "metadata": {},
   "source": [
    "## Predictive Power Score:"
   ]
  },
  {
   "cell_type": "code",
   "execution_count": null,
   "id": "c6b2cec8",
   "metadata": {},
   "outputs": [],
   "source": [
    "#Calculate ppscore \n",
    "pps = ppscore.matrix(df7)"
   ]
  },
  {
   "cell_type": "code",
   "execution_count": null,
   "id": "ebfd2572",
   "metadata": {
    "scrolled": true
   },
   "outputs": [],
   "source": [
    "print(pps)"
   ]
  },
  {
   "cell_type": "code",
   "execution_count": null,
   "id": "1715fbd6",
   "metadata": {},
   "outputs": [],
   "source": [
    "print(df7.dtypes)"
   ]
  },
  {
   "cell_type": "code",
   "execution_count": null,
   "id": "a3d65a6a",
   "metadata": {},
   "outputs": [],
   "source": [
    "matrix_df = ppscore.matrix(df7).pivot(columns='x', index='y',  values='ppscore')"
   ]
  },
  {
   "cell_type": "code",
   "execution_count": null,
   "id": "fd38e003",
   "metadata": {
    "scrolled": true
   },
   "outputs": [],
   "source": [
    "sns.set(rc={'figure.figsize':(11.7,8.27)})\n",
    "sns.heatmap(matrix_df, annot= True)"
   ]
  },
  {
   "cell_type": "code",
   "execution_count": null,
   "id": "1f4ba73d",
   "metadata": {},
   "outputs": [],
   "source": [
    "\n",
    "sns.set(rc={'figure.figsize':(11.7,8.27)})\n",
    "sns.heatmap(df7.corr(), square=True, cmap='rocket')"
   ]
  },
  {
   "cell_type": "code",
   "execution_count": null,
   "id": "058e43d5",
   "metadata": {},
   "outputs": [],
   "source": [
    "Hartford_CT = df7[['CT_Avg_Temp(F)', 'CT_PRCP(mm)', 'CT_Conf_Cases']]"
   ]
  },
  {
   "cell_type": "code",
   "execution_count": null,
   "id": "08bef2c2",
   "metadata": {},
   "outputs": [],
   "source": [
    "sns.heatmap(Hartford_CT.corr(), square=True, cmap='rocket')"
   ]
  },
  {
   "cell_type": "code",
   "execution_count": null,
   "id": "855de591",
   "metadata": {},
   "outputs": [],
   "source": [
    "Middlesex_MA = df7[['MA_Avg_Temp(F)', 'MA_PRCP(mm)', 'MA_Conf_Cases']]"
   ]
  },
  {
   "cell_type": "code",
   "execution_count": null,
   "id": "818d81ab",
   "metadata": {},
   "outputs": [],
   "source": [
    "sns.heatmap(Middlesex_MA.corr(), square=True, cmap='rocket')"
   ]
  },
  {
   "cell_type": "code",
   "execution_count": null,
   "id": "3611ae56",
   "metadata": {},
   "outputs": [],
   "source": [
    "Essex_VT = df7[['VT_Avg_Temp(F)', 'VT_PRCP(mm)', 'VT_Conf_Cases']]"
   ]
  },
  {
   "cell_type": "code",
   "execution_count": null,
   "id": "4a22cd36",
   "metadata": {},
   "outputs": [],
   "source": [
    "sns.heatmap(Essex_VT.corr(), square=True, cmap='rocket')"
   ]
  },
  {
   "cell_type": "code",
   "execution_count": null,
   "id": "4b7328bf",
   "metadata": {},
   "outputs": [],
   "source": [
    "Piscataquis_ME = df7[['ME_Avg_Temp(F)', 'ME_PRCP(mm)', 'ME_Conf_Cases']]"
   ]
  },
  {
   "cell_type": "code",
   "execution_count": null,
   "id": "d27cc034",
   "metadata": {},
   "outputs": [],
   "source": [
    "sns.heatmap(Piscataquis_ME.corr(), square=True, cmap='rocket')"
   ]
  },
  {
   "cell_type": "markdown",
   "id": "5e899a82",
   "metadata": {},
   "source": [
    "AWND\n",
    "GHCND:USW00054704 MA\n",
    "    \n",
    "GHCND:USW00014740 CT\n",
    "\n",
    "GHCND:USW00014742 VT\n",
    "\n",
    "GHCND:USW00094626 ME"
   ]
  }
 ],
 "metadata": {
  "kernelspec": {
   "display_name": "Python 3",
   "language": "python",
   "name": "python3"
  },
  "language_info": {
   "codemirror_mode": {
    "name": "ipython",
    "version": 3
   },
   "file_extension": ".py",
   "mimetype": "text/x-python",
   "name": "python",
   "nbconvert_exporter": "python",
   "pygments_lexer": "ipython3",
   "version": "3.8.8"
  }
 },
 "nbformat": 4,
 "nbformat_minor": 5
}
