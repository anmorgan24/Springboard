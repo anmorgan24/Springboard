{
 "cells": [
  {
   "cell_type": "markdown",
   "id": "681bb713",
   "metadata": {},
   "source": [
    "# Modeling"
   ]
  },
  {
   "cell_type": "code",
   "execution_count": 1,
   "id": "272ea996",
   "metadata": {},
   "outputs": [],
   "source": [
    "import numpy as np\n",
    "import pandas as pd\n",
    "import matplotlib.pyplot as plt\n",
    "import seaborn as sns\n",
    "\n",
    "from sklearn.model_selection import train_test_split, cross_val_score, GridSearchCV\n",
    "from sklearn.metrics import r2_score, mean_squared_error, mean_absolute_error\n",
    "from sklearn.dummy import DummyRegressor\n",
    "from catboost import Pool, CatBoostRegressor\n",
    "from sklearn.ensemble import RandomForestRegressor\n",
    "from sklearn.ensemble import GradientBoostingRegressor\n",
    "from sklearn.ensemble import VotingRegressor"
   ]
  },
  {
   "cell_type": "code",
   "execution_count": null,
   "id": "0fc6f56d",
   "metadata": {},
   "outputs": [],
   "source": [
    "#load dataframe REGULAR\n",
    "#parse datetime column\n",
    "df=pd.read_csv('COVID19_modeling.csv', parse_dates=[0])\n",
    "df.set_index('date', inplace= True)\n",
    "df.drop(columns='Unnamed: 0', inplace=True)"
   ]
  },
  {
   "cell_type": "code",
   "execution_count": 2,
   "id": "051d0ed5",
   "metadata": {},
   "outputs": [],
   "source": [
    "#load dataframe OHE\n",
    "#parse datetime column\n",
    "df_ohe = pd.read_csv('ohe_data.csv', parse_dates=['date'])\n",
    "df_ohe.drop(columns='Unnamed: 0', inplace=True)\n",
    "df_ohe.set_index('date', inplace=True)"
   ]
  },
  {
   "cell_type": "markdown",
   "id": "2140b011",
   "metadata": {},
   "source": [
    "## Using the mean as a baseline prediction model"
   ]
  },
  {
   "cell_type": "markdown",
   "id": "77013d93",
   "metadata": {},
   "source": [
    "Previously, we determined the R2 score of using the mean to predict COVID19 cases for each individual state. Let's do the same thing now that we have all the states in one DataFrame, so that we will have a baseline \"dummy\" model to compare our future optimized model to. "
   ]
  },
  {
   "cell_type": "code",
   "execution_count": 4,
   "id": "8175648b",
   "metadata": {},
   "outputs": [
    {
     "name": "stdout",
     "output_type": "stream",
     "text": [
      "The R2 score of using the mean to predict COVID19 cases in our states is: -0.0019588491283020204\n"
     ]
    }
   ],
   "source": [
    "# Create features\n",
    "X, y = df_ohe.drop(columns=['Conf_Cases', 'new_case_percent_pop*']), df_ohe['new_case_percent_pop*']\n",
    "# Make test and train split\n",
    "X_train, X_test, y_train, y_test = train_test_split(X, y, test_size=0.2, random_state=42)\n",
    "dummy_mean = DummyRegressor()\n",
    "# \"Train\" dummy regressor\n",
    "dummy_mean.fit(X_train, y_train)\n",
    "# Get R2 score\n",
    "score_dummy = dummy_mean.score(X_test, y_test)\n",
    "print(\"The R2 score of using the mean to predict COVID19 cases in our states is:\", score_dummy)"
   ]
  },
  {
   "cell_type": "markdown",
   "id": "ba188984",
   "metadata": {},
   "source": [
    "## Tuning the top performing models "
   ]
  },
  {
   "cell_type": "markdown",
   "id": "f6be900c",
   "metadata": {},
   "source": [
    "In the pre-processing step, we determined (with the help of Pycaret) that our top performing models were **CatBoost Regressor**, **Random Forest Regressor**, and **Gradient Boosting Regressor**. Let's now fine tune the hyperparameters of each of these models, in preparation for feeding them into the pipeline of the Voting Regressor. \n",
    "\n",
    "**NOTE TO SELF: Determine hyperparameters for each model, but pass unfitted (tuned) models to the VotingRegressor**\n"
   ]
  },
  {
   "cell_type": "markdown",
   "id": "635d452c",
   "metadata": {},
   "source": [
    "#### CatBoost Regressor "
   ]
  },
  {
   "cell_type": "code",
   "execution_count": null,
   "id": "e411f593",
   "metadata": {},
   "outputs": [],
   "source": []
  },
  {
   "cell_type": "code",
   "execution_count": null,
   "id": "1946ccbc",
   "metadata": {},
   "outputs": [],
   "source": []
  },
  {
   "cell_type": "markdown",
   "id": "006c6d87",
   "metadata": {},
   "source": [
    "#### Random Forest Regressor\n",
    "With a few exceptions, a RandomForestClassifier has all the hyperparameters of a DecisionTreeClassifier (to control how trees are grown), plus all the hyperparameters of a BaggingClassifier to control the ensemble itself."
   ]
  },
  {
   "cell_type": "code",
   "execution_count": 5,
   "id": "7b80f4d6",
   "metadata": {
    "scrolled": true
   },
   "outputs": [],
   "source": [
    "X, y = df_ohe.drop(columns=['Conf_Cases', 'new_case_percent_pop*']), df_ohe['new_case_percent_pop*']"
   ]
  },
  {
   "cell_type": "code",
   "execution_count": 6,
   "id": "89a441c2",
   "metadata": {},
   "outputs": [],
   "source": [
    "X_train, X_test, y_train, y_test = train_test_split(X, y, test_size=0.2, random_state=42)"
   ]
  },
  {
   "cell_type": "code",
   "execution_count": 7,
   "id": "2396f843",
   "metadata": {},
   "outputs": [
    {
     "name": "stdout",
     "output_type": "stream",
     "text": [
      "{'max_depth': 9, 'n_estimators': 400}\n"
     ]
    }
   ],
   "source": [
    "# Define parameters to search for GridSearchCV\n",
    "param_grid = {'n_estimators': [100, 200, 300, 400, 500],\n",
    "              'max_depth': [3, 5, 7, 9],\n",
    "              }\n",
    "# Instantiate RandomForestClassifier\n",
    "rf = RandomForestRegressor()\n",
    "cv_rf = GridSearchCV(rf, param_grid, cv = 10)\n",
    "cv_rf_fit = cv_rf.fit(X_train, y_train)\n",
    "\n",
    "#Print the best parameter\n",
    "print(cv_rf_fit.best_params_)"
   ]
  },
  {
   "cell_type": "code",
   "execution_count": 8,
   "id": "537b2eac",
   "metadata": {
    "scrolled": true
   },
   "outputs": [
    {
     "name": "stdout",
     "output_type": "stream",
     "text": [
      "The optimal max_depth for the RandomForestRegressor is: 9\n",
      "The optimal n_estimators for the RandomForestRegressor is: 400\n"
     ]
    }
   ],
   "source": [
    "print('The optimal max_depth for the RandomForestRegressor is: {}'.format(cv_rf_fit.best_params_['max_depth']))\n",
    "print('The optimal n_estimators for the RandomForestRegressor is: {}'.format(cv_rf_fit.best_params_['n_estimators']))"
   ]
  },
  {
   "cell_type": "code",
   "execution_count": 9,
   "id": "c670935f",
   "metadata": {},
   "outputs": [],
   "source": [
    "# Instantiate RFR with optimal hyperparameters\n",
    "rf = RandomForestRegressor(max_depth = 9, n_estimators = 400)\n",
    "rf.fit(X_train, y_train)\n",
    "rf_pred = rf.predict(X_test)"
   ]
  },
  {
   "cell_type": "code",
   "execution_count": 10,
   "id": "539ece28",
   "metadata": {},
   "outputs": [
    {
     "name": "stdout",
     "output_type": "stream",
     "text": [
      "The R2 score for the RandomForestRegressor is 0.8327308664092816\n"
     ]
    }
   ],
   "source": [
    "# Determine R2 score\n",
    "print('The R2 score for the RandomForestRegressor is {}'.format(r2_score(y_test, rf_pred)))"
   ]
  },
  {
   "cell_type": "markdown",
   "id": "9033eb8f",
   "metadata": {},
   "source": [
    "****"
   ]
  },
  {
   "cell_type": "markdown",
   "id": "29cc27d3",
   "metadata": {},
   "source": [
    "****"
   ]
  },
  {
   "cell_type": "markdown",
   "id": "791fd9ee",
   "metadata": {},
   "source": [
    "#### Voting Regressor"
   ]
  },
  {
   "cell_type": "markdown",
   "id": "9ea83acc",
   "metadata": {},
   "source": [
    "```\n",
    "from sklearn.ensemble import VotingRegressor\n",
    "reg_voting = VotingRegressor(\n",
    "        estimators = [\n",
    "            ('label1', reg_1),\n",
    "            ('label2', reg_2),\n",
    "            ...\n",
    "            ('labelN', reg_N)],\n",
    "        voting = 'soft',\n",
    "        weights = [w_1, w_2, ..., w_N]\n",
    ")\n",
    "```"
   ]
  },
  {
   "cell_type": "markdown",
   "id": "fb06f84b",
   "metadata": {},
   "source": [
    "#### Determining optimal weights"
   ]
  },
  {
   "cell_type": "code",
   "execution_count": null,
   "id": "1bcb19e9",
   "metadata": {},
   "outputs": [],
   "source": [
    "# Create empty lists that will storage the different weights\n",
    "\n",
    "weights1 = []\n",
    "weights2 = []\n",
    "weights3 = []\n",
    "scores = []\n",
    "\n",
    "# Create a for loop to evaluate different combinations of weights\n",
    "\n",
    "for i in np.arange(0.1,1, 0.1):\n",
    "    for j in np.arange(0.1,1, 0.1):\n",
    "        for k in np.arange(0.1,1, 0.1):\n",
    "            clf_voting = VotingClassifier(estimators = [('est1', clf1), ('est2', clf2),\n",
    "                                           ('est3', clf3)], voting = 'soft', weights = [i, j, k])\n",
    "            clf_voting.fit(X_train, y_train)\n",
    "            pred = clf_voting.predict(X_test)\n",
    "            score = accuracy_score(y_test, pred)\n",
    "            scores.append(score)\n",
    "            weights1.append(i)\n",
    "            weights2.append(j)\n",
    "            weights3.append(k)"
   ]
  },
  {
   "cell_type": "code",
   "execution_count": null,
   "id": "cc9feb2e",
   "metadata": {},
   "outputs": [],
   "source": [
    "# Save the results in a data frame\n",
    "\n",
    "test_scores = pd.DataFrame()\n",
    "test_scores['Weight1'] = weights1\n",
    "test_scores['Weight2'] = weights2\n",
    "test_scores['Weight3'] = weights3\n",
    "test_scores['Test Score'] = scores\n",
    "\n",
    "# Create an additional column to save the sum of all the weights\n",
    "\n",
    "test_scores['sum_weights'] = test_scores['Weight1'].add(test_scores['Weight2']).add(test_scores['Weight3'])\n",
    "\n",
    "#We are only getting the rows that the sum of all weights were equal to one\n",
    "\n",
    "condition = test_scores['sum_weights'] == 1\n",
    "\n",
    "test_scores = test_scores.loc[condition]"
   ]
  },
  {
   "cell_type": "code",
   "execution_count": null,
   "id": "3e430b59",
   "metadata": {},
   "outputs": [],
   "source": [
    "# Sort the values to see the different test scores depending on the weights\n",
    "test_scores.sort_values(by = 'Test Score', ascending = False).head(15)\n"
   ]
  },
  {
   "cell_type": "markdown",
   "id": "c8544977",
   "metadata": {},
   "source": [
    "****"
   ]
  },
  {
   "cell_type": "markdown",
   "id": "21eb4ee1",
   "metadata": {},
   "source": [
    "***"
   ]
  },
  {
   "cell_type": "markdown",
   "id": "41ee2b37",
   "metadata": {},
   "source": [
    "****"
   ]
  },
  {
   "cell_type": "code",
   "execution_count": null,
   "id": "c02ddbc0",
   "metadata": {},
   "outputs": [],
   "source": [
    "reg_voting = VotingRegressor(\n",
    "                estimators = [\n",
    "                    ('rf_reg', rf),\n",
    "                    ('gb_reg', gb),\n",
    "                    ('cb_reg', cb)],\n",
    "                voting = 'soft',\n",
    "                weights = [w_1, w_2, w_3]\n",
    ")"
   ]
  },
  {
   "cell_type": "code",
   "execution_count": null,
   "id": "f812264c",
   "metadata": {},
   "outputs": [],
   "source": []
  }
 ],
 "metadata": {
  "kernelspec": {
   "display_name": "Python 3",
   "language": "python",
   "name": "python3"
  },
  "language_info": {
   "codemirror_mode": {
    "name": "ipython",
    "version": 3
   },
   "file_extension": ".py",
   "mimetype": "text/x-python",
   "name": "python",
   "nbconvert_exporter": "python",
   "pygments_lexer": "ipython3",
   "version": "3.8.8"
  }
 },
 "nbformat": 4,
 "nbformat_minor": 5
}
