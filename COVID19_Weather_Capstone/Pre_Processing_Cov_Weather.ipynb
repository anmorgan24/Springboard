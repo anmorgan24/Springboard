{
 "cells": [
  {
   "cell_type": "markdown",
   "id": "aeaec58e",
   "metadata": {},
   "source": [
    "# Pre-Processing "
   ]
  },
  {
   "cell_type": "code",
   "execution_count": 1,
   "id": "e2d31631",
   "metadata": {},
   "outputs": [],
   "source": [
    "import pandas as pd\n",
    "import numpy as np\n",
    "from statsmodels.tsa.stattools import adfuller\n",
    "import matplotlib.pyplot as plt\n",
    "import pycaret"
   ]
  },
  {
   "cell_type": "code",
   "execution_count": 2,
   "id": "a6f6c994",
   "metadata": {},
   "outputs": [],
   "source": [
    "#load dataframe\n",
    "#parse datetime column\n",
    "df=pd.read_csv('cov_weather.csv', parse_dates=[0])\n",
    "df.set_index('date', inplace= True)"
   ]
  },
  {
   "cell_type": "code",
   "execution_count": 3,
   "id": "62d7e234",
   "metadata": {},
   "outputs": [
    {
     "data": {
      "text/html": [
       "<div>\n",
       "<style scoped>\n",
       "    .dataframe tbody tr th:only-of-type {\n",
       "        vertical-align: middle;\n",
       "    }\n",
       "\n",
       "    .dataframe tbody tr th {\n",
       "        vertical-align: top;\n",
       "    }\n",
       "\n",
       "    .dataframe thead th {\n",
       "        text-align: right;\n",
       "    }\n",
       "</style>\n",
       "<table border=\"1\" class=\"dataframe\">\n",
       "  <thead>\n",
       "    <tr style=\"text-align: right;\">\n",
       "      <th></th>\n",
       "      <th>VT_Avg_Temp(F)</th>\n",
       "      <th>VT_PRCP(mm)</th>\n",
       "      <th>ME_Avg_Temp(F)</th>\n",
       "      <th>ME_PRCP(mm)</th>\n",
       "      <th>CT_Avg_Temp(F)</th>\n",
       "      <th>CT_PRCP(mm)</th>\n",
       "      <th>MA_Avg_Temp(F)</th>\n",
       "      <th>MA_PRCP(mm)</th>\n",
       "      <th>CT_Conf_Cases</th>\n",
       "      <th>VT_Conf_Cases</th>\n",
       "      <th>ME_Conf_Cases</th>\n",
       "      <th>MA_Conf_Cases</th>\n",
       "      <th>weekday</th>\n",
       "    </tr>\n",
       "    <tr>\n",
       "      <th>date</th>\n",
       "      <th></th>\n",
       "      <th></th>\n",
       "      <th></th>\n",
       "      <th></th>\n",
       "      <th></th>\n",
       "      <th></th>\n",
       "      <th></th>\n",
       "      <th></th>\n",
       "      <th></th>\n",
       "      <th></th>\n",
       "      <th></th>\n",
       "      <th></th>\n",
       "      <th></th>\n",
       "    </tr>\n",
       "  </thead>\n",
       "  <tbody>\n",
       "    <tr>\n",
       "      <th>2020-01-22</th>\n",
       "      <td>26.96</td>\n",
       "      <td>0.0</td>\n",
       "      <td>19.04</td>\n",
       "      <td>0.0</td>\n",
       "      <td>18.32</td>\n",
       "      <td>0.0</td>\n",
       "      <td>22.46</td>\n",
       "      <td>0.0</td>\n",
       "      <td>0.0</td>\n",
       "      <td>0.0</td>\n",
       "      <td>0.0</td>\n",
       "      <td>0.0</td>\n",
       "      <td>2</td>\n",
       "    </tr>\n",
       "    <tr>\n",
       "      <th>2020-01-23</th>\n",
       "      <td>27.14</td>\n",
       "      <td>0.0</td>\n",
       "      <td>26.60</td>\n",
       "      <td>0.3</td>\n",
       "      <td>23.72</td>\n",
       "      <td>0.0</td>\n",
       "      <td>32.00</td>\n",
       "      <td>0.0</td>\n",
       "      <td>0.0</td>\n",
       "      <td>0.0</td>\n",
       "      <td>0.0</td>\n",
       "      <td>0.0</td>\n",
       "      <td>3</td>\n",
       "    </tr>\n",
       "    <tr>\n",
       "      <th>2020-01-24</th>\n",
       "      <td>30.56</td>\n",
       "      <td>0.0</td>\n",
       "      <td>29.48</td>\n",
       "      <td>0.0</td>\n",
       "      <td>33.08</td>\n",
       "      <td>0.0</td>\n",
       "      <td>35.42</td>\n",
       "      <td>0.0</td>\n",
       "      <td>0.0</td>\n",
       "      <td>0.0</td>\n",
       "      <td>0.0</td>\n",
       "      <td>0.0</td>\n",
       "      <td>4</td>\n",
       "    </tr>\n",
       "    <tr>\n",
       "      <th>2020-01-27</th>\n",
       "      <td>34.52</td>\n",
       "      <td>1.3</td>\n",
       "      <td>31.46</td>\n",
       "      <td>1.0</td>\n",
       "      <td>38.84</td>\n",
       "      <td>0.0</td>\n",
       "      <td>39.02</td>\n",
       "      <td>0.0</td>\n",
       "      <td>0.0</td>\n",
       "      <td>0.0</td>\n",
       "      <td>0.0</td>\n",
       "      <td>0.0</td>\n",
       "      <td>0</td>\n",
       "    </tr>\n",
       "    <tr>\n",
       "      <th>2020-01-28</th>\n",
       "      <td>30.02</td>\n",
       "      <td>0.3</td>\n",
       "      <td>21.56</td>\n",
       "      <td>0.0</td>\n",
       "      <td>36.68</td>\n",
       "      <td>0.0</td>\n",
       "      <td>37.40</td>\n",
       "      <td>0.0</td>\n",
       "      <td>0.0</td>\n",
       "      <td>0.0</td>\n",
       "      <td>0.0</td>\n",
       "      <td>0.0</td>\n",
       "      <td>1</td>\n",
       "    </tr>\n",
       "  </tbody>\n",
       "</table>\n",
       "</div>"
      ],
      "text/plain": [
       "            VT_Avg_Temp(F)  VT_PRCP(mm)  ME_Avg_Temp(F)  ME_PRCP(mm)  \\\n",
       "date                                                                   \n",
       "2020-01-22           26.96          0.0           19.04          0.0   \n",
       "2020-01-23           27.14          0.0           26.60          0.3   \n",
       "2020-01-24           30.56          0.0           29.48          0.0   \n",
       "2020-01-27           34.52          1.3           31.46          1.0   \n",
       "2020-01-28           30.02          0.3           21.56          0.0   \n",
       "\n",
       "            CT_Avg_Temp(F)  CT_PRCP(mm)  MA_Avg_Temp(F)  MA_PRCP(mm)  \\\n",
       "date                                                                   \n",
       "2020-01-22           18.32          0.0           22.46          0.0   \n",
       "2020-01-23           23.72          0.0           32.00          0.0   \n",
       "2020-01-24           33.08          0.0           35.42          0.0   \n",
       "2020-01-27           38.84          0.0           39.02          0.0   \n",
       "2020-01-28           36.68          0.0           37.40          0.0   \n",
       "\n",
       "            CT_Conf_Cases  VT_Conf_Cases  ME_Conf_Cases  MA_Conf_Cases  \\\n",
       "date                                                                     \n",
       "2020-01-22            0.0            0.0            0.0            0.0   \n",
       "2020-01-23            0.0            0.0            0.0            0.0   \n",
       "2020-01-24            0.0            0.0            0.0            0.0   \n",
       "2020-01-27            0.0            0.0            0.0            0.0   \n",
       "2020-01-28            0.0            0.0            0.0            0.0   \n",
       "\n",
       "            weekday  \n",
       "date                 \n",
       "2020-01-22        2  \n",
       "2020-01-23        3  \n",
       "2020-01-24        4  \n",
       "2020-01-27        0  \n",
       "2020-01-28        1  "
      ]
     },
     "execution_count": 3,
     "metadata": {},
     "output_type": "execute_result"
    }
   ],
   "source": [
    "df.head()"
   ]
  },
  {
   "cell_type": "code",
   "execution_count": 4,
   "id": "0de71100",
   "metadata": {},
   "outputs": [],
   "source": [
    "df_vt=df.drop(columns=['ME_Avg_Temp(F)', 'ME_PRCP(mm)', 'ME_Conf_Cases', 'CT_Avg_Temp(F)', 'CT_PRCP(mm)', 'CT_Conf_Cases', 'MA_Avg_Temp(F)', 'MA_PRCP(mm)', 'MA_Conf_Cases','weekday'])"
   ]
  },
  {
   "cell_type": "code",
   "execution_count": 5,
   "id": "a1884bdc",
   "metadata": {},
   "outputs": [],
   "source": [
    "df_me=df.drop(columns=['VT_Avg_Temp(F)', 'VT_PRCP(mm)', 'VT_Conf_Cases', 'CT_Avg_Temp(F)', 'CT_PRCP(mm)', 'CT_Conf_Cases', 'MA_Avg_Temp(F)', 'MA_PRCP(mm)', 'MA_Conf_Cases','weekday'])"
   ]
  },
  {
   "cell_type": "code",
   "execution_count": 6,
   "id": "bb5f4a55",
   "metadata": {},
   "outputs": [],
   "source": [
    "df_ma=df.drop(columns=['ME_Avg_Temp(F)', 'ME_PRCP(mm)', 'ME_Conf_Cases', 'CT_Avg_Temp(F)', 'CT_PRCP(mm)', 'CT_Conf_Cases', 'VT_Avg_Temp(F)', 'VT_PRCP(mm)', 'VT_Conf_Cases','weekday'])"
   ]
  },
  {
   "cell_type": "code",
   "execution_count": 7,
   "id": "429a6b94",
   "metadata": {},
   "outputs": [],
   "source": [
    "df_ct= df.drop(columns=['ME_Avg_Temp(F)', 'ME_PRCP(mm)', 'ME_Conf_Cases', 'VT_Avg_Temp(F)', 'VT_PRCP(mm)', 'VT_Conf_Cases', 'MA_Avg_Temp(F)', 'MA_PRCP(mm)', 'MA_Conf_Cases','weekday'])"
   ]
  },
  {
   "cell_type": "code",
   "execution_count": 8,
   "id": "fa594d00",
   "metadata": {},
   "outputs": [
    {
     "data": {
      "text/html": [
       "<div>\n",
       "<style scoped>\n",
       "    .dataframe tbody tr th:only-of-type {\n",
       "        vertical-align: middle;\n",
       "    }\n",
       "\n",
       "    .dataframe tbody tr th {\n",
       "        vertical-align: top;\n",
       "    }\n",
       "\n",
       "    .dataframe thead th {\n",
       "        text-align: right;\n",
       "    }\n",
       "</style>\n",
       "<table border=\"1\" class=\"dataframe\">\n",
       "  <thead>\n",
       "    <tr style=\"text-align: right;\">\n",
       "      <th></th>\n",
       "      <th>VT_Avg_Temp(F)</th>\n",
       "      <th>VT_PRCP(mm)</th>\n",
       "      <th>VT_Conf_Cases</th>\n",
       "    </tr>\n",
       "    <tr>\n",
       "      <th>date</th>\n",
       "      <th></th>\n",
       "      <th></th>\n",
       "      <th></th>\n",
       "    </tr>\n",
       "  </thead>\n",
       "  <tbody>\n",
       "    <tr>\n",
       "      <th>2020-01-22</th>\n",
       "      <td>26.96</td>\n",
       "      <td>0.0</td>\n",
       "      <td>0.0</td>\n",
       "    </tr>\n",
       "    <tr>\n",
       "      <th>2020-01-23</th>\n",
       "      <td>27.14</td>\n",
       "      <td>0.0</td>\n",
       "      <td>0.0</td>\n",
       "    </tr>\n",
       "    <tr>\n",
       "      <th>2020-01-24</th>\n",
       "      <td>30.56</td>\n",
       "      <td>0.0</td>\n",
       "      <td>0.0</td>\n",
       "    </tr>\n",
       "    <tr>\n",
       "      <th>2020-01-27</th>\n",
       "      <td>34.52</td>\n",
       "      <td>1.3</td>\n",
       "      <td>0.0</td>\n",
       "    </tr>\n",
       "    <tr>\n",
       "      <th>2020-01-28</th>\n",
       "      <td>30.02</td>\n",
       "      <td>0.3</td>\n",
       "      <td>0.0</td>\n",
       "    </tr>\n",
       "  </tbody>\n",
       "</table>\n",
       "</div>"
      ],
      "text/plain": [
       "            VT_Avg_Temp(F)  VT_PRCP(mm)  VT_Conf_Cases\n",
       "date                                                  \n",
       "2020-01-22           26.96          0.0            0.0\n",
       "2020-01-23           27.14          0.0            0.0\n",
       "2020-01-24           30.56          0.0            0.0\n",
       "2020-01-27           34.52          1.3            0.0\n",
       "2020-01-28           30.02          0.3            0.0"
      ]
     },
     "execution_count": 8,
     "metadata": {},
     "output_type": "execute_result"
    }
   ],
   "source": [
    "df_vt.head()"
   ]
  },
  {
   "cell_type": "code",
   "execution_count": 9,
   "id": "2dd7861f",
   "metadata": {
    "scrolled": true
   },
   "outputs": [
    {
     "data": {
      "text/html": [
       "<div>\n",
       "<style scoped>\n",
       "    .dataframe tbody tr th:only-of-type {\n",
       "        vertical-align: middle;\n",
       "    }\n",
       "\n",
       "    .dataframe tbody tr th {\n",
       "        vertical-align: top;\n",
       "    }\n",
       "\n",
       "    .dataframe thead th {\n",
       "        text-align: right;\n",
       "    }\n",
       "</style>\n",
       "<table border=\"1\" class=\"dataframe\">\n",
       "  <thead>\n",
       "    <tr style=\"text-align: right;\">\n",
       "      <th></th>\n",
       "      <th>MA_Avg_Temp(F)</th>\n",
       "      <th>MA_PRCP(mm)</th>\n",
       "      <th>MA_Conf_Cases</th>\n",
       "    </tr>\n",
       "    <tr>\n",
       "      <th>date</th>\n",
       "      <th></th>\n",
       "      <th></th>\n",
       "      <th></th>\n",
       "    </tr>\n",
       "  </thead>\n",
       "  <tbody>\n",
       "    <tr>\n",
       "      <th>2020-01-22</th>\n",
       "      <td>22.46</td>\n",
       "      <td>0.0</td>\n",
       "      <td>0.0</td>\n",
       "    </tr>\n",
       "    <tr>\n",
       "      <th>2020-01-23</th>\n",
       "      <td>32.00</td>\n",
       "      <td>0.0</td>\n",
       "      <td>0.0</td>\n",
       "    </tr>\n",
       "    <tr>\n",
       "      <th>2020-01-24</th>\n",
       "      <td>35.42</td>\n",
       "      <td>0.0</td>\n",
       "      <td>0.0</td>\n",
       "    </tr>\n",
       "    <tr>\n",
       "      <th>2020-01-27</th>\n",
       "      <td>39.02</td>\n",
       "      <td>0.0</td>\n",
       "      <td>0.0</td>\n",
       "    </tr>\n",
       "    <tr>\n",
       "      <th>2020-01-28</th>\n",
       "      <td>37.40</td>\n",
       "      <td>0.0</td>\n",
       "      <td>0.0</td>\n",
       "    </tr>\n",
       "  </tbody>\n",
       "</table>\n",
       "</div>"
      ],
      "text/plain": [
       "            MA_Avg_Temp(F)  MA_PRCP(mm)  MA_Conf_Cases\n",
       "date                                                  \n",
       "2020-01-22           22.46          0.0            0.0\n",
       "2020-01-23           32.00          0.0            0.0\n",
       "2020-01-24           35.42          0.0            0.0\n",
       "2020-01-27           39.02          0.0            0.0\n",
       "2020-01-28           37.40          0.0            0.0"
      ]
     },
     "execution_count": 9,
     "metadata": {},
     "output_type": "execute_result"
    }
   ],
   "source": [
    "df_ma.head()"
   ]
  },
  {
   "cell_type": "code",
   "execution_count": 10,
   "id": "6b1d2710",
   "metadata": {},
   "outputs": [
    {
     "data": {
      "text/html": [
       "<div>\n",
       "<style scoped>\n",
       "    .dataframe tbody tr th:only-of-type {\n",
       "        vertical-align: middle;\n",
       "    }\n",
       "\n",
       "    .dataframe tbody tr th {\n",
       "        vertical-align: top;\n",
       "    }\n",
       "\n",
       "    .dataframe thead th {\n",
       "        text-align: right;\n",
       "    }\n",
       "</style>\n",
       "<table border=\"1\" class=\"dataframe\">\n",
       "  <thead>\n",
       "    <tr style=\"text-align: right;\">\n",
       "      <th></th>\n",
       "      <th>MA_Avg_Temp(F)</th>\n",
       "      <th>MA_PRCP(mm)</th>\n",
       "      <th>MA_Conf_Cases</th>\n",
       "    </tr>\n",
       "    <tr>\n",
       "      <th>date</th>\n",
       "      <th></th>\n",
       "      <th></th>\n",
       "      <th></th>\n",
       "    </tr>\n",
       "  </thead>\n",
       "  <tbody>\n",
       "    <tr>\n",
       "      <th>2021-09-03</th>\n",
       "      <td>62.42</td>\n",
       "      <td>0.0</td>\n",
       "      <td>291.0</td>\n",
       "    </tr>\n",
       "    <tr>\n",
       "      <th>2021-09-07</th>\n",
       "      <td>68.00</td>\n",
       "      <td>0.0</td>\n",
       "      <td>960.0</td>\n",
       "    </tr>\n",
       "    <tr>\n",
       "      <th>2021-09-08</th>\n",
       "      <td>71.96</td>\n",
       "      <td>0.0</td>\n",
       "      <td>260.0</td>\n",
       "    </tr>\n",
       "    <tr>\n",
       "      <th>2021-09-09</th>\n",
       "      <td>70.88</td>\n",
       "      <td>8.1</td>\n",
       "      <td>364.0</td>\n",
       "    </tr>\n",
       "    <tr>\n",
       "      <th>2021-09-10</th>\n",
       "      <td>68.54</td>\n",
       "      <td>0.0</td>\n",
       "      <td>307.0</td>\n",
       "    </tr>\n",
       "  </tbody>\n",
       "</table>\n",
       "</div>"
      ],
      "text/plain": [
       "            MA_Avg_Temp(F)  MA_PRCP(mm)  MA_Conf_Cases\n",
       "date                                                  \n",
       "2021-09-03           62.42          0.0          291.0\n",
       "2021-09-07           68.00          0.0          960.0\n",
       "2021-09-08           71.96          0.0          260.0\n",
       "2021-09-09           70.88          8.1          364.0\n",
       "2021-09-10           68.54          0.0          307.0"
      ]
     },
     "execution_count": 10,
     "metadata": {},
     "output_type": "execute_result"
    }
   ],
   "source": [
    "df_ma.tail()"
   ]
  },
  {
   "cell_type": "markdown",
   "id": "440a9278",
   "metadata": {},
   "source": []
  },
  {
   "cell_type": "code",
   "execution_count": 11,
   "id": "8388cd6c",
   "metadata": {},
   "outputs": [
    {
     "data": {
      "text/html": [
       "<div>\n",
       "<style scoped>\n",
       "    .dataframe tbody tr th:only-of-type {\n",
       "        vertical-align: middle;\n",
       "    }\n",
       "\n",
       "    .dataframe tbody tr th {\n",
       "        vertical-align: top;\n",
       "    }\n",
       "\n",
       "    .dataframe thead th {\n",
       "        text-align: right;\n",
       "    }\n",
       "</style>\n",
       "<table border=\"1\" class=\"dataframe\">\n",
       "  <thead>\n",
       "    <tr style=\"text-align: right;\">\n",
       "      <th></th>\n",
       "      <th>ME_Avg_Temp(F)</th>\n",
       "      <th>ME_PRCP(mm)</th>\n",
       "      <th>ME_Conf_Cases</th>\n",
       "    </tr>\n",
       "    <tr>\n",
       "      <th>date</th>\n",
       "      <th></th>\n",
       "      <th></th>\n",
       "      <th></th>\n",
       "    </tr>\n",
       "  </thead>\n",
       "  <tbody>\n",
       "    <tr>\n",
       "      <th>2020-01-22</th>\n",
       "      <td>19.04</td>\n",
       "      <td>0.0</td>\n",
       "      <td>0.0</td>\n",
       "    </tr>\n",
       "    <tr>\n",
       "      <th>2020-01-23</th>\n",
       "      <td>26.60</td>\n",
       "      <td>0.3</td>\n",
       "      <td>0.0</td>\n",
       "    </tr>\n",
       "    <tr>\n",
       "      <th>2020-01-24</th>\n",
       "      <td>29.48</td>\n",
       "      <td>0.0</td>\n",
       "      <td>0.0</td>\n",
       "    </tr>\n",
       "    <tr>\n",
       "      <th>2020-01-27</th>\n",
       "      <td>31.46</td>\n",
       "      <td>1.0</td>\n",
       "      <td>0.0</td>\n",
       "    </tr>\n",
       "    <tr>\n",
       "      <th>2020-01-28</th>\n",
       "      <td>21.56</td>\n",
       "      <td>0.0</td>\n",
       "      <td>0.0</td>\n",
       "    </tr>\n",
       "  </tbody>\n",
       "</table>\n",
       "</div>"
      ],
      "text/plain": [
       "            ME_Avg_Temp(F)  ME_PRCP(mm)  ME_Conf_Cases\n",
       "date                                                  \n",
       "2020-01-22           19.04          0.0            0.0\n",
       "2020-01-23           26.60          0.3            0.0\n",
       "2020-01-24           29.48          0.0            0.0\n",
       "2020-01-27           31.46          1.0            0.0\n",
       "2020-01-28           21.56          0.0            0.0"
      ]
     },
     "execution_count": 11,
     "metadata": {},
     "output_type": "execute_result"
    }
   ],
   "source": [
    "df_me.head()"
   ]
  },
  {
   "cell_type": "code",
   "execution_count": 12,
   "id": "45d7f7c4",
   "metadata": {},
   "outputs": [
    {
     "data": {
      "text/html": [
       "<div>\n",
       "<style scoped>\n",
       "    .dataframe tbody tr th:only-of-type {\n",
       "        vertical-align: middle;\n",
       "    }\n",
       "\n",
       "    .dataframe tbody tr th {\n",
       "        vertical-align: top;\n",
       "    }\n",
       "\n",
       "    .dataframe thead th {\n",
       "        text-align: right;\n",
       "    }\n",
       "</style>\n",
       "<table border=\"1\" class=\"dataframe\">\n",
       "  <thead>\n",
       "    <tr style=\"text-align: right;\">\n",
       "      <th></th>\n",
       "      <th>CT_Avg_Temp(F)</th>\n",
       "      <th>CT_PRCP(mm)</th>\n",
       "      <th>CT_Conf_Cases</th>\n",
       "    </tr>\n",
       "    <tr>\n",
       "      <th>date</th>\n",
       "      <th></th>\n",
       "      <th></th>\n",
       "      <th></th>\n",
       "    </tr>\n",
       "  </thead>\n",
       "  <tbody>\n",
       "    <tr>\n",
       "      <th>2020-01-22</th>\n",
       "      <td>18.32</td>\n",
       "      <td>0.0</td>\n",
       "      <td>0.0</td>\n",
       "    </tr>\n",
       "    <tr>\n",
       "      <th>2020-01-23</th>\n",
       "      <td>23.72</td>\n",
       "      <td>0.0</td>\n",
       "      <td>0.0</td>\n",
       "    </tr>\n",
       "    <tr>\n",
       "      <th>2020-01-24</th>\n",
       "      <td>33.08</td>\n",
       "      <td>0.0</td>\n",
       "      <td>0.0</td>\n",
       "    </tr>\n",
       "    <tr>\n",
       "      <th>2020-01-27</th>\n",
       "      <td>38.84</td>\n",
       "      <td>0.0</td>\n",
       "      <td>0.0</td>\n",
       "    </tr>\n",
       "    <tr>\n",
       "      <th>2020-01-28</th>\n",
       "      <td>36.68</td>\n",
       "      <td>0.0</td>\n",
       "      <td>0.0</td>\n",
       "    </tr>\n",
       "  </tbody>\n",
       "</table>\n",
       "</div>"
      ],
      "text/plain": [
       "            CT_Avg_Temp(F)  CT_PRCP(mm)  CT_Conf_Cases\n",
       "date                                                  \n",
       "2020-01-22           18.32          0.0            0.0\n",
       "2020-01-23           23.72          0.0            0.0\n",
       "2020-01-24           33.08          0.0            0.0\n",
       "2020-01-27           38.84          0.0            0.0\n",
       "2020-01-28           36.68          0.0            0.0"
      ]
     },
     "execution_count": 12,
     "metadata": {},
     "output_type": "execute_result"
    }
   ],
   "source": [
    "df_ct.head()"
   ]
  },
  {
   "cell_type": "markdown",
   "id": "53a7b14f",
   "metadata": {},
   "source": [
    "#### Analyzing time series data checklist:\n",
    "$\\times$ 1) Convert index to datetime object \\\n",
    "$\\times$ 2) Plot the data \\\n",
    "$\\times$ 3) Run Augmented Dickey Fuller Test to see whether the data is a random walk \\\n",
    "$\\times$ 4) Take first differences of the data to transform it into a stationary series \\\n",
    "5) Compute ACF (Autocorrelation Function) and PACF (Partial Autocorrelation Funcion) \\\n",
    "6) Using that as a guide, fit a few AR, MA, and ARMA models to the data \\\n",
    "7) Use information criterion to choose the best model \\\n",
    "8) Forecast "
   ]
  },
  {
   "cell_type": "markdown",
   "id": "7e780997",
   "metadata": {},
   "source": [
    "Although it seems pretty clear visually that none of the temperature and precipitation datasets are random walks, let's just confirm all datasets with an [Augmented Dickey Fuller Test](https://www.machinelearningplus.com/time-series/augmented-dickey-fuller-test/). "
   ]
  },
  {
   "cell_type": "code",
   "execution_count": 13,
   "id": "aa2f3afc",
   "metadata": {},
   "outputs": [
    {
     "name": "stdout",
     "output_type": "stream",
     "text": [
      "VT_Conf_Cases ADF: (-3.464483031392258, 0.0089474945053302, 9, 413, {'1%': -3.4462831955497135, '5%': -2.8685636962704395, '10%': -2.5705114078759914}, 1372.9780979482916)\n"
     ]
    }
   ],
   "source": [
    "res_vt_cc = adfuller(df_vt.VT_Conf_Cases)\n",
    "print(\"VT_Conf_Cases ADF:\", res_vt_cc)"
   ]
  },
  {
   "cell_type": "code",
   "execution_count": 14,
   "id": "14e6f4e7",
   "metadata": {},
   "outputs": [
    {
     "name": "stdout",
     "output_type": "stream",
     "text": [
      "VT_Avg_Temp(F) ADF: (-1.3850715503583493, 0.5894117119797059, 14, 408, {'1%': -3.446479704252724, '5%': -2.8686500930967354, '10%': -2.5705574627547096}, 2737.173417718457)\n"
     ]
    }
   ],
   "source": [
    "res_vt_temp = adfuller(df_vt['VT_Avg_Temp(F)'])\n",
    "print(\"VT_Avg_Temp(F) ADF:\", res_vt_temp)"
   ]
  },
  {
   "cell_type": "code",
   "execution_count": 15,
   "id": "9021204a",
   "metadata": {},
   "outputs": [
    {
     "name": "stdout",
     "output_type": "stream",
     "text": [
      "VT_PRCP(mm) ADF: (-7.85027472236095, 5.625384540115335e-12, 4, 418, {'1%': -3.4460914174990296, '5%': -2.868479374038333, '10%': -2.570466459559076}, 2588.81431352875)\n"
     ]
    }
   ],
   "source": [
    "res_vt_prcp = adfuller(df_vt['VT_PRCP(mm)'])\n",
    "print(\"VT_PRCP(mm) ADF:\", res_vt_prcp)"
   ]
  },
  {
   "cell_type": "markdown",
   "id": "42cc6e6a",
   "metadata": {},
   "source": [
    "***"
   ]
  },
  {
   "cell_type": "code",
   "execution_count": 16,
   "id": "f5463b40",
   "metadata": {},
   "outputs": [
    {
     "name": "stdout",
     "output_type": "stream",
     "text": [
      "CT_Conf_Cases ADF: (-2.1155478635416207, 0.23830885997846413, 18, 404, {'1%': -3.44664043608676, '5%': -2.868720756230461, '10%': -2.5705951311145965}, 5418.580327990375)\n"
     ]
    }
   ],
   "source": [
    "res_ct_cc = adfuller(df_ct.CT_Conf_Cases)\n",
    "print(\"CT_Conf_Cases ADF:\",res_ct_cc)"
   ]
  },
  {
   "cell_type": "code",
   "execution_count": 17,
   "id": "9ad96780",
   "metadata": {
    "scrolled": true
   },
   "outputs": [
    {
     "name": "stdout",
     "output_type": "stream",
     "text": [
      "CT_Avg_Temp(F) ADF: (-1.4623595803153135, 0.5520426086668024, 18, 404, {'1%': -3.44664043608676, '5%': -2.868720756230461, '10%': -2.5705951311145965}, 2586.25770549387)\n"
     ]
    }
   ],
   "source": [
    "res_ct_temp = adfuller(df_ct['CT_Avg_Temp(F)'])\n",
    "print(\"CT_Avg_Temp(F) ADF:\", res_ct_temp)"
   ]
  },
  {
   "cell_type": "code",
   "execution_count": 18,
   "id": "62771471",
   "metadata": {},
   "outputs": [
    {
     "name": "stdout",
     "output_type": "stream",
     "text": [
      "CT_PRCP(mm) ADF: (-5.119179653765302, 1.2826061050763963e-05, 8, 414, {'1%': -3.4462444670071046, '5%': -2.8685466682709975, '10%': -2.5705023309762187}, 3054.3030798487416)\n"
     ]
    }
   ],
   "source": [
    "res_ct_prcp = adfuller(df_ct['CT_PRCP(mm)'])\n",
    "print(\"CT_PRCP(mm) ADF:\", res_ct_prcp)"
   ]
  },
  {
   "cell_type": "markdown",
   "id": "ee33a632",
   "metadata": {},
   "source": [
    "***"
   ]
  },
  {
   "cell_type": "code",
   "execution_count": 19,
   "id": "efd4dbdb",
   "metadata": {},
   "outputs": [
    {
     "name": "stdout",
     "output_type": "stream",
     "text": [
      "MA_Conf_Cases ADF: (-2.4073554887247623, 0.1396711296794279, 10, 412, {'1%': -3.4463221132914486, '5%': -2.8685808072418824, '10%': -2.570520529031954}, 4914.404375841825)\n"
     ]
    }
   ],
   "source": [
    "res_ma_cc = adfuller(df_ma.MA_Conf_Cases)\n",
    "print(\"MA_Conf_Cases ADF:\",res_ma_cc)"
   ]
  },
  {
   "cell_type": "code",
   "execution_count": 20,
   "id": "aabd8f5a",
   "metadata": {},
   "outputs": [
    {
     "name": "stdout",
     "output_type": "stream",
     "text": [
      "MA_Avg_Temp(F) ADF: (-1.3998411440798264, 0.5823522736783371, 9, 413, {'1%': -3.4462831955497135, '5%': -2.8685636962704395, '10%': -2.5705114078759914}, 2670.6056777919043)\n"
     ]
    }
   ],
   "source": [
    "res_ma_temp = adfuller(df_ma['MA_Avg_Temp(F)'])\n",
    "print(\"MA_Avg_Temp(F) ADF:\", res_ma_temp)"
   ]
  },
  {
   "cell_type": "code",
   "execution_count": 21,
   "id": "9dcf1ac4",
   "metadata": {},
   "outputs": [
    {
     "name": "stdout",
     "output_type": "stream",
     "text": [
      "MA_PRCP(mm) ADF: (-19.118963656848877, 0.0, 0, 422, {'1%': -3.44594128742536, '5%': -2.868413360220551, '10%': -2.570431271085555}, 3072.9716876471894)\n"
     ]
    }
   ],
   "source": [
    "res_ma_prcp = adfuller(df_ma['MA_PRCP(mm)'])\n",
    "print(\"MA_PRCP(mm) ADF:\", res_ma_prcp)"
   ]
  },
  {
   "cell_type": "markdown",
   "id": "ff183dc3",
   "metadata": {},
   "source": [
    "***"
   ]
  },
  {
   "cell_type": "code",
   "execution_count": 22,
   "id": "69b50c4c",
   "metadata": {},
   "outputs": [
    {
     "name": "stdout",
     "output_type": "stream",
     "text": [
      "ME_Conf_Cases ADF: (-2.1245870155377653, 0.23474364532012498, 16, 406, {'1%': -3.4465596717208813, '5%': -2.8686852499495843, '10%': -2.570576203741901}, 1956.0272650586103)\n"
     ]
    }
   ],
   "source": [
    "res_me_cc = adfuller(df_me.ME_Conf_Cases)\n",
    "print(\"ME_Conf_Cases ADF:\",res_me_cc)"
   ]
  },
  {
   "cell_type": "code",
   "execution_count": 23,
   "id": "22145de7",
   "metadata": {},
   "outputs": [
    {
     "name": "stdout",
     "output_type": "stream",
     "text": [
      "ME_Avg_Temp(F) ADF: (-1.2075162097343841, 0.6703540995802695, 13, 409, {'1%': -3.4464400156784927, '5%': -2.868632644097719, '10%': -2.5705481612974577}, 2752.7970329820932)\n"
     ]
    }
   ],
   "source": [
    "res_me_temp = adfuller(df_me['ME_Avg_Temp(F)'])\n",
    "print(\"ME_Avg_Temp(F) ADF:\", res_me_temp)"
   ]
  },
  {
   "cell_type": "code",
   "execution_count": 24,
   "id": "d4b0f85b",
   "metadata": {},
   "outputs": [
    {
     "name": "stdout",
     "output_type": "stream",
     "text": [
      "ME_PRCP(mm) ADF: (-17.390438896842983, 5.012959484655681e-30, 0, 422, {'1%': -3.44594128742536, '5%': -2.868413360220551, '10%': -2.570431271085555}, 2757.324502731625)\n"
     ]
    }
   ],
   "source": [
    "res_me_prcp = adfuller(df_me['ME_PRCP(mm)'])\n",
    "print(\"ME_PRCP(mm) ADF:\", res_me_prcp)"
   ]
  },
  {
   "cell_type": "markdown",
   "id": "8988cf73",
   "metadata": {},
   "source": [
    "***"
   ]
  },
  {
   "cell_type": "markdown",
   "id": "9b6c4614",
   "metadata": {},
   "source": [
    "According to the Augmented Dickey Fuller Test, the only data that appears to follow a random walk is: `VT_Conf_Cases`.\\\n",
    "In order to perform time series analysis on **the rest of the data**, we will need to make it stationary. \\\n",
    "__Strong Stationarity:__ entire distribution of data is time-invariant. \\\n",
    "__Weak Stationarity:__ mean, variance, and autocorrelation are time invariant (easier to test).\n",
    "\n",
    "Because `VT_Conf_Cases` is a random walk, we will compute __first differences__ and then recalculate p-value of rejecting the null hyppothesis with ADF test (for `VT_Conf_Cases` only). "
   ]
  },
  {
   "cell_type": "code",
   "execution_count": 25,
   "id": "e8485f01",
   "metadata": {},
   "outputs": [],
   "source": [
    "df_vt['VT_Conf_Cases_stationary'] = df_vt['VT_Conf_Cases'].diff()"
   ]
  },
  {
   "cell_type": "markdown",
   "id": "1788f54b",
   "metadata": {},
   "source": [
    "Quick visual check to make sure transformation was completed successfully:"
   ]
  },
  {
   "cell_type": "code",
   "execution_count": 26,
   "id": "27474364",
   "metadata": {},
   "outputs": [
    {
     "data": {
      "image/png": "[encoded data removed]",
      "text/plain": [
       "<Figure size 432x288 with 1 Axes>"
      ]
     },
     "metadata": {
      "needs_background": "light"
     },
     "output_type": "display_data"
    }
   ],
   "source": [
    "plt.plot(df_vt['VT_Conf_Cases_stationary'])\n",
    "plt.xticks(rotation=90)\n",
    "plt.show()"
   ]
  },
  {
   "cell_type": "markdown",
   "id": "60f8b00e",
   "metadata": {},
   "source": [
    "ADF test for confirmation\n",
    "(test from second row on, as .diff() creates a NaN in the first row):"
   ]
  },
  {
   "cell_type": "code",
   "execution_count": 27,
   "id": "7fa3a8d5",
   "metadata": {},
   "outputs": [
    {
     "data": {
      "text/plain": [
       "(-8.882898981646642,\n",
       " 1.3033909663175457e-14,\n",
       " 14,\n",
       " 407,\n",
       " {'1%': -3.4465195891135845,\n",
       "  '5%': -2.8686676281678634,\n",
       "  '10%': -2.5705668101226085},\n",
       " 1376.0285739185256)"
      ]
     },
     "execution_count": 27,
     "metadata": {},
     "output_type": "execute_result"
    }
   ],
   "source": [
    "adfuller(df_vt['VT_Conf_Cases_stationary']['2020-01-23':])"
   ]
  },
  {
   "cell_type": "markdown",
   "id": "a6fab640",
   "metadata": {},
   "source": [
    "Now, all of the data appears stationary."
   ]
  },
  {
   "cell_type": "code",
   "execution_count": 40,
   "id": "d461adfe",
   "metadata": {},
   "outputs": [],
   "source": [
    "df_me2 = df_ma"
   ]
  },
  {
   "cell_type": "code",
   "execution_count": 41,
   "id": "116eca7f",
   "metadata": {},
   "outputs": [],
   "source": [
    "df_me2.reset_index(inplace=True)"
   ]
  },
  {
   "cell_type": "code",
   "execution_count": 42,
   "id": "c0a5c615",
   "metadata": {},
   "outputs": [
    {
     "data": {
      "text/html": [
       "<div>\n",
       "<style scoped>\n",
       "    .dataframe tbody tr th:only-of-type {\n",
       "        vertical-align: middle;\n",
       "    }\n",
       "\n",
       "    .dataframe tbody tr th {\n",
       "        vertical-align: top;\n",
       "    }\n",
       "\n",
       "    .dataframe thead th {\n",
       "        text-align: right;\n",
       "    }\n",
       "</style>\n",
       "<table border=\"1\" class=\"dataframe\">\n",
       "  <thead>\n",
       "    <tr style=\"text-align: right;\">\n",
       "      <th></th>\n",
       "      <th>date</th>\n",
       "      <th>MA_Avg_Temp(F)</th>\n",
       "      <th>MA_PRCP(mm)</th>\n",
       "      <th>MA_Conf_Cases</th>\n",
       "    </tr>\n",
       "  </thead>\n",
       "  <tbody>\n",
       "    <tr>\n",
       "      <th>0</th>\n",
       "      <td>2020-01-22</td>\n",
       "      <td>22.46</td>\n",
       "      <td>0.0</td>\n",
       "      <td>0.0</td>\n",
       "    </tr>\n",
       "    <tr>\n",
       "      <th>1</th>\n",
       "      <td>2020-01-23</td>\n",
       "      <td>32.00</td>\n",
       "      <td>0.0</td>\n",
       "      <td>0.0</td>\n",
       "    </tr>\n",
       "    <tr>\n",
       "      <th>2</th>\n",
       "      <td>2020-01-24</td>\n",
       "      <td>35.42</td>\n",
       "      <td>0.0</td>\n",
       "      <td>0.0</td>\n",
       "    </tr>\n",
       "    <tr>\n",
       "      <th>3</th>\n",
       "      <td>2020-01-27</td>\n",
       "      <td>39.02</td>\n",
       "      <td>0.0</td>\n",
       "      <td>0.0</td>\n",
       "    </tr>\n",
       "    <tr>\n",
       "      <th>4</th>\n",
       "      <td>2020-01-28</td>\n",
       "      <td>37.40</td>\n",
       "      <td>0.0</td>\n",
       "      <td>0.0</td>\n",
       "    </tr>\n",
       "  </tbody>\n",
       "</table>\n",
       "</div>"
      ],
      "text/plain": [
       "        date  MA_Avg_Temp(F)  MA_PRCP(mm)  MA_Conf_Cases\n",
       "0 2020-01-22           22.46          0.0            0.0\n",
       "1 2020-01-23           32.00          0.0            0.0\n",
       "2 2020-01-24           35.42          0.0            0.0\n",
       "3 2020-01-27           39.02          0.0            0.0\n",
       "4 2020-01-28           37.40          0.0            0.0"
      ]
     },
     "execution_count": 42,
     "metadata": {},
     "output_type": "execute_result"
    }
   ],
   "source": [
    "df_me2.head()"
   ]
  },
  {
   "cell_type": "code",
   "execution_count": 43,
   "id": "761b2b29",
   "metadata": {},
   "outputs": [
    {
     "data": {
      "text/plain": [
       "date              datetime64[ns]\n",
       "MA_Avg_Temp(F)           float64\n",
       "MA_PRCP(mm)              float64\n",
       "MA_Conf_Cases            float64\n",
       "dtype: object"
      ]
     },
     "execution_count": 43,
     "metadata": {},
     "output_type": "execute_result"
    }
   ],
   "source": [
    "df_me2.dtypes"
   ]
  },
  {
   "cell_type": "code",
   "execution_count": 44,
   "id": "6bea48dd",
   "metadata": {},
   "outputs": [
    {
     "ename": "KeyError",
     "evalue": "\"['ME_Conf_Cases', 'ME_PRCP(mm)', 'ME_Avg_Temp(F)'] not in index\"",
     "output_type": "error",
     "traceback": [
      "\u001b[0;31m---------------------------------------------------------------------------\u001b[0m",
      "\u001b[0;31mKeyError\u001b[0m                                  Traceback (most recent call last)",
      "\u001b[0;32m<ipython-input-44-6b9034552ff8>\u001b[0m in \u001b[0;36m<module>\u001b[0;34m\u001b[0m\n\u001b[1;32m      7\u001b[0m \u001b[0;31m# drop unnecessary columns and re-arrange\u001b[0m\u001b[0;34m\u001b[0m\u001b[0;34m\u001b[0m\u001b[0;34m\u001b[0m\u001b[0m\n\u001b[1;32m      8\u001b[0m \u001b[0;31m#df_me2.drop(['date'], axis=1, inplace=True)\u001b[0m\u001b[0;34m\u001b[0m\u001b[0;34m\u001b[0m\u001b[0;34m\u001b[0m\u001b[0m\n\u001b[0;32m----> 9\u001b[0;31m \u001b[0mdf_me2\u001b[0m \u001b[0;34m=\u001b[0m \u001b[0mdf_me2\u001b[0m\u001b[0;34m[\u001b[0m\u001b[0;34m[\u001b[0m\u001b[0;34m'date'\u001b[0m\u001b[0;34m,\u001b[0m \u001b[0;34m'Series'\u001b[0m\u001b[0;34m,\u001b[0m \u001b[0;34m'Year'\u001b[0m\u001b[0;34m,\u001b[0m \u001b[0;34m'Month'\u001b[0m\u001b[0;34m,\u001b[0m \u001b[0;34m'Day'\u001b[0m\u001b[0;34m,\u001b[0m \u001b[0;34m'ME_Avg_Temp(F)'\u001b[0m\u001b[0;34m,\u001b[0m \u001b[0;34m'ME_PRCP(mm)'\u001b[0m\u001b[0;34m,\u001b[0m \u001b[0;34m'ME_Conf_Cases'\u001b[0m\u001b[0;34m]\u001b[0m\u001b[0;34m]\u001b[0m\u001b[0;34m\u001b[0m\u001b[0;34m\u001b[0m\u001b[0m\n\u001b[0m",
      "\u001b[0;32m~/opt/anaconda3/lib/python3.8/site-packages/pandas/core/frame.py\u001b[0m in \u001b[0;36m__getitem__\u001b[0;34m(self, key)\u001b[0m\n\u001b[1;32m   3028\u001b[0m             \u001b[0;32mif\u001b[0m \u001b[0mis_iterator\u001b[0m\u001b[0;34m(\u001b[0m\u001b[0mkey\u001b[0m\u001b[0;34m)\u001b[0m\u001b[0;34m:\u001b[0m\u001b[0;34m\u001b[0m\u001b[0;34m\u001b[0m\u001b[0m\n\u001b[1;32m   3029\u001b[0m                 \u001b[0mkey\u001b[0m \u001b[0;34m=\u001b[0m \u001b[0mlist\u001b[0m\u001b[0;34m(\u001b[0m\u001b[0mkey\u001b[0m\u001b[0;34m)\u001b[0m\u001b[0;34m\u001b[0m\u001b[0;34m\u001b[0m\u001b[0m\n\u001b[0;32m-> 3030\u001b[0;31m             \u001b[0mindexer\u001b[0m \u001b[0;34m=\u001b[0m \u001b[0mself\u001b[0m\u001b[0;34m.\u001b[0m\u001b[0mloc\u001b[0m\u001b[0;34m.\u001b[0m\u001b[0m_get_listlike_indexer\u001b[0m\u001b[0;34m(\u001b[0m\u001b[0mkey\u001b[0m\u001b[0;34m,\u001b[0m \u001b[0maxis\u001b[0m\u001b[0;34m=\u001b[0m\u001b[0;36m1\u001b[0m\u001b[0;34m,\u001b[0m \u001b[0mraise_missing\u001b[0m\u001b[0;34m=\u001b[0m\u001b[0;32mTrue\u001b[0m\u001b[0;34m)\u001b[0m\u001b[0;34m[\u001b[0m\u001b[0;36m1\u001b[0m\u001b[0;34m]\u001b[0m\u001b[0;34m\u001b[0m\u001b[0;34m\u001b[0m\u001b[0m\n\u001b[0m\u001b[1;32m   3031\u001b[0m \u001b[0;34m\u001b[0m\u001b[0m\n\u001b[1;32m   3032\u001b[0m         \u001b[0;31m# take() does not accept boolean indexers\u001b[0m\u001b[0;34m\u001b[0m\u001b[0;34m\u001b[0m\u001b[0;34m\u001b[0m\u001b[0m\n",
      "\u001b[0;32m~/opt/anaconda3/lib/python3.8/site-packages/pandas/core/indexing.py\u001b[0m in \u001b[0;36m_get_listlike_indexer\u001b[0;34m(self, key, axis, raise_missing)\u001b[0m\n\u001b[1;32m   1264\u001b[0m             \u001b[0mkeyarr\u001b[0m\u001b[0;34m,\u001b[0m \u001b[0mindexer\u001b[0m\u001b[0;34m,\u001b[0m \u001b[0mnew_indexer\u001b[0m \u001b[0;34m=\u001b[0m \u001b[0max\u001b[0m\u001b[0;34m.\u001b[0m\u001b[0m_reindex_non_unique\u001b[0m\u001b[0;34m(\u001b[0m\u001b[0mkeyarr\u001b[0m\u001b[0;34m)\u001b[0m\u001b[0;34m\u001b[0m\u001b[0;34m\u001b[0m\u001b[0m\n\u001b[1;32m   1265\u001b[0m \u001b[0;34m\u001b[0m\u001b[0m\n\u001b[0;32m-> 1266\u001b[0;31m         \u001b[0mself\u001b[0m\u001b[0;34m.\u001b[0m\u001b[0m_validate_read_indexer\u001b[0m\u001b[0;34m(\u001b[0m\u001b[0mkeyarr\u001b[0m\u001b[0;34m,\u001b[0m \u001b[0mindexer\u001b[0m\u001b[0;34m,\u001b[0m \u001b[0maxis\u001b[0m\u001b[0;34m,\u001b[0m \u001b[0mraise_missing\u001b[0m\u001b[0;34m=\u001b[0m\u001b[0mraise_missing\u001b[0m\u001b[0;34m)\u001b[0m\u001b[0;34m\u001b[0m\u001b[0;34m\u001b[0m\u001b[0m\n\u001b[0m\u001b[1;32m   1267\u001b[0m         \u001b[0;32mreturn\u001b[0m \u001b[0mkeyarr\u001b[0m\u001b[0;34m,\u001b[0m \u001b[0mindexer\u001b[0m\u001b[0;34m\u001b[0m\u001b[0;34m\u001b[0m\u001b[0m\n\u001b[1;32m   1268\u001b[0m \u001b[0;34m\u001b[0m\u001b[0m\n",
      "\u001b[0;32m~/opt/anaconda3/lib/python3.8/site-packages/pandas/core/indexing.py\u001b[0m in \u001b[0;36m_validate_read_indexer\u001b[0;34m(self, key, indexer, axis, raise_missing)\u001b[0m\n\u001b[1;32m   1314\u001b[0m             \u001b[0;32mif\u001b[0m \u001b[0mraise_missing\u001b[0m\u001b[0;34m:\u001b[0m\u001b[0;34m\u001b[0m\u001b[0;34m\u001b[0m\u001b[0m\n\u001b[1;32m   1315\u001b[0m                 \u001b[0mnot_found\u001b[0m \u001b[0;34m=\u001b[0m \u001b[0mlist\u001b[0m\u001b[0;34m(\u001b[0m\u001b[0mset\u001b[0m\u001b[0;34m(\u001b[0m\u001b[0mkey\u001b[0m\u001b[0;34m)\u001b[0m \u001b[0;34m-\u001b[0m \u001b[0mset\u001b[0m\u001b[0;34m(\u001b[0m\u001b[0max\u001b[0m\u001b[0;34m)\u001b[0m\u001b[0;34m)\u001b[0m\u001b[0;34m\u001b[0m\u001b[0;34m\u001b[0m\u001b[0m\n\u001b[0;32m-> 1316\u001b[0;31m                 \u001b[0;32mraise\u001b[0m \u001b[0mKeyError\u001b[0m\u001b[0;34m(\u001b[0m\u001b[0;34mf\"{not_found} not in index\"\u001b[0m\u001b[0;34m)\u001b[0m\u001b[0;34m\u001b[0m\u001b[0;34m\u001b[0m\u001b[0m\n\u001b[0m\u001b[1;32m   1317\u001b[0m \u001b[0;34m\u001b[0m\u001b[0m\n\u001b[1;32m   1318\u001b[0m             \u001b[0mnot_found\u001b[0m \u001b[0;34m=\u001b[0m \u001b[0mkey\u001b[0m\u001b[0;34m[\u001b[0m\u001b[0mmissing_mask\u001b[0m\u001b[0;34m]\u001b[0m\u001b[0;34m\u001b[0m\u001b[0;34m\u001b[0m\u001b[0m\n",
      "\u001b[0;31mKeyError\u001b[0m: \"['ME_Conf_Cases', 'ME_PRCP(mm)', 'ME_Avg_Temp(F)'] not in index\""
     ]
    }
   ],
   "source": [
    "# create a sequence of numbers\n",
    "df_me2['Series'] = np.arange(1,len(df_me2)+1)\n",
    "# extract day, month, and year from dates\n",
    "df_me2['Year'] =[i.year for i in df_me2['date']]\n",
    "df_me2['Month'] = [i.month for i in df_me2['date']]\n",
    "df_me2['Day'] = [i.day for i in df_me2['date']]\n",
    "# drop unnecessary columns and re-arrange\n",
    "#df_me2.drop(['date'], axis=1, inplace=True)\n",
    "df_me2 = df_me2[['date', 'Series', 'Year', 'Month', 'Day', 'ME_Avg_Temp(F)', 'ME_PRCP(mm)', 'ME_Conf_Cases']]"
   ]
  },
  {
   "cell_type": "code",
   "execution_count": 45,
   "id": "06435618",
   "metadata": {},
   "outputs": [
    {
     "data": {
      "text/html": [
       "<div>\n",
       "<style scoped>\n",
       "    .dataframe tbody tr th:only-of-type {\n",
       "        vertical-align: middle;\n",
       "    }\n",
       "\n",
       "    .dataframe tbody tr th {\n",
       "        vertical-align: top;\n",
       "    }\n",
       "\n",
       "    .dataframe thead th {\n",
       "        text-align: right;\n",
       "    }\n",
       "</style>\n",
       "<table border=\"1\" class=\"dataframe\">\n",
       "  <thead>\n",
       "    <tr style=\"text-align: right;\">\n",
       "      <th></th>\n",
       "      <th>date</th>\n",
       "      <th>MA_Avg_Temp(F)</th>\n",
       "      <th>MA_PRCP(mm)</th>\n",
       "      <th>MA_Conf_Cases</th>\n",
       "      <th>Series</th>\n",
       "      <th>Year</th>\n",
       "      <th>Month</th>\n",
       "      <th>Day</th>\n",
       "    </tr>\n",
       "  </thead>\n",
       "  <tbody>\n",
       "    <tr>\n",
       "      <th>0</th>\n",
       "      <td>2020-01-22</td>\n",
       "      <td>22.46</td>\n",
       "      <td>0.0</td>\n",
       "      <td>0.0</td>\n",
       "      <td>1</td>\n",
       "      <td>2020</td>\n",
       "      <td>1</td>\n",
       "      <td>22</td>\n",
       "    </tr>\n",
       "    <tr>\n",
       "      <th>1</th>\n",
       "      <td>2020-01-23</td>\n",
       "      <td>32.00</td>\n",
       "      <td>0.0</td>\n",
       "      <td>0.0</td>\n",
       "      <td>2</td>\n",
       "      <td>2020</td>\n",
       "      <td>1</td>\n",
       "      <td>23</td>\n",
       "    </tr>\n",
       "    <tr>\n",
       "      <th>2</th>\n",
       "      <td>2020-01-24</td>\n",
       "      <td>35.42</td>\n",
       "      <td>0.0</td>\n",
       "      <td>0.0</td>\n",
       "      <td>3</td>\n",
       "      <td>2020</td>\n",
       "      <td>1</td>\n",
       "      <td>24</td>\n",
       "    </tr>\n",
       "    <tr>\n",
       "      <th>3</th>\n",
       "      <td>2020-01-27</td>\n",
       "      <td>39.02</td>\n",
       "      <td>0.0</td>\n",
       "      <td>0.0</td>\n",
       "      <td>4</td>\n",
       "      <td>2020</td>\n",
       "      <td>1</td>\n",
       "      <td>27</td>\n",
       "    </tr>\n",
       "    <tr>\n",
       "      <th>4</th>\n",
       "      <td>2020-01-28</td>\n",
       "      <td>37.40</td>\n",
       "      <td>0.0</td>\n",
       "      <td>0.0</td>\n",
       "      <td>5</td>\n",
       "      <td>2020</td>\n",
       "      <td>1</td>\n",
       "      <td>28</td>\n",
       "    </tr>\n",
       "  </tbody>\n",
       "</table>\n",
       "</div>"
      ],
      "text/plain": [
       "        date  MA_Avg_Temp(F)  MA_PRCP(mm)  MA_Conf_Cases  Series  Year  Month  \\\n",
       "0 2020-01-22           22.46          0.0            0.0       1  2020      1   \n",
       "1 2020-01-23           32.00          0.0            0.0       2  2020      1   \n",
       "2 2020-01-24           35.42          0.0            0.0       3  2020      1   \n",
       "3 2020-01-27           39.02          0.0            0.0       4  2020      1   \n",
       "4 2020-01-28           37.40          0.0            0.0       5  2020      1   \n",
       "\n",
       "   Day  \n",
       "0   22  \n",
       "1   23  \n",
       "2   24  \n",
       "3   27  \n",
       "4   28  "
      ]
     },
     "execution_count": 45,
     "metadata": {},
     "output_type": "execute_result"
    }
   ],
   "source": [
    "df_me2.head()"
   ]
  },
  {
   "cell_type": "code",
   "execution_count": 46,
   "id": "a8cb85e3",
   "metadata": {},
   "outputs": [],
   "source": [
    "df_me2['day_of_week'] = [i.dayofweek for i in df_me2['date']]\n",
    "df_me2['day_of_year'] = [i.dayofyear for i in df_me2['date']]"
   ]
  },
  {
   "cell_type": "code",
   "execution_count": 47,
   "id": "058cb78f",
   "metadata": {},
   "outputs": [
    {
     "data": {
      "text/html": [
       "<div>\n",
       "<style scoped>\n",
       "    .dataframe tbody tr th:only-of-type {\n",
       "        vertical-align: middle;\n",
       "    }\n",
       "\n",
       "    .dataframe tbody tr th {\n",
       "        vertical-align: top;\n",
       "    }\n",
       "\n",
       "    .dataframe thead th {\n",
       "        text-align: right;\n",
       "    }\n",
       "</style>\n",
       "<table border=\"1\" class=\"dataframe\">\n",
       "  <thead>\n",
       "    <tr style=\"text-align: right;\">\n",
       "      <th></th>\n",
       "      <th>date</th>\n",
       "      <th>MA_Avg_Temp(F)</th>\n",
       "      <th>MA_PRCP(mm)</th>\n",
       "      <th>MA_Conf_Cases</th>\n",
       "      <th>Series</th>\n",
       "      <th>Year</th>\n",
       "      <th>Month</th>\n",
       "      <th>Day</th>\n",
       "      <th>day_of_week</th>\n",
       "      <th>day_of_year</th>\n",
       "    </tr>\n",
       "  </thead>\n",
       "  <tbody>\n",
       "    <tr>\n",
       "      <th>0</th>\n",
       "      <td>2020-01-22</td>\n",
       "      <td>22.46</td>\n",
       "      <td>0.0</td>\n",
       "      <td>0.0</td>\n",
       "      <td>1</td>\n",
       "      <td>2020</td>\n",
       "      <td>1</td>\n",
       "      <td>22</td>\n",
       "      <td>2</td>\n",
       "      <td>22</td>\n",
       "    </tr>\n",
       "    <tr>\n",
       "      <th>1</th>\n",
       "      <td>2020-01-23</td>\n",
       "      <td>32.00</td>\n",
       "      <td>0.0</td>\n",
       "      <td>0.0</td>\n",
       "      <td>2</td>\n",
       "      <td>2020</td>\n",
       "      <td>1</td>\n",
       "      <td>23</td>\n",
       "      <td>3</td>\n",
       "      <td>23</td>\n",
       "    </tr>\n",
       "    <tr>\n",
       "      <th>2</th>\n",
       "      <td>2020-01-24</td>\n",
       "      <td>35.42</td>\n",
       "      <td>0.0</td>\n",
       "      <td>0.0</td>\n",
       "      <td>3</td>\n",
       "      <td>2020</td>\n",
       "      <td>1</td>\n",
       "      <td>24</td>\n",
       "      <td>4</td>\n",
       "      <td>24</td>\n",
       "    </tr>\n",
       "    <tr>\n",
       "      <th>3</th>\n",
       "      <td>2020-01-27</td>\n",
       "      <td>39.02</td>\n",
       "      <td>0.0</td>\n",
       "      <td>0.0</td>\n",
       "      <td>4</td>\n",
       "      <td>2020</td>\n",
       "      <td>1</td>\n",
       "      <td>27</td>\n",
       "      <td>0</td>\n",
       "      <td>27</td>\n",
       "    </tr>\n",
       "    <tr>\n",
       "      <th>4</th>\n",
       "      <td>2020-01-28</td>\n",
       "      <td>37.40</td>\n",
       "      <td>0.0</td>\n",
       "      <td>0.0</td>\n",
       "      <td>5</td>\n",
       "      <td>2020</td>\n",
       "      <td>1</td>\n",
       "      <td>28</td>\n",
       "      <td>1</td>\n",
       "      <td>28</td>\n",
       "    </tr>\n",
       "  </tbody>\n",
       "</table>\n",
       "</div>"
      ],
      "text/plain": [
       "        date  MA_Avg_Temp(F)  MA_PRCP(mm)  MA_Conf_Cases  Series  Year  Month  \\\n",
       "0 2020-01-22           22.46          0.0            0.0       1  2020      1   \n",
       "1 2020-01-23           32.00          0.0            0.0       2  2020      1   \n",
       "2 2020-01-24           35.42          0.0            0.0       3  2020      1   \n",
       "3 2020-01-27           39.02          0.0            0.0       4  2020      1   \n",
       "4 2020-01-28           37.40          0.0            0.0       5  2020      1   \n",
       "\n",
       "   Day  day_of_week  day_of_year  \n",
       "0   22            2           22  \n",
       "1   23            3           23  \n",
       "2   24            4           24  \n",
       "3   27            0           27  \n",
       "4   28            1           28  "
      ]
     },
     "execution_count": 47,
     "metadata": {},
     "output_type": "execute_result"
    }
   ],
   "source": [
    "df_me2.head()"
   ]
  },
  {
   "cell_type": "code",
   "execution_count": null,
   "id": "765fafab",
   "metadata": {},
   "outputs": [],
   "source": []
  },
  {
   "cell_type": "code",
   "execution_count": null,
   "id": "a832e5dd",
   "metadata": {},
   "outputs": [],
   "source": []
  },
  {
   "cell_type": "code",
   "execution_count": 48,
   "id": "5fc2125c",
   "metadata": {},
   "outputs": [],
   "source": [
    "# split data into train-test set\n",
    "train_me = df_me2[(df_me2['Year'] < 2021) | ((df_me2['Year']==2021) & (df_me2['Month']<=7))]\n",
    "test_me = df_me2[(df_me2['Year']==2021) & (df_me2['Month']>7)]"
   ]
  },
  {
   "cell_type": "code",
   "execution_count": 49,
   "id": "49470418",
   "metadata": {},
   "outputs": [
    {
     "data": {
      "text/html": [
       "<div>\n",
       "<style scoped>\n",
       "    .dataframe tbody tr th:only-of-type {\n",
       "        vertical-align: middle;\n",
       "    }\n",
       "\n",
       "    .dataframe tbody tr th {\n",
       "        vertical-align: top;\n",
       "    }\n",
       "\n",
       "    .dataframe thead th {\n",
       "        text-align: right;\n",
       "    }\n",
       "</style>\n",
       "<table border=\"1\" class=\"dataframe\">\n",
       "  <thead>\n",
       "    <tr style=\"text-align: right;\">\n",
       "      <th></th>\n",
       "      <th>date</th>\n",
       "      <th>MA_Avg_Temp(F)</th>\n",
       "      <th>MA_PRCP(mm)</th>\n",
       "      <th>MA_Conf_Cases</th>\n",
       "      <th>Series</th>\n",
       "      <th>Year</th>\n",
       "      <th>Month</th>\n",
       "      <th>Day</th>\n",
       "      <th>day_of_week</th>\n",
       "      <th>day_of_year</th>\n",
       "    </tr>\n",
       "  </thead>\n",
       "  <tbody>\n",
       "    <tr>\n",
       "      <th>389</th>\n",
       "      <td>2021-07-26</td>\n",
       "      <td>77.54</td>\n",
       "      <td>0.0</td>\n",
       "      <td>270.0</td>\n",
       "      <td>390</td>\n",
       "      <td>2021</td>\n",
       "      <td>7</td>\n",
       "      <td>26</td>\n",
       "      <td>0</td>\n",
       "      <td>207</td>\n",
       "    </tr>\n",
       "    <tr>\n",
       "      <th>390</th>\n",
       "      <td>2021-07-27</td>\n",
       "      <td>75.92</td>\n",
       "      <td>6.9</td>\n",
       "      <td>129.0</td>\n",
       "      <td>391</td>\n",
       "      <td>2021</td>\n",
       "      <td>7</td>\n",
       "      <td>27</td>\n",
       "      <td>1</td>\n",
       "      <td>208</td>\n",
       "    </tr>\n",
       "    <tr>\n",
       "      <th>391</th>\n",
       "      <td>2021-07-28</td>\n",
       "      <td>68.00</td>\n",
       "      <td>11.4</td>\n",
       "      <td>123.0</td>\n",
       "      <td>392</td>\n",
       "      <td>2021</td>\n",
       "      <td>7</td>\n",
       "      <td>28</td>\n",
       "      <td>2</td>\n",
       "      <td>209</td>\n",
       "    </tr>\n",
       "    <tr>\n",
       "      <th>392</th>\n",
       "      <td>2021-07-29</td>\n",
       "      <td>69.44</td>\n",
       "      <td>0.0</td>\n",
       "      <td>153.0</td>\n",
       "      <td>393</td>\n",
       "      <td>2021</td>\n",
       "      <td>7</td>\n",
       "      <td>29</td>\n",
       "      <td>3</td>\n",
       "      <td>210</td>\n",
       "    </tr>\n",
       "    <tr>\n",
       "      <th>393</th>\n",
       "      <td>2021-07-30</td>\n",
       "      <td>71.96</td>\n",
       "      <td>4.3</td>\n",
       "      <td>188.0</td>\n",
       "      <td>394</td>\n",
       "      <td>2021</td>\n",
       "      <td>7</td>\n",
       "      <td>30</td>\n",
       "      <td>4</td>\n",
       "      <td>211</td>\n",
       "    </tr>\n",
       "  </tbody>\n",
       "</table>\n",
       "</div>"
      ],
      "text/plain": [
       "          date  MA_Avg_Temp(F)  MA_PRCP(mm)  MA_Conf_Cases  Series  Year  \\\n",
       "389 2021-07-26           77.54          0.0          270.0     390  2021   \n",
       "390 2021-07-27           75.92          6.9          129.0     391  2021   \n",
       "391 2021-07-28           68.00         11.4          123.0     392  2021   \n",
       "392 2021-07-29           69.44          0.0          153.0     393  2021   \n",
       "393 2021-07-30           71.96          4.3          188.0     394  2021   \n",
       "\n",
       "     Month  Day  day_of_week  day_of_year  \n",
       "389      7   26            0          207  \n",
       "390      7   27            1          208  \n",
       "391      7   28            2          209  \n",
       "392      7   29            3          210  \n",
       "393      7   30            4          211  "
      ]
     },
     "execution_count": 49,
     "metadata": {},
     "output_type": "execute_result"
    }
   ],
   "source": [
    "train_me.tail()"
   ]
  },
  {
   "cell_type": "code",
   "execution_count": 54,
   "id": "6e2854b8",
   "metadata": {},
   "outputs": [
    {
     "data": {
      "text/html": [
       "<style  type=\"text/css\" >\n",
       "#T_0105e_row54_col1{\n",
       "            background-color:  lightgreen;\n",
       "        }</style><table id=\"T_0105e_\" ><thead>    <tr>        <th class=\"blank level0\" ></th>        <th class=\"col_heading level0 col0\" >Description</th>        <th class=\"col_heading level0 col1\" >Value</th>    </tr></thead><tbody>\n",
       "                <tr>\n",
       "                        <th id=\"T_0105e_level0_row0\" class=\"row_heading level0 row0\" >0</th>\n",
       "                        <td id=\"T_0105e_row0_col0\" class=\"data row0 col0\" >session_id</td>\n",
       "                        <td id=\"T_0105e_row0_col1\" class=\"data row0 col1\" >123</td>\n",
       "            </tr>\n",
       "            <tr>\n",
       "                        <th id=\"T_0105e_level0_row1\" class=\"row_heading level0 row1\" >1</th>\n",
       "                        <td id=\"T_0105e_row1_col0\" class=\"data row1 col0\" >Target</td>\n",
       "                        <td id=\"T_0105e_row1_col1\" class=\"data row1 col1\" >MA_Conf_Cases</td>\n",
       "            </tr>\n",
       "            <tr>\n",
       "                        <th id=\"T_0105e_level0_row2\" class=\"row_heading level0 row2\" >2</th>\n",
       "                        <td id=\"T_0105e_row2_col0\" class=\"data row2 col0\" >Original Data</td>\n",
       "                        <td id=\"T_0105e_row2_col1\" class=\"data row2 col1\" >(394, 10)</td>\n",
       "            </tr>\n",
       "            <tr>\n",
       "                        <th id=\"T_0105e_level0_row3\" class=\"row_heading level0 row3\" >3</th>\n",
       "                        <td id=\"T_0105e_row3_col0\" class=\"data row3 col0\" >Missing Values</td>\n",
       "                        <td id=\"T_0105e_row3_col1\" class=\"data row3 col1\" >False</td>\n",
       "            </tr>\n",
       "            <tr>\n",
       "                        <th id=\"T_0105e_level0_row4\" class=\"row_heading level0 row4\" >4</th>\n",
       "                        <td id=\"T_0105e_row4_col0\" class=\"data row4 col0\" >Numeric Features</td>\n",
       "                        <td id=\"T_0105e_row4_col1\" class=\"data row4 col1\" >7</td>\n",
       "            </tr>\n",
       "            <tr>\n",
       "                        <th id=\"T_0105e_level0_row5\" class=\"row_heading level0 row5\" >5</th>\n",
       "                        <td id=\"T_0105e_row5_col0\" class=\"data row5 col0\" >Categorical Features</td>\n",
       "                        <td id=\"T_0105e_row5_col1\" class=\"data row5 col1\" >1</td>\n",
       "            </tr>\n",
       "            <tr>\n",
       "                        <th id=\"T_0105e_level0_row6\" class=\"row_heading level0 row6\" >6</th>\n",
       "                        <td id=\"T_0105e_row6_col0\" class=\"data row6 col0\" >Ordinal Features</td>\n",
       "                        <td id=\"T_0105e_row6_col1\" class=\"data row6 col1\" >False</td>\n",
       "            </tr>\n",
       "            <tr>\n",
       "                        <th id=\"T_0105e_level0_row7\" class=\"row_heading level0 row7\" >7</th>\n",
       "                        <td id=\"T_0105e_row7_col0\" class=\"data row7 col0\" >High Cardinality Features</td>\n",
       "                        <td id=\"T_0105e_row7_col1\" class=\"data row7 col1\" >False</td>\n",
       "            </tr>\n",
       "            <tr>\n",
       "                        <th id=\"T_0105e_level0_row8\" class=\"row_heading level0 row8\" >8</th>\n",
       "                        <td id=\"T_0105e_row8_col0\" class=\"data row8 col0\" >High Cardinality Method</td>\n",
       "                        <td id=\"T_0105e_row8_col1\" class=\"data row8 col1\" >None</td>\n",
       "            </tr>\n",
       "            <tr>\n",
       "                        <th id=\"T_0105e_level0_row9\" class=\"row_heading level0 row9\" >9</th>\n",
       "                        <td id=\"T_0105e_row9_col0\" class=\"data row9 col0\" >Transformed Train Set</td>\n",
       "                        <td id=\"T_0105e_row9_col1\" class=\"data row9 col1\" >(394, 25)</td>\n",
       "            </tr>\n",
       "            <tr>\n",
       "                        <th id=\"T_0105e_level0_row10\" class=\"row_heading level0 row10\" >10</th>\n",
       "                        <td id=\"T_0105e_row10_col0\" class=\"data row10 col0\" >Transformed Test Set</td>\n",
       "                        <td id=\"T_0105e_row10_col1\" class=\"data row10 col1\" >(29, 25)</td>\n",
       "            </tr>\n",
       "            <tr>\n",
       "                        <th id=\"T_0105e_level0_row11\" class=\"row_heading level0 row11\" >11</th>\n",
       "                        <td id=\"T_0105e_row11_col0\" class=\"data row11 col0\" >Shuffle Train-Test</td>\n",
       "                        <td id=\"T_0105e_row11_col1\" class=\"data row11 col1\" >True</td>\n",
       "            </tr>\n",
       "            <tr>\n",
       "                        <th id=\"T_0105e_level0_row12\" class=\"row_heading level0 row12\" >12</th>\n",
       "                        <td id=\"T_0105e_row12_col0\" class=\"data row12 col0\" >Stratify Train-Test</td>\n",
       "                        <td id=\"T_0105e_row12_col1\" class=\"data row12 col1\" >False</td>\n",
       "            </tr>\n",
       "            <tr>\n",
       "                        <th id=\"T_0105e_level0_row13\" class=\"row_heading level0 row13\" >13</th>\n",
       "                        <td id=\"T_0105e_row13_col0\" class=\"data row13 col0\" >Fold Generator</td>\n",
       "                        <td id=\"T_0105e_row13_col1\" class=\"data row13 col1\" >TimeSeriesSplit</td>\n",
       "            </tr>\n",
       "            <tr>\n",
       "                        <th id=\"T_0105e_level0_row14\" class=\"row_heading level0 row14\" >14</th>\n",
       "                        <td id=\"T_0105e_row14_col0\" class=\"data row14 col0\" >Fold Number</td>\n",
       "                        <td id=\"T_0105e_row14_col1\" class=\"data row14 col1\" >3</td>\n",
       "            </tr>\n",
       "            <tr>\n",
       "                        <th id=\"T_0105e_level0_row15\" class=\"row_heading level0 row15\" >15</th>\n",
       "                        <td id=\"T_0105e_row15_col0\" class=\"data row15 col0\" >CPU Jobs</td>\n",
       "                        <td id=\"T_0105e_row15_col1\" class=\"data row15 col1\" >-1</td>\n",
       "            </tr>\n",
       "            <tr>\n",
       "                        <th id=\"T_0105e_level0_row16\" class=\"row_heading level0 row16\" >16</th>\n",
       "                        <td id=\"T_0105e_row16_col0\" class=\"data row16 col0\" >Use GPU</td>\n",
       "                        <td id=\"T_0105e_row16_col1\" class=\"data row16 col1\" >False</td>\n",
       "            </tr>\n",
       "            <tr>\n",
       "                        <th id=\"T_0105e_level0_row17\" class=\"row_heading level0 row17\" >17</th>\n",
       "                        <td id=\"T_0105e_row17_col0\" class=\"data row17 col0\" >Log Experiment</td>\n",
       "                        <td id=\"T_0105e_row17_col1\" class=\"data row17 col1\" >False</td>\n",
       "            </tr>\n",
       "            <tr>\n",
       "                        <th id=\"T_0105e_level0_row18\" class=\"row_heading level0 row18\" >18</th>\n",
       "                        <td id=\"T_0105e_row18_col0\" class=\"data row18 col0\" >Experiment Name</td>\n",
       "                        <td id=\"T_0105e_row18_col1\" class=\"data row18 col1\" >reg-default-name</td>\n",
       "            </tr>\n",
       "            <tr>\n",
       "                        <th id=\"T_0105e_level0_row19\" class=\"row_heading level0 row19\" >19</th>\n",
       "                        <td id=\"T_0105e_row19_col0\" class=\"data row19 col0\" >USI</td>\n",
       "                        <td id=\"T_0105e_row19_col1\" class=\"data row19 col1\" >6b70</td>\n",
       "            </tr>\n",
       "            <tr>\n",
       "                        <th id=\"T_0105e_level0_row20\" class=\"row_heading level0 row20\" >20</th>\n",
       "                        <td id=\"T_0105e_row20_col0\" class=\"data row20 col0\" >Imputation Type</td>\n",
       "                        <td id=\"T_0105e_row20_col1\" class=\"data row20 col1\" >simple</td>\n",
       "            </tr>\n",
       "            <tr>\n",
       "                        <th id=\"T_0105e_level0_row21\" class=\"row_heading level0 row21\" >21</th>\n",
       "                        <td id=\"T_0105e_row21_col0\" class=\"data row21 col0\" >Iterative Imputation Iteration</td>\n",
       "                        <td id=\"T_0105e_row21_col1\" class=\"data row21 col1\" >None</td>\n",
       "            </tr>\n",
       "            <tr>\n",
       "                        <th id=\"T_0105e_level0_row22\" class=\"row_heading level0 row22\" >22</th>\n",
       "                        <td id=\"T_0105e_row22_col0\" class=\"data row22 col0\" >Numeric Imputer</td>\n",
       "                        <td id=\"T_0105e_row22_col1\" class=\"data row22 col1\" >mean</td>\n",
       "            </tr>\n",
       "            <tr>\n",
       "                        <th id=\"T_0105e_level0_row23\" class=\"row_heading level0 row23\" >23</th>\n",
       "                        <td id=\"T_0105e_row23_col0\" class=\"data row23 col0\" >Iterative Imputation Numeric Model</td>\n",
       "                        <td id=\"T_0105e_row23_col1\" class=\"data row23 col1\" >None</td>\n",
       "            </tr>\n",
       "            <tr>\n",
       "                        <th id=\"T_0105e_level0_row24\" class=\"row_heading level0 row24\" >24</th>\n",
       "                        <td id=\"T_0105e_row24_col0\" class=\"data row24 col0\" >Categorical Imputer</td>\n",
       "                        <td id=\"T_0105e_row24_col1\" class=\"data row24 col1\" >constant</td>\n",
       "            </tr>\n",
       "            <tr>\n",
       "                        <th id=\"T_0105e_level0_row25\" class=\"row_heading level0 row25\" >25</th>\n",
       "                        <td id=\"T_0105e_row25_col0\" class=\"data row25 col0\" >Iterative Imputation Categorical Model</td>\n",
       "                        <td id=\"T_0105e_row25_col1\" class=\"data row25 col1\" >None</td>\n",
       "            </tr>\n",
       "            <tr>\n",
       "                        <th id=\"T_0105e_level0_row26\" class=\"row_heading level0 row26\" >26</th>\n",
       "                        <td id=\"T_0105e_row26_col0\" class=\"data row26 col0\" >Unknown Categoricals Handling</td>\n",
       "                        <td id=\"T_0105e_row26_col1\" class=\"data row26 col1\" >least_frequent</td>\n",
       "            </tr>\n",
       "            <tr>\n",
       "                        <th id=\"T_0105e_level0_row27\" class=\"row_heading level0 row27\" >27</th>\n",
       "                        <td id=\"T_0105e_row27_col0\" class=\"data row27 col0\" >Normalize</td>\n",
       "                        <td id=\"T_0105e_row27_col1\" class=\"data row27 col1\" >False</td>\n",
       "            </tr>\n",
       "            <tr>\n",
       "                        <th id=\"T_0105e_level0_row28\" class=\"row_heading level0 row28\" >28</th>\n",
       "                        <td id=\"T_0105e_row28_col0\" class=\"data row28 col0\" >Normalize Method</td>\n",
       "                        <td id=\"T_0105e_row28_col1\" class=\"data row28 col1\" >None</td>\n",
       "            </tr>\n",
       "            <tr>\n",
       "                        <th id=\"T_0105e_level0_row29\" class=\"row_heading level0 row29\" >29</th>\n",
       "                        <td id=\"T_0105e_row29_col0\" class=\"data row29 col0\" >Transformation</td>\n",
       "                        <td id=\"T_0105e_row29_col1\" class=\"data row29 col1\" >False</td>\n",
       "            </tr>\n",
       "            <tr>\n",
       "                        <th id=\"T_0105e_level0_row30\" class=\"row_heading level0 row30\" >30</th>\n",
       "                        <td id=\"T_0105e_row30_col0\" class=\"data row30 col0\" >Transformation Method</td>\n",
       "                        <td id=\"T_0105e_row30_col1\" class=\"data row30 col1\" >None</td>\n",
       "            </tr>\n",
       "            <tr>\n",
       "                        <th id=\"T_0105e_level0_row31\" class=\"row_heading level0 row31\" >31</th>\n",
       "                        <td id=\"T_0105e_row31_col0\" class=\"data row31 col0\" >PCA</td>\n",
       "                        <td id=\"T_0105e_row31_col1\" class=\"data row31 col1\" >False</td>\n",
       "            </tr>\n",
       "            <tr>\n",
       "                        <th id=\"T_0105e_level0_row32\" class=\"row_heading level0 row32\" >32</th>\n",
       "                        <td id=\"T_0105e_row32_col0\" class=\"data row32 col0\" >PCA Method</td>\n",
       "                        <td id=\"T_0105e_row32_col1\" class=\"data row32 col1\" >None</td>\n",
       "            </tr>\n",
       "            <tr>\n",
       "                        <th id=\"T_0105e_level0_row33\" class=\"row_heading level0 row33\" >33</th>\n",
       "                        <td id=\"T_0105e_row33_col0\" class=\"data row33 col0\" >PCA Components</td>\n",
       "                        <td id=\"T_0105e_row33_col1\" class=\"data row33 col1\" >None</td>\n",
       "            </tr>\n",
       "            <tr>\n",
       "                        <th id=\"T_0105e_level0_row34\" class=\"row_heading level0 row34\" >34</th>\n",
       "                        <td id=\"T_0105e_row34_col0\" class=\"data row34 col0\" >Ignore Low Variance</td>\n",
       "                        <td id=\"T_0105e_row34_col1\" class=\"data row34 col1\" >False</td>\n",
       "            </tr>\n",
       "            <tr>\n",
       "                        <th id=\"T_0105e_level0_row35\" class=\"row_heading level0 row35\" >35</th>\n",
       "                        <td id=\"T_0105e_row35_col0\" class=\"data row35 col0\" >Combine Rare Levels</td>\n",
       "                        <td id=\"T_0105e_row35_col1\" class=\"data row35 col1\" >False</td>\n",
       "            </tr>\n",
       "            <tr>\n",
       "                        <th id=\"T_0105e_level0_row36\" class=\"row_heading level0 row36\" >36</th>\n",
       "                        <td id=\"T_0105e_row36_col0\" class=\"data row36 col0\" >Rare Level Threshold</td>\n",
       "                        <td id=\"T_0105e_row36_col1\" class=\"data row36 col1\" >None</td>\n",
       "            </tr>\n",
       "            <tr>\n",
       "                        <th id=\"T_0105e_level0_row37\" class=\"row_heading level0 row37\" >37</th>\n",
       "                        <td id=\"T_0105e_row37_col0\" class=\"data row37 col0\" >Numeric Binning</td>\n",
       "                        <td id=\"T_0105e_row37_col1\" class=\"data row37 col1\" >False</td>\n",
       "            </tr>\n",
       "            <tr>\n",
       "                        <th id=\"T_0105e_level0_row38\" class=\"row_heading level0 row38\" >38</th>\n",
       "                        <td id=\"T_0105e_row38_col0\" class=\"data row38 col0\" >Remove Outliers</td>\n",
       "                        <td id=\"T_0105e_row38_col1\" class=\"data row38 col1\" >False</td>\n",
       "            </tr>\n",
       "            <tr>\n",
       "                        <th id=\"T_0105e_level0_row39\" class=\"row_heading level0 row39\" >39</th>\n",
       "                        <td id=\"T_0105e_row39_col0\" class=\"data row39 col0\" >Outliers Threshold</td>\n",
       "                        <td id=\"T_0105e_row39_col1\" class=\"data row39 col1\" >None</td>\n",
       "            </tr>\n",
       "            <tr>\n",
       "                        <th id=\"T_0105e_level0_row40\" class=\"row_heading level0 row40\" >40</th>\n",
       "                        <td id=\"T_0105e_row40_col0\" class=\"data row40 col0\" >Remove Multicollinearity</td>\n",
       "                        <td id=\"T_0105e_row40_col1\" class=\"data row40 col1\" >False</td>\n",
       "            </tr>\n",
       "            <tr>\n",
       "                        <th id=\"T_0105e_level0_row41\" class=\"row_heading level0 row41\" >41</th>\n",
       "                        <td id=\"T_0105e_row41_col0\" class=\"data row41 col0\" >Multicollinearity Threshold</td>\n",
       "                        <td id=\"T_0105e_row41_col1\" class=\"data row41 col1\" >None</td>\n",
       "            </tr>\n",
       "            <tr>\n",
       "                        <th id=\"T_0105e_level0_row42\" class=\"row_heading level0 row42\" >42</th>\n",
       "                        <td id=\"T_0105e_row42_col0\" class=\"data row42 col0\" >Clustering</td>\n",
       "                        <td id=\"T_0105e_row42_col1\" class=\"data row42 col1\" >False</td>\n",
       "            </tr>\n",
       "            <tr>\n",
       "                        <th id=\"T_0105e_level0_row43\" class=\"row_heading level0 row43\" >43</th>\n",
       "                        <td id=\"T_0105e_row43_col0\" class=\"data row43 col0\" >Clustering Iteration</td>\n",
       "                        <td id=\"T_0105e_row43_col1\" class=\"data row43 col1\" >None</td>\n",
       "            </tr>\n",
       "            <tr>\n",
       "                        <th id=\"T_0105e_level0_row44\" class=\"row_heading level0 row44\" >44</th>\n",
       "                        <td id=\"T_0105e_row44_col0\" class=\"data row44 col0\" >Polynomial Features</td>\n",
       "                        <td id=\"T_0105e_row44_col1\" class=\"data row44 col1\" >False</td>\n",
       "            </tr>\n",
       "            <tr>\n",
       "                        <th id=\"T_0105e_level0_row45\" class=\"row_heading level0 row45\" >45</th>\n",
       "                        <td id=\"T_0105e_row45_col0\" class=\"data row45 col0\" >Polynomial Degree</td>\n",
       "                        <td id=\"T_0105e_row45_col1\" class=\"data row45 col1\" >None</td>\n",
       "            </tr>\n",
       "            <tr>\n",
       "                        <th id=\"T_0105e_level0_row46\" class=\"row_heading level0 row46\" >46</th>\n",
       "                        <td id=\"T_0105e_row46_col0\" class=\"data row46 col0\" >Trignometry Features</td>\n",
       "                        <td id=\"T_0105e_row46_col1\" class=\"data row46 col1\" >False</td>\n",
       "            </tr>\n",
       "            <tr>\n",
       "                        <th id=\"T_0105e_level0_row47\" class=\"row_heading level0 row47\" >47</th>\n",
       "                        <td id=\"T_0105e_row47_col0\" class=\"data row47 col0\" >Polynomial Threshold</td>\n",
       "                        <td id=\"T_0105e_row47_col1\" class=\"data row47 col1\" >None</td>\n",
       "            </tr>\n",
       "            <tr>\n",
       "                        <th id=\"T_0105e_level0_row48\" class=\"row_heading level0 row48\" >48</th>\n",
       "                        <td id=\"T_0105e_row48_col0\" class=\"data row48 col0\" >Group Features</td>\n",
       "                        <td id=\"T_0105e_row48_col1\" class=\"data row48 col1\" >False</td>\n",
       "            </tr>\n",
       "            <tr>\n",
       "                        <th id=\"T_0105e_level0_row49\" class=\"row_heading level0 row49\" >49</th>\n",
       "                        <td id=\"T_0105e_row49_col0\" class=\"data row49 col0\" >Feature Selection</td>\n",
       "                        <td id=\"T_0105e_row49_col1\" class=\"data row49 col1\" >False</td>\n",
       "            </tr>\n",
       "            <tr>\n",
       "                        <th id=\"T_0105e_level0_row50\" class=\"row_heading level0 row50\" >50</th>\n",
       "                        <td id=\"T_0105e_row50_col0\" class=\"data row50 col0\" >Features Selection Threshold</td>\n",
       "                        <td id=\"T_0105e_row50_col1\" class=\"data row50 col1\" >None</td>\n",
       "            </tr>\n",
       "            <tr>\n",
       "                        <th id=\"T_0105e_level0_row51\" class=\"row_heading level0 row51\" >51</th>\n",
       "                        <td id=\"T_0105e_row51_col0\" class=\"data row51 col0\" >Feature Interaction</td>\n",
       "                        <td id=\"T_0105e_row51_col1\" class=\"data row51 col1\" >False</td>\n",
       "            </tr>\n",
       "            <tr>\n",
       "                        <th id=\"T_0105e_level0_row52\" class=\"row_heading level0 row52\" >52</th>\n",
       "                        <td id=\"T_0105e_row52_col0\" class=\"data row52 col0\" >Feature Ratio</td>\n",
       "                        <td id=\"T_0105e_row52_col1\" class=\"data row52 col1\" >False</td>\n",
       "            </tr>\n",
       "            <tr>\n",
       "                        <th id=\"T_0105e_level0_row53\" class=\"row_heading level0 row53\" >53</th>\n",
       "                        <td id=\"T_0105e_row53_col0\" class=\"data row53 col0\" >Interaction Threshold</td>\n",
       "                        <td id=\"T_0105e_row53_col1\" class=\"data row53 col1\" >None</td>\n",
       "            </tr>\n",
       "            <tr>\n",
       "                        <th id=\"T_0105e_level0_row54\" class=\"row_heading level0 row54\" >54</th>\n",
       "                        <td id=\"T_0105e_row54_col0\" class=\"data row54 col0\" >Transform Target</td>\n",
       "                        <td id=\"T_0105e_row54_col1\" class=\"data row54 col1\" >True</td>\n",
       "            </tr>\n",
       "            <tr>\n",
       "                        <th id=\"T_0105e_level0_row55\" class=\"row_heading level0 row55\" >55</th>\n",
       "                        <td id=\"T_0105e_row55_col0\" class=\"data row55 col0\" >Transform Target Method</td>\n",
       "                        <td id=\"T_0105e_row55_col1\" class=\"data row55 col1\" >box-cox</td>\n",
       "            </tr>\n",
       "    </tbody></table>"
      ],
      "text/plain": [
       "<pandas.io.formats.style.Styler at 0x150e315b0>"
      ]
     },
     "metadata": {},
     "output_type": "display_data"
    }
   ],
   "source": [
    "# import the regression module\n",
    "from pycaret.regression import *\n",
    "# initialize setup\n",
    "s = setup(data = train_me, test_data = test_me, target = 'MA_Conf_Cases', fold_strategy = 'timeseries', numeric_features = ['Month', 'Year', 'Series'], fold = 3, transform_target = True, session_id = 123)"
   ]
  },
  {
   "cell_type": "code",
   "execution_count": 51,
   "id": "d235bb64",
   "metadata": {},
   "outputs": [
    {
     "data": {
      "text/html": [
       "<style  type=\"text/css\" >\n",
       "    #T_19dc8_ th {\n",
       "          text-align: left;\n",
       "    }#T_19dc8_row0_col0,#T_19dc8_row0_col2,#T_19dc8_row0_col3,#T_19dc8_row0_col4,#T_19dc8_row0_col5,#T_19dc8_row0_col6,#T_19dc8_row1_col0,#T_19dc8_row1_col1,#T_19dc8_row1_col2,#T_19dc8_row1_col3,#T_19dc8_row1_col4,#T_19dc8_row1_col5,#T_19dc8_row1_col6,#T_19dc8_row2_col0,#T_19dc8_row2_col1,#T_19dc8_row2_col2,#T_19dc8_row2_col3,#T_19dc8_row2_col4,#T_19dc8_row2_col5,#T_19dc8_row2_col6,#T_19dc8_row3_col0,#T_19dc8_row3_col1,#T_19dc8_row3_col2,#T_19dc8_row3_col3,#T_19dc8_row3_col4,#T_19dc8_row3_col5,#T_19dc8_row3_col6,#T_19dc8_row4_col0,#T_19dc8_row4_col1,#T_19dc8_row4_col2,#T_19dc8_row5_col0,#T_19dc8_row5_col1,#T_19dc8_row5_col2,#T_19dc8_row5_col3,#T_19dc8_row5_col4,#T_19dc8_row5_col5,#T_19dc8_row5_col6,#T_19dc8_row6_col0,#T_19dc8_row6_col1,#T_19dc8_row6_col2,#T_19dc8_row6_col3,#T_19dc8_row6_col4,#T_19dc8_row6_col5,#T_19dc8_row6_col6,#T_19dc8_row7_col0,#T_19dc8_row7_col1,#T_19dc8_row7_col3,#T_19dc8_row7_col4,#T_19dc8_row7_col5,#T_19dc8_row7_col6,#T_19dc8_row8_col0,#T_19dc8_row8_col1,#T_19dc8_row8_col2,#T_19dc8_row8_col3,#T_19dc8_row8_col4,#T_19dc8_row8_col5,#T_19dc8_row8_col6,#T_19dc8_row9_col0,#T_19dc8_row9_col1,#T_19dc8_row9_col2,#T_19dc8_row9_col3,#T_19dc8_row9_col4,#T_19dc8_row9_col5,#T_19dc8_row9_col6,#T_19dc8_row10_col0,#T_19dc8_row10_col1,#T_19dc8_row10_col2,#T_19dc8_row10_col3,#T_19dc8_row10_col4,#T_19dc8_row10_col5,#T_19dc8_row10_col6,#T_19dc8_row11_col0,#T_19dc8_row11_col1,#T_19dc8_row11_col2,#T_19dc8_row11_col3,#T_19dc8_row11_col4,#T_19dc8_row11_col5,#T_19dc8_row11_col6,#T_19dc8_row12_col0,#T_19dc8_row12_col1,#T_19dc8_row12_col2,#T_19dc8_row12_col3,#T_19dc8_row12_col4,#T_19dc8_row12_col5,#T_19dc8_row12_col6,#T_19dc8_row13_col0,#T_19dc8_row13_col1,#T_19dc8_row13_col2,#T_19dc8_row13_col3,#T_19dc8_row13_col4,#T_19dc8_row13_col5,#T_19dc8_row13_col6,#T_19dc8_row14_col0,#T_19dc8_row14_col1,#T_19dc8_row14_col2,#T_19dc8_row14_col3,#T_19dc8_row14_col4,#T_19dc8_row14_col5,#T_19dc8_row14_col6,#T_19dc8_row15_col0,#T_19dc8_row15_col1,#T_19dc8_row15_col2,#T_19dc8_row15_col3,#T_19dc8_row15_col4,#T_19dc8_row15_col5,#T_19dc8_row15_col6,#T_19dc8_row16_col0,#T_19dc8_row16_col1,#T_19dc8_row16_col2,#T_19dc8_row16_col3,#T_19dc8_row16_col4,#T_19dc8_row16_col5,#T_19dc8_row16_col6,#T_19dc8_row17_col0,#T_19dc8_row17_col1,#T_19dc8_row17_col2,#T_19dc8_row17_col3,#T_19dc8_row17_col4,#T_19dc8_row17_col5,#T_19dc8_row17_col6,#T_19dc8_row18_col0,#T_19dc8_row18_col1,#T_19dc8_row18_col2,#T_19dc8_row18_col3,#T_19dc8_row18_col4,#T_19dc8_row18_col5,#T_19dc8_row18_col6{\n",
       "            text-align:  left;\n",
       "            text-align:  left;\n",
       "        }#T_19dc8_row0_col1,#T_19dc8_row4_col3,#T_19dc8_row4_col4,#T_19dc8_row4_col5,#T_19dc8_row4_col6,#T_19dc8_row7_col2{\n",
       "            text-align:  left;\n",
       "            text-align:  left;\n",
       "            background-color:  yellow;\n",
       "        }#T_19dc8_row0_col7,#T_19dc8_row7_col7,#T_19dc8_row11_col7,#T_19dc8_row15_col7{\n",
       "            text-align:  left;\n",
       "            text-align:  left;\n",
       "            background-color:  yellow;\n",
       "            background-color:  lightgrey;\n",
       "        }#T_19dc8_row1_col7,#T_19dc8_row2_col7,#T_19dc8_row3_col7,#T_19dc8_row4_col7,#T_19dc8_row5_col7,#T_19dc8_row6_col7,#T_19dc8_row8_col7,#T_19dc8_row9_col7,#T_19dc8_row10_col7,#T_19dc8_row12_col7,#T_19dc8_row13_col7,#T_19dc8_row14_col7,#T_19dc8_row16_col7,#T_19dc8_row17_col7,#T_19dc8_row18_col7{\n",
       "            text-align:  left;\n",
       "            text-align:  left;\n",
       "            background-color:  lightgrey;\n",
       "        }</style><table id=\"T_19dc8_\" ><thead>    <tr>        <th class=\"blank level0\" ></th>        <th class=\"col_heading level0 col0\" >Model</th>        <th class=\"col_heading level0 col1\" >MAE</th>        <th class=\"col_heading level0 col2\" >MSE</th>        <th class=\"col_heading level0 col3\" >RMSE</th>        <th class=\"col_heading level0 col4\" >R2</th>        <th class=\"col_heading level0 col5\" >RMSLE</th>        <th class=\"col_heading level0 col6\" >MAPE</th>        <th class=\"col_heading level0 col7\" >TT (Sec)</th>    </tr></thead><tbody>\n",
       "                <tr>\n",
       "                        <th id=\"T_19dc8_level0_row0\" class=\"row_heading level0 row0\" >llar</th>\n",
       "                        <td id=\"T_19dc8_row0_col0\" class=\"data row0 col0\" >Lasso Least Angle Regression</td>\n",
       "                        <td id=\"T_19dc8_row0_col1\" class=\"data row0 col1\" >1.4786</td>\n",
       "                        <td id=\"T_19dc8_row0_col2\" class=\"data row0 col2\" >6.9075</td>\n",
       "                        <td id=\"T_19dc8_row0_col3\" class=\"data row0 col3\" >2.2212</td>\n",
       "                        <td id=\"T_19dc8_row0_col4\" class=\"data row0 col4\" >-0.4344</td>\n",
       "                        <td id=\"T_19dc8_row0_col5\" class=\"data row0 col5\" >0.7317</td>\n",
       "                        <td id=\"T_19dc8_row0_col6\" class=\"data row0 col6\" >0.8268</td>\n",
       "                        <td id=\"T_19dc8_row0_col7\" class=\"data row0 col7\" >0.0067</td>\n",
       "            </tr>\n",
       "            <tr>\n",
       "                        <th id=\"T_19dc8_level0_row1\" class=\"row_heading level0 row1\" >lasso</th>\n",
       "                        <td id=\"T_19dc8_row1_col0\" class=\"data row1 col0\" >Lasso Regression</td>\n",
       "                        <td id=\"T_19dc8_row1_col1\" class=\"data row1 col1\" >1.5223</td>\n",
       "                        <td id=\"T_19dc8_row1_col2\" class=\"data row1 col2\" >7.3642</td>\n",
       "                        <td id=\"T_19dc8_row1_col3\" class=\"data row1 col3\" >2.3006</td>\n",
       "                        <td id=\"T_19dc8_row1_col4\" class=\"data row1 col4\" >-0.5065</td>\n",
       "                        <td id=\"T_19dc8_row1_col5\" class=\"data row1 col5\" >0.7683</td>\n",
       "                        <td id=\"T_19dc8_row1_col6\" class=\"data row1 col6\" >0.9369</td>\n",
       "                        <td id=\"T_19dc8_row1_col7\" class=\"data row1 col7\" >0.0100</td>\n",
       "            </tr>\n",
       "            <tr>\n",
       "                        <th id=\"T_19dc8_level0_row2\" class=\"row_heading level0 row2\" >par</th>\n",
       "                        <td id=\"T_19dc8_row2_col0\" class=\"data row2 col0\" >Passive Aggressive Regressor</td>\n",
       "                        <td id=\"T_19dc8_row2_col1\" class=\"data row2 col1\" >1.5255</td>\n",
       "                        <td id=\"T_19dc8_row2_col2\" class=\"data row2 col2\" >7.5158</td>\n",
       "                        <td id=\"T_19dc8_row2_col3\" class=\"data row2 col3\" >2.3264</td>\n",
       "                        <td id=\"T_19dc8_row2_col4\" class=\"data row2 col4\" >-0.5305</td>\n",
       "                        <td id=\"T_19dc8_row2_col5\" class=\"data row2 col5\" >0.7883</td>\n",
       "                        <td id=\"T_19dc8_row2_col6\" class=\"data row2 col6\" >0.9522</td>\n",
       "                        <td id=\"T_19dc8_row2_col7\" class=\"data row2 col7\" >0.0100</td>\n",
       "            </tr>\n",
       "            <tr>\n",
       "                        <th id=\"T_19dc8_level0_row3\" class=\"row_heading level0 row3\" >en</th>\n",
       "                        <td id=\"T_19dc8_row3_col0\" class=\"data row3 col0\" >Elastic Net</td>\n",
       "                        <td id=\"T_19dc8_row3_col1\" class=\"data row3 col1\" >1.5311</td>\n",
       "                        <td id=\"T_19dc8_row3_col2\" class=\"data row3 col2\" >7.3966</td>\n",
       "                        <td id=\"T_19dc8_row3_col3\" class=\"data row3 col3\" >2.3059</td>\n",
       "                        <td id=\"T_19dc8_row3_col4\" class=\"data row3 col4\" >-0.5116</td>\n",
       "                        <td id=\"T_19dc8_row3_col5\" class=\"data row3 col5\" >0.7692</td>\n",
       "                        <td id=\"T_19dc8_row3_col6\" class=\"data row3 col6\" >0.9420</td>\n",
       "                        <td id=\"T_19dc8_row3_col7\" class=\"data row3 col7\" >0.0100</td>\n",
       "            </tr>\n",
       "            <tr>\n",
       "                        <th id=\"T_19dc8_level0_row4\" class=\"row_heading level0 row4\" >catboost</th>\n",
       "                        <td id=\"T_19dc8_row4_col0\" class=\"data row4 col0\" >CatBoost Regressor</td>\n",
       "                        <td id=\"T_19dc8_row4_col1\" class=\"data row4 col1\" >1.5483</td>\n",
       "                        <td id=\"T_19dc8_row4_col2\" class=\"data row4 col2\" >6.8729</td>\n",
       "                        <td id=\"T_19dc8_row4_col3\" class=\"data row4 col3\" >2.1196</td>\n",
       "                        <td id=\"T_19dc8_row4_col4\" class=\"data row4 col4\" >-0.4144</td>\n",
       "                        <td id=\"T_19dc8_row4_col5\" class=\"data row4 col5\" >0.6984</td>\n",
       "                        <td id=\"T_19dc8_row4_col6\" class=\"data row4 col6\" >0.5505</td>\n",
       "                        <td id=\"T_19dc8_row4_col7\" class=\"data row4 col7\" >0.2200</td>\n",
       "            </tr>\n",
       "            <tr>\n",
       "                        <th id=\"T_19dc8_level0_row5\" class=\"row_heading level0 row5\" >knn</th>\n",
       "                        <td id=\"T_19dc8_row5_col0\" class=\"data row5 col0\" >K Neighbors Regressor</td>\n",
       "                        <td id=\"T_19dc8_row5_col1\" class=\"data row5 col1\" >1.5660</td>\n",
       "                        <td id=\"T_19dc8_row5_col2\" class=\"data row5 col2\" >7.8836</td>\n",
       "                        <td id=\"T_19dc8_row5_col3\" class=\"data row5 col3\" >2.3835</td>\n",
       "                        <td id=\"T_19dc8_row5_col4\" class=\"data row5 col4\" >-0.5885</td>\n",
       "                        <td id=\"T_19dc8_row5_col5\" class=\"data row5 col5\" >0.8494</td>\n",
       "                        <td id=\"T_19dc8_row5_col6\" class=\"data row5 col6\" >0.9993</td>\n",
       "                        <td id=\"T_19dc8_row5_col7\" class=\"data row5 col7\" >0.0133</td>\n",
       "            </tr>\n",
       "            <tr>\n",
       "                        <th id=\"T_19dc8_level0_row6\" class=\"row_heading level0 row6\" >huber</th>\n",
       "                        <td id=\"T_19dc8_row6_col0\" class=\"data row6 col0\" >Huber Regressor</td>\n",
       "                        <td id=\"T_19dc8_row6_col1\" class=\"data row6 col1\" >1.5784</td>\n",
       "                        <td id=\"T_19dc8_row6_col2\" class=\"data row6 col2\" >7.8933</td>\n",
       "                        <td id=\"T_19dc8_row6_col3\" class=\"data row6 col3\" >2.3850</td>\n",
       "                        <td id=\"T_19dc8_row6_col4\" class=\"data row6 col4\" >-0.5900</td>\n",
       "                        <td id=\"T_19dc8_row6_col5\" class=\"data row6 col5\" >0.8241</td>\n",
       "                        <td id=\"T_19dc8_row6_col6\" class=\"data row6 col6\" >0.9990</td>\n",
       "                        <td id=\"T_19dc8_row6_col7\" class=\"data row6 col7\" >0.0167</td>\n",
       "            </tr>\n",
       "            <tr>\n",
       "                        <th id=\"T_19dc8_level0_row7\" class=\"row_heading level0 row7\" >br</th>\n",
       "                        <td id=\"T_19dc8_row7_col0\" class=\"data row7 col0\" >Bayesian Ridge</td>\n",
       "                        <td id=\"T_19dc8_row7_col1\" class=\"data row7 col1\" >1.6807</td>\n",
       "                        <td id=\"T_19dc8_row7_col2\" class=\"data row7 col2\" >6.8670</td>\n",
       "                        <td id=\"T_19dc8_row7_col3\" class=\"data row7 col3\" >2.2126</td>\n",
       "                        <td id=\"T_19dc8_row7_col4\" class=\"data row7 col4\" >-0.4279</td>\n",
       "                        <td id=\"T_19dc8_row7_col5\" class=\"data row7 col5\" >0.7908</td>\n",
       "                        <td id=\"T_19dc8_row7_col6\" class=\"data row7 col6\" >0.9878</td>\n",
       "                        <td id=\"T_19dc8_row7_col7\" class=\"data row7 col7\" >0.0067</td>\n",
       "            </tr>\n",
       "            <tr>\n",
       "                        <th id=\"T_19dc8_level0_row8\" class=\"row_heading level0 row8\" >gbr</th>\n",
       "                        <td id=\"T_19dc8_row8_col0\" class=\"data row8 col0\" >Gradient Boosting Regressor</td>\n",
       "                        <td id=\"T_19dc8_row8_col1\" class=\"data row8 col1\" >1.6893</td>\n",
       "                        <td id=\"T_19dc8_row8_col2\" class=\"data row8 col2\" >7.6298</td>\n",
       "                        <td id=\"T_19dc8_row8_col3\" class=\"data row8 col3\" >2.3432</td>\n",
       "                        <td id=\"T_19dc8_row8_col4\" class=\"data row8 col4\" >-0.5484</td>\n",
       "                        <td id=\"T_19dc8_row8_col5\" class=\"data row8 col5\" >0.7943</td>\n",
       "                        <td id=\"T_19dc8_row8_col6\" class=\"data row8 col6\" >1.0103</td>\n",
       "                        <td id=\"T_19dc8_row8_col7\" class=\"data row8 col7\" >0.0300</td>\n",
       "            </tr>\n",
       "            <tr>\n",
       "                        <th id=\"T_19dc8_level0_row9\" class=\"row_heading level0 row9\" >ada</th>\n",
       "                        <td id=\"T_19dc8_row9_col0\" class=\"data row9 col0\" >AdaBoost Regressor</td>\n",
       "                        <td id=\"T_19dc8_row9_col1\" class=\"data row9 col1\" >1.6907</td>\n",
       "                        <td id=\"T_19dc8_row9_col2\" class=\"data row9 col2\" >7.0719</td>\n",
       "                        <td id=\"T_19dc8_row9_col3\" class=\"data row9 col3\" >2.2505</td>\n",
       "                        <td id=\"T_19dc8_row9_col4\" class=\"data row9 col4\" >-0.4603</td>\n",
       "                        <td id=\"T_19dc8_row9_col5\" class=\"data row9 col5\" >0.7952</td>\n",
       "                        <td id=\"T_19dc8_row9_col6\" class=\"data row9 col6\" >0.9941</td>\n",
       "                        <td id=\"T_19dc8_row9_col7\" class=\"data row9 col7\" >0.0333</td>\n",
       "            </tr>\n",
       "            <tr>\n",
       "                        <th id=\"T_19dc8_level0_row10\" class=\"row_heading level0 row10\" >et</th>\n",
       "                        <td id=\"T_19dc8_row10_col0\" class=\"data row10 col0\" >Extra Trees Regressor</td>\n",
       "                        <td id=\"T_19dc8_row10_col1\" class=\"data row10 col1\" >1.7070</td>\n",
       "                        <td id=\"T_19dc8_row10_col2\" class=\"data row10 col2\" >7.3515</td>\n",
       "                        <td id=\"T_19dc8_row10_col3\" class=\"data row10 col3\" >2.2973</td>\n",
       "                        <td id=\"T_19dc8_row10_col4\" class=\"data row10 col4\" >-0.5044</td>\n",
       "                        <td id=\"T_19dc8_row10_col5\" class=\"data row10 col5\" >0.8104</td>\n",
       "                        <td id=\"T_19dc8_row10_col6\" class=\"data row10 col6\" >0.9811</td>\n",
       "                        <td id=\"T_19dc8_row10_col7\" class=\"data row10 col7\" >0.0667</td>\n",
       "            </tr>\n",
       "            <tr>\n",
       "                        <th id=\"T_19dc8_level0_row11\" class=\"row_heading level0 row11\" >ridge</th>\n",
       "                        <td id=\"T_19dc8_row11_col0\" class=\"data row11 col0\" >Ridge Regression</td>\n",
       "                        <td id=\"T_19dc8_row11_col1\" class=\"data row11 col1\" >1.7121</td>\n",
       "                        <td id=\"T_19dc8_row11_col2\" class=\"data row11 col2\" >6.9908</td>\n",
       "                        <td id=\"T_19dc8_row11_col3\" class=\"data row11 col3\" >2.2368</td>\n",
       "                        <td id=\"T_19dc8_row11_col4\" class=\"data row11 col4\" >-0.4475</td>\n",
       "                        <td id=\"T_19dc8_row11_col5\" class=\"data row11 col5\" >0.7975</td>\n",
       "                        <td id=\"T_19dc8_row11_col6\" class=\"data row11 col6\" >1.0147</td>\n",
       "                        <td id=\"T_19dc8_row11_col7\" class=\"data row11 col7\" >0.0067</td>\n",
       "            </tr>\n",
       "            <tr>\n",
       "                        <th id=\"T_19dc8_level0_row12\" class=\"row_heading level0 row12\" >lightgbm</th>\n",
       "                        <td id=\"T_19dc8_row12_col0\" class=\"data row12 col0\" >Light Gradient Boosting Machine</td>\n",
       "                        <td id=\"T_19dc8_row12_col1\" class=\"data row12 col1\" >1.7305</td>\n",
       "                        <td id=\"T_19dc8_row12_col2\" class=\"data row12 col2\" >7.2549</td>\n",
       "                        <td id=\"T_19dc8_row12_col3\" class=\"data row12 col3\" >2.2808</td>\n",
       "                        <td id=\"T_19dc8_row12_col4\" class=\"data row12 col4\" >-0.4892</td>\n",
       "                        <td id=\"T_19dc8_row12_col5\" class=\"data row12 col5\" >0.8081</td>\n",
       "                        <td id=\"T_19dc8_row12_col6\" class=\"data row12 col6\" >1.0125</td>\n",
       "                        <td id=\"T_19dc8_row12_col7\" class=\"data row12 col7\" >0.1600</td>\n",
       "            </tr>\n",
       "            <tr>\n",
       "                        <th id=\"T_19dc8_level0_row13\" class=\"row_heading level0 row13\" >omp</th>\n",
       "                        <td id=\"T_19dc8_row13_col0\" class=\"data row13 col0\" >Orthogonal Matching Pursuit</td>\n",
       "                        <td id=\"T_19dc8_row13_col1\" class=\"data row13 col1\" >1.7365</td>\n",
       "                        <td id=\"T_19dc8_row13_col2\" class=\"data row13 col2\" >7.0850</td>\n",
       "                        <td id=\"T_19dc8_row13_col3\" class=\"data row13 col3\" >2.2518</td>\n",
       "                        <td id=\"T_19dc8_row13_col4\" class=\"data row13 col4\" >-0.4624</td>\n",
       "                        <td id=\"T_19dc8_row13_col5\" class=\"data row13 col5\" >0.8132</td>\n",
       "                        <td id=\"T_19dc8_row13_col6\" class=\"data row13 col6\" >1.0369</td>\n",
       "                        <td id=\"T_19dc8_row13_col7\" class=\"data row13 col7\" >0.0100</td>\n",
       "            </tr>\n",
       "            <tr>\n",
       "                        <th id=\"T_19dc8_level0_row14\" class=\"row_heading level0 row14\" >rf</th>\n",
       "                        <td id=\"T_19dc8_row14_col0\" class=\"data row14 col0\" >Random Forest Regressor</td>\n",
       "                        <td id=\"T_19dc8_row14_col1\" class=\"data row14 col1\" >1.8266</td>\n",
       "                        <td id=\"T_19dc8_row14_col2\" class=\"data row14 col2\" >8.5109</td>\n",
       "                        <td id=\"T_19dc8_row14_col3\" class=\"data row14 col3\" >2.4774</td>\n",
       "                        <td id=\"T_19dc8_row14_col4\" class=\"data row14 col4\" >-0.6876</td>\n",
       "                        <td id=\"T_19dc8_row14_col5\" class=\"data row14 col5\" >0.8245</td>\n",
       "                        <td id=\"T_19dc8_row14_col6\" class=\"data row14 col6\" >1.1092</td>\n",
       "                        <td id=\"T_19dc8_row14_col7\" class=\"data row14 col7\" >0.0833</td>\n",
       "            </tr>\n",
       "            <tr>\n",
       "                        <th id=\"T_19dc8_level0_row15\" class=\"row_heading level0 row15\" >lr</th>\n",
       "                        <td id=\"T_19dc8_row15_col0\" class=\"data row15 col0\" >Linear Regression</td>\n",
       "                        <td id=\"T_19dc8_row15_col1\" class=\"data row15 col1\" >1.9350</td>\n",
       "                        <td id=\"T_19dc8_row15_col2\" class=\"data row15 col2\" >8.2911</td>\n",
       "                        <td id=\"T_19dc8_row15_col3\" class=\"data row15 col3\" >2.4459</td>\n",
       "                        <td id=\"T_19dc8_row15_col4\" class=\"data row15 col4\" >-0.6530</td>\n",
       "                        <td id=\"T_19dc8_row15_col5\" class=\"data row15 col5\" >0.8530</td>\n",
       "                        <td id=\"T_19dc8_row15_col6\" class=\"data row15 col6\" >1.1810</td>\n",
       "                        <td id=\"T_19dc8_row15_col7\" class=\"data row15 col7\" >0.0067</td>\n",
       "            </tr>\n",
       "            <tr>\n",
       "                        <th id=\"T_19dc8_level0_row16\" class=\"row_heading level0 row16\" >xgboost</th>\n",
       "                        <td id=\"T_19dc8_row16_col0\" class=\"data row16 col0\" >Extreme Gradient Boosting</td>\n",
       "                        <td id=\"T_19dc8_row16_col1\" class=\"data row16 col1\" >1.9418</td>\n",
       "                        <td id=\"T_19dc8_row16_col2\" class=\"data row16 col2\" >10.1998</td>\n",
       "                        <td id=\"T_19dc8_row16_col3\" class=\"data row16 col3\" >2.6980</td>\n",
       "                        <td id=\"T_19dc8_row16_col4\" class=\"data row16 col4\" >-0.9544</td>\n",
       "                        <td id=\"T_19dc8_row16_col5\" class=\"data row16 col5\" >0.8546</td>\n",
       "                        <td id=\"T_19dc8_row16_col6\" class=\"data row16 col6\" >1.1690</td>\n",
       "                        <td id=\"T_19dc8_row16_col7\" class=\"data row16 col7\" >0.1733</td>\n",
       "            </tr>\n",
       "            <tr>\n",
       "                        <th id=\"T_19dc8_level0_row17\" class=\"row_heading level0 row17\" >dt</th>\n",
       "                        <td id=\"T_19dc8_row17_col0\" class=\"data row17 col0\" >Decision Tree Regressor</td>\n",
       "                        <td id=\"T_19dc8_row17_col1\" class=\"data row17 col1\" >2.1000</td>\n",
       "                        <td id=\"T_19dc8_row17_col2\" class=\"data row17 col2\" >14.7067</td>\n",
       "                        <td id=\"T_19dc8_row17_col3\" class=\"data row17 col3\" >3.1606</td>\n",
       "                        <td id=\"T_19dc8_row17_col4\" class=\"data row17 col4\" >-1.6665</td>\n",
       "                        <td id=\"T_19dc8_row17_col5\" class=\"data row17 col5\" >0.8898</td>\n",
       "                        <td id=\"T_19dc8_row17_col6\" class=\"data row17 col6\" >1.4324</td>\n",
       "                        <td id=\"T_19dc8_row17_col7\" class=\"data row17 col7\" >0.0100</td>\n",
       "            </tr>\n",
       "            <tr>\n",
       "                        <th id=\"T_19dc8_level0_row18\" class=\"row_heading level0 row18\" >lar</th>\n",
       "                        <td id=\"T_19dc8_row18_col0\" class=\"data row18 col0\" >Least Angle Regression</td>\n",
       "                        <td id=\"T_19dc8_row18_col1\" class=\"data row18 col1\" >70.3962</td>\n",
       "                        <td id=\"T_19dc8_row18_col2\" class=\"data row18 col2\" >14653.4221</td>\n",
       "                        <td id=\"T_19dc8_row18_col3\" class=\"data row18 col3\" >71.1869</td>\n",
       "                        <td id=\"T_19dc8_row18_col4\" class=\"data row18 col4\" >-2314.2962</td>\n",
       "                        <td id=\"T_19dc8_row18_col5\" class=\"data row18 col5\" >2.0111</td>\n",
       "                        <td id=\"T_19dc8_row18_col6\" class=\"data row18 col6\" >39.0524</td>\n",
       "                        <td id=\"T_19dc8_row18_col7\" class=\"data row18 col7\" >0.0100</td>\n",
       "            </tr>\n",
       "    </tbody></table>"
      ],
      "text/plain": [
       "<pandas.io.formats.style.Styler at 0x14f176040>"
      ]
     },
     "metadata": {},
     "output_type": "display_data"
    }
   ],
   "source": [
    "best = compare_models(sort = 'MAE')"
   ]
  },
  {
   "cell_type": "code",
   "execution_count": 79,
   "id": "3443de38",
   "metadata": {},
   "outputs": [
    {
     "data": {
      "text/plain": [
       "ExtraTreesRegressor(bootstrap=False, ccp_alpha=0.0, criterion='mse',\n",
       "                    max_depth=None, max_features='auto', max_leaf_nodes=None,\n",
       "                    max_samples=None, min_impurity_decrease=0.0,\n",
       "                    min_impurity_split=None, min_samples_leaf=1,\n",
       "                    min_samples_split=2, min_weight_fraction_leaf=0.0,\n",
       "                    n_estimators=100, n_jobs=-1, oob_score=False,\n",
       "                    random_state=123, verbose=0, warm_start=False)"
      ]
     },
     "execution_count": 79,
     "metadata": {},
     "output_type": "execute_result"
    }
   ],
   "source": [
    "from pycaret.regression import *\n",
    "df_subset = df_me2\n",
    "all_results=[]\n",
    "\n",
    "# initialize setup from pycaret.regression\n",
    "s = setup(df_subset, target = 'MA_Conf_Cases', train_size = 0.8,\n",
    "            data_split_shuffle = True, fold = 3,\n",
    "            ignore_features = ['date', 'Series', 'MA_PRCP(mm)'],\n",
    "            numeric_features = ['day_of_year', 'Year', 'MA_Avg_Temp(F)'],\n",
    "            categorical_features = ['Month', 'day_of_week'],\n",
    "            silent = True, verbose = False, session_id = 123,\n",
    "            normalize=True)\n",
    "    \n",
    "# compare all models and select best one based on MAE\n",
    "best_model = compare_models(sort = 'MAE', verbose=False)\n",
    "    \n",
    "# capture the compare result grid and store best model in list\n",
    "p = pull().iloc[0:1]\n",
    "p['time_series'] = str(\"ME\")\n",
    "all_results.append(p)\n",
    "    \n",
    "# finalize model i.e. fit on entire data including test set\n",
    "f = finalize_model(best_model)\n",
    "best_model"
   ]
  },
  {
   "cell_type": "code",
   "execution_count": 80,
   "id": "43f71f05",
   "metadata": {},
   "outputs": [
    {
     "data": {
      "text/html": [
       "<div>\n",
       "<style scoped>\n",
       "    .dataframe tbody tr th:only-of-type {\n",
       "        vertical-align: middle;\n",
       "    }\n",
       "\n",
       "    .dataframe tbody tr th {\n",
       "        vertical-align: top;\n",
       "    }\n",
       "\n",
       "    .dataframe thead th {\n",
       "        text-align: right;\n",
       "    }\n",
       "</style>\n",
       "<table border=\"1\" class=\"dataframe\">\n",
       "  <thead>\n",
       "    <tr style=\"text-align: right;\">\n",
       "      <th></th>\n",
       "      <th>Model</th>\n",
       "      <th>MAE</th>\n",
       "      <th>MSE</th>\n",
       "      <th>RMSE</th>\n",
       "      <th>R2</th>\n",
       "      <th>RMSLE</th>\n",
       "      <th>MAPE</th>\n",
       "      <th>TT (Sec)</th>\n",
       "      <th>time_series</th>\n",
       "    </tr>\n",
       "  </thead>\n",
       "  <tbody>\n",
       "    <tr>\n",
       "      <th>et</th>\n",
       "      <td>Extra Trees Regressor</td>\n",
       "      <td>62.1185</td>\n",
       "      <td>12943.0989</td>\n",
       "      <td>113.3594</td>\n",
       "      <td>0.8498</td>\n",
       "      <td>0.5677</td>\n",
       "      <td>0.3322</td>\n",
       "      <td>0.0667</td>\n",
       "      <td>ME</td>\n",
       "    </tr>\n",
       "  </tbody>\n",
       "</table>\n",
       "</div>"
      ],
      "text/plain": [
       "                    Model      MAE         MSE      RMSE      R2   RMSLE  \\\n",
       "et  Extra Trees Regressor  62.1185  12943.0989  113.3594  0.8498  0.5677   \n",
       "\n",
       "      MAPE  TT (Sec) time_series  \n",
       "et  0.3322    0.0667          ME  "
      ]
     },
     "execution_count": 80,
     "metadata": {},
     "output_type": "execute_result"
    }
   ],
   "source": [
    "concat_results = pd.concat(all_results,axis=0)\n",
    "concat_results.head()"
   ]
  },
  {
   "cell_type": "code",
   "execution_count": null,
   "id": "1109540d",
   "metadata": {},
   "outputs": [],
   "source": [
    "sca"
   ]
  },
  {
   "cell_type": "code",
   "execution_count": null,
   "id": "c43790ed",
   "metadata": {},
   "outputs": [],
   "source": []
  },
  {
   "cell_type": "markdown",
   "id": "be54bdfa",
   "metadata": {},
   "source": []
  },
  {
   "cell_type": "markdown",
   "id": "2853eb95",
   "metadata": {},
   "source": [
    "## Pycaret Regression Model"
   ]
  },
  {
   "cell_type": "code",
   "execution_count": null,
   "id": "f3346360",
   "metadata": {},
   "outputs": [],
   "source": []
  },
  {
   "cell_type": "code",
   "execution_count": null,
   "id": "91f90919",
   "metadata": {},
   "outputs": [],
   "source": []
  },
  {
   "cell_type": "code",
   "execution_count": null,
   "id": "a647257d",
   "metadata": {},
   "outputs": [],
   "source": []
  },
  {
   "cell_type": "code",
   "execution_count": null,
   "id": "57cf0f44",
   "metadata": {
    "scrolled": true
   },
   "outputs": [],
   "source": [
    "# split data into train-test set\n",
    "train_ma = df_ma[df_ma.index < '2021-06-01']\n",
    "test_ma = df_ma[df_ma.index >= '2021-06-01']\n",
    "# check shape\n",
    "train_ma.shape, test_ma.shape"
   ]
  },
  {
   "cell_type": "code",
   "execution_count": null,
   "id": "582fd114",
   "metadata": {},
   "outputs": [],
   "source": [
    "# initialize setup\n",
    "s = setup(data = train_ma, test_data = test_ma, target = 'MA_Conf_Cases', fold_strategy = 'timeseries', numeric_features = ['Year', 'Series'], fold = 3, transform_target = True, session_id = 123)"
   ]
  },
  {
   "cell_type": "code",
   "execution_count": null,
   "id": "1affea38",
   "metadata": {},
   "outputs": [],
   "source": [
    "# import the regression module\n",
    "from pycaret.regression import *\n",
    "# initialize setup\n",
    "s = setup(data = train_ma, test_data = test_ma, target = 'MA_Conf_Cases', fold_strategy = 'timeseries', numeric_features = df_ma.index, fold = 3, transform_target = True, session_id = 123)\n",
    "\n"
   ]
  },
  {
   "cell_type": "code",
   "execution_count": null,
   "id": "7ff811a8",
   "metadata": {},
   "outputs": [],
   "source": []
  },
  {
   "cell_type": "code",
   "execution_count": null,
   "id": "273a6e01",
   "metadata": {},
   "outputs": [],
   "source": []
  },
  {
   "cell_type": "code",
   "execution_count": null,
   "id": "53a2aa5f",
   "metadata": {},
   "outputs": [],
   "source": []
  }
 ],
 "metadata": {
  "kernelspec": {
   "display_name": "Python 3",
   "language": "python",
   "name": "python3"
  },
  "language_info": {
   "codemirror_mode": {
    "name": "ipython",
    "version": 3
   },
   "file_extension": ".py",
   "mimetype": "text/x-python",
   "name": "python",
   "nbconvert_exporter": "python",
   "pygments_lexer": "ipython3",
   "version": "3.8.8"
  }
 },
 "nbformat": 4,
 "nbformat_minor": 5
}
