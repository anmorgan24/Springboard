{
 "cells": [
  {
   "cell_type": "markdown",
   "id": "7fc3b147",
   "metadata": {},
   "source": [
    "# Pre-processing "
   ]
  },
  {
   "cell_type": "code",
   "execution_count": 3,
   "id": "9bd136d1",
   "metadata": {},
   "outputs": [],
   "source": [
    "import pandas as pd\n",
    "import numpy as np\n",
    "from statsmodels.tsa.stattools import adfuller\n",
    "import matplotlib.pyplot as plt\n",
    "import pycaret"
   ]
  },
  {
   "cell_type": "code",
   "execution_count": 4,
   "id": "107bbb45",
   "metadata": {},
   "outputs": [],
   "source": [
    "#load dataframe\n",
    "#parse datetime column\n",
    "df=pd.read_csv('state_cov_weather.csv', parse_dates=[0])\n",
    "df.set_index('date', inplace= True)"
   ]
  },
  {
   "cell_type": "code",
   "execution_count": 5,
   "id": "49e31a00",
   "metadata": {},
   "outputs": [
    {
     "data": {
      "text/html": [
       "<div>\n",
       "<style scoped>\n",
       "    .dataframe tbody tr th:only-of-type {\n",
       "        vertical-align: middle;\n",
       "    }\n",
       "\n",
       "    .dataframe tbody tr th {\n",
       "        vertical-align: top;\n",
       "    }\n",
       "\n",
       "    .dataframe thead th {\n",
       "        text-align: right;\n",
       "    }\n",
       "</style>\n",
       "<table border=\"1\" class=\"dataframe\">\n",
       "  <thead>\n",
       "    <tr style=\"text-align: right;\">\n",
       "      <th></th>\n",
       "      <th>VT_Avg_Temp(F)</th>\n",
       "      <th>VT_PRCP(mm)</th>\n",
       "      <th>ME_Avg_Temp(F)</th>\n",
       "      <th>ME_PRCP(mm)</th>\n",
       "      <th>CT_Avg_Temp(F)</th>\n",
       "      <th>CT_PRCP(mm)</th>\n",
       "      <th>MA_Avg_Temp(F)</th>\n",
       "      <th>MA_PRCP(mm)</th>\n",
       "      <th>CT_Conf_Cases</th>\n",
       "      <th>VT_Conf_Cases</th>\n",
       "      <th>ME_Conf_Cases</th>\n",
       "      <th>MA_Conf_Cases</th>\n",
       "      <th>weekday</th>\n",
       "    </tr>\n",
       "    <tr>\n",
       "      <th>date</th>\n",
       "      <th></th>\n",
       "      <th></th>\n",
       "      <th></th>\n",
       "      <th></th>\n",
       "      <th></th>\n",
       "      <th></th>\n",
       "      <th></th>\n",
       "      <th></th>\n",
       "      <th></th>\n",
       "      <th></th>\n",
       "      <th></th>\n",
       "      <th></th>\n",
       "      <th></th>\n",
       "    </tr>\n",
       "  </thead>\n",
       "  <tbody>\n",
       "    <tr>\n",
       "      <th>2020-01-22</th>\n",
       "      <td>26.96</td>\n",
       "      <td>0.0</td>\n",
       "      <td>19.04</td>\n",
       "      <td>0.0</td>\n",
       "      <td>18.32</td>\n",
       "      <td>0.0</td>\n",
       "      <td>22.46</td>\n",
       "      <td>0.0</td>\n",
       "      <td>0.0</td>\n",
       "      <td>0.0</td>\n",
       "      <td>0.0</td>\n",
       "      <td>0.0</td>\n",
       "      <td>2</td>\n",
       "    </tr>\n",
       "    <tr>\n",
       "      <th>2020-01-23</th>\n",
       "      <td>27.14</td>\n",
       "      <td>0.0</td>\n",
       "      <td>26.60</td>\n",
       "      <td>0.3</td>\n",
       "      <td>23.72</td>\n",
       "      <td>0.0</td>\n",
       "      <td>32.00</td>\n",
       "      <td>0.0</td>\n",
       "      <td>0.0</td>\n",
       "      <td>0.0</td>\n",
       "      <td>0.0</td>\n",
       "      <td>0.0</td>\n",
       "      <td>3</td>\n",
       "    </tr>\n",
       "    <tr>\n",
       "      <th>2020-01-24</th>\n",
       "      <td>30.56</td>\n",
       "      <td>0.0</td>\n",
       "      <td>29.48</td>\n",
       "      <td>0.0</td>\n",
       "      <td>33.08</td>\n",
       "      <td>0.0</td>\n",
       "      <td>35.42</td>\n",
       "      <td>0.0</td>\n",
       "      <td>0.0</td>\n",
       "      <td>0.0</td>\n",
       "      <td>0.0</td>\n",
       "      <td>0.0</td>\n",
       "      <td>4</td>\n",
       "    </tr>\n",
       "    <tr>\n",
       "      <th>2020-01-27</th>\n",
       "      <td>34.52</td>\n",
       "      <td>1.3</td>\n",
       "      <td>31.46</td>\n",
       "      <td>1.0</td>\n",
       "      <td>38.84</td>\n",
       "      <td>0.0</td>\n",
       "      <td>39.02</td>\n",
       "      <td>0.0</td>\n",
       "      <td>0.0</td>\n",
       "      <td>0.0</td>\n",
       "      <td>0.0</td>\n",
       "      <td>0.0</td>\n",
       "      <td>0</td>\n",
       "    </tr>\n",
       "    <tr>\n",
       "      <th>2020-01-28</th>\n",
       "      <td>30.02</td>\n",
       "      <td>0.3</td>\n",
       "      <td>21.56</td>\n",
       "      <td>0.0</td>\n",
       "      <td>36.68</td>\n",
       "      <td>0.0</td>\n",
       "      <td>37.40</td>\n",
       "      <td>0.0</td>\n",
       "      <td>0.0</td>\n",
       "      <td>0.0</td>\n",
       "      <td>0.0</td>\n",
       "      <td>0.0</td>\n",
       "      <td>1</td>\n",
       "    </tr>\n",
       "  </tbody>\n",
       "</table>\n",
       "</div>"
      ],
      "text/plain": [
       "            VT_Avg_Temp(F)  VT_PRCP(mm)  ME_Avg_Temp(F)  ME_PRCP(mm)  \\\n",
       "date                                                                   \n",
       "2020-01-22           26.96          0.0           19.04          0.0   \n",
       "2020-01-23           27.14          0.0           26.60          0.3   \n",
       "2020-01-24           30.56          0.0           29.48          0.0   \n",
       "2020-01-27           34.52          1.3           31.46          1.0   \n",
       "2020-01-28           30.02          0.3           21.56          0.0   \n",
       "\n",
       "            CT_Avg_Temp(F)  CT_PRCP(mm)  MA_Avg_Temp(F)  MA_PRCP(mm)  \\\n",
       "date                                                                   \n",
       "2020-01-22           18.32          0.0           22.46          0.0   \n",
       "2020-01-23           23.72          0.0           32.00          0.0   \n",
       "2020-01-24           33.08          0.0           35.42          0.0   \n",
       "2020-01-27           38.84          0.0           39.02          0.0   \n",
       "2020-01-28           36.68          0.0           37.40          0.0   \n",
       "\n",
       "            CT_Conf_Cases  VT_Conf_Cases  ME_Conf_Cases  MA_Conf_Cases  \\\n",
       "date                                                                     \n",
       "2020-01-22            0.0            0.0            0.0            0.0   \n",
       "2020-01-23            0.0            0.0            0.0            0.0   \n",
       "2020-01-24            0.0            0.0            0.0            0.0   \n",
       "2020-01-27            0.0            0.0            0.0            0.0   \n",
       "2020-01-28            0.0            0.0            0.0            0.0   \n",
       "\n",
       "            weekday  \n",
       "date                 \n",
       "2020-01-22        2  \n",
       "2020-01-23        3  \n",
       "2020-01-24        4  \n",
       "2020-01-27        0  \n",
       "2020-01-28        1  "
      ]
     },
     "execution_count": 5,
     "metadata": {},
     "output_type": "execute_result"
    }
   ],
   "source": [
    "df.head()"
   ]
  },
  {
   "cell_type": "code",
   "execution_count": 6,
   "id": "98e0b0e9",
   "metadata": {},
   "outputs": [],
   "source": [
    "df_vt=df.drop(columns=['ME_Avg_Temp(F)', 'ME_PRCP(mm)', 'ME_Conf_Cases', 'CT_Avg_Temp(F)', 'CT_PRCP(mm)', 'CT_Conf_Cases', 'MA_Avg_Temp(F)', 'MA_PRCP(mm)', 'MA_Conf_Cases','weekday'])"
   ]
  },
  {
   "cell_type": "code",
   "execution_count": 7,
   "id": "1682c0b3",
   "metadata": {},
   "outputs": [],
   "source": [
    "df_me=df.drop(columns=['VT_Avg_Temp(F)', 'VT_PRCP(mm)', 'VT_Conf_Cases', 'CT_Avg_Temp(F)', 'CT_PRCP(mm)', 'CT_Conf_Cases', 'MA_Avg_Temp(F)', 'MA_PRCP(mm)', 'MA_Conf_Cases','weekday'])"
   ]
  },
  {
   "cell_type": "code",
   "execution_count": 8,
   "id": "dc32d41c",
   "metadata": {},
   "outputs": [],
   "source": [
    "df_ma=df.drop(columns=['ME_Avg_Temp(F)', 'ME_PRCP(mm)', 'ME_Conf_Cases', 'CT_Avg_Temp(F)', 'CT_PRCP(mm)', 'CT_Conf_Cases', 'VT_Avg_Temp(F)', 'VT_PRCP(mm)', 'VT_Conf_Cases','weekday'])"
   ]
  },
  {
   "cell_type": "code",
   "execution_count": 9,
   "id": "fcf38d54",
   "metadata": {},
   "outputs": [],
   "source": [
    "df_ct= df.drop(columns=['ME_Avg_Temp(F)', 'ME_PRCP(mm)', 'ME_Conf_Cases', 'VT_Avg_Temp(F)', 'VT_PRCP(mm)', 'VT_Conf_Cases', 'MA_Avg_Temp(F)', 'MA_PRCP(mm)', 'MA_Conf_Cases','weekday'])"
   ]
  },
  {
   "cell_type": "code",
   "execution_count": 10,
   "id": "1e1eb36f",
   "metadata": {},
   "outputs": [
    {
     "data": {
      "text/html": [
       "<div>\n",
       "<style scoped>\n",
       "    .dataframe tbody tr th:only-of-type {\n",
       "        vertical-align: middle;\n",
       "    }\n",
       "\n",
       "    .dataframe tbody tr th {\n",
       "        vertical-align: top;\n",
       "    }\n",
       "\n",
       "    .dataframe thead th {\n",
       "        text-align: right;\n",
       "    }\n",
       "</style>\n",
       "<table border=\"1\" class=\"dataframe\">\n",
       "  <thead>\n",
       "    <tr style=\"text-align: right;\">\n",
       "      <th></th>\n",
       "      <th>VT_Avg_Temp(F)</th>\n",
       "      <th>VT_PRCP(mm)</th>\n",
       "      <th>VT_Conf_Cases</th>\n",
       "    </tr>\n",
       "    <tr>\n",
       "      <th>date</th>\n",
       "      <th></th>\n",
       "      <th></th>\n",
       "      <th></th>\n",
       "    </tr>\n",
       "  </thead>\n",
       "  <tbody>\n",
       "    <tr>\n",
       "      <th>2020-01-22</th>\n",
       "      <td>26.96</td>\n",
       "      <td>0.0</td>\n",
       "      <td>0.0</td>\n",
       "    </tr>\n",
       "    <tr>\n",
       "      <th>2020-01-23</th>\n",
       "      <td>27.14</td>\n",
       "      <td>0.0</td>\n",
       "      <td>0.0</td>\n",
       "    </tr>\n",
       "    <tr>\n",
       "      <th>2020-01-24</th>\n",
       "      <td>30.56</td>\n",
       "      <td>0.0</td>\n",
       "      <td>0.0</td>\n",
       "    </tr>\n",
       "    <tr>\n",
       "      <th>2020-01-27</th>\n",
       "      <td>34.52</td>\n",
       "      <td>1.3</td>\n",
       "      <td>0.0</td>\n",
       "    </tr>\n",
       "    <tr>\n",
       "      <th>2020-01-28</th>\n",
       "      <td>30.02</td>\n",
       "      <td>0.3</td>\n",
       "      <td>0.0</td>\n",
       "    </tr>\n",
       "  </tbody>\n",
       "</table>\n",
       "</div>"
      ],
      "text/plain": [
       "            VT_Avg_Temp(F)  VT_PRCP(mm)  VT_Conf_Cases\n",
       "date                                                  \n",
       "2020-01-22           26.96          0.0            0.0\n",
       "2020-01-23           27.14          0.0            0.0\n",
       "2020-01-24           30.56          0.0            0.0\n",
       "2020-01-27           34.52          1.3            0.0\n",
       "2020-01-28           30.02          0.3            0.0"
      ]
     },
     "execution_count": 10,
     "metadata": {},
     "output_type": "execute_result"
    }
   ],
   "source": [
    "df_vt.head()"
   ]
  },
  {
   "cell_type": "code",
   "execution_count": 11,
   "id": "d8bb7974",
   "metadata": {},
   "outputs": [
    {
     "data": {
      "text/html": [
       "<div>\n",
       "<style scoped>\n",
       "    .dataframe tbody tr th:only-of-type {\n",
       "        vertical-align: middle;\n",
       "    }\n",
       "\n",
       "    .dataframe tbody tr th {\n",
       "        vertical-align: top;\n",
       "    }\n",
       "\n",
       "    .dataframe thead th {\n",
       "        text-align: right;\n",
       "    }\n",
       "</style>\n",
       "<table border=\"1\" class=\"dataframe\">\n",
       "  <thead>\n",
       "    <tr style=\"text-align: right;\">\n",
       "      <th></th>\n",
       "      <th>MA_Avg_Temp(F)</th>\n",
       "      <th>MA_PRCP(mm)</th>\n",
       "      <th>MA_Conf_Cases</th>\n",
       "    </tr>\n",
       "    <tr>\n",
       "      <th>date</th>\n",
       "      <th></th>\n",
       "      <th></th>\n",
       "      <th></th>\n",
       "    </tr>\n",
       "  </thead>\n",
       "  <tbody>\n",
       "    <tr>\n",
       "      <th>2020-01-22</th>\n",
       "      <td>22.46</td>\n",
       "      <td>0.0</td>\n",
       "      <td>0.0</td>\n",
       "    </tr>\n",
       "    <tr>\n",
       "      <th>2020-01-23</th>\n",
       "      <td>32.00</td>\n",
       "      <td>0.0</td>\n",
       "      <td>0.0</td>\n",
       "    </tr>\n",
       "    <tr>\n",
       "      <th>2020-01-24</th>\n",
       "      <td>35.42</td>\n",
       "      <td>0.0</td>\n",
       "      <td>0.0</td>\n",
       "    </tr>\n",
       "    <tr>\n",
       "      <th>2020-01-27</th>\n",
       "      <td>39.02</td>\n",
       "      <td>0.0</td>\n",
       "      <td>0.0</td>\n",
       "    </tr>\n",
       "    <tr>\n",
       "      <th>2020-01-28</th>\n",
       "      <td>37.40</td>\n",
       "      <td>0.0</td>\n",
       "      <td>0.0</td>\n",
       "    </tr>\n",
       "  </tbody>\n",
       "</table>\n",
       "</div>"
      ],
      "text/plain": [
       "            MA_Avg_Temp(F)  MA_PRCP(mm)  MA_Conf_Cases\n",
       "date                                                  \n",
       "2020-01-22           22.46          0.0            0.0\n",
       "2020-01-23           32.00          0.0            0.0\n",
       "2020-01-24           35.42          0.0            0.0\n",
       "2020-01-27           39.02          0.0            0.0\n",
       "2020-01-28           37.40          0.0            0.0"
      ]
     },
     "execution_count": 11,
     "metadata": {},
     "output_type": "execute_result"
    }
   ],
   "source": [
    "df_ma.head()"
   ]
  },
  {
   "cell_type": "code",
   "execution_count": 12,
   "id": "81722968",
   "metadata": {},
   "outputs": [
    {
     "data": {
      "text/html": [
       "<div>\n",
       "<style scoped>\n",
       "    .dataframe tbody tr th:only-of-type {\n",
       "        vertical-align: middle;\n",
       "    }\n",
       "\n",
       "    .dataframe tbody tr th {\n",
       "        vertical-align: top;\n",
       "    }\n",
       "\n",
       "    .dataframe thead th {\n",
       "        text-align: right;\n",
       "    }\n",
       "</style>\n",
       "<table border=\"1\" class=\"dataframe\">\n",
       "  <thead>\n",
       "    <tr style=\"text-align: right;\">\n",
       "      <th></th>\n",
       "      <th>MA_Avg_Temp(F)</th>\n",
       "      <th>MA_PRCP(mm)</th>\n",
       "      <th>MA_Conf_Cases</th>\n",
       "    </tr>\n",
       "    <tr>\n",
       "      <th>date</th>\n",
       "      <th></th>\n",
       "      <th></th>\n",
       "      <th></th>\n",
       "    </tr>\n",
       "  </thead>\n",
       "  <tbody>\n",
       "    <tr>\n",
       "      <th>2021-09-03</th>\n",
       "      <td>62.42</td>\n",
       "      <td>0.0</td>\n",
       "      <td>1911.0</td>\n",
       "    </tr>\n",
       "    <tr>\n",
       "      <th>2021-09-07</th>\n",
       "      <td>68.00</td>\n",
       "      <td>0.0</td>\n",
       "      <td>5683.0</td>\n",
       "    </tr>\n",
       "    <tr>\n",
       "      <th>2021-09-08</th>\n",
       "      <td>71.96</td>\n",
       "      <td>0.0</td>\n",
       "      <td>1475.0</td>\n",
       "    </tr>\n",
       "    <tr>\n",
       "      <th>2021-09-09</th>\n",
       "      <td>70.88</td>\n",
       "      <td>8.1</td>\n",
       "      <td>2407.0</td>\n",
       "    </tr>\n",
       "    <tr>\n",
       "      <th>2021-09-10</th>\n",
       "      <td>68.54</td>\n",
       "      <td>7.6</td>\n",
       "      <td>1873.0</td>\n",
       "    </tr>\n",
       "  </tbody>\n",
       "</table>\n",
       "</div>"
      ],
      "text/plain": [
       "            MA_Avg_Temp(F)  MA_PRCP(mm)  MA_Conf_Cases\n",
       "date                                                  \n",
       "2021-09-03           62.42          0.0         1911.0\n",
       "2021-09-07           68.00          0.0         5683.0\n",
       "2021-09-08           71.96          0.0         1475.0\n",
       "2021-09-09           70.88          8.1         2407.0\n",
       "2021-09-10           68.54          7.6         1873.0"
      ]
     },
     "execution_count": 12,
     "metadata": {},
     "output_type": "execute_result"
    }
   ],
   "source": [
    "df_ma.tail()"
   ]
  },
  {
   "cell_type": "code",
   "execution_count": 13,
   "id": "6cc8dfa5",
   "metadata": {},
   "outputs": [
    {
     "data": {
      "text/html": [
       "<div>\n",
       "<style scoped>\n",
       "    .dataframe tbody tr th:only-of-type {\n",
       "        vertical-align: middle;\n",
       "    }\n",
       "\n",
       "    .dataframe tbody tr th {\n",
       "        vertical-align: top;\n",
       "    }\n",
       "\n",
       "    .dataframe thead th {\n",
       "        text-align: right;\n",
       "    }\n",
       "</style>\n",
       "<table border=\"1\" class=\"dataframe\">\n",
       "  <thead>\n",
       "    <tr style=\"text-align: right;\">\n",
       "      <th></th>\n",
       "      <th>ME_Avg_Temp(F)</th>\n",
       "      <th>ME_PRCP(mm)</th>\n",
       "      <th>ME_Conf_Cases</th>\n",
       "    </tr>\n",
       "    <tr>\n",
       "      <th>date</th>\n",
       "      <th></th>\n",
       "      <th></th>\n",
       "      <th></th>\n",
       "    </tr>\n",
       "  </thead>\n",
       "  <tbody>\n",
       "    <tr>\n",
       "      <th>2020-01-22</th>\n",
       "      <td>19.04</td>\n",
       "      <td>0.0</td>\n",
       "      <td>0.0</td>\n",
       "    </tr>\n",
       "    <tr>\n",
       "      <th>2020-01-23</th>\n",
       "      <td>26.60</td>\n",
       "      <td>0.3</td>\n",
       "      <td>0.0</td>\n",
       "    </tr>\n",
       "    <tr>\n",
       "      <th>2020-01-24</th>\n",
       "      <td>29.48</td>\n",
       "      <td>0.0</td>\n",
       "      <td>0.0</td>\n",
       "    </tr>\n",
       "    <tr>\n",
       "      <th>2020-01-27</th>\n",
       "      <td>31.46</td>\n",
       "      <td>1.0</td>\n",
       "      <td>0.0</td>\n",
       "    </tr>\n",
       "    <tr>\n",
       "      <th>2020-01-28</th>\n",
       "      <td>21.56</td>\n",
       "      <td>0.0</td>\n",
       "      <td>0.0</td>\n",
       "    </tr>\n",
       "  </tbody>\n",
       "</table>\n",
       "</div>"
      ],
      "text/plain": [
       "            ME_Avg_Temp(F)  ME_PRCP(mm)  ME_Conf_Cases\n",
       "date                                                  \n",
       "2020-01-22           19.04          0.0            0.0\n",
       "2020-01-23           26.60          0.3            0.0\n",
       "2020-01-24           29.48          0.0            0.0\n",
       "2020-01-27           31.46          1.0            0.0\n",
       "2020-01-28           21.56          0.0            0.0"
      ]
     },
     "execution_count": 13,
     "metadata": {},
     "output_type": "execute_result"
    }
   ],
   "source": [
    "df_me.head()"
   ]
  },
  {
   "cell_type": "code",
   "execution_count": 14,
   "id": "46d37ce6",
   "metadata": {},
   "outputs": [
    {
     "data": {
      "text/html": [
       "<div>\n",
       "<style scoped>\n",
       "    .dataframe tbody tr th:only-of-type {\n",
       "        vertical-align: middle;\n",
       "    }\n",
       "\n",
       "    .dataframe tbody tr th {\n",
       "        vertical-align: top;\n",
       "    }\n",
       "\n",
       "    .dataframe thead th {\n",
       "        text-align: right;\n",
       "    }\n",
       "</style>\n",
       "<table border=\"1\" class=\"dataframe\">\n",
       "  <thead>\n",
       "    <tr style=\"text-align: right;\">\n",
       "      <th></th>\n",
       "      <th>CT_Avg_Temp(F)</th>\n",
       "      <th>CT_PRCP(mm)</th>\n",
       "      <th>CT_Conf_Cases</th>\n",
       "    </tr>\n",
       "    <tr>\n",
       "      <th>date</th>\n",
       "      <th></th>\n",
       "      <th></th>\n",
       "      <th></th>\n",
       "    </tr>\n",
       "  </thead>\n",
       "  <tbody>\n",
       "    <tr>\n",
       "      <th>2020-01-22</th>\n",
       "      <td>18.32</td>\n",
       "      <td>0.0</td>\n",
       "      <td>0.0</td>\n",
       "    </tr>\n",
       "    <tr>\n",
       "      <th>2020-01-23</th>\n",
       "      <td>23.72</td>\n",
       "      <td>0.0</td>\n",
       "      <td>0.0</td>\n",
       "    </tr>\n",
       "    <tr>\n",
       "      <th>2020-01-24</th>\n",
       "      <td>33.08</td>\n",
       "      <td>0.0</td>\n",
       "      <td>0.0</td>\n",
       "    </tr>\n",
       "    <tr>\n",
       "      <th>2020-01-27</th>\n",
       "      <td>38.84</td>\n",
       "      <td>0.0</td>\n",
       "      <td>0.0</td>\n",
       "    </tr>\n",
       "    <tr>\n",
       "      <th>2020-01-28</th>\n",
       "      <td>36.68</td>\n",
       "      <td>0.0</td>\n",
       "      <td>0.0</td>\n",
       "    </tr>\n",
       "  </tbody>\n",
       "</table>\n",
       "</div>"
      ],
      "text/plain": [
       "            CT_Avg_Temp(F)  CT_PRCP(mm)  CT_Conf_Cases\n",
       "date                                                  \n",
       "2020-01-22           18.32          0.0            0.0\n",
       "2020-01-23           23.72          0.0            0.0\n",
       "2020-01-24           33.08          0.0            0.0\n",
       "2020-01-27           38.84          0.0            0.0\n",
       "2020-01-28           36.68          0.0            0.0"
      ]
     },
     "execution_count": 14,
     "metadata": {},
     "output_type": "execute_result"
    }
   ],
   "source": [
    "df_ct.head()"
   ]
  },
  {
   "cell_type": "code",
   "execution_count": 15,
   "id": "16765cd3",
   "metadata": {},
   "outputs": [
    {
     "name": "stdout",
     "output_type": "stream",
     "text": [
      "VT_Conf_Cases ADF: (-1.5324211248196855, 0.5174164865905867, 16, 406, {'1%': -3.4465596717208813, '5%': -2.8686852499495843, '10%': -2.570576203741901}, 3968.0699673009285)\n"
     ]
    }
   ],
   "source": [
    "res_vt_cc = adfuller(df_vt.VT_Conf_Cases)\n",
    "print(\"VT_Conf_Cases ADF:\", res_vt_cc)"
   ]
  },
  {
   "cell_type": "code",
   "execution_count": 16,
   "id": "7050d830",
   "metadata": {},
   "outputs": [
    {
     "name": "stdout",
     "output_type": "stream",
     "text": [
      "VT_Avg_Temp(F) ADF: (-1.3850715503583493, 0.5894117119797059, 14, 408, {'1%': -3.446479704252724, '5%': -2.8686500930967354, '10%': -2.5705574627547096}, 2737.173417718457)\n"
     ]
    }
   ],
   "source": [
    "res_vt_temp = adfuller(df_vt['VT_Avg_Temp(F)'])\n",
    "print(\"VT_Avg_Temp(F) ADF:\", res_vt_temp)"
   ]
  },
  {
   "cell_type": "code",
   "execution_count": 17,
   "id": "02c28665",
   "metadata": {},
   "outputs": [
    {
     "name": "stdout",
     "output_type": "stream",
     "text": [
      "VT_PRCP(mm) ADF: (-7.85027472236095, 5.625384540115335e-12, 4, 418, {'1%': -3.4460914174990296, '5%': -2.868479374038333, '10%': -2.570466459559076}, 2588.81431352875)\n"
     ]
    }
   ],
   "source": [
    "res_vt_prcp = adfuller(df_vt['VT_PRCP(mm)'])\n",
    "print(\"VT_PRCP(mm) ADF:\", res_vt_prcp)"
   ]
  },
  {
   "cell_type": "code",
   "execution_count": 33,
   "id": "3ecd69b6",
   "metadata": {},
   "outputs": [
    {
     "data": {
      "image/png": "[encoded data removed]",
      "text/plain": [
       "<Figure size 432x288 with 1 Axes>"
      ]
     },
     "metadata": {
      "needs_background": "light"
     },
     "output_type": "display_data"
    }
   ],
   "source": [
    "plt.plot(df_vt['VT_Avg_Temp(F)'].diff())\n",
    "plt.xticks(rotation=90)\n",
    "plt.show()\n"
   ]
  },
  {
   "cell_type": "code",
   "execution_count": null,
   "id": "82212b7c",
   "metadata": {},
   "outputs": [],
   "source": []
  },
  {
   "cell_type": "markdown",
   "id": "fe5137f9",
   "metadata": {},
   "source": [
    "***"
   ]
  },
  {
   "cell_type": "code",
   "execution_count": 18,
   "id": "d21cb2d8",
   "metadata": {},
   "outputs": [
    {
     "name": "stdout",
     "output_type": "stream",
     "text": [
      "CT_Conf_Cases ADF: (-2.265910073646577, 0.18319841292767758, 18, 404, {'1%': -3.44664043608676, '5%': -2.868720756230461, '10%': -2.5705951311145965}, 6473.698155653818)\n"
     ]
    }
   ],
   "source": [
    "res_ct_cc = adfuller(df_ct.CT_Conf_Cases)\n",
    "print(\"CT_Conf_Cases ADF:\",res_ct_cc)"
   ]
  },
  {
   "cell_type": "code",
   "execution_count": 19,
   "id": "3dfd9f28",
   "metadata": {},
   "outputs": [
    {
     "name": "stdout",
     "output_type": "stream",
     "text": [
      "CT_Avg_Temp(F) ADF: (-1.4623595803153135, 0.5520426086668024, 18, 404, {'1%': -3.44664043608676, '5%': -2.868720756230461, '10%': -2.5705951311145965}, 2586.25770549387)\n"
     ]
    }
   ],
   "source": [
    "res_ct_temp = adfuller(df_ct['CT_Avg_Temp(F)'])\n",
    "print(\"CT_Avg_Temp(F) ADF:\", res_ct_temp)"
   ]
  },
  {
   "cell_type": "code",
   "execution_count": 20,
   "id": "363d043c",
   "metadata": {},
   "outputs": [
    {
     "name": "stdout",
     "output_type": "stream",
     "text": [
      "CT_PRCP(mm) ADF: (-5.119179653765302, 1.2826061050763963e-05, 8, 414, {'1%': -3.4462444670071046, '5%': -2.8685466682709975, '10%': -2.5705023309762187}, 3054.3030798487416)\n"
     ]
    }
   ],
   "source": [
    "res_ct_prcp = adfuller(df_ct['CT_PRCP(mm)'])\n",
    "print(\"CT_PRCP(mm) ADF:\", res_ct_prcp)"
   ]
  },
  {
   "cell_type": "markdown",
   "id": "cfed1cc1",
   "metadata": {},
   "source": [
    "***"
   ]
  },
  {
   "cell_type": "code",
   "execution_count": 21,
   "id": "e803a2dd",
   "metadata": {},
   "outputs": [
    {
     "name": "stdout",
     "output_type": "stream",
     "text": [
      "MA_Conf_Cases ADF: (-2.5098287869180327, 0.11310115357659994, 18, 404, {'1%': -3.44664043608676, '5%': -2.868720756230461, '10%': -2.5705951311145965}, 6168.837680626371)\n"
     ]
    }
   ],
   "source": [
    "res_ma_cc = adfuller(df_ma.MA_Conf_Cases)\n",
    "print(\"MA_Conf_Cases ADF:\",res_ma_cc)"
   ]
  },
  {
   "cell_type": "code",
   "execution_count": 22,
   "id": "b489f441",
   "metadata": {},
   "outputs": [
    {
     "name": "stdout",
     "output_type": "stream",
     "text": [
      "MA_Avg_Temp(F) ADF: (-1.3998411440798264, 0.5823522736783371, 9, 413, {'1%': -3.4462831955497135, '5%': -2.8685636962704395, '10%': -2.5705114078759914}, 2670.6056777919043)\n"
     ]
    }
   ],
   "source": [
    "res_ma_temp = adfuller(df_ma['MA_Avg_Temp(F)'])\n",
    "print(\"MA_Avg_Temp(F) ADF:\", res_ma_temp)"
   ]
  },
  {
   "cell_type": "code",
   "execution_count": 23,
   "id": "b69ac433",
   "metadata": {},
   "outputs": [
    {
     "name": "stdout",
     "output_type": "stream",
     "text": [
      "MA_PRCP(mm) ADF: (-19.106572366350548, 0.0, 0, 422, {'1%': -3.44594128742536, '5%': -2.868413360220551, '10%': -2.570431271085555}, 3072.9131797466225)\n"
     ]
    }
   ],
   "source": [
    "res_ma_prcp = adfuller(df_ma['MA_PRCP(mm)'])\n",
    "print(\"MA_PRCP(mm) ADF:\", res_ma_prcp)"
   ]
  },
  {
   "cell_type": "markdown",
   "id": "3ae0af0a",
   "metadata": {},
   "source": [
    "***"
   ]
  },
  {
   "cell_type": "code",
   "execution_count": 24,
   "id": "5f97a15d",
   "metadata": {},
   "outputs": [
    {
     "name": "stdout",
     "output_type": "stream",
     "text": [
      "ME_Conf_Cases ADF: (-1.9744965899423599, 0.2978661735261211, 10, 412, {'1%': -3.4463221132914486, '5%': -2.8685808072418824, '10%': -2.570520529031954}, 4604.349797038693)\n"
     ]
    }
   ],
   "source": [
    "res_me_cc = adfuller(df_me.ME_Conf_Cases)\n",
    "print(\"ME_Conf_Cases ADF:\",res_me_cc)"
   ]
  },
  {
   "cell_type": "code",
   "execution_count": 25,
   "id": "47fc3c8c",
   "metadata": {},
   "outputs": [
    {
     "name": "stdout",
     "output_type": "stream",
     "text": [
      "ME_Avg_Temp(F) ADF: (-1.2075162097343841, 0.6703540995802695, 13, 409, {'1%': -3.4464400156784927, '5%': -2.868632644097719, '10%': -2.5705481612974577}, 2752.7970329820932)\n"
     ]
    }
   ],
   "source": [
    "res_me_temp = adfuller(df_me['ME_Avg_Temp(F)'])\n",
    "print(\"ME_Avg_Temp(F) ADF:\", res_me_temp)"
   ]
  },
  {
   "cell_type": "code",
   "execution_count": 26,
   "id": "66de082f",
   "metadata": {},
   "outputs": [
    {
     "name": "stdout",
     "output_type": "stream",
     "text": [
      "ME_PRCP(mm) ADF: (-17.390438896842983, 5.012959484655681e-30, 0, 422, {'1%': -3.44594128742536, '5%': -2.868413360220551, '10%': -2.570431271085555}, 2757.324502731625)\n"
     ]
    }
   ],
   "source": [
    "res_me_prcp = adfuller(df_me['ME_PRCP(mm)'])\n",
    "print(\"ME_PRCP(mm) ADF:\", res_me_prcp)"
   ]
  },
  {
   "cell_type": "markdown",
   "id": "bedd8fa8",
   "metadata": {},
   "source": [
    "***"
   ]
  },
  {
   "cell_type": "markdown",
   "id": "63029da7",
   "metadata": {},
   "source": [
    "According to the Augmented Dickey Fuller Test, the only data that appears to follow a random walk is: `VT_Conf_Cases`.\\\n",
    "In order to perform time series analysis on **the rest of the data**, we will need to make it stationary. \\\n",
    "__Strong Stationarity:__ entire distribution of data is time-invariant. \\\n",
    "__Weak Stationarity:__ mean, variance, and autocorrelation are time invariant (easier to test).\n",
    "\n",
    "Because `VT_Conf_Cases` is a random walk, we will compute __first differences__ and then recalculate p-value of rejecting the null hyppothesis with ADF test (for `VT_Conf_Cases` only). "
   ]
  },
  {
   "cell_type": "code",
   "execution_count": 27,
   "id": "b6895e26",
   "metadata": {},
   "outputs": [],
   "source": [
    "df_vt['VT_Conf_Cases'] = df_vt['VT_Conf_Cases'].diff()"
   ]
  },
  {
   "cell_type": "markdown",
   "id": "39fd64fc",
   "metadata": {},
   "source": [
    "Quick visual check to make sure transformation was completed successfully:"
   ]
  },
  {
   "cell_type": "code",
   "execution_count": 29,
   "id": "3234b785",
   "metadata": {},
   "outputs": [
    {
     "data": {
      "image/png": "[encoded data removed]",
      "text/plain": [
       "<Figure size 432x288 with 1 Axes>"
      ]
     },
     "metadata": {
      "needs_background": "light"
     },
     "output_type": "display_data"
    }
   ],
   "source": [
    "plt.plot(df_vt['VT_Conf_Cases'])\n",
    "plt.xticks(rotation=90)\n",
    "plt.show()"
   ]
  },
  {
   "cell_type": "markdown",
   "id": "1aecca58",
   "metadata": {},
   "source": [
    "Because we took first differences of the Vermont data set, the first value of `VT_Conf_Cases` will become `NaN` (there is no data prior to the first piece of data). We could delete the row, or perform the ADF test from the second row of data on, but there is an even simpler solution to this problem. Vermont's [first COVID-19 case](https://www.vpr.org/vpr-news/2020-03-08/health-officials-announce-first-coronavirus-case-in-vermont) wasn't until March of 2020. Therefore, we know that the day before our first data point (on 01/21/2021), the number of confirmed cases in Vermont must also have been zero. The difference between zero and zero is obvioulsy zero, so we can confidently replace this particular `NaN` with a zero, and thereby prevent losing a row of data."
   ]
  },
  {
   "cell_type": "code",
   "execution_count": 30,
   "id": "c15bd861",
   "metadata": {},
   "outputs": [
    {
     "name": "stdout",
     "output_type": "stream",
     "text": [
      "nan\n"
     ]
    }
   ],
   "source": [
    "# Confirm first value of VT's cases is NaN:\n",
    "print(df_vt.VT_Conf_Cases[0])"
   ]
  },
  {
   "cell_type": "code",
   "execution_count": null,
   "id": "ae4845ef",
   "metadata": {},
   "outputs": [],
   "source": [
    "#Replace NaN with 0:\n",
    "df_vt.VT_Conf_Cases[0] = 0\n",
    "df_vt.head()"
   ]
  },
  {
   "cell_type": "code",
   "execution_count": null,
   "id": "c818e611",
   "metadata": {},
   "outputs": [],
   "source": [
    "adfuller(df_vt.VT_Conf_Cases)"
   ]
  },
  {
   "cell_type": "markdown",
   "id": "705f6260",
   "metadata": {},
   "source": [
    "Now all of the data appears stationary and we have no more `NaN` values in the Vermont dataset."
   ]
  },
  {
   "cell_type": "markdown",
   "id": "8d1c4229",
   "metadata": {},
   "source": [
    "***"
   ]
  },
  {
   "cell_type": "code",
   "execution_count": null,
   "id": "3ad8a934",
   "metadata": {},
   "outputs": [],
   "source": [
    "# Make duplicates of datasets for processing with Pycaret:\n",
    "df_vt2 = df_vt.reset_index()\n",
    "df_ct2 = df_ct.reset_index()\n",
    "df_me2 = df_me.reset_index()\n",
    "df_ma2 = df_ma.reset_index()"
   ]
  },
  {
   "cell_type": "code",
   "execution_count": null,
   "id": "68484462",
   "metadata": {},
   "outputs": [],
   "source": [
    "df_ma2"
   ]
  },
  {
   "cell_type": "code",
   "execution_count": null,
   "id": "93643799",
   "metadata": {},
   "outputs": [],
   "source": [
    "df_ma3 = df_ma2[df_ma2['date']< '2021-03-01']\n",
    "df_ct3 = df_ct2[df_ct2['date']< '2021-03-01']"
   ]
  },
  {
   "cell_type": "code",
   "execution_count": null,
   "id": "69b50310",
   "metadata": {},
   "outputs": [],
   "source": [
    "df_ma3"
   ]
  },
  {
   "cell_type": "code",
   "execution_count": null,
   "id": "0174d50b",
   "metadata": {},
   "outputs": [],
   "source": [
    "df_list = [df_ct3, df_ma3]"
   ]
  },
  {
   "cell_type": "code",
   "execution_count": null,
   "id": "40f3fd63",
   "metadata": {},
   "outputs": [],
   "source": [
    "# Add 'day_of_week' and 'day_of_year' columns to each dataframe\n",
    "for df in df_list:\n",
    "    df['day_of_week'] = [i.dayofweek for i in df['date']]\n",
    "    df['day_of_year'] = [i.dayofyear for i in df['date']]\n",
    "    df['Year'] =[i.year for i in df['date']]\n",
    "    df['Month'] = [i.month for i in df['date']]\n",
    "    df['Day'] = [i.day for i in df['date']]"
   ]
  },
  {
   "cell_type": "code",
   "execution_count": null,
   "id": "660ddf67",
   "metadata": {},
   "outputs": [],
   "source": [
    "df_ma3"
   ]
  },
  {
   "cell_type": "code",
   "execution_count": null,
   "id": "61ffc46f",
   "metadata": {},
   "outputs": [],
   "source": [
    "from pycaret.regression import *\n",
    "all_results=[]\n",
    "df_subset = df_ma3\n",
    "\n",
    "# initialize setup from pycaret.regression\n",
    "s = setup(df_subset, target = 'MA_Conf_Cases', train_size = 0.8,\n",
    "            data_split_shuffle = True, fold = 3,\n",
    "            ignore_features = ['date', 'MA_PRCP(mm)'],\n",
    "            numeric_features = ['day_of_year', 'Year', 'MA_Avg_Temp(F)'],\n",
    "            categorical_features = ['Month', 'day_of_week'],\n",
    "            silent = True, verbose = False, session_id = 123,\n",
    "            normalize=True)\n",
    "    \n",
    "# compare all models and select best one based on MAE\n",
    "best_model = compare_models(sort = 'MAE', verbose=False)\n",
    "    \n",
    "# capture the compare result grid and store best model in list\n",
    "p = pull().iloc[0:1]\n",
    "p['time_series'] = str(\"MA\")\n",
    "all_results.append(p)\n",
    "    \n",
    "# finalize model i.e. fit on entire data including test set\n",
    "f = finalize_model(best_model)\n",
    "best_model"
   ]
  },
  {
   "cell_type": "code",
   "execution_count": null,
   "id": "e75b59ea",
   "metadata": {},
   "outputs": [],
   "source": [
    "concat_results = pd.concat(all_results,axis=0)\n",
    "concat_results.head()"
   ]
  },
  {
   "cell_type": "code",
   "execution_count": null,
   "id": "794ec404",
   "metadata": {},
   "outputs": [],
   "source": [
    "all_results=[]\n",
    "df_subset = df_ct3\n",
    "\n",
    "# initialize setup from pycaret.regression\n",
    "s = setup(df_subset, target = 'CT_Conf_Cases', train_size = 0.8,\n",
    "            data_split_shuffle = True, fold = 3,\n",
    "            ignore_features = ['date', 'CT_PRCP(mm)'],\n",
    "            numeric_features = ['day_of_year', 'Year', 'CT_Avg_Temp(F)'],\n",
    "            categorical_features = ['Month', 'day_of_week'],\n",
    "            silent = True, verbose = False, session_id = 123,\n",
    "            normalize=True)\n",
    "    \n",
    "# compare all models and select best one based on MAE\n",
    "best_model = compare_models(sort = 'MAE', verbose=False)\n",
    "    \n",
    "# capture the compare result grid and store best model in list\n",
    "p = pull().iloc[0:1]\n",
    "p['time_series'] = str(\"CT\")\n",
    "all_results.append(p)\n",
    "    \n",
    "# finalize model i.e. fit on entire data including test set\n",
    "f = finalize_model(best_model)\n",
    "best_model"
   ]
  },
  {
   "cell_type": "code",
   "execution_count": null,
   "id": "aae20d0d",
   "metadata": {},
   "outputs": [],
   "source": [
    "concat_results = pd.concat([pd.concat(all_results, axis=0), concat_results], axis=0)\n",
    "cobcat_results"
   ]
  },
  {
   "cell_type": "code",
   "execution_count": null,
   "id": "a7785654",
   "metadata": {},
   "outputs": [],
   "source": []
  },
  {
   "cell_type": "code",
   "execution_count": null,
   "id": "ca42d293",
   "metadata": {},
   "outputs": [],
   "source": []
  },
  {
   "cell_type": "code",
   "execution_count": null,
   "id": "4d3f611d",
   "metadata": {},
   "outputs": [],
   "source": []
  },
  {
   "cell_type": "code",
   "execution_count": null,
   "id": "59e5c370",
   "metadata": {},
   "outputs": [],
   "source": []
  },
  {
   "cell_type": "code",
   "execution_count": null,
   "id": "3e3a4bd4",
   "metadata": {},
   "outputs": [],
   "source": []
  },
  {
   "cell_type": "code",
   "execution_count": null,
   "id": "e60e1dae",
   "metadata": {},
   "outputs": [],
   "source": []
  }
 ],
 "metadata": {
  "kernelspec": {
   "display_name": "Python 3",
   "language": "python",
   "name": "python3"
  },
  "language_info": {
   "codemirror_mode": {
    "name": "ipython",
    "version": 3
   },
   "file_extension": ".py",
   "mimetype": "text/x-python",
   "name": "python",
   "nbconvert_exporter": "python",
   "pygments_lexer": "ipython3",
   "version": "3.8.8"
  }
 },
 "nbformat": 4,
 "nbformat_minor": 5
}
