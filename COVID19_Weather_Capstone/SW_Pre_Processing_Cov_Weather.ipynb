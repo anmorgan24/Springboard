{
 "cells": [
  {
   "cell_type": "markdown",
   "id": "7fc3b147",
   "metadata": {},
   "source": [
    "# Pre-processing "
   ]
  },
  {
   "cell_type": "code",
   "execution_count": 1,
   "id": "9bd136d1",
   "metadata": {},
   "outputs": [],
   "source": [
    "import pandas as pd\n",
    "import numpy as np\n",
    "from statsmodels.tsa.stattools import adfuller\n",
    "import matplotlib.pyplot as plt\n",
    "import pycaret\n",
    "import seaborn as sns"
   ]
  },
  {
   "cell_type": "code",
   "execution_count": 2,
   "id": "107bbb45",
   "metadata": {},
   "outputs": [],
   "source": [
    "#load dataframe\n",
    "#parse datetime column\n",
    "df=pd.read_csv('state_cov_weather2.csv', parse_dates=[0])\n",
    "df.set_index('date', inplace= True)"
   ]
  },
  {
   "cell_type": "code",
   "execution_count": 3,
   "id": "49e31a00",
   "metadata": {},
   "outputs": [
    {
     "data": {
      "text/html": [
       "<div>\n",
       "<style scoped>\n",
       "    .dataframe tbody tr th:only-of-type {\n",
       "        vertical-align: middle;\n",
       "    }\n",
       "\n",
       "    .dataframe tbody tr th {\n",
       "        vertical-align: top;\n",
       "    }\n",
       "\n",
       "    .dataframe thead th {\n",
       "        text-align: right;\n",
       "    }\n",
       "</style>\n",
       "<table border=\"1\" class=\"dataframe\">\n",
       "  <thead>\n",
       "    <tr style=\"text-align: right;\">\n",
       "      <th></th>\n",
       "      <th>VT_Avg_Temp(F)</th>\n",
       "      <th>VT_PRCP(mm)</th>\n",
       "      <th>ME_Avg_Temp(F)</th>\n",
       "      <th>ME_PRCP(mm)</th>\n",
       "      <th>CT_Avg_Temp(F)</th>\n",
       "      <th>CT_PRCP(mm)</th>\n",
       "      <th>MA_Avg_Temp(F)</th>\n",
       "      <th>MA_PRCP(mm)</th>\n",
       "      <th>CT_Conf_Cases</th>\n",
       "      <th>VT_Conf_Cases</th>\n",
       "      <th>ME_Conf_Cases</th>\n",
       "      <th>MA_Conf_Cases</th>\n",
       "      <th>weekday</th>\n",
       "    </tr>\n",
       "    <tr>\n",
       "      <th>date</th>\n",
       "      <th></th>\n",
       "      <th></th>\n",
       "      <th></th>\n",
       "      <th></th>\n",
       "      <th></th>\n",
       "      <th></th>\n",
       "      <th></th>\n",
       "      <th></th>\n",
       "      <th></th>\n",
       "      <th></th>\n",
       "      <th></th>\n",
       "      <th></th>\n",
       "      <th></th>\n",
       "    </tr>\n",
       "  </thead>\n",
       "  <tbody>\n",
       "    <tr>\n",
       "      <th>2020-03-01</th>\n",
       "      <td>19.58</td>\n",
       "      <td>0.3</td>\n",
       "      <td>14.18</td>\n",
       "      <td>0.3</td>\n",
       "      <td>26.24</td>\n",
       "      <td>0.0</td>\n",
       "      <td>26.42</td>\n",
       "      <td>0.0</td>\n",
       "      <td>0.0</td>\n",
       "      <td>0.0</td>\n",
       "      <td>0.0</td>\n",
       "      <td>1.0</td>\n",
       "      <td>6</td>\n",
       "    </tr>\n",
       "    <tr>\n",
       "      <th>2020-03-02</th>\n",
       "      <td>32.00</td>\n",
       "      <td>0.0</td>\n",
       "      <td>17.06</td>\n",
       "      <td>4.6</td>\n",
       "      <td>37.58</td>\n",
       "      <td>0.0</td>\n",
       "      <td>36.50</td>\n",
       "      <td>0.0</td>\n",
       "      <td>0.0</td>\n",
       "      <td>0.0</td>\n",
       "      <td>0.0</td>\n",
       "      <td>1.0</td>\n",
       "      <td>0</td>\n",
       "    </tr>\n",
       "    <tr>\n",
       "      <th>2020-03-03</th>\n",
       "      <td>44.06</td>\n",
       "      <td>2.8</td>\n",
       "      <td>39.56</td>\n",
       "      <td>0.0</td>\n",
       "      <td>51.26</td>\n",
       "      <td>3.8</td>\n",
       "      <td>55.94</td>\n",
       "      <td>0.0</td>\n",
       "      <td>0.0</td>\n",
       "      <td>0.0</td>\n",
       "      <td>0.0</td>\n",
       "      <td>1.0</td>\n",
       "      <td>1</td>\n",
       "    </tr>\n",
       "    <tr>\n",
       "      <th>2020-03-04</th>\n",
       "      <td>41.54</td>\n",
       "      <td>0.0</td>\n",
       "      <td>32.00</td>\n",
       "      <td>6.6</td>\n",
       "      <td>48.02</td>\n",
       "      <td>0.0</td>\n",
       "      <td>46.94</td>\n",
       "      <td>2.5</td>\n",
       "      <td>0.0</td>\n",
       "      <td>0.0</td>\n",
       "      <td>0.0</td>\n",
       "      <td>2.0</td>\n",
       "      <td>2</td>\n",
       "    </tr>\n",
       "    <tr>\n",
       "      <th>2020-03-05</th>\n",
       "      <td>37.04</td>\n",
       "      <td>0.0</td>\n",
       "      <td>30.02</td>\n",
       "      <td>0.0</td>\n",
       "      <td>43.16</td>\n",
       "      <td>0.0</td>\n",
       "      <td>42.98</td>\n",
       "      <td>0.0</td>\n",
       "      <td>0.0</td>\n",
       "      <td>0.0</td>\n",
       "      <td>0.0</td>\n",
       "      <td>8.0</td>\n",
       "      <td>3</td>\n",
       "    </tr>\n",
       "  </tbody>\n",
       "</table>\n",
       "</div>"
      ],
      "text/plain": [
       "            VT_Avg_Temp(F)  VT_PRCP(mm)  ME_Avg_Temp(F)  ME_PRCP(mm)  \\\n",
       "date                                                                   \n",
       "2020-03-01           19.58          0.3           14.18          0.3   \n",
       "2020-03-02           32.00          0.0           17.06          4.6   \n",
       "2020-03-03           44.06          2.8           39.56          0.0   \n",
       "2020-03-04           41.54          0.0           32.00          6.6   \n",
       "2020-03-05           37.04          0.0           30.02          0.0   \n",
       "\n",
       "            CT_Avg_Temp(F)  CT_PRCP(mm)  MA_Avg_Temp(F)  MA_PRCP(mm)  \\\n",
       "date                                                                   \n",
       "2020-03-01           26.24          0.0           26.42          0.0   \n",
       "2020-03-02           37.58          0.0           36.50          0.0   \n",
       "2020-03-03           51.26          3.8           55.94          0.0   \n",
       "2020-03-04           48.02          0.0           46.94          2.5   \n",
       "2020-03-05           43.16          0.0           42.98          0.0   \n",
       "\n",
       "            CT_Conf_Cases  VT_Conf_Cases  ME_Conf_Cases  MA_Conf_Cases  \\\n",
       "date                                                                     \n",
       "2020-03-01            0.0            0.0            0.0            1.0   \n",
       "2020-03-02            0.0            0.0            0.0            1.0   \n",
       "2020-03-03            0.0            0.0            0.0            1.0   \n",
       "2020-03-04            0.0            0.0            0.0            2.0   \n",
       "2020-03-05            0.0            0.0            0.0            8.0   \n",
       "\n",
       "            weekday  \n",
       "date                 \n",
       "2020-03-01        6  \n",
       "2020-03-02        0  \n",
       "2020-03-03        1  \n",
       "2020-03-04        2  \n",
       "2020-03-05        3  "
      ]
     },
     "execution_count": 3,
     "metadata": {},
     "output_type": "execute_result"
    }
   ],
   "source": [
    "df.head()"
   ]
  },
  {
   "cell_type": "code",
   "execution_count": 4,
   "id": "98e0b0e9",
   "metadata": {},
   "outputs": [],
   "source": [
    "df_vt=df.drop(columns=['ME_Avg_Temp(F)', 'ME_PRCP(mm)', 'ME_Conf_Cases', 'CT_Avg_Temp(F)', 'CT_PRCP(mm)', 'CT_Conf_Cases', 'MA_Avg_Temp(F)', 'MA_PRCP(mm)', 'MA_Conf_Cases','weekday'])"
   ]
  },
  {
   "cell_type": "code",
   "execution_count": 5,
   "id": "1682c0b3",
   "metadata": {},
   "outputs": [],
   "source": [
    "df_me=df.drop(columns=['VT_Avg_Temp(F)', 'VT_PRCP(mm)', 'VT_Conf_Cases', 'CT_Avg_Temp(F)', 'CT_PRCP(mm)', 'CT_Conf_Cases', 'MA_Avg_Temp(F)', 'MA_PRCP(mm)', 'MA_Conf_Cases','weekday'])"
   ]
  },
  {
   "cell_type": "code",
   "execution_count": 6,
   "id": "dc32d41c",
   "metadata": {},
   "outputs": [],
   "source": [
    "df_ma=df.drop(columns=['ME_Avg_Temp(F)', 'ME_PRCP(mm)', 'ME_Conf_Cases', 'CT_Avg_Temp(F)', 'CT_PRCP(mm)', 'CT_Conf_Cases', 'VT_Avg_Temp(F)', 'VT_PRCP(mm)', 'VT_Conf_Cases','weekday'])"
   ]
  },
  {
   "cell_type": "code",
   "execution_count": 7,
   "id": "fcf38d54",
   "metadata": {},
   "outputs": [],
   "source": [
    "df_ct= df.drop(columns=['ME_Avg_Temp(F)', 'ME_PRCP(mm)', 'ME_Conf_Cases', 'VT_Avg_Temp(F)', 'VT_PRCP(mm)', 'VT_Conf_Cases', 'MA_Avg_Temp(F)', 'MA_PRCP(mm)', 'MA_Conf_Cases','weekday'])"
   ]
  },
  {
   "cell_type": "code",
   "execution_count": 8,
   "id": "27b36526",
   "metadata": {},
   "outputs": [
    {
     "data": {
      "image/png": "[encoded data removed]",
      "text/plain": [
       "<Figure size 1080x864 with 4 Axes>"
      ]
     },
     "metadata": {},
     "output_type": "display_data"
    }
   ],
   "source": [
    "#Let's take a look at the distribution of case counts for MA\n",
    "with sns.axes_style(\"white\"):\n",
    "    fig, axes = plt.subplots(2,2, figsize=(15,12))\n",
    "    fig.suptitle('Distribution of new cases counts per day per states', fontsize=18)\n",
    "    axes[0,0].set_title('Massachusetts', fontsize=14)\n",
    "    axes[0,1].set_title('Connecticut', fontsize =14)\n",
    "    axes[1,0].set_title('Vermont', fontsize= 14)\n",
    "    axes[1,1].set_title('Maine', fontsize= 14)\n",
    "    # Massachusetts\n",
    "    sns.histplot(ax=axes[0, 0], x=df_ma.MA_Conf_Cases, bins=30, palette = 'Blues')\n",
    "    # Connecticut\n",
    "    sns.histplot(ax=axes[0, 1], x=df_ct.CT_Conf_Cases, bins=30, palette = 'Blues')\n",
    "    # Vermont\n",
    "    sns.histplot(ax=axes[1, 0], x=df_vt.VT_Conf_Cases,bins=30, palette = 'Blues')\n",
    "    # Maine\n",
    "    sns.histplot(ax=axes[1, 1], x=df_me.ME_Conf_Cases, bins=30, palette = 'Blues')"
   ]
  },
  {
   "cell_type": "markdown",
   "id": "a0b9b9c7",
   "metadata": {},
   "source": [
    "Let's start off by defining a function for running and printing the Augmented Dickey Fuller Test:"
   ]
  },
  {
   "cell_type": "code",
   "execution_count": null,
   "id": "c5ba732d",
   "metadata": {},
   "outputs": [],
   "source": [
    "#def ADF_test(df, column_name):\n",
    "    #res = adfuller(df[column_name])\n",
    "    #print(column_name, \"ADF: \", res)"
   ]
  },
  {
   "cell_type": "markdown",
   "id": "4718e7f8",
   "metadata": {},
   "source": [
    "#### Vermont Initial Augmented Dickey Fuller scores:"
   ]
  },
  {
   "cell_type": "code",
   "execution_count": null,
   "id": "16765cd3",
   "metadata": {},
   "outputs": [],
   "source": [
    "#ADF_test(df_vt, 'VT_Conf_Cases')"
   ]
  },
  {
   "cell_type": "code",
   "execution_count": null,
   "id": "7050d830",
   "metadata": {},
   "outputs": [],
   "source": [
    "#ADF_test(df_vt, 'VT_Avg_Temp(F)')"
   ]
  },
  {
   "cell_type": "code",
   "execution_count": null,
   "id": "02c28665",
   "metadata": {},
   "outputs": [],
   "source": [
    "#ADF_test(df_vt, 'VT_PRCP(mm)')"
   ]
  },
  {
   "cell_type": "markdown",
   "id": "fe5137f9",
   "metadata": {},
   "source": [
    "***"
   ]
  },
  {
   "cell_type": "markdown",
   "id": "5d905cc8",
   "metadata": {},
   "source": [
    "#### Connecticut Initial Augmented Dickey Fuller scores:"
   ]
  },
  {
   "cell_type": "code",
   "execution_count": null,
   "id": "d21cb2d8",
   "metadata": {},
   "outputs": [],
   "source": [
    "#ADF_test(df_ct, 'CT_Conf_Cases')"
   ]
  },
  {
   "cell_type": "code",
   "execution_count": null,
   "id": "3dfd9f28",
   "metadata": {},
   "outputs": [],
   "source": [
    "#ADF_test(df_ct, 'CT_Avg_Temp(F)')"
   ]
  },
  {
   "cell_type": "code",
   "execution_count": null,
   "id": "363d043c",
   "metadata": {},
   "outputs": [],
   "source": [
    "#ADF_test(df_ct, 'CT_PRCP(mm)')"
   ]
  },
  {
   "cell_type": "markdown",
   "id": "cfed1cc1",
   "metadata": {},
   "source": [
    "***"
   ]
  },
  {
   "cell_type": "markdown",
   "id": "cae3474b",
   "metadata": {},
   "source": [
    "#### Massachusetts Initial Augmented Dickey Fuller scores:"
   ]
  },
  {
   "cell_type": "code",
   "execution_count": null,
   "id": "e803a2dd",
   "metadata": {},
   "outputs": [],
   "source": [
    "#ADF_test(df_ma, 'MA_Conf_Cases')"
   ]
  },
  {
   "cell_type": "code",
   "execution_count": null,
   "id": "b489f441",
   "metadata": {},
   "outputs": [],
   "source": [
    "#ADF_test(df_ma, 'MA_Avg_Temp(F)')"
   ]
  },
  {
   "cell_type": "code",
   "execution_count": null,
   "id": "b69ac433",
   "metadata": {},
   "outputs": [],
   "source": [
    "#ADF_test(df_ma, 'MA_PRCP(mm)')"
   ]
  },
  {
   "cell_type": "markdown",
   "id": "3ae0af0a",
   "metadata": {},
   "source": [
    "***"
   ]
  },
  {
   "cell_type": "markdown",
   "id": "f5598b9b",
   "metadata": {},
   "source": [
    "#### Maine Initial Augmented Dickey Fuller scores:"
   ]
  },
  {
   "cell_type": "code",
   "execution_count": null,
   "id": "5f97a15d",
   "metadata": {},
   "outputs": [],
   "source": [
    "#ADF_test(df_me, 'ME_Conf_Cases')"
   ]
  },
  {
   "cell_type": "code",
   "execution_count": null,
   "id": "47fc3c8c",
   "metadata": {},
   "outputs": [],
   "source": [
    "#ADF_test(df_me, 'ME_Avg_Temp(F)')"
   ]
  },
  {
   "cell_type": "code",
   "execution_count": null,
   "id": "66de082f",
   "metadata": {},
   "outputs": [],
   "source": [
    "#ADF_test(df_me, 'ME_PRCP(mm)')"
   ]
  },
  {
   "cell_type": "markdown",
   "id": "bedd8fa8",
   "metadata": {},
   "source": [
    "***"
   ]
  },
  {
   "cell_type": "markdown",
   "id": "63029da7",
   "metadata": {},
   "source": [
    "According to these results, it appears that the only data that is already stationary is `PRCP(mm)`. \n",
    "In order to perform time series analysis on **the rest of the data**, we will need to make it stationary as well. \n",
    "\n",
    "* __Strong Stationarity:__ entire distribution of data is time-invariant. \n",
    "* __Weak Stationarity:__ mean, variance, and autocorrelation are time invariant (easier to test).\n",
    "\n",
    "We will compute __first differences__ on the remaining data and then recalculate p-value of rejecting the null hyppothesis with ADF test for these data. \n",
    "\n",
    "## Define a function that accepts a dict for code below?"
   ]
  },
  {
   "cell_type": "code",
   "execution_count": null,
   "id": "b6895e26",
   "metadata": {
    "scrolled": true
   },
   "outputs": [],
   "source": [
    "#df_vt['VT_Conf_Cases'] = df_vt['VT_Conf_Cases'].diff()\n",
    "#df_vt['VT_Avg_Temp(F)'] = df_vt['VT_Avg_Temp(F)'].diff()"
   ]
  },
  {
   "cell_type": "code",
   "execution_count": null,
   "id": "6d42ef55",
   "metadata": {},
   "outputs": [],
   "source": [
    "#df_ct['CT_Conf_Cases'] = df_ct['CT_Conf_Cases'].diff()\n",
    "#df_ct['CT_Avg_Temp(F)'] = df_ct['CT_Avg_Temp(F)'].diff()"
   ]
  },
  {
   "cell_type": "code",
   "execution_count": null,
   "id": "e8b76212",
   "metadata": {},
   "outputs": [],
   "source": [
    "#df_me['ME_Conf_Cases'] = df_me['ME_Conf_Cases'].diff()\n",
    "#df_me['ME_Avg_Temp(F)'] = df_me['ME_Avg_Temp(F)'].diff()"
   ]
  },
  {
   "cell_type": "code",
   "execution_count": null,
   "id": "e8a13c72",
   "metadata": {},
   "outputs": [],
   "source": [
    "#df_ma['MA_Conf_Cases'] = df_ma['MA_Conf_Cases'].diff()\n",
    "#df_ma['MA_Avg_Temp(F)'] = df_ma['MA_Avg_Temp(F)'].diff()"
   ]
  },
  {
   "cell_type": "markdown",
   "id": "39fd64fc",
   "metadata": {},
   "source": [
    "Quick visual check to see how well the transformations helped stationarize the data:"
   ]
  },
  {
   "cell_type": "code",
   "execution_count": null,
   "id": "3234b785",
   "metadata": {},
   "outputs": [],
   "source": [
    "#plt.plot(df_vt['VT_Conf_Cases'])\n",
    "#plt.xticks(rotation=90)\n",
    "#plt.show()"
   ]
  },
  {
   "cell_type": "markdown",
   "id": "1aecca58",
   "metadata": {},
   "source": [
    "Because we took first differences of the data sets, the first value of `Conf_Cases` for each state will become `NaN` (there is no data prior to the first piece of data). \n",
    "\n",
    "We cannot perform the ADF test on the datasets if they contain `NaN` values, so we'll have to either remove or replace those values\n",
    "\n",
    "We could delete the first row of each dataframe, or perform the ADF test from the second row of data on, but there is an even simpler solution to this problem. Each of these states ([Vermont](https://www.vpr.org/vpr-news/2020-03-08/health-officials-announce-first-coronavirus-case-in-vermont), [Massachusetts](https://www.mass.gov/news/first-presumptive-positive-case-of-covid-19-identified-by-massachusetts-state-public-health-laboratory), [Connecticut](https://portal.ct.gov/Office-of-the-Governor/News/Press-Releases/2020/03-2020/Governor-Lamont-Announces-First-Positive-Case-of-Novel-Coronavirus-Involving-a-Connecticut-Resident), [Maine](https://www.maine.gov/covid19/timeline)) had their first respective COVID19 case 1-2 months after the date of the first value. Therefore, we know that on the day before our first data point (namely, 01/21/2021), the number of confirmed cases in each of these states must also have been zero. The difference between zero and zero is obvioulsy zero, so we can confidently replace this particular `NaN` with a zero, and thereby prevent losing a row of data for each state."
   ]
  },
  {
   "cell_type": "code",
   "execution_count": null,
   "id": "c15bd861",
   "metadata": {},
   "outputs": [],
   "source": [
    "# Confirm first value of VT's cases is NaN:\n",
    "#print(df_vt.VT_Conf_Cases[0])"
   ]
  },
  {
   "cell_type": "code",
   "execution_count": null,
   "id": "ae4845ef",
   "metadata": {},
   "outputs": [],
   "source": [
    "#Replace NaN with 0 for VERMONT:\n",
    "#df_vt.VT_Conf_Cases[0] = 0\n",
    "#df_vt['VT_Avg_Temp(F)'][0] = 0\n",
    "#df_vt.head()"
   ]
  },
  {
   "cell_type": "code",
   "execution_count": null,
   "id": "ddc61e04",
   "metadata": {},
   "outputs": [],
   "source": [
    "#Replace NaN with 0 for MAINE:\n",
    "#df_me.ME_Conf_Cases[0] = 0\n",
    "#df_me['ME_Avg_Temp(F)'][0] = 0\n",
    "#df_me.head()"
   ]
  },
  {
   "cell_type": "code",
   "execution_count": null,
   "id": "a47fda49",
   "metadata": {},
   "outputs": [],
   "source": [
    "#Replace NaN with 0 for CONNECTICUT:\n",
    "#df_ma.MA_Conf_Cases[0] = 0\n",
    "#df_ma['MA_Avg_Temp(F)'][0] = 0\n",
    "#df_ma.head()"
   ]
  },
  {
   "cell_type": "code",
   "execution_count": null,
   "id": "747a4ab9",
   "metadata": {},
   "outputs": [],
   "source": [
    "#Replace NaN with 0 for MASSACHUSETTS:\n",
    "#df_ct.CT_Conf_Cases[0] = 0\n",
    "#df_ct['CT_Avg_Temp(F)'][0] = 0\n",
    "#df_ct.head()"
   ]
  },
  {
   "cell_type": "markdown",
   "id": "31ec735b",
   "metadata": {},
   "source": [
    "#### Re-run ADF test for VERMONT"
   ]
  },
  {
   "cell_type": "code",
   "execution_count": null,
   "id": "c8d65c5d",
   "metadata": {
    "scrolled": true
   },
   "outputs": [],
   "source": [
    "#ADF_test(df_vt, 'VT_Conf_Cases')"
   ]
  },
  {
   "cell_type": "code",
   "execution_count": null,
   "id": "c818e611",
   "metadata": {},
   "outputs": [],
   "source": [
    "#ADF_test(df_vt, 'VT_Avg_Temp(F)')"
   ]
  },
  {
   "cell_type": "markdown",
   "id": "49aca978",
   "metadata": {},
   "source": [
    "#### Re-run ADF test for MAINE"
   ]
  },
  {
   "cell_type": "code",
   "execution_count": null,
   "id": "0fd91e76",
   "metadata": {},
   "outputs": [],
   "source": [
    "#ADF_test(df_me, 'ME_Conf_Cases')"
   ]
  },
  {
   "cell_type": "code",
   "execution_count": null,
   "id": "24b261cc",
   "metadata": {},
   "outputs": [],
   "source": [
    "#ADF_test(df_me, 'ME_Avg_Temp(F)')"
   ]
  },
  {
   "cell_type": "markdown",
   "id": "e667af91",
   "metadata": {},
   "source": [
    "#### Re-run ADF test for CONNECTICUT"
   ]
  },
  {
   "cell_type": "code",
   "execution_count": null,
   "id": "5df520c1",
   "metadata": {},
   "outputs": [],
   "source": [
    "#ADF_test(df_ct, 'CT_Conf_Cases')"
   ]
  },
  {
   "cell_type": "code",
   "execution_count": null,
   "id": "e3b31bb5",
   "metadata": {},
   "outputs": [],
   "source": [
    "#ADF_test(df_ct, 'CT_Avg_Temp(F)')"
   ]
  },
  {
   "cell_type": "markdown",
   "id": "c3d08aad",
   "metadata": {},
   "source": [
    "#### Re-run ADF test for MASSACHUSETTS"
   ]
  },
  {
   "cell_type": "code",
   "execution_count": null,
   "id": "3d98ef7a",
   "metadata": {},
   "outputs": [],
   "source": [
    "#ADF_test(df_ma, 'MA_Conf_Cases')"
   ]
  },
  {
   "cell_type": "code",
   "execution_count": null,
   "id": "23f5b8b5",
   "metadata": {},
   "outputs": [],
   "source": [
    "#ADF_test(df_ma, 'MA_Avg_Temp(F)')"
   ]
  },
  {
   "cell_type": "markdown",
   "id": "705f6260",
   "metadata": {},
   "source": [
    "Now all of the data appears stationary and we have no more `NaN` values in any of the datasets."
   ]
  },
  {
   "cell_type": "markdown",
   "id": "8d1c4229",
   "metadata": {},
   "source": [
    "***"
   ]
  },
  {
   "cell_type": "code",
   "execution_count": 9,
   "id": "3ad8a934",
   "metadata": {},
   "outputs": [],
   "source": [
    "# Make duplicates of datasets for processing with Pycaret:\n",
    "df_vt2 = df_vt.reset_index()\n",
    "df_ct2 = df_ct.reset_index()\n",
    "df_me2 = df_me.reset_index()\n",
    "df_ma2 = df_ma.reset_index()"
   ]
  },
  {
   "cell_type": "code",
   "execution_count": null,
   "id": "93643799",
   "metadata": {},
   "outputs": [],
   "source": [
    "#df_ma3 = df_ma2[df_ma2['date']< '2021-03-01']\n",
    "#df_ct3 = df_ct2[df_ct2['date']< '2021-03-01']\n",
    "#df_me3 = df_me2[df_me2['date']< '2021-03-01']\n",
    "#df_vt3 = df_vt2[df_vt2['date']< '2021-03-01']"
   ]
  },
  {
   "cell_type": "code",
   "execution_count": 10,
   "id": "62e2e3c4",
   "metadata": {},
   "outputs": [],
   "source": [
    "df_ma3 = df_ma2\n",
    "df_ct3 = df_ct2\n",
    "df_me3 = df_me2\n",
    "df_vt3 = df_vt2"
   ]
  },
  {
   "cell_type": "code",
   "execution_count": 11,
   "id": "0174d50b",
   "metadata": {},
   "outputs": [],
   "source": [
    "df_list = [df_ct3, df_ma3, df_me3, df_vt3]"
   ]
  },
  {
   "cell_type": "code",
   "execution_count": 12,
   "id": "40f3fd63",
   "metadata": {},
   "outputs": [],
   "source": [
    "# Add 'day_of_week' and 'day_of_year' columns to each dataframe\n",
    "for df in df_list:\n",
    "    df['day_of_week'] = [i.dayofweek for i in df['date']]\n",
    "    df['day_of_year'] = [i.dayofyear for i in df['date']]\n",
    "    df['Year'] =[i.year for i in df['date']]\n",
    "    df['Month'] = [i.month for i in df['date']]\n",
    "    df['Day'] = [i.day for i in df['date']]"
   ]
  },
  {
   "cell_type": "markdown",
   "id": "5b33037b",
   "metadata": {},
   "source": [
    "# US Census Bureau state populations\n",
    "* Massachusetts: 7,029,917 \n",
    "* Vermont: 643,077\t\n",
    "* Connecticut: 3,605,944\t\n",
    "* Maine: 1,362,359\n",
    "\n",
    "Source: [U.S. Census Bureau](https://www.census.gov/quickfacts/fact/table/VT,CT,MA,ME/PST045219) April 1, 2020 Census.\n",
    "\n",
    "Because some states are very densely populated, while others are much more sparsely populated, I'll calculate confirmed Covid cases as a percentage of overall population. \n",
    "\n",
    "In order to do this, I'll divide by the appropriate state's total population (as per the April 1, 2020 U.S. Census Bureau), and multiply by 100,000 for ten thousandths of a percent. "
   ]
  },
  {
   "cell_type": "code",
   "execution_count": 13,
   "id": "11e1dd85",
   "metadata": {},
   "outputs": [],
   "source": [
    "df_ma3['new_case_percent_pop*'] = (df_ma3['MA_Conf_Cases'] / 70.29917)"
   ]
  },
  {
   "cell_type": "code",
   "execution_count": 14,
   "id": "a006fad3",
   "metadata": {
    "scrolled": true
   },
   "outputs": [],
   "source": [
    "df_ct3['new_case_percent_pop*'] = (df_ct3['CT_Conf_Cases'] / 36.05944)"
   ]
  },
  {
   "cell_type": "code",
   "execution_count": 15,
   "id": "31dd7ef4",
   "metadata": {},
   "outputs": [],
   "source": [
    "df_me3['new_case_percent_pop*'] = (df_me3['ME_Conf_Cases'] / 13.62359)"
   ]
  },
  {
   "cell_type": "code",
   "execution_count": 16,
   "id": "50974aa8",
   "metadata": {},
   "outputs": [],
   "source": [
    "df_vt3['new_case_percent_pop*'] = (df_vt3['VT_Conf_Cases'] / 6.43077)"
   ]
  },
  {
   "cell_type": "markdown",
   "id": "177aeedf",
   "metadata": {},
   "source": [
    "Try the model using new cases as ten thousandths of a percent of population, rather than count."
   ]
  },
  {
   "cell_type": "code",
   "execution_count": 17,
   "id": "185fa416",
   "metadata": {},
   "outputs": [
    {
     "data": {
      "text/plain": [
       "<catboost.core.CatBoostRegressor at 0x147934580>"
      ]
     },
     "execution_count": 17,
     "metadata": {},
     "output_type": "execute_result"
    }
   ],
   "source": [
    "from pycaret.regression import *\n",
    "all_results=[]\n",
    "df_subset = df_ma3\n",
    "\n",
    "# initialize setup from pycaret.regression\n",
    "s = setup(df_subset, target = 'new_case_percent_pop*', train_size = 0.8,\n",
    "            data_split_shuffle = True, fold = 3,\n",
    "            ignore_features = ['date', 'MA_Conf_Cases', 'MA_PRCP(mm)'],\n",
    "            numeric_features = ['day_of_year', 'Year', 'MA_Avg_Temp(F)'],\n",
    "            categorical_features = ['Month', 'day_of_week'],\n",
    "            silent = True, verbose = False, session_id = 123,\n",
    "            normalize=False)\n",
    "    \n",
    "# compare all models and select best one based on MAE\n",
    "best_model = compare_models(sort = 'R2', verbose=False)\n",
    "    \n",
    "# capture the compare result grid and store best model in list\n",
    "p = pull().iloc[0:1]\n",
    "p['time_series'] = str(\"MA\")\n",
    "all_results.append(p)\n",
    "    \n",
    "# finalize model i.e. fit on entire data including test set\n",
    "f = finalize_model(best_model)\n",
    "best_model"
   ]
  },
  {
   "cell_type": "code",
   "execution_count": 18,
   "id": "8ed12732",
   "metadata": {},
   "outputs": [
    {
     "data": {
      "text/html": [
       "<div>\n",
       "<style scoped>\n",
       "    .dataframe tbody tr th:only-of-type {\n",
       "        vertical-align: middle;\n",
       "    }\n",
       "\n",
       "    .dataframe tbody tr th {\n",
       "        vertical-align: top;\n",
       "    }\n",
       "\n",
       "    .dataframe thead th {\n",
       "        text-align: right;\n",
       "    }\n",
       "</style>\n",
       "<table border=\"1\" class=\"dataframe\">\n",
       "  <thead>\n",
       "    <tr style=\"text-align: right;\">\n",
       "      <th></th>\n",
       "      <th>Model</th>\n",
       "      <th>MAE</th>\n",
       "      <th>MSE</th>\n",
       "      <th>RMSE</th>\n",
       "      <th>R2</th>\n",
       "      <th>RMSLE</th>\n",
       "      <th>MAPE</th>\n",
       "      <th>TT (Sec)</th>\n",
       "      <th>time_series</th>\n",
       "    </tr>\n",
       "  </thead>\n",
       "  <tbody>\n",
       "    <tr>\n",
       "      <th>catboost</th>\n",
       "      <td>CatBoost Regressor</td>\n",
       "      <td>4.5939</td>\n",
       "      <td>61.0005</td>\n",
       "      <td>7.7753</td>\n",
       "      <td>0.8719</td>\n",
       "      <td>0.4384</td>\n",
       "      <td>2.5186</td>\n",
       "      <td>0.2167</td>\n",
       "      <td>MA</td>\n",
       "    </tr>\n",
       "  </tbody>\n",
       "</table>\n",
       "</div>"
      ],
      "text/plain": [
       "                       Model     MAE      MSE    RMSE      R2   RMSLE    MAPE  \\\n",
       "catboost  CatBoost Regressor  4.5939  61.0005  7.7753  0.8719  0.4384  2.5186   \n",
       "\n",
       "          TT (Sec) time_series  \n",
       "catboost    0.2167          MA  "
      ]
     },
     "execution_count": 18,
     "metadata": {},
     "output_type": "execute_result"
    }
   ],
   "source": [
    "concat_results = pd.concat(all_results,axis=0)\n",
    "concat_results.head()"
   ]
  },
  {
   "cell_type": "code",
   "execution_count": 19,
   "id": "7a4a090e",
   "metadata": {},
   "outputs": [
    {
     "data": {
      "text/plain": [
       "ExtraTreesRegressor(bootstrap=False, ccp_alpha=0.0, criterion='mse',\n",
       "                    max_depth=None, max_features='auto', max_leaf_nodes=None,\n",
       "                    max_samples=None, min_impurity_decrease=0.0,\n",
       "                    min_impurity_split=None, min_samples_leaf=1,\n",
       "                    min_samples_split=2, min_weight_fraction_leaf=0.0,\n",
       "                    n_estimators=100, n_jobs=-1, oob_score=False,\n",
       "                    random_state=123, verbose=0, warm_start=False)"
      ]
     },
     "execution_count": 19,
     "metadata": {},
     "output_type": "execute_result"
    }
   ],
   "source": [
    "all_results=[]\n",
    "df_subset = df_ct3\n",
    "\n",
    "# initialize setup from pycaret.regression\n",
    "s = setup(df_subset, target = 'new_case_percent_pop*', train_size = 0.8,\n",
    "            data_split_shuffle = True, fold = 3,\n",
    "            ignore_features = ['date', 'CT_Conf_Cases', 'CT_PRCP(mm)'],\n",
    "            numeric_features = ['day_of_year', 'Year', 'CT_Avg_Temp(F)'],\n",
    "            categorical_features = ['Month', 'day_of_week'],\n",
    "            silent = True, verbose = False, session_id = 123,\n",
    "            normalize=True)\n",
    "    \n",
    "# compare all models and select best one based on MAE\n",
    "best_model = compare_models(sort = 'R2', verbose=False)\n",
    "    \n",
    "# capture the compare result grid and store best model in list\n",
    "p = pull().iloc[0:1]\n",
    "p['time_series'] = str(\"CT\")\n",
    "all_results.append(p)\n",
    "    \n",
    "# finalize model i.e. fit on entire data including test set\n",
    "f = finalize_model(best_model)\n",
    "best_model"
   ]
  },
  {
   "cell_type": "code",
   "execution_count": 20,
   "id": "82baba33",
   "metadata": {},
   "outputs": [
    {
     "data": {
      "text/html": [
       "<div>\n",
       "<style scoped>\n",
       "    .dataframe tbody tr th:only-of-type {\n",
       "        vertical-align: middle;\n",
       "    }\n",
       "\n",
       "    .dataframe tbody tr th {\n",
       "        vertical-align: top;\n",
       "    }\n",
       "\n",
       "    .dataframe thead th {\n",
       "        text-align: right;\n",
       "    }\n",
       "</style>\n",
       "<table border=\"1\" class=\"dataframe\">\n",
       "  <thead>\n",
       "    <tr style=\"text-align: right;\">\n",
       "      <th></th>\n",
       "      <th>Model</th>\n",
       "      <th>MAE</th>\n",
       "      <th>MSE</th>\n",
       "      <th>RMSE</th>\n",
       "      <th>R2</th>\n",
       "      <th>RMSLE</th>\n",
       "      <th>MAPE</th>\n",
       "      <th>TT (Sec)</th>\n",
       "      <th>time_series</th>\n",
       "    </tr>\n",
       "  </thead>\n",
       "  <tbody>\n",
       "    <tr>\n",
       "      <th>et</th>\n",
       "      <td>Extra Trees Regressor</td>\n",
       "      <td>7.4040</td>\n",
       "      <td>182.1191</td>\n",
       "      <td>13.2260</td>\n",
       "      <td>0.8056</td>\n",
       "      <td>0.5065</td>\n",
       "      <td>0.7059</td>\n",
       "      <td>0.0600</td>\n",
       "      <td>CT</td>\n",
       "    </tr>\n",
       "    <tr>\n",
       "      <th>catboost</th>\n",
       "      <td>CatBoost Regressor</td>\n",
       "      <td>4.5939</td>\n",
       "      <td>61.0005</td>\n",
       "      <td>7.7753</td>\n",
       "      <td>0.8719</td>\n",
       "      <td>0.4384</td>\n",
       "      <td>2.5186</td>\n",
       "      <td>0.2167</td>\n",
       "      <td>MA</td>\n",
       "    </tr>\n",
       "  </tbody>\n",
       "</table>\n",
       "</div>"
      ],
      "text/plain": [
       "                          Model     MAE       MSE     RMSE      R2   RMSLE  \\\n",
       "et        Extra Trees Regressor  7.4040  182.1191  13.2260  0.8056  0.5065   \n",
       "catboost     CatBoost Regressor  4.5939   61.0005   7.7753  0.8719  0.4384   \n",
       "\n",
       "            MAPE  TT (Sec) time_series  \n",
       "et        0.7059    0.0600          CT  \n",
       "catboost  2.5186    0.2167          MA  "
      ]
     },
     "execution_count": 20,
     "metadata": {},
     "output_type": "execute_result"
    }
   ],
   "source": [
    "concat_results = pd.concat([pd.concat(all_results, axis=0), concat_results], axis=0)\n",
    "concat_results"
   ]
  },
  {
   "cell_type": "code",
   "execution_count": 21,
   "id": "deea4406",
   "metadata": {},
   "outputs": [
    {
     "data": {
      "text/plain": [
       "RandomForestRegressor(bootstrap=True, ccp_alpha=0.0, criterion='mse',\n",
       "                      max_depth=None, max_features='auto', max_leaf_nodes=None,\n",
       "                      max_samples=None, min_impurity_decrease=0.0,\n",
       "                      min_impurity_split=None, min_samples_leaf=1,\n",
       "                      min_samples_split=2, min_weight_fraction_leaf=0.0,\n",
       "                      n_estimators=100, n_jobs=-1, oob_score=False,\n",
       "                      random_state=123, verbose=0, warm_start=False)"
      ]
     },
     "execution_count": 21,
     "metadata": {},
     "output_type": "execute_result"
    }
   ],
   "source": [
    "all_results=[]\n",
    "df_subset = df_vt3\n",
    "\n",
    "# initialize setup from pycaret.regression\n",
    "s = setup(df_subset, target = 'new_case_percent_pop*', train_size = 0.8,\n",
    "            data_split_shuffle = True, fold = 3,\n",
    "            ignore_features = ['date', 'VT_Conf_Cases', 'VT_PRCP(mm)'],\n",
    "            numeric_features = ['day_of_year', 'Year', 'VT_Avg_Temp(F)'],\n",
    "            categorical_features = ['Month', 'day_of_week'],\n",
    "            silent = True, verbose = False, session_id = 123,\n",
    "            normalize=True)\n",
    "    \n",
    "# compare all models and select best one based on MAE\n",
    "best_model = compare_models(sort = 'R2', verbose=False)\n",
    "    \n",
    "# capture the compare result grid and store best model in list\n",
    "p = pull().iloc[0:1]\n",
    "p['time_series'] = str(\"VT\")\n",
    "all_results.append(p)\n",
    "    \n",
    "# finalize model i.e. fit on entire data including test set\n",
    "f = finalize_model(best_model)\n",
    "best_model"
   ]
  },
  {
   "cell_type": "code",
   "execution_count": 22,
   "id": "bc5b791e",
   "metadata": {},
   "outputs": [
    {
     "data": {
      "text/html": [
       "<div>\n",
       "<style scoped>\n",
       "    .dataframe tbody tr th:only-of-type {\n",
       "        vertical-align: middle;\n",
       "    }\n",
       "\n",
       "    .dataframe tbody tr th {\n",
       "        vertical-align: top;\n",
       "    }\n",
       "\n",
       "    .dataframe thead th {\n",
       "        text-align: right;\n",
       "    }\n",
       "</style>\n",
       "<table border=\"1\" class=\"dataframe\">\n",
       "  <thead>\n",
       "    <tr style=\"text-align: right;\">\n",
       "      <th></th>\n",
       "      <th>Model</th>\n",
       "      <th>MAE</th>\n",
       "      <th>MSE</th>\n",
       "      <th>RMSE</th>\n",
       "      <th>R2</th>\n",
       "      <th>RMSLE</th>\n",
       "      <th>MAPE</th>\n",
       "      <th>TT (Sec)</th>\n",
       "      <th>time_series</th>\n",
       "    </tr>\n",
       "  </thead>\n",
       "  <tbody>\n",
       "    <tr>\n",
       "      <th>rf</th>\n",
       "      <td>Random Forest Regressor</td>\n",
       "      <td>2.8472</td>\n",
       "      <td>26.8464</td>\n",
       "      <td>5.1796</td>\n",
       "      <td>0.7306</td>\n",
       "      <td>0.4531</td>\n",
       "      <td>0.7380</td>\n",
       "      <td>0.0800</td>\n",
       "      <td>VT</td>\n",
       "    </tr>\n",
       "    <tr>\n",
       "      <th>et</th>\n",
       "      <td>Extra Trees Regressor</td>\n",
       "      <td>7.4040</td>\n",
       "      <td>182.1191</td>\n",
       "      <td>13.2260</td>\n",
       "      <td>0.8056</td>\n",
       "      <td>0.5065</td>\n",
       "      <td>0.7059</td>\n",
       "      <td>0.0600</td>\n",
       "      <td>CT</td>\n",
       "    </tr>\n",
       "    <tr>\n",
       "      <th>catboost</th>\n",
       "      <td>CatBoost Regressor</td>\n",
       "      <td>4.5939</td>\n",
       "      <td>61.0005</td>\n",
       "      <td>7.7753</td>\n",
       "      <td>0.8719</td>\n",
       "      <td>0.4384</td>\n",
       "      <td>2.5186</td>\n",
       "      <td>0.2167</td>\n",
       "      <td>MA</td>\n",
       "    </tr>\n",
       "  </tbody>\n",
       "</table>\n",
       "</div>"
      ],
      "text/plain": [
       "                            Model     MAE       MSE     RMSE      R2   RMSLE  \\\n",
       "rf        Random Forest Regressor  2.8472   26.8464   5.1796  0.7306  0.4531   \n",
       "et          Extra Trees Regressor  7.4040  182.1191  13.2260  0.8056  0.5065   \n",
       "catboost       CatBoost Regressor  4.5939   61.0005   7.7753  0.8719  0.4384   \n",
       "\n",
       "            MAPE  TT (Sec) time_series  \n",
       "rf        0.7380    0.0800          VT  \n",
       "et        0.7059    0.0600          CT  \n",
       "catboost  2.5186    0.2167          MA  "
      ]
     },
     "execution_count": 22,
     "metadata": {},
     "output_type": "execute_result"
    }
   ],
   "source": [
    "concat_results = pd.concat([pd.concat(all_results, axis=0), concat_results], axis=0)\n",
    "concat_results"
   ]
  },
  {
   "cell_type": "code",
   "execution_count": 23,
   "id": "a6be28ad",
   "metadata": {},
   "outputs": [
    {
     "data": {
      "text/plain": [
       "<catboost.core.CatBoostRegressor at 0x1475b1e20>"
      ]
     },
     "execution_count": 23,
     "metadata": {},
     "output_type": "execute_result"
    }
   ],
   "source": [
    "all_results=[]\n",
    "df_subset = df_me3\n",
    "\n",
    "# initialize setup from pycaret.regression\n",
    "s = setup(df_subset, target = 'new_case_percent_pop*', train_size = 0.8,\n",
    "            data_split_shuffle = True, fold = 3,\n",
    "            ignore_features = ['date', 'ME_Conf_Cases', 'ME_PRCP(mm)'],\n",
    "            numeric_features = ['day_of_year', 'Year','ME_Avg_Temp(F)'],\n",
    "            categorical_features = ['Month', 'day_of_week'],\n",
    "            silent = True, verbose = False, session_id = 123,\n",
    "            normalize=True)\n",
    "    \n",
    "# compare all models and select best one based on MAE\n",
    "best_model = compare_models(sort = 'R2', verbose=False)\n",
    "    \n",
    "# capture the compare result grid and store best model in list\n",
    "p = pull().iloc[0:1]\n",
    "p['time_series'] = str(\"ME\")\n",
    "all_results.append(p)\n",
    "    \n",
    "# finalize model i.e. fit on entire data including test set\n",
    "f = finalize_model(best_model)\n",
    "best_model"
   ]
  },
  {
   "cell_type": "code",
   "execution_count": 24,
   "id": "46d07616",
   "metadata": {},
   "outputs": [
    {
     "data": {
      "text/html": [
       "<div>\n",
       "<style scoped>\n",
       "    .dataframe tbody tr th:only-of-type {\n",
       "        vertical-align: middle;\n",
       "    }\n",
       "\n",
       "    .dataframe tbody tr th {\n",
       "        vertical-align: top;\n",
       "    }\n",
       "\n",
       "    .dataframe thead th {\n",
       "        text-align: right;\n",
       "    }\n",
       "</style>\n",
       "<table border=\"1\" class=\"dataframe\">\n",
       "  <thead>\n",
       "    <tr style=\"text-align: right;\">\n",
       "      <th></th>\n",
       "      <th>Model</th>\n",
       "      <th>MAE</th>\n",
       "      <th>MSE</th>\n",
       "      <th>RMSE</th>\n",
       "      <th>R2</th>\n",
       "      <th>RMSLE</th>\n",
       "      <th>MAPE</th>\n",
       "      <th>TT (Sec)</th>\n",
       "      <th>time_series</th>\n",
       "    </tr>\n",
       "  </thead>\n",
       "  <tbody>\n",
       "    <tr>\n",
       "      <th>catboost</th>\n",
       "      <td>CatBoost Regressor</td>\n",
       "      <td>3.0496</td>\n",
       "      <td>26.9742</td>\n",
       "      <td>5.1533</td>\n",
       "      <td>0.8163</td>\n",
       "      <td>0.4091</td>\n",
       "      <td>1.0260</td>\n",
       "      <td>0.2167</td>\n",
       "      <td>ME</td>\n",
       "    </tr>\n",
       "    <tr>\n",
       "      <th>rf</th>\n",
       "      <td>Random Forest Regressor</td>\n",
       "      <td>2.8472</td>\n",
       "      <td>26.8464</td>\n",
       "      <td>5.1796</td>\n",
       "      <td>0.7306</td>\n",
       "      <td>0.4531</td>\n",
       "      <td>0.7380</td>\n",
       "      <td>0.0800</td>\n",
       "      <td>VT</td>\n",
       "    </tr>\n",
       "    <tr>\n",
       "      <th>et</th>\n",
       "      <td>Extra Trees Regressor</td>\n",
       "      <td>7.4040</td>\n",
       "      <td>182.1191</td>\n",
       "      <td>13.2260</td>\n",
       "      <td>0.8056</td>\n",
       "      <td>0.5065</td>\n",
       "      <td>0.7059</td>\n",
       "      <td>0.0600</td>\n",
       "      <td>CT</td>\n",
       "    </tr>\n",
       "    <tr>\n",
       "      <th>catboost</th>\n",
       "      <td>CatBoost Regressor</td>\n",
       "      <td>4.5939</td>\n",
       "      <td>61.0005</td>\n",
       "      <td>7.7753</td>\n",
       "      <td>0.8719</td>\n",
       "      <td>0.4384</td>\n",
       "      <td>2.5186</td>\n",
       "      <td>0.2167</td>\n",
       "      <td>MA</td>\n",
       "    </tr>\n",
       "  </tbody>\n",
       "</table>\n",
       "</div>"
      ],
      "text/plain": [
       "                            Model     MAE       MSE     RMSE      R2   RMSLE  \\\n",
       "catboost       CatBoost Regressor  3.0496   26.9742   5.1533  0.8163  0.4091   \n",
       "rf        Random Forest Regressor  2.8472   26.8464   5.1796  0.7306  0.4531   \n",
       "et          Extra Trees Regressor  7.4040  182.1191  13.2260  0.8056  0.5065   \n",
       "catboost       CatBoost Regressor  4.5939   61.0005   7.7753  0.8719  0.4384   \n",
       "\n",
       "            MAPE  TT (Sec) time_series  \n",
       "catboost  1.0260    0.2167          ME  \n",
       "rf        0.7380    0.0800          VT  \n",
       "et        0.7059    0.0600          CT  \n",
       "catboost  2.5186    0.2167          MA  "
      ]
     },
     "execution_count": 24,
     "metadata": {},
     "output_type": "execute_result"
    }
   ],
   "source": [
    "concat_results = pd.concat([pd.concat(all_results, axis=0), concat_results], axis=0)\n",
    "concat_results"
   ]
  },
  {
   "cell_type": "markdown",
   "id": "28dffa31",
   "metadata": {},
   "source": [
    "***"
   ]
  },
  {
   "cell_type": "code",
   "execution_count": null,
   "id": "1c875309",
   "metadata": {},
   "outputs": [],
   "source": []
  },
  {
   "cell_type": "code",
   "execution_count": null,
   "id": "bb0a47bc",
   "metadata": {},
   "outputs": [],
   "source": []
  }
 ],
 "metadata": {
  "kernelspec": {
   "display_name": "Python 3",
   "language": "python",
   "name": "python3"
  },
  "language_info": {
   "codemirror_mode": {
    "name": "ipython",
    "version": 3
   },
   "file_extension": ".py",
   "mimetype": "text/x-python",
   "name": "python",
   "nbconvert_exporter": "python",
   "pygments_lexer": "ipython3",
   "version": "3.8.8"
  }
 },
 "nbformat": 4,
 "nbformat_minor": 5
}
