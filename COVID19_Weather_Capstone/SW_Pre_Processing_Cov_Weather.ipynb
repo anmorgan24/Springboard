{
 "cells": [
  {
   "cell_type": "markdown",
   "id": "7fc3b147",
   "metadata": {},
   "source": [
    "# Pre-processing "
   ]
  },
  {
   "cell_type": "code",
   "execution_count": 1,
   "id": "9bd136d1",
   "metadata": {},
   "outputs": [],
   "source": [
    "import pandas as pd\n",
    "import numpy as np\n",
    "from statsmodels.tsa.stattools import adfuller\n",
    "import matplotlib.pyplot as plt\n",
    "import pycaret\n",
    "import seaborn as sns"
   ]
  },
  {
   "cell_type": "code",
   "execution_count": 2,
   "id": "107bbb45",
   "metadata": {},
   "outputs": [],
   "source": [
    "#load dataframe\n",
    "#parse datetime column\n",
    "df=pd.read_csv('state_cov_weather.csv', parse_dates=[0])\n",
    "df.set_index('date', inplace= True)"
   ]
  },
  {
   "cell_type": "code",
   "execution_count": 3,
   "id": "49e31a00",
   "metadata": {},
   "outputs": [
    {
     "data": {
      "text/html": [
       "<div>\n",
       "<style scoped>\n",
       "    .dataframe tbody tr th:only-of-type {\n",
       "        vertical-align: middle;\n",
       "    }\n",
       "\n",
       "    .dataframe tbody tr th {\n",
       "        vertical-align: top;\n",
       "    }\n",
       "\n",
       "    .dataframe thead th {\n",
       "        text-align: right;\n",
       "    }\n",
       "</style>\n",
       "<table border=\"1\" class=\"dataframe\">\n",
       "  <thead>\n",
       "    <tr style=\"text-align: right;\">\n",
       "      <th></th>\n",
       "      <th>VT_Avg_Temp(F)</th>\n",
       "      <th>VT_PRCP(mm)</th>\n",
       "      <th>ME_Avg_Temp(F)</th>\n",
       "      <th>ME_PRCP(mm)</th>\n",
       "      <th>CT_Avg_Temp(F)</th>\n",
       "      <th>CT_PRCP(mm)</th>\n",
       "      <th>MA_Avg_Temp(F)</th>\n",
       "      <th>MA_PRCP(mm)</th>\n",
       "      <th>CT_Conf_Cases</th>\n",
       "      <th>VT_Conf_Cases</th>\n",
       "      <th>ME_Conf_Cases</th>\n",
       "      <th>MA_Conf_Cases</th>\n",
       "      <th>weekday</th>\n",
       "    </tr>\n",
       "    <tr>\n",
       "      <th>date</th>\n",
       "      <th></th>\n",
       "      <th></th>\n",
       "      <th></th>\n",
       "      <th></th>\n",
       "      <th></th>\n",
       "      <th></th>\n",
       "      <th></th>\n",
       "      <th></th>\n",
       "      <th></th>\n",
       "      <th></th>\n",
       "      <th></th>\n",
       "      <th></th>\n",
       "      <th></th>\n",
       "    </tr>\n",
       "  </thead>\n",
       "  <tbody>\n",
       "    <tr>\n",
       "      <th>2020-01-22</th>\n",
       "      <td>26.96</td>\n",
       "      <td>0.0</td>\n",
       "      <td>19.04</td>\n",
       "      <td>0.0</td>\n",
       "      <td>18.32</td>\n",
       "      <td>0.0</td>\n",
       "      <td>22.46</td>\n",
       "      <td>0.0</td>\n",
       "      <td>0.0</td>\n",
       "      <td>0.0</td>\n",
       "      <td>0.0</td>\n",
       "      <td>0.0</td>\n",
       "      <td>2</td>\n",
       "    </tr>\n",
       "    <tr>\n",
       "      <th>2020-01-23</th>\n",
       "      <td>27.14</td>\n",
       "      <td>0.0</td>\n",
       "      <td>26.60</td>\n",
       "      <td>0.3</td>\n",
       "      <td>23.72</td>\n",
       "      <td>0.0</td>\n",
       "      <td>32.00</td>\n",
       "      <td>0.0</td>\n",
       "      <td>0.0</td>\n",
       "      <td>0.0</td>\n",
       "      <td>0.0</td>\n",
       "      <td>0.0</td>\n",
       "      <td>3</td>\n",
       "    </tr>\n",
       "    <tr>\n",
       "      <th>2020-01-24</th>\n",
       "      <td>30.56</td>\n",
       "      <td>0.0</td>\n",
       "      <td>29.48</td>\n",
       "      <td>0.0</td>\n",
       "      <td>33.08</td>\n",
       "      <td>0.0</td>\n",
       "      <td>35.42</td>\n",
       "      <td>0.0</td>\n",
       "      <td>0.0</td>\n",
       "      <td>0.0</td>\n",
       "      <td>0.0</td>\n",
       "      <td>0.0</td>\n",
       "      <td>4</td>\n",
       "    </tr>\n",
       "    <tr>\n",
       "      <th>2020-01-27</th>\n",
       "      <td>34.52</td>\n",
       "      <td>1.3</td>\n",
       "      <td>31.46</td>\n",
       "      <td>1.0</td>\n",
       "      <td>38.84</td>\n",
       "      <td>0.0</td>\n",
       "      <td>39.02</td>\n",
       "      <td>0.0</td>\n",
       "      <td>0.0</td>\n",
       "      <td>0.0</td>\n",
       "      <td>0.0</td>\n",
       "      <td>0.0</td>\n",
       "      <td>0</td>\n",
       "    </tr>\n",
       "    <tr>\n",
       "      <th>2020-01-28</th>\n",
       "      <td>30.02</td>\n",
       "      <td>0.3</td>\n",
       "      <td>21.56</td>\n",
       "      <td>0.0</td>\n",
       "      <td>36.68</td>\n",
       "      <td>0.0</td>\n",
       "      <td>37.40</td>\n",
       "      <td>0.0</td>\n",
       "      <td>0.0</td>\n",
       "      <td>0.0</td>\n",
       "      <td>0.0</td>\n",
       "      <td>0.0</td>\n",
       "      <td>1</td>\n",
       "    </tr>\n",
       "  </tbody>\n",
       "</table>\n",
       "</div>"
      ],
      "text/plain": [
       "            VT_Avg_Temp(F)  VT_PRCP(mm)  ME_Avg_Temp(F)  ME_PRCP(mm)  \\\n",
       "date                                                                   \n",
       "2020-01-22           26.96          0.0           19.04          0.0   \n",
       "2020-01-23           27.14          0.0           26.60          0.3   \n",
       "2020-01-24           30.56          0.0           29.48          0.0   \n",
       "2020-01-27           34.52          1.3           31.46          1.0   \n",
       "2020-01-28           30.02          0.3           21.56          0.0   \n",
       "\n",
       "            CT_Avg_Temp(F)  CT_PRCP(mm)  MA_Avg_Temp(F)  MA_PRCP(mm)  \\\n",
       "date                                                                   \n",
       "2020-01-22           18.32          0.0           22.46          0.0   \n",
       "2020-01-23           23.72          0.0           32.00          0.0   \n",
       "2020-01-24           33.08          0.0           35.42          0.0   \n",
       "2020-01-27           38.84          0.0           39.02          0.0   \n",
       "2020-01-28           36.68          0.0           37.40          0.0   \n",
       "\n",
       "            CT_Conf_Cases  VT_Conf_Cases  ME_Conf_Cases  MA_Conf_Cases  \\\n",
       "date                                                                     \n",
       "2020-01-22            0.0            0.0            0.0            0.0   \n",
       "2020-01-23            0.0            0.0            0.0            0.0   \n",
       "2020-01-24            0.0            0.0            0.0            0.0   \n",
       "2020-01-27            0.0            0.0            0.0            0.0   \n",
       "2020-01-28            0.0            0.0            0.0            0.0   \n",
       "\n",
       "            weekday  \n",
       "date                 \n",
       "2020-01-22        2  \n",
       "2020-01-23        3  \n",
       "2020-01-24        4  \n",
       "2020-01-27        0  \n",
       "2020-01-28        1  "
      ]
     },
     "execution_count": 3,
     "metadata": {},
     "output_type": "execute_result"
    }
   ],
   "source": [
    "df.head()"
   ]
  },
  {
   "cell_type": "code",
   "execution_count": 4,
   "id": "98e0b0e9",
   "metadata": {},
   "outputs": [],
   "source": [
    "df_vt=df.drop(columns=['ME_Avg_Temp(F)', 'ME_PRCP(mm)', 'ME_Conf_Cases', 'CT_Avg_Temp(F)', 'CT_PRCP(mm)', 'CT_Conf_Cases', 'MA_Avg_Temp(F)', 'MA_PRCP(mm)', 'MA_Conf_Cases','weekday'])"
   ]
  },
  {
   "cell_type": "code",
   "execution_count": 5,
   "id": "1682c0b3",
   "metadata": {},
   "outputs": [],
   "source": [
    "df_me=df.drop(columns=['VT_Avg_Temp(F)', 'VT_PRCP(mm)', 'VT_Conf_Cases', 'CT_Avg_Temp(F)', 'CT_PRCP(mm)', 'CT_Conf_Cases', 'MA_Avg_Temp(F)', 'MA_PRCP(mm)', 'MA_Conf_Cases','weekday'])"
   ]
  },
  {
   "cell_type": "code",
   "execution_count": 6,
   "id": "dc32d41c",
   "metadata": {},
   "outputs": [],
   "source": [
    "df_ma=df.drop(columns=['ME_Avg_Temp(F)', 'ME_PRCP(mm)', 'ME_Conf_Cases', 'CT_Avg_Temp(F)', 'CT_PRCP(mm)', 'CT_Conf_Cases', 'VT_Avg_Temp(F)', 'VT_PRCP(mm)', 'VT_Conf_Cases','weekday'])"
   ]
  },
  {
   "cell_type": "code",
   "execution_count": 7,
   "id": "fcf38d54",
   "metadata": {},
   "outputs": [],
   "source": [
    "df_ct= df.drop(columns=['ME_Avg_Temp(F)', 'ME_PRCP(mm)', 'ME_Conf_Cases', 'VT_Avg_Temp(F)', 'VT_PRCP(mm)', 'VT_Conf_Cases', 'MA_Avg_Temp(F)', 'MA_PRCP(mm)', 'MA_Conf_Cases','weekday'])"
   ]
  },
  {
   "cell_type": "code",
   "execution_count": 8,
   "id": "b73a8be5",
   "metadata": {},
   "outputs": [
    {
     "data": {
      "text/plain": [
       "Text(0.5, 1.0, 'Frequency of case levels in MA')"
      ]
     },
     "execution_count": 8,
     "metadata": {},
     "output_type": "execute_result"
    },
    {
     "data": {
      "image/png": "[encoded data removed]",
      "text/plain": [
       "<Figure size 432x288 with 1 Axes>"
      ]
     },
     "metadata": {},
     "output_type": "display_data"
    }
   ],
   "source": [
    "#Let's take a look at the distribution of case counts for MA\n",
    "sns.set_style(\"whitegrid\")\n",
    "sns.histplot(df_ma.MA_Conf_Cases, bins=20)\n",
    "plt.title('Frequency of case levels in MA')"
   ]
  },
  {
   "cell_type": "code",
   "execution_count": 9,
   "id": "6707c7ba",
   "metadata": {},
   "outputs": [
    {
     "data": {
      "text/plain": [
       "Text(0.5, 1.0, 'Frequency of case levels in ME')"
      ]
     },
     "execution_count": 9,
     "metadata": {},
     "output_type": "execute_result"
    },
    {
     "data": {
      "image/png": "[encoded data removed]",
      "text/plain": [
       "<Figure size 432x288 with 1 Axes>"
      ]
     },
     "metadata": {},
     "output_type": "display_data"
    }
   ],
   "source": [
    "# For ME\n",
    "sns.histplot(df_me.ME_Conf_Cases, bins=20)\n",
    "plt.title('Frequency of case levels in ME')"
   ]
  },
  {
   "cell_type": "code",
   "execution_count": 10,
   "id": "1ddc79c9",
   "metadata": {},
   "outputs": [
    {
     "data": {
      "text/plain": [
       "Text(0.5, 1.0, 'Frequency of case levels in VT')"
      ]
     },
     "execution_count": 10,
     "metadata": {},
     "output_type": "execute_result"
    },
    {
     "data": {
      "image/png": "[encoded data removed]",
      "text/plain": [
       "<Figure size 432x288 with 1 Axes>"
      ]
     },
     "metadata": {},
     "output_type": "display_data"
    }
   ],
   "source": [
    "# For VT\n",
    "sns.histplot(df_vt.VT_Conf_Cases, bins=20)\n",
    "plt.title('Frequency of case levels in VT')"
   ]
  },
  {
   "cell_type": "code",
   "execution_count": 11,
   "id": "bf461d17",
   "metadata": {},
   "outputs": [
    {
     "data": {
      "text/plain": [
       "Text(0.5, 1.0, 'Frequency of case levels in CT')"
      ]
     },
     "execution_count": 11,
     "metadata": {},
     "output_type": "execute_result"
    },
    {
     "data": {
      "image/png": "[encoded data removed]",
      "text/plain": [
       "<Figure size 432x288 with 1 Axes>"
      ]
     },
     "metadata": {},
     "output_type": "display_data"
    }
   ],
   "source": [
    "# For CT\n",
    "sns.histplot(df_ct.CT_Conf_Cases)\n",
    "plt.title('Frequency of case levels in CT')"
   ]
  },
  {
   "cell_type": "code",
   "execution_count": 12,
   "id": "1e1eb36f",
   "metadata": {},
   "outputs": [],
   "source": [
    "#df_vt.head()\n",
    "#df_ma.head()\n",
    "#df_ma.tail()\n",
    "#df_me.head()\n",
    "#df_ct.head()"
   ]
  },
  {
   "cell_type": "markdown",
   "id": "a0b9b9c7",
   "metadata": {},
   "source": [
    "Let's start off by defining a function for running and printing the Augmented Dickey Fuller Test:"
   ]
  },
  {
   "cell_type": "code",
   "execution_count": 13,
   "id": "c5ba732d",
   "metadata": {},
   "outputs": [],
   "source": [
    "#def ADF_test(df, column_name):\n",
    "    #res = adfuller(df[column_name])\n",
    "    #print(column_name, \"ADF: \", res)"
   ]
  },
  {
   "cell_type": "markdown",
   "id": "4718e7f8",
   "metadata": {},
   "source": [
    "#### Vermont Initial Augmented Dickey Fuller scores:"
   ]
  },
  {
   "cell_type": "code",
   "execution_count": null,
   "id": "16765cd3",
   "metadata": {},
   "outputs": [],
   "source": [
    "#ADF_test(df_vt, 'VT_Conf_Cases')"
   ]
  },
  {
   "cell_type": "code",
   "execution_count": null,
   "id": "7050d830",
   "metadata": {},
   "outputs": [],
   "source": [
    "#ADF_test(df_vt, 'VT_Avg_Temp(F)')"
   ]
  },
  {
   "cell_type": "code",
   "execution_count": null,
   "id": "02c28665",
   "metadata": {},
   "outputs": [],
   "source": [
    "#ADF_test(df_vt, 'VT_PRCP(mm)')"
   ]
  },
  {
   "cell_type": "markdown",
   "id": "fe5137f9",
   "metadata": {},
   "source": [
    "***"
   ]
  },
  {
   "cell_type": "markdown",
   "id": "5d905cc8",
   "metadata": {},
   "source": [
    "#### Connecticut Initial Augmented Dickey Fuller scores:"
   ]
  },
  {
   "cell_type": "code",
   "execution_count": null,
   "id": "d21cb2d8",
   "metadata": {},
   "outputs": [],
   "source": [
    "#ADF_test(df_ct, 'CT_Conf_Cases')"
   ]
  },
  {
   "cell_type": "code",
   "execution_count": null,
   "id": "3dfd9f28",
   "metadata": {},
   "outputs": [],
   "source": [
    "#ADF_test(df_ct, 'CT_Avg_Temp(F)')"
   ]
  },
  {
   "cell_type": "code",
   "execution_count": null,
   "id": "363d043c",
   "metadata": {},
   "outputs": [],
   "source": [
    "#ADF_test(df_ct, 'CT_PRCP(mm)')"
   ]
  },
  {
   "cell_type": "markdown",
   "id": "cfed1cc1",
   "metadata": {},
   "source": [
    "***"
   ]
  },
  {
   "cell_type": "markdown",
   "id": "cae3474b",
   "metadata": {},
   "source": [
    "#### Massachusetts Initial Augmented Dickey Fuller scores:"
   ]
  },
  {
   "cell_type": "code",
   "execution_count": null,
   "id": "e803a2dd",
   "metadata": {},
   "outputs": [],
   "source": [
    "#ADF_test(df_ma, 'MA_Conf_Cases')"
   ]
  },
  {
   "cell_type": "code",
   "execution_count": null,
   "id": "b489f441",
   "metadata": {},
   "outputs": [],
   "source": [
    "#ADF_test(df_ma, 'MA_Avg_Temp(F)')"
   ]
  },
  {
   "cell_type": "code",
   "execution_count": null,
   "id": "b69ac433",
   "metadata": {},
   "outputs": [],
   "source": [
    "#ADF_test(df_ma, 'MA_PRCP(mm)')"
   ]
  },
  {
   "cell_type": "markdown",
   "id": "3ae0af0a",
   "metadata": {},
   "source": [
    "***"
   ]
  },
  {
   "cell_type": "markdown",
   "id": "f5598b9b",
   "metadata": {},
   "source": [
    "#### Maine Initial Augmented Dickey Fuller scores:"
   ]
  },
  {
   "cell_type": "code",
   "execution_count": null,
   "id": "5f97a15d",
   "metadata": {},
   "outputs": [],
   "source": [
    "#ADF_test(df_me, 'ME_Conf_Cases')"
   ]
  },
  {
   "cell_type": "code",
   "execution_count": null,
   "id": "47fc3c8c",
   "metadata": {},
   "outputs": [],
   "source": [
    "#ADF_test(df_me, 'ME_Avg_Temp(F)')"
   ]
  },
  {
   "cell_type": "code",
   "execution_count": null,
   "id": "66de082f",
   "metadata": {},
   "outputs": [],
   "source": [
    "#ADF_test(df_me, 'ME_PRCP(mm)')"
   ]
  },
  {
   "cell_type": "markdown",
   "id": "bedd8fa8",
   "metadata": {},
   "source": [
    "***"
   ]
  },
  {
   "cell_type": "markdown",
   "id": "63029da7",
   "metadata": {},
   "source": [
    "According to these results, it appears that the only data that is already stationary is `PRCP(mm)`. \n",
    "In order to perform time series analysis on **the rest of the data**, we will need to make it stationary as well. \n",
    "\n",
    "* __Strong Stationarity:__ entire distribution of data is time-invariant. \n",
    "* __Weak Stationarity:__ mean, variance, and autocorrelation are time invariant (easier to test).\n",
    "\n",
    "We will compute __first differences__ on the remaining data and then recalculate p-value of rejecting the null hyppothesis with ADF test for these data. \n",
    "\n",
    "## Define a function that accepts a dict for code below?"
   ]
  },
  {
   "cell_type": "code",
   "execution_count": null,
   "id": "b6895e26",
   "metadata": {
    "scrolled": true
   },
   "outputs": [],
   "source": [
    "#df_vt['VT_Conf_Cases'] = df_vt['VT_Conf_Cases'].diff()\n",
    "#df_vt['VT_Avg_Temp(F)'] = df_vt['VT_Avg_Temp(F)'].diff()"
   ]
  },
  {
   "cell_type": "code",
   "execution_count": null,
   "id": "6d42ef55",
   "metadata": {},
   "outputs": [],
   "source": [
    "#df_ct['CT_Conf_Cases'] = df_ct['CT_Conf_Cases'].diff()\n",
    "#df_ct['CT_Avg_Temp(F)'] = df_ct['CT_Avg_Temp(F)'].diff()"
   ]
  },
  {
   "cell_type": "code",
   "execution_count": null,
   "id": "e8b76212",
   "metadata": {},
   "outputs": [],
   "source": [
    "#df_me['ME_Conf_Cases'] = df_me['ME_Conf_Cases'].diff()\n",
    "#df_me['ME_Avg_Temp(F)'] = df_me['ME_Avg_Temp(F)'].diff()"
   ]
  },
  {
   "cell_type": "code",
   "execution_count": null,
   "id": "e8a13c72",
   "metadata": {},
   "outputs": [],
   "source": [
    "#df_ma['MA_Conf_Cases'] = df_ma['MA_Conf_Cases'].diff()\n",
    "#df_ma['MA_Avg_Temp(F)'] = df_ma['MA_Avg_Temp(F)'].diff()"
   ]
  },
  {
   "cell_type": "markdown",
   "id": "39fd64fc",
   "metadata": {},
   "source": [
    "Quick visual check to see how well the transformations helped stationarize the data:"
   ]
  },
  {
   "cell_type": "code",
   "execution_count": null,
   "id": "3234b785",
   "metadata": {},
   "outputs": [],
   "source": [
    "#plt.plot(df_vt['VT_Conf_Cases'])\n",
    "#plt.xticks(rotation=90)\n",
    "#plt.show()"
   ]
  },
  {
   "cell_type": "markdown",
   "id": "1aecca58",
   "metadata": {},
   "source": [
    "Because we took first differences of the data sets, the first value of `Conf_Cases` for each state will become `NaN` (there is no data prior to the first piece of data). \n",
    "\n",
    "We cannot perform the ADF test on the datasets if they contain `NaN` values, so we'll have to either remove or replace those values\n",
    "\n",
    "We could delete the first row of each dataframe, or perform the ADF test from the second row of data on, but there is an even simpler solution to this problem. Each of these states ([Vermont](https://www.vpr.org/vpr-news/2020-03-08/health-officials-announce-first-coronavirus-case-in-vermont), [Massachusetts](https://www.mass.gov/news/first-presumptive-positive-case-of-covid-19-identified-by-massachusetts-state-public-health-laboratory), [Connecticut](https://portal.ct.gov/Office-of-the-Governor/News/Press-Releases/2020/03-2020/Governor-Lamont-Announces-First-Positive-Case-of-Novel-Coronavirus-Involving-a-Connecticut-Resident), [Maine](https://www.maine.gov/covid19/timeline)) had their first respective COVID19 case 1-2 months after the date of the first value. Therefore, we know that on the day before our first data point (namely, 01/21/2021), the number of confirmed cases in each of these states must also have been zero. The difference between zero and zero is obvioulsy zero, so we can confidently replace this particular `NaN` with a zero, and thereby prevent losing a row of data for each state."
   ]
  },
  {
   "cell_type": "code",
   "execution_count": null,
   "id": "c15bd861",
   "metadata": {},
   "outputs": [],
   "source": [
    "# Confirm first value of VT's cases is NaN:\n",
    "#print(df_vt.VT_Conf_Cases[0])"
   ]
  },
  {
   "cell_type": "code",
   "execution_count": null,
   "id": "ae4845ef",
   "metadata": {},
   "outputs": [],
   "source": [
    "#Replace NaN with 0 for VERMONT:\n",
    "#df_vt.VT_Conf_Cases[0] = 0\n",
    "#df_vt['VT_Avg_Temp(F)'][0] = 0\n",
    "#df_vt.head()"
   ]
  },
  {
   "cell_type": "code",
   "execution_count": null,
   "id": "ddc61e04",
   "metadata": {},
   "outputs": [],
   "source": [
    "#Replace NaN with 0 for MAINE:\n",
    "#df_me.ME_Conf_Cases[0] = 0\n",
    "#df_me['ME_Avg_Temp(F)'][0] = 0\n",
    "#df_me.head()"
   ]
  },
  {
   "cell_type": "code",
   "execution_count": null,
   "id": "a47fda49",
   "metadata": {},
   "outputs": [],
   "source": [
    "#Replace NaN with 0 for CONNECTICUT:\n",
    "#df_ma.MA_Conf_Cases[0] = 0\n",
    "#df_ma['MA_Avg_Temp(F)'][0] = 0\n",
    "#df_ma.head()"
   ]
  },
  {
   "cell_type": "code",
   "execution_count": null,
   "id": "747a4ab9",
   "metadata": {},
   "outputs": [],
   "source": [
    "#Replace NaN with 0 for MASSACHUSETTS:\n",
    "#df_ct.CT_Conf_Cases[0] = 0\n",
    "#df_ct['CT_Avg_Temp(F)'][0] = 0\n",
    "#df_ct.head()"
   ]
  },
  {
   "cell_type": "markdown",
   "id": "31ec735b",
   "metadata": {},
   "source": [
    "#### Re-run ADF test for VERMONT"
   ]
  },
  {
   "cell_type": "code",
   "execution_count": null,
   "id": "c8d65c5d",
   "metadata": {
    "scrolled": true
   },
   "outputs": [],
   "source": [
    "#ADF_test(df_vt, 'VT_Conf_Cases')"
   ]
  },
  {
   "cell_type": "code",
   "execution_count": null,
   "id": "c818e611",
   "metadata": {},
   "outputs": [],
   "source": [
    "#ADF_test(df_vt, 'VT_Avg_Temp(F)')"
   ]
  },
  {
   "cell_type": "markdown",
   "id": "49aca978",
   "metadata": {},
   "source": [
    "#### Re-run ADF test for MAINE"
   ]
  },
  {
   "cell_type": "code",
   "execution_count": null,
   "id": "0fd91e76",
   "metadata": {},
   "outputs": [],
   "source": [
    "#ADF_test(df_me, 'ME_Conf_Cases')"
   ]
  },
  {
   "cell_type": "code",
   "execution_count": null,
   "id": "24b261cc",
   "metadata": {},
   "outputs": [],
   "source": [
    "#ADF_test(df_me, 'ME_Avg_Temp(F)')"
   ]
  },
  {
   "cell_type": "markdown",
   "id": "e667af91",
   "metadata": {},
   "source": [
    "#### Re-run ADF test for CONNECTICUT"
   ]
  },
  {
   "cell_type": "code",
   "execution_count": null,
   "id": "5df520c1",
   "metadata": {},
   "outputs": [],
   "source": [
    "#ADF_test(df_ct, 'CT_Conf_Cases')"
   ]
  },
  {
   "cell_type": "code",
   "execution_count": null,
   "id": "e3b31bb5",
   "metadata": {},
   "outputs": [],
   "source": [
    "#ADF_test(df_ct, 'CT_Avg_Temp(F)')"
   ]
  },
  {
   "cell_type": "markdown",
   "id": "c3d08aad",
   "metadata": {},
   "source": [
    "#### Re-run ADF test for MASSACHUSETTS"
   ]
  },
  {
   "cell_type": "code",
   "execution_count": null,
   "id": "3d98ef7a",
   "metadata": {},
   "outputs": [],
   "source": [
    "#ADF_test(df_ma, 'MA_Conf_Cases')"
   ]
  },
  {
   "cell_type": "code",
   "execution_count": null,
   "id": "23f5b8b5",
   "metadata": {},
   "outputs": [],
   "source": [
    "#ADF_test(df_ma, 'MA_Avg_Temp(F)')"
   ]
  },
  {
   "cell_type": "markdown",
   "id": "705f6260",
   "metadata": {},
   "source": [
    "Now all of the data appears stationary and we have no more `NaN` values in any of the datasets."
   ]
  },
  {
   "cell_type": "markdown",
   "id": "8d1c4229",
   "metadata": {},
   "source": [
    "***"
   ]
  },
  {
   "cell_type": "code",
   "execution_count": 14,
   "id": "3ad8a934",
   "metadata": {},
   "outputs": [],
   "source": [
    "# Make duplicates of datasets for processing with Pycaret:\n",
    "df_vt2 = df_vt.reset_index()\n",
    "df_ct2 = df_ct.reset_index()\n",
    "df_me2 = df_me.reset_index()\n",
    "df_ma2 = df_ma.reset_index()"
   ]
  },
  {
   "cell_type": "code",
   "execution_count": null,
   "id": "93643799",
   "metadata": {},
   "outputs": [],
   "source": [
    "#df_ma3 = df_ma2[df_ma2['date']< '2021-03-01']\n",
    "#df_ct3 = df_ct2[df_ct2['date']< '2021-03-01']\n",
    "#df_me3 = df_me2[df_me2['date']< '2021-03-01']\n",
    "#df_vt3 = df_vt2[df_vt2['date']< '2021-03-01']"
   ]
  },
  {
   "cell_type": "code",
   "execution_count": 15,
   "id": "62941174",
   "metadata": {},
   "outputs": [],
   "source": [
    "df_ma3 = df_ma2\n",
    "df_ct3 = df_ct2\n",
    "df_me3 = df_me2\n",
    "df_vt3 = df_vt2"
   ]
  },
  {
   "cell_type": "code",
   "execution_count": 16,
   "id": "0174d50b",
   "metadata": {},
   "outputs": [],
   "source": [
    "df_list = [df_ct3, df_ma3, df_me3, df_vt3]"
   ]
  },
  {
   "cell_type": "code",
   "execution_count": 17,
   "id": "40f3fd63",
   "metadata": {},
   "outputs": [],
   "source": [
    "# Add 'day_of_week' and 'day_of_year' columns to each dataframe\n",
    "for df in df_list:\n",
    "    df['day_of_week'] = [i.dayofweek for i in df['date']]\n",
    "    df['day_of_year'] = [i.dayofyear for i in df['date']]\n",
    "    df['Year'] =[i.year for i in df['date']]\n",
    "    df['Month'] = [i.month for i in df['date']]\n",
    "    df['Day'] = [i.day for i in df['date']]"
   ]
  },
  {
   "cell_type": "code",
   "execution_count": null,
   "id": "61ffc46f",
   "metadata": {},
   "outputs": [],
   "source": [
    "\"\"\"\n",
    "from pycaret.regression import *\n",
    "all_results=[]\n",
    "df_subset = df_ma3\n",
    "\n",
    "# initialize setup from pycaret.regression\n",
    "s = setup(df_subset, target = 'MA_Conf_Cases', train_size = 0.8,\n",
    "            data_split_shuffle = True, fold = 3,\n",
    "            ignore_features = ['date', 'MA_PRCP(mm)', 'MA_Avg_Temp(F)'],\n",
    "            numeric_features = ['day_of_year', 'Year'],\n",
    "            categorical_features = ['Month', 'day_of_week'],\n",
    "            silent = True, verbose = False, session_id = 123,\n",
    "            normalize=False)\n",
    "    \n",
    "# compare all models and select best one based on MAE\n",
    "best_model = compare_models(sort = 'R2', verbose=False)\n",
    "    \n",
    "# capture the compare result grid and store best model in list\n",
    "p = pull().iloc[0:1]\n",
    "p['time_series'] = str(\"MA\")\n",
    "all_results.append(p)\n",
    "    \n",
    "# finalize model i.e. fit on entire data including test set\n",
    "f = finalize_model(best_model)\n",
    "best_model\n",
    "\"\"\""
   ]
  },
  {
   "cell_type": "code",
   "execution_count": null,
   "id": "e75b59ea",
   "metadata": {},
   "outputs": [],
   "source": [
    "#concat_results = pd.concat(all_results,axis=0)\n",
    "#concat_results.head()"
   ]
  },
  {
   "cell_type": "code",
   "execution_count": null,
   "id": "794ec404",
   "metadata": {},
   "outputs": [],
   "source": [
    "\"\"\"\n",
    "all_results=[]\n",
    "df_subset = df_ct3\n",
    "\n",
    "# initialize setup from pycaret.regression\n",
    "s = setup(df_subset, target = 'CT_Conf_Cases', train_size = 0.8,\n",
    "            data_split_shuffle = True, fold = 3,\n",
    "            ignore_features = ['date', 'CT_PRCP(mm)', 'CT_Avg_Temp(F)'],\n",
    "            numeric_features = ['day_of_year', 'Year'],\n",
    "            categorical_features = ['Month', 'day_of_week'],\n",
    "            silent = True, verbose = False, session_id = 123,\n",
    "            normalize=True)\n",
    "    \n",
    "# compare all models and select best one based on MAE\n",
    "best_model = compare_models(sort = 'R2', verbose=False)\n",
    "    \n",
    "# capture the compare result grid and store best model in list\n",
    "p = pull().iloc[0:1]\n",
    "p['time_series'] = str(\"CT\")\n",
    "all_results.append(p)\n",
    "    \n",
    "# finalize model i.e. fit on entire data including test set\n",
    "f = finalize_model(best_model)\n",
    "best_model\n",
    "\"\"\""
   ]
  },
  {
   "cell_type": "code",
   "execution_count": null,
   "id": "aae20d0d",
   "metadata": {},
   "outputs": [],
   "source": [
    "#concat_results = pd.concat([pd.concat(all_results, axis=0), concat_results], axis=0)\n",
    "#concat_results"
   ]
  },
  {
   "cell_type": "code",
   "execution_count": null,
   "id": "6e205597",
   "metadata": {},
   "outputs": [],
   "source": [
    "\"\"\"\n",
    "all_results=[]\n",
    "df_subset = df_vt3\n",
    "\n",
    "# initialize setup from pycaret.regression\n",
    "s = setup(df_subset, target = 'VT_Conf_Cases', train_size = 0.8,\n",
    "            data_split_shuffle = True, fold = 3,\n",
    "            ignore_features = ['date', 'VT_PRCP(mm)', 'VT_Avg_Temp(F)'],\n",
    "            numeric_features = ['day_of_year', 'Year'],\n",
    "            categorical_features = ['Month', 'day_of_week'],\n",
    "            silent = True, verbose = False, session_id = 123,\n",
    "            normalize=True)\n",
    "    \n",
    "# compare all models and select best one based on MAE\n",
    "best_model = compare_models(sort = 'R2', verbose=False)\n",
    "    \n",
    "# capture the compare result grid and store best model in list\n",
    "p = pull().iloc[0:1]\n",
    "p['time_series'] = str(\"VT\")\n",
    "all_results.append(p)\n",
    "    \n",
    "# finalize model i.e. fit on entire data including test set\n",
    "f = finalize_model(best_model)\n",
    "best_model\n",
    "\"\"\""
   ]
  },
  {
   "cell_type": "code",
   "execution_count": null,
   "id": "b074da80",
   "metadata": {},
   "outputs": [],
   "source": [
    "#concat_results = pd.concat([pd.concat(all_results, axis=0), concat_results], axis=0)\n",
    "#concat_results"
   ]
  },
  {
   "cell_type": "code",
   "execution_count": null,
   "id": "ad2b9c0b",
   "metadata": {},
   "outputs": [],
   "source": [
    "\"\"\"\n",
    "all_results=[]\n",
    "df_subset = df_me3\n",
    "\n",
    "# initialize setup from pycaret.regression\n",
    "s = setup(df_subset, target = 'ME_Conf_Cases', train_size = 0.8,\n",
    "            data_split_shuffle = True, fold = 3,\n",
    "            ignore_features = ['date', 'ME_PRCP(mm)', 'ME_Avg_Temp(F)'],\n",
    "            numeric_features = ['day_of_year', 'Year'],\n",
    "            categorical_features = ['Month', 'day_of_week'],\n",
    "            silent = True, verbose = False, session_id = 123,\n",
    "            normalize=True)\n",
    "    \n",
    "# compare all models and select best one based on MAE\n",
    "best_model = compare_models(sort = 'R2', verbose=False)\n",
    "    \n",
    "# capture the compare result grid and store best model in list\n",
    "p = pull().iloc[0:1]\n",
    "p['time_series'] = str(\"ME\")\n",
    "all_results.append(p)\n",
    "    \n",
    "# finalize model i.e. fit on entire data including test set\n",
    "f = finalize_model(best_model)\n",
    "best_model\n",
    "\"\"\""
   ]
  },
  {
   "cell_type": "code",
   "execution_count": null,
   "id": "602ff105",
   "metadata": {},
   "outputs": [],
   "source": [
    "#concat_results = pd.concat([pd.concat(all_results, axis=0), concat_results], axis=0)\n",
    "#concat_results"
   ]
  },
  {
   "cell_type": "markdown",
   "id": "5b33037b",
   "metadata": {},
   "source": [
    "# US Census Bureau state populations\n",
    "* Massachusetts: 7,029,917 \n",
    "* Vermont: 643,077\t\n",
    "* Connecticut: 3,605,944\t\n",
    "* Maine: 1,362,359\n",
    "\n",
    "Source: [U.S. Census Bureau](https://www.census.gov/quickfacts/fact/table/VT,CT,MA,ME/PST045219) April 1, 2020 Census.\n",
    "\n",
    "Because some states are very densely populated, while others are much more sparsely populated, I'll calculate confirmed Covid cases as a percentage of overall population. \n",
    "\n",
    "In order to do this, I'll divide by the appropriate state's total population (as per the April 1, 2020 U.S. Census Bureau), and multiply by 100,000 for ten thousandths of a percent. "
   ]
  },
  {
   "cell_type": "code",
   "execution_count": 18,
   "id": "11e1dd85",
   "metadata": {},
   "outputs": [],
   "source": [
    "df_ma3['new_case_percent_pop*'] = (df_ma3['MA_Conf_Cases'] / 70.29917)"
   ]
  },
  {
   "cell_type": "code",
   "execution_count": 19,
   "id": "a006fad3",
   "metadata": {
    "scrolled": true
   },
   "outputs": [],
   "source": [
    "df_ct3['new_case_percent_pop*'] = (df_ct3['CT_Conf_Cases'] / 36.05944)"
   ]
  },
  {
   "cell_type": "code",
   "execution_count": 20,
   "id": "31dd7ef4",
   "metadata": {},
   "outputs": [],
   "source": [
    "df_me3['new_case_percent_pop*'] = (df_me3['ME_Conf_Cases'] / 13.62359)"
   ]
  },
  {
   "cell_type": "code",
   "execution_count": 21,
   "id": "50974aa8",
   "metadata": {},
   "outputs": [],
   "source": [
    "df_vt3['new_case_percent_pop*'] = (df_vt3['VT_Conf_Cases'] / 6.43077)"
   ]
  },
  {
   "cell_type": "markdown",
   "id": "177aeedf",
   "metadata": {},
   "source": [
    "Try the model using new cases as ten thousandths of a percent of population, rather than count."
   ]
  },
  {
   "cell_type": "code",
   "execution_count": 22,
   "id": "185fa416",
   "metadata": {},
   "outputs": [
    {
     "data": {
      "text/plain": [
       "ExtraTreesRegressor(bootstrap=False, ccp_alpha=0.0, criterion='mse',\n",
       "                    max_depth=None, max_features='auto', max_leaf_nodes=None,\n",
       "                    max_samples=None, min_impurity_decrease=0.0,\n",
       "                    min_impurity_split=None, min_samples_leaf=1,\n",
       "                    min_samples_split=2, min_weight_fraction_leaf=0.0,\n",
       "                    n_estimators=100, n_jobs=-1, oob_score=False,\n",
       "                    random_state=123, verbose=0, warm_start=False)"
      ]
     },
     "execution_count": 22,
     "metadata": {},
     "output_type": "execute_result"
    }
   ],
   "source": [
    "from pycaret.regression import *\n",
    "all_results=[]\n",
    "df_subset = df_ma3\n",
    "\n",
    "# initialize setup from pycaret.regression\n",
    "s = setup(df_subset, target = 'new_case_percent_pop*', train_size = 0.8,\n",
    "            data_split_shuffle = True, fold = 3,\n",
    "            ignore_features = ['date', 'MA_Conf_Cases', 'MA_PRCP(mm)'],\n",
    "            numeric_features = ['day_of_year', 'Year', 'MA_Avg_Temp(F)'],\n",
    "            categorical_features = ['Month', 'day_of_week'],\n",
    "            silent = True, verbose = False, session_id = 123,\n",
    "            normalize=False)\n",
    "    \n",
    "# compare all models and select best one based on MAE\n",
    "best_model = compare_models(sort = 'R2', verbose=False)\n",
    "    \n",
    "# capture the compare result grid and store best model in list\n",
    "p = pull().iloc[0:1]\n",
    "p['time_series'] = str(\"MA\")\n",
    "all_results.append(p)\n",
    "    \n",
    "# finalize model i.e. fit on entire data including test set\n",
    "f = finalize_model(best_model)\n",
    "best_model"
   ]
  },
  {
   "cell_type": "code",
   "execution_count": 23,
   "id": "8ed12732",
   "metadata": {},
   "outputs": [
    {
     "data": {
      "text/html": [
       "<div>\n",
       "<style scoped>\n",
       "    .dataframe tbody tr th:only-of-type {\n",
       "        vertical-align: middle;\n",
       "    }\n",
       "\n",
       "    .dataframe tbody tr th {\n",
       "        vertical-align: top;\n",
       "    }\n",
       "\n",
       "    .dataframe thead th {\n",
       "        text-align: right;\n",
       "    }\n",
       "</style>\n",
       "<table border=\"1\" class=\"dataframe\">\n",
       "  <thead>\n",
       "    <tr style=\"text-align: right;\">\n",
       "      <th></th>\n",
       "      <th>Model</th>\n",
       "      <th>MAE</th>\n",
       "      <th>MSE</th>\n",
       "      <th>RMSE</th>\n",
       "      <th>R2</th>\n",
       "      <th>RMSLE</th>\n",
       "      <th>MAPE</th>\n",
       "      <th>TT (Sec)</th>\n",
       "      <th>time_series</th>\n",
       "    </tr>\n",
       "  </thead>\n",
       "  <tbody>\n",
       "    <tr>\n",
       "      <th>et</th>\n",
       "      <td>Extra Trees Regressor</td>\n",
       "      <td>3.723</td>\n",
       "      <td>49.7956</td>\n",
       "      <td>6.9861</td>\n",
       "      <td>0.891</td>\n",
       "      <td>0.292</td>\n",
       "      <td>0.5166</td>\n",
       "      <td>0.0567</td>\n",
       "      <td>MA</td>\n",
       "    </tr>\n",
       "  </tbody>\n",
       "</table>\n",
       "</div>"
      ],
      "text/plain": [
       "                    Model    MAE      MSE    RMSE     R2  RMSLE    MAPE  \\\n",
       "et  Extra Trees Regressor  3.723  49.7956  6.9861  0.891  0.292  0.5166   \n",
       "\n",
       "    TT (Sec) time_series  \n",
       "et    0.0567          MA  "
      ]
     },
     "execution_count": 23,
     "metadata": {},
     "output_type": "execute_result"
    }
   ],
   "source": [
    "concat_results = pd.concat(all_results,axis=0)\n",
    "concat_results.head()"
   ]
  },
  {
   "cell_type": "code",
   "execution_count": 24,
   "id": "7a4a090e",
   "metadata": {},
   "outputs": [
    {
     "data": {
      "text/plain": [
       "<catboost.core.CatBoostRegressor at 0x14c21eaf0>"
      ]
     },
     "execution_count": 24,
     "metadata": {},
     "output_type": "execute_result"
    }
   ],
   "source": [
    "all_results=[]\n",
    "df_subset = df_ct3\n",
    "\n",
    "# initialize setup from pycaret.regression\n",
    "s = setup(df_subset, target = 'new_case_percent_pop*', train_size = 0.8,\n",
    "            data_split_shuffle = True, fold = 3,\n",
    "            ignore_features = ['date', 'CT_Conf_Cases', 'CT_PRCP(mm)'],\n",
    "            numeric_features = ['day_of_year', 'Year', 'CT_Avg_Temp(F)'],\n",
    "            categorical_features = ['Month', 'day_of_week'],\n",
    "            silent = True, verbose = False, session_id = 123,\n",
    "            normalize=True)\n",
    "    \n",
    "# compare all models and select best one based on MAE\n",
    "best_model = compare_models(sort = 'R2', verbose=False)\n",
    "    \n",
    "# capture the compare result grid and store best model in list\n",
    "p = pull().iloc[0:1]\n",
    "p['time_series'] = str(\"CT\")\n",
    "all_results.append(p)\n",
    "    \n",
    "# finalize model i.e. fit on entire data including test set\n",
    "f = finalize_model(best_model)\n",
    "best_model"
   ]
  },
  {
   "cell_type": "code",
   "execution_count": 25,
   "id": "82baba33",
   "metadata": {},
   "outputs": [
    {
     "data": {
      "text/html": [
       "<div>\n",
       "<style scoped>\n",
       "    .dataframe tbody tr th:only-of-type {\n",
       "        vertical-align: middle;\n",
       "    }\n",
       "\n",
       "    .dataframe tbody tr th {\n",
       "        vertical-align: top;\n",
       "    }\n",
       "\n",
       "    .dataframe thead th {\n",
       "        text-align: right;\n",
       "    }\n",
       "</style>\n",
       "<table border=\"1\" class=\"dataframe\">\n",
       "  <thead>\n",
       "    <tr style=\"text-align: right;\">\n",
       "      <th></th>\n",
       "      <th>Model</th>\n",
       "      <th>MAE</th>\n",
       "      <th>MSE</th>\n",
       "      <th>RMSE</th>\n",
       "      <th>R2</th>\n",
       "      <th>RMSLE</th>\n",
       "      <th>MAPE</th>\n",
       "      <th>TT (Sec)</th>\n",
       "      <th>time_series</th>\n",
       "    </tr>\n",
       "  </thead>\n",
       "  <tbody>\n",
       "    <tr>\n",
       "      <th>catboost</th>\n",
       "      <td>CatBoost Regressor</td>\n",
       "      <td>9.2569</td>\n",
       "      <td>336.9903</td>\n",
       "      <td>17.8909</td>\n",
       "      <td>0.6594</td>\n",
       "      <td>0.7477</td>\n",
       "      <td>1.0355</td>\n",
       "      <td>0.2033</td>\n",
       "      <td>CT</td>\n",
       "    </tr>\n",
       "    <tr>\n",
       "      <th>et</th>\n",
       "      <td>Extra Trees Regressor</td>\n",
       "      <td>3.7230</td>\n",
       "      <td>49.7956</td>\n",
       "      <td>6.9861</td>\n",
       "      <td>0.8910</td>\n",
       "      <td>0.2920</td>\n",
       "      <td>0.5166</td>\n",
       "      <td>0.0567</td>\n",
       "      <td>MA</td>\n",
       "    </tr>\n",
       "  </tbody>\n",
       "</table>\n",
       "</div>"
      ],
      "text/plain": [
       "                          Model     MAE       MSE     RMSE      R2   RMSLE  \\\n",
       "catboost     CatBoost Regressor  9.2569  336.9903  17.8909  0.6594  0.7477   \n",
       "et        Extra Trees Regressor  3.7230   49.7956   6.9861  0.8910  0.2920   \n",
       "\n",
       "            MAPE  TT (Sec) time_series  \n",
       "catboost  1.0355    0.2033          CT  \n",
       "et        0.5166    0.0567          MA  "
      ]
     },
     "execution_count": 25,
     "metadata": {},
     "output_type": "execute_result"
    }
   ],
   "source": [
    "concat_results = pd.concat([pd.concat(all_results, axis=0), concat_results], axis=0)\n",
    "concat_results"
   ]
  },
  {
   "cell_type": "code",
   "execution_count": 26,
   "id": "deea4406",
   "metadata": {},
   "outputs": [
    {
     "data": {
      "text/plain": [
       "<catboost.core.CatBoostRegressor at 0x14e294730>"
      ]
     },
     "execution_count": 26,
     "metadata": {},
     "output_type": "execute_result"
    }
   ],
   "source": [
    "all_results=[]\n",
    "df_subset = df_vt3\n",
    "\n",
    "# initialize setup from pycaret.regression\n",
    "s = setup(df_subset, target = 'new_case_percent_pop*', train_size = 0.8,\n",
    "            data_split_shuffle = True, fold = 3,\n",
    "            ignore_features = ['date', 'VT_Conf_Cases', 'VT_PRCP(mm)'],\n",
    "            numeric_features = ['day_of_year', 'Year', 'VT_Avg_Temp(F)'],\n",
    "            categorical_features = ['Month', 'day_of_week'],\n",
    "            silent = True, verbose = False, session_id = 123,\n",
    "            normalize=True)\n",
    "    \n",
    "# compare all models and select best one based on MAE\n",
    "best_model = compare_models(sort = 'R2', verbose=False)\n",
    "    \n",
    "# capture the compare result grid and store best model in list\n",
    "p = pull().iloc[0:1]\n",
    "p['time_series'] = str(\"VT\")\n",
    "all_results.append(p)\n",
    "    \n",
    "# finalize model i.e. fit on entire data including test set\n",
    "f = finalize_model(best_model)\n",
    "best_model"
   ]
  },
  {
   "cell_type": "code",
   "execution_count": 27,
   "id": "bc5b791e",
   "metadata": {},
   "outputs": [
    {
     "data": {
      "text/html": [
       "<div>\n",
       "<style scoped>\n",
       "    .dataframe tbody tr th:only-of-type {\n",
       "        vertical-align: middle;\n",
       "    }\n",
       "\n",
       "    .dataframe tbody tr th {\n",
       "        vertical-align: top;\n",
       "    }\n",
       "\n",
       "    .dataframe thead th {\n",
       "        text-align: right;\n",
       "    }\n",
       "</style>\n",
       "<table border=\"1\" class=\"dataframe\">\n",
       "  <thead>\n",
       "    <tr style=\"text-align: right;\">\n",
       "      <th></th>\n",
       "      <th>Model</th>\n",
       "      <th>MAE</th>\n",
       "      <th>MSE</th>\n",
       "      <th>RMSE</th>\n",
       "      <th>R2</th>\n",
       "      <th>RMSLE</th>\n",
       "      <th>MAPE</th>\n",
       "      <th>TT (Sec)</th>\n",
       "      <th>time_series</th>\n",
       "    </tr>\n",
       "  </thead>\n",
       "  <tbody>\n",
       "    <tr>\n",
       "      <th>catboost</th>\n",
       "      <td>CatBoost Regressor</td>\n",
       "      <td>3.0664</td>\n",
       "      <td>26.6521</td>\n",
       "      <td>5.0659</td>\n",
       "      <td>0.7332</td>\n",
       "      <td>0.5465</td>\n",
       "      <td>1.0534</td>\n",
       "      <td>0.1867</td>\n",
       "      <td>VT</td>\n",
       "    </tr>\n",
       "    <tr>\n",
       "      <th>catboost</th>\n",
       "      <td>CatBoost Regressor</td>\n",
       "      <td>9.2569</td>\n",
       "      <td>336.9903</td>\n",
       "      <td>17.8909</td>\n",
       "      <td>0.6594</td>\n",
       "      <td>0.7477</td>\n",
       "      <td>1.0355</td>\n",
       "      <td>0.2033</td>\n",
       "      <td>CT</td>\n",
       "    </tr>\n",
       "    <tr>\n",
       "      <th>et</th>\n",
       "      <td>Extra Trees Regressor</td>\n",
       "      <td>3.7230</td>\n",
       "      <td>49.7956</td>\n",
       "      <td>6.9861</td>\n",
       "      <td>0.8910</td>\n",
       "      <td>0.2920</td>\n",
       "      <td>0.5166</td>\n",
       "      <td>0.0567</td>\n",
       "      <td>MA</td>\n",
       "    </tr>\n",
       "  </tbody>\n",
       "</table>\n",
       "</div>"
      ],
      "text/plain": [
       "                          Model     MAE       MSE     RMSE      R2   RMSLE  \\\n",
       "catboost     CatBoost Regressor  3.0664   26.6521   5.0659  0.7332  0.5465   \n",
       "catboost     CatBoost Regressor  9.2569  336.9903  17.8909  0.6594  0.7477   \n",
       "et        Extra Trees Regressor  3.7230   49.7956   6.9861  0.8910  0.2920   \n",
       "\n",
       "            MAPE  TT (Sec) time_series  \n",
       "catboost  1.0534    0.1867          VT  \n",
       "catboost  1.0355    0.2033          CT  \n",
       "et        0.5166    0.0567          MA  "
      ]
     },
     "execution_count": 27,
     "metadata": {},
     "output_type": "execute_result"
    }
   ],
   "source": [
    "concat_results = pd.concat([pd.concat(all_results, axis=0), concat_results], axis=0)\n",
    "concat_results"
   ]
  },
  {
   "cell_type": "code",
   "execution_count": 28,
   "id": "a6be28ad",
   "metadata": {},
   "outputs": [
    {
     "data": {
      "text/plain": [
       "<catboost.core.CatBoostRegressor at 0x14bd74e20>"
      ]
     },
     "execution_count": 28,
     "metadata": {},
     "output_type": "execute_result"
    }
   ],
   "source": [
    "all_results=[]\n",
    "df_subset = df_me3\n",
    "\n",
    "# initialize setup from pycaret.regression\n",
    "s = setup(df_subset, target = 'new_case_percent_pop*', train_size = 0.8,\n",
    "            data_split_shuffle = True, fold = 3,\n",
    "            ignore_features = ['date', 'ME_Conf_Cases', 'ME_PRCP(mm)'],\n",
    "            numeric_features = ['day_of_year', 'Year','ME_Avg_Temp(F)'],\n",
    "            categorical_features = ['Month', 'day_of_week'],\n",
    "            silent = True, verbose = False, session_id = 123,\n",
    "            normalize=True)\n",
    "    \n",
    "# compare all models and select best one based on MAE\n",
    "best_model = compare_models(sort = 'R2', verbose=False)\n",
    "    \n",
    "# capture the compare result grid and store best model in list\n",
    "p = pull().iloc[0:1]\n",
    "p['time_series'] = str(\"ME\")\n",
    "all_results.append(p)\n",
    "    \n",
    "# finalize model i.e. fit on entire data including test set\n",
    "f = finalize_model(best_model)\n",
    "best_model"
   ]
  },
  {
   "cell_type": "code",
   "execution_count": 29,
   "id": "46d07616",
   "metadata": {},
   "outputs": [
    {
     "data": {
      "text/html": [
       "<div>\n",
       "<style scoped>\n",
       "    .dataframe tbody tr th:only-of-type {\n",
       "        vertical-align: middle;\n",
       "    }\n",
       "\n",
       "    .dataframe tbody tr th {\n",
       "        vertical-align: top;\n",
       "    }\n",
       "\n",
       "    .dataframe thead th {\n",
       "        text-align: right;\n",
       "    }\n",
       "</style>\n",
       "<table border=\"1\" class=\"dataframe\">\n",
       "  <thead>\n",
       "    <tr style=\"text-align: right;\">\n",
       "      <th></th>\n",
       "      <th>Model</th>\n",
       "      <th>MAE</th>\n",
       "      <th>MSE</th>\n",
       "      <th>RMSE</th>\n",
       "      <th>R2</th>\n",
       "      <th>RMSLE</th>\n",
       "      <th>MAPE</th>\n",
       "      <th>TT (Sec)</th>\n",
       "      <th>time_series</th>\n",
       "    </tr>\n",
       "  </thead>\n",
       "  <tbody>\n",
       "    <tr>\n",
       "      <th>catboost</th>\n",
       "      <td>CatBoost Regressor</td>\n",
       "      <td>2.9653</td>\n",
       "      <td>26.0658</td>\n",
       "      <td>5.0812</td>\n",
       "      <td>0.8417</td>\n",
       "      <td>0.5897</td>\n",
       "      <td>0.7980</td>\n",
       "      <td>0.1867</td>\n",
       "      <td>ME</td>\n",
       "    </tr>\n",
       "    <tr>\n",
       "      <th>catboost</th>\n",
       "      <td>CatBoost Regressor</td>\n",
       "      <td>3.0664</td>\n",
       "      <td>26.6521</td>\n",
       "      <td>5.0659</td>\n",
       "      <td>0.7332</td>\n",
       "      <td>0.5465</td>\n",
       "      <td>1.0534</td>\n",
       "      <td>0.1867</td>\n",
       "      <td>VT</td>\n",
       "    </tr>\n",
       "    <tr>\n",
       "      <th>catboost</th>\n",
       "      <td>CatBoost Regressor</td>\n",
       "      <td>9.2569</td>\n",
       "      <td>336.9903</td>\n",
       "      <td>17.8909</td>\n",
       "      <td>0.6594</td>\n",
       "      <td>0.7477</td>\n",
       "      <td>1.0355</td>\n",
       "      <td>0.2033</td>\n",
       "      <td>CT</td>\n",
       "    </tr>\n",
       "    <tr>\n",
       "      <th>et</th>\n",
       "      <td>Extra Trees Regressor</td>\n",
       "      <td>3.7230</td>\n",
       "      <td>49.7956</td>\n",
       "      <td>6.9861</td>\n",
       "      <td>0.8910</td>\n",
       "      <td>0.2920</td>\n",
       "      <td>0.5166</td>\n",
       "      <td>0.0567</td>\n",
       "      <td>MA</td>\n",
       "    </tr>\n",
       "  </tbody>\n",
       "</table>\n",
       "</div>"
      ],
      "text/plain": [
       "                          Model     MAE       MSE     RMSE      R2   RMSLE  \\\n",
       "catboost     CatBoost Regressor  2.9653   26.0658   5.0812  0.8417  0.5897   \n",
       "catboost     CatBoost Regressor  3.0664   26.6521   5.0659  0.7332  0.5465   \n",
       "catboost     CatBoost Regressor  9.2569  336.9903  17.8909  0.6594  0.7477   \n",
       "et        Extra Trees Regressor  3.7230   49.7956   6.9861  0.8910  0.2920   \n",
       "\n",
       "            MAPE  TT (Sec) time_series  \n",
       "catboost  0.7980    0.1867          ME  \n",
       "catboost  1.0534    0.1867          VT  \n",
       "catboost  1.0355    0.2033          CT  \n",
       "et        0.5166    0.0567          MA  "
      ]
     },
     "execution_count": 29,
     "metadata": {},
     "output_type": "execute_result"
    }
   ],
   "source": [
    "concat_results = pd.concat([pd.concat(all_results, axis=0), concat_results], axis=0)\n",
    "concat_results"
   ]
  },
  {
   "cell_type": "markdown",
   "id": "aa38d866",
   "metadata": {},
   "source": [
    "***"
   ]
  },
  {
   "cell_type": "code",
   "execution_count": 30,
   "id": "2fe3d2a2",
   "metadata": {},
   "outputs": [
    {
     "data": {
      "text/html": [
       "<div>\n",
       "<style scoped>\n",
       "    .dataframe tbody tr th:only-of-type {\n",
       "        vertical-align: middle;\n",
       "    }\n",
       "\n",
       "    .dataframe tbody tr th {\n",
       "        vertical-align: top;\n",
       "    }\n",
       "\n",
       "    .dataframe thead th {\n",
       "        text-align: right;\n",
       "    }\n",
       "</style>\n",
       "<table border=\"1\" class=\"dataframe\">\n",
       "  <thead>\n",
       "    <tr style=\"text-align: right;\">\n",
       "      <th></th>\n",
       "      <th>date</th>\n",
       "      <th>ME_Avg_Temp(F)</th>\n",
       "      <th>ME_PRCP(mm)</th>\n",
       "      <th>ME_Conf_Cases</th>\n",
       "      <th>day_of_week</th>\n",
       "      <th>day_of_year</th>\n",
       "      <th>Year</th>\n",
       "      <th>Month</th>\n",
       "      <th>Day</th>\n",
       "      <th>new_case_percent_pop*</th>\n",
       "    </tr>\n",
       "  </thead>\n",
       "  <tbody>\n",
       "    <tr>\n",
       "      <th>417</th>\n",
       "      <td>2021-09-03</td>\n",
       "      <td>59.00</td>\n",
       "      <td>2.0</td>\n",
       "      <td>665.0</td>\n",
       "      <td>4</td>\n",
       "      <td>246</td>\n",
       "      <td>2021</td>\n",
       "      <td>9</td>\n",
       "      <td>3</td>\n",
       "      <td>48.812391</td>\n",
       "    </tr>\n",
       "    <tr>\n",
       "      <th>418</th>\n",
       "      <td>2021-09-07</td>\n",
       "      <td>59.36</td>\n",
       "      <td>0.0</td>\n",
       "      <td>0.0</td>\n",
       "      <td>1</td>\n",
       "      <td>250</td>\n",
       "      <td>2021</td>\n",
       "      <td>9</td>\n",
       "      <td>7</td>\n",
       "      <td>0.000000</td>\n",
       "    </tr>\n",
       "    <tr>\n",
       "      <th>419</th>\n",
       "      <td>2021-09-08</td>\n",
       "      <td>63.50</td>\n",
       "      <td>0.0</td>\n",
       "      <td>732.0</td>\n",
       "      <td>2</td>\n",
       "      <td>251</td>\n",
       "      <td>2021</td>\n",
       "      <td>9</td>\n",
       "      <td>8</td>\n",
       "      <td>53.730331</td>\n",
       "    </tr>\n",
       "    <tr>\n",
       "      <th>420</th>\n",
       "      <td>2021-09-09</td>\n",
       "      <td>62.42</td>\n",
       "      <td>35.3</td>\n",
       "      <td>620.0</td>\n",
       "      <td>3</td>\n",
       "      <td>252</td>\n",
       "      <td>2021</td>\n",
       "      <td>9</td>\n",
       "      <td>9</td>\n",
       "      <td>45.509297</td>\n",
       "    </tr>\n",
       "    <tr>\n",
       "      <th>421</th>\n",
       "      <td>2021-09-10</td>\n",
       "      <td>58.46</td>\n",
       "      <td>13.0</td>\n",
       "      <td>506.0</td>\n",
       "      <td>4</td>\n",
       "      <td>253</td>\n",
       "      <td>2021</td>\n",
       "      <td>9</td>\n",
       "      <td>10</td>\n",
       "      <td>37.141458</td>\n",
       "    </tr>\n",
       "  </tbody>\n",
       "</table>\n",
       "</div>"
      ],
      "text/plain": [
       "          date  ME_Avg_Temp(F)  ME_PRCP(mm)  ME_Conf_Cases  day_of_week  \\\n",
       "417 2021-09-03           59.00          2.0          665.0            4   \n",
       "418 2021-09-07           59.36          0.0            0.0            1   \n",
       "419 2021-09-08           63.50          0.0          732.0            2   \n",
       "420 2021-09-09           62.42         35.3          620.0            3   \n",
       "421 2021-09-10           58.46         13.0          506.0            4   \n",
       "\n",
       "     day_of_year  Year  Month  Day  new_case_percent_pop*  \n",
       "417          246  2021      9    3              48.812391  \n",
       "418          250  2021      9    7               0.000000  \n",
       "419          251  2021      9    8              53.730331  \n",
       "420          252  2021      9    9              45.509297  \n",
       "421          253  2021      9   10              37.141458  "
      ]
     },
     "execution_count": 30,
     "metadata": {},
     "output_type": "execute_result"
    }
   ],
   "source": [
    "df_me3.tail()"
   ]
  },
  {
   "cell_type": "code",
   "execution_count": null,
   "id": "36e97c3e",
   "metadata": {},
   "outputs": [],
   "source": []
  },
  {
   "cell_type": "code",
   "execution_count": null,
   "id": "3094ba8f",
   "metadata": {},
   "outputs": [],
   "source": [
    "interpolated_features = pd.DataFrame()\n",
    "cols = [ , , , , ]\n",
    "shift_dict = {'2wks': 14, '4wks':28, '6wks':42}\n",
    "for col in cols:\n",
    "    for key in shift_dict.keys():\n",
    "        periods = shift_dict[key]\n",
    "        temp[col+'_'+key] = temp[col].shift(periods=periods).copy().fillna(method='bfill')\n",
    "        temp = temp.resample('W').mean()"
   ]
  }
 ],
 "metadata": {
  "kernelspec": {
   "display_name": "Python 3",
   "language": "python",
   "name": "python3"
  },
  "language_info": {
   "codemirror_mode": {
    "name": "ipython",
    "version": 3
   },
   "file_extension": ".py",
   "mimetype": "text/x-python",
   "name": "python",
   "nbconvert_exporter": "python",
   "pygments_lexer": "ipython3",
   "version": "3.8.8"
  }
 },
 "nbformat": 4,
 "nbformat_minor": 5
}
