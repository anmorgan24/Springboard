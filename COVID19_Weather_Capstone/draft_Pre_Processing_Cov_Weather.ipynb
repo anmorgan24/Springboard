{
 "cells": [
  {
   "cell_type": "markdown",
   "id": "aeaec58e",
   "metadata": {},
   "source": [
    "# draft Pre-Processing "
   ]
  },
  {
   "cell_type": "code",
   "execution_count": 1,
   "id": "e2d31631",
   "metadata": {},
   "outputs": [],
   "source": [
    "import pandas as pd\n",
    "import numpy as np\n",
    "from statsmodels.tsa.stattools import adfuller\n",
    "import matplotlib.pyplot as plt\n",
    "import pycaret"
   ]
  },
  {
   "cell_type": "code",
   "execution_count": 2,
   "id": "a6f6c994",
   "metadata": {},
   "outputs": [],
   "source": [
    "#load dataframe\n",
    "#parse datetime column\n",
    "df=pd.read_csv('cov_weather.csv', parse_dates=[0])\n",
    "df.set_index('date', inplace= True)"
   ]
  },
  {
   "cell_type": "code",
   "execution_count": 3,
   "id": "62d7e234",
   "metadata": {
    "scrolled": true
   },
   "outputs": [
    {
     "data": {
      "text/html": [
       "<div>\n",
       "<style scoped>\n",
       "    .dataframe tbody tr th:only-of-type {\n",
       "        vertical-align: middle;\n",
       "    }\n",
       "\n",
       "    .dataframe tbody tr th {\n",
       "        vertical-align: top;\n",
       "    }\n",
       "\n",
       "    .dataframe thead th {\n",
       "        text-align: right;\n",
       "    }\n",
       "</style>\n",
       "<table border=\"1\" class=\"dataframe\">\n",
       "  <thead>\n",
       "    <tr style=\"text-align: right;\">\n",
       "      <th></th>\n",
       "      <th>VT_Avg_Temp(F)</th>\n",
       "      <th>VT_PRCP(mm)</th>\n",
       "      <th>ME_Avg_Temp(F)</th>\n",
       "      <th>ME_PRCP(mm)</th>\n",
       "      <th>CT_Avg_Temp(F)</th>\n",
       "      <th>CT_PRCP(mm)</th>\n",
       "      <th>MA_Avg_Temp(F)</th>\n",
       "      <th>MA_PRCP(mm)</th>\n",
       "      <th>CT_Conf_Cases</th>\n",
       "      <th>VT_Conf_Cases</th>\n",
       "      <th>ME_Conf_Cases</th>\n",
       "      <th>MA_Conf_Cases</th>\n",
       "      <th>weekday</th>\n",
       "    </tr>\n",
       "    <tr>\n",
       "      <th>date</th>\n",
       "      <th></th>\n",
       "      <th></th>\n",
       "      <th></th>\n",
       "      <th></th>\n",
       "      <th></th>\n",
       "      <th></th>\n",
       "      <th></th>\n",
       "      <th></th>\n",
       "      <th></th>\n",
       "      <th></th>\n",
       "      <th></th>\n",
       "      <th></th>\n",
       "      <th></th>\n",
       "    </tr>\n",
       "  </thead>\n",
       "  <tbody>\n",
       "    <tr>\n",
       "      <th>2020-01-22</th>\n",
       "      <td>26.96</td>\n",
       "      <td>0.0</td>\n",
       "      <td>19.04</td>\n",
       "      <td>0.0</td>\n",
       "      <td>18.32</td>\n",
       "      <td>0.0</td>\n",
       "      <td>22.46</td>\n",
       "      <td>0.0</td>\n",
       "      <td>0.0</td>\n",
       "      <td>0.0</td>\n",
       "      <td>0.0</td>\n",
       "      <td>0.0</td>\n",
       "      <td>2</td>\n",
       "    </tr>\n",
       "    <tr>\n",
       "      <th>2020-01-23</th>\n",
       "      <td>27.14</td>\n",
       "      <td>0.0</td>\n",
       "      <td>26.60</td>\n",
       "      <td>0.3</td>\n",
       "      <td>23.72</td>\n",
       "      <td>0.0</td>\n",
       "      <td>32.00</td>\n",
       "      <td>0.0</td>\n",
       "      <td>0.0</td>\n",
       "      <td>0.0</td>\n",
       "      <td>0.0</td>\n",
       "      <td>0.0</td>\n",
       "      <td>3</td>\n",
       "    </tr>\n",
       "    <tr>\n",
       "      <th>2020-01-24</th>\n",
       "      <td>30.56</td>\n",
       "      <td>0.0</td>\n",
       "      <td>29.48</td>\n",
       "      <td>0.0</td>\n",
       "      <td>33.08</td>\n",
       "      <td>0.0</td>\n",
       "      <td>35.42</td>\n",
       "      <td>0.0</td>\n",
       "      <td>0.0</td>\n",
       "      <td>0.0</td>\n",
       "      <td>0.0</td>\n",
       "      <td>0.0</td>\n",
       "      <td>4</td>\n",
       "    </tr>\n",
       "    <tr>\n",
       "      <th>2020-01-27</th>\n",
       "      <td>34.52</td>\n",
       "      <td>1.3</td>\n",
       "      <td>31.46</td>\n",
       "      <td>1.0</td>\n",
       "      <td>38.84</td>\n",
       "      <td>0.0</td>\n",
       "      <td>39.02</td>\n",
       "      <td>0.0</td>\n",
       "      <td>0.0</td>\n",
       "      <td>0.0</td>\n",
       "      <td>0.0</td>\n",
       "      <td>0.0</td>\n",
       "      <td>0</td>\n",
       "    </tr>\n",
       "    <tr>\n",
       "      <th>2020-01-28</th>\n",
       "      <td>30.02</td>\n",
       "      <td>0.3</td>\n",
       "      <td>21.56</td>\n",
       "      <td>0.0</td>\n",
       "      <td>36.68</td>\n",
       "      <td>0.0</td>\n",
       "      <td>37.40</td>\n",
       "      <td>0.0</td>\n",
       "      <td>0.0</td>\n",
       "      <td>0.0</td>\n",
       "      <td>0.0</td>\n",
       "      <td>0.0</td>\n",
       "      <td>1</td>\n",
       "    </tr>\n",
       "  </tbody>\n",
       "</table>\n",
       "</div>"
      ],
      "text/plain": [
       "            VT_Avg_Temp(F)  VT_PRCP(mm)  ME_Avg_Temp(F)  ME_PRCP(mm)  \\\n",
       "date                                                                   \n",
       "2020-01-22           26.96          0.0           19.04          0.0   \n",
       "2020-01-23           27.14          0.0           26.60          0.3   \n",
       "2020-01-24           30.56          0.0           29.48          0.0   \n",
       "2020-01-27           34.52          1.3           31.46          1.0   \n",
       "2020-01-28           30.02          0.3           21.56          0.0   \n",
       "\n",
       "            CT_Avg_Temp(F)  CT_PRCP(mm)  MA_Avg_Temp(F)  MA_PRCP(mm)  \\\n",
       "date                                                                   \n",
       "2020-01-22           18.32          0.0           22.46          0.0   \n",
       "2020-01-23           23.72          0.0           32.00          0.0   \n",
       "2020-01-24           33.08          0.0           35.42          0.0   \n",
       "2020-01-27           38.84          0.0           39.02          0.0   \n",
       "2020-01-28           36.68          0.0           37.40          0.0   \n",
       "\n",
       "            CT_Conf_Cases  VT_Conf_Cases  ME_Conf_Cases  MA_Conf_Cases  \\\n",
       "date                                                                     \n",
       "2020-01-22            0.0            0.0            0.0            0.0   \n",
       "2020-01-23            0.0            0.0            0.0            0.0   \n",
       "2020-01-24            0.0            0.0            0.0            0.0   \n",
       "2020-01-27            0.0            0.0            0.0            0.0   \n",
       "2020-01-28            0.0            0.0            0.0            0.0   \n",
       "\n",
       "            weekday  \n",
       "date                 \n",
       "2020-01-22        2  \n",
       "2020-01-23        3  \n",
       "2020-01-24        4  \n",
       "2020-01-27        0  \n",
       "2020-01-28        1  "
      ]
     },
     "execution_count": 3,
     "metadata": {},
     "output_type": "execute_result"
    }
   ],
   "source": [
    "df.head()"
   ]
  },
  {
   "cell_type": "markdown",
   "id": "ec755a33",
   "metadata": {},
   "source": [
    "***"
   ]
  },
  {
   "cell_type": "code",
   "execution_count": null,
   "id": "7ac841ee",
   "metadata": {},
   "outputs": [],
   "source": []
  },
  {
   "cell_type": "code",
   "execution_count": null,
   "id": "5025530e",
   "metadata": {},
   "outputs": [],
   "source": []
  },
  {
   "cell_type": "code",
   "execution_count": null,
   "id": "934c2f41",
   "metadata": {},
   "outputs": [],
   "source": []
  },
  {
   "cell_type": "code",
   "execution_count": 4,
   "id": "0de71100",
   "metadata": {},
   "outputs": [],
   "source": [
    "df_vt=df.drop(columns=['ME_Avg_Temp(F)', 'ME_PRCP(mm)', 'ME_Conf_Cases', 'CT_Avg_Temp(F)', 'CT_PRCP(mm)', 'CT_Conf_Cases', 'MA_Avg_Temp(F)', 'MA_PRCP(mm)', 'MA_Conf_Cases','weekday'])"
   ]
  },
  {
   "cell_type": "code",
   "execution_count": 5,
   "id": "a1884bdc",
   "metadata": {},
   "outputs": [],
   "source": [
    "df_me=df.drop(columns=['VT_Avg_Temp(F)', 'VT_PRCP(mm)', 'VT_Conf_Cases', 'CT_Avg_Temp(F)', 'CT_PRCP(mm)', 'CT_Conf_Cases', 'MA_Avg_Temp(F)', 'MA_PRCP(mm)', 'MA_Conf_Cases','weekday'])"
   ]
  },
  {
   "cell_type": "code",
   "execution_count": 6,
   "id": "bb5f4a55",
   "metadata": {},
   "outputs": [],
   "source": [
    "df_ma=df.drop(columns=['ME_Avg_Temp(F)', 'ME_PRCP(mm)', 'ME_Conf_Cases', 'CT_Avg_Temp(F)', 'CT_PRCP(mm)', 'CT_Conf_Cases', 'VT_Avg_Temp(F)', 'VT_PRCP(mm)', 'VT_Conf_Cases','weekday'])"
   ]
  },
  {
   "cell_type": "code",
   "execution_count": 7,
   "id": "429a6b94",
   "metadata": {},
   "outputs": [],
   "source": [
    "df_ct= df.drop(columns=['ME_Avg_Temp(F)', 'ME_PRCP(mm)', 'ME_Conf_Cases', 'VT_Avg_Temp(F)', 'VT_PRCP(mm)', 'VT_Conf_Cases', 'MA_Avg_Temp(F)', 'MA_PRCP(mm)', 'MA_Conf_Cases','weekday'])"
   ]
  },
  {
   "cell_type": "code",
   "execution_count": 8,
   "id": "fa594d00",
   "metadata": {},
   "outputs": [
    {
     "data": {
      "text/html": [
       "<div>\n",
       "<style scoped>\n",
       "    .dataframe tbody tr th:only-of-type {\n",
       "        vertical-align: middle;\n",
       "    }\n",
       "\n",
       "    .dataframe tbody tr th {\n",
       "        vertical-align: top;\n",
       "    }\n",
       "\n",
       "    .dataframe thead th {\n",
       "        text-align: right;\n",
       "    }\n",
       "</style>\n",
       "<table border=\"1\" class=\"dataframe\">\n",
       "  <thead>\n",
       "    <tr style=\"text-align: right;\">\n",
       "      <th></th>\n",
       "      <th>VT_Avg_Temp(F)</th>\n",
       "      <th>VT_PRCP(mm)</th>\n",
       "      <th>VT_Conf_Cases</th>\n",
       "    </tr>\n",
       "    <tr>\n",
       "      <th>date</th>\n",
       "      <th></th>\n",
       "      <th></th>\n",
       "      <th></th>\n",
       "    </tr>\n",
       "  </thead>\n",
       "  <tbody>\n",
       "    <tr>\n",
       "      <th>2020-01-22</th>\n",
       "      <td>26.96</td>\n",
       "      <td>0.0</td>\n",
       "      <td>0.0</td>\n",
       "    </tr>\n",
       "    <tr>\n",
       "      <th>2020-01-23</th>\n",
       "      <td>27.14</td>\n",
       "      <td>0.0</td>\n",
       "      <td>0.0</td>\n",
       "    </tr>\n",
       "    <tr>\n",
       "      <th>2020-01-24</th>\n",
       "      <td>30.56</td>\n",
       "      <td>0.0</td>\n",
       "      <td>0.0</td>\n",
       "    </tr>\n",
       "    <tr>\n",
       "      <th>2020-01-27</th>\n",
       "      <td>34.52</td>\n",
       "      <td>1.3</td>\n",
       "      <td>0.0</td>\n",
       "    </tr>\n",
       "    <tr>\n",
       "      <th>2020-01-28</th>\n",
       "      <td>30.02</td>\n",
       "      <td>0.3</td>\n",
       "      <td>0.0</td>\n",
       "    </tr>\n",
       "  </tbody>\n",
       "</table>\n",
       "</div>"
      ],
      "text/plain": [
       "            VT_Avg_Temp(F)  VT_PRCP(mm)  VT_Conf_Cases\n",
       "date                                                  \n",
       "2020-01-22           26.96          0.0            0.0\n",
       "2020-01-23           27.14          0.0            0.0\n",
       "2020-01-24           30.56          0.0            0.0\n",
       "2020-01-27           34.52          1.3            0.0\n",
       "2020-01-28           30.02          0.3            0.0"
      ]
     },
     "execution_count": 8,
     "metadata": {},
     "output_type": "execute_result"
    }
   ],
   "source": [
    "df_vt.head()"
   ]
  },
  {
   "cell_type": "code",
   "execution_count": 9,
   "id": "2dd7861f",
   "metadata": {
    "scrolled": true
   },
   "outputs": [
    {
     "data": {
      "text/html": [
       "<div>\n",
       "<style scoped>\n",
       "    .dataframe tbody tr th:only-of-type {\n",
       "        vertical-align: middle;\n",
       "    }\n",
       "\n",
       "    .dataframe tbody tr th {\n",
       "        vertical-align: top;\n",
       "    }\n",
       "\n",
       "    .dataframe thead th {\n",
       "        text-align: right;\n",
       "    }\n",
       "</style>\n",
       "<table border=\"1\" class=\"dataframe\">\n",
       "  <thead>\n",
       "    <tr style=\"text-align: right;\">\n",
       "      <th></th>\n",
       "      <th>MA_Avg_Temp(F)</th>\n",
       "      <th>MA_PRCP(mm)</th>\n",
       "      <th>MA_Conf_Cases</th>\n",
       "    </tr>\n",
       "    <tr>\n",
       "      <th>date</th>\n",
       "      <th></th>\n",
       "      <th></th>\n",
       "      <th></th>\n",
       "    </tr>\n",
       "  </thead>\n",
       "  <tbody>\n",
       "    <tr>\n",
       "      <th>2020-01-22</th>\n",
       "      <td>22.46</td>\n",
       "      <td>0.0</td>\n",
       "      <td>0.0</td>\n",
       "    </tr>\n",
       "    <tr>\n",
       "      <th>2020-01-23</th>\n",
       "      <td>32.00</td>\n",
       "      <td>0.0</td>\n",
       "      <td>0.0</td>\n",
       "    </tr>\n",
       "    <tr>\n",
       "      <th>2020-01-24</th>\n",
       "      <td>35.42</td>\n",
       "      <td>0.0</td>\n",
       "      <td>0.0</td>\n",
       "    </tr>\n",
       "    <tr>\n",
       "      <th>2020-01-27</th>\n",
       "      <td>39.02</td>\n",
       "      <td>0.0</td>\n",
       "      <td>0.0</td>\n",
       "    </tr>\n",
       "    <tr>\n",
       "      <th>2020-01-28</th>\n",
       "      <td>37.40</td>\n",
       "      <td>0.0</td>\n",
       "      <td>0.0</td>\n",
       "    </tr>\n",
       "  </tbody>\n",
       "</table>\n",
       "</div>"
      ],
      "text/plain": [
       "            MA_Avg_Temp(F)  MA_PRCP(mm)  MA_Conf_Cases\n",
       "date                                                  \n",
       "2020-01-22           22.46          0.0            0.0\n",
       "2020-01-23           32.00          0.0            0.0\n",
       "2020-01-24           35.42          0.0            0.0\n",
       "2020-01-27           39.02          0.0            0.0\n",
       "2020-01-28           37.40          0.0            0.0"
      ]
     },
     "execution_count": 9,
     "metadata": {},
     "output_type": "execute_result"
    }
   ],
   "source": [
    "df_ma.head()"
   ]
  },
  {
   "cell_type": "code",
   "execution_count": 10,
   "id": "6b1d2710",
   "metadata": {},
   "outputs": [
    {
     "data": {
      "text/html": [
       "<div>\n",
       "<style scoped>\n",
       "    .dataframe tbody tr th:only-of-type {\n",
       "        vertical-align: middle;\n",
       "    }\n",
       "\n",
       "    .dataframe tbody tr th {\n",
       "        vertical-align: top;\n",
       "    }\n",
       "\n",
       "    .dataframe thead th {\n",
       "        text-align: right;\n",
       "    }\n",
       "</style>\n",
       "<table border=\"1\" class=\"dataframe\">\n",
       "  <thead>\n",
       "    <tr style=\"text-align: right;\">\n",
       "      <th></th>\n",
       "      <th>MA_Avg_Temp(F)</th>\n",
       "      <th>MA_PRCP(mm)</th>\n",
       "      <th>MA_Conf_Cases</th>\n",
       "    </tr>\n",
       "    <tr>\n",
       "      <th>date</th>\n",
       "      <th></th>\n",
       "      <th></th>\n",
       "      <th></th>\n",
       "    </tr>\n",
       "  </thead>\n",
       "  <tbody>\n",
       "    <tr>\n",
       "      <th>2021-09-03</th>\n",
       "      <td>62.42</td>\n",
       "      <td>0.0</td>\n",
       "      <td>291.0</td>\n",
       "    </tr>\n",
       "    <tr>\n",
       "      <th>2021-09-07</th>\n",
       "      <td>68.00</td>\n",
       "      <td>0.0</td>\n",
       "      <td>960.0</td>\n",
       "    </tr>\n",
       "    <tr>\n",
       "      <th>2021-09-08</th>\n",
       "      <td>71.96</td>\n",
       "      <td>0.0</td>\n",
       "      <td>260.0</td>\n",
       "    </tr>\n",
       "    <tr>\n",
       "      <th>2021-09-09</th>\n",
       "      <td>70.88</td>\n",
       "      <td>8.1</td>\n",
       "      <td>364.0</td>\n",
       "    </tr>\n",
       "    <tr>\n",
       "      <th>2021-09-10</th>\n",
       "      <td>68.54</td>\n",
       "      <td>0.0</td>\n",
       "      <td>307.0</td>\n",
       "    </tr>\n",
       "  </tbody>\n",
       "</table>\n",
       "</div>"
      ],
      "text/plain": [
       "            MA_Avg_Temp(F)  MA_PRCP(mm)  MA_Conf_Cases\n",
       "date                                                  \n",
       "2021-09-03           62.42          0.0          291.0\n",
       "2021-09-07           68.00          0.0          960.0\n",
       "2021-09-08           71.96          0.0          260.0\n",
       "2021-09-09           70.88          8.1          364.0\n",
       "2021-09-10           68.54          0.0          307.0"
      ]
     },
     "execution_count": 10,
     "metadata": {},
     "output_type": "execute_result"
    }
   ],
   "source": [
    "df_ma.tail()"
   ]
  },
  {
   "cell_type": "code",
   "execution_count": 11,
   "id": "8388cd6c",
   "metadata": {},
   "outputs": [
    {
     "data": {
      "text/html": [
       "<div>\n",
       "<style scoped>\n",
       "    .dataframe tbody tr th:only-of-type {\n",
       "        vertical-align: middle;\n",
       "    }\n",
       "\n",
       "    .dataframe tbody tr th {\n",
       "        vertical-align: top;\n",
       "    }\n",
       "\n",
       "    .dataframe thead th {\n",
       "        text-align: right;\n",
       "    }\n",
       "</style>\n",
       "<table border=\"1\" class=\"dataframe\">\n",
       "  <thead>\n",
       "    <tr style=\"text-align: right;\">\n",
       "      <th></th>\n",
       "      <th>ME_Avg_Temp(F)</th>\n",
       "      <th>ME_PRCP(mm)</th>\n",
       "      <th>ME_Conf_Cases</th>\n",
       "    </tr>\n",
       "    <tr>\n",
       "      <th>date</th>\n",
       "      <th></th>\n",
       "      <th></th>\n",
       "      <th></th>\n",
       "    </tr>\n",
       "  </thead>\n",
       "  <tbody>\n",
       "    <tr>\n",
       "      <th>2020-01-22</th>\n",
       "      <td>19.04</td>\n",
       "      <td>0.0</td>\n",
       "      <td>0.0</td>\n",
       "    </tr>\n",
       "    <tr>\n",
       "      <th>2020-01-23</th>\n",
       "      <td>26.60</td>\n",
       "      <td>0.3</td>\n",
       "      <td>0.0</td>\n",
       "    </tr>\n",
       "    <tr>\n",
       "      <th>2020-01-24</th>\n",
       "      <td>29.48</td>\n",
       "      <td>0.0</td>\n",
       "      <td>0.0</td>\n",
       "    </tr>\n",
       "    <tr>\n",
       "      <th>2020-01-27</th>\n",
       "      <td>31.46</td>\n",
       "      <td>1.0</td>\n",
       "      <td>0.0</td>\n",
       "    </tr>\n",
       "    <tr>\n",
       "      <th>2020-01-28</th>\n",
       "      <td>21.56</td>\n",
       "      <td>0.0</td>\n",
       "      <td>0.0</td>\n",
       "    </tr>\n",
       "  </tbody>\n",
       "</table>\n",
       "</div>"
      ],
      "text/plain": [
       "            ME_Avg_Temp(F)  ME_PRCP(mm)  ME_Conf_Cases\n",
       "date                                                  \n",
       "2020-01-22           19.04          0.0            0.0\n",
       "2020-01-23           26.60          0.3            0.0\n",
       "2020-01-24           29.48          0.0            0.0\n",
       "2020-01-27           31.46          1.0            0.0\n",
       "2020-01-28           21.56          0.0            0.0"
      ]
     },
     "execution_count": 11,
     "metadata": {},
     "output_type": "execute_result"
    }
   ],
   "source": [
    "df_me.head()"
   ]
  },
  {
   "cell_type": "code",
   "execution_count": 12,
   "id": "45d7f7c4",
   "metadata": {},
   "outputs": [
    {
     "data": {
      "text/html": [
       "<div>\n",
       "<style scoped>\n",
       "    .dataframe tbody tr th:only-of-type {\n",
       "        vertical-align: middle;\n",
       "    }\n",
       "\n",
       "    .dataframe tbody tr th {\n",
       "        vertical-align: top;\n",
       "    }\n",
       "\n",
       "    .dataframe thead th {\n",
       "        text-align: right;\n",
       "    }\n",
       "</style>\n",
       "<table border=\"1\" class=\"dataframe\">\n",
       "  <thead>\n",
       "    <tr style=\"text-align: right;\">\n",
       "      <th></th>\n",
       "      <th>CT_Avg_Temp(F)</th>\n",
       "      <th>CT_PRCP(mm)</th>\n",
       "      <th>CT_Conf_Cases</th>\n",
       "    </tr>\n",
       "    <tr>\n",
       "      <th>date</th>\n",
       "      <th></th>\n",
       "      <th></th>\n",
       "      <th></th>\n",
       "    </tr>\n",
       "  </thead>\n",
       "  <tbody>\n",
       "    <tr>\n",
       "      <th>2020-01-22</th>\n",
       "      <td>18.32</td>\n",
       "      <td>0.0</td>\n",
       "      <td>0.0</td>\n",
       "    </tr>\n",
       "    <tr>\n",
       "      <th>2020-01-23</th>\n",
       "      <td>23.72</td>\n",
       "      <td>0.0</td>\n",
       "      <td>0.0</td>\n",
       "    </tr>\n",
       "    <tr>\n",
       "      <th>2020-01-24</th>\n",
       "      <td>33.08</td>\n",
       "      <td>0.0</td>\n",
       "      <td>0.0</td>\n",
       "    </tr>\n",
       "    <tr>\n",
       "      <th>2020-01-27</th>\n",
       "      <td>38.84</td>\n",
       "      <td>0.0</td>\n",
       "      <td>0.0</td>\n",
       "    </tr>\n",
       "    <tr>\n",
       "      <th>2020-01-28</th>\n",
       "      <td>36.68</td>\n",
       "      <td>0.0</td>\n",
       "      <td>0.0</td>\n",
       "    </tr>\n",
       "  </tbody>\n",
       "</table>\n",
       "</div>"
      ],
      "text/plain": [
       "            CT_Avg_Temp(F)  CT_PRCP(mm)  CT_Conf_Cases\n",
       "date                                                  \n",
       "2020-01-22           18.32          0.0            0.0\n",
       "2020-01-23           23.72          0.0            0.0\n",
       "2020-01-24           33.08          0.0            0.0\n",
       "2020-01-27           38.84          0.0            0.0\n",
       "2020-01-28           36.68          0.0            0.0"
      ]
     },
     "execution_count": 12,
     "metadata": {},
     "output_type": "execute_result"
    }
   ],
   "source": [
    "df_ct.head()"
   ]
  },
  {
   "cell_type": "markdown",
   "id": "7e780997",
   "metadata": {},
   "source": [
    "Although it seems pretty clear visually that none of the temperature and precipitation datasets are random walks, let's just confirm all datasets with an [Augmented Dickey Fuller Test](https://www.machinelearningplus.com/time-series/augmented-dickey-fuller-test/). "
   ]
  },
  {
   "cell_type": "code",
   "execution_count": 13,
   "id": "aa2f3afc",
   "metadata": {},
   "outputs": [
    {
     "name": "stdout",
     "output_type": "stream",
     "text": [
      "VT_Conf_Cases ADF: (-3.464483031392258, 0.0089474945053302, 9, 413, {'1%': -3.4462831955497135, '5%': -2.8685636962704395, '10%': -2.5705114078759914}, 1372.9780979482916)\n"
     ]
    }
   ],
   "source": [
    "res_vt_cc = adfuller(df_vt.VT_Conf_Cases)\n",
    "print(\"VT_Conf_Cases ADF:\", res_vt_cc)"
   ]
  },
  {
   "cell_type": "code",
   "execution_count": 14,
   "id": "14e6f4e7",
   "metadata": {},
   "outputs": [
    {
     "name": "stdout",
     "output_type": "stream",
     "text": [
      "VT_Avg_Temp(F) ADF: (-1.3850715503583493, 0.5894117119797059, 14, 408, {'1%': -3.446479704252724, '5%': -2.8686500930967354, '10%': -2.5705574627547096}, 2737.173417718457)\n"
     ]
    }
   ],
   "source": [
    "res_vt_temp = adfuller(df_vt['VT_Avg_Temp(F)'])\n",
    "print(\"VT_Avg_Temp(F) ADF:\", res_vt_temp)"
   ]
  },
  {
   "cell_type": "code",
   "execution_count": 15,
   "id": "9021204a",
   "metadata": {},
   "outputs": [
    {
     "name": "stdout",
     "output_type": "stream",
     "text": [
      "VT_PRCP(mm) ADF: (-7.85027472236095, 5.625384540115335e-12, 4, 418, {'1%': -3.4460914174990296, '5%': -2.868479374038333, '10%': -2.570466459559076}, 2588.81431352875)\n"
     ]
    }
   ],
   "source": [
    "res_vt_prcp = adfuller(df_vt['VT_PRCP(mm)'])\n",
    "print(\"VT_PRCP(mm) ADF:\", res_vt_prcp)"
   ]
  },
  {
   "cell_type": "markdown",
   "id": "42cc6e6a",
   "metadata": {},
   "source": [
    "***"
   ]
  },
  {
   "cell_type": "code",
   "execution_count": 16,
   "id": "f5463b40",
   "metadata": {},
   "outputs": [
    {
     "name": "stdout",
     "output_type": "stream",
     "text": [
      "CT_Conf_Cases ADF: (-2.1155478635416207, 0.23830885997846413, 18, 404, {'1%': -3.44664043608676, '5%': -2.868720756230461, '10%': -2.5705951311145965}, 5418.580327990375)\n"
     ]
    }
   ],
   "source": [
    "res_ct_cc = adfuller(df_ct.CT_Conf_Cases)\n",
    "print(\"CT_Conf_Cases ADF:\",res_ct_cc)"
   ]
  },
  {
   "cell_type": "code",
   "execution_count": 17,
   "id": "9ad96780",
   "metadata": {
    "scrolled": true
   },
   "outputs": [
    {
     "name": "stdout",
     "output_type": "stream",
     "text": [
      "CT_Avg_Temp(F) ADF: (-1.4623595803153135, 0.5520426086668024, 18, 404, {'1%': -3.44664043608676, '5%': -2.868720756230461, '10%': -2.5705951311145965}, 2586.25770549387)\n"
     ]
    }
   ],
   "source": [
    "res_ct_temp = adfuller(df_ct['CT_Avg_Temp(F)'])\n",
    "print(\"CT_Avg_Temp(F) ADF:\", res_ct_temp)"
   ]
  },
  {
   "cell_type": "code",
   "execution_count": 18,
   "id": "62771471",
   "metadata": {},
   "outputs": [
    {
     "name": "stdout",
     "output_type": "stream",
     "text": [
      "CT_PRCP(mm) ADF: (-5.119179653765302, 1.2826061050763963e-05, 8, 414, {'1%': -3.4462444670071046, '5%': -2.8685466682709975, '10%': -2.5705023309762187}, 3054.3030798487416)\n"
     ]
    }
   ],
   "source": [
    "res_ct_prcp = adfuller(df_ct['CT_PRCP(mm)'])\n",
    "print(\"CT_PRCP(mm) ADF:\", res_ct_prcp)"
   ]
  },
  {
   "cell_type": "markdown",
   "id": "ee33a632",
   "metadata": {},
   "source": [
    "***"
   ]
  },
  {
   "cell_type": "code",
   "execution_count": 19,
   "id": "efd4dbdb",
   "metadata": {},
   "outputs": [
    {
     "name": "stdout",
     "output_type": "stream",
     "text": [
      "MA_Conf_Cases ADF: (-2.4073554887247623, 0.1396711296794279, 10, 412, {'1%': -3.4463221132914486, '5%': -2.8685808072418824, '10%': -2.570520529031954}, 4914.404375841825)\n"
     ]
    }
   ],
   "source": [
    "res_ma_cc = adfuller(df_ma.MA_Conf_Cases)\n",
    "print(\"MA_Conf_Cases ADF:\",res_ma_cc)"
   ]
  },
  {
   "cell_type": "code",
   "execution_count": 20,
   "id": "aabd8f5a",
   "metadata": {},
   "outputs": [
    {
     "name": "stdout",
     "output_type": "stream",
     "text": [
      "MA_Avg_Temp(F) ADF: (-1.3998411440798264, 0.5823522736783371, 9, 413, {'1%': -3.4462831955497135, '5%': -2.8685636962704395, '10%': -2.5705114078759914}, 2670.6056777919043)\n"
     ]
    }
   ],
   "source": [
    "res_ma_temp = adfuller(df_ma['MA_Avg_Temp(F)'])\n",
    "print(\"MA_Avg_Temp(F) ADF:\", res_ma_temp)"
   ]
  },
  {
   "cell_type": "code",
   "execution_count": 21,
   "id": "9dcf1ac4",
   "metadata": {},
   "outputs": [
    {
     "name": "stdout",
     "output_type": "stream",
     "text": [
      "MA_PRCP(mm) ADF: (-19.118963656848877, 0.0, 0, 422, {'1%': -3.44594128742536, '5%': -2.868413360220551, '10%': -2.570431271085555}, 3072.9716876471894)\n"
     ]
    }
   ],
   "source": [
    "res_ma_prcp = adfuller(df_ma['MA_PRCP(mm)'])\n",
    "print(\"MA_PRCP(mm) ADF:\", res_ma_prcp)"
   ]
  },
  {
   "cell_type": "markdown",
   "id": "ff183dc3",
   "metadata": {},
   "source": [
    "***"
   ]
  },
  {
   "cell_type": "code",
   "execution_count": 22,
   "id": "69b50c4c",
   "metadata": {},
   "outputs": [
    {
     "name": "stdout",
     "output_type": "stream",
     "text": [
      "ME_Conf_Cases ADF: (-2.1245870155377653, 0.23474364532012498, 16, 406, {'1%': -3.4465596717208813, '5%': -2.8686852499495843, '10%': -2.570576203741901}, 1956.0272650586103)\n"
     ]
    }
   ],
   "source": [
    "res_me_cc = adfuller(df_me.ME_Conf_Cases)\n",
    "print(\"ME_Conf_Cases ADF:\",res_me_cc)"
   ]
  },
  {
   "cell_type": "code",
   "execution_count": 23,
   "id": "22145de7",
   "metadata": {},
   "outputs": [
    {
     "name": "stdout",
     "output_type": "stream",
     "text": [
      "ME_Avg_Temp(F) ADF: (-1.2075162097343841, 0.6703540995802695, 13, 409, {'1%': -3.4464400156784927, '5%': -2.868632644097719, '10%': -2.5705481612974577}, 2752.7970329820932)\n"
     ]
    }
   ],
   "source": [
    "res_me_temp = adfuller(df_me['ME_Avg_Temp(F)'])\n",
    "print(\"ME_Avg_Temp(F) ADF:\", res_me_temp)"
   ]
  },
  {
   "cell_type": "code",
   "execution_count": 24,
   "id": "d4b0f85b",
   "metadata": {},
   "outputs": [
    {
     "name": "stdout",
     "output_type": "stream",
     "text": [
      "ME_PRCP(mm) ADF: (-17.390438896842983, 5.012959484655681e-30, 0, 422, {'1%': -3.44594128742536, '5%': -2.868413360220551, '10%': -2.570431271085555}, 2757.324502731625)\n"
     ]
    }
   ],
   "source": [
    "res_me_prcp = adfuller(df_me['ME_PRCP(mm)'])\n",
    "print(\"ME_PRCP(mm) ADF:\", res_me_prcp)"
   ]
  },
  {
   "cell_type": "markdown",
   "id": "8988cf73",
   "metadata": {},
   "source": [
    "***"
   ]
  },
  {
   "cell_type": "markdown",
   "id": "9b6c4614",
   "metadata": {},
   "source": [
    "According to the Augmented Dickey Fuller Test, the only data that appears to follow a random walk is: `VT_Conf_Cases`.\\\n",
    "In order to perform time series analysis on **the rest of the data**, we will need to make it stationary. \\\n",
    "__Strong Stationarity:__ entire distribution of data is time-invariant. \\\n",
    "__Weak Stationarity:__ mean, variance, and autocorrelation are time invariant (easier to test).\n",
    "\n",
    "Because `VT_Conf_Cases` is a random walk, we will compute __first differences__ and then recalculate p-value of rejecting the null hyppothesis with ADF test (for `VT_Conf_Cases` only). "
   ]
  },
  {
   "cell_type": "code",
   "execution_count": 25,
   "id": "e8485f01",
   "metadata": {},
   "outputs": [],
   "source": [
    "df_vt['VT_Conf_Cases'] = df_vt['VT_Conf_Cases'].diff()"
   ]
  },
  {
   "cell_type": "markdown",
   "id": "1788f54b",
   "metadata": {},
   "source": [
    "Quick visual check to make sure transformation was completed successfully:"
   ]
  },
  {
   "cell_type": "code",
   "execution_count": 26,
   "id": "27474364",
   "metadata": {},
   "outputs": [
    {
     "data": {
      "image/png": "[encoded data removed]",
      "text/plain": [
       "<Figure size 432x288 with 1 Axes>"
      ]
     },
     "metadata": {
      "needs_background": "light"
     },
     "output_type": "display_data"
    }
   ],
   "source": [
    "plt.plot(df_vt['VT_Conf_Cases'])\n",
    "plt.xticks(rotation=90)\n",
    "plt.show()"
   ]
  },
  {
   "cell_type": "markdown",
   "id": "1bde2715",
   "metadata": {},
   "source": [
    "Because we took first differences of the Vermont data set, the first value of `VT_Conf_Cases` will become `NaN` (there is no data prior to the first piece of data). We could delete the row, or perform the ADF test from the second row of data on, but there is an even simpler solution to this problem. Vermont's [first COVID-19 case](https://www.vpr.org/vpr-news/2020-03-08/health-officials-announce-first-coronavirus-case-in-vermont) wasn't until March of 2020. Therefore, we know that the day before our first data point (on 01/21/2021), the number of confirmed cases in Vermont must also have been zero. The difference between zero and zero is obvioulsy zero, so we can confidently replace this particular `NaN` with a zero, and thereby prevent losing a row of data."
   ]
  },
  {
   "cell_type": "code",
   "execution_count": 27,
   "id": "9f5cc471",
   "metadata": {},
   "outputs": [
    {
     "name": "stdout",
     "output_type": "stream",
     "text": [
      "nan\n"
     ]
    }
   ],
   "source": [
    "# Confirm first value of VT's cases is NaN:\n",
    "print(df_vt.VT_Conf_Cases[0])"
   ]
  },
  {
   "cell_type": "code",
   "execution_count": 28,
   "id": "0837668d",
   "metadata": {},
   "outputs": [
    {
     "data": {
      "text/html": [
       "<div>\n",
       "<style scoped>\n",
       "    .dataframe tbody tr th:only-of-type {\n",
       "        vertical-align: middle;\n",
       "    }\n",
       "\n",
       "    .dataframe tbody tr th {\n",
       "        vertical-align: top;\n",
       "    }\n",
       "\n",
       "    .dataframe thead th {\n",
       "        text-align: right;\n",
       "    }\n",
       "</style>\n",
       "<table border=\"1\" class=\"dataframe\">\n",
       "  <thead>\n",
       "    <tr style=\"text-align: right;\">\n",
       "      <th></th>\n",
       "      <th>VT_Avg_Temp(F)</th>\n",
       "      <th>VT_PRCP(mm)</th>\n",
       "      <th>VT_Conf_Cases</th>\n",
       "    </tr>\n",
       "    <tr>\n",
       "      <th>date</th>\n",
       "      <th></th>\n",
       "      <th></th>\n",
       "      <th></th>\n",
       "    </tr>\n",
       "  </thead>\n",
       "  <tbody>\n",
       "    <tr>\n",
       "      <th>2020-01-22</th>\n",
       "      <td>26.96</td>\n",
       "      <td>0.0</td>\n",
       "      <td>0.0</td>\n",
       "    </tr>\n",
       "    <tr>\n",
       "      <th>2020-01-23</th>\n",
       "      <td>27.14</td>\n",
       "      <td>0.0</td>\n",
       "      <td>0.0</td>\n",
       "    </tr>\n",
       "    <tr>\n",
       "      <th>2020-01-24</th>\n",
       "      <td>30.56</td>\n",
       "      <td>0.0</td>\n",
       "      <td>0.0</td>\n",
       "    </tr>\n",
       "    <tr>\n",
       "      <th>2020-01-27</th>\n",
       "      <td>34.52</td>\n",
       "      <td>1.3</td>\n",
       "      <td>0.0</td>\n",
       "    </tr>\n",
       "    <tr>\n",
       "      <th>2020-01-28</th>\n",
       "      <td>30.02</td>\n",
       "      <td>0.3</td>\n",
       "      <td>0.0</td>\n",
       "    </tr>\n",
       "  </tbody>\n",
       "</table>\n",
       "</div>"
      ],
      "text/plain": [
       "            VT_Avg_Temp(F)  VT_PRCP(mm)  VT_Conf_Cases\n",
       "date                                                  \n",
       "2020-01-22           26.96          0.0            0.0\n",
       "2020-01-23           27.14          0.0            0.0\n",
       "2020-01-24           30.56          0.0            0.0\n",
       "2020-01-27           34.52          1.3            0.0\n",
       "2020-01-28           30.02          0.3            0.0"
      ]
     },
     "execution_count": 28,
     "metadata": {},
     "output_type": "execute_result"
    }
   ],
   "source": [
    "#Replace NaN with 0:\n",
    "df_vt.VT_Conf_Cases[0] = 0\n",
    "df_vt.head()"
   ]
  },
  {
   "cell_type": "code",
   "execution_count": 29,
   "id": "339aa584",
   "metadata": {},
   "outputs": [
    {
     "data": {
      "text/plain": [
       "(-8.894236499908642,\n",
       " 1.2191232986117568e-14,\n",
       " 14,\n",
       " 408,\n",
       " {'1%': -3.446479704252724,\n",
       "  '5%': -2.8686500930967354,\n",
       "  '10%': -2.5705574627547096},\n",
       " 1378.3626298456832)"
      ]
     },
     "execution_count": 29,
     "metadata": {},
     "output_type": "execute_result"
    }
   ],
   "source": [
    "adfuller(df_vt.VT_Conf_Cases)"
   ]
  },
  {
   "cell_type": "markdown",
   "id": "53e61a03",
   "metadata": {},
   "source": [
    "Now all of the data appears stationary and we have no more `NaN` values in the Vermont dataset."
   ]
  },
  {
   "cell_type": "markdown",
   "id": "9b5522e3",
   "metadata": {},
   "source": [
    "----------------------------------------------------------------------------------------------------------------------"
   ]
  },
  {
   "cell_type": "code",
   "execution_count": null,
   "id": "b6c7292b",
   "metadata": {},
   "outputs": [],
   "source": [
    "df_vt['state_id'] = 'VT'\n",
    "df_ct['state_id'] = 'CT'\n",
    "df_me['state_id'] = 'ME'\n",
    "df_ma['state_id'] = 'MA'"
   ]
  },
  {
   "cell_type": "code",
   "execution_count": null,
   "id": "a3bcb8f4",
   "metadata": {},
   "outputs": [],
   "source": [
    "df_vt.rename(columns={'VT_Avg_Temp(F)':'Avg_Temp(F)', 'VT_PRCP(mm)':'PRCP(mm)', 'VT_Conf_Cases':'Conf_Cases'}, inplace=True)\n",
    "df_ct.rename(columns={'CT_Avg_Temp(F)':'Avg_Temp(F)', 'CT_PRCP(mm)':'PRCP(mm)', 'CT_Conf_Cases':'Conf_Cases'}, inplace=True)\n",
    "df_me.rename(columns={'ME_Avg_Temp(F)':'Avg_Temp(F)', 'ME_PRCP(mm)':'PRCP(mm)', 'ME_Conf_Cases':'Conf_Cases'}, inplace=True)\n",
    "df_ma.rename(columns={'MA_Avg_Temp(F)':'Avg_Temp(F)', 'MA_PRCP(mm)':'PRCP(mm)', 'MA_Conf_Cases':'Conf_Cases'}, inplace=True)"
   ]
  },
  {
   "cell_type": "code",
   "execution_count": null,
   "id": "2b8aa28d",
   "metadata": {},
   "outputs": [],
   "source": [
    "df_list = [df_vt, df_ct, df_me, df_ma]\n",
    "for df in df_list:\n",
    "    df.reset_index(inplace=True)"
   ]
  },
  {
   "cell_type": "code",
   "execution_count": null,
   "id": "0f27e796",
   "metadata": {},
   "outputs": [],
   "source": [
    "df_ma2 = df_ma[df_ma['date']< '2021-03-01']"
   ]
  },
  {
   "cell_type": "code",
   "execution_count": null,
   "id": "02d132df",
   "metadata": {},
   "outputs": [],
   "source": [
    "df_ma2.tail()"
   ]
  },
  {
   "cell_type": "code",
   "execution_count": null,
   "id": "a053d968",
   "metadata": {},
   "outputs": [],
   "source": [
    "df_ct2 = df_ct[df_ct['date']< '2021-03-01']"
   ]
  },
  {
   "cell_type": "code",
   "execution_count": null,
   "id": "af2f8766",
   "metadata": {},
   "outputs": [],
   "source": []
  },
  {
   "cell_type": "code",
   "execution_count": null,
   "id": "957ad82f",
   "metadata": {},
   "outputs": [],
   "source": [
    "df_all = pd.concat([df_ct2, df_ma2],axis=0)"
   ]
  },
  {
   "cell_type": "code",
   "execution_count": null,
   "id": "70080134",
   "metadata": {},
   "outputs": [],
   "source": [
    "df_all"
   ]
  },
  {
   "cell_type": "code",
   "execution_count": null,
   "id": "cc906214",
   "metadata": {},
   "outputs": [],
   "source": [
    "df_all['day_of_week'] = [i.dayofweek for i in df_all['date']]\n",
    "df_all['day_of_year'] = [i.dayofyear for i in df_all['date']]\n",
    "df_all['Year'] =[i.year for i in df_all['date']]\n",
    "df_all['Month'] = [i.month for i in df_all['date']]\n",
    "df_all['Day'] = [i.day for i in df_all['date']]"
   ]
  },
  {
   "cell_type": "code",
   "execution_count": null,
   "id": "b296e126",
   "metadata": {
    "scrolled": true
   },
   "outputs": [],
   "source": [
    "df_all.head()"
   ]
  },
  {
   "cell_type": "code",
   "execution_count": null,
   "id": "217101de",
   "metadata": {},
   "outputs": [],
   "source": [
    "df_all.tail()"
   ]
  },
  {
   "cell_type": "code",
   "execution_count": null,
   "id": "c1eda0ca",
   "metadata": {},
   "outputs": [],
   "source": [
    "df_all.reset_index(inplace=True)"
   ]
  },
  {
   "cell_type": "code",
   "execution_count": null,
   "id": "6760452f",
   "metadata": {},
   "outputs": [],
   "source": [
    "df_all.drop(['index'], axis=1, inplace=True)"
   ]
  },
  {
   "cell_type": "code",
   "execution_count": null,
   "id": "5bc14d93",
   "metadata": {},
   "outputs": [],
   "source": [
    "df_all"
   ]
  },
  {
   "cell_type": "code",
   "execution_count": null,
   "id": "427610c6",
   "metadata": {},
   "outputs": [],
   "source": []
  },
  {
   "cell_type": "code",
   "execution_count": null,
   "id": "5a47785f",
   "metadata": {},
   "outputs": [],
   "source": []
  },
  {
   "cell_type": "code",
   "execution_count": null,
   "id": "252129e2",
   "metadata": {},
   "outputs": [],
   "source": []
  },
  {
   "cell_type": "code",
   "execution_count": null,
   "id": "3353a928",
   "metadata": {},
   "outputs": [],
   "source": []
  },
  {
   "cell_type": "code",
   "execution_count": null,
   "id": "8170441b",
   "metadata": {},
   "outputs": [],
   "source": []
  },
  {
   "cell_type": "code",
   "execution_count": null,
   "id": "9cf847f0",
   "metadata": {},
   "outputs": [],
   "source": [
    "from pycaret.regression import *\n",
    "all_results=[]\n",
    "#all_states = ['VT', 'CT', 'ME', 'MA']\n",
    "\n",
    "#df_subset = df_all[df_all['state_id'] == i]\n",
    "# initialize setup from pycaret.regression\n",
    "s = setup(df_all, target = 'Conf_Cases', train_size = 0.8,\n",
    "                data_split_shuffle = True, fold = 3,\n",
    "                ignore_features = ['date', 'PRCP(mm)', 'state_id'],\n",
    "                numeric_features = ['day_of_year', 'Year', 'Avg_Temp(F)', 'Month', 'day_of_week'],\n",
    "                silent = True, verbose = False, session_id = 123,\n",
    "                normalize=True)\n",
    "    \n",
    "# compare all models and select best one based on MAE\n",
    "best_model = compare_models(sort = 'R2', verbose=False)\n",
    "    \n",
    "# capture the compare result grid and store best model in list\n",
    "#p = pull().iloc[0:1]\n",
    "#p['time_series'] = str(i)\n",
    "#all_results.append(p)\n",
    "    \n",
    "# finalize model i.e. fit on entire data including test set\n",
    "#f = finalize_model(best_model)\n",
    "best_model"
   ]
  },
  {
   "cell_type": "code",
   "execution_count": null,
   "id": "d665c4c6",
   "metadata": {},
   "outputs": [],
   "source": [
    "compare_models()"
   ]
  },
  {
   "cell_type": "code",
   "execution_count": null,
   "id": "966bef53",
   "metadata": {},
   "outputs": [],
   "source": []
  },
  {
   "cell_type": "code",
   "execution_count": null,
   "id": "2dc1fa40",
   "metadata": {},
   "outputs": [],
   "source": [
    "concat_results = pd.concat(all_results,axis=0)\n",
    "concat_results.head()"
   ]
  },
  {
   "cell_type": "code",
   "execution_count": null,
   "id": "d2391281",
   "metadata": {},
   "outputs": [],
   "source": []
  },
  {
   "cell_type": "code",
   "execution_count": null,
   "id": "678bf5ab",
   "metadata": {},
   "outputs": [],
   "source": []
  },
  {
   "cell_type": "code",
   "execution_count": null,
   "id": "9177d66e",
   "metadata": {},
   "outputs": [],
   "source": []
  },
  {
   "cell_type": "code",
   "execution_count": null,
   "id": "ac69fd70",
   "metadata": {},
   "outputs": [],
   "source": []
  },
  {
   "cell_type": "code",
   "execution_count": null,
   "id": "f95d27b4",
   "metadata": {},
   "outputs": [],
   "source": []
  },
  {
   "cell_type": "code",
   "execution_count": null,
   "id": "6a03f71a",
   "metadata": {},
   "outputs": [],
   "source": []
  },
  {
   "cell_type": "code",
   "execution_count": null,
   "id": "e0c8b8d6",
   "metadata": {},
   "outputs": [],
   "source": []
  },
  {
   "cell_type": "code",
   "execution_count": null,
   "id": "0c5738b2",
   "metadata": {},
   "outputs": [],
   "source": []
  },
  {
   "cell_type": "code",
   "execution_count": null,
   "id": "4071c0e0",
   "metadata": {},
   "outputs": [],
   "source": []
  },
  {
   "cell_type": "code",
   "execution_count": 30,
   "id": "9f682f8d",
   "metadata": {},
   "outputs": [],
   "source": [
    "# Make duplicates of datasets for processing with Pycaret:\n",
    "df_vt2 = df_vt.reset_index()\n",
    "df_ct2 = df_ct.reset_index()\n",
    "df_me2 = df_me.reset_index()\n",
    "df_ma2 = df_ma.reset_index()"
   ]
  },
  {
   "cell_type": "code",
   "execution_count": 31,
   "id": "6fe132ae",
   "metadata": {},
   "outputs": [
    {
     "data": {
      "text/html": [
       "<div>\n",
       "<style scoped>\n",
       "    .dataframe tbody tr th:only-of-type {\n",
       "        vertical-align: middle;\n",
       "    }\n",
       "\n",
       "    .dataframe tbody tr th {\n",
       "        vertical-align: top;\n",
       "    }\n",
       "\n",
       "    .dataframe thead th {\n",
       "        text-align: right;\n",
       "    }\n",
       "</style>\n",
       "<table border=\"1\" class=\"dataframe\">\n",
       "  <thead>\n",
       "    <tr style=\"text-align: right;\">\n",
       "      <th></th>\n",
       "      <th>date</th>\n",
       "      <th>MA_Avg_Temp(F)</th>\n",
       "      <th>MA_PRCP(mm)</th>\n",
       "      <th>MA_Conf_Cases</th>\n",
       "    </tr>\n",
       "  </thead>\n",
       "  <tbody>\n",
       "    <tr>\n",
       "      <th>0</th>\n",
       "      <td>2020-01-22</td>\n",
       "      <td>22.46</td>\n",
       "      <td>0.0</td>\n",
       "      <td>0.0</td>\n",
       "    </tr>\n",
       "    <tr>\n",
       "      <th>1</th>\n",
       "      <td>2020-01-23</td>\n",
       "      <td>32.00</td>\n",
       "      <td>0.0</td>\n",
       "      <td>0.0</td>\n",
       "    </tr>\n",
       "    <tr>\n",
       "      <th>2</th>\n",
       "      <td>2020-01-24</td>\n",
       "      <td>35.42</td>\n",
       "      <td>0.0</td>\n",
       "      <td>0.0</td>\n",
       "    </tr>\n",
       "    <tr>\n",
       "      <th>3</th>\n",
       "      <td>2020-01-27</td>\n",
       "      <td>39.02</td>\n",
       "      <td>0.0</td>\n",
       "      <td>0.0</td>\n",
       "    </tr>\n",
       "    <tr>\n",
       "      <th>4</th>\n",
       "      <td>2020-01-28</td>\n",
       "      <td>37.40</td>\n",
       "      <td>0.0</td>\n",
       "      <td>0.0</td>\n",
       "    </tr>\n",
       "    <tr>\n",
       "      <th>...</th>\n",
       "      <td>...</td>\n",
       "      <td>...</td>\n",
       "      <td>...</td>\n",
       "      <td>...</td>\n",
       "    </tr>\n",
       "    <tr>\n",
       "      <th>418</th>\n",
       "      <td>2021-09-03</td>\n",
       "      <td>62.42</td>\n",
       "      <td>0.0</td>\n",
       "      <td>291.0</td>\n",
       "    </tr>\n",
       "    <tr>\n",
       "      <th>419</th>\n",
       "      <td>2021-09-07</td>\n",
       "      <td>68.00</td>\n",
       "      <td>0.0</td>\n",
       "      <td>960.0</td>\n",
       "    </tr>\n",
       "    <tr>\n",
       "      <th>420</th>\n",
       "      <td>2021-09-08</td>\n",
       "      <td>71.96</td>\n",
       "      <td>0.0</td>\n",
       "      <td>260.0</td>\n",
       "    </tr>\n",
       "    <tr>\n",
       "      <th>421</th>\n",
       "      <td>2021-09-09</td>\n",
       "      <td>70.88</td>\n",
       "      <td>8.1</td>\n",
       "      <td>364.0</td>\n",
       "    </tr>\n",
       "    <tr>\n",
       "      <th>422</th>\n",
       "      <td>2021-09-10</td>\n",
       "      <td>68.54</td>\n",
       "      <td>0.0</td>\n",
       "      <td>307.0</td>\n",
       "    </tr>\n",
       "  </tbody>\n",
       "</table>\n",
       "<p>423 rows × 4 columns</p>\n",
       "</div>"
      ],
      "text/plain": [
       "          date  MA_Avg_Temp(F)  MA_PRCP(mm)  MA_Conf_Cases\n",
       "0   2020-01-22           22.46          0.0            0.0\n",
       "1   2020-01-23           32.00          0.0            0.0\n",
       "2   2020-01-24           35.42          0.0            0.0\n",
       "3   2020-01-27           39.02          0.0            0.0\n",
       "4   2020-01-28           37.40          0.0            0.0\n",
       "..         ...             ...          ...            ...\n",
       "418 2021-09-03           62.42          0.0          291.0\n",
       "419 2021-09-07           68.00          0.0          960.0\n",
       "420 2021-09-08           71.96          0.0          260.0\n",
       "421 2021-09-09           70.88          8.1          364.0\n",
       "422 2021-09-10           68.54          0.0          307.0\n",
       "\n",
       "[423 rows x 4 columns]"
      ]
     },
     "execution_count": 31,
     "metadata": {},
     "output_type": "execute_result"
    }
   ],
   "source": [
    "df_ma2"
   ]
  },
  {
   "cell_type": "code",
   "execution_count": 32,
   "id": "7fa3a8d5",
   "metadata": {},
   "outputs": [],
   "source": [
    "# create a list of dataframes to iterate through:\n",
    "df_list = [df_vt2, df_ct2, df_me2, df_ma2]"
   ]
  },
  {
   "cell_type": "code",
   "execution_count": 33,
   "id": "d7059ad3",
   "metadata": {},
   "outputs": [],
   "source": [
    "# Add 'day_of_week' and 'day_of_year' columns to each dataframe\n",
    "for df in df_list:\n",
    "    df['day_of_week'] = [i.dayofweek for i in df['date']]\n",
    "    df['day_of_year'] = [i.dayofyear for i in df['date']]\n",
    "    df['Year'] =[i.year for i in df['date']]\n",
    "    df['Month'] = [i.month for i in df['date']]\n",
    "    df['Day'] = [i.day for i in df['date']]"
   ]
  },
  {
   "cell_type": "code",
   "execution_count": 34,
   "id": "d0c2a80a",
   "metadata": {},
   "outputs": [
    {
     "data": {
      "text/html": [
       "<div>\n",
       "<style scoped>\n",
       "    .dataframe tbody tr th:only-of-type {\n",
       "        vertical-align: middle;\n",
       "    }\n",
       "\n",
       "    .dataframe tbody tr th {\n",
       "        vertical-align: top;\n",
       "    }\n",
       "\n",
       "    .dataframe thead th {\n",
       "        text-align: right;\n",
       "    }\n",
       "</style>\n",
       "<table border=\"1\" class=\"dataframe\">\n",
       "  <thead>\n",
       "    <tr style=\"text-align: right;\">\n",
       "      <th></th>\n",
       "      <th>date</th>\n",
       "      <th>MA_Avg_Temp(F)</th>\n",
       "      <th>MA_PRCP(mm)</th>\n",
       "      <th>MA_Conf_Cases</th>\n",
       "      <th>day_of_week</th>\n",
       "      <th>day_of_year</th>\n",
       "      <th>Year</th>\n",
       "      <th>Month</th>\n",
       "      <th>Day</th>\n",
       "    </tr>\n",
       "  </thead>\n",
       "  <tbody>\n",
       "    <tr>\n",
       "      <th>0</th>\n",
       "      <td>2020-01-22</td>\n",
       "      <td>22.46</td>\n",
       "      <td>0.0</td>\n",
       "      <td>0.0</td>\n",
       "      <td>2</td>\n",
       "      <td>22</td>\n",
       "      <td>2020</td>\n",
       "      <td>1</td>\n",
       "      <td>22</td>\n",
       "    </tr>\n",
       "    <tr>\n",
       "      <th>1</th>\n",
       "      <td>2020-01-23</td>\n",
       "      <td>32.00</td>\n",
       "      <td>0.0</td>\n",
       "      <td>0.0</td>\n",
       "      <td>3</td>\n",
       "      <td>23</td>\n",
       "      <td>2020</td>\n",
       "      <td>1</td>\n",
       "      <td>23</td>\n",
       "    </tr>\n",
       "    <tr>\n",
       "      <th>2</th>\n",
       "      <td>2020-01-24</td>\n",
       "      <td>35.42</td>\n",
       "      <td>0.0</td>\n",
       "      <td>0.0</td>\n",
       "      <td>4</td>\n",
       "      <td>24</td>\n",
       "      <td>2020</td>\n",
       "      <td>1</td>\n",
       "      <td>24</td>\n",
       "    </tr>\n",
       "    <tr>\n",
       "      <th>3</th>\n",
       "      <td>2020-01-27</td>\n",
       "      <td>39.02</td>\n",
       "      <td>0.0</td>\n",
       "      <td>0.0</td>\n",
       "      <td>0</td>\n",
       "      <td>27</td>\n",
       "      <td>2020</td>\n",
       "      <td>1</td>\n",
       "      <td>27</td>\n",
       "    </tr>\n",
       "    <tr>\n",
       "      <th>4</th>\n",
       "      <td>2020-01-28</td>\n",
       "      <td>37.40</td>\n",
       "      <td>0.0</td>\n",
       "      <td>0.0</td>\n",
       "      <td>1</td>\n",
       "      <td>28</td>\n",
       "      <td>2020</td>\n",
       "      <td>1</td>\n",
       "      <td>28</td>\n",
       "    </tr>\n",
       "  </tbody>\n",
       "</table>\n",
       "</div>"
      ],
      "text/plain": [
       "        date  MA_Avg_Temp(F)  MA_PRCP(mm)  MA_Conf_Cases  day_of_week  \\\n",
       "0 2020-01-22           22.46          0.0            0.0            2   \n",
       "1 2020-01-23           32.00          0.0            0.0            3   \n",
       "2 2020-01-24           35.42          0.0            0.0            4   \n",
       "3 2020-01-27           39.02          0.0            0.0            0   \n",
       "4 2020-01-28           37.40          0.0            0.0            1   \n",
       "\n",
       "   day_of_year  Year  Month  Day  \n",
       "0           22  2020      1   22  \n",
       "1           23  2020      1   23  \n",
       "2           24  2020      1   24  \n",
       "3           27  2020      1   27  \n",
       "4           28  2020      1   28  "
      ]
     },
     "execution_count": 34,
     "metadata": {},
     "output_type": "execute_result"
    }
   ],
   "source": [
    "df_ma2.head()"
   ]
  },
  {
   "cell_type": "code",
   "execution_count": 35,
   "id": "846e80cc",
   "metadata": {},
   "outputs": [
    {
     "data": {
      "text/plain": [
       "ExtraTreesRegressor(bootstrap=False, ccp_alpha=0.0, criterion='mse',\n",
       "                    max_depth=None, max_features='auto', max_leaf_nodes=None,\n",
       "                    max_samples=None, min_impurity_decrease=0.0,\n",
       "                    min_impurity_split=None, min_samples_leaf=1,\n",
       "                    min_samples_split=2, min_weight_fraction_leaf=0.0,\n",
       "                    n_estimators=100, n_jobs=-1, oob_score=False,\n",
       "                    random_state=123, verbose=0, warm_start=False)"
      ]
     },
     "execution_count": 35,
     "metadata": {},
     "output_type": "execute_result"
    }
   ],
   "source": [
    "from pycaret.regression import *\n",
    "all_results=[]\n",
    "df_subset = df_ma2\n",
    "\n",
    "# initialize setup from pycaret.regression\n",
    "s = setup(df_subset, target = 'MA_Conf_Cases', train_size = 0.8,\n",
    "            data_split_shuffle = True, fold = 3,\n",
    "            ignore_features = ['date', 'MA_PRCP(mm)'],\n",
    "            numeric_features = ['day_of_year', 'Year', 'MA_Avg_Temp(F)'],\n",
    "            categorical_features = ['Month', 'day_of_week'],\n",
    "            silent = True, verbose = False, session_id = 123,\n",
    "            normalize=True)\n",
    "    \n",
    "# compare all models and select best one based on MAE\n",
    "best_model = compare_models(sort = 'MAE', verbose=False)\n",
    "    \n",
    "# capture the compare result grid and store best model in list\n",
    "p = pull().iloc[0:1]\n",
    "p['time_series'] = str(\"MA\")\n",
    "all_results.append(p)\n",
    "    \n",
    "# finalize model i.e. fit on entire data including test set\n",
    "f = finalize_model(best_model)\n",
    "best_model"
   ]
  },
  {
   "cell_type": "code",
   "execution_count": 36,
   "id": "e841bda2",
   "metadata": {},
   "outputs": [
    {
     "data": {
      "text/html": [
       "<div>\n",
       "<style scoped>\n",
       "    .dataframe tbody tr th:only-of-type {\n",
       "        vertical-align: middle;\n",
       "    }\n",
       "\n",
       "    .dataframe tbody tr th {\n",
       "        vertical-align: top;\n",
       "    }\n",
       "\n",
       "    .dataframe thead th {\n",
       "        text-align: right;\n",
       "    }\n",
       "</style>\n",
       "<table border=\"1\" class=\"dataframe\">\n",
       "  <thead>\n",
       "    <tr style=\"text-align: right;\">\n",
       "      <th></th>\n",
       "      <th>Model</th>\n",
       "      <th>MAE</th>\n",
       "      <th>MSE</th>\n",
       "      <th>RMSE</th>\n",
       "      <th>R2</th>\n",
       "      <th>RMSLE</th>\n",
       "      <th>MAPE</th>\n",
       "      <th>TT (Sec)</th>\n",
       "      <th>time_series</th>\n",
       "    </tr>\n",
       "  </thead>\n",
       "  <tbody>\n",
       "    <tr>\n",
       "      <th>et</th>\n",
       "      <td>Extra Trees Regressor</td>\n",
       "      <td>61.8737</td>\n",
       "      <td>12742.7995</td>\n",
       "      <td>112.4221</td>\n",
       "      <td>0.8522</td>\n",
       "      <td>0.5572</td>\n",
       "      <td>0.3337</td>\n",
       "      <td>0.43</td>\n",
       "      <td>MA</td>\n",
       "    </tr>\n",
       "  </tbody>\n",
       "</table>\n",
       "</div>"
      ],
      "text/plain": [
       "                    Model      MAE         MSE      RMSE      R2   RMSLE  \\\n",
       "et  Extra Trees Regressor  61.8737  12742.7995  112.4221  0.8522  0.5572   \n",
       "\n",
       "      MAPE  TT (Sec) time_series  \n",
       "et  0.3337      0.43          MA  "
      ]
     },
     "execution_count": 36,
     "metadata": {},
     "output_type": "execute_result"
    }
   ],
   "source": [
    "concat_results = pd.concat(all_results,axis=0)\n",
    "concat_results.head()"
   ]
  },
  {
   "cell_type": "code",
   "execution_count": null,
   "id": "2dcbcdd6",
   "metadata": {},
   "outputs": [],
   "source": [
    "all_results=[]\n",
    "df_subset = df_me2\n",
    "\n",
    "# initialize setup from pycaret.regression\n",
    "s = setup(df_subset, target = 'ME_Conf_Cases', train_size = 0.8,\n",
    "            data_split_shuffle = True, fold = 3,\n",
    "            ignore_features = ['date', 'ME_PRCP(mm)'],\n",
    "            numeric_features = ['day_of_year', 'Year', 'ME_Avg_Temp(F)'],\n",
    "            categorical_features = ['Month', 'day_of_week'],\n",
    "            silent = True, verbose = False, session_id = 123,\n",
    "            normalize=True)\n",
    "    \n",
    "# compare all models and select best one based on MAE\n",
    "best_model = compare_models(sort = 'R2', verbose=False)\n",
    "    \n",
    "# capture the compare result grid and store best model in list\n",
    "p = pull().iloc[0:1]\n",
    "p['time_series'] = str(\"ME\")\n",
    "all_results.append(p)\n",
    "    \n",
    "# finalize model i.e. fit on entire data including test set\n",
    "f = finalize_model(best_model)\n",
    "best_model"
   ]
  },
  {
   "cell_type": "code",
   "execution_count": null,
   "id": "8c115184",
   "metadata": {},
   "outputs": [],
   "source": [
    "concat_results = pd.concat([pd.concat(all_results, axis=0), concat_results], axis=0)\n",
    "concat_results"
   ]
  },
  {
   "cell_type": "code",
   "execution_count": 37,
   "id": "1d7c8577",
   "metadata": {},
   "outputs": [
    {
     "data": {
      "text/plain": [
       "<catboost.core.CatBoostRegressor at 0x14639ee80>"
      ]
     },
     "execution_count": 37,
     "metadata": {},
     "output_type": "execute_result"
    }
   ],
   "source": [
    "all_results=[]\n",
    "df_subset = df_ct2\n",
    "\n",
    "# initialize setup from pycaret.regression\n",
    "s = setup(df_subset, target = 'CT_Conf_Cases', train_size = 0.8,\n",
    "            data_split_shuffle = True, fold = 3,\n",
    "            ignore_features = ['date', 'CT_PRCP(mm)'],\n",
    "            numeric_features = ['day_of_year', 'Year', 'CT_Avg_Temp(F)'],\n",
    "            categorical_features = ['Month', 'day_of_week'],\n",
    "            silent = True, verbose = False, session_id = 123,\n",
    "            normalize=True)\n",
    "    \n",
    "# compare all models and select best one based on MAE\n",
    "best_model = compare_models(sort = 'MAE', verbose=False)\n",
    "    \n",
    "# capture the compare result grid and store best model in list\n",
    "p = pull().iloc[0:1]\n",
    "p['time_series'] = str(\"CT\")\n",
    "all_results.append(p)\n",
    "    \n",
    "# finalize model i.e. fit on entire data including test set\n",
    "f = finalize_model(best_model)\n",
    "best_model"
   ]
  },
  {
   "cell_type": "code",
   "execution_count": 38,
   "id": "7cc82334",
   "metadata": {},
   "outputs": [
    {
     "data": {
      "text/html": [
       "<div>\n",
       "<style scoped>\n",
       "    .dataframe tbody tr th:only-of-type {\n",
       "        vertical-align: middle;\n",
       "    }\n",
       "\n",
       "    .dataframe tbody tr th {\n",
       "        vertical-align: top;\n",
       "    }\n",
       "\n",
       "    .dataframe thead th {\n",
       "        text-align: right;\n",
       "    }\n",
       "</style>\n",
       "<table border=\"1\" class=\"dataframe\">\n",
       "  <thead>\n",
       "    <tr style=\"text-align: right;\">\n",
       "      <th></th>\n",
       "      <th>Model</th>\n",
       "      <th>MAE</th>\n",
       "      <th>MSE</th>\n",
       "      <th>RMSE</th>\n",
       "      <th>R2</th>\n",
       "      <th>RMSLE</th>\n",
       "      <th>MAPE</th>\n",
       "      <th>TT (Sec)</th>\n",
       "      <th>time_series</th>\n",
       "    </tr>\n",
       "  </thead>\n",
       "  <tbody>\n",
       "    <tr>\n",
       "      <th>catboost</th>\n",
       "      <td>CatBoost Regressor</td>\n",
       "      <td>92.0222</td>\n",
       "      <td>43203.1905</td>\n",
       "      <td>198.1478</td>\n",
       "      <td>0.5498</td>\n",
       "      <td>1.3388</td>\n",
       "      <td>1.1098</td>\n",
       "      <td>0.1867</td>\n",
       "      <td>CT</td>\n",
       "    </tr>\n",
       "    <tr>\n",
       "      <th>et</th>\n",
       "      <td>Extra Trees Regressor</td>\n",
       "      <td>61.8737</td>\n",
       "      <td>12742.7995</td>\n",
       "      <td>112.4221</td>\n",
       "      <td>0.8522</td>\n",
       "      <td>0.5572</td>\n",
       "      <td>0.3337</td>\n",
       "      <td>0.4300</td>\n",
       "      <td>MA</td>\n",
       "    </tr>\n",
       "  </tbody>\n",
       "</table>\n",
       "</div>"
      ],
      "text/plain": [
       "                          Model      MAE         MSE      RMSE      R2  \\\n",
       "catboost     CatBoost Regressor  92.0222  43203.1905  198.1478  0.5498   \n",
       "et        Extra Trees Regressor  61.8737  12742.7995  112.4221  0.8522   \n",
       "\n",
       "           RMSLE    MAPE  TT (Sec) time_series  \n",
       "catboost  1.3388  1.1098    0.1867          CT  \n",
       "et        0.5572  0.3337    0.4300          MA  "
      ]
     },
     "execution_count": 38,
     "metadata": {},
     "output_type": "execute_result"
    }
   ],
   "source": [
    "concat_results = pd.concat([pd.concat(all_results, axis=0), concat_results], axis=0)\n",
    "concat_results"
   ]
  },
  {
   "cell_type": "code",
   "execution_count": null,
   "id": "4bee37bc",
   "metadata": {},
   "outputs": [],
   "source": [
    "all_results=[]\n",
    "df_subset = df_vt2\n",
    "\n",
    "# initialize setup from pycaret.regression\n",
    "s = setup(df_subset, target = 'VT_Conf_Cases', train_size = 0.8,\n",
    "            data_split_shuffle = True, fold = 3,\n",
    "            ignore_features = ['date', 'VT_PRCP(mm)'],\n",
    "            numeric_features = ['day_of_year', 'Year', 'VT_Avg_Temp(F)'],\n",
    "            categorical_features = ['Month', 'day_of_week'],\n",
    "            silent = True, verbose = False, session_id = 123,\n",
    "            normalize=True)\n",
    "    \n",
    "# compare all models and select best one based on MAE\n",
    "best_model = compare_models(sort = 'MAE', verbose=False)\n",
    "    \n",
    "# capture the compare result grid and store best model in list\n",
    "p = pull().iloc[0:1]\n",
    "p['time_series'] = str(\"VT\")\n",
    "all_results.append(p)\n",
    "    \n",
    "# finalize model i.e. fit on entire data including test set\n",
    "f = finalize_model(best_model)\n",
    "best_model"
   ]
  },
  {
   "cell_type": "code",
   "execution_count": null,
   "id": "8fe87b11",
   "metadata": {},
   "outputs": [],
   "source": [
    "concat_results = pd.concat([pd.concat(all_results, axis=0), concat_results], axis=0)\n",
    "concat_results"
   ]
  },
  {
   "cell_type": "code",
   "execution_count": null,
   "id": "0b1b0729",
   "metadata": {},
   "outputs": [],
   "source": []
  },
  {
   "cell_type": "code",
   "execution_count": null,
   "id": "f7db35fb",
   "metadata": {},
   "outputs": [],
   "source": []
  },
  {
   "cell_type": "code",
   "execution_count": null,
   "id": "8e87b951",
   "metadata": {},
   "outputs": [],
   "source": []
  },
  {
   "cell_type": "markdown",
   "id": "e4bfdc18",
   "metadata": {},
   "source": [
    "----------------------------------------------------------------------------------------------------------------------"
   ]
  },
  {
   "cell_type": "code",
   "execution_count": null,
   "id": "2fd71eec",
   "metadata": {},
   "outputs": [],
   "source": [
    "df2=df.reset_index()"
   ]
  },
  {
   "cell_type": "code",
   "execution_count": null,
   "id": "66764bbe",
   "metadata": {},
   "outputs": [],
   "source": [
    "df2.head()"
   ]
  },
  {
   "cell_type": "code",
   "execution_count": null,
   "id": "cce5f1fd",
   "metadata": {},
   "outputs": [],
   "source": [
    "df2['VT_Conf_Cases'] = df2['VT_Conf_Cases'].diff()"
   ]
  },
  {
   "cell_type": "code",
   "execution_count": null,
   "id": "836c4d8d",
   "metadata": {},
   "outputs": [],
   "source": [
    "plt.plot(df2['VT_Conf_Cases'])\n",
    "plt.xticks(rotation=90)\n",
    "plt.show()"
   ]
  },
  {
   "cell_type": "code",
   "execution_count": null,
   "id": "f9b32ba6",
   "metadata": {},
   "outputs": [],
   "source": [
    "#Replace NaN with 0:\n",
    "df2.VT_Conf_Cases[0] = 0\n",
    "df2.head()"
   ]
  },
  {
   "cell_type": "code",
   "execution_count": null,
   "id": "3ea86e37",
   "metadata": {},
   "outputs": [],
   "source": [
    "# Add 'day_of_week' and 'day_of_year' columns to each dataframe\n",
    "df2['day_of_week'] = [i.dayofweek for i in df2['date']]\n",
    "df2['day_of_year'] = [i.dayofyear for i in df2['date']]\n",
    "df2['Year'] =[i.year for i in df2['date']]\n",
    "df2['Month'] = [i.month for i in df2['date']]\n",
    "df2['Day'] = [i.day for i in df2['date']]"
   ]
  },
  {
   "cell_type": "code",
   "execution_count": null,
   "id": "c191e79f",
   "metadata": {},
   "outputs": [],
   "source": [
    "df2.head()"
   ]
  },
  {
   "cell_type": "code",
   "execution_count": null,
   "id": "30a78a6c",
   "metadata": {},
   "outputs": [],
   "source": []
  },
  {
   "cell_type": "code",
   "execution_count": null,
   "id": "c2283945",
   "metadata": {},
   "outputs": [],
   "source": []
  },
  {
   "cell_type": "code",
   "execution_count": null,
   "id": "5fe3ec0a",
   "metadata": {},
   "outputs": [],
   "source": []
  },
  {
   "cell_type": "code",
   "execution_count": null,
   "id": "ab2e93f2",
   "metadata": {},
   "outputs": [],
   "source": []
  },
  {
   "cell_type": "code",
   "execution_count": null,
   "id": "b2be148a",
   "metadata": {},
   "outputs": [],
   "source": [
    "from pycaret.regression import *\n",
    "all_results=[]\n",
    "\n",
    "for i in \n",
    "    # initialize setup from pycaret.regression\n",
    "    s = setup(df_subset, target = 'MA_Conf_Cases', train_size = 0.8,\n",
    "                data_split_shuffle = True, fold = 3,\n",
    "                ignore_features = ['date', 'MA_PRCP(mm)'],\n",
    "                numeric_features = ['day_of_year', 'Year', 'MA_Avg_Temp(F)'],\n",
    "                categorical_features = ['Month', 'day_of_week'],\n",
    "                silent = True, verbose = False, session_id = 123,\n",
    "                normalize=True)\n",
    "    \n",
    "    # compare all models and select best one based on MAE\n",
    "    best_model = compare_models(sort = 'MAE', verbose=False)\n",
    "    \n",
    "    # capture the compare result grid and store best model in list\n",
    "    p = pull().iloc[0:1]\n",
    "    p['time_series'] = str(\"MA\")\n",
    "    all_results.append(p)\n",
    "    \n",
    "    # finalize model i.e. fit on entire data including test set\n",
    "    f = finalize_model(best_model)\n",
    "    best_model"
   ]
  }
 ],
 "metadata": {
  "kernelspec": {
   "display_name": "Python 3",
   "language": "python",
   "name": "python3"
  },
  "language_info": {
   "codemirror_mode": {
    "name": "ipython",
    "version": 3
   },
   "file_extension": ".py",
   "mimetype": "text/x-python",
   "name": "python",
   "nbconvert_exporter": "python",
   "pygments_lexer": "ipython3",
   "version": "3.8.8"
  }
 },
 "nbformat": 4,
 "nbformat_minor": 5
}
