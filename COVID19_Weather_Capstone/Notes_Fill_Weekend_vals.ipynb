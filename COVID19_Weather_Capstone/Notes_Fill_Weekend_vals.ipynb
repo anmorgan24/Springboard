{
 "cells": [
  {
   "cell_type": "code",
   "execution_count": null,
   "id": "adf590dc",
   "metadata": {},
   "outputs": [],
   "source": [
    "print(len(df5.weekday))"
   ]
  },
  {
   "cell_type": "code",
   "execution_count": null,
   "id": "5f892a34",
   "metadata": {},
   "outputs": [],
   "source": [
    "#Loop through the dataframe:\n",
    "mon=[]\n",
    "for index, row in df5.iterrows():\n",
    "    Weekday =row[\"weekday\"]\n",
    "    if Weekday == 0:\n",
    "        mon.append(\"Monday\")"
   ]
  },
  {
   "cell_type": "code",
   "execution_count": null,
   "id": "8c9cbae6",
   "metadata": {},
   "outputs": [],
   "source": [
    "print(len(mon))"
   ]
  },
  {
   "cell_type": "code",
   "execution_count": null,
   "id": "533b54b4",
   "metadata": {},
   "outputs": [],
   "source": [
    "#Loop through the dataframe:\n",
    "for index, row in df5.iterrows():\n",
    "    Weekday = row[\"weekday\"]\n",
    "    if Weekday == 0:\n",
    "        (df5.iloc[index,\"CT_Conf_Cases\"])"
   ]
  },
  {
   "cell_type": "code",
   "execution_count": null,
   "id": "3c06e746",
   "metadata": {},
   "outputs": [],
   "source": [
    "test = df5.loc[0,\"CT_Conf_Cases\"]\n",
    "print(test)"
   ]
  },
  {
   "cell_type": "code",
   "execution_count": null,
   "id": "2f62001c",
   "metadata": {},
   "outputs": [],
   "source": [
    "df5.iloc[0, df5.columns.get_loc(\"CT_Conf_Cases\")]"
   ]
  },
  {
   "cell_type": "code",
   "execution_count": null,
   "id": "3f20778c",
   "metadata": {},
   "outputs": [],
   "source": [
    "df5 = df5[(df5.weekday != 5) & (df5.weekday != 6)]"
   ]
  },
  {
   "cell_type": "code",
   "execution_count": null,
   "id": "2977dddd",
   "metadata": {},
   "outputs": [],
   "source": [
    "df5.head(10)"
   ]
  },
  {
   "cell_type": "code",
   "execution_count": null,
   "id": "382f35ff",
   "metadata": {},
   "outputs": [],
   "source": [
    "df.iloc[index,\"case\"]=case/3"
   ]
  },
  {
   "cell_type": "code",
   "execution_count": null,
   "id": "35ae3911",
   "metadata": {},
   "outputs": [],
   "source": [
    "#Loop through the dataframe:\n",
    "for index, row in df7.iterrows():\n",
    "    Weekday =row[\"weekday\"]\n",
    "    if Weekday == 1:\n",
    "        cum_case = row[\"CT_Conf_Cases\"]\n",
    "        int_case = cum_case // 3\n",
    "        #df7[index,df7.columns.get_loc(\"CT_Conf_Cases\")] = int_case\n",
    "        print(cum_case)"
   ]
  },
  {
   "cell_type": "code",
   "execution_count": null,
   "id": "bb93f4ca",
   "metadata": {},
   "outputs": [],
   "source": [
    "df7.tail()"
   ]
  },
  {
   "cell_type": "code",
   "execution_count": null,
   "id": "50abe0ad",
   "metadata": {},
   "outputs": [],
   "source": [
    "int_case"
   ]
  },
  {
   "cell_type": "code",
   "execution_count": null,
   "id": "8adebe69",
   "metadata": {},
   "outputs": [],
   "source": [
    "df5.head()"
   ]
  },
  {
   "cell_type": "code",
   "execution_count": null,
   "id": "0ec60163",
   "metadata": {},
   "outputs": [],
   "source": [
    "df6=df5"
   ]
  },
  {
   "cell_type": "code",
   "execution_count": null,
   "id": "7ca1de1a",
   "metadata": {},
   "outputs": [],
   "source": [
    "df6.tail()"
   ]
  },
  {
   "cell_type": "code",
   "execution_count": null,
   "id": "790b29ce",
   "metadata": {},
   "outputs": [],
   "source": [
    "df_mondays = df6[df6.index.isin(Mondays_after)]"
   ]
  },
  {
   "cell_type": "code",
   "execution_count": null,
   "id": "257f6dc6",
   "metadata": {},
   "outputs": [],
   "source": [
    "df7=df6"
   ]
  },
  {
   "cell_type": "code",
   "execution_count": null,
   "id": "b9435dbb",
   "metadata": {},
   "outputs": [],
   "source": [
    "df7.tail()"
   ]
  },
  {
   "cell_type": "code",
   "execution_count": null,
   "id": "93691631",
   "metadata": {},
   "outputs": [],
   "source": [
    "df_mondays = df6[df6.index.dayofweek ==0]"
   ]
  },
  {
   "cell_type": "code",
   "execution_count": null,
   "id": "de0e2714",
   "metadata": {},
   "outputs": [],
   "source": [
    "df_mondays"
   ]
  },
  {
   "cell_type": "code",
   "execution_count": null,
   "id": "a283fa67",
   "metadata": {},
   "outputs": [],
   "source": [
    "CT_thirds= df_mondays.CT_Conf_Cases//3"
   ]
  },
  {
   "cell_type": "code",
   "execution_count": null,
   "id": "32f91e59",
   "metadata": {},
   "outputs": [],
   "source": [
    "df7[\"weekday\"] = df7.index.dayofweek"
   ]
  },
  {
   "cell_type": "code",
   "execution_count": null,
   "id": "b29fb62a",
   "metadata": {},
   "outputs": [],
   "source": [
    "df7.head()"
   ]
  },
  {
   "cell_type": "code",
   "execution_count": null,
   "id": "07235c27",
   "metadata": {},
   "outputs": [],
   "source": [
    "#Loop through the dataframe:\n",
    "for index, row in df7.iterrows():\n",
    "    Weekday =row[\"weekday\"]\n",
    "    if Weekday == 0:\n",
    "        df7['CT_Conf_Cases'] = (df7['CT_Conf_Cases'] // 3)"
   ]
  },
  {
   "cell_type": "code",
   "execution_count": null,
   "id": "59c2b638",
   "metadata": {},
   "outputs": [],
   "source": [
    "df7.tail()"
   ]
  },
  {
   "cell_type": "code",
   "execution_count": null,
   "id": "f55fca36",
   "metadata": {},
   "outputs": [],
   "source": [
    "#Loop through the dataframe:\n",
    "for index, row in df6.iterrows():\n",
    "    Weekday =row[\"weekday\"]\n",
    "    if Weekday == 0:\n",
    "        #Divide the case / 3\n",
    "        df6.iloc[index, row]=df6[\"CT_Conf_Cases\"]/3"
   ]
  },
  {
   "cell_type": "code",
   "execution_count": null,
   "id": "5c144f88",
   "metadata": {},
   "outputs": [],
   "source": [
    "third_monday_CT = []\n",
    "third_monday_MA = []                               \n",
    "third_monday_ME = []                       \n",
    "third_monday_VT = []\n",
    "third_monday_CT = (df6['CT_Conf_Cases'] // 3)\n",
    "third_monday_MA = (df6['MA_Conf_Cases'] // 3)                               \n",
    "third_monday_ME = (df6['ME_Conf_Cases'] // 3)                               \n",
    "third_monday_VT = (df6['VT_Conf_Cases'] // 3)  "
   ]
  },
  {
   "cell_type": "code",
   "execution_count": null,
   "id": "09558972",
   "metadata": {},
   "outputs": [],
   "source": [
    "third_monday_CT"
   ]
  },
  {
   "cell_type": "code",
   "execution_count": null,
   "id": "467c0053",
   "metadata": {},
   "outputs": [],
   "source": [
    "if (df6[df6.index.isin(Mondays_after)]):\n",
    "    df6['1/3_monday_CT'] = (df6['CT_Conf_Cases'] // 3)"
   ]
  },
  {
   "cell_type": "code",
   "execution_count": null,
   "id": "550cce64",
   "metadata": {},
   "outputs": [],
   "source": [
    "if (df6[df6.index.isin(Mondays_after)]):\n",
    "    df6['1/3_monday_CT'] = (df6['CT_Conf_Cases'] // 3)\n",
    "    df6['1/3_monday_MA'] = (df6['MA_Conf_Cases'] // 3)                               \n",
    "    df6['1/3_monday_ME'] = (df6['ME_Conf_Cases'] // 3)                               \n",
    "    df6['1/3_monday_VT'] = (df6['VT_Conf_Cases'] // 3)"
   ]
  },
  {
   "cell_type": "code",
   "execution_count": null,
   "id": "fe5c2661",
   "metadata": {},
   "outputs": [],
   "source": [
    "j=df[df6.index.isin(Mondays_after)]\n",
    "j"
   ]
  },
  {
   "cell_type": "code",
   "execution_count": null,
   "id": "324975ad",
   "metadata": {},
   "outputs": [],
   "source": [
    "if (df6[df6.index.isin(Mondays_after)]):\n",
    "    df6['1/3_monday_CT'] = (df_mondays['CT_Conf_Cases'] // 3\n",
    "    df6['1/3_monday_MA'] = (df_mondays['MA_Conf_Cases'] // 3                               \n",
    "    df6['1/3_monday_ME'] = (df_mondays['ME_Conf_Cases'] // 3                               \n",
    "    df_mondays['1/3_monday_VT'] = (df_mondays['VT_Conf_Cases'] // 3  "
   ]
  },
  {
   "cell_type": "code",
   "execution_count": null,
   "id": "ecebcc56",
   "metadata": {},
   "outputs": [],
   "source": [
    "#Create avg_temp column for Massachusetts:\n",
    "df_mondays['1/3_monday_CT'] = (df_mondays['CT_Conf_Cases'] // 3\n",
    "df_mondays['1/3_monday_MA'] = (df_mondays['MA_Conf_Cases'] // 3                               \n",
    "df_mondays['1/3_monday_ME'] = (df_mondays['ME_Conf_Cases'] // 3                               \n",
    "df_mondays['1/3_monday_VT'] = (df_mondays['VT_Conf_Cases'] // 3                               \n",
    "                               \n",
    "#Drop min max temp columns:\n",
    "DF_ma_temp_avg = DF_ma_temp_both.drop(columns=['ma_temp_max', 'ma_temp_min'])"
   ]
  },
  {
   "cell_type": "code",
   "execution_count": null,
   "id": "ab53208e",
   "metadata": {},
   "outputs": [],
   "source": [
    "filtered_df = df.loc[(df['date'] >= '2020-09-01')\n",
    "                     & (df['date'] < '2020-09-15')]"
   ]
  },
  {
   "cell_type": "code",
   "execution_count": null,
   "id": "979c0867",
   "metadata": {},
   "outputs": [],
   "source": [
    "df = df[df.index.floor('D').isin(dates)]"
   ]
  },
  {
   "cell_type": "code",
   "execution_count": null,
   "id": "a6299b74",
   "metadata": {},
   "outputs": [],
   "source": [
    "list_CT=[]\n",
    "list_MA=[]\n",
    "list_ME=[]\n",
    "list_VT=[]\n",
    "for i in range(len(df6)):\n",
    "    for m in range(len(Mondays_after)):\n",
    "        if Mondays_after[i] == df6.date:\n",
    "            list_CT.append(df6.CT_Conf_Cases)\n",
    "            list_MA.append(df6.MA_Conf_Cases)\n",
    "            list_ME.append(df6.ME_Conf_Cases)\n",
    "            list_VT.append(df6.VT_Conf_Cases)"
   ]
  },
  {
   "cell_type": "code",
   "execution_count": null,
   "id": "2a087f5c",
   "metadata": {},
   "outputs": [],
   "source": [
    "df.iloc(1)"
   ]
  },
  {
   "cell_type": "code",
   "execution_count": null,
   "id": "ccd4ee8e",
   "metadata": {},
   "outputs": [],
   "source": [
    "df5"
   ]
  },
  {
   "cell_type": "code",
   "execution_count": null,
   "id": "41b70aac",
   "metadata": {},
   "outputs": [],
   "source": [
    "df_weekend = (df5[df5.index.dayofweek > 4])\n",
    "df_weekend"
   ]
  },
  {
   "cell_type": "code",
   "execution_count": null,
   "id": "de53fb60",
   "metadata": {},
   "outputs": [],
   "source": [
    "Mondays_after = ((df5[df5.index.dayofweek == 0]).index)\n",
    "Mondays_after"
   ]
  },
  {
   "cell_type": "code",
   "execution_count": null,
   "id": "4804b643",
   "metadata": {},
   "outputs": [],
   "source": [
    "Mondays_after.dtype"
   ]
  },
  {
   "cell_type": "code",
   "execution_count": null,
   "id": "4eeedad2",
   "metadata": {},
   "outputs": [],
   "source": [
    "mon_CT_cases =[]\n",
    "for i in range(len(Mondays_after)):\n",
    "    mon_val = df5.loc[i, 8]\n",
    "    #mon_CT_cases.append(mon_val)\n",
    "print(mon_val)"
   ]
  },
  {
   "cell_type": "code",
   "execution_count": null,
   "id": "f6985bac",
   "metadata": {},
   "outputs": [],
   "source": [
    "type(df5.loc['2021-08-30'])"
   ]
  },
  {
   "cell_type": "code",
   "execution_count": null,
   "id": "ccdb386c",
   "metadata": {},
   "outputs": [],
   "source": [
    "for i in range(len(df_weekend)):\n",
    "        sat = df_weekend.iloc[0 + i]\n",
    "        counter +="
   ]
  },
  {
   "cell_type": "code",
   "execution_count": null,
   "id": "f70e2b71",
   "metadata": {},
   "outputs": [],
   "source": [
    "for index_num in range(len(df5)):\n",
    "    counter = 0\n",
    "    for i in range(len(df_weekend)):\n",
    "        sat = df_weekend.iloc[0 + i]\n",
    "        counter +="
   ]
  },
  {
   "cell_type": "code",
   "execution_count": null,
   "id": "fb16b8f3",
   "metadata": {},
   "outputs": [],
   "source": [
    "for i in range(len(df_weekend)):\n",
    "    sat_date_index = df_weekend.iloc[0 + i].index"
   ]
  },
  {
   "cell_type": "code",
   "execution_count": null,
   "id": "3c5c7195",
   "metadata": {},
   "outputs": [],
   "source": [
    "df_weekend.iloc[0]"
   ]
  },
  {
   "cell_type": "code",
   "execution_count": null,
   "id": "f75348e0",
   "metadata": {},
   "outputs": [],
   "source": [
    "df_weekend2= ((df5[df5.index.dayofweek > 4]).index)"
   ]
  },
  {
   "cell_type": "code",
   "execution_count": null,
   "id": "54e9d87d",
   "metadata": {},
   "outputs": [],
   "source": [
    "df_weekend2"
   ]
  },
  {
   "cell_type": "code",
   "execution_count": null,
   "id": "b047ac32",
   "metadata": {},
   "outputs": [],
   "source": [
    "Mondays_after = ((df5[df5.index.dayofweek == 0]).index)\n",
    "Mondays_after"
   ]
  },
  {
   "cell_type": "code",
   "execution_count": null,
   "id": "27641b9e",
   "metadata": {},
   "outputs": [],
   "source": [
    "(df_weekend.loc['2020-08-29']).index"
   ]
  },
  {
   "cell_type": "code",
   "execution_count": null,
   "id": "f2747b8c",
   "metadata": {},
   "outputs": [],
   "source": []
  },
  {
   "cell_type": "code",
   "execution_count": null,
   "id": "a9e0eea9",
   "metadata": {},
   "outputs": [],
   "source": []
  },
  {
   "cell_type": "code",
   "execution_count": null,
   "id": "bb4383b4",
   "metadata": {},
   "outputs": [],
   "source": []
  }
 ],
 "metadata": {
  "kernelspec": {
   "display_name": "Python 3",
   "language": "python",
   "name": "python3"
  },
  "language_info": {
   "codemirror_mode": {
    "name": "ipython",
    "version": 3
   },
   "file_extension": ".py",
   "mimetype": "text/x-python",
   "name": "python",
   "nbconvert_exporter": "python",
   "pygments_lexer": "ipython3",
   "version": "3.8.8"
  }
 },
 "nbformat": 4,
 "nbformat_minor": 5
}
