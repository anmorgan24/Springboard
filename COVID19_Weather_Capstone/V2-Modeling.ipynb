{
 "cells": [
  {
   "cell_type": "markdown",
   "id": "33f06886",
   "metadata": {},
   "source": [
    "# Modeling"
   ]
  },
  {
   "cell_type": "code",
   "execution_count": 1,
   "id": "f0195230",
   "metadata": {},
   "outputs": [],
   "source": [
    "import numpy as np\n",
    "import pandas as pd\n",
    "import matplotlib.pyplot as plt\n",
    "import seaborn as sns\n",
    "\n",
    "from sklearn.model_selection import train_test_split, cross_val_score, GridSearchCV, RandomizedSearchCV, RepeatedKFold\n",
    "from sklearn.metrics import r2_score, mean_squared_error as mse, mean_absolute_error as mae\n",
    "from sklearn.dummy import DummyRegressor\n",
    "from catboost import Pool, CatBoostRegressor\n",
    "from sklearn.ensemble import RandomForestRegressor\n",
    "from sklearn.ensemble import ExtraTreesRegressor\n",
    "from sklearn.ensemble import VotingRegressor\n",
    "from sklearn.pipeline import Pipeline\n",
    "from sklearn.preprocessing import StandardScaler"
   ]
  },
  {
   "cell_type": "code",
   "execution_count": null,
   "id": "2eff42f0",
   "metadata": {},
   "outputs": [],
   "source": [
    "#load dataframe REGULAR\n",
    "#parse datetime column\n",
    "#df=pd.read_csv('COVID19_modeling.csv', parse_dates=[0])\n",
    "#df.set_index('date', inplace= True)\n",
    "#df.drop(columns='Unnamed: 0', inplace=True)"
   ]
  },
  {
   "cell_type": "code",
   "execution_count": 2,
   "id": "e6b9ebfa",
   "metadata": {},
   "outputs": [],
   "source": [
    "#load dataframe OHE\n",
    "#parse datetime column\n",
    "df_ohe = pd.read_csv('ohe_data.csv', parse_dates=['date'])\n",
    "df_ohe.drop(columns='Unnamed: 0', inplace=True)\n",
    "df_ohe.set_index('date', inplace=True)"
   ]
  },
  {
   "cell_type": "markdown",
   "id": "b045ad0c",
   "metadata": {},
   "source": [
    "## Train-test split"
   ]
  },
  {
   "cell_type": "markdown",
   "id": "b66b8698",
   "metadata": {},
   "source": [
    "Before training any models on the data, let's do a train-test split to keep training and testing data consistent and separated."
   ]
  },
  {
   "cell_type": "code",
   "execution_count": 3,
   "id": "aa03cbdd",
   "metadata": {},
   "outputs": [],
   "source": [
    "# Create features\n",
    "X, y = df_ohe.drop(columns=['Conf_Cases', 'new_case_percent_pop*']), df_ohe['new_case_percent_pop*']\n",
    "# Make test and train split\n",
    "X_train, X_test, y_train, y_test = train_test_split(X, y, test_size=0.2, random_state=42)"
   ]
  },
  {
   "cell_type": "markdown",
   "id": "3b2bb775",
   "metadata": {},
   "source": [
    "## Using the mean as a baseline prediction model"
   ]
  },
  {
   "cell_type": "markdown",
   "id": "cfedbf61",
   "metadata": {},
   "source": [
    "Previously, we determined the R2 score of using the mean to predict COVID19 cases for each individual state. Let's do the same thing now that we have all the states in one DataFrame, so that we will have a baseline \"dummy\" model to compare our future optimized models to. "
   ]
  },
  {
   "cell_type": "code",
   "execution_count": 4,
   "id": "d5d6a3b2",
   "metadata": {
    "scrolled": true
   },
   "outputs": [
    {
     "name": "stdout",
     "output_type": "stream",
     "text": [
      "The R2 score of using the mean to predict COVID19 cases in our states is: -0.0019588491283020204\n"
     ]
    }
   ],
   "source": [
    "dummy_mean = DummyRegressor()\n",
    "# \"Train\" dummy regressor\n",
    "dummy_mean.fit(X_train, y_train)\n",
    "# Get R2 score\n",
    "score_dummy = dummy_mean.score(X_test, y_test)\n",
    "print(\"The R2 score of using the mean to predict COVID19 cases in our states is:\", score_dummy)"
   ]
  },
  {
   "cell_type": "markdown",
   "id": "80f9406b",
   "metadata": {},
   "source": [
    "Let's store the evaluation metric values for the dummy regressor so we can compare them with our future models. "
   ]
  },
  {
   "cell_type": "code",
   "execution_count": 5,
   "id": "6c38faf1",
   "metadata": {},
   "outputs": [],
   "source": [
    "dummy_pred = dummy_mean.predict(X_test)\n",
    "dummy_r2 = r2_score(y_test, dummy_pred)\n",
    "dummy_mse = mse(y_test, dummy_pred)\n",
    "dummy_rmse = np.sqrt(mse(y_test, dummy_pred))"
   ]
  },
  {
   "cell_type": "markdown",
   "id": "171ca28d",
   "metadata": {},
   "source": [
    "## Tuning the top performing models for ensemble model"
   ]
  },
  {
   "cell_type": "markdown",
   "id": "06dfcff3",
   "metadata": {},
   "source": [
    "In the pre-processing step, we determined (with the help of Pycaret) that our top performing models were **CatBoost Regressor**, **Random Forest Regressor**, and **Extra Trees Regressor**. Let's now fine tune the hyperparameters of each of these models, in preparation for feeding them into the pipeline of the Voting Regressor. \n",
    "\n",
    "**NOTE TO SELF: Determine hyperparameters for each model, but pass unfitted (tuned) models to the VotingRegressor**\n"
   ]
  },
  {
   "cell_type": "markdown",
   "id": "99c46073",
   "metadata": {},
   "source": [
    "### 1. Random Forest Regressor\n",
    "With a few exceptions, a RandomForestClassifier has all the hyperparameters of a DecisionTreeClassifier (to control how trees are grown), plus all the hyperparameters of a BaggingClassifier to control the ensemble itself. I'll explore a couple different ways to determine optimal hyperparameters and will choose those that produce the best R2 and MSE for the final ensemble model (a VotingRegressor)."
   ]
  },
  {
   "cell_type": "markdown",
   "id": "de1529ea",
   "metadata": {},
   "source": [
    "#### Using basic hyperparameter tuning only"
   ]
  },
  {
   "cell_type": "code",
   "execution_count": 6,
   "id": "9fd48497",
   "metadata": {},
   "outputs": [
    {
     "name": "stdout",
     "output_type": "stream",
     "text": [
      "{'max_depth': 9, 'n_estimators': 400}\n"
     ]
    }
   ],
   "source": [
    "# Define parameters to search for GridSearchCV\n",
    "basic_param_grid = {'n_estimators': [100, 200, 300, 400, 500],\n",
    "              'max_depth': [3, 5, 7, 9],\n",
    "              }\n",
    "# Instantiate RandomForestRegressor\n",
    "basic_rf = RandomForestRegressor(random_state=42)\n",
    "cv_rf = GridSearchCV(basic_rf, basic_param_grid, cv = 5)\n",
    "cv_rf_fit = cv_rf.fit(X_train, y_train)\n",
    "\n",
    "#Print the best parameter\n",
    "#print(cv_rf_fit.best_params_)"
   ]
  },
  {
   "cell_type": "code",
   "execution_count": 7,
   "id": "e14e9315",
   "metadata": {
    "scrolled": true
   },
   "outputs": [
    {
     "name": "stdout",
     "output_type": "stream",
     "text": [
      "The optimal max_depth for the RandomForestRegressor is: 9\n",
      "The optimal n_estimators for the RandomForestRegressor is: 400\n"
     ]
    }
   ],
   "source": [
    "print('The optimal max_depth for the RandomForestRegressor is: {}'.format(cv_rf_fit.best_params_['max_depth']))\n",
    "print('The optimal n_estimators for the RandomForestRegressor is: {}'.format(cv_rf_fit.best_params_['n_estimators']))"
   ]
  },
  {
   "cell_type": "code",
   "execution_count": 8,
   "id": "833472f6",
   "metadata": {},
   "outputs": [],
   "source": [
    "# Instantiate RFR with optimal hyperparameters\n",
    "basic_rf = RandomForestRegressor(max_depth = 9, n_estimators = 400, random_state=42)\n",
    "basic_rf.fit(X_train, y_train)\n",
    "basic_rf_pred = basic_rf.predict(X_test)"
   ]
  },
  {
   "cell_type": "code",
   "execution_count": 9,
   "id": "595fdd23",
   "metadata": {},
   "outputs": [],
   "source": [
    "# Calculate evaluation metrics on basic_rf\n",
    "basic_rf_r2 = r2_score(y_test, basic_rf_pred)\n",
    "basic_rf_mse = mse(y_test, basic_rf_pred)\n",
    "basic_rf_rmse = np.sqrt(basic_rf_mse)"
   ]
  },
  {
   "cell_type": "markdown",
   "id": "6b71269d",
   "metadata": {},
   "source": [
    "Create a DataFrame to store the evaluation metric scores for our Random Forest Regressor, as well as the dummy regressor created in the previous step. This way, once we've built all the models, we'll be able to easily compare each model's metrics and determine which performs the best."
   ]
  },
  {
   "cell_type": "code",
   "execution_count": 10,
   "id": "d1aa4074",
   "metadata": {},
   "outputs": [],
   "source": [
    "rf_results = pd.DataFrame({'Model':['dummy_reg', 'basic_rf'], 'R2': [dummy_r2, basic_rf_r2], 'MSE':[dummy_mse, basic_rf_mse], 'RMSE':[dummy_rmse, basic_rf_rmse]})"
   ]
  },
  {
   "cell_type": "code",
   "execution_count": 11,
   "id": "48ec407b",
   "metadata": {},
   "outputs": [
    {
     "data": {
      "text/html": [
       "<div>\n",
       "<style scoped>\n",
       "    .dataframe tbody tr th:only-of-type {\n",
       "        vertical-align: middle;\n",
       "    }\n",
       "\n",
       "    .dataframe tbody tr th {\n",
       "        vertical-align: top;\n",
       "    }\n",
       "\n",
       "    .dataframe thead th {\n",
       "        text-align: right;\n",
       "    }\n",
       "</style>\n",
       "<table border=\"1\" class=\"dataframe\">\n",
       "  <thead>\n",
       "    <tr style=\"text-align: right;\">\n",
       "      <th></th>\n",
       "      <th>Model</th>\n",
       "      <th>R2</th>\n",
       "      <th>MSE</th>\n",
       "      <th>RMSE</th>\n",
       "    </tr>\n",
       "  </thead>\n",
       "  <tbody>\n",
       "    <tr>\n",
       "      <th>0</th>\n",
       "      <td>dummy_reg</td>\n",
       "      <td>-0.001959</td>\n",
       "      <td>348.310472</td>\n",
       "      <td>18.663078</td>\n",
       "    </tr>\n",
       "    <tr>\n",
       "      <th>1</th>\n",
       "      <td>basic_rf</td>\n",
       "      <td>0.840630</td>\n",
       "      <td>55.401741</td>\n",
       "      <td>7.443235</td>\n",
       "    </tr>\n",
       "  </tbody>\n",
       "</table>\n",
       "</div>"
      ],
      "text/plain": [
       "       Model        R2         MSE       RMSE\n",
       "0  dummy_reg -0.001959  348.310472  18.663078\n",
       "1   basic_rf  0.840630   55.401741   7.443235"
      ]
     },
     "execution_count": 11,
     "metadata": {},
     "output_type": "execute_result"
    }
   ],
   "source": [
    "rf_results"
   ]
  },
  {
   "cell_type": "code",
   "execution_count": 25,
   "id": "a67b4f21",
   "metadata": {},
   "outputs": [],
   "source": [
    "# Determine R2 score\n",
    "#print('The R2 score for the RandomForestRegressor is {}'.format(r2_score(y_test, basic_rf_pred)))"
   ]
  },
  {
   "cell_type": "markdown",
   "id": "c0523a3b",
   "metadata": {},
   "source": [
    "****"
   ]
  },
  {
   "cell_type": "markdown",
   "id": "39cead11",
   "metadata": {},
   "source": [
    "#### Using RandomSearchCV to find optimal hyperparameter values"
   ]
  },
  {
   "cell_type": "code",
   "execution_count": 26,
   "id": "a16ecc97",
   "metadata": {},
   "outputs": [],
   "source": [
    "# Number of trees in random forest\n",
    "n_estimators = [int(x) for x in np.linspace(start = 200, stop = 2000, num = 10)]\n",
    "# Number of features to consider at every split\n",
    "max_features = ['auto', 'sqrt']\n",
    "# Maximum number of levels in tree\n",
    "max_depth = [int(x) for x in np.linspace(10, 110, num = 11)]\n",
    "max_depth.append(None)\n",
    "max_depth.append(9)\n",
    "# Minimum number of samples required to split a node\n",
    "min_samples_split = [2, 5, 10]\n",
    "# Minimum number of samples required at each leaf node\n",
    "min_samples_leaf = [1, 2, 4]\n",
    "# Method of selecting samples for training each tree\n",
    "bootstrap = [True, False]\n",
    "\n",
    "# Create the random grid\n",
    "random_grid = {'n_estimators': n_estimators,\n",
    "               'max_features': max_features,\n",
    "               'max_depth': max_depth,\n",
    "               'min_samples_split': min_samples_split,\n",
    "               'min_samples_leaf': min_samples_leaf,\n",
    "               'bootstrap': bootstrap}"
   ]
  },
  {
   "cell_type": "code",
   "execution_count": 31,
   "id": "03d46342",
   "metadata": {},
   "outputs": [
    {
     "name": "stdout",
     "output_type": "stream",
     "text": [
      "Fitting 5 folds for each of 100 candidates, totalling 500 fits\n"
     ]
    },
    {
     "name": "stderr",
     "output_type": "stream",
     "text": [
      "[Parallel(n_jobs=-1)]: Using backend LokyBackend with 8 concurrent workers.\n",
      "[Parallel(n_jobs=-1)]: Done  25 tasks      | elapsed:   19.0s\n",
      "[Parallel(n_jobs=-1)]: Done 146 tasks      | elapsed:  1.7min\n",
      "/Users/abigailmorgan/opt/anaconda3/lib/python3.8/site-packages/joblib/externals/loky/process_executor.py:688: UserWarning: A worker stopped while some jobs were given to the executor. This can be caused by a too short worker timeout or by a memory leak.\n",
      "  warnings.warn(\n",
      "[Parallel(n_jobs=-1)]: Done 349 tasks      | elapsed:  3.7min\n",
      "[Parallel(n_jobs=-1)]: Done 500 out of 500 | elapsed:  5.3min finished\n"
     ]
    },
    {
     "data": {
      "text/plain": [
       "RandomizedSearchCV(cv=5, estimator=RandomForestRegressor(), n_iter=100,\n",
       "                   n_jobs=-1,\n",
       "                   param_distributions={'bootstrap': [True, False],\n",
       "                                        'max_depth': [10, 20, 30, 40, 50, 60,\n",
       "                                                      70, 80, 90, 100, 110,\n",
       "                                                      None, 9],\n",
       "                                        'max_features': ['auto', 'sqrt'],\n",
       "                                        'min_samples_leaf': [1, 2, 4],\n",
       "                                        'min_samples_split': [2, 5, 10],\n",
       "                                        'n_estimators': [200, 400, 600, 800,\n",
       "                                                         1000, 1200, 1400, 1600,\n",
       "                                                         1800, 2000]},\n",
       "                   random_state=42, verbose=2)"
      ]
     },
     "execution_count": 31,
     "metadata": {},
     "output_type": "execute_result"
    }
   ],
   "source": [
    "# Use the random grid to search for best hyperparameters\n",
    "# First create the base model to tune\n",
    "rf = RandomForestRegressor()\n",
    "# Random search of parameters, using 3 fold cross validation, \n",
    "# search across 100 different combinations, and use all available cores\n",
    "rf_random = RandomizedSearchCV(estimator = rf, param_distributions = random_grid, n_iter = 100, cv = 5, verbose=2, n_jobs=-1, random_state=42)\n",
    "# Fit the random search model\n",
    "rf_random.fit(X_train, y_train)"
   ]
  },
  {
   "cell_type": "code",
   "execution_count": 32,
   "id": "5522919e",
   "metadata": {},
   "outputs": [
    {
     "data": {
      "text/plain": [
       "{'n_estimators': 1400,\n",
       " 'min_samples_split': 2,\n",
       " 'min_samples_leaf': 2,\n",
       " 'max_features': 'auto',\n",
       " 'max_depth': 50,\n",
       " 'bootstrap': True}"
      ]
     },
     "execution_count": 32,
     "metadata": {},
     "output_type": "execute_result"
    }
   ],
   "source": [
    "rf_random.best_params_"
   ]
  },
  {
   "cell_type": "code",
   "execution_count": 33,
   "id": "435c4d23",
   "metadata": {},
   "outputs": [],
   "source": [
    "# Instantiate RFR with optimal hyperparameters\n",
    "rf2 = RandomForestRegressor(n_estimators= 1400,\n",
    "                             min_samples_split= 2,\n",
    "                             min_samples_leaf= 2,\n",
    "                             max_features= 'auto',\n",
    "                             max_depth= 50,\n",
    "                             bootstrap= True, \n",
    "                             random_state=42)\n",
    "rf2.fit(X_train, y_train)\n",
    "rf_pred2 = rf2.predict(X_test)"
   ]
  },
  {
   "cell_type": "code",
   "execution_count": 35,
   "id": "562ca7ff",
   "metadata": {},
   "outputs": [],
   "source": [
    "rf_random_r2 = r2_score(y_test, rf_pred2)\n",
    "rf_random_mse = mse(y_test, rf_pred2)\n",
    "rf_random_rmse = np.sqrt(mse(y_test, rf_pred2))"
   ]
  },
  {
   "cell_type": "code",
   "execution_count": 36,
   "id": "50fee2d2",
   "metadata": {},
   "outputs": [],
   "source": [
    "rf_results.loc[len(rf_results)]= ['rf_randomCV', \n",
    "                                 r2_score(y_test, rf_pred2),\n",
    "                                 mse(y_test, rf_pred2),\n",
    "                                 np.sqrt(mse(y_test, rf_pred2))]"
   ]
  },
  {
   "cell_type": "code",
   "execution_count": 37,
   "id": "6baaf649",
   "metadata": {},
   "outputs": [
    {
     "data": {
      "text/html": [
       "<div>\n",
       "<style scoped>\n",
       "    .dataframe tbody tr th:only-of-type {\n",
       "        vertical-align: middle;\n",
       "    }\n",
       "\n",
       "    .dataframe tbody tr th {\n",
       "        vertical-align: top;\n",
       "    }\n",
       "\n",
       "    .dataframe thead th {\n",
       "        text-align: right;\n",
       "    }\n",
       "</style>\n",
       "<table border=\"1\" class=\"dataframe\">\n",
       "  <thead>\n",
       "    <tr style=\"text-align: right;\">\n",
       "      <th></th>\n",
       "      <th>Model</th>\n",
       "      <th>R2</th>\n",
       "      <th>MSE</th>\n",
       "      <th>RMSE</th>\n",
       "    </tr>\n",
       "  </thead>\n",
       "  <tbody>\n",
       "    <tr>\n",
       "      <th>0</th>\n",
       "      <td>dummy_reg</td>\n",
       "      <td>-0.001959</td>\n",
       "      <td>348.310472</td>\n",
       "      <td>18.663078</td>\n",
       "    </tr>\n",
       "    <tr>\n",
       "      <th>1</th>\n",
       "      <td>basic_rf</td>\n",
       "      <td>0.840630</td>\n",
       "      <td>55.401741</td>\n",
       "      <td>7.443235</td>\n",
       "    </tr>\n",
       "    <tr>\n",
       "      <th>2</th>\n",
       "      <td>rf_randomCV</td>\n",
       "      <td>0.831070</td>\n",
       "      <td>58.725149</td>\n",
       "      <td>7.663234</td>\n",
       "    </tr>\n",
       "    <tr>\n",
       "      <th>3</th>\n",
       "      <td>rf_randomCV</td>\n",
       "      <td>0.830081</td>\n",
       "      <td>59.068859</td>\n",
       "      <td>7.685627</td>\n",
       "    </tr>\n",
       "  </tbody>\n",
       "</table>\n",
       "</div>"
      ],
      "text/plain": [
       "         Model        R2         MSE       RMSE\n",
       "0    dummy_reg -0.001959  348.310472  18.663078\n",
       "1     basic_rf  0.840630   55.401741   7.443235\n",
       "2  rf_randomCV  0.831070   58.725149   7.663234\n",
       "3  rf_randomCV  0.830081   59.068859   7.685627"
      ]
     },
     "execution_count": 37,
     "metadata": {},
     "output_type": "execute_result"
    }
   ],
   "source": [
    "rf_results"
   ]
  },
  {
   "cell_type": "code",
   "execution_count": 23,
   "id": "a6564d63",
   "metadata": {},
   "outputs": [],
   "source": [
    "# Determine R2 score\n",
    "#print('The R2 score for the RandomForestRegressor with RSCV tuning is {}'.format(r2_score(y_test, rf_pred)))"
   ]
  },
  {
   "cell_type": "code",
   "execution_count": 24,
   "id": "e8275ddf",
   "metadata": {},
   "outputs": [],
   "source": [
    "#print('The MSE of the RandomForestRegressor with RSCV tuning is {}'.format(mean_squared_error(y_test, rf_pred)))"
   ]
  },
  {
   "cell_type": "markdown",
   "id": "ffcf22d8",
   "metadata": {},
   "source": [
    "***"
   ]
  },
  {
   "cell_type": "markdown",
   "id": "18de6aea",
   "metadata": {},
   "source": [
    "#### Using GridSearchCV to find the optimal hyperparamter values"
   ]
  },
  {
   "cell_type": "code",
   "execution_count": null,
   "id": "09454aec",
   "metadata": {},
   "outputs": [],
   "source": [
    "# Create the parameter grid based on the results of random search \n",
    "GS_param_grid = {\n",
    "    'bootstrap': [True],\n",
    "    'max_depth': [80, 90, 100, 110, 120],\n",
    "    'max_features': ['auto'],\n",
    "    'min_samples_leaf': [1, 2, 3, 4, 5],\n",
    "    'min_samples_split': [2, 3, 4, 5],\n",
    "    'n_estimators': [600, 700, 800, 9000, 1000]\n",
    "}"
   ]
  },
  {
   "cell_type": "code",
   "execution_count": null,
   "id": "85e616be",
   "metadata": {},
   "outputs": [],
   "source": [
    "# Create a based model\n",
    "rf = RandomForestRegressor()\n",
    "# Instantiate the grid search model\n",
    "grid_search = GridSearchCV(estimator = rf, param_grid = GS_param_grid, \n",
    "                          cv = 3, n_jobs = -1, verbose = 2)"
   ]
  },
  {
   "cell_type": "code",
   "execution_count": null,
   "id": "5118e7cc",
   "metadata": {},
   "outputs": [],
   "source": [
    "# Fit the grid search to the data\n",
    "grid_search.fit(X_train, y_train)"
   ]
  },
  {
   "cell_type": "code",
   "execution_count": null,
   "id": "94759d46",
   "metadata": {},
   "outputs": [],
   "source": [
    "grid_search.best_params_"
   ]
  },
  {
   "cell_type": "code",
   "execution_count": null,
   "id": "2fb24a19",
   "metadata": {},
   "outputs": [],
   "source": [
    "# Instantiate RFR with optimal hyperparameters\n",
    "rf3 = RandomForestRegressor(n_estimators= 800,\n",
    "                             min_samples_split= 3,\n",
    "                             min_samples_leaf= 2,\n",
    "                             max_features= 'auto',\n",
    "                             max_depth= 110,\n",
    "                             bootstrap= True)\n",
    "rf3.fit(X_train, y_train)\n",
    "rf_pred3 = rf3.predict(X_test)"
   ]
  },
  {
   "cell_type": "code",
   "execution_count": null,
   "id": "7a71edeb",
   "metadata": {
    "scrolled": true
   },
   "outputs": [],
   "source": [
    "# Determine R2 score\n",
    "print('The R2 score for the RandomForestRegressor with GSCV tuning is {}'.format(r2_score(y_test, rf_pred3)))"
   ]
  },
  {
   "cell_type": "code",
   "execution_count": null,
   "id": "3246f568",
   "metadata": {},
   "outputs": [],
   "source": [
    "print('The MSE of the RandomForestRegressor with GSCV tuning is {}'.format(mean_squared_error(y_test, rf_pred3)))"
   ]
  },
  {
   "cell_type": "markdown",
   "id": "2f546a68",
   "metadata": {},
   "source": [
    "It looks like the optimal hyperparameters chosen by RandomSearchCV performed the best, both in terms of the R2 and mean squared error, so we'll use those hyperparameters (as defined in `rf2`)."
   ]
  },
  {
   "cell_type": "markdown",
   "id": "23ef09a0",
   "metadata": {},
   "source": [
    "***"
   ]
  },
  {
   "cell_type": "markdown",
   "id": "a6a68369",
   "metadata": {},
   "source": [
    "## 2. Extra Trees Regressor"
   ]
  },
  {
   "cell_type": "markdown",
   "id": "fbf9cf67",
   "metadata": {},
   "source": [
    "#### Using basic hyperparameter tuning only"
   ]
  },
  {
   "cell_type": "code",
   "execution_count": null,
   "id": "cb28aa79",
   "metadata": {},
   "outputs": [],
   "source": [
    "# Define parameters to search for GridSearchCV\n",
    "param_grid = {'n_estimators': [100, 200, 300, 400, 500],\n",
    "              'max_depth': [3, 5, 7, 9],\n",
    "              }\n",
    "# Instantiate ExtraTreesRegressor\n",
    "et = ExtraTreesRegressor()\n",
    "cv_et = GridSearchCV(et, param_grid, cv = 10)\n",
    "cv_et_fit = cv_et.fit(X_train, y_train)\n",
    "\n",
    "#Print the best parameter\n",
    "print(cv_et_fit.best_params_)"
   ]
  },
  {
   "cell_type": "code",
   "execution_count": null,
   "id": "ee0edcba",
   "metadata": {},
   "outputs": [],
   "source": [
    "print('The optimal max_depth for the ExtraTreesRegressor is: {}'.format(cv_et_fit.best_params_['max_depth']))\n",
    "print('The optimal n_estimators for the ExtraTreesRegressor is: {}'.format(cv_et_fit.best_params_['n_estimators'])) cf"
   ]
  },
  {
   "cell_type": "code",
   "execution_count": null,
   "id": "e526ca7b",
   "metadata": {},
   "outputs": [],
   "source": [
    "# Instantiate ETR with optimal hyperparameters\n",
    "et = RandomForestRegressor(max_depth = 9, n_estimators = 500)\n",
    "et.fit(X_train, y_train)\n",
    "et_pred = et.predict(X_test)"
   ]
  },
  {
   "cell_type": "code",
   "execution_count": null,
   "id": "b0f0f053",
   "metadata": {},
   "outputs": [],
   "source": [
    "# Determine R2 score\n",
    "print('The R2 score for the basic Extra Trees Regressor is {}'.format(r2_score(y_test, et_pred)))"
   ]
  },
  {
   "cell_type": "code",
   "execution_count": null,
   "id": "eb346517",
   "metadata": {},
   "outputs": [],
   "source": [
    "print('The MSE of the basic ExtraTreesRegressor is {}'.format(mean_squared_error(y_test, et_pred)))"
   ]
  },
  {
   "cell_type": "markdown",
   "id": "74b2e6c2",
   "metadata": {},
   "source": [
    "#### Using RandomSearchCV to find optimal hyperparameter values"
   ]
  },
  {
   "cell_type": "code",
   "execution_count": null,
   "id": "eff9f02a",
   "metadata": {},
   "outputs": [],
   "source": [
    "# Number of trees in random forest\n",
    "n_estimators = [int(x) for x in np.linspace(start = 200, stop = 2000, num = 10)]\n",
    "# Number of features to consider at every split\n",
    "max_features = ['auto', 'sqrt']\n",
    "# Maximum number of levels in tree\n",
    "max_depth = [int(x) for x in np.linspace(10, 110, num = 11)]\n",
    "max_depth.append(None)\n",
    "# Minimum number of samples required to split a node\n",
    "min_samples_split = [2, 5, 10]\n",
    "# Minimum number of samples required at each leaf node\n",
    "min_samples_leaf = [1, 2, 4]\n",
    "# Method of selecting samples for training each tree\n",
    "bootstrap = [True, False]\n",
    "\n",
    "# Create the random grid\n",
    "random_grid_et = {'n_estimators': n_estimators,\n",
    "               'max_features': max_features,\n",
    "               'max_depth': max_depth,\n",
    "               'min_samples_split': min_samples_split,\n",
    "               'min_samples_leaf': min_samples_leaf,\n",
    "               'bootstrap': bootstrap}\n",
    "\n",
    "print(random_grid)"
   ]
  },
  {
   "cell_type": "code",
   "execution_count": null,
   "id": "bfa09662",
   "metadata": {},
   "outputs": [],
   "source": [
    "# Use the random grid to search for best hyperparameters\n",
    "# First create the base model to tune\n",
    "et = ExtraTreesRegressor()\n",
    "# Random search of parameters, using 3 fold cross validation, \n",
    "# search across 100 different combinations, and use all available cores\n",
    "et_random = RandomizedSearchCV(estimator = et, param_distributions = random_grid, n_iter = 100, cv = 3, verbose=2, random_state=42, n_jobs = -1)\n",
    "# Fit the random search model\n",
    "et_random.fit(X_train, y_train)"
   ]
  },
  {
   "cell_type": "code",
   "execution_count": null,
   "id": "8350fc14",
   "metadata": {},
   "outputs": [],
   "source": [
    "et_random.best_params_"
   ]
  },
  {
   "cell_type": "code",
   "execution_count": null,
   "id": "3ee5c496",
   "metadata": {},
   "outputs": [],
   "source": [
    "# Instantiate RFR with optimal hyperparameters\n",
    "et2 = ExtraTreesRegressor(n_estimators= 1800,\n",
    "                             min_samples_split= 2,\n",
    "                             min_samples_leaf= 2,\n",
    "                             max_features= 'auto',\n",
    "                             max_depth= None,\n",
    "                             bootstrap= True)\n",
    "et2.fit(X_train, y_train)\n",
    "et_pred2 = et2.predict(X_test)"
   ]
  },
  {
   "cell_type": "code",
   "execution_count": null,
   "id": "a53656ea",
   "metadata": {},
   "outputs": [],
   "source": [
    "# Determine R2 score\n",
    "print('The R2 score for the ExtraTreesRegressor with RSCV tuning is {}'.format(r2_score(y_test, et_pred2)))"
   ]
  },
  {
   "cell_type": "code",
   "execution_count": null,
   "id": "3d4796b3",
   "metadata": {},
   "outputs": [],
   "source": [
    "print('The MSE of the ExtraTreesRegressor with RSCV tuning is {}'.format(mean_squared_error(y_test, et_pred2)))"
   ]
  },
  {
   "cell_type": "markdown",
   "id": "62dfa218",
   "metadata": {},
   "source": [
    "#### Using GridSearchCV to find the optimal hyperparamter values"
   ]
  },
  {
   "cell_type": "code",
   "execution_count": null,
   "id": "a92dbf6a",
   "metadata": {},
   "outputs": [],
   "source": [
    "# Create the parameter grid based on the results of random search \n",
    "GS_param_grid_et = {\n",
    "    'bootstrap': [True],\n",
    "    'max_depth': [80, 100, 120, None],\n",
    "    'max_features': ['auto'],\n",
    "    'min_samples_leaf': [1, 2, 3],\n",
    "    'min_samples_split': [2, 3, 4],\n",
    "    'n_estimators': [1600, 1700, 1800, 1900, 2000]\n",
    "}"
   ]
  },
  {
   "cell_type": "code",
   "execution_count": null,
   "id": "e2299472",
   "metadata": {},
   "outputs": [],
   "source": [
    "# Create a based model\n",
    "et3 = ExtraTreesRegressor()\n",
    "# Instantiate the grid search model\n",
    "grid_search_et3 = GridSearchCV(estimator = et2, param_grid = GS_param_grid_et, \n",
    "                          cv = 3, n_jobs = -1, verbose = 2)"
   ]
  },
  {
   "cell_type": "code",
   "execution_count": null,
   "id": "d86a779c",
   "metadata": {},
   "outputs": [],
   "source": [
    "# Fit the grid search to the data\n",
    "grid_search_et3.fit(X_train, y_train)"
   ]
  },
  {
   "cell_type": "code",
   "execution_count": null,
   "id": "1af8c482",
   "metadata": {},
   "outputs": [],
   "source": [
    "grid_search_et3.best_params_"
   ]
  },
  {
   "cell_type": "code",
   "execution_count": null,
   "id": "29b5115a",
   "metadata": {},
   "outputs": [],
   "source": [
    "# Instantiate RFR with optimal hyperparameters\n",
    "et3 = ExtraTreesRegressor(n_estimators= 1800,\n",
    "                             min_samples_split= 4,\n",
    "                             min_samples_leaf= 2,\n",
    "                             max_features= 'auto',\n",
    "                             max_depth= 80,\n",
    "                             bootstrap= True)\n",
    "et3.fit(X_train, y_train)\n",
    "et_pred3 = et3.predict(X_test)"
   ]
  },
  {
   "cell_type": "code",
   "execution_count": null,
   "id": "4d7c89b8",
   "metadata": {},
   "outputs": [],
   "source": [
    "# Determine R2 score\n",
    "print('The R2 score for the Extra Trees Regressor with GSCV is {}'.format(r2_score(y_test, et_pred3)))"
   ]
  },
  {
   "cell_type": "code",
   "execution_count": null,
   "id": "a995a827",
   "metadata": {},
   "outputs": [],
   "source": [
    "print('The MSE of the ExtraTreesRegressor with GSCV is {}'.format(mean_squared_error(y_test, et_pred3)))"
   ]
  },
  {
   "cell_type": "markdown",
   "id": "ed2f25e2",
   "metadata": {},
   "source": [
    "It seems that here again, the parameters suggested by RandomizedSearchCV (stored in `et2`) produced the best MSE and R2, so we'll use those "
   ]
  },
  {
   "cell_type": "markdown",
   "id": "b4c491c4",
   "metadata": {},
   "source": [
    "## 3. CatBoost Regressor"
   ]
  },
  {
   "cell_type": "markdown",
   "id": "b985ef0f",
   "metadata": {},
   "source": [
    "CatBoost is an open-sourced gradient boosting library. \n",
    "* 1. run CatBoost without tuning any hyperparameters to get baseline mse and r2\n",
    "* 2. RandomizedSearchCV for hyperparameters\n",
    "* 3. GridSearchCV for hyperparameters"
   ]
  },
  {
   "cell_type": "code",
   "execution_count": null,
   "id": "c7462f68",
   "metadata": {},
   "outputs": [],
   "source": []
  },
  {
   "cell_type": "code",
   "execution_count": null,
   "id": "32c989c8",
   "metadata": {},
   "outputs": [],
   "source": []
  },
  {
   "cell_type": "markdown",
   "id": "d52526a1",
   "metadata": {},
   "source": [
    "***"
   ]
  },
  {
   "cell_type": "markdown",
   "id": "e00480e3",
   "metadata": {},
   "source": [
    "****"
   ]
  },
  {
   "cell_type": "markdown",
   "id": "f879dfe1",
   "metadata": {},
   "source": [
    "#### Voting Regressor"
   ]
  },
  {
   "cell_type": "markdown",
   "id": "1aac2b71",
   "metadata": {},
   "source": [
    "```\n",
    "from sklearn.ensemble import VotingRegressor\n",
    "reg_voting = VotingRegressor(\n",
    "        estimators = [\n",
    "            ('label1', reg_1),\n",
    "            ('label2', reg_2),\n",
    "            ...\n",
    "            ('labelN', reg_N)],\n",
    "        voting = 'soft',\n",
    "        weights = [w_1, w_2, ..., w_N]\n",
    ")\n",
    "```"
   ]
  },
  {
   "cell_type": "code",
   "execution_count": null,
   "id": "f92bb8f0",
   "metadata": {},
   "outputs": [],
   "source": [
    "reg_voting = VotingRegressor(\n",
    "                estimators = [\n",
    "                    ('rf_reg', rf),\n",
    "                    ('et_reg', et),\n",
    "                    ('cb_reg', cb)],\n",
    "                voting = 'soft',\n",
    "                weights = [w_1, w_2, w_3]\n",
    ")"
   ]
  },
  {
   "cell_type": "markdown",
   "id": "bfb96c96",
   "metadata": {},
   "source": [
    "#### Determining optimal weights"
   ]
  },
  {
   "cell_type": "code",
   "execution_count": null,
   "id": "f62797f4",
   "metadata": {},
   "outputs": [],
   "source": [
    "# Create empty lists that will storage the different weights\n",
    "\n",
    "weights1 = []\n",
    "weights2 = []\n",
    "weights3 = []\n",
    "scores = []\n",
    "\n",
    "# Create a for loop to evaluate different combinations of weights\n",
    "\n",
    "for i in np.arange(0.1,1, 0.1):\n",
    "    for j in np.arange(0.1,1, 0.1):\n",
    "        for k in np.arange(0.1,1, 0.1):\n",
    "            clf_voting = VotingClassifier(estimators = [('est1', clf1), ('est2', clf2),\n",
    "                                           ('est3', clf3)], voting = 'soft', weights = [i, j, k])\n",
    "            clf_voting.fit(X_train, y_train)\n",
    "            pred = clf_voting.predict(X_test)\n",
    "            score = accuracy_score(y_test, pred)\n",
    "            scores.append(score)\n",
    "            weights1.append(i)\n",
    "            weights2.append(j)\n",
    "            weights3.append(k)"
   ]
  },
  {
   "cell_type": "code",
   "execution_count": null,
   "id": "ea5c46e6",
   "metadata": {},
   "outputs": [],
   "source": [
    "# Save the results in a data frame\n",
    "\n",
    "test_scores = pd.DataFrame()\n",
    "test_scores['Weight1'] = weights1\n",
    "test_scores['Weight2'] = weights2\n",
    "test_scores['Weight3'] = weights3\n",
    "test_scores['Test Score'] = scores\n",
    "\n",
    "# Create an additional column to save the sum of all the weights\n",
    "\n",
    "test_scores['sum_weights'] = test_scores['Weight1'].add(test_scores['Weight2']).add(test_scores['Weight3'])\n",
    "\n",
    "#We are only getting the rows that the sum of all weights were equal to one\n",
    "\n",
    "condition = test_scores['sum_weights'] == 1\n",
    "\n",
    "test_scores = test_scores.loc[condition]"
   ]
  },
  {
   "cell_type": "code",
   "execution_count": null,
   "id": "9c843f28",
   "metadata": {},
   "outputs": [],
   "source": [
    "# Sort the values to see the different test scores depending on the weights\n",
    "test_scores.sort_values(by = 'Test Score', ascending = False).head(15)\n"
   ]
  },
  {
   "cell_type": "code",
   "execution_count": null,
   "id": "afe2365e",
   "metadata": {},
   "outputs": [],
   "source": []
  },
  {
   "cell_type": "markdown",
   "id": "5e7b124d",
   "metadata": {},
   "source": [
    "```\n",
    "from sklearn.model_selection import GridSearchCV\n",
    "# function to create a grid search containing pipeline\n",
    "def gridsearch_maker(pipeline, params):\n",
    "    '''Takes in a pipeline and param grid, returns GridSearchCV object'''\n",
    "    return GridSearchCV(estimator=pipeline,\n",
    "                        param_grid=params,\n",
    "                        scoring='recall',\n",
    "                        cv=10,\n",
    "                        n_jobs=-1)\n",
    "```"
   ]
  },
  {
   "cell_type": "markdown",
   "id": "e451e092",
   "metadata": {},
   "source": [
    "```\n",
    "from sklearn.pipeline import Pipeline\n",
    "# function to make a pipeline with classifier input\n",
    "def pipe_maker(classifier):\n",
    "    '''Takes in a classifier, returns a pipeline'''\n",
    "    pipe = Pipeline([('scl', StandardScaler()),\n",
    "                    ('clf', classifier(class_weight= 'balanced', random_state=42))])\n",
    "    return pipe\n",
    "```"
   ]
  },
  {
   "cell_type": "markdown",
   "id": "dc2b9d48",
   "metadata": {},
   "source": [
    "```\n",
    "from sklearn.pipeline import Pipeline\n",
    "# function to make a pipeline with classifier input\n",
    "def pipe_maker(classifier):\n",
    "    '''Takes in a classifier, returns a pipeline'''\n",
    "    pipe = Pipeline([('scl', StandardScaler()),\n",
    "                    ('clf', classifier(class_weight= 'balanced', random_state=42))])\n",
    "    return pipe\n",
    "```"
   ]
  }
 ],
 "metadata": {
  "kernelspec": {
   "display_name": "Python 3",
   "language": "python",
   "name": "python3"
  }
 },
 "nbformat": 4,
 "nbformat_minor": 5
}
