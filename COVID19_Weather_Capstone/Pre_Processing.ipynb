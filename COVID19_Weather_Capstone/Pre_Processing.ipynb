{
 "cells": [
  {
   "cell_type": "markdown",
   "id": "aeaec58e",
   "metadata": {},
   "source": [
    "# Pre-Processing "
   ]
  },
  {
   "cell_type": "code",
   "execution_count": 12,
   "id": "e2d31631",
   "metadata": {},
   "outputs": [],
   "source": [
    "import pandas as pd\n",
    "import numpy as np\n",
    "from statsmodels.tsa.stattools import adfuller"
   ]
  },
  {
   "cell_type": "code",
   "execution_count": 2,
   "id": "a6f6c994",
   "metadata": {},
   "outputs": [],
   "source": [
    "#load dataframe\n",
    "#parse datetime column\n",
    "df=pd.read_csv('cov_weather.csv', parse_dates=[0])\n",
    "df.set_index('date', inplace= True)"
   ]
  },
  {
   "cell_type": "code",
   "execution_count": 3,
   "id": "62d7e234",
   "metadata": {},
   "outputs": [
    {
     "data": {
      "text/html": [
       "<div>\n",
       "<style scoped>\n",
       "    .dataframe tbody tr th:only-of-type {\n",
       "        vertical-align: middle;\n",
       "    }\n",
       "\n",
       "    .dataframe tbody tr th {\n",
       "        vertical-align: top;\n",
       "    }\n",
       "\n",
       "    .dataframe thead th {\n",
       "        text-align: right;\n",
       "    }\n",
       "</style>\n",
       "<table border=\"1\" class=\"dataframe\">\n",
       "  <thead>\n",
       "    <tr style=\"text-align: right;\">\n",
       "      <th></th>\n",
       "      <th>VT_Avg_Temp(F)</th>\n",
       "      <th>VT_PRCP(mm)</th>\n",
       "      <th>ME_Avg_Temp(F)</th>\n",
       "      <th>ME_PRCP(mm)</th>\n",
       "      <th>CT_Avg_Temp(F)</th>\n",
       "      <th>CT_PRCP(mm)</th>\n",
       "      <th>MA_Avg_Temp(F)</th>\n",
       "      <th>MA_PRCP(mm)</th>\n",
       "      <th>CT_Conf_Cases</th>\n",
       "      <th>VT_Conf_Cases</th>\n",
       "      <th>ME_Conf_Cases</th>\n",
       "      <th>MA_Conf_Cases</th>\n",
       "      <th>weekday</th>\n",
       "    </tr>\n",
       "    <tr>\n",
       "      <th>date</th>\n",
       "      <th></th>\n",
       "      <th></th>\n",
       "      <th></th>\n",
       "      <th></th>\n",
       "      <th></th>\n",
       "      <th></th>\n",
       "      <th></th>\n",
       "      <th></th>\n",
       "      <th></th>\n",
       "      <th></th>\n",
       "      <th></th>\n",
       "      <th></th>\n",
       "      <th></th>\n",
       "    </tr>\n",
       "  </thead>\n",
       "  <tbody>\n",
       "    <tr>\n",
       "      <th>2020-01-22</th>\n",
       "      <td>26.96</td>\n",
       "      <td>0.0</td>\n",
       "      <td>19.04</td>\n",
       "      <td>0.0</td>\n",
       "      <td>18.32</td>\n",
       "      <td>0.0</td>\n",
       "      <td>22.46</td>\n",
       "      <td>0.0</td>\n",
       "      <td>0.0</td>\n",
       "      <td>0.0</td>\n",
       "      <td>0.0</td>\n",
       "      <td>0.0</td>\n",
       "      <td>2</td>\n",
       "    </tr>\n",
       "    <tr>\n",
       "      <th>2020-01-23</th>\n",
       "      <td>27.14</td>\n",
       "      <td>0.0</td>\n",
       "      <td>26.60</td>\n",
       "      <td>0.3</td>\n",
       "      <td>23.72</td>\n",
       "      <td>0.0</td>\n",
       "      <td>32.00</td>\n",
       "      <td>0.0</td>\n",
       "      <td>0.0</td>\n",
       "      <td>0.0</td>\n",
       "      <td>0.0</td>\n",
       "      <td>0.0</td>\n",
       "      <td>3</td>\n",
       "    </tr>\n",
       "    <tr>\n",
       "      <th>2020-01-24</th>\n",
       "      <td>30.56</td>\n",
       "      <td>0.0</td>\n",
       "      <td>29.48</td>\n",
       "      <td>0.0</td>\n",
       "      <td>33.08</td>\n",
       "      <td>0.0</td>\n",
       "      <td>35.42</td>\n",
       "      <td>0.0</td>\n",
       "      <td>0.0</td>\n",
       "      <td>0.0</td>\n",
       "      <td>0.0</td>\n",
       "      <td>0.0</td>\n",
       "      <td>4</td>\n",
       "    </tr>\n",
       "    <tr>\n",
       "      <th>2020-01-27</th>\n",
       "      <td>34.52</td>\n",
       "      <td>1.3</td>\n",
       "      <td>31.46</td>\n",
       "      <td>1.0</td>\n",
       "      <td>38.84</td>\n",
       "      <td>0.0</td>\n",
       "      <td>39.02</td>\n",
       "      <td>0.0</td>\n",
       "      <td>0.0</td>\n",
       "      <td>0.0</td>\n",
       "      <td>0.0</td>\n",
       "      <td>0.0</td>\n",
       "      <td>0</td>\n",
       "    </tr>\n",
       "    <tr>\n",
       "      <th>2020-01-28</th>\n",
       "      <td>30.02</td>\n",
       "      <td>0.3</td>\n",
       "      <td>21.56</td>\n",
       "      <td>0.0</td>\n",
       "      <td>36.68</td>\n",
       "      <td>0.0</td>\n",
       "      <td>37.40</td>\n",
       "      <td>0.0</td>\n",
       "      <td>0.0</td>\n",
       "      <td>0.0</td>\n",
       "      <td>0.0</td>\n",
       "      <td>0.0</td>\n",
       "      <td>1</td>\n",
       "    </tr>\n",
       "  </tbody>\n",
       "</table>\n",
       "</div>"
      ],
      "text/plain": [
       "            VT_Avg_Temp(F)  VT_PRCP(mm)  ME_Avg_Temp(F)  ME_PRCP(mm)  \\\n",
       "date                                                                   \n",
       "2020-01-22           26.96          0.0           19.04          0.0   \n",
       "2020-01-23           27.14          0.0           26.60          0.3   \n",
       "2020-01-24           30.56          0.0           29.48          0.0   \n",
       "2020-01-27           34.52          1.3           31.46          1.0   \n",
       "2020-01-28           30.02          0.3           21.56          0.0   \n",
       "\n",
       "            CT_Avg_Temp(F)  CT_PRCP(mm)  MA_Avg_Temp(F)  MA_PRCP(mm)  \\\n",
       "date                                                                   \n",
       "2020-01-22           18.32          0.0           22.46          0.0   \n",
       "2020-01-23           23.72          0.0           32.00          0.0   \n",
       "2020-01-24           33.08          0.0           35.42          0.0   \n",
       "2020-01-27           38.84          0.0           39.02          0.0   \n",
       "2020-01-28           36.68          0.0           37.40          0.0   \n",
       "\n",
       "            CT_Conf_Cases  VT_Conf_Cases  ME_Conf_Cases  MA_Conf_Cases  \\\n",
       "date                                                                     \n",
       "2020-01-22            0.0            0.0            0.0            0.0   \n",
       "2020-01-23            0.0            0.0            0.0            0.0   \n",
       "2020-01-24            0.0            0.0            0.0            0.0   \n",
       "2020-01-27            0.0            0.0            0.0            0.0   \n",
       "2020-01-28            0.0            0.0            0.0            0.0   \n",
       "\n",
       "            weekday  \n",
       "date                 \n",
       "2020-01-22        2  \n",
       "2020-01-23        3  \n",
       "2020-01-24        4  \n",
       "2020-01-27        0  \n",
       "2020-01-28        1  "
      ]
     },
     "execution_count": 3,
     "metadata": {},
     "output_type": "execute_result"
    }
   ],
   "source": [
    "df.head()"
   ]
  },
  {
   "cell_type": "code",
   "execution_count": null,
   "id": "d0def1a3",
   "metadata": {},
   "outputs": [],
   "source": [
    "!pip install pycaret"
   ]
  },
  {
   "cell_type": "code",
   "execution_count": 4,
   "id": "0de71100",
   "metadata": {},
   "outputs": [],
   "source": [
    "df_vt=df.drop(columns=['ME_Avg_Temp(F)', 'ME_PRCP(mm)', 'ME_Conf_Cases', 'CT_Avg_Temp(F)', 'CT_PRCP(mm)', 'CT_Conf_Cases', 'MA_Avg_Temp(F)', 'MA_PRCP(mm)', 'MA_Conf_Cases','weekday'])"
   ]
  },
  {
   "cell_type": "code",
   "execution_count": 5,
   "id": "a1884bdc",
   "metadata": {},
   "outputs": [],
   "source": [
    "df_me=df.drop(columns=['VT_Avg_Temp(F)', 'VT_PRCP(mm)', 'VT_Conf_Cases', 'CT_Avg_Temp(F)', 'CT_PRCP(mm)', 'CT_Conf_Cases', 'MA_Avg_Temp(F)', 'MA_PRCP(mm)', 'MA_Conf_Cases','weekday'])"
   ]
  },
  {
   "cell_type": "code",
   "execution_count": 6,
   "id": "bb5f4a55",
   "metadata": {},
   "outputs": [],
   "source": [
    "df_ma=df.drop(columns=['ME_Avg_Temp(F)', 'ME_PRCP(mm)', 'ME_Conf_Cases', 'CT_Avg_Temp(F)', 'CT_PRCP(mm)', 'CT_Conf_Cases', 'VT_Avg_Temp(F)', 'VT_PRCP(mm)', 'VT_Conf_Cases','weekday'])"
   ]
  },
  {
   "cell_type": "code",
   "execution_count": 7,
   "id": "429a6b94",
   "metadata": {},
   "outputs": [],
   "source": [
    "df_ct= df.drop(columns=['ME_Avg_Temp(F)', 'ME_PRCP(mm)', 'ME_Conf_Cases', 'VT_Avg_Temp(F)', 'VT_PRCP(mm)', 'VT_Conf_Cases', 'MA_Avg_Temp(F)', 'MA_PRCP(mm)', 'MA_Conf_Cases','weekday'])"
   ]
  },
  {
   "cell_type": "code",
   "execution_count": 8,
   "id": "fa594d00",
   "metadata": {},
   "outputs": [
    {
     "data": {
      "text/html": [
       "<div>\n",
       "<style scoped>\n",
       "    .dataframe tbody tr th:only-of-type {\n",
       "        vertical-align: middle;\n",
       "    }\n",
       "\n",
       "    .dataframe tbody tr th {\n",
       "        vertical-align: top;\n",
       "    }\n",
       "\n",
       "    .dataframe thead th {\n",
       "        text-align: right;\n",
       "    }\n",
       "</style>\n",
       "<table border=\"1\" class=\"dataframe\">\n",
       "  <thead>\n",
       "    <tr style=\"text-align: right;\">\n",
       "      <th></th>\n",
       "      <th>VT_Avg_Temp(F)</th>\n",
       "      <th>VT_PRCP(mm)</th>\n",
       "      <th>VT_Conf_Cases</th>\n",
       "    </tr>\n",
       "    <tr>\n",
       "      <th>date</th>\n",
       "      <th></th>\n",
       "      <th></th>\n",
       "      <th></th>\n",
       "    </tr>\n",
       "  </thead>\n",
       "  <tbody>\n",
       "    <tr>\n",
       "      <th>2020-01-22</th>\n",
       "      <td>26.96</td>\n",
       "      <td>0.0</td>\n",
       "      <td>0.0</td>\n",
       "    </tr>\n",
       "    <tr>\n",
       "      <th>2020-01-23</th>\n",
       "      <td>27.14</td>\n",
       "      <td>0.0</td>\n",
       "      <td>0.0</td>\n",
       "    </tr>\n",
       "    <tr>\n",
       "      <th>2020-01-24</th>\n",
       "      <td>30.56</td>\n",
       "      <td>0.0</td>\n",
       "      <td>0.0</td>\n",
       "    </tr>\n",
       "    <tr>\n",
       "      <th>2020-01-27</th>\n",
       "      <td>34.52</td>\n",
       "      <td>1.3</td>\n",
       "      <td>0.0</td>\n",
       "    </tr>\n",
       "    <tr>\n",
       "      <th>2020-01-28</th>\n",
       "      <td>30.02</td>\n",
       "      <td>0.3</td>\n",
       "      <td>0.0</td>\n",
       "    </tr>\n",
       "  </tbody>\n",
       "</table>\n",
       "</div>"
      ],
      "text/plain": [
       "            VT_Avg_Temp(F)  VT_PRCP(mm)  VT_Conf_Cases\n",
       "date                                                  \n",
       "2020-01-22           26.96          0.0            0.0\n",
       "2020-01-23           27.14          0.0            0.0\n",
       "2020-01-24           30.56          0.0            0.0\n",
       "2020-01-27           34.52          1.3            0.0\n",
       "2020-01-28           30.02          0.3            0.0"
      ]
     },
     "execution_count": 8,
     "metadata": {},
     "output_type": "execute_result"
    }
   ],
   "source": [
    "df_vt.head()"
   ]
  },
  {
   "cell_type": "code",
   "execution_count": 9,
   "id": "2dd7861f",
   "metadata": {},
   "outputs": [
    {
     "data": {
      "text/html": [
       "<div>\n",
       "<style scoped>\n",
       "    .dataframe tbody tr th:only-of-type {\n",
       "        vertical-align: middle;\n",
       "    }\n",
       "\n",
       "    .dataframe tbody tr th {\n",
       "        vertical-align: top;\n",
       "    }\n",
       "\n",
       "    .dataframe thead th {\n",
       "        text-align: right;\n",
       "    }\n",
       "</style>\n",
       "<table border=\"1\" class=\"dataframe\">\n",
       "  <thead>\n",
       "    <tr style=\"text-align: right;\">\n",
       "      <th></th>\n",
       "      <th>MA_Avg_Temp(F)</th>\n",
       "      <th>MA_PRCP(mm)</th>\n",
       "      <th>MA_Conf_Cases</th>\n",
       "    </tr>\n",
       "    <tr>\n",
       "      <th>date</th>\n",
       "      <th></th>\n",
       "      <th></th>\n",
       "      <th></th>\n",
       "    </tr>\n",
       "  </thead>\n",
       "  <tbody>\n",
       "    <tr>\n",
       "      <th>2020-01-22</th>\n",
       "      <td>22.46</td>\n",
       "      <td>0.0</td>\n",
       "      <td>0.0</td>\n",
       "    </tr>\n",
       "    <tr>\n",
       "      <th>2020-01-23</th>\n",
       "      <td>32.00</td>\n",
       "      <td>0.0</td>\n",
       "      <td>0.0</td>\n",
       "    </tr>\n",
       "    <tr>\n",
       "      <th>2020-01-24</th>\n",
       "      <td>35.42</td>\n",
       "      <td>0.0</td>\n",
       "      <td>0.0</td>\n",
       "    </tr>\n",
       "    <tr>\n",
       "      <th>2020-01-27</th>\n",
       "      <td>39.02</td>\n",
       "      <td>0.0</td>\n",
       "      <td>0.0</td>\n",
       "    </tr>\n",
       "    <tr>\n",
       "      <th>2020-01-28</th>\n",
       "      <td>37.40</td>\n",
       "      <td>0.0</td>\n",
       "      <td>0.0</td>\n",
       "    </tr>\n",
       "  </tbody>\n",
       "</table>\n",
       "</div>"
      ],
      "text/plain": [
       "            MA_Avg_Temp(F)  MA_PRCP(mm)  MA_Conf_Cases\n",
       "date                                                  \n",
       "2020-01-22           22.46          0.0            0.0\n",
       "2020-01-23           32.00          0.0            0.0\n",
       "2020-01-24           35.42          0.0            0.0\n",
       "2020-01-27           39.02          0.0            0.0\n",
       "2020-01-28           37.40          0.0            0.0"
      ]
     },
     "execution_count": 9,
     "metadata": {},
     "output_type": "execute_result"
    }
   ],
   "source": [
    "df_ma.head()"
   ]
  },
  {
   "cell_type": "code",
   "execution_count": 10,
   "id": "8388cd6c",
   "metadata": {},
   "outputs": [
    {
     "data": {
      "text/html": [
       "<div>\n",
       "<style scoped>\n",
       "    .dataframe tbody tr th:only-of-type {\n",
       "        vertical-align: middle;\n",
       "    }\n",
       "\n",
       "    .dataframe tbody tr th {\n",
       "        vertical-align: top;\n",
       "    }\n",
       "\n",
       "    .dataframe thead th {\n",
       "        text-align: right;\n",
       "    }\n",
       "</style>\n",
       "<table border=\"1\" class=\"dataframe\">\n",
       "  <thead>\n",
       "    <tr style=\"text-align: right;\">\n",
       "      <th></th>\n",
       "      <th>ME_Avg_Temp(F)</th>\n",
       "      <th>ME_PRCP(mm)</th>\n",
       "      <th>ME_Conf_Cases</th>\n",
       "    </tr>\n",
       "    <tr>\n",
       "      <th>date</th>\n",
       "      <th></th>\n",
       "      <th></th>\n",
       "      <th></th>\n",
       "    </tr>\n",
       "  </thead>\n",
       "  <tbody>\n",
       "    <tr>\n",
       "      <th>2020-01-22</th>\n",
       "      <td>19.04</td>\n",
       "      <td>0.0</td>\n",
       "      <td>0.0</td>\n",
       "    </tr>\n",
       "    <tr>\n",
       "      <th>2020-01-23</th>\n",
       "      <td>26.60</td>\n",
       "      <td>0.3</td>\n",
       "      <td>0.0</td>\n",
       "    </tr>\n",
       "    <tr>\n",
       "      <th>2020-01-24</th>\n",
       "      <td>29.48</td>\n",
       "      <td>0.0</td>\n",
       "      <td>0.0</td>\n",
       "    </tr>\n",
       "    <tr>\n",
       "      <th>2020-01-27</th>\n",
       "      <td>31.46</td>\n",
       "      <td>1.0</td>\n",
       "      <td>0.0</td>\n",
       "    </tr>\n",
       "    <tr>\n",
       "      <th>2020-01-28</th>\n",
       "      <td>21.56</td>\n",
       "      <td>0.0</td>\n",
       "      <td>0.0</td>\n",
       "    </tr>\n",
       "  </tbody>\n",
       "</table>\n",
       "</div>"
      ],
      "text/plain": [
       "            ME_Avg_Temp(F)  ME_PRCP(mm)  ME_Conf_Cases\n",
       "date                                                  \n",
       "2020-01-22           19.04          0.0            0.0\n",
       "2020-01-23           26.60          0.3            0.0\n",
       "2020-01-24           29.48          0.0            0.0\n",
       "2020-01-27           31.46          1.0            0.0\n",
       "2020-01-28           21.56          0.0            0.0"
      ]
     },
     "execution_count": 10,
     "metadata": {},
     "output_type": "execute_result"
    }
   ],
   "source": [
    "df_me.head()"
   ]
  },
  {
   "cell_type": "code",
   "execution_count": 11,
   "id": "45d7f7c4",
   "metadata": {},
   "outputs": [
    {
     "data": {
      "text/html": [
       "<div>\n",
       "<style scoped>\n",
       "    .dataframe tbody tr th:only-of-type {\n",
       "        vertical-align: middle;\n",
       "    }\n",
       "\n",
       "    .dataframe tbody tr th {\n",
       "        vertical-align: top;\n",
       "    }\n",
       "\n",
       "    .dataframe thead th {\n",
       "        text-align: right;\n",
       "    }\n",
       "</style>\n",
       "<table border=\"1\" class=\"dataframe\">\n",
       "  <thead>\n",
       "    <tr style=\"text-align: right;\">\n",
       "      <th></th>\n",
       "      <th>CT_Avg_Temp(F)</th>\n",
       "      <th>CT_PRCP(mm)</th>\n",
       "      <th>CT_Conf_Cases</th>\n",
       "    </tr>\n",
       "    <tr>\n",
       "      <th>date</th>\n",
       "      <th></th>\n",
       "      <th></th>\n",
       "      <th></th>\n",
       "    </tr>\n",
       "  </thead>\n",
       "  <tbody>\n",
       "    <tr>\n",
       "      <th>2020-01-22</th>\n",
       "      <td>18.32</td>\n",
       "      <td>0.0</td>\n",
       "      <td>0.0</td>\n",
       "    </tr>\n",
       "    <tr>\n",
       "      <th>2020-01-23</th>\n",
       "      <td>23.72</td>\n",
       "      <td>0.0</td>\n",
       "      <td>0.0</td>\n",
       "    </tr>\n",
       "    <tr>\n",
       "      <th>2020-01-24</th>\n",
       "      <td>33.08</td>\n",
       "      <td>0.0</td>\n",
       "      <td>0.0</td>\n",
       "    </tr>\n",
       "    <tr>\n",
       "      <th>2020-01-27</th>\n",
       "      <td>38.84</td>\n",
       "      <td>0.0</td>\n",
       "      <td>0.0</td>\n",
       "    </tr>\n",
       "    <tr>\n",
       "      <th>2020-01-28</th>\n",
       "      <td>36.68</td>\n",
       "      <td>0.0</td>\n",
       "      <td>0.0</td>\n",
       "    </tr>\n",
       "  </tbody>\n",
       "</table>\n",
       "</div>"
      ],
      "text/plain": [
       "            CT_Avg_Temp(F)  CT_PRCP(mm)  CT_Conf_Cases\n",
       "date                                                  \n",
       "2020-01-22           18.32          0.0            0.0\n",
       "2020-01-23           23.72          0.0            0.0\n",
       "2020-01-24           33.08          0.0            0.0\n",
       "2020-01-27           38.84          0.0            0.0\n",
       "2020-01-28           36.68          0.0            0.0"
      ]
     },
     "execution_count": 11,
     "metadata": {},
     "output_type": "execute_result"
    }
   ],
   "source": [
    "df_ct.head()"
   ]
  },
  {
   "cell_type": "markdown",
   "id": "f6767934",
   "metadata": {},
   "source": [
    "Although it seems pretty clear visually that none of the temperature datasets are random walks, let's just confirm all datasets with an [Augmented Dickey Fuller Test](https://www.machinelearningplus.com/time-series/augmented-dickey-fuller-test/). "
   ]
  },
  {
   "cell_type": "code",
   "execution_count": 51,
   "id": "aa2f3afc",
   "metadata": {},
   "outputs": [
    {
     "name": "stdout",
     "output_type": "stream",
     "text": [
      "VT_Conf_Cases ADF: (-3.464483031392258, 0.0089474945053302, 9, 413, {'1%': -3.4462831955497135, '5%': -2.8685636962704395, '10%': -2.5705114078759914}, 1372.9780979482916)\n"
     ]
    }
   ],
   "source": [
    "res_vt_cc = adfuller(df_vt.VT_Conf_Cases)\n",
    "print(\"VT_Conf_Cases ADF:\", res_vt_cc)"
   ]
  },
  {
   "cell_type": "code",
   "execution_count": 52,
   "id": "0a4a2962",
   "metadata": {},
   "outputs": [
    {
     "name": "stdout",
     "output_type": "stream",
     "text": [
      "VT_Avg_Temp(F) ADF: (-1.3850715503583493, 0.5894117119797059, 14, 408, {'1%': -3.446479704252724, '5%': -2.8686500930967354, '10%': -2.5705574627547096}, 2737.173417718457)\n"
     ]
    }
   ],
   "source": [
    "res_vt_temp = adfuller(df_vt['VT_Avg_Temp(F)'])\n",
    "print(\"VT_Avg_Temp(F) ADF:\", res_vt_temp)"
   ]
  },
  {
   "cell_type": "code",
   "execution_count": 53,
   "id": "165521a3",
   "metadata": {},
   "outputs": [
    {
     "name": "stdout",
     "output_type": "stream",
     "text": [
      "VT_PRCP(mm) ADF: (-7.85027472236095, 5.625384540115335e-12, 4, 418, {'1%': -3.4460914174990296, '5%': -2.868479374038333, '10%': -2.570466459559076}, 2588.81431352875)\n"
     ]
    }
   ],
   "source": [
    "res_vt_prcp = adfuller(df_vt['VT_PRCP(mm)'])\n",
    "print(\"VT_PRCP(mm) ADF:\", res_vt_prcp)"
   ]
  },
  {
   "cell_type": "markdown",
   "id": "ce3ffd92",
   "metadata": {},
   "source": [
    "***"
   ]
  },
  {
   "cell_type": "code",
   "execution_count": 54,
   "id": "f5463b40",
   "metadata": {},
   "outputs": [
    {
     "name": "stdout",
     "output_type": "stream",
     "text": [
      "CT_Conf_Cases ADF: (-2.1155478635416207, 0.23830885997846413, 18, 404, {'1%': -3.44664043608676, '5%': -2.868720756230461, '10%': -2.5705951311145965}, 5418.580327990375)\n"
     ]
    }
   ],
   "source": [
    "res_ct_cc = adfuller(df_ct.CT_Conf_Cases)\n",
    "print(\"CT_Conf_Cases ADF:\",res_ct_cc)"
   ]
  },
  {
   "cell_type": "code",
   "execution_count": 55,
   "id": "9ebb9f2d",
   "metadata": {
    "scrolled": true
   },
   "outputs": [
    {
     "name": "stdout",
     "output_type": "stream",
     "text": [
      "CT_Avg_Temp(F) ADF: (-1.4623595803153135, 0.5520426086668024, 18, 404, {'1%': -3.44664043608676, '5%': -2.868720756230461, '10%': -2.5705951311145965}, 2586.25770549387)\n"
     ]
    }
   ],
   "source": [
    "res_ct_temp = adfuller(df_ct['CT_Avg_Temp(F)'])\n",
    "print(\"CT_Avg_Temp(F) ADF:\", res_ct_temp)"
   ]
  },
  {
   "cell_type": "code",
   "execution_count": 60,
   "id": "25e4131f",
   "metadata": {},
   "outputs": [
    {
     "name": "stdout",
     "output_type": "stream",
     "text": [
      "CT_PRCP(mm) ADF: (-5.119179653765302, 1.2826061050763963e-05, 8, 414, {'1%': -3.4462444670071046, '5%': -2.8685466682709975, '10%': -2.5705023309762187}, 3054.3030798487416)\n"
     ]
    }
   ],
   "source": [
    "res_ct_prcp = adfuller(df_ct['CT_PRCP(mm)'])\n",
    "print(\"CT_PRCP(mm) ADF:\", res_ct_prcp)"
   ]
  },
  {
   "cell_type": "markdown",
   "id": "f493c969",
   "metadata": {},
   "source": [
    "***"
   ]
  },
  {
   "cell_type": "code",
   "execution_count": 56,
   "id": "efd4dbdb",
   "metadata": {},
   "outputs": [
    {
     "name": "stdout",
     "output_type": "stream",
     "text": [
      "MA_Conf_Cases ADF: (-2.4073554887247623, 0.1396711296794279, 10, 412, {'1%': -3.4463221132914486, '5%': -2.8685808072418824, '10%': -2.570520529031954}, 4914.404375841825)\n"
     ]
    }
   ],
   "source": [
    "res_ma_cc = adfuller(df_ma.MA_Conf_Cases)\n",
    "print(\"MA_Conf_Cases ADF:\",res_ma_cc)"
   ]
  },
  {
   "cell_type": "code",
   "execution_count": 57,
   "id": "31b76ef6",
   "metadata": {},
   "outputs": [
    {
     "name": "stdout",
     "output_type": "stream",
     "text": [
      "MA_Avg_Temp(F) ADF: (-1.3998411440798264, 0.5823522736783371, 9, 413, {'1%': -3.4462831955497135, '5%': -2.8685636962704395, '10%': -2.5705114078759914}, 2670.6056777919043)\n"
     ]
    }
   ],
   "source": [
    "res_ma_temp = adfuller(df_ma['MA_Avg_Temp(F)'])\n",
    "print(\"MA_Avg_Temp(F) ADF:\", res_ma_temp)"
   ]
  },
  {
   "cell_type": "code",
   "execution_count": 61,
   "id": "442d25ac",
   "metadata": {},
   "outputs": [
    {
     "name": "stdout",
     "output_type": "stream",
     "text": [
      "MA_PRCP(mm) ADF: (-19.118963656848877, 0.0, 0, 422, {'1%': -3.44594128742536, '5%': -2.868413360220551, '10%': -2.570431271085555}, 3072.9716876471894)\n"
     ]
    }
   ],
   "source": [
    "res_ma_prcp = adfuller(df_ma['MA_PRCP(mm)'])\n",
    "print(\"MA_PRCP(mm) ADF:\", res_ma_prcp)"
   ]
  },
  {
   "cell_type": "markdown",
   "id": "f65c5611",
   "metadata": {},
   "source": [
    "***"
   ]
  },
  {
   "cell_type": "code",
   "execution_count": 58,
   "id": "69b50c4c",
   "metadata": {},
   "outputs": [
    {
     "name": "stdout",
     "output_type": "stream",
     "text": [
      "ME_Conf_Cases ADF: (-2.1245870155377653, 0.23474364532012498, 16, 406, {'1%': -3.4465596717208813, '5%': -2.8686852499495843, '10%': -2.570576203741901}, 1956.0272650586103)\n"
     ]
    }
   ],
   "source": [
    "res_me_cc = adfuller(df_me.ME_Conf_Cases)\n",
    "print(\"ME_Conf_Cases ADF:\",res_me_cc)"
   ]
  },
  {
   "cell_type": "code",
   "execution_count": 59,
   "id": "fd6014cf",
   "metadata": {},
   "outputs": [
    {
     "name": "stdout",
     "output_type": "stream",
     "text": [
      "ME_Avg_Temp(F) ADF: (-1.2075162097343841, 0.6703540995802695, 13, 409, {'1%': -3.4464400156784927, '5%': -2.868632644097719, '10%': -2.5705481612974577}, 2752.7970329820932)\n"
     ]
    }
   ],
   "source": [
    "res_me_temp = adfuller(df_me['ME_Avg_Temp(F)'])\n",
    "print(\"ME_Avg_Temp(F) ADF:\", res_me_temp)"
   ]
  },
  {
   "cell_type": "code",
   "execution_count": 62,
   "id": "adb9d5bd",
   "metadata": {},
   "outputs": [
    {
     "name": "stdout",
     "output_type": "stream",
     "text": [
      "ME_PRCP(mm) ADF: (-17.390438896842983, 5.012959484655681e-30, 0, 422, {'1%': -3.44594128742536, '5%': -2.868413360220551, '10%': -2.570431271085555}, 2757.324502731625)\n"
     ]
    }
   ],
   "source": [
    "res_me_prcp = adfuller(df_me['ME_PRCP(mm)'])\n",
    "print(\"ME_PRCP(mm) ADF:\", res_me_prcp)"
   ]
  },
  {
   "cell_type": "markdown",
   "id": "5422e1e7",
   "metadata": {},
   "source": [
    "***"
   ]
  },
  {
   "cell_type": "markdown",
   "id": "d9be8f7f",
   "metadata": {},
   "source": [
    "According to the Augmented Dickey Fuller Test, the only data that appears to follow a random walk is: `VT_Conf_Cases`. In order to perform time series analysis on the rest of the data, we will need to make it stationary."
   ]
  },
  {
   "cell_type": "code",
   "execution_count": null,
   "id": "87ebadd4",
   "metadata": {},
   "outputs": [],
   "source": []
  }
 ],
 "metadata": {
  "kernelspec": {
   "display_name": "Python 3",
   "language": "python",
   "name": "python3"
  },
  "language_info": {
   "codemirror_mode": {
    "name": "ipython",
    "version": 3
   },
   "file_extension": ".py",
   "mimetype": "text/x-python",
   "name": "python",
   "nbconvert_exporter": "python",
   "pygments_lexer": "ipython3",
   "version": "3.8.8"
  }
 },
 "nbformat": 4,
 "nbformat_minor": 5
}
