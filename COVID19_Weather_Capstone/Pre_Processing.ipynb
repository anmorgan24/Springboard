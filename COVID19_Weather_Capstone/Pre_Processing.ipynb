{
 "cells": [
  {
   "cell_type": "markdown",
   "id": "aeaec58e",
   "metadata": {},
   "source": [
    "# Pre-Processing "
   ]
  },
  {
   "cell_type": "code",
   "execution_count": 1,
   "id": "e2d31631",
   "metadata": {},
   "outputs": [],
   "source": [
    "import pandas as pd\n",
    "import numpy as np\n",
    "from statsmodels.tsa.stattools import adfuller\n",
    "import matplotlib.pyplot as plt\n",
    "import pycaret"
   ]
  },
  {
   "cell_type": "code",
   "execution_count": 2,
   "id": "a6f6c994",
   "metadata": {},
   "outputs": [],
   "source": [
    "#load dataframe\n",
    "#parse datetime column\n",
    "df=pd.read_csv('cov_weather.csv', parse_dates=[0])\n",
    "df.set_index('date', inplace= True)"
   ]
  },
  {
   "cell_type": "code",
   "execution_count": 3,
   "id": "62d7e234",
   "metadata": {},
   "outputs": [
    {
     "data": {
      "text/html": [
       "<div>\n",
       "<style scoped>\n",
       "    .dataframe tbody tr th:only-of-type {\n",
       "        vertical-align: middle;\n",
       "    }\n",
       "\n",
       "    .dataframe tbody tr th {\n",
       "        vertical-align: top;\n",
       "    }\n",
       "\n",
       "    .dataframe thead th {\n",
       "        text-align: right;\n",
       "    }\n",
       "</style>\n",
       "<table border=\"1\" class=\"dataframe\">\n",
       "  <thead>\n",
       "    <tr style=\"text-align: right;\">\n",
       "      <th></th>\n",
       "      <th>VT_Avg_Temp(F)</th>\n",
       "      <th>VT_PRCP(mm)</th>\n",
       "      <th>ME_Avg_Temp(F)</th>\n",
       "      <th>ME_PRCP(mm)</th>\n",
       "      <th>CT_Avg_Temp(F)</th>\n",
       "      <th>CT_PRCP(mm)</th>\n",
       "      <th>MA_Avg_Temp(F)</th>\n",
       "      <th>MA_PRCP(mm)</th>\n",
       "      <th>CT_Conf_Cases</th>\n",
       "      <th>VT_Conf_Cases</th>\n",
       "      <th>ME_Conf_Cases</th>\n",
       "      <th>MA_Conf_Cases</th>\n",
       "      <th>weekday</th>\n",
       "    </tr>\n",
       "    <tr>\n",
       "      <th>date</th>\n",
       "      <th></th>\n",
       "      <th></th>\n",
       "      <th></th>\n",
       "      <th></th>\n",
       "      <th></th>\n",
       "      <th></th>\n",
       "      <th></th>\n",
       "      <th></th>\n",
       "      <th></th>\n",
       "      <th></th>\n",
       "      <th></th>\n",
       "      <th></th>\n",
       "      <th></th>\n",
       "    </tr>\n",
       "  </thead>\n",
       "  <tbody>\n",
       "    <tr>\n",
       "      <th>2020-01-22</th>\n",
       "      <td>26.96</td>\n",
       "      <td>0.0</td>\n",
       "      <td>19.04</td>\n",
       "      <td>0.0</td>\n",
       "      <td>18.32</td>\n",
       "      <td>0.0</td>\n",
       "      <td>22.46</td>\n",
       "      <td>0.0</td>\n",
       "      <td>0.0</td>\n",
       "      <td>0.0</td>\n",
       "      <td>0.0</td>\n",
       "      <td>0.0</td>\n",
       "      <td>2</td>\n",
       "    </tr>\n",
       "    <tr>\n",
       "      <th>2020-01-23</th>\n",
       "      <td>27.14</td>\n",
       "      <td>0.0</td>\n",
       "      <td>26.60</td>\n",
       "      <td>0.3</td>\n",
       "      <td>23.72</td>\n",
       "      <td>0.0</td>\n",
       "      <td>32.00</td>\n",
       "      <td>0.0</td>\n",
       "      <td>0.0</td>\n",
       "      <td>0.0</td>\n",
       "      <td>0.0</td>\n",
       "      <td>0.0</td>\n",
       "      <td>3</td>\n",
       "    </tr>\n",
       "    <tr>\n",
       "      <th>2020-01-24</th>\n",
       "      <td>30.56</td>\n",
       "      <td>0.0</td>\n",
       "      <td>29.48</td>\n",
       "      <td>0.0</td>\n",
       "      <td>33.08</td>\n",
       "      <td>0.0</td>\n",
       "      <td>35.42</td>\n",
       "      <td>0.0</td>\n",
       "      <td>0.0</td>\n",
       "      <td>0.0</td>\n",
       "      <td>0.0</td>\n",
       "      <td>0.0</td>\n",
       "      <td>4</td>\n",
       "    </tr>\n",
       "    <tr>\n",
       "      <th>2020-01-27</th>\n",
       "      <td>34.52</td>\n",
       "      <td>1.3</td>\n",
       "      <td>31.46</td>\n",
       "      <td>1.0</td>\n",
       "      <td>38.84</td>\n",
       "      <td>0.0</td>\n",
       "      <td>39.02</td>\n",
       "      <td>0.0</td>\n",
       "      <td>0.0</td>\n",
       "      <td>0.0</td>\n",
       "      <td>0.0</td>\n",
       "      <td>0.0</td>\n",
       "      <td>0</td>\n",
       "    </tr>\n",
       "    <tr>\n",
       "      <th>2020-01-28</th>\n",
       "      <td>30.02</td>\n",
       "      <td>0.3</td>\n",
       "      <td>21.56</td>\n",
       "      <td>0.0</td>\n",
       "      <td>36.68</td>\n",
       "      <td>0.0</td>\n",
       "      <td>37.40</td>\n",
       "      <td>0.0</td>\n",
       "      <td>0.0</td>\n",
       "      <td>0.0</td>\n",
       "      <td>0.0</td>\n",
       "      <td>0.0</td>\n",
       "      <td>1</td>\n",
       "    </tr>\n",
       "  </tbody>\n",
       "</table>\n",
       "</div>"
      ],
      "text/plain": [
       "            VT_Avg_Temp(F)  VT_PRCP(mm)  ME_Avg_Temp(F)  ME_PRCP(mm)  \\\n",
       "date                                                                   \n",
       "2020-01-22           26.96          0.0           19.04          0.0   \n",
       "2020-01-23           27.14          0.0           26.60          0.3   \n",
       "2020-01-24           30.56          0.0           29.48          0.0   \n",
       "2020-01-27           34.52          1.3           31.46          1.0   \n",
       "2020-01-28           30.02          0.3           21.56          0.0   \n",
       "\n",
       "            CT_Avg_Temp(F)  CT_PRCP(mm)  MA_Avg_Temp(F)  MA_PRCP(mm)  \\\n",
       "date                                                                   \n",
       "2020-01-22           18.32          0.0           22.46          0.0   \n",
       "2020-01-23           23.72          0.0           32.00          0.0   \n",
       "2020-01-24           33.08          0.0           35.42          0.0   \n",
       "2020-01-27           38.84          0.0           39.02          0.0   \n",
       "2020-01-28           36.68          0.0           37.40          0.0   \n",
       "\n",
       "            CT_Conf_Cases  VT_Conf_Cases  ME_Conf_Cases  MA_Conf_Cases  \\\n",
       "date                                                                     \n",
       "2020-01-22            0.0            0.0            0.0            0.0   \n",
       "2020-01-23            0.0            0.0            0.0            0.0   \n",
       "2020-01-24            0.0            0.0            0.0            0.0   \n",
       "2020-01-27            0.0            0.0            0.0            0.0   \n",
       "2020-01-28            0.0            0.0            0.0            0.0   \n",
       "\n",
       "            weekday  \n",
       "date                 \n",
       "2020-01-22        2  \n",
       "2020-01-23        3  \n",
       "2020-01-24        4  \n",
       "2020-01-27        0  \n",
       "2020-01-28        1  "
      ]
     },
     "execution_count": 3,
     "metadata": {},
     "output_type": "execute_result"
    }
   ],
   "source": [
    "df.head()"
   ]
  },
  {
   "cell_type": "code",
   "execution_count": null,
   "id": "5f936553",
   "metadata": {},
   "outputs": [],
   "source": []
  },
  {
   "cell_type": "code",
   "execution_count": 4,
   "id": "0de71100",
   "metadata": {},
   "outputs": [],
   "source": [
    "df_vt=df.drop(columns=['ME_Avg_Temp(F)', 'ME_PRCP(mm)', 'ME_Conf_Cases', 'CT_Avg_Temp(F)', 'CT_PRCP(mm)', 'CT_Conf_Cases', 'MA_Avg_Temp(F)', 'MA_PRCP(mm)', 'MA_Conf_Cases','weekday'])"
   ]
  },
  {
   "cell_type": "code",
   "execution_count": 5,
   "id": "a1884bdc",
   "metadata": {},
   "outputs": [],
   "source": [
    "df_me=df.drop(columns=['VT_Avg_Temp(F)', 'VT_PRCP(mm)', 'VT_Conf_Cases', 'CT_Avg_Temp(F)', 'CT_PRCP(mm)', 'CT_Conf_Cases', 'MA_Avg_Temp(F)', 'MA_PRCP(mm)', 'MA_Conf_Cases','weekday'])"
   ]
  },
  {
   "cell_type": "code",
   "execution_count": 6,
   "id": "bb5f4a55",
   "metadata": {},
   "outputs": [],
   "source": [
    "df_ma=df.drop(columns=['ME_Avg_Temp(F)', 'ME_PRCP(mm)', 'ME_Conf_Cases', 'CT_Avg_Temp(F)', 'CT_PRCP(mm)', 'CT_Conf_Cases', 'VT_Avg_Temp(F)', 'VT_PRCP(mm)', 'VT_Conf_Cases','weekday'])"
   ]
  },
  {
   "cell_type": "code",
   "execution_count": 7,
   "id": "429a6b94",
   "metadata": {},
   "outputs": [],
   "source": [
    "df_ct= df.drop(columns=['ME_Avg_Temp(F)', 'ME_PRCP(mm)', 'ME_Conf_Cases', 'VT_Avg_Temp(F)', 'VT_PRCP(mm)', 'VT_Conf_Cases', 'MA_Avg_Temp(F)', 'MA_PRCP(mm)', 'MA_Conf_Cases','weekday'])"
   ]
  },
  {
   "cell_type": "code",
   "execution_count": 8,
   "id": "fa594d00",
   "metadata": {},
   "outputs": [
    {
     "data": {
      "text/html": [
       "<div>\n",
       "<style scoped>\n",
       "    .dataframe tbody tr th:only-of-type {\n",
       "        vertical-align: middle;\n",
       "    }\n",
       "\n",
       "    .dataframe tbody tr th {\n",
       "        vertical-align: top;\n",
       "    }\n",
       "\n",
       "    .dataframe thead th {\n",
       "        text-align: right;\n",
       "    }\n",
       "</style>\n",
       "<table border=\"1\" class=\"dataframe\">\n",
       "  <thead>\n",
       "    <tr style=\"text-align: right;\">\n",
       "      <th></th>\n",
       "      <th>VT_Avg_Temp(F)</th>\n",
       "      <th>VT_PRCP(mm)</th>\n",
       "      <th>VT_Conf_Cases</th>\n",
       "    </tr>\n",
       "    <tr>\n",
       "      <th>date</th>\n",
       "      <th></th>\n",
       "      <th></th>\n",
       "      <th></th>\n",
       "    </tr>\n",
       "  </thead>\n",
       "  <tbody>\n",
       "    <tr>\n",
       "      <th>2020-01-22</th>\n",
       "      <td>26.96</td>\n",
       "      <td>0.0</td>\n",
       "      <td>0.0</td>\n",
       "    </tr>\n",
       "    <tr>\n",
       "      <th>2020-01-23</th>\n",
       "      <td>27.14</td>\n",
       "      <td>0.0</td>\n",
       "      <td>0.0</td>\n",
       "    </tr>\n",
       "    <tr>\n",
       "      <th>2020-01-24</th>\n",
       "      <td>30.56</td>\n",
       "      <td>0.0</td>\n",
       "      <td>0.0</td>\n",
       "    </tr>\n",
       "    <tr>\n",
       "      <th>2020-01-27</th>\n",
       "      <td>34.52</td>\n",
       "      <td>1.3</td>\n",
       "      <td>0.0</td>\n",
       "    </tr>\n",
       "    <tr>\n",
       "      <th>2020-01-28</th>\n",
       "      <td>30.02</td>\n",
       "      <td>0.3</td>\n",
       "      <td>0.0</td>\n",
       "    </tr>\n",
       "  </tbody>\n",
       "</table>\n",
       "</div>"
      ],
      "text/plain": [
       "            VT_Avg_Temp(F)  VT_PRCP(mm)  VT_Conf_Cases\n",
       "date                                                  \n",
       "2020-01-22           26.96          0.0            0.0\n",
       "2020-01-23           27.14          0.0            0.0\n",
       "2020-01-24           30.56          0.0            0.0\n",
       "2020-01-27           34.52          1.3            0.0\n",
       "2020-01-28           30.02          0.3            0.0"
      ]
     },
     "execution_count": 8,
     "metadata": {},
     "output_type": "execute_result"
    }
   ],
   "source": [
    "df_vt.head()"
   ]
  },
  {
   "cell_type": "code",
   "execution_count": 9,
   "id": "2dd7861f",
   "metadata": {
    "scrolled": true
   },
   "outputs": [
    {
     "data": {
      "text/html": [
       "<div>\n",
       "<style scoped>\n",
       "    .dataframe tbody tr th:only-of-type {\n",
       "        vertical-align: middle;\n",
       "    }\n",
       "\n",
       "    .dataframe tbody tr th {\n",
       "        vertical-align: top;\n",
       "    }\n",
       "\n",
       "    .dataframe thead th {\n",
       "        text-align: right;\n",
       "    }\n",
       "</style>\n",
       "<table border=\"1\" class=\"dataframe\">\n",
       "  <thead>\n",
       "    <tr style=\"text-align: right;\">\n",
       "      <th></th>\n",
       "      <th>MA_Avg_Temp(F)</th>\n",
       "      <th>MA_PRCP(mm)</th>\n",
       "      <th>MA_Conf_Cases</th>\n",
       "    </tr>\n",
       "    <tr>\n",
       "      <th>date</th>\n",
       "      <th></th>\n",
       "      <th></th>\n",
       "      <th></th>\n",
       "    </tr>\n",
       "  </thead>\n",
       "  <tbody>\n",
       "    <tr>\n",
       "      <th>2020-01-22</th>\n",
       "      <td>22.46</td>\n",
       "      <td>0.0</td>\n",
       "      <td>0.0</td>\n",
       "    </tr>\n",
       "    <tr>\n",
       "      <th>2020-01-23</th>\n",
       "      <td>32.00</td>\n",
       "      <td>0.0</td>\n",
       "      <td>0.0</td>\n",
       "    </tr>\n",
       "    <tr>\n",
       "      <th>2020-01-24</th>\n",
       "      <td>35.42</td>\n",
       "      <td>0.0</td>\n",
       "      <td>0.0</td>\n",
       "    </tr>\n",
       "    <tr>\n",
       "      <th>2020-01-27</th>\n",
       "      <td>39.02</td>\n",
       "      <td>0.0</td>\n",
       "      <td>0.0</td>\n",
       "    </tr>\n",
       "    <tr>\n",
       "      <th>2020-01-28</th>\n",
       "      <td>37.40</td>\n",
       "      <td>0.0</td>\n",
       "      <td>0.0</td>\n",
       "    </tr>\n",
       "  </tbody>\n",
       "</table>\n",
       "</div>"
      ],
      "text/plain": [
       "            MA_Avg_Temp(F)  MA_PRCP(mm)  MA_Conf_Cases\n",
       "date                                                  \n",
       "2020-01-22           22.46          0.0            0.0\n",
       "2020-01-23           32.00          0.0            0.0\n",
       "2020-01-24           35.42          0.0            0.0\n",
       "2020-01-27           39.02          0.0            0.0\n",
       "2020-01-28           37.40          0.0            0.0"
      ]
     },
     "execution_count": 9,
     "metadata": {},
     "output_type": "execute_result"
    }
   ],
   "source": [
    "df_ma.head()"
   ]
  },
  {
   "cell_type": "code",
   "execution_count": 10,
   "id": "46767d52",
   "metadata": {},
   "outputs": [
    {
     "data": {
      "text/html": [
       "<div>\n",
       "<style scoped>\n",
       "    .dataframe tbody tr th:only-of-type {\n",
       "        vertical-align: middle;\n",
       "    }\n",
       "\n",
       "    .dataframe tbody tr th {\n",
       "        vertical-align: top;\n",
       "    }\n",
       "\n",
       "    .dataframe thead th {\n",
       "        text-align: right;\n",
       "    }\n",
       "</style>\n",
       "<table border=\"1\" class=\"dataframe\">\n",
       "  <thead>\n",
       "    <tr style=\"text-align: right;\">\n",
       "      <th></th>\n",
       "      <th>MA_Avg_Temp(F)</th>\n",
       "      <th>MA_PRCP(mm)</th>\n",
       "      <th>MA_Conf_Cases</th>\n",
       "    </tr>\n",
       "    <tr>\n",
       "      <th>date</th>\n",
       "      <th></th>\n",
       "      <th></th>\n",
       "      <th></th>\n",
       "    </tr>\n",
       "  </thead>\n",
       "  <tbody>\n",
       "    <tr>\n",
       "      <th>2021-09-03</th>\n",
       "      <td>62.42</td>\n",
       "      <td>0.0</td>\n",
       "      <td>291.0</td>\n",
       "    </tr>\n",
       "    <tr>\n",
       "      <th>2021-09-07</th>\n",
       "      <td>68.00</td>\n",
       "      <td>0.0</td>\n",
       "      <td>960.0</td>\n",
       "    </tr>\n",
       "    <tr>\n",
       "      <th>2021-09-08</th>\n",
       "      <td>71.96</td>\n",
       "      <td>0.0</td>\n",
       "      <td>260.0</td>\n",
       "    </tr>\n",
       "    <tr>\n",
       "      <th>2021-09-09</th>\n",
       "      <td>70.88</td>\n",
       "      <td>8.1</td>\n",
       "      <td>364.0</td>\n",
       "    </tr>\n",
       "    <tr>\n",
       "      <th>2021-09-10</th>\n",
       "      <td>68.54</td>\n",
       "      <td>0.0</td>\n",
       "      <td>307.0</td>\n",
       "    </tr>\n",
       "  </tbody>\n",
       "</table>\n",
       "</div>"
      ],
      "text/plain": [
       "            MA_Avg_Temp(F)  MA_PRCP(mm)  MA_Conf_Cases\n",
       "date                                                  \n",
       "2021-09-03           62.42          0.0          291.0\n",
       "2021-09-07           68.00          0.0          960.0\n",
       "2021-09-08           71.96          0.0          260.0\n",
       "2021-09-09           70.88          8.1          364.0\n",
       "2021-09-10           68.54          0.0          307.0"
      ]
     },
     "execution_count": 10,
     "metadata": {},
     "output_type": "execute_result"
    }
   ],
   "source": [
    "df_ma.tail()"
   ]
  },
  {
   "cell_type": "markdown",
   "id": "caf8a1cc",
   "metadata": {},
   "source": []
  },
  {
   "cell_type": "code",
   "execution_count": 11,
   "id": "8388cd6c",
   "metadata": {},
   "outputs": [
    {
     "data": {
      "text/html": [
       "<div>\n",
       "<style scoped>\n",
       "    .dataframe tbody tr th:only-of-type {\n",
       "        vertical-align: middle;\n",
       "    }\n",
       "\n",
       "    .dataframe tbody tr th {\n",
       "        vertical-align: top;\n",
       "    }\n",
       "\n",
       "    .dataframe thead th {\n",
       "        text-align: right;\n",
       "    }\n",
       "</style>\n",
       "<table border=\"1\" class=\"dataframe\">\n",
       "  <thead>\n",
       "    <tr style=\"text-align: right;\">\n",
       "      <th></th>\n",
       "      <th>ME_Avg_Temp(F)</th>\n",
       "      <th>ME_PRCP(mm)</th>\n",
       "      <th>ME_Conf_Cases</th>\n",
       "    </tr>\n",
       "    <tr>\n",
       "      <th>date</th>\n",
       "      <th></th>\n",
       "      <th></th>\n",
       "      <th></th>\n",
       "    </tr>\n",
       "  </thead>\n",
       "  <tbody>\n",
       "    <tr>\n",
       "      <th>2020-01-22</th>\n",
       "      <td>19.04</td>\n",
       "      <td>0.0</td>\n",
       "      <td>0.0</td>\n",
       "    </tr>\n",
       "    <tr>\n",
       "      <th>2020-01-23</th>\n",
       "      <td>26.60</td>\n",
       "      <td>0.3</td>\n",
       "      <td>0.0</td>\n",
       "    </tr>\n",
       "    <tr>\n",
       "      <th>2020-01-24</th>\n",
       "      <td>29.48</td>\n",
       "      <td>0.0</td>\n",
       "      <td>0.0</td>\n",
       "    </tr>\n",
       "    <tr>\n",
       "      <th>2020-01-27</th>\n",
       "      <td>31.46</td>\n",
       "      <td>1.0</td>\n",
       "      <td>0.0</td>\n",
       "    </tr>\n",
       "    <tr>\n",
       "      <th>2020-01-28</th>\n",
       "      <td>21.56</td>\n",
       "      <td>0.0</td>\n",
       "      <td>0.0</td>\n",
       "    </tr>\n",
       "  </tbody>\n",
       "</table>\n",
       "</div>"
      ],
      "text/plain": [
       "            ME_Avg_Temp(F)  ME_PRCP(mm)  ME_Conf_Cases\n",
       "date                                                  \n",
       "2020-01-22           19.04          0.0            0.0\n",
       "2020-01-23           26.60          0.3            0.0\n",
       "2020-01-24           29.48          0.0            0.0\n",
       "2020-01-27           31.46          1.0            0.0\n",
       "2020-01-28           21.56          0.0            0.0"
      ]
     },
     "execution_count": 11,
     "metadata": {},
     "output_type": "execute_result"
    }
   ],
   "source": [
    "df_me.head()"
   ]
  },
  {
   "cell_type": "code",
   "execution_count": 12,
   "id": "45d7f7c4",
   "metadata": {},
   "outputs": [
    {
     "data": {
      "text/html": [
       "<div>\n",
       "<style scoped>\n",
       "    .dataframe tbody tr th:only-of-type {\n",
       "        vertical-align: middle;\n",
       "    }\n",
       "\n",
       "    .dataframe tbody tr th {\n",
       "        vertical-align: top;\n",
       "    }\n",
       "\n",
       "    .dataframe thead th {\n",
       "        text-align: right;\n",
       "    }\n",
       "</style>\n",
       "<table border=\"1\" class=\"dataframe\">\n",
       "  <thead>\n",
       "    <tr style=\"text-align: right;\">\n",
       "      <th></th>\n",
       "      <th>CT_Avg_Temp(F)</th>\n",
       "      <th>CT_PRCP(mm)</th>\n",
       "      <th>CT_Conf_Cases</th>\n",
       "    </tr>\n",
       "    <tr>\n",
       "      <th>date</th>\n",
       "      <th></th>\n",
       "      <th></th>\n",
       "      <th></th>\n",
       "    </tr>\n",
       "  </thead>\n",
       "  <tbody>\n",
       "    <tr>\n",
       "      <th>2020-01-22</th>\n",
       "      <td>18.32</td>\n",
       "      <td>0.0</td>\n",
       "      <td>0.0</td>\n",
       "    </tr>\n",
       "    <tr>\n",
       "      <th>2020-01-23</th>\n",
       "      <td>23.72</td>\n",
       "      <td>0.0</td>\n",
       "      <td>0.0</td>\n",
       "    </tr>\n",
       "    <tr>\n",
       "      <th>2020-01-24</th>\n",
       "      <td>33.08</td>\n",
       "      <td>0.0</td>\n",
       "      <td>0.0</td>\n",
       "    </tr>\n",
       "    <tr>\n",
       "      <th>2020-01-27</th>\n",
       "      <td>38.84</td>\n",
       "      <td>0.0</td>\n",
       "      <td>0.0</td>\n",
       "    </tr>\n",
       "    <tr>\n",
       "      <th>2020-01-28</th>\n",
       "      <td>36.68</td>\n",
       "      <td>0.0</td>\n",
       "      <td>0.0</td>\n",
       "    </tr>\n",
       "  </tbody>\n",
       "</table>\n",
       "</div>"
      ],
      "text/plain": [
       "            CT_Avg_Temp(F)  CT_PRCP(mm)  CT_Conf_Cases\n",
       "date                                                  \n",
       "2020-01-22           18.32          0.0            0.0\n",
       "2020-01-23           23.72          0.0            0.0\n",
       "2020-01-24           33.08          0.0            0.0\n",
       "2020-01-27           38.84          0.0            0.0\n",
       "2020-01-28           36.68          0.0            0.0"
      ]
     },
     "execution_count": 12,
     "metadata": {},
     "output_type": "execute_result"
    }
   ],
   "source": [
    "df_ct.head()"
   ]
  },
  {
   "cell_type": "markdown",
   "id": "568f4215",
   "metadata": {},
   "source": [
    "#### Analyzing time series data checklist:\n",
    "$\\times$ 1) Convert index to datetime object \\\n",
    "$\\times$ 2) Plot the data \\\n",
    "$\\times$ 3) Run Augmented Dickey Fuller Test to see whether the data is a random walk \\\n",
    "4) Take first differences of the data to transform it into a stationary series \\\n",
    "5) Compute ACF (Autocorrelation Function) and PACF (Partial Autocorrelation Funcion) \\\n",
    "6) Using that as a guide, fit a few AR, MA, and ARMA models to the data \\\n",
    "7) Use information criterion to choose the best model \\\n",
    "8) Forecast "
   ]
  },
  {
   "cell_type": "markdown",
   "id": "ac332f1a",
   "metadata": {},
   "source": [
    "Although it seems pretty clear visually that none of the temperature and precipitation datasets are random walks, let's just confirm all datasets with an [Augmented Dickey Fuller Test](https://www.machinelearningplus.com/time-series/augmented-dickey-fuller-test/). "
   ]
  },
  {
   "cell_type": "code",
   "execution_count": 13,
   "id": "aa2f3afc",
   "metadata": {},
   "outputs": [
    {
     "name": "stdout",
     "output_type": "stream",
     "text": [
      "VT_Conf_Cases ADF: (-3.464483031392258, 0.0089474945053302, 9, 413, {'1%': -3.4462831955497135, '5%': -2.8685636962704395, '10%': -2.5705114078759914}, 1372.9780979482916)\n"
     ]
    }
   ],
   "source": [
    "res_vt_cc = adfuller(df_vt.VT_Conf_Cases)\n",
    "print(\"VT_Conf_Cases ADF:\", res_vt_cc)"
   ]
  },
  {
   "cell_type": "code",
   "execution_count": 14,
   "id": "3302bf14",
   "metadata": {},
   "outputs": [
    {
     "name": "stdout",
     "output_type": "stream",
     "text": [
      "VT_Avg_Temp(F) ADF: (-1.3850715503583493, 0.5894117119797059, 14, 408, {'1%': -3.446479704252724, '5%': -2.8686500930967354, '10%': -2.5705574627547096}, 2737.173417718457)\n"
     ]
    }
   ],
   "source": [
    "res_vt_temp = adfuller(df_vt['VT_Avg_Temp(F)'])\n",
    "print(\"VT_Avg_Temp(F) ADF:\", res_vt_temp)"
   ]
  },
  {
   "cell_type": "code",
   "execution_count": 15,
   "id": "5d4c30e7",
   "metadata": {},
   "outputs": [
    {
     "name": "stdout",
     "output_type": "stream",
     "text": [
      "VT_PRCP(mm) ADF: (-7.85027472236095, 5.625384540115335e-12, 4, 418, {'1%': -3.4460914174990296, '5%': -2.868479374038333, '10%': -2.570466459559076}, 2588.81431352875)\n"
     ]
    }
   ],
   "source": [
    "res_vt_prcp = adfuller(df_vt['VT_PRCP(mm)'])\n",
    "print(\"VT_PRCP(mm) ADF:\", res_vt_prcp)"
   ]
  },
  {
   "cell_type": "markdown",
   "id": "f9e19a3b",
   "metadata": {},
   "source": [
    "***"
   ]
  },
  {
   "cell_type": "code",
   "execution_count": 16,
   "id": "f5463b40",
   "metadata": {},
   "outputs": [
    {
     "name": "stdout",
     "output_type": "stream",
     "text": [
      "CT_Conf_Cases ADF: (-2.1155478635416207, 0.23830885997846413, 18, 404, {'1%': -3.44664043608676, '5%': -2.868720756230461, '10%': -2.5705951311145965}, 5418.580327990375)\n"
     ]
    }
   ],
   "source": [
    "res_ct_cc = adfuller(df_ct.CT_Conf_Cases)\n",
    "print(\"CT_Conf_Cases ADF:\",res_ct_cc)"
   ]
  },
  {
   "cell_type": "code",
   "execution_count": 17,
   "id": "33d8695b",
   "metadata": {
    "scrolled": true
   },
   "outputs": [
    {
     "name": "stdout",
     "output_type": "stream",
     "text": [
      "CT_Avg_Temp(F) ADF: (-1.4623595803153135, 0.5520426086668024, 18, 404, {'1%': -3.44664043608676, '5%': -2.868720756230461, '10%': -2.5705951311145965}, 2586.25770549387)\n"
     ]
    }
   ],
   "source": [
    "res_ct_temp = adfuller(df_ct['CT_Avg_Temp(F)'])\n",
    "print(\"CT_Avg_Temp(F) ADF:\", res_ct_temp)"
   ]
  },
  {
   "cell_type": "code",
   "execution_count": 18,
   "id": "2de2fa5c",
   "metadata": {},
   "outputs": [
    {
     "name": "stdout",
     "output_type": "stream",
     "text": [
      "CT_PRCP(mm) ADF: (-5.119179653765302, 1.2826061050763963e-05, 8, 414, {'1%': -3.4462444670071046, '5%': -2.8685466682709975, '10%': -2.5705023309762187}, 3054.3030798487416)\n"
     ]
    }
   ],
   "source": [
    "res_ct_prcp = adfuller(df_ct['CT_PRCP(mm)'])\n",
    "print(\"CT_PRCP(mm) ADF:\", res_ct_prcp)"
   ]
  },
  {
   "cell_type": "markdown",
   "id": "033f3a75",
   "metadata": {},
   "source": [
    "***"
   ]
  },
  {
   "cell_type": "code",
   "execution_count": 19,
   "id": "efd4dbdb",
   "metadata": {},
   "outputs": [
    {
     "name": "stdout",
     "output_type": "stream",
     "text": [
      "MA_Conf_Cases ADF: (-2.4073554887247623, 0.1396711296794279, 10, 412, {'1%': -3.4463221132914486, '5%': -2.8685808072418824, '10%': -2.570520529031954}, 4914.404375841825)\n"
     ]
    }
   ],
   "source": [
    "res_ma_cc = adfuller(df_ma.MA_Conf_Cases)\n",
    "print(\"MA_Conf_Cases ADF:\",res_ma_cc)"
   ]
  },
  {
   "cell_type": "code",
   "execution_count": 20,
   "id": "16de062c",
   "metadata": {},
   "outputs": [
    {
     "name": "stdout",
     "output_type": "stream",
     "text": [
      "MA_Avg_Temp(F) ADF: (-1.3998411440798264, 0.5823522736783371, 9, 413, {'1%': -3.4462831955497135, '5%': -2.8685636962704395, '10%': -2.5705114078759914}, 2670.6056777919043)\n"
     ]
    }
   ],
   "source": [
    "res_ma_temp = adfuller(df_ma['MA_Avg_Temp(F)'])\n",
    "print(\"MA_Avg_Temp(F) ADF:\", res_ma_temp)"
   ]
  },
  {
   "cell_type": "code",
   "execution_count": 21,
   "id": "c5d0f483",
   "metadata": {},
   "outputs": [
    {
     "name": "stdout",
     "output_type": "stream",
     "text": [
      "MA_PRCP(mm) ADF: (-19.118963656848877, 0.0, 0, 422, {'1%': -3.44594128742536, '5%': -2.868413360220551, '10%': -2.570431271085555}, 3072.9716876471894)\n"
     ]
    }
   ],
   "source": [
    "res_ma_prcp = adfuller(df_ma['MA_PRCP(mm)'])\n",
    "print(\"MA_PRCP(mm) ADF:\", res_ma_prcp)"
   ]
  },
  {
   "cell_type": "markdown",
   "id": "04079d0c",
   "metadata": {},
   "source": [
    "***"
   ]
  },
  {
   "cell_type": "code",
   "execution_count": 22,
   "id": "69b50c4c",
   "metadata": {},
   "outputs": [
    {
     "name": "stdout",
     "output_type": "stream",
     "text": [
      "ME_Conf_Cases ADF: (-2.1245870155377653, 0.23474364532012498, 16, 406, {'1%': -3.4465596717208813, '5%': -2.8686852499495843, '10%': -2.570576203741901}, 1956.0272650586103)\n"
     ]
    }
   ],
   "source": [
    "res_me_cc = adfuller(df_me.ME_Conf_Cases)\n",
    "print(\"ME_Conf_Cases ADF:\",res_me_cc)"
   ]
  },
  {
   "cell_type": "code",
   "execution_count": 23,
   "id": "cf0176ba",
   "metadata": {},
   "outputs": [
    {
     "name": "stdout",
     "output_type": "stream",
     "text": [
      "ME_Avg_Temp(F) ADF: (-1.2075162097343841, 0.6703540995802695, 13, 409, {'1%': -3.4464400156784927, '5%': -2.868632644097719, '10%': -2.5705481612974577}, 2752.7970329820932)\n"
     ]
    }
   ],
   "source": [
    "res_me_temp = adfuller(df_me['ME_Avg_Temp(F)'])\n",
    "print(\"ME_Avg_Temp(F) ADF:\", res_me_temp)"
   ]
  },
  {
   "cell_type": "code",
   "execution_count": 24,
   "id": "2e24e3f0",
   "metadata": {},
   "outputs": [
    {
     "name": "stdout",
     "output_type": "stream",
     "text": [
      "ME_PRCP(mm) ADF: (-17.390438896842983, 5.012959484655681e-30, 0, 422, {'1%': -3.44594128742536, '5%': -2.868413360220551, '10%': -2.570431271085555}, 2757.324502731625)\n"
     ]
    }
   ],
   "source": [
    "res_me_prcp = adfuller(df_me['ME_PRCP(mm)'])\n",
    "print(\"ME_PRCP(mm) ADF:\", res_me_prcp)"
   ]
  },
  {
   "cell_type": "markdown",
   "id": "b92e13a3",
   "metadata": {},
   "source": [
    "***"
   ]
  },
  {
   "cell_type": "markdown",
   "id": "3db2b7ac",
   "metadata": {},
   "source": [
    "According to the Augmented Dickey Fuller Test, the only data that appears to follow a random walk is: `VT_Conf_Cases`.\\\n",
    "In order to perform time series analysis on **the rest of the data**, we will need to make it stationary. \\\n",
    "__Strong Stationarity:__ entire distribution of data is time-invariant. \\\n",
    "__Weak Stationarity:__ mean, variance, and autocorrelation are time invariant (easier to test).\n",
    "\n",
    "Because `VT_Conf_Cases` is a random walk, we will compute __first differences__ and then recalculate p-value of rejecting the null hyppothesis with ADF test (for `VT_Conf_Cases` only). "
   ]
  },
  {
   "cell_type": "code",
   "execution_count": 25,
   "id": "7ae9f9d4",
   "metadata": {},
   "outputs": [],
   "source": [
    "df_vt['VT_Conf_Cases_stationary'] = df_vt['VT_Conf_Cases'].diff()"
   ]
  },
  {
   "cell_type": "markdown",
   "id": "becbec0b",
   "metadata": {},
   "source": [
    "Quick visual check to make sure transformation was completed successfully:"
   ]
  },
  {
   "cell_type": "code",
   "execution_count": 26,
   "id": "256ab70b",
   "metadata": {},
   "outputs": [
    {
     "data": {
      "image/png": "[encoded data removed]",
      "text/plain": [
       "<Figure size 432x288 with 1 Axes>"
      ]
     },
     "metadata": {
      "needs_background": "light"
     },
     "output_type": "display_data"
    }
   ],
   "source": [
    "plt.plot(df_vt['VT_Conf_Cases_stationary'])\n",
    "plt.show()"
   ]
  },
  {
   "cell_type": "markdown",
   "id": "41e43ae6",
   "metadata": {},
   "source": [
    "ADF test for confirmation\n",
    "(test from second row on, as .diff() creates a NaN in the first row):"
   ]
  },
  {
   "cell_type": "code",
   "execution_count": 27,
   "id": "ba24a73a",
   "metadata": {},
   "outputs": [
    {
     "data": {
      "text/plain": [
       "(-8.882898981646642,\n",
       " 1.3033909663175457e-14,\n",
       " 14,\n",
       " 407,\n",
       " {'1%': -3.4465195891135845,\n",
       "  '5%': -2.8686676281678634,\n",
       "  '10%': -2.5705668101226085},\n",
       " 1376.0285739185256)"
      ]
     },
     "execution_count": 27,
     "metadata": {},
     "output_type": "execute_result"
    }
   ],
   "source": [
    "adfuller(df_vt['VT_Conf_Cases_stationary']['2020-01-23':])"
   ]
  },
  {
   "cell_type": "markdown",
   "id": "d772f752",
   "metadata": {},
   "source": [
    "Now, all of the data appears stationary."
   ]
  },
  {
   "cell_type": "markdown",
   "id": "7fbd2433",
   "metadata": {},
   "source": [
    "## Pycaret Regression Model"
   ]
  },
  {
   "cell_type": "code",
   "execution_count": 28,
   "id": "97d4ecc1",
   "metadata": {},
   "outputs": [
    {
     "data": {
      "text/plain": [
       "((330, 3), (93, 3))"
      ]
     },
     "execution_count": 28,
     "metadata": {},
     "output_type": "execute_result"
    }
   ],
   "source": [
    "# split data into train-test set\n",
    "train_ma = df_ma[df_ma.index < '2021-05-01']\n",
    "test_ma = df_ma[df_ma.index >= '2021-05-01']\n",
    "# check shape\n",
    "train_ma.shape, test_ma.shape"
   ]
  },
  {
   "cell_type": "code",
   "execution_count": 29,
   "id": "7d229779",
   "metadata": {},
   "outputs": [
    {
     "ename": "ValueError",
     "evalue": "Column type forced is either target column or doesn't exist in the dataset.",
     "output_type": "error",
     "traceback": [
      "\u001b[0;31m---------------------------------------------------------------------------\u001b[0m",
      "\u001b[0;31mValueError\u001b[0m                                Traceback (most recent call last)",
      "\u001b[0;32m<ipython-input-29-cae747900a05>\u001b[0m in \u001b[0;36m<module>\u001b[0;34m\u001b[0m\n\u001b[1;32m      2\u001b[0m \u001b[0;32mfrom\u001b[0m \u001b[0mpycaret\u001b[0m\u001b[0;34m.\u001b[0m\u001b[0mregression\u001b[0m \u001b[0;32mimport\u001b[0m \u001b[0;34m*\u001b[0m\u001b[0;34m\u001b[0m\u001b[0;34m\u001b[0m\u001b[0m\n\u001b[1;32m      3\u001b[0m \u001b[0;31m# initialize setup\u001b[0m\u001b[0;34m\u001b[0m\u001b[0;34m\u001b[0m\u001b[0;34m\u001b[0m\u001b[0m\n\u001b[0;32m----> 4\u001b[0;31m \u001b[0ms\u001b[0m \u001b[0;34m=\u001b[0m \u001b[0msetup\u001b[0m\u001b[0;34m(\u001b[0m\u001b[0mdata\u001b[0m \u001b[0;34m=\u001b[0m \u001b[0mtrain_ma\u001b[0m\u001b[0;34m,\u001b[0m \u001b[0mtest_data\u001b[0m \u001b[0;34m=\u001b[0m \u001b[0mtest_ma\u001b[0m\u001b[0;34m,\u001b[0m \u001b[0mtarget\u001b[0m \u001b[0;34m=\u001b[0m \u001b[0;34m'MA_Conf_Cases'\u001b[0m\u001b[0;34m,\u001b[0m \u001b[0mfold_strategy\u001b[0m \u001b[0;34m=\u001b[0m \u001b[0;34m'timeseries'\u001b[0m\u001b[0;34m,\u001b[0m \u001b[0mnumeric_features\u001b[0m \u001b[0;34m=\u001b[0m \u001b[0mdf_ma\u001b[0m\u001b[0;34m.\u001b[0m\u001b[0mindex\u001b[0m\u001b[0;34m,\u001b[0m \u001b[0mfold\u001b[0m \u001b[0;34m=\u001b[0m \u001b[0;36m3\u001b[0m\u001b[0;34m,\u001b[0m \u001b[0mtransform_target\u001b[0m \u001b[0;34m=\u001b[0m \u001b[0;32mTrue\u001b[0m\u001b[0;34m,\u001b[0m \u001b[0msession_id\u001b[0m \u001b[0;34m=\u001b[0m \u001b[0;36m123\u001b[0m\u001b[0;34m)\u001b[0m\u001b[0;34m\u001b[0m\u001b[0;34m\u001b[0m\u001b[0m\n\u001b[0m\u001b[1;32m      5\u001b[0m \u001b[0;34m\u001b[0m\u001b[0m\n",
      "\u001b[0;32m~/opt/anaconda3/lib/python3.8/site-packages/pycaret/regression.py\u001b[0m in \u001b[0;36msetup\u001b[0;34m(data, target, train_size, test_data, preprocess, imputation_type, iterative_imputation_iters, categorical_features, categorical_imputation, categorical_iterative_imputer, ordinal_features, high_cardinality_features, high_cardinality_method, numeric_features, numeric_imputation, numeric_iterative_imputer, date_features, ignore_features, normalize, normalize_method, transformation, transformation_method, handle_unknown_categorical, unknown_categorical_method, pca, pca_method, pca_components, ignore_low_variance, combine_rare_levels, rare_level_threshold, bin_numeric_features, remove_outliers, outliers_threshold, remove_multicollinearity, multicollinearity_threshold, remove_perfect_collinearity, create_clusters, cluster_iter, polynomial_features, polynomial_degree, trigonometry_features, polynomial_threshold, group_features, group_names, feature_selection, feature_selection_threshold, feature_selection_method, feature_interaction, feature_ratio, interaction_threshold, transform_target, transform_target_method, data_split_shuffle, data_split_stratify, fold_strategy, fold, fold_shuffle, fold_groups, n_jobs, use_gpu, custom_pipeline, html, session_id, log_experiment, experiment_name, log_plots, log_profile, log_data, silent, verbose, profile)\u001b[0m\n\u001b[1;32m    563\u001b[0m         \u001b[0mlog_plots\u001b[0m \u001b[0;34m=\u001b[0m \u001b[0;34m[\u001b[0m\u001b[0;34m\"residuals\"\u001b[0m\u001b[0;34m,\u001b[0m \u001b[0;34m\"error\"\u001b[0m\u001b[0;34m,\u001b[0m \u001b[0;34m\"feature\"\u001b[0m\u001b[0;34m]\u001b[0m\u001b[0;34m\u001b[0m\u001b[0;34m\u001b[0m\u001b[0m\n\u001b[1;32m    564\u001b[0m \u001b[0;34m\u001b[0m\u001b[0m\n\u001b[0;32m--> 565\u001b[0;31m     return pycaret.internal.tabular.setup(\n\u001b[0m\u001b[1;32m    566\u001b[0m         \u001b[0mml_usecase\u001b[0m\u001b[0;34m=\u001b[0m\u001b[0;34m\"regression\"\u001b[0m\u001b[0;34m,\u001b[0m\u001b[0;34m\u001b[0m\u001b[0;34m\u001b[0m\u001b[0m\n\u001b[1;32m    567\u001b[0m         \u001b[0mavailable_plots\u001b[0m\u001b[0;34m=\u001b[0m\u001b[0mavailable_plots\u001b[0m\u001b[0;34m,\u001b[0m\u001b[0;34m\u001b[0m\u001b[0;34m\u001b[0m\u001b[0m\n",
      "\u001b[0;32m~/opt/anaconda3/lib/python3.8/site-packages/pycaret/internal/tabular.py\u001b[0m in \u001b[0;36msetup\u001b[0;34m(data, target, ml_usecase, available_plots, train_size, test_data, preprocess, imputation_type, iterative_imputation_iters, categorical_features, categorical_imputation, categorical_iterative_imputer, ordinal_features, high_cardinality_features, high_cardinality_method, numeric_features, numeric_imputation, numeric_iterative_imputer, date_features, ignore_features, normalize, normalize_method, transformation, transformation_method, handle_unknown_categorical, unknown_categorical_method, pca, pca_method, pca_components, ignore_low_variance, combine_rare_levels, rare_level_threshold, bin_numeric_features, remove_outliers, outliers_threshold, remove_multicollinearity, multicollinearity_threshold, remove_perfect_collinearity, create_clusters, cluster_iter, polynomial_features, polynomial_degree, trigonometry_features, polynomial_threshold, group_features, group_names, feature_selection, feature_selection_threshold, feature_selection_method, feature_interaction, feature_ratio, interaction_threshold, fix_imbalance, fix_imbalance_method, transform_target, transform_target_method, data_split_shuffle, data_split_stratify, fold_strategy, fold, fold_shuffle, fold_groups, n_jobs, use_gpu, custom_pipeline, html, session_id, log_experiment, experiment_name, log_plots, log_profile, log_data, silent, verbose, profile, display)\u001b[0m\n\u001b[1;32m    598\u001b[0m         \u001b[0;32mfor\u001b[0m \u001b[0mi\u001b[0m \u001b[0;32min\u001b[0m \u001b[0mnumeric_features\u001b[0m\u001b[0;34m:\u001b[0m\u001b[0;34m\u001b[0m\u001b[0;34m\u001b[0m\u001b[0m\n\u001b[1;32m    599\u001b[0m             \u001b[0;32mif\u001b[0m \u001b[0mi\u001b[0m \u001b[0;32mnot\u001b[0m \u001b[0;32min\u001b[0m \u001b[0mall_cols\u001b[0m\u001b[0;34m:\u001b[0m\u001b[0;34m\u001b[0m\u001b[0;34m\u001b[0m\u001b[0m\n\u001b[0;32m--> 600\u001b[0;31m                 raise ValueError(\n\u001b[0m\u001b[1;32m    601\u001b[0m                     \u001b[0;34m\"Column type forced is either target column or doesn't exist in the dataset.\"\u001b[0m\u001b[0;34m\u001b[0m\u001b[0;34m\u001b[0m\u001b[0m\n\u001b[1;32m    602\u001b[0m                 )\n",
      "\u001b[0;31mValueError\u001b[0m: Column type forced is either target column or doesn't exist in the dataset."
     ]
    }
   ],
   "source": [
    "# import the regression module\n",
    "from pycaret.regression import *\n",
    "# initialize setup\n",
    "s = setup(data = train_ma, test_data = test_ma, target = 'MA_Conf_Cases', fold_strategy = 'timeseries', numeric_features = df_ma.index, fold = 3, transform_target = True, session_id = 123)\n",
    "\n"
   ]
  },
  {
   "cell_type": "code",
   "execution_count": null,
   "id": "2c3105dd",
   "metadata": {},
   "outputs": [],
   "source": []
  },
  {
   "cell_type": "code",
   "execution_count": null,
   "id": "92369a93",
   "metadata": {},
   "outputs": [],
   "source": []
  }
 ],
 "metadata": {
  "kernelspec": {
   "display_name": "Python 3",
   "language": "python",
   "name": "python3"
  },
  "language_info": {
   "codemirror_mode": {
    "name": "ipython",
    "version": 3
   },
   "file_extension": ".py",
   "mimetype": "text/x-python",
   "name": "python",
   "nbconvert_exporter": "python",
   "pygments_lexer": "ipython3",
   "version": "3.8.8"
  }
 },
 "nbformat": 4,
 "nbformat_minor": 5
}
