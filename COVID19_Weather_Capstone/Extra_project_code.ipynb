{
 "cells": [
  {
   "cell_type": "markdown",
   "id": "84e8a9ca",
   "metadata": {},
   "source": [
    "# Extra project code"
   ]
  },
  {
   "cell_type": "code",
   "execution_count": null,
   "id": "2b771b22",
   "metadata": {},
   "outputs": [],
   "source": [
    "df_me3['pop_per_100sqmi'] = 1362359/30843\n",
    "df_ma3['pop_per_100sqmi'] = 7029917/7800\n",
    "df_ct3['pop_per_100sqmi'] = 3605944/4842\n",
    "df_vt3['pop_per_100sqmi'] = 643077/9217"
   ]
  },
  {
   "cell_type": "code",
   "execution_count": null,
   "id": "bd9f1279",
   "metadata": {},
   "outputs": [],
   "source": [
    "from pycaret.regression import *\n",
    "all_results=[]\n",
    "df_subset = df_ma3\n",
    "\n",
    "# initialize setup from pycaret.regression\n",
    "s = setup(df_subset, target = 'new_case_percent_pop*', train_size = 0.8,\n",
    "            data_split_shuffle = True, fold = 3,\n",
    "            ignore_features = ['date', 'MA_Conf_Cases', 'MA_PRCP(mm)'],\n",
    "            numeric_features = ['day_of_year', 'Year', 'MA_Avg_Temp(F)', 'pop_per_100sqmi'],\n",
    "            categorical_features = ['Month', 'day_of_week'],\n",
    "            silent = True, verbose = False, session_id = 123,\n",
    "            normalize=False)\n",
    "    \n",
    "# compare all models and select best one based on MAE\n",
    "best_model = compare_models(sort = 'R2', verbose=False)\n",
    "    \n",
    "# capture the compare result grid and store best model in list\n",
    "p = pull().iloc[0:1]\n",
    "p['time_series'] = str(\"MA\")\n",
    "all_results.append(p)\n",
    "    \n",
    "# finalize model i.e. fit on entire data including test set\n",
    "f = finalize_model(best_model)\n",
    "best_model"
   ]
  },
  {
   "cell_type": "markdown",
   "id": "8f33262b",
   "metadata": {},
   "source": [
    "From the above data, it looks like [Massachusetts](https://www.mass.gov/info-details/covid-19-response-reporting) and [Connecticut](https://www.mass.gov/info-details/covid-19-response-reporting) have similar Monday-Friday reporting schedules. It also seems that [Maine](https://www.maine.gov/dhhs/mecdc/infectious-disease/epi/airborne/coronavirus/data.shtml) reports cases Tuesday-Saturday and Vermont may report cases 7 days a week.\n",
    "\n",
    "From the data above, it would seem Vermont reports cases every day, but according to this [Associated Press article](https://apnews.com/article/health-coronavirus-pandemic-vermont-c781aa063d30e8f665500deaf8902ab9), Vermont only began reporting cases daily as of 2021-08-23, due to a large surge in cases. Prior to 2021-08-23, [Vermont](https://www.healthvermont.gov/covid-19) was also reporting cases Monday-Friday (like Connecticut and Massachusetts). Let's do a quick check and plot our data to make sure our data reflects this."
   ]
  },
  {
   "cell_type": "code",
   "execution_count": null,
   "id": "b584425c",
   "metadata": {},
   "outputs": [],
   "source": [
    "(https://www.mass.gov/info-details/covid-19-response-reporting)\n",
    "(https://www.mass.gov/info-details/covid-19-response-reporting)\n",
    "(https://www.maine.gov/dhhs/mecdc/infectious-disease/epi/airborne/coronavirus/data.shtml) "
   ]
  },
  {
   "cell_type": "markdown",
   "id": "57e1b20c",
   "metadata": {},
   "source": [
    "We can see that the last time Vermont reported 0 cases was 2021-08-16. The above zero values all correspond to weekend days (and one Monday holiday), so we can confirmed that Vermont had the same reporting schedule as Massachusetts and Connecticut prior to 2021-08-23 (after which Vermont reported cases 7 days a week).\n",
    "\n",
    "Each respective state government webpage also indicates that on the day following a two-day weekend period (whether Saturday-Sunday or Sunday-Monday) the value reported is the cumulative sum of weekend cases and the the following weekday's cases (in other words, three days' worth of cases). Please see hyperlinks above for more details.\n",
    "\n",
    "We could leave all zero case counts as is, but this would skew the data. We could also drop all weekend values, but this isn't ideal either. If we drop all Saturday-Sunday periods, we're losing Maine's Saturday data and Vermont's Saturday-Sunday data from 2021-08-23 onwards. Additionally, Maine will still have missing values every Monday. There are three different reporting schedules, so we would be losing a lot of useful data if we dropped an entire row each time a state had a \"non-reporting\" day. Because the Monday (or Tuesday, in the case of Maine) case count is a cumulative sum of Saturday-Monday (or, in the case of Maine, Sunday-Tuesday), those cumulative Monday (or, Tuesday) counts will also skew the data.\n",
    "\n",
    "A much better alternative would be to take the Monday (or Tuesday, in the case of Maine) cumulative counts, divide by three, and replace weekend and Monday (or Tuesday) values with one third of the original cumulative count. We can also remove dates at the beginning of the pandemic before any of these states had seen their first COVID case."
   ]
  },
  {
   "cell_type": "code",
   "execution_count": null,
   "id": "c98bae4a",
   "metadata": {},
   "outputs": [],
   "source": [
    "# Check for 0 values in VT_Conf_Cases from just prior to 2021-08-23, onwards:\n",
    "df6[(df6['VT_Conf_Cases'] == 0) & (df6.index >= '2021-08-01')]"
   ]
  },
  {
   "cell_type": "markdown",
   "id": "e000fe6a",
   "metadata": {},
   "source": [
    "It looks like [Massachusetts](https://www.mass.gov/info-details/covid-19-response-reporting) and [Connecticut](https://www.mass.gov/info-details/covid-19-response-reporting) have similar Monday-Friday reporting schedules. It also seems that [Maine](https://www.maine.gov/dhhs/mecdc/infectious-disease/epi/airborne/coronavirus/data.shtml) reports cases Tuesday-Saturday. See hyperlinks to each state governments' web page with more detailed COVID19 reporting schedule information. \n",
    "\n",
    "From the data above, it would seem Vermont reports cases every day, but according to this [Associated Press article](https://apnews.com/article/health-coronavirus-pandemic-vermont-c781aa063d30e8f665500deaf8902ab9), Vermont only began reporting cases daily as of 2021-08-23, due to a large surge in cases. Prior to 2021-08-23, [Vermont](https://www.healthvermont.gov/covid-19) was also reporting cases Monday-Friday (like Connecticut and Massachusetts). Let's do a quick check and plot our data to make sure our data reflects this."
   ]
  },
  {
   "cell_type": "code",
   "execution_count": 1,
   "id": "885d2e87",
   "metadata": {},
   "outputs": [
    {
     "ename": "NameError",
     "evalue": "name 'pd' is not defined",
     "output_type": "error",
     "traceback": [
      "\u001b[0;31m---------------------------------------------------------------------------\u001b[0m",
      "\u001b[0;31mNameError\u001b[0m                                 Traceback (most recent call last)",
      "\u001b[0;32m<ipython-input-1-d8194299a9d9>\u001b[0m in \u001b[0;36m<module>\u001b[0;34m\u001b[0m\n\u001b[0;32m----> 1\u001b[0;31m \u001b[0mconcat_results\u001b[0m \u001b[0;34m=\u001b[0m \u001b[0mpd\u001b[0m\u001b[0;34m.\u001b[0m\u001b[0mconcat\u001b[0m\u001b[0;34m(\u001b[0m\u001b[0mall_results\u001b[0m\u001b[0;34m,\u001b[0m\u001b[0maxis\u001b[0m\u001b[0;34m=\u001b[0m\u001b[0;36m0\u001b[0m\u001b[0;34m)\u001b[0m\u001b[0;34m\u001b[0m\u001b[0;34m\u001b[0m\u001b[0m\n\u001b[0m\u001b[1;32m      2\u001b[0m \u001b[0mconcat_results\u001b[0m\u001b[0;34m.\u001b[0m\u001b[0mhead\u001b[0m\u001b[0;34m(\u001b[0m\u001b[0;34m)\u001b[0m\u001b[0;34m\u001b[0m\u001b[0;34m\u001b[0m\u001b[0m\n",
      "\u001b[0;31mNameError\u001b[0m: name 'pd' is not defined"
     ]
    }
   ],
   "source": [
    "concat_results = pd.concat(all_results,axis=0)\n",
    "concat_results.head()"
   ]
  },
  {
   "cell_type": "markdown",
   "id": "1f7a85cc",
   "metadata": {},
   "source": [
    "[Census Bureau state areas in sq mi](https://www.census.gov/geographies/reference-files/2010/geo/state-area.html)"
   ]
  },
  {
   "cell_type": "code",
   "execution_count": null,
   "id": "6d1ab791",
   "metadata": {},
   "outputs": [],
   "source": [
    "for i in ME_index_list:\n",
    "    (df9.loc[i]['ME_Conf_Cases'])=((df9.loc[i]['ME_Conf_Cases'])/3)"
   ]
  },
  {
   "cell_type": "code",
   "execution_count": null,
   "id": "95b5429f",
   "metadata": {},
   "outputs": [],
   "source": [
    "ma_counter =0\n",
    "for row in df5[df5['MA_Conf_Cases']<0]:\n",
    "    ma_counter+=1\n",
    "print(\"MA has\", ma_counter/len(df5.columns), \"negative Conf_Cases value.\")"
   ]
  },
  {
   "cell_type": "code",
   "execution_count": null,
   "id": "1457ed29",
   "metadata": {},
   "outputs": [],
   "source": [
    "vt_counter =0\n",
    "for row in df5[df5['VT_Conf_Cases']<0]:\n",
    "    vt_counter+=1\n",
    "print(\"VT has\", vt_counter/len(df5.columns), \"negative Conf_Cases value.\")"
   ]
  },
  {
   "cell_type": "code",
   "execution_count": null,
   "id": "1c8cfb48",
   "metadata": {},
   "outputs": [],
   "source": [
    "ct_counter =0\n",
    "for row in df5[df5['CT_Conf_Cases']<0]:\n",
    "    ct_counter+=1\n",
    "print(\"CT has\", ct_counter/len(df5.columns), \"negative Conf_Cases value\")"
   ]
  },
  {
   "cell_type": "code",
   "execution_count": null,
   "id": "6d34445a",
   "metadata": {},
   "outputs": [],
   "source": [
    "me_counter =0\n",
    "for row in df5[df5['ME_Conf_Cases']<0]:\n",
    "    me_counter+=1\n",
    "print(\"ME has\", me_counter/len(df5.columns), \"negative Conf_Cases value\")"
   ]
  },
  {
   "cell_type": "code",
   "execution_count": null,
   "id": "9cb0b7ae",
   "metadata": {},
   "outputs": [],
   "source": [
    "\n",
    "for row in df5[df5['CT_Conf_Cases']<0]:\n",
    "    print(row)"
   ]
  },
  {
   "cell_type": "code",
   "execution_count": null,
   "id": "1d680e0c",
   "metadata": {},
   "outputs": [],
   "source": []
  },
  {
   "cell_type": "code",
   "execution_count": null,
   "id": "c42344ea",
   "metadata": {},
   "outputs": [],
   "source": []
  },
  {
   "cell_type": "code",
   "execution_count": null,
   "id": "5ecab26d",
   "metadata": {},
   "outputs": [],
   "source": [
    "# split data into train-test set\n",
    "#train_me = df_me2[(df_me2['Year'] < 2021) | ((df_me2['Year']==2021) & (df_me2['Month']<=7))]\n",
    "#test_me = df_me2[(df_me2['Year']==2021) & (df_me2['Month']>7)]"
   ]
  },
  {
   "cell_type": "code",
   "execution_count": null,
   "id": "46fa6845",
   "metadata": {},
   "outputs": [],
   "source": [
    "#train_me.tail()"
   ]
  },
  {
   "cell_type": "code",
   "execution_count": null,
   "id": "6a5d0b5a",
   "metadata": {},
   "outputs": [],
   "source": [
    "# import the regression module\n",
    "#from pycaret.regression import *\n",
    "# initialize setup\n",
    "#s = setup(data = train_me, test_data = test_me, target = 'MA_Conf_Cases', fold_strategy = 'timeseries', numeric_features = ['Month', 'Year', 'Series'], fold = 3, transform_target = True, session_id = 123)"
   ]
  },
  {
   "cell_type": "code",
   "execution_count": null,
   "id": "b9515775",
   "metadata": {},
   "outputs": [],
   "source": [
    "#best = compare_models(sort = 'MAE')"
   ]
  },
  {
   "cell_type": "code",
   "execution_count": null,
   "id": "f3532bdc",
   "metadata": {},
   "outputs": [],
   "source": [
    "# split data into train-test set\n",
    "train_ma = df_ma[df_ma.index < '2021-06-01']\n",
    "test_ma = df_ma[df_ma.index >= '2021-06-01']\n",
    "# check shape\n",
    "train_ma.shape, test_ma.shape"
   ]
  },
  {
   "cell_type": "code",
   "execution_count": null,
   "id": "adcad0df",
   "metadata": {},
   "outputs": [],
   "source": [
    "# initialize setup\n",
    "s = setup(data = train_ma, test_data = test_ma, target = 'MA_Conf_Cases', fold_strategy = 'timeseries', numeric_features = ['Year', 'Series'], fold = 3, transform_target = True, session_id = 123)"
   ]
  },
  {
   "cell_type": "code",
   "execution_count": null,
   "id": "fd6adcbf",
   "metadata": {},
   "outputs": [],
   "source": [
    "# initialize setup\n",
    "s = setup(data = train_ma, test_data = test_ma, target = 'MA_Conf_Cases', fold_strategy = 'timeseries', numeric_features = ['Year', 'Series'], fold = 3, transform_target = True, session_id = 123)"
   ]
  },
  {
   "cell_type": "code",
   "execution_count": null,
   "id": "e8438590",
   "metadata": {},
   "outputs": [],
   "source": [
    "# import the regression module\n",
    "from pycaret.regression import *\n",
    "# initialize setup\n",
    "s = setup(data = train_ma, test_data = test_ma, target = 'MA_Conf_Cases', fold_strategy = 'timeseries', numeric_features = df_ma.index, fold = 3, transform_target = True, session_id = 123)\n",
    "\n"
   ]
  },
  {
   "cell_type": "code",
   "execution_count": null,
   "id": "a676649c",
   "metadata": {},
   "outputs": [],
   "source": [
    "ADF test for confirmation\n",
    "(test from second row on, as .diff() creates a NaN in the first row):"
   ]
  },
  {
   "cell_type": "code",
   "execution_count": null,
   "id": "98a8a45a",
   "metadata": {},
   "outputs": [],
   "source": [
    "adfuller(df_vt['VT_Conf_Cases_stationary']['2020-01-23':])"
   ]
  },
  {
   "cell_type": "code",
   "execution_count": null,
   "id": "2430c899",
   "metadata": {},
   "outputs": [],
   "source": [
    "##################\n",
    "# extract day, month, and year from dates\n",
    "df_me2['Year'] =[i.year for i in df_me2['date']]\n",
    "df_me2['Month'] = [i.month for i in df_me2['date']]\n",
    "df_me2['Day'] = [i.day for i in df_me2['date']]\n",
    "# drop unnecessary columns and re-arrange\n",
    "#df_me2.drop(['date'], axis=1, inplace=True)\n",
    "df_me2 = df_me2[['date', 'Series', 'Year', 'Month', 'Day', 'MA_Avg_Temp(F)', 'MA_PRCP(mm)', 'MA_Conf_Cases']]"
   ]
  },
  {
   "cell_type": "code",
   "execution_count": null,
   "id": "4e0fdd78",
   "metadata": {},
   "outputs": [],
   "source": [
    "#df_vt2 = df_vt2[['date', 'Year', 'Month', 'Day', 'day_of_week', 'day_of_year', 'VT_Avg_Temp(F)', 'VT_PRCP(mm)', 'VT_Conf_Cases']]\n",
    "#df_ct2 = df_ct2[['date', 'Year', 'Month', 'Day', 'day_of_week', 'day_of_year', 'CT_Avg_Temp(F)', 'CT_PRCP(mm)', 'CT_Conf_Cases']]\n",
    "#df_me2 = df_me2[['date', 'Year', 'Month', 'Day', 'day_of_week', 'day_of_year', 'ME_Avg_Temp(F)', 'ME_PRCP(mm)', 'ME_Conf_Cases']]\n",
    "#df_ma2 = df_ma2[['date', 'Year', 'Month', 'Day', 'day_of_week', 'day_of_year', 'MA_Avg_Temp(F)', 'MA_PRCP(mm)', 'MA_Conf_Cases']]"
   ]
  },
  {
   "cell_type": "code",
   "execution_count": null,
   "id": "71a18034",
   "metadata": {},
   "outputs": [],
   "source": [
    "df_vt3 = df_vt.reset_index()\n",
    "df_ct3 = df_ct.reset_index()\n",
    "df_me3 = df_me.reset_index()\n",
    "df_ma3 = df_ma.reset_index()"
   ]
  },
  {
   "cell_type": "code",
   "execution_count": null,
   "id": "be43c579",
   "metadata": {},
   "outputs": [],
   "source": [
    "from pycaret.regression import *\n",
    "df_subset = df_me2\n",
    "all_results=[]\n",
    "\n",
    "# initialize setup from pycaret.regression\n",
    "s = setup(df_subset, target = 'MA_Conf_Cases', train_size = 0.8,\n",
    "            data_split_shuffle = True, fold = 3,\n",
    "            ignore_features = ['date', 'Series', 'MA_PRCP(mm)'],\n",
    "            numeric_features = ['day_of_year', 'Year', 'MA_Avg_Temp(F)'],\n",
    "            categorical_features = ['Month', 'day_of_week'],\n",
    "            silent = True, verbose = False, session_id = 123,\n",
    "            normalize=True)\n",
    "    \n",
    "# compare all models and select best one based on MAE\n",
    "best_model = compare_models(sort = 'MAE', verbose=False)\n",
    "    \n",
    "# capture the compare result grid and store best model in list\n",
    "p = pull().iloc[0:1]\n",
    "p['time_series'] = str(\"ME\")\n",
    "all_results.append(p)\n",
    "    \n",
    "# finalize model i.e. fit on entire data including test set\n",
    "f = finalize_model(best_model)\n",
    "best_model"
   ]
  },
  {
   "cell_type": "code",
   "execution_count": null,
   "id": "8989339d",
   "metadata": {},
   "outputs": [],
   "source": [
    "concat_results = pd.concat(all_results,axis=0)\n",
    "concat_results.head()"
   ]
  },
  {
   "cell_type": "code",
   "execution_count": null,
   "id": "5b6337bc",
   "metadata": {},
   "outputs": [],
   "source": [
    "all_results=[]\n",
    "df_subset = df_me2\n",
    "\n",
    "\n",
    "# initialize setup from pycaret.regression\n",
    "s = setup(df_subset, target = 'ME_Conf_Cases', train_size = 0.8,\n",
    "            data_split_shuffle = True, fold = 3,\n",
    "            ignore_features = ['date', 'ME_PRCP(mm)'],\n",
    "            numeric_features = ['day_of_year', 'Year', 'ME_Avg_Temp(F)'],\n",
    "            categorical_features = ['Month', 'day_of_week'],\n",
    "            silent = True, verbose = False, session_id = 123,\n",
    "            normalize=True)\n",
    "    \n",
    "# compare all models and select best one based on MAE\n",
    "best_model = compare_models(sort = 'MAE', verbose=False)\n",
    "    \n",
    "# capture the compare result grid and store best model in list\n",
    "p = pull().iloc[0:1]\n",
    "p['time_series'] = str(\"ME\")\n",
    "all_results.append(p)\n",
    "    \n",
    "# finalize model i.e. fit on entire data including test set\n",
    "f = finalize_model(best_model)\n",
    "best_model"
   ]
  },
  {
   "cell_type": "code",
   "execution_count": null,
   "id": "edb99c56",
   "metadata": {},
   "outputs": [],
   "source": [
    "concat_results = pd.concat([pd.concat(all_results, axis=0), concat_results], axis=0)\n",
    "concat_results"
   ]
  },
  {
   "cell_type": "code",
   "execution_count": null,
   "id": "246234c0",
   "metadata": {},
   "outputs": [],
   "source": [
    "print(all_results)"
   ]
  },
  {
   "cell_type": "code",
   "execution_count": null,
   "id": "7fb05ed7",
   "metadata": {},
   "outputs": [],
   "source": [
    "print(concat_results)"
   ]
  },
  {
   "cell_type": "code",
   "execution_count": null,
   "id": "5665d981",
   "metadata": {},
   "outputs": [],
   "source": [
    "pd.concat([pd.DataFrame(all_results), concat_results], axis=0)"
   ]
  },
  {
   "cell_type": "code",
   "execution_count": null,
   "id": "e87ea306",
   "metadata": {},
   "outputs": [],
   "source": [
    "type(all_results)"
   ]
  },
  {
   "cell_type": "code",
   "execution_count": null,
   "id": "f57e3a31",
   "metadata": {},
   "outputs": [],
   "source": [
    "results_df = pd.concat(all_results, axis=0)"
   ]
  },
  {
   "cell_type": "code",
   "execution_count": null,
   "id": "a5047799",
   "metadata": {},
   "outputs": [],
   "source": [
    "results_df.head()"
   ]
  },
  {
   "cell_type": "code",
   "execution_count": null,
   "id": "f13ac4a8",
   "metadata": {},
   "outputs": [],
   "source": [
    "concat_results = pd.concat([results_df, results_df], axis=0)"
   ]
  },
  {
   "cell_type": "code",
   "execution_count": null,
   "id": "78d502ac",
   "metadata": {},
   "outputs": [],
   "source": [
    "concat_"
   ]
  },
  {
   "cell_type": "code",
   "execution_count": null,
   "id": "7ddccb1a",
   "metadata": {},
   "outputs": [],
   "source": [
    "# Filter out all rows where at least one state reports a COVID case:\n",
    "filter = (df6.CT_Conf_Cases + df6.VT_Conf_Cases + df6.ME_Conf_Cases + df6.MA_Conf_Cases) > 0"
   ]
  },
  {
   "cell_type": "code",
   "execution_count": null,
   "id": "fe04083a",
   "metadata": {},
   "outputs": [],
   "source": [
    "# Filter the dataframe so that any rows where every state has 0 COVID cases becomes NaN and drop NaNs\n",
    "x=(df6.where(filter).dropna())\n",
    "# Find earliest date where there is at least one COVID case reported\n",
    "min(x.index)"
   ]
  },
  {
   "cell_type": "code",
   "execution_count": null,
   "id": "5cf5e243",
   "metadata": {},
   "outputs": [],
   "source": [
    "# Drop rows before 2020-01-29 \n",
    "df6 = df6.loc['2020-01-29':]"
   ]
  },
  {
   "cell_type": "markdown",
   "id": "9f883dca",
   "metadata": {},
   "source": [
    "Let's take a look at Maine first \n",
    "According to [Maine.gov](https://www.maine.gov/covid19/timeline), Maine's first COVID19 case was recorded on March 12th, 2020. We don't need to fill in any zero values before that date. "
   ]
  },
  {
   "cell_type": "code",
   "execution_count": null,
   "id": "f5a7976b",
   "metadata": {},
   "outputs": [],
   "source": [
    "df7[(df7['weekday']==6)&(df7['ME_Conf_Cases']==0)&(df7.index>'2020-11-01')]"
   ]
  },
  {
   "cell_type": "code",
   "execution_count": null,
   "id": "cdc4f39e",
   "metadata": {},
   "outputs": [],
   "source": [
    "df7.ME_Conf_Cases[(df7['weekday']==6)&(df7.index>'2020-04-01')]"
   ]
  },
  {
   "cell_type": "code",
   "execution_count": null,
   "id": "009d8c23",
   "metadata": {},
   "outputs": [],
   "source": [
    "& (df7.index > '2020-03-12')"
   ]
  },
  {
   "cell_type": "code",
   "execution_count": null,
   "id": "3ec3fc52",
   "metadata": {},
   "outputs": [],
   "source": [
    "df6[(df6['VT_Conf_Cases'] == 0) & (df.index >= '2021-08-01')]"
   ]
  },
  {
   "cell_type": "code",
   "execution_count": null,
   "id": "d571ac33",
   "metadata": {},
   "outputs": [],
   "source": [
    "# Replace cases negative values with np.nan\n",
    "df5.MA_Conf_Cases['2020-09-03'] = np.nan\n",
    "df5.CT_Conf_Cases[['2020-05-27', '2020-08-18']] = np.nan\n",
    "df5.VT_Conf_Cases[['2020-05-11', '2020-06-17']] = np.nan\n",
    "df5.ME_Conf_Cases[['2020-03-15','2020-07-22', '2020-09-09', '2021-08-09']]= np.nan"
   ]
  },
  {
   "cell_type": "code",
   "execution_count": null,
   "id": "82a41688",
   "metadata": {},
   "outputs": [],
   "source": [
    "for row in df7['ME_Conf_Cases']:\n",
    "    if df7['weekday'] == 5:\n",
    "        df7['ME_Third'] = (df7['ME_Conf_Cases']//3)"
   ]
  },
  {
   "cell_type": "code",
   "execution_count": null,
   "id": "7536ada4",
   "metadata": {},
   "outputs": [],
   "source": [
    "# Loop through NaNs and fill with average of previous and following cell values \n",
    "state_col_list=['CT_Conf_Cases', 'VT_Conf_Cases', 'ME_Conf_Cases', 'MA_Conf_Cases']\n",
    "for col in state_col_list:\n",
    "    df5[col] = df5[col].fillna((df5[col].shift() + df5[col].shift(-1))/2)"
   ]
  },
  {
   "cell_type": "code",
   "execution_count": null,
   "id": "fef391f5",
   "metadata": {},
   "outputs": [],
   "source": [
    "df6= df5\n",
    "df6[\"weekday\"] = df5.index.dayofweek"
   ]
  },
  {
   "cell_type": "code",
   "execution_count": null,
   "id": "8a5504aa",
   "metadata": {},
   "outputs": [],
   "source": [
    "df6.loc[(df6[\"weekday\" == 0]) & (df6['ME_Conf_Cases']==0) & (df6['MA_Conf_Cases']==0) & (df6['VT_Conf_Cases']==0) & (df6['CT_Conf_Cases']==0)]"
   ]
  },
  {
   "cell_type": "code",
   "execution_count": null,
   "id": "796dd5f3",
   "metadata": {},
   "outputs": [],
   "source": [
    "df6[(df6['weekday'] == 0) & (df6['MA_Conf_Cases']==0)& (df6['ME_Conf_Cases']==0) & (df6['VT_Conf_Cases']==0) & (df6['CT_Conf_Cases']==0)]"
   ]
  },
  {
   "cell_type": "code",
   "execution_count": null,
   "id": "c632f39f",
   "metadata": {},
   "outputs": [],
   "source": [
    "train_me"
   ]
  },
  {
   "cell_type": "code",
   "execution_count": null,
   "id": "adee4a11",
   "metadata": {},
   "outputs": [],
   "source": [
    "pd.DataFrame((df6[(df6['weekday'] == 0) & ((df6['MA_Conf_Cases']==0))]).index)"
   ]
  },
  {
   "cell_type": "code",
   "execution_count": null,
   "id": "14ee427f",
   "metadata": {},
   "outputs": [],
   "source": [
    "df6[(df6['weekday'] == 0) & ((df6['ME_Conf_Cases']==0))]"
   ]
  },
  {
   "cell_type": "code",
   "execution_count": null,
   "id": "450016e0",
   "metadata": {},
   "outputs": [],
   "source": [
    "df6.loc['2021-09-06']"
   ]
  },
  {
   "cell_type": "code",
   "execution_count": null,
   "id": "a015c87c",
   "metadata": {},
   "outputs": [],
   "source": [
    "df6= df5\n",
    "df6[\"weekday\"] = df5.index.dayofweek"
   ]
  },
  {
   "cell_type": "markdown",
   "id": "bcc60dab",
   "metadata": {},
   "source": [
    "It looks like, for every five days of values for `Conf_Cases`, there are two days of zero values. A quick calendar check confirms that the dates corresponding to zero values are weekend dates (besides 09/06/21, which was Labor Day- a bank holiday in the US). Because there is only data for weekdays, I'll remove weekend data, as it can only skew our summary statistics and plots."
   ]
  },
  {
   "cell_type": "code",
   "execution_count": null,
   "id": "88a36c6e",
   "metadata": {},
   "outputs": [],
   "source": [
    "#Create column to designate day of week:\n",
    "df6= df5\n",
    "df6[\"weekday\"] = df6.index.dayofweek"
   ]
  },
  {
   "cell_type": "code",
   "execution_count": null,
   "id": "e3678038",
   "metadata": {},
   "outputs": [],
   "source": [
    "#Filter DataFrame to only include weekdays (days 0-4)\n",
    "df6 = df6[(df6.weekday != 5) & (df6.weekday != 6)]"
   ]
  },
  {
   "cell_type": "code",
   "execution_count": null,
   "id": "c8072e14",
   "metadata": {},
   "outputs": [],
   "source": [
    "def merge(list1, list2):\n",
    "    merged_list = [(p1, p2) for idx1, p1 in enumerate(list1) \n",
    "    for idx2, p2 in enumerate(list2) if idx1 == idx2]\n",
    "    return merged_list"
   ]
  },
  {
   "cell_type": "code",
   "execution_count": null,
   "id": "3968ab1a",
   "metadata": {},
   "outputs": [],
   "source": [
    "idk = merge(ME_case_list, ME_case_list_new)"
   ]
  },
  {
   "cell_type": "code",
   "execution_count": null,
   "id": "04edb513",
   "metadata": {},
   "outputs": [],
   "source": [
    "idk2 =dict(zip(ME_index_list, idk))\n",
    "idk2"
   ]
  },
  {
   "cell_type": "code",
   "execution_count": null,
   "id": "e02278d3",
   "metadata": {},
   "outputs": [],
   "source": [
    "for key, value in idk2.items():\n",
    "    (df9.loc[key]['ME_Conf_Cases']).replace(value[0], value[1])"
   ]
  },
  {
   "cell_type": "code",
   "execution_count": null,
   "id": "4e80a16f",
   "metadata": {},
   "outputs": [],
   "source": []
  },
  {
   "cell_type": "code",
   "execution_count": null,
   "id": "b9ac2d1b",
   "metadata": {},
   "outputs": [],
   "source": [
    "rep_vals_dict=dict(zip(ME_case_list, ME_case_list_new))\n",
    "rep_vals_dict"
   ]
  },
  {
   "cell_type": "code",
   "execution_count": null,
   "id": "88aa10aa",
   "metadata": {},
   "outputs": [],
   "source": [
    "for index in ME_index_list:\n",
    "    df9.loc[index].ME_Conf_Cases.replace(rep_vals_dict)"
   ]
  },
  {
   "cell_type": "code",
   "execution_count": null,
   "id": "5bd75854",
   "metadata": {},
   "outputs": [],
   "source": [
    "type(ME_index_list[1])"
   ]
  },
  {
   "cell_type": "code",
   "execution_count": null,
   "id": "d0b58906",
   "metadata": {},
   "outputs": [],
   "source": [
    "for index in indexes:\n",
    "    to_modify[indexes[index]] = replacements[index]"
   ]
  },
  {
   "cell_type": "code",
   "execution_count": null,
   "id": "9944c4e3",
   "metadata": {},
   "outputs": [],
   "source": [
    "for index in ME_index_list:\n",
    "    print(df9['ME_Conf_Cases'].index)"
   ]
  },
  {
   "cell_type": "code",
   "execution_count": null,
   "id": "764eb32d",
   "metadata": {},
   "outputs": [],
   "source": [
    "for i in ME_index_list:\n",
    "    df9.loc[i].ME_Conf_Cases = (df9.loc[i].ME_Conf_Cases/3)"
   ]
  },
  {
   "cell_type": "code",
   "execution_count": null,
   "id": "d6d0f096",
   "metadata": {},
   "outputs": [],
   "source": [
    "for i in ME_index_list:\n",
    "    (df9.loc[i]['ME_Conf_Cases'])=((df9.loc[i]['ME_Conf_Cases'])/3)"
   ]
  },
  {
   "cell_type": "code",
   "execution_count": null,
   "id": "4b479ae6",
   "metadata": {},
   "outputs": [],
   "source": [
    "for i in ME_index_list:\n",
    "    (df9.loc[i]['ME_Conf_Cases'])=((df9.loc[i]['ME_Conf_Cases'])/3)"
   ]
  },
  {
   "cell_type": "code",
   "execution_count": null,
   "id": "50a270b7",
   "metadata": {},
   "outputs": [],
   "source": [
    "df9.loc['2021-07-13']"
   ]
  },
  {
   "cell_type": "code",
   "execution_count": null,
   "id": "4ca6fe5a",
   "metadata": {},
   "outputs": [],
   "source": [
    "df9.loc['2021-07-13']"
   ]
  },
  {
   "cell_type": "code",
   "execution_count": null,
   "id": "8b4a1069",
   "metadata": {},
   "outputs": [],
   "source": [
    "for index, row in df9.iterrows():\n",
    "    if index >= pd.Timestamp('2021-07-01'):\n",
    "        if row['weekday'] == 1:\n",
    "            if row['ME_Conf_Cases'] != 0:\n",
    "                df9.index['ME_Conf_Cases'] /= 3"
   ]
  },
  {
   "cell_type": "code",
   "execution_count": null,
   "id": "e4a7a2a3",
   "metadata": {},
   "outputs": [],
   "source": [
    "(pd.DataFrame(df9[['CT_Conf_Cases', 'MA_Conf_Cases', 'ME_Conf_Cases', \n",
    "                            'VT_Conf_Cases', 'weekday']].tail(25)).style.applymap(highlight_zero))"
   ]
  },
  {
   "cell_type": "code",
   "execution_count": null,
   "id": "32a08ab1",
   "metadata": {},
   "outputs": [],
   "source": [
    "ct_counter =0\n",
    "for row in df5[df5['CT_Conf_Cases']<0]:\n",
    "    ct_counter+=1\n",
    "print(\"CT has\", ct_counter/len(df5.columns), \"negative Conf_Cases value\")"
   ]
  },
  {
   "cell_type": "code",
   "execution_count": null,
   "id": "a684af3b",
   "metadata": {},
   "outputs": [],
   "source": [
    "for row in df9:\n",
    "    if df9.weekday == 1:\n",
    "        print('yes')"
   ]
  },
  {
   "cell_type": "code",
   "execution_count": null,
   "id": "2e62f222",
   "metadata": {},
   "outputs": [],
   "source": [
    "for row in df9:\n",
    "    if row.index == '2021-07-01':\n",
    "        print('yes')"
   ]
  },
  {
   "cell_type": "code",
   "execution_count": null,
   "id": "c8c9dcdf",
   "metadata": {},
   "outputs": [],
   "source": [
    "import pandas as pd\n",
    "\n",
    "df = pd.DataFrame({'c1': [10, 11, 12], 'c2': [100, 110, 120]})\n",
    "\n",
    "for index, row in df.iterrows():\n",
    "    print(row['c1'], row['c2'])"
   ]
  },
  {
   "cell_type": "markdown",
   "id": "a3408d6c",
   "metadata": {},
   "source": [
    "I'll replace all zero values with `NaN`s so we can replace them using the `.fillna()` method. Once we've filled all appropriate `NaN`s, any remaining `NaN`s can be reset to zero as actual zero case counts."
   ]
  },
  {
   "cell_type": "code",
   "execution_count": null,
   "id": "f99e488a",
   "metadata": {},
   "outputs": [],
   "source": [
    "# Iterate over indices, rows and if row corresponds to a Tuesday after 2021-07-01 with a non-zero value for \n",
    "# ME_Conf_Cases, append index, case value, to corresponding lists\n",
    "ME_tuesday_index_list = []\n",
    "ME_tuesday_case_list =[]\n",
    "for index, row in df9.iterrows():\n",
    "    if (index >= pd.Timestamp('2021-07-01'))&(row['weekday'] == 1)&(row['ME_Conf_Cases'] != 0):\n",
    "        ME_tuesday_index_list.append(index)\n",
    "        ME_tuesday_case_list.append(row['ME_Conf_Cases'])"
   ]
  },
  {
   "cell_type": "code",
   "execution_count": null,
   "id": "8cb161a7",
   "metadata": {},
   "outputs": [],
   "source": [
    "# Divide each Tuesday non-zero ME case count by three and round to nearest integer; append to new list\n",
    "ME_case_list_new=[]\n",
    "for i in ME_tuesday_case_list:\n",
    "    ME_case_list_new.append(round(i/3))"
   ]
  },
  {
   "cell_type": "code",
   "execution_count": null,
   "id": "eb5c98bc",
   "metadata": {},
   "outputs": [],
   "source": [
    "# Create dictionary of indices and new case count value \n",
    "ME_tuesday_case_dict= dict(zip(ME_tuesday_index_list, ME_case_list_new))\n",
    "ME_tuesday_case_dict"
   ]
  },
  {
   "cell_type": "code",
   "execution_count": null,
   "id": "c1a40016",
   "metadata": {},
   "outputs": [],
   "source": [
    "# Iterate through dictionary keys, values, and replace each ME_Conf_Case at index/key, with corresponding value\n",
    "for key, value in ME_tuesday_case_dict.items():\n",
    "    df9['ME_Conf_Cases'].loc[key] = value"
   ]
  },
  {
   "cell_type": "code",
   "execution_count": null,
   "id": "34ffa3ef",
   "metadata": {},
   "outputs": [],
   "source": [
    "df10=df9"
   ]
  },
  {
   "cell_type": "code",
   "execution_count": null,
   "id": "5fe01366",
   "metadata": {},
   "outputs": [],
   "source": [
    "ME_monday_index_list = []\n",
    "ME_monday_case_list = []\n",
    "for index, row in df10.iterrows():\n",
    "    if (index >= pd.Timestamp('2021-07-01')):\n",
    "        if (row['weekday'] == 0):\n",
    "            if row['ME_Conf_Cases']==0:\n",
    "                ME_monday_index_list.append(index)\n",
    "                ME_monday_case_list.append(row['ME_Conf_Cases'])"
   ]
  },
  {
   "cell_type": "code",
   "execution_count": null,
   "id": "050eceef",
   "metadata": {},
   "outputs": [],
   "source": [
    "ME_monday_case_dict= dict(zip(ME_monday_index_list, ME_case_list_new))\n",
    "ME_monday_case_dict"
   ]
  },
  {
   "cell_type": "code",
   "execution_count": null,
   "id": "90a812ef",
   "metadata": {},
   "outputs": [],
   "source": [
    "# Iterate through dictionary keys, values, and replace each ME_Conf_Case at index/key, with corresponding value\n",
    "for key, value in ME_monday_case_dict.items():\n",
    "    df10['ME_Conf_Cases'].loc[key] = value"
   ]
  },
  {
   "cell_type": "code",
   "execution_count": null,
   "id": "772548ee",
   "metadata": {},
   "outputs": [],
   "source": [
    "ME_sunday_index_list = []\n",
    "ME_sunday_case_list = []\n",
    "for index, row in df10.iterrows():\n",
    "    if (index >= pd.Timestamp('2021-07-01')):\n",
    "        if (row['weekday'] == 6):\n",
    "            if row['ME_Conf_Cases']==0:\n",
    "                ME_sunday_index_list.append(index)\n",
    "                ME_sunday_case_list.append(row['ME_Conf_Cases'])"
   ]
  },
  {
   "cell_type": "code",
   "execution_count": null,
   "id": "f7884b2e",
   "metadata": {},
   "outputs": [],
   "source": [
    "ME_sunday_index_list = []\n",
    "ME_sunday_case_list = []\n",
    "for index, row in df10.iterrows():\n",
    "    if (index >= pd.Timestamp('2021-07-01')):\n",
    "        if (row['weekday'] == 6):\n",
    "            if row['ME_Conf_Cases']==0:\n",
    "                ME_sunday_index_list.append(index)\n",
    "                ME_sunday_case_list.append(row['ME_Conf_Cases'])"
   ]
  },
  {
   "cell_type": "code",
   "execution_count": null,
   "id": "9fa42506",
   "metadata": {},
   "outputs": [],
   "source": [
    "ME_sunday_case_dict= dict(zip(ME_sunday_index_list, ME_case_list_new))\n",
    "len(ME_sunday_case_dict)"
   ]
  },
  {
   "cell_type": "code",
   "execution_count": null,
   "id": "974d561e",
   "metadata": {},
   "outputs": [],
   "source": [
    "# Iterate through dictionary keys, values, and replace each ME_Conf_Case at index/key, with corresponding value\n",
    "for key, value in ME_sunday_case_dict.items():\n",
    "    df10['ME_Conf_Cases'].loc[key] = value"
   ]
  },
  {
   "cell_type": "code",
   "execution_count": null,
   "id": "13d12dd0",
   "metadata": {},
   "outputs": [],
   "source": []
  },
  {
   "cell_type": "code",
   "execution_count": null,
   "id": "1d3a555a",
   "metadata": {},
   "outputs": [],
   "source": []
  },
  {
   "cell_type": "code",
   "execution_count": null,
   "id": "95c71887",
   "metadata": {},
   "outputs": [],
   "source": []
  },
  {
   "cell_type": "markdown",
   "id": "c5da9bc6",
   "metadata": {},
   "source": [
    "#### Analyzing time series data checklist:\n",
    "$\\times$ 1) Convert index to datetime object \\\n",
    "$\\times$ 2) Plot the data \\\n",
    "$\\times$ 3) Run Augmented Dickey Fuller Test to see whether the data is a random walk \\\n",
    "$\\times$ 4) Take first differences of the data to transform it into a stationary series \\\n",
    "5) Compute ACF (Autocorrelation Function) and PACF (Partial Autocorrelation Funcion) \\\n",
    "6) Using that as a guide, fit a few AR, MA, and ARMA models to the data \\\n",
    "7) Use information criterion to choose the best model \\\n",
    "8) Forecast "
   ]
  },
  {
   "cell_type": "markdown",
   "id": "c4080db0",
   "metadata": {},
   "source": [
    "can you please try XGBOOST\n",
    "\n",
    "for this dataset\n",
    "\n",
    "separately\n",
    "\n",
    "and not use pycaret\n",
    "\n",
    "\n",
    "Raghunandan, 11:10 PM\n",
    "one last observation, please combine data from all 4 states and use pycaret and let me know the results\n",
    "\n",
    "Good night!!"
   ]
  },
  {
   "cell_type": "markdown",
   "id": "a1665028",
   "metadata": {},
   "source": [
    "## Connecticut"
   ]
  },
  {
   "cell_type": "code",
   "execution_count": null,
   "id": "abedc5f5",
   "metadata": {},
   "outputs": [],
   "source": [
    "# Iterate over indices, rows and if row corresponds to a Monday after 2020-07-01 with a non-zero value for \n",
    "# CT_Conf_Cases, append index, case value, to corresponding lists\n",
    "CT_monday_index_list = []\n",
    "CT_monday_case_list =[]\n",
    "for index, row in df10.iterrows():\n",
    "    if (index >= pd.Timestamp('2020-07-01'))&(row['weekday'] == 0)&(row['CT_Conf_Cases'] != 0):\n",
    "        CT_monday_index_list.append(index)\n",
    "        CT_monday_case_list.append(row['CT_Conf_Cases'])"
   ]
  },
  {
   "cell_type": "code",
   "execution_count": null,
   "id": "b80bd3e8",
   "metadata": {},
   "outputs": [],
   "source": [
    "# Divide each Tuesday non-zero ME case count by three and round to nearest integer; append to new list\n",
    "CT_case_list_new=[]\n",
    "for i in CT_monday_case_list:\n",
    "    CT_case_list_new.append(round(i/3))\n",
    "len(CT_case_list_new)"
   ]
  },
  {
   "cell_type": "code",
   "execution_count": null,
   "id": "26871c79",
   "metadata": {},
   "outputs": [],
   "source": [
    "# Divide each Tuesday non-zero ME case count by three and round to nearest integer; append to new list\n",
    "CT_case_list_new=[]\n",
    "for i in CT_monday_case_list:\n",
    "    CT_case_list_new.append(round(i/3))\n",
    "len(CT_case_list_new)"
   ]
  },
  {
   "cell_type": "code",
   "execution_count": null,
   "id": "af25938b",
   "metadata": {},
   "outputs": [],
   "source": [
    "# Create dictionary of indices and new case count value \n",
    "CT_monday_case_dict= dict(zip(CT_monday_index_list, CT_case_list_new))\n",
    "len(CT_monday_case_dict)"
   ]
  },
  {
   "cell_type": "code",
   "execution_count": null,
   "id": "7df05544",
   "metadata": {},
   "outputs": [],
   "source": [
    "# Iterate through dictionary keys, values, and replace each CT_Conf_Case at index/key, with corresponding value\n",
    "for key, value in CT_monday_case_dict.items():\n",
    "    df10['CT_Conf_Cases'].loc[key] = value"
   ]
  },
  {
   "cell_type": "code",
   "execution_count": null,
   "id": "df975557",
   "metadata": {},
   "outputs": [],
   "source": [
    "CT_sunday_index_list = []\n",
    "CT_sunday_case_list = []\n",
    "for index, row in df10.iterrows():\n",
    "    if (index >= pd.Timestamp('2020-07-01')):\n",
    "        if (row['weekday'] == 6):\n",
    "            if row['CT_Conf_Cases']== 0:\n",
    "                CT_sunday_index_list.append(index)\n",
    "                CT_sunday_case_list.append(row['CT_Conf_Cases'])"
   ]
  },
  {
   "cell_type": "code",
   "execution_count": null,
   "id": "60eb5029",
   "metadata": {},
   "outputs": [],
   "source": [
    "CT_sunday_case_dict= dict(zip(CT_sunday_index_list, CT_case_list_new))"
   ]
  },
  {
   "cell_type": "code",
   "execution_count": null,
   "id": "2886cbb2",
   "metadata": {},
   "outputs": [],
   "source": [
    "# Iterate through dictionary keys, values, and replace each CT_Conf_Case at index/key, with corresponding value\n",
    "for key, value in CT_sunday_case_dict.items():\n",
    "    df10['CT_Conf_Cases'].loc[key] = value"
   ]
  },
  {
   "cell_type": "code",
   "execution_count": null,
   "id": "ec2b24ce",
   "metadata": {},
   "outputs": [],
   "source": [
    "CT_saturday_index_list = []\n",
    "CT_saturday_case_list = []\n",
    "for index, row in df10.iterrows():\n",
    "    if (index >= pd.Timestamp('2020-07-01')):\n",
    "        if (row['weekday'] == 5):\n",
    "            if row['CT_Conf_Cases']==0:\n",
    "                CT_saturday_index_list.append(index)\n",
    "                CT_saturday_case_list.append(row['CT_Conf_Cases'])"
   ]
  },
  {
   "cell_type": "code",
   "execution_count": null,
   "id": "d27c6013",
   "metadata": {},
   "outputs": [],
   "source": [
    "CT_saturday_case_dict= dict(zip(CT_saturday_index_list, CT_case_list_new))"
   ]
  },
  {
   "cell_type": "code",
   "execution_count": null,
   "id": "5561a052",
   "metadata": {},
   "outputs": [],
   "source": [
    "# Iterate through dictionary keys, values, and replace each ME_Conf_Case at index/key, with corresponding value\n",
    "for key, value in CT_saturday_case_dict.items():\n",
    "    df10['CT_Conf_Cases'].loc[key] = value"
   ]
  },
  {
   "cell_type": "code",
   "execution_count": null,
   "id": "5bdcd484",
   "metadata": {},
   "outputs": [],
   "source": [
    "# Iterate over indices, rows and if row corresponds to a Monday after 2021-07-01 with a non-zero value for \n",
    "# MA_Conf_Cases, append index, case value, to corresponding lists\n",
    "MA_monday_index_list = []\n",
    "MA_monday_case_list =[]\n",
    "for index, row in df9.iterrows():\n",
    "    if (index >= pd.Timestamp('2021-07-01'))&(row['weekday'] == 0)&(row['MA_Conf_Cases'] != 0):\n",
    "        MA_monday_index_list.append(index)\n",
    "        MA_monday_case_list.append(row['MA_Conf_Cases'])"
   ]
  },
  {
   "cell_type": "code",
   "execution_count": null,
   "id": "22b6849e",
   "metadata": {},
   "outputs": [],
   "source": [
    "# Divide each Tuesday non-zero ME case count by three and round to nearest integer; append to new list\n",
    "MA_case_list_new=[]\n",
    "for i in MA_monday_case_list:\n",
    "    MA_case_list_new.append(round(i/3))"
   ]
  },
  {
   "cell_type": "code",
   "execution_count": null,
   "id": "0ff94ed2",
   "metadata": {},
   "outputs": [],
   "source": [
    "# Create dictionary of indices and new case count value \n",
    "MA_monday_case_dict= dict(zip(MA_monday_index_list, MA_case_list_new))"
   ]
  },
  {
   "cell_type": "code",
   "execution_count": null,
   "id": "cd6f7bca",
   "metadata": {},
   "outputs": [],
   "source": [
    "# Iterate through dictionary keys, values, and replace each CT_Conf_Case at index/key, with corresponding value\n",
    "for key, value in MA_monday_case_dict.items():\n",
    "    df10['MA_Conf_Cases'].loc[key] = value"
   ]
  },
  {
   "cell_type": "code",
   "execution_count": null,
   "id": "5705331d",
   "metadata": {},
   "outputs": [],
   "source": [
    "MA_sunday_index_list = []\n",
    "MA_sunday_case_list =[]\n",
    "for index, row in df10.iterrows():\n",
    "    if (index >= pd.Timestamp('2021-07-01')):\n",
    "        if (row['weekday'] == 6):\n",
    "            if row['MA_Conf_Cases']== 0:\n",
    "                MA_sunday_index_list.append(index)\n",
    "                MA_sunday_case_list.append(row['MA_Conf_Cases'])"
   ]
  },
  {
   "cell_type": "code",
   "execution_count": null,
   "id": "44d3d38f",
   "metadata": {},
   "outputs": [],
   "source": [
    "MA_sunday_case_dict= dict(zip(MA_sunday_index_list, MA_case_list_new))"
   ]
  },
  {
   "cell_type": "code",
   "execution_count": null,
   "id": "bc956da2",
   "metadata": {},
   "outputs": [],
   "source": [
    "# Iterate through dictionary keys, values, and replace each CT_Conf_Case at index/key, with corresponding value\n",
    "for key, value in MA_sunday_case_dict.items():\n",
    "    df10['MA_Conf_Cases'].loc[key] = value"
   ]
  },
  {
   "cell_type": "code",
   "execution_count": null,
   "id": "d1704f59",
   "metadata": {},
   "outputs": [],
   "source": [
    "MA_saturday_index_list = []\n",
    "MA_saturday_case_list =[]\n",
    "for index, row in df10.iterrows():\n",
    "    if (index >= pd.Timestamp('2021-07-01')):\n",
    "        if (row['weekday'] == 5):\n",
    "            if row['MA_Conf_Cases']==0:\n",
    "                MA_saturday_index_list.append(index)\n",
    "                MA_saturday_case_list.append(row['ME_Conf_Cases'])"
   ]
  },
  {
   "cell_type": "code",
   "execution_count": null,
   "id": "cd9345e0",
   "metadata": {},
   "outputs": [],
   "source": [
    "MA_saturday_case_dict= dict(zip(MA_saturday_index_list, MA_case_list_new))"
   ]
  },
  {
   "cell_type": "code",
   "execution_count": null,
   "id": "57a88767",
   "metadata": {},
   "outputs": [],
   "source": [
    "# Iterate through dictionary keys, values, and replace each ME_Conf_Case at index/key, with corresponding value\n",
    "for key, value in MA_saturday_case_dict.items():\n",
    "    df10['MA_Conf_Cases'].loc[key] = value"
   ]
  },
  {
   "cell_type": "code",
   "execution_count": null,
   "id": "4861dfa3",
   "metadata": {},
   "outputs": [],
   "source": [
    "# Loop through NaNs and fill with average of previous and following cell values \n",
    "state_col_list=['CT_Conf_Cases', 'VT_Conf_Cases', 'ME_Conf_Cases', 'MA_Conf_Cases']\n",
    "for col in state_col_list:\n",
    "    df5[col] = df5[col].fillna((df5[col].shift() + df5[col].shift(-1))/2)"
   ]
  },
  {
   "cell_type": "code",
   "execution_count": null,
   "id": "b77108a3",
   "metadata": {},
   "outputs": [],
   "source": [
    "# Replace cases negative values with np.nan\n",
    "df5.MA_Conf_Cases['2020-09-03'] = np.nan\n",
    "df5.CT_Conf_Cases[['2020-05-27', '2020-08-18']] = np.nan\n",
    "df5.VT_Conf_Cases[['2020-05-11', '2020-06-17']] = np.nan\n",
    "df5.ME_Conf_Cases[['2020-03-15','2020-07-22', '2020-09-09', '2021-08-09']]= np.nan"
   ]
  },
  {
   "cell_type": "code",
   "execution_count": null,
   "id": "e3e42e3c",
   "metadata": {},
   "outputs": [],
   "source": [
    "df9.ME_Conf_Cases.shift(-1) = df9.ME_Conf_Cases / 3\n",
    "            df9.ME_Conf_Cases.shift(-2) = df9.ME_Conf_Cases / 3"
   ]
  },
  {
   "cell_type": "code",
   "execution_count": null,
   "id": "027f750a",
   "metadata": {},
   "outputs": [],
   "source": [
    "# Loop through NaNs and fill with average of previous and following cell values \n",
    "state_col_list=['CT_Conf_Cases', 'VT_Conf_Cases', 'ME_Conf_Cases', 'MA_Conf_Cases']\n",
    "for col in state_col_list:\n",
    "    df5[col] = df5[col].fillna((df5[col].shift() + df5[col].shift(-1))/2)"
   ]
  },
  {
   "cell_type": "code",
   "execution_count": null,
   "id": "bab316f3",
   "metadata": {},
   "outputs": [],
   "source": [
    "df9.ME_Conf_Cases.shift(-1).replace(0,1)\n",
    "            df9.ME_Conf_Cases.shift(-2).replace(0,1)"
   ]
  },
  {
   "cell_type": "code",
   "execution_count": null,
   "id": "8ef5968b",
   "metadata": {},
   "outputs": [],
   "source": [
    "for row in df9['2021-07-01':]:\n",
    "    if df9[df9['weekday']] == 2: # Tuesday \n",
    "        if df9.ME_Conf_Cases != 0: # Don't impute missing values if this is a bank holiday \n",
    "            df9.ME_Conf_Cases /= 3\n",
    "            #df9.ME_Conf_Casas.fillna(how='bfill')"
   ]
  },
  {
   "cell_type": "code",
   "execution_count": null,
   "id": "47f51e8f",
   "metadata": {},
   "outputs": [],
   "source": []
  },
  {
   "cell_type": "code",
   "execution_count": null,
   "id": "60598479",
   "metadata": {},
   "outputs": [],
   "source": []
  },
  {
   "cell_type": "code",
   "execution_count": null,
   "id": "2f544f8b",
   "metadata": {},
   "outputs": [],
   "source": []
  },
  {
   "cell_type": "markdown",
   "id": "95a9201e",
   "metadata": {},
   "source": [
    "***\n",
    "***\n",
    "***"
   ]
  },
  {
   "cell_type": "markdown",
   "id": "046f8a5b",
   "metadata": {},
   "source": [
    "# CORRECT CODE"
   ]
  },
  {
   "cell_type": "code",
   "execution_count": null,
   "id": "1cc16aba",
   "metadata": {},
   "outputs": [],
   "source": [
    "df_me2 = df_ma"
   ]
  },
  {
   "cell_type": "code",
   "execution_count": null,
   "id": "ba1f2e3c",
   "metadata": {},
   "outputs": [],
   "source": [
    "df_me2.reset_index(inplace=True)"
   ]
  },
  {
   "cell_type": "code",
   "execution_count": null,
   "id": "5907e883",
   "metadata": {},
   "outputs": [],
   "source": [
    "df_me2.head()"
   ]
  },
  {
   "cell_type": "code",
   "execution_count": null,
   "id": "c04e9254",
   "metadata": {},
   "outputs": [],
   "source": [
    "df_me2.dtypes"
   ]
  },
  {
   "cell_type": "code",
   "execution_count": null,
   "id": "a73bf76c",
   "metadata": {},
   "outputs": [],
   "source": [
    "# create a sequence of numbers\n",
    "df_me2['Series'] = np.arange(1,len(df_me2)+1)\n",
    "# extract day, month, and year from dates\n",
    "df_me2['Year'] =[i.year for i in df_me2['date']]\n",
    "df_me2['Month'] = [i.month for i in df_me2['date']]\n",
    "df_me2['Day'] = [i.day for i in df_me2['date']]\n",
    "# drop unnecessary columns and re-arrange\n",
    "#df_me2.drop(['date'], axis=1, inplace=True)\n",
    "df_me2 = df_me2[['date', 'Series', 'Year', 'Month', 'Day', 'MA_Avg_Temp(F)', 'MA_PRCP(mm)', 'MA_Conf_Cases']]"
   ]
  },
  {
   "cell_type": "code",
   "execution_count": null,
   "id": "fe1d0c8a",
   "metadata": {},
   "outputs": [],
   "source": [
    "df_me2.head()"
   ]
  },
  {
   "cell_type": "code",
   "execution_count": null,
   "id": "3db053da",
   "metadata": {},
   "outputs": [],
   "source": [
    "df_me2['day_of_week'] = [i.dayofweek for i in df_me2['date']]\n",
    "df_me2['day_of_year'] = [i.dayofyear for i in df_me2['date']]"
   ]
  },
  {
   "cell_type": "code",
   "execution_count": null,
   "id": "ca2c0984",
   "metadata": {},
   "outputs": [],
   "source": [
    "df_me2.head()"
   ]
  },
  {
   "cell_type": "code",
   "execution_count": null,
   "id": "267cc713",
   "metadata": {},
   "outputs": [],
   "source": [
    "from pycaret.regression import *\n",
    "df_subset = df_me2\n",
    "all_results=[]\n",
    "\n",
    "# initialize setup from pycaret.regression\n",
    "s = setup(df_subset, target = 'MA_Conf_Cases', train_size = 0.8,\n",
    "            data_split_shuffle = True, fold = 3,\n",
    "            ignore_features = ['date', 'Series', 'MA_PRCP(mm)'],\n",
    "            numeric_features = ['day_of_year', 'Year', 'MA_Avg_Temp(F)'],\n",
    "            categorical_features = ['Month', 'day_of_week'],\n",
    "            silent = True, verbose = False, session_id = 123,\n",
    "            normalize=True)\n",
    "    \n",
    "# compare all models and select best one based on MAE\n",
    "best_model = compare_models(sort = 'MAE', verbose=False)\n",
    "    \n",
    "# capture the compare result grid and store best model in list\n",
    "p = pull().iloc[0:1]\n",
    "p['time_series'] = str(\"ME\")\n",
    "all_results.append(p)\n",
    "    \n",
    "# finalize model i.e. fit on entire data including test set\n",
    "f = finalize_model(best_model)\n",
    "best_model"
   ]
  },
  {
   "cell_type": "code",
   "execution_count": null,
   "id": "1be2f0ea",
   "metadata": {},
   "outputs": [],
   "source": [
    "concat_results = pd.concat(all_results,axis=0)\n",
    "concat_results.head()"
   ]
  },
  {
   "cell_type": "code",
   "execution_count": null,
   "id": "b6b9268b",
   "metadata": {},
   "outputs": [],
   "source": []
  },
  {
   "cell_type": "code",
   "execution_count": null,
   "id": "caf595fe",
   "metadata": {},
   "outputs": [],
   "source": []
  },
  {
   "cell_type": "code",
   "execution_count": null,
   "id": "a4162477",
   "metadata": {},
   "outputs": [],
   "source": [
    "from pycaret.regression import *\n",
    "all_results=[]\n",
    "for df in df_list:\n",
    "    county_df = df\n",
    "    s = setup(county_df, target = 'MA_Conf_Cases', train_size = 0.8,\n",
    "            data_split_shuffle = True, fold = 3,\n",
    "            ignore_features = ['date', 'Series', 'MA_PRCP(mm)'],\n",
    "            numeric_features = ['day_of_year', 'Year', 'MA_Avg_Temp(F)'],\n",
    "            categorical_features = ['Month', 'day_of_week'],\n",
    "            silent = True, verbose = False, session_id = 123,\n",
    "            normalize=True)"
   ]
  },
  {
   "cell_type": "code",
   "execution_count": null,
   "id": "d9791c1c",
   "metadata": {},
   "outputs": [],
   "source": []
  },
  {
   "cell_type": "code",
   "execution_count": null,
   "id": "8002e53f",
   "metadata": {},
   "outputs": [],
   "source": []
  },
  {
   "cell_type": "code",
   "execution_count": null,
   "id": "625a31f9",
   "metadata": {},
   "outputs": [],
   "source": []
  }
 ],
 "metadata": {
  "kernelspec": {
   "display_name": "Python 3",
   "language": "python",
   "name": "python3"
  },
  "language_info": {
   "codemirror_mode": {
    "name": "ipython",
    "version": 3
   },
   "file_extension": ".py",
   "mimetype": "text/x-python",
   "name": "python",
   "nbconvert_exporter": "python",
   "pygments_lexer": "ipython3",
   "version": "3.8.8"
  }
 },
 "nbformat": 4,
 "nbformat_minor": 5
}
