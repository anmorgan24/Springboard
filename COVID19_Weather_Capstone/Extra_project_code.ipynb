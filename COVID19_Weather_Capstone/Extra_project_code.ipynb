{
 "cells": [
  {
   "cell_type": "markdown",
   "id": "84e8a9ca",
   "metadata": {},
   "source": [
    "# Extra project code"
   ]
  },
  {
   "cell_type": "code",
   "execution_count": null,
   "id": "5ecab26d",
   "metadata": {},
   "outputs": [],
   "source": [
    "# split data into train-test set\n",
    "#train_me = df_me2[(df_me2['Year'] < 2021) | ((df_me2['Year']==2021) & (df_me2['Month']<=7))]\n",
    "#test_me = df_me2[(df_me2['Year']==2021) & (df_me2['Month']>7)]"
   ]
  },
  {
   "cell_type": "code",
   "execution_count": null,
   "id": "46fa6845",
   "metadata": {},
   "outputs": [],
   "source": [
    "#train_me.tail()"
   ]
  },
  {
   "cell_type": "code",
   "execution_count": null,
   "id": "6a5d0b5a",
   "metadata": {},
   "outputs": [],
   "source": [
    "# import the regression module\n",
    "#from pycaret.regression import *\n",
    "# initialize setup\n",
    "#s = setup(data = train_me, test_data = test_me, target = 'MA_Conf_Cases', fold_strategy = 'timeseries', numeric_features = ['Month', 'Year', 'Series'], fold = 3, transform_target = True, session_id = 123)"
   ]
  },
  {
   "cell_type": "code",
   "execution_count": null,
   "id": "b9515775",
   "metadata": {},
   "outputs": [],
   "source": [
    "#best = compare_models(sort = 'MAE')"
   ]
  },
  {
   "cell_type": "code",
   "execution_count": null,
   "id": "f3532bdc",
   "metadata": {},
   "outputs": [],
   "source": [
    "# split data into train-test set\n",
    "train_ma = df_ma[df_ma.index < '2021-06-01']\n",
    "test_ma = df_ma[df_ma.index >= '2021-06-01']\n",
    "# check shape\n",
    "train_ma.shape, test_ma.shape"
   ]
  },
  {
   "cell_type": "code",
   "execution_count": null,
   "id": "adcad0df",
   "metadata": {},
   "outputs": [],
   "source": [
    "# initialize setup\n",
    "s = setup(data = train_ma, test_data = test_ma, target = 'MA_Conf_Cases', fold_strategy = 'timeseries', numeric_features = ['Year', 'Series'], fold = 3, transform_target = True, session_id = 123)"
   ]
  },
  {
   "cell_type": "code",
   "execution_count": null,
   "id": "fd6adcbf",
   "metadata": {},
   "outputs": [],
   "source": [
    "# initialize setup\n",
    "s = setup(data = train_ma, test_data = test_ma, target = 'MA_Conf_Cases', fold_strategy = 'timeseries', numeric_features = ['Year', 'Series'], fold = 3, transform_target = True, session_id = 123)"
   ]
  },
  {
   "cell_type": "code",
   "execution_count": null,
   "id": "e8438590",
   "metadata": {},
   "outputs": [],
   "source": [
    "# import the regression module\n",
    "from pycaret.regression import *\n",
    "# initialize setup\n",
    "s = setup(data = train_ma, test_data = test_ma, target = 'MA_Conf_Cases', fold_strategy = 'timeseries', numeric_features = df_ma.index, fold = 3, transform_target = True, session_id = 123)\n",
    "\n"
   ]
  },
  {
   "cell_type": "code",
   "execution_count": null,
   "id": "a676649c",
   "metadata": {},
   "outputs": [],
   "source": [
    "ADF test for confirmation\n",
    "(test from second row on, as .diff() creates a NaN in the first row):"
   ]
  },
  {
   "cell_type": "code",
   "execution_count": null,
   "id": "98a8a45a",
   "metadata": {},
   "outputs": [],
   "source": [
    "adfuller(df_vt['VT_Conf_Cases_stationary']['2020-01-23':])"
   ]
  },
  {
   "cell_type": "code",
   "execution_count": null,
   "id": "2430c899",
   "metadata": {},
   "outputs": [],
   "source": [
    "##################\n",
    "# extract day, month, and year from dates\n",
    "df_me2['Year'] =[i.year for i in df_me2['date']]\n",
    "df_me2['Month'] = [i.month for i in df_me2['date']]\n",
    "df_me2['Day'] = [i.day for i in df_me2['date']]\n",
    "# drop unnecessary columns and re-arrange\n",
    "#df_me2.drop(['date'], axis=1, inplace=True)\n",
    "df_me2 = df_me2[['date', 'Series', 'Year', 'Month', 'Day', 'MA_Avg_Temp(F)', 'MA_PRCP(mm)', 'MA_Conf_Cases']]"
   ]
  },
  {
   "cell_type": "code",
   "execution_count": null,
   "id": "4e0fdd78",
   "metadata": {},
   "outputs": [],
   "source": [
    "#df_vt2 = df_vt2[['date', 'Year', 'Month', 'Day', 'day_of_week', 'day_of_year', 'VT_Avg_Temp(F)', 'VT_PRCP(mm)', 'VT_Conf_Cases']]\n",
    "#df_ct2 = df_ct2[['date', 'Year', 'Month', 'Day', 'day_of_week', 'day_of_year', 'CT_Avg_Temp(F)', 'CT_PRCP(mm)', 'CT_Conf_Cases']]\n",
    "#df_me2 = df_me2[['date', 'Year', 'Month', 'Day', 'day_of_week', 'day_of_year', 'ME_Avg_Temp(F)', 'ME_PRCP(mm)', 'ME_Conf_Cases']]\n",
    "#df_ma2 = df_ma2[['date', 'Year', 'Month', 'Day', 'day_of_week', 'day_of_year', 'MA_Avg_Temp(F)', 'MA_PRCP(mm)', 'MA_Conf_Cases']]"
   ]
  },
  {
   "cell_type": "code",
   "execution_count": null,
   "id": "71a18034",
   "metadata": {},
   "outputs": [],
   "source": [
    "df_vt3 = df_vt.reset_index()\n",
    "df_ct3 = df_ct.reset_index()\n",
    "df_me3 = df_me.reset_index()\n",
    "df_ma3 = df_ma.reset_index()"
   ]
  },
  {
   "cell_type": "code",
   "execution_count": null,
   "id": "be43c579",
   "metadata": {},
   "outputs": [],
   "source": [
    "from pycaret.regression import *\n",
    "df_subset = df_me2\n",
    "all_results=[]\n",
    "\n",
    "# initialize setup from pycaret.regression\n",
    "s = setup(df_subset, target = 'MA_Conf_Cases', train_size = 0.8,\n",
    "            data_split_shuffle = True, fold = 3,\n",
    "            ignore_features = ['date', 'Series', 'MA_PRCP(mm)'],\n",
    "            numeric_features = ['day_of_year', 'Year', 'MA_Avg_Temp(F)'],\n",
    "            categorical_features = ['Month', 'day_of_week'],\n",
    "            silent = True, verbose = False, session_id = 123,\n",
    "            normalize=True)\n",
    "    \n",
    "# compare all models and select best one based on MAE\n",
    "best_model = compare_models(sort = 'MAE', verbose=False)\n",
    "    \n",
    "# capture the compare result grid and store best model in list\n",
    "p = pull().iloc[0:1]\n",
    "p['time_series'] = str(\"ME\")\n",
    "all_results.append(p)\n",
    "    \n",
    "# finalize model i.e. fit on entire data including test set\n",
    "f = finalize_model(best_model)\n",
    "best_model"
   ]
  },
  {
   "cell_type": "code",
   "execution_count": null,
   "id": "8989339d",
   "metadata": {},
   "outputs": [],
   "source": [
    "concat_results = pd.concat(all_results,axis=0)\n",
    "concat_results.head()"
   ]
  },
  {
   "cell_type": "code",
   "execution_count": null,
   "id": "5b6337bc",
   "metadata": {},
   "outputs": [],
   "source": [
    "all_results=[]\n",
    "df_subset = df_me2\n",
    "\n",
    "\n",
    "# initialize setup from pycaret.regression\n",
    "s = setup(df_subset, target = 'ME_Conf_Cases', train_size = 0.8,\n",
    "            data_split_shuffle = True, fold = 3,\n",
    "            ignore_features = ['date', 'ME_PRCP(mm)'],\n",
    "            numeric_features = ['day_of_year', 'Year', 'ME_Avg_Temp(F)'],\n",
    "            categorical_features = ['Month', 'day_of_week'],\n",
    "            silent = True, verbose = False, session_id = 123,\n",
    "            normalize=True)\n",
    "    \n",
    "# compare all models and select best one based on MAE\n",
    "best_model = compare_models(sort = 'MAE', verbose=False)\n",
    "    \n",
    "# capture the compare result grid and store best model in list\n",
    "p = pull().iloc[0:1]\n",
    "p['time_series'] = str(\"ME\")\n",
    "all_results.append(p)\n",
    "    \n",
    "# finalize model i.e. fit on entire data including test set\n",
    "f = finalize_model(best_model)\n",
    "best_model"
   ]
  },
  {
   "cell_type": "code",
   "execution_count": null,
   "id": "edb99c56",
   "metadata": {},
   "outputs": [],
   "source": [
    "concat_results = pd.concat([pd.concat(all_results, axis=0), concat_results], axis=0)\n",
    "concat_results"
   ]
  },
  {
   "cell_type": "code",
   "execution_count": null,
   "id": "246234c0",
   "metadata": {},
   "outputs": [],
   "source": [
    "print(all_results)"
   ]
  },
  {
   "cell_type": "code",
   "execution_count": null,
   "id": "7fb05ed7",
   "metadata": {},
   "outputs": [],
   "source": [
    "print(concat_results)"
   ]
  },
  {
   "cell_type": "code",
   "execution_count": null,
   "id": "5665d981",
   "metadata": {},
   "outputs": [],
   "source": [
    "pd.concat([pd.DataFrame(all_results), concat_results], axis=0)"
   ]
  },
  {
   "cell_type": "code",
   "execution_count": null,
   "id": "e87ea306",
   "metadata": {},
   "outputs": [],
   "source": [
    "type(all_results)"
   ]
  },
  {
   "cell_type": "code",
   "execution_count": null,
   "id": "f57e3a31",
   "metadata": {},
   "outputs": [],
   "source": [
    "results_df = pd.concat(all_results, axis=0)"
   ]
  },
  {
   "cell_type": "code",
   "execution_count": null,
   "id": "a5047799",
   "metadata": {},
   "outputs": [],
   "source": [
    "results_df.head()"
   ]
  },
  {
   "cell_type": "code",
   "execution_count": null,
   "id": "f13ac4a8",
   "metadata": {},
   "outputs": [],
   "source": [
    "concat_results = pd.concat([results_df, results_df], axis=0)"
   ]
  },
  {
   "cell_type": "code",
   "execution_count": null,
   "id": "78d502ac",
   "metadata": {},
   "outputs": [],
   "source": [
    "concat_"
   ]
  },
  {
   "cell_type": "markdown",
   "id": "c5da9bc6",
   "metadata": {},
   "source": [
    "#### Analyzing time series data checklist:\n",
    "$\\times$ 1) Convert index to datetime object \\\n",
    "$\\times$ 2) Plot the data \\\n",
    "$\\times$ 3) Run Augmented Dickey Fuller Test to see whether the data is a random walk \\\n",
    "$\\times$ 4) Take first differences of the data to transform it into a stationary series \\\n",
    "5) Compute ACF (Autocorrelation Function) and PACF (Partial Autocorrelation Funcion) \\\n",
    "6) Using that as a guide, fit a few AR, MA, and ARMA models to the data \\\n",
    "7) Use information criterion to choose the best model \\\n",
    "8) Forecast "
   ]
  },
  {
   "cell_type": "markdown",
   "id": "c4080db0",
   "metadata": {},
   "source": [
    "can you please try XGBOOST\n",
    "\n",
    "for this dataset\n",
    "\n",
    "separately\n",
    "\n",
    "and not use pycaret\n",
    "\n",
    "\n",
    "Raghunandan, 11:10 PM\n",
    "one last observation, please combine data from all 4 states and use pycaret and let me know the results\n",
    "\n",
    "Good night!!"
   ]
  },
  {
   "cell_type": "markdown",
   "id": "95a9201e",
   "metadata": {},
   "source": [
    "***\n",
    "***\n",
    "***"
   ]
  },
  {
   "cell_type": "markdown",
   "id": "046f8a5b",
   "metadata": {},
   "source": [
    "# CORRECT CODE"
   ]
  },
  {
   "cell_type": "code",
   "execution_count": null,
   "id": "1cc16aba",
   "metadata": {},
   "outputs": [],
   "source": [
    "df_me2 = df_ma"
   ]
  },
  {
   "cell_type": "code",
   "execution_count": null,
   "id": "ba1f2e3c",
   "metadata": {},
   "outputs": [],
   "source": [
    "df_me2.reset_index(inplace=True)"
   ]
  },
  {
   "cell_type": "code",
   "execution_count": null,
   "id": "5907e883",
   "metadata": {},
   "outputs": [],
   "source": [
    "df_me2.head()"
   ]
  },
  {
   "cell_type": "code",
   "execution_count": null,
   "id": "c04e9254",
   "metadata": {},
   "outputs": [],
   "source": [
    "df_me2.dtypes"
   ]
  },
  {
   "cell_type": "code",
   "execution_count": null,
   "id": "a73bf76c",
   "metadata": {},
   "outputs": [],
   "source": [
    "# create a sequence of numbers\n",
    "df_me2['Series'] = np.arange(1,len(df_me2)+1)\n",
    "# extract day, month, and year from dates\n",
    "df_me2['Year'] =[i.year for i in df_me2['date']]\n",
    "df_me2['Month'] = [i.month for i in df_me2['date']]\n",
    "df_me2['Day'] = [i.day for i in df_me2['date']]\n",
    "# drop unnecessary columns and re-arrange\n",
    "#df_me2.drop(['date'], axis=1, inplace=True)\n",
    "df_me2 = df_me2[['date', 'Series', 'Year', 'Month', 'Day', 'MA_Avg_Temp(F)', 'MA_PRCP(mm)', 'MA_Conf_Cases']]"
   ]
  },
  {
   "cell_type": "code",
   "execution_count": null,
   "id": "fe1d0c8a",
   "metadata": {},
   "outputs": [],
   "source": [
    "df_me2.head()"
   ]
  },
  {
   "cell_type": "code",
   "execution_count": null,
   "id": "3db053da",
   "metadata": {},
   "outputs": [],
   "source": [
    "df_me2['day_of_week'] = [i.dayofweek for i in df_me2['date']]\n",
    "df_me2['day_of_year'] = [i.dayofyear for i in df_me2['date']]"
   ]
  },
  {
   "cell_type": "code",
   "execution_count": null,
   "id": "ca2c0984",
   "metadata": {},
   "outputs": [],
   "source": [
    "df_me2.head()"
   ]
  },
  {
   "cell_type": "code",
   "execution_count": null,
   "id": "267cc713",
   "metadata": {},
   "outputs": [],
   "source": [
    "from pycaret.regression import *\n",
    "df_subset = df_me2\n",
    "all_results=[]\n",
    "\n",
    "# initialize setup from pycaret.regression\n",
    "s = setup(df_subset, target = 'MA_Conf_Cases', train_size = 0.8,\n",
    "            data_split_shuffle = True, fold = 3,\n",
    "            ignore_features = ['date', 'Series', 'MA_PRCP(mm)'],\n",
    "            numeric_features = ['day_of_year', 'Year', 'MA_Avg_Temp(F)'],\n",
    "            categorical_features = ['Month', 'day_of_week'],\n",
    "            silent = True, verbose = False, session_id = 123,\n",
    "            normalize=True)\n",
    "    \n",
    "# compare all models and select best one based on MAE\n",
    "best_model = compare_models(sort = 'MAE', verbose=False)\n",
    "    \n",
    "# capture the compare result grid and store best model in list\n",
    "p = pull().iloc[0:1]\n",
    "p['time_series'] = str(\"ME\")\n",
    "all_results.append(p)\n",
    "    \n",
    "# finalize model i.e. fit on entire data including test set\n",
    "f = finalize_model(best_model)\n",
    "best_model"
   ]
  },
  {
   "cell_type": "code",
   "execution_count": null,
   "id": "1be2f0ea",
   "metadata": {},
   "outputs": [],
   "source": [
    "concat_results = pd.concat(all_results,axis=0)\n",
    "concat_results.head()"
   ]
  },
  {
   "cell_type": "code",
   "execution_count": null,
   "id": "b6b9268b",
   "metadata": {},
   "outputs": [],
   "source": []
  },
  {
   "cell_type": "code",
   "execution_count": null,
   "id": "caf595fe",
   "metadata": {},
   "outputs": [],
   "source": []
  },
  {
   "cell_type": "code",
   "execution_count": null,
   "id": "a4162477",
   "metadata": {},
   "outputs": [],
   "source": [
    "from pycaret.regression import *\n",
    "all_results=[]\n",
    "for df in df_list:\n",
    "    county_df = df\n",
    "    s = setup(county_df, target = 'MA_Conf_Cases', train_size = 0.8,\n",
    "            data_split_shuffle = True, fold = 3,\n",
    "            ignore_features = ['date', 'Series', 'MA_PRCP(mm)'],\n",
    "            numeric_features = ['day_of_year', 'Year', 'MA_Avg_Temp(F)'],\n",
    "            categorical_features = ['Month', 'day_of_week'],\n",
    "            silent = True, verbose = False, session_id = 123,\n",
    "            normalize=True)"
   ]
  },
  {
   "cell_type": "code",
   "execution_count": null,
   "id": "d9791c1c",
   "metadata": {},
   "outputs": [],
   "source": []
  },
  {
   "cell_type": "code",
   "execution_count": null,
   "id": "8002e53f",
   "metadata": {},
   "outputs": [],
   "source": []
  },
  {
   "cell_type": "code",
   "execution_count": null,
   "id": "625a31f9",
   "metadata": {},
   "outputs": [],
   "source": []
  }
 ],
 "metadata": {
  "kernelspec": {
   "display_name": "Python 3",
   "language": "python",
   "name": "python3"
  },
  "language_info": {
   "codemirror_mode": {
    "name": "ipython",
    "version": 3
   },
   "file_extension": ".py",
   "mimetype": "text/x-python",
   "name": "python",
   "nbconvert_exporter": "python",
   "pygments_lexer": "ipython3",
   "version": "3.8.8"
  }
 },
 "nbformat": 4,
 "nbformat_minor": 5
}
