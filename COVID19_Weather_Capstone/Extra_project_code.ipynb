{
 "cells": [
  {
   "cell_type": "markdown",
   "id": "357a7466",
   "metadata": {},
   "source": [
    "# Extra project code"
   ]
  },
  {
   "cell_type": "code",
   "execution_count": null,
   "id": "121b02ad",
   "metadata": {},
   "outputs": [],
   "source": [
    "# split data into train-test set\n",
    "#train_me = df_me2[(df_me2['Year'] < 2021) | ((df_me2['Year']==2021) & (df_me2['Month']<=7))]\n",
    "#test_me = df_me2[(df_me2['Year']==2021) & (df_me2['Month']>7)]"
   ]
  },
  {
   "cell_type": "code",
   "execution_count": null,
   "id": "f786abd5",
   "metadata": {},
   "outputs": [],
   "source": [
    "#train_me.tail()"
   ]
  },
  {
   "cell_type": "code",
   "execution_count": null,
   "id": "b347ab4b",
   "metadata": {},
   "outputs": [],
   "source": [
    "# import the regression module\n",
    "#from pycaret.regression import *\n",
    "# initialize setup\n",
    "#s = setup(data = train_me, test_data = test_me, target = 'MA_Conf_Cases', fold_strategy = 'timeseries', numeric_features = ['Month', 'Year', 'Series'], fold = 3, transform_target = True, session_id = 123)"
   ]
  },
  {
   "cell_type": "code",
   "execution_count": null,
   "id": "0701682b",
   "metadata": {},
   "outputs": [],
   "source": [
    "#best = compare_models(sort = 'MAE')"
   ]
  },
  {
   "cell_type": "code",
   "execution_count": null,
   "id": "d0f371e4",
   "metadata": {},
   "outputs": [],
   "source": [
    "# split data into train-test set\n",
    "train_ma = df_ma[df_ma.index < '2021-06-01']\n",
    "test_ma = df_ma[df_ma.index >= '2021-06-01']\n",
    "# check shape\n",
    "train_ma.shape, test_ma.shape"
   ]
  },
  {
   "cell_type": "code",
   "execution_count": null,
   "id": "39a2e4b5",
   "metadata": {},
   "outputs": [],
   "source": [
    "# initialize setup\n",
    "s = setup(data = train_ma, test_data = test_ma, target = 'MA_Conf_Cases', fold_strategy = 'timeseries', numeric_features = ['Year', 'Series'], fold = 3, transform_target = True, session_id = 123)"
   ]
  },
  {
   "cell_type": "code",
   "execution_count": null,
   "id": "2d976eaf",
   "metadata": {},
   "outputs": [],
   "source": [
    "# initialize setup\n",
    "s = setup(data = train_ma, test_data = test_ma, target = 'MA_Conf_Cases', fold_strategy = 'timeseries', numeric_features = ['Year', 'Series'], fold = 3, transform_target = True, session_id = 123)"
   ]
  },
  {
   "cell_type": "code",
   "execution_count": null,
   "id": "3c5461d6",
   "metadata": {},
   "outputs": [],
   "source": [
    "# import the regression module\n",
    "from pycaret.regression import *\n",
    "# initialize setup\n",
    "s = setup(data = train_ma, test_data = test_ma, target = 'MA_Conf_Cases', fold_strategy = 'timeseries', numeric_features = df_ma.index, fold = 3, transform_target = True, session_id = 123)\n",
    "\n"
   ]
  },
  {
   "cell_type": "code",
   "execution_count": null,
   "id": "35a3c441",
   "metadata": {},
   "outputs": [],
   "source": [
    "ADF test for confirmation\n",
    "(test from second row on, as .diff() creates a NaN in the first row):"
   ]
  },
  {
   "cell_type": "code",
   "execution_count": null,
   "id": "e43f159e",
   "metadata": {},
   "outputs": [],
   "source": [
    "adfuller(df_vt['VT_Conf_Cases_stationary']['2020-01-23':])"
   ]
  },
  {
   "cell_type": "code",
   "execution_count": null,
   "id": "e9f58b4d",
   "metadata": {},
   "outputs": [],
   "source": [
    "##################\n",
    "# extract day, month, and year from dates\n",
    "df_me2['Year'] =[i.year for i in df_me2['date']]\n",
    "df_me2['Month'] = [i.month for i in df_me2['date']]\n",
    "df_me2['Day'] = [i.day for i in df_me2['date']]\n",
    "# drop unnecessary columns and re-arrange\n",
    "#df_me2.drop(['date'], axis=1, inplace=True)\n",
    "df_me2 = df_me2[['date', 'Series', 'Year', 'Month', 'Day', 'MA_Avg_Temp(F)', 'MA_PRCP(mm)', 'MA_Conf_Cases']]"
   ]
  },
  {
   "cell_type": "code",
   "execution_count": null,
   "id": "15875509",
   "metadata": {},
   "outputs": [],
   "source": [
    "#df_vt2 = df_vt2[['date', 'Year', 'Month', 'Day', 'day_of_week', 'day_of_year', 'VT_Avg_Temp(F)', 'VT_PRCP(mm)', 'VT_Conf_Cases']]\n",
    "#df_ct2 = df_ct2[['date', 'Year', 'Month', 'Day', 'day_of_week', 'day_of_year', 'CT_Avg_Temp(F)', 'CT_PRCP(mm)', 'CT_Conf_Cases']]\n",
    "#df_me2 = df_me2[['date', 'Year', 'Month', 'Day', 'day_of_week', 'day_of_year', 'ME_Avg_Temp(F)', 'ME_PRCP(mm)', 'ME_Conf_Cases']]\n",
    "#df_ma2 = df_ma2[['date', 'Year', 'Month', 'Day', 'day_of_week', 'day_of_year', 'MA_Avg_Temp(F)', 'MA_PRCP(mm)', 'MA_Conf_Cases']]"
   ]
  },
  {
   "cell_type": "code",
   "execution_count": null,
   "id": "06a0fa4a",
   "metadata": {},
   "outputs": [],
   "source": [
    "df_vt3 = df_vt.reset_index()\n",
    "df_ct3 = df_ct.reset_index()\n",
    "df_me3 = df_me.reset_index()\n",
    "df_ma3 = df_ma.reset_index()"
   ]
  },
  {
   "cell_type": "code",
   "execution_count": null,
   "id": "c87bcdff",
   "metadata": {},
   "outputs": [],
   "source": [
    "from pycaret.regression import *\n",
    "df_subset = df_me2\n",
    "all_results=[]\n",
    "\n",
    "# initialize setup from pycaret.regression\n",
    "s = setup(df_subset, target = 'MA_Conf_Cases', train_size = 0.8,\n",
    "            data_split_shuffle = True, fold = 3,\n",
    "            ignore_features = ['date', 'Series', 'MA_PRCP(mm)'],\n",
    "            numeric_features = ['day_of_year', 'Year', 'MA_Avg_Temp(F)'],\n",
    "            categorical_features = ['Month', 'day_of_week'],\n",
    "            silent = True, verbose = False, session_id = 123,\n",
    "            normalize=True)\n",
    "    \n",
    "# compare all models and select best one based on MAE\n",
    "best_model = compare_models(sort = 'MAE', verbose=False)\n",
    "    \n",
    "# capture the compare result grid and store best model in list\n",
    "p = pull().iloc[0:1]\n",
    "p['time_series'] = str(\"ME\")\n",
    "all_results.append(p)\n",
    "    \n",
    "# finalize model i.e. fit on entire data including test set\n",
    "f = finalize_model(best_model)\n",
    "best_model"
   ]
  },
  {
   "cell_type": "code",
   "execution_count": null,
   "id": "bdc8d18e",
   "metadata": {},
   "outputs": [],
   "source": []
  },
  {
   "cell_type": "code",
   "execution_count": null,
   "id": "7bdc3433",
   "metadata": {},
   "outputs": [],
   "source": []
  },
  {
   "cell_type": "code",
   "execution_count": null,
   "id": "c5acf793",
   "metadata": {},
   "outputs": [],
   "source": []
  },
  {
   "cell_type": "code",
   "execution_count": null,
   "id": "a672fe8b",
   "metadata": {},
   "outputs": [],
   "source": []
  },
  {
   "cell_type": "code",
   "execution_count": null,
   "id": "44517936",
   "metadata": {},
   "outputs": [],
   "source": []
  },
  {
   "cell_type": "code",
   "execution_count": null,
   "id": "fc42f9ff",
   "metadata": {},
   "outputs": [],
   "source": []
  },
  {
   "cell_type": "markdown",
   "id": "1b4b2230",
   "metadata": {},
   "source": [
    "***\n",
    "***\n",
    "***"
   ]
  },
  {
   "cell_type": "markdown",
   "id": "ed28bd7c",
   "metadata": {},
   "source": [
    "# CORRECT CODE"
   ]
  },
  {
   "cell_type": "code",
   "execution_count": null,
   "id": "ff18716d",
   "metadata": {},
   "outputs": [],
   "source": [
    "df_me2 = df_ma"
   ]
  },
  {
   "cell_type": "code",
   "execution_count": null,
   "id": "171b0017",
   "metadata": {},
   "outputs": [],
   "source": [
    "df_me2.reset_index(inplace=True)"
   ]
  },
  {
   "cell_type": "code",
   "execution_count": null,
   "id": "dc3757af",
   "metadata": {},
   "outputs": [],
   "source": [
    "df_me2.head()"
   ]
  },
  {
   "cell_type": "code",
   "execution_count": null,
   "id": "a750d778",
   "metadata": {},
   "outputs": [],
   "source": [
    "df_me2.dtypes"
   ]
  },
  {
   "cell_type": "code",
   "execution_count": null,
   "id": "b21f36ce",
   "metadata": {},
   "outputs": [],
   "source": [
    "# create a sequence of numbers\n",
    "df_me2['Series'] = np.arange(1,len(df_me2)+1)\n",
    "# extract day, month, and year from dates\n",
    "df_me2['Year'] =[i.year for i in df_me2['date']]\n",
    "df_me2['Month'] = [i.month for i in df_me2['date']]\n",
    "df_me2['Day'] = [i.day for i in df_me2['date']]\n",
    "# drop unnecessary columns and re-arrange\n",
    "#df_me2.drop(['date'], axis=1, inplace=True)\n",
    "df_me2 = df_me2[['date', 'Series', 'Year', 'Month', 'Day', 'MA_Avg_Temp(F)', 'MA_PRCP(mm)', 'MA_Conf_Cases']]"
   ]
  },
  {
   "cell_type": "code",
   "execution_count": null,
   "id": "6ef9f88b",
   "metadata": {},
   "outputs": [],
   "source": [
    "df_me2.head()"
   ]
  },
  {
   "cell_type": "code",
   "execution_count": null,
   "id": "4a2c3e4d",
   "metadata": {},
   "outputs": [],
   "source": [
    "df_me2['day_of_week'] = [i.dayofweek for i in df_me2['date']]\n",
    "df_me2['day_of_year'] = [i.dayofyear for i in df_me2['date']]"
   ]
  },
  {
   "cell_type": "code",
   "execution_count": null,
   "id": "9af39583",
   "metadata": {},
   "outputs": [],
   "source": [
    "df_me2.head()"
   ]
  },
  {
   "cell_type": "code",
   "execution_count": null,
   "id": "90bb0f88",
   "metadata": {},
   "outputs": [],
   "source": [
    "from pycaret.regression import *\n",
    "df_subset = df_me2\n",
    "all_results=[]\n",
    "\n",
    "# initialize setup from pycaret.regression\n",
    "s = setup(df_subset, target = 'MA_Conf_Cases', train_size = 0.8,\n",
    "            data_split_shuffle = True, fold = 3,\n",
    "            ignore_features = ['date', 'Series', 'MA_PRCP(mm)'],\n",
    "            numeric_features = ['day_of_year', 'Year', 'MA_Avg_Temp(F)'],\n",
    "            categorical_features = ['Month', 'day_of_week'],\n",
    "            silent = True, verbose = False, session_id = 123,\n",
    "            normalize=True)\n",
    "    \n",
    "# compare all models and select best one based on MAE\n",
    "best_model = compare_models(sort = 'MAE', verbose=False)\n",
    "    \n",
    "# capture the compare result grid and store best model in list\n",
    "p = pull().iloc[0:1]\n",
    "p['time_series'] = str(\"ME\")\n",
    "all_results.append(p)\n",
    "    \n",
    "# finalize model i.e. fit on entire data including test set\n",
    "f = finalize_model(best_model)\n",
    "best_model"
   ]
  },
  {
   "cell_type": "code",
   "execution_count": null,
   "id": "af449498",
   "metadata": {},
   "outputs": [],
   "source": [
    "concat_results = pd.concat(all_results,axis=0)\n",
    "concat_results.head()"
   ]
  },
  {
   "cell_type": "code",
   "execution_count": null,
   "id": "b43f6bcd",
   "metadata": {},
   "outputs": [],
   "source": []
  },
  {
   "cell_type": "code",
   "execution_count": null,
   "id": "f0b36eec",
   "metadata": {},
   "outputs": [],
   "source": []
  },
  {
   "cell_type": "code",
   "execution_count": null,
   "id": "69240a28",
   "metadata": {},
   "outputs": [],
   "source": [
    "from pycaret.regression import *\n",
    "all_results=[]\n",
    "for df in df_list:\n",
    "    county_df = df\n",
    "    s = setup(county_df, target = 'MA_Conf_Cases', train_size = 0.8,\n",
    "            data_split_shuffle = True, fold = 3,\n",
    "            ignore_features = ['date', 'Series', 'MA_PRCP(mm)'],\n",
    "            numeric_features = ['day_of_year', 'Year', 'MA_Avg_Temp(F)'],\n",
    "            categorical_features = ['Month', 'day_of_week'],\n",
    "            silent = True, verbose = False, session_id = 123,\n",
    "            normalize=True)"
   ]
  },
  {
   "cell_type": "code",
   "execution_count": null,
   "id": "def393ec",
   "metadata": {},
   "outputs": [],
   "source": []
  },
  {
   "cell_type": "code",
   "execution_count": null,
   "id": "e0b5995e",
   "metadata": {},
   "outputs": [],
   "source": []
  },
  {
   "cell_type": "code",
   "execution_count": null,
   "id": "7092f95c",
   "metadata": {},
   "outputs": [],
   "source": []
  }
 ],
 "metadata": {
  "kernelspec": {
   "display_name": "Python 3",
   "language": "python",
   "name": "python3"
  },
  "language_info": {
   "codemirror_mode": {
    "name": "ipython",
    "version": 3
   },
   "file_extension": ".py",
   "mimetype": "text/x-python",
   "name": "python",
   "nbconvert_exporter": "python",
   "pygments_lexer": "ipython3",
   "version": "3.8.8"
  }
 },
 "nbformat": 4,
 "nbformat_minor": 5
}
