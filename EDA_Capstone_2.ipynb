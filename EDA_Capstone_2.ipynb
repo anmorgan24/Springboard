{
 "cells": [
  {
   "cell_type": "markdown",
   "id": "6bdb2b8d",
   "metadata": {},
   "source": [
    "# Exploratory Data Analysis"
   ]
  },
  {
   "cell_type": "code",
   "execution_count": 2,
   "id": "e5683f1b",
   "metadata": {},
   "outputs": [],
   "source": [
    "import pandas as pd\n",
    "import numpy as np \n",
    "import json\n",
    "import requests\n",
    "import datetime\n",
    "import matplotlib.pyplot as plt\n",
    "import seaborn as sns\n",
    "import ppscore\n",
    "from scipy import stats"
   ]
  },
  {
   "cell_type": "code",
   "execution_count": 3,
   "id": "7ab50b97",
   "metadata": {},
   "outputs": [],
   "source": [
    "#load dataframe created in data wrangling phase\n",
    "#parse datetime column\n",
    "df= pd.read_csv('cleaned_cov_weather3.csv', parse_dates=[0])"
   ]
  },
  {
   "cell_type": "code",
   "execution_count": 4,
   "id": "23dd53ca",
   "metadata": {},
   "outputs": [
    {
     "data": {
      "text/html": [
       "<div>\n",
       "<style scoped>\n",
       "    .dataframe tbody tr th:only-of-type {\n",
       "        vertical-align: middle;\n",
       "    }\n",
       "\n",
       "    .dataframe tbody tr th {\n",
       "        vertical-align: top;\n",
       "    }\n",
       "\n",
       "    .dataframe thead th {\n",
       "        text-align: right;\n",
       "    }\n",
       "</style>\n",
       "<table border=\"1\" class=\"dataframe\">\n",
       "  <thead>\n",
       "    <tr style=\"text-align: right;\">\n",
       "      <th></th>\n",
       "      <th>date</th>\n",
       "      <th>vt_avg_temp</th>\n",
       "      <th>vt_prcp</th>\n",
       "      <th>me_avg_temp</th>\n",
       "      <th>me_prcp</th>\n",
       "      <th>ct_avg_temp</th>\n",
       "      <th>ct_prcp</th>\n",
       "      <th>ma_avg_temp</th>\n",
       "      <th>ma_prcp</th>\n",
       "      <th>CT_conf_cases</th>\n",
       "      <th>ME_conf_cases</th>\n",
       "      <th>MA_conf_cases</th>\n",
       "      <th>VT_conf_cases</th>\n",
       "    </tr>\n",
       "  </thead>\n",
       "  <tbody>\n",
       "    <tr>\n",
       "      <th>0</th>\n",
       "      <td>2020-01-22</td>\n",
       "      <td>-28</td>\n",
       "      <td>0</td>\n",
       "      <td>-72.0</td>\n",
       "      <td>0.0</td>\n",
       "      <td>-76.0</td>\n",
       "      <td>0.0</td>\n",
       "      <td>-53.0</td>\n",
       "      <td>0.0</td>\n",
       "      <td>0</td>\n",
       "      <td>0</td>\n",
       "      <td>0</td>\n",
       "      <td>0</td>\n",
       "    </tr>\n",
       "    <tr>\n",
       "      <th>1</th>\n",
       "      <td>2020-01-23</td>\n",
       "      <td>-27</td>\n",
       "      <td>0</td>\n",
       "      <td>-30.0</td>\n",
       "      <td>3.0</td>\n",
       "      <td>-46.0</td>\n",
       "      <td>0.0</td>\n",
       "      <td>0.0</td>\n",
       "      <td>0.0</td>\n",
       "      <td>0</td>\n",
       "      <td>0</td>\n",
       "      <td>0</td>\n",
       "      <td>0</td>\n",
       "    </tr>\n",
       "    <tr>\n",
       "      <th>2</th>\n",
       "      <td>2020-01-24</td>\n",
       "      <td>-8</td>\n",
       "      <td>0</td>\n",
       "      <td>-14.0</td>\n",
       "      <td>0.0</td>\n",
       "      <td>6.0</td>\n",
       "      <td>0.0</td>\n",
       "      <td>19.0</td>\n",
       "      <td>0.0</td>\n",
       "      <td>0</td>\n",
       "      <td>0</td>\n",
       "      <td>0</td>\n",
       "      <td>0</td>\n",
       "    </tr>\n",
       "    <tr>\n",
       "      <th>3</th>\n",
       "      <td>2020-01-25</td>\n",
       "      <td>3</td>\n",
       "      <td>119</td>\n",
       "      <td>-30.0</td>\n",
       "      <td>3.0</td>\n",
       "      <td>23.0</td>\n",
       "      <td>218.0</td>\n",
       "      <td>33.0</td>\n",
       "      <td>25.0</td>\n",
       "      <td>0</td>\n",
       "      <td>0</td>\n",
       "      <td>0</td>\n",
       "      <td>0</td>\n",
       "    </tr>\n",
       "    <tr>\n",
       "      <th>4</th>\n",
       "      <td>2020-01-26</td>\n",
       "      <td>22</td>\n",
       "      <td>23</td>\n",
       "      <td>11.0</td>\n",
       "      <td>132.0</td>\n",
       "      <td>49.0</td>\n",
       "      <td>0.0</td>\n",
       "      <td>64.0</td>\n",
       "      <td>193.0</td>\n",
       "      <td>0</td>\n",
       "      <td>0</td>\n",
       "      <td>0</td>\n",
       "      <td>0</td>\n",
       "    </tr>\n",
       "  </tbody>\n",
       "</table>\n",
       "</div>"
      ],
      "text/plain": [
       "        date  vt_avg_temp  vt_prcp  me_avg_temp  me_prcp  ct_avg_temp  \\\n",
       "0 2020-01-22          -28        0        -72.0      0.0        -76.0   \n",
       "1 2020-01-23          -27        0        -30.0      3.0        -46.0   \n",
       "2 2020-01-24           -8        0        -14.0      0.0          6.0   \n",
       "3 2020-01-25            3      119        -30.0      3.0         23.0   \n",
       "4 2020-01-26           22       23         11.0    132.0         49.0   \n",
       "\n",
       "   ct_prcp  ma_avg_temp  ma_prcp  CT_conf_cases  ME_conf_cases  MA_conf_cases  \\\n",
       "0      0.0        -53.0      0.0              0              0              0   \n",
       "1      0.0          0.0      0.0              0              0              0   \n",
       "2      0.0         19.0      0.0              0              0              0   \n",
       "3    218.0         33.0     25.0              0              0              0   \n",
       "4      0.0         64.0    193.0              0              0              0   \n",
       "\n",
       "   VT_conf_cases  \n",
       "0              0  \n",
       "1              0  \n",
       "2              0  \n",
       "3              0  \n",
       "4              0  "
      ]
     },
     "execution_count": 4,
     "metadata": {},
     "output_type": "execute_result"
    }
   ],
   "source": [
    "df.head()"
   ]
  },
  {
   "cell_type": "code",
   "execution_count": 5,
   "id": "437397b5",
   "metadata": {
    "scrolled": true
   },
   "outputs": [
    {
     "data": {
      "text/plain": [
       "date             datetime64[ns]\n",
       "vt_avg_temp               int64\n",
       "vt_prcp                   int64\n",
       "me_avg_temp             float64\n",
       "me_prcp                 float64\n",
       "ct_avg_temp             float64\n",
       "ct_prcp                 float64\n",
       "ma_avg_temp             float64\n",
       "ma_prcp                 float64\n",
       "CT_conf_cases             int64\n",
       "ME_conf_cases             int64\n",
       "MA_conf_cases             int64\n",
       "VT_conf_cases             int64\n",
       "dtype: object"
      ]
     },
     "execution_count": 5,
     "metadata": {},
     "output_type": "execute_result"
    }
   ],
   "source": [
    "#double check data types\n",
    "df.dtypes"
   ]
  },
  {
   "cell_type": "code",
   "execution_count": 6,
   "id": "8454a75e",
   "metadata": {},
   "outputs": [],
   "source": [
    "#Convert int columns to float in preparation for calculations:\n",
    "int_columns= {\"CT_conf_cases\": 'float', \"ME_conf_cases\": 'float', \"MA_conf_cases\":\"float\", \"VT_conf_cases\":'float', \"vt_avg_temp\":'float', \"vt_prcp\":'float'}\n",
    "df = df.astype(int_columns)"
   ]
  },
  {
   "cell_type": "code",
   "execution_count": 7,
   "id": "8cb017ed",
   "metadata": {},
   "outputs": [
    {
     "data": {
      "text/plain": [
       "date             datetime64[ns]\n",
       "vt_avg_temp             float64\n",
       "vt_prcp                 float64\n",
       "me_avg_temp             float64\n",
       "me_prcp                 float64\n",
       "ct_avg_temp             float64\n",
       "ct_prcp                 float64\n",
       "ma_avg_temp             float64\n",
       "ma_prcp                 float64\n",
       "CT_conf_cases           float64\n",
       "ME_conf_cases           float64\n",
       "MA_conf_cases           float64\n",
       "VT_conf_cases           float64\n",
       "dtype: object"
      ]
     },
     "execution_count": 7,
     "metadata": {},
     "output_type": "execute_result"
    }
   ],
   "source": [
    "df.dtypes"
   ]
  },
  {
   "cell_type": "code",
   "execution_count": 8,
   "id": "c669aa3e",
   "metadata": {
    "scrolled": true
   },
   "outputs": [
    {
     "data": {
      "text/html": [
       "<div>\n",
       "<style scoped>\n",
       "    .dataframe tbody tr th:only-of-type {\n",
       "        vertical-align: middle;\n",
       "    }\n",
       "\n",
       "    .dataframe tbody tr th {\n",
       "        vertical-align: top;\n",
       "    }\n",
       "\n",
       "    .dataframe thead th {\n",
       "        text-align: right;\n",
       "    }\n",
       "</style>\n",
       "<table border=\"1\" class=\"dataframe\">\n",
       "  <thead>\n",
       "    <tr style=\"text-align: right;\">\n",
       "      <th></th>\n",
       "      <th>date</th>\n",
       "      <th>vt_avg_temp</th>\n",
       "      <th>vt_prcp</th>\n",
       "      <th>me_avg_temp</th>\n",
       "      <th>me_prcp</th>\n",
       "      <th>ct_avg_temp</th>\n",
       "      <th>ct_prcp</th>\n",
       "      <th>ma_avg_temp</th>\n",
       "      <th>ma_prcp</th>\n",
       "      <th>CT_conf_cases</th>\n",
       "      <th>ME_conf_cases</th>\n",
       "      <th>MA_conf_cases</th>\n",
       "      <th>VT_conf_cases</th>\n",
       "    </tr>\n",
       "  </thead>\n",
       "  <tbody>\n",
       "  </tbody>\n",
       "</table>\n",
       "</div>"
      ],
      "text/plain": [
       "Empty DataFrame\n",
       "Columns: [date, vt_avg_temp, vt_prcp, me_avg_temp, me_prcp, ct_avg_temp, ct_prcp, ma_avg_temp, ma_prcp, CT_conf_cases, ME_conf_cases, MA_conf_cases, VT_conf_cases]\n",
       "Index: []"
      ]
     },
     "execution_count": 8,
     "metadata": {},
     "output_type": "execute_result"
    }
   ],
   "source": [
    "#Any missing values?\n",
    "df[pd.isnull(df).any(axis=1)]"
   ]
  },
  {
   "cell_type": "markdown",
   "id": "3062e9bc",
   "metadata": {},
   "source": [
    "No missing values.\n",
    "\n",
    "However, the units of TAVG and PRCP are clearly off. \n",
    "\n",
    "According to [NOAA documentation](https://www1.ncdc.noaa.gov/pub/data/ghcn/daily/readme.txt), temperatures are reported in __*tenths*__ of a degree Celsius. I'll convert to degrees Fahrenheit instead (since this is US data here)."
   ]
  },
  {
   "cell_type": "code",
   "execution_count": 9,
   "id": "c965432d",
   "metadata": {},
   "outputs": [],
   "source": [
    "# (C*9/50)+32=F (since C is reported here as tenths of degrees)\n",
    "df2=df\n",
    "df2['vt_avg_temp'] = ((df['vt_avg_temp']*9)/50) + 32\n",
    "df2['me_avg_temp'] = ((df['me_avg_temp']*9)/50) + 32\n",
    "df2['ct_avg_temp'] = ((df['ct_avg_temp']*9)/50) + 32\n",
    "df2['ma_avg_temp'] = ((df['ma_avg_temp']*9)/50) + 32"
   ]
  },
  {
   "cell_type": "markdown",
   "id": "a6b0afea",
   "metadata": {},
   "source": [
    "The [same documention](https://www1.ncdc.noaa.gov/pub/data/ghcn/daily/readme.txt) cited above also explains that PRCP data is reported in __*tenths*__ of a mm. [Wikipedia](https://en.wikipedia.org/wiki/Precipitation) reports that generally PRCP data is reported in millimeters, so I'll convert to millimeters instead."
   ]
  },
  {
   "cell_type": "code",
   "execution_count": 10,
   "id": "5a0b5367",
   "metadata": {},
   "outputs": [],
   "source": [
    "df3=df2\n",
    "df3['vt_prcp'] = df2['vt_prcp']/10\n",
    "df3['me_prcp'] = df2['me_prcp']/10\n",
    "df3['ct_prcp'] = df2['ct_prcp']/10\n",
    "df3['ma_prcp'] = df2['ma_prcp']/10"
   ]
  },
  {
   "cell_type": "code",
   "execution_count": 11,
   "id": "216f3475",
   "metadata": {},
   "outputs": [
    {
     "data": {
      "text/html": [
       "<div>\n",
       "<style scoped>\n",
       "    .dataframe tbody tr th:only-of-type {\n",
       "        vertical-align: middle;\n",
       "    }\n",
       "\n",
       "    .dataframe tbody tr th {\n",
       "        vertical-align: top;\n",
       "    }\n",
       "\n",
       "    .dataframe thead th {\n",
       "        text-align: right;\n",
       "    }\n",
       "</style>\n",
       "<table border=\"1\" class=\"dataframe\">\n",
       "  <thead>\n",
       "    <tr style=\"text-align: right;\">\n",
       "      <th></th>\n",
       "      <th>date</th>\n",
       "      <th>vt_avg_temp</th>\n",
       "      <th>vt_prcp</th>\n",
       "      <th>me_avg_temp</th>\n",
       "      <th>me_prcp</th>\n",
       "      <th>ct_avg_temp</th>\n",
       "      <th>ct_prcp</th>\n",
       "      <th>ma_avg_temp</th>\n",
       "      <th>ma_prcp</th>\n",
       "      <th>CT_conf_cases</th>\n",
       "      <th>ME_conf_cases</th>\n",
       "      <th>MA_conf_cases</th>\n",
       "      <th>VT_conf_cases</th>\n",
       "    </tr>\n",
       "  </thead>\n",
       "  <tbody>\n",
       "    <tr>\n",
       "      <th>0</th>\n",
       "      <td>2020-01-22</td>\n",
       "      <td>26.96</td>\n",
       "      <td>0.0</td>\n",
       "      <td>19.04</td>\n",
       "      <td>0.0</td>\n",
       "      <td>18.32</td>\n",
       "      <td>0.0</td>\n",
       "      <td>22.46</td>\n",
       "      <td>0.0</td>\n",
       "      <td>0.0</td>\n",
       "      <td>0.0</td>\n",
       "      <td>0.0</td>\n",
       "      <td>0.0</td>\n",
       "    </tr>\n",
       "    <tr>\n",
       "      <th>1</th>\n",
       "      <td>2020-01-23</td>\n",
       "      <td>27.14</td>\n",
       "      <td>0.0</td>\n",
       "      <td>26.60</td>\n",
       "      <td>0.3</td>\n",
       "      <td>23.72</td>\n",
       "      <td>0.0</td>\n",
       "      <td>32.00</td>\n",
       "      <td>0.0</td>\n",
       "      <td>0.0</td>\n",
       "      <td>0.0</td>\n",
       "      <td>0.0</td>\n",
       "      <td>0.0</td>\n",
       "    </tr>\n",
       "    <tr>\n",
       "      <th>2</th>\n",
       "      <td>2020-01-24</td>\n",
       "      <td>30.56</td>\n",
       "      <td>0.0</td>\n",
       "      <td>29.48</td>\n",
       "      <td>0.0</td>\n",
       "      <td>33.08</td>\n",
       "      <td>0.0</td>\n",
       "      <td>35.42</td>\n",
       "      <td>0.0</td>\n",
       "      <td>0.0</td>\n",
       "      <td>0.0</td>\n",
       "      <td>0.0</td>\n",
       "      <td>0.0</td>\n",
       "    </tr>\n",
       "    <tr>\n",
       "      <th>3</th>\n",
       "      <td>2020-01-25</td>\n",
       "      <td>32.54</td>\n",
       "      <td>11.9</td>\n",
       "      <td>26.60</td>\n",
       "      <td>0.3</td>\n",
       "      <td>36.14</td>\n",
       "      <td>21.8</td>\n",
       "      <td>37.94</td>\n",
       "      <td>2.5</td>\n",
       "      <td>0.0</td>\n",
       "      <td>0.0</td>\n",
       "      <td>0.0</td>\n",
       "      <td>0.0</td>\n",
       "    </tr>\n",
       "    <tr>\n",
       "      <th>4</th>\n",
       "      <td>2020-01-26</td>\n",
       "      <td>35.96</td>\n",
       "      <td>2.3</td>\n",
       "      <td>33.98</td>\n",
       "      <td>13.2</td>\n",
       "      <td>40.82</td>\n",
       "      <td>0.0</td>\n",
       "      <td>43.52</td>\n",
       "      <td>19.3</td>\n",
       "      <td>0.0</td>\n",
       "      <td>0.0</td>\n",
       "      <td>0.0</td>\n",
       "      <td>0.0</td>\n",
       "    </tr>\n",
       "  </tbody>\n",
       "</table>\n",
       "</div>"
      ],
      "text/plain": [
       "        date  vt_avg_temp  vt_prcp  me_avg_temp  me_prcp  ct_avg_temp  \\\n",
       "0 2020-01-22        26.96      0.0        19.04      0.0        18.32   \n",
       "1 2020-01-23        27.14      0.0        26.60      0.3        23.72   \n",
       "2 2020-01-24        30.56      0.0        29.48      0.0        33.08   \n",
       "3 2020-01-25        32.54     11.9        26.60      0.3        36.14   \n",
       "4 2020-01-26        35.96      2.3        33.98     13.2        40.82   \n",
       "\n",
       "   ct_prcp  ma_avg_temp  ma_prcp  CT_conf_cases  ME_conf_cases  MA_conf_cases  \\\n",
       "0      0.0        22.46      0.0            0.0            0.0            0.0   \n",
       "1      0.0        32.00      0.0            0.0            0.0            0.0   \n",
       "2      0.0        35.42      0.0            0.0            0.0            0.0   \n",
       "3     21.8        37.94      2.5            0.0            0.0            0.0   \n",
       "4      0.0        43.52     19.3            0.0            0.0            0.0   \n",
       "\n",
       "   VT_conf_cases  \n",
       "0            0.0  \n",
       "1            0.0  \n",
       "2            0.0  \n",
       "3            0.0  \n",
       "4            0.0  "
      ]
     },
     "execution_count": 11,
     "metadata": {},
     "output_type": "execute_result"
    }
   ],
   "source": [
    "df3.head()"
   ]
  },
  {
   "cell_type": "markdown",
   "id": "72516f9f",
   "metadata": {},
   "source": [
    "For the sake of clarity, I'll update column names to reflect this unit change."
   ]
  },
  {
   "cell_type": "code",
   "execution_count": 12,
   "id": "d1ed36ac",
   "metadata": {},
   "outputs": [
    {
     "data": {
      "text/html": [
       "<div>\n",
       "<style scoped>\n",
       "    .dataframe tbody tr th:only-of-type {\n",
       "        vertical-align: middle;\n",
       "    }\n",
       "\n",
       "    .dataframe tbody tr th {\n",
       "        vertical-align: top;\n",
       "    }\n",
       "\n",
       "    .dataframe thead th {\n",
       "        text-align: right;\n",
       "    }\n",
       "</style>\n",
       "<table border=\"1\" class=\"dataframe\">\n",
       "  <thead>\n",
       "    <tr style=\"text-align: right;\">\n",
       "      <th></th>\n",
       "      <th>date</th>\n",
       "      <th>VT_Avg_Temp(F)</th>\n",
       "      <th>VT_PRCP(mm)</th>\n",
       "      <th>ME_Avg_Temp(F)</th>\n",
       "      <th>ME_PRCP(mm)</th>\n",
       "      <th>CT_Avg_Temp(F)</th>\n",
       "      <th>CT_PRCP(mm)</th>\n",
       "      <th>MA_Avg_Temp(F)</th>\n",
       "      <th>MA_PRCP(mm)</th>\n",
       "      <th>CT_conf_cases</th>\n",
       "      <th>ME_conf_cases</th>\n",
       "      <th>MA_conf_cases</th>\n",
       "      <th>VT_conf_cases</th>\n",
       "    </tr>\n",
       "  </thead>\n",
       "  <tbody>\n",
       "    <tr>\n",
       "      <th>0</th>\n",
       "      <td>2020-01-22</td>\n",
       "      <td>26.96</td>\n",
       "      <td>0.0</td>\n",
       "      <td>19.04</td>\n",
       "      <td>0.0</td>\n",
       "      <td>18.32</td>\n",
       "      <td>0.0</td>\n",
       "      <td>22.46</td>\n",
       "      <td>0.0</td>\n",
       "      <td>0.0</td>\n",
       "      <td>0.0</td>\n",
       "      <td>0.0</td>\n",
       "      <td>0.0</td>\n",
       "    </tr>\n",
       "    <tr>\n",
       "      <th>1</th>\n",
       "      <td>2020-01-23</td>\n",
       "      <td>27.14</td>\n",
       "      <td>0.0</td>\n",
       "      <td>26.60</td>\n",
       "      <td>0.3</td>\n",
       "      <td>23.72</td>\n",
       "      <td>0.0</td>\n",
       "      <td>32.00</td>\n",
       "      <td>0.0</td>\n",
       "      <td>0.0</td>\n",
       "      <td>0.0</td>\n",
       "      <td>0.0</td>\n",
       "      <td>0.0</td>\n",
       "    </tr>\n",
       "    <tr>\n",
       "      <th>2</th>\n",
       "      <td>2020-01-24</td>\n",
       "      <td>30.56</td>\n",
       "      <td>0.0</td>\n",
       "      <td>29.48</td>\n",
       "      <td>0.0</td>\n",
       "      <td>33.08</td>\n",
       "      <td>0.0</td>\n",
       "      <td>35.42</td>\n",
       "      <td>0.0</td>\n",
       "      <td>0.0</td>\n",
       "      <td>0.0</td>\n",
       "      <td>0.0</td>\n",
       "      <td>0.0</td>\n",
       "    </tr>\n",
       "    <tr>\n",
       "      <th>3</th>\n",
       "      <td>2020-01-25</td>\n",
       "      <td>32.54</td>\n",
       "      <td>11.9</td>\n",
       "      <td>26.60</td>\n",
       "      <td>0.3</td>\n",
       "      <td>36.14</td>\n",
       "      <td>21.8</td>\n",
       "      <td>37.94</td>\n",
       "      <td>2.5</td>\n",
       "      <td>0.0</td>\n",
       "      <td>0.0</td>\n",
       "      <td>0.0</td>\n",
       "      <td>0.0</td>\n",
       "    </tr>\n",
       "    <tr>\n",
       "      <th>4</th>\n",
       "      <td>2020-01-26</td>\n",
       "      <td>35.96</td>\n",
       "      <td>2.3</td>\n",
       "      <td>33.98</td>\n",
       "      <td>13.2</td>\n",
       "      <td>40.82</td>\n",
       "      <td>0.0</td>\n",
       "      <td>43.52</td>\n",
       "      <td>19.3</td>\n",
       "      <td>0.0</td>\n",
       "      <td>0.0</td>\n",
       "      <td>0.0</td>\n",
       "      <td>0.0</td>\n",
       "    </tr>\n",
       "  </tbody>\n",
       "</table>\n",
       "</div>"
      ],
      "text/plain": [
       "        date  VT_Avg_Temp(F)  VT_PRCP(mm)  ME_Avg_Temp(F)  ME_PRCP(mm)  \\\n",
       "0 2020-01-22           26.96          0.0           19.04          0.0   \n",
       "1 2020-01-23           27.14          0.0           26.60          0.3   \n",
       "2 2020-01-24           30.56          0.0           29.48          0.0   \n",
       "3 2020-01-25           32.54         11.9           26.60          0.3   \n",
       "4 2020-01-26           35.96          2.3           33.98         13.2   \n",
       "\n",
       "   CT_Avg_Temp(F)  CT_PRCP(mm)  MA_Avg_Temp(F)  MA_PRCP(mm)  CT_conf_cases  \\\n",
       "0           18.32          0.0           22.46          0.0            0.0   \n",
       "1           23.72          0.0           32.00          0.0            0.0   \n",
       "2           33.08          0.0           35.42          0.0            0.0   \n",
       "3           36.14         21.8           37.94          2.5            0.0   \n",
       "4           40.82          0.0           43.52         19.3            0.0   \n",
       "\n",
       "   ME_conf_cases  MA_conf_cases  VT_conf_cases  \n",
       "0            0.0            0.0            0.0  \n",
       "1            0.0            0.0            0.0  \n",
       "2            0.0            0.0            0.0  \n",
       "3            0.0            0.0            0.0  \n",
       "4            0.0            0.0            0.0  "
      ]
     },
     "execution_count": 12,
     "metadata": {},
     "output_type": "execute_result"
    }
   ],
   "source": [
    "#Update column names to reflect new units:\n",
    "units_dict= {'vt_avg_temp': 'VT_Avg_Temp(F)', 'vt_prcp': 'VT_PRCP(mm)', 'me_avg_temp':'ME_Avg_Temp(F)', 'me_prcp': 'ME_PRCP(mm)', 'ct_avg_temp': 'CT_Avg_Temp(F)', 'ct_prcp':'CT_PRCP(mm)', 'ma_avg_temp': 'MA_Avg_Temp(F)', 'ma_prcp':'MA_PRCP(mm)'}\n",
    "df3.rename(columns=units_dict, inplace=True)\n",
    "df3.head()"
   ]
  },
  {
   "cell_type": "code",
   "execution_count": 13,
   "id": "2f385308",
   "metadata": {},
   "outputs": [
    {
     "name": "stdout",
     "output_type": "stream",
     "text": [
      "Beginning date:  2020-01-22 00:00:00\n",
      "End date:  2021-09-12 00:00:00\n",
      "Total timespan:  599 days 00:00:00\n"
     ]
    }
   ],
   "source": [
    "#Examine timespan of data:\n",
    "print('Beginning date: ',min(df3['date']))\n",
    "print('End date: ', max(df3['date']))\n",
    "print('Total timespan: ', max(df3['date']-min(df3['date'])))"
   ]
  },
  {
   "cell_type": "code",
   "execution_count": 14,
   "id": "22587bb9",
   "metadata": {},
   "outputs": [],
   "source": [
    "# Make copy of df \n",
    "df4=df3"
   ]
  },
  {
   "cell_type": "code",
   "execution_count": 15,
   "id": "9252b4f1",
   "metadata": {},
   "outputs": [],
   "source": [
    "# Make column of non-cumulative counts of confirmed cases for each state:\n",
    "df4[\"CT_Conf_Cases\"] = df4['CT_conf_cases'].diff().fillna(0)\n",
    "df4[\"VT_Conf_Cases\"] = df4['VT_conf_cases'].diff().fillna(0)\n",
    "df4[\"ME_Conf_Cases\"] = df4['ME_conf_cases'].diff().fillna(0)\n",
    "df4[\"MA_Conf_Cases\"] = df4['MA_conf_cases'].diff().fillna(0)"
   ]
  },
  {
   "cell_type": "code",
   "execution_count": 16,
   "id": "7f7a12b1",
   "metadata": {},
   "outputs": [],
   "source": [
    "#Drop cumulative confirmed case columns:\n",
    "df5 = df4.drop(columns=['CT_conf_cases', 'VT_conf_cases', 'ME_conf_cases', 'MA_conf_cases'])"
   ]
  },
  {
   "cell_type": "code",
   "execution_count": 17,
   "id": "02baa586",
   "metadata": {
    "scrolled": true
   },
   "outputs": [
    {
     "data": {
      "text/html": [
       "<div>\n",
       "<style scoped>\n",
       "    .dataframe tbody tr th:only-of-type {\n",
       "        vertical-align: middle;\n",
       "    }\n",
       "\n",
       "    .dataframe tbody tr th {\n",
       "        vertical-align: top;\n",
       "    }\n",
       "\n",
       "    .dataframe thead th {\n",
       "        text-align: right;\n",
       "    }\n",
       "</style>\n",
       "<table border=\"1\" class=\"dataframe\">\n",
       "  <thead>\n",
       "    <tr style=\"text-align: right;\">\n",
       "      <th></th>\n",
       "      <th>VT_Avg_Temp(F)</th>\n",
       "      <th>VT_PRCP(mm)</th>\n",
       "      <th>ME_Avg_Temp(F)</th>\n",
       "      <th>ME_PRCP(mm)</th>\n",
       "      <th>CT_Avg_Temp(F)</th>\n",
       "      <th>CT_PRCP(mm)</th>\n",
       "      <th>MA_Avg_Temp(F)</th>\n",
       "      <th>MA_PRCP(mm)</th>\n",
       "      <th>CT_Conf_Cases</th>\n",
       "      <th>VT_Conf_Cases</th>\n",
       "      <th>ME_Conf_Cases</th>\n",
       "      <th>MA_Conf_Cases</th>\n",
       "    </tr>\n",
       "    <tr>\n",
       "      <th>date</th>\n",
       "      <th></th>\n",
       "      <th></th>\n",
       "      <th></th>\n",
       "      <th></th>\n",
       "      <th></th>\n",
       "      <th></th>\n",
       "      <th></th>\n",
       "      <th></th>\n",
       "      <th></th>\n",
       "      <th></th>\n",
       "      <th></th>\n",
       "      <th></th>\n",
       "    </tr>\n",
       "  </thead>\n",
       "  <tbody>\n",
       "    <tr>\n",
       "      <th>2020-01-22</th>\n",
       "      <td>26.96</td>\n",
       "      <td>0.0</td>\n",
       "      <td>19.04</td>\n",
       "      <td>0.0</td>\n",
       "      <td>18.32</td>\n",
       "      <td>0.0</td>\n",
       "      <td>22.46</td>\n",
       "      <td>0.0</td>\n",
       "      <td>0.0</td>\n",
       "      <td>0.0</td>\n",
       "      <td>0.0</td>\n",
       "      <td>0.0</td>\n",
       "    </tr>\n",
       "    <tr>\n",
       "      <th>2020-01-23</th>\n",
       "      <td>27.14</td>\n",
       "      <td>0.0</td>\n",
       "      <td>26.60</td>\n",
       "      <td>0.3</td>\n",
       "      <td>23.72</td>\n",
       "      <td>0.0</td>\n",
       "      <td>32.00</td>\n",
       "      <td>0.0</td>\n",
       "      <td>0.0</td>\n",
       "      <td>0.0</td>\n",
       "      <td>0.0</td>\n",
       "      <td>0.0</td>\n",
       "    </tr>\n",
       "    <tr>\n",
       "      <th>2020-01-24</th>\n",
       "      <td>30.56</td>\n",
       "      <td>0.0</td>\n",
       "      <td>29.48</td>\n",
       "      <td>0.0</td>\n",
       "      <td>33.08</td>\n",
       "      <td>0.0</td>\n",
       "      <td>35.42</td>\n",
       "      <td>0.0</td>\n",
       "      <td>0.0</td>\n",
       "      <td>0.0</td>\n",
       "      <td>0.0</td>\n",
       "      <td>0.0</td>\n",
       "    </tr>\n",
       "    <tr>\n",
       "      <th>2020-01-25</th>\n",
       "      <td>32.54</td>\n",
       "      <td>11.9</td>\n",
       "      <td>26.60</td>\n",
       "      <td>0.3</td>\n",
       "      <td>36.14</td>\n",
       "      <td>21.8</td>\n",
       "      <td>37.94</td>\n",
       "      <td>2.5</td>\n",
       "      <td>0.0</td>\n",
       "      <td>0.0</td>\n",
       "      <td>0.0</td>\n",
       "      <td>0.0</td>\n",
       "    </tr>\n",
       "    <tr>\n",
       "      <th>2020-01-26</th>\n",
       "      <td>35.96</td>\n",
       "      <td>2.3</td>\n",
       "      <td>33.98</td>\n",
       "      <td>13.2</td>\n",
       "      <td>40.82</td>\n",
       "      <td>0.0</td>\n",
       "      <td>43.52</td>\n",
       "      <td>19.3</td>\n",
       "      <td>0.0</td>\n",
       "      <td>0.0</td>\n",
       "      <td>0.0</td>\n",
       "      <td>0.0</td>\n",
       "    </tr>\n",
       "    <tr>\n",
       "      <th>...</th>\n",
       "      <td>...</td>\n",
       "      <td>...</td>\n",
       "      <td>...</td>\n",
       "      <td>...</td>\n",
       "      <td>...</td>\n",
       "      <td>...</td>\n",
       "      <td>...</td>\n",
       "      <td>...</td>\n",
       "      <td>...</td>\n",
       "      <td>...</td>\n",
       "      <td>...</td>\n",
       "      <td>...</td>\n",
       "    </tr>\n",
       "    <tr>\n",
       "      <th>2021-09-08</th>\n",
       "      <td>72.86</td>\n",
       "      <td>24.1</td>\n",
       "      <td>63.50</td>\n",
       "      <td>0.0</td>\n",
       "      <td>70.16</td>\n",
       "      <td>0.0</td>\n",
       "      <td>71.96</td>\n",
       "      <td>0.0</td>\n",
       "      <td>219.0</td>\n",
       "      <td>0.0</td>\n",
       "      <td>4.0</td>\n",
       "      <td>260.0</td>\n",
       "    </tr>\n",
       "    <tr>\n",
       "      <th>2021-09-09</th>\n",
       "      <td>67.46</td>\n",
       "      <td>0.0</td>\n",
       "      <td>62.42</td>\n",
       "      <td>35.3</td>\n",
       "      <td>71.42</td>\n",
       "      <td>3.8</td>\n",
       "      <td>70.88</td>\n",
       "      <td>8.1</td>\n",
       "      <td>136.0</td>\n",
       "      <td>0.0</td>\n",
       "      <td>1.0</td>\n",
       "      <td>364.0</td>\n",
       "    </tr>\n",
       "    <tr>\n",
       "      <th>2021-09-10</th>\n",
       "      <td>59.90</td>\n",
       "      <td>0.5</td>\n",
       "      <td>58.46</td>\n",
       "      <td>13.0</td>\n",
       "      <td>66.92</td>\n",
       "      <td>0.0</td>\n",
       "      <td>68.54</td>\n",
       "      <td>0.0</td>\n",
       "      <td>151.0</td>\n",
       "      <td>4.0</td>\n",
       "      <td>2.0</td>\n",
       "      <td>307.0</td>\n",
       "    </tr>\n",
       "    <tr>\n",
       "      <th>2021-09-11</th>\n",
       "      <td>63.86</td>\n",
       "      <td>0.0</td>\n",
       "      <td>59.36</td>\n",
       "      <td>0.0</td>\n",
       "      <td>63.14</td>\n",
       "      <td>0.0</td>\n",
       "      <td>59.99</td>\n",
       "      <td>0.3</td>\n",
       "      <td>0.0</td>\n",
       "      <td>7.0</td>\n",
       "      <td>18.0</td>\n",
       "      <td>0.0</td>\n",
       "    </tr>\n",
       "    <tr>\n",
       "      <th>2021-09-12</th>\n",
       "      <td>69.44</td>\n",
       "      <td>0.3</td>\n",
       "      <td>63.50</td>\n",
       "      <td>0.0</td>\n",
       "      <td>69.44</td>\n",
       "      <td>0.0</td>\n",
       "      <td>71.42</td>\n",
       "      <td>0.0</td>\n",
       "      <td>0.0</td>\n",
       "      <td>0.0</td>\n",
       "      <td>0.0</td>\n",
       "      <td>0.0</td>\n",
       "    </tr>\n",
       "  </tbody>\n",
       "</table>\n",
       "<p>604 rows × 12 columns</p>\n",
       "</div>"
      ],
      "text/plain": [
       "            VT_Avg_Temp(F)  VT_PRCP(mm)  ME_Avg_Temp(F)  ME_PRCP(mm)  \\\n",
       "date                                                                   \n",
       "2020-01-22           26.96          0.0           19.04          0.0   \n",
       "2020-01-23           27.14          0.0           26.60          0.3   \n",
       "2020-01-24           30.56          0.0           29.48          0.0   \n",
       "2020-01-25           32.54         11.9           26.60          0.3   \n",
       "2020-01-26           35.96          2.3           33.98         13.2   \n",
       "...                    ...          ...             ...          ...   \n",
       "2021-09-08           72.86         24.1           63.50          0.0   \n",
       "2021-09-09           67.46          0.0           62.42         35.3   \n",
       "2021-09-10           59.90          0.5           58.46         13.0   \n",
       "2021-09-11           63.86          0.0           59.36          0.0   \n",
       "2021-09-12           69.44          0.3           63.50          0.0   \n",
       "\n",
       "            CT_Avg_Temp(F)  CT_PRCP(mm)  MA_Avg_Temp(F)  MA_PRCP(mm)  \\\n",
       "date                                                                   \n",
       "2020-01-22           18.32          0.0           22.46          0.0   \n",
       "2020-01-23           23.72          0.0           32.00          0.0   \n",
       "2020-01-24           33.08          0.0           35.42          0.0   \n",
       "2020-01-25           36.14         21.8           37.94          2.5   \n",
       "2020-01-26           40.82          0.0           43.52         19.3   \n",
       "...                    ...          ...             ...          ...   \n",
       "2021-09-08           70.16          0.0           71.96          0.0   \n",
       "2021-09-09           71.42          3.8           70.88          8.1   \n",
       "2021-09-10           66.92          0.0           68.54          0.0   \n",
       "2021-09-11           63.14          0.0           59.99          0.3   \n",
       "2021-09-12           69.44          0.0           71.42          0.0   \n",
       "\n",
       "            CT_Conf_Cases  VT_Conf_Cases  ME_Conf_Cases  MA_Conf_Cases  \n",
       "date                                                                    \n",
       "2020-01-22            0.0            0.0            0.0            0.0  \n",
       "2020-01-23            0.0            0.0            0.0            0.0  \n",
       "2020-01-24            0.0            0.0            0.0            0.0  \n",
       "2020-01-25            0.0            0.0            0.0            0.0  \n",
       "2020-01-26            0.0            0.0            0.0            0.0  \n",
       "...                   ...            ...            ...            ...  \n",
       "2021-09-08          219.0            0.0            4.0          260.0  \n",
       "2021-09-09          136.0            0.0            1.0          364.0  \n",
       "2021-09-10          151.0            4.0            2.0          307.0  \n",
       "2021-09-11            0.0            7.0           18.0            0.0  \n",
       "2021-09-12            0.0            0.0            0.0            0.0  \n",
       "\n",
       "[604 rows x 12 columns]"
      ]
     },
     "execution_count": 17,
     "metadata": {},
     "output_type": "execute_result"
    }
   ],
   "source": [
    "#Reset DateTimeIndex\n",
    "df5.set_index('date',inplace=True)\n",
    "df5"
   ]
  },
  {
   "cell_type": "code",
   "execution_count": 18,
   "id": "bf8c28d0",
   "metadata": {
    "scrolled": false
   },
   "outputs": [
    {
     "data": {
      "text/html": [
       "<div>\n",
       "<style scoped>\n",
       "    .dataframe tbody tr th:only-of-type {\n",
       "        vertical-align: middle;\n",
       "    }\n",
       "\n",
       "    .dataframe tbody tr th {\n",
       "        vertical-align: top;\n",
       "    }\n",
       "\n",
       "    .dataframe thead th {\n",
       "        text-align: right;\n",
       "    }\n",
       "</style>\n",
       "<table border=\"1\" class=\"dataframe\">\n",
       "  <thead>\n",
       "    <tr style=\"text-align: right;\">\n",
       "      <th></th>\n",
       "      <th>VT_Avg_Temp(F)</th>\n",
       "      <th>VT_PRCP(mm)</th>\n",
       "      <th>ME_Avg_Temp(F)</th>\n",
       "      <th>ME_PRCP(mm)</th>\n",
       "      <th>CT_Avg_Temp(F)</th>\n",
       "      <th>CT_PRCP(mm)</th>\n",
       "      <th>MA_Avg_Temp(F)</th>\n",
       "      <th>MA_PRCP(mm)</th>\n",
       "      <th>CT_Conf_Cases</th>\n",
       "      <th>VT_Conf_Cases</th>\n",
       "      <th>ME_Conf_Cases</th>\n",
       "      <th>MA_Conf_Cases</th>\n",
       "    </tr>\n",
       "  </thead>\n",
       "  <tbody>\n",
       "    <tr>\n",
       "      <th>count</th>\n",
       "      <td>604.000000</td>\n",
       "      <td>604.000000</td>\n",
       "      <td>604.000000</td>\n",
       "      <td>604.000000</td>\n",
       "      <td>604.000000</td>\n",
       "      <td>604.000000</td>\n",
       "      <td>604.000000</td>\n",
       "      <td>604.000000</td>\n",
       "      <td>604.000000</td>\n",
       "      <td>604.000000</td>\n",
       "      <td>604.000000</td>\n",
       "      <td>604.000000</td>\n",
       "    </tr>\n",
       "    <tr>\n",
       "      <th>mean</th>\n",
       "      <td>51.046325</td>\n",
       "      <td>2.253146</td>\n",
       "      <td>45.169205</td>\n",
       "      <td>2.917881</td>\n",
       "      <td>54.173974</td>\n",
       "      <td>3.558278</td>\n",
       "      <td>54.302864</td>\n",
       "      <td>3.770364</td>\n",
       "      <td>153.082781</td>\n",
       "      <td>0.561258</td>\n",
       "      <td>1.387417</td>\n",
       "      <td>243.678808</td>\n",
       "    </tr>\n",
       "    <tr>\n",
       "      <th>std</th>\n",
       "      <td>19.888186</td>\n",
       "      <td>5.818653</td>\n",
       "      <td>19.495882</td>\n",
       "      <td>9.129633</td>\n",
       "      <td>17.492540</td>\n",
       "      <td>10.199061</td>\n",
       "      <td>16.923667</td>\n",
       "      <td>10.274149</td>\n",
       "      <td>282.454046</td>\n",
       "      <td>1.337514</td>\n",
       "      <td>3.098532</td>\n",
       "      <td>300.012813</td>\n",
       "    </tr>\n",
       "    <tr>\n",
       "      <th>min</th>\n",
       "      <td>2.120000</td>\n",
       "      <td>0.000000</td>\n",
       "      <td>-1.840000</td>\n",
       "      <td>0.000000</td>\n",
       "      <td>11.660000</td>\n",
       "      <td>0.000000</td>\n",
       "      <td>14.000000</td>\n",
       "      <td>0.000000</td>\n",
       "      <td>-7.000000</td>\n",
       "      <td>-2.000000</td>\n",
       "      <td>-5.000000</td>\n",
       "      <td>-69.000000</td>\n",
       "    </tr>\n",
       "    <tr>\n",
       "      <th>25%</th>\n",
       "      <td>35.060000</td>\n",
       "      <td>0.000000</td>\n",
       "      <td>30.020000</td>\n",
       "      <td>0.000000</td>\n",
       "      <td>39.200000</td>\n",
       "      <td>0.000000</td>\n",
       "      <td>40.325000</td>\n",
       "      <td>0.000000</td>\n",
       "      <td>0.000000</td>\n",
       "      <td>0.000000</td>\n",
       "      <td>0.000000</td>\n",
       "      <td>30.750000</td>\n",
       "    </tr>\n",
       "    <tr>\n",
       "      <th>50%</th>\n",
       "      <td>51.440000</td>\n",
       "      <td>0.000000</td>\n",
       "      <td>46.490000</td>\n",
       "      <td>0.000000</td>\n",
       "      <td>55.490000</td>\n",
       "      <td>0.000000</td>\n",
       "      <td>54.500000</td>\n",
       "      <td>0.000000</td>\n",
       "      <td>45.500000</td>\n",
       "      <td>0.000000</td>\n",
       "      <td>0.000000</td>\n",
       "      <td>128.000000</td>\n",
       "    </tr>\n",
       "    <tr>\n",
       "      <th>75%</th>\n",
       "      <td>68.000000</td>\n",
       "      <td>1.300000</td>\n",
       "      <td>62.060000</td>\n",
       "      <td>1.300000</td>\n",
       "      <td>70.160000</td>\n",
       "      <td>1.300000</td>\n",
       "      <td>68.540000</td>\n",
       "      <td>2.000000</td>\n",
       "      <td>178.250000</td>\n",
       "      <td>1.000000</td>\n",
       "      <td>2.000000</td>\n",
       "      <td>346.250000</td>\n",
       "    </tr>\n",
       "    <tr>\n",
       "      <th>max</th>\n",
       "      <td>84.920000</td>\n",
       "      <td>63.500000</td>\n",
       "      <td>80.060000</td>\n",
       "      <td>131.100000</td>\n",
       "      <td>85.640000</td>\n",
       "      <td>103.400000</td>\n",
       "      <td>87.980000</td>\n",
       "      <td>95.000000</td>\n",
       "      <td>2336.000000</td>\n",
       "      <td>15.000000</td>\n",
       "      <td>37.000000</td>\n",
       "      <td>1607.000000</td>\n",
       "    </tr>\n",
       "  </tbody>\n",
       "</table>\n",
       "</div>"
      ],
      "text/plain": [
       "       VT_Avg_Temp(F)  VT_PRCP(mm)  ME_Avg_Temp(F)  ME_PRCP(mm)  \\\n",
       "count      604.000000   604.000000      604.000000   604.000000   \n",
       "mean        51.046325     2.253146       45.169205     2.917881   \n",
       "std         19.888186     5.818653       19.495882     9.129633   \n",
       "min          2.120000     0.000000       -1.840000     0.000000   \n",
       "25%         35.060000     0.000000       30.020000     0.000000   \n",
       "50%         51.440000     0.000000       46.490000     0.000000   \n",
       "75%         68.000000     1.300000       62.060000     1.300000   \n",
       "max         84.920000    63.500000       80.060000   131.100000   \n",
       "\n",
       "       CT_Avg_Temp(F)  CT_PRCP(mm)  MA_Avg_Temp(F)  MA_PRCP(mm)  \\\n",
       "count      604.000000   604.000000      604.000000   604.000000   \n",
       "mean        54.173974     3.558278       54.302864     3.770364   \n",
       "std         17.492540    10.199061       16.923667    10.274149   \n",
       "min         11.660000     0.000000       14.000000     0.000000   \n",
       "25%         39.200000     0.000000       40.325000     0.000000   \n",
       "50%         55.490000     0.000000       54.500000     0.000000   \n",
       "75%         70.160000     1.300000       68.540000     2.000000   \n",
       "max         85.640000   103.400000       87.980000    95.000000   \n",
       "\n",
       "       CT_Conf_Cases  VT_Conf_Cases  ME_Conf_Cases  MA_Conf_Cases  \n",
       "count     604.000000     604.000000     604.000000     604.000000  \n",
       "mean      153.082781       0.561258       1.387417     243.678808  \n",
       "std       282.454046       1.337514       3.098532     300.012813  \n",
       "min        -7.000000      -2.000000      -5.000000     -69.000000  \n",
       "25%         0.000000       0.000000       0.000000      30.750000  \n",
       "50%        45.500000       0.000000       0.000000     128.000000  \n",
       "75%       178.250000       1.000000       2.000000     346.250000  \n",
       "max      2336.000000      15.000000      37.000000    1607.000000  "
      ]
     },
     "execution_count": 18,
     "metadata": {},
     "output_type": "execute_result"
    }
   ],
   "source": [
    "#Take a look at some summary statistics of the data:\n",
    "df5.describe()"
   ]
  },
  {
   "cell_type": "markdown",
   "id": "440322fb",
   "metadata": {},
   "source": [
    "It looks like some of the states have `Conf_Cases` values that are less than zero (see `min` row). That can't be right; I'll replace them with zeroes instead."
   ]
  },
  {
   "cell_type": "code",
   "execution_count": 19,
   "id": "9374d10d",
   "metadata": {},
   "outputs": [],
   "source": [
    "#Replace negative values with zeroes:\n",
    "df5[df5 < 0] = 0"
   ]
  },
  {
   "cell_type": "markdown",
   "id": "04c8730f",
   "metadata": {},
   "source": [
    "A quick look at the tail of the DataFrame reveals another interesting detail:"
   ]
  },
  {
   "cell_type": "code",
   "execution_count": 20,
   "id": "60e8565b",
   "metadata": {},
   "outputs": [
    {
     "data": {
      "text/plain": [
       "date\n",
       "2021-08-19    139.0\n",
       "2021-08-20    118.0\n",
       "2021-08-21      0.0\n",
       "2021-08-22      0.0\n",
       "2021-08-23    453.0\n",
       "2021-08-24    188.0\n",
       "2021-08-25    124.0\n",
       "2021-08-26    202.0\n",
       "2021-08-27    224.0\n",
       "2021-08-28      0.0\n",
       "2021-08-29      0.0\n",
       "2021-08-30    339.0\n",
       "2021-08-31    307.0\n",
       "2021-09-01    266.0\n",
       "2021-09-02    185.0\n",
       "2021-09-03    196.0\n",
       "2021-09-04      0.0\n",
       "2021-09-05      0.0\n",
       "2021-09-06      0.0\n",
       "2021-09-07    385.0\n",
       "2021-09-08    219.0\n",
       "2021-09-09    136.0\n",
       "2021-09-10    151.0\n",
       "2021-09-11      0.0\n",
       "2021-09-12      0.0\n",
       "Name: CT_Conf_Cases, dtype: float64"
      ]
     },
     "execution_count": 20,
     "metadata": {},
     "output_type": "execute_result"
    }
   ],
   "source": [
    "df5['CT_Conf_Cases'].tail(25)"
   ]
  },
  {
   "cell_type": "markdown",
   "id": "65c5ef05",
   "metadata": {},
   "source": [
    "It looks like, for every five days of values for `Conf_Cases`, there are two days of zero values. A quick calendar check confirms that the dates corresponding to zero values are weekend dates (besides 09/06/21, which was Labor Day- a bank holiday in the US). Because there is only data for weekdays, I'll remove weekend data, as it can only skew our summary statistics and plots."
   ]
  },
  {
   "cell_type": "code",
   "execution_count": 21,
   "id": "fecd2c4b",
   "metadata": {},
   "outputs": [],
   "source": [
    "#Create column to designate day of week:\n",
    "df6= df5\n",
    "df6[\"weekday\"] = df6.index.dayofweek"
   ]
  },
  {
   "cell_type": "code",
   "execution_count": 22,
   "id": "0b3a64f7",
   "metadata": {},
   "outputs": [],
   "source": [
    "#Filter DataFrame to only include weekdays (days 0-4)\n",
    "df6 = df6[(df6.weekday != 5) & (df6.weekday != 6)]"
   ]
  },
  {
   "cell_type": "markdown",
   "id": "9b4a66b5",
   "metadata": {},
   "source": [
    "Another quick check of the summary statistics:"
   ]
  },
  {
   "cell_type": "code",
   "execution_count": 23,
   "id": "bd330df5",
   "metadata": {
    "scrolled": false
   },
   "outputs": [
    {
     "data": {
      "text/html": [
       "<div>\n",
       "<style scoped>\n",
       "    .dataframe tbody tr th:only-of-type {\n",
       "        vertical-align: middle;\n",
       "    }\n",
       "\n",
       "    .dataframe tbody tr th {\n",
       "        vertical-align: top;\n",
       "    }\n",
       "\n",
       "    .dataframe thead th {\n",
       "        text-align: right;\n",
       "    }\n",
       "</style>\n",
       "<table border=\"1\" class=\"dataframe\">\n",
       "  <thead>\n",
       "    <tr style=\"text-align: right;\">\n",
       "      <th></th>\n",
       "      <th>VT_Avg_Temp(F)</th>\n",
       "      <th>VT_PRCP(mm)</th>\n",
       "      <th>ME_Avg_Temp(F)</th>\n",
       "      <th>ME_PRCP(mm)</th>\n",
       "      <th>CT_Avg_Temp(F)</th>\n",
       "      <th>CT_PRCP(mm)</th>\n",
       "      <th>MA_Avg_Temp(F)</th>\n",
       "      <th>MA_PRCP(mm)</th>\n",
       "      <th>CT_Conf_Cases</th>\n",
       "      <th>VT_Conf_Cases</th>\n",
       "      <th>ME_Conf_Cases</th>\n",
       "      <th>MA_Conf_Cases</th>\n",
       "      <th>weekday</th>\n",
       "    </tr>\n",
       "  </thead>\n",
       "  <tbody>\n",
       "    <tr>\n",
       "      <th>count</th>\n",
       "      <td>429.000000</td>\n",
       "      <td>429.000000</td>\n",
       "      <td>429.000000</td>\n",
       "      <td>429.000000</td>\n",
       "      <td>429.000000</td>\n",
       "      <td>429.000000</td>\n",
       "      <td>429.000000</td>\n",
       "      <td>429.000000</td>\n",
       "      <td>429.000000</td>\n",
       "      <td>429.000000</td>\n",
       "      <td>429.000000</td>\n",
       "      <td>429.000000</td>\n",
       "      <td>429.000000</td>\n",
       "    </tr>\n",
       "    <tr>\n",
       "      <th>mean</th>\n",
       "      <td>51.333427</td>\n",
       "      <td>2.384848</td>\n",
       "      <td>45.444709</td>\n",
       "      <td>2.994639</td>\n",
       "      <td>54.555804</td>\n",
       "      <td>3.922378</td>\n",
       "      <td>54.657343</td>\n",
       "      <td>3.974359</td>\n",
       "      <td>205.839161</td>\n",
       "      <td>0.596737</td>\n",
       "      <td>1.484848</td>\n",
       "      <td>253.508159</td>\n",
       "      <td>2.002331</td>\n",
       "    </tr>\n",
       "    <tr>\n",
       "      <th>std</th>\n",
       "      <td>19.754565</td>\n",
       "      <td>5.967649</td>\n",
       "      <td>19.565369</td>\n",
       "      <td>8.002695</td>\n",
       "      <td>17.305070</td>\n",
       "      <td>10.723063</td>\n",
       "      <td>16.845749</td>\n",
       "      <td>10.670719</td>\n",
       "      <td>314.810705</td>\n",
       "      <td>1.388568</td>\n",
       "      <td>3.258042</td>\n",
       "      <td>292.049442</td>\n",
       "      <td>1.416688</td>\n",
       "    </tr>\n",
       "    <tr>\n",
       "      <th>min</th>\n",
       "      <td>2.120000</td>\n",
       "      <td>0.000000</td>\n",
       "      <td>0.000000</td>\n",
       "      <td>0.000000</td>\n",
       "      <td>13.100000</td>\n",
       "      <td>0.000000</td>\n",
       "      <td>17.420000</td>\n",
       "      <td>0.000000</td>\n",
       "      <td>0.000000</td>\n",
       "      <td>0.000000</td>\n",
       "      <td>0.000000</td>\n",
       "      <td>0.000000</td>\n",
       "      <td>0.000000</td>\n",
       "    </tr>\n",
       "    <tr>\n",
       "      <th>25%</th>\n",
       "      <td>35.060000</td>\n",
       "      <td>0.000000</td>\n",
       "      <td>30.020000</td>\n",
       "      <td>0.000000</td>\n",
       "      <td>39.380000</td>\n",
       "      <td>0.000000</td>\n",
       "      <td>40.460000</td>\n",
       "      <td>0.000000</td>\n",
       "      <td>29.000000</td>\n",
       "      <td>0.000000</td>\n",
       "      <td>0.000000</td>\n",
       "      <td>45.000000</td>\n",
       "      <td>1.000000</td>\n",
       "    </tr>\n",
       "    <tr>\n",
       "      <th>50%</th>\n",
       "      <td>51.980000</td>\n",
       "      <td>0.000000</td>\n",
       "      <td>46.940000</td>\n",
       "      <td>0.000000</td>\n",
       "      <td>55.760000</td>\n",
       "      <td>0.000000</td>\n",
       "      <td>55.400000</td>\n",
       "      <td>0.000000</td>\n",
       "      <td>110.000000</td>\n",
       "      <td>0.000000</td>\n",
       "      <td>0.000000</td>\n",
       "      <td>153.000000</td>\n",
       "      <td>2.000000</td>\n",
       "    </tr>\n",
       "    <tr>\n",
       "      <th>75%</th>\n",
       "      <td>68.000000</td>\n",
       "      <td>1.300000</td>\n",
       "      <td>62.420000</td>\n",
       "      <td>1.800000</td>\n",
       "      <td>70.160000</td>\n",
       "      <td>1.800000</td>\n",
       "      <td>68.540000</td>\n",
       "      <td>2.500000</td>\n",
       "      <td>236.000000</td>\n",
       "      <td>1.000000</td>\n",
       "      <td>2.000000</td>\n",
       "      <td>364.000000</td>\n",
       "      <td>3.000000</td>\n",
       "    </tr>\n",
       "    <tr>\n",
       "      <th>max</th>\n",
       "      <td>84.920000</td>\n",
       "      <td>63.500000</td>\n",
       "      <td>80.060000</td>\n",
       "      <td>68.800000</td>\n",
       "      <td>85.640000</td>\n",
       "      <td>103.400000</td>\n",
       "      <td>87.980000</td>\n",
       "      <td>95.000000</td>\n",
       "      <td>2336.000000</td>\n",
       "      <td>15.000000</td>\n",
       "      <td>37.000000</td>\n",
       "      <td>1460.000000</td>\n",
       "      <td>4.000000</td>\n",
       "    </tr>\n",
       "  </tbody>\n",
       "</table>\n",
       "</div>"
      ],
      "text/plain": [
       "       VT_Avg_Temp(F)  VT_PRCP(mm)  ME_Avg_Temp(F)  ME_PRCP(mm)  \\\n",
       "count      429.000000   429.000000      429.000000   429.000000   \n",
       "mean        51.333427     2.384848       45.444709     2.994639   \n",
       "std         19.754565     5.967649       19.565369     8.002695   \n",
       "min          2.120000     0.000000        0.000000     0.000000   \n",
       "25%         35.060000     0.000000       30.020000     0.000000   \n",
       "50%         51.980000     0.000000       46.940000     0.000000   \n",
       "75%         68.000000     1.300000       62.420000     1.800000   \n",
       "max         84.920000    63.500000       80.060000    68.800000   \n",
       "\n",
       "       CT_Avg_Temp(F)  CT_PRCP(mm)  MA_Avg_Temp(F)  MA_PRCP(mm)  \\\n",
       "count      429.000000   429.000000      429.000000   429.000000   \n",
       "mean        54.555804     3.922378       54.657343     3.974359   \n",
       "std         17.305070    10.723063       16.845749    10.670719   \n",
       "min         13.100000     0.000000       17.420000     0.000000   \n",
       "25%         39.380000     0.000000       40.460000     0.000000   \n",
       "50%         55.760000     0.000000       55.400000     0.000000   \n",
       "75%         70.160000     1.800000       68.540000     2.500000   \n",
       "max         85.640000   103.400000       87.980000    95.000000   \n",
       "\n",
       "       CT_Conf_Cases  VT_Conf_Cases  ME_Conf_Cases  MA_Conf_Cases     weekday  \n",
       "count     429.000000     429.000000     429.000000     429.000000  429.000000  \n",
       "mean      205.839161       0.596737       1.484848     253.508159    2.002331  \n",
       "std       314.810705       1.388568       3.258042     292.049442    1.416688  \n",
       "min         0.000000       0.000000       0.000000       0.000000    0.000000  \n",
       "25%        29.000000       0.000000       0.000000      45.000000    1.000000  \n",
       "50%       110.000000       0.000000       0.000000     153.000000    2.000000  \n",
       "75%       236.000000       1.000000       2.000000     364.000000    3.000000  \n",
       "max      2336.000000      15.000000      37.000000    1460.000000    4.000000  "
      ]
     },
     "execution_count": 23,
     "metadata": {},
     "output_type": "execute_result"
    }
   ],
   "source": [
    "df6.describe()"
   ]
  },
  {
   "cell_type": "code",
   "execution_count": 24,
   "id": "5df03881",
   "metadata": {},
   "outputs": [
    {
     "data": {
      "text/html": [
       "<div>\n",
       "<style scoped>\n",
       "    .dataframe tbody tr th:only-of-type {\n",
       "        vertical-align: middle;\n",
       "    }\n",
       "\n",
       "    .dataframe tbody tr th {\n",
       "        vertical-align: top;\n",
       "    }\n",
       "\n",
       "    .dataframe thead th {\n",
       "        text-align: right;\n",
       "    }\n",
       "</style>\n",
       "<table border=\"1\" class=\"dataframe\">\n",
       "  <thead>\n",
       "    <tr style=\"text-align: right;\">\n",
       "      <th></th>\n",
       "      <th>VT_Avg_Temp(F)</th>\n",
       "      <th>VT_PRCP(mm)</th>\n",
       "      <th>ME_Avg_Temp(F)</th>\n",
       "      <th>ME_PRCP(mm)</th>\n",
       "      <th>CT_Avg_Temp(F)</th>\n",
       "      <th>CT_PRCP(mm)</th>\n",
       "      <th>MA_Avg_Temp(F)</th>\n",
       "      <th>MA_PRCP(mm)</th>\n",
       "      <th>CT_Conf_Cases</th>\n",
       "      <th>VT_Conf_Cases</th>\n",
       "      <th>ME_Conf_Cases</th>\n",
       "      <th>MA_Conf_Cases</th>\n",
       "      <th>weekday</th>\n",
       "    </tr>\n",
       "    <tr>\n",
       "      <th>date</th>\n",
       "      <th></th>\n",
       "      <th></th>\n",
       "      <th></th>\n",
       "      <th></th>\n",
       "      <th></th>\n",
       "      <th></th>\n",
       "      <th></th>\n",
       "      <th></th>\n",
       "      <th></th>\n",
       "      <th></th>\n",
       "      <th></th>\n",
       "      <th></th>\n",
       "      <th></th>\n",
       "    </tr>\n",
       "  </thead>\n",
       "  <tbody>\n",
       "    <tr>\n",
       "      <th>2020-01-22</th>\n",
       "      <td>26.96</td>\n",
       "      <td>0.0</td>\n",
       "      <td>19.04</td>\n",
       "      <td>0.0</td>\n",
       "      <td>18.32</td>\n",
       "      <td>0.0</td>\n",
       "      <td>22.46</td>\n",
       "      <td>0.0</td>\n",
       "      <td>0.0</td>\n",
       "      <td>0.0</td>\n",
       "      <td>0.0</td>\n",
       "      <td>0.0</td>\n",
       "      <td>2</td>\n",
       "    </tr>\n",
       "    <tr>\n",
       "      <th>2020-01-23</th>\n",
       "      <td>27.14</td>\n",
       "      <td>0.0</td>\n",
       "      <td>26.60</td>\n",
       "      <td>0.3</td>\n",
       "      <td>23.72</td>\n",
       "      <td>0.0</td>\n",
       "      <td>32.00</td>\n",
       "      <td>0.0</td>\n",
       "      <td>0.0</td>\n",
       "      <td>0.0</td>\n",
       "      <td>0.0</td>\n",
       "      <td>0.0</td>\n",
       "      <td>3</td>\n",
       "    </tr>\n",
       "    <tr>\n",
       "      <th>2020-01-24</th>\n",
       "      <td>30.56</td>\n",
       "      <td>0.0</td>\n",
       "      <td>29.48</td>\n",
       "      <td>0.0</td>\n",
       "      <td>33.08</td>\n",
       "      <td>0.0</td>\n",
       "      <td>35.42</td>\n",
       "      <td>0.0</td>\n",
       "      <td>0.0</td>\n",
       "      <td>0.0</td>\n",
       "      <td>0.0</td>\n",
       "      <td>0.0</td>\n",
       "      <td>4</td>\n",
       "    </tr>\n",
       "    <tr>\n",
       "      <th>2020-01-27</th>\n",
       "      <td>34.52</td>\n",
       "      <td>1.3</td>\n",
       "      <td>31.46</td>\n",
       "      <td>1.0</td>\n",
       "      <td>38.84</td>\n",
       "      <td>0.0</td>\n",
       "      <td>39.02</td>\n",
       "      <td>0.0</td>\n",
       "      <td>0.0</td>\n",
       "      <td>0.0</td>\n",
       "      <td>0.0</td>\n",
       "      <td>0.0</td>\n",
       "      <td>0</td>\n",
       "    </tr>\n",
       "    <tr>\n",
       "      <th>2020-01-28</th>\n",
       "      <td>30.02</td>\n",
       "      <td>0.3</td>\n",
       "      <td>21.56</td>\n",
       "      <td>0.0</td>\n",
       "      <td>36.68</td>\n",
       "      <td>0.0</td>\n",
       "      <td>37.40</td>\n",
       "      <td>0.0</td>\n",
       "      <td>0.0</td>\n",
       "      <td>0.0</td>\n",
       "      <td>0.0</td>\n",
       "      <td>0.0</td>\n",
       "      <td>1</td>\n",
       "    </tr>\n",
       "  </tbody>\n",
       "</table>\n",
       "</div>"
      ],
      "text/plain": [
       "            VT_Avg_Temp(F)  VT_PRCP(mm)  ME_Avg_Temp(F)  ME_PRCP(mm)  \\\n",
       "date                                                                   \n",
       "2020-01-22           26.96          0.0           19.04          0.0   \n",
       "2020-01-23           27.14          0.0           26.60          0.3   \n",
       "2020-01-24           30.56          0.0           29.48          0.0   \n",
       "2020-01-27           34.52          1.3           31.46          1.0   \n",
       "2020-01-28           30.02          0.3           21.56          0.0   \n",
       "\n",
       "            CT_Avg_Temp(F)  CT_PRCP(mm)  MA_Avg_Temp(F)  MA_PRCP(mm)  \\\n",
       "date                                                                   \n",
       "2020-01-22           18.32          0.0           22.46          0.0   \n",
       "2020-01-23           23.72          0.0           32.00          0.0   \n",
       "2020-01-24           33.08          0.0           35.42          0.0   \n",
       "2020-01-27           38.84          0.0           39.02          0.0   \n",
       "2020-01-28           36.68          0.0           37.40          0.0   \n",
       "\n",
       "            CT_Conf_Cases  VT_Conf_Cases  ME_Conf_Cases  MA_Conf_Cases  \\\n",
       "date                                                                     \n",
       "2020-01-22            0.0            0.0            0.0            0.0   \n",
       "2020-01-23            0.0            0.0            0.0            0.0   \n",
       "2020-01-24            0.0            0.0            0.0            0.0   \n",
       "2020-01-27            0.0            0.0            0.0            0.0   \n",
       "2020-01-28            0.0            0.0            0.0            0.0   \n",
       "\n",
       "            weekday  \n",
       "date                 \n",
       "2020-01-22        2  \n",
       "2020-01-23        3  \n",
       "2020-01-24        4  \n",
       "2020-01-27        0  \n",
       "2020-01-28        1  "
      ]
     },
     "execution_count": 24,
     "metadata": {},
     "output_type": "execute_result"
    }
   ],
   "source": [
    "df6.head()"
   ]
  },
  {
   "cell_type": "code",
   "execution_count": 25,
   "id": "e87da6ba",
   "metadata": {},
   "outputs": [],
   "source": [
    "#Create a list of US bank holidays in 2020-2021:\n",
    "#Please refer to note below, explaining how this list of dates was put together.\n",
    "US_bank_holidays = ['2020-02-17', '2020-12-25', '2020-11-26', '2020-12-25', '2021-01-01', '2021-05-31', '2021-09-06']"
   ]
  },
  {
   "cell_type": "markdown",
   "id": "19923e27",
   "metadata": {},
   "source": [
    "Full list of 2020 US Holidays [here](https://www.officeholidays.com/countries/usa/2020).\n",
    "Full list of 2021 US Holidays [here](https://www.officeholidays.com/countries/usa/2021).\\\n",
    "__Note:__ Not all bank holidays listed in the above resources appear in my `US_bank_holidays` list. I used the resources above as a general guide of dates that might not contain any data, and then checked each of the dates individually to make sure I wasn't deleting any significant data from the set. I found that data __was__ recorded for some of the bank holidays listed in the resources; whenever this was the case, I did __not__ drop that row of data. The dates listed in `US_bank_holidays` reflect only those bank holidays listed in these resources that I was __also__ able to confirm did not have any significant data."
   ]
  },
  {
   "cell_type": "code",
   "execution_count": 26,
   "id": "4e3ed4f8",
   "metadata": {},
   "outputs": [],
   "source": [
    "#Drop rows with indices in US_bank_holidays list:\n",
    "df7= df6.drop(df6[(df6.index.isin(US_bank_holidays))].index)"
   ]
  },
  {
   "cell_type": "code",
   "execution_count": 27,
   "id": "99c1f94f",
   "metadata": {
    "scrolled": true
   },
   "outputs": [
    {
     "name": "stdout",
     "output_type": "stream",
     "text": [
      "429\n",
      "423\n"
     ]
    }
   ],
   "source": [
    "#Check rows have been dropped:\n",
    "print(len(df6.index))\n",
    "print(len(df7.index))"
   ]
  },
  {
   "cell_type": "code",
   "execution_count": 28,
   "id": "f5d7b7dc",
   "metadata": {},
   "outputs": [
    {
     "data": {
      "text/html": [
       "<div>\n",
       "<style scoped>\n",
       "    .dataframe tbody tr th:only-of-type {\n",
       "        vertical-align: middle;\n",
       "    }\n",
       "\n",
       "    .dataframe tbody tr th {\n",
       "        vertical-align: top;\n",
       "    }\n",
       "\n",
       "    .dataframe thead th {\n",
       "        text-align: right;\n",
       "    }\n",
       "</style>\n",
       "<table border=\"1\" class=\"dataframe\">\n",
       "  <thead>\n",
       "    <tr style=\"text-align: right;\">\n",
       "      <th></th>\n",
       "      <th>VT_Avg_Temp(F)</th>\n",
       "      <th>VT_PRCP(mm)</th>\n",
       "      <th>ME_Avg_Temp(F)</th>\n",
       "      <th>ME_PRCP(mm)</th>\n",
       "      <th>CT_Avg_Temp(F)</th>\n",
       "      <th>CT_PRCP(mm)</th>\n",
       "      <th>MA_Avg_Temp(F)</th>\n",
       "      <th>MA_PRCP(mm)</th>\n",
       "      <th>CT_Conf_Cases</th>\n",
       "      <th>VT_Conf_Cases</th>\n",
       "      <th>ME_Conf_Cases</th>\n",
       "      <th>MA_Conf_Cases</th>\n",
       "      <th>weekday</th>\n",
       "    </tr>\n",
       "  </thead>\n",
       "  <tbody>\n",
       "    <tr>\n",
       "      <th>count</th>\n",
       "      <td>423.000000</td>\n",
       "      <td>423.000000</td>\n",
       "      <td>423.000000</td>\n",
       "      <td>423.000000</td>\n",
       "      <td>423.000000</td>\n",
       "      <td>423.000000</td>\n",
       "      <td>423.000000</td>\n",
       "      <td>423.000000</td>\n",
       "      <td>423.000000</td>\n",
       "      <td>423.000000</td>\n",
       "      <td>423.000000</td>\n",
       "      <td>423.000000</td>\n",
       "      <td>423.000000</td>\n",
       "    </tr>\n",
       "    <tr>\n",
       "      <th>mean</th>\n",
       "      <td>51.429362</td>\n",
       "      <td>2.330733</td>\n",
       "      <td>45.537967</td>\n",
       "      <td>2.791962</td>\n",
       "      <td>54.633617</td>\n",
       "      <td>3.781087</td>\n",
       "      <td>54.708936</td>\n",
       "      <td>3.908747</td>\n",
       "      <td>208.758865</td>\n",
       "      <td>0.602837</td>\n",
       "      <td>1.496454</td>\n",
       "      <td>257.104019</td>\n",
       "      <td>2.004728</td>\n",
       "    </tr>\n",
       "    <tr>\n",
       "      <th>std</th>\n",
       "      <td>19.802337</td>\n",
       "      <td>5.938983</td>\n",
       "      <td>19.588555</td>\n",
       "      <td>7.352714</td>\n",
       "      <td>17.345304</td>\n",
       "      <td>10.476999</td>\n",
       "      <td>16.882002</td>\n",
       "      <td>10.640791</td>\n",
       "      <td>316.075796</td>\n",
       "      <td>1.396744</td>\n",
       "      <td>3.278446</td>\n",
       "      <td>292.538665</td>\n",
       "      <td>1.409170</td>\n",
       "    </tr>\n",
       "    <tr>\n",
       "      <th>min</th>\n",
       "      <td>2.120000</td>\n",
       "      <td>0.000000</td>\n",
       "      <td>0.000000</td>\n",
       "      <td>0.000000</td>\n",
       "      <td>13.100000</td>\n",
       "      <td>0.000000</td>\n",
       "      <td>17.420000</td>\n",
       "      <td>0.000000</td>\n",
       "      <td>0.000000</td>\n",
       "      <td>0.000000</td>\n",
       "      <td>0.000000</td>\n",
       "      <td>0.000000</td>\n",
       "      <td>0.000000</td>\n",
       "    </tr>\n",
       "    <tr>\n",
       "      <th>25%</th>\n",
       "      <td>35.060000</td>\n",
       "      <td>0.000000</td>\n",
       "      <td>30.020000</td>\n",
       "      <td>0.000000</td>\n",
       "      <td>39.380000</td>\n",
       "      <td>0.000000</td>\n",
       "      <td>40.460000</td>\n",
       "      <td>0.000000</td>\n",
       "      <td>30.000000</td>\n",
       "      <td>0.000000</td>\n",
       "      <td>0.000000</td>\n",
       "      <td>47.000000</td>\n",
       "      <td>1.000000</td>\n",
       "    </tr>\n",
       "    <tr>\n",
       "      <th>50%</th>\n",
       "      <td>51.980000</td>\n",
       "      <td>0.000000</td>\n",
       "      <td>46.940000</td>\n",
       "      <td>0.000000</td>\n",
       "      <td>55.760000</td>\n",
       "      <td>0.000000</td>\n",
       "      <td>55.400000</td>\n",
       "      <td>0.000000</td>\n",
       "      <td>112.000000</td>\n",
       "      <td>0.000000</td>\n",
       "      <td>0.000000</td>\n",
       "      <td>155.000000</td>\n",
       "      <td>2.000000</td>\n",
       "    </tr>\n",
       "    <tr>\n",
       "      <th>75%</th>\n",
       "      <td>68.180000</td>\n",
       "      <td>1.300000</td>\n",
       "      <td>62.690000</td>\n",
       "      <td>1.500000</td>\n",
       "      <td>70.160000</td>\n",
       "      <td>1.800000</td>\n",
       "      <td>68.720000</td>\n",
       "      <td>2.400000</td>\n",
       "      <td>237.500000</td>\n",
       "      <td>1.000000</td>\n",
       "      <td>2.000000</td>\n",
       "      <td>368.500000</td>\n",
       "      <td>3.000000</td>\n",
       "    </tr>\n",
       "    <tr>\n",
       "      <th>max</th>\n",
       "      <td>84.920000</td>\n",
       "      <td>63.500000</td>\n",
       "      <td>80.060000</td>\n",
       "      <td>58.200000</td>\n",
       "      <td>85.640000</td>\n",
       "      <td>103.400000</td>\n",
       "      <td>87.980000</td>\n",
       "      <td>95.000000</td>\n",
       "      <td>2336.000000</td>\n",
       "      <td>15.000000</td>\n",
       "      <td>37.000000</td>\n",
       "      <td>1460.000000</td>\n",
       "      <td>4.000000</td>\n",
       "    </tr>\n",
       "  </tbody>\n",
       "</table>\n",
       "</div>"
      ],
      "text/plain": [
       "       VT_Avg_Temp(F)  VT_PRCP(mm)  ME_Avg_Temp(F)  ME_PRCP(mm)  \\\n",
       "count      423.000000   423.000000      423.000000   423.000000   \n",
       "mean        51.429362     2.330733       45.537967     2.791962   \n",
       "std         19.802337     5.938983       19.588555     7.352714   \n",
       "min          2.120000     0.000000        0.000000     0.000000   \n",
       "25%         35.060000     0.000000       30.020000     0.000000   \n",
       "50%         51.980000     0.000000       46.940000     0.000000   \n",
       "75%         68.180000     1.300000       62.690000     1.500000   \n",
       "max         84.920000    63.500000       80.060000    58.200000   \n",
       "\n",
       "       CT_Avg_Temp(F)  CT_PRCP(mm)  MA_Avg_Temp(F)  MA_PRCP(mm)  \\\n",
       "count      423.000000   423.000000      423.000000   423.000000   \n",
       "mean        54.633617     3.781087       54.708936     3.908747   \n",
       "std         17.345304    10.476999       16.882002    10.640791   \n",
       "min         13.100000     0.000000       17.420000     0.000000   \n",
       "25%         39.380000     0.000000       40.460000     0.000000   \n",
       "50%         55.760000     0.000000       55.400000     0.000000   \n",
       "75%         70.160000     1.800000       68.720000     2.400000   \n",
       "max         85.640000   103.400000       87.980000    95.000000   \n",
       "\n",
       "       CT_Conf_Cases  VT_Conf_Cases  ME_Conf_Cases  MA_Conf_Cases     weekday  \n",
       "count     423.000000     423.000000     423.000000     423.000000  423.000000  \n",
       "mean      208.758865       0.602837       1.496454     257.104019    2.004728  \n",
       "std       316.075796       1.396744       3.278446     292.538665    1.409170  \n",
       "min         0.000000       0.000000       0.000000       0.000000    0.000000  \n",
       "25%        30.000000       0.000000       0.000000      47.000000    1.000000  \n",
       "50%       112.000000       0.000000       0.000000     155.000000    2.000000  \n",
       "75%       237.500000       1.000000       2.000000     368.500000    3.000000  \n",
       "max      2336.000000      15.000000      37.000000    1460.000000    4.000000  "
      ]
     },
     "execution_count": 28,
     "metadata": {},
     "output_type": "execute_result"
    }
   ],
   "source": [
    "#Recheck summary statistics with dropped US_bank_holidays:\n",
    "df7.describe()"
   ]
  },
  {
   "cell_type": "markdown",
   "id": "b5564f2d",
   "metadata": {},
   "source": [
    "## Plots:"
   ]
  },
  {
   "cell_type": "markdown",
   "id": "cadc0bb2",
   "metadata": {},
   "source": [
    "With so many twin axes to plot, I'll define a function to help plot all of twin axes time series data:"
   ]
  },
  {
   "cell_type": "code",
   "execution_count": 29,
   "id": "f90ff751",
   "metadata": {},
   "outputs": [],
   "source": [
    "def plot_timeseries(axes, x, y, color, xlabel, ylabel):\n",
    "    axes.plot(x,y,color=color)\n",
    "    axes.set_xlabel(xlabel)\n",
    "    axes.set_ylabel(ylabel)\n",
    "    axes.tick_params('y', colors = color)"
   ]
  },
  {
   "cell_type": "markdown",
   "id": "8387eb7d",
   "metadata": {},
   "source": [
    "## Connecticut"
   ]
  },
  {
   "cell_type": "code",
   "execution_count": 30,
   "id": "b7ffb602",
   "metadata": {
    "scrolled": false
   },
   "outputs": [
    {
     "data": {
      "image/png": "[encoded data removed]",
      "text/plain": [
       "<Figure size 432x288 with 2 Axes>"
      ]
     },
     "metadata": {
      "needs_background": "light"
     },
     "output_type": "display_data"
    }
   ],
   "source": [
    "#Plot CT time vs confirmed cases\n",
    "fig, ax = plt.subplots()\n",
    "plot_timeseries(ax, df7.index, df7['CT_Conf_Cases'], 'blue', 'Time', 'Confirmed Cases')\n",
    "plt.xticks(rotation=90)\n",
    "ax2 = ax.twinx()\n",
    "#Plot CT temp vs time\n",
    "plot_timeseries(ax2, df7.index, df7['CT_Avg_Temp(F)'], 'red', 'Time', 'Average Temperature (F)')\n",
    "plt.title('Connecticut temp vs conf cases over time')\n",
    "plt.xticks(rotation=90)\n",
    "plt.show()"
   ]
  },
  {
   "cell_type": "code",
   "execution_count": 31,
   "id": "937519de",
   "metadata": {},
   "outputs": [
    {
     "data": {
      "image/png": "[encoded data removed]",
      "text/plain": [
       "<Figure size 432x288 with 2 Axes>"
      ]
     },
     "metadata": {
      "needs_background": "light"
     },
     "output_type": "display_data"
    }
   ],
   "source": [
    "#Plot CT time vs confirmed cases\n",
    "fig, ax = plt.subplots()\n",
    "plot_timeseries(ax, df7.index, df7['CT_Conf_Cases'], 'blue', 'Time', 'Confirmed Cases')\n",
    "plt.xticks(rotation=90)\n",
    "ax2 = ax.twinx()\n",
    "#Plot CT prcp vs time\n",
    "plot_timeseries(ax2, df7.index, df7['CT_PRCP(mm)'], 'red', 'Time', 'CT_PRCP(mm)')\n",
    "plt.title('Connecticut prcp vs confirmed cases over time')\n",
    "plt.xticks(rotation=90)\n",
    "plt.show()"
   ]
  },
  {
   "cell_type": "markdown",
   "id": "d07b1ffe",
   "metadata": {},
   "source": [
    "***"
   ]
  },
  {
   "cell_type": "markdown",
   "id": "bcbf44e7",
   "metadata": {},
   "source": [
    "## Maine"
   ]
  },
  {
   "cell_type": "code",
   "execution_count": 32,
   "id": "eb6de82c",
   "metadata": {},
   "outputs": [
    {
     "data": {
      "image/png": "[encoded data removed]",
      "text/plain": [
       "<Figure size 432x288 with 2 Axes>"
      ]
     },
     "metadata": {
      "needs_background": "light"
     },
     "output_type": "display_data"
    }
   ],
   "source": [
    "#Plot ME time vs Avg. Temp \n",
    "fig, ax = plt.subplots()\n",
    "plot_timeseries(ax, df7.index, df7['ME_Conf_Cases'], 'blue', 'Time', 'Confirmed Cases')\n",
    "plt.xticks(rotation=90)\n",
    "ax2 = ax.twinx()\n",
    "plot_timeseries(ax2, df7.index, df7['ME_Avg_Temp(F)'], 'red', 'Time', 'Average Temperature (F)')\n",
    "plt.title('Maine Temp vs Conf Cases')\n",
    "plt.xticks(rotation=90)\n",
    "plt.show()"
   ]
  },
  {
   "cell_type": "code",
   "execution_count": 33,
   "id": "25ed4124",
   "metadata": {},
   "outputs": [
    {
     "data": {
      "image/png": "[encoded data removed]",
      "text/plain": [
       "<Figure size 432x288 with 2 Axes>"
      ]
     },
     "metadata": {
      "needs_background": "light"
     },
     "output_type": "display_data"
    }
   ],
   "source": [
    "#Plot ME time vs confirmed cases\n",
    "fig, ax = plt.subplots()\n",
    "plot_timeseries(ax, df7.index, df7['ME_Conf_Cases'], 'blue', 'Time', 'Confirmed Cases')\n",
    "plt.xticks(rotation=90)\n",
    "ax2 = ax.twinx()\n",
    "#Plot ME prcp vs time\n",
    "plot_timeseries(ax2, df7.index, df7['ME_PRCP(mm)'], 'red', 'Time', 'ME_PRCP(mm)')\n",
    "plt.title('Maine prcp vs confirmed cases over time')\n",
    "plt.xticks(rotation=90)\n",
    "plt.show()"
   ]
  },
  {
   "cell_type": "markdown",
   "id": "77f47afa",
   "metadata": {},
   "source": [
    "## Massachusetts"
   ]
  },
  {
   "cell_type": "code",
   "execution_count": 34,
   "id": "03fc993e",
   "metadata": {},
   "outputs": [
    {
     "data": {
      "image/png": "[encoded data removed]",
      "text/plain": [
       "<Figure size 432x288 with 2 Axes>"
      ]
     },
     "metadata": {
      "needs_background": "light"
     },
     "output_type": "display_data"
    }
   ],
   "source": [
    "#Plot MA time vs confirmed cases\n",
    "fig, ax = plt.subplots()\n",
    "plot_timeseries(ax, df7.index, df7['MA_Conf_Cases'], 'blue', 'Time', 'Confirmed Cases')\n",
    "plt.xticks(rotation=90)\n",
    "ax2 = ax.twinx()\n",
    "#Plot MA temp vs time\n",
    "plot_timeseries(ax2, df7.index, df7['MA_Avg_Temp(F)'], 'red', 'Time', 'MA_Avg_Temp(F)')\n",
    "plt.title('Massachusetts TAVG vs confirmed cases over time')\n",
    "plt.xticks(rotation=90)\n",
    "plt.show()"
   ]
  },
  {
   "cell_type": "code",
   "execution_count": 35,
   "id": "0e4bfa18",
   "metadata": {},
   "outputs": [
    {
     "data": {
      "image/png": "[encoded data removed]",
      "text/plain": [
       "<Figure size 432x288 with 2 Axes>"
      ]
     },
     "metadata": {
      "needs_background": "light"
     },
     "output_type": "display_data"
    }
   ],
   "source": [
    "#Plot MA time vs confirmed cases\n",
    "fig, ax = plt.subplots()\n",
    "plot_timeseries(ax, df7.index, df7['MA_Conf_Cases'], 'blue', 'Time', 'Confirmed Cases')\n",
    "plt.xticks(rotation=90)\n",
    "ax2 = ax.twinx()\n",
    "#Plot MA prcp vs time\n",
    "plot_timeseries(ax2, df7.index, df7['MA_PRCP(mm)'], 'red', 'Time', 'MA_PRCP(mm)')\n",
    "plt.title('Massachusetts prcp vs confirmed cases over time')\n",
    "plt.xticks(rotation=90)\n",
    "plt.show()"
   ]
  },
  {
   "cell_type": "markdown",
   "id": "21cb5d83",
   "metadata": {},
   "source": [
    "## Vermont"
   ]
  },
  {
   "cell_type": "code",
   "execution_count": 36,
   "id": "b5696de3",
   "metadata": {},
   "outputs": [
    {
     "data": {
      "image/png": "[encoded data removed]",
      "text/plain": [
       "<Figure size 432x288 with 2 Axes>"
      ]
     },
     "metadata": {
      "needs_background": "light"
     },
     "output_type": "display_data"
    }
   ],
   "source": [
    "#Plot VT time vs confirmed cases\n",
    "fig, ax = plt.subplots()\n",
    "plot_timeseries(ax, df7.index, df7['VT_Conf_Cases'], 'blue', 'Time', 'Confirmed Cases')\n",
    "plt.xticks(rotation=90)\n",
    "ax2 = ax.twinx()\n",
    "#Plot VT temp vs time\n",
    "plot_timeseries(ax2, df7.index, df7['VT_Avg_Temp(F)'], 'red', 'Time', 'VT_Avg_Temp(F)')\n",
    "plt.title('Vermont TAVG vs confirmed cases over time')\n",
    "plt.xticks(rotation=90)\n",
    "plt.show()"
   ]
  },
  {
   "cell_type": "code",
   "execution_count": 37,
   "id": "77bb5b7e",
   "metadata": {},
   "outputs": [
    {
     "data": {
      "image/png": "[encoded data removed]",
      "text/plain": [
       "<Figure size 432x288 with 2 Axes>"
      ]
     },
     "metadata": {
      "needs_background": "light"
     },
     "output_type": "display_data"
    }
   ],
   "source": [
    "#Plot VT time vs confirmed cases\n",
    "fig, ax = plt.subplots()\n",
    "plot_timeseries(ax, df7.index, df7['VT_Conf_Cases'], 'blue', 'Time', 'Confirmed Cases')\n",
    "plt.xticks(rotation=90)\n",
    "ax2 = ax.twinx()\n",
    "#Plot MA prcp vs time\n",
    "plot_timeseries(ax2, df7.index, df7['VT_PRCP(mm)'], 'red', 'Time', 'VT_PRCP(mm)')\n",
    "plt.title('Vermont prcp vs confirmed cases over time')\n",
    "plt.xticks(rotation=90)\n",
    "plt.show()"
   ]
  },
  {
   "cell_type": "markdown",
   "id": "28b89640",
   "metadata": {},
   "source": [
    "## Perform Shapiro-Wilk test for normality:"
   ]
  },
  {
   "cell_type": "code",
   "execution_count": 38,
   "id": "5b9a292c",
   "metadata": {},
   "outputs": [],
   "source": [
    "#Convert dataframe to array to perform Shapiro-Wilcox test:\n",
    "np_cov_weather7 = df7.to_numpy()"
   ]
  },
  {
   "cell_type": "code",
   "execution_count": 39,
   "id": "cdf9704c",
   "metadata": {},
   "outputs": [
    {
     "name": "stderr",
     "output_type": "stream",
     "text": [
      "/Users/abigailmorgan/opt/anaconda3/lib/python3.8/site-packages/scipy/stats/morestats.py:1681: UserWarning: p-value may not be accurate for N > 5000.\n",
      "  warnings.warn(\"p-value may not be accurate for N > 5000.\")\n"
     ]
    }
   ],
   "source": [
    "#Apply Shapiro test:\n",
    "shapiro_test = stats.shapiro(np_cov_weather7)"
   ]
  },
  {
   "cell_type": "code",
   "execution_count": 40,
   "id": "29d7bfbd",
   "metadata": {},
   "outputs": [
    {
     "name": "stdout",
     "output_type": "stream",
     "text": [
      "Shapiro test statistic is:  0.36322474479675293\n",
      "Shapiro p-value is:  0.0\n"
     ]
    }
   ],
   "source": [
    "#Print values:\n",
    "print(\"Shapiro test statistic is: \", shapiro_test.statistic)\n",
    "print(\"Shapiro p-value is: \", shapiro_test.pvalue)"
   ]
  },
  {
   "cell_type": "markdown",
   "id": "427ca05c",
   "metadata": {},
   "source": [
    "## Predictive Power Score:"
   ]
  },
  {
   "cell_type": "code",
   "execution_count": 41,
   "id": "c6b2cec8",
   "metadata": {},
   "outputs": [],
   "source": [
    "#Calculate ppscore \n",
    "pps = ppscore.matrix(df7)"
   ]
  },
  {
   "cell_type": "code",
   "execution_count": 42,
   "id": "ebfd2572",
   "metadata": {
    "scrolled": true
   },
   "outputs": [
    {
     "name": "stdout",
     "output_type": "stream",
     "text": [
      "                  x               y   ppscore            case  is_valid_score  \\\n",
      "0    VT_Avg_Temp(F)  VT_Avg_Temp(F)  1.000000  predict_itself            True   \n",
      "1    VT_Avg_Temp(F)     VT_PRCP(mm)  0.000000      regression            True   \n",
      "2    VT_Avg_Temp(F)  ME_Avg_Temp(F)  0.776164      regression            True   \n",
      "3    VT_Avg_Temp(F)     ME_PRCP(mm)  0.000000      regression            True   \n",
      "4    VT_Avg_Temp(F)  CT_Avg_Temp(F)  0.695089      regression            True   \n",
      "..              ...             ...       ...             ...             ...   \n",
      "164         weekday   CT_Conf_Cases  0.000000      regression            True   \n",
      "165         weekday   VT_Conf_Cases  0.000000      regression            True   \n",
      "166         weekday   ME_Conf_Cases  0.000000      regression            True   \n",
      "167         weekday   MA_Conf_Cases  0.000000      regression            True   \n",
      "168         weekday         weekday  1.000000  predict_itself            True   \n",
      "\n",
      "                  metric  baseline_score  model_score                    model  \n",
      "0                   None        0.000000     1.000000                     None  \n",
      "1    mean absolute error        2.330733     3.917893  DecisionTreeRegressor()  \n",
      "2    mean absolute error       16.948416     3.793664  DecisionTreeRegressor()  \n",
      "3    mean absolute error        2.791962     4.665476  DecisionTreeRegressor()  \n",
      "4    mean absolute error       14.985957     4.569388  DecisionTreeRegressor()  \n",
      "..                   ...             ...          ...                      ...  \n",
      "164  mean absolute error      173.591017   187.092065  DecisionTreeRegressor()  \n",
      "165  mean absolute error        0.602837     0.872943  DecisionTreeRegressor()  \n",
      "166  mean absolute error        1.496454     1.908687  DecisionTreeRegressor()  \n",
      "167  mean absolute error      206.023641   220.423740  DecisionTreeRegressor()  \n",
      "168                 None        0.000000     1.000000                     None  \n",
      "\n",
      "[169 rows x 9 columns]\n"
     ]
    }
   ],
   "source": [
    "print(pps)"
   ]
  },
  {
   "cell_type": "code",
   "execution_count": 57,
   "id": "1f4ba73d",
   "metadata": {},
   "outputs": [
    {
     "data": {
      "text/plain": [
       "<AxesSubplot:>"
      ]
     },
     "execution_count": 57,
     "metadata": {},
     "output_type": "execute_result"
    },
    {
     "data": {
      "image/png": "[encoded data removed]",
      "text/plain": [
       "<Figure size 432x288 with 2 Axes>"
      ]
     },
     "metadata": {
      "needs_background": "light"
     },
     "output_type": "display_data"
    }
   ],
   "source": [
    "sns.heatmap(df7.corr(), square=True, cmap='rocket')"
   ]
  },
  {
   "cell_type": "code",
   "execution_count": 46,
   "id": "058e43d5",
   "metadata": {},
   "outputs": [],
   "source": [
    "Hartford_CT = df7[['CT_Avg_Temp(F)', 'CT_PRCP(mm)', 'CT_Conf_Cases']]"
   ]
  },
  {
   "cell_type": "code",
   "execution_count": 67,
   "id": "08bef2c2",
   "metadata": {},
   "outputs": [
    {
     "data": {
      "text/plain": [
       "<AxesSubplot:>"
      ]
     },
     "execution_count": 67,
     "metadata": {},
     "output_type": "execute_result"
    },
    {
     "data": {
      "image/png": "[encoded data removed]",
      "text/plain": [
       "<Figure size 432x288 with 2 Axes>"
      ]
     },
     "metadata": {
      "needs_background": "light"
     },
     "output_type": "display_data"
    }
   ],
   "source": [
    "sns.heatmap(Hartford_CT.corr(), square=True, cmap='rocket')"
   ]
  },
  {
   "cell_type": "code",
   "execution_count": 64,
   "id": "855de591",
   "metadata": {},
   "outputs": [],
   "source": [
    "Middlesex_MA = df7[['MA_Avg_Temp(F)', 'MA_PRCP(mm)', 'MA_Conf_Cases']]"
   ]
  },
  {
   "cell_type": "code",
   "execution_count": 65,
   "id": "818d81ab",
   "metadata": {},
   "outputs": [
    {
     "data": {
      "text/plain": [
       "<AxesSubplot:>"
      ]
     },
     "execution_count": 65,
     "metadata": {},
     "output_type": "execute_result"
    },
    {
     "data": {
      "image/png": "[encoded data removed]",
      "text/plain": [
       "<Figure size 432x288 with 2 Axes>"
      ]
     },
     "metadata": {
      "needs_background": "light"
     },
     "output_type": "display_data"
    }
   ],
   "source": [
    "sns.heatmap(Middlesex_MA.corr(), square=True, cmap='rocket')"
   ]
  },
  {
   "cell_type": "code",
   "execution_count": 61,
   "id": "3611ae56",
   "metadata": {},
   "outputs": [],
   "source": [
    "Essex_VT = df7[['VT_Avg_Temp(F)', 'VT_PRCP(mm)', 'VT_Conf_Cases']]"
   ]
  },
  {
   "cell_type": "code",
   "execution_count": 62,
   "id": "4a22cd36",
   "metadata": {},
   "outputs": [
    {
     "data": {
      "text/plain": [
       "<AxesSubplot:>"
      ]
     },
     "execution_count": 62,
     "metadata": {},
     "output_type": "execute_result"
    },
    {
     "data": {
      "image/png": "[encoded data removed]",
      "text/plain": [
       "<Figure size 432x288 with 2 Axes>"
      ]
     },
     "metadata": {
      "needs_background": "light"
     },
     "output_type": "display_data"
    }
   ],
   "source": [
    "sns.heatmap(Essex_VT.corr(), square=True, cmap='rocket')"
   ]
  },
  {
   "cell_type": "code",
   "execution_count": 68,
   "id": "4b7328bf",
   "metadata": {},
   "outputs": [],
   "source": [
    "Piscataquis_ME = df7[['ME_Avg_Temp(F)', 'ME_PRCP(mm)', 'ME_Conf_Cases']]"
   ]
  },
  {
   "cell_type": "code",
   "execution_count": 69,
   "id": "d27cc034",
   "metadata": {},
   "outputs": [
    {
     "data": {
      "text/plain": [
       "<AxesSubplot:>"
      ]
     },
     "execution_count": 69,
     "metadata": {},
     "output_type": "execute_result"
    },
    {
     "data": {
      "image/png": "[encoded data removed]",
      "text/plain": [
       "<Figure size 432x288 with 2 Axes>"
      ]
     },
     "metadata": {
      "needs_background": "light"
     },
     "output_type": "display_data"
    }
   ],
   "source": [
    "sns.heatmap(Piscataquis_ME.corr(), square=True, cmap='rocket')"
   ]
  },
  {
   "cell_type": "code",
   "execution_count": null,
   "id": "bb72bf88",
   "metadata": {},
   "outputs": [],
   "source": []
  }
 ],
 "metadata": {
  "kernelspec": {
   "display_name": "Python 3",
   "language": "python",
   "name": "python3"
  },
  "language_info": {
   "codemirror_mode": {
    "name": "ipython",
    "version": 3
   },
   "file_extension": ".py",
   "mimetype": "text/x-python",
   "name": "python",
   "nbconvert_exporter": "python",
   "pygments_lexer": "ipython3",
   "version": "3.8.8"
  }
 },
 "nbformat": 4,
 "nbformat_minor": 5
}
