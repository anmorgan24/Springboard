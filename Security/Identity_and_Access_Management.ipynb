{
 "cells": [
  {
   "cell_type": "markdown",
   "id": "274b18ad",
   "metadata": {},
   "source": [
    "# Identity and Access Management\n",
    "**Instructor:** Mike Chapple, Associate Professor at the University of Notre Dame"
   ]
  },
  {
   "cell_type": "markdown",
   "id": "cc15dfe2",
   "metadata": {},
   "source": [
    "* **Identity and Access Management:** the set of controls and processes that ensure computer systems hae a consistent method to identify the entities authorized to access systems and resources, and ensure that only authorized access occurs.\n",
    "* **Entities:** Users, people; not always people. Can be physical or virtual objects or groups such as business units, servers, network segments, or access groups\n",
    "* **Identities:** Each entity may have one or more identities; in the case of people, identities normally corresponde to *roles* that an individual plays within an organization; each identity is a collection of **attributes** that describes the entity (identities may also have overlapping attributes)\n",
    "* **IAM programs** control physical and logical access to informaton, systems, devices, and facilities.\n",
    "* The **access control process** consists of three steps: \n",
    "    * **Identification**\n",
    "    * **Authentication**\n",
    "    * **Authorization**\n",
    "* **Subject/Object model:** \n",
    "    * **Subject:** The subject of an access control request is the user, device, or application that is requesting access to a resource (for example a user, device, digital sign in an office lobby, applications like inventory tracking system)\n",
    "    * **Object:** The object of an access control request is the resource that the subject wishes to access (basically, anything that you might want to control access to could then be the **object** of an access control request\n",
    "    * **Note:** An entity may be both a subject and an object depending upon the request\n",
    "    \n",
    "#### Provisioning and Deprovisioning Accounts\n",
    "* Account **administrators** are responsible for managing the provisioning and deprovisioning of user accounts:\n",
    "    * 1) **Provisioning:** After onboarding, administrators create authenticataion credentials and grant appropriate authorization\n",
    "    * 2) **Deprovisioning:** During the offboarding process, administrators disable accounts and revoke authorizations at the appropriate time.\n",
    "    \n",
    "#### Identity Security Issues\n",
    "* Importance of role-based security, whether as individuals or in groups\n",
    "* Device security:\n",
    "    * **Endpoints:**\n",
    "    * Hardware and software keyloggers\n",
    "    * Cached authentication information\n",
    "    * **Servers:**\n",
    "    * IAM system functions\n",
    "    * Standard cybersecurity controls\n",
    "    \n",
    "#### Identification mechanisms\n",
    "* Two most common identification mechanisms:\n",
    "    * Usernames\n",
    "    * Access cards\n",
    "\n",
    "#### Biometrics\n",
    "* Serve as both identification and authentication\n",
    "\n",
    "#### Good Biometric Systems Provide\n",
    "* Easy enrollment\n",
    "* Low false acceptance rates\n",
    "* Low false rejection rates\n",
    "* Low intrusiveness (they pass the \"creepiness\" test with users)\n",
    "\n",
    "#### Types\n",
    "* Fingerprint scans\n",
    "    * Often found on computing devices\n",
    "    * Allow self-enrollment\n",
    "    * Low false rejection rates\n",
    "* Eye scans\n",
    "    * Analyze:\n",
    "        * Color patterns of iris\n",
    "        * Blood vessels of retina\n",
    "    * Many users find them highly intrusive\n",
    "    \n",
    "* Voiceprint matching\n",
    "    * Requires user to speak/repeat a phrase\n",
    "    * Subject to replay attacks\n",
    "    * Not commonly used unless combined with other authentication techniques\n",
    "    \n",
    "#### Facial Recognition \n",
    "    * Scans a user's facial structure\n",
    "    * Has a high \"creepiness factor\"\n",
    "    * Improving error rates\n",
    "        * In the past a high false rejection rate\n",
    "        \n",
    "* Biometric authentication is growing in popularity:\n",
    "    * 1) more convenient\n",
    "    * 2) harder to fake\n",
    "        "
   ]
  },
  {
   "cell_type": "code",
   "execution_count": null,
   "id": "6b4cebaf",
   "metadata": {},
   "outputs": [],
   "source": []
  },
  {
   "cell_type": "code",
   "execution_count": null,
   "id": "d65be8f9",
   "metadata": {},
   "outputs": [],
   "source": []
  },
  {
   "cell_type": "code",
   "execution_count": null,
   "id": "6fabcf6f",
   "metadata": {},
   "outputs": [],
   "source": []
  },
  {
   "cell_type": "code",
   "execution_count": null,
   "id": "49e2f40e",
   "metadata": {},
   "outputs": [],
   "source": []
  },
  {
   "cell_type": "code",
   "execution_count": null,
   "id": "f64f86cc",
   "metadata": {},
   "outputs": [],
   "source": []
  },
  {
   "cell_type": "code",
   "execution_count": null,
   "id": "13fac191",
   "metadata": {},
   "outputs": [],
   "source": []
  },
  {
   "cell_type": "code",
   "execution_count": null,
   "id": "a3b287f4",
   "metadata": {},
   "outputs": [],
   "source": []
  },
  {
   "cell_type": "code",
   "execution_count": null,
   "id": "f5f5307a",
   "metadata": {},
   "outputs": [],
   "source": []
  },
  {
   "cell_type": "code",
   "execution_count": null,
   "id": "c422bf3e",
   "metadata": {},
   "outputs": [],
   "source": []
  },
  {
   "cell_type": "code",
   "execution_count": null,
   "id": "813d092a",
   "metadata": {},
   "outputs": [],
   "source": []
  },
  {
   "cell_type": "code",
   "execution_count": null,
   "id": "36e93097",
   "metadata": {},
   "outputs": [],
   "source": []
  },
  {
   "cell_type": "code",
   "execution_count": null,
   "id": "eac42fc0",
   "metadata": {},
   "outputs": [],
   "source": []
  }
 ],
 "metadata": {
  "kernelspec": {
   "display_name": "Python 3",
   "language": "python",
   "name": "python3"
  },
  "language_info": {
   "codemirror_mode": {
    "name": "ipython",
    "version": 3
   },
   "file_extension": ".py",
   "mimetype": "text/x-python",
   "name": "python",
   "nbconvert_exporter": "python",
   "pygments_lexer": "ipython3",
   "version": "3.8.8"
  }
 },
 "nbformat": 4,
 "nbformat_minor": 5
}
