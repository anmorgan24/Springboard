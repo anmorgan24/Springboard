{
 "cells": [
  {
   "cell_type": "markdown",
   "id": "2bd413e1",
   "metadata": {},
   "source": [
    "# Comet_ Exp_1"
   ]
  },
  {
   "cell_type": "code",
   "execution_count": 3,
   "id": "4ef1168f",
   "metadata": {},
   "outputs": [],
   "source": [
    "#comet_ml.config.save(api_key=\"6nqNtbriNKs0S3fnJAPDs0lAo\")"
   ]
  },
  {
   "cell_type": "code",
   "execution_count": 4,
   "id": "08c63a3e",
   "metadata": {},
   "outputs": [],
   "source": [
    "from comet_ml import API\n",
    "import comet_ml\n",
    "\n",
    "import matplotlib.pyplot as plt\n",
    "%matplotlib inline"
   ]
  },
  {
   "cell_type": "code",
   "execution_count": 5,
   "id": "3e20aeac",
   "metadata": {},
   "outputs": [],
   "source": [
    "comet_api = API()"
   ]
  },
  {
   "cell_type": "code",
   "execution_count": 6,
   "id": "e79accba",
   "metadata": {},
   "outputs": [
    {
     "data": {
      "text/plain": [
       "['abigailm']"
      ]
     },
     "execution_count": 6,
     "metadata": {},
     "output_type": "execute_result"
    }
   ],
   "source": [
    "comet_api.get()"
   ]
  },
  {
   "cell_type": "code",
   "execution_count": 7,
   "id": "f47af692",
   "metadata": {},
   "outputs": [
    {
     "name": "stdout",
     "output_type": "stream",
     "text": [
      "['mnist-vision', 'general', 'comet-examples', 'audio-urbansound8k', 'nlp-twitter-airline']\n"
     ]
    }
   ],
   "source": [
    "print(comet_api.get(\"abigailm\"))"
   ]
  },
  {
   "cell_type": "code",
   "execution_count": null,
   "id": "4747ec6f",
   "metadata": {},
   "outputs": [],
   "source": []
  },
  {
   "cell_type": "code",
   "execution_count": null,
   "id": "8c60a438",
   "metadata": {},
   "outputs": [],
   "source": []
  },
  {
   "cell_type": "code",
   "execution_count": null,
   "id": "212daf6b",
   "metadata": {},
   "outputs": [],
   "source": []
  },
  {
   "cell_type": "code",
   "execution_count": null,
   "id": "404d67e1",
   "metadata": {},
   "outputs": [],
   "source": []
  }
 ],
 "metadata": {
  "kernelspec": {
   "display_name": "Python 3",
   "language": "python",
   "name": "python3"
  },
  "language_info": {
   "codemirror_mode": {
    "name": "ipython",
    "version": 3
   },
   "file_extension": ".py",
   "mimetype": "text/x-python",
   "name": "python",
   "nbconvert_exporter": "python",
   "pygments_lexer": "ipython3",
   "version": "3.8.8"
  }
 },
 "nbformat": 4,
 "nbformat_minor": 5
}
