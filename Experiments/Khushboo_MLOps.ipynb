{
 "cells": [
  {
   "cell_type": "code",
   "execution_count": 2,
   "id": "54e8907d",
   "metadata": {},
   "outputs": [],
   "source": [
    "import tensorflow as tf\n",
    "import numpy as np\n",
    "import matplotlib.pyplot as plt"
   ]
  },
  {
   "cell_type": "code",
   "execution_count": 3,
   "id": "5f345a3f",
   "metadata": {},
   "outputs": [
    {
     "name": "stdout",
     "output_type": "stream",
     "text": [
      "2.8.0\n"
     ]
    }
   ],
   "source": [
    "# Functions and procedures\n",
    "def plot_predictions(train_data, train_labels, \n",
    "                     test_data, test_labels, predictions):\n",
    "  \"\"\"\n",
    "  Plots training data, test data and compares predictions.\n",
    "  \"\"\"\n",
    "  plt.figure(figsize=(6, 5))\n",
    "  # Plot training data in blue\n",
    "  plt.scatter(train_data, train_labels, c=\"b\", \n",
    "            label=\"Training data\")\n",
    "  # Plot test data in green\n",
    "  plt.scatter(test_data, test_labels, c=\"g\", label=\"Testing data\")\n",
    "  # Plot the predictions in red that were made on the test data)\n",
    "  plt.scatter(test_data, predictions, c= \"r\", label = \"Predictions\")\n",
    "  # Show the legend\n",
    "  plt.legend(shadow = 'True')\n",
    "  # Set grids\n",
    "  plt.grid(which='major', c='#cccccc', linestyle = '--', alpha=0.5)\n",
    "  # Label axes, add title\n",
    "  plt.title('Model Results', family = 'Arial', fontsize = 14)\n",
    "  plt.xlabel('X axis values', family = 'Arial', fontsize = 11)\n",
    "  plt.ylabel('Y axis values', family = 'Arial', fontsize = 11)\n",
    "  # Save plot\n",
    "  plt.savefig('model_results.png', dpi=120)\n",
    "def mae(y_test, y_pred):\n",
    "  \"\"\"\n",
    "  Calculuates mean absolute error between y_test and y_preds.\n",
    "  \"\"\"\n",
    "  return tf.metrics.mean_absolute_error(y_test, y_pred)\n",
    "def mse(y_test, y_pred):\n",
    "  \"\"\"\n",
    "  Calculates mean squared error between y_test and y_preds.\n",
    "  \"\"\"\n",
    "  return tf.metrics.mean_squared_error(y_test, y_pred)\n",
    "# Check Tensorflow version\n",
    "print(tf.__version__)"
   ]
  },
  {
   "cell_type": "code",
   "execution_count": 4,
   "id": "816133d4",
   "metadata": {},
   "outputs": [],
   "source": [
    "# Create features\n",
    "X = np.arange(-100, 100, 4)\n",
    "# Create labels\n",
    "y = np.arange(-90, 110, 4)"
   ]
  },
  {
   "cell_type": "code",
   "execution_count": 5,
   "id": "1080afd4",
   "metadata": {},
   "outputs": [
    {
     "data": {
      "text/plain": [
       "(50,)"
      ]
     },
     "execution_count": 5,
     "metadata": {},
     "output_type": "execute_result"
    }
   ],
   "source": [
    "y.shape"
   ]
  },
  {
   "cell_type": "code",
   "execution_count": 10,
   "id": "2c3100be",
   "metadata": {},
   "outputs": [],
   "source": [
    "X=np.expand_dims(X, axis=1)"
   ]
  },
  {
   "cell_type": "code",
   "execution_count": 11,
   "id": "5e1d0e16",
   "metadata": {},
   "outputs": [],
   "source": [
    "np.expand_dims(y, axis=1)"
   ]
  },
  {
   "cell_type": "code",
   "execution_count": 12,
   "id": "da6bcb63",
   "metadata": {},
   "outputs": [],
   "source": [
    "# Split data into train and test sets\n",
    "X_train = X[:40] # first 40 examples (80% of data)\n",
    "y_train = y[:40]"
   ]
  },
  {
   "cell_type": "code",
   "execution_count": null,
   "id": "6dfbc942",
   "metadata": {},
   "outputs": [],
   "source": [
    "X_train.shape"
   ]
  },
  {
   "cell_type": "code",
   "execution_count": null,
   "id": "f909ce0c",
   "metadata": {},
   "outputs": [],
   "source": [
    "X_train = np.expand_dims(X_train, axis=0)"
   ]
  },
  {
   "cell_type": "code",
   "execution_count": null,
   "id": "b703e0f4",
   "metadata": {},
   "outputs": [],
   "source": [
    "X_train.shape"
   ]
  },
  {
   "cell_type": "code",
   "execution_count": null,
   "id": "a567333a",
   "metadata": {},
   "outputs": [],
   "source": [
    "y_train = np.expand_dims(y_train, axis=0)"
   ]
  },
  {
   "cell_type": "code",
   "execution_count": null,
   "id": "41b2405a",
   "metadata": {},
   "outputs": [],
   "source": [
    "y_train.shape"
   ]
  },
  {
   "cell_type": "raw",
   "id": "5697c456",
   "metadata": {},
   "source": []
  },
  {
   "cell_type": "code",
   "execution_count": null,
   "id": "8ae13bf3",
   "metadata": {},
   "outputs": [],
   "source": []
  },
  {
   "cell_type": "code",
   "execution_count": null,
   "id": "10c075de",
   "metadata": {},
   "outputs": [],
   "source": []
  },
  {
   "cell_type": "code",
   "execution_count": 13,
   "id": "128c446d",
   "metadata": {},
   "outputs": [],
   "source": [
    "X_test = X[40:] # last 10 examples (20% of data)\n",
    "y_test = y[40:]"
   ]
  },
  {
   "cell_type": "code",
   "execution_count": 14,
   "id": "9eab6ea8",
   "metadata": {},
   "outputs": [],
   "source": [
    "# Take a single example of X\n",
    "input_shape = X[0].shape"
   ]
  },
  {
   "cell_type": "code",
   "execution_count": 15,
   "id": "7d37f718",
   "metadata": {},
   "outputs": [],
   "source": [
    "# Take a single example of y\n",
    "output_shape = y[0].shape"
   ]
  },
  {
   "cell_type": "code",
   "execution_count": 16,
   "id": "8731c036",
   "metadata": {},
   "outputs": [
    {
     "data": {
      "text/plain": [
       "(1,)"
      ]
     },
     "execution_count": 16,
     "metadata": {},
     "output_type": "execute_result"
    }
   ],
   "source": [
    "input_shape"
   ]
  },
  {
   "cell_type": "code",
   "execution_count": 17,
   "id": "26fb66a7",
   "metadata": {},
   "outputs": [
    {
     "data": {
      "text/plain": [
       "(1,)"
      ]
     },
     "execution_count": 17,
     "metadata": {},
     "output_type": "execute_result"
    }
   ],
   "source": [
    "output_shape"
   ]
  },
  {
   "cell_type": "code",
   "execution_count": 18,
   "id": "2f90c257",
   "metadata": {},
   "outputs": [
    {
     "data": {
      "text/plain": [
       "(1,)"
      ]
     },
     "execution_count": 18,
     "metadata": {},
     "output_type": "execute_result"
    }
   ],
   "source": [
    "X[0].shape"
   ]
  },
  {
   "cell_type": "code",
   "execution_count": 19,
   "id": "923f3511",
   "metadata": {},
   "outputs": [
    {
     "data": {
      "text/plain": [
       "tuple"
      ]
     },
     "execution_count": 19,
     "metadata": {},
     "output_type": "execute_result"
    }
   ],
   "source": [
    "type(input_shape)"
   ]
  },
  {
   "cell_type": "code",
   "execution_count": 20,
   "id": "c116626a",
   "metadata": {},
   "outputs": [],
   "source": [
    "# Set random seed\n",
    "tf.random.set_seed(42)"
   ]
  },
  {
   "cell_type": "code",
   "execution_count": 21,
   "id": "1614313d",
   "metadata": {},
   "outputs": [],
   "source": [
    "# Create a model using the Sequential API\n",
    "model = tf.keras.Sequential([\n",
    "    tf.keras.layers.Dense(1),\n",
    "    tf.keras.layers.Dense(1)\n",
    "    ])"
   ]
  },
  {
   "cell_type": "code",
   "execution_count": 22,
   "id": "477b1230",
   "metadata": {},
   "outputs": [],
   "source": [
    "# Compile the model\n",
    "model.compile(loss = tf.keras.losses.mae,\n",
    "              optimizer = tf.keras.optimizers.SGD(),\n",
    "              metrics = ['mae'])"
   ]
  },
  {
   "cell_type": "code",
   "execution_count": 23,
   "id": "0f7fddde",
   "metadata": {},
   "outputs": [
    {
     "name": "stdout",
     "output_type": "stream",
     "text": [
      "Epoch 1/100\n",
      "2/2 [==============================] - 0s 3ms/step - loss: 22.6625 - mae: 22.6625\n",
      "Epoch 2/100\n",
      "2/2 [==============================] - 0s 3ms/step - loss: 16.9439 - mae: 16.9439\n",
      "Epoch 3/100\n",
      "2/2 [==============================] - 0s 3ms/step - loss: 13.8059 - mae: 13.8059\n",
      "Epoch 4/100\n",
      "2/2 [==============================] - 0s 2ms/step - loss: 17.4504 - mae: 17.4504\n",
      "Epoch 5/100\n",
      "2/2 [==============================] - 0s 2ms/step - loss: 12.0637 - mae: 12.0637\n",
      "Epoch 6/100\n",
      "2/2 [==============================] - 0s 2ms/step - loss: 9.8335 - mae: 9.8335\n",
      "Epoch 7/100\n",
      "2/2 [==============================] - 0s 3ms/step - loss: 10.7023 - mae: 10.7023\n",
      "Epoch 8/100\n",
      "2/2 [==============================] - 0s 2ms/step - loss: 10.8713 - mae: 10.8713\n",
      "Epoch 9/100\n",
      "2/2 [==============================] - 0s 3ms/step - loss: 38.0435 - mae: 38.0435\n",
      "Epoch 10/100\n",
      "2/2 [==============================] - 0s 2ms/step - loss: 25.6226 - mae: 25.6226\n",
      "Epoch 11/100\n",
      "2/2 [==============================] - 0s 2ms/step - loss: 10.2375 - mae: 10.2375\n",
      "Epoch 12/100\n",
      "2/2 [==============================] - 0s 3ms/step - loss: 25.1960 - mae: 25.1960\n",
      "Epoch 13/100\n",
      "2/2 [==============================] - 0s 2ms/step - loss: 17.0177 - mae: 17.0177\n",
      "Epoch 14/100\n",
      "2/2 [==============================] - 0s 2ms/step - loss: 25.9747 - mae: 25.9747\n",
      "Epoch 15/100\n",
      "2/2 [==============================] - 0s 3ms/step - loss: 18.0366 - mae: 18.0366\n",
      "Epoch 16/100\n",
      "2/2 [==============================] - 0s 2ms/step - loss: 7.3513 - mae: 7.3513\n",
      "Epoch 17/100\n",
      "2/2 [==============================] - 0s 2ms/step - loss: 10.8516 - mae: 10.8516\n",
      "Epoch 18/100\n",
      "2/2 [==============================] - 0s 2ms/step - loss: 19.5119 - mae: 19.5119\n",
      "Epoch 19/100\n",
      "2/2 [==============================] - 0s 2ms/step - loss: 10.3378 - mae: 10.3378\n",
      "Epoch 20/100\n",
      "2/2 [==============================] - 0s 2ms/step - loss: 17.6840 - mae: 17.6840\n",
      "Epoch 21/100\n",
      "2/2 [==============================] - 0s 2ms/step - loss: 15.8826 - mae: 15.8826\n",
      "Epoch 22/100\n",
      "2/2 [==============================] - 0s 2ms/step - loss: 14.1778 - mae: 14.1778\n",
      "Epoch 23/100\n",
      "2/2 [==============================] - 0s 2ms/step - loss: 8.7814 - mae: 8.7814\n",
      "Epoch 24/100\n",
      "2/2 [==============================] - 0s 2ms/step - loss: 11.0673 - mae: 11.0673\n",
      "Epoch 25/100\n",
      "2/2 [==============================] - 0s 3ms/step - loss: 12.6998 - mae: 12.6998\n",
      "Epoch 26/100\n",
      "2/2 [==============================] - 0s 3ms/step - loss: 26.2396 - mae: 26.2396\n",
      "Epoch 27/100\n",
      "2/2 [==============================] - 0s 2ms/step - loss: 11.7524 - mae: 11.7524\n",
      "Epoch 28/100\n",
      "2/2 [==============================] - 0s 2ms/step - loss: 22.9252 - mae: 22.9252\n",
      "Epoch 29/100\n",
      "2/2 [==============================] - 0s 2ms/step - loss: 9.2439 - mae: 9.2439\n",
      "Epoch 30/100\n",
      "2/2 [==============================] - 0s 2ms/step - loss: 29.3121 - mae: 29.3121\n",
      "Epoch 31/100\n",
      "2/2 [==============================] - 0s 2ms/step - loss: 53.1141 - mae: 53.1141\n",
      "Epoch 32/100\n",
      "2/2 [==============================] - 0s 3ms/step - loss: 12.3708 - mae: 12.3708\n",
      "Epoch 33/100\n",
      "2/2 [==============================] - 0s 3ms/step - loss: 12.1831 - mae: 12.1831\n",
      "Epoch 34/100\n",
      "2/2 [==============================] - 0s 2ms/step - loss: 23.9483 - mae: 23.9483\n",
      "Epoch 35/100\n",
      "2/2 [==============================] - 0s 2ms/step - loss: 12.6223 - mae: 12.6223\n",
      "Epoch 36/100\n",
      "2/2 [==============================] - 0s 3ms/step - loss: 21.5243 - mae: 21.5243\n",
      "Epoch 37/100\n",
      "2/2 [==============================] - 0s 3ms/step - loss: 11.3913 - mae: 11.3913\n",
      "Epoch 38/100\n",
      "2/2 [==============================] - 0s 2ms/step - loss: 13.4744 - mae: 13.4744\n",
      "Epoch 39/100\n",
      "2/2 [==============================] - 0s 2ms/step - loss: 10.7992 - mae: 10.7992\n",
      "Epoch 40/100\n",
      "2/2 [==============================] - 0s 4ms/step - loss: 16.6026 - mae: 16.6026\n",
      "Epoch 41/100\n",
      "2/2 [==============================] - 0s 2ms/step - loss: 10.9797 - mae: 10.9797\n",
      "Epoch 42/100\n",
      "2/2 [==============================] - 0s 4ms/step - loss: 9.3049 - mae: 9.3049\n",
      "Epoch 43/100\n",
      "2/2 [==============================] - 0s 2ms/step - loss: 9.5985 - mae: 9.5985\n",
      "Epoch 44/100\n",
      "2/2 [==============================] - 0s 2ms/step - loss: 27.9750 - mae: 27.9750\n",
      "Epoch 45/100\n",
      "2/2 [==============================] - 0s 3ms/step - loss: 11.2865 - mae: 11.2865\n",
      "Epoch 46/100\n",
      "2/2 [==============================] - 0s 2ms/step - loss: 14.0574 - mae: 14.0574\n",
      "Epoch 47/100\n",
      "2/2 [==============================] - 0s 2ms/step - loss: 13.5113 - mae: 13.5113\n",
      "Epoch 48/100\n",
      "2/2 [==============================] - 0s 2ms/step - loss: 17.3531 - mae: 17.3531\n",
      "Epoch 49/100\n",
      "2/2 [==============================] - 0s 2ms/step - loss: 9.5141 - mae: 9.5141\n",
      "Epoch 50/100\n",
      "2/2 [==============================] - 0s 3ms/step - loss: 13.6965 - mae: 13.6965\n",
      "Epoch 51/100\n",
      "2/2 [==============================] - 0s 3ms/step - loss: 11.5602 - mae: 11.5602\n",
      "Epoch 52/100\n",
      "2/2 [==============================] - 0s 2ms/step - loss: 30.1688 - mae: 30.1688\n",
      "Epoch 53/100\n",
      "2/2 [==============================] - 0s 3ms/step - loss: 13.7142 - mae: 13.7142\n",
      "Epoch 54/100\n",
      "2/2 [==============================] - 0s 2ms/step - loss: 26.3987 - mae: 26.3987\n",
      "Epoch 55/100\n",
      "2/2 [==============================] - 0s 2ms/step - loss: 25.9838 - mae: 25.9838\n",
      "Epoch 56/100\n",
      "2/2 [==============================] - 0s 2ms/step - loss: 11.2307 - mae: 11.2307\n",
      "Epoch 57/100\n",
      "2/2 [==============================] - 0s 2ms/step - loss: 13.2025 - mae: 13.2025\n",
      "Epoch 58/100\n",
      "2/2 [==============================] - 0s 4ms/step - loss: 9.8624 - mae: 9.8624\n",
      "Epoch 59/100\n",
      "2/2 [==============================] - 0s 2ms/step - loss: 13.3870 - mae: 13.3870\n",
      "Epoch 60/100\n",
      "2/2 [==============================] - 0s 2ms/step - loss: 10.9240 - mae: 10.9240\n",
      "Epoch 61/100\n",
      "2/2 [==============================] - 0s 3ms/step - loss: 13.5375 - mae: 13.5375\n",
      "Epoch 62/100\n",
      "2/2 [==============================] - 0s 2ms/step - loss: 17.6004 - mae: 17.6004\n",
      "Epoch 63/100\n",
      "2/2 [==============================] - 0s 3ms/step - loss: 9.1937 - mae: 9.1937\n",
      "Epoch 64/100\n",
      "2/2 [==============================] - 0s 3ms/step - loss: 18.4644 - mae: 18.4644\n",
      "Epoch 65/100\n",
      "2/2 [==============================] - 0s 2ms/step - loss: 10.1481 - mae: 10.1481\n",
      "Epoch 66/100\n",
      "2/2 [==============================] - 0s 2ms/step - loss: 24.3358 - mae: 24.3358\n",
      "Epoch 67/100\n",
      "2/2 [==============================] - 0s 3ms/step - loss: 10.9262 - mae: 10.9262\n",
      "Epoch 68/100\n",
      "2/2 [==============================] - 0s 2ms/step - loss: 10.8005 - mae: 10.8005\n",
      "Epoch 69/100\n",
      "2/2 [==============================] - 0s 2ms/step - loss: 23.3092 - mae: 23.3092\n",
      "Epoch 70/100\n",
      "2/2 [==============================] - 0s 3ms/step - loss: 8.8134 - mae: 8.8134\n",
      "Epoch 71/100\n",
      "2/2 [==============================] - 0s 2ms/step - loss: 15.9715 - mae: 15.9715\n",
      "Epoch 72/100\n",
      "2/2 [==============================] - 0s 2ms/step - loss: 8.1469 - mae: 8.1469\n",
      "Epoch 73/100\n",
      "2/2 [==============================] - 0s 3ms/step - loss: 9.4683 - mae: 9.4683\n",
      "Epoch 74/100\n",
      "2/2 [==============================] - 0s 2ms/step - loss: 28.1492 - mae: 28.1492\n",
      "Epoch 75/100\n",
      "2/2 [==============================] - 0s 2ms/step - loss: 10.2183 - mae: 10.2183\n",
      "Epoch 76/100\n",
      "2/2 [==============================] - 0s 3ms/step - loss: 13.1686 - mae: 13.1686\n",
      "Epoch 77/100\n",
      "2/2 [==============================] - 0s 2ms/step - loss: 18.4013 - mae: 18.4013\n",
      "Epoch 78/100\n",
      "2/2 [==============================] - 0s 2ms/step - loss: 9.0304 - mae: 9.0304\n",
      "Epoch 79/100\n",
      "2/2 [==============================] - 0s 3ms/step - loss: 23.4406 - mae: 23.4406\n",
      "Epoch 80/100\n",
      "2/2 [==============================] - 0s 2ms/step - loss: 26.1121 - mae: 26.1121\n",
      "Epoch 81/100\n",
      "2/2 [==============================] - 0s 2ms/step - loss: 11.4009 - mae: 11.4009\n",
      "Epoch 82/100\n",
      "2/2 [==============================] - 0s 2ms/step - loss: 12.5022 - mae: 12.5022\n",
      "Epoch 83/100\n",
      "2/2 [==============================] - 0s 3ms/step - loss: 17.1949 - mae: 17.1949\n",
      "Epoch 84/100\n",
      "2/2 [==============================] - 0s 3ms/step - loss: 6.6097 - mae: 6.6097\n",
      "Epoch 85/100\n",
      "2/2 [==============================] - 0s 2ms/step - loss: 20.2734 - mae: 20.2734\n",
      "Epoch 86/100\n",
      "2/2 [==============================] - 0s 2ms/step - loss: 10.1761 - mae: 10.1761\n",
      "Epoch 87/100\n"
     ]
    },
    {
     "name": "stdout",
     "output_type": "stream",
     "text": [
      "2/2 [==============================] - 0s 2ms/step - loss: 24.3047 - mae: 24.3047\n",
      "Epoch 88/100\n",
      "2/2 [==============================] - 0s 2ms/step - loss: 18.9693 - mae: 18.9693\n",
      "Epoch 89/100\n",
      "2/2 [==============================] - 0s 2ms/step - loss: 7.1749 - mae: 7.1749\n",
      "Epoch 90/100\n",
      "2/2 [==============================] - 0s 2ms/step - loss: 18.2784 - mae: 18.2784\n",
      "Epoch 91/100\n",
      "2/2 [==============================] - 0s 2ms/step - loss: 13.3343 - mae: 13.3343\n",
      "Epoch 92/100\n",
      "2/2 [==============================] - 0s 3ms/step - loss: 8.7404 - mae: 8.7404\n",
      "Epoch 93/100\n",
      "2/2 [==============================] - 0s 2ms/step - loss: 14.1947 - mae: 14.1947\n",
      "Epoch 94/100\n",
      "2/2 [==============================] - 0s 2ms/step - loss: 17.1955 - mae: 17.1955\n",
      "Epoch 95/100\n",
      "2/2 [==============================] - 0s 3ms/step - loss: 16.7777 - mae: 16.7777\n",
      "Epoch 96/100\n",
      "2/2 [==============================] - 0s 2ms/step - loss: 11.1365 - mae: 11.1365\n",
      "Epoch 97/100\n",
      "2/2 [==============================] - 0s 2ms/step - loss: 21.1983 - mae: 21.1983\n",
      "Epoch 98/100\n",
      "2/2 [==============================] - 0s 2ms/step - loss: 10.4874 - mae: 10.4874\n",
      "Epoch 99/100\n",
      "2/2 [==============================] - 0s 2ms/step - loss: 14.5632 - mae: 14.5632\n",
      "Epoch 100/100\n",
      "2/2 [==============================] - 0s 2ms/step - loss: 17.7188 - mae: 17.7188\n"
     ]
    },
    {
     "data": {
      "text/plain": [
       "<keras.callbacks.History at 0x7f9fe9669ee0>"
      ]
     },
     "execution_count": 23,
     "metadata": {},
     "output_type": "execute_result"
    }
   ],
   "source": [
    "# Fit the model\n",
    "model.fit(X_train, y_train, epochs=100)"
   ]
  },
  {
   "cell_type": "code",
   "execution_count": 24,
   "id": "16db335c",
   "metadata": {},
   "outputs": [
    {
     "data": {
      "image/png": "[encoded data removed]",
      "text/plain": [
       "<Figure size 432x360 with 1 Axes>"
      ]
     },
     "metadata": {
      "needs_background": "light"
     },
     "output_type": "display_data"
    }
   ],
   "source": [
    "# Make and plot predictions for model_1\n",
    "y_preds = model.predict(X_test)\n",
    "plot_predictions(train_data=X_train, train_labels=y_train, test_data=X_test, test_labels=y_test, predictions=y_preds)"
   ]
  },
  {
   "cell_type": "code",
   "execution_count": 32,
   "id": "8c558cdb",
   "metadata": {},
   "outputs": [
    {
     "name": "stdout",
     "output_type": "stream",
     "text": [
      "\n",
      "Mean Absolute Error = 1.91, Mean Squared Error = 5.46.\n"
     ]
    }
   ],
   "source": [
    "# Calculate model metrics\n",
    "mae_1 = np.round(float(mae(np.squeeze(y_test), np.squeeze(y_preds))), 2)\n",
    "mse_1 = np.round(float(mse(np.squeeze(y_test), np.squeeze(y_preds))), 2)\n",
    "print(f'\\nMean Absolute Error = {mae_1}, Mean Squared Error = {mse_1}.')"
   ]
  },
  {
   "cell_type": "code",
   "execution_count": 35,
   "id": "9837e7c1",
   "metadata": {},
   "outputs": [
    {
     "name": "stdout",
     "output_type": "stream",
     "text": [
      "\n",
      "Mean Absolute Error = 1.91, Mean Squared Error = 5.46.\n"
     ]
    }
   ],
   "source": [
    "# Calculate model metrics\n",
    "mae_1 = np.round(float(mae(y_test.squeeze(), np.squeeze(y_preds))), 2)\n",
    "mse_1 = np.round(float(mse(np.squeeze(y_test), np.squeeze(y_preds))), 2)\n",
    "print(f'\\nMean Absolute Error = {mae_1}, Mean Squared Error = {mse_1}.')"
   ]
  },
  {
   "cell_type": "code",
   "execution_count": null,
   "id": "d1198261",
   "metadata": {},
   "outputs": [],
   "source": []
  },
  {
   "cell_type": "code",
   "execution_count": null,
   "id": "ad9cd792",
   "metadata": {},
   "outputs": [],
   "source": []
  },
  {
   "cell_type": "code",
   "execution_count": null,
   "id": "aafd2bbb",
   "metadata": {},
   "outputs": [],
   "source": []
  },
  {
   "cell_type": "code",
   "execution_count": null,
   "id": "abd22156",
   "metadata": {},
   "outputs": [],
   "source": []
  },
  {
   "cell_type": "code",
   "execution_count": null,
   "id": "067b5448",
   "metadata": {},
   "outputs": [],
   "source": []
  },
  {
   "cell_type": "code",
   "execution_count": null,
   "id": "1e7ce430",
   "metadata": {},
   "outputs": [],
   "source": []
  },
  {
   "cell_type": "code",
   "execution_count": null,
   "id": "ee1deae2",
   "metadata": {},
   "outputs": [],
   "source": []
  },
  {
   "cell_type": "code",
   "execution_count": null,
   "id": "a76f1364",
   "metadata": {},
   "outputs": [],
   "source": []
  },
  {
   "cell_type": "code",
   "execution_count": null,
   "id": "1d72e5b6",
   "metadata": {},
   "outputs": [],
   "source": []
  },
  {
   "cell_type": "code",
   "execution_count": null,
   "id": "eb96c0c5",
   "metadata": {},
   "outputs": [],
   "source": []
  },
  {
   "cell_type": "code",
   "execution_count": null,
   "id": "8fd849de",
   "metadata": {},
   "outputs": [],
   "source": []
  },
  {
   "cell_type": "code",
   "execution_count": 33,
   "id": "253a9e48",
   "metadata": {},
   "outputs": [
    {
     "data": {
      "text/plain": [
       "array([-90, -86, -82, -78, -74, -70, -66, -62, -58, -54, -50, -46, -42,\n",
       "       -38, -34, -30, -26, -22, -18, -14, -10,  -6,  -2,   2,   6,  10,\n",
       "        14,  18,  22,  26,  30,  34,  38,  42,  46,  50,  54,  58,  62,\n",
       "        66])"
      ]
     },
     "execution_count": 33,
     "metadata": {},
     "output_type": "execute_result"
    }
   ],
   "source": [
    "y_train.squeeze()"
   ]
  },
  {
   "cell_type": "code",
   "execution_count": 34,
   "id": "1484ee02",
   "metadata": {},
   "outputs": [
    {
     "data": {
      "text/plain": [
       "array([[-90],\n",
       "       [-86],\n",
       "       [-82],\n",
       "       [-78],\n",
       "       [-74],\n",
       "       [-70],\n",
       "       [-66],\n",
       "       [-62],\n",
       "       [-58],\n",
       "       [-54],\n",
       "       [-50],\n",
       "       [-46],\n",
       "       [-42],\n",
       "       [-38],\n",
       "       [-34],\n",
       "       [-30],\n",
       "       [-26],\n",
       "       [-22],\n",
       "       [-18],\n",
       "       [-14],\n",
       "       [-10],\n",
       "       [ -6],\n",
       "       [ -2],\n",
       "       [  2],\n",
       "       [  6],\n",
       "       [ 10],\n",
       "       [ 14],\n",
       "       [ 18],\n",
       "       [ 22],\n",
       "       [ 26],\n",
       "       [ 30],\n",
       "       [ 34],\n",
       "       [ 38],\n",
       "       [ 42],\n",
       "       [ 46],\n",
       "       [ 50],\n",
       "       [ 54],\n",
       "       [ 58],\n",
       "       [ 62],\n",
       "       [ 66]])"
      ]
     },
     "execution_count": 34,
     "metadata": {},
     "output_type": "execute_result"
    }
   ],
   "source": [
    "y_train"
   ]
  },
  {
   "cell_type": "code",
   "execution_count": null,
   "id": "dc06cce7",
   "metadata": {},
   "outputs": [],
   "source": [
    "mae_1 = np.round(float(mae(y_test, y_preds.squeeze()).numpy()), 2)\n",
    "mse_1 = np.round(float(mse(y_test, y_preds.squeeze()).numpy()), 2)\n",
    "print(f'\\nMean Absolute Error = {mae_1}, Mean Squared Error = {mse_1}.')"
   ]
  },
  {
   "cell_type": "code",
   "execution_count": null,
   "id": "a481805e",
   "metadata": {},
   "outputs": [],
   "source": []
  },
  {
   "cell_type": "code",
   "execution_count": null,
   "id": "1620c7e7",
   "metadata": {},
   "outputs": [],
   "source": [
    "# Make and plot predictions for model_1\n",
    "y_preds = model.predict(X_test)\n",
    "plot_predictions(train_data=X_train, train_labels=y_train, test_data=X_test, test_labels=y_test, predictions=y_preds)\n",
    "# Calculate model_1 metrics\n",
    "mae_1 = np.round(float(mae(y_test, y_preds.squeeze()).numpy()), 2)\n",
    "mse_1 = np.round(float(mse(y_test, y_preds.squeeze()).numpy()), 2)\n",
    "print(f'\\nMean Absolute Error = {mae_1}, Mean Squared Error = {mse_1}.')\n",
    "# Write metrics to file\n",
    "with open('metrics.txt', 'w') as outfile:\n",
    "    outfile.write(f'\\nMean Absolute Error = {mae_1}, Mean Squared Error = {mse_1}.')"
   ]
  },
  {
   "cell_type": "code",
   "execution_count": null,
   "id": "1da2076d",
   "metadata": {},
   "outputs": [],
   "source": []
  },
  {
   "cell_type": "code",
   "execution_count": null,
   "id": "2110fd18",
   "metadata": {},
   "outputs": [],
   "source": []
  },
  {
   "cell_type": "code",
   "execution_count": null,
   "id": "f43999bb",
   "metadata": {},
   "outputs": [],
   "source": [
    "x_train,x_test,y_train,y_test=train_test_split(X,y, test_size=0.40)"
   ]
  },
  {
   "cell_type": "code",
   "execution_count": null,
   "id": "4a1c5778",
   "metadata": {},
   "outputs": [],
   "source": []
  },
  {
   "cell_type": "code",
   "execution_count": null,
   "id": "07cbcd2e",
   "metadata": {},
   "outputs": [],
   "source": []
  },
  {
   "cell_type": "code",
   "execution_count": null,
   "id": "e31a078c",
   "metadata": {},
   "outputs": [],
   "source": []
  },
  {
   "cell_type": "code",
   "execution_count": null,
   "id": "b4d30b26",
   "metadata": {},
   "outputs": [],
   "source": []
  }
 ],
 "metadata": {
  "kernelspec": {
   "display_name": "Python 3",
   "language": "python",
   "name": "python3"
  },
  "language_info": {
   "codemirror_mode": {
    "name": "ipython",
    "version": 3
   },
   "file_extension": ".py",
   "mimetype": "text/x-python",
   "name": "python",
   "nbconvert_exporter": "python",
   "pygments_lexer": "ipython3",
   "version": "3.8.8"
  }
 },
 "nbformat": 4,
 "nbformat_minor": 5
}
