{
 "cells": [
  {
   "cell_type": "markdown",
   "id": "3d6ae045",
   "metadata": {},
   "source": [
    "# Khushboo NLP"
   ]
  },
  {
   "cell_type": "code",
   "execution_count": 1,
   "id": "e904872e",
   "metadata": {},
   "outputs": [],
   "source": [
    "import pandas as pd\n",
    "import spacy_sentence_bert"
   ]
  },
  {
   "cell_type": "code",
   "execution_count": 2,
   "id": "ac7b3b9c",
   "metadata": {},
   "outputs": [
    {
     "data": {
      "application/vnd.jupyter.widget-view+json": {
       "model_id": "e54505e99a4e411fbfb2d8b0f3ef1c5c",
       "version_major": 2,
       "version_minor": 0
      },
      "text/plain": [
       "Downloading:   0%|          | 0.00/748 [00:00<?, ?B/s]"
      ]
     },
     "metadata": {},
     "output_type": "display_data"
    },
    {
     "data": {
      "application/vnd.jupyter.widget-view+json": {
       "model_id": "9ff6b4fb067f4dc79da3732f04688931",
       "version_major": 2,
       "version_minor": 0
      },
      "text/plain": [
       "Downloading:   0%|          | 0.00/191 [00:00<?, ?B/s]"
      ]
     },
     "metadata": {},
     "output_type": "display_data"
    },
    {
     "data": {
      "application/vnd.jupyter.widget-view+json": {
       "model_id": "98998a92ccde4d2fa30a278b1080d010",
       "version_major": 2,
       "version_minor": 0
      },
      "text/plain": [
       "Downloading:   0%|          | 0.00/3.92k [00:00<?, ?B/s]"
      ]
     },
     "metadata": {},
     "output_type": "display_data"
    },
    {
     "data": {
      "application/vnd.jupyter.widget-view+json": {
       "model_id": "ed3a7a0a52f14725a73ddc34b5c8143a",
       "version_major": 2,
       "version_minor": 0
      },
      "text/plain": [
       "Downloading:   0%|          | 0.00/2.00 [00:00<?, ?B/s]"
      ]
     },
     "metadata": {},
     "output_type": "display_data"
    },
    {
     "data": {
      "application/vnd.jupyter.widget-view+json": {
       "model_id": "8bd47acd96284ef6bb694f59e82da38a",
       "version_major": 2,
       "version_minor": 0
      },
      "text/plain": [
       "Downloading:   0%|          | 0.00/674 [00:00<?, ?B/s]"
      ]
     },
     "metadata": {},
     "output_type": "display_data"
    },
    {
     "data": {
      "application/vnd.jupyter.widget-view+json": {
       "model_id": "90b63aa385434c9d91304262f2465449",
       "version_major": 2,
       "version_minor": 0
      },
      "text/plain": [
       "Downloading:   0%|          | 0.00/122 [00:00<?, ?B/s]"
      ]
     },
     "metadata": {},
     "output_type": "display_data"
    },
    {
     "data": {
      "application/vnd.jupyter.widget-view+json": {
       "model_id": "87e39ebba90d471582d4b0ffce82e1a9",
       "version_major": 2,
       "version_minor": 0
      },
      "text/plain": [
       "Downloading:   0%|          | 0.00/456k [00:00<?, ?B/s]"
      ]
     },
     "metadata": {},
     "output_type": "display_data"
    },
    {
     "data": {
      "application/vnd.jupyter.widget-view+json": {
       "model_id": "051ce10838384a679d9408110a494d9f",
       "version_major": 2,
       "version_minor": 0
      },
      "text/plain": [
       "Downloading:   0%|          | 0.00/229 [00:00<?, ?B/s]"
      ]
     },
     "metadata": {},
     "output_type": "display_data"
    },
    {
     "data": {
      "application/vnd.jupyter.widget-view+json": {
       "model_id": "6c5227adf16e46a3add399fe17331432",
       "version_major": 2,
       "version_minor": 0
      },
      "text/plain": [
       "Downloading:   0%|          | 0.00/1.42G [00:00<?, ?B/s]"
      ]
     },
     "metadata": {},
     "output_type": "display_data"
    },
    {
     "data": {
      "application/vnd.jupyter.widget-view+json": {
       "model_id": "7eba7c1499fb4b7e835f975c129f0d7d",
       "version_major": 2,
       "version_minor": 0
      },
      "text/plain": [
       "Downloading:   0%|          | 0.00/52.0 [00:00<?, ?B/s]"
      ]
     },
     "metadata": {},
     "output_type": "display_data"
    },
    {
     "data": {
      "application/vnd.jupyter.widget-view+json": {
       "model_id": "c756d9f75a014cb7ac692b434c95c676",
       "version_major": 2,
       "version_minor": 0
      },
      "text/plain": [
       "Downloading:   0%|          | 0.00/239 [00:00<?, ?B/s]"
      ]
     },
     "metadata": {},
     "output_type": "display_data"
    },
    {
     "data": {
      "application/vnd.jupyter.widget-view+json": {
       "model_id": "c28d6e3edb844245878dd4be2cc912d0",
       "version_major": 2,
       "version_minor": 0
      },
      "text/plain": [
       "Downloading:   0%|          | 0.00/1.36M [00:00<?, ?B/s]"
      ]
     },
     "metadata": {},
     "output_type": "display_data"
    },
    {
     "data": {
      "application/vnd.jupyter.widget-view+json": {
       "model_id": "d01dc920ae9d4751ae58129f8de0aa9e",
       "version_major": 2,
       "version_minor": 0
      },
      "text/plain": [
       "Downloading:   0%|          | 0.00/1.17k [00:00<?, ?B/s]"
      ]
     },
     "metadata": {},
     "output_type": "display_data"
    },
    {
     "data": {
      "application/vnd.jupyter.widget-view+json": {
       "model_id": "e23906af15a1474d9dba66aeb2d61fe0",
       "version_major": 2,
       "version_minor": 0
      },
      "text/plain": [
       "Downloading:   0%|          | 0.00/798k [00:00<?, ?B/s]"
      ]
     },
     "metadata": {},
     "output_type": "display_data"
    }
   ],
   "source": [
    "nlp = spacy_sentence_bert.load_model('en_stsb_roberta_large')"
   ]
  },
  {
   "cell_type": "code",
   "execution_count": 8,
   "id": "7a84a6ba",
   "metadata": {},
   "outputs": [],
   "source": [
    "df = pd.read_csv('khushboo.csv')"
   ]
  },
  {
   "cell_type": "code",
   "execution_count": 15,
   "id": "efad6b88",
   "metadata": {},
   "outputs": [],
   "source": [
    "df = df.iloc[:,:2]"
   ]
  },
  {
   "cell_type": "code",
   "execution_count": 19,
   "id": "da7b1786",
   "metadata": {},
   "outputs": [],
   "source": [
    "similarityValue = []"
   ]
  },
  {
   "cell_type": "code",
   "execution_count": 20,
   "id": "96daaa9a",
   "metadata": {},
   "outputs": [
    {
     "name": "stdout",
     "output_type": "stream",
     "text": [
      "I really do not like this product | I really like this product | 0.46160014447061426\n",
      "Where can I view my settings | I can't find the settings page | 0.5920929517701825\n",
      "How much will this cost? | Is this expensive? | 0.8745047836440117\n",
      "How do I change my password | change How I do password my | 0.7961366599790888\n",
      "Blah blah blah blah | Can I get some help? | 0.075365394880638\n",
      "Hello, is there anyone there? | Does this integrate with gmail? | 0.28507930040971546\n",
      "Where is your data stored? | How secure is your product | 0.41145218629275454\n",
      "What temperature is it today? | What time is the film in the cinema | 0.1803667250085681\n",
      "Can I sign up for a free trial | Do I need a credit card to get started? | 0.4651428729905862\n",
      "What is the Capital of Ireland? | What time is the game on? | 0.32758337488457906\n"
     ]
    }
   ],
   "source": [
    "for i in range(df.count()[0]):\n",
    "    Saved_Query = nlp(df.iloc[i][0])\n",
    "    New_Query = nlp(df.iloc[i][1])\n",
    "    similarityValue.append(Saved_Query.similarity(New_Query))\n",
    "    print(Saved_Query, '|', New_Query, '|', Saved_Query.similarity(New_Query))"
   ]
  },
  {
   "cell_type": "code",
   "execution_count": 23,
   "id": "6d311846",
   "metadata": {},
   "outputs": [],
   "source": [
    "df['Similarity'] = similarityValue"
   ]
  },
  {
   "cell_type": "code",
   "execution_count": 26,
   "id": "cede446b",
   "metadata": {},
   "outputs": [
    {
     "data": {
      "text/html": [
       "<div>\n",
       "<style scoped>\n",
       "    .dataframe tbody tr th:only-of-type {\n",
       "        vertical-align: middle;\n",
       "    }\n",
       "\n",
       "    .dataframe tbody tr th {\n",
       "        vertical-align: top;\n",
       "    }\n",
       "\n",
       "    .dataframe thead th {\n",
       "        text-align: right;\n",
       "    }\n",
       "</style>\n",
       "<table border=\"1\" class=\"dataframe\">\n",
       "  <thead>\n",
       "    <tr style=\"text-align: right;\">\n",
       "      <th></th>\n",
       "      <th>Saved_Query</th>\n",
       "      <th>New_Query</th>\n",
       "      <th>Similarity</th>\n",
       "    </tr>\n",
       "  </thead>\n",
       "  <tbody>\n",
       "    <tr>\n",
       "      <th>0</th>\n",
       "      <td>I really do not like this product</td>\n",
       "      <td>I really like this product</td>\n",
       "      <td>0.461600</td>\n",
       "    </tr>\n",
       "    <tr>\n",
       "      <th>1</th>\n",
       "      <td>Where can I view my settings</td>\n",
       "      <td>I can't find the settings page</td>\n",
       "      <td>0.592093</td>\n",
       "    </tr>\n",
       "    <tr>\n",
       "      <th>2</th>\n",
       "      <td>How much will this cost?</td>\n",
       "      <td>Is this expensive?</td>\n",
       "      <td>0.874505</td>\n",
       "    </tr>\n",
       "    <tr>\n",
       "      <th>3</th>\n",
       "      <td>How do I change my password</td>\n",
       "      <td>change How I do password my</td>\n",
       "      <td>0.796137</td>\n",
       "    </tr>\n",
       "    <tr>\n",
       "      <th>4</th>\n",
       "      <td>Blah blah blah blah</td>\n",
       "      <td>Can I get some help?</td>\n",
       "      <td>0.075365</td>\n",
       "    </tr>\n",
       "    <tr>\n",
       "      <th>5</th>\n",
       "      <td>Hello, is there anyone there?</td>\n",
       "      <td>Does this integrate with gmail?</td>\n",
       "      <td>0.285079</td>\n",
       "    </tr>\n",
       "    <tr>\n",
       "      <th>6</th>\n",
       "      <td>Where is your data stored?</td>\n",
       "      <td>How secure is your product</td>\n",
       "      <td>0.411452</td>\n",
       "    </tr>\n",
       "    <tr>\n",
       "      <th>7</th>\n",
       "      <td>What temperature is it today?</td>\n",
       "      <td>What time is the film in the cinema</td>\n",
       "      <td>0.180367</td>\n",
       "    </tr>\n",
       "    <tr>\n",
       "      <th>8</th>\n",
       "      <td>Can I sign up for a free trial</td>\n",
       "      <td>Do I need a credit card to get started?</td>\n",
       "      <td>0.465143</td>\n",
       "    </tr>\n",
       "    <tr>\n",
       "      <th>9</th>\n",
       "      <td>What is the Capital of Ireland?</td>\n",
       "      <td>What time is the game on?</td>\n",
       "      <td>0.327583</td>\n",
       "    </tr>\n",
       "  </tbody>\n",
       "</table>\n",
       "</div>"
      ],
      "text/plain": [
       "                         Saved_Query                                New_Query  \\\n",
       "0  I really do not like this product               I really like this product   \n",
       "1       Where can I view my settings           I can't find the settings page   \n",
       "2           How much will this cost?                       Is this expensive?   \n",
       "3        How do I change my password              change How I do password my   \n",
       "4                Blah blah blah blah                     Can I get some help?   \n",
       "5      Hello, is there anyone there?          Does this integrate with gmail?   \n",
       "6         Where is your data stored?               How secure is your product   \n",
       "7      What temperature is it today?      What time is the film in the cinema   \n",
       "8     Can I sign up for a free trial  Do I need a credit card to get started?   \n",
       "9    What is the Capital of Ireland?                What time is the game on?   \n",
       "\n",
       "   Similarity  \n",
       "0    0.461600  \n",
       "1    0.592093  \n",
       "2    0.874505  \n",
       "3    0.796137  \n",
       "4    0.075365  \n",
       "5    0.285079  \n",
       "6    0.411452  \n",
       "7    0.180367  \n",
       "8    0.465143  \n",
       "9    0.327583  "
      ]
     },
     "execution_count": 26,
     "metadata": {},
     "output_type": "execute_result"
    }
   ],
   "source": [
    "df"
   ]
  },
  {
   "cell_type": "code",
   "execution_count": null,
   "id": "358bf5ae",
   "metadata": {},
   "outputs": [],
   "source": []
  },
  {
   "cell_type": "code",
   "execution_count": null,
   "id": "61e8f49d",
   "metadata": {},
   "outputs": [],
   "source": []
  },
  {
   "cell_type": "code",
   "execution_count": null,
   "id": "28267adf",
   "metadata": {},
   "outputs": [],
   "source": []
  },
  {
   "cell_type": "code",
   "execution_count": null,
   "id": "44e8dff4",
   "metadata": {},
   "outputs": [],
   "source": []
  },
  {
   "cell_type": "code",
   "execution_count": null,
   "id": "b261e595",
   "metadata": {},
   "outputs": [],
   "source": []
  }
 ],
 "metadata": {
  "kernelspec": {
   "display_name": "Python 3 (ipykernel)",
   "language": "python",
   "name": "python3"
  },
  "language_info": {
   "codemirror_mode": {
    "name": "ipython",
    "version": 3
   },
   "file_extension": ".py",
   "mimetype": "text/x-python",
   "name": "python",
   "nbconvert_exporter": "python",
   "pygments_lexer": "ipython3",
   "version": "3.8.13"
  }
 },
 "nbformat": 4,
 "nbformat_minor": 5
}
