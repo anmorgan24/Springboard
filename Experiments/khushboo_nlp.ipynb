{
 "cells": [
  {
   "cell_type": "markdown",
   "id": "3d6ae045",
   "metadata": {},
   "source": [
    "# Khushboo NLP"
   ]
  },
  {
   "cell_type": "code",
   "execution_count": null,
   "id": "e904872e",
   "metadata": {},
   "outputs": [],
   "source": [
    "import pandas as pd\n",
    "import spacy_sentence_bert"
   ]
  },
  {
   "cell_type": "code",
   "execution_count": null,
   "id": "ac7b3b9c",
   "metadata": {},
   "outputs": [],
   "source": [
    "nlp = spacy_sentence_bert.load_model('en_stsb_roberta_large')"
   ]
  },
  {
   "cell_type": "code",
   "execution_count": null,
   "id": "7a84a6ba",
   "metadata": {},
   "outputs": [],
   "source": [
    "df = pd.read_csv('khushboo.csv')"
   ]
  },
  {
   "cell_type": "code",
   "execution_count": null,
   "id": "efad6b88",
   "metadata": {},
   "outputs": [],
   "source": [
    "df = df.iloc[:,:2]"
   ]
  },
  {
   "cell_type": "code",
   "execution_count": null,
   "id": "da7b1786",
   "metadata": {},
   "outputs": [],
   "source": [
    "similarityValue = []"
   ]
  },
  {
   "cell_type": "code",
   "execution_count": null,
   "id": "96daaa9a",
   "metadata": {},
   "outputs": [],
   "source": [
    "for i in range(df.count()[0]):\n",
    "    Saved_Query = nlp(df.iloc[i][0])\n",
    "    New_Query = nlp(df.iloc[i][1])\n",
    "    similarityValue.append(Saved_Query.similarity(New_Query))\n",
    "    print(Saved_Query, '|', New_Query, '|', Saved_Query.similarity(New_Query))"
   ]
  },
  {
   "cell_type": "code",
   "execution_count": null,
   "id": "6d311846",
   "metadata": {},
   "outputs": [],
   "source": [
    "df['Similarity'] = similarityValue"
   ]
  },
  {
   "cell_type": "code",
   "execution_count": null,
   "id": "cede446b",
   "metadata": {},
   "outputs": [],
   "source": [
    "df"
   ]
  },
  {
   "cell_type": "code",
   "execution_count": null,
   "id": "358bf5ae",
   "metadata": {},
   "outputs": [],
   "source": []
  },
  {
   "cell_type": "code",
   "execution_count": 1,
   "id": "61e8f49d",
   "metadata": {},
   "outputs": [],
   "source": [
    "import pandas as pd"
   ]
  },
  {
   "cell_type": "code",
   "execution_count": 2,
   "id": "28267adf",
   "metadata": {},
   "outputs": [],
   "source": [
    "df = pd.read_csv('khushboo.csv')"
   ]
  },
  {
   "cell_type": "code",
   "execution_count": 3,
   "id": "44e8dff4",
   "metadata": {},
   "outputs": [
    {
     "data": {
      "text/html": [
       "<div>\n",
       "<style scoped>\n",
       "    .dataframe tbody tr th:only-of-type {\n",
       "        vertical-align: middle;\n",
       "    }\n",
       "\n",
       "    .dataframe tbody tr th {\n",
       "        vertical-align: top;\n",
       "    }\n",
       "\n",
       "    .dataframe thead th {\n",
       "        text-align: right;\n",
       "    }\n",
       "</style>\n",
       "<table border=\"1\" class=\"dataframe\">\n",
       "  <thead>\n",
       "    <tr style=\"text-align: right;\">\n",
       "      <th></th>\n",
       "      <th>Saved_Query</th>\n",
       "      <th>New_Query</th>\n",
       "      <th>Unnamed: 2</th>\n",
       "      <th>Unnamed: 3</th>\n",
       "    </tr>\n",
       "  </thead>\n",
       "  <tbody>\n",
       "    <tr>\n",
       "      <th>0</th>\n",
       "      <td>I really do not like this product</td>\n",
       "      <td>I really like this product</td>\n",
       "      <td>NaN</td>\n",
       "      <td>NaN</td>\n",
       "    </tr>\n",
       "    <tr>\n",
       "      <th>1</th>\n",
       "      <td>Where can I view my settings</td>\n",
       "      <td>I can't find the settings page</td>\n",
       "      <td>NaN</td>\n",
       "      <td>NaN</td>\n",
       "    </tr>\n",
       "    <tr>\n",
       "      <th>2</th>\n",
       "      <td>How much will this cost?</td>\n",
       "      <td>Is this expensive?</td>\n",
       "      <td>NaN</td>\n",
       "      <td>NaN</td>\n",
       "    </tr>\n",
       "    <tr>\n",
       "      <th>3</th>\n",
       "      <td>How do I change my password</td>\n",
       "      <td>change How I do password my</td>\n",
       "      <td>NaN</td>\n",
       "      <td>NaN</td>\n",
       "    </tr>\n",
       "    <tr>\n",
       "      <th>4</th>\n",
       "      <td>Blah blah blah blah</td>\n",
       "      <td>Can I get some help?</td>\n",
       "      <td>NaN</td>\n",
       "      <td>NaN</td>\n",
       "    </tr>\n",
       "  </tbody>\n",
       "</table>\n",
       "</div>"
      ],
      "text/plain": [
       "                         Saved_Query                       New_Query  \\\n",
       "0  I really do not like this product      I really like this product   \n",
       "1       Where can I view my settings  I can't find the settings page   \n",
       "2           How much will this cost?              Is this expensive?   \n",
       "3        How do I change my password     change How I do password my   \n",
       "4                Blah blah blah blah            Can I get some help?   \n",
       "\n",
       "   Unnamed: 2 Unnamed: 3  \n",
       "0         NaN        NaN  \n",
       "1         NaN        NaN  \n",
       "2         NaN        NaN  \n",
       "3         NaN        NaN  \n",
       "4         NaN        NaN  "
      ]
     },
     "execution_count": 3,
     "metadata": {},
     "output_type": "execute_result"
    }
   ],
   "source": [
    "df.head()"
   ]
  },
  {
   "cell_type": "code",
   "execution_count": 5,
   "id": "4599037f",
   "metadata": {},
   "outputs": [
    {
     "name": "stdout",
     "output_type": "stream",
     "text": [
      "                         Saved_Query                                New_Query  \\\n",
      "0  I really do not like this product               I really like this product   \n",
      "1       Where can I view my settings           I can't find the settings page   \n",
      "2           How much will this cost?                       Is this expensive?   \n",
      "3        How do I change my password              change How I do password my   \n",
      "4                Blah blah blah blah                     Can I get some help?   \n",
      "5      Hello, is there anyone there?          Does this integrate with gmail?   \n",
      "6         Where is your data stored?               How secure is your product   \n",
      "7      What temperature is it today?      What time is the film in the cinema   \n",
      "8     Can I sign up for a free trial  Do I need a credit card to get started?   \n",
      "9    What is the Capital of Ireland?                What time is the game on?   \n",
      "\n",
      "   Unnamed: 2 Unnamed: 3  name_length  \n",
      "0         NaN        NaN         33.0  \n",
      "1         NaN        NaN         28.0  \n",
      "2         NaN        NaN         24.0  \n",
      "3         NaN        NaN         27.0  \n",
      "4         NaN        NaN         19.0  \n",
      "5         NaN        NaN         29.0  \n",
      "6         NaN                    26.0  \n",
      "7         NaN        NaN         29.0  \n",
      "8         NaN        NaN         30.0  \n",
      "9         NaN        NaN         31.0  \n"
     ]
    }
   ],
   "source": [
    "for lab, row in df.iterrows():\n",
    "    df.loc[lab, \"name_length\"] = len(row[\"Saved_Query\"])\n",
    "print(df)"
   ]
  },
  {
   "cell_type": "code",
   "execution_count": 6,
   "id": "3fddc38b",
   "metadata": {},
   "outputs": [
    {
     "data": {
      "text/plain": [
       "28.0"
      ]
     },
     "execution_count": 6,
     "metadata": {},
     "output_type": "execute_result"
    }
   ],
   "source": [
    "df.loc[1, \"name_length\"]"
   ]
  },
  {
   "cell_type": "code",
   "execution_count": null,
   "id": "6778eadd",
   "metadata": {},
   "outputs": [],
   "source": []
  },
  {
   "cell_type": "code",
   "execution_count": null,
   "id": "37577c4d",
   "metadata": {},
   "outputs": [],
   "source": []
  },
  {
   "cell_type": "code",
   "execution_count": null,
   "id": "77da1b05",
   "metadata": {},
   "outputs": [],
   "source": []
  },
  {
   "cell_type": "code",
   "execution_count": null,
   "id": "684a2707",
   "metadata": {},
   "outputs": [],
   "source": []
  },
  {
   "cell_type": "code",
   "execution_count": null,
   "id": "db3bae68",
   "metadata": {},
   "outputs": [],
   "source": []
  },
  {
   "cell_type": "code",
   "execution_count": null,
   "id": "a413d632",
   "metadata": {},
   "outputs": [],
   "source": []
  },
  {
   "cell_type": "code",
   "execution_count": null,
   "id": "b261e595",
   "metadata": {},
   "outputs": [],
   "source": []
  }
 ],
 "metadata": {
  "kernelspec": {
   "display_name": "Python 3",
   "language": "python",
   "name": "python3"
  },
  "language_info": {
   "codemirror_mode": {
    "name": "ipython",
    "version": 3
   },
   "file_extension": ".py",
   "mimetype": "text/x-python",
   "name": "python",
   "nbconvert_exporter": "python",
   "pygments_lexer": "ipython3",
   "version": "3.8.8"
  }
 },
 "nbformat": 4,
 "nbformat_minor": 5
}
