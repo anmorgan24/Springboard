{
 "cells": [
  {
   "cell_type": "markdown",
   "id": "6bdb2b8d",
   "metadata": {},
   "source": [
    "# Exploratory Data Analysis"
   ]
  },
  {
   "cell_type": "code",
   "execution_count": null,
   "id": "e5683f1b",
   "metadata": {},
   "outputs": [],
   "source": [
    "import pandas as pd\n",
    "import numpy as np \n",
    "import json\n",
    "import requests\n",
    "import datetime\n",
    "import matplotlib.pyplot as plt\n",
    "import seaborn as sns\n",
    "import ppscore\n",
    "from scipy import stats"
   ]
  },
  {
   "cell_type": "code",
   "execution_count": null,
   "id": "7ab50b97",
   "metadata": {},
   "outputs": [],
   "source": [
    "#load dataframe created in data wrangling phase\n",
    "#parse datetime column\n",
    "df=pd.read_csv('cleaned_cov_weather3.csv', parse_dates=[0])"
   ]
  },
  {
   "cell_type": "code",
   "execution_count": null,
   "id": "23dd53ca",
   "metadata": {},
   "outputs": [],
   "source": [
    "df.head()"
   ]
  },
  {
   "cell_type": "code",
   "execution_count": null,
   "id": "437397b5",
   "metadata": {
    "scrolled": true
   },
   "outputs": [],
   "source": [
    "#double check data types\n",
    "df.dtypes"
   ]
  },
  {
   "cell_type": "code",
   "execution_count": null,
   "id": "8454a75e",
   "metadata": {},
   "outputs": [],
   "source": [
    "#Convert int columns to float in preparation for calculations:\n",
    "int_columns= {\"CT_conf_cases\": 'float', \"ME_conf_cases\": 'float', \"MA_conf_cases\":\"float\", \"VT_conf_cases\":'float', \"vt_avg_temp\":'float', \"vt_prcp\":'float'}\n",
    "df = df.astype(int_columns)"
   ]
  },
  {
   "cell_type": "code",
   "execution_count": null,
   "id": "8cb017ed",
   "metadata": {},
   "outputs": [],
   "source": [
    "df.dtypes"
   ]
  },
  {
   "cell_type": "code",
   "execution_count": null,
   "id": "c669aa3e",
   "metadata": {
    "scrolled": true
   },
   "outputs": [],
   "source": [
    "#Any missing values?\n",
    "df[pd.isnull(df).any(axis=1)]"
   ]
  },
  {
   "cell_type": "markdown",
   "id": "3062e9bc",
   "metadata": {},
   "source": [
    "No missing values.\n",
    "\n",
    "However, the units of TAVG and PRCP are clearly off. \n",
    "\n",
    "According to [NOAA documentation](https://www1.ncdc.noaa.gov/pub/data/ghcn/daily/readme.txt), temperatures are reported in __*tenths*__ of a degree Celsius. I'll convert to degrees Fahrenheit instead (since this is US data here)."
   ]
  },
  {
   "cell_type": "code",
   "execution_count": null,
   "id": "38d39b53",
   "metadata": {},
   "outputs": [],
   "source": [
    "# (C*9/50)+32=F (since C is reported here as tenths of degrees)\n",
    "df2 = df\n",
    "state_temp_cols = ['vt_avg_temp', 'me_avg_temp', 'ct_avg_temp', 'ma_avg_temp']\n",
    "for col in state_temp_cols:\n",
    "    df2[col] = ((df[col]*9)/50) + 32"
   ]
  },
  {
   "cell_type": "code",
   "execution_count": null,
   "id": "b338c6a2",
   "metadata": {},
   "outputs": [],
   "source": [
    "df2.head()"
   ]
  },
  {
   "cell_type": "markdown",
   "id": "a6b0afea",
   "metadata": {},
   "source": [
    "The [same documention](https://www1.ncdc.noaa.gov/pub/data/ghcn/daily/readme.txt) cited above also explains that PRCP data is reported in __*tenths*__ of a mm. [Wikipedia](https://en.wikipedia.org/wiki/Precipitation) reports that generally PRCP data is reported in millimeters, so I'll convert to millimeters instead."
   ]
  },
  {
   "cell_type": "code",
   "execution_count": null,
   "id": "395ab395",
   "metadata": {},
   "outputs": [],
   "source": [
    "df3 = df2\n",
    "state_prcp_cols = ['vt_prcp', 'me_prcp', 'ct_prcp', 'ma_prcp']\n",
    "for col in state_prcp_cols:\n",
    "    df3[col] = df2[col]/10"
   ]
  },
  {
   "cell_type": "code",
   "execution_count": null,
   "id": "216f3475",
   "metadata": {},
   "outputs": [],
   "source": [
    "df3.head()"
   ]
  },
  {
   "cell_type": "markdown",
   "id": "72516f9f",
   "metadata": {},
   "source": [
    "For the sake of clarity, I'll update column names to reflect this unit change."
   ]
  },
  {
   "cell_type": "code",
   "execution_count": null,
   "id": "d1ed36ac",
   "metadata": {},
   "outputs": [],
   "source": [
    "#Update column names to reflect new units:\n",
    "units_dict= {'vt_avg_temp': 'VT_Avg_Temp(F)', 'vt_prcp': 'VT_PRCP(mm)', 'me_avg_temp':'ME_Avg_Temp(F)', 'me_prcp': 'ME_PRCP(mm)', 'ct_avg_temp': 'CT_Avg_Temp(F)', 'ct_prcp':'CT_PRCP(mm)', 'ma_avg_temp': 'MA_Avg_Temp(F)', 'ma_prcp':'MA_PRCP(mm)'}\n",
    "df3.rename(columns=units_dict, inplace=True)\n",
    "df3.head()"
   ]
  },
  {
   "cell_type": "code",
   "execution_count": null,
   "id": "2f385308",
   "metadata": {},
   "outputs": [],
   "source": [
    "#Examine timespan of data:\n",
    "print('Beginning date: ',min(df3['date']))\n",
    "print('End date: ', max(df3['date']))\n",
    "print('Total timespan: ', max(df3['date']-min(df3['date'])))"
   ]
  },
  {
   "cell_type": "code",
   "execution_count": null,
   "id": "22587bb9",
   "metadata": {},
   "outputs": [],
   "source": [
    "# Make copy of df \n",
    "df4=df3"
   ]
  },
  {
   "cell_type": "code",
   "execution_count": null,
   "id": "9252b4f1",
   "metadata": {},
   "outputs": [],
   "source": [
    "# Make column of non-cumulative counts of confirmed cases for each state:\n",
    "df4[\"CT_Conf_Cases\"] = df4['CT_conf_cases'].diff().fillna(0)\n",
    "df4[\"VT_Conf_Cases\"] = df4['VT_conf_cases'].diff().fillna(0)\n",
    "df4[\"ME_Conf_Cases\"] = df4['ME_conf_cases'].diff().fillna(0)\n",
    "df4[\"MA_Conf_Cases\"] = df4['MA_conf_cases'].diff().fillna(0)"
   ]
  },
  {
   "cell_type": "code",
   "execution_count": null,
   "id": "7f7a12b1",
   "metadata": {},
   "outputs": [],
   "source": [
    "#Drop cumulative confirmed case columns:\n",
    "df5 = df4.drop(columns=['CT_conf_cases', 'VT_conf_cases', 'ME_conf_cases', 'MA_conf_cases'])"
   ]
  },
  {
   "cell_type": "code",
   "execution_count": null,
   "id": "02baa586",
   "metadata": {
    "scrolled": true
   },
   "outputs": [],
   "source": [
    "#Reset DateTimeIndex\n",
    "df5.set_index('date',inplace=True)\n",
    "df5"
   ]
  },
  {
   "cell_type": "code",
   "execution_count": null,
   "id": "bf8c28d0",
   "metadata": {
    "scrolled": false
   },
   "outputs": [],
   "source": [
    "#Take a look at some summary statistics of the data:\n",
    "df5.describe()"
   ]
  },
  {
   "cell_type": "markdown",
   "id": "440322fb",
   "metadata": {},
   "source": [
    "It looks like some of the states have `Conf_Cases` values that are less than zero (see `min` row). That can't be right; I'll replace them with zeroes instead."
   ]
  },
  {
   "cell_type": "code",
   "execution_count": null,
   "id": "9374d10d",
   "metadata": {},
   "outputs": [],
   "source": [
    "#Replace negative values with zeroes:\n",
    "df5[df5 < 0] = 0"
   ]
  },
  {
   "cell_type": "markdown",
   "id": "04c8730f",
   "metadata": {},
   "source": [
    "A quick look at the tail of the DataFrame reveals another interesting detail:"
   ]
  },
  {
   "cell_type": "code",
   "execution_count": null,
   "id": "60e8565b",
   "metadata": {},
   "outputs": [],
   "source": [
    "df5['CT_Conf_Cases'].tail(25)"
   ]
  },
  {
   "cell_type": "markdown",
   "id": "65c5ef05",
   "metadata": {},
   "source": [
    "It looks like, for every five days of values for `Conf_Cases`, there are two days of zero values. A quick calendar check confirms that the dates corresponding to zero values are weekend dates (besides 09/06/21, which was Labor Day- a bank holiday in the US). Because there is only data for weekdays, I'll remove weekend data, as it can only skew our summary statistics and plots."
   ]
  },
  {
   "cell_type": "code",
   "execution_count": null,
   "id": "fecd2c4b",
   "metadata": {},
   "outputs": [],
   "source": [
    "#Create column to designate day of week:\n",
    "df6= df5\n",
    "df6[\"weekday\"] = df6.index.dayofweek"
   ]
  },
  {
   "cell_type": "code",
   "execution_count": null,
   "id": "0b3a64f7",
   "metadata": {},
   "outputs": [],
   "source": [
    "#Filter DataFrame to only include weekdays (days 0-4)\n",
    "df6 = df6[(df6.weekday != 5) & (df6.weekday != 6)]"
   ]
  },
  {
   "cell_type": "markdown",
   "id": "9b4a66b5",
   "metadata": {},
   "source": [
    "Another quick check of the summary statistics:"
   ]
  },
  {
   "cell_type": "code",
   "execution_count": null,
   "id": "bd330df5",
   "metadata": {
    "scrolled": false
   },
   "outputs": [],
   "source": [
    "df6.describe()"
   ]
  },
  {
   "cell_type": "code",
   "execution_count": null,
   "id": "5df03881",
   "metadata": {},
   "outputs": [],
   "source": [
    "df6.head()"
   ]
  },
  {
   "cell_type": "code",
   "execution_count": null,
   "id": "e87da6ba",
   "metadata": {},
   "outputs": [],
   "source": [
    "#Create a list of US bank holidays in 2020-2021:\n",
    "#Please refer to note below, explaining how this list of dates was put together.\n",
    "US_bank_holidays = ['2020-02-17', '2020-12-25', '2020-11-26', '2020-12-25', '2021-01-01', '2021-05-31', '2021-09-06']"
   ]
  },
  {
   "cell_type": "markdown",
   "id": "19923e27",
   "metadata": {},
   "source": [
    "Full list of 2020 US Holidays [here](https://www.officeholidays.com/countries/usa/2020).\n",
    "Full list of 2021 US Holidays [here](https://www.officeholidays.com/countries/usa/2021).\\\n",
    "__Note:__ Not all bank holidays listed in the above resources appear in my `US_bank_holidays` list. I used the resources above as a general guide of dates that might not contain any data, and then checked each of the dates individually to make sure I wasn't deleting any significant data from the set. I found that data __was__ recorded for some of the bank holidays listed in the resources; whenever this was the case, I did __not__ drop that row of data. The dates listed in `US_bank_holidays` reflect only those bank holidays listed in these resources that I was __also__ able to confirm did not have any significant data."
   ]
  },
  {
   "cell_type": "code",
   "execution_count": null,
   "id": "4e3ed4f8",
   "metadata": {},
   "outputs": [],
   "source": [
    "#Drop rows with indices in US_bank_holidays list:\n",
    "df7= df6.drop(df6[(df6.index.isin(US_bank_holidays))].index)"
   ]
  },
  {
   "cell_type": "code",
   "execution_count": null,
   "id": "99c1f94f",
   "metadata": {
    "scrolled": true
   },
   "outputs": [],
   "source": [
    "#Check rows have been dropped:\n",
    "print(len(df6.index))\n",
    "print(len(df7.index))"
   ]
  },
  {
   "cell_type": "code",
   "execution_count": null,
   "id": "f5d7b7dc",
   "metadata": {},
   "outputs": [],
   "source": [
    "#Recheck summary statistics with dropped US_bank_holidays:\n",
    "df7.describe()"
   ]
  },
  {
   "cell_type": "markdown",
   "id": "b5564f2d",
   "metadata": {},
   "source": [
    "## Plots:"
   ]
  },
  {
   "cell_type": "markdown",
   "id": "cadc0bb2",
   "metadata": {},
   "source": [
    "With so many twin axes to plot, I'll define a function to help plot all of twin axes time series data:"
   ]
  },
  {
   "cell_type": "code",
   "execution_count": null,
   "id": "f90ff751",
   "metadata": {},
   "outputs": [],
   "source": [
    "def plot_timeseries(axes, x, y, color, xlabel, ylabel):\n",
    "    axes.plot(x,y,color=color)\n",
    "    axes.set_xlabel(xlabel)\n",
    "    axes.set_ylabel(ylabel)\n",
    "    axes.tick_params('y', colors = color)"
   ]
  },
  {
   "cell_type": "markdown",
   "id": "8387eb7d",
   "metadata": {},
   "source": [
    "## Connecticut"
   ]
  },
  {
   "cell_type": "code",
   "execution_count": null,
   "id": "b7ffb602",
   "metadata": {
    "scrolled": false
   },
   "outputs": [],
   "source": [
    "#Plot CT time vs confirmed cases\n",
    "fig, ax = plt.subplots()\n",
    "plot_timeseries(ax, df7.index, df7['CT_Conf_Cases'], 'blue', 'Time', 'Confirmed Cases')\n",
    "plt.xticks(rotation=90)\n",
    "ax2 = ax.twinx()\n",
    "#Plot CT temp vs time\n",
    "plot_timeseries(ax2, df7.index, df7['CT_Avg_Temp(F)'], 'red', 'Time', 'Average Temperature (F)')\n",
    "plt.title('Connecticut temp vs conf cases over time')\n",
    "plt.xticks(rotation=90)\n",
    "plt.show()"
   ]
  },
  {
   "cell_type": "code",
   "execution_count": null,
   "id": "937519de",
   "metadata": {},
   "outputs": [],
   "source": [
    "#Plot CT time vs confirmed cases\n",
    "fig, ax = plt.subplots()\n",
    "plot_timeseries(ax, df7.index, df7['CT_Conf_Cases'], 'blue', 'Time', 'Confirmed Cases')\n",
    "plt.xticks(rotation=90)\n",
    "ax2 = ax.twinx()\n",
    "#Plot CT prcp vs time\n",
    "plot_timeseries(ax2, df7.index, df7['CT_PRCP(mm)'], 'red', 'Time', 'CT_PRCP(mm)')\n",
    "plt.title('Connecticut prcp vs confirmed cases over time')\n",
    "plt.xticks(rotation=90)\n",
    "plt.show()"
   ]
  },
  {
   "cell_type": "markdown",
   "id": "d07b1ffe",
   "metadata": {},
   "source": [
    "***"
   ]
  },
  {
   "cell_type": "markdown",
   "id": "bcbf44e7",
   "metadata": {},
   "source": [
    "## Maine"
   ]
  },
  {
   "cell_type": "code",
   "execution_count": null,
   "id": "eb6de82c",
   "metadata": {},
   "outputs": [],
   "source": [
    "#Plot ME time vs Avg. Temp \n",
    "fig, ax = plt.subplots()\n",
    "plot_timeseries(ax, df7.index, df7['ME_Conf_Cases'], 'blue', 'Time', 'Confirmed Cases')\n",
    "plt.xticks(rotation=90)\n",
    "ax2 = ax.twinx()\n",
    "plot_timeseries(ax2, df7.index, df7['ME_Avg_Temp(F)'], 'red', 'Time', 'Average Temperature (F)')\n",
    "plt.title('Maine Temp vs Conf Cases')\n",
    "plt.xticks(rotation=90)\n",
    "plt.show()"
   ]
  },
  {
   "cell_type": "code",
   "execution_count": null,
   "id": "25ed4124",
   "metadata": {},
   "outputs": [],
   "source": [
    "#Plot ME time vs confirmed cases\n",
    "fig, ax = plt.subplots()\n",
    "plot_timeseries(ax, df7.index, df7['ME_Conf_Cases'], 'blue', 'Time', 'Confirmed Cases')\n",
    "plt.xticks(rotation=90)\n",
    "ax2 = ax.twinx()\n",
    "#Plot ME prcp vs time\n",
    "plot_timeseries(ax2, df7.index, df7['ME_PRCP(mm)'], 'red', 'Time', 'ME_PRCP(mm)')\n",
    "plt.title('Maine prcp vs confirmed cases over time')\n",
    "plt.xticks(rotation=90)\n",
    "plt.show()"
   ]
  },
  {
   "cell_type": "markdown",
   "id": "77f47afa",
   "metadata": {},
   "source": [
    "## Massachusetts"
   ]
  },
  {
   "cell_type": "code",
   "execution_count": null,
   "id": "03fc993e",
   "metadata": {},
   "outputs": [],
   "source": [
    "#Plot MA time vs confirmed cases\n",
    "fig, ax = plt.subplots()\n",
    "plot_timeseries(ax, df7.index, df7['MA_Conf_Cases'], 'blue', 'Time', 'Confirmed Cases')\n",
    "plt.xticks(rotation=90)\n",
    "ax2 = ax.twinx()\n",
    "#Plot MA temp vs time\n",
    "plot_timeseries(ax2, df7.index, df7['MA_Avg_Temp(F)'], 'red', 'Time', 'MA_Avg_Temp(F)')\n",
    "plt.title('Massachusetts TAVG vs confirmed cases over time')\n",
    "plt.xticks(rotation=90)\n",
    "plt.show()"
   ]
  },
  {
   "cell_type": "code",
   "execution_count": null,
   "id": "0e4bfa18",
   "metadata": {},
   "outputs": [],
   "source": [
    "#Plot MA time vs confirmed cases\n",
    "fig, ax = plt.subplots()\n",
    "plot_timeseries(ax, df7.index, df7['MA_Conf_Cases'], 'blue', 'Time', 'Confirmed Cases')\n",
    "plt.xticks(rotation=90)\n",
    "ax2 = ax.twinx()\n",
    "#Plot MA prcp vs time\n",
    "plot_timeseries(ax2, df7.index, df7['MA_PRCP(mm)'], 'red', 'Time', 'MA_PRCP(mm)')\n",
    "plt.title('Massachusetts prcp vs confirmed cases over time')\n",
    "plt.xticks(rotation=90)\n",
    "plt.show()"
   ]
  },
  {
   "cell_type": "markdown",
   "id": "21cb5d83",
   "metadata": {},
   "source": [
    "## Vermont"
   ]
  },
  {
   "cell_type": "code",
   "execution_count": null,
   "id": "b5696de3",
   "metadata": {},
   "outputs": [],
   "source": [
    "#Plot VT time vs confirmed cases\n",
    "fig, ax = plt.subplots()\n",
    "plot_timeseries(ax, df7.index, df7['VT_Conf_Cases'], 'blue', 'Time', 'Confirmed Cases')\n",
    "plt.xticks(rotation=90)\n",
    "ax2 = ax.twinx()\n",
    "#Plot VT temp vs time\n",
    "plot_timeseries(ax2, df7.index, df7['VT_Avg_Temp(F)'], 'red', 'Time', 'VT_Avg_Temp(F)')\n",
    "plt.title('Vermont TAVG vs confirmed cases over time')\n",
    "plt.xticks(rotation=90)\n",
    "plt.show()"
   ]
  },
  {
   "cell_type": "code",
   "execution_count": null,
   "id": "77bb5b7e",
   "metadata": {},
   "outputs": [],
   "source": [
    "#Plot VT time vs confirmed cases\n",
    "fig, ax = plt.subplots()\n",
    "plot_timeseries(ax, df7.index, df7['VT_Conf_Cases'], 'blue', 'Time', 'Confirmed Cases')\n",
    "plt.xticks(rotation=90)\n",
    "ax2 = ax.twinx()\n",
    "#Plot MA prcp vs time\n",
    "plot_timeseries(ax2, df7.index, df7['VT_PRCP(mm)'], 'red', 'Time', 'VT_PRCP(mm)')\n",
    "plt.title('Vermont prcp vs confirmed cases over time')\n",
    "plt.xticks(rotation=90)\n",
    "plt.show()"
   ]
  },
  {
   "cell_type": "markdown",
   "id": "28b89640",
   "metadata": {},
   "source": [
    "## Perform Shapiro-Wilk test for normality:"
   ]
  },
  {
   "cell_type": "code",
   "execution_count": null,
   "id": "5b9a292c",
   "metadata": {},
   "outputs": [],
   "source": [
    "#Convert dataframe to array to perform Shapiro-Wilcox test:\n",
    "np_cov_weather7 = df7.to_numpy()"
   ]
  },
  {
   "cell_type": "code",
   "execution_count": null,
   "id": "cdf9704c",
   "metadata": {},
   "outputs": [],
   "source": [
    "#Apply Shapiro test:\n",
    "shapiro_test = stats.shapiro(np_cov_weather7)"
   ]
  },
  {
   "cell_type": "code",
   "execution_count": null,
   "id": "29d7bfbd",
   "metadata": {},
   "outputs": [],
   "source": [
    "#Print values:\n",
    "print(\"Shapiro test statistic is: \", shapiro_test.statistic)\n",
    "print(\"Shapiro p-value is: \", shapiro_test.pvalue)"
   ]
  },
  {
   "cell_type": "markdown",
   "id": "427ca05c",
   "metadata": {},
   "source": [
    "## Predictive Power Score:"
   ]
  },
  {
   "cell_type": "code",
   "execution_count": null,
   "id": "c6b2cec8",
   "metadata": {},
   "outputs": [],
   "source": [
    "#Calculate ppscore \n",
    "pps = ppscore.matrix(df7)"
   ]
  },
  {
   "cell_type": "code",
   "execution_count": null,
   "id": "ebfd2572",
   "metadata": {
    "scrolled": true
   },
   "outputs": [],
   "source": [
    "print(pps)"
   ]
  },
  {
   "cell_type": "code",
   "execution_count": null,
   "id": "412c599c",
   "metadata": {},
   "outputs": [],
   "source": [
    "sns.set(rc={'figure.figsize':(11.7,8.27)})"
   ]
  },
  {
   "cell_type": "code",
   "execution_count": null,
   "id": "1f4ba73d",
   "metadata": {},
   "outputs": [],
   "source": [
    "sns.heatmap(df7.corr(), square=True, cmap='rocket')"
   ]
  },
  {
   "cell_type": "code",
   "execution_count": null,
   "id": "058e43d5",
   "metadata": {},
   "outputs": [],
   "source": [
    "Hartford_CT = df7[['CT_Avg_Temp(F)', 'CT_PRCP(mm)', 'CT_Conf_Cases']]"
   ]
  },
  {
   "cell_type": "code",
   "execution_count": null,
   "id": "08bef2c2",
   "metadata": {},
   "outputs": [],
   "source": [
    "sns.heatmap(Hartford_CT.corr(), square=True, cmap='rocket')"
   ]
  },
  {
   "cell_type": "code",
   "execution_count": null,
   "id": "855de591",
   "metadata": {},
   "outputs": [],
   "source": [
    "Middlesex_MA = df7[['MA_Avg_Temp(F)', 'MA_PRCP(mm)', 'MA_Conf_Cases']]"
   ]
  },
  {
   "cell_type": "code",
   "execution_count": null,
   "id": "818d81ab",
   "metadata": {},
   "outputs": [],
   "source": [
    "sns.heatmap(Middlesex_MA.corr(), square=True, cmap='rocket')"
   ]
  },
  {
   "cell_type": "code",
   "execution_count": null,
   "id": "3611ae56",
   "metadata": {},
   "outputs": [],
   "source": [
    "Essex_VT = df7[['VT_Avg_Temp(F)', 'VT_PRCP(mm)', 'VT_Conf_Cases']]"
   ]
  },
  {
   "cell_type": "code",
   "execution_count": null,
   "id": "4a22cd36",
   "metadata": {},
   "outputs": [],
   "source": [
    "sns.heatmap(Essex_VT.corr(), square=True, cmap='rocket')"
   ]
  },
  {
   "cell_type": "code",
   "execution_count": null,
   "id": "4b7328bf",
   "metadata": {},
   "outputs": [],
   "source": [
    "Piscataquis_ME = df7[['ME_Avg_Temp(F)', 'ME_PRCP(mm)', 'ME_Conf_Cases']]"
   ]
  },
  {
   "cell_type": "code",
   "execution_count": null,
   "id": "d27cc034",
   "metadata": {},
   "outputs": [],
   "source": [
    "sns.heatmap(Piscataquis_ME.corr(), square=True, cmap='rocket')"
   ]
  },
  {
   "cell_type": "code",
   "execution_count": null,
   "id": "5807ccb5",
   "metadata": {},
   "outputs": [],
   "source": [
    "# save the data to a new csv file\n",
    "df7.to_csv('cov_weather.csv')"
   ]
  },
  {
   "cell_type": "code",
   "execution_count": null,
   "id": "943e7f8c",
   "metadata": {},
   "outputs": [],
   "source": []
  }
 ],
 "metadata": {
  "kernelspec": {
   "display_name": "Python 3",
   "language": "python",
   "name": "python3"
  },
  "language_info": {
   "codemirror_mode": {
    "name": "ipython",
    "version": 3
   },
   "file_extension": ".py",
   "mimetype": "text/x-python",
   "name": "python",
   "nbconvert_exporter": "python",
   "pygments_lexer": "ipython3",
   "version": "3.8.8"
  }
 },
 "nbformat": 4,
 "nbformat_minor": 5
}
