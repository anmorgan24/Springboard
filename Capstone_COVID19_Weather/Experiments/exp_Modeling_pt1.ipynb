{
 "cells": [
  {
   "cell_type": "markdown",
   "id": "33f06886",
   "metadata": {},
   "source": [
    "# Modeling"
   ]
  },
  {
   "cell_type": "code",
   "execution_count": 1,
   "id": "f0195230",
   "metadata": {},
   "outputs": [],
   "source": [
    "import numpy as np\n",
    "import pandas as pd\n",
    "import matplotlib.pyplot as plt\n",
    "import seaborn as sns\n",
    "\n",
    "from sklearn.model_selection import train_test_split, cross_val_score, GridSearchCV, RandomizedSearchCV, RepeatedKFold\n",
    "from sklearn.metrics import r2_score, mean_squared_error as mse, mean_absolute_error as mae\n",
    "from sklearn.dummy import DummyRegressor\n",
    "from catboost import Pool, CatBoostRegressor\n",
    "from sklearn.ensemble import RandomForestRegressor\n",
    "from sklearn.ensemble import ExtraTreesRegressor\n",
    "from sklearn.ensemble import VotingRegressor\n",
    "from sklearn.pipeline import Pipeline\n",
    "from sklearn.preprocessing import StandardScaler"
   ]
  },
  {
   "cell_type": "code",
   "execution_count": null,
   "id": "2eff42f0",
   "metadata": {},
   "outputs": [],
   "source": [
    "#load dataframe REGULAR\n",
    "#parse datetime column\n",
    "#df=pd.read_csv('COVID19_modeling.csv', parse_dates=[0])\n",
    "#df.set_index('date', inplace= True)\n",
    "#df.drop(columns='Unnamed: 0', inplace=True)"
   ]
  },
  {
   "cell_type": "code",
   "execution_count": 2,
   "id": "e6b9ebfa",
   "metadata": {},
   "outputs": [],
   "source": [
    "#load dataframe OHE\n",
    "#parse datetime column\n",
    "df_ohe = pd.read_csv('ohe_data.csv', parse_dates=['date'])\n",
    "df_ohe.drop(columns='Unnamed: 0', inplace=True)\n",
    "df_ohe.set_index('date', inplace=True)"
   ]
  },
  {
   "cell_type": "code",
   "execution_count": 3,
   "id": "c2cc3981",
   "metadata": {},
   "outputs": [
    {
     "data": {
      "text/html": [
       "<div>\n",
       "<style scoped>\n",
       "    .dataframe tbody tr th:only-of-type {\n",
       "        vertical-align: middle;\n",
       "    }\n",
       "\n",
       "    .dataframe tbody tr th {\n",
       "        vertical-align: top;\n",
       "    }\n",
       "\n",
       "    .dataframe thead th {\n",
       "        text-align: right;\n",
       "    }\n",
       "</style>\n",
       "<table border=\"1\" class=\"dataframe\">\n",
       "  <thead>\n",
       "    <tr style=\"text-align: right;\">\n",
       "      <th></th>\n",
       "      <th>Avg_Temp(F)</th>\n",
       "      <th>Conf_Cases</th>\n",
       "      <th>day_of_week</th>\n",
       "      <th>day_of_year</th>\n",
       "      <th>Year</th>\n",
       "      <th>Month</th>\n",
       "      <th>Day</th>\n",
       "      <th>new_case_percent_pop*</th>\n",
       "      <th>state_id_CT</th>\n",
       "      <th>state_id_MA</th>\n",
       "      <th>state_id_ME</th>\n",
       "      <th>state_id_VT</th>\n",
       "    </tr>\n",
       "    <tr>\n",
       "      <th>date</th>\n",
       "      <th></th>\n",
       "      <th></th>\n",
       "      <th></th>\n",
       "      <th></th>\n",
       "      <th></th>\n",
       "      <th></th>\n",
       "      <th></th>\n",
       "      <th></th>\n",
       "      <th></th>\n",
       "      <th></th>\n",
       "      <th></th>\n",
       "      <th></th>\n",
       "    </tr>\n",
       "  </thead>\n",
       "  <tbody>\n",
       "    <tr>\n",
       "      <th>2020-03-01</th>\n",
       "      <td>26.42</td>\n",
       "      <td>1.0</td>\n",
       "      <td>6</td>\n",
       "      <td>61</td>\n",
       "      <td>2020</td>\n",
       "      <td>3</td>\n",
       "      <td>1</td>\n",
       "      <td>0.014225</td>\n",
       "      <td>0</td>\n",
       "      <td>1</td>\n",
       "      <td>0</td>\n",
       "      <td>0</td>\n",
       "    </tr>\n",
       "    <tr>\n",
       "      <th>2020-03-02</th>\n",
       "      <td>36.50</td>\n",
       "      <td>1.0</td>\n",
       "      <td>0</td>\n",
       "      <td>62</td>\n",
       "      <td>2020</td>\n",
       "      <td>3</td>\n",
       "      <td>2</td>\n",
       "      <td>0.014225</td>\n",
       "      <td>0</td>\n",
       "      <td>1</td>\n",
       "      <td>0</td>\n",
       "      <td>0</td>\n",
       "    </tr>\n",
       "    <tr>\n",
       "      <th>2020-03-03</th>\n",
       "      <td>55.94</td>\n",
       "      <td>1.0</td>\n",
       "      <td>1</td>\n",
       "      <td>63</td>\n",
       "      <td>2020</td>\n",
       "      <td>3</td>\n",
       "      <td>3</td>\n",
       "      <td>0.014225</td>\n",
       "      <td>0</td>\n",
       "      <td>1</td>\n",
       "      <td>0</td>\n",
       "      <td>0</td>\n",
       "    </tr>\n",
       "    <tr>\n",
       "      <th>2020-03-04</th>\n",
       "      <td>46.94</td>\n",
       "      <td>2.0</td>\n",
       "      <td>2</td>\n",
       "      <td>64</td>\n",
       "      <td>2020</td>\n",
       "      <td>3</td>\n",
       "      <td>4</td>\n",
       "      <td>0.028450</td>\n",
       "      <td>0</td>\n",
       "      <td>1</td>\n",
       "      <td>0</td>\n",
       "      <td>0</td>\n",
       "    </tr>\n",
       "    <tr>\n",
       "      <th>2020-03-05</th>\n",
       "      <td>42.98</td>\n",
       "      <td>8.0</td>\n",
       "      <td>3</td>\n",
       "      <td>65</td>\n",
       "      <td>2020</td>\n",
       "      <td>3</td>\n",
       "      <td>5</td>\n",
       "      <td>0.113799</td>\n",
       "      <td>0</td>\n",
       "      <td>1</td>\n",
       "      <td>0</td>\n",
       "      <td>0</td>\n",
       "    </tr>\n",
       "  </tbody>\n",
       "</table>\n",
       "</div>"
      ],
      "text/plain": [
       "            Avg_Temp(F)  Conf_Cases  day_of_week  day_of_year  Year  Month  \\\n",
       "date                                                                         \n",
       "2020-03-01        26.42         1.0            6           61  2020      3   \n",
       "2020-03-02        36.50         1.0            0           62  2020      3   \n",
       "2020-03-03        55.94         1.0            1           63  2020      3   \n",
       "2020-03-04        46.94         2.0            2           64  2020      3   \n",
       "2020-03-05        42.98         8.0            3           65  2020      3   \n",
       "\n",
       "            Day  new_case_percent_pop*  state_id_CT  state_id_MA  state_id_ME  \\\n",
       "date                                                                            \n",
       "2020-03-01    1               0.014225            0            1            0   \n",
       "2020-03-02    2               0.014225            0            1            0   \n",
       "2020-03-03    3               0.014225            0            1            0   \n",
       "2020-03-04    4               0.028450            0            1            0   \n",
       "2020-03-05    5               0.113799            0            1            0   \n",
       "\n",
       "            state_id_VT  \n",
       "date                     \n",
       "2020-03-01            0  \n",
       "2020-03-02            0  \n",
       "2020-03-03            0  \n",
       "2020-03-04            0  \n",
       "2020-03-05            0  "
      ]
     },
     "execution_count": 3,
     "metadata": {},
     "output_type": "execute_result"
    }
   ],
   "source": [
    "df_ohe.head()"
   ]
  },
  {
   "cell_type": "markdown",
   "id": "e4584343",
   "metadata": {},
   "source": [
    "## Train-test split"
   ]
  },
  {
   "cell_type": "markdown",
   "id": "f94e7fdc",
   "metadata": {},
   "source": [
    "Before training any models on the data, let's do a train-test split to keep training and testing data consistent and separated."
   ]
  },
  {
   "cell_type": "code",
   "execution_count": null,
   "id": "b4e0f6c1",
   "metadata": {},
   "outputs": [],
   "source": [
    "# Create features\n",
    "#X, y = df_ohe.drop(columns=['Conf_Cases', 'new_case_percent_pop*']), df_ohe['new_case_percent_pop*']\n",
    "# Make test and train split\n",
    "#X_train, X_test, y_train, y_test = train_test_split(X, y, test_size=0.2, random_state=42)"
   ]
  },
  {
   "cell_type": "code",
   "execution_count": 4,
   "id": "78d906dd",
   "metadata": {},
   "outputs": [
    {
     "data": {
      "text/plain": [
       "2224"
      ]
     },
     "execution_count": 4,
     "metadata": {},
     "output_type": "execute_result"
    }
   ],
   "source": [
    "len(df_ohe)"
   ]
  },
  {
   "cell_type": "code",
   "execution_count": 5,
   "id": "7887a45c",
   "metadata": {},
   "outputs": [],
   "source": [
    "# Create the bins; target has 2224 observations so let's use 200 bins\n",
    "bins = np.linspace(0, 2224, 200)"
   ]
  },
  {
   "cell_type": "code",
   "execution_count": 6,
   "id": "cb6742e4",
   "metadata": {},
   "outputs": [],
   "source": [
    "# Create features\n",
    "X, y = df_ohe.drop(columns=['Conf_Cases', 'new_case_percent_pop*']), df_ohe['new_case_percent_pop*']"
   ]
  },
  {
   "cell_type": "code",
   "execution_count": 9,
   "id": "ae366ce5",
   "metadata": {},
   "outputs": [],
   "source": [
    "# Sort y\n",
    "y_sorted = sorted(y)"
   ]
  },
  {
   "cell_type": "code",
   "execution_count": 11,
   "id": "6c7cecac",
   "metadata": {},
   "outputs": [],
   "source": [
    "# Save your y values in a new ndarray, broken down by the bins created above.\n",
    "y_binned = np.digitize(y, bins)"
   ]
  },
  {
   "cell_type": "code",
   "execution_count": 13,
   "id": "b87932a0",
   "metadata": {},
   "outputs": [],
   "source": [
    "X_train, X_test, y_train, y_test = train_test_split(X, y, test_size=0.2, stratify=y_binned, random_state=42)"
   ]
  },
  {
   "cell_type": "markdown",
   "id": "3b2bb775",
   "metadata": {},
   "source": [
    "## Using the mean as a baseline prediction model"
   ]
  },
  {
   "cell_type": "markdown",
   "id": "cfedbf61",
   "metadata": {},
   "source": [
    "Previously, we determined the R2 score of using the mean to predict COVID19 cases for each individual state. Let's do the same thing now that we have all the states in one DataFrame, so that we will have a baseline \"dummy\" model to compare our future optimized models to. "
   ]
  },
  {
   "cell_type": "code",
   "execution_count": 22,
   "id": "d5d6a3b2",
   "metadata": {
    "scrolled": true
   },
   "outputs": [
    {
     "name": "stdout",
     "output_type": "stream",
     "text": [
      "The R2 score of using the mean to predict COVID19 cases in our states is: -0.0008611149015183006\n"
     ]
    }
   ],
   "source": [
    "dummy_mean = DummyRegressor()\n",
    "# \"Train\" dummy regressor\n",
    "dummy_mean.fit(X_train, y_train)\n",
    "# Get R2 score\n",
    "score_dummy = dummy_mean.score(X_test, y_test)\n",
    "print(\"The R2 score of using the mean to predict COVID19 cases in our states is:\", score_dummy)"
   ]
  },
  {
   "cell_type": "markdown",
   "id": "69401f7b",
   "metadata": {},
   "source": [
    "Let's store the evaluation metric values for the dummy regressor so we can compare them with our future models. "
   ]
  },
  {
   "cell_type": "code",
   "execution_count": 23,
   "id": "7dc2a8da",
   "metadata": {},
   "outputs": [],
   "source": [
    "dummy_pred = dummy_mean.predict(X_test)\n",
    "dummy_r2 = r2_score(y_test, dummy_pred)\n",
    "dummy_mse = mse(y_test, dummy_pred)\n",
    "dummy_rmse = np.sqrt(mse(y_test, dummy_pred))"
   ]
  },
  {
   "cell_type": "markdown",
   "id": "171ca28d",
   "metadata": {},
   "source": [
    "## Tuning the top performing models for ensemble model"
   ]
  },
  {
   "cell_type": "markdown",
   "id": "06dfcff3",
   "metadata": {},
   "source": [
    "In the pre-processing step, we determined (with the help of Pycaret) that our top performing models were **CatBoost Regressor**, **Random Forest Regressor**, and **Extra Trees Regressor**. Let's now fine tune the hyperparameters of each of these models, in preparation for feeding them into the pipeline of the Voting Regressor. \n",
    "\n",
    "**NOTE TO SELF: Determine hyperparameters for each model, but pass unfitted (tuned) models to the VotingRegressor**\n"
   ]
  },
  {
   "cell_type": "markdown",
   "id": "99c46073",
   "metadata": {},
   "source": [
    "### 1. Random Forest Regressor\n",
    "With a few exceptions, a RandomForestClassifier has all the hyperparameters of a DecisionTreeClassifier (to control how trees are grown), plus all the hyperparameters of a BaggingClassifier to control the ensemble itself. I'll explore a couple different ways to determine optimal hyperparameters and will choose those that produce the best R2 and MSE for the final ensemble model (a VotingRegressor)."
   ]
  },
  {
   "cell_type": "code",
   "execution_count": 17,
   "id": "7fd07755",
   "metadata": {},
   "outputs": [],
   "source": [
    "# Define parameters to search for GridSearchCV\n",
    "basic_param_grid = {'n_estimators': [100, 200, 300, 400, 500],\n",
    "              'max_depth': [3, 5, 7, 9],\n",
    "              }\n",
    "# Instantiate RandomForestRegressor\n",
    "basic_rf = RandomForestRegressor(random_state=42)\n",
    "cv_rf = GridSearchCV(basic_rf, basic_param_grid, cv = 5)\n",
    "cv_rf_fit = cv_rf.fit(X_train, y_train)"
   ]
  },
  {
   "cell_type": "code",
   "execution_count": 18,
   "id": "6f36ee43",
   "metadata": {},
   "outputs": [
    {
     "name": "stdout",
     "output_type": "stream",
     "text": [
      "The optimal max_depth for the RandomForestRegressor is: 9\n",
      "The optimal n_estimators for the RandomForestRegressor is: 300\n"
     ]
    }
   ],
   "source": [
    "print('The optimal max_depth for the RandomForestRegressor is: {}'.format(cv_rf_fit.best_params_['max_depth']))\n",
    "print('The optimal n_estimators for the RandomForestRegressor is: {}'.format(cv_rf_fit.best_params_['n_estimators']))"
   ]
  },
  {
   "cell_type": "code",
   "execution_count": 19,
   "id": "6d8da5fa",
   "metadata": {},
   "outputs": [],
   "source": [
    "# Instantiate RFR with optimal hyperparameters\n",
    "basic_rf = RandomForestRegressor(max_depth = 9, n_estimators = 300, random_state=42)\n",
    "basic_rf.fit(X_train, y_train)\n",
    "basic_rf_pred = basic_rf.predict(X_test)"
   ]
  },
  {
   "cell_type": "code",
   "execution_count": 20,
   "id": "5e557250",
   "metadata": {},
   "outputs": [],
   "source": [
    "# Calculate evaluation metrics on basic_rf\n",
    "basic_rf_r2 = r2_score(y_test, basic_rf_pred)\n",
    "basic_rf_mse = mse(y_test, basic_rf_pred)\n",
    "basic_rf_rmse = np.sqrt(basic_rf_mse)"
   ]
  },
  {
   "cell_type": "code",
   "execution_count": 24,
   "id": "954aa316",
   "metadata": {
    "scrolled": true
   },
   "outputs": [],
   "source": [
    "rf_results = pd.DataFrame({'Model':['dummy_reg', 'basic_rf'], 'R2': [dummy_r2, basic_rf_r2], 'MSE':[dummy_mse, basic_rf_mse], 'RMSE':[dummy_rmse, basic_rf_rmse]})"
   ]
  },
  {
   "cell_type": "code",
   "execution_count": 25,
   "id": "600825df",
   "metadata": {},
   "outputs": [
    {
     "data": {
      "text/html": [
       "<div>\n",
       "<style scoped>\n",
       "    .dataframe tbody tr th:only-of-type {\n",
       "        vertical-align: middle;\n",
       "    }\n",
       "\n",
       "    .dataframe tbody tr th {\n",
       "        vertical-align: top;\n",
       "    }\n",
       "\n",
       "    .dataframe thead th {\n",
       "        text-align: right;\n",
       "    }\n",
       "</style>\n",
       "<table border=\"1\" class=\"dataframe\">\n",
       "  <thead>\n",
       "    <tr style=\"text-align: right;\">\n",
       "      <th></th>\n",
       "      <th>Model</th>\n",
       "      <th>R2</th>\n",
       "      <th>MSE</th>\n",
       "      <th>RMSE</th>\n",
       "    </tr>\n",
       "  </thead>\n",
       "  <tbody>\n",
       "    <tr>\n",
       "      <th>0</th>\n",
       "      <td>dummy_reg</td>\n",
       "      <td>-0.000861</td>\n",
       "      <td>284.483911</td>\n",
       "      <td>16.866651</td>\n",
       "    </tr>\n",
       "    <tr>\n",
       "      <th>1</th>\n",
       "      <td>basic_rf</td>\n",
       "      <td>0.846479</td>\n",
       "      <td>43.636790</td>\n",
       "      <td>6.605815</td>\n",
       "    </tr>\n",
       "  </tbody>\n",
       "</table>\n",
       "</div>"
      ],
      "text/plain": [
       "       Model        R2         MSE       RMSE\n",
       "0  dummy_reg -0.000861  284.483911  16.866651\n",
       "1   basic_rf  0.846479   43.636790   6.605815"
      ]
     },
     "execution_count": 25,
     "metadata": {},
     "output_type": "execute_result"
    }
   ],
   "source": [
    "rf_results"
   ]
  },
  {
   "cell_type": "markdown",
   "id": "744795d6",
   "metadata": {},
   "source": [
    "***"
   ]
  },
  {
   "cell_type": "markdown",
   "id": "eb46aba0",
   "metadata": {},
   "source": [
    "#### Using RandomSearchCV to find optimal hyperparameter values"
   ]
  },
  {
   "cell_type": "code",
   "execution_count": 26,
   "id": "329c271e",
   "metadata": {},
   "outputs": [],
   "source": [
    "# Number of trees in random forest\n",
    "n_estimators = [int(x) for x in np.linspace(start = 200, stop = 2000, num = 10)]\n",
    "# Number of features to consider at every split\n",
    "max_features = ['auto', 'sqrt']\n",
    "# Maximum number of levels in tree\n",
    "max_depth = [int(x) for x in np.linspace(10, 110, num = 11)]\n",
    "max_depth.append(None)\n",
    "max_depth.append(9)\n",
    "# Minimum number of samples required to split a node\n",
    "min_samples_split = [2, 5, 10]\n",
    "# Minimum number of samples required at each leaf node\n",
    "min_samples_leaf = [1, 2, 4]\n",
    "# Method of selecting samples for training each tree\n",
    "bootstrap = [True, False]\n",
    "\n",
    "# Create the random grid\n",
    "random_grid = {'n_estimators': n_estimators,\n",
    "               'max_features': max_features,\n",
    "               'max_depth': max_depth,\n",
    "               'min_samples_split': min_samples_split,\n",
    "               'min_samples_leaf': min_samples_leaf,\n",
    "               'bootstrap': bootstrap}"
   ]
  },
  {
   "cell_type": "code",
   "execution_count": 27,
   "id": "95bb4747",
   "metadata": {},
   "outputs": [
    {
     "name": "stdout",
     "output_type": "stream",
     "text": [
      "Fitting 5 folds for each of 100 candidates, totalling 500 fits\n"
     ]
    },
    {
     "name": "stderr",
     "output_type": "stream",
     "text": [
      "[Parallel(n_jobs=-1)]: Using backend LokyBackend with 8 concurrent workers.\n",
      "[Parallel(n_jobs=-1)]: Done  25 tasks      | elapsed:   19.7s\n",
      "[Parallel(n_jobs=-1)]: Done 146 tasks      | elapsed:  2.1min\n",
      "/Users/abigailmorgan/opt/anaconda3/lib/python3.8/site-packages/joblib/externals/loky/process_executor.py:688: UserWarning: A worker stopped while some jobs were given to the executor. This can be caused by a too short worker timeout or by a memory leak.\n",
      "  warnings.warn(\n",
      "[Parallel(n_jobs=-1)]: Done 349 tasks      | elapsed:  4.4min\n",
      "[Parallel(n_jobs=-1)]: Done 500 out of 500 | elapsed:  6.1min finished\n"
     ]
    },
    {
     "data": {
      "text/plain": [
       "RandomizedSearchCV(cv=5, estimator=RandomForestRegressor(), n_iter=100,\n",
       "                   n_jobs=-1,\n",
       "                   param_distributions={'bootstrap': [True, False],\n",
       "                                        'max_depth': [10, 20, 30, 40, 50, 60,\n",
       "                                                      70, 80, 90, 100, 110,\n",
       "                                                      None, 9],\n",
       "                                        'max_features': ['auto', 'sqrt'],\n",
       "                                        'min_samples_leaf': [1, 2, 4],\n",
       "                                        'min_samples_split': [2, 5, 10],\n",
       "                                        'n_estimators': [200, 400, 600, 800,\n",
       "                                                         1000, 1200, 1400, 1600,\n",
       "                                                         1800, 2000]},\n",
       "                   random_state=42, verbose=2)"
      ]
     },
     "execution_count": 27,
     "metadata": {},
     "output_type": "execute_result"
    }
   ],
   "source": [
    "# Use the random grid to search for best hyperparameters\n",
    "# First create the base model to tune\n",
    "rf = RandomForestRegressor()\n",
    "# Random search of parameters, using 3 fold cross validation, \n",
    "# search across 100 different combinations, and use all available cores\n",
    "rf_random = RandomizedSearchCV(estimator = rf, param_distributions = random_grid, n_iter = 100, cv = 5, verbose=2, n_jobs=-1, random_state=42)\n",
    "# Fit the random search model\n",
    "rf_random.fit(X_train, y_train)"
   ]
  },
  {
   "cell_type": "code",
   "execution_count": 28,
   "id": "4591b1a7",
   "metadata": {},
   "outputs": [
    {
     "data": {
      "text/plain": [
       "{'n_estimators': 800,\n",
       " 'min_samples_split': 2,\n",
       " 'min_samples_leaf': 2,\n",
       " 'max_features': 'auto',\n",
       " 'max_depth': 70,\n",
       " 'bootstrap': True}"
      ]
     },
     "execution_count": 28,
     "metadata": {},
     "output_type": "execute_result"
    }
   ],
   "source": [
    "rf_random.best_params_"
   ]
  },
  {
   "cell_type": "code",
   "execution_count": 29,
   "id": "4bee4e18",
   "metadata": {},
   "outputs": [],
   "source": [
    "# Instantiate RFR with optimal hyperparameters\n",
    "rf2 = RandomForestRegressor(n_estimators= 800,\n",
    "                             min_samples_split= 2,\n",
    "                             min_samples_leaf= 2,\n",
    "                             max_features= 'auto',\n",
    "                             max_depth= 70,\n",
    "                             bootstrap= True, \n",
    "                             random_state=42)\n",
    "rf2.fit(X_train, y_train)\n",
    "rf_pred2 = rf2.predict(X_test)"
   ]
  },
  {
   "cell_type": "code",
   "execution_count": 30,
   "id": "f9e0d732",
   "metadata": {},
   "outputs": [],
   "source": [
    "rf_random_r2 = r2_score(y_test, rf_pred2)\n",
    "rf_random_mse = mse(y_test, rf_pred2)\n",
    "rf_random_rmse = np.sqrt(mse(y_test, rf_pred2))"
   ]
  },
  {
   "cell_type": "code",
   "execution_count": 31,
   "id": "c54fadf8",
   "metadata": {},
   "outputs": [],
   "source": [
    "rf_results.loc[len(rf_results)]= ['rf_randomCV', \n",
    "                                 r2_score(y_test, rf_pred2),\n",
    "                                 mse(y_test, rf_pred2),\n",
    "                                 np.sqrt(mse(y_test, rf_pred2))]"
   ]
  },
  {
   "cell_type": "code",
   "execution_count": 32,
   "id": "890b6484",
   "metadata": {},
   "outputs": [
    {
     "data": {
      "text/html": [
       "<div>\n",
       "<style scoped>\n",
       "    .dataframe tbody tr th:only-of-type {\n",
       "        vertical-align: middle;\n",
       "    }\n",
       "\n",
       "    .dataframe tbody tr th {\n",
       "        vertical-align: top;\n",
       "    }\n",
       "\n",
       "    .dataframe thead th {\n",
       "        text-align: right;\n",
       "    }\n",
       "</style>\n",
       "<table border=\"1\" class=\"dataframe\">\n",
       "  <thead>\n",
       "    <tr style=\"text-align: right;\">\n",
       "      <th></th>\n",
       "      <th>Model</th>\n",
       "      <th>R2</th>\n",
       "      <th>MSE</th>\n",
       "      <th>RMSE</th>\n",
       "    </tr>\n",
       "  </thead>\n",
       "  <tbody>\n",
       "    <tr>\n",
       "      <th>0</th>\n",
       "      <td>dummy_reg</td>\n",
       "      <td>-0.000861</td>\n",
       "      <td>284.483911</td>\n",
       "      <td>16.866651</td>\n",
       "    </tr>\n",
       "    <tr>\n",
       "      <th>1</th>\n",
       "      <td>basic_rf</td>\n",
       "      <td>0.846479</td>\n",
       "      <td>43.636790</td>\n",
       "      <td>6.605815</td>\n",
       "    </tr>\n",
       "    <tr>\n",
       "      <th>2</th>\n",
       "      <td>rf_randomCV</td>\n",
       "      <td>0.849885</td>\n",
       "      <td>42.668662</td>\n",
       "      <td>6.532125</td>\n",
       "    </tr>\n",
       "  </tbody>\n",
       "</table>\n",
       "</div>"
      ],
      "text/plain": [
       "         Model        R2         MSE       RMSE\n",
       "0    dummy_reg -0.000861  284.483911  16.866651\n",
       "1     basic_rf  0.846479   43.636790   6.605815\n",
       "2  rf_randomCV  0.849885   42.668662   6.532125"
      ]
     },
     "execution_count": 32,
     "metadata": {},
     "output_type": "execute_result"
    }
   ],
   "source": [
    "rf_results"
   ]
  },
  {
   "cell_type": "markdown",
   "id": "ffcf22d8",
   "metadata": {},
   "source": [
    "***"
   ]
  },
  {
   "cell_type": "markdown",
   "id": "18de6aea",
   "metadata": {},
   "source": [
    "### Using GridSearchCV to find the optimal hyperparameter values"
   ]
  },
  {
   "cell_type": "code",
   "execution_count": 33,
   "id": "09454aec",
   "metadata": {},
   "outputs": [],
   "source": [
    "# Create the parameter grid based on the results of random search \n",
    "GS_param_grid = {\n",
    "    'bootstrap': [True],\n",
    "    'max_depth': [60, 70, 80, 90, 100],\n",
    "    'max_features': ['auto'],\n",
    "    'min_samples_leaf': [1, 2, 3, 4],\n",
    "    'min_samples_split': [2, 3, 4],\n",
    "    'n_estimators': [600, 700, 800, 9000, 1000]\n",
    "}"
   ]
  },
  {
   "cell_type": "code",
   "execution_count": 34,
   "id": "85e616be",
   "metadata": {},
   "outputs": [],
   "source": [
    "# Create a based model\n",
    "rf = RandomForestRegressor()\n",
    "# Instantiate the grid search model\n",
    "grid_search = GridSearchCV(estimator = rf, param_grid = GS_param_grid, \n",
    "                          cv = 5, n_jobs = -1, verbose = 2)"
   ]
  },
  {
   "cell_type": "code",
   "execution_count": 35,
   "id": "5118e7cc",
   "metadata": {},
   "outputs": [
    {
     "name": "stdout",
     "output_type": "stream",
     "text": [
      "Fitting 5 folds for each of 300 candidates, totalling 1500 fits\n"
     ]
    },
    {
     "name": "stderr",
     "output_type": "stream",
     "text": [
      "[Parallel(n_jobs=-1)]: Using backend LokyBackend with 8 concurrent workers.\n",
      "[Parallel(n_jobs=-1)]: Done  25 tasks      | elapsed:   24.8s\n",
      "/Users/abigailmorgan/opt/anaconda3/lib/python3.8/site-packages/joblib/externals/loky/process_executor.py:688: UserWarning: A worker stopped while some jobs were given to the executor. This can be caused by a too short worker timeout or by a memory leak.\n",
      "  warnings.warn(\n",
      "[Parallel(n_jobs=-1)]: Done 146 tasks      | elapsed:  4.3min\n",
      "[Parallel(n_jobs=-1)]: Done 349 tasks      | elapsed: 10.4min\n",
      "[Parallel(n_jobs=-1)]: Done 632 tasks      | elapsed: 17.8min\n",
      "[Parallel(n_jobs=-1)]: Done 997 tasks      | elapsed: 28.0min\n",
      "[Parallel(n_jobs=-1)]: Done 1442 tasks      | elapsed: 40.1min\n",
      "[Parallel(n_jobs=-1)]: Done 1500 out of 1500 | elapsed: 41.6min finished\n"
     ]
    },
    {
     "data": {
      "text/plain": [
       "GridSearchCV(cv=5, estimator=RandomForestRegressor(), n_jobs=-1,\n",
       "             param_grid={'bootstrap': [True],\n",
       "                         'max_depth': [60, 70, 80, 90, 100],\n",
       "                         'max_features': ['auto'],\n",
       "                         'min_samples_leaf': [1, 2, 3, 4],\n",
       "                         'min_samples_split': [2, 3, 4],\n",
       "                         'n_estimators': [600, 700, 800, 9000, 1000]},\n",
       "             verbose=2)"
      ]
     },
     "execution_count": 35,
     "metadata": {},
     "output_type": "execute_result"
    }
   ],
   "source": [
    "# Fit the grid search to the data\n",
    "grid_search.fit(X_train, y_train)"
   ]
  },
  {
   "cell_type": "code",
   "execution_count": 36,
   "id": "94759d46",
   "metadata": {},
   "outputs": [
    {
     "data": {
      "text/plain": [
       "{'bootstrap': True,\n",
       " 'max_depth': 70,\n",
       " 'max_features': 'auto',\n",
       " 'min_samples_leaf': 2,\n",
       " 'min_samples_split': 2,\n",
       " 'n_estimators': 600}"
      ]
     },
     "execution_count": 36,
     "metadata": {},
     "output_type": "execute_result"
    }
   ],
   "source": [
    "grid_search.best_params_"
   ]
  },
  {
   "cell_type": "code",
   "execution_count": 37,
   "id": "2fb24a19",
   "metadata": {},
   "outputs": [],
   "source": [
    "# Instantiate RFR with optimal hyperparameters\n",
    "rf3 = RandomForestRegressor(n_estimators= 600,\n",
    "                             min_samples_split= 2,\n",
    "                             min_samples_leaf= 2,\n",
    "                             max_features= 'auto',\n",
    "                             max_depth= 70,\n",
    "                             bootstrap= True)\n",
    "rf3.fit(X_train, y_train)\n",
    "rf_pred3 = rf3.predict(X_test)"
   ]
  },
  {
   "cell_type": "code",
   "execution_count": 38,
   "id": "7a71edeb",
   "metadata": {
    "scrolled": true
   },
   "outputs": [
    {
     "name": "stdout",
     "output_type": "stream",
     "text": [
      "The R2 score for the RandomForestRegressor with GSCV tuning is 0.8498325430790624\n"
     ]
    }
   ],
   "source": [
    "# Determine R2 score\n",
    "print('The R2 score for the RandomForestRegressor with GSCV tuning is {}'.format(r2_score(y_test, rf_pred3)))"
   ]
  },
  {
   "cell_type": "code",
   "execution_count": 40,
   "id": "3246f568",
   "metadata": {},
   "outputs": [
    {
     "name": "stdout",
     "output_type": "stream",
     "text": [
      "The MSE of the RandomForestRegressor with GSCV tuning is 42.68347001716608\n"
     ]
    }
   ],
   "source": [
    "print('The MSE of the RandomForestRegressor with GSCV tuning is {}'.format(mse(y_test, rf_pred3)))"
   ]
  },
  {
   "cell_type": "code",
   "execution_count": 46,
   "id": "45e94b01",
   "metadata": {},
   "outputs": [],
   "source": [
    "rf_results.loc[len(rf_results)]= ['rf_gridCV', \n",
    "                                 r2_score(y_test, rf_pred3),\n",
    "                                 mse(y_test, rf_pred3),\n",
    "                                 np.sqrt(mse(y_test, rf_pred3))]"
   ]
  },
  {
   "cell_type": "code",
   "execution_count": 47,
   "id": "576cae4b",
   "metadata": {
    "scrolled": true
   },
   "outputs": [
    {
     "data": {
      "text/html": [
       "<div>\n",
       "<style scoped>\n",
       "    .dataframe tbody tr th:only-of-type {\n",
       "        vertical-align: middle;\n",
       "    }\n",
       "\n",
       "    .dataframe tbody tr th {\n",
       "        vertical-align: top;\n",
       "    }\n",
       "\n",
       "    .dataframe thead th {\n",
       "        text-align: right;\n",
       "    }\n",
       "</style>\n",
       "<table border=\"1\" class=\"dataframe\">\n",
       "  <thead>\n",
       "    <tr style=\"text-align: right;\">\n",
       "      <th></th>\n",
       "      <th>Model</th>\n",
       "      <th>R2</th>\n",
       "      <th>MSE</th>\n",
       "      <th>RMSE</th>\n",
       "    </tr>\n",
       "  </thead>\n",
       "  <tbody>\n",
       "    <tr>\n",
       "      <th>0</th>\n",
       "      <td>dummy_reg</td>\n",
       "      <td>-0.000861</td>\n",
       "      <td>284.483911</td>\n",
       "      <td>16.866651</td>\n",
       "    </tr>\n",
       "    <tr>\n",
       "      <th>1</th>\n",
       "      <td>basic_rf</td>\n",
       "      <td>0.846479</td>\n",
       "      <td>43.636790</td>\n",
       "      <td>6.605815</td>\n",
       "    </tr>\n",
       "    <tr>\n",
       "      <th>2</th>\n",
       "      <td>rf_randomCV</td>\n",
       "      <td>0.849885</td>\n",
       "      <td>42.668662</td>\n",
       "      <td>6.532125</td>\n",
       "    </tr>\n",
       "    <tr>\n",
       "      <th>3</th>\n",
       "      <td>rf_gridCV</td>\n",
       "      <td>0.849833</td>\n",
       "      <td>42.683470</td>\n",
       "      <td>6.533259</td>\n",
       "    </tr>\n",
       "  </tbody>\n",
       "</table>\n",
       "</div>"
      ],
      "text/plain": [
       "         Model        R2         MSE       RMSE\n",
       "0    dummy_reg -0.000861  284.483911  16.866651\n",
       "1     basic_rf  0.846479   43.636790   6.605815\n",
       "2  rf_randomCV  0.849885   42.668662   6.532125\n",
       "3    rf_gridCV  0.849833   42.683470   6.533259"
      ]
     },
     "execution_count": 47,
     "metadata": {},
     "output_type": "execute_result"
    }
   ],
   "source": [
    "rf_results"
   ]
  },
  {
   "cell_type": "markdown",
   "id": "2f546a68",
   "metadata": {},
   "source": [
    "**?** $\\star$ It looks like the optimal hyperparameters chosen by RandomSearchCV performed the best, both in terms of the R2 and mean squared error, so we'll use those hyperparameters (as defined in `rf2`)."
   ]
  },
  {
   "cell_type": "markdown",
   "id": "23ef09a0",
   "metadata": {},
   "source": [
    "***"
   ]
  },
  {
   "cell_type": "markdown",
   "id": "a6a68369",
   "metadata": {},
   "source": [
    "## 2. Extra Trees Regressor"
   ]
  },
  {
   "cell_type": "markdown",
   "id": "fbf9cf67",
   "metadata": {},
   "source": [
    "### Using basic hyperparameter tuning only"
   ]
  },
  {
   "cell_type": "code",
   "execution_count": 58,
   "id": "cb28aa79",
   "metadata": {},
   "outputs": [
    {
     "name": "stdout",
     "output_type": "stream",
     "text": [
      "{'max_depth': 9, 'n_estimators': 400}\n"
     ]
    }
   ],
   "source": [
    "# Define parameters to search for GridSearchCV\n",
    "param_grid = {'n_estimators': [100, 200, 300, 400, 500],\n",
    "              'max_depth': [3, 5, 7, 9],\n",
    "              }\n",
    "# Instantiate ExtraTreesRegressor\n",
    "et = ExtraTreesRegressor()\n",
    "cv_et = GridSearchCV(et, param_grid, cv = 5)\n",
    "cv_et_fit = cv_et.fit(X_train, y_train)\n",
    "\n",
    "#Print the best parameter\n",
    "print(cv_et_fit.best_params_)"
   ]
  },
  {
   "cell_type": "code",
   "execution_count": 62,
   "id": "ee0edcba",
   "metadata": {},
   "outputs": [
    {
     "name": "stdout",
     "output_type": "stream",
     "text": [
      "The optimal max_depth for the ExtraTreesRegressor is: 9\n",
      "The optimal n_estimators for the ExtraTreesRegressor is: 400\n"
     ]
    }
   ],
   "source": [
    "print('The optimal max_depth for the ExtraTreesRegressor is: {}'.format(cv_et_fit.best_params_['max_depth']))\n",
    "print('The optimal n_estimators for the ExtraTreesRegressor is: {}'.format(cv_et_fit.best_params_['n_estimators']))"
   ]
  },
  {
   "cell_type": "code",
   "execution_count": 65,
   "id": "e526ca7b",
   "metadata": {},
   "outputs": [],
   "source": [
    "# Instantiate ETR with optimal hyperparameters\n",
    "et_basic = RandomForestRegressor(max_depth = 9, n_estimators = 400)\n",
    "et_basic.fit(X_train, y_train)\n",
    "et_basic_pred = et_basic.predict(X_test)"
   ]
  },
  {
   "cell_type": "code",
   "execution_count": 66,
   "id": "b0f0f053",
   "metadata": {},
   "outputs": [
    {
     "name": "stdout",
     "output_type": "stream",
     "text": [
      "The R2 score for the basic Extra Trees Regressor is 0.844560324740221\n"
     ]
    }
   ],
   "source": [
    "# Determine R2 score\n",
    "print('The R2 score for the basic Extra Trees Regressor is {}'.format(r2_score(y_test, et_basic_pred)))"
   ]
  },
  {
   "cell_type": "code",
   "execution_count": 67,
   "id": "eb346517",
   "metadata": {},
   "outputs": [
    {
     "name": "stdout",
     "output_type": "stream",
     "text": [
      "The MSE of the basic ExtraTreesRegressor is 44.18204086603096\n"
     ]
    }
   ],
   "source": [
    "print('The MSE of the basic ExtraTreesRegressor is {}'.format(mse(y_test, et_basic_pred)))"
   ]
  },
  {
   "cell_type": "code",
   "execution_count": 68,
   "id": "0c83fede",
   "metadata": {},
   "outputs": [],
   "source": [
    "basic_et_r2 = r2_score(y_test, et_basic_pred)\n",
    "basic_et_mse = mse(y_test, et_basic_pred)\n",
    "basic_et_rmse = np.sqrt(mse(y_test, et_basic_pred))"
   ]
  },
  {
   "cell_type": "code",
   "execution_count": 69,
   "id": "aeace98f",
   "metadata": {},
   "outputs": [],
   "source": [
    "et_results = pd.DataFrame({'Model':['dummy_reg', 'basic_et'], 'R2': [dummy_r2, basic_et_r2], 'MSE':[dummy_mse, basic_et_mse], 'RMSE':[dummy_rmse, basic_et_rmse]})"
   ]
  },
  {
   "cell_type": "code",
   "execution_count": 70,
   "id": "a0110a51",
   "metadata": {
    "scrolled": true
   },
   "outputs": [
    {
     "data": {
      "text/html": [
       "<div>\n",
       "<style scoped>\n",
       "    .dataframe tbody tr th:only-of-type {\n",
       "        vertical-align: middle;\n",
       "    }\n",
       "\n",
       "    .dataframe tbody tr th {\n",
       "        vertical-align: top;\n",
       "    }\n",
       "\n",
       "    .dataframe thead th {\n",
       "        text-align: right;\n",
       "    }\n",
       "</style>\n",
       "<table border=\"1\" class=\"dataframe\">\n",
       "  <thead>\n",
       "    <tr style=\"text-align: right;\">\n",
       "      <th></th>\n",
       "      <th>Model</th>\n",
       "      <th>R2</th>\n",
       "      <th>MSE</th>\n",
       "      <th>RMSE</th>\n",
       "    </tr>\n",
       "  </thead>\n",
       "  <tbody>\n",
       "    <tr>\n",
       "      <th>0</th>\n",
       "      <td>dummy_reg</td>\n",
       "      <td>-0.000861</td>\n",
       "      <td>284.483911</td>\n",
       "      <td>16.866651</td>\n",
       "    </tr>\n",
       "    <tr>\n",
       "      <th>1</th>\n",
       "      <td>basic_et</td>\n",
       "      <td>0.844560</td>\n",
       "      <td>44.182041</td>\n",
       "      <td>6.646957</td>\n",
       "    </tr>\n",
       "  </tbody>\n",
       "</table>\n",
       "</div>"
      ],
      "text/plain": [
       "       Model        R2         MSE       RMSE\n",
       "0  dummy_reg -0.000861  284.483911  16.866651\n",
       "1   basic_et  0.844560   44.182041   6.646957"
      ]
     },
     "execution_count": 70,
     "metadata": {},
     "output_type": "execute_result"
    }
   ],
   "source": [
    "et_results"
   ]
  },
  {
   "cell_type": "markdown",
   "id": "a15ab685",
   "metadata": {},
   "source": [
    "***"
   ]
  },
  {
   "cell_type": "markdown",
   "id": "74b2e6c2",
   "metadata": {},
   "source": [
    "### Using RandomSearchCV to find optimal hyperparameter values"
   ]
  },
  {
   "cell_type": "code",
   "execution_count": 71,
   "id": "eff9f02a",
   "metadata": {},
   "outputs": [
    {
     "name": "stdout",
     "output_type": "stream",
     "text": [
      "{'n_estimators': [200, 400, 600, 800, 1000, 1200, 1400, 1600, 1800, 2000], 'max_features': ['auto', 'sqrt'], 'max_depth': [10, 20, 30, 40, 50, 60, 70, 80, 90, 100, 110, None, 9], 'min_samples_split': [2, 5, 10], 'min_samples_leaf': [1, 2, 4], 'bootstrap': [True, False]}\n"
     ]
    }
   ],
   "source": [
    "# Number of trees in random forest\n",
    "n_estimators = [int(x) for x in np.linspace(start = 200, stop = 2000, num = 10)]\n",
    "# Number of features to consider at every split\n",
    "max_features = ['auto', 'sqrt']\n",
    "# Maximum number of levels in tree\n",
    "max_depth = [int(x) for x in np.linspace(10, 110, num = 11)]\n",
    "max_depth.append(None)\n",
    "max_depth.append(9)\n",
    "# Minimum number of samples required to split a node\n",
    "min_samples_split = [2, 5, 10]\n",
    "# Minimum number of samples required at each leaf node\n",
    "min_samples_leaf = [1, 2, 4]\n",
    "# Method of selecting samples for training each tree\n",
    "bootstrap = [True, False]\n",
    "\n",
    "# Create the random grid\n",
    "random_grid_et = {'n_estimators': n_estimators,\n",
    "               'max_features': max_features,\n",
    "               'max_depth': max_depth,\n",
    "               'min_samples_split': min_samples_split,\n",
    "               'min_samples_leaf': min_samples_leaf,\n",
    "               'bootstrap': bootstrap}\n",
    "\n",
    "print(random_grid)"
   ]
  },
  {
   "cell_type": "code",
   "execution_count": 73,
   "id": "bfa09662",
   "metadata": {},
   "outputs": [
    {
     "name": "stdout",
     "output_type": "stream",
     "text": [
      "Fitting 5 folds for each of 100 candidates, totalling 500 fits\n"
     ]
    },
    {
     "name": "stderr",
     "output_type": "stream",
     "text": [
      "[Parallel(n_jobs=-1)]: Using backend LokyBackend with 8 concurrent workers.\n",
      "[Parallel(n_jobs=-1)]: Done  25 tasks      | elapsed:   15.6s\n",
      "[Parallel(n_jobs=-1)]: Done 146 tasks      | elapsed:  1.2min\n",
      "/Users/abigailmorgan/opt/anaconda3/lib/python3.8/site-packages/joblib/externals/loky/process_executor.py:688: UserWarning: A worker stopped while some jobs were given to the executor. This can be caused by a too short worker timeout or by a memory leak.\n",
      "  warnings.warn(\n",
      "[Parallel(n_jobs=-1)]: Done 349 tasks      | elapsed:  2.7min\n",
      "[Parallel(n_jobs=-1)]: Done 500 out of 500 | elapsed:  3.7min finished\n"
     ]
    },
    {
     "data": {
      "text/plain": [
       "RandomizedSearchCV(cv=5, estimator=ExtraTreesRegressor(), n_iter=100, n_jobs=-1,\n",
       "                   param_distributions={'bootstrap': [True, False],\n",
       "                                        'max_depth': [10, 20, 30, 40, 50, 60,\n",
       "                                                      70, 80, 90, 100, 110,\n",
       "                                                      None, 9],\n",
       "                                        'max_features': ['auto', 'sqrt'],\n",
       "                                        'min_samples_leaf': [1, 2, 4],\n",
       "                                        'min_samples_split': [2, 5, 10],\n",
       "                                        'n_estimators': [200, 400, 600, 800,\n",
       "                                                         1000, 1200, 1400, 1600,\n",
       "                                                         1800, 2000]},\n",
       "                   random_state=42, verbose=2)"
      ]
     },
     "execution_count": 73,
     "metadata": {},
     "output_type": "execute_result"
    }
   ],
   "source": [
    "# Use the random grid to search for best hyperparameters\n",
    "# First create the base model to tune\n",
    "et = ExtraTreesRegressor()\n",
    "# Random search of parameters, using 3 fold cross validation, \n",
    "# search across 100 different combinations, and use all available cores\n",
    "et2 = RandomizedSearchCV(estimator = et, param_distributions = random_grid, n_iter = 100, cv = 5, verbose=2, random_state=42, n_jobs = -1)\n",
    "# Fit the random search model\n",
    "et2.fit(X_train, y_train)"
   ]
  },
  {
   "cell_type": "code",
   "execution_count": 74,
   "id": "8350fc14",
   "metadata": {},
   "outputs": [
    {
     "data": {
      "text/plain": [
       "{'n_estimators': 1600,\n",
       " 'min_samples_split': 2,\n",
       " 'min_samples_leaf': 1,\n",
       " 'max_features': 'auto',\n",
       " 'max_depth': 60,\n",
       " 'bootstrap': True}"
      ]
     },
     "execution_count": 74,
     "metadata": {},
     "output_type": "execute_result"
    }
   ],
   "source": [
    "et2.best_params_"
   ]
  },
  {
   "cell_type": "code",
   "execution_count": 75,
   "id": "3ee5c496",
   "metadata": {},
   "outputs": [],
   "source": [
    "# Instantiate RFR with optimal hyperparameters\n",
    "et_random = ExtraTreesRegressor(n_estimators= 1600,\n",
    "                             min_samples_split= 2,\n",
    "                             min_samples_leaf= 1,\n",
    "                             max_features= 'auto',\n",
    "                             max_depth= 60,\n",
    "                             bootstrap= True)\n",
    "et_random.fit(X_train, y_train)\n",
    "et_random_pred = et_random.predict(X_test)"
   ]
  },
  {
   "cell_type": "code",
   "execution_count": 76,
   "id": "a53656ea",
   "metadata": {},
   "outputs": [
    {
     "name": "stdout",
     "output_type": "stream",
     "text": [
      "The R2 score for the ExtraTreesRegressor with RSCV tuning is 0.8533447972216975\n"
     ]
    }
   ],
   "source": [
    "# Determine R2 score\n",
    "print('The R2 score for the ExtraTreesRegressor with RSCV tuning is {}'.format(r2_score(y_test, et_random_pred)))"
   ]
  },
  {
   "cell_type": "code",
   "execution_count": 78,
   "id": "3d4796b3",
   "metadata": {},
   "outputs": [
    {
     "name": "stdout",
     "output_type": "stream",
     "text": [
      "The MSE of the ExtraTreesRegressor with RSCV tuning is 41.68514989199567\n"
     ]
    }
   ],
   "source": [
    "print('The MSE of the ExtraTreesRegressor with RSCV tuning is {}'.format(mse(y_test, et_random_pred)))"
   ]
  },
  {
   "cell_type": "code",
   "execution_count": 97,
   "id": "7a06aeb8",
   "metadata": {},
   "outputs": [
    {
     "name": "stderr",
     "output_type": "stream",
     "text": [
      "/Users/abigailmorgan/opt/anaconda3/lib/python3.8/site-packages/pandas/core/indexing.py:692: SettingWithCopyWarning: \n",
      "A value is trying to be set on a copy of a slice from a DataFrame\n",
      "\n",
      "See the caveats in the documentation: https://pandas.pydata.org/pandas-docs/stable/user_guide/indexing.html#returning-a-view-versus-a-copy\n",
      "  iloc._setitem_with_indexer(indexer, value, self.name)\n"
     ]
    }
   ],
   "source": [
    "et_results.loc[len(et_results)]= ['et_randomCV', \n",
    "                                 r2_score(y_test, et_random_pred),\n",
    "                                 mse(y_test, et_random_pred),\n",
    "                                 np.sqrt(mse(y_test, et_random_pred))]"
   ]
  },
  {
   "cell_type": "code",
   "execution_count": 98,
   "id": "8e494a3a",
   "metadata": {},
   "outputs": [
    {
     "data": {
      "text/html": [
       "<div>\n",
       "<style scoped>\n",
       "    .dataframe tbody tr th:only-of-type {\n",
       "        vertical-align: middle;\n",
       "    }\n",
       "\n",
       "    .dataframe tbody tr th {\n",
       "        vertical-align: top;\n",
       "    }\n",
       "\n",
       "    .dataframe thead th {\n",
       "        text-align: right;\n",
       "    }\n",
       "</style>\n",
       "<table border=\"1\" class=\"dataframe\">\n",
       "  <thead>\n",
       "    <tr style=\"text-align: right;\">\n",
       "      <th></th>\n",
       "      <th>Model</th>\n",
       "      <th>R2</th>\n",
       "      <th>MSE</th>\n",
       "      <th>RMSE</th>\n",
       "    </tr>\n",
       "  </thead>\n",
       "  <tbody>\n",
       "    <tr>\n",
       "      <th>0</th>\n",
       "      <td>dummy_reg</td>\n",
       "      <td>-0.000861</td>\n",
       "      <td>284.483911</td>\n",
       "      <td>16.866651</td>\n",
       "    </tr>\n",
       "    <tr>\n",
       "      <th>1</th>\n",
       "      <td>basic_et</td>\n",
       "      <td>0.844560</td>\n",
       "      <td>44.182041</td>\n",
       "      <td>6.646957</td>\n",
       "    </tr>\n",
       "    <tr>\n",
       "      <th>2</th>\n",
       "      <td>et_randomCV</td>\n",
       "      <td>0.853345</td>\n",
       "      <td>41.685150</td>\n",
       "      <td>6.456404</td>\n",
       "    </tr>\n",
       "  </tbody>\n",
       "</table>\n",
       "</div>"
      ],
      "text/plain": [
       "         Model        R2         MSE       RMSE\n",
       "0    dummy_reg -0.000861  284.483911  16.866651\n",
       "1     basic_et  0.844560   44.182041   6.646957\n",
       "2  et_randomCV  0.853345   41.685150   6.456404"
      ]
     },
     "execution_count": 98,
     "metadata": {},
     "output_type": "execute_result"
    }
   ],
   "source": [
    "et_results"
   ]
  },
  {
   "cell_type": "markdown",
   "id": "62dfa218",
   "metadata": {},
   "source": [
    "#### Using GridSearchCV to find the optimal hyperparamter values"
   ]
  },
  {
   "cell_type": "code",
   "execution_count": 81,
   "id": "a92dbf6a",
   "metadata": {},
   "outputs": [],
   "source": [
    "# Create the parameter grid based on the results of random search \n",
    "GS_param_grid_et = {\n",
    "    'bootstrap': [True],\n",
    "    'max_depth': [50, 60, 70],\n",
    "    'max_features': ['auto'],\n",
    "    'min_samples_leaf': [1, 2, 3],\n",
    "    'min_samples_split': [2, 3, 4],\n",
    "    'n_estimators': [1400, 1500, 1600, 1700, 1800]\n",
    "}"
   ]
  },
  {
   "cell_type": "code",
   "execution_count": 83,
   "id": "e2299472",
   "metadata": {},
   "outputs": [],
   "source": [
    "# Create a base model\n",
    "et = ExtraTreesRegressor()\n",
    "# Instantiate the grid search model\n",
    "et3 = GridSearchCV(estimator = et, param_grid = GS_param_grid_et, \n",
    "                          cv = 5, n_jobs = -1, verbose = 2)"
   ]
  },
  {
   "cell_type": "code",
   "execution_count": 84,
   "id": "d86a779c",
   "metadata": {},
   "outputs": [
    {
     "name": "stdout",
     "output_type": "stream",
     "text": [
      "Fitting 5 folds for each of 135 candidates, totalling 675 fits\n"
     ]
    },
    {
     "name": "stderr",
     "output_type": "stream",
     "text": [
      "[Parallel(n_jobs=-1)]: Using backend LokyBackend with 8 concurrent workers.\n",
      "/Users/abigailmorgan/opt/anaconda3/lib/python3.8/site-packages/joblib/externals/loky/process_executor.py:688: UserWarning: A worker stopped while some jobs were given to the executor. This can be caused by a too short worker timeout or by a memory leak.\n",
      "  warnings.warn(\n",
      "[Parallel(n_jobs=-1)]: Done  25 tasks      | elapsed:   25.6s\n",
      "[Parallel(n_jobs=-1)]: Done 146 tasks      | elapsed:  2.1min\n",
      "[Parallel(n_jobs=-1)]: Done 349 tasks      | elapsed:  4.8min\n",
      "[Parallel(n_jobs=-1)]: Done 632 tasks      | elapsed:  8.0min\n",
      "[Parallel(n_jobs=-1)]: Done 675 out of 675 | elapsed:  8.4min finished\n"
     ]
    },
    {
     "data": {
      "text/plain": [
       "GridSearchCV(cv=5, estimator=ExtraTreesRegressor(), n_jobs=-1,\n",
       "             param_grid={'bootstrap': [True], 'max_depth': [50, 60, 70],\n",
       "                         'max_features': ['auto'],\n",
       "                         'min_samples_leaf': [1, 2, 3],\n",
       "                         'min_samples_split': [2, 3, 4],\n",
       "                         'n_estimators': [1400, 1500, 1600, 1700, 1800]},\n",
       "             verbose=2)"
      ]
     },
     "execution_count": 84,
     "metadata": {},
     "output_type": "execute_result"
    }
   ],
   "source": [
    "# Fit the grid search to the data\n",
    "et3.fit(X_train, y_train)"
   ]
  },
  {
   "cell_type": "code",
   "execution_count": 85,
   "id": "1af8c482",
   "metadata": {},
   "outputs": [
    {
     "data": {
      "text/plain": [
       "{'bootstrap': True,\n",
       " 'max_depth': 70,\n",
       " 'max_features': 'auto',\n",
       " 'min_samples_leaf': 1,\n",
       " 'min_samples_split': 3,\n",
       " 'n_estimators': 1700}"
      ]
     },
     "execution_count": 85,
     "metadata": {},
     "output_type": "execute_result"
    }
   ],
   "source": [
    "et3.best_params_"
   ]
  },
  {
   "cell_type": "code",
   "execution_count": 86,
   "id": "29b5115a",
   "metadata": {},
   "outputs": [],
   "source": [
    "# Instantiate RFR with optimal hyperparameters\n",
    "et_grid = ExtraTreesRegressor(n_estimators= 1700,\n",
    "                             min_samples_split= 3,\n",
    "                             min_samples_leaf= 1,\n",
    "                             max_features= 'auto',\n",
    "                             max_depth= 70,\n",
    "                             bootstrap= True)\n",
    "et_grid.fit(X_train, y_train)\n",
    "et_grid_pred = et_grid.predict(X_test)"
   ]
  },
  {
   "cell_type": "code",
   "execution_count": 87,
   "id": "4d7c89b8",
   "metadata": {},
   "outputs": [
    {
     "name": "stdout",
     "output_type": "stream",
     "text": [
      "The R2 score for the Extra Trees Regressor with GSCV is 0.8554859197060802\n"
     ]
    }
   ],
   "source": [
    "# Determine R2 score\n",
    "print('The R2 score for the Extra Trees Regressor with GSCV is {}'.format(r2_score(y_test, et_grid_pred)))"
   ]
  },
  {
   "cell_type": "code",
   "execution_count": 89,
   "id": "a995a827",
   "metadata": {},
   "outputs": [
    {
     "name": "stdout",
     "output_type": "stream",
     "text": [
      "The MSE of the ExtraTreesRegressor with GSCV is 41.07655906120503\n"
     ]
    }
   ],
   "source": [
    "print('The MSE of the ExtraTreesRegressor with GSCV is {}'.format(mse(y_test, et_grid_pred)))"
   ]
  },
  {
   "cell_type": "code",
   "execution_count": 99,
   "id": "21af674d",
   "metadata": {},
   "outputs": [],
   "source": [
    "et_results.loc[len(et_results)]= ['et_gridCV', \n",
    "                                 r2_score(y_test, et_grid_pred),\n",
    "                                 mse(y_test, et_grid_pred),\n",
    "                                 np.sqrt(mse(y_test, et_grid_pred))]"
   ]
  },
  {
   "cell_type": "code",
   "execution_count": 100,
   "id": "6fb1aa82",
   "metadata": {},
   "outputs": [
    {
     "data": {
      "text/html": [
       "<div>\n",
       "<style scoped>\n",
       "    .dataframe tbody tr th:only-of-type {\n",
       "        vertical-align: middle;\n",
       "    }\n",
       "\n",
       "    .dataframe tbody tr th {\n",
       "        vertical-align: top;\n",
       "    }\n",
       "\n",
       "    .dataframe thead th {\n",
       "        text-align: right;\n",
       "    }\n",
       "</style>\n",
       "<table border=\"1\" class=\"dataframe\">\n",
       "  <thead>\n",
       "    <tr style=\"text-align: right;\">\n",
       "      <th></th>\n",
       "      <th>Model</th>\n",
       "      <th>R2</th>\n",
       "      <th>MSE</th>\n",
       "      <th>RMSE</th>\n",
       "    </tr>\n",
       "  </thead>\n",
       "  <tbody>\n",
       "    <tr>\n",
       "      <th>0</th>\n",
       "      <td>dummy_reg</td>\n",
       "      <td>-0.000861</td>\n",
       "      <td>284.483911</td>\n",
       "      <td>16.866651</td>\n",
       "    </tr>\n",
       "    <tr>\n",
       "      <th>1</th>\n",
       "      <td>basic_et</td>\n",
       "      <td>0.844560</td>\n",
       "      <td>44.182041</td>\n",
       "      <td>6.646957</td>\n",
       "    </tr>\n",
       "    <tr>\n",
       "      <th>2</th>\n",
       "      <td>et_randomCV</td>\n",
       "      <td>0.853345</td>\n",
       "      <td>41.685150</td>\n",
       "      <td>6.456404</td>\n",
       "    </tr>\n",
       "    <tr>\n",
       "      <th>3</th>\n",
       "      <td>et_gridCV</td>\n",
       "      <td>0.855486</td>\n",
       "      <td>41.076559</td>\n",
       "      <td>6.409100</td>\n",
       "    </tr>\n",
       "  </tbody>\n",
       "</table>\n",
       "</div>"
      ],
      "text/plain": [
       "         Model        R2         MSE       RMSE\n",
       "0    dummy_reg -0.000861  284.483911  16.866651\n",
       "1     basic_et  0.844560   44.182041   6.646957\n",
       "2  et_randomCV  0.853345   41.685150   6.456404\n",
       "3    et_gridCV  0.855486   41.076559   6.409100"
      ]
     },
     "execution_count": 100,
     "metadata": {},
     "output_type": "execute_result"
    }
   ],
   "source": [
    "et_results "
   ]
  },
  {
   "cell_type": "markdown",
   "id": "ed2f25e2",
   "metadata": {},
   "source": [
    "It seems that here the parameters suggested by GridSearchCV (stored in `et_gridCV`) produced the best MSE and R2, so we'll use those "
   ]
  }
 ],
 "metadata": {
  "kernelspec": {
   "display_name": "Python 3",
   "language": "python",
   "name": "python3"
  },
  "language_info": {
   "codemirror_mode": {
    "name": "ipython",
    "version": 3
   },
   "file_extension": ".py",
   "mimetype": "text/x-python",
   "name": "python",
   "nbconvert_exporter": "python",
   "pygments_lexer": "ipython3",
   "version": "3.8.8"
  }
 },
 "nbformat": 4,
 "nbformat_minor": 5
}
