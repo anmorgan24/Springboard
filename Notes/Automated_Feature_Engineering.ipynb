{
 "cells": [
  {
   "cell_type": "markdown",
   "id": "88a82e25",
   "metadata": {},
   "source": [
    "# Automated Feature Engineering"
   ]
  },
  {
   "cell_type": "markdown",
   "id": "332be753",
   "metadata": {},
   "source": [
    "* Often a predictive model's performance is limited by its features — you can tune the model for the best parameters and still not have the best performing model. \n",
    "* Identifying and engineering features that clearly demonstrate the predictive signal is paramount to model performance.\n",
    "* The single biggest technical hurdle that machine learning algorithms must overcome is their need for processed data in order to work — they can only make predictions from numeric data. \n",
    "* The process for extracting these numeric features is called “feature engineering.\n",
    "\n",
    "## Deep Feature Synthesis (DFS)\n",
    "* Developed at MIT in 2014\n",
    "* generates many of the same features that a human data scientist would create.\n",
    "\n",
    "* There are three key concepts in understanding Deep Feature Synthesis:\n",
    "\n",
    "* **1) Features are derived from relationships between the data points in a dataset.**\n",
    "    * DFS performs feature engineering for multi-table and transactional datasets commonly found in databases or log files.\n",
    "\n",
    "* **2) Across datasets, many features are derived by using similar mathematical operations.**\n",
    "    * Dataset-agnostic operations are called “primitives.”\n",
    "    \n",
    "* **3) New features are often composed from utilizing previously derived features.**\n",
    "    * Primitives are the building blocks of DFS. \n",
    "    * Because primitives define their input and output types, we can stack them to construct complex features that mimic the ones that humans create today.\n",
    "    * DFS can apply primitives across relationships between entities, so features can be created from datasets with many tables. \n",
    "    * We can control the complexity of the features we create by setting a maximum depth for our search.\n",
    "\n",
    "* A second advantage of primitives: they can be used to quickly enumerate many interesting features in a parameterized fashion\n",
    "    \n",
    "*  Since primitives are defined independently of a specific dataset, any new primitive added to Featuretools can be incorporated into any other dataset that contains the same variable data types. In some cases, this might be a dataset in the same domain, but it could also be for a completely different use case.\n",
    "\n",
    "* It’s easy to accidentally leak information about what you’re trying to predict into a model.\n",
    "* DFS can be used to develop baseline models with little human intervention.\n",
    "* the automation of feature engineering should be thought of as a complement to critical human expertise — it enables data scientists to be more precise and productive.\n",
    "\n",
    "* Deep Feature Synthesis vs. Deep Learning\n",
    "* Deep Learning automates feature engineering for images, text, and audio where a large training set is typically required, whereas DFS targets the structured transactional and relational datasets that companies work with.\n",
    "* The features that DFS generates are more explainable to humans because they are based on combinations of primitives that are easily described in natural language. \n",
    "* The transformations in deep learning must be possible through matrix multiplication, while the primitives in DFS can be mapped to any function that a domain expert can describe.\n",
    "* This increases the accessibility of the technology and offers more opportunities for those who are not experienced machine learning professionals to contribute their own expertise.\n",
    "* Additionally, while deep learning often requires many training examples to train the complex architectures it needs to work, DFS can start creating potential features based only on the schema of a dataset.\n",
    "* For many enterprise use cases, enough training examples for deep learning are not available.\n",
    "* DFS offers a way to begin creating interpretable features for smaller datasets that humans can manually validate.\n",
    "* Automating feature engineering offers the potential to accelerate the process of applying machine learning to the valuable datasets collected by data science teams today. \n",
    "* It will help data scientists to quickly address new problems as they arise and, more importantly, make it easier for those new to data science to develop the skills necessary to apply their own domain expertise."
   ]
  },
  {
   "cell_type": "code",
   "execution_count": null,
   "id": "e5073136",
   "metadata": {},
   "outputs": [],
   "source": []
  },
  {
   "cell_type": "code",
   "execution_count": null,
   "id": "e5a67063",
   "metadata": {},
   "outputs": [],
   "source": []
  },
  {
   "cell_type": "code",
   "execution_count": null,
   "id": "7fc2d2c1",
   "metadata": {},
   "outputs": [],
   "source": []
  },
  {
   "cell_type": "code",
   "execution_count": null,
   "id": "11180d85",
   "metadata": {},
   "outputs": [],
   "source": []
  }
 ],
 "metadata": {
  "kernelspec": {
   "display_name": "Python 3",
   "language": "python",
   "name": "python3"
  },
  "language_info": {
   "codemirror_mode": {
    "name": "ipython",
    "version": 3
   },
   "file_extension": ".py",
   "mimetype": "text/x-python",
   "name": "python",
   "nbconvert_exporter": "python",
   "pygments_lexer": "ipython3",
   "version": "3.8.8"
  }
 },
 "nbformat": 4,
 "nbformat_minor": 5
}
