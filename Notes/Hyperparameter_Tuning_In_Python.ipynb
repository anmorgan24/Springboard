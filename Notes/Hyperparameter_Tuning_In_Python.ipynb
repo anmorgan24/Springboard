{
 "cells": [
  {
   "cell_type": "markdown",
   "id": "1f7b7863",
   "metadata": {},
   "source": [
    "# Hyperparameter tuning in Python"
   ]
  },
  {
   "cell_type": "markdown",
   "id": "70c346c1",
   "metadata": {},
   "source": [
    "#### Hyperparameters and Parameters\n",
    "* New, complex algorithms have many hyperparameters\n",
    "* It becomes increasingly important to learn how to efficiently find optimal combinations, as this search will likely take up a large portion of your time\n",
    "* Often it is quite easy to simply run Scikit Learn functions on the default settings or perhaps code from a tutorial or book without really digging under the hood\n",
    "* However, what lies underneath is of vital importance to good model building\n",
    "\n",
    "### Parameters\n",
    "* **Parameters:** \n",
    "    * Components of the final model that are learned through the modeling process\n",
    "    * Crucially, **you do not set these manually.** In fact, you can't.\n",
    "    * The algorithm will discover parameters for you (they are learned during the modeling process).\n",
    "    \n",
    "* To know what parameters an algorithm will produce, you need:\n",
    "    * 1. To know a bit about the algorithm itself and how it works.\n",
    "    * 2. Consult the sklearn documentation to see where the parameter is stored in the returned object.\n",
    "            * parameters are found under the 'Attributes' section - *not* the 'parameters' section!\n",
    "\n",
    "* **Parameters in Random Forest\n",
    "* parameters are in the node decisions \n",
    "    * what feature to split\n",
    "    * what value to split on\n",
    "    * **to view individual tree of Random Forest:**\n",
    "    \n",
    "```\n",
    "rf_clf = RandomForestClassifier(max_depth=2)\n",
    "rf_clf.fit(X_train, y_train)\n",
    "\n",
    "chosen_tree = rf_clf.estimators_[7]\n",
    "```\n",
    "\n",
    "#### Extracting Node Decisions\n",
    "* For example, we can pull out details of the left, second-from-top node of the above isolated tree as follows:\n",
    "\n",
    "```\n",
    "# Get the column it split on\n",
    "split_column = chosen_tree.tree_.feature[1]\n",
    "split_column_name = X_train.columns[split_column]\n",
    "\n",
    "# Get the level it split on \n",
    "split_value = chosen_tree.tree_.threshold[1]\n",
    "print(\"This node split on feature {}, at a. value of {}'.format(split_column_name, split_value))\n",
    "```"
   ]
  },
  {
   "cell_type": "code",
   "execution_count": null,
   "id": "c104d9df",
   "metadata": {},
   "outputs": [],
   "source": []
  },
  {
   "cell_type": "code",
   "execution_count": null,
   "id": "976c3cdc",
   "metadata": {},
   "outputs": [],
   "source": []
  },
  {
   "cell_type": "code",
   "execution_count": null,
   "id": "e3d35c2c",
   "metadata": {},
   "outputs": [],
   "source": []
  },
  {
   "cell_type": "code",
   "execution_count": null,
   "id": "7f8a4ac5",
   "metadata": {},
   "outputs": [],
   "source": []
  },
  {
   "cell_type": "code",
   "execution_count": null,
   "id": "3b395011",
   "metadata": {},
   "outputs": [],
   "source": []
  },
  {
   "cell_type": "code",
   "execution_count": null,
   "id": "f0dc459b",
   "metadata": {},
   "outputs": [],
   "source": []
  },
  {
   "cell_type": "code",
   "execution_count": null,
   "id": "f89956aa",
   "metadata": {},
   "outputs": [],
   "source": []
  },
  {
   "cell_type": "code",
   "execution_count": null,
   "id": "de64a86c",
   "metadata": {},
   "outputs": [],
   "source": []
  },
  {
   "cell_type": "code",
   "execution_count": null,
   "id": "c9b6c59e",
   "metadata": {},
   "outputs": [],
   "source": []
  }
 ],
 "metadata": {
  "kernelspec": {
   "display_name": "Python 3",
   "language": "python",
   "name": "python3"
  },
  "language_info": {
   "codemirror_mode": {
    "name": "ipython",
    "version": 3
   },
   "file_extension": ".py",
   "mimetype": "text/x-python",
   "name": "python",
   "nbconvert_exporter": "python",
   "pygments_lexer": "ipython3",
   "version": "3.8.8"
  }
 },
 "nbformat": 4,
 "nbformat_minor": 5
}
