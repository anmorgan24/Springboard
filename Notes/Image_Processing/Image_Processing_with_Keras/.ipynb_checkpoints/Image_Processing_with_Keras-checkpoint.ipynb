{
 "cells": [
  {
   "cell_type": "markdown",
   "id": "63606ea0",
   "metadata": {},
   "source": [
    "# Image Processing with Keras\n",
    "Deep learning methods use data to train neural network algorithms to do a variety of machine learning tasks, such as classification of different classes of objects. Convolutional neural networks are deep learning algorithms that are particularly powerful for analysis of images. This course will teach you how to construct, train and evaluate convolutional neural networks. You will also learn how to improve their ability to learn from data, and how to interpret the results of the training.\n",
    "\n",
    "**Instructor:** Ariel Rokem, Sr. Data Scientist at University of Washington\n",
    "\n",
    "# $\\star$ Chapter 1: Image Processing with Neural Networks\n",
    "Convolutional neural networks use the data that is represented in images to learn. In this chapter, we will probe data in images, and we will learn how to use Keras to train a neural network to classify objects that appear in images."
   ]
  },
  {
   "cell_type": "markdown",
   "id": "c00dfce4",
   "metadata": {},
   "source": [
    "## Introducting Convolutional Neural Networks (CNNs)\n",
    "* CNNs are powerful algorithms for processing images; in fact, these algorithms are currently the best algorithms we have for automated processing of images and they are used by many different companies to do things like identifying the objects in an image\n",
    "* **After completeing this course, you will be able to build an algorithm that processes images of different objects and can distinguish between them.** \n",
    "\n",
    "#### Software and pre-requisites\n",
    "* DataCamp's Deep Learning course\n",
    "* Machine learning concepts:\n",
    "    * Overfitting\n",
    "    * Model evaluation\n",
    "    * Cross-validation"
   ]
  },
  {
   "cell_type": "code",
   "execution_count": null,
   "id": "1c6fda9d",
   "metadata": {},
   "outputs": [],
   "source": []
  }
 ],
 "metadata": {
  "kernelspec": {
   "display_name": "Python 3.8 (tensorflow)",
   "language": "python",
   "name": "tensorflow"
  },
  "language_info": {
   "codemirror_mode": {
    "name": "ipython",
    "version": 3
   },
   "file_extension": ".py",
   "mimetype": "text/x-python",
   "name": "python",
   "nbconvert_exporter": "python",
   "pygments_lexer": "ipython3",
   "version": "3.8.12"
  }
 },
 "nbformat": 4,
 "nbformat_minor": 5
}
