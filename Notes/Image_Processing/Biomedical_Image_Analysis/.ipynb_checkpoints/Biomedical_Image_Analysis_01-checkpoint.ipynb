{
 "cells": [
  {
   "cell_type": "markdown",
   "id": "97be009a",
   "metadata": {},
   "source": [
    "# Biomedical Image Analysis in Python\n",
    "The field of biomedical imaging has exploded in recent years - but for the uninitiated, even loading data can be a challenge! In this introductory course, you'll learn the fundamentals of image analysis using NumPy, SciPy, and Matplotlib. You'll navigate through a whole-body CT scan, segment a cardiac MRI time series, and determine whether Alzheimer’s disease changes brain structure. Even if you have never worked with images before, you will finish the course with a solid toolkit for entering this dynamic field.\n",
    "\n",
    "**Instructor:** Stephen Bailey is lead data scientist at Immuta, where he researches and develops best practices in data governance. He is passionate about democratizing science and is an enthusiastic member of the Python community. Stephen has published a number of papers on leveraging medical imaging technology to better understand health and disease, and he is excited to introduce others to this dynamic research field!"
   ]
  },
  {
   "cell_type": "markdown",
   "id": "251927f2",
   "metadata": {},
   "source": [
    "# $\\star$ Chapter 1: Exploration\n",
    "Prepare to conquer the Nth dimension! To begin the course, you'll learn how to load, build and navigate N-dimensional images using a CT image of the human chest. You'll also leverage the useful ImageIO package and hone your NumPy and matplotlib skills."
   ]
  },
  {
   "cell_type": "markdown",
   "id": "eae56a52",
   "metadata": {},
   "source": [
    "### Image data\n",
    "   Since the first X-ray in 1895, medical imaging technology has advanced clinical care and opened up new fields of scientific investigation. The amount of imaging data is exploding: by 2020, there is estimated to be more than 3.5 billion terabytes of imaging data in the U.S. alone. This has created amazing opportunities for analysis: \n",
    "   * Measuring organ shape and size\n",
    "   * Creating detailed reconstructions of anatomy\n",
    "   * Analyzing tissue composition\n",
    "   * Predicting pathology\n",
    "   * Much, much more...\n",
    "   The complexity and variety of the data can make it an intimidating field to jump into. Fortunately, there are fantastic tools and a wealth of resources to support you. \n",
    "  \n",
    "#### Toolbox\n",
    "* `ImageIO`\n",
    "* `NumPy`\n",
    "* `SciPy`\n",
    "* `matplotlib`\n",
    "\n",
    "#### Course Objectives\n",
    "\n",
    "* **1) Exploration**\n",
    "    * Loading images\n",
    "    * N-D data\n",
    "    * Subplots\n",
    "    \n",
    "* **2) Masks and Filters**\n",
    "    * Intensity distributions\n",
    "    * Convolutions\n",
    "    * Edge detection\n",
    "    \n",
    "* **3) Measurement**\n",
    "    * Labelling\n",
    "    * Multi-object measurement\n",
    "    * Morphology\n",
    "    \n",
    "* **4) Image Comparison**\n",
    "    * Transformations\n",
    "    * Resampling\n",
    "    * Cost functions\n",
    "    * Normalization\n",
    "    \n",
    "* While this only scratches the surface of the field, it will give you a firm foundation for advanced concepts like classification and segmentation."
   ]
  },
  {
   "cell_type": "code",
   "execution_count": null,
   "id": "99041c7c",
   "metadata": {},
   "outputs": [],
   "source": []
  },
  {
   "cell_type": "code",
   "execution_count": null,
   "id": "ae2e9872",
   "metadata": {},
   "outputs": [],
   "source": []
  },
  {
   "cell_type": "code",
   "execution_count": null,
   "id": "1d711172",
   "metadata": {},
   "outputs": [],
   "source": []
  },
  {
   "cell_type": "code",
   "execution_count": null,
   "id": "5b9304d3",
   "metadata": {},
   "outputs": [],
   "source": []
  },
  {
   "cell_type": "code",
   "execution_count": null,
   "id": "9bc68fb7",
   "metadata": {},
   "outputs": [],
   "source": []
  }
 ],
 "metadata": {
  "kernelspec": {
   "display_name": "Python 3",
   "language": "python",
   "name": "python3"
  },
  "language_info": {
   "codemirror_mode": {
    "name": "ipython",
    "version": 3
   },
   "file_extension": ".py",
   "mimetype": "text/x-python",
   "name": "python",
   "nbconvert_exporter": "python",
   "pygments_lexer": "ipython3",
   "version": "3.8.8"
  }
 },
 "nbformat": 4,
 "nbformat_minor": 5
}
