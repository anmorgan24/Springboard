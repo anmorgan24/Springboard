{
 "cells": [
  {
   "cell_type": "code",
   "execution_count": 2,
   "metadata": {},
   "outputs": [],
   "source": [
    "%matplotlib inline"
   ]
  },
  {
   "cell_type": "markdown",
   "metadata": {},
   "source": [
    "\n",
    "# Load CT slices and plot axial, sagittal and coronal images\n",
    "\n",
    "This example illustrates loading multiple files, sorting them by slice\n",
    "location, building a 3D image and reslicing it in different planes.\n",
    "\n",
    ".. usage:\n",
    "\n",
    "   reslice.py <glob>\n",
    "   where <glob> refers to a set of DICOM image files.\n",
    "\n",
    "   Example: python reslice.py \"*.dcm\". The quotes are needed to protect\n",
    "   the glob from your system and leave it for the script.\n",
    "\n",
    ".. note:\n",
    "\n",
    "   Uses numpy and matplotlib.\n",
    "\n",
    "   Tested using series 2 from here\n",
    "   http://www.pcir.org/researchers/54879843_20060101.html\n"
   ]
  },
  {
   "cell_type": "code",
   "execution_count": 1,
   "metadata": {},
   "outputs": [
    {
     "ename": "ModuleNotFoundError",
     "evalue": "No module named 'pydicom'",
     "output_type": "error",
     "traceback": [
      "\u001b[0;31m---------------------------------------------------------------------------\u001b[0m",
      "\u001b[0;31mModuleNotFoundError\u001b[0m                       Traceback (most recent call last)",
      "\u001b[0;32m<ipython-input-1-38f64429dfe9>\u001b[0m in \u001b[0;36m<module>\u001b[0;34m\u001b[0m\n\u001b[0;32m----> 1\u001b[0;31m \u001b[0;32mimport\u001b[0m \u001b[0mpydicom\u001b[0m\u001b[0;34m\u001b[0m\u001b[0;34m\u001b[0m\u001b[0m\n\u001b[0m\u001b[1;32m      2\u001b[0m \u001b[0;32mimport\u001b[0m \u001b[0mnumpy\u001b[0m \u001b[0;32mas\u001b[0m \u001b[0mnp\u001b[0m\u001b[0;34m\u001b[0m\u001b[0;34m\u001b[0m\u001b[0m\n\u001b[1;32m      3\u001b[0m \u001b[0;32mimport\u001b[0m \u001b[0mmatplotlib\u001b[0m\u001b[0;34m.\u001b[0m\u001b[0mpyplot\u001b[0m \u001b[0;32mas\u001b[0m \u001b[0mplt\u001b[0m\u001b[0;34m\u001b[0m\u001b[0;34m\u001b[0m\u001b[0m\n\u001b[1;32m      4\u001b[0m \u001b[0;32mimport\u001b[0m \u001b[0msys\u001b[0m\u001b[0;34m\u001b[0m\u001b[0;34m\u001b[0m\u001b[0m\n\u001b[1;32m      5\u001b[0m \u001b[0;32mimport\u001b[0m \u001b[0mglob\u001b[0m\u001b[0;34m\u001b[0m\u001b[0;34m\u001b[0m\u001b[0m\n",
      "\u001b[0;31mModuleNotFoundError\u001b[0m: No module named 'pydicom'"
     ]
    }
   ],
   "source": [
    "import pydicom\n",
    "import numpy as np\n",
    "import matplotlib.pyplot as plt\n",
    "import sys\n",
    "import glob\n",
    "\n",
    "# load the DICOM files\n",
    "files = []\n",
    "print('glob: {}'.format(sys.argv[1]))\n",
    "for fname in glob.glob(sys.argv[1], recursive=False):\n",
    "    print(\"loading: {}\".format(fname))\n",
    "    files.append(pydicom.dcmread(fname))\n",
    "\n",
    "print(\"file count: {}\".format(len(files)))\n",
    "\n",
    "# skip files with no SliceLocation (eg scout views)\n",
    "slices = []\n",
    "skipcount = 0\n",
    "for f in files:\n",
    "    if hasattr(f, 'SliceLocation'):\n",
    "        slices.append(f)\n",
    "    else:\n",
    "        skipcount = skipcount + 1\n",
    "    \n",
    "\n",
    "print(\"skipped, no SliceLocation: {}\".format(skipcount))\n",
    "\n",
    "# ensure they are in the correct order\n",
    "slices = sorted(slices, key=lambda s: s.SliceLocation)\n",
    "\n",
    "# pixel aspects, assuming all slices are the same\n",
    "ps = slices[0].PixelSpacing\n",
    "ss = slices[0].SliceThickness\n",
    "ax_aspect = ps[1]/ps[0]\n",
    "sag_aspect = ps[1]/ss\n",
    "cor_aspect = ss/ps[0]\n",
    "\n",
    "# create 3D array\n",
    "img_shape = list(slices[0].pixel_array.shape)\n",
    "img_shape.append(len(slices))\n",
    "img3d = np.zeros(img_shape)\n",
    "\n",
    "# fill 3D array with the images from the files\n",
    "for i, s in enumerate(slices):\n",
    "    img2d = s.pixel_array\n",
    "    img3d[:, :, i] = img2d\n",
    "\n",
    "# plot 3 orthogonal slices\n",
    "a1 = plt.subplot(2, 2, 1)\n",
    "plt.imshow(img3d[:, :, img_shape[2]//2])\n",
    "a1.set_aspect(ax_aspect)\n",
    "\n",
    "a2 = plt.subplot(2, 2, 2)\n",
    "plt.imshow(img3d[:, img_shape[1]//2, :])\n",
    "a2.set_aspect(sag_aspect)\n",
    "\n",
    "a3 = plt.subplot(2, 2, 3)\n",
    "plt.imshow(img3d[img_shape[0]//2, :, :].T)\n",
    "a3.set_aspect(cor_aspect)\n",
    "\n",
    "plt.show()"
   ]
  },
  {
   "cell_type": "code",
   "execution_count": null,
   "metadata": {},
   "outputs": [],
   "source": []
  }
 ],
 "metadata": {
  "kernelspec": {
   "display_name": "Python 3",
   "language": "python",
   "name": "python3"
  },
  "language_info": {
   "codemirror_mode": {
    "name": "ipython",
    "version": 3
   },
   "file_extension": ".py",
   "mimetype": "text/x-python",
   "name": "python",
   "nbconvert_exporter": "python",
   "pygments_lexer": "ipython3",
   "version": "3.8.8"
  }
 },
 "nbformat": 4,
 "nbformat_minor": 1
}
