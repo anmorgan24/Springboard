{
 "cells": [
  {
   "cell_type": "markdown",
   "id": "f0d67a99",
   "metadata": {},
   "source": [
    "# Biomedical Image Analysis in Python\n",
    "The field of biomedical imaging has exploded in recent years - but for the uninitiated, even loading data can be a challenge! In this introductory course, you'll learn the fundamentals of image analysis using NumPy, SciPy, and Matplotlib. You'll navigate through a whole-body CT scan, segment a cardiac MRI time series, and determine whether Alzheimer’s disease changes brain structure. Even if you have never worked with images before, you will finish the course with a solid toolkit for entering this dynamic field.\n",
    "\n",
    "**Instructor:** Stephen Bailey is lead data scientist at Immuta, where he researches and develops best practices in data governance. He is passionate about democratizing science and is an enthusiastic member of the Python community. Stephen has published a number of papers on leveraging medical imaging technology to better understand health and disease, and he is excited to introduce others to this dynamic research field!"
   ]
  },
  {
   "cell_type": "markdown",
   "id": "a233d442",
   "metadata": {},
   "source": [
    "# $\\star$ Chapter 1: Exploration\n",
    "Prepare to conquer the Nth dimension! To begin the course, you'll learn how to load, build and navigate N-dimensional images using a CT image of the human chest. You'll also leverage the useful ImageIO package and hone your NumPy and matplotlib skills."
   ]
  },
  {
   "cell_type": "markdown",
   "id": "85a5ced8",
   "metadata": {},
   "source": [
    "### Image data\n",
    "   Since the first X-ray in 1895, medical imaging technology has advanced clinical care and opened up new fields of scientific investigation. The amount of imaging data is exploding: by 2020, there is estimated to be more than 3.5 billion terabytes of imaging data in the U.S. alone. This has created amazing opportunities for analysis: \n",
    "   * Measuring organ shape and size\n",
    "   * Creating detailed reconstructions of anatomy\n",
    "   * Analyzing tissue composition\n",
    "   * Predicting pathology\n",
    "   * Much, much more...\n",
    "   The complexity and variety of the data can make it an intimidating field to jump into. Fortunately, there are fantastic tools and a wealth of resources to support you. \n",
    "  \n",
    "#### Toolbox\n",
    "* `ImageIO`\n",
    "* `NumPy`\n",
    "* `SciPy`\n",
    "* `matplotlib`\n",
    "\n",
    "#### Course Objectives\n",
    "\n",
    "* **1) Exploration**\n",
    "    * Loading images\n",
    "    * N-D data\n",
    "    * Subplots\n",
    "    \n",
    "* **2) Masks and Filters**\n",
    "    * Intensity distributions\n",
    "    * Convolutions\n",
    "    * Edge detection\n",
    "    \n",
    "* **3) Measurement**\n",
    "    * Labelling\n",
    "    * Multi-object measurement\n",
    "    * Morphology\n",
    "    \n",
    "* **4) Image Comparison**\n",
    "    * Transformations\n",
    "    * Resampling\n",
    "    * Cost functions\n",
    "    * Normalization\n",
    "    \n",
    "* While this only scratches the surface of the field, it will give you a firm foundation for advanced concepts like classification and segmentation."
   ]
  },
  {
   "cell_type": "markdown",
   "id": "20ccacb8",
   "metadata": {},
   "source": [
    "### Loading images\n",
    "\n",
    "#### `imageio`\n",
    "* read and save images with `imread`\n",
    "\n",
    "```\n",
    "import imagio\n",
    "im = imagio.imread('body-001.dcm')\n",
    "```\n",
    "   * One useful feature of `imageio` is that it can read **DICOM files, the standard format for human medical imaging.**\n",
    "   * The data is read in as an **image object**, which is a type of NumPy array.\n",
    "* To access specific values from your image, you can slice out a single value or a range of index values along each dimension\n",
    "    * Slice the array by specifying values along each available dimension\n",
    "    \n",
    "```\n",
    "im[0, 0]\n",
    "im[0:2, 0:2]\n",
    "```\n",
    "\n",
    "### Metadata\n",
    "* Images are always acquired in a specific context; this information is often referred to as **metadata**.\n",
    "* **Metadata:** the who, what, when, where, and how of image acquisition\n",
    "* `imagio` loads available metadata into a dictionary, accessible through the `meta` attribute\n",
    "* **`image.meta`**\n",
    "* This is especially important for **DICOM** files, which contain a lot of patient and acquisition information\n",
    "* Since `meta` is a Python dictionary, you can access specific information by indexing it with one of the available keys.\n",
    "* **You can also call the `keys()` method to list all of the available metadata.**\n",
    "    * `image.meta.keys()`\n",
    "    \n",
    "#### Plotting images\n",
    "* Visualization is fundamental to image analysis, and we'll rely heavily on matplotlib and its `imshow()` function throughout this course.\n"
   ]
  },
  {
   "cell_type": "code",
   "execution_count": 2,
   "id": "5fdf5018",
   "metadata": {},
   "outputs": [],
   "source": [
    "import numpy as np\n",
    "import scipy\n",
    "import imageio\n",
    "import matplotlib.pyplot as plt\n",
    "from pprint import pprint\n",
    "\n",
    "plt.rcParams['figure.figsize'] = (10, 8)"
   ]
  },
  {
   "cell_type": "markdown",
   "id": "cfc82c2a",
   "metadata": {},
   "source": [
    "* `plt.imshow(im, cmap='gray')\n",
    "* If the image does not have color, add `cmap='gray'` to plot it in grayscale\n",
    "* Many colormaps available but often shown in grayscale (`cmap='gray')\n",
    "* **To reduce clutter, it's common to turn off the axis ticks, labels, and frame with `plt.axis('off')`**\n",
    "* Finally, call `plt.show()` per usual to render the image. \n",
    "\n",
    "#### Loading Images Exercises\n",
    "In this chapter, we'll work with sections of a [computed tomography (CT) scan](https://en.wikipedia.org/wiki/CT_scan) from [The Cancer Imaging Archive](https://www.cancerimagingarchive.net/about-the-cancer-imaging-archive-tcia/) . CT uses a rotating X-ray tube to create a 3D image of the target area.\n",
    "\n",
    "The actual content of the image depends on the instrument used: photographs measure visible light, x-ray and CT measure radiation absorbance, and MRI scanners measure magnetic fields.\n",
    "\n",
    "To warm up, use the `imageio` package to load a single DICOM image from the scan volume and check out a few of its attributes.\n",
    "\n",
    "```\n",
    "# Import ImageIO\n",
    "import imageio\n",
    "\n",
    "# Load \"chest-220.dcm\"\n",
    "im = imread('chest-220.dcm')\n",
    "\n",
    "# Print image attributes\n",
    "print('Image type:', type(im))\n",
    "print('Shape of image array:', im.shape)\n",
    "```"
   ]
  },
  {
   "cell_type": "markdown",
   "id": "acffe18a",
   "metadata": {},
   "source": [
    "`imageio` is a versatile package. It can read in a variety of image data, including JPEG, PNG, and TIFF. But it's especially useful for its ability to handle DICOM files."
   ]
  },
  {
   "cell_type": "code",
   "execution_count": null,
   "id": "860366f3",
   "metadata": {},
   "outputs": [],
   "source": []
  },
  {
   "cell_type": "code",
   "execution_count": null,
   "id": "d8c2fa86",
   "metadata": {},
   "outputs": [],
   "source": []
  },
  {
   "cell_type": "code",
   "execution_count": null,
   "id": "7e45bcd5",
   "metadata": {},
   "outputs": [],
   "source": []
  },
  {
   "cell_type": "code",
   "execution_count": null,
   "id": "c1a25868",
   "metadata": {},
   "outputs": [],
   "source": []
  },
  {
   "cell_type": "code",
   "execution_count": null,
   "id": "85e770f3",
   "metadata": {},
   "outputs": [],
   "source": []
  }
 ],
 "metadata": {
  "kernelspec": {
   "display_name": "Python 3",
   "language": "python",
   "name": "python3"
  },
  "language_info": {
   "codemirror_mode": {
    "name": "ipython",
    "version": 3
   },
   "file_extension": ".py",
   "mimetype": "text/x-python",
   "name": "python",
   "nbconvert_exporter": "python",
   "pygments_lexer": "ipython3",
   "version": "3.8.8"
  }
 },
 "nbformat": 4,
 "nbformat_minor": 5
}
