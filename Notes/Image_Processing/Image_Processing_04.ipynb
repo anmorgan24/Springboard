{
 "cells": [
  {
   "cell_type": "markdown",
   "id": "8342b1a7",
   "metadata": {},
   "source": [
    "# Image Processing 04"
   ]
  },
  {
   "cell_type": "markdown",
   "id": "2058e1b3",
   "metadata": {},
   "source": [
    "```\n",
    "from IPython import display\n",
    "import numpy as np\n",
    "import matplotlib.pyplot as plt\n",
    "from skimage import data\n",
    "from skimage import color\n",
    "from skimage.filters import try_all_threshold, threshold_otsu, threshold_local, sobel, gaussian\n",
    "from skimage import exposure\n",
    "from skimage.transform import rotate, resize, rescale\n",
    "from skimage import morphology\n",
    "from skimage.restoration import inpaint, denoise_tv_chambolle, denoise_bilateral\n",
    "from skimage.util import random_noise\n",
    "```"
   ]
  },
  {
   "cell_type": "code",
   "execution_count": 3,
   "id": "1ecdcb0d",
   "metadata": {},
   "outputs": [],
   "source": [
    "from IPython import display\n",
    "import numpy as np\n",
    "import matplotlib.pyplot as plt\n",
    "from skimage import data"
   ]
  },
  {
   "cell_type": "code",
   "execution_count": 4,
   "id": "718ad0ff",
   "metadata": {},
   "outputs": [],
   "source": [
    "def show_image(image, title='Image', cmap_type='gray'):\n",
    "    plt.imshow(image, cmap=cmap_type)\n",
    "    plt.title(title)\n",
    "    plt.axis('off')\n",
    "    plt.show()"
   ]
  },
  {
   "cell_type": "code",
   "execution_count": 5,
   "id": "2e255ee5",
   "metadata": {},
   "outputs": [],
   "source": [
    "def plot_comparison(original, original_title, filtered, title_filtered):\n",
    "    \n",
    "    fig, (ax1, ax2) = plt.subplots(ncols= 2, figsize=(12, 8), sharex= True, sharey= True)\n",
    "    ax1.imshow(original, cmap = plt.cm.gray)\n",
    "    ax1.set_title(original_title)\n",
    "    ax1.axis('off')\n",
    "    ax2.imshow(filtered, cmap= plt.cm.gray)\n",
    "    ax2.set_title(title_filtered)\n",
    "    ax2.axis('off')"
   ]
  },
  {
   "cell_type": "markdown",
   "id": "56758584",
   "metadata": {},
   "source": [
    "## Superpixels and segmentation"
   ]
  },
  {
   "cell_type": "markdown",
   "id": "a836f4a1",
   "metadata": {},
   "source": [
    "* In this subunit, we'll cover more about image segmentation: one of the most fundamental and studied topics in image processing. \n",
    "* The goal of **segmentation** is to partition images into regions, or segments, to simplify and/or change the representation into something more meaningful and easier to analyze.\n",
    "* For example, **before a tumor is analyzed** in a computed tomography, **it has to be detected and somehow isolated from the rest of the image.**\n",
    "    * Or, **before recognizing a face**, it has to also be **picked out from its background.**\n",
    "* Previously we learned about **Thresholding**, which is the **simplest method of segmentation**, separating foreground from background (kind of... agree to disagree).\n",
    "\n",
    "#### Image representation\n",
    "* Consider how we represent images; they are represented as a grid of pixels.\n",
    "* The issue is that they're not a completely natural representation of an image.\n",
    "* If you were to isolate a single pixel from an image, would you be able to tell that the pixel came from a particular image and that this single pixel holds a logical meaning. \n",
    "* **A single pixel, by itself, is not a natural representation.**\n",
    "\n",
    "## Superpixels\n",
    "* **We can explore more logical meanings in an image that's formed by bigger regions or grouped pixels** (than single pixels on their own). These are known as **superpixels.**\n",
    "* A **superpixel** is a **group of connected pixels with similar colors or gray levels.**\n",
    "    * These carry more meaning than their simple pixel grid counterparts.\n",
    "* **Superpixel segmentation** is dividing an image into superpixels.\n",
    "\n",
    "#### Benefits of superpixels\n",
    "* **Superpixel segmentation** is dividing an image into superpixels.\n",
    "* **Superpixel segmentation** has been applied to many computer vision tasks, like **visual tracking** and **image classification**.\n",
    "* Some advantages for using superpixels are:\n",
    "    * More meaningful regions\n",
    "    * Computational efficiency\n",
    "        * Reduce an image from thousands of pixels down to some regions for subsequent algorithms, so you have computational efficiency.\n",
    "        \n",
    "## Segmentation\n",
    "* Two types of segmentation are:\n",
    "    * **1) Supervised:** where some prior knowledge is used to guide the algorithm. \n",
    "        * Example: the kind of thresholding in which we specify the threshold value ourselves.\n",
    "    * **2) Unsupervised:** where no prior knowledge is required. \n",
    "        * These algorithms try to subdivide images into meaningful regions automatically.\n",
    "        * The user may still be able to tweak certain settings to obtain the desired output. \n",
    "        * Example: Otsu thresholding\n",
    "\n",
    "### Unsupervised Segmentation\n",
    "\n",
    "#### Simple Linear Iterative Clustering (SLIC)\n",
    "        \n",
    "        "
   ]
  },
  {
   "cell_type": "code",
   "execution_count": null,
   "id": "bbb0b2b3",
   "metadata": {},
   "outputs": [],
   "source": []
  },
  {
   "cell_type": "code",
   "execution_count": null,
   "id": "9f323f04",
   "metadata": {},
   "outputs": [],
   "source": []
  },
  {
   "cell_type": "code",
   "execution_count": null,
   "id": "f99ec3f2",
   "metadata": {},
   "outputs": [],
   "source": []
  }
 ],
 "metadata": {
  "kernelspec": {
   "display_name": "Python 3",
   "language": "python",
   "name": "python3"
  },
  "language_info": {
   "codemirror_mode": {
    "name": "ipython",
    "version": 3
   },
   "file_extension": ".py",
   "mimetype": "text/x-python",
   "name": "python",
   "nbconvert_exporter": "python",
   "pygments_lexer": "ipython3",
   "version": "3.8.8"
  }
 },
 "nbformat": 4,
 "nbformat_minor": 5
}
