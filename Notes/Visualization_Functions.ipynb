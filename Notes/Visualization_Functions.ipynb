{
 "cells": [
  {
   "cell_type": "markdown",
   "id": "a064252e",
   "metadata": {},
   "source": [
    "# Visualization Functions"
   ]
  },
  {
   "cell_type": "markdown",
   "id": "b173ade3",
   "metadata": {},
   "source": [
    "## Function to plot time series:"
   ]
  },
  {
   "cell_type": "code",
   "execution_count": 1,
   "id": "eebdaa7e",
   "metadata": {},
   "outputs": [],
   "source": [
    "def plot_timeseries(axes, x, y, color, xlabel, ylabel):\n",
    "    axes.plot(x,y,color=color)\n",
    "    axes.set_xlabel(xlabel)\n",
    "    axes.set_ylabel(ylabel)\n",
    "    axes.tick_params('y', colors = color)"
   ]
  },
  {
   "cell_type": "markdown",
   "id": "43d0969f",
   "metadata": {},
   "source": [
    "__How to use function with twin axes:__"
   ]
  },
  {
   "cell_type": "markdown",
   "id": "75066404",
   "metadata": {},
   "source": [
    "`fig, ax = plt.subplots()\n",
    "plot_timeseries(ax, climate_change.index, climate_change['co2'], 'blue', 'Time', 'CO2 (ppm)')\n",
    "ax2 = ax.twinx()\n",
    "plot_timeseries(ax, climate_change.index, climated_change['relative_temp'], 'red', 'Time', 'Relative temperature (Celsius)')\n",
    "plot.show()`"
   ]
  },
  {
   "cell_type": "code",
   "execution_count": null,
   "id": "e25a34f4",
   "metadata": {},
   "outputs": [],
   "source": []
  },
  {
   "cell_type": "code",
   "execution_count": null,
   "id": "13f83b4e",
   "metadata": {},
   "outputs": [],
   "source": []
  },
  {
   "cell_type": "code",
   "execution_count": null,
   "id": "078be339",
   "metadata": {},
   "outputs": [],
   "source": []
  }
 ],
 "metadata": {
  "kernelspec": {
   "display_name": "Python 3",
   "language": "python",
   "name": "python3"
  },
  "language_info": {
   "codemirror_mode": {
    "name": "ipython",
    "version": 3
   },
   "file_extension": ".py",
   "mimetype": "text/x-python",
   "name": "python",
   "nbconvert_exporter": "python",
   "pygments_lexer": "ipython3",
   "version": "3.8.8"
  }
 },
 "nbformat": 4,
 "nbformat_minor": 5
}
