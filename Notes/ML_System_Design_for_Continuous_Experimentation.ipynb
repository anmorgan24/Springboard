{
 "cells": [
  {
   "cell_type": "markdown",
   "id": "cd4740a3",
   "metadata": {},
   "source": [
    "# ML System Design for Continuous Experimentation\n",
    "### Stanford MLSys #44 with Gideon Mendels"
   ]
  },
  {
   "cell_type": "markdown",
   "id": "d74f4d74",
   "metadata": {},
   "source": [
    "- 1) State of ML in industry today\n",
    "- 2) Case studies for ML in production\n",
    "- 3) Tying it all together\n",
    "\n",
    "\n",
    "- Up until recently, much of the ML focus in industry has been on *model development*.\n",
    "- As more teams taks models to production, exposure to the challenges unique to deploying and managing production ML services is becoming widespread.\n",
    "\n",
    "\n",
    "- What are some examples of unique challenges and solutions endemic to ML in production?\n",
    "- What can we take away from these examples for designing our ML systems?\n",
    "\n",
    "### Some top challenges and issues\n",
    "#### How do you identify you have an issue in production?\n",
    "- Labels are not always available\n",
    "- Computing data drift is not trivial (what about images and text?)\n",
    "\n",
    "#### Many ways for your models to fail\n",
    "- Abrupt: Schema changes, upstream data issues\n",
    "- Gradual: Performance degradation over time\n",
    "- What does failure even look like?\n",
    "\n",
    "#### Models won't fail uniformly\n",
    "- Issues often occur on subsets of data\n",
    "- Not all data is equally important\n",
    "\n",
    "         \n",
    "**Shadow model:** a model that's running predictions just like any other model, but those predictions are not being served or really acted upo (they're basically just storing their prediction in some sort of database); uses work signals and heuristics.\n",
    "\n",
    "<img src='data/mlsys1.png' width=\"600\" height=\"300\" align=\"center\"/>"
   ]
  },
  {
   "cell_type": "markdown",
   "id": "7210449d",
   "metadata": {},
   "source": [
    "<img src='data/mlsys2.png' width=\"600\" height=\"300\" align=\"center\"/>"
   ]
  },
  {
   "cell_type": "markdown",
   "id": "1fe6e1a2",
   "metadata": {},
   "source": []
  },
  {
   "cell_type": "markdown",
   "id": "2f39c69b",
   "metadata": {},
   "source": []
  },
  {
   "cell_type": "markdown",
   "id": "cd77ede4",
   "metadata": {},
   "source": []
  },
  {
   "cell_type": "markdown",
   "id": "20ec20af",
   "metadata": {},
   "source": []
  },
  {
   "cell_type": "markdown",
   "id": "63d89d4a",
   "metadata": {},
   "source": []
  },
  {
   "cell_type": "markdown",
   "id": "a16b838c",
   "metadata": {},
   "source": []
  },
  {
   "cell_type": "markdown",
   "id": "fb75bed6",
   "metadata": {},
   "source": [
    "<img src='data/mlsys.png' width=\"600\" height=\"300\" align=\"center\"/>"
   ]
  }
 ],
 "metadata": {
  "kernelspec": {
   "display_name": "Python 3",
   "language": "python",
   "name": "python3"
  },
  "language_info": {
   "codemirror_mode": {
    "name": "ipython",
    "version": 3
   },
   "file_extension": ".py",
   "mimetype": "text/x-python",
   "name": "python",
   "nbconvert_exporter": "python",
   "pygments_lexer": "ipython3",
   "version": "3.8.8"
  }
 },
 "nbformat": 4,
 "nbformat_minor": 5
}
