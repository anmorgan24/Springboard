{
 "cells": [
  {
   "cell_type": "markdown",
   "id": "edfd3466",
   "metadata": {},
   "source": [
    "# ML System Design for Continuous Experimentation\n",
    "### Stanford MLSys #44 with Gideon Mendels"
   ]
  },
  {
   "cell_type": "markdown",
   "id": "e8d2b849",
   "metadata": {},
   "source": [
    "- 1) State of ML in industry today\n",
    "- 2) Case studies for ML in production\n",
    "- 3) Tying it all together\n",
    "\n",
    "\n",
    "- Up until recently, much of the ML focus in industry has been on *model development*.\n",
    "- As more teams taks models to production, exposure to the challenges unique to deploying and managing production ML services is becoming widespread.\n",
    "\n",
    "\n",
    "- What are some examples of unique challenges and solutions endemic to ML in production?\n",
    "- What can we take away from these examples for designing our ML systems?\n",
    "\n",
    "### Some top challenges and issues\n",
    "#### How do you identify you have an issue in production?\n",
    "- Labels are not always available\n",
    "- Computing data drift is not trivial (what about images and text?)\n",
    "\n",
    "#### Many ways for your models to fail\n",
    "- Abrupt: Schema changes, upstream data issues\n",
    "- Gradual: Performance degradation over time\n",
    "- What does failure even look like?\n",
    "\n",
    "#### Models won't fail uniformly\n",
    "- Issues often occur on subsets of data\n",
    "- Not all data is equally important\n",
    "\n",
    "         \n",
    "**Shadow model:** a model that's running predictions just like any other model, but those predictions are not being served or really acted upo (they're basically just storing their prediction in some sort of database); uses work signals and heuristics.\n",
    "\n",
    "<img src='data/mlsys1.png' width=\"600\" height=\"300\" align=\"center\"/>"
   ]
  },
  {
   "cell_type": "markdown",
   "id": "bdbae1b8",
   "metadata": {},
   "source": [
    "<img src='data/mlsys2.png' width=\"600\" height=\"300\" align=\"center\"/>\n",
    "\n",
    "- The type of drift effects the way you should think about going about solving it\n",
    "- In some cases you may want to completely rebuild a new model, in some cases you need new data, sometimes it's just retraining or unit testing, etc\n",
    "- Eventually the solution comes from looking at production \"monitoring\" and \"offline\" experimentation as closely related tasks.\n",
    "\n",
    "\n",
    "- Experimentation is part of **production**:\n",
    "    - Compare what you're seeing in production to the experiments you're running offline\n",
    "    - The *closer you can get these things together, the better your ML system will perform.*\n",
    "    - *The artificial split between **offline** and **online** is wrong (at the end of the day it's just a different stream of data coming in to your model).*\n",
    "        - Something that ML in many ways inheritted from SWE; in SWE whatever you're building or doing locally is extremely different from what happens behind some application server or an API in production.\n",
    "\n",
    "<img src='data/mlsys3.png' width=\"600\" height=\"300\" align=\"center\"/>\n",
    "\n",
    "<img src='data/mlsys4.png' width=\"600\" height=\"300\" align=\"center\"/>"
   ]
  },
  {
   "cell_type": "markdown",
   "id": "13defa27",
   "metadata": {},
   "source": [
    "- In the future we believe Experiment Management and Model Monitoring will actually become the same \"category.\""
   ]
  },
  {
   "cell_type": "markdown",
   "id": "cfd68edd",
   "metadata": {},
   "source": [
    "https://www.youtube.com/watch?v=7XCsi64HLQ8"
   ]
  },
  {
   "cell_type": "markdown",
   "id": "632b4a91",
   "metadata": {},
   "source": [
    "<img src='data/mlsys.png' width=\"600\" height=\"300\" align=\"center\"/>"
   ]
  }
 ],
 "metadata": {
  "kernelspec": {
   "display_name": "Python 3",
   "language": "python",
   "name": "python3"
  },
  "language_info": {
   "codemirror_mode": {
    "name": "ipython",
    "version": 3
   },
   "file_extension": ".py",
   "mimetype": "text/x-python",
   "name": "python",
   "nbconvert_exporter": "python",
   "pygments_lexer": "ipython3",
   "version": "3.8.8"
  }
 },
 "nbformat": 4,
 "nbformat_minor": 5
}
