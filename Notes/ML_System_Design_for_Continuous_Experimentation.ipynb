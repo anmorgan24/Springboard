{
 "cells": [
  {
   "cell_type": "markdown",
   "id": "95230d33",
   "metadata": {},
   "source": [
    "# ML System Design for Continuous Experimentation\n",
    "### Stanford MLSys #44 with Gideon Mendels"
   ]
  },
  {
   "cell_type": "markdown",
   "id": "dff931b3",
   "metadata": {},
   "source": []
  },
  {
   "cell_type": "markdown",
   "id": "4c3167fe",
   "metadata": {},
   "source": []
  },
  {
   "cell_type": "markdown",
   "id": "4ace2465",
   "metadata": {},
   "source": []
  },
  {
   "cell_type": "markdown",
   "id": "ca4ea55a",
   "metadata": {},
   "source": []
  },
  {
   "cell_type": "markdown",
   "id": "06c4c525",
   "metadata": {},
   "source": []
  },
  {
   "cell_type": "markdown",
   "id": "6d01f1ca",
   "metadata": {},
   "source": []
  },
  {
   "cell_type": "markdown",
   "id": "52c3c248",
   "metadata": {},
   "source": []
  },
  {
   "cell_type": "markdown",
   "id": "315b0296",
   "metadata": {},
   "source": []
  },
  {
   "cell_type": "markdown",
   "id": "6b42aeb8",
   "metadata": {},
   "source": []
  }
 ],
 "metadata": {
  "kernelspec": {
   "display_name": "Python 3",
   "language": "python",
   "name": "python3"
  },
  "language_info": {
   "codemirror_mode": {
    "name": "ipython",
    "version": 3
   },
   "file_extension": ".py",
   "mimetype": "text/x-python",
   "name": "python",
   "nbconvert_exporter": "python",
   "pygments_lexer": "ipython3",
   "version": "3.8.8"
  }
 },
 "nbformat": 4,
 "nbformat_minor": 5
}
