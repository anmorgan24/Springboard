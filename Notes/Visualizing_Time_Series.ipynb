{
 "cells": [
  {
   "cell_type": "markdown",
   "id": "0967cd80",
   "metadata": {},
   "source": [
    "# Visualizing Time Series in Python"
   ]
  },
  {
   "cell_type": "markdown",
   "id": "70d36cb4",
   "metadata": {},
   "source": [
    "* Time series are a fundamental way to store and analyze many types of data\n",
    "* Financial, weather, and device data area all best handled as time series\n",
    "\n",
    "#### Matplotlib\n",
    "* **For a list of available matplotlib styles: `print(plt.style.available)`**\n",
    "    * `plt.style.use('fivethirtyeight')`\n",
    "    * `ggplot`\n",
    "    * \"financial times\"(?)\n",
    "* `df.set_index('column_name')`"
   ]
  },
  {
   "cell_type": "code",
   "execution_count": 6,
   "id": "3048c2e9",
   "metadata": {},
   "outputs": [],
   "source": [
    "import matplotlib.pyplot as plt\n",
    "import pandas as pd\n",
    "plt.style.use('fivethirtyeight')\n",
    "plt.show()"
   ]
  },
  {
   "cell_type": "code",
   "execution_count": 9,
   "id": "d500186b",
   "metadata": {},
   "outputs": [
    {
     "data": {
      "image/png": "[encoded data removed]",
      "text/plain": [
       "<Figure size 432x288 with 1 Axes>"
      ]
     },
     "metadata": {},
     "output_type": "display_data"
    }
   ],
   "source": [
    "plt.style.use('fivethirtyeight')\n",
    "\n",
    "plt.show()\n",
    "df=pd.DataFrame([1,2,3,4,5,6,7,8,9])\n",
    "df.plot()\n",
    "plt.show()"
   ]
  },
  {
   "cell_type": "markdown",
   "id": "622b3286",
   "metadata": {},
   "source": [
    "* `ax = df.plot(color='blue', figsize=(12,5), fontsize=12, linewidth=3, linestyle='--')`\n",
    "* `ax.set_xlabel('Date')`\n",
    "* `ax.set_ylabel('The values of my y-axis', fontsize=16)`\n",
    "* `ax.set_title('The title of my plot', fontsize = 16)`\n",
    "* `plt.show()`\n",
    "\n",
    "* figsize = (length, width)"
   ]
  },
  {
   "cell_type": "markdown",
   "id": "0a298f22",
   "metadata": {},
   "source": [
    "#### Customize your time series plot\n",
    "* Plots allow users/viewers to better understand the data\n",
    "* However, you may sometimes want to highlight specific events or guide the user through your train of thought\n",
    "\n",
    "#### Adding markers\n",
    "* **`axvline`**\n",
    "* **`axhline`**\n",
    "\n",
    "* `ax.axvline(x='1969-01-01', color='red', linestyle='--')`\n",
    "* `ax.axhline(y=100, color='green', linestyle='--')`\n",
    "\n",
    "#### Highlight regions of your graph\n",
    "* in order to add a shaded region to a specific area of your plot\n",
    "* `ax.axvspan`\n",
    "* `ax.axhspan`\n",
    "* `ax.axvspan('1964-01-01', '1968-01-01', color='red', alpha=0.5)`\n",
    "* `ax.axhspan(8,6, color='green', alpha=0.2)`"
   ]
  },
  {
   "cell_type": "markdown",
   "id": "8e603736",
   "metadata": {},
   "source": [
    "#### Clean your time series data\n",
    "* Important to perform some investigatory analysis of your data before proceeding to more sophisticated tasks\n",
    "* `df.isnull()` vs `df.notnull()`\n",
    "\n",
    "#### Replacing missing values in a dataframe\n",
    "* `df = df.fillna(method='bfill')`\n",
    "* `ffill`\n",
    "* `np.mean()`\n",
    "\n",
    "#### Plot aggregates of your data\n",
    "* **Moving averages** aka **rolling means** is a commonly used technique if the field of time series analysis for many purposes:\n",
    "    * smoothing out short-term fluctuations\n",
    "    * removing outliers \n",
    "    * highlighting long-term trends or outliers \n",
    "    * in pandas, the `.rolling()` method allows you to specify the number of data points to use when computing your metrics\n",
    "* Here, (below) specify a sliding window of 52 points:\n",
    "\n",
    "```\n",
    "co2_levels_mean = co2_levels.rolling(window=52).mean()\n",
    "\n",
    "ax = co2_levels_mean.plot()\n",
    "ax.set_xlabel('Date')\n",
    "ax.set_ylabel(\"The values of my Y axis\")\n",
    "ax.set_title(\"52 weeks rolling mean of my time series\")\n",
    "\n",
    "plt.show()\n",
    "```\n",
    "* The parameter of the window size of the rolling mean is usually set through trial and error, or according to some seasonality\n",
    "\n",
    "* **Computing aggregate values of your time series**\n",
    "    * When index is DateTimeIndex... `print(co2_levels.index.month)`"
   ]
  },
  {
   "cell_type": "markdown",
   "id": "c8ca70a1",
   "metadata": {},
   "source": [
    "### Plot aggregates of your data"
   ]
  },
  {
   "cell_type": "markdown",
   "id": "fc741771",
   "metadata": {},
   "source": [
    "#### Moving averages (aka rolling mean)\n",
    "* **`df_mean = df.rolling(window=12).mean()`**\n",
    "* A moving average could be used for many different purposes:\n",
    "    * Smoothing out short term fluctuations\n",
    "    * removing outliers\n",
    "    * highlighting long-term trends or cycles\n",
    "* `co2_levels_mean = co2_levels.rolling(window=52).mean()`\n",
    "\n",
    "#### Computing aggregate values of your time series\n",
    "\n",
    "```\n",
    "index_month = co2_levels.index.month\n",
    "co2_levels_by_month = co2_levels.groupby(index_month).mean()\n",
    "co2_levels_by_month.plot()\n",
    "plt.show()\n",
    "```\n",
    "\n",
    "#### Computing rolling mean with upper and lower stds of 2:\n",
    "\n",
    "```\n",
    "# Compute the 52 weeks rolling mean of the co2_levels DataFrame\n",
    "ma = co2_levels.rolling(window=52).mean()\n",
    "\n",
    "# Compute the 52 weeks rolling standard deviation of the co2_levels DataFrame\n",
    "mstd = co2_levels.rolling(window=52).std()\n",
    "\n",
    "# Add the upper bound column to the ma DataFrame\n",
    "ma['upper'] = ma['co2'] + (mstd['co2'] * 2)\n",
    "\n",
    "# Add the lower bound column to the ma DataFrame\n",
    "ma['lower'] = ma['co2'] - (mstd['co2'] * 2)\n",
    "\n",
    "# Plot the content of the ma DataFrame\n",
    "ax = ma.plot(linewidth=0.8, fontsize=6)\n",
    "\n",
    "# Specify labels, legend, and show the plot\n",
    "ax.set_xlabel('Date', fontsize=10)\n",
    "ax.set_ylabel('CO2 levels in Mauai Hawaii', fontsize=10)\n",
    "ax.set_title('Rolling mean and variance of CO2 levels\\nin Mauai Hawaii from 1958 to 2001', fontsize=10)\n",
    "plt.show()\n",
    "```\n",
    "\n",
    "#### Summarizing the values in your time series data\n",
    "* It is critical to collect summary statistics of any time series that you are working with \n",
    "* **Histograms:**\n",
    "    * `ax2 = df.plot(kind='hist', bins=10)`\n",
    "* **Kernel Density plots:**\n",
    "    * A variation of histograms\n",
    "    * They use kernel smoothing to plot the values of your data and allow for smoother distributions by dampening the effect of noise and outliers, all while displayiing where the mass of your data is located.\n",
    "    * `ax3 = df.plot(kind='density', linewidth=2)`"
   ]
  },
  {
   "cell_type": "code",
   "execution_count": null,
   "id": "ab7973aa",
   "metadata": {},
   "outputs": [],
   "source": []
  },
  {
   "cell_type": "code",
   "execution_count": null,
   "id": "dafcdfab",
   "metadata": {},
   "outputs": [],
   "source": []
  },
  {
   "cell_type": "code",
   "execution_count": null,
   "id": "be40947f",
   "metadata": {},
   "outputs": [],
   "source": []
  },
  {
   "cell_type": "code",
   "execution_count": null,
   "id": "01b35df2",
   "metadata": {},
   "outputs": [],
   "source": []
  },
  {
   "cell_type": "code",
   "execution_count": null,
   "id": "31c9bc2e",
   "metadata": {},
   "outputs": [],
   "source": []
  },
  {
   "cell_type": "code",
   "execution_count": null,
   "id": "a7ee32bd",
   "metadata": {},
   "outputs": [],
   "source": []
  }
 ],
 "metadata": {
  "kernelspec": {
   "display_name": "Python 3",
   "language": "python",
   "name": "python3"
  },
  "language_info": {
   "codemirror_mode": {
    "name": "ipython",
    "version": 3
   },
   "file_extension": ".py",
   "mimetype": "text/x-python",
   "name": "python",
   "nbconvert_exporter": "python",
   "pygments_lexer": "ipython3",
   "version": "3.8.8"
  }
 },
 "nbformat": 4,
 "nbformat_minor": 5
}
