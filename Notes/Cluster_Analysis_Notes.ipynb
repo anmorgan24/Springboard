{
 "cells": [
  {
   "cell_type": "markdown",
   "id": "5de729d5",
   "metadata": {},
   "source": [
    "# Cluster Analysis"
   ]
  },
  {
   "cell_type": "markdown",
   "id": "9d1417fb",
   "metadata": {},
   "source": [
    "#### Unsupervised Learning Basics\n",
    "* **Unsupervised learning:** a group of machine learning algorithms that find patterns in unlabeled data.\n",
    "* Data used in these algorithms has not been labeled, classified, or characterized in any way.\n",
    "* The objective of the algorithm is to interpret any inherent structure(s) in the data.\n",
    "* Common unsupervised learning algorithms: clustering, neural networks, anomaly detection\n",
    "\n",
    "#### Clustering\n",
    "* The process of grouping items with similar characteristics\n",
    "* The groups are formed as such that items in a single group are closer to eachother in terms of some characteristics as compared to items in other clusters\n",
    "* A **cluster** is a group of items with similar characteristics\n",
    "    * For example, Google News articles where similar words and word associations appear together\n",
    "    * Customer Segmentation\n",
    "* Clustering algorithms:\n",
    "    * Hierarchical clustering $\\Rightarrow$ Most common\n",
    "    * K means clustering $\\Rightarrow$ Most common\n",
    "    * Other clustering algorithms: DBSCAN (Density based), Gaussian Methods\n",
    "    \n",
    "```\n",
    "from scipy.cluster.hierarchy import linkage, fcluster\n",
    "from matplotlib import pyplot as plt\n",
    "import seaborn as sns, pandas as pd\n",
    "\n",
    "x_coordinates = [80.1, 93.1, 86.6, 98.5, 86.4, 9.5, 15.2, 3.4, 10.4, 20.3, 44.2, 56.8, 49.2, 62.5, 44.0]\n",
    "y_coordinates = [87.2, 96.1, 95.6, 92.4, 92.4, 57.7, 49.4, 47.3, 59.1, 55.5, 25.6, 2.1, 10.9, 24.1, 10.3]\n",
    "\n",
    "df = pd.DataFrame({'x_coordinate': x_coordinates, 'y_coordinate' : y_coordinates})\n",
    "\n",
    "Z = linkage(df, 'ward')\n",
    "df['cluster_labels'] = fcluster(Z, 3, criterion = 'maxclust')\n",
    "sns.scatterplot(x='x_coordinate', y='y_coordinate', hue = 'cluster_labels', data=df)\n",
    "plt.show()\n",
    "```"
   ]
  },
  {
   "cell_type": "markdown",
   "id": "900964c5",
   "metadata": {},
   "source": [
    "### K-means clustering in SciPy\n",
    "\n",
    "```\n",
    "from scipy.cluster.vq import kmeans, vq\n",
    "from matplotlib import pyplot as plt\n",
    "import seaborn as sns, pandas as pd\n",
    "\n",
    "import random\n",
    "random.seed((1000, 2000))\n",
    "\n",
    "x_coordinates = [80.1, 93.1, 86.6, 98.5, 86.4, 9.5, 15.2, 3.4, 10.4, 20.3, 44.2, 56.8, 49.2, 62.5, 44.0]\n",
    "y_coordinates = [87.2, 96.1, 95.6, 92.4, 92.4, 57.7, 49.4, 47.3, 59.1, 55.5, 25.6, 2.1, 10.9, 24.1, 10.3]\n",
    "\n",
    "df = pd.DataFrame({'x_coordinate': x_coordinates, 'y_coordinate' : y_coordinates})\n",
    "\n",
    "centroids,_ = kmeans(df, 3) # second argument is 'distortion' represented by dummy variable '_'\n",
    "df['cluster_labels'],_ = vq(df, centroids) # second argument is 'distortion' represented by dummy variable '_'\n",
    "\n",
    "sns.scatterplot(x='x_coordinate', y='y_coordinate', hue='cluster_labels', data=df)\n",
    "plt.show()\n",
    "```"
   ]
  },
  {
   "cell_type": "markdown",
   "id": "267436ca",
   "metadata": {},
   "source": [
    "#### Data preparation for cluster analysis\n",
    "Why prepare data for clustering?\n",
    "* Variables may have incomparable units (product dimensions in cm, price in dollars)\n",
    "* Even if variables have the same unit, they may be significantly different in terms of their scales and variances\n",
    "* Data in raw form may lead to bias in clustering\n",
    "* Clusters may be heavily dependent on one variable\n",
    "* **Solution:** normalization of variables\n",
    "\n",
    "* **Normalization:** process of rescaling data to a standard deviation of 1: `x_new = x / std(x)`\n",
    "    * normalization library: `from scipy.cluster.vq import whiten`\n",
    "    * `scaled_data = whiten(data)`\n",
    "    * output is an array of the same dimensions as original `data`\n",
    "**Illustration of the normalization of data:**\n",
    "\n",
    "```\n",
    "from matplotlib import pyplot as plt\n",
    "plt.plot(data, label = \"original\")\n",
    "plt.plot(scaled_data, label = \"scaled\")\n",
    "plt.legend()\n",
    "plt.show()\n",
    "```\n",
    "* By default, pyplot plots line graphs"
   ]
  },
  {
   "cell_type": "code",
   "execution_count": null,
   "id": "7c114167",
   "metadata": {},
   "outputs": [],
   "source": []
  },
  {
   "cell_type": "code",
   "execution_count": null,
   "id": "1089ed17",
   "metadata": {},
   "outputs": [],
   "source": []
  },
  {
   "cell_type": "code",
   "execution_count": null,
   "id": "44060e9a",
   "metadata": {},
   "outputs": [],
   "source": []
  },
  {
   "cell_type": "code",
   "execution_count": null,
   "id": "8707675d",
   "metadata": {},
   "outputs": [],
   "source": []
  },
  {
   "cell_type": "code",
   "execution_count": null,
   "id": "1dce06c0",
   "metadata": {},
   "outputs": [],
   "source": []
  }
 ],
 "metadata": {
  "kernelspec": {
   "display_name": "Python 3",
   "language": "python",
   "name": "python3"
  },
  "language_info": {
   "codemirror_mode": {
    "name": "ipython",
    "version": 3
   },
   "file_extension": ".py",
   "mimetype": "text/x-python",
   "name": "python",
   "nbconvert_exporter": "python",
   "pygments_lexer": "ipython3",
   "version": "3.8.8"
  }
 },
 "nbformat": 4,
 "nbformat_minor": 5
}
