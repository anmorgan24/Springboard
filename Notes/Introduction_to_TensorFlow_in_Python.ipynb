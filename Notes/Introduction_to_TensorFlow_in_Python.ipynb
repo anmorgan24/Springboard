{
 "cells": [
  {
   "cell_type": "markdown",
   "id": "fc07b547",
   "metadata": {},
   "source": [
    "# Introduction to TensorFlow in Python\n",
    "Not long ago, cutting-edge computer vision algorithms couldn’t differentiate between images of cats and dogs. Today, a skilled data scientist equipped with nothing more than a laptop can classify tens of thousands of objects with greater accuracy than the human eye. In this course, you will use TensorFlow 2.6 to develop, train, and make predictions with the models that have powered major advances in recommendation systems, image classification, and FinTech. You will learn both high-level APIs, which will enable you to design and train deep learning models in 15 lines of code, and low-level APIs, which will allow you to move beyond off-the-shelf routines. You will also learn to accurately predict housing prices, credit card borrower defaults, and images of sign language gestures.\n",
    "\n",
    "**Instructor:** Isaiah Hull, senior economist at Sweden's Central Bank"
   ]
  },
  {
   "cell_type": "code",
   "execution_count": 1,
   "id": "a557ce87",
   "metadata": {},
   "outputs": [],
   "source": [
    "import tensorflow as tf\n",
    "from tensorflow import constant, add, ones, matmul, multiply, reduce_sum"
   ]
  },
  {
   "cell_type": "markdown",
   "id": "96d806ef",
   "metadata": {},
   "source": [
    "# $\\star$ Chapter 1: Introduction to TensorFlow\n",
    "Before you can build advanced models in TensorFlow 2, you will first need to understand the basics. In this chapter, you’ll learn how to define constants and variables, perform tensor addition and multiplication, and compute derivatives. Knowledge of linear algebra will be helpful, but not necessary."
   ]
  },
  {
   "cell_type": "markdown",
   "id": "1e889375",
   "metadata": {},
   "source": [
    "### Constants and variables\n",
    "* TensorFlow's two basic objects of computation are: **constants** and **variables**\n",
    "\n",
    "#### What is TensorFlow?\n",
    "* An open-source library for graph-based numerical computation\n",
    "    * Developed by the Google Brain Team\n",
    "* Low- and high-level APIs\n",
    "    * Addition, multiplication, differentiation\n",
    "    * Design and train machine learning models\n",
    "* Important changes in TensorFlow 2.0\n",
    "    * Eager execution enabled by default\n",
    "        * Allows users to write simpler and more intuitive code\n",
    "        * Model building with Keras and Estimators (high-level APIs)\n",
    "        \n",
    "#### What is a tensor?\n",
    "* The TensorFlow documentation describes a **tensor** as \"generalization of vectors and matrices to potentially higher dimensions.\"\n",
    "* If you're not familiar with linear algebra, think of a tensor as **a collection of numbers, which is arranged into a particular shape**.\n",
    "    * 0-dimensional: point\n",
    "    * 1-dimensional: line\n",
    "    * etc\n",
    "    \n",
    "### Defining tensors in TensorFlow\n",
    "* Each object defined below will be a `tf.Tensor object`"
   ]
  },
  {
   "cell_type": "code",
   "execution_count": 3,
   "id": "4081f097",
   "metadata": {},
   "outputs": [],
   "source": [
    "# import tensorflow as tf\n",
    "\n",
    "# 0D Tensor\n",
    "d0 = tf.ones((1,))\n",
    "\n",
    "# 1D Tensor\n",
    "d1 = tf.ones((2,))\n",
    "\n",
    "# 2D Tensor\n",
    "d2 = tf.ones((2, 2))\n",
    "\n",
    "# 3D Tensor\n",
    "d3 = tf.ones((2, 2, 2))"
   ]
  },
  {
   "cell_type": "markdown",
   "id": "98d1a81f",
   "metadata": {},
   "source": [
    "If we want to print the array contained in that object, we can apply the `.numpy()` method and pass the resulting object to the print function"
   ]
  },
  {
   "cell_type": "code",
   "execution_count": 4,
   "id": "a7c9475b",
   "metadata": {},
   "outputs": [
    {
     "name": "stdout",
     "output_type": "stream",
     "text": [
      "[[[1. 1.]\n",
      "  [1. 1.]]\n",
      "\n",
      " [[1. 1.]\n",
      "  [1. 1.]]]\n"
     ]
    }
   ],
   "source": [
    "# Print the 3D tensor\n",
    "print(d3.numpy())"
   ]
  },
  {
   "cell_type": "markdown",
   "id": "b8f9c708",
   "metadata": {},
   "source": [
    "### Defining constants in TensorFlow\n",
    "* A **constant** the simplest category of tensor\n",
    "* A constant does not change and cannot be trained\n",
    "    * Immutable\n",
    "    * Untrainable\n",
    "* A constant can have any dimension\n",
    "* In the code below, we've defined two constants:\n",
    "    * `a` is a 2x3 tensor of 3s\n",
    "    * `b` is a 2x2 tensor which is constructed from the 1-dimensional tensor: 1, 2, 3, 4"
   ]
  },
  {
   "cell_type": "code",
   "execution_count": 5,
   "id": "aed9a269",
   "metadata": {},
   "outputs": [],
   "source": [
    "# from tensorflow import constant\n",
    "\n",
    "# Define a 2x3 constant\n",
    "a = constant(3, shape=[2, 3])\n",
    "\n",
    "# Define a 2x2 constant\n",
    "b = constant([1, 2, 3, 4], shape=[2, 2])"
   ]
  },
  {
   "cell_type": "code",
   "execution_count": 6,
   "id": "6770fccd",
   "metadata": {},
   "outputs": [
    {
     "name": "stdout",
     "output_type": "stream",
     "text": [
      "[[3 3 3]\n",
      " [3 3 3]]\n"
     ]
    }
   ],
   "source": [
    "print(a.numpy())"
   ]
  },
  {
   "cell_type": "code",
   "execution_count": 7,
   "id": "2f4771a7",
   "metadata": {},
   "outputs": [
    {
     "name": "stdout",
     "output_type": "stream",
     "text": [
      "[[1 2]\n",
      " [3 4]]\n"
     ]
    }
   ],
   "source": [
    "print(b.numpy())"
   ]
  },
  {
   "cell_type": "markdown",
   "id": "59e3a1e1",
   "metadata": {},
   "source": [
    "* Above we worked exclusively with the constant operation\n",
    "* However, in some cases, there are more convenient options for defining certain types of special tensors\n",
    "<img src='data/convenience_functions.png' width=\"400\" height=\"200\" align=\"center\"/>"
   ]
  },
  {
   "cell_type": "markdown",
   "id": "720eea0c",
   "metadata": {},
   "source": [
    "* Use the `.zeros` or `.ones` operations to generate a tensor of arbitrary (but defined) dimension, that is populated entirely with zeros or ones\n",
    "* Use the `zeros_like` or `ones_like` operations to populate tensors with zeros and ones, copying the dimensions of some input tensor passed to it.\n",
    "* Use the `.fill` operation to populate a tensor of arbitrary dimension with the same scalar value in each element"
   ]
  },
  {
   "cell_type": "code",
   "execution_count": 8,
   "id": "1483dcfb",
   "metadata": {},
   "outputs": [],
   "source": [
    "fill_ex = tf.fill([3, 3],7)"
   ]
  },
  {
   "cell_type": "code",
   "execution_count": 9,
   "id": "2aaa8d97",
   "metadata": {},
   "outputs": [
    {
     "name": "stdout",
     "output_type": "stream",
     "text": [
      "[[7 7 7]\n",
      " [7 7 7]\n",
      " [7 7 7]]\n"
     ]
    }
   ],
   "source": [
    "print(fill_ex.numpy())"
   ]
  },
  {
   "cell_type": "markdown",
   "id": "27e65289",
   "metadata": {},
   "source": [
    "### Defining and initializing variables\n",
    "* Unlike a constant, a variable's value can change during computation\n",
    "* The value of a variable is **shared**, **persistent**, and **modifiable**.\n",
    "* A variable's **data type and shape are fixed**."
   ]
  },
  {
   "cell_type": "code",
   "execution_count": 10,
   "id": "a5213c62",
   "metadata": {},
   "outputs": [],
   "source": [
    "# import tensorflow as tf\n",
    "\n",
    "# Define a variable\n",
    "a0 = tf.Variable([1, 2, 3, 4, 5, 6], dtype=tf.float32)\n",
    "a1 = tf.Variable([1, 2, 3, 4, 5, 6], dtype=tf.int16)\n",
    "\n",
    "# Define a constant\n",
    "b = tf.constant(2, tf.float32)\n",
    "\n",
    "# Compute their product\n",
    "c0 = tf.multiply(a0, b)\n",
    "c1 = a0 * b"
   ]
  },
  {
   "cell_type": "code",
   "execution_count": 11,
   "id": "70374acb",
   "metadata": {},
   "outputs": [
    {
     "name": "stdout",
     "output_type": "stream",
     "text": [
      "[ 2.  4.  6.  8. 10. 12.]\n",
      "[ 2.  4.  6.  8. 10. 12.]\n"
     ]
    }
   ],
   "source": [
    "print(c0.numpy())\n",
    "print(c1.numpy())"
   ]
  },
  {
   "cell_type": "markdown",
   "id": "ec279e0c",
   "metadata": {},
   "source": [
    "* Note that certain TensorFlow operations, such as `tf.multiply` are overloaded, which allows us to use the simpler `a0*b` expression instead.\n",
    "\n",
    "#### Exercises: Defining data as constants\n",
    "Throughout this course, we will use `tensorflow` version 2.6.0 and will exclusively import the submodules needed to complete each exercise. This will usually be done for you, but you will do it in this exercise by importing `constant` from `tensorflow`.\n",
    "\n",
    "After you have imported `constant`, you will use it to transform a `numpy` array, `credit_numpy`, into a `tensorflow` constant, `credit_constant`. This array contains feature columns from a dataset on credit card holders and is previewed in the image below. We will return to this dataset in later chapters.\n",
    "\n",
    "Note that `tensorflow` 2 allows you to use data as either a `numpy` array or a `tensorflow` `constant` object. Using a constant will ensure that any operations performed with that object are done in `tensorflow`.\n",
    "\n",
    "```\n",
    "# Import constant from TensorFlow\n",
    "from tensorflow import constant\n",
    "\n",
    "# Convert the credit_numpy array into a tensorflow constant\n",
    "credit_constant = constant(credit_numpy)\n",
    "\n",
    "# Print constant datatype\n",
    "print('\\n The datatype is:', credit_constant.dtype)\n",
    "\n",
    "# Print constant shape\n",
    "print('\\n The shape is:', credit_constant.shape)\n",
    "```\n",
    "\n",
    "#### Exercises: Defining variables\n",
    "Unlike a constant, a variable's value can be modified. This will be useful when we want to train a model by updating its parameters.\n",
    "\n",
    "Let's try defining and printing a variable. We'll then convert the variable to a `numpy` array, print again, and check for differences. Note that `Variable()`, which is used to create a variable tensor, has been imported from `tensorflow` and is available to use in the exercise.\n",
    "\n",
    "```\n",
    "# Define the 1-dimensional variable A1\n",
    "A1 = Variable([1, 2, 3, 4])\n",
    "\n",
    "# Print the variable A1\n",
    "print('\\n A1: ', A1)\n",
    "\n",
    "# Convert A1 to a numpy array and assign it to B1\n",
    "B1 = A1.numpy()\n",
    "\n",
    "# Print B1\n",
    "print('\\n B1: ', B1)\n",
    "```"
   ]
  },
  {
   "cell_type": "markdown",
   "id": "77c1fd50",
   "metadata": {},
   "source": [
    "### Basic operations\n",
    "* TensorFlow has a model of computation that revolves around the use of graphs\n",
    "* A TensorFlow graph contains edges and nodes, where the edges are tensors and the nodes are operations\n",
    "\n",
    "<img src='data/tf_operation_flow.png' width=\"400\" height=\"200\" align=\"center\"/>\n",
    "\n",
    "### Applying the addition operator\n",
    "* We first import the constant and add operations so that we may now define 0-, 1-, and 2-dimensional tensors. "
   ]
  },
  {
   "cell_type": "code",
   "execution_count": 12,
   "id": "ce79cbe6",
   "metadata": {},
   "outputs": [],
   "source": [
    "# Import constant and add from tensorflow\n",
    "# from tensorflow import constant, add\n",
    "\n",
    "# Define 0-dimensional tensors\n",
    "A0 = constant([1])\n",
    "B0 = constant([2])\n",
    "\n",
    "# Define 1-dimensional tensors\n",
    "A1 = constant([1, 2])\n",
    "B1 = constant([3, 4])\n",
    "\n",
    "# Define 2-dimensional tensors\n",
    "A2 = constant([[1, 2], [3, 4]])\n",
    "B2 = constant([[5, 6], [7, 8]])"
   ]
  },
  {
   "cell_type": "markdown",
   "id": "74819f77",
   "metadata": {},
   "source": [
    "### Applying the addition operator\n",
    "* Finally, let's add them together using the operation for tensor addition\n",
    "* Note that we can perform scalar addition with `A0` and `B0`, vector addition with `A1` and `B1`, and matrix addition with `A2` and `B2`\n",
    "* The `add()` operation performs **element-wise addition** with two tensors\n",
    "* **Element-wise addition requires that both tensors have the same shape:**\n",
    "    * Scalar addition: 1 + 2 = 3\n",
    "    * Vector addition: [1, 2] + [3, 4] = [4, 6]\n",
    "    * Matrix addition:\n",
    "\n",
    "```\n",
    "A = [[1, 2],\n",
    "     [3, 4]]\n",
    "B = [[5, 6], \n",
    "     [7, 8]]\n",
    "A + B = [[6, 8],\n",
    "         [10,12]]\n",
    "```\n",
    "* Furthermore, the `add()` operator is **overloaded**\n",
    "    * We can also perform addition using the plus symbol"
   ]
  },
  {
   "cell_type": "code",
   "execution_count": 13,
   "id": "d1ce2039",
   "metadata": {},
   "outputs": [],
   "source": [
    "# Perform tensor addition with add()\n",
    "C0 = add(A0, B0)\n",
    "C1 = add(A1, B1)\n",
    "C2 = add(A2, B2)"
   ]
  },
  {
   "cell_type": "code",
   "execution_count": 14,
   "id": "8308ef8a",
   "metadata": {},
   "outputs": [
    {
     "name": "stdout",
     "output_type": "stream",
     "text": [
      "[3]\n",
      "[4 6]\n",
      "[[ 6  8]\n",
      " [10 12]]\n"
     ]
    }
   ],
   "source": [
    "print(C0.numpy())\n",
    "print(C1.numpy())\n",
    "print(C2.numpy())"
   ]
  },
  {
   "cell_type": "markdown",
   "id": "55c89cd0",
   "metadata": {},
   "source": [
    "### How to perform multiplication in TensorFlow\n",
    "* We will consider both element-wise and matrix multiplication\n",
    "* **Element-wise multiplication** performed using the `multiply()` operation\n",
    "    * Tensors involved **must have the same shape**\n",
    "* **Matrix multiplication** performed with `matmul()` operator \n",
    "    * The `matmul(A, B)` operation multiplies `A` by `B`\n",
    "    * **Note** that number of columns of `A` must equal the number of rows of `B`\n",
    "    \n",
    "#### Applying the multiplication operators"
   ]
  },
  {
   "cell_type": "code",
   "execution_count": 15,
   "id": "a45eed77",
   "metadata": {},
   "outputs": [],
   "source": [
    "# Import operators from tensorflow\n",
    "# from tensorflow import ones, matmul, multiply\n",
    "\n",
    "# Define tensors\n",
    "A0 = ones(1)\n",
    "A31 = ones([3, 1])\n",
    "A34 = ones([3, 4])\n",
    "A43 = ones([4, 3])"
   ]
  },
  {
   "cell_type": "markdown",
   "id": "e7341cfb",
   "metadata": {},
   "source": [
    "* What types of operations are valid on these tensors of ones?\n",
    "    * We can perform element-wise multiplication of any element by itself\n",
    "        * `multiply(A0, A0)`, `multiply(A31, A31)`, and `multiply(A34, A34)`\n",
    "    * We can perform matrix multiplication on `matmul(A43, A34)`\n",
    "        * but **not** matmul(A43, A43)\n",
    "        \n",
    "### Summing over tensor dimensions\n",
    "* The `reduce_sum()` operator sums over the dimensions of a tensor\n",
    "* This can be used to sum over all dimensions of a tensor or just one.\n",
    "* The `reduce_sum()` operator sums over th dimensions of a tensor\n",
    "    * `reduce_sum(A)` sums over all dimensions of A\n",
    "    * `reduce_sum(A, i)` sums over dimension i "
   ]
  },
  {
   "cell_type": "code",
   "execution_count": 16,
   "id": "f79ecb4d",
   "metadata": {},
   "outputs": [],
   "source": [
    "# Import operations from tensorflow\n",
    "# from tensorflow import ones, reduce_sum\n",
    "\n",
    "# Define a 2x3x4 tensor of ones\n",
    "F = ones([2, 3, 4])"
   ]
  },
  {
   "cell_type": "markdown",
   "id": "5e2f119b",
   "metadata": {},
   "source": [
    "* If we sum over all elements of A, we get 24, since the tensor contains 24 elements, all of which are 1 "
   ]
  },
  {
   "cell_type": "code",
   "execution_count": 17,
   "id": "e0409313",
   "metadata": {},
   "outputs": [],
   "source": [
    "# Sum over all dimensions\n",
    "D = reduce_sum(F)\n",
    "\n",
    "# Sum over dimensions 0, 1, and 2\n",
    "D0 = reduce_sum(F, 0)\n",
    "D1 = reduce_sum(F, 1)\n",
    "D2 = reduce_sum(F, 2)"
   ]
  },
  {
   "cell_type": "markdown",
   "id": "21ec3e84",
   "metadata": {},
   "source": [
    "* If we sum over dimension 0, we get a 3 x 4 matrix of 2s\n",
    "* If we sum over 1, we get a 2 by 4 matrix of 3s\n",
    "* If we sum over 2, we get a 2 x3 matrix of 4s\n",
    "* In each case, we reduce the size of the tensor by summing over one of its dimensions"
   ]
  },
  {
   "cell_type": "code",
   "execution_count": 18,
   "id": "958ff457",
   "metadata": {},
   "outputs": [
    {
     "name": "stdout",
     "output_type": "stream",
     "text": [
      "tf.Tensor(24.0, shape=(), dtype=float32)\n"
     ]
    }
   ],
   "source": [
    "print(D)"
   ]
  },
  {
   "cell_type": "code",
   "execution_count": 19,
   "id": "d62b89d3",
   "metadata": {},
   "outputs": [
    {
     "name": "stdout",
     "output_type": "stream",
     "text": [
      "tf.Tensor(\n",
      "[[2. 2. 2. 2.]\n",
      " [2. 2. 2. 2.]\n",
      " [2. 2. 2. 2.]], shape=(3, 4), dtype=float32)\n"
     ]
    }
   ],
   "source": [
    "print(D0)"
   ]
  },
  {
   "cell_type": "code",
   "execution_count": 20,
   "id": "11c16eb7",
   "metadata": {},
   "outputs": [
    {
     "name": "stdout",
     "output_type": "stream",
     "text": [
      "tf.Tensor(\n",
      "[[3. 3. 3. 3.]\n",
      " [3. 3. 3. 3.]], shape=(2, 4), dtype=float32)\n"
     ]
    }
   ],
   "source": [
    "print(D1)"
   ]
  },
  {
   "cell_type": "code",
   "execution_count": 21,
   "id": "3b595b2c",
   "metadata": {},
   "outputs": [
    {
     "name": "stdout",
     "output_type": "stream",
     "text": [
      "tf.Tensor(\n",
      "[[4. 4. 4.]\n",
      " [4. 4. 4.]], shape=(2, 3), dtype=float32)\n"
     ]
    }
   ],
   "source": [
    "print(D2)"
   ]
  },
  {
   "cell_type": "code",
   "execution_count": null,
   "id": "b7f7a89f",
   "metadata": {},
   "outputs": [],
   "source": []
  }
 ],
 "metadata": {
  "kernelspec": {
   "display_name": "Python 3.8 (tensorflow)",
   "language": "python",
   "name": "tensorflow"
  },
  "language_info": {
   "codemirror_mode": {
    "name": "ipython",
    "version": 3
   },
   "file_extension": ".py",
   "mimetype": "text/x-python",
   "name": "python",
   "nbconvert_exporter": "python",
   "pygments_lexer": "ipython3",
   "version": "3.8.12"
  }
 },
 "nbformat": 4,
 "nbformat_minor": 5
}
