{
 "cells": [
  {
   "cell_type": "markdown",
   "id": "9ea3f8a5",
   "metadata": {},
   "source": [
    "# Object-Oriented Programming in Python"
   ]
  },
  {
   "cell_type": "markdown",
   "id": "a83fb145",
   "metadata": {},
   "source": [
    "__Object-oriented programming (OOP)__ is a widely used programming paradigm that reduces development times— making it easier to read, reuse, and maintain your code. OOP shifts the focus from thinking about code as a sequence of actions to looking at your program as a collection of objects that interact with each other. In this course, you’ll learn how to create classes, which act as the blueprints for every object in Python. You’ll then leverage principles called inheritance and polymorphism to reuse and optimize code. Dive in and learn how to create beautiful code that’s clean and efficient!"
   ]
  },
  {
   "cell_type": "markdown",
   "id": "8f190285",
   "metadata": {},
   "source": [
    "## 1. OOP Fundamentals\n",
    "In this chapter, you'll learn what object-oriented programming (OOP) is, how it differs from procedural-programming, and how it can be applied. You'll then define your own classes, and learn how to create methods, attributes, and constructors."
   ]
  },
  {
   "cell_type": "markdown",
   "id": "434258d3",
   "metadata": {},
   "source": [
    "#### Procedural Programming\n",
    "- Code as a sequence of steps\n",
    "- Great for data analysis\n",
    "- In code, as in life, the more data it uses, and the more functionality it has, the harder it is to think about just a sequence of steps. Instead, it is often useful to think about patterns of steps, or **collections of objects**.\n",
    "\n",
    "#### Object-Oriented Programming\n",
    "- __Code as interactions of objects__\n",
    "    - Example: Users interacting with elements of an interface\n",
    "- OOP principles help you organize your code better, making it more usable and maintainable\n",
    "- Great for building frameworks and tools\n",
    "- *Maintainable and reusable code!*\n",
    "- The fundamental components of OOP are **Objects** and **Classes**\n",
    "\n",
    "#### Objects as data structures\n",
    "- An **Object** is a data structure incorporating information about state and behavior\n",
    "    - **object = state + behavior**\n",
    "- The distinctive feature of OOP is that state and behavior are bundled together\n",
    "- **Encapsulation:** bundling data with code operating on it\n",
    "    - For example, instead of thinking of customer data as separate from customer actions, we think of them as one unit, representing a customer\n",
    "- Encapsulation is one of the core tenets of OOP\n",
    "- The real strength of OOP comes from utilizing classes\n",
    "- **Class:** blueprint for objects outlining possible states and behaviors that every object of a certain type could have\n",
    "\n",
    "#### Objects in Python\n",
    "- In Python, everything is an object\n",
    "    - numbers\n",
    "    - strings\n",
    "    - dataframes\n",
    "    - functions\n",
    "    - ...\n",
    "- Every object has a class\n",
    "- In particular, everything you deal with in Python has a class, a blueprint, associated with it under the hood.\n",
    "- The existence of these unified interfaces is why you can use, for example, any DataFrame, in the same way.\n",
    "- You can call `type()` on any Python object to find the class\n",
    "    - For example, the class of NumPy array is actually called `ndarray` for \"n-dimensional array\"\n",
    "\n",
    "## Attributes and methods\n",
    "### State $\\leftarrow$ $\\rightarrow$ Attributes\n",
    "- **State information** in Python is contained in **attributes**\n",
    "\n",
    "### Behavior $\\leftarrow$ $\\rightarrow$ Methods\n",
    "- **Behavior information** in Python is contained in **methods**\n",
    "\n",
    "<img src='data/oop1.png' width=\"600\" height=\"300\" align=\"center\"/>"
   ]
  },
  {
   "cell_type": "markdown",
   "id": "22da6d7e",
   "metadata": {},
   "source": [
    "- **You can list all the attributes and methods that an object has by calling `dir` on it:**\n",
    "\n",
    "<img src='data/oop2.png' width=\"600\" height=\"300\" align=\"center\"/>"
   ]
  },
  {
   "cell_type": "markdown",
   "id": "4fb49005",
   "metadata": {},
   "source": [
    "- **Class:** An abstract template describing general traits and behaviors\n",
    "- **Objects:** Particular representations of a class (that follow that particular abstract template).\n",
    "- Classes and objects both have attributes and methods, but the difference is that a class is an abstract template, while an object is a concrete representation of a class"
   ]
  },
  {
   "cell_type": "markdown",
   "id": "ffe1ee6a",
   "metadata": {},
   "source": [
    "### $\\star$ Exercise: Exploring object interface\n",
    "The best way to learn how to write object-oriented code is to study the design of existing classes. You've already learned about exploration tools like `type()` and `dir()`.\n",
    "\n",
    "Another important function is `help()`: calling `help(x)` in the console will show the documentation for the object or class `x`.\n",
    "\n",
    "Most real world classes have many methods and attributes, and it is easy to get lost, so in this exercise, you will start with something simpler. We have defined a class, and created an object of that class called `mystery`. Explore the object in the console using the tools that you learned.\n",
    "\n",
    "__Question: What class does the `mystery` object have?__\n",
    "\n",
    "<img src='data/oop3.png' width=\"600\" height=\"300\" align=\"center\"/>\n",
    "<img src='data/oop4.png' width=\"600\" height=\"300\" align=\"center\"/>\n",
    "<img src='data/oop8.png' width=\"600\" height=\"300\" align=\"center\"/>\n",
    "<img src='data/oop5.png' width=\"600\" height=\"300\" align=\"center\"/>\n",
    "<img src='data/oop6.png' width=\"600\" height=\"300\" align=\"center\"/>\n",
    "<img src='data/oop7.png' width=\"600\" height=\"300\" align=\"center\"/>\n",
    "\n",
    "\n",
    "**Answer: `__main__.Employee`**\n",
    "\n",
    "<img src='data/oop9.png' width=\"600\" height=\"300\" align=\"center\"/>"
   ]
  },
  {
   "cell_type": "markdown",
   "id": "d61c2c1e",
   "metadata": {},
   "source": [
    "**Note** that there are a few different ways to determine the class of the `mystery` object, including:\n",
    "- **`mystery.__class__`**\n",
    "- **`type(mystery)`**\n",
    "- See first line of output from **`help(mystery)`**:\n",
    "    - `Help on Employee in module __main__ object:`\n",
    "\n",
    "***\n",
    "\n",
    "**Question:** How can you print the `mystery` employee's name? Salary?\n",
    "\n",
    "**Answer:** \n",
    "- `mystery.name`\n",
    "- `mystery.salary`\n",
    "\n",
    "***\n",
    "\n",
    "**Question:** How can you give the `mystery` employee a raise of $2500?\n",
    "- `mystery.give_raise(2500)`\n",
    "- (to confirm:) `mystery.salary`\n"
   ]
  },
  {
   "cell_type": "markdown",
   "id": "e74ff94b",
   "metadata": {},
   "source": [
    "## Class anatomy: attributes and methods"
   ]
  },
  {
   "cell_type": "markdown",
   "id": "9dba1df8",
   "metadata": {},
   "source": [
    "Now that we've learned how to work with existing objects and classes, we'll learn how to create our own.\n",
    "\n",
    "### A basic class\n",
    "- To start a new class definition, all you need is a class statement, followed by the name of the class and a colon.\n",
    "- You can create an empty class as a blank template, but including the pass statement after the class declaration.\n",
    "- Even thought the class below is empty, **we can create objects of the class by specifying the name of class, followed by parentheses.**\n",
    "- Below, `c1` and `c2` are two different objects of the empty class `Customer`.\n",
    "\n",
    "\n",
    "<img src='data/oop10.png' width=\"600\" height=\"300\" align=\"center\"/>\n",
    "\n",
    "- However, we want to create objects that actually store data and operate on it (in other words, that have **attributes** and **methods**).\n",
    "\n",
    "### Add methods to a class\n",
    "- Defining a method is simple:\n",
    "- Methods are functions, so the definition looks just like a regular Python function with one exception: the special \"**self**\" argument, which every method will have as the first argument (possibly followed by other arguments. \n",
    "\n",
    "<img src='data/oop11.png' width=\"600\" height=\"300\" align=\"center\"/>\n",
    "\n",
    "### What is self?\n",
    "- Classes are *templates*: objects of a class don't yet exist when a class is being defined, but we often need a way to refer to the data of a particular object within class definition.\n",
    "- **This is the purpose of self: it's a stand-in for the future object.** \n",
    "- That's why every method should have the self argument-- so we could use it to access attributes and call other methods from within the class definition even ewhen no objects were created yet. \n",
    "- Python will handle `self` when the method is called from an object using the dot syntax. In fact, using `object.method` is equivalent to passing that object as an argument. That's why we don't specify it explicitly when calling the method from an existing object\n",
    "\n",
    "<img src='data/oop12.png' width=\"600\" height=\"300\" align=\"center\"/>"
   ]
  },
  {
   "cell_type": "markdown",
   "id": "54d0fad3",
   "metadata": {},
   "source": [
    "### We need attibutes \n",
    "- By the principles of OOP, the data describing the state of the object should be bundled into the object\n",
    "- For example: `Customer`'s `name` should be an attribute of the customer object (instead of a parameter passed to a method. \n",
    "- **Encapsulation:** bundling data with methods that operate on data\n",
    "- In Python, **attributes**, like variables, are created by assignment (`=`) in methods, meaning an attribute only manifests into existence only once a value is assigned to it. \n",
    "\n",
    "<img src='data/oop12.png' width=\"600\" height=\"300\" align=\"center\"/>\n",
    "\n",
    "<img src='data/oop13.png' width=\"600\" height=\"300\" align=\"center\"/>\n",
    "\n",
    "<img src='data/oop14.png' width=\"600\" height=\"300\" align=\"center\"/>\n",
    "\n",
    "<img src='data/oop15.png' width=\"600\" height=\"300\" align=\"center\"/>\n",
    "\n",
    "<img src='data/oop16.png' width=\"600\" height=\"300\" align=\"center\"/>\n",
    "\n",
    "<img src='data/oop17.png' width=\"600\" height=\"300\" align=\"center\"/>\n",
    "\n",
    "<img src='data/oop18.png' width=\"600\" height=\"300\" align=\"center\"/>"
   ]
  },
  {
   "cell_type": "markdown",
   "id": "92304310",
   "metadata": {},
   "source": []
  },
  {
   "cell_type": "markdown",
   "id": "27de7cec",
   "metadata": {},
   "source": []
  },
  {
   "cell_type": "markdown",
   "id": "8aa75c18",
   "metadata": {},
   "source": []
  },
  {
   "cell_type": "markdown",
   "id": "7d3d8ac3",
   "metadata": {},
   "source": []
  },
  {
   "cell_type": "markdown",
   "id": "02374484",
   "metadata": {},
   "source": []
  },
  {
   "cell_type": "markdown",
   "id": "23086376",
   "metadata": {},
   "source": [
    "<img src='data/oop.png' width=\"600\" height=\"300\" align=\"center\"/>"
   ]
  }
 ],
 "metadata": {
  "kernelspec": {
   "display_name": "Python 3",
   "language": "python",
   "name": "python3"
  },
  "language_info": {
   "codemirror_mode": {
    "name": "ipython",
    "version": 3
   },
   "file_extension": ".py",
   "mimetype": "text/x-python",
   "name": "python",
   "nbconvert_exporter": "python",
   "pygments_lexer": "ipython3",
   "version": "3.8.8"
  }
 },
 "nbformat": 4,
 "nbformat_minor": 5
}
