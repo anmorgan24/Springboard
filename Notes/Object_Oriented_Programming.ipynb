{
 "cells": [
  {
   "cell_type": "markdown",
   "id": "9ea3f8a5",
   "metadata": {},
   "source": [
    "# Object-Oriented Programming in Python"
   ]
  },
  {
   "cell_type": "markdown",
   "id": "a83fb145",
   "metadata": {},
   "source": [
    "__Object-oriented programming (OOP)__ is a widely used programming paradigm that reduces development times— making it easier to read, reuse, and maintain your code. OOP shifts the focus from thinking about code as a sequence of actions to looking at your program as a collection of objects that interact with each other. In this course, you’ll learn how to create classes, which act as the blueprints for every object in Python. You’ll then leverage principles called inheritance and polymorphism to reuse and optimize code. Dive in and learn how to create beautiful code that’s clean and efficient!"
   ]
  },
  {
   "cell_type": "markdown",
   "id": "8f190285",
   "metadata": {},
   "source": [
    "## 1. OOP Fundamentals\n",
    "In this chapter, you'll learn what object-oriented programming (OOP) is, how it differs from procedural-programming, and how it can be applied. You'll then define your own classes, and learn how to create methods, attributes, and constructors."
   ]
  },
  {
   "cell_type": "markdown",
   "id": "434258d3",
   "metadata": {},
   "source": [
    "#### Procedural Programming\n",
    "- Code as a sequence of steps\n",
    "- Great for data analysis\n",
    "- In code, as in life, the more data it uses, and the more functionality it has, the harder it is to think about just a sequence of steps. Instead, it is often useful to think about patterns of steps, or **collections of objects**.\n",
    "\n",
    "#### Object-Oriented Programming\n",
    "- __Code as interactions of objects__\n",
    "    - Example: Users interacting with elements of an interface\n",
    "- OOP principles help you organize your code better, making it more usable and maintainable\n",
    "- Great for building frameworks and tools\n",
    "- *Maintainable and reusable code!*\n",
    "- The fundamental components of OOP are **Objects** and **Classes**\n",
    "\n",
    "#### Objects as data structures\n",
    "- An **Object** is a data structure incorporating information about state and behavior\n",
    "    - **object = state + behavior**\n",
    "- The distinctive feature of OOP is that state and behavior are bundled together\n",
    "- **Encapsulation:** bundling data with code operating on it\n",
    "    - For example, instead of thinking of customer data as separate from customer actions, we think of them as one unit, representing a customer\n",
    "- Encapsulation is one of the core tenets of OOP\n",
    "- The real strength of OOP comes from utilizing classes\n",
    "- **Class:** blueprint for objects outlining possible states and behaviors that every object of a certain type could have\n",
    "\n",
    "#### Objects in Python\n",
    "- In Python, everything is an object\n",
    "    - numbers\n",
    "    - strings\n",
    "    - dataframes\n",
    "    - functions\n",
    "    - ...\n",
    "- Every object has a class\n",
    "- In particular, everything you deal with in Python has a class, a blueprint, associated with it under the hood.\n",
    "- The existence of these unified interfaces is why you can use, for example, any DataFrame, in the same way.\n",
    "- You can call `type()` on any Python object to find the class\n",
    "    - For example, the class of NumPy array is actually called `ndarray` for \"n-dimensional array\"\n",
    "\n",
    "## Attributes and methods\n",
    "### State $\\leftarrow$ $\\rightarrow$ Attributes\n",
    "- **State information** in Python is contained in **attributes**\n",
    "\n",
    "### Behavior $\\leftarrow$ $\\rightarrow$ Methods\n",
    "- **Behavior information** in Python is contained in **methods**\n",
    "\n",
    "<img src='data/oop1.png' width=\"600\" height=\"300\" align=\"center\"/>"
   ]
  },
  {
   "cell_type": "markdown",
   "id": "22da6d7e",
   "metadata": {},
   "source": [
    "- **You can list all the attributes and methods that an object has by calling `dir` on it:**\n",
    "\n",
    "<img src='data/oop2.png' width=\"600\" height=\"300\" align=\"center\"/>"
   ]
  },
  {
   "cell_type": "markdown",
   "id": "4fb49005",
   "metadata": {},
   "source": [
    "- **Class:** An abstract template describing general traits and behaviors\n",
    "- **Objects:** Particular representations of a class (that follow that particular abstract template).\n",
    "- Classes and objects both have attributes and methods, but the difference is that a class is an abstract template, while an object is a concrete representation of a class"
   ]
  },
  {
   "cell_type": "markdown",
   "id": "ffe1ee6a",
   "metadata": {},
   "source": [
    "### $\\star$ Exercise: Exploring object interface\n",
    "The best way to learn how to write object-oriented code is to study the design of existing classes. You've already learned about exploration tools like `type()` and `dir()`.\n",
    "\n",
    "Another important function is `help()`: calling `help(x)` in the console will show the documentation for the object or class `x`.\n",
    "\n",
    "Most real world classes have many methods and attributes, and it is easy to get lost, so in this exercise, you will start with something simpler. We have defined a class, and created an object of that class called `mystery`. Explore the object in the console using the tools that you learned.\n",
    "\n",
    "__Question: What class does the `mystery` object have?__\n",
    "\n",
    "<img src='data/oop3.png' width=\"600\" height=\"300\" align=\"center\"/>\n",
    "<img src='data/oop4.png' width=\"600\" height=\"300\" align=\"center\"/>\n",
    "<img src='data/oop8.png' width=\"600\" height=\"300\" align=\"center\"/>\n",
    "<img src='data/oop5.png' width=\"600\" height=\"300\" align=\"center\"/>\n",
    "<img src='data/oop6.png' width=\"600\" height=\"300\" align=\"center\"/>\n",
    "<img src='data/oop7.png' width=\"600\" height=\"300\" align=\"center\"/>\n",
    "\n",
    "\n",
    "**Answer: `__main__.Employee`**\n",
    "\n",
    "<img src='data/oop9.png' width=\"600\" height=\"300\" align=\"center\"/>"
   ]
  },
  {
   "cell_type": "markdown",
   "id": "d61c2c1e",
   "metadata": {},
   "source": [
    "**Note** that there are a few different ways to determine the class of the `mystery` object, including:\n",
    "- **`mystery.__class__`**\n",
    "- **`type(mystery)`**\n",
    "- See first line of output from **`help(mystery)`**:\n",
    "    - `Help on Employee in module __main__ object:`\n",
    "\n",
    "***\n",
    "\n",
    "**Question:** How can you print the `mystery` employee's name? Salary?\n",
    "\n",
    "**Answer:** \n",
    "- `mystery.name`\n",
    "- `mystery.salary`\n",
    "\n",
    "***\n",
    "\n",
    "**Question:** How can you give the `mystery` employee a raise of $2500?\n",
    "- `mystery.give_raise(2500)`\n",
    "- (to confirm:) `mystery.salary`\n"
   ]
  },
  {
   "cell_type": "markdown",
   "id": "e74ff94b",
   "metadata": {},
   "source": [
    "## Class anatomy: attributes and methods"
   ]
  },
  {
   "cell_type": "markdown",
   "id": "9dba1df8",
   "metadata": {},
   "source": [
    "Now that we've learned how to work with existing objects and classes, we'll learn how to create our own.\n",
    "\n",
    "### A basic class\n",
    "- To start a new class definition, all you need is a class statement, followed by the name of the class and a colon.\n",
    "- You can create an empty class as a blank template, but including the pass statement after the class declaration.\n",
    "- Even thought the class below is empty, **we can create objects of the class by specifying the name of class, followed by parentheses.**\n",
    "- Below, `c1` and `c2` are two different objects of the empty class `Customer`.\n",
    "\n",
    "\n",
    "<img src='data/oop10.png' width=\"600\" height=\"300\" align=\"center\"/>\n",
    "\n",
    "- However, we want to create objects that actually store data and operate on it (in other words, that have **attributes** and **methods**).\n",
    "\n",
    "### Add methods to a class\n",
    "- Defining a method is simple:\n",
    "- Methods are functions, so the definition looks just like a regular Python function with one exception: the special \"**self**\" argument, which every method will have as the first argument (possibly followed by other arguments. \n",
    "\n",
    "<img src='data/oop11.png' width=\"600\" height=\"300\" align=\"center\"/>\n",
    "\n",
    "### What is self?\n",
    "- Classes are *templates*: objects of a class don't yet exist when a class is being defined, but we often need a way to refer to the data of a particular object within class definition.\n",
    "- **This is the purpose of self: it's a stand-in for the future object.** \n",
    "- That's why every method should have the self argument-- so we could use it to access attributes and call other methods from within the class definition even ewhen no objects were created yet. \n",
    "- Python will handle `self` when the method is called from an object using the dot syntax. In fact, using `object.method` is equivalent to passing that object as an argument. That's why we don't specify it explicitly when calling the method from an existing object\n",
    "\n",
    "<img src='data/oop12.png' width=\"600\" height=\"300\" align=\"center\"/>"
   ]
  },
  {
   "cell_type": "markdown",
   "id": "54d0fad3",
   "metadata": {},
   "source": [
    "### We need attibutes \n",
    "- By the principles of OOP, the data describing the state of the object should be bundled into the object\n",
    "- For example: `Customer`'s `name` should be an attribute of the customer object (instead of a parameter passed to a method. \n",
    "- **Encapsulation:** bundling data with methods that operate on data\n",
    "- In Python, **attributes**, like variables, are created by assignment (`=`) in methods, meaning an attribute only manifests into existence only once a value is assigned to it. \n",
    "\n",
    "<img src='data/oop12.png' width=\"600\" height=\"300\" align=\"center\"/>\n",
    "\n",
    "<img src='data/oop13.png' width=\"600\" height=\"300\" align=\"center\"/>\n",
    "\n",
    "<img src='data/oop14.png' width=\"600\" height=\"300\" align=\"center\"/>\n",
    "\n",
    "<img src='data/oop15.png' width=\"600\" height=\"300\" align=\"center\"/>\n",
    "\n",
    "<img src='data/oop16.png' width=\"600\" height=\"300\" align=\"center\"/>\n",
    "\n",
    "<img src='data/oop17.png' width=\"600\" height=\"300\" align=\"center\"/>\n",
    "\n",
    "<img src='data/oop18.png' width=\"600\" height=\"300\" align=\"center\"/>"
   ]
  },
  {
   "cell_type": "markdown",
   "id": "92304310",
   "metadata": {},
   "source": [
    "## Class anatomy: the __init__ constructor\n",
    "\n",
    "### Methods and attributes\n",
    "- Methods are function definitions within a class\n",
    "- `self` as the first argument\n",
    "- Define attributes by assignment\n",
    "- Refer to attributes in class via `self.___`\n",
    "- In the exercises, you created an `Employee` class and for each attribute you wanted to create, you defined a new method and then called those methods one after another. This could quickly get unsustainable if your classes contain a lot of data.\n",
    "\n",
    "<img src='data/oop19.png' width=\"600\" height=\"300\" align=\"center\"/>\n",
    "\n",
    "- A better strategy would be to add data to the object when creating it, like you do when creating a NumPy array or a DataFrame\n",
    "- Python allows you to add a special method called \"the constructor\"\n",
    "- **Constructor: `__init__()`** method is called every time an object is created.\n",
    "- Note that the exact name (init) and the double underscores are essential for Python to recognize it\n",
    "- Below, we define the `__init__` method for the customer class:\n",
    "\n",
    "<img src='data/oop20.png' width=\"600\" height=\"300\" align=\"center\"/>"
   ]
  },
  {
   "cell_type": "markdown",
   "id": "27de7cec",
   "metadata": {},
   "source": [
    "- Notice above that the init method was automatically called, and the name attribute created\n",
    "\n",
    "<img src='data/oop21.png' width=\"600\" height=\"300\" align=\"center\"/>\n",
    "\n",
    "- The `__init__` constructor is also a good place to set the default values for attributes \n",
    "- For example, here, we set the default value of the balance argument to 0 so that we can create a customer object without specifying the value of the balance:\n",
    "\n",
    "<img src='data/oop22.png' width=\"600\" height=\"300\" align=\"center\"/>\n",
    "\n",
    "- However, the attribute is created anyways, and is initialized to 0. \n",
    "\n",
    "#### Attribute definitions\n",
    "- In summary, there are two ways to define attributes:\n",
    "    - 1) **We can define an attribute in any method in a class**, and then calling the method will add the attribute to the object\n",
    "    - 2) Alternatively, **we can define them all together in the constructor**\n",
    "- If possible, try to avoid defining attributes outside the constructor\n",
    "- Your class definition can be hundreds of lines of code long and the person reading it would have to comb through all of them to find all of the attributes\n",
    "- Moreover, defining all of the attributes in the constructor ensures that all of them are created when the object is created, so you don't have to worry about trying to access an attribute that doesn't yet exist \n",
    "- All of this results in more organized, reusable, and maintainable code\n",
    "\n",
    "<img src='data/oop23.png' width=\"600\" height=\"300\" align=\"center\"/>\n",
    "\n",
    "## Best practices\n",
    "- **1) Initialize attributes in `__init_()`**\n",
    "- **2) Naming:**\n",
    "    - **`CamelCase`** for classes\n",
    "    - **`lower_snake_case`** for functions and attributes\n",
    "- **3) Keep `self` as `self`**\n",
    "    - The name `self` is actually a convention; you could use any name for the first variable of a method and it will always be treated as the **object reference**, regardless.\n",
    "    - See image below for example of what *not* to do\n",
    "- **4) Use docstrings**\n",
    "    - Classes, like functions allow for docstrings, which are **displayed when help is called on the object**.\n",
    "    - Use docstrings to make the life of the person using your class easier\n",
    "    \n",
    "\n",
    "<img src='data/oop24.png' width=\"600\" height=\"300\" align=\"center\"/>\n",
    "\n",
    "<img src='data/oop25.png' width=\"600\" height=\"300\" align=\"center\"/>\n",
    "\n",
    "- **The `__init__()` method is also a great place to do some preprocessing:**\n",
    "\n",
    "<img src='data/oop26.png' width=\"600\" height=\"300\" align=\"center\"/>\n",
    "\n",
    "- **Set `hire_date` to today's date:**\n",
    "\n",
    "<img src='data/oop27.png' width=\"600\" height=\"300\" align=\"center\"/>"
   ]
  },
  {
   "cell_type": "markdown",
   "id": "b2470e35",
   "metadata": {},
   "source": [
    "### Exercise: Write a class from scratch\n",
    "You are a Python developer writing a visualization package. For any element in a visualization, you want to be able to tell the position of the element, how far it is from other elements, and easily implement horizontal or vertical flip.\n",
    "\n",
    "The most basic element of any visualization is a single point. In this exercise, you'll write a class for a point on a plane from scratch.\n",
    "\n",
    "<img src='data/oop28.png' width=\"600\" height=\"300\" align=\"center\"/>"
   ]
  },
  {
   "cell_type": "markdown",
   "id": "799c17ee",
   "metadata": {},
   "source": [
    "## 2. Inheritance and Polymorphism \n",
    "Inheritance and polymorphism are the core concepts of OOP that enable efficient and consistent code reuse. Learn how to inherit from a class, customize and redefine methods, and review the differences between class-level data and instance-level data."
   ]
  },
  {
   "cell_type": "markdown",
   "id": "6a5f59c1",
   "metadata": {},
   "source": [
    "### Instance and class data\n",
    "\n",
    "#### $\\star$ $\\star$ $\\star$ Core principles of OOP $\\star$ $\\star$ $\\star$\n",
    "\n",
    "**Inheritance:**\n",
    "- Extending functionality of existing code\n",
    "\n",
    "**Polymorphism:**\n",
    "- Creating a unified interface\n",
    "\n",
    "**Encapsulation:**\n",
    "- Bundling of data and methods"
   ]
  },
  {
   "cell_type": "markdown",
   "id": "eb77cb5b",
   "metadata": {},
   "source": [
    "- Inheritance and polymorphism, together with encapsulation, form the core principles of OOP\n",
    "\n",
    "<img src='data/oop29.png' width=\"300\" height=\"150\" align=\"center\"/>\n",
    "\n",
    "### Instance-level data vs. Class-level data\n",
    "\n",
    "#### Class attributes\n",
    "\n",
    "<img src='data/oop30.png' width=\"300\" height=\"150\" align=\"center\"/>\n",
    "\n",
    "* **Class attributes serve as global variables within a class.**\n",
    "\n",
    "<img src='data/oop31.png' width=\"300\" height=\"150\" align=\"center\"/>\n",
    "\n",
    "* $\\star$ **Note that we don't use `self` to define *class* attributes and we use `ClassName.ATTR_NAME` to access the *class* attribute value.** $\\star$\n",
    "* This variable will be shared among all the instances of the class.\n",
    "* We can access it like any other attribute from an object instance and the value will be the same across instances.\n",
    "\n",
    "<img src='data/oop32.png' width=\"600\" height=\"300\" align=\"center\"/>\n",
    "\n",
    "* This variable will be shared among all the instances of the class.\n",
    "* We can access it like any other attribute from an object instance and the value will be the same across instances.\n",
    "\n",
    "<img src='data/oop33.png' width=\"600\" height=\"300\" align=\"center\"/>\n",
    "\n",
    "* **The main use case for clas attributes is as global constants related to the class.**\n",
    "* For example:\n",
    "    - minimal/maximal values for attributes\n",
    "    - commonly used values and constants, e.g. `pi` for a `Circle` class\n",
    "\n",
    "#### Class methods\n",
    "- Regular methods are already shared between instances; the same code gets executed for every instance.\n",
    "- The only difference is the data that is fed into it. \n",
    "- It is possible to define methods bound to a class, rather than an instance, but they have a narrow application scope.\n",
    "    - **Class methods can't use instance-level data.**\n",
    "- **To define a class method, start with a *class method decorator***, followed by a method definition\n",
    "    - The only difference is that now the first argument is not `self`, but **`cls`** (referring to the class), just like the `self` argument, with a reference to a particular instance.\n",
    "    - Then, you write it as any other function, keeping in mind that you can't refer to any instance attributes in this method\n",
    "- **To call a class method, use `Class.method(args)` syntax.**\n",
    "    - Rather than object.method() syntax\n",
    "    \n",
    "<img src='data/oop34.png' width=\"600\" height=\"300\" align=\"center\"/>\n",
    "\n",
    "- $\\star$ **So, why would we ever need class methods at all?** $\\star$\n",
    "- The main use case is **alternative constructors**\n",
    "- **A class can only have one `__init__()` method, but there might be multiple ways to initialize an object.**\n",
    "    - For example, we might want to create an `Employee` object from data stored in a file\n",
    "    - We can't use a method, because that would require an instance (and there isn't one yet)\n",
    "    - So, here we introduce a class method `from_file` that accepts a file name, reads the first line from the file (that presumably contains the name of the employee) and returns an object instance\n",
    "    - In the return statement, we use the `cls` variable --> this line will call the `__init__` constructor just like using `Employee()` would outside of the class definition\n",
    "    - **Use class methods to create objects.**\n",
    "    \n",
    "<img src='data/oop35.png' width=\"600\" height=\"300\" align=\"center\"/>\n",
    "\n",
    "<img src='data/oop36.png' width=\"400\" height=\"200\" align=\"center\"/>"
   ]
  },
  {
   "cell_type": "markdown",
   "id": "41be6f2c",
   "metadata": {},
   "source": [
    "### Exercise: Class-level attributes\n",
    "Class attributes store data that is shared among all the class instances. They are assigned values in the class body, and are referred to using the `ClassName.__` syntax rather than `self.__` syntax when used in methods.\n",
    "\n",
    "In this exercise, you will be a game developer working on a game that will have several players moving on a grid and interacting with each other. As the first step, you want to define a `Player` class that will just move along a straight line. `Player` will have a `position` attribute and a `move()` method. The grid is limited, so the `position` of `Player` will have a maximal value.\n",
    "\n",
    "<img src='data/oop37.png' width=\"400\" height=\"200\" align=\"center\"/>\n",
    "\n",
    "<img src='data/oop38.png' width=\"600\" height=\"300\" align=\"center\"/>\n",
    "\n",
    "### Exercise: Changing class attributes\n",
    "You learned how to define class attributes and how to access them from class instances. So what will happen if you try to assign another value to a class attribute when accessing it from an instance? The answer is not as simple as you might think!\n",
    "\n",
    "The `Player` class from the previous exercise is pre-defined. Recall that it has a `position` instance attribute, and `MAX_SPEED` and `MAX_POSITION` class attributes. The initial value of `MAX_SPEED` is `3`.\n",
    "\n",
    "<img src='data/oop39.png' width=\"500\" height=\"250\" align=\"center\"/>\n",
    "\n",
    "Even though `MAX_SPEED` is shared across instances, assigning 7 to `p1.MAX_SPEED` didn't change the value of `MAX_SPEED` in `p2`, or in the `Player` class.\n",
    "\n",
    "So what happened? In fact, Python created a new *instance attribute* in `p1`, also called it `MAX_SPEED`, and assigned `7` to it, without touching the class attribute.\n",
    "\n",
    "Now let's change the class attribute value for real:\n",
    "\n",
    "<img src='data/oop40.png' width=\"500\" height=\"250\" align=\"center\"/>\n",
    "\n",
    "### Exercise: Alternative constructors\n",
    "Python allows you to define class *methods* as well, using the `@classmethod` decorator and a special first argument `cls`. The main use of class methods is defining methods that return an instance of the class, but aren't using the same code as `__init__()`.\n",
    "\n",
    "For example, you are developing a time series package and want to define your own class for working with dates, `BetterDate`. The attributes of the class will be `year`, `month`, and `day`. You want to have a constructor that creates `BetterDate` objects given the values for year, month, and day, but you also want to be able to create `BetterDate` objects from strings like `2020-04-30`.\n",
    "\n",
    "You might find the following functions useful:\n",
    "\n",
    "- `.split(\"-\")` method will split a string at `\"-\"` into an array, e.g. `\"2020-04-30\".split(\"-\")` returns `[\"2020\", \"04\", \"30\"]`,\n",
    "- `int()` will convert a string into a number, e.g. `int(\"2019\")` is `2019`.\n",
    "\n",
    "<img src='data/oop41.png' width=\"600\" height=\"300\" align=\"center\"/>\n",
    "\n",
    "For compatibility, you also want to be able to convert a `datetime` object into a `BetterDate` object.\n",
    "\n",
    "Add a class method `from_datetime()` that accepts a `datetime` object as the argument, and uses its attributes `.year`, `.month` and `.day` to create a `BetterDate` object with the same attribute values.\n",
    "\n",
    "<img src='data/oop42.png' width=\"600\" height=\"300\" align=\"center\"/>\n"
   ]
  },
  {
   "cell_type": "markdown",
   "id": "59ee5ca1",
   "metadata": {},
   "source": [
    "## Class inheritance\n",
    "- OOP is fundamentally about code re-use\n",
    "- There's a good chance that someone has already written code that solves a part of your problem \n",
    "- Modules like NumPy and pandas are great tools that allow you to use code written by other programmers.\n",
    "- **But what if that code doesn't match your needs exactly?**\n",
    "    - For example, you might want to modify the `to_csv` method of pandas to adjust the output format\n",
    "- **OOP allows you to keep interface consistent, while customizing functionality**\n",
    "\n",
    "<img src='data/oop43.png' width=\"300\" height=\"150\" align=\"center\"/>\n",
    "\n",
    "### Inheritance\n",
    "- Class inheritance is a mechanism by which we can define a new class that gets all the functionality of another class, plus maybe something extra, without reimplementing the code.\n",
    "\n",
    "<img src='data/oop44.png' width=\"600\" height=\"300\" align=\"center\"/>\n",
    "\n",
    "#### Implementing class inheritance\n",
    "- Declaring a class that inherits from another class is very straightforward: You simply add parenthesis after the class name and then specify the class to inherit from\n",
    "\n",
    "<img src='data/oop45.png' width=\"600\" height=\"300\" align=\"center\"/>\n",
    "\n",
    "* Child class has all of the parent data, even though we did not define a constructor:\n",
    "\n",
    "<img src='data/oop46.png' width=\"600\" height=\"300\" align=\"center\"/>\n",
    "\n",
    "* **Inheritance represents an \"is-a\" relationship:**\n",
    "    - A **`SavingsAccount`** is a **`BankAccount`** (possibly with special, or additional, features)\n",
    "    - This isn't just theoretical, this is how Python treats it as well.\n",
    "    \n",
    "<img src='data/oop47.png' width=\"600\" height=\"300\" align=\"center\"/>"
   ]
  },
  {
   "cell_type": "code",
   "execution_count": 1,
   "id": "51080996",
   "metadata": {},
   "outputs": [],
   "source": [
    "class Counter:\n",
    "    def __init__(self, count):\n",
    "       self.count = count\n",
    "\n",
    "    def add_counts(self, n):\n",
    "       self.count += n\n",
    "\n",
    "class Indexer(Counter):\n",
    "   pass"
   ]
  },
  {
   "cell_type": "code",
   "execution_count": 3,
   "id": "20ab9bf9",
   "metadata": {},
   "outputs": [],
   "source": [
    "count = Counter(5)"
   ]
  },
  {
   "cell_type": "code",
   "execution_count": 4,
   "id": "7f6e47e9",
   "metadata": {},
   "outputs": [
    {
     "name": "stdout",
     "output_type": "stream",
     "text": [
      "<__main__.Counter object at 0x7ff350753ee0>\n"
     ]
    }
   ],
   "source": [
    "print(count)"
   ]
  },
  {
   "cell_type": "code",
   "execution_count": 5,
   "id": "6c5fe4b7",
   "metadata": {},
   "outputs": [
    {
     "data": {
      "text/plain": [
       "5"
      ]
     },
     "execution_count": 5,
     "metadata": {},
     "output_type": "execute_result"
    }
   ],
   "source": [
    "count.count"
   ]
  },
  {
   "cell_type": "code",
   "execution_count": 6,
   "id": "85abcab3",
   "metadata": {},
   "outputs": [],
   "source": [
    "count.add_counts(1)"
   ]
  },
  {
   "cell_type": "code",
   "execution_count": 7,
   "id": "2f70eec2",
   "metadata": {},
   "outputs": [
    {
     "data": {
      "text/plain": [
       "6"
      ]
     },
     "execution_count": 7,
     "metadata": {},
     "output_type": "execute_result"
    }
   ],
   "source": [
    "count.count"
   ]
  },
  {
   "cell_type": "code",
   "execution_count": 8,
   "id": "5dfe57d0",
   "metadata": {},
   "outputs": [],
   "source": [
    "ind = Indexer(2)"
   ]
  },
  {
   "cell_type": "code",
   "execution_count": 9,
   "id": "b6b3daa1",
   "metadata": {},
   "outputs": [
    {
     "data": {
      "text/plain": [
       "2"
      ]
     },
     "execution_count": 9,
     "metadata": {},
     "output_type": "execute_result"
    }
   ],
   "source": [
    "ind.count"
   ]
  },
  {
   "cell_type": "code",
   "execution_count": 10,
   "id": "5435e4f7",
   "metadata": {},
   "outputs": [],
   "source": [
    "ind.add_counts(6)"
   ]
  },
  {
   "cell_type": "code",
   "execution_count": 11,
   "id": "6b9f3efc",
   "metadata": {},
   "outputs": [
    {
     "data": {
      "text/plain": [
       "8"
      ]
     },
     "execution_count": 11,
     "metadata": {},
     "output_type": "execute_result"
    }
   ],
   "source": [
    "ind.count"
   ]
  },
  {
   "cell_type": "markdown",
   "id": "969608aa",
   "metadata": {},
   "source": [
    "<img src='data/oop48.png' width=\"600\" height=\"300\" align=\"center\"/>\n",
    "\n",
    "### Exercise: Create a subclass\n",
    "The purpose of child classes -- or sub-classes, as they are usually called - is to customize and extend functionality of the parent class.\n",
    "\n",
    "Recall the `Employee` class from earlier in the course. In most organizations, managers enjoy more privileges and more responsibilities than a regular employee. So it would make sense to introduce a `Manager` class that has more functionality than `Employee`.\n",
    "\n",
    "But a `Manager` is still an employee, so the `Manager` class should be inherited from the `Employee` class.\n",
    "\n",
    "<img src='data/oop49.png' width=\"600\" height=\"300\" align=\"center\"/>"
   ]
  },
  {
   "cell_type": "markdown",
   "id": "2004acff",
   "metadata": {},
   "source": [
    "* Remove the `pass` statement and add a `display()` method to the `Manager` class that just prints the string `\"Manager\"` followed by the full name, e.g. `\"Manager Katie Flatcher\"`.\n",
    "\n",
    "* Call the `.display()`method from the `mng` instance.\n",
    "\n",
    "<img src='data/oop50.png' width=\"600\" height=\"300\" align=\"center\"/>\n",
    "\n",
    "## Customizing functionality via inheritance\n",
    "\n",
    "<img src='data/oop51.png' width=\"500\" height=\"250\" align=\"center\"/>\n",
    "\n",
    "- **Let's start customization by adding a constructor specifically for the child class:**\n",
    "- We use `BankAccount.__init__(...)` to tell Python to call the constructor from the parent class\n",
    "- **In the following example `self` refers to `SavingsAccount`, and insomuch as `SavingsAccount` is an instance of `BankAccount`, `self` is also a `BankAccount`.**\n",
    "- Then, we can add more functionality: in our case was add the `interest_rate` attribute.\n",
    "- You're not actually required to call the parent constructor in the customization of the child class, but you'll find that you usually do use it. (?)\n",
    "\n",
    "<img src='data/oop52.png' width=\"600\" height=\"300\" align=\"center\"/>\n",
    "\n",
    "<img src='data/oop53.png' width=\"600\" height=\"300\" align=\"center\"/>\n",
    "\n",
    "- In the exercise above, we saw that we can add methods to a subclass, just like to any other class.\n",
    "- In these additional methods, you can use data from both the parent and the child class \n",
    "\n",
    "<img src='data/oop54.png' width=\"600\" height=\"300\" align=\"center\"/>\n",
    "\n",
    "### Customizing functionality\n",
    "- Start by inheriting from the parent class\n",
    "- Add a customized constructor that also executes the parent code, a deposit method, and a withdraw method\n",
    "- But we add a new parameter to withdraw: `fee`.\n",
    "- This method runs almost the same code as the `BankAccount.withdraw()` method without reimplementing it, just augmenting it.\n",
    "\n",
    "<img src='data/oop55.png' width=\"600\" height=\"300\" align=\"center\"/>\n",
    "\n",
    "- Now, when you call `withdraw` from an object that is a `CheckingAccount` instance, the new customized version will be used. \n",
    "- The interface of the call is the same for both child and parent classes, and the actual method that is called is determined by the instance class. \n",
    "- This is an application of **polymorphism**.\n",
    "\n",
    "<img src='data/oop56.png' width=\"600\" height=\"300\" align=\"center\"/>"
   ]
  },
  {
   "cell_type": "markdown",
   "id": "afce3c72",
   "metadata": {},
   "source": [
    "### Exercise: Method inheritance\n",
    "Inheritance is powerful because it allows us to reuse and customize code without rewriting existing code. By calling methods of the parent class within the child class, we reuse all the code in those methods, making our code concise and manageable.\n",
    "\n",
    "In this exercise, you'll continue working with the `Manager` class that is inherited from the `Employee` class. You'll add new data to the class, and customize the `give_raise()` method from Chapter 1 to increase the manager's raise amount by a bonus percentage whenever they are given a raise.\n",
    "\n",
    "A simplified version of the `Employee` class, as well as the beginning of the `Manager` class from the previous lesson is provided for you in the script pane.\n",
    "\n",
    "Add a constructor to `Manager` that:\n",
    "\n",
    "* accepts `name`, `salary` (default `50000`), and `project` (default `None`)\n",
    "* calls the constructor of the `Employee` class with the `name` and `salary` parameters,\n",
    "* creates a `project` attribute and sets it to the `project` parameter.\n",
    "\n",
    "<img src='data/oop57.png' width=\"600\" height=\"300\" align=\"center\"/>\n",
    "\n",
    "Add a `give_raise()` method to `Manager` that:\n",
    "\n",
    "* accepts the same parameters as `Employee.give_raise()`, plus a `bonus` parameter with the default value of `1.05` (bonus of 5%),\n",
    "* multiplies `amount` by `bonus`,\n",
    "* uses the `Employee`'s method to raise salary by that product.\n",
    "\n",
    "<img src='data/oop58.png' width=\"600\" height=\"300\" align=\"center\"/>\n",
    "\n",
    "### Exercises: Inheritance of class attributes\n",
    "In the beginning of this chapter, you learned about class attributes and methods that are shared among all the instances of a class. How do they work with inheritance?\n",
    "\n",
    "In this exercise, you'll create subclasses of the `Player` class from the first lesson of the chapter, and explore the inheritance of class attributes and methods.\n",
    "\n",
    "The `Player` class has been defined for you. Recall that the `Player` class had two class-level attributes: `MAX_POSITION` and `MAX_SPEED`, with default values `10` and `3`.\n",
    "\n",
    "* Create a class `Racer` inherited from `Player`,\n",
    "* Assign `5` to `MAX_SPEED` in the body of the class.\n",
    "* Create a `Player` object `p` and a `Racer` object `r` (no arguments needed for the constructor).\n",
    "\n",
    "<img src='data/oop59.png' width=\"400\" height=\"200\" align=\"center\"/>\n",
    "\n",
    "* **Class attributes CAN be inherited, and the value of class attributes CAN be overwritten in the child class.**\n",
    "\n",
    "### Exercises: Customizing a DataFrame\n",
    "\n",
    "In your company, any data has to come with a timestamp recording when the dataset was created, to make sure that outdated information is not being used. You would like to use `pandas` DataFrames for processing data, but you would need to customize the class to allow for the use of timestamps.\n",
    "\n",
    "In this exercise, you will implement a small `LoggedDF` class that inherits from a regular `pandas` DataFrame but has a `created_at` attribute storing the timestamp. You will then augment the standard `to_csv()` method to always include a column storing the creation date.\n",
    "\n",
    "*Tip: all DataFrame methods have many parameters, and it is not sustainable to copy all of them for each method you're customizing. The trick is to use variable-length arguments `*args` and `**kwargs` to catch all of them.*\n",
    "\n",
    "<img src='data/oop60.png' width=\"500\" height=\"250\" align=\"center\"/>\n",
    "\n",
    "* Add a to_csv() method to LoggedDF that:\n",
    "* copies self to a temporary DataFrame using .copy(),\n",
    "* creates a new column created_at in the temporary DataFrame and fills it with self.created_at\n",
    "* calls pd.DataFrame.to_csv() on the temporary variable.\n",
    "\n",
    "<img src='data/oop61.png' width=\"500\" height=\"250\" align=\"center\"/>"
   ]
  },
  {
   "cell_type": "markdown",
   "id": "65dffa9b",
   "metadata": {},
   "source": [
    "## Review\n",
    "- Adding methods to a class:\n",
    "    - **method definition = funciton definition** within a class, **except for one exception**:\n",
    "        - **use `self` as the 1st argument in method definition**\n",
    "- `self` is a stand-in for the future object\n",
    "- every method should have the self argument\n",
    "\n",
    "#### Attributes\n",
    "- **Encapsulation:** bundling data with methods that operate on data\n",
    "- E.g. customer name should be an attribute (and not a parameter passed to a method)\n",
    "- Attributes are created by assignment (=) in methods\n",
    "\n",
    "#### The __init__ constructor\n",
    "- **Constructor:** `__init__` method is authomatically called every time an object is created\n",
    "- The init constructor is also a good place to set default values"
   ]
  },
  {
   "cell_type": "markdown",
   "id": "5843a2ad",
   "metadata": {},
   "source": [
    "- Object = state + behavior\n",
    "- Encapsulation- bundling data with the code operating on it\n",
    "- Class: blueprint for objects outlining possible states and behaviors\n",
    "- `type()` returns class\n",
    "- attributes are respresented by variables\n",
    "- methods are represented as functions\n",
    "- `dir()` lists all attributes and methods of an object\n",
    "- attributes aren't read-only: you can use assignment to modify or create them after instantiation\n",
    "#### Helpful functions:\n",
    "- `type()`\n",
    "- `dir()`\n",
    "- `help()`\n",
    "\n",
    "\n",
    "\n",
    "- method definition = function definition within class\n",
    "- use `self` as the 1st argument in method definition (possibly followed by other arguments)\n",
    "\n",
    "#### Old version"
   ]
  },
  {
   "cell_type": "code",
   "execution_count": 7,
   "id": "e3da3b75",
   "metadata": {},
   "outputs": [],
   "source": [
    "class Customer1:\n",
    "    # Using parameter\n",
    "    def identify(self, name):\n",
    "        print(\"I am customer \" + name)"
   ]
  },
  {
   "cell_type": "markdown",
   "id": "38af0c17",
   "metadata": {},
   "source": [
    "#### New (improved/preferred) method"
   ]
  },
  {
   "cell_type": "code",
   "execution_count": 8,
   "id": "f43b45f0",
   "metadata": {},
   "outputs": [],
   "source": [
    "class Customer2:\n",
    "    def set_name(self, new_name):\n",
    "        self.name = new_name\n",
    "        \n",
    "    # Using .name from the object itself\n",
    "    def identify(self):\n",
    "        print(\"I am customer \" + self.name)"
   ]
  },
  {
   "cell_type": "code",
   "execution_count": 9,
   "id": "e4beb484",
   "metadata": {},
   "outputs": [],
   "source": [
    "cust1 = Customer1()"
   ]
  },
  {
   "cell_type": "code",
   "execution_count": 10,
   "id": "d47c1bf9",
   "metadata": {},
   "outputs": [
    {
     "name": "stdout",
     "output_type": "stream",
     "text": [
      "I am customer John\n"
     ]
    }
   ],
   "source": [
    "cust1.identify(\"John\")"
   ]
  },
  {
   "cell_type": "code",
   "execution_count": 11,
   "id": "b5e7da3a",
   "metadata": {},
   "outputs": [
    {
     "ename": "AttributeError",
     "evalue": "'Customer1' object has no attribute 'name'",
     "output_type": "error",
     "traceback": [
      "\u001b[0;31m---------------------------------------------------------------------------\u001b[0m",
      "\u001b[0;31mAttributeError\u001b[0m                            Traceback (most recent call last)",
      "\u001b[0;32m<ipython-input-11-90a768aefe6a>\u001b[0m in \u001b[0;36m<module>\u001b[0;34m\u001b[0m\n\u001b[0;32m----> 1\u001b[0;31m \u001b[0mcust1\u001b[0m\u001b[0;34m.\u001b[0m\u001b[0mname\u001b[0m\u001b[0;34m\u001b[0m\u001b[0;34m\u001b[0m\u001b[0m\n\u001b[0m",
      "\u001b[0;31mAttributeError\u001b[0m: 'Customer1' object has no attribute 'name'"
     ]
    }
   ],
   "source": [
    "cust1.name"
   ]
  },
  {
   "cell_type": "code",
   "execution_count": 12,
   "id": "749bb9ad",
   "metadata": {},
   "outputs": [
    {
     "name": "stdout",
     "output_type": "stream",
     "text": [
      "I am customer Mary\n"
     ]
    }
   ],
   "source": [
    "cust2 = Customer2()\n",
    "cust2.set_name(\"Mary\")\n",
    "cust2.identify()"
   ]
  },
  {
   "cell_type": "code",
   "execution_count": 13,
   "id": "fc14ee45",
   "metadata": {},
   "outputs": [],
   "source": [
    "class Employee:\n",
    "    def set_name(self, new_name):\n",
    "        self.name = new_name\n",
    "    # Add set_salary() method\n",
    "    def set_salary(self, new_salary):\n",
    "        self.salary = new_salary\n",
    "\n",
    "# Create an object emp of class Employee\n",
    "emp = Employee()\n",
    "\n",
    "# Use the set_name to set the name of emp to 'Korel Rossi'\n",
    "emp.set_name('Korel Rossi')\n",
    "\n",
    "# Set the salary of emp to 50000\n",
    "emp.set_salary(50000)"
   ]
  },
  {
   "cell_type": "code",
   "execution_count": 15,
   "id": "322bef65",
   "metadata": {},
   "outputs": [
    {
     "data": {
      "text/plain": [
       "'Korel Rossi'"
      ]
     },
     "execution_count": 15,
     "metadata": {},
     "output_type": "execute_result"
    }
   ],
   "source": [
    "emp.name"
   ]
  },
  {
   "cell_type": "code",
   "execution_count": 16,
   "id": "1db24559",
   "metadata": {},
   "outputs": [
    {
     "data": {
      "text/plain": [
       "50000"
      ]
     },
     "execution_count": 16,
     "metadata": {},
     "output_type": "execute_result"
    }
   ],
   "source": [
    "emp.salary"
   ]
  },
  {
   "cell_type": "markdown",
   "id": "d832f9b8",
   "metadata": {},
   "source": [
    "**Attributes aren't read-only; they can be created or modified after instantiation.**"
   ]
  },
  {
   "cell_type": "code",
   "execution_count": 17,
   "id": "d1cb5762",
   "metadata": {},
   "outputs": [
    {
     "data": {
      "text/plain": [
       "51500"
      ]
     },
     "execution_count": 17,
     "metadata": {},
     "output_type": "execute_result"
    }
   ],
   "source": [
    "emp.salary += 1500\n",
    "emp.salary"
   ]
  },
  {
   "cell_type": "code",
   "execution_count": 18,
   "id": "7c400d6e",
   "metadata": {},
   "outputs": [],
   "source": [
    "class Employee:\n",
    "    def set_name(self, new_name):\n",
    "        self.name = new_name\n",
    "\n",
    "    def set_salary(self, new_salary):\n",
    "        self.salary = new_salary \n",
    "\n",
    "    # Add a give_raise() method with raise amount as a parameter\n",
    "    def give_raise(self, raise_amount):\n",
    "        self.salary += raise_amount"
   ]
  },
  {
   "cell_type": "markdown",
   "id": "5484d799",
   "metadata": {},
   "source": [
    "#### Class Constructor\n",
    "- It is generally better practice to construct classes so that you add data to the class when creating it, rather than by calling methods on it\n",
    "- The **constructor** allows you to add data to an object when creating it\n",
    "- Constructor **`__init__()`** method is called every time an object is created. "
   ]
  },
  {
   "cell_type": "code",
   "execution_count": 19,
   "id": "71279a58",
   "metadata": {},
   "outputs": [
    {
     "name": "stdout",
     "output_type": "stream",
     "text": [
      "The __init__ method was called\n"
     ]
    },
    {
     "data": {
      "text/plain": [
       "'Lara de Silva'"
      ]
     },
     "execution_count": 19,
     "metadata": {},
     "output_type": "execute_result"
    }
   ],
   "source": [
    "class Customer:\n",
    "    def __init__(self, name):\n",
    "        self.name = name\n",
    "        print(\"The __init__ method was called\")\n",
    "        \n",
    "cust = Customer(\"Lara de Silva\")\n",
    "cust.name"
   ]
  },
  {
   "cell_type": "code",
   "execution_count": 20,
   "id": "b20f9a8c",
   "metadata": {},
   "outputs": [
    {
     "name": "stdout",
     "output_type": "stream",
     "text": [
      "The __init__ method was called\n",
      "Lara de Silva\n",
      "1000\n"
     ]
    }
   ],
   "source": [
    "class Customer:\n",
    "    def __init__(self, name, balance):\n",
    "        self.name = name\n",
    "        self.balance = balance\n",
    "        print(\"The __init__ method was called\")\n",
    "        \n",
    "cust = Customer(\"Lara de Silva\", 1000)\n",
    "print(cust.name)\n",
    "print(cust.balance)"
   ]
  },
  {
   "cell_type": "markdown",
   "id": "bf67d69f",
   "metadata": {},
   "source": [
    "The **`__init__()`** constructor is a good place to set default values for attributes:"
   ]
  },
  {
   "cell_type": "code",
   "execution_count": 21,
   "id": "d49be16a",
   "metadata": {},
   "outputs": [
    {
     "name": "stdout",
     "output_type": "stream",
     "text": [
      "The __init__ method was called\n",
      "Lara de Silva\n",
      "0\n"
     ]
    }
   ],
   "source": [
    "class Customer:\n",
    "    def __init__(self, name, balance = 0):\n",
    "        self.name = name\n",
    "        self.balance = balance\n",
    "        print(\"The __init__ method was called\")\n",
    "        \n",
    "cust = Customer(\"Lara de Silva\")\n",
    "print(cust.name)\n",
    "print(cust.balance)"
   ]
  },
  {
   "cell_type": "markdown",
   "id": "142c7fdb",
   "metadata": {},
   "source": [
    "## Two ways to define attributes:\n",
    "### 1. Attributes in methods\n",
    "- We can define an attribute in any method in a class\n",
    "- Calling the method will add the attribute to the object\n",
    "- Your class definition can be hundreds of lines of code long, and the person reading it would have to comb through all of them to find all the attributes"
   ]
  },
  {
   "cell_type": "code",
   "execution_count": 22,
   "id": "313d40a1",
   "metadata": {},
   "outputs": [],
   "source": [
    "class MyClass:\n",
    "    def my_method1(self, attr1):\n",
    "        self.attr1 = attr1\n",
    "        \n",
    "    def my_method2(self, attr2):\n",
    "        self.attr2 = attr2"
   ]
  },
  {
   "cell_type": "code",
   "execution_count": 23,
   "id": "ea16bc19",
   "metadata": {},
   "outputs": [],
   "source": [
    "obj = MyClass()\n",
    "obj.my_method1(\"val1\")\n",
    "obj.my_method2(\"val2\")"
   ]
  },
  {
   "cell_type": "code",
   "execution_count": 24,
   "id": "d8370001",
   "metadata": {},
   "outputs": [
    {
     "name": "stdout",
     "output_type": "stream",
     "text": [
      "val1\n",
      "val2\n"
     ]
    }
   ],
   "source": [
    "print(obj.attr1)\n",
    "print(obj.attr2)"
   ]
  },
  {
   "cell_type": "markdown",
   "id": "0684243a",
   "metadata": {},
   "source": [
    "### 2. Attributes in the constructor $\\Rightarrow$ preferred\n",
    "- Alternatively, we can define it all together in the constructor\n",
    "- If possible, try to avoid defining attributes outside the constructor\n",
    "- Ensures all attributes are created when the object is created, so you don't have to worry about trying to access an attribute that doesn't yet exist\n",
    "- Contributes to more readable, usable, and maintainable code"
   ]
  },
  {
   "cell_type": "code",
   "execution_count": 27,
   "id": "24834c07",
   "metadata": {},
   "outputs": [],
   "source": [
    "class MyClass:\n",
    "    def __init__(self, attr1, attr2):\n",
    "        self.attr1 = attr1\n",
    "        self.attr2 = attr2"
   ]
  },
  {
   "cell_type": "code",
   "execution_count": 28,
   "id": "0f616b53",
   "metadata": {},
   "outputs": [
    {
     "name": "stdout",
     "output_type": "stream",
     "text": [
      "val1\n",
      "val2\n"
     ]
    }
   ],
   "source": [
    "obj = MyClass(\"val1\", \"val2\")\n",
    "print(obj.attr1)\n",
    "print(obj.attr2)"
   ]
  },
  {
   "cell_type": "markdown",
   "id": "0346831c",
   "metadata": {},
   "source": [
    "### Best practices\n",
    "1. Initialize attributes in **`__init__()`**\n",
    "2. Naming: \n",
    "    - To name **classes** use **`CamelCase`**\n",
    "    - To name **functions and attributes** use **`lower_snake_case_`**\n",
    "3. Keep `self` as `self`:\n",
    "    - `self` is actually a convention; you could use any variable\n",
    "4. Use docstrings:\n",
    "    - Classes, like functions allow for docstrings\n",
    "    - These are displayed when `help()` is called on the object\n",
    "5. The `__init__()` method is a great place to do preprocessing"
   ]
  },
  {
   "cell_type": "code",
   "execution_count": 30,
   "id": "12fc0fa6",
   "metadata": {},
   "outputs": [
    {
     "name": "stdout",
     "output_type": "stream",
     "text": [
      "Invalid salary!\n",
      "Korel Rossi\n",
      "0\n"
     ]
    }
   ],
   "source": [
    "class Employee:\n",
    "  \n",
    "    def __init__(self, name, salary=0):\n",
    "        self.name = name\n",
    "        # Modify code below to check if salary is positive\n",
    "        if salary > 0:\n",
    "            self.salary = salary\n",
    "        else:\n",
    "            self.salary = 0\n",
    "            print(\"Invalid salary!\")\n",
    "       # Add the hire_date attribute and set it to today's date\n",
    "        self.hire_date = datetime.today()\n",
    "        \n",
    "    def give_raise(self, amount):\n",
    "        self.salary += amount\n",
    "\n",
    "    def monthly_salary(self):\n",
    "        return self.salary/12\n",
    "      \n",
    "emp = Employee(\"Korel Rossi\", -1000)\n",
    "print(emp.name)\n",
    "print(emp.salary)"
   ]
  },
  {
   "cell_type": "code",
   "execution_count": 32,
   "id": "61c8c7d1",
   "metadata": {},
   "outputs": [],
   "source": [
    "import numpy as np\n",
    "\n",
    "class Point:\n",
    "    \"\"\" A point on a 2D plane\n",
    "    \n",
    "   Attributes\n",
    "    ----------\n",
    "    x : float, default 0.0. The x coordinate of the point        \n",
    "    y : float, default 0.0. The y coordinate of the point\n",
    "    \"\"\"\n",
    "    def __init__(self, x=0.0, y=0.0):\n",
    "      self.x = x\n",
    "      self.y = y\n",
    "      \n",
    "    def distance_to_origin(self):\n",
    "      \"\"\"Calculate distance from the point to the origin (0,0)\"\"\"\n",
    "      return np.sqrt(self.x ** 2 + self.y ** 2)\n",
    "    \n",
    "    def reflect(self, axis):\n",
    "      \"\"\"Reflect the point with respect to x or y axis.\"\"\"\n",
    "      if axis == \"x\":\n",
    "        self.y = - self.y\n",
    "      elif axis == \"y\":\n",
    "        self.x = - self.x\n",
    "      else:\n",
    "        print(\"Error: Invalid axis value\")"
   ]
  },
  {
   "cell_type": "markdown",
   "id": "30ed0231",
   "metadata": {},
   "source": [
    "### Instance and class data"
   ]
  },
  {
   "cell_type": "markdown",
   "id": "73228687",
   "metadata": {},
   "source": [
    "#### Core principles of OOP\n",
    "- **Inheritance:**\n",
    "    - Extending functionality of existing code\n",
    "- **Polymorphism:**\n",
    "    - Creating a unified interface\n",
    "- **Encapsulation:**\n",
    "    - Bundling of data and methods\n",
    "    \n",
    "    \n",
    "#### Instance-level data"
   ]
  },
  {
   "cell_type": "code",
   "execution_count": 33,
   "id": "8aa77447",
   "metadata": {},
   "outputs": [],
   "source": [
    "class Employee:\n",
    "    def __init__(self, name, salary):\n",
    "        self.name = name\n",
    "        self.salary = salary\n",
    "        \n",
    "emp1 = Employee(\"Teo Mille\", 50000)\n",
    "emp2 = Employee(\"Marta Popov\", 65000)"
   ]
  },
  {
   "cell_type": "markdown",
   "id": "5213e546",
   "metadata": {},
   "source": [
    "- `name`, `salary` are **instance attributes**\n",
    "- `self` binds to an **instance**"
   ]
  },
  {
   "cell_type": "markdown",
   "id": "b2d109e8",
   "metadata": {},
   "source": [
    "#### Class-level data\n",
    "- Data shared among all instances of a class\n",
    "- For example, if you wanted to introduce a minimal salary across the entire organization\n",
    "- This data should not differ among object instances"
   ]
  },
  {
   "cell_type": "code",
   "execution_count": 35,
   "id": "1b48bfd0",
   "metadata": {},
   "outputs": [],
   "source": [
    "class MyClass:\n",
    "    # Define a class attribute\n",
    "    # CLASS_ATTR_NAME = attr_value\n",
    "    MIN_SALARY = 30000"
   ]
  },
  {
   "cell_type": "markdown",
   "id": "bf206924",
   "metadata": {},
   "source": [
    "- **\"Global variable\"** within the class"
   ]
  },
  {
   "cell_type": "code",
   "execution_count": 38,
   "id": "b78a2dad",
   "metadata": {},
   "outputs": [],
   "source": [
    "class Employee:\n",
    "    MIN_SALARY = 30000\n",
    "    def __init__(self, name, salary):\n",
    "        self.name = name\n",
    "        if salary >= Employee.MIN_SALARY:\n",
    "            self.salary = salary\n",
    "        else:\n",
    "            self.salary = Employee.MIN_SALARY"
   ]
  },
  {
   "cell_type": "code",
   "execution_count": 39,
   "id": "fe7695fa",
   "metadata": {},
   "outputs": [
    {
     "name": "stdout",
     "output_type": "stream",
     "text": [
      "30000\n"
     ]
    }
   ],
   "source": [
    "emp1 = Employee(\"TBG\", 40000)\n",
    "print(emp1.MIN_SALARY)"
   ]
  },
  {
   "cell_type": "code",
   "execution_count": 40,
   "id": "bb77c63a",
   "metadata": {},
   "outputs": [
    {
     "name": "stdout",
     "output_type": "stream",
     "text": [
      "30000\n"
     ]
    }
   ],
   "source": [
    "emp2 = Employee(\"TBD\", 60000)\n",
    "print(emp2.MIN_SALARY)"
   ]
  },
  {
   "cell_type": "markdown",
   "id": "76a6b84f",
   "metadata": {},
   "source": [
    "* **Note** that we do **not** use `self` to define a **class attribute**\n",
    "* **Use `ClassName.ATTR_NAME` to *access* the class atribute (rather than the `self.` syntax)**\n",
    "\n",
    "#### Why use class attributes? Global constants related to the class\n",
    "- minimal/maximal values for attributes\n",
    "- commonly used values and constants, e.g. `pi` for a `Circle` class\n",
    "\n",
    "### Class methods\n",
    "- Regular methods are already \"shared\" between instances: same code for every instance\n",
    "- Class-level methods have a narrow application scope\n",
    "- Class-level methods can't use **any** instance-level data\n",
    "- **To create a class method, you must start with the `@classmethod` decorator, followed by a method definition**"
   ]
  },
  {
   "cell_type": "code",
   "execution_count": 43,
   "id": "dc5470fe",
   "metadata": {},
   "outputs": [
    {
     "data": {
      "text/plain": [
       "\"\\nclass MyClass:\\n    \\n    @classmethod                        # <--- use decorator to declare class method\\n    def my_awesome_method(cls, args):   # <--- cls argument refers to the class\\n        # Do stuff here\\n        # Can't use any instance attributes \\n        \\nMyClass.my_awesome_method(args...)\\n\""
      ]
     },
     "execution_count": 43,
     "metadata": {},
     "output_type": "execute_result"
    }
   ],
   "source": [
    "\"\"\"\n",
    "class MyClass:\n",
    "    \n",
    "    @classmethod                        # <--- use decorator to declare class method\n",
    "    def my_awesome_method(cls, args):   # <--- cls argument refers to the class\n",
    "        # Do stuff here\n",
    "        # Can't use any instance attributes \n",
    "        \n",
    "MyClass.my_awesome_method(args...)\n",
    "\"\"\""
   ]
  },
  {
   "cell_type": "markdown",
   "id": "9816b38b",
   "metadata": {},
   "source": [
    "#### Alternative constructors\n",
    "- The main use case for class methods is **alternative constructors**\n",
    "- A class can only have one `__init__()` method but there may be multiple ways to initialize an object\n",
    "- For example: \n",
    "    - If we wanted to create an `Employee` object from data stored in a file\n",
    "    - We can't use a method because that would require an instance (and there isn't one yet\n",
    "    - Instead here, we can introduce a class method `from_file` that accepts a filename, reads the first line from the file (that presumably contains the name of the employee) and returns an object instance\n",
    "    * Use `return` to return an object\n",
    "        - In the return statement, use the cls variable\n",
    "        - This line (`return cls(name)`) will call the `__init__()` constructor"
   ]
  },
  {
   "cell_type": "code",
   "execution_count": 44,
   "id": "879f4dd8",
   "metadata": {},
   "outputs": [],
   "source": [
    "class Employee:\n",
    "    MIN_SALARY = 30000\n",
    "    def __init__(self, name, salary = 30000):\n",
    "        self.name = name\n",
    "        if salary >= Employee.MIN_SALARY:\n",
    "            self.salary = salary\n",
    "        else:\n",
    "            self.salary = Employee.MIN_SALARY\n",
    "    @classmethod\n",
    "    def from_file(cls, filename):\n",
    "        with open(filename, \"r\") as f:\n",
    "            name = f.readline()\n",
    "        return cls(name)"
   ]
  },
  {
   "cell_type": "markdown",
   "id": "e39d79d3",
   "metadata": {},
   "source": [
    "<img src='data/oop62.png' width=\"400\" height=\"200\" align=\"center\"/>"
   ]
  },
  {
   "cell_type": "code",
   "execution_count": 45,
   "id": "119e5e80",
   "metadata": {},
   "outputs": [
    {
     "name": "stdout",
     "output_type": "stream",
     "text": [
      "10\n",
      "10\n"
     ]
    }
   ],
   "source": [
    "# Create a Player class\n",
    "class Player:\n",
    "    MAX_POSITION = 10\n",
    "\n",
    "    def __init__(self, position=0):\n",
    "        self.position = position\n",
    "# Print Player.MAX_POSITION       \n",
    "print(Player.MAX_POSITION)\n",
    "\n",
    "# Create a player p and print its MAX_POSITITON\n",
    "p = Player()\n",
    "print(p.MAX_POSITION)"
   ]
  },
  {
   "cell_type": "code",
   "execution_count": 50,
   "id": "f794967f",
   "metadata": {},
   "outputs": [
    {
     "name": "stdout",
     "output_type": "stream",
     "text": [
      "|----------\n",
      "----|------\n",
      "---------|-\n",
      "----------|\n"
     ]
    }
   ],
   "source": [
    "class Player:\n",
    "    MAX_POSITION = 10\n",
    "    MAX_SPEED=3\n",
    "    \n",
    "    def __init__(self):\n",
    "        self.position = 0\n",
    "\n",
    "    # Add a move() method with steps parameter\n",
    "    def move(self, steps):\n",
    "        if (self.position + steps) < Player.MAX_POSITION:\n",
    "            self.position += steps\n",
    "        else: \n",
    "            self.position = Player.MAX_POSITION\n",
    "         \n",
    "    # This method provides a rudimentary visualization in the console    \n",
    "    def draw(self):\n",
    "        drawing = \"-\" * self.position + \"|\" +\"-\"*(Player.MAX_POSITION - self.position)\n",
    "        print(drawing)\n",
    "\n",
    "p = Player(); p.draw()\n",
    "p.move(4); p.draw()\n",
    "p.move(5); p.draw()\n",
    "p.move(3); p.draw()"
   ]
  },
  {
   "cell_type": "markdown",
   "id": "553817ae",
   "metadata": {},
   "source": [
    "#### Changing class attributes\n",
    "You learned how to define class attributes and how to access them from class instances. So what will happen if you try to assign another value to a class attribute when accessing it from an instance? The answer is not as simple as you might think!\n",
    "\n",
    "The `Player` class from the previous exercise is pre-defined. Recall that it has a `position` instance attribute, and `MAX_SPEED` and `MAX_POSITION` class attributes. The initial value of `MAX_SPEED` is 3."
   ]
  },
  {
   "cell_type": "code",
   "execution_count": 52,
   "id": "434e38bd",
   "metadata": {},
   "outputs": [
    {
     "name": "stdout",
     "output_type": "stream",
     "text": [
      "MAX_SPEED of p1 and p2 before assignment:\n",
      "3\n",
      "3\n",
      "MAX_SPEED of p1 and p2 after assignment:\n",
      "7\n",
      "3\n",
      "MAX_SPEED of Player:\n",
      "3\n"
     ]
    }
   ],
   "source": [
    "# Create Players p1 and p2\n",
    "p1, p2 = Player(), Player()\n",
    "\n",
    "print(\"MAX_SPEED of p1 and p2 before assignment:\")\n",
    "# Print p1.MAX_SPEED and p2.MAX_SPEED\n",
    "print(p1.MAX_SPEED)\n",
    "print(p2.MAX_SPEED)\n",
    "\n",
    "# Assign 7 to p1.MAX_SPEED\n",
    "p1.MAX_SPEED = 7\n",
    "\n",
    "print(\"MAX_SPEED of p1 and p2 after assignment:\")\n",
    "# Print p1.MAX_SPEED and p2.MAX_SPEED\n",
    "print(p1.MAX_SPEED)\n",
    "print(p2.MAX_SPEED)\n",
    "\n",
    "print(\"MAX_SPEED of Player:\")\n",
    "# Print Player.MAX_SPEED\n",
    "print(Player.MAX_SPEED)"
   ]
  },
  {
   "cell_type": "markdown",
   "id": "76f79695",
   "metadata": {},
   "source": [
    "Even though `MAX_SPEED` is shared across instances, assigning `7` to `p1.MAX_SPEED` didn't change the value of `MAX_SPEED` in `p2`, or in the `Player` class.\n",
    "\n",
    "So what happened? In fact, Python created a new *instance attribute* in `p1`, also called it `MAX_SPEED`, and assigned `7` to it, without touching the class attribute.\n",
    "\n",
    "Now let's change the class attribute value for real.\n",
    "\n"
   ]
  },
  {
   "cell_type": "code",
   "execution_count": 53,
   "id": "36204461",
   "metadata": {},
   "outputs": [],
   "source": [
    "Player.MAX_SPEED = 7"
   ]
  },
  {
   "cell_type": "code",
   "execution_count": 54,
   "id": "08b69188",
   "metadata": {},
   "outputs": [
    {
     "name": "stdout",
     "output_type": "stream",
     "text": [
      "2020\n",
      "4\n",
      "30\n"
     ]
    }
   ],
   "source": [
    "class BetterDate:\n",
    "    # Constructor\n",
    "    def __init__(self, year, month, day):\n",
    "      # Recall that Python allows multiple variable assignments in one line\n",
    "      self.year, self.month, self.day = year, month, day\n",
    "    \n",
    "    # Define a class method from_str\n",
    "    @classmethod\n",
    "    def from_str(cls, datestr):\n",
    "         # Split the string at \"-\" and  convert each part to integer\n",
    "        parts = datestr.split(\"-\")\n",
    "        year, month, day = int(parts[0]), int(parts[1]), int(parts[2])\n",
    "        # Return the class instance\n",
    "        return cls(year, month, day)\n",
    "        \n",
    "bd = BetterDate.from_str('2020-04-30')   \n",
    "print(bd.year)\n",
    "print(bd.month)\n",
    "print(bd.day)"
   ]
  },
  {
   "cell_type": "code",
   "execution_count": 55,
   "id": "78803fb2",
   "metadata": {},
   "outputs": [
    {
     "name": "stdout",
     "output_type": "stream",
     "text": [
      "2022\n",
      "10\n",
      "30\n"
     ]
    }
   ],
   "source": [
    "# import datetime from datetime\n",
    "from datetime import datetime\n",
    "\n",
    "class BetterDate:\n",
    "    def __init__(self, year, month, day):\n",
    "      self.year, self.month, self.day = year, month, day\n",
    "      \n",
    "    @classmethod\n",
    "    def from_str(cls, datestr):\n",
    "        year, month, day = map(int, datestr.split(\"-\"))\n",
    "        return cls(year, month, day)\n",
    "      \n",
    "    # Define a class method from_datetime accepting a datetime object\n",
    "    @classmethod\n",
    "    def from_datetime(cls, dateobj):\n",
    "      year, month, day = dateobj.year, dateobj.month, dateobj.day\n",
    "      return cls(year, month, day) \n",
    "\n",
    "\n",
    "# You should be able to run the code below with no errors: \n",
    "today = datetime.today()     \n",
    "bd = BetterDate.from_datetime(today)   \n",
    "print(bd.year)\n",
    "print(bd.month)\n",
    "print(bd.day)"
   ]
  },
  {
   "cell_type": "markdown",
   "id": "47641e2b",
   "metadata": {},
   "source": [
    "### Class inheritance\n",
    "**New class functionality = Old class functionality + extra**"
   ]
  },
  {
   "cell_type": "code",
   "execution_count": null,
   "id": "4c1927a1",
   "metadata": {},
   "outputs": [],
   "source": [
    "\"\"\"\n",
    "class myChild(myParent):\n",
    "    # Do stuff here\n",
    "\"\"\""
   ]
  },
  {
   "cell_type": "markdown",
   "id": "47f555cf",
   "metadata": {},
   "source": [
    "- **`myParent`**: class whose functinality is being extended/inherited\n",
    "- **`myChild`**: class that will inherit the functionality and add more"
   ]
  },
  {
   "cell_type": "code",
   "execution_count": 1,
   "id": "bd58a67c",
   "metadata": {},
   "outputs": [],
   "source": [
    "class BankAccount:\n",
    "    def __init__(self, balance):\n",
    "        self.balance = balance\n",
    "    def withdraw(self, amount):\n",
    "        self.balance -= amount\n",
    "        \n",
    "# Empty class inherited from BankAccount\n",
    "class SavingsAccount(BankAccount):\n",
    "    pass"
   ]
  },
  {
   "cell_type": "markdown",
   "id": "4ad76535",
   "metadata": {},
   "source": [
    "- child class has all of the parent data\n",
    "\n",
    "#### Inheritance: \"is a\" relationship\n",
    "- A `SavingsAccount` is a `BankAccount` (possibly with special features)"
   ]
  },
  {
   "cell_type": "code",
   "execution_count": 92,
   "id": "6f0ac8b1",
   "metadata": {},
   "outputs": [
    {
     "data": {
      "text/plain": [
       "True"
      ]
     },
     "execution_count": 92,
     "metadata": {},
     "output_type": "execute_result"
    }
   ],
   "source": [
    "savings_acct = SavingsAccount(1000)\n",
    "isinstance(savings_acct, SavingsAccount)"
   ]
  },
  {
   "cell_type": "code",
   "execution_count": 93,
   "id": "53bc2236",
   "metadata": {},
   "outputs": [
    {
     "data": {
      "text/plain": [
       "True"
      ]
     },
     "execution_count": 93,
     "metadata": {},
     "output_type": "execute_result"
    }
   ],
   "source": [
    "isinstance(savings_acct, BankAccount)"
   ]
  },
  {
   "cell_type": "code",
   "execution_count": 94,
   "id": "1fe03c82",
   "metadata": {},
   "outputs": [
    {
     "name": "stdout",
     "output_type": "stream",
     "text": [
      "Debbie Lashko\n",
      "Manager Debbie Lashko\n"
     ]
    }
   ],
   "source": [
    "class Employee:\n",
    "  MIN_SALARY = 30000    \n",
    "\n",
    "  def __init__(self, name, salary=MIN_SALARY):\n",
    "      self.name = name\n",
    "      if salary >= Employee.MIN_SALARY:\n",
    "        self.salary = salary\n",
    "      else:\n",
    "        self.salary = Employee.MIN_SALARY\n",
    "  def give_raise(self, amount):\n",
    "    self.salary += amount      \n",
    "        \n",
    "# MODIFY Manager class and add a display method\n",
    "class Manager(Employee):\n",
    "  def display(self):\n",
    "    print(\"Manager \"+ self.name)\n",
    "\n",
    "mng = Manager(\"Debbie Lashko\", 86500)\n",
    "print(mng.name)\n",
    "\n",
    "# Call mng.display()\n",
    "mng.display()"
   ]
  },
  {
   "cell_type": "markdown",
   "id": "2105e63e",
   "metadata": {},
   "source": [
    "### Customizing constructors\n",
    "- **Can run constructor of parent class first by `Parent.__init__(self, args...)`**\n",
    "- Remember that in Python, instances of the subclass are also instances of the parent class.\n",
    "- You **aren't** required to call the parent constructors"
   ]
  },
  {
   "cell_type": "code",
   "execution_count": 96,
   "id": "1ef20294",
   "metadata": {},
   "outputs": [],
   "source": [
    "class SavingsAccount(BankAccount):\n",
    "    #Costructor specifically for SavingsAccount with an additional parameter:\n",
    "    def __init__(self, balance, interest_rate):\n",
    "        # Call the parent constructor using ClassName.__init__()\n",
    "        BankAccount.__init__(self, balance) # <--- self is a SavingsAccount but also a BankAccount\n",
    "        # Add more functionality\n",
    "        self.interest_rate = interest_rate"
   ]
  },
  {
   "cell_type": "code",
   "execution_count": 97,
   "id": "b1a5e2ae",
   "metadata": {},
   "outputs": [
    {
     "data": {
      "text/plain": [
       "0.03"
      ]
     },
     "execution_count": 97,
     "metadata": {},
     "output_type": "execute_result"
    }
   ],
   "source": [
    "acct = SavingsAccount(1000, 0.03)\n",
    "acct.interest_rate"
   ]
  },
  {
   "cell_type": "markdown",
   "id": "6d51fa55",
   "metadata": {},
   "source": [
    "#### Adding functionality\n",
    "- Add methods as usual\n",
    "- Can use the data from both the parent and child class"
   ]
  },
  {
   "cell_type": "code",
   "execution_count": 99,
   "id": "a7b393d2",
   "metadata": {},
   "outputs": [],
   "source": [
    "class SavingsAccount(BankAccount):\n",
    "    #Costructor specifically for SavingsAccount with an additional parameter:\n",
    "    def __init__(self, balance, interest_rate):\n",
    "        # Call the parent constructor using ClassName.__init__()\n",
    "        BankAccount.__init__(self, balance) # <--- self is a SavingsAccount but also a BankAccount\n",
    "        # Add more functionality\n",
    "        self.interest_rate = interest_rate\n",
    "        \n",
    "    # new functionality\n",
    "    def compute_interest(self, n_periods=1):\n",
    "        return self.balance*((1+self.interest_rate)**n_periods-1)"
   ]
  },
  {
   "cell_type": "markdown",
   "id": "a1c5a637",
   "metadata": {},
   "source": [
    "#### Customizing functionality\n",
    "- Below, the `withdraw` method runs almost the same code as the `BankAccount.withdraw()` method, without reimplementing it, just augmenting it. \n",
    "- Notice that we can change the signature of the method in the subclass by adding a parameter\n",
    "- Just like in the constructor, again, we call the parent version of the method directly by using `parentClass.` syntax and passing `self`"
   ]
  },
  {
   "cell_type": "code",
   "execution_count": 3,
   "id": "4bf21c03",
   "metadata": {},
   "outputs": [],
   "source": [
    "class CheckingAccount(BankAccount):\n",
    "    #Costructor specifically for SavingsAccount with an additional parameter:\n",
    "    def __init__(self, balance, limit):\n",
    "        # Call the parent constructor using ClassName.__init__()\n",
    "        BankAccount.__init__(self, content) \n",
    "        self.content = content\n",
    "    def deposit(self, amount):\n",
    "        self.balance += amount\n",
    "    def withdraw(self, amount, fee=0):\n",
    "        if fee <= self.limit:\n",
    "            BankAccount.withdraw(self, amount-fee)\n",
    "        else:\n",
    "            BankAccount.withdraw(self, amount-self.limit)"
   ]
  },
  {
   "cell_type": "code",
   "execution_count": 1,
   "id": "18bfb697",
   "metadata": {},
   "outputs": [],
   "source": [
    "#check_acct = CheckingAccount(1000, 25)\n",
    "#check_acct.withdraw(200)"
   ]
  },
  {
   "cell_type": "code",
   "execution_count": 3,
   "id": "1b985428",
   "metadata": {},
   "outputs": [
    {
     "name": "stdout",
     "output_type": "stream",
     "text": [
      "79550.0\n",
      "81610.0\n"
     ]
    }
   ],
   "source": [
    "class Employee:\n",
    "    def __init__(self, name, salary=30000):\n",
    "        self.name = name\n",
    "        self.salary = salary\n",
    "\n",
    "    def give_raise(self, amount):\n",
    "        self.salary += amount\n",
    "\n",
    "        \n",
    "class Manager(Employee):\n",
    "    def display(self):\n",
    "        print(\"Manager \", self.name)\n",
    "\n",
    "    def __init__(self, name, salary=50000, project=None):\n",
    "        Employee.__init__(self, name, salary)\n",
    "        self.project = project\n",
    "\n",
    "    # Add a give_raise method\n",
    "    def give_raise(self, amount, bonus= 1.05):\n",
    "        self.bonus = bonus\n",
    "        Employee.give_raise(self, amount=amount*bonus)\n",
    "\n",
    "    \n",
    "    \n",
    "mngr = Manager(\"Ashta Dunbar\", 78500)\n",
    "mngr.give_raise(1000)\n",
    "print(mngr.salary)\n",
    "mngr.give_raise(2000, bonus=1.03)\n",
    "print(mngr.salary)"
   ]
  },
  {
   "cell_type": "code",
   "execution_count": null,
   "id": "58508639",
   "metadata": {},
   "outputs": [],
   "source": [
    "class Racer(Player):\n",
    "    MAX_SPEED = 5\n",
    "    \n",
    "p = Player()\n",
    "r = Racer()\n",
    "\n",
    "print(\"p.MAX_SPEED = \", p.MAX_SPEED)\n",
    "print(\"r.MAX_SPEED = \", r.MAX_SPEED)\n",
    "\n",
    "print(\"p.MAX_POSITION = \", p.MAX_POSITION)\n",
    "print(\"r.MAX_POSITION = \", r.MAX_POSITION)"
   ]
  },
  {
   "cell_type": "code",
   "execution_count": 6,
   "id": "59db36c7",
   "metadata": {},
   "outputs": [
    {
     "name": "stdout",
     "output_type": "stream",
     "text": [
      "[[1 3]\n",
      " [2 4]]\n",
      "2022-10-31 18:16:45.269337\n"
     ]
    }
   ],
   "source": [
    "# Import pandas as pd\n",
    "import pandas as pd\n",
    "from datetime import datetime\n",
    "# Define LoggedDF inherited from pd.DataFrame and add the constructor\n",
    "class LoggedDF(pd.DataFrame):\n",
    "  \n",
    "  def __init__(self, *args, **kwargs):\n",
    "    pd.DataFrame.__init__(self, *args, **kwargs)\n",
    "    self.created_at = datetime.today()\n",
    "    \n",
    "    \n",
    "ldf = LoggedDF({\"col1\": [1,2], \"col2\": [3,4]})\n",
    "print(ldf.values)\n",
    "print(ldf.created_at)"
   ]
  },
  {
   "cell_type": "code",
   "execution_count": 7,
   "id": "13d43ec3",
   "metadata": {},
   "outputs": [],
   "source": [
    "import pandas as pd\n",
    "from datetime import datetime\n",
    "\n",
    "# Define LoggedDF inherited from pd.DataFrame and add the constructor\n",
    "class LoggedDF(pd.DataFrame):\n",
    "  \n",
    "  def __init__(self, *args, **kwargs):\n",
    "    pd.DataFrame.__init__(self, *args, **kwargs)\n",
    "    self.created_at = datetime.today()\n",
    "    \n",
    "  def to_csv(self, *args, **kwargs):\n",
    "    # Copy self to a temporary DataFrame\n",
    "    temp = self.copy()\n",
    "    \n",
    "    # Create a new column filled with self.created_at\n",
    "    temp[\"created_at\"] = self.created_at\n",
    "    \n",
    "    # Call pd.DataFrame.to_csv on temp, passing in *args and **kwargs\n",
    "    pd.DataFrame.to_csv(temp, *args, **kwargs)"
   ]
  },
  {
   "cell_type": "markdown",
   "id": "30fac477",
   "metadata": {},
   "source": [
    "# 3. Integrating with Standard Python\n",
    "In this chapter, you'll learn:\n",
    "- How to make sure that objects that store the same data are considered equal\n",
    "- How to define and customize string representations of objects\n",
    "- How to create new error types \n",
    "\n",
    "Through interactive exercises, you’ll learn how to further customize your classes to make them work more like standard Python data types.\n",
    "\n",
    "### Object equality\n",
    "- The reason why Python doesn't consider two objects with the same data equal by default has to do with how the objects and the variables representing them are stored.\n",
    "- Behind the scenes, when an object is created Python allocates a chunk of memory to that object and the variable that that object is assigned to actually contains just a reference to that memory chunk"
   ]
  },
  {
   "cell_type": "code",
   "execution_count": 9,
   "id": "436472b3",
   "metadata": {},
   "outputs": [],
   "source": [
    "class Customer:\n",
    "    def __init__(self, name, balance, id):\n",
    "        self.name, self.balance = name, balance\n",
    "        self.id = id"
   ]
  },
  {
   "cell_type": "code",
   "execution_count": 10,
   "id": "9e9a8578",
   "metadata": {},
   "outputs": [],
   "source": [
    "customer1= Customer(\"Maryam Azar\", 3000, 123)\n",
    "customer2= Customer(\"Maryam Azar\", 3000, 123)"
   ]
  },
  {
   "cell_type": "code",
   "execution_count": 11,
   "id": "2b88a606",
   "metadata": {},
   "outputs": [
    {
     "data": {
      "text/plain": [
       "False"
      ]
     },
     "execution_count": 11,
     "metadata": {},
     "output_type": "execute_result"
    }
   ],
   "source": [
    "customer1 == customer2"
   ]
  },
  {
   "cell_type": "code",
   "execution_count": 12,
   "id": "32f1ab59",
   "metadata": {},
   "outputs": [
    {
     "name": "stdout",
     "output_type": "stream",
     "text": [
      "<__main__.Customer object at 0x7fa6083babb0>\n"
     ]
    }
   ],
   "source": [
    "print(customer1)"
   ]
  },
  {
   "cell_type": "code",
   "execution_count": 13,
   "id": "67d5b433",
   "metadata": {},
   "outputs": [
    {
     "name": "stdout",
     "output_type": "stream",
     "text": [
      "<__main__.Customer object at 0x7fa6083babe0>\n"
     ]
    }
   ],
   "source": [
    "print(customer2)"
   ]
  },
  {
   "cell_type": "markdown",
   "id": "78fe7dff",
   "metadata": {},
   "source": [
    "- **When we compare the variables `customer1` and `customer2`, we are actually comparing references (to memory chunks), not the data.**\n",
    "- Because `customer1` and `customer2` point to different chunks in memory, they're not considered equal\n",
    "- But it doesn't have to be that way; you may have noticed that **numpy arrays, for example, are compraed using their data:**"
   ]
  },
  {
   "cell_type": "code",
   "execution_count": 15,
   "id": "3afc9bca",
   "metadata": {},
   "outputs": [
    {
     "data": {
      "text/plain": [
       "array([ True,  True,  True])"
      ]
     },
     "execution_count": 15,
     "metadata": {},
     "output_type": "execute_result"
    }
   ],
   "source": [
    "import numpy as np\n",
    "\n",
    "# Two different arrays containing the same data\n",
    "array1 = np.array([1,2,3])\n",
    "array2 = np.array([1,2,3])\n",
    "\n",
    "array1 == array2"
   ]
  },
  {
   "cell_type": "markdown",
   "id": "ad52e9f3",
   "metadata": {},
   "source": [
    "### Overloading __eq__()\n",
    "\n",
    "- So, how can we enforce this for our custom classes?\n",
    "- We can define a special method for this\n",
    "-- **`__eq__()` is implicitly called whenever 2 objects of a class are compared using `==`**\n",
    "- **We can redefine this method to execute comparison code:**\n",
    "    - **The method should accept two arguments-- usually called `self` and `other` by convention-- referring to the objects to be compared**\n",
    "    - It should always return a boolean value"
   ]
  },
  {
   "cell_type": "code",
   "execution_count": 16,
   "id": "f3eff0bf",
   "metadata": {},
   "outputs": [],
   "source": [
    "class Customer:\n",
    "    def __init__(self, id, name):\n",
    "        self.id, self.name = id, name\n",
    "    # Will be called when == is used\n",
    "    def __eq__(self, other):\n",
    "        # Diagnostic printout\n",
    "        print(\"__eq__() is called\")\n",
    "        \n",
    "        # Returns True is all attributes match\n",
    "        return (self.id==other.id) and (self.name == other.name)"
   ]
  },
  {
   "cell_type": "code",
   "execution_count": 17,
   "id": "2d32d8bf",
   "metadata": {},
   "outputs": [
    {
     "name": "stdout",
     "output_type": "stream",
     "text": [
      "__eq__() is called\n"
     ]
    },
    {
     "data": {
      "text/plain": [
       "True"
      ]
     },
     "execution_count": 17,
     "metadata": {},
     "output_type": "execute_result"
    }
   ],
   "source": [
    "# Two equal objects \n",
    "\n",
    "customer1 = Customer(123, \"Maryam Azar\")\n",
    "customer2 = Customer(123, \"Maryam Azar\")\n",
    "\n",
    "customer1 == customer2"
   ]
  },
  {
   "cell_type": "code",
   "execution_count": 18,
   "id": "c208cc37",
   "metadata": {},
   "outputs": [
    {
     "name": "stdout",
     "output_type": "stream",
     "text": [
      "__eq__() is called\n"
     ]
    },
    {
     "data": {
      "text/plain": [
       "False"
      ]
     },
     "execution_count": 18,
     "metadata": {},
     "output_type": "execute_result"
    }
   ],
   "source": [
    "# Two unequal objects \n",
    "\n",
    "customer3 = Customer(123, \"Maryam Azar\")\n",
    "customer4 = Customer(456, \"Maryam Azar\")\n",
    "\n",
    "customer3 == customer4"
   ]
  },
  {
   "cell_type": "markdown",
   "id": "ea666200",
   "metadata": {},
   "source": [
    "#### Python allows you to implement all the comparison operators in your custom class\n",
    "\n",
    "- **When you use a \"not equal\" operator-- that is, `!=`, Python will automatically attempt to use the equality method, if it exists, and then negate the result.**\n",
    "- But **if you'd like to have a custom \"not equals\" method, you could implement `__ne__()`**\n",
    "\n",
    "<img src='data/63.png' width=\"400\" height=\"200\" align=\"center\"/>\n",
    "\n",
    "- There is a **hash method `__hash__()`** to use objects as dictionary keys and in sets\n",
    "    - This is beyond the scope of this course, but briefly, it should assign an integer to an object, such that equal objects have equal hashes, and the object hash does not change through the object's lifetime.\n",
    "    \n",
    "When comparing two objects of a custom class using `==`, Python by default compares just the object references, not the data contained in the objects. To override this behavior, the class can implement the special `__eq__()` method, which accepts two arguments -- the objects to be compared -- and returns `True` or `False`. This method will be implicitly called when two objects are compared."
   ]
  },
  {
   "cell_type": "code",
   "execution_count": 19,
   "id": "b039d56e",
   "metadata": {},
   "outputs": [
    {
     "name": "stdout",
     "output_type": "stream",
     "text": [
      "True\n",
      "False\n"
     ]
    }
   ],
   "source": [
    "class BankAccount:\n",
    "   # MODIFY to initialize a number attribute\n",
    "    def __init__(self, number, balance=0):\n",
    "        self.balance = balance\n",
    "        self.number = number\n",
    "      \n",
    "    def withdraw(self, amount):\n",
    "        self.balance -= amount \n",
    "    \n",
    "    # Define __eq__ that returns True if the number attributes are equal \n",
    "    def __eq__(self, other):\n",
    "        return self.number == other.number   \n",
    "\n",
    "# Create accounts and compare them       \n",
    "acct1 = BankAccount(123, 1000)\n",
    "acct2 = BankAccount(123, 1000)\n",
    "acct3 = BankAccount(456, 1000)\n",
    "print(acct1 == acct2)\n",
    "print(acct1 == acct3)"
   ]
  },
  {
   "cell_type": "markdown",
   "id": "39ba87fb",
   "metadata": {},
   "source": [
    "#### Checking class equality\n",
    "\n",
    "In the previous exercise, you defined a `BankAccount` class with a `number` attribute that was used for comparison. But if you were to compare a `BankAccount` object to an object of another class that also has a `number` attribute, you could end up with unexpected results.\n",
    "\n",
    "For example, consider two classes:"
   ]
  },
  {
   "cell_type": "code",
   "execution_count": 20,
   "id": "b8d58f2e",
   "metadata": {},
   "outputs": [],
   "source": [
    "class Phone:\n",
    "    def __init__(self, number):\n",
    "        self.number = number\n",
    "\n",
    "    def __eq__(self, other):\n",
    "        return self.number == other.number\n",
    "\n",
    "pn = Phone(873555333)"
   ]
  },
  {
   "cell_type": "code",
   "execution_count": 22,
   "id": "8565ca07",
   "metadata": {},
   "outputs": [],
   "source": [
    "class BankAccount:\n",
    "    def __init__(self, number):\n",
    "        self.number = number\n",
    "\n",
    "    def __eq__(self, other):\n",
    "        return self.number == other.number\n",
    "\n",
    "acct = BankAccount(873555333)"
   ]
  },
  {
   "cell_type": "markdown",
   "id": "ddf45257",
   "metadata": {},
   "source": [
    "Running `acct == pn` will return `True`, even though we're comparing a phone number with a bank account number.\n",
    "\n",
    "**$\\star$ $\\Rightarrow$ It is good practice to check the class of objects passed to the `__eq__()` method to make sure the comparison makes sense.$\\Leftarrow$ $\\star$**"
   ]
  },
  {
   "cell_type": "code",
   "execution_count": 23,
   "id": "59981253",
   "metadata": {},
   "outputs": [
    {
     "name": "stdout",
     "output_type": "stream",
     "text": [
      "True\n"
     ]
    }
   ],
   "source": [
    "print(acct == pn)"
   ]
  },
  {
   "cell_type": "markdown",
   "id": "c0ee0392",
   "metadata": {},
   "source": [
    "Modify the definition of `BankAccount` to only return `True` if the number attribute is the same and the `type()` of both objects passed to it is the same."
   ]
  },
  {
   "cell_type": "code",
   "execution_count": 24,
   "id": "c3963630",
   "metadata": {},
   "outputs": [
    {
     "name": "stdout",
     "output_type": "stream",
     "text": [
      "False\n"
     ]
    }
   ],
   "source": [
    "class BankAccount:\n",
    "    def __init__(self, number, balance=0):\n",
    "        self.number, self.balance = number, balance\n",
    "      \n",
    "    def withdraw(self, amount):\n",
    "        self.balance -= amount \n",
    "\n",
    "    # MODIFY to add a check for the type()\n",
    "    def __eq__(self, other):\n",
    "        return (self.number == other.number) and type(self) == type(other)\n",
    "\n",
    "acct = BankAccount(873555333)\n",
    "pn = Phone(873555333)\n",
    "print(acct == pn)"
   ]
  },
  {
   "cell_type": "markdown",
   "id": "257117b8",
   "metadata": {},
   "source": [
    "#### Comparison and inheritance\n",
    "What happens when an object is compared to an object of a child class? Consider the following two classes:"
   ]
  },
  {
   "cell_type": "code",
   "execution_count": 25,
   "id": "804c4f67",
   "metadata": {},
   "outputs": [],
   "source": [
    "class Parent:\n",
    "    def __eq__(self, other):\n",
    "        print(\"Parent's __eq__() called\")\n",
    "        return True\n",
    "\n",
    "class Child(Parent):\n",
    "    def __eq__(self, other):\n",
    "        print(\"Child's __eq__() called\")\n",
    "        return True"
   ]
  },
  {
   "cell_type": "markdown",
   "id": "6ddc77e7",
   "metadata": {},
   "source": [
    "The `Child` class inherits from the `Parent` class, and both implement the `__eq__()` method that includes a diagnostic printout."
   ]
  },
  {
   "cell_type": "code",
   "execution_count": 28,
   "id": "9dfd273a",
   "metadata": {},
   "outputs": [],
   "source": [
    "c=Child()\n",
    "p=Parent()"
   ]
  },
  {
   "cell_type": "code",
   "execution_count": 29,
   "id": "e3ba2791",
   "metadata": {},
   "outputs": [
    {
     "name": "stdout",
     "output_type": "stream",
     "text": [
      "Child's __eq__() called\n"
     ]
    },
    {
     "data": {
      "text/plain": [
       "True"
      ]
     },
     "execution_count": 29,
     "metadata": {},
     "output_type": "execute_result"
    }
   ],
   "source": [
    "c==p"
   ]
  },
  {
   "cell_type": "code",
   "execution_count": 30,
   "id": "11ae74cb",
   "metadata": {},
   "outputs": [
    {
     "name": "stdout",
     "output_type": "stream",
     "text": [
      "Child's __eq__() called\n"
     ]
    },
    {
     "data": {
      "text/plain": [
       "True"
      ]
     },
     "execution_count": 30,
     "metadata": {},
     "output_type": "execute_result"
    }
   ],
   "source": [
    "p==c"
   ]
  },
  {
   "cell_type": "markdown",
   "id": "101781d5",
   "metadata": {},
   "source": [
    "**Python always calls the child's `__eq__()` method when comparing a child object to a parent object.**"
   ]
  },
  {
   "cell_type": "markdown",
   "id": "e6265d0c",
   "metadata": {},
   "source": [
    "## Operator Overloading: string representation"
   ]
  },
  {
   "cell_type": "markdown",
   "id": "4992e205",
   "metadata": {},
   "source": [
    "- Remember that calling `print` on an object of a custom class returns the object's address in memory by default"
   ]
  },
  {
   "cell_type": "code",
   "execution_count": 2,
   "id": "1504190a",
   "metadata": {},
   "outputs": [
    {
     "name": "stdout",
     "output_type": "stream",
     "text": [
      "<__main__.Customer object at 0x7fb070b65e80>\n"
     ]
    }
   ],
   "source": [
    "class Customer:\n",
    "    def __init__(self, name, balance):\n",
    "        self.name, self.balance = name, balance\n",
    "\n",
    "cust= Customer(\"Maryam Azar\", 3000)\n",
    "print(cust)"
   ]
  },
  {
   "cell_type": "markdown",
   "id": "a32efb0c",
   "metadata": {},
   "source": [
    "- But there are plenty of classes for which the printou is much more informative.\n",
    "- For example, if we print a numpy array or a DataFrame, we'll see the actual data contained in the object"
   ]
  },
  {
   "cell_type": "code",
   "execution_count": 3,
   "id": "a211889b",
   "metadata": {},
   "outputs": [
    {
     "name": "stdout",
     "output_type": "stream",
     "text": [
      "[1 2 3]\n"
     ]
    }
   ],
   "source": [
    "import numpy as np\n",
    "\n",
    "arr = np.array([1,2,3])\n",
    "print(arr)"
   ]
  },
  {
   "cell_type": "markdown",
   "id": "8aa75c18",
   "metadata": {},
   "source": [
    "- There are two special methods that we can define in a class that will return a printable representation of an object:\n",
    "    - **`__str__()`**: executed when we call `print` or `str` on an object; Supposed to give an informal representation, suitable for an end user\n",
    "    - **`__repr__()`**: executed when we call `repr` on an object, or when we print it in the console without calling print explicitly; Used mainly by developers.\n",
    "    \n",
    "    \n",
    "### `__str__()`\n",
    "- Executed when we call `print` or `str` on an object.\n",
    "- Supposed to give an informal representation, suitable for an end user\n",
    "- ***str***ing representation"
   ]
  },
  {
   "cell_type": "code",
   "execution_count": 4,
   "id": "4ccef9e0",
   "metadata": {},
   "outputs": [
    {
     "name": "stdout",
     "output_type": "stream",
     "text": [
      "[1 2 3]\n"
     ]
    }
   ],
   "source": [
    "print(np.array([1,2,3]))"
   ]
  },
  {
   "cell_type": "code",
   "execution_count": 5,
   "id": "9f40d566",
   "metadata": {},
   "outputs": [
    {
     "data": {
      "text/plain": [
       "'[1 2 3]'"
      ]
     },
     "execution_count": 5,
     "metadata": {},
     "output_type": "execute_result"
    }
   ],
   "source": [
    "str(np.array([1,2,3]))"
   ]
  },
  {
   "cell_type": "markdown",
   "id": "545b51ae",
   "metadata": {},
   "source": [
    "### `str` implementation\n",
    "- Shouldn't accept any arguments besides `self`, and it should return a string. \n",
    "- Below, the string representation of a customer will consist of the word `Customer`, then on the next line, name, colon, followed by the customer's name, then balance, colon, and the customer's balance."
   ]
  },
  {
   "cell_type": "code",
   "execution_count": 10,
   "id": "9a5864ec",
   "metadata": {},
   "outputs": [],
   "source": [
    "class Customer:\n",
    "    def __init__(self, name, balance):\n",
    "        self.name, self.balance = name, balance\n",
    "        \n",
    "    def __str__(self):\n",
    "        cust_str= \"\"\"\n",
    "        Customer:\n",
    "            name: {name}\n",
    "            balance: {balance}\n",
    "        \"\"\".format(name = self.name, balance = self.balance)\n",
    "        return cust_str"
   ]
  },
  {
   "cell_type": "markdown",
   "id": "0145bf2f",
   "metadata": {},
   "source": [
    "- If we create a customer object now and call print on that object, we will see a user-friendly output"
   ]
  },
  {
   "cell_type": "code",
   "execution_count": 11,
   "id": "c85f58da",
   "metadata": {},
   "outputs": [
    {
     "name": "stdout",
     "output_type": "stream",
     "text": [
      "\n",
      "        Customer:\n",
      "            name: Maryam Azar\n",
      "            balance: 3000\n",
      "        \n"
     ]
    }
   ],
   "source": [
    "cust = Customer(\"Maryam Azar\", 3000)\n",
    "\n",
    "# Will implicitly call __str__()\n",
    "print(cust)"
   ]
  },
  {
   "cell_type": "markdown",
   "id": "7d3d8ac3",
   "metadata": {},
   "source": [
    "### `__repr__()`\n",
    "- Executed when we call `repr` on an object, or when we print it in the console without calling print explicitly.\n",
    "- Supposed to give a formal representation; used mainly by developers\n",
    "- Best practice is to use `repr` to print a string that can be used to reproduce the object\n",
    "- ***repr***oducible ***repr***esentation\n",
    "- For example, with numpy array, this shows the exact method call that was used to create the object.\n",
    "- **If you only choose to implement one of them, choose `repr` because it is also used as a fall-back for `print` when `str` is not defined.**"
   ]
  },
  {
   "cell_type": "code",
   "execution_count": 6,
   "id": "0cf34a9f",
   "metadata": {},
   "outputs": [
    {
     "data": {
      "text/plain": [
       "'array([1, 2, 3])'"
      ]
     },
     "execution_count": 6,
     "metadata": {},
     "output_type": "execute_result"
    }
   ],
   "source": [
    "repr(np.array([1,2,3]))"
   ]
  },
  {
   "cell_type": "code",
   "execution_count": 8,
   "id": "30936a33",
   "metadata": {},
   "outputs": [
    {
     "data": {
      "text/plain": [
       "array([1, 2, 3])"
      ]
     },
     "execution_count": 8,
     "metadata": {},
     "output_type": "execute_result"
    }
   ],
   "source": [
    "np.array([1,2,3])"
   ]
  },
  {
   "cell_type": "markdown",
   "id": "01c372c9",
   "metadata": {},
   "source": [
    "### `repr` implementation\n",
    "- `repr` also only accepts one argument: `self`\n",
    "- returns a string\n",
    "- Following best practices, we make sure that `repr` returns the string that can be used to reproduce the object, in this case, the exact initilization call.\n",
    "- Moreover, in this class below we didn't define the `str` method, so `repr` will be used as a fallback for the actual `print` method as well\n",
    "- Also notice the single quotes around the `name` in the return statement: Without the quotes, the name of the customer would be substituted into the string as-is, but the point of `repr` is to give the exact call needed to reproduce the object, where the name should be in quotes\n",
    "- **Surround string arguments with quotation marks in the `__repr__()` output.**"
   ]
  },
  {
   "cell_type": "code",
   "execution_count": 16,
   "id": "175b99db",
   "metadata": {},
   "outputs": [],
   "source": [
    "class Customer:\n",
    "    def __init__(self, name, balance):\n",
    "        self.name, self.balance = name, balance\n",
    "        \n",
    "    def __repr__(self):\n",
    "        # Notice the '...' around name\n",
    "        return \"Customer('{name}', {balance})\".format(name= self.name, balance= self.balance)"
   ]
  },
  {
   "cell_type": "code",
   "execution_count": 17,
   "id": "9f5b57f3",
   "metadata": {},
   "outputs": [
    {
     "data": {
      "text/plain": [
       "Customer('Maryam Azar', 3000)"
      ]
     },
     "execution_count": 17,
     "metadata": {},
     "output_type": "execute_result"
    }
   ],
   "source": [
    "cust = Customer(\"Maryam Azar\", 3000)\n",
    "cust"
   ]
  },
  {
   "cell_type": "markdown",
   "id": "ec27aa8b",
   "metadata": {},
   "source": [
    "#### String formatting review\n",
    "- See the [official Python tutorial on string formatting here](https://docs.python.org/3/library/stdtypes.html#str.format)"
   ]
  },
  {
   "cell_type": "code",
   "execution_count": 18,
   "id": "eed49d2b",
   "metadata": {},
   "outputs": [
    {
     "name": "stdout",
     "output_type": "stream",
     "text": [
      "\n",
      "        Employee name: Amar Howard\n",
      "        Employee salary: 30000\n",
      "        \n",
      "\n",
      "        Employee name: Carolyn Ramirez\n",
      "        Employee salary: 35000\n",
      "        \n"
     ]
    }
   ],
   "source": [
    "class Employee:\n",
    "    def __init__(self, name, salary=30000):\n",
    "        self.name, self.salary = name, salary\n",
    "            \n",
    "    # Add the __str__() method\n",
    "    def __str__(self):\n",
    "        emp_string=\"\"\"\n",
    "        Employee name: {name}\n",
    "        Employee salary: {salary}\n",
    "        \"\"\".format(name= self.name, salary= self.salary)\n",
    "        return emp_string\n",
    "\n",
    "emp1 = Employee(\"Amar Howard\", 30000)\n",
    "print(emp1)\n",
    "emp2 = Employee(\"Carolyn Ramirez\", 35000)\n",
    "print(emp2)"
   ]
  },
  {
   "cell_type": "code",
   "execution_count": 19,
   "id": "e304e7c2",
   "metadata": {},
   "outputs": [
    {
     "name": "stdout",
     "output_type": "stream",
     "text": [
      "Employee('Amar Howard', 30000)\n",
      "Employee('Carolyn Ramirez', 35000)\n"
     ]
    }
   ],
   "source": [
    "class Employee:\n",
    "    def __init__(self, name, salary=30000):\n",
    "        self.name, self.salary = name, salary\n",
    "      \n",
    "\n",
    "    def __str__(self):\n",
    "        s = \"Employee name: {name}\\nEmployee salary: {salary}\".format(name=self.name, salary=self.salary)      \n",
    "        return s\n",
    "      \n",
    "    # Add the __repr__method  \n",
    "    def __repr__(self):\n",
    "        return \"Employee('{name}', {salary})\".format(name= self.name, salary= self.salary)   \n",
    "\n",
    "emp1 = Employee(\"Amar Howard\", 30000)\n",
    "print(repr(emp1))\n",
    "emp2 = Employee(\"Carolyn Ramirez\", 35000)\n",
    "print(repr(emp2))"
   ]
  },
  {
   "cell_type": "markdown",
   "id": "b143821d",
   "metadata": {},
   "source": [
    "### Exceptions\n",
    "- Some statements in Python will cause an error when you try to execute them. For example:\n",
    "    - Dividing by zero (`ZeroDivisionError`)\n",
    "    - Combining objects of incompatible types (`TypeError`)\n",
    "    - many others\n",
    "- These errors are called **exceptions.**\n",
    "- If exceptions are not handled correctly, they will stop the execution of your program entirely\n",
    "#### Exception handling\n",
    "- Prevent a program from terminating when an exception is raised\n",
    "- To catch an exception and handle it, use the `try` - `except` - `finally` code\n",
    "\n",
    "<img src='data/oop64.png' width=\"700\" height=\"350\" align=\"center\"/>"
   ]
  },
  {
   "cell_type": "markdown",
   "id": "d0b133a8",
   "metadata": {},
   "source": [
    "- The `finally` block is best used for cleaning up\n",
    "    - For example, **closing opened files**\n",
    "    \n",
    "#### Raise exceptions\n",
    "- Sometimes you want to raise exceptions yourself, for example when some conditions aren't satisfied\n",
    "- You can use the `raise` keyword, optionally followed by a specific error message in parentheses.\n",
    "- `raise ExceptionNameHere('Error message here')`"
   ]
  },
  {
   "cell_type": "code",
   "execution_count": 21,
   "id": "19528099",
   "metadata": {},
   "outputs": [],
   "source": [
    "def make_list_of_ones(length):\n",
    "    if length <= 0:\n",
    "        raise ValueError(\"Invalid length!\") # <--- Will stop the program and raise an error\n",
    "    return [1]* length"
   ]
  },
  {
   "cell_type": "code",
   "execution_count": 22,
   "id": "57196a24",
   "metadata": {},
   "outputs": [
    {
     "ename": "ValueError",
     "evalue": "Invalid length!",
     "output_type": "error",
     "traceback": [
      "\u001b[0;31m---------------------------------------------------------------------------\u001b[0m",
      "\u001b[0;31mValueError\u001b[0m                                Traceback (most recent call last)",
      "\u001b[0;32m<ipython-input-22-eefae848f0f4>\u001b[0m in \u001b[0;36m<module>\u001b[0;34m\u001b[0m\n\u001b[0;32m----> 1\u001b[0;31m \u001b[0mmake_list_of_ones\u001b[0m\u001b[0;34m(\u001b[0m\u001b[0;34m-\u001b[0m\u001b[0;36m1\u001b[0m\u001b[0;34m)\u001b[0m\u001b[0;34m\u001b[0m\u001b[0;34m\u001b[0m\u001b[0m\n\u001b[0m",
      "\u001b[0;32m<ipython-input-21-fa0670f5ea1e>\u001b[0m in \u001b[0;36mmake_list_of_ones\u001b[0;34m(length)\u001b[0m\n\u001b[1;32m      1\u001b[0m \u001b[0;32mdef\u001b[0m \u001b[0mmake_list_of_ones\u001b[0m\u001b[0;34m(\u001b[0m\u001b[0mlength\u001b[0m\u001b[0;34m)\u001b[0m\u001b[0;34m:\u001b[0m\u001b[0;34m\u001b[0m\u001b[0;34m\u001b[0m\u001b[0m\n\u001b[1;32m      2\u001b[0m     \u001b[0;32mif\u001b[0m \u001b[0mlength\u001b[0m \u001b[0;34m<=\u001b[0m \u001b[0;36m0\u001b[0m\u001b[0;34m:\u001b[0m\u001b[0;34m\u001b[0m\u001b[0;34m\u001b[0m\u001b[0m\n\u001b[0;32m----> 3\u001b[0;31m         \u001b[0;32mraise\u001b[0m \u001b[0mValueError\u001b[0m\u001b[0;34m(\u001b[0m\u001b[0;34m\"Invalid length!\"\u001b[0m\u001b[0;34m)\u001b[0m \u001b[0;31m# <--- Will stop the program and raise an error\u001b[0m\u001b[0;34m\u001b[0m\u001b[0;34m\u001b[0m\u001b[0m\n\u001b[0m\u001b[1;32m      4\u001b[0m     \u001b[0;32mreturn\u001b[0m \u001b[0;34m[\u001b[0m\u001b[0;36m1\u001b[0m\u001b[0;34m]\u001b[0m\u001b[0;34m*\u001b[0m \u001b[0mlength\u001b[0m\u001b[0;34m\u001b[0m\u001b[0;34m\u001b[0m\u001b[0m\n",
      "\u001b[0;31mValueError\u001b[0m: Invalid length!"
     ]
    }
   ],
   "source": [
    "make_list_of_ones(-1)"
   ]
  },
  {
   "cell_type": "markdown",
   "id": "a0f74469",
   "metadata": {},
   "source": [
    "- The user of the code can then decide to handle the error using try/except\n",
    "\n",
    "### Exceptions are classes\n",
    "- In Python, exceptions are actually classes inherited from built-in classes `BaseException` or `Exception`\n",
    "- Below is a glimpse into the huge built-in exception class hierarchy:\n",
    "\n",
    "<img src='data/oop65.png' width=\"800\" height=\"400\" align=\"center\"/>"
   ]
  },
  {
   "cell_type": "markdown",
   "id": "1c857e4c",
   "metadata": {},
   "source": [
    "### Custom exceptions\n",
    "- Custom exception classes are useful because they can be specific to your application and can provide more granular handling of errors\n",
    "- **To define a custome exception, just define a class that inherits from the built-in `Exception` class or one of its subclasses.**\n",
    "- Usually an empty class- inheritance alone is enough to ensure that Python will treat this class as an exception class\n",
    "- For example, below we define a `BalanceError` class that inherits from `Exception`:"
   ]
  },
  {
   "cell_type": "code",
   "execution_count": 23,
   "id": "0b16c2c3",
   "metadata": {},
   "outputs": [],
   "source": [
    "class BalanceError(Exception): pass"
   ]
  },
  {
   "cell_type": "code",
   "execution_count": 24,
   "id": "323341ae",
   "metadata": {},
   "outputs": [],
   "source": [
    "class Customer:\n",
    "    def __init__(self, name, balance):\n",
    "        if balance < 0:\n",
    "            raise BalanceError(\"Balance has to be non-negative!\")\n",
    "        else:\n",
    "            self.name, self.balance = name, balance"
   ]
  },
  {
   "cell_type": "code",
   "execution_count": 25,
   "id": "fbfb24dc",
   "metadata": {},
   "outputs": [
    {
     "ename": "BalanceError",
     "evalue": "Balance has to be non-negative!",
     "output_type": "error",
     "traceback": [
      "\u001b[0;31m---------------------------------------------------------------------------\u001b[0m",
      "\u001b[0;31mBalanceError\u001b[0m                              Traceback (most recent call last)",
      "\u001b[0;32m<ipython-input-25-9d160640cfe2>\u001b[0m in \u001b[0;36m<module>\u001b[0;34m\u001b[0m\n\u001b[0;32m----> 1\u001b[0;31m \u001b[0mcust\u001b[0m \u001b[0;34m=\u001b[0m \u001b[0mCustomer\u001b[0m\u001b[0;34m(\u001b[0m\u001b[0;34m\"Larry Torres\"\u001b[0m\u001b[0;34m,\u001b[0m \u001b[0;34m-\u001b[0m\u001b[0;36m100\u001b[0m\u001b[0;34m)\u001b[0m\u001b[0;34m\u001b[0m\u001b[0;34m\u001b[0m\u001b[0m\n\u001b[0m",
      "\u001b[0;32m<ipython-input-24-643986cf039f>\u001b[0m in \u001b[0;36m__init__\u001b[0;34m(self, name, balance)\u001b[0m\n\u001b[1;32m      2\u001b[0m     \u001b[0;32mdef\u001b[0m \u001b[0m__init__\u001b[0m\u001b[0;34m(\u001b[0m\u001b[0mself\u001b[0m\u001b[0;34m,\u001b[0m \u001b[0mname\u001b[0m\u001b[0;34m,\u001b[0m \u001b[0mbalance\u001b[0m\u001b[0;34m)\u001b[0m\u001b[0;34m:\u001b[0m\u001b[0;34m\u001b[0m\u001b[0;34m\u001b[0m\u001b[0m\n\u001b[1;32m      3\u001b[0m         \u001b[0;32mif\u001b[0m \u001b[0mbalance\u001b[0m \u001b[0;34m<\u001b[0m \u001b[0;36m0\u001b[0m\u001b[0;34m:\u001b[0m\u001b[0;34m\u001b[0m\u001b[0;34m\u001b[0m\u001b[0m\n\u001b[0;32m----> 4\u001b[0;31m             \u001b[0;32mraise\u001b[0m \u001b[0mBalanceError\u001b[0m\u001b[0;34m(\u001b[0m\u001b[0;34m\"Balance has to be non-negative!\"\u001b[0m\u001b[0;34m)\u001b[0m\u001b[0;34m\u001b[0m\u001b[0;34m\u001b[0m\u001b[0m\n\u001b[0m\u001b[1;32m      5\u001b[0m         \u001b[0;32melse\u001b[0m\u001b[0;34m:\u001b[0m\u001b[0;34m\u001b[0m\u001b[0;34m\u001b[0m\u001b[0m\n\u001b[1;32m      6\u001b[0m             \u001b[0mself\u001b[0m\u001b[0;34m.\u001b[0m\u001b[0mname\u001b[0m\u001b[0;34m,\u001b[0m \u001b[0mself\u001b[0m\u001b[0;34m.\u001b[0m\u001b[0mbalance\u001b[0m \u001b[0;34m=\u001b[0m \u001b[0mname\u001b[0m\u001b[0;34m,\u001b[0m \u001b[0mbalance\u001b[0m\u001b[0;34m\u001b[0m\u001b[0;34m\u001b[0m\u001b[0m\n",
      "\u001b[0;31mBalanceError\u001b[0m: Balance has to be non-negative!"
     ]
    }
   ],
   "source": [
    "cust = Customer(\"Larry Torres\", -100)"
   ]
  },
  {
   "cell_type": "markdown",
   "id": "de8eb363",
   "metadata": {},
   "source": [
    "- Handling with exceptions is better because the constructor terminates, and the customer object is not created at all, instead of being implicityly created with account balance set to zero, despite the error.\n",
    "\n",
    "#### Catching custom exceptions"
   ]
  },
  {
   "cell_type": "code",
   "execution_count": 26,
   "id": "0d29e82d",
   "metadata": {},
   "outputs": [],
   "source": [
    "try:\n",
    "    cust = Customer(\"Larry Torres\", -100)\n",
    "except BalanceError:\n",
    "    cust = Customer(\"Larry Torres\", 0)"
   ]
  },
  {
   "cell_type": "code",
   "execution_count": 30,
   "id": "a6b18fae",
   "metadata": {},
   "outputs": [
    {
     "name": "stdout",
     "output_type": "stream",
     "text": [
      "0.16666666666666666\n",
      "Cannot divide by zero!\n",
      "None\n",
      "Index out of range!\n",
      "None\n"
     ]
    }
   ],
   "source": [
    "# MODIFY the function to catch exceptions\n",
    "def invert_at_index(x, ind):\n",
    "    try:\n",
    "        return 1/x[ind]\n",
    "    except ZeroDivisionError:\n",
    "        print(\"Cannot divide by zero!\")\n",
    "    except IndexError:\n",
    "        print(\"Index out of range!\")\n",
    " \n",
    "a = [5,6,0,7]\n",
    "\n",
    "# Works okay\n",
    "print(invert_at_index(a, 1))\n",
    "\n",
    "# Potential ZeroDivisionError\n",
    "print(invert_at_index(a, 2))\n",
    "\n",
    "# Potential IndexError\n",
    "print(invert_at_index(a, 5))"
   ]
  },
  {
   "cell_type": "markdown",
   "id": "6eeb7816",
   "metadata": {},
   "source": [
    "#### Custom Exceptions\n",
    "You don't have to rely solely on built-in exceptions like `IndexError`: you can define your own exceptions more specific to your application. You can also define exception hierarchies. All you need to define an exception is a class inherited from the built-in `Exception` class or one of its subclasses.\n",
    "\n",
    "In Chapter 1, you defined an `Employee` class and used `print` statements and default values to handle errors like creating an employee with a salary below the minimum or giving a raise that is too big. A better way to handle this situation is to use exceptions. Because these errors are specific to our application (unlike, for example, a division by zero error which is universal), it makes sense to use custom exception classes."
   ]
  },
  {
   "cell_type": "code",
   "execution_count": 34,
   "id": "c074e753",
   "metadata": {},
   "outputs": [],
   "source": [
    "class SalaryError(ValueError): pass\n",
    "class BonusError(SalaryError): pass\n",
    "\n",
    "class Employee:\n",
    "    MIN_SALARY = 30000\n",
    "    MAX_BONUS = 5000\n",
    "\n",
    "    def __init__(self, name, salary = 30000):\n",
    "        self.name = name    \n",
    "        if salary < Employee.MIN_SALARY:\n",
    "            raise SalaryError(\"Salary is too low!\")      \n",
    "        self.salary = salary\n",
    "    \n",
    "    # Rewrite using exceptions  \n",
    "    def give_bonus(self, amount):\n",
    "        if amount > Employee.MAX_BONUS:\n",
    "            raise BonusError(\"The bonus amount is too high!\")  \n",
    "        \n",
    "        elif self.salary + amount <  Employee.MIN_SALARY:\n",
    "            raise BonusError(\"The salary after bonus is too low!\")\n",
    "      \n",
    "        else:  \n",
    "            self.salary += amount"
   ]
  },
  {
   "cell_type": "markdown",
   "id": "b217f0fa",
   "metadata": {},
   "source": [
    "#### Handling exception hierarchies\n",
    "Previously, you defined an `Employee` class with a method `get_bonus()` that raises a `BonusError` and a `SalaryError` depending on parameters. But the `BonusError` exception was inherited from the `SalaryError` exception. How does exception inheritance affect exception handling?\n",
    "\n",
    "The `Employee` class has been defined for you. It has a minimal salary of `30000` and a maximal bonus amount of `5000`.\n",
    "\n",
    "\n",
    "- **`except` block for a parent exception will catch child exceptions**\n",
    "- **It's better to include an `except` block for a child exception before the block for a parent exception, otherwise the child exceptions will be always be caught in the parent block, and the `except` block for the child will never be executed.**"
   ]
  },
  {
   "cell_type": "markdown",
   "id": "ae21347b",
   "metadata": {},
   "source": [
    "# Best Practices of Class Design\n",
    "How do you design classes for inheritance? Does Python have private attributes? Is it possible to control attribute access? You'll find answers to these questions (and more) as you learn class design best practices.\n",
    "\n",
    "## Designing for inheritance and polymorphism\n"
   ]
  },
  {
   "cell_type": "markdown",
   "id": "9aad2808",
   "metadata": {},
   "source": [
    "- Two main topics:\n",
    "    - Efficient use of inheritance\n",
    "    - Managing the levels of access to the data contained in your objects\n",
    "    \n",
    "- **Polymorphism: Using a unified interface to operate on objects of different classes.**\n",
    "\n",
    "#### All that matters in the interface\n",
    "- Let's say we defined a function to withdraw the same amount of money from a whole list of accounts at once.\n",
    "- The function doesn't know-- or care-- whether the objects passed to it are checking accounts, savings accounts, or a mix. **All that matters is that they have a withdraw method that accepts one argument.**\n",
    "- It does not check which `withdraw` it should call-- the original or the modified. \n",
    "- When the `withdraw` method is actually called, Python will dynamically pull the correct method: modified withdraw for whenever a checking account is being processed, and base withdraw for whenever a savings or generic bank account is processed."
   ]
  },
  {
   "cell_type": "code",
   "execution_count": 5,
   "id": "98c3648f",
   "metadata": {},
   "outputs": [
    {
     "data": {
      "text/plain": [
       "'\\n# Withdraw amount from each of accounts in list_of_accounts\\ndef batch_withdraw(list_of_accounts, amount):\\n    for acct in list_of_accounts:\\n        acct.withdraw(amount)\\n        acct.withdraw(amount)\\n\\nb, c, s = BankAccount(1000), CheckingAccount(2000), SavingsAccount(3000)\\nbatch_withdraw([b,c,s]) # <-- Will use BankAccount.withdraw(),\\n                        # then will use CheckingAccount.withdraw(),\\n                        # then will use SavingsAccount.withdraw()\\n'"
      ]
     },
     "execution_count": 5,
     "metadata": {},
     "output_type": "execute_result"
    }
   ],
   "source": [
    "# Withdraw amount from each of accounts in list_of_accounts\n",
    "def batch_withdraw(list_of_accounts, amount):\n",
    "    for acct in list_of_accounts:\n",
    "        acct.withdraw(amount)\n",
    "        acct.withdraw(amount)\n",
    "\n",
    "b, c, s = BankAccount(1000), CheckingAccount(2000), SavingsAccount(3000)\n",
    "batch_withdraw([b,c,s]) # <-- Will use BankAccount.withdraw(),\n",
    "                        # then will use CheckingAccount.withdraw(),\n",
    "                        # then will use SavingsAccount.withdraw()"
   ]
  },
  {
   "cell_type": "markdown",
   "id": "b5e598dd",
   "metadata": {},
   "source": [
    "- `batch_withdraw()` doesn't need to check the object to know which `withdraw()` to call.\n",
    "- **To really make use of this idea, you have to design your classes with inheritance and polymorphism (the uniformity of interface) in mind.**\n",
    "- There is a fundamental object-oriented design principle of when and how to use inheritance properly.\n",
    "- The Liskov substitution principle\" was named after the computer scientist Barbara Liskov.\n",
    "\n",
    "## Liskov substitution principle\n",
    "**Base class should be interchangeable with any of its subclasses without altering any properties of the program.**\n",
    "\n",
    "**This should be true both *syntactically* and *semantically*.**\n",
    "- **Syntactically:** function signatures are compatible:\n",
    "    - arguments\n",
    "    - returned values\n",
    "    - etc.\n",
    "- **Semantically:** the state of the object and the program remains consistent\n",
    "    - subclass method doesn't strengthen input conditions\n",
    "    - subclass method doesn't weaken output conditions\n",
    "    - no additional exceptions\n",
    "    - etc."
   ]
  },
  {
   "cell_type": "markdown",
   "id": "b16c20c3",
   "metadata": {},
   "source": [
    "- Using the example of our `Account` hierarchy, that means that wherever in your application you can use a `BankAccount` object instance, substituting a `CheckingAccount` instead should not affect anything in the surrounding program. \n",
    "- Wherever `BankAccount` works, `CheckingAccount` should work as well. \n",
    "- For example, the `bathc_withdraw` function worked regardless of what kind of account was used. \n",
    "- This should be true both syntactically and semantically:\n",
    "    - **Syntactically**: On the one hand, the method in a subclass should have a signature with parameters and returned values compatible with the method in the parent class.\n",
    "    - **Semantically**: On the other hand, the satae of objects also must stay consistent; the subclass method shouldn't rely on stronger input conditions, should not proved weaker output conditions, it should not throw additional exceptions, etc. "
   ]
  },
  {
   "cell_type": "markdown",
   "id": "0bf5b789",
   "metadata": {},
   "source": [
    "### Violating LSP\n",
    "$\\Rightarrow$ **Syntactic incompatibility**\n",
    "\n",
    "- `BankAccount.withdraw` requires 1 parameter, but `CheckingAccount.withdraw()` requires 2\n",
    "    - Exception: If the `CheckingAccount` subclass has a default value for a second parameter, then there is no problem.\n",
    "    \n",
    "$\\Rightarrow$ **Subclass strengthening input conditions**\n",
    "\n",
    "- `BankAccount.withdraw()` accepts any amount, but `CheckingAccount.withdraw()` assumes that the amount is limited. \n",
    "\n",
    "$\\Rightarrow$ **Subclass weakening output conditions**\n",
    "\n",
    "- `BankAccount.withdraw()` can only leave a positive balance or cause an error, but `CheckingAccount.withdraw()` can leave the balance negative. \n",
    "\n",
    "$\\Rightarrow$ **Other ways to violate LSP:**\n",
    "- **Changing additional attributes in a subclass's method.**\n",
    "- **Throwing additional exceptions in subclass's method.**\n",
    "\n",
    "\n",
    "### No LSP - No Inheritance\n",
    "- The utimate rule is that if your class hierarchy violates the Liskov substitution principle, then you should not be using inheritance, because it is likely to cause the code to behave in unpredictable ways somewhere down the road\n",
    "\n",
    "#### Polymorphic methods\n",
    "\n",
    "To design classes effectively, you need to understand how inheritance and polymorphism work together.\n",
    "\n",
    "In this exercise, you have three classes - one parent and two children - each of which has a `talk()` method. Analyze the following code:"
   ]
  },
  {
   "cell_type": "code",
   "execution_count": 11,
   "id": "b8371242",
   "metadata": {},
   "outputs": [
    {
     "name": "stdout",
     "output_type": "stream",
     "text": [
      "Parent talking!\n",
      "Child talking!\n",
      "TalkativeChild talking!\n",
      "Parent talking!\n"
     ]
    }
   ],
   "source": [
    "class Parent:\n",
    "    def talk(self):\n",
    "        print(\"Parent talking!\")     \n",
    "\n",
    "class Child(Parent):\n",
    "    def talk(self):\n",
    "        print(\"Child talking!\")\n",
    "\n",
    "class TalkativeChild(Parent):\n",
    "    def talk(self):\n",
    "        print(\"TalkativeChild talking!\")\n",
    "        Parent.talk(self)\n",
    "\n",
    "\n",
    "p, c, tc = Parent(), Child(), TalkativeChild()\n",
    "\n",
    "for obj in (p, c, tc):\n",
    "    obj.talk()"
   ]
  },
  {
   "cell_type": "code",
   "execution_count": 12,
   "id": "67e8dad2",
   "metadata": {},
   "outputs": [
    {
     "name": "stdout",
     "output_type": "stream",
     "text": [
      "Parent talking!\n",
      "Parent talking!\n",
      "TalkativeChild talking!\n",
      "Parent talking!\n"
     ]
    }
   ],
   "source": [
    "class Parent:\n",
    "    def talk(self):\n",
    "        print(\"Parent talking!\")     \n",
    "\n",
    "class Child(Parent):\n",
    "    #def talk(self):\n",
    "        #print(\"Child talking!\")\n",
    "    pass\n",
    "\n",
    "class TalkativeChild(Parent):\n",
    "    def talk(self):\n",
    "        print(\"TalkativeChild talking!\")\n",
    "        Parent.talk(self)\n",
    "\n",
    "\n",
    "p, c, tc = Parent(), Child(), TalkativeChild()\n",
    "\n",
    "for obj in (p, c, tc):\n",
    "    obj.talk()"
   ]
  },
  {
   "cell_type": "markdown",
   "id": "bada8f41",
   "metadata": {},
   "source": [
    "#### Exercise:  Square and rectangle\n",
    "The classic example of a problem that violates the Liskov Substitution Principle is the **[Circle-Ellipse problem](https://en.wikipedia.org/wiki/Circle%E2%80%93ellipse_problem)**, sometimes called the Square-Rectangle problem.\n",
    "\n",
    "By all means, it seems like you should be able to define a class Rectangle, with attributes h and w (for height and width), and then define a class Square that inherits from the Rectangle. After all, a square \"is-a\" rectangle!\n",
    "\n",
    "Unfortunately, this intuition doesn't apply to object-oriented design.\n",
    "\n",
    "- Create a class `Rectangle` with a constructor that accepts two parameters, `h` and `w`, and sets its `h` and `w` attributes to the values of `h` and `w`.\n",
    "Create a class `Square` inherited from `Rectangle` with a constructor that accepts one parameter `w`, and sets both the `h` and `w` attributes to the value of `w`."
   ]
  },
  {
   "cell_type": "code",
   "execution_count": 13,
   "id": "8c4d17e4",
   "metadata": {},
   "outputs": [],
   "source": [
    "# Define a Rectangle class\n",
    "class Rectangle:\n",
    "    def __init__(self, h, w):\n",
    "        self.h = h\n",
    "        self.w = w\n",
    "\n",
    "\n",
    "# Define a Square class\n",
    "class Square(Rectangle):\n",
    "    def __init__(self, w):\n",
    "        self.h = w\n",
    "        self.w = w"
   ]
  },
  {
   "cell_type": "code",
   "execution_count": 14,
   "id": "bd0d5c82",
   "metadata": {},
   "outputs": [],
   "source": [
    "# Define a Rectangle class\n",
    "class Rectangle:\n",
    "    def __init__(self, h, w):\n",
    "        self.h, self.w = h, w\n",
    "\n",
    "\n",
    "# Define a Square class\n",
    "class Square(Rectangle):\n",
    "    def __init__(self, w):\n",
    "        self.h, self.w = w, w"
   ]
  },
  {
   "cell_type": "markdown",
   "id": "3be9e9ce",
   "metadata": {},
   "source": [
    "#### Question\n",
    "The classes are defined for you. Experiment with them in the console.\n",
    "\n",
    "For example, in the console or the script pane, create a `Square` object with side length `4`. Then try assigning `7` to the `h` attribute.\n",
    "\n",
    "What went wrong with these classes?"
   ]
  },
  {
   "cell_type": "code",
   "execution_count": 19,
   "id": "598c594b",
   "metadata": {},
   "outputs": [
    {
     "name": "stdout",
     "output_type": "stream",
     "text": [
      "4\n",
      "4\n"
     ]
    }
   ],
   "source": [
    "s1 = Square(w=4)\n",
    "print(s1.w)\n",
    "print(s1.h)"
   ]
  },
  {
   "cell_type": "code",
   "execution_count": 21,
   "id": "b125a057",
   "metadata": {},
   "outputs": [
    {
     "name": "stdout",
     "output_type": "stream",
     "text": [
      "7\n"
     ]
    }
   ],
   "source": [
    "s1.h = 7\n",
    "print(s1.h)"
   ]
  },
  {
   "cell_type": "markdown",
   "id": "30be8625",
   "metadata": {},
   "source": [
    "- The `4x4` Square object would no longer be a square if we assign `7` to `h`.\n",
    "\n",
    "\n",
    "A `Square` inherited from a `Rectangle` will always have both the `h` and `w` attributes, but we can't allow them to change independently of each other.\n",
    "\n",
    "Define methods `set_h()` and `set_w()` in `Rectangle`, each accepting one parameter and setting `h` and `w`.\n",
    "Define methods `set_h()` and `set_w()` in `Square`, each accepting one parameter, and setting both `h` and `w` to that parameter in both methods."
   ]
  },
  {
   "cell_type": "code",
   "execution_count": 23,
   "id": "7e2a2835",
   "metadata": {},
   "outputs": [],
   "source": [
    "class Rectangle:\n",
    "    def __init__(self, w,h):\n",
    "        self.w, self.h = w,h\n",
    "\n",
    "    # Define set_h to set h      \n",
    "    def set_h(self, h):\n",
    "        self.h = h\n",
    "      \n",
    "    # Define set_w to set w          \n",
    "    def set_w(self, w):\n",
    "        self.w = w\n",
    "      \n",
    "      \n",
    "class Square(Rectangle):\n",
    "    def __init__(self, w):\n",
    "        self.w, self.h = w, w \n",
    "\n",
    "    # Define set_h to set w and h\n",
    "    def set_h(self, h):\n",
    "        self.h = h\n",
    "        self.w = h\n",
    "\n",
    "    # Define set_w to set w and h      \n",
    "    def set_w(self, w):\n",
    "        self.w = w\n",
    "        self.h = w"
   ]
  },
  {
   "cell_type": "markdown",
   "id": "baca306d",
   "metadata": {},
   "source": [
    "#### Question\n",
    "\n",
    "Later in this chapter you'll learn how to make these setter methods run automatically when attributes are assigned new values, don't worry about that for now, just assume that when we assign a value to `h` of a square, now the `w` attribute will be changed accordingly.\n",
    "\n",
    "How does using these setter methods violate Liskov Substitution principle?\n",
    "\n",
    "#### Answer\n",
    "\n",
    "Each of the setter methods of `Square` change both `h` and `w` attributes, while setter methods of `Rectangle` change only one attribute at a time, so the `Square` objects cannot be substituted for `Rectangle` into programs that rely on one attribute staying constant.\n",
    "\n",
    "## Managing Data Access: Private attributes"
   ]
  },
  {
   "cell_type": "markdown",
   "id": "a4deafb8",
   "metadata": {},
   "source": [
    "#### All class data is public\n",
    "- Any attribute or method of any class can be accessed by anyone\n",
    "- If you are coming from another proggramming background or language (like Java), this might seem unusual or an oversight, but it is by design.\n",
    "- The fundamental principle behind much of Python design is \"we are all adults here.\"\n",
    "- It is a philosophy that goes beyond just code, and describes how the Python community interacts with each other: you should have trust in your fellow developers\n",
    "- That said, there are a few ways to manage access to data.\n",
    "\n",
    "#### Restricting access\n",
    "- **Naming conventions:** We can use some universal naming conventions to signal that the data is not for external consumption\n",
    "- **Use `@property` to customize access:** There are special kinds of attributes called properties that allow you to control how each attribute is modified.\n",
    "- **Overiding `__getattr__()` and `__setattr__()`:** There are special method that you can override to change how attributes are used entirely.\n",
    "\n",
    "\n",
    "We'll cover the first two options in this chapter and you aren't likely to ever need anything beyond that.  "
   ]
  },
  {
   "cell_type": "markdown",
   "id": "4249ee96",
   "metadata": {},
   "source": [
    "### Naming conventions: internal attributes\n",
    "- The first, and most important convention is using a singl leading underscore to indicate that an attribute or method that isn't a part of the public class interface, and can change without notice. \n",
    "#### `obj._att_name`, `obj._method_name()`\n",
    "- Starts with a single **`_`** $\\Rgihtarrow$ \"internal\"\n",
    "- As a class user: \"don't touch this\"\n",
    "- As a class developer: use for implementation details, helper functions...\n",
    "- Not a part of the public API\n",
    "\n",
    "\n",
    "- This convention is widely accepted among Python developers, so you should follow it both as a class developer and as a class user.\n",
    "- Nothing is technically preventing you from using these attributes, but a single leading underscore is the developer's way of saying that you shouldn't\n",
    "- This convention is used for internal implementation details and helper functions\n",
    "    - for example: a pandas DataFrame has a `df._is_mixed_type` that insicates whether the DataFrame contains data of mixed types, and the datetime module contains a `datetime._ymd2ord()` function that converts a date into a number containing how many days have passed since January 1st of year 1\n",
    "    \n",
    "### Naming conventions: pseudoprivate attributes\n",
    "- Another naming convention is using a leading double underscore. Attributes and methods whose names start with a double underscore are the closest thing Python has to \"private\" fields and methods of other programming languages.\n",
    "#### `obj.__attr_name`, `obj.__method_name()`\n",
    "- Starts but doesn't end with `__` $\\Rightarrow$ \"private\"\n",
    "- Data is not inheritted (at least not in a way that you're used to)\n",
    "    - Python implements **name mangling:** any name starting with a double undersore will automatically prepended by the name of the class when interpretted by Python and that new name will be the actual internal name of the attribute of method\n",
    "    - **`obj.__attr_name`** is interpreted as **`obj._MyClass__attr_name`**\n",
    "- The main use of these pseudo-private attributes is to prevent name clashes in child classes: you can't control what attributes or methods someone will introduce when inheriting from your class, and it's possible that someone will unknowingly introduce a name that already existes in your class, thus overriding the parent method or attribute!\n",
    "- **You can use double leading underscores to protect important attributes and methods that should not be overwritten.**\n",
    "\n",
    "\n",
    "- ***Be careful: leading AND trailing `__` are only used for built-in Python methods (`__init__()`, `__repr__()`)!***\n",
    "\n",
    "#### Attribute naming conventions\n",
    "In Python, all data is public. Instead of access modifiers common in languages like Java, Python uses naming conventions to communicate the developer's intention to class users, shifting the responsibility of safe class use onto the class user.\n",
    "\n",
    "Python uses underscores extensively to signal the purpose of methods and attributes. In this exercise, you will match a use case with the appropriate naming convention.\n",
    "\n",
    "#### Examples:\n",
    "- **`_name`**: A helper method that checks validity of an attributes value but isn't considered a part of class's public interface\n",
    "- **`__name`**: A 'version' attribute that stores the current version of the class and shouldn't be passed to the child classes, who will have their own versions.\n",
    "- **`__name__`**: A method that is run whenever the object is printed. \n",
    "\n",
    "#### Exercise: Using internal attributes\n",
    "\n",
    "In this exercise, you'll return to the `BetterDate` class of Chapter 2. Your date class is better because it will use the sensible convention of having exactly 30 days in each month.\n",
    "\n",
    "You decide to add a method that checks the validity of the date, but you don't want to make it a part of `BetterDate`'s public interface.\n",
    "\n",
    "The class `BetterDate` is available in the script pane."
   ]
  },
  {
   "cell_type": "code",
   "execution_count": 25,
   "id": "822595ee",
   "metadata": {},
   "outputs": [
    {
     "name": "stdout",
     "output_type": "stream",
     "text": [
      "True\n",
      "False\n"
     ]
    }
   ],
   "source": [
    "# Add class attributes for max number of days and months\n",
    "class BetterDate:\n",
    "    _MAX_DAYS = 30\n",
    "    _MAX_MONTHS = 12\n",
    "    \n",
    "    def __init__(self, year, month, day):\n",
    "        self.year, self.month, self.day = year, month, day\n",
    "        \n",
    "    @classmethod\n",
    "    def from_str(cls, datestr):\n",
    "        year, month, day = map(int, datestr.split(\"-\"))\n",
    "        return cls(year, month, day)\n",
    "    \n",
    "    # Add _is_valid() checking day and month values\n",
    "    def _is_valid(self):\n",
    "        return (self.day <=self._MAX_DAYS)and(self.month<=self.month)\n",
    "    \n",
    "bd1 = BetterDate(2020, 4, 30)\n",
    "print(bd1._is_valid())\n",
    "\n",
    "bd2 = BetterDate(2020, 6, 45)\n",
    "print(bd2._is_valid())"
   ]
  },
  {
   "cell_type": "markdown",
   "id": "382c7c2c",
   "metadata": {},
   "source": [
    "## Properties\n",
    "- **Properties** are a special kind of attribute that allow customized access\n",
    "- In the beginning of chapter 1, we worked with an `Employee` class where we defined methods like `set_salary` that were used to set the values of attributes\n",
    "- Later, we learned about using the constructor to initialize the attributes\n",
    "\n",
    "#### Changing attribute values"
   ]
  },
  {
   "cell_type": "code",
   "execution_count": 27,
   "id": "242419f9",
   "metadata": {},
   "outputs": [],
   "source": [
    "class Employee:\n",
    "    def set_name(self, name):\n",
    "        self.name = name\n",
    "    def set_salary(self, salary):\n",
    "        self.salary = salary\n",
    "    def give_raise(self, amount):\n",
    "        self.salary = self.salary + amount\n",
    "    def __init__(self, name, salary):\n",
    "        self.name, self.salary = name, salary"
   ]
  },
  {
   "cell_type": "markdown",
   "id": "0a854a53",
   "metadata": {},
   "source": [
    "- We also learned that we can access and change the attributes directly by assignment"
   ]
  },
  {
   "cell_type": "code",
   "execution_count": 28,
   "id": "c11e2ff3",
   "metadata": {},
   "outputs": [],
   "source": [
    "emp = Employee(\"Miriam Azari\", 35000)\n",
    "# Use dot syntax and = to alter attributes\n",
    "emp.salary = emp.salary + 5000"
   ]
  },
  {
   "cell_type": "code",
   "execution_count": 29,
   "id": "41cc6c29",
   "metadata": {},
   "outputs": [
    {
     "data": {
      "text/plain": [
       "40000"
      ]
     },
     "execution_count": 29,
     "metadata": {},
     "output_type": "execute_result"
    }
   ],
   "source": [
    "emp.salary"
   ]
  },
  {
   "cell_type": "markdown",
   "id": "85fd5a73",
   "metadata": {},
   "source": [
    "- But, this means that, with a simple assignment, we can assign anything to salary: a million, a negative number, or even the word \"Hello.\"\n",
    "- So how do we control attribute access, validate it, or even make the attribute read-only?\n",
    "    - Check the value for validity\n",
    "    - Or, make attributes read only\n",
    "        - modifying `set_salary()` wouldn't prevent `emp.salary= -100`\n",
    "        \n",
    "#### Restricted and read-only attributes\n",
    "\n",
    "- There is a precedent for such attribute management with classes that we already know.\n",
    "- For example, if we have a pandas DataFrame with two columns, we can set the columns attribute to a list of 2 strings-- new names for the columns\n",
    "- **But, if you try to set the attribute to a list of different length, you'll get an error:**"
   ]
  },
  {
   "cell_type": "code",
   "execution_count": 30,
   "id": "365a67ec",
   "metadata": {},
   "outputs": [
    {
     "data": {
      "text/html": [
       "<div>\n",
       "<style scoped>\n",
       "    .dataframe tbody tr th:only-of-type {\n",
       "        vertical-align: middle;\n",
       "    }\n",
       "\n",
       "    .dataframe tbody tr th {\n",
       "        vertical-align: top;\n",
       "    }\n",
       "\n",
       "    .dataframe thead th {\n",
       "        text-align: right;\n",
       "    }\n",
       "</style>\n",
       "<table border=\"1\" class=\"dataframe\">\n",
       "  <thead>\n",
       "    <tr style=\"text-align: right;\">\n",
       "      <th></th>\n",
       "      <th>colA</th>\n",
       "      <th>colB</th>\n",
       "    </tr>\n",
       "  </thead>\n",
       "  <tbody>\n",
       "    <tr>\n",
       "      <th>0</th>\n",
       "      <td>1</td>\n",
       "      <td>3</td>\n",
       "    </tr>\n",
       "    <tr>\n",
       "      <th>1</th>\n",
       "      <td>2</td>\n",
       "      <td>4</td>\n",
       "    </tr>\n",
       "  </tbody>\n",
       "</table>\n",
       "</div>"
      ],
      "text/plain": [
       "   colA  colB\n",
       "0     1     3\n",
       "1     2     4"
      ]
     },
     "execution_count": 30,
     "metadata": {},
     "output_type": "execute_result"
    }
   ],
   "source": [
    "import pandas as pd\n",
    "df = pd.DataFrame({\"colA\":[1,2], \"colB\":[3, 4]})\n",
    "df"
   ]
  },
  {
   "cell_type": "code",
   "execution_count": 31,
   "id": "95264e74",
   "metadata": {},
   "outputs": [
    {
     "data": {
      "text/html": [
       "<div>\n",
       "<style scoped>\n",
       "    .dataframe tbody tr th:only-of-type {\n",
       "        vertical-align: middle;\n",
       "    }\n",
       "\n",
       "    .dataframe tbody tr th {\n",
       "        vertical-align: top;\n",
       "    }\n",
       "\n",
       "    .dataframe thead th {\n",
       "        text-align: right;\n",
       "    }\n",
       "</style>\n",
       "<table border=\"1\" class=\"dataframe\">\n",
       "  <thead>\n",
       "    <tr style=\"text-align: right;\">\n",
       "      <th></th>\n",
       "      <th>new_ColA</th>\n",
       "      <th>new_colB</th>\n",
       "    </tr>\n",
       "  </thead>\n",
       "  <tbody>\n",
       "    <tr>\n",
       "      <th>0</th>\n",
       "      <td>1</td>\n",
       "      <td>3</td>\n",
       "    </tr>\n",
       "    <tr>\n",
       "      <th>1</th>\n",
       "      <td>2</td>\n",
       "      <td>4</td>\n",
       "    </tr>\n",
       "  </tbody>\n",
       "</table>\n",
       "</div>"
      ],
      "text/plain": [
       "   new_ColA  new_colB\n",
       "0         1         3\n",
       "1         2         4"
      ]
     },
     "execution_count": 31,
     "metadata": {},
     "output_type": "execute_result"
    }
   ],
   "source": [
    "df.columns = [\"new_ColA\", \"new_colB\"]\n",
    "df"
   ]
  },
  {
   "cell_type": "code",
   "execution_count": 32,
   "id": "d76d8fe6",
   "metadata": {},
   "outputs": [
    {
     "ename": "ValueError",
     "evalue": "Length mismatch: Expected axis has 2 elements, new values have 3 elements",
     "output_type": "error",
     "traceback": [
      "\u001b[0;31m---------------------------------------------------------------------------\u001b[0m",
      "\u001b[0;31mValueError\u001b[0m                                Traceback (most recent call last)",
      "\u001b[0;32m<ipython-input-32-4fad170c4a46>\u001b[0m in \u001b[0;36m<module>\u001b[0;34m\u001b[0m\n\u001b[1;32m      1\u001b[0m \u001b[0;31m# will cause an error\u001b[0m\u001b[0;34m\u001b[0m\u001b[0;34m\u001b[0m\u001b[0;34m\u001b[0m\u001b[0m\n\u001b[0;32m----> 2\u001b[0;31m \u001b[0mdf\u001b[0m\u001b[0;34m.\u001b[0m\u001b[0mcolumns\u001b[0m\u001b[0;34m=\u001b[0m \u001b[0;34m[\u001b[0m\u001b[0;34m\"new_colA\"\u001b[0m\u001b[0;34m,\u001b[0m \u001b[0;34m\"new_colB\"\u001b[0m\u001b[0;34m,\u001b[0m \u001b[0;34m\"extra\"\u001b[0m\u001b[0;34m]\u001b[0m\u001b[0;34m\u001b[0m\u001b[0;34m\u001b[0m\u001b[0m\n\u001b[0m\u001b[1;32m      3\u001b[0m \u001b[0mdf\u001b[0m\u001b[0;34m\u001b[0m\u001b[0;34m\u001b[0m\u001b[0m\n",
      "\u001b[0;32m~/opt/anaconda3/lib/python3.8/site-packages/pandas/core/generic.py\u001b[0m in \u001b[0;36m__setattr__\u001b[0;34m(self, name, value)\u001b[0m\n\u001b[1;32m   5476\u001b[0m         \u001b[0;32mtry\u001b[0m\u001b[0;34m:\u001b[0m\u001b[0;34m\u001b[0m\u001b[0;34m\u001b[0m\u001b[0m\n\u001b[1;32m   5477\u001b[0m             \u001b[0mobject\u001b[0m\u001b[0;34m.\u001b[0m\u001b[0m__getattribute__\u001b[0m\u001b[0;34m(\u001b[0m\u001b[0mself\u001b[0m\u001b[0;34m,\u001b[0m \u001b[0mname\u001b[0m\u001b[0;34m)\u001b[0m\u001b[0;34m\u001b[0m\u001b[0;34m\u001b[0m\u001b[0m\n\u001b[0;32m-> 5478\u001b[0;31m             \u001b[0;32mreturn\u001b[0m \u001b[0mobject\u001b[0m\u001b[0;34m.\u001b[0m\u001b[0m__setattr__\u001b[0m\u001b[0;34m(\u001b[0m\u001b[0mself\u001b[0m\u001b[0;34m,\u001b[0m \u001b[0mname\u001b[0m\u001b[0;34m,\u001b[0m \u001b[0mvalue\u001b[0m\u001b[0;34m)\u001b[0m\u001b[0;34m\u001b[0m\u001b[0;34m\u001b[0m\u001b[0m\n\u001b[0m\u001b[1;32m   5479\u001b[0m         \u001b[0;32mexcept\u001b[0m \u001b[0mAttributeError\u001b[0m\u001b[0;34m:\u001b[0m\u001b[0;34m\u001b[0m\u001b[0;34m\u001b[0m\u001b[0m\n\u001b[1;32m   5480\u001b[0m             \u001b[0;32mpass\u001b[0m\u001b[0;34m\u001b[0m\u001b[0;34m\u001b[0m\u001b[0m\n",
      "\u001b[0;32mpandas/_libs/properties.pyx\u001b[0m in \u001b[0;36mpandas._libs.properties.AxisProperty.__set__\u001b[0;34m()\u001b[0m\n",
      "\u001b[0;32m~/opt/anaconda3/lib/python3.8/site-packages/pandas/core/generic.py\u001b[0m in \u001b[0;36m_set_axis\u001b[0;34m(self, axis, labels)\u001b[0m\n\u001b[1;32m    668\u001b[0m     \u001b[0;32mdef\u001b[0m \u001b[0m_set_axis\u001b[0m\u001b[0;34m(\u001b[0m\u001b[0mself\u001b[0m\u001b[0;34m,\u001b[0m \u001b[0maxis\u001b[0m\u001b[0;34m:\u001b[0m \u001b[0mint\u001b[0m\u001b[0;34m,\u001b[0m \u001b[0mlabels\u001b[0m\u001b[0;34m:\u001b[0m \u001b[0mIndex\u001b[0m\u001b[0;34m)\u001b[0m \u001b[0;34m->\u001b[0m \u001b[0;32mNone\u001b[0m\u001b[0;34m:\u001b[0m\u001b[0;34m\u001b[0m\u001b[0;34m\u001b[0m\u001b[0m\n\u001b[1;32m    669\u001b[0m         \u001b[0mlabels\u001b[0m \u001b[0;34m=\u001b[0m \u001b[0mensure_index\u001b[0m\u001b[0;34m(\u001b[0m\u001b[0mlabels\u001b[0m\u001b[0;34m)\u001b[0m\u001b[0;34m\u001b[0m\u001b[0;34m\u001b[0m\u001b[0m\n\u001b[0;32m--> 670\u001b[0;31m         \u001b[0mself\u001b[0m\u001b[0;34m.\u001b[0m\u001b[0m_mgr\u001b[0m\u001b[0;34m.\u001b[0m\u001b[0mset_axis\u001b[0m\u001b[0;34m(\u001b[0m\u001b[0maxis\u001b[0m\u001b[0;34m,\u001b[0m \u001b[0mlabels\u001b[0m\u001b[0;34m)\u001b[0m\u001b[0;34m\u001b[0m\u001b[0;34m\u001b[0m\u001b[0m\n\u001b[0m\u001b[1;32m    671\u001b[0m         \u001b[0mself\u001b[0m\u001b[0;34m.\u001b[0m\u001b[0m_clear_item_cache\u001b[0m\u001b[0;34m(\u001b[0m\u001b[0;34m)\u001b[0m\u001b[0;34m\u001b[0m\u001b[0;34m\u001b[0m\u001b[0m\n\u001b[1;32m    672\u001b[0m \u001b[0;34m\u001b[0m\u001b[0m\n",
      "\u001b[0;32m~/opt/anaconda3/lib/python3.8/site-packages/pandas/core/internals/managers.py\u001b[0m in \u001b[0;36mset_axis\u001b[0;34m(self, axis, new_labels)\u001b[0m\n\u001b[1;32m    218\u001b[0m \u001b[0;34m\u001b[0m\u001b[0m\n\u001b[1;32m    219\u001b[0m         \u001b[0;32mif\u001b[0m \u001b[0mnew_len\u001b[0m \u001b[0;34m!=\u001b[0m \u001b[0mold_len\u001b[0m\u001b[0;34m:\u001b[0m\u001b[0;34m\u001b[0m\u001b[0;34m\u001b[0m\u001b[0m\n\u001b[0;32m--> 220\u001b[0;31m             raise ValueError(\n\u001b[0m\u001b[1;32m    221\u001b[0m                 \u001b[0;34mf\"Length mismatch: Expected axis has {old_len} elements, new \"\u001b[0m\u001b[0;34m\u001b[0m\u001b[0;34m\u001b[0m\u001b[0m\n\u001b[1;32m    222\u001b[0m                 \u001b[0;34mf\"values have {new_len} elements\"\u001b[0m\u001b[0;34m\u001b[0m\u001b[0;34m\u001b[0m\u001b[0m\n",
      "\u001b[0;31mValueError\u001b[0m: Length mismatch: Expected axis has 2 elements, new values have 3 elements"
     ]
    }
   ],
   "source": [
    "# will cause an error\n",
    "df.columns= [\"new_colA\", \"new_colB\", \"extra\"]\n",
    "df"
   ]
  },
  {
   "cell_type": "markdown",
   "id": "d0472c57",
   "metadata": {},
   "source": [
    "**Or, consider the `shape` attribute: it cannot be changed at all.**"
   ]
  },
  {
   "cell_type": "code",
   "execution_count": 33,
   "id": "2cd1c46a",
   "metadata": {},
   "outputs": [
    {
     "name": "stderr",
     "output_type": "stream",
     "text": [
      "<ipython-input-33-e78411957768>:1: UserWarning: Pandas doesn't allow columns to be created via a new attribute name - see https://pandas.pydata.org/pandas-docs/stable/indexing.html#attribute-access\n",
      "  df.shape = (43, 27)\n"
     ]
    },
    {
     "ename": "AttributeError",
     "evalue": "can't set attribute",
     "output_type": "error",
     "traceback": [
      "\u001b[0;31m---------------------------------------------------------------------------\u001b[0m",
      "\u001b[0;31mAttributeError\u001b[0m                            Traceback (most recent call last)",
      "\u001b[0;32m~/opt/anaconda3/lib/python3.8/site-packages/pandas/core/generic.py\u001b[0m in \u001b[0;36m__setattr__\u001b[0;34m(self, name, value)\u001b[0m\n\u001b[1;32m   5495\u001b[0m                 \u001b[0;32melse\u001b[0m\u001b[0;34m:\u001b[0m\u001b[0;34m\u001b[0m\u001b[0;34m\u001b[0m\u001b[0m\n\u001b[0;32m-> 5496\u001b[0;31m                     \u001b[0mobject\u001b[0m\u001b[0;34m.\u001b[0m\u001b[0m__setattr__\u001b[0m\u001b[0;34m(\u001b[0m\u001b[0mself\u001b[0m\u001b[0;34m,\u001b[0m \u001b[0mname\u001b[0m\u001b[0;34m,\u001b[0m \u001b[0mvalue\u001b[0m\u001b[0;34m)\u001b[0m\u001b[0;34m\u001b[0m\u001b[0;34m\u001b[0m\u001b[0m\n\u001b[0m\u001b[1;32m   5497\u001b[0m             \u001b[0;32mexcept\u001b[0m \u001b[0;34m(\u001b[0m\u001b[0mAttributeError\u001b[0m\u001b[0;34m,\u001b[0m \u001b[0mTypeError\u001b[0m\u001b[0;34m)\u001b[0m\u001b[0;34m:\u001b[0m\u001b[0;34m\u001b[0m\u001b[0;34m\u001b[0m\u001b[0m\n",
      "\u001b[0;31mAttributeError\u001b[0m: can't set attribute",
      "\nDuring handling of the above exception, another exception occurred:\n",
      "\u001b[0;31mAttributeError\u001b[0m                            Traceback (most recent call last)",
      "\u001b[0;32m<ipython-input-33-e78411957768>\u001b[0m in \u001b[0;36m<module>\u001b[0;34m\u001b[0m\n\u001b[0;32m----> 1\u001b[0;31m \u001b[0mdf\u001b[0m\u001b[0;34m.\u001b[0m\u001b[0mshape\u001b[0m \u001b[0;34m=\u001b[0m \u001b[0;34m(\u001b[0m\u001b[0;36m43\u001b[0m\u001b[0;34m,\u001b[0m \u001b[0;36m27\u001b[0m\u001b[0;34m)\u001b[0m\u001b[0;34m\u001b[0m\u001b[0;34m\u001b[0m\u001b[0m\n\u001b[0m",
      "\u001b[0;32m~/opt/anaconda3/lib/python3.8/site-packages/pandas/core/generic.py\u001b[0m in \u001b[0;36m__setattr__\u001b[0;34m(self, name, value)\u001b[0m\n\u001b[1;32m   5504\u001b[0m                         \u001b[0mstacklevel\u001b[0m\u001b[0;34m=\u001b[0m\u001b[0;36m2\u001b[0m\u001b[0;34m,\u001b[0m\u001b[0;34m\u001b[0m\u001b[0;34m\u001b[0m\u001b[0m\n\u001b[1;32m   5505\u001b[0m                     )\n\u001b[0;32m-> 5506\u001b[0;31m                 \u001b[0mobject\u001b[0m\u001b[0;34m.\u001b[0m\u001b[0m__setattr__\u001b[0m\u001b[0;34m(\u001b[0m\u001b[0mself\u001b[0m\u001b[0;34m,\u001b[0m \u001b[0mname\u001b[0m\u001b[0;34m,\u001b[0m \u001b[0mvalue\u001b[0m\u001b[0;34m)\u001b[0m\u001b[0;34m\u001b[0m\u001b[0;34m\u001b[0m\u001b[0m\n\u001b[0m\u001b[1;32m   5507\u001b[0m \u001b[0;34m\u001b[0m\u001b[0m\n\u001b[1;32m   5508\u001b[0m     \u001b[0;34m@\u001b[0m\u001b[0mfinal\u001b[0m\u001b[0;34m\u001b[0m\u001b[0;34m\u001b[0m\u001b[0m\n",
      "\u001b[0;31mAttributeError\u001b[0m: can't set attribute"
     ]
    }
   ],
   "source": [
    "df.shape = (43, 27)"
   ]
  },
  {
   "cell_type": "markdown",
   "id": "06dc7c29",
   "metadata": {},
   "source": [
    "### @property\n",
    "- We can implement similar behavior using the `property` decorator.\n",
    "- Start by defining an \"internal\" attribute that will store the data\n",
    "- Next, we define a method whose name is the exact name we'd like the restricted attribute to have, and put a `@property` decorator on it (if we were writing a DataFrame class, this could be \"columns,\" or \"shape.\"\n",
    "- **The method just returns the actal internal attribute that is storing the data.**\n",
    "- To customize how the attribute is set, we implement a method with a decorater **`@attr.setter`**. The method itself is name exactly the same as the property-- `salary`-- and will be called when a value is assigned to the property attribute. \n",
    "- It has a self argument, ad an argument that represents the value to be assigned. Here, we will raise an exception if the value is negative, otherwise change the internal attribute."
   ]
  },
  {
   "cell_type": "code",
   "execution_count": 62,
   "id": "333cd8a2",
   "metadata": {},
   "outputs": [],
   "source": [
    "class Employer:\n",
    "    def __init__(self, name, new_salary):\n",
    "        self._salary = new_salary               # Use \"protected\" attribute with leading _ to store data\n",
    "        \n",
    "    @property                                   # Use `@property` on a method whose name is exactly the name of\n",
    "    def salary(self):                           # the restricted attribute; return the internal attribute\n",
    "        return self._salary\n",
    "    \n",
    "    @salary.setter                              # Use `@attr.setter` on a method `attr()` that will be called\n",
    "    def salary(self, new_salary):               # on `obj.attr = value`\n",
    "        if new_salary < 0:\n",
    "            raise ValueError(\"Invalid salary\")            \n",
    "        self._salary = new_salary               # The value to assign passed as argument"
   ]
  },
  {
   "cell_type": "markdown",
   "id": "da51ae2d",
   "metadata": {},
   "source": [
    "- **So there are two methods called `salary`-- or, the name of the property-- that have different decorators:**\n",
    "    - The method with the `@property` decorator returns the data\n",
    "    - The method with `@salary.setter` decorator implements validation and sets the attribute\n",
    "- How does this work in practice? We can use this property, just as if it were a regular attribute (but remember that the only real attribute we have is the internal `._salary` attribute)."
   ]
  },
  {
   "cell_type": "code",
   "execution_count": 59,
   "id": "cbcf39ef",
   "metadata": {},
   "outputs": [
    {
     "data": {
      "text/plain": [
       "35000"
      ]
     },
     "execution_count": 59,
     "metadata": {},
     "output_type": "execute_result"
    }
   ],
   "source": [
    "emp = Employee(\"Miriam Azari\", 35000)\n",
    "# accessing the \"property\"\n",
    "emp.salary"
   ]
  },
  {
   "cell_type": "markdown",
   "id": "b24b7038",
   "metadata": {},
   "source": [
    "- Use the dot syntax and equality sign to assign a value to the salary property.\n",
    "- Then, the setter method will be called"
   ]
  },
  {
   "cell_type": "code",
   "execution_count": 60,
   "id": "270daa60",
   "metadata": {},
   "outputs": [],
   "source": [
    "emp.salary = 60000                               # <-- @salary.setter"
   ]
  },
  {
   "cell_type": "markdown",
   "id": "9cd11043",
   "metadata": {},
   "source": [
    "- If we try to assign a negative value to `salary`, an exception will be raised. \n",
    "- Not sure why the below code works, it shouldn't:"
   ]
  },
  {
   "cell_type": "code",
   "execution_count": 61,
   "id": "c208ea77",
   "metadata": {},
   "outputs": [],
   "source": [
    "emp.salary = (-1000)"
   ]
  },
  {
   "cell_type": "markdown",
   "id": "c8068e7c",
   "metadata": {},
   "source": [
    "#### Why use @property?\n",
    "- Properties are useful because the user of your class will not have to do anything special \n",
    "    - **User-facing: behave like attributes**\n",
    "    - User won't even be able to distinguish between properties and regular attributes\n",
    "- You, as the developer, on the other hand, now have some control over the access\n",
    "\n",
    "### Other possibilities\n",
    "- **If you do not define an `@attr.setter` method, the property will be read-only, like DataFrame shape.**\n",
    "- **A method with an `@attr.getter` decorator will be called when the property's value is retrieved.**\n",
    "- **The method with the `@attr.deleter` decorator will be called when an attribute is deleted.**\n",
    "\n",
    "### Exercise: create and set properties\n",
    "There are two parts to defining a property:\n",
    "\n",
    "- first, define an \"internal\" attribute that will contain the data;\n",
    "- then, define a `@property`-decorated method whose *name is the property name*, and that returns the internal attribute storing the data.\n",
    "\n",
    "If you'd also like to define a custom *setter* method, there's an additional step:\n",
    "\n",
    "- define another method whose name is exactly the property name (again), and decorate it with `@prop_name.setter` where `prop_name` is the name of the property. The method should take two arguments -- `self` (as always), and the value that's being assigned to the property.\n",
    "\n",
    "In this exercise, you'll create a `balance` property for a `Customer` class - a better, more controlled version of the `balance` attribute that you worked with before.\n",
    "\n",
    "Create a `Customer` class with the `__init__()` method that:\n",
    "\n",
    "- takes parameters `name` and `new_bal`,\n",
    "- assigns `name` to the attribute `name`,\n",
    "- raises a `ValueError` if `new_bal` is negative,\n",
    "- otherwise, assigns `new_bal` to the attribute `_balance` (with `_`)."
   ]
  },
  {
   "cell_type": "code",
   "execution_count": 48,
   "id": "ab7d0e41",
   "metadata": {},
   "outputs": [],
   "source": [
    "# Create a Customer class\n",
    "class Customer:\n",
    "    def __init__(self, name, new_bal):\n",
    "        self.name = name\n",
    "        if new_bal < 0:\n",
    "            raise ValueError(\"Invalid balance!\")\n",
    "        self._balance = new_bal "
   ]
  },
  {
   "cell_type": "markdown",
   "id": "081572d8",
   "metadata": {},
   "source": [
    "- Add a method `balance()` with a `@property` decorator that returns the `_balance` attribute."
   ]
  },
  {
   "cell_type": "code",
   "execution_count": 49,
   "id": "5e858b06",
   "metadata": {},
   "outputs": [],
   "source": [
    "class Customer:\n",
    "    def __init__(self, name, new_bal):\n",
    "        self.name = name\n",
    "        if new_bal < 0:\n",
    "            raise ValueError(\"Invalid balance!\")\n",
    "        self._balance = new_bal  \n",
    "    \n",
    "    # Add a decorated balance() method returning _balance\n",
    "    @property\n",
    "    def balance(self):\n",
    "        return self._balance"
   ]
  },
  {
   "cell_type": "markdown",
   "id": "f4d20c56",
   "metadata": {},
   "source": [
    "Define *another* `balance()` method to serve as a *setter*, with the appropriate decorator and an additional parameter:\n",
    "\n",
    "- Raise a `ValueError` if the parameter is negative,\n",
    "- otherwise assign it to `_balance` ;\n",
    "- print `\"Setter method is called\"`."
   ]
  },
  {
   "cell_type": "code",
   "execution_count": 51,
   "id": "89110a87",
   "metadata": {},
   "outputs": [],
   "source": [
    "class Customer:\n",
    "    def __init__(self, name, new_bal):\n",
    "        self.name = name\n",
    "        if new_bal < 0:\n",
    "            raise ValueError(\"Invalid balance!\")\n",
    "        self._balance = new_bal  \n",
    "\n",
    "    # Add a decorated balance() method returning _balance        \n",
    "    @property\n",
    "    def balance(self):\n",
    "        return self._balance\n",
    "     \n",
    "    # Add a setter balance() method\n",
    "    @balance.setter\n",
    "    def balance(self, new_bal):\n",
    "        # Validate the parameter value\n",
    "        if new_bal < 0:\n",
    "            raise ValueError(\"Invalid balance\")\n",
    "        self._balance= new_bal\n",
    "        \n",
    "        # Print \"Setter method is called\"\n",
    "        print(\"Setter method is called\")"
   ]
  },
  {
   "cell_type": "markdown",
   "id": "08bd9b8f",
   "metadata": {},
   "source": [
    "- Create a `Customer` named `Belinda Lutz` with the balance of `2000` and save it as `cust`.\n",
    "- Use the dot syntax and the `=` to assign `3000` to `cust.balance`.\n",
    "- Print `cust.balance`.\n",
    "*In the console, try assigning `-1000` to `cust.balance`. What happens?*"
   ]
  },
  {
   "cell_type": "code",
   "execution_count": 65,
   "id": "0d174f5c",
   "metadata": {},
   "outputs": [
    {
     "name": "stdout",
     "output_type": "stream",
     "text": [
      "Setter method called\n",
      "3000\n"
     ]
    }
   ],
   "source": [
    "class Customer:\n",
    "    def __init__(self, name, new_bal):\n",
    "        self.name = name\n",
    "        #if new_bal < 0:\n",
    "            #raise ValueError(\"Invalid balance!\")\n",
    "        #self._balance = new_bal  \n",
    "\n",
    "    # Add a decorated balance() method returning _balance        \n",
    "    @property\n",
    "    def balance(self):\n",
    "        return self._balance\n",
    "\n",
    "    # Add a setter balance() method\n",
    "    @balance.setter\n",
    "    def balance(self, new_bal):\n",
    "        # Validate the parameter value\n",
    "        if new_bal < 0:\n",
    "            raise ValueError(\"Invalid balance!\")\n",
    "        self._balance = new_bal\n",
    "        print(\"Setter method called\")\n",
    "\n",
    "# Create a Customer        \n",
    "cust = Customer(\"Belinda Lutz\", 2000)\n",
    "\n",
    "# Assign 3000 to the balance property\n",
    "cust.balance = 3000\n",
    "\n",
    "# Print the balance property\n",
    "print(cust.balance)"
   ]
  },
  {
   "cell_type": "code",
   "execution_count": 69,
   "id": "6adf42e8",
   "metadata": {},
   "outputs": [
    {
     "data": {
      "text/plain": [
       "True"
      ]
     },
     "execution_count": 69,
     "metadata": {},
     "output_type": "execute_result"
    }
   ],
   "source": [
    "cust._balance == cust.balance"
   ]
  },
  {
   "cell_type": "code",
   "execution_count": 66,
   "id": "1423e4aa",
   "metadata": {},
   "outputs": [
    {
     "ename": "ValueError",
     "evalue": "Invalid balance!",
     "output_type": "error",
     "traceback": [
      "\u001b[0;31m---------------------------------------------------------------------------\u001b[0m",
      "\u001b[0;31mValueError\u001b[0m                                Traceback (most recent call last)",
      "\u001b[0;32m<ipython-input-66-2681a25eda9b>\u001b[0m in \u001b[0;36m<module>\u001b[0;34m\u001b[0m\n\u001b[0;32m----> 1\u001b[0;31m \u001b[0mcust\u001b[0m\u001b[0;34m.\u001b[0m\u001b[0mbalance\u001b[0m \u001b[0;34m=\u001b[0m \u001b[0;34m-\u001b[0m\u001b[0;36m1000\u001b[0m\u001b[0;34m\u001b[0m\u001b[0;34m\u001b[0m\u001b[0m\n\u001b[0m",
      "\u001b[0;32m<ipython-input-65-c909bcb1f66e>\u001b[0m in \u001b[0;36mbalance\u001b[0;34m(self, new_bal)\u001b[0m\n\u001b[1;32m     16\u001b[0m         \u001b[0;31m# Validate the parameter value\u001b[0m\u001b[0;34m\u001b[0m\u001b[0;34m\u001b[0m\u001b[0;34m\u001b[0m\u001b[0m\n\u001b[1;32m     17\u001b[0m         \u001b[0;32mif\u001b[0m \u001b[0mnew_bal\u001b[0m \u001b[0;34m<\u001b[0m \u001b[0;36m0\u001b[0m\u001b[0;34m:\u001b[0m\u001b[0;34m\u001b[0m\u001b[0;34m\u001b[0m\u001b[0m\n\u001b[0;32m---> 18\u001b[0;31m             \u001b[0;32mraise\u001b[0m \u001b[0mValueError\u001b[0m\u001b[0;34m(\u001b[0m\u001b[0;34m\"Invalid balance!\"\u001b[0m\u001b[0;34m)\u001b[0m\u001b[0;34m\u001b[0m\u001b[0;34m\u001b[0m\u001b[0m\n\u001b[0m\u001b[1;32m     19\u001b[0m         \u001b[0mself\u001b[0m\u001b[0;34m.\u001b[0m\u001b[0m_balance\u001b[0m \u001b[0;34m=\u001b[0m \u001b[0mnew_bal\u001b[0m\u001b[0;34m\u001b[0m\u001b[0;34m\u001b[0m\u001b[0m\n\u001b[1;32m     20\u001b[0m         \u001b[0mprint\u001b[0m\u001b[0;34m(\u001b[0m\u001b[0;34m\"Setter method called\"\u001b[0m\u001b[0;34m)\u001b[0m\u001b[0;34m\u001b[0m\u001b[0;34m\u001b[0m\u001b[0m\n",
      "\u001b[0;31mValueError\u001b[0m: Invalid balance!"
     ]
    }
   ],
   "source": [
    "cust.balance = -1000"
   ]
  },
  {
   "cell_type": "markdown",
   "id": "fc8f8696",
   "metadata": {},
   "source": [
    "### Exercise: read-only properties\n",
    "The `LoggedDF` class from Chapter 2 was an extension of the `pandas` DataFrame class that had an additional `created_at` attribute that stored the timestamp when the DataFrame was created, so that the user could see how out-of-date the data is.\n",
    "\n",
    "But that class wasn't very useful: we could just assign any value to `created_at` after the DataFrame was created, thus defeating the whole point of the attribute! Now, using properties, we can make the attribute read-only.\n",
    "\n",
    "The `LoggedDF` class from Chapter 2 is available for you in the script pane.\n",
    "\n",
    "- Assign a new value of `'2035-07-13'` to the `created_at` attribute.\n",
    "- Print the value of `ldf'`s `created_at` attribute to verify that your assignment was successful."
   ]
  },
  {
   "cell_type": "code",
   "execution_count": 67,
   "id": "85e64e0c",
   "metadata": {},
   "outputs": [
    {
     "name": "stdout",
     "output_type": "stream",
     "text": [
      "2035-07-13\n"
     ]
    }
   ],
   "source": [
    "import pandas as pd\n",
    "from datetime import datetime\n",
    "\n",
    "# LoggedDF class definition from Chapter 2\n",
    "class LoggedDF(pd.DataFrame):\n",
    "    def __init__(self, *args, **kwargs):\n",
    "        pd.DataFrame.__init__(self, *args, **kwargs)\n",
    "        self.created_at = datetime.today()\n",
    "\n",
    "    def to_csv(self, *args, **kwargs):\n",
    "        temp = self.copy()\n",
    "        temp[\"created_at\"] = self.created_at\n",
    "        pd.DataFrame.to_csv(temp, *args, **kwargs)   \n",
    "\n",
    "# Instantiate a LoggedDF called ldf\n",
    "ldf = LoggedDF({\"col1\": [1,2], \"col2\":[3,4]}) \n",
    "\n",
    "# Assign a new value to ldf's created_at attribute and print\n",
    "ldf.created_at = '2035-07-13'\n",
    "print(ldf.created_at)"
   ]
  },
  {
   "cell_type": "markdown",
   "id": "6386389d",
   "metadata": {},
   "source": [
    "- Create an internal attribute called `_created_at` to turn `created_at` into a read-only attribute.\n",
    "- Modify the class to use the internal attribute, `_created_at`, in place of `created_at`."
   ]
  },
  {
   "cell_type": "code",
   "execution_count": 70,
   "id": "39a51414",
   "metadata": {},
   "outputs": [],
   "source": [
    "import pandas as pd\n",
    "from datetime import datetime\n",
    "\n",
    "# MODIFY the class to use _created_at instead of created_at\n",
    "class LoggedDF(pd.DataFrame):\n",
    "    def __init__(self, *args, **kwargs):\n",
    "        pd.DataFrame.__init__(self, *args, **kwargs)\n",
    "        self._created_at = datetime.today()\n",
    "    \n",
    "    def to_csv(self, *args, **kwargs):\n",
    "        temp = self.copy()\n",
    "        temp[\"created_at\"] = self._created_at\n",
    "        pd.DataFrame.to_csv(temp, *args, **kwargs)   \n",
    "    \n",
    "    # Add a read-only property: _created_at\n",
    "    @property  \n",
    "    def created_at(self):\n",
    "        return self._created_at\n",
    "\n",
    "# Instantiate a LoggedDF called ldf\n",
    "ldf = LoggedDF({\"col1\": [1,2], \"col2\":[3,4]}) "
   ]
  },
  {
   "cell_type": "markdown",
   "id": "05a47bd4",
   "metadata": {},
   "source": [
    "### What's next?\n",
    "#### Functionality\n",
    "- Multiple inheritance and mix-in classes\n",
    "    - A highly debated feature of Python that isn't present in many other OOP languages\n",
    "- Overriding more built-in operators like arithmetic operators (`+`) or the length operator (`len`)\n",
    "- Further attribute access with `__getattr__()` and `__setattr__()`\n",
    "- Custom iterator classes that you can use to index loops\n",
    "- Abstract base classes used to create interfaces\n",
    "- How to leverage Dataclasses (new in Python 3.7)\n",
    "    - A new type of class that is especially suitable for data storage.\n",
    "    \n",
    "#### Design\n",
    "- SOLID principles:\n",
    "    - **S**ingle-responsibilty principle\n",
    "    - **O**pen-closed principle\n",
    "    - **L**iskov substitution principle\n",
    "    - **I**nterface segregation principle\n",
    "    - **D**ependency inversion principle\n",
    "- Learn more about design patterns:\n",
    "    - reusabl solutions addressing most common problems in software design"
   ]
  }
 ],
 "metadata": {
  "kernelspec": {
   "display_name": "Python 3",
   "language": "python",
   "name": "python3"
  },
  "language_info": {
   "codemirror_mode": {
    "name": "ipython",
    "version": 3
   },
   "file_extension": ".py",
   "mimetype": "text/x-python",
   "name": "python",
   "nbconvert_exporter": "python",
   "pygments_lexer": "ipython3",
   "version": "3.8.8"
  }
 },
 "nbformat": 4,
 "nbformat_minor": 5
}
