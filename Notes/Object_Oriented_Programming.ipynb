{
 "cells": [
  {
   "cell_type": "markdown",
   "id": "e0408b11",
   "metadata": {},
   "source": [
    "# Object-Oriented Programming in Python"
   ]
  },
  {
   "cell_type": "markdown",
   "id": "eb2e2faf",
   "metadata": {},
   "source": [
    "__Object-oriented programming (OOP)__ is a widely used programming paradigm that reduces development times— making it easier to read, reuse, and maintain your code. OOP shifts the focus from thinking about code as a sequence of actions to looking at your program as a collection of objects that interact with each other. In this course, you’ll learn how to create classes, which act as the blueprints for every object in Python. You’ll then leverage principles called inheritance and polymorphism to reuse and optimize code. Dive in and learn how to create beautiful code that’s clean and efficient!"
   ]
  },
  {
   "cell_type": "markdown",
   "id": "4238b8a1",
   "metadata": {},
   "source": [
    "## 1. OOP Fundamentals\n",
    "In this chapter, you'll learn what object-oriented programming (OOP) is, how it differs from procedural-programming, and how it can be applied. You'll then define your own classes, and learn how to create methods, attributes, and constructors."
   ]
  },
  {
   "cell_type": "markdown",
   "id": "37f4ad17",
   "metadata": {},
   "source": [
    "#### Procedural Programming\n",
    "- Code as a sequence of steps\n",
    "- Great for data analysis\n",
    "- In code, as in life, the more data it uses, and the more functionality it has, the harder it is to think about just a sequence of steps. Instead, it is often useful to think about patterns of steps, or **collections of objects**.\n",
    "\n",
    "#### Object-Oriented Programming\n",
    "- __Code as interactions of objects__\n",
    "    - Example: Users interacting with elements of an interface\n",
    "- OOP principles help you organize your code better, making it more usable and maintainable\n",
    "- Great for building frameworks and tools\n",
    "- *Maintainable and reusable code!*\n",
    "- The fundamental components of OOP are **Objects** and **Classes**\n",
    "\n",
    "#### Objects as data structures\n",
    "- An **Object** is a data structure incorporating information about state and behavior\n",
    "    - **object = state + behavior**\n",
    "- The distinctive feature of OOP is that state and behavior are bundled together\n",
    "- **Encapsulation:** bundling data with code operating on it\n",
    "    - For example, instead of thinking of customer data as separate from customer actions, we think of them as one unit, representing a customer\n",
    "- Encapsulation is one of the core tenets of OOP\n",
    "- The real strength of OOP comes from utilizing classes\n",
    "- **Class:** blueprint for objects outlining possible states and behaviors that every object of a certain type could have\n",
    "\n",
    "#### Objects in Python\n",
    "- In Python, everything is an object\n",
    "    - numbers\n",
    "    - strings\n",
    "    - dataframes\n",
    "    - functions\n",
    "    - ...\n",
    "- Every object has a class\n",
    "- In particular, everything you deal with in Python has a class, a blueprint, associated with it under the hood.\n",
    "- The existence of these unified interfaces is why you can use, for example, any DataFrame, in the same way.\n",
    "- You can call `type()` on any Python object to find the class\n",
    "    - For example, the class of NumPy array is actually called `ndarray` for \"n-dimensional array\"\n",
    "\n",
    "## Attributes and methods\n",
    "### State $\\leftarrow$ $\\rightarrow$ Attributes\n",
    "- **State information** in Python is contained in **attributes**\n",
    "\n",
    "### Behavior $\\leftarrow$ $\\rightarrow$ Methods\n",
    "- **Behavior information** in Python is contained in **methods**"
   ]
  },
  {
   "cell_type": "markdown",
   "id": "e5978ec0",
   "metadata": {},
   "source": []
  },
  {
   "cell_type": "markdown",
   "id": "e6c85630",
   "metadata": {},
   "source": []
  },
  {
   "cell_type": "markdown",
   "id": "3f2adaad",
   "metadata": {},
   "source": []
  },
  {
   "cell_type": "markdown",
   "id": "472ef9ec",
   "metadata": {},
   "source": []
  },
  {
   "cell_type": "markdown",
   "id": "bf71f98e",
   "metadata": {},
   "source": []
  },
  {
   "cell_type": "markdown",
   "id": "cc635ef6",
   "metadata": {},
   "source": []
  },
  {
   "cell_type": "markdown",
   "id": "c92816b5",
   "metadata": {},
   "source": []
  },
  {
   "cell_type": "markdown",
   "id": "ddaa51fd",
   "metadata": {},
   "source": []
  },
  {
   "cell_type": "markdown",
   "id": "30c7e1d0",
   "metadata": {},
   "source": []
  },
  {
   "cell_type": "markdown",
   "id": "9ca57731",
   "metadata": {},
   "source": []
  },
  {
   "cell_type": "markdown",
   "id": "b1710e7b",
   "metadata": {},
   "source": []
  },
  {
   "cell_type": "markdown",
   "id": "77f0076e",
   "metadata": {},
   "source": []
  },
  {
   "cell_type": "markdown",
   "id": "8dfc97dd",
   "metadata": {},
   "source": []
  },
  {
   "cell_type": "markdown",
   "id": "0e607f37",
   "metadata": {},
   "source": []
  }
 ],
 "metadata": {
  "kernelspec": {
   "display_name": "Python 3",
   "language": "python",
   "name": "python3"
  },
  "language_info": {
   "codemirror_mode": {
    "name": "ipython",
    "version": 3
   },
   "file_extension": ".py",
   "mimetype": "text/x-python",
   "name": "python",
   "nbconvert_exporter": "python",
   "pygments_lexer": "ipython3",
   "version": "3.8.8"
  }
 },
 "nbformat": 4,
 "nbformat_minor": 5
}
