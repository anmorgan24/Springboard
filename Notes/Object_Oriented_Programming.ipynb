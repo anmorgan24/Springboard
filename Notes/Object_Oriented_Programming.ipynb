{
 "cells": [
  {
   "cell_type": "markdown",
   "id": "9ea3f8a5",
   "metadata": {},
   "source": [
    "# Object-Oriented Programming in Python"
   ]
  },
  {
   "cell_type": "markdown",
   "id": "a83fb145",
   "metadata": {},
   "source": [
    "__Object-oriented programming (OOP)__ is a widely used programming paradigm that reduces development times— making it easier to read, reuse, and maintain your code. OOP shifts the focus from thinking about code as a sequence of actions to looking at your program as a collection of objects that interact with each other. In this course, you’ll learn how to create classes, which act as the blueprints for every object in Python. You’ll then leverage principles called inheritance and polymorphism to reuse and optimize code. Dive in and learn how to create beautiful code that’s clean and efficient!"
   ]
  },
  {
   "cell_type": "markdown",
   "id": "8f190285",
   "metadata": {},
   "source": [
    "## 1. OOP Fundamentals\n",
    "In this chapter, you'll learn what object-oriented programming (OOP) is, how it differs from procedural-programming, and how it can be applied. You'll then define your own classes, and learn how to create methods, attributes, and constructors."
   ]
  },
  {
   "cell_type": "markdown",
   "id": "434258d3",
   "metadata": {},
   "source": [
    "#### Procedural Programming\n",
    "- Code as a sequence of steps\n",
    "- Great for data analysis\n",
    "- In code, as in life, the more data it uses, and the more functionality it has, the harder it is to think about just a sequence of steps. Instead, it is often useful to think about patterns of steps, or **collections of objects**.\n",
    "\n",
    "#### Object-Oriented Programming\n",
    "- __Code as interactions of objects__\n",
    "    - Example: Users interacting with elements of an interface\n",
    "- OOP principles help you organize your code better, making it more usable and maintainable\n",
    "- Great for building frameworks and tools\n",
    "- *Maintainable and reusable code!*\n",
    "- The fundamental components of OOP are **Objects** and **Classes**\n",
    "\n",
    "#### Objects as data structures\n",
    "- An **Object** is a data structure incorporating information about state and behavior\n",
    "    - **object = state + behavior**\n",
    "- The distinctive feature of OOP is that state and behavior are bundled together\n",
    "- **Encapsulation:** bundling data with code operating on it\n",
    "    - For example, instead of thinking of customer data as separate from customer actions, we think of them as one unit, representing a customer\n",
    "- Encapsulation is one of the core tenets of OOP\n",
    "- The real strength of OOP comes from utilizing classes\n",
    "- **Class:** blueprint for objects outlining possible states and behaviors that every object of a certain type could have\n",
    "\n",
    "#### Objects in Python\n",
    "- In Python, everything is an object\n",
    "    - numbers\n",
    "    - strings\n",
    "    - dataframes\n",
    "    - functions\n",
    "    - ...\n",
    "- Every object has a class\n",
    "- In particular, everything you deal with in Python has a class, a blueprint, associated with it under the hood.\n",
    "- The existence of these unified interfaces is why you can use, for example, any DataFrame, in the same way.\n",
    "- You can call `type()` on any Python object to find the class\n",
    "    - For example, the class of NumPy array is actually called `ndarray` for \"n-dimensional array\"\n",
    "\n",
    "## Attributes and methods\n",
    "### State $\\leftarrow$ $\\rightarrow$ Attributes\n",
    "- **State information** in Python is contained in **attributes**\n",
    "\n",
    "### Behavior $\\leftarrow$ $\\rightarrow$ Methods\n",
    "- **Behavior information** in Python is contained in **methods**\n",
    "\n",
    "<img src='data/oop1.png' width=\"600\" height=\"300\" align=\"center\"/>"
   ]
  },
  {
   "cell_type": "markdown",
   "id": "22da6d7e",
   "metadata": {},
   "source": [
    "- **You can list all the attributes and methods that an object has by calling `dir` on it:**\n",
    "\n",
    "<img src='data/oop2.png' width=\"600\" height=\"300\" align=\"center\"/>"
   ]
  },
  {
   "cell_type": "markdown",
   "id": "4fb49005",
   "metadata": {},
   "source": [
    "- **Class:** An abstract template describing general traits and behaviors\n",
    "- **Objects:** Particular representations of a class (that follow that particular abstract template).\n",
    "- Classes and objects both have attributes and methods, but the difference is that a class is an abstract template, while an object is a concrete representation of a class"
   ]
  },
  {
   "cell_type": "markdown",
   "id": "ffe1ee6a",
   "metadata": {},
   "source": [
    "### $\\star$ Exercise: Exploring object interface\n",
    "The best way to learn how to write object-oriented code is to study the design of existing classes. You've already learned about exploration tools like `type()` and `dir()`.\n",
    "\n",
    "Another important function is `help()`: calling `help(x)` in the console will show the documentation for the object or class `x`.\n",
    "\n",
    "Most real world classes have many methods and attributes, and it is easy to get lost, so in this exercise, you will start with something simpler. We have defined a class, and created an object of that class called `mystery`. Explore the object in the console using the tools that you learned.\n",
    "\n",
    "__Question: What class does the `mystery` object have?__\n",
    "\n",
    "<img src='data/oop3.png' width=\"600\" height=\"300\" align=\"center\"/>\n",
    "<img src='data/oop4.png' width=\"600\" height=\"300\" align=\"center\"/>\n",
    "<img src='data/oop8.png' width=\"600\" height=\"300\" align=\"center\"/>\n",
    "<img src='data/oop5.png' width=\"600\" height=\"300\" align=\"center\"/>\n",
    "<img src='data/oop6.png' width=\"600\" height=\"300\" align=\"center\"/>\n",
    "<img src='data/oop7.png' width=\"600\" height=\"300\" align=\"center\"/>\n",
    "\n",
    "\n",
    "**Answer: `__main__.Employee`**\n",
    "\n",
    "<img src='data/oop9.png' width=\"600\" height=\"300\" align=\"center\"/>"
   ]
  },
  {
   "cell_type": "markdown",
   "id": "d61c2c1e",
   "metadata": {},
   "source": [
    "**Note** that there are a few different ways to determine the class of the `mystery` object, including:\n",
    "- **`mystery.__class__`**\n",
    "- **`type(mystery)`**\n",
    "- See first line of output from **`help(mystery)`**:\n",
    "    - `Help on Employee in module __main__ object:`\n",
    "\n",
    "***\n",
    "\n",
    "**Question:** How can you print the `mystery` employee's name? Salary?\n",
    "\n",
    "**Answer:** \n",
    "- `mystery.name`\n",
    "- `mystery.salary`\n",
    "\n",
    "***\n",
    "\n",
    "**Question:** How can you give the `mystery` employee a raise of $2500?\n",
    "- `mystery.give_raise(2500)`\n",
    "- (to confirm:) `mystery.salary`\n"
   ]
  },
  {
   "cell_type": "markdown",
   "id": "e74ff94b",
   "metadata": {},
   "source": [
    "## Class anatomy: attributes and methods"
   ]
  },
  {
   "cell_type": "markdown",
   "id": "9dba1df8",
   "metadata": {},
   "source": [
    "Now that we've learned how to work with existing objects and classes, we'll learn how to create our own.\n",
    "\n",
    "### A basic class\n",
    "- To start a new class definition, all you need is a class statement, followed by the name of the class and a colon.\n",
    "- You can create an empty class as a blank template, but including the pass statement after the class declaration.\n",
    "- Even thought the class below is empty, **we can create objects of the class by specifying the name of class, followed by parentheses.**\n",
    "- Below, `c1` and `c2` are two different objects of the empty class `Customer`.\n",
    "\n",
    "\n",
    "<img src='data/oop10.png' width=\"600\" height=\"300\" align=\"center\"/>\n",
    "\n",
    "- However, we want to create objects that actually store data and operate on it (in other words, that have **attributes** and **methods**).\n",
    "\n",
    "### Add methods to a class\n",
    "- Defining a method is simple:\n",
    "- Methods are functions, so the definition looks just like a regular Python function with one exception: the special \"**self**\" argument, which every method will have as the first argument (possibly followed by other arguments. \n",
    "\n",
    "<img src='data/oop11.png' width=\"600\" height=\"300\" align=\"center\"/>\n",
    "\n",
    "### What is self?\n",
    "- Classes are *templates*: objects of a class don't yet exist when a class is being defined, but we often need a way to refer to the data of a particular object within class definition.\n",
    "- **This is the purpose of self: it's a stand-in for the future object.** \n",
    "- That's why every method should have the self argument-- so we could use it to access attributes and call other methods from within the class definition even ewhen no objects were created yet. \n",
    "- Python will handle `self` when the method is called from an object using the dot syntax. In fact, using `object.method` is equivalent to passing that object as an argument. That's why we don't specify it explicitly when calling the method from an existing object\n",
    "\n",
    "<img src='data/oop12.png' width=\"600\" height=\"300\" align=\"center\"/>"
   ]
  },
  {
   "cell_type": "markdown",
   "id": "54d0fad3",
   "metadata": {},
   "source": [
    "### We need attibutes \n",
    "- By the principles of OOP, the data describing the state of the object should be bundled into the object\n",
    "- For example: `Customer`'s `name` should be an attribute of the customer object (instead of a parameter passed to a method. \n",
    "- **Encapsulation:** bundling data with methods that operate on data\n",
    "- In Python, **attributes**, like variables, are created by assignment (`=`) in methods, meaning an attribute only manifests into existence only once a value is assigned to it. \n",
    "\n",
    "<img src='data/oop12.png' width=\"600\" height=\"300\" align=\"center\"/>\n",
    "\n",
    "<img src='data/oop13.png' width=\"600\" height=\"300\" align=\"center\"/>\n",
    "\n",
    "<img src='data/oop14.png' width=\"600\" height=\"300\" align=\"center\"/>\n",
    "\n",
    "<img src='data/oop15.png' width=\"600\" height=\"300\" align=\"center\"/>\n",
    "\n",
    "<img src='data/oop16.png' width=\"600\" height=\"300\" align=\"center\"/>\n",
    "\n",
    "<img src='data/oop17.png' width=\"600\" height=\"300\" align=\"center\"/>\n",
    "\n",
    "<img src='data/oop18.png' width=\"600\" height=\"300\" align=\"center\"/>"
   ]
  },
  {
   "cell_type": "markdown",
   "id": "92304310",
   "metadata": {},
   "source": [
    "## Class anatomy: the __init__ constructor\n",
    "\n",
    "### Methods and attributes\n",
    "- Methods are function definitions within a class\n",
    "- `self` as the first argument\n",
    "- Define attributes by assignment\n",
    "- Refer to attributes in class via `self.___`\n",
    "- In the exercises, you created an `Employee` class and for each attribute you wanted to create, you defined a new method and then called those methods one after another. This could quickly get unsustainable if your classes contain a lot of data.\n",
    "\n",
    "<img src='data/oop19.png' width=\"600\" height=\"300\" align=\"center\"/>\n",
    "\n",
    "- A better strategy would be to add data to the object when creating it, like you do when creating a NumPy array or a DataFrame\n",
    "- Python allows you to add a special method called \"the constructor\"\n",
    "- **Constructor: `__init__()`** method is called every time an object is created.\n",
    "- Note that the exact name (init) and the double underscores are essential for Python to recognize it\n",
    "- Below, we define the `__init__` method for the customer class:\n",
    "\n",
    "<img src='data/oop20.png' width=\"600\" height=\"300\" align=\"center\"/>"
   ]
  },
  {
   "cell_type": "markdown",
   "id": "27de7cec",
   "metadata": {},
   "source": [
    "- Notice above that the init method was automatically called, and the name attribute created\n",
    "\n",
    "<img src='data/oop21.png' width=\"600\" height=\"300\" align=\"center\"/>\n",
    "\n",
    "- The `__init__` constructor is also a good place to set the default values for attributes \n",
    "- For example, here, we set the default value of the balance argument to 0 so that we can create a customer object without specifying the value of the balance:\n",
    "\n",
    "<img src='data/oop22.png' width=\"600\" height=\"300\" align=\"center\"/>\n",
    "\n",
    "- However, the attribute is created anyways, and is initialized to 0. \n",
    "\n",
    "#### Attribute definitions\n",
    "- In summary, there are two ways to define attributes:\n",
    "    - 1) **We can define an attribute in any method in a class**, and then calling the method will add the attribute to the object\n",
    "    - 2) Alternatively, **we can define them all together in the constructor**\n",
    "- If possible, try to avoid defining attributes outside the constructor\n",
    "- Your class definition can be hundreds of lines of code long and the person reading it would have to comb through all of them to find all of the attributes\n",
    "- Moreover, defining all of the attributes in the constructor ensures that all of them are created when the object is created, so you don't have to worry about trying to access an attribute that doesn't yet exist \n",
    "- All of this results in more organized, reusable, and maintainable code\n",
    "\n",
    "<img src='data/oop23.png' width=\"600\" height=\"300\" align=\"center\"/>\n",
    "\n",
    "## Best practices\n",
    "- **1) Initialize attributes in `__init_()`**\n",
    "- **2) Naming:**\n",
    "    - **`CamelCase`** for classes\n",
    "    - **`lower_snake_case`** for functions and attributes\n",
    "- **3) Keep `self` as `self`**\n",
    "    - The name `self` is actually a convention; you could use any name for the first variable of a method and it will always be treated as the **object reference**, regardless.\n",
    "    - See image below for example of what *not* to do\n",
    "- **4) Use docstrings**\n",
    "    - Classes, like functions allow for docstrings, which are **displayed when help is called on the object**.\n",
    "    - Use docstrings to make the life of the person using your class easier\n",
    "    \n",
    "\n",
    "<img src='data/oop24.png' width=\"600\" height=\"300\" align=\"center\"/>\n",
    "\n",
    "<img src='data/oop25.png' width=\"600\" height=\"300\" align=\"center\"/>\n",
    "\n",
    "- **The `__init__()` method is also a great place to do some preprocessing:**\n",
    "\n",
    "<img src='data/oop26.png' width=\"600\" height=\"300\" align=\"center\"/>\n",
    "\n",
    "- **Set `hire_date` to today's date:**\n",
    "\n",
    "<img src='data/oop27.png' width=\"600\" height=\"300\" align=\"center\"/>"
   ]
  },
  {
   "cell_type": "markdown",
   "id": "b2470e35",
   "metadata": {},
   "source": [
    "### Exercise: Write a class from scratch\n",
    "You are a Python developer writing a visualization package. For any element in a visualization, you want to be able to tell the position of the element, how far it is from other elements, and easily implement horizontal or vertical flip.\n",
    "\n",
    "The most basic element of any visualization is a single point. In this exercise, you'll write a class for a point on a plane from scratch.\n",
    "\n",
    "<img src='data/oop28.png' width=\"600\" height=\"300\" align=\"center\"/>"
   ]
  },
  {
   "cell_type": "markdown",
   "id": "799c17ee",
   "metadata": {},
   "source": [
    "## 2. Inheritance and Polymorphism \n",
    "Inheritance and polymorphism are the core concepts of OOP that enable efficient and consistent code reuse. Learn how to inherit from a class, customize and redefine methods, and review the differences between class-level data and instance-level data."
   ]
  },
  {
   "cell_type": "markdown",
   "id": "6a5f59c1",
   "metadata": {},
   "source": [
    "### Instance and class data\n",
    "\n",
    "#### $\\star$ $\\star$ $\\star$ Core principles of OOP $\\star$ $\\star$ $\\star$\n",
    "\n",
    "**Inheritance:**\n",
    "- Extending functionality of existing code\n",
    "\n",
    "**Polymorphism:**\n",
    "- Creating a unified interface\n",
    "\n",
    "**Encapsulation:**\n",
    "- Bundling of data and methods"
   ]
  },
  {
   "cell_type": "markdown",
   "id": "eb77cb5b",
   "metadata": {},
   "source": [
    "- Inheritance and polymorphism, together with encapsulation, form the core principles of OOP\n",
    "\n",
    "<img src='data/oop29.png' width=\"300\" height=\"150\" align=\"center\"/>\n",
    "\n",
    "### Instance-level data vs. Class-level data\n",
    "\n",
    "#### Class attributes\n",
    "\n",
    "<img src='data/oop30.png' width=\"300\" height=\"150\" align=\"center\"/>\n",
    "\n",
    "* **Class attributes serve as global variables within a class.**\n",
    "\n",
    "<img src='data/oop31.png' width=\"300\" height=\"150\" align=\"center\"/>\n",
    "\n",
    "* $\\star$ **Note that we don't use `self` to define *class* attributes and we use `ClassName.ATTR_NAME` to access the *class* attribute value.** $\\star$\n",
    "* This variable will be shared among all the instances of the class.\n",
    "* We can access it like any other attribute from an object instance and the value will be the same across instances.\n",
    "\n",
    "<img src='data/oop32.png' width=\"600\" height=\"300\" align=\"center\"/>\n",
    "\n",
    "* This variable will be shared among all the instances of the class.\n",
    "* We can access it like any other attribute from an object instance and the value will be the same across instances.\n",
    "\n",
    "<img src='data/oop33.png' width=\"600\" height=\"300\" align=\"center\"/>\n",
    "\n",
    "* **The main use case for clas attributes is as global constants related to the class.**\n",
    "* For example:\n",
    "    - minimal/maximal values for attributes\n",
    "    - commonly used values and constants, e.g. `pi` for a `Circle` class\n",
    "\n",
    "#### Class methods\n",
    "- Regular methods are already shared between instances; the same code gets executed for every instance.\n",
    "- The only difference is the data that is fed into it. \n",
    "- It is possible to define methods bound to a class, rather than an instance, but they have a narrow application scope.\n",
    "    - **Class methods can't use instance-level data.**\n",
    "- **To define a class method, start with a *class method decorator***, followed by a method definition\n",
    "    - The only difference is that now the first argument is not `self`, but **`cls`** (referring to the class), just like the `self` argument, with a reference to a particular instance.\n",
    "    - Then, you write it as any other function, keeping in mind that you can't refer to any instance attributes in this method\n",
    "- **To call a class method, use `Class.method(args)` syntax.**\n",
    "    - Rather than object.method() syntax\n",
    "    \n",
    "<img src='data/oop34.png' width=\"600\" height=\"300\" align=\"center\"/>\n",
    "\n",
    "- $\\star$ **So, why would we ever need class methods at all?** $\\star$\n",
    "- The main use case is **alternative constructors**\n",
    "- **A class can only have one `__init__()` method, but there might be multiple ways to initialize an object.**\n",
    "    - For example, we might want to create an `Employee` object from data stored in a file\n",
    "    - We can't use a method, because that would require an instance (and there isn't one yet)\n",
    "    - So, here we introduce a class method `from_file` that accepts a file name, reads the first line from the file (that presumably contains the name of the employee) and returns an object instance\n",
    "    - In the return statement, we use the `cls` variable --> this line will call the `__init__` constructor just like using `Employee()` would outside of the class definition\n",
    "    - **Use class methods to create objects.**\n",
    "    \n",
    "<img src='data/oop35.png' width=\"600\" height=\"300\" align=\"center\"/>\n",
    "\n",
    "<img src='data/oop36.png' width=\"400\" height=\"200\" align=\"center\"/>"
   ]
  },
  {
   "cell_type": "markdown",
   "id": "41be6f2c",
   "metadata": {},
   "source": [
    "### Exercise: Class-level attributes\n",
    "Class attributes store data that is shared among all the class instances. They are assigned values in the class body, and are referred to using the `ClassName.__` syntax rather than `self.__` syntax when used in methods.\n",
    "\n",
    "In this exercise, you will be a game developer working on a game that will have several players moving on a grid and interacting with each other. As the first step, you want to define a `Player` class that will just move along a straight line. `Player` will have a `position` attribute and a `move()` method. The grid is limited, so the `position` of `Player` will have a maximal value.\n",
    "\n",
    "<img src='data/oop37.png' width=\"400\" height=\"200\" align=\"center\"/>\n",
    "\n",
    "<img src='data/oop38.png' width=\"600\" height=\"300\" align=\"center\"/>\n",
    "\n",
    "### Exercise: Changing class attributes\n",
    "You learned how to define class attributes and how to access them from class instances. So what will happen if you try to assign another value to a class attribute when accessing it from an instance? The answer is not as simple as you might think!\n",
    "\n",
    "The `Player` class from the previous exercise is pre-defined. Recall that it has a `position` instance attribute, and `MAX_SPEED` and `MAX_POSITION` class attributes. The initial value of `MAX_SPEED` is `3`.\n",
    "\n",
    "<img src='data/oop39.png' width=\"500\" height=\"250\" align=\"center\"/>\n",
    "\n",
    "Even though `MAX_SPEED` is shared across instances, assigning 7 to `p1.MAX_SPEED` didn't change the value of `MAX_SPEED` in `p2`, or in the `Player` class.\n",
    "\n",
    "So what happened? In fact, Python created a new *instance attribute* in `p1`, also called it `MAX_SPEED`, and assigned `7` to it, without touching the class attribute.\n",
    "\n",
    "Now let's change the class attribute value for real:\n",
    "\n",
    "<img src='data/oop40.png' width=\"500\" height=\"250\" align=\"center\"/>\n",
    "\n",
    "### Exercise: Alternative constructors\n",
    "Python allows you to define class *methods* as well, using the `@classmethod` decorator and a special first argument `cls`. The main use of class methods is defining methods that return an instance of the class, but aren't using the same code as `__init__()`.\n",
    "\n",
    "For example, you are developing a time series package and want to define your own class for working with dates, `BetterDate`. The attributes of the class will be `year`, `month`, and `day`. You want to have a constructor that creates `BetterDate` objects given the values for year, month, and day, but you also want to be able to create `BetterDate` objects from strings like `2020-04-30`.\n",
    "\n",
    "You might find the following functions useful:\n",
    "\n",
    "- `.split(\"-\")` method will split a string at `\"-\"` into an array, e.g. `\"2020-04-30\".split(\"-\")` returns `[\"2020\", \"04\", \"30\"]`,\n",
    "- `int()` will convert a string into a number, e.g. `int(\"2019\")` is `2019`.\n",
    "\n",
    "<img src='data/oop41.png' width=\"600\" height=\"300\" align=\"center\"/>\n",
    "\n",
    "For compatibility, you also want to be able to convert a `datetime` object into a `BetterDate` object.\n",
    "\n",
    "Add a class method `from_datetime()` that accepts a `datetime` object as the argument, and uses its attributes `.year`, `.month` and `.day` to create a `BetterDate` object with the same attribute values.\n",
    "\n",
    "<img src='data/oop42.png' width=\"600\" height=\"300\" align=\"center\"/>\n"
   ]
  },
  {
   "cell_type": "markdown",
   "id": "59ee5ca1",
   "metadata": {},
   "source": [
    "## Class inheritance\n",
    "- OOP is fundamentally about code re-use\n",
    "- There's a good chance that someone has already written code that solves a part of your problem \n",
    "- Modules like NumPy and pandas are great tools that allow you to use code written by other programmers.\n",
    "- **But what if that code doesn't match your needs exactly?**\n",
    "    - For example, you might want to modify the `to_csv` method of pandas to adjust the output format\n",
    "- **OOP allows you to keep interface consistent, while customizing functionality**\n",
    "\n",
    "<img src='data/oop43.png' width=\"300\" height=\"150\" align=\"center\"/>\n",
    "\n",
    "### Inheritance\n",
    "- Class inheritance is a mechanism by which we can define a new class that gets all the functionality of another class, plus maybe something extra, without reimplementing the code.\n",
    "\n",
    "<img src='data/oop44.png' width=\"600\" height=\"300\" align=\"center\"/>\n",
    "\n",
    "#### Implementing class inheritance\n",
    "- Declaring a class that inherits from another class is very straightforward: You simply add parenthesis after the class name and then specify the class to inherit from\n",
    "\n",
    "<img src='data/oop45.png' width=\"600\" height=\"300\" align=\"center\"/>\n",
    "\n",
    "* Child class has all of the parent data, even though we did not define a constructor:\n",
    "\n",
    "<img src='data/oop46.png' width=\"600\" height=\"300\" align=\"center\"/>\n",
    "\n",
    "* **Inheritance represents an \"is-a\" relationship:**\n",
    "    - A **`SavingsAccount`** is a **`BankAccount`** (possibly with special, or additional, features)\n",
    "    - This isn't just theoretical, this is how Python treats it as well.\n",
    "    \n",
    "<img src='data/oop47.png' width=\"600\" height=\"300\" align=\"center\"/>"
   ]
  },
  {
   "cell_type": "code",
   "execution_count": 1,
   "id": "51080996",
   "metadata": {},
   "outputs": [],
   "source": [
    "class Counter:\n",
    "    def __init__(self, count):\n",
    "       self.count = count\n",
    "\n",
    "    def add_counts(self, n):\n",
    "       self.count += n\n",
    "\n",
    "class Indexer(Counter):\n",
    "   pass"
   ]
  },
  {
   "cell_type": "code",
   "execution_count": 3,
   "id": "20ab9bf9",
   "metadata": {},
   "outputs": [],
   "source": [
    "count = Counter(5)"
   ]
  },
  {
   "cell_type": "code",
   "execution_count": 4,
   "id": "7f6e47e9",
   "metadata": {},
   "outputs": [
    {
     "name": "stdout",
     "output_type": "stream",
     "text": [
      "<__main__.Counter object at 0x7ff350753ee0>\n"
     ]
    }
   ],
   "source": [
    "print(count)"
   ]
  },
  {
   "cell_type": "code",
   "execution_count": 5,
   "id": "6c5fe4b7",
   "metadata": {},
   "outputs": [
    {
     "data": {
      "text/plain": [
       "5"
      ]
     },
     "execution_count": 5,
     "metadata": {},
     "output_type": "execute_result"
    }
   ],
   "source": [
    "count.count"
   ]
  },
  {
   "cell_type": "code",
   "execution_count": 6,
   "id": "85abcab3",
   "metadata": {},
   "outputs": [],
   "source": [
    "count.add_counts(1)"
   ]
  },
  {
   "cell_type": "code",
   "execution_count": 7,
   "id": "2f70eec2",
   "metadata": {},
   "outputs": [
    {
     "data": {
      "text/plain": [
       "6"
      ]
     },
     "execution_count": 7,
     "metadata": {},
     "output_type": "execute_result"
    }
   ],
   "source": [
    "count.count"
   ]
  },
  {
   "cell_type": "code",
   "execution_count": 8,
   "id": "5dfe57d0",
   "metadata": {},
   "outputs": [],
   "source": [
    "ind = Indexer(2)"
   ]
  },
  {
   "cell_type": "code",
   "execution_count": 9,
   "id": "b6b3daa1",
   "metadata": {},
   "outputs": [
    {
     "data": {
      "text/plain": [
       "2"
      ]
     },
     "execution_count": 9,
     "metadata": {},
     "output_type": "execute_result"
    }
   ],
   "source": [
    "ind.count"
   ]
  },
  {
   "cell_type": "code",
   "execution_count": 10,
   "id": "5435e4f7",
   "metadata": {},
   "outputs": [],
   "source": [
    "ind.add_counts(6)"
   ]
  },
  {
   "cell_type": "code",
   "execution_count": 11,
   "id": "6b9f3efc",
   "metadata": {},
   "outputs": [
    {
     "data": {
      "text/plain": [
       "8"
      ]
     },
     "execution_count": 11,
     "metadata": {},
     "output_type": "execute_result"
    }
   ],
   "source": [
    "ind.count"
   ]
  },
  {
   "cell_type": "markdown",
   "id": "969608aa",
   "metadata": {},
   "source": [
    "<img src='data/oop48.png' width=\"600\" height=\"300\" align=\"center\"/>\n",
    "\n",
    "### Exercise: Create a subclass\n",
    "The purpose of child classes -- or sub-classes, as they are usually called - is to customize and extend functionality of the parent class.\n",
    "\n",
    "Recall the `Employee` class from earlier in the course. In most organizations, managers enjoy more privileges and more responsibilities than a regular employee. So it would make sense to introduce a `Manager` class that has more functionality than `Employee`.\n",
    "\n",
    "But a `Manager` is still an employee, so the `Manager` class should be inherited from the `Employee` class.\n",
    "\n",
    "<img src='data/oop49.png' width=\"600\" height=\"300\" align=\"center\"/>"
   ]
  },
  {
   "cell_type": "markdown",
   "id": "2004acff",
   "metadata": {},
   "source": [
    "* Remove the `pass` statement and add a `display()` method to the `Manager` class that just prints the string `\"Manager\"` followed by the full name, e.g. `\"Manager Katie Flatcher\"`.\n",
    "\n",
    "* Call the `.display()`method from the `mng` instance.\n",
    "\n",
    "<img src='data/oop50.png' width=\"600\" height=\"300\" align=\"center\"/>\n",
    "\n",
    "## Customizing functionality via inheritance\n",
    "\n",
    "<img src='data/oop51.png' width=\"500\" height=\"250\" align=\"center\"/>\n",
    "\n",
    "- **Let's start customization by adding a constructor specifically for the child class:**\n",
    "- We use `BankAccount.__init__(...)` to tell Python to call the constructor from the parent class\n",
    "- **In the following example `self` refers to `SavingsAccount`, and insomuch as `SavingsAccount` is an instance of `BankAccount`, `self` is also a `BankAccount`.**\n",
    "- Then, we can add more functionality: in our case was add the `interest_rate` attribute.\n",
    "- You're not actually required to call the parent constructor in the customization of the child class, but you'll find that you usually do use it. (?)\n",
    "\n",
    "<img src='data/oop52.png' width=\"600\" height=\"300\" align=\"center\"/>\n",
    "\n",
    "<img src='data/oop53.png' width=\"600\" height=\"300\" align=\"center\"/>\n",
    "\n",
    "- In the exercise above, we saw that we can add methods to a subclass, just like to any other class.\n",
    "- In these additional methods, you can use data from both the parent and the child class \n",
    "\n",
    "<img src='data/oop54.png' width=\"600\" height=\"300\" align=\"center\"/>\n",
    "\n",
    "### Customizing functionality\n",
    "- Start by inheriting from the parent class\n",
    "- Add a customized constructor that also executes the parent code, a deposit method, and a withdraw method\n",
    "- But we add a new parameter to withdraw: `fee`.\n",
    "- This method runs almost the same code as the `BankAccount.withdraw()` method without reimplementing it, just augmenting it.\n",
    "\n",
    "<img src='data/oop55.png' width=\"600\" height=\"300\" align=\"center\"/>\n",
    "\n",
    "- Now, when you call `withdraw` from an object that is a `CheckingAccount` instance, the new customized version will be used. \n",
    "- The interface of the call is the same for both child and parent classes, and the actual method that is called is determined by the instance class. \n",
    "- This is an application of **polymorphism**.\n",
    "\n",
    "<img src='data/oop56.png' width=\"600\" height=\"300\" align=\"center\"/>"
   ]
  },
  {
   "cell_type": "markdown",
   "id": "afce3c72",
   "metadata": {},
   "source": [
    "### Exercise: Method inheritance\n",
    "Inheritance is powerful because it allows us to reuse and customize code without rewriting existing code. By calling methods of the parent class within the child class, we reuse all the code in those methods, making our code concise and manageable.\n",
    "\n",
    "In this exercise, you'll continue working with the `Manager` class that is inherited from the `Employee` class. You'll add new data to the class, and customize the `give_raise()` method from Chapter 1 to increase the manager's raise amount by a bonus percentage whenever they are given a raise.\n",
    "\n",
    "A simplified version of the `Employee` class, as well as the beginning of the `Manager` class from the previous lesson is provided for you in the script pane.\n",
    "\n",
    "Add a constructor to `Manager` that:\n",
    "\n",
    "* accepts `name`, `salary` (default `50000`), and `project` (default `None`)\n",
    "* calls the constructor of the `Employee` class with the `name` and `salary` parameters,\n",
    "* creates a `project` attribute and sets it to the `project` parameter.\n",
    "\n",
    "<img src='data/oop57.png' width=\"600\" height=\"300\" align=\"center\"/>\n",
    "\n",
    "Add a `give_raise()` method to `Manager` that:\n",
    "\n",
    "* accepts the same parameters as `Employee.give_raise()`, plus a `bonus` parameter with the default value of `1.05` (bonus of 5%),\n",
    "* multiplies `amount` by `bonus`,\n",
    "* uses the `Employee`'s method to raise salary by that product.\n",
    "\n",
    "<img src='data/oop58.png' width=\"600\" height=\"300\" align=\"center\"/>\n",
    "\n",
    "### Exercises: Inheritance of class attributes\n",
    "In the beginning of this chapter, you learned about class attributes and methods that are shared among all the instances of a class. How do they work with inheritance?\n",
    "\n",
    "In this exercise, you'll create subclasses of the `Player` class from the first lesson of the chapter, and explore the inheritance of class attributes and methods.\n",
    "\n",
    "The `Player` class has been defined for you. Recall that the `Player` class had two class-level attributes: `MAX_POSITION` and `MAX_SPEED`, with default values `10` and `3`.\n",
    "\n",
    "* Create a class `Racer` inherited from `Player`,\n",
    "* Assign `5` to `MAX_SPEED` in the body of the class.\n",
    "* Create a `Player` object `p` and a `Racer` object `r` (no arguments needed for the constructor).\n",
    "\n",
    "<img src='data/oop59.png' width=\"400\" height=\"200\" align=\"center\"/>\n",
    "\n",
    "* **Class attributes CAN be inherited, and the value of class attributes CAN be overwritten in the child class.**\n",
    "\n",
    "### Exercises: Customizing a DataFrame\n",
    "\n",
    "In your company, any data has to come with a timestamp recording when the dataset was created, to make sure that outdated information is not being used. You would like to use `pandas` DataFrames for processing data, but you would need to customize the class to allow for the use of timestamps.\n",
    "\n",
    "In this exercise, you will implement a small `LoggedDF` class that inherits from a regular `pandas` DataFrame but has a `created_at` attribute storing the timestamp. You will then augment the standard `to_csv()` method to always include a column storing the creation date.\n",
    "\n",
    "*Tip: all DataFrame methods have many parameters, and it is not sustainable to copy all of them for each method you're customizing. The trick is to use variable-length arguments `*args` and `**kwargs` to catch all of them.*\n",
    "\n",
    "<img src='data/oop60.png' width=\"500\" height=\"250\" align=\"center\"/>\n",
    "\n",
    "* Add a to_csv() method to LoggedDF that:\n",
    "* copies self to a temporary DataFrame using .copy(),\n",
    "* creates a new column created_at in the temporary DataFrame and fills it with self.created_at\n",
    "* calls pd.DataFrame.to_csv() on the temporary variable.\n",
    "\n",
    "<img src='data/oop61.png' width=\"500\" height=\"250\" align=\"center\"/>"
   ]
  },
  {
   "cell_type": "markdown",
   "id": "65dffa9b",
   "metadata": {},
   "source": [
    "## Review\n",
    "- Adding methods to a class:\n",
    "    - **method definition = funciton definition** within a class, **except for one exception**:\n",
    "        - **use `self` as the 1st argument in method definition**\n",
    "- `self` is a stand-in for the future object\n",
    "- every method should have the self argument\n",
    "\n",
    "#### Attributes\n",
    "- **Encapsulation:** bundling data with methods that operate on data\n",
    "- E.g. customer name should be an attribute (and not a parameter passed to a method)\n",
    "- Attributes are created by assignment (=) in methods\n",
    "\n",
    "#### The __init__ constructor\n",
    "- **Constructor:** `__init__` method is authomatically called every time an object is created\n",
    "- The init constructor is also a good place to set default values"
   ]
  },
  {
   "cell_type": "markdown",
   "id": "c90c5373",
   "metadata": {},
   "source": [
    "- Object = state + behavior\n",
    "- Encapsulation- bundling data with the code operating on it\n",
    "- Class: blueprint for objects outlining possible states and behaviors\n",
    "- `type()` returns class\n",
    "- attributes are respresented by variables\n",
    "- methods are represented as functions\n",
    "- `dir()` lists all attributes and methods of an object\n",
    "#### Helpful functions:\n",
    "- `type()`\n",
    "- `dir()`\n",
    "- `help()`\n",
    "\n",
    "\n",
    "\n",
    "- method definition = function definition within class\n",
    "- use `self` as the 1st argument in method definition (possibly followed by other arguments)\n",
    "\n",
    "#### Old version"
   ]
  },
  {
   "cell_type": "code",
   "execution_count": 7,
   "id": "e3da3b75",
   "metadata": {},
   "outputs": [],
   "source": [
    "class Customer1:\n",
    "    # Using parameter\n",
    "    def identify(self, name):\n",
    "        print(\"I am customer \" + name)"
   ]
  },
  {
   "cell_type": "markdown",
   "id": "a2886fc2",
   "metadata": {},
   "source": [
    "#### New (improved/preferred) method"
   ]
  },
  {
   "cell_type": "code",
   "execution_count": 8,
   "id": "f43b45f0",
   "metadata": {},
   "outputs": [],
   "source": [
    "class Customer2:\n",
    "    def set_name(self, new_name):\n",
    "        self.name = new_name\n",
    "        \n",
    "    # Using .name from the object itself\n",
    "    def identify(self):\n",
    "        print(\"I am customer \" + self.name)"
   ]
  },
  {
   "cell_type": "code",
   "execution_count": 9,
   "id": "e4beb484",
   "metadata": {},
   "outputs": [],
   "source": [
    "cust1 = Customer1()"
   ]
  },
  {
   "cell_type": "code",
   "execution_count": 10,
   "id": "d47c1bf9",
   "metadata": {},
   "outputs": [
    {
     "name": "stdout",
     "output_type": "stream",
     "text": [
      "I am customer John\n"
     ]
    }
   ],
   "source": [
    "cust1.identify(\"John\")"
   ]
  },
  {
   "cell_type": "code",
   "execution_count": 11,
   "id": "b5e7da3a",
   "metadata": {},
   "outputs": [
    {
     "ename": "AttributeError",
     "evalue": "'Customer1' object has no attribute 'name'",
     "output_type": "error",
     "traceback": [
      "\u001b[0;31m---------------------------------------------------------------------------\u001b[0m",
      "\u001b[0;31mAttributeError\u001b[0m                            Traceback (most recent call last)",
      "\u001b[0;32m<ipython-input-11-90a768aefe6a>\u001b[0m in \u001b[0;36m<module>\u001b[0;34m\u001b[0m\n\u001b[0;32m----> 1\u001b[0;31m \u001b[0mcust1\u001b[0m\u001b[0;34m.\u001b[0m\u001b[0mname\u001b[0m\u001b[0;34m\u001b[0m\u001b[0;34m\u001b[0m\u001b[0m\n\u001b[0m",
      "\u001b[0;31mAttributeError\u001b[0m: 'Customer1' object has no attribute 'name'"
     ]
    }
   ],
   "source": [
    "cust1.name"
   ]
  },
  {
   "cell_type": "code",
   "execution_count": 12,
   "id": "f6bcd042",
   "metadata": {},
   "outputs": [
    {
     "name": "stdout",
     "output_type": "stream",
     "text": [
      "I am customer Mary\n"
     ]
    }
   ],
   "source": [
    "cust2 = Customer2()\n",
    "cust2.set_name(\"Mary\")\n",
    "cust2.identify()"
   ]
  },
  {
   "cell_type": "code",
   "execution_count": 13,
   "id": "00068b7f",
   "metadata": {},
   "outputs": [],
   "source": [
    "class Employee:\n",
    "    def set_name(self, new_name):\n",
    "        self.name = new_name\n",
    "    # Add set_salary() method\n",
    "    def set_salary(self, new_salary):\n",
    "        self.salary = new_salary\n",
    "\n",
    "# Create an object emp of class Employee\n",
    "emp = Employee()\n",
    "\n",
    "# Use the set_name to set the name of emp to 'Korel Rossi'\n",
    "emp.set_name('Korel Rossi')\n",
    "\n",
    "# Set the salary of emp to 50000\n",
    "emp.set_salary(50000)"
   ]
  },
  {
   "cell_type": "code",
   "execution_count": 15,
   "id": "5347d780",
   "metadata": {},
   "outputs": [
    {
     "data": {
      "text/plain": [
       "'Korel Rossi'"
      ]
     },
     "execution_count": 15,
     "metadata": {},
     "output_type": "execute_result"
    }
   ],
   "source": [
    "emp.name"
   ]
  },
  {
   "cell_type": "code",
   "execution_count": 16,
   "id": "a06b9a67",
   "metadata": {},
   "outputs": [
    {
     "data": {
      "text/plain": [
       "50000"
      ]
     },
     "execution_count": 16,
     "metadata": {},
     "output_type": "execute_result"
    }
   ],
   "source": [
    "emp.salary"
   ]
  },
  {
   "cell_type": "code",
   "execution_count": null,
   "id": "fbc68942",
   "metadata": {},
   "outputs": [],
   "source": []
  },
  {
   "cell_type": "code",
   "execution_count": null,
   "id": "7c400d6e",
   "metadata": {},
   "outputs": [],
   "source": []
  },
  {
   "cell_type": "code",
   "execution_count": null,
   "id": "b1241500",
   "metadata": {},
   "outputs": [],
   "source": []
  },
  {
   "cell_type": "code",
   "execution_count": null,
   "id": "8565ca07",
   "metadata": {},
   "outputs": [],
   "source": []
  },
  {
   "cell_type": "code",
   "execution_count": null,
   "id": "a211889b",
   "metadata": {},
   "outputs": [],
   "source": []
  },
  {
   "cell_type": "markdown",
   "id": "8aa75c18",
   "metadata": {},
   "source": []
  },
  {
   "cell_type": "markdown",
   "id": "7d3d8ac3",
   "metadata": {},
   "source": []
  },
  {
   "cell_type": "markdown",
   "id": "02374484",
   "metadata": {},
   "source": []
  },
  {
   "cell_type": "markdown",
   "id": "23086376",
   "metadata": {},
   "source": [
    "<img src='data/oop.png' width=\"600\" height=\"300\" align=\"center\"/>"
   ]
  }
 ],
 "metadata": {
  "kernelspec": {
   "display_name": "Python 3",
   "language": "python",
   "name": "python3"
  },
  "language_info": {
   "codemirror_mode": {
    "name": "ipython",
    "version": 3
   },
   "file_extension": ".py",
   "mimetype": "text/x-python",
   "name": "python",
   "nbconvert_exporter": "python",
   "pygments_lexer": "ipython3",
   "version": "3.8.8"
  }
 },
 "nbformat": 4,
 "nbformat_minor": 5
}
