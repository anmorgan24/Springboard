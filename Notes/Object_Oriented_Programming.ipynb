{
 "cells": [
  {
   "cell_type": "markdown",
   "id": "17cc4645",
   "metadata": {},
   "source": [
    "# Object-Oriented Programming in Python"
   ]
  },
  {
   "cell_type": "markdown",
   "id": "2e8902ff",
   "metadata": {},
   "source": [
    "__Object-oriented programming (OOP)__ is a widely used programming paradigm that reduces development times— making it easier to read, reuse, and maintain your code. OOP shifts the focus from thinking about code as a sequence of actions to looking at your program as a collection of objects that interact with each other. In this course, you’ll learn how to create classes, which act as the blueprints for every object in Python. You’ll then leverage principles called inheritance and polymorphism to reuse and optimize code. Dive in and learn how to create beautiful code that’s clean and efficient!"
   ]
  },
  {
   "cell_type": "markdown",
   "id": "9a0e3991",
   "metadata": {},
   "source": [
    "## 1. OOP Fundamentals\n",
    "In this chapter, you'll learn what object-oriented programming (OOP) is, how it differs from procedural-programming, and how it can be applied. You'll then define your own classes, and learn how to create methods, attributes, and constructors."
   ]
  },
  {
   "cell_type": "markdown",
   "id": "6d4cc784",
   "metadata": {},
   "source": [
    "#### Procedural Programming\n",
    "- Code as a sequence of steps\n",
    "- Great for data analysis"
   ]
  },
  {
   "cell_type": "markdown",
   "id": "5a8d2dc8",
   "metadata": {},
   "source": []
  },
  {
   "cell_type": "markdown",
   "id": "8d3113bb",
   "metadata": {},
   "source": []
  },
  {
   "cell_type": "markdown",
   "id": "d602da12",
   "metadata": {},
   "source": []
  },
  {
   "cell_type": "markdown",
   "id": "7b266a9d",
   "metadata": {},
   "source": []
  },
  {
   "cell_type": "markdown",
   "id": "35abee5a",
   "metadata": {},
   "source": []
  },
  {
   "cell_type": "markdown",
   "id": "3ff219f6",
   "metadata": {},
   "source": []
  },
  {
   "cell_type": "markdown",
   "id": "b8e131bf",
   "metadata": {},
   "source": []
  },
  {
   "cell_type": "markdown",
   "id": "fb0ae5bb",
   "metadata": {},
   "source": []
  },
  {
   "cell_type": "markdown",
   "id": "a0ca61e4",
   "metadata": {},
   "source": []
  },
  {
   "cell_type": "markdown",
   "id": "4400e2f1",
   "metadata": {},
   "source": []
  },
  {
   "cell_type": "markdown",
   "id": "46a86660",
   "metadata": {},
   "source": []
  },
  {
   "cell_type": "markdown",
   "id": "f565abc4",
   "metadata": {},
   "source": []
  },
  {
   "cell_type": "markdown",
   "id": "78e6cb68",
   "metadata": {},
   "source": []
  },
  {
   "cell_type": "markdown",
   "id": "2a7816e7",
   "metadata": {},
   "source": []
  }
 ],
 "metadata": {
  "kernelspec": {
   "display_name": "Python 3",
   "language": "python",
   "name": "python3"
  },
  "language_info": {
   "codemirror_mode": {
    "name": "ipython",
    "version": 3
   },
   "file_extension": ".py",
   "mimetype": "text/x-python",
   "name": "python",
   "nbconvert_exporter": "python",
   "pygments_lexer": "ipython3",
   "version": "3.8.8"
  }
 },
 "nbformat": 4,
 "nbformat_minor": 5
}
