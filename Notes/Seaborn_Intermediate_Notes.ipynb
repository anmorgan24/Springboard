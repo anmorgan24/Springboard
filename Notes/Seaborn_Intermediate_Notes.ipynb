{
 "cells": [
  {
   "cell_type": "markdown",
   "id": "cf497e33",
   "metadata": {},
   "source": [
    "# Seaborn Visualization: Intermediate"
   ]
  },
  {
   "cell_type": "markdown",
   "id": "b0bb4c24",
   "metadata": {},
   "source": [
    "Instrutor: Chris Moffitt: Practical Business Python\n",
    "\n",
    "* `matplotlib` provides the raw building blocks for Seaborn's visualiztions\n",
    "* Seaborn supports complex visualizations of data\n",
    "* It is built on matplotlib and works best with pandas dataframes\n",
    "* Seaborn make's reasonable assumptions about colors and other visual elements to make visualizations that look more pleasing than the standard matplotlib plots\n",
    "* Additionally, Seaborn performs statistical analysis on the data\n",
    "\n",
    "#### Seaborn's `distplot`\n",
    "* By default, generates a Gaussian Kernel Density Estimates (KDE)\n",
    "* looks somewhat like a histogram\n",
    "    * `sns.distplot(df['fmr_2'])`\n",
    "* **Customizing distribution plots:**\n",
    "* in order to plot a simple histgram: disable KDE and specify number of bins\n",
    "    * `sns.distplot(df['alcohol'], kde= False, bins=10)`\n",
    "* **rug plot**: [doc here](https://en.wikipedia.org/wiki/Rug_plot)\n",
    "    * kde curve and rug plot can be combined\n",
    "    * `sns.distplot(df['alcohol'], hist= False, rug=True)`\n",
    "* the `distplot` function uses several functions, including `kdeplot` and `rugplot`\n",
    "* It is possible to further customize a plot by passing arguments to the underlying function\n",
    "* `sns.distplot(df['alcohol'], hist=False, rug=True, kde_kws={'shade':True})`\n",
    "* `kws`: keywords"
   ]
  },
  {
   "cell_type": "markdown",
   "id": "56d32725",
   "metadata": {},
   "source": [
    "#### Regression plots\n",
    "* Univariate analysis: looks at one variable\n",
    "* **Regression Analysis** is bivariate (looks for relationships between two variables)\n",
    "* **`regplot()`**\n",
    "    * `regplot()` function generates a scatterplot with a regression line\n",
    "    * Usage is similar to .distplot()\n",
    "    * Must define: `data`, `x`, `y`\n",
    "        * Since we're using a pandas DataFrame, the `x` and `y` variables refer to columns in the DataFrame\n",
    "    * **`lmplot()`**: builds on top of regplot()\n",
    "        * while regplot() is \"low level,\" lmplot() is high \"level\"\n",
    "        * lmplot() is much more flexible\n",
    "        * lmplot() faceting:\n",
    "            * organize data by colors (`hue`)\n",
    "            * organize data by columns (`col`) or rows (`row`)\n",
    "            * **Faceting:** the use of plotting multiple graphs while changing a single variable"
   ]
  },
  {
   "cell_type": "markdown",
   "id": "4262cc0b",
   "metadata": {},
   "source": [
    "#### Using Seaborn Styles\n",
    "* Visualization's \"aesthetics\": layouts, labels, colors\n",
    "* **`sns.set`** sets plot (pd or plt or sns) to default Seaborn style\n",
    "* Seaborn has several default configurations that can be set with **`sns.set_style`**\n",
    "    * These styles can override matplotlib and pandas styles as well\n",
    "    * built-in styles (5): `white`, `whitegrid`, `dark`, `darkgrid`, `ticks`\n",
    "* **In general, visualizations are more impactful if the amount of \"excess chart junk\" is removed\n",
    "    * Common use case: remove the lines alomg axes called `spines` with **`despine`**\n",
    "    * the default is to remove the top and right lines, but you can pass arguments specifying others\n",
    "    * `sns.despine(left=True)`\n",
    "* **`plt.clf()`** to clear a figure"
   ]
  },
  {
   "cell_type": "code",
   "execution_count": null,
   "id": "155c0e10",
   "metadata": {},
   "outputs": [],
   "source": []
  },
  {
   "cell_type": "code",
   "execution_count": null,
   "id": "9ffb7523",
   "metadata": {},
   "outputs": [],
   "source": []
  },
  {
   "cell_type": "code",
   "execution_count": null,
   "id": "52ad14fe",
   "metadata": {},
   "outputs": [],
   "source": []
  }
 ],
 "metadata": {
  "kernelspec": {
   "display_name": "Python 3",
   "language": "python",
   "name": "python3"
  },
  "language_info": {
   "codemirror_mode": {
    "name": "ipython",
    "version": 3
   },
   "file_extension": ".py",
   "mimetype": "text/x-python",
   "name": "python",
   "nbconvert_exporter": "python",
   "pygments_lexer": "ipython3",
   "version": "3.8.8"
  }
 },
 "nbformat": 4,
 "nbformat_minor": 5
}
