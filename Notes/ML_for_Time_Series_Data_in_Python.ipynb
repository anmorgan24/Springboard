{
 "cells": [
  {
   "cell_type": "markdown",
   "id": "8630d7c1",
   "metadata": {},
   "source": [
    "# Machine Learning for Time Series Data in Python"
   ]
  },
  {
   "cell_type": "markdown",
   "id": "aa5dfc52",
   "metadata": {},
   "source": [
    "Time series data is ubiquitous. Whether it be stock market fluctuations, sensor data recording climate change, or activity in the brain, any signal that changes over time can be described as a time series. Machine learning has emerged as a powerful method for leveraging complexity in data in order to generate predictions and insights into the problem one is trying to solve. This course is an intersection between these two worlds of machine learning and time series data, and covers feature engineering, spectograms, and other advanced techniques in order to classify heartbeat sounds and predict stock prices."
   ]
  },
  {
   "cell_type": "markdown",
   "id": "e4217d7a",
   "metadata": {},
   "source": [
    "## I. Time Series and Machine Learning Primer\n",
    "* Intro to the basics of machine learning, time series data, and the intersection between the two.\n",
    "\n",
    "### Timeseries kinds and applications\n",
    "* Put simply, a **timeseries** means data that changes over time.\n",
    "* This can take many different forms; from atmospheric CO2 over time, to the waveform of spoken word, to climate sensor data, the fluctuation of a stock's value over the year, demographic information about a city\n",
    "* **Timeseries data** consists of at least two things: \n",
    "    * One: an array of numbers that represents the data itself.\n",
    "    * Two: another array that contains a timestamp for each datapoint.\n",
    "* In other words, each datapoint should have a corresponding time point (whether that be a month, year, hour, or any combination of these). Note: multiple data points may have the same time point\n",
    "\n",
    "#### Plotting a pandas timeseries\n",
    "\n",
    "```\n",
    "import matplotlib.pyploy as plt\n",
    "fig, ax = plt.subplots(figsize=(12,6))\n",
    "data.plot('date', 'close', ax=ax)\n",
    "ax.set(title='AAPL daily closing price')\n",
    "```\n",
    "* **The amount of time that passes between timestamps defines the *period* of the timeseries.**\n",
    "    * This often helps us infer what kind of timeseries we're dealing with.\n",
    "* One crucial part of machine learning is that we can build a model of the world that formalizes our knowledge of the problem at hand. We can...\n",
    "    * Predict the future\n",
    "    * Automate this process\n",
    "    * can be a critical component of an organization's decision making\n",
    "    \n",
    "* We treat timeseries data slightly differently than other types of datasets\n",
    "    * Timeseries data always change over time, which turns out to be a useful pattern to utilize\n",
    "    * Using timeseries-specific features lets us see a much richer representation of the raw data.\n",
    "    \n",
    "* This course will focus on a simple machine learning pipeline in the context of timeseries data.\n",
    "\n",
    "* **A machine learning pipeline:**\n",
    "    * Feature extraction: What kind of special features leverage a signal that changes over time?\n",
    "    * Model fitting: What kinds of models are suitable for asking questions with timeseries data?\n",
    "    * Prediction and Validation: How can we validate a model that uses timeseries data? What considerations must we make because it changes in time?\n",
    "\n",
    "```\n",
    "# Plot the time series in each dataset\n",
    "fig, axs = plt.subplots(2, 1, figsize=(5, 10))\n",
    "data.iloc[:1000].plot(y='data_values', ax=axs[0])\n",
    "data2.iloc[:1000].plot(y='data_values', ax=axs[1])\n",
    "plt.show()\n",
    "```\n",
    "\n",
    "```\n",
    "# Plot the time series in each dataset\n",
    "fig, axs = plt.subplots(2, 1, figsize=(5, 10))\n",
    "data.iloc[:1000].plot(x='time', y='data_values', ax=axs[0])\n",
    "data2.iloc[:1000].plot(x='time', y='data_values', ax=axs[1])\n",
    "plt.show()\n",
    "```"
   ]
  },
  {
   "cell_type": "code",
   "execution_count": null,
   "id": "77d7d02b",
   "metadata": {},
   "outputs": [],
   "source": []
  },
  {
   "cell_type": "code",
   "execution_count": null,
   "id": "f995d429",
   "metadata": {},
   "outputs": [],
   "source": []
  },
  {
   "cell_type": "code",
   "execution_count": null,
   "id": "918bd0d8",
   "metadata": {},
   "outputs": [],
   "source": []
  },
  {
   "cell_type": "code",
   "execution_count": null,
   "id": "604dc685",
   "metadata": {},
   "outputs": [],
   "source": []
  },
  {
   "cell_type": "code",
   "execution_count": null,
   "id": "f8bc8467",
   "metadata": {},
   "outputs": [],
   "source": []
  },
  {
   "cell_type": "code",
   "execution_count": null,
   "id": "8c7f5700",
   "metadata": {},
   "outputs": [],
   "source": []
  },
  {
   "cell_type": "code",
   "execution_count": null,
   "id": "ea5c538f",
   "metadata": {},
   "outputs": [],
   "source": []
  },
  {
   "cell_type": "code",
   "execution_count": null,
   "id": "08abbab2",
   "metadata": {},
   "outputs": [],
   "source": []
  },
  {
   "cell_type": "code",
   "execution_count": null,
   "id": "c64b9f30",
   "metadata": {},
   "outputs": [],
   "source": []
  },
  {
   "cell_type": "code",
   "execution_count": null,
   "id": "961b0cd7",
   "metadata": {},
   "outputs": [],
   "source": []
  },
  {
   "cell_type": "code",
   "execution_count": null,
   "id": "adb813e3",
   "metadata": {},
   "outputs": [],
   "source": []
  }
 ],
 "metadata": {
  "kernelspec": {
   "display_name": "Python 3",
   "language": "python",
   "name": "python3"
  },
  "language_info": {
   "codemirror_mode": {
    "name": "ipython",
    "version": 3
   },
   "file_extension": ".py",
   "mimetype": "text/x-python",
   "name": "python",
   "nbconvert_exporter": "python",
   "pygments_lexer": "ipython3",
   "version": "3.8.8"
  }
 },
 "nbformat": 4,
 "nbformat_minor": 5
}
