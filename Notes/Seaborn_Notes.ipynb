{
 "cells": [
  {
   "cell_type": "markdown",
   "id": "93e3563e",
   "metadata": {},
   "source": [
    "# Seaborn Visualization"
   ]
  },
  {
   "cell_type": "markdown",
   "id": "74e8c722",
   "metadata": {},
   "source": [
    "* Seaborn (sns) is a Python data visualization library\n",
    "    * Advantages:\n",
    "        * Easy to use\n",
    "        * works well with pandas\n",
    "            * ...but only if the data is tidy\n",
    "            * 'tidy data': each observation has its own row, and each variable has its own column\n",
    "        * built on top of matplotlib\n",
    "        * visually attractive\n",
    "    * Why 'sns'?\n",
    "        * The Seaborn library was named after \"Samuel Norton Seaborn\", a West Wing character\n",
    "    * Access seaborn's built-in datasets with: `sns.load_dataset()`"
   ]
  },
  {
   "cell_type": "markdown",
   "id": "3687d348",
   "metadata": {},
   "source": [
    "#### Scatterplots\n",
    "   * `sns.scatterplot()` [doc here](https://seaborn.pydata.org/generated/seaborn.scatterplot.html): parameters = ( x=None, y=None, hue=None, style=None, size=None, data=None, palette=None, hue_order=None, hue_norm=None, sizes=None, size_order=None, size_norm=None, markers=True, style_order=None, x_bins=None, y_bins=None, units=None, estimator=None, ci=95, n_boot=1000, alpha=None, x_jitter=None, y_jitter=None, legend='auto', ax=None, **kwargs)\n",
    "       * `sns.scatterplot(x=heights, y=weights)`"
   ]
  },
  {
   "cell_type": "markdown",
   "id": "337367e1",
   "metadata": {},
   "source": [
    "#### Countplots\n",
    "   * Countplots take in a categorical list and return bars that represent the number of list entries per category\n",
    "   * `sns.countplot(x=dog_breeds)`\n",
    "   * countplots with pandas:\n",
    "       * `sns.countplot(x='how_masculine', data=df)`\n",
    "       * when you use a named column of the dataframe as either x or y, seaborn automatically names that axis with the column name."
   ]
  },
  {
   "cell_type": "markdown",
   "id": "6675887a",
   "metadata": {},
   "source": [
    "#### Hue\n",
    "   * seaborn allows you to quickly add a third variable to your plots by adding color with **`hue`**\n",
    "   * set the `hue` parameter to the dataframe column you would like to add as your third variable\n",
    "   * `sns.scatterplot(x='total_bill', y='tip', data=tips, hue='smoker')\n",
    "   * For hue, sns adds a legend to the plot automatically\n",
    "   * if you don't want to use pandas, you can set `hue` to a list of values instead of a column name\n",
    "   * Hue allows you to assert more control over the ordering and coloring of each value \n",
    "   * the `hue_order` parameter takes in a list of values and will set the order of the values in the plot accordingly\n",
    "   * also control the colors assigned to each value with the parameter `palette`\n",
    "       * `palette` takes in a dictionary mapping the variable values to the colors you want to represent the value\n",
    "       * `hue_colors = {'Yes': 'black', 'No': 'red}`\n",
    "       * `sns.scatterplot(x='total_bill', y='tip', data=tips, hue='smoker', palette=hue_colors)`\n",
    "   * hue is available in most of seaborn's plot types\n",
    "   \n",
    "  "
   ]
  },
  {
   "cell_type": "code",
   "execution_count": null,
   "id": "f36ba2ce",
   "metadata": {},
   "outputs": [],
   "source": []
  },
  {
   "cell_type": "code",
   "execution_count": null,
   "id": "a19ca397",
   "metadata": {},
   "outputs": [],
   "source": []
  },
  {
   "cell_type": "code",
   "execution_count": null,
   "id": "d2821a50",
   "metadata": {},
   "outputs": [],
   "source": []
  },
  {
   "cell_type": "code",
   "execution_count": null,
   "id": "8e1c96c2",
   "metadata": {},
   "outputs": [],
   "source": []
  },
  {
   "cell_type": "markdown",
   "id": "d5b8ad72",
   "metadata": {},
   "source": [
    "Matplotlib has eight colors: abbreviations\n",
    "* blue: 'b'\n",
    "* green: 'g'\n",
    "* red: 'r'\n",
    "* cyan: 'c'\n",
    "* magenta: 'm'\n",
    "* yellow: 'y'\n",
    "* black: 'k'\n",
    "* white: 'w'\n",
    "*You can also use HTML hexcodes, just make sure you put the hex codes in quotes, with a pound sign at the beginning*"
   ]
  }
 ],
 "metadata": {
  "kernelspec": {
   "display_name": "Python 3",
   "language": "python",
   "name": "python3"
  },
  "language_info": {
   "codemirror_mode": {
    "name": "ipython",
    "version": 3
   },
   "file_extension": ".py",
   "mimetype": "text/x-python",
   "name": "python",
   "nbconvert_exporter": "python",
   "pygments_lexer": "ipython3",
   "version": "3.8.8"
  }
 },
 "nbformat": 4,
 "nbformat_minor": 5
}
