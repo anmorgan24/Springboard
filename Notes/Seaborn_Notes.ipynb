{
 "cells": [
  {
   "cell_type": "markdown",
   "id": "7e86fc12",
   "metadata": {},
   "source": [
    "# Seaborn Visualization"
   ]
  },
  {
   "cell_type": "markdown",
   "id": "475eec59",
   "metadata": {},
   "source": [
    "* Seaborn (sns) is a Python data visualization library\n",
    "    * Advantages:\n",
    "        * Easy to use\n",
    "        * works well with pandas\n",
    "            * ...but only if the data is tidy\n",
    "            * 'tidy data': each observation has its own row, and each variable has its own column\n",
    "        * built on top of matplotlib\n",
    "        * visually attractive\n",
    "    * Why 'sns'?\n",
    "        * The Seaborn library was named after \"Samuel Norton Seaborn\", a West Wing character\n",
    "    * Access seaborn's built-in datasets with: `sns.load_dataset()`"
   ]
  },
  {
   "cell_type": "markdown",
   "id": "7742a4f3",
   "metadata": {},
   "source": [
    "#### Scatterplots\n",
    "   * `sns.scatterplot()` [doc here](https://seaborn.pydata.org/generated/seaborn.scatterplot.html): parameters = ( x=None, y=None, hue=None, style=None, size=None, data=None, palette=None, hue_order=None, hue_norm=None, sizes=None, size_order=None, size_norm=None, markers=True, style_order=None, x_bins=None, y_bins=None, units=None, estimator=None, ci=95, n_boot=1000, alpha=None, x_jitter=None, y_jitter=None, legend='auto', ax=None, **kwargs)\n",
    "       * `sns.scatterplot(x=heights, y=weights)`"
   ]
  },
  {
   "cell_type": "markdown",
   "id": "4a8cfd36",
   "metadata": {},
   "source": [
    "#### Countplots\n",
    "   * Countplots take in a categorical list and return bars that represent the number of list entries per category\n",
    "   * `sns.countplot(x=dog_breeds)`\n",
    "   * countplots with pandas:\n",
    "       * `sns.countplot(x='how_masculine', data=df)`\n",
    "       * when you use a named column of the dataframe as either x or y, seaborn automatically names that axis with the column name."
   ]
  },
  {
   "cell_type": "markdown",
   "id": "3fbc9389",
   "metadata": {},
   "source": [
    "#### Hue\n",
    "   * seaborn allows you to quickly add a third variable to your plots by adding color with **`hue`**\n",
    "   * set the `hue` parameter to the dataframe column you would like to add as your third variable\n",
    "   * `sns.scatterplot(x='total_bill', y='tip', data=tips, hue='smoker')\n",
    "   * For hue, sns adds a legend to the plot automatically\n",
    "   * if you don't want to use pandas, you can set `hue` to a list of values instead of a column name\n",
    "   * Hue allows you to assert more control over the ordering and coloring of each value \n",
    "   * the `hue_order` parameter takes in a list of values and will set the order of the values in the plot accordingly\n",
    "   * also control the colors assigned to each value with the parameter `palette`\n",
    "       * `palette` takes in a dictionary mapping the variable values to the colors you want to represent the value\n",
    "       * `hue_colors = {'Yes': 'black', 'No': 'red}`\n",
    "       * `sns.scatterplot(x='total_bill', y='tip', data=tips, hue='smoker', palette=hue_colors)`\n",
    "   * hue is available in most of seaborn's plot types"
   ]
  },
  {
   "cell_type": "markdown",
   "id": "b05b91a8",
   "metadata": {},
   "source": [
    "#### Relational plots and subplots\n",
    "* Seaborn calls plots that visualize the relationship between two quantitative variables: **relational plots**\n",
    "* While looking at a relationship between two variables at a high level is often informative, sometimes we suspect that the relationship may be different within certain subgroups\n",
    "\n",
    "    * **relplot()**\n",
    "        * \"relational plot\": enables you to visualize the relationship between two quantitative variables using either scatterplots or lineplots\n",
    "        * scatterplots, lineplots\n",
    "        * **Why use `relplot()` instead of `scatterplot()`?\n",
    "            * The ability to create subplots in a single figure \n",
    "        * Subplots in columns:\n",
    "\n",
    "``` \n",
    "sns.replot(x = 'total_bill', y='tip', data= tips, kind = 'scatter', col= 'smoker')\n",
    "plt.show() #subplots arranged horizontally in columns\n",
    "```\n",
    "   * to arrange vertically, in rows, instead:\n",
    "   \n",
    "```\n",
    "sns.replot(x = 'total_bill', y='tip', data= tips, kind = 'scatter', row= 'smoker')\n",
    "plt.show() #subplots arranged vertically in rows\n",
    "```\n",
    "   * it **is** also possible to use both `col` and `row` at the same time:\n",
    "\n",
    "```\n",
    "sns.replot(x = 'total_bill', y='tip', data= tips, kind = 'scatter', col= 'smoker', row='time')\n",
    "plt.show() #subplots arranged in a grid of rows and columns\n",
    "```\n",
    "   * to specify how many plots you want per row (in a grid set up of subplots)\n",
    "\n",
    "```\n",
    "sns.replot(x = 'total_bill', y='tip', data= tips, kind = 'scatter', col= 'day', col_wrap=2)\n",
    "plt.show() # specified: 2 plots per row\n",
    "```\n",
    "   * change the order of the subplots by using the __`col_order`__ and/or __`row order`__ parameters:\n",
    "\n",
    "```\n",
    "sns.replot(x = 'total_bill', y='tip', data= tips, kind = 'scatter', col= 'day', col_wrap=2,\n",
    "                col_order = [\"Thur\", \"Fri\", \"Sat\", \"Sun\"])\n",
    "plt.show() \n",
    "```"
   ]
  },
  {
   "cell_type": "markdown",
   "id": "09036ba3",
   "metadata": {},
   "source": [
    "#### Customizing scatter plots\n",
    "* Customize size, style, and transparency of points (can be used in both `scatterplot()` and `relplot()`)\n",
    "   #### Subgroups with point size\n",
    "    * Varying point size is best used if the variable is either a quantitative variable or a categorical variable that represents levels of something (like small, medium, large, etc)\n",
    "    * Say, we want each point on the scatterplot to be sized based on the number of people in the group, with larger groups having bigger points on the plot\n",
    "    * set `size` parameter equal to the variable name `size` from the dataset\n",
    "    \n",
    "```\n",
    "sns.relplot(x='total_bill', y='tip', data=tips, kind='scatter', size = 'size')\n",
    "plt.show()\n",
    "```\n",
    "   * Using size parameter in combination with the hue parameter can make plots easier to read (than just using size parameter with single color\n",
    "   * Because size is a quantitative variable, Seaborn will automatically color the points different shades of the same color, instead of different colors per category value (as seen in other plots)\n",
    "\n",
    "```\n",
    "sns.relplot(x='total_bill', y='tip', data=tips, kind='scatter', size = 'size', hue='size')\n",
    "plt.show()\n",
    "```\n",
    "   #### Subgroups with point style\n",
    "   * Setting the `style` parameter to a variable name will use different point styles for each value of the variable.\n",
    "\n",
    "```\n",
    "sns.relplot(x='total_bill', y='tip', data=tips, kind='scatter', hue='smoker', style='smoker')\n",
    "plt.show()\n",
    "```\n",
    "   #### Changing point transparency\n",
    "   * Setting the `alpha` parameter to a value between 0 and 1 will vary the transparency of the variables in the plot\n",
    "   * 0 = completely transparent\n",
    "   * 1 = completely opaque\n",
    "   * can be very useful when you have many overlapping points on your scatterplot\n",
    "\n",
    "```\n",
    "sns.relplot(x='total_bill', y='tip', data=tips, kind='scatter', alpha= 0.4)\n",
    "plt.show()\n",
    "```"
   ]
  },
  {
   "cell_type": "markdown",
   "id": "696aaf62",
   "metadata": {},
   "source": [
    "#### Line plots\n",
    "* Whereas each point in a scatterplot is assumed to be an independent observation, __lineplots__ are the visualization of choice when we need to track the same thing over time.\n",
    "* specify `kind='line'`\n",
    "* track subgroups over time with lineplots\n",
    "* if you **don't** want the linestyles to vary by subgroup, set the `dashes` parameter to `False`\n",
    "* line plots can also be used when you have more than one observation per x value \n",
    "    * *if a line plot is given multiple observations per x value, it will aggregate them into a single summary measure*\n",
    "    * by default, it will display the mean\n",
    "    * **Note** Seaborn will automatically calculate a confidence interval for the mean, displayed by a shaded region\n",
    "    * **Assumes dataset is a random sample**\n",
    "    * If, instead of confidence level, you'd prefer to see std: set `ci=\"sd\"` \n",
    "    * ci = confidence interval; sd = standard deviation\n",
    "    * std- shows the spread of the distribution of observations at each x value \n",
    "    * Also: \"turn off\" confidence interval with `ci=None`"
   ]
  },
  {
   "cell_type": "markdown",
   "id": "83632b99",
   "metadata": {},
   "source": [
    "#### Count plots\n",
    "* Visualizations involving categorical variables\n",
    "* Categorical plots involve a categorical variable (commonly used to make comparisons between/across groups)\n",
    "* __`sns.catplot()`__: used to create categorical plots\n",
    "    * `catplot()` offers similar flexibility and advantages to `relplot()`\n",
    "        * `kind=count`\n",
    "        * easily create subplots with `col= ` and `row= `\n",
    "        * sometimes there is a specific ordering of categories that makes sense for these plots (example: survey responses on a scale of 0 to 10, or chronological events)\n",
    "        * to change the order of the categories, create a list of category values in the the order you would like them to appear, and then use the order parameter\n",
    "        * `x` = name of categorical variable to plot\n",
    "\n",
    "```\n",
    "category_order = ['No answer', 'Not at all', 'Not very', 'Somewhat', 'Very']\n",
    "sns.catplot9(x='how_masculine', data=masculinity_data, kind= 'count', order= 'category_order')\n",
    "plt.show()\n",
    "```\n",
    "   * This works for all types of categorical plots, not just countplots \n",
    "   \n",
    "#### Bar plots\n",
    "* Display mean of quantitative variable per category \n",
    "* `kind = bar`\n",
    "* Here, too, Seaborn automtically shows 95% confidence intervals, represented with solid black bars/\"whiskers\"\n",
    "* change the orientation of the bars on the bar plot (horizontal vs vertical and vice versa) by switching the `x` and `y` parameters"
   ]
  },
  {
   "cell_type": "markdown",
   "id": "7580c4e5",
   "metadata": {},
   "source": [
    "#### Box plots\n",
    "* Type of categorical plot\n",
    "* Shows distribution of quantitative data\n",
    "* See Median, Spread, Skewness, and Outliers\n",
    "* Facilitates comparisns between groups (of a categorical variable)\n",
    "* Seaborn does have a `boxplot` function, but here we'll work on `sns.catplot(kind='box')`\n",
    "    * this makes it easy to create subplots using the `col` and `row` parameters\n",
    "    * Put categorial variable on x-axis and the quantitative variable on the y-axis\n",
    "    * to omit outliers from boxplot: `sym=\"\"`\n",
    "        * `sym` can also be used to change the appearance of outliers, instead of removing them\n",
    "    * By default, the whiskers extend to 1.5 * the interquartile range\n",
    "        * change whiskers using `whis`\n",
    "        * several options for changing the whiskers:\n",
    "            * extend whiskers with, for example: `whis = 2.0` (2.0 * IQR)\n",
    "            * Or, have whiskers define specific lower and upper percentiles by passing in a list of the lower and upper values \n",
    "                * `whis=[5,95]` (5th to 95th percentile)\n",
    "                * `whis=[0,100]` to draw whiskers at min and max values"
   ]
  },
  {
   "cell_type": "code",
   "execution_count": null,
   "id": "5792f7ba",
   "metadata": {},
   "outputs": [],
   "source": []
  },
  {
   "cell_type": "code",
   "execution_count": null,
   "id": "889cae9f",
   "metadata": {},
   "outputs": [],
   "source": []
  },
  {
   "cell_type": "code",
   "execution_count": null,
   "id": "e60a141b",
   "metadata": {},
   "outputs": [],
   "source": []
  },
  {
   "cell_type": "markdown",
   "id": "6e38e3a9",
   "metadata": {},
   "source": [
    "Matplotlib has eight colors: abbreviations\n",
    "* blue: 'b'\n",
    "* green: 'g'\n",
    "* red: 'r'\n",
    "* cyan: 'c'\n",
    "* magenta: 'm'\n",
    "* yellow: 'y'\n",
    "* black: 'k'\n",
    "* white: 'w'\n",
    "*You can also use HTML hexcodes, just make sure you put the hex codes in quotes, with a pound sign at the beginning*"
   ]
  }
 ],
 "metadata": {
  "kernelspec": {
   "display_name": "Python 3",
   "language": "python",
   "name": "python3"
  },
  "language_info": {
   "codemirror_mode": {
    "name": "ipython",
    "version": 3
   },
   "file_extension": ".py",
   "mimetype": "text/x-python",
   "name": "python",
   "nbconvert_exporter": "python",
   "pygments_lexer": "ipython3",
   "version": "3.8.8"
  }
 },
 "nbformat": 4,
 "nbformat_minor": 5
}
