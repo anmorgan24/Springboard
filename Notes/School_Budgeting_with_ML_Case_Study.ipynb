{
 "cells": [
  {
   "cell_type": "markdown",
   "id": "982a8018",
   "metadata": {},
   "source": [
    "# Case Study: School Budgeting with Machine Learning in Python"
   ]
  },
  {
   "cell_type": "markdown",
   "id": "b40b43f7",
   "metadata": {},
   "source": [
    "**DataDriven:** runs online data science challenges for non-profits, NGOs and social enterprises\n",
    "* Goals of the case study:\n",
    "    * **Use data to have a social impact**\n",
    "    * **Build a machine learning algorithm that can automate the school budgeting process**\n",
    "    \n",
    "* Introduction to the challenge:\n",
    "    * NLP\n",
    "    * Feature Engineering\n",
    "    * Efficiency Boosting hashing tricks\n",
    "    * Supervised learning problem (labeled)\n",
    "    * Over 100 target variables\n",
    "    * Classification problem: we want to predict a category for each line item\n",
    "    * Predictions will be probabilities for each label\n",
    "\n",
    "* A **human-in-the-loop machine-learning system (HITL):** is a branch of artificial intelligence that leverages both human and machine intelligence to create machine learning models."
   ]
  },
  {
   "cell_type": "code",
   "execution_count": null,
   "id": "085c7878",
   "metadata": {},
   "outputs": [],
   "source": []
  },
  {
   "cell_type": "code",
   "execution_count": null,
   "id": "f7978642",
   "metadata": {},
   "outputs": [],
   "source": []
  },
  {
   "cell_type": "code",
   "execution_count": null,
   "id": "98188f02",
   "metadata": {},
   "outputs": [],
   "source": []
  },
  {
   "cell_type": "code",
   "execution_count": null,
   "id": "9885a6d4",
   "metadata": {},
   "outputs": [],
   "source": []
  },
  {
   "cell_type": "code",
   "execution_count": null,
   "id": "1cb933d1",
   "metadata": {},
   "outputs": [],
   "source": []
  },
  {
   "cell_type": "code",
   "execution_count": null,
   "id": "1d886cff",
   "metadata": {},
   "outputs": [],
   "source": []
  },
  {
   "cell_type": "code",
   "execution_count": null,
   "id": "0e69cb19",
   "metadata": {},
   "outputs": [],
   "source": []
  },
  {
   "cell_type": "code",
   "execution_count": null,
   "id": "468b23c9",
   "metadata": {},
   "outputs": [],
   "source": []
  }
 ],
 "metadata": {
  "kernelspec": {
   "display_name": "Python 3",
   "language": "python",
   "name": "python3"
  },
  "language_info": {
   "codemirror_mode": {
    "name": "ipython",
    "version": 3
   },
   "file_extension": ".py",
   "mimetype": "text/x-python",
   "name": "python",
   "nbconvert_exporter": "python",
   "pygments_lexer": "ipython3",
   "version": "3.8.8"
  }
 },
 "nbformat": 4,
 "nbformat_minor": 5
}
