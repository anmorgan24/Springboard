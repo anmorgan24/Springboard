{
 "cells": [
  {
   "cell_type": "markdown",
   "id": "f4319642",
   "metadata": {},
   "source": [
    "# Case Study: School Budgeting with Machine Learning in Python"
   ]
  },
  {
   "cell_type": "markdown",
   "id": "ae04c4cb",
   "metadata": {},
   "source": [
    "**DataDriven:** runs online data science challenges for non-profits, NGOs and social enterprises\n",
    "* Goals of the case study:\n",
    "    * **Use data to have a social impact**\n",
    "    * **Build a machine learning algorithm that can automate the school budgeting process**\n",
    "    \n",
    "* Introduction to the challenge:\n",
    "    * NLP\n",
    "    * Feature Engineering\n",
    "    * Efficiency Boosting hashing tricks\n",
    "    * Supervised learning problem (labeled)\n",
    "    * Over 100 target variables\n",
    "    * Classification problem: we want to predict a category for each line item\n",
    "    * Predictions will be probabilities for each label\n",
    "\n",
    "* A **human-in-the-loop machine-learning system (HITL):** is a branch of artificial intelligence that leverages both human and machine intelligence to create machine learning models."
   ]
  },
  {
   "cell_type": "markdown",
   "id": "768143d8",
   "metadata": {},
   "source": [
    "#### Exploring the Data:\n",
    "* Encode labels as categories\n",
    "* ML algorithms work on numbers, not strings\n",
    "    * Need a numeric representation of these strings\n",
    "* Strings can be slow compared to numbers\n",
    "    * We never know ahead of time how long a string is, so our computer has to take more time to process strings than numbers (which have a precise number of bits)\n",
    "* In pandas, `category` dtype encodes categorical data numerically\n",
    "    * Can help speed up code\n",
    "    * use `.astype('category')\n",
    "    * to see the numerical representation of 'categories' use:\n",
    "        * `dummies = pd.get_dummies(sample_df[['label']], prefix_sep=' ')`\n",
    "        * Dummy encoding also called a **`binary indicator` representation**\n",
    "        \n",
    "#### Lambda functions\n",
    "* Alternative to `def` syntax\n",
    "* Easy way to make simple, one line functions\n",
    "* `square = lambda x: x*x`\n",
    "    * $\\Uparrow$ We can define a lambda function that takes a paramater (the variable, *x*), the function itself just multiplies *x* by *x* and returns the result.\n",
    "    * Call this function, just like any other function:\n",
    "        * `square(2)`\n",
    "        \n",
    "* In the budget data, there are multiple columns that need to be made categorical\n",
    "* To make multiple columns into categories, we need to apply the function to each column separately:\n",
    "    * `categorize_label = lambda x: x.astype('category')`\n",
    "    * `sample_df.label =sample_df[['label']].apply(categorize_label, axis = 0)`"
   ]
  },
  {
   "cell_type": "code",
   "execution_count": null,
   "id": "6543b3e2",
   "metadata": {},
   "outputs": [],
   "source": []
  },
  {
   "cell_type": "code",
   "execution_count": null,
   "id": "5dd8bd27",
   "metadata": {},
   "outputs": [],
   "source": []
  },
  {
   "cell_type": "code",
   "execution_count": null,
   "id": "d88aab83",
   "metadata": {},
   "outputs": [],
   "source": []
  },
  {
   "cell_type": "code",
   "execution_count": null,
   "id": "631c58e4",
   "metadata": {},
   "outputs": [],
   "source": []
  },
  {
   "cell_type": "code",
   "execution_count": null,
   "id": "c8d938de",
   "metadata": {},
   "outputs": [],
   "source": []
  },
  {
   "cell_type": "code",
   "execution_count": null,
   "id": "198f482d",
   "metadata": {},
   "outputs": [],
   "source": []
  },
  {
   "cell_type": "code",
   "execution_count": null,
   "id": "dd6f2b07",
   "metadata": {},
   "outputs": [],
   "source": []
  }
 ],
 "metadata": {
  "kernelspec": {
   "display_name": "Python 3",
   "language": "python",
   "name": "python3"
  },
  "language_info": {
   "codemirror_mode": {
    "name": "ipython",
    "version": 3
   },
   "file_extension": ".py",
   "mimetype": "text/x-python",
   "name": "python",
   "nbconvert_exporter": "python",
   "pygments_lexer": "ipython3",
   "version": "3.8.8"
  }
 },
 "nbformat": 4,
 "nbformat_minor": 5
}
