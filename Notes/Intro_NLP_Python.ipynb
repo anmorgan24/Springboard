{
 "cells": [
  {
   "cell_type": "markdown",
   "id": "329cfaa5",
   "metadata": {},
   "source": [
    "# Introduction to Natural Language Processing in Python\n",
    "In this course, you'll learn natural language processing (NLP) basics, such as how to identify and separate words, how to extract topics in a text, and how to build your own fake news classifier. You'll also learn how to use basic libraries such as NLTK, alongside libraries which utilize deep learning to solve common NLP problems. This course will give you the foundation to process and parse text as you move forward in your Python learning."
   ]
  },
  {
   "cell_type": "markdown",
   "id": "be7c416d",
   "metadata": {},
   "source": [
    "## $\\star$ Chapter 1: Regular expressions & word tokenization\n",
    "This chapter will introduce some basic NLP concepts, such as word tokenization and regular expressions to help parse text. You'll also learn how to handle non-English text and more difficult tokenization you might find."
   ]
  },
  {
   "cell_type": "markdown",
   "id": "5489af84",
   "metadata": {},
   "source": [
    "#### What is Natural Language Processing?\n",
    "* Massive field of study focused on making sense of language using statistics and computers\n",
    "* Some of the basics of NLP:\n",
    "    * Topic identification\n",
    "    * Text classification\n",
    "* NLP applications include:\n",
    "    * topic identification\n",
    "    * chatbots\n",
    "    * text classification\n",
    "    * translation\n",
    "    * sentiment analysis\n",
    "    * ... many, many more!\n",
    "    \n",
    "#### Regular Expressions\n",
    "* **Regular expressions** are strings you can use that have a special syntax which allows you to match patterns and find other strings\n",
    "* A **pattern** is a series of letters or symbols which can map to an actual text or words or punctuation.\n",
    "* Applications of regular expression:\n",
    "    * Find links in a a webpage or document\n",
    "    * Parse email addresses\n",
    "    * Remove unwanted strings or characters\n",
    "* Regular expressions are often referred to as **regex** and can be used easily with Python via the `re` library\n",
    "* match a substring using the `re.match()` method:"
   ]
  },
  {
   "cell_type": "code",
   "execution_count": 30,
   "id": "85a75e71",
   "metadata": {},
   "outputs": [],
   "source": [
    "import re\n",
    "import nltk\n",
    "from nltk.tokenize import word_tokenize, regexp_tokenize, TweetTokenizer\n",
    "from nltk.corpus import stopwords\n",
    "from nltk.stem import WordNetLemmatizer\n",
    "import matplotlib.pyplot as plt\n",
    "from collections import Counter\n",
    "from gensim.corpora.dictionary import Dictionary\n",
    "from gensim.models.tfidfmodel import TfidfModel"
   ]
  },
  {
   "cell_type": "code",
   "execution_count": 6,
   "id": "56efd1f3",
   "metadata": {},
   "outputs": [],
   "source": [
    "#nltk.download('punkt')"
   ]
  },
  {
   "cell_type": "code",
   "execution_count": 2,
   "id": "def9d6c2",
   "metadata": {},
   "outputs": [
    {
     "data": {
      "text/plain": [
       "<re.Match object; span=(0, 3), match='abc'>"
      ]
     },
     "execution_count": 2,
     "metadata": {},
     "output_type": "execute_result"
    }
   ],
   "source": [
    "re.match('abc', 'abcdef')"
   ]
  },
  {
   "cell_type": "markdown",
   "id": "0d59966a",
   "metadata": {},
   "source": [
    "* `re.match()` takes the pattern as the first argument, the string as the second argument, and returns a **match object**\n",
    "* We can also use \"special\" patterns that regex understands, like the `\\w+`, which will match a word:"
   ]
  },
  {
   "cell_type": "code",
   "execution_count": 3,
   "id": "5f7cd715",
   "metadata": {},
   "outputs": [
    {
     "data": {
      "text/plain": [
       "<re.Match object; span=(0, 2), match='hi'>"
      ]
     },
     "execution_count": 3,
     "metadata": {},
     "output_type": "execute_result"
    }
   ],
   "source": [
    "word_regex = '\\w+'\n",
    "re.match(word_regex, 'hi there!')"
   ]
  },
  {
   "cell_type": "markdown",
   "id": "ba6418fd",
   "metadata": {},
   "source": [
    "* There are hundreds of characters and patterns you can learn and memorize with regular expressions, but here we get started with a few common patterns:\n",
    "\n",
    "<img src='data/common_regex.png' width=\"300\" height=\"150\" align=\"center\"/>"
   ]
  },
  {
   "cell_type": "markdown",
   "id": "32ccac1a",
   "metadata": {},
   "source": [
    "#### Python's re modules\n",
    "* **`re`** module\n",
    "* **`split`**: split a string on a regex\n",
    "* **`findall`**: find all patterns in a string\n",
    "* **`search`**: search for a pattern\n",
    "* **`match`**: match an entire string or substring based on a pattern\n",
    "* Syntax for regex library is always to pass the pattern first and the string second\n",
    "* Depending on the method, it may return an iterator, a new string, or a match object"
   ]
  },
  {
   "cell_type": "code",
   "execution_count": 4,
   "id": "774c773a",
   "metadata": {},
   "outputs": [
    {
     "data": {
      "text/plain": [
       "['Split', 'on', 'spaces.']"
      ]
     },
     "execution_count": 4,
     "metadata": {},
     "output_type": "execute_result"
    }
   ],
   "source": [
    "re.split('\\s+', 'Split on spaces.')"
   ]
  },
  {
   "cell_type": "markdown",
   "id": "e90297ab",
   "metadata": {},
   "source": [
    "* This can be used for tokenization, so you can process text using regex while doing NLP\n",
    "\n",
    "#### Exercises: Practicing regular expressions: re.split() and re.findall()\n",
    "\n",
    "```\n",
    "# Write a pattern to match sentence endings: sentence_endings\n",
    "sentence_endings = r\"[.?!]\"\n",
    "\n",
    "# Split my_string on sentence endings and print the result\n",
    "print(re.split(sentence_endings, my_string))\n",
    "\n",
    "# Find all capitalized words in my_string and print the result\n",
    "capitalized_words = r\"[A-Z]\\w+\"\n",
    "print(re.findall(capitalized_words, my_string))\n",
    "\n",
    "# Split my_string on spaces and print the result\n",
    "spaces = r\"\\s+\"\n",
    "print(re.split(spaces, my_string))\n",
    "\n",
    "# Find all digits in my_string and print the result\n",
    "digits = r\"\\d+\"\n",
    "print(re.findall(digits, my_string))\n",
    "```\n",
    "\n",
    "### Introduction to tokenization"
   ]
  },
  {
   "cell_type": "markdown",
   "id": "41c364bf",
   "metadata": {},
   "source": [
    "* **Tokenization** is the process of transforming a string or document into smaller chunks, which we call tokens.\n",
    "* One step in the process of preparing a text for NLP\n",
    "* Many different theories and rules regarding tokenization\n",
    "    * You can also create your own tokenization rules using regular expressions\n",
    "* Some examples:\n",
    "    * Breaking out words or sentences\n",
    "    * Separating punctuation\n",
    "    * Separating all hashtags in a tweet\n",
    "\n",
    "#### nltk library\n",
    "* One library that is commonly used for simple tokenization is `nltk`, the **natural language took kit** library\n",
    "* `nltk`: natural langauge toolkit"
   ]
  },
  {
   "cell_type": "code",
   "execution_count": null,
   "id": "f1eca6ab",
   "metadata": {},
   "outputs": [],
   "source": [
    "#nltk.download('punkt')"
   ]
  },
  {
   "cell_type": "code",
   "execution_count": 5,
   "id": "55bb57b4",
   "metadata": {
    "scrolled": true
   },
   "outputs": [
    {
     "data": {
      "text/plain": [
       "['Hi', 'there', '!']"
      ]
     },
     "execution_count": 5,
     "metadata": {},
     "output_type": "execute_result"
    }
   ],
   "source": [
    "word_tokenize(\"Hi there!\")"
   ]
  },
  {
   "cell_type": "markdown",
   "id": "f130b085",
   "metadata": {},
   "source": [
    "#### Why tokenize?\n",
    "* Tokenizing can help us with some simple text processing tasks like:\n",
    "    * Mapping parts of speech\n",
    "    * Matching common words\n",
    "    * Removing unwanted tokens\n",
    "    \n",
    "#### Other nltk tokenizers\n",
    "* **`sent_tokenize`:** tokenize a document into sentences\n",
    "* **`regexp_tokenize`:** tokenize a string or document based on a regular expression pattern\n",
    "* **`TweetTokenizer`:** special class just for tweet tokenization, allowing you to separate hashtags, mentions, and lots of exclamation points\n",
    "\n",
    "#### More regex practice\n",
    "* Difference between `re.search()` and `re.match()`:\n",
    "    * When we use `search` and `match` with the same pattern and string when the pattern is at the beginning of the string, we see we find identical matches.\n",
    "    \n",
    "<img src='data/search_vs_match.png' width=\"600\" height=\"300\" align=\"center\"/>    \n",
    "\n",
    "* **Note that `match` will try and match a string from the beginning until it cannot match any longer, while `search` will go through the ENTIRE string to look for match options.**\n",
    "* So, if you need to find a patter that might not be at the beginning of the string, you should use `search`\n",
    "* If you want to be specific about the composition of the entire string, or at least the initial pattern, then you should use `match`\n",
    "\n",
    "#### Exercises: Word tokenization with NLTK\n",
    "\n",
    "```\n",
    "# Import necessary modules\n",
    "from nltk.tokenize import sent_tokenize, word_tokenize \n",
    "\n",
    "# Split scene_one into sentences: sentences\n",
    "sentences = sent_tokenize(scene_one)\n",
    "\n",
    "# Use word_tokenize to tokenize the fourth sentence: tokenized_sent\n",
    "tokenized_sent = word_tokenize(sentences[3])\n",
    "\n",
    "# Make a set of unique tokens in the entire scene: unique_tokens\n",
    "unique_tokens = set(word_tokenize(scene_one))\n",
    "\n",
    "# Print the unique tokens result\n",
    "print(unique_tokens)\n",
    "\n",
    "# Search for the first occurrence of \"coconuts\" in scene_one: match\n",
    "match = re.search(\"coconuts\", scene_one)\n",
    "\n",
    "# Print the start and end indexes of match\n",
    "print(match.start(), match.end())\n",
    "\n",
    "# Write a regular expression to search for anything in square brackets: pattern1\n",
    "pattern1 = r\"\\[.*]\"\n",
    "\n",
    "# Use re.search to find the first text in square brackets\n",
    "print(re.search(pattern1, scene_one))\n",
    "\n",
    "# Find the script notation at the beginning of the fourth sentence and print it\n",
    "pattern2 = r\"[\\w\\s]+:\"\n",
    "print(re.match(pattern2, sentences[3]))\n",
    "```\n"
   ]
  },
  {
   "cell_type": "markdown",
   "id": "e18e1da6",
   "metadata": {},
   "source": [
    "### Advanced tokenization with regex\n",
    "\n",
    "#### Regex groups using or \"|\"\n",
    "* OR is represented using **`|`**\n",
    "* Define a group using **`()`**\n",
    "    * Groups can be either a pattern or set of characters you want to match\n",
    "* You can also define explicit character classes using **`[]`**\n",
    "* Example: we want to find all digits and words using tokenization:"
   ]
  },
  {
   "cell_type": "code",
   "execution_count": 7,
   "id": "daabc325",
   "metadata": {},
   "outputs": [],
   "source": [
    "# import re\n",
    "match_digits_and_words = ('(\\d+|\\w+)')"
   ]
  },
  {
   "cell_type": "code",
   "execution_count": 8,
   "id": "92f1e020",
   "metadata": {},
   "outputs": [
    {
     "data": {
      "text/plain": [
       "['He', 'has', '11', 'cats']"
      ]
     },
     "execution_count": 8,
     "metadata": {},
     "output_type": "execute_result"
    }
   ],
   "source": [
    "re.findall(match_digits_and_words, \"He has 11 cats.\")"
   ]
  },
  {
   "cell_type": "markdown",
   "id": "bb3c074a",
   "metadata": {},
   "source": [
    "* Pseudo script: \"find all\" digits and/or words.\n",
    "\n",
    "#### Regex ranges and groups\n",
    "\n",
    "<img src='data/regex_ranges.png' width=\"600\" height=\"300\" align=\"center\"/>"
   ]
  },
  {
   "cell_type": "markdown",
   "id": "0d1249b3",
   "metadata": {},
   "source": [
    "* **Note** that:\n",
    "    * **ranges** are marked with **`[]`**\n",
    "    * **groups** are marked with **`()`**\n",
    "* We can see in the chart above that we can use square brackets to defne a new character class\n",
    "* Note in the third row of the chart, that because the hyphen and period are special characters in regex, we must tell regex we mean an ACTUAL period or hyphen\n",
    "    * To do so we use what is called an **escape character**: in regex that means to place a backwards slash in front of our character so it knows then to look for a hyphen or period.\n",
    "* On the other hand, with groups which are designated by the parentheses, we can only match what we explicitly define in the group\n",
    "    * For example, see row four in the chart above; this regex only specifies 3 characters to match: `a`, `-`, `z` (and *not* \"all the lowercase letters between a and z).\n",
    "    * **Groups are useful when you want to define an explicit set of characters.**\n",
    "* Final example: spaces or a comma.\n",
    "* In the code example below, use `match` with a character range to match all lowercase ascii, any digits, and spaces:"
   ]
  },
  {
   "cell_type": "code",
   "execution_count": 10,
   "id": "b7e3e182",
   "metadata": {},
   "outputs": [
    {
     "data": {
      "text/plain": [
       "<re.Match object; span=(0, 35), match='match lowercase spaces nums like 12'>"
      ]
     },
     "execution_count": 10,
     "metadata": {},
     "output_type": "execute_result"
    }
   ],
   "source": [
    "# import re\n",
    "my_str = 'match lowercase spaces nums like 12, but no commas'\n",
    "re.match('[a-z0-9 ]+', my_str)"
   ]
  },
  {
   "cell_type": "markdown",
   "id": "3777f785",
   "metadata": {},
   "source": [
    "* The above regex is **greedy**, marked by the **`+`** after the range definition, but once it hits the comma, it can't match any more.\n",
    "* This short example demonstrates that thinking about what regex method you use (such as `search` versus `match`) and whether you define a *group* or a *range* can have a large impact on the usefulness and readability of your patterns.\n",
    "\n",
    "#### Exercises: Regex with NLTK tokenization\n",
    "Twitter is a frequently used source for NLP text and tasks. In this exercise, you'll build a more complex tokenizer for tweets with hashtags and mentions using nltk and regex. The nltk.tokenize.TweetTokenizer class gives you some extra methods and attributes for parsing tweets.\n",
    "\n",
    "Here, you're given some example tweets to parse using both TweetTokenizer and regexp_tokenize from the nltk.tokenize module. These example tweets have been pre-loaded into the variable tweets. \n",
    "\n",
    "*Unlike the syntax for the regex library, with `nltk_tokenize()` you pass the pattern as the **second** argument.*\n",
    "\n",
    "```\n",
    "# Import the necessary modules\n",
    "from nltk.tokenize import regexp_tokenize, TweetTokenizer\n",
    "\n",
    "# PART 1\n",
    "# Define a regex pattern to find hashtags: pattern1\n",
    "pattern1 = r\"#\\w+\"\n",
    "\n",
    "# Use the pattern on the first tweet in the tweets list\n",
    "hashtags = regexp_tokenize(tweets[0], pattern1)\n",
    "print(hashtags)\n",
    "\n",
    "\n",
    "# PART 2\n",
    "# Write a pattern that matches both mentions (@) and hashtags\n",
    "pattern2 = r\"([#|@]\\w+)\"\n",
    "\n",
    "# Use the pattern on the last tweet in the tweets list\n",
    "mentions_hashtags = regexp_tokenize(tweets[-1], pattern2)\n",
    "print(mentions_hashtags)\n",
    "\n",
    "\n",
    "# PART 3\n",
    "# Use the TweetTokenizer to tokenize all tweets into one list\n",
    "tknzr = TweetTokenizer()\n",
    "all_tokens = [tknzr.tokenize(t) for t in tweets]\n",
    "print(all_tokens)\n",
    "```"
   ]
  },
  {
   "cell_type": "markdown",
   "id": "14fcd245",
   "metadata": {},
   "source": [
    "#### Exercises: Non-ascii Tokenization\n",
    "In this exercise, you'll practice advanced tokenization by tokenizing some non-ascii based text. You'll be using German with emoji!\n",
    "\n",
    "Here, you have access to a string called `german_text`, which has been printed for you in the Shell. Notice the emoji and the German characters!\n",
    "\n",
    "The following modules have been pre-imported from `nltk.tokenize`: `regexp_tokenize` and `word_tokenize`.\n",
    "\n",
    "Unicode ranges for emoji are:\n",
    "\n",
    "`('\\U0001F300'-'\\U0001F5FF')`, `('\\U0001F600-\\U0001F64F')`, `('\\U0001F680-\\U0001F6FF')`, and `('\\u2600'-\\u26FF-\\u2700-\\u27BF')`.\n",
    "\n",
    "```\n",
    "# Tokenize and print all words in german_text\n",
    "all_words = word_tokenize(german_text)\n",
    "print(all_words)\n",
    "\n",
    "# Tokenize and print only capital words\n",
    "capital_words = r\"[A-ZÜ]\\w+\"\n",
    "print(regexp_tokenize(german_text, capital_words))\n",
    "\n",
    "# Tokenize and print only emoji\n",
    "emoji = \"['\\U0001F300-\\U0001F5FF'|'\\U0001F600-\\U0001F64F'|'\\U0001F680-\\U0001F6FF'|'\\u2600-\\u26FF\\u2700-\\u27BF']\"\n",
    "print(regexp_tokenize(german_text, emoji))\n",
    "```\n",
    "\n",
    "### Charting word length with nltk\n",
    "* Using `nltk` with `matplotlib`\n",
    "* Tokenize text and chart word length for a simple sentence\n",
    "\n",
    "#### Combining NLP data extraction with plotting\n",
    "\n",
    "```\n",
    "import matplotlib.pyplot as plt\n",
    "from nltk.tokenize import word_tokenize\n",
    "\n",
    "# Tokenize the words and punctuation in a short sentence\n",
    "words = word_tokenize(\"this is a pretty cool tool!\")\n",
    "word_lengths = [len(w) for w in words]\n",
    "plt.hist(word_lengths)\n",
    "```\n",
    "* As a brief refresher on list comprehensions, they are a succinct way to write a for loop\n",
    "\n",
    "#### Exercises: Charting practice\n",
    "Try using your new skills to find and chart the number of words per line in the script using `matplotlib`. The Holy Grail script is loaded for you, and you need to use regex to find the words per line.\n",
    "\n",
    "Using list comprehensions here will speed up your computations. For example: `my_lines = [tokenize(l) for l in lines]` will call a function `tokenize` on each line in the list `lines`. The new transformed list will be saved in the `my_lines` variable.\n",
    "\n",
    "You have access to the entire script in the variable `holy_grail`. Go for it!\n",
    "\n",
    "```\n",
    "# Split the script into lines: lines\n",
    "lines = holy_grail.split('\\n')\n",
    "\n",
    "# Replace all script lines for speaker\n",
    "pattern = \"[A-Z]{2,}(\\s)?(#\\d)?([A-Z]{2,})?:\"\n",
    "lines = [re.sub(pattern, '', l) for l in lines]\n",
    "\n",
    "# Tokenize each line: tokenized_lines\n",
    "tokenized_lines = [regexp_tokenize(s, \"\\w+\") for s in lines]\n",
    "\n",
    "# Make a frequency list of lengths: line_num_words\n",
    "line_num_words = [len(t_line) for t_line in tokenized_lines]\n",
    "\n",
    "# Plot a histogram of the line lengths\n",
    "plt.hist(line_num_words)\n",
    "plt.show()\n",
    "```"
   ]
  },
  {
   "cell_type": "markdown",
   "id": "e4c4f985",
   "metadata": {},
   "source": [
    "# $\\star$ Chapter 2: Simple topic identification\n",
    "This chapter will introduce you to topic identification, which you can apply to any text you encounter in the wild. Using basic NLP models, you will identify topics from texts based on term frequencies. You'll experiment and compare two simple methods: bag-of-words and Tf-idf using NLTK, and a new library `Gensim`"
   ]
  },
  {
   "cell_type": "markdown",
   "id": "c197a05f",
   "metadata": {},
   "source": [
    "### Word counts with bag-of-words\n",
    "#### Bag-of-words\n",
    "* Basic method for finding topics in a text\n",
    "* Need to first create tokens using tokenization\n",
    "* ... and then count up all the tokens\n",
    "* Theory: **the more frequent a word or token is, the more central or important it might be to the text.**\n",
    "* Bag-of-words can be a great way to determine the significant words in a text (based on the number of times they are used)\n",
    "\n",
    "#### Bag-of-words in Python\n",
    "\n",
    "```\n",
    "from nltk.tokenize import word_tokenize\n",
    "from collections import Counter\n",
    "\n",
    "Counter(word_tokenize(\"\"\"The cat is in the box. The cat likes the box. The box is over the cat.\"\"\"))\n",
    "```"
   ]
  },
  {
   "cell_type": "code",
   "execution_count": 14,
   "id": "49324641",
   "metadata": {},
   "outputs": [
    {
     "data": {
      "text/plain": [
       "Counter({'The': 3,\n",
       "         'cat': 3,\n",
       "         'is': 2,\n",
       "         'in': 1,\n",
       "         'the': 3,\n",
       "         'box': 3,\n",
       "         '.': 3,\n",
       "         'likes': 1,\n",
       "         'over': 1})"
      ]
     },
     "execution_count": 14,
     "metadata": {},
     "output_type": "execute_result"
    }
   ],
   "source": [
    "Counter(word_tokenize(\"\"\"The cat is in the box. The cat likes the box. The box is over the cat.\"\"\"))"
   ]
  },
  {
   "cell_type": "markdown",
   "id": "e98cfbeb",
   "metadata": {},
   "source": [
    "* The result is a `counter` object, which has a similar structure to a dictionary and allows us to see each token and the frequency of the token.\n",
    "* `counter` objects also have a method called **`most_common()`**, which takes an integer argument, such as `2`, and would then return the top 2 tokens in terms of frequency."
   ]
  },
  {
   "cell_type": "code",
   "execution_count": 16,
   "id": "80cec99a",
   "metadata": {},
   "outputs": [
    {
     "data": {
      "text/plain": [
       "[('The', 3), ('cat', 3)]"
      ]
     },
     "execution_count": 16,
     "metadata": {},
     "output_type": "execute_result"
    }
   ],
   "source": [
    "counter = Counter(word_tokenize(\"\"\"The cat is in the box. The cat likes the box. The box is over the cat.\"\"\"))\n",
    "counter.most_common(2)"
   ]
  },
  {
   "cell_type": "markdown",
   "id": "312c8e6b",
   "metadata": {},
   "source": [
    "* The returned object is a series of tuples inside a list\n",
    "* For each tuple, the first element holds the token and the second element represents the frequency\n",
    "* **Note:** Other than ordering by token frequency, the `most_common` method does not sort the tokens it returns or tell us there are more tokens with that same frequency. \n",
    "    * For example: In the above example, the `most_common()` method doesn't alert us that `'box'` also has a frequency of `3`.\n",
    "    "
   ]
  },
  {
   "cell_type": "markdown",
   "id": "98da2daa",
   "metadata": {},
   "source": [
    "#### Exercises: Building a Counter with bag-of-words\n",
    "\n",
    "```\n",
    "# Import Counter\n",
    "from collections import Counter\n",
    "\n",
    "# Tokenize the article: tokens\n",
    "tokens = word_tokenize(article)\n",
    "\n",
    "# Convert the tokens into lowercase: lower_tokens\n",
    "lower_tokens = [t.lower() for t in tokens]\n",
    "\n",
    "# Create a Counter with the lowercase tokens: bow_simple\n",
    "bow_simple = Counter(lower_tokens)\n",
    "\n",
    "# Print the 10 most common tokens\n",
    "print(bow_simple.most_common(10))\n",
    "```"
   ]
  },
  {
   "cell_type": "markdown",
   "id": "00d29ebb",
   "metadata": {},
   "source": [
    "### Simple text preprocessing\n",
    "* Text preprocessing helps make for better input data when performing machine learning or other statisticals methods\n",
    "* Examples:\n",
    "    * Tokenization to create a bag of words\n",
    "    * Lowercasing words/tokens\n",
    "* **Lemmatization** or **Stemming**: shortening the words to their root stems \n",
    "* **Removing stop words**, punctuation, or unwanted tokens: stop words are common words in a language that may not convey much meaning regarding content or topics\n",
    "* Good to experiment with different approaches\n",
    "\n",
    "#### Preprocessing example\n",
    "* Input: Cats, dogs, and birds are common pets. So are fish.\n",
    "* Output: cat, dog, bird, common, pet, fish\n",
    "\n",
    "#### Text preprocessing with Python\n",
    "* Below we use list comprehensions to tokenize the sentences which we first make lowercase using the string `lower()` method.\n",
    "* The **`isalpha()`** method will return `True` if the string has *only* alphabetical characters\n",
    "    * Effectively strips tokens of numbers or punctuation when used as a conditional within list comprehension\n",
    "* We use another list comprehension to remove words that are in the stopwords list\n",
    "    * This **`stopwords` list comes built in with the `nltk` library.**\n",
    "* Finally, we create a counter and check the two most common words, which are now cat and box (\"the\" is no longer included, nor is \"The\")\n",
    "\n",
    "```\n",
    "from ntlk.corpus import stopwords\n",
    "\n",
    "text = \"\"\"The cat is in the box. The cat likes the box. The box is over the cat.\"\"\"\n",
    "tokens = [w for w in word_tokenize(text.lower()) if w.isalpha()] \n",
    "no_stops = [t for t in tokens if t not in stopwords.words('english')]\n",
    "Counter(no_stops).most_common(2)\n",
    "```"
   ]
  },
  {
   "cell_type": "code",
   "execution_count": 19,
   "id": "d9bc00f7",
   "metadata": {},
   "outputs": [
    {
     "name": "stderr",
     "output_type": "stream",
     "text": [
      "[nltk_data] Downloading package stopwords to\n",
      "[nltk_data]     /Users/abigailmorgan/nltk_data...\n",
      "[nltk_data]   Unzipping corpora/stopwords.zip.\n"
     ]
    },
    {
     "data": {
      "text/plain": [
       "True"
      ]
     },
     "execution_count": 19,
     "metadata": {},
     "output_type": "execute_result"
    }
   ],
   "source": [
    "#nltk.download('stopwords')"
   ]
  },
  {
   "cell_type": "code",
   "execution_count": 20,
   "id": "3cb29823",
   "metadata": {},
   "outputs": [
    {
     "data": {
      "text/plain": [
       "[('cat', 3), ('box', 3)]"
      ]
     },
     "execution_count": 20,
     "metadata": {},
     "output_type": "execute_result"
    }
   ],
   "source": [
    "text = \"\"\"The cat is in the box. The cat likes the box. The box is over the cat.\"\"\"\n",
    "tokens = [w for w in word_tokenize(text.lower()) if w.isalpha()] \n",
    "no_stops = [t for t in tokens if t not in stopwords.words('english')]\n",
    "Counter(no_stops).most_common(2)"
   ]
  },
  {
   "cell_type": "markdown",
   "id": "712903a9",
   "metadata": {},
   "source": [
    "* As demonstrated, preprocessing has already improved our bag of words and made.\n",
    "\n",
    "#### Exercises\n",
    "\n",
    "```\n",
    "# Import WordNetLemmatizer\n",
    "from nltk.stem import WordNetLemmatizer\n",
    "\n",
    "# Retain alphabetic words: alpha_only\n",
    "alpha_only = [t for t in lower_tokens if t.isalpha()]\n",
    "\n",
    "# Remove all stop words: no_stops\n",
    "no_stops = [t for t in alpha_only if t not in english_stops]\n",
    "\n",
    "# Instantiate the WordNetLemmatizer\n",
    "wordnet_lemmatizer = WordNetLemmatizer()\n",
    "\n",
    "# Lemmatize all tokens into a new list: lemmatized\n",
    "lemmatized = [wordnet_lemmatizer.lemmatize(t) for t in no_stops]\n",
    "\n",
    "# Create the bag-of-words: bow\n",
    "bow = Counter(lemmatized)\n",
    "\n",
    "# Print the 10 most common tokens\n",
    "print(bow.most_common(10))\n",
    "```"
   ]
  },
  {
   "cell_type": "markdown",
   "id": "b38c5e10",
   "metadata": {},
   "source": [
    "### Introduction to gensim\n",
    "* **Gensim** is a popular open-source NLP library\n",
    "* It uses top academic models to perform complex tasks like:\n",
    "    * Building document or word vectors\n",
    "    * Building corpora\n",
    "    * Performing topic identification and document comparisons\n",
    "    \n",
    "<img src='data/word_vectors.png' width=\"600\" height=\"300\" align=\"center\"/>"
   ]
  },
  {
   "cell_type": "markdown",
   "id": "ef9af418",
   "metadata": {},
   "source": [
    "#### Word vectors\n",
    "* A **word embedding** or **vector** is trained from a larger corpus and is a multi-dimensional representation of a word or document\n",
    "    * Think of it as a multi-dimensional array normally with sparse features \n",
    "    * With these vectors we can then see relationships among the words or documents based on how near or far they are and also what similar comparisons we find\n",
    "* In the image above, we see that `king minus queen` is approximately equal to `man minus woman`.\n",
    "* Or, that `Spain` is to `Madrid` as `Italy` is to `Rome`.\n",
    "* The deep learning algorithm used to create word vectors has been able to distill this meaning based on how those words are used throughout the text.\n",
    "\n",
    "<img src='data/LDA_viz.png' width=\"600\" height=\"300\" align=\"center\"/>\n",
    "\n",
    "* The image above is an example of LDA visualization\n",
    "* **LDA** stands for **Latent Dirichlet Allocation** and is a statistical model that we can apply to text using Gensim for topic analysis and modeling\n",
    "* Link to above article [HERE](http://tlfvincent.github.io/2015/10/23/presidential-speech-topics)\n",
    "\n",
    "#### Gensim\n",
    "* Gensim allows you to build corpora and dictionaries using simple classes and functions \\\n",
    "* A **corpus** (or, if plural, **corpora**) is a set of texts used to help perform NLP tasks\n",
    "\n",
    "```\n",
    "from gensim.corpora.dictionary import Dictionary\n",
    "from nltk.tokenize import word_tokenize\n",
    "\n",
    "my_documents = [\"The movie was about a spaceship and aliens.\",\n",
    "                \"I really liked the movie!\",\n",
    "                \"Awesome action scenes, but boring characters.\",\n",
    "                \"The movie was awful! I hate alien films.\",\n",
    "                \"Space is cool!\" I liked the movie.\",\n",
    "                \"More space films, please!\"]\n",
    "```\n",
    "* In the above example, our \"documents\" are a list of strings that look like movie reviews about space or sci-fi films"
   ]
  },
  {
   "cell_type": "code",
   "execution_count": 23,
   "id": "dfb2f6f7",
   "metadata": {},
   "outputs": [],
   "source": [
    "my_documents = [\"The movie was about a spaceship and aliens.\",\n",
    "                \"I really liked the movie!\",\n",
    "                \"Awesome action scenes, but boring characters.\",\n",
    "                \"The movie was awful! I hate alien films.\",\n",
    "                \"Space is cool! I liked the movie.\",\n",
    "                \"More space films, please!\"]"
   ]
  },
  {
   "cell_type": "code",
   "execution_count": 24,
   "id": "9f38267e",
   "metadata": {},
   "outputs": [],
   "source": [
    "# Lower-case-it and tokenize\n",
    "tokenized_docs = [word_tokenize(doc.lower()) for doc in my_documents]"
   ]
  },
  {
   "cell_type": "markdown",
   "id": "c69be9ac",
   "metadata": {},
   "source": [
    "* Then, pass the tokenized documents to the Gensim Dictionary class:\n",
    "    * This will create a mapping with an id for each token\n",
    "    * This is the beginning of our corpus\n",
    "    * We can now represent whole documents using just a list of their token ids and how often those tokens appear in each document\n",
    "    * We can take a look at the tokens and their ids by looking at the `token2id` attribute, which is a dictionary of all our tokens and their respective ids in our new dictionary"
   ]
  },
  {
   "cell_type": "code",
   "execution_count": 25,
   "id": "ea9da336",
   "metadata": {},
   "outputs": [],
   "source": [
    "dictionary = Dictionary(tokenized_docs)"
   ]
  },
  {
   "cell_type": "code",
   "execution_count": 29,
   "id": "72bed260",
   "metadata": {},
   "outputs": [
    {
     "data": {
      "text/plain": [
       "<gensim.corpora.dictionary.Dictionary at 0x7f9b62045850>"
      ]
     },
     "execution_count": 29,
     "metadata": {},
     "output_type": "execute_result"
    }
   ],
   "source": [
    "dictionary"
   ]
  },
  {
   "cell_type": "code",
   "execution_count": 26,
   "id": "4119b5ff",
   "metadata": {},
   "outputs": [
    {
     "data": {
      "text/plain": [
       "{'.': 0,\n",
       " 'a': 1,\n",
       " 'about': 2,\n",
       " 'aliens': 3,\n",
       " 'and': 4,\n",
       " 'movie': 5,\n",
       " 'spaceship': 6,\n",
       " 'the': 7,\n",
       " 'was': 8,\n",
       " '!': 9,\n",
       " 'i': 10,\n",
       " 'liked': 11,\n",
       " 'really': 12,\n",
       " ',': 13,\n",
       " 'action': 14,\n",
       " 'awesome': 15,\n",
       " 'boring': 16,\n",
       " 'but': 17,\n",
       " 'characters': 18,\n",
       " 'scenes': 19,\n",
       " 'alien': 20,\n",
       " 'awful': 21,\n",
       " 'films': 22,\n",
       " 'hate': 23,\n",
       " 'cool': 24,\n",
       " 'is': 25,\n",
       " 'space': 26,\n",
       " 'more': 27,\n",
       " 'please': 28}"
      ]
     },
     "execution_count": 26,
     "metadata": {},
     "output_type": "execute_result"
    }
   ],
   "source": [
    "dictionary.token2id"
   ]
  },
  {
   "cell_type": "markdown",
   "id": "abb09eff",
   "metadata": {},
   "source": [
    "#### Creating a gensim corpus\n",
    "* Using the dictionary created above, we can then create a Gensim corpus, which is a bit different from a normal corpus (which is just a collection of documents)\n",
    "* Gensim uses a simple bag-of-words model which transforms each document into a bag-of-words using the token ids and the frequency of each token in the document\n",
    "* Below, we can see that the Gensim corpus is a list of list, with each litem item representing one document.\n",
    "* Each document is now a series of tuples, the first item representing the tokenid from the dictionary and the second item representing the token frequency in the document\n",
    "* Unlike our previous Counter-based bow, this Gensim model can be easily save, updated, and reused thanks to the extra tools we have available in Gensim\n",
    "* Our dictionary can also be updated with new texts and extract only words that meet particular thresholds\n",
    "* We are building a more advanced and feature-rich bag-of-words model which can then be used for future exercises"
   ]
  },
  {
   "cell_type": "code",
   "execution_count": 27,
   "id": "50ece703",
   "metadata": {},
   "outputs": [],
   "source": [
    "corpus = [dictionary.doc2bow(doc) for doc in tokenized_docs]"
   ]
  },
  {
   "cell_type": "code",
   "execution_count": 28,
   "id": "f224776b",
   "metadata": {},
   "outputs": [
    {
     "data": {
      "text/plain": [
       "[[(0, 1), (1, 1), (2, 1), (3, 1), (4, 1), (5, 1), (6, 1), (7, 1), (8, 1)],\n",
       " [(5, 1), (7, 1), (9, 1), (10, 1), (11, 1), (12, 1)],\n",
       " [(0, 1), (13, 1), (14, 1), (15, 1), (16, 1), (17, 1), (18, 1), (19, 1)],\n",
       " [(0, 1),\n",
       "  (5, 1),\n",
       "  (7, 1),\n",
       "  (8, 1),\n",
       "  (9, 1),\n",
       "  (10, 1),\n",
       "  (20, 1),\n",
       "  (21, 1),\n",
       "  (22, 1),\n",
       "  (23, 1)],\n",
       " [(0, 1), (5, 1), (7, 1), (9, 1), (10, 1), (11, 1), (24, 1), (25, 1), (26, 1)],\n",
       " [(9, 1), (13, 1), (22, 1), (26, 1), (27, 1), (28, 1)]]"
      ]
     },
     "execution_count": 28,
     "metadata": {},
     "output_type": "execute_result"
    }
   ],
   "source": [
    "corpus"
   ]
  },
  {
   "cell_type": "markdown",
   "id": "8f3c21bf",
   "metadata": {},
   "source": [
    "#### Exercises: Creating and querying a corpus with gensim\n",
    "\n",
    "```\n",
    "# Import Dictionary\n",
    "from gensim.corpora.dictionary import Dictionary\n",
    "\n",
    "# Create a Dictionary from the articles: dictionary\n",
    "dictionary = Dictionary(articles)\n",
    "\n",
    "# Select the id for \"computer\": computer_id\n",
    "computer_id = dictionary.token2id.get(\"computer\")\n",
    "\n",
    "# Use computer_id with the dictionary to print the word\n",
    "print(dictionary.get(computer_id))\n",
    "\n",
    "# Create a MmCorpus: corpus\n",
    "corpus = [dictionary.doc2bow(article) for article in articles]\n",
    "\n",
    "# Print the first 10 word ids with their frequency counts from the fifth document\n",
    "print(corpus[4][:10])\n",
    "```\n",
    "\n",
    "#### Exercises: Gensim bag-of-words\n",
    "Now, you'll use your new `gensim` corpus and dictionary to see the most common terms per document and across all documents. You can use your dictionary to look up the terms. Take a guess at what the topics are and feel free to explore more documents in the IPython Shell!\n",
    "\n",
    "You have access to the `dictionary` and `corpus` objects you created in the previous exercise, as well as the Python `defaultdict` and `itertools` to help with the creation of intermediate data structures for analysis.\n",
    "\n",
    "* `defaultdict` allows us to initialize a dictionary that will assign a default value to non-existent keys. By supplying the argument `int`, we are able to ensure that any non-existent keys are automatically assigned a default value of `0`. This makes it ideal for storing the counts of words in this exercise.\n",
    "\n",
    "* `itertools.chain.from_iterable()` allows us to iterate through a set of sequences as if they were one continuous sequence. Using this function, we can easily iterate through our `corpus` object (which is a list of lists).\n",
    "\n",
    "The fifth document from `corpus` is stored in the variable `doc`, which has been sorted in descending order.\n",
    "\n",
    "```\n",
    "# Save the fifth document: doc\n",
    "doc = corpus[4]\n",
    "\n",
    "# Sort the doc for frequency: bow_doc\n",
    "bow_doc = sorted(doc, key=lambda w: w[1], reverse=True)\n",
    "\n",
    "# Print the top 5 words of the document alongside the count\n",
    "for word_id, word_count in bow_doc[:5]:\n",
    "    print(dictionary.get(word_id), word_count)\n",
    "    \n",
    "# Create the defaultdict: total_word_count\n",
    "total_word_count = defaultdict(int)\n",
    "for word_id, word_count in itertools.chain.from_iterable(corpus):\n",
    "    total_word_count[word_id] += word_count\n",
    "    \n",
    "# Create a sorted list from the defaultdict: sorted_word_count\n",
    "sorted_word_count = sorted(total_word_count.items(), key=lambda w: w[1], reverse=True) \n",
    "\n",
    "# Print the top 5 words across all documents alongside the count\n",
    "for word_id, word_count in sorted_word_count[:5]:\n",
    "    print(dictionary.get(word_id), word_count)\n",
    "```"
   ]
  },
  {
   "cell_type": "markdown",
   "id": "d6215150",
   "metadata": {},
   "source": [
    "### Tf-idf with gensim\n",
    "* Here we will learn how to use a TFIDF model with Gensim\n",
    "\n",
    "#### What is tf-idf?\n",
    "* **T**erm **f**requency- **i**nverse **d**ocument **f**requency\n",
    "* Allows you to determine the most important words in each documentin the corpus\n",
    "* Underlying theory: Each corpus may have more shared words than just stopwords; these common words are like stopwords and should be removed or at least down-weighted in impotance\n",
    "* Tf-idf ensures most common words don't show up as key words\n",
    "* Keeps document-specific frequent words weighted high\n",
    "    * (And the common words across the entire corpus weighted low)\n",
    "    \n",
    "<img src='data/tfidf_formula.png' width=\"600\" height=\"300\" align=\"center\"/>"
   ]
  },
  {
   "cell_type": "markdown",
   "id": "f4114cf5",
   "metadata": {},
   "source": [
    "* The weight will be low if the term doesn't appear often in the document because the tf variable will then be low. However, the weight will also be low if the logarithm is close to zero, meaning the internal equation is low\n",
    "\n",
    "### Tf-idf with gensim\n",
    "* We reference each document by using it like a dictionary key with our new tfidf model \n",
    "\n",
    "```\n",
    "from gensim.models.tfidfmodel import TfidfModel\n",
    "tfidf = TfidfModel(corpus)\n",
    "tfidf[corpus[1]]\n",
    "```"
   ]
  },
  {
   "cell_type": "code",
   "execution_count": 31,
   "id": "c14328db",
   "metadata": {},
   "outputs": [
    {
     "data": {
      "text/plain": [
       "[(5, 0.1746298276735174),\n",
       " (7, 0.1746298276735174),\n",
       " (9, 0.1746298276735174),\n",
       " (10, 0.29853166221463673),\n",
       " (11, 0.47316148988815415),\n",
       " (12, 0.7716931521027908)]"
      ]
     },
     "execution_count": 31,
     "metadata": {},
     "output_type": "execute_result"
    }
   ],
   "source": [
    "tfidf = TfidfModel(corpus)\n",
    "tfidf[corpus[1]]"
   ]
  },
  {
   "cell_type": "markdown",
   "id": "add59496",
   "metadata": {},
   "source": [
    "* For the second document in our corpora, we see the token weights along with the token ids. Notice there are some large differences.\n",
    "* These weights can help you determine good topics and keywords for a corpus with shared vocabulary"
   ]
  },
  {
   "cell_type": "markdown",
   "id": "5866438f",
   "metadata": {},
   "source": [
    "#### Exercises: Tf-idf with Wikipedia\n",
    "\n",
    "```\n",
    "# Create a new TfidfModel using the corpus: tfidf\n",
    "tfidf = TfidfModel(corpus)\n",
    "\n",
    "# Calculate the tfidf weights of doc: tfidf_weights\n",
    "tfidf_weights = tfidf[doc]\n",
    "\n",
    "# Print the first five weights\n",
    "print(tfidf_weights[:5])\n",
    "\n",
    "# Sort the weights from highest to lowest: sorted_tfidf_weights\n",
    "sorted_tfidf_weights = sorted(tfidf_weights, key=lambda w: w[1], reverse=True)\n",
    "\n",
    "# Print the top 5 weighted words\n",
    "for term_id, weight in sorted_tfidf_weights[:5]:\n",
    "    print(dictionary.get(term_id), weight)\n",
    "```"
   ]
  },
  {
   "cell_type": "code",
   "execution_count": null,
   "id": "b1db541a",
   "metadata": {},
   "outputs": [],
   "source": []
  },
  {
   "cell_type": "markdown",
   "id": "bbeef69c",
   "metadata": {},
   "source": [
    "<img src='data/course_datasets.png' width=\"600\" height=\"300\" align=\"center\"/>"
   ]
  }
 ],
 "metadata": {
  "kernelspec": {
   "display_name": "Python 3",
   "language": "python",
   "name": "python3"
  },
  "language_info": {
   "codemirror_mode": {
    "name": "ipython",
    "version": 3
   },
   "file_extension": ".py",
   "mimetype": "text/x-python",
   "name": "python",
   "nbconvert_exporter": "python",
   "pygments_lexer": "ipython3",
   "version": "3.8.8"
  }
 },
 "nbformat": 4,
 "nbformat_minor": 5
}
