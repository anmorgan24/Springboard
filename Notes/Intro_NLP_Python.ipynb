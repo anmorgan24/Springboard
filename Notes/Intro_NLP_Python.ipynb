{
 "cells": [
  {
   "cell_type": "markdown",
   "id": "a75948d3",
   "metadata": {},
   "source": [
    "# Introduction to Natural Language Processing in Python\n",
    "In this course, you'll learn natural language processing (NLP) basics, such as how to identify and separate words, how to extract topics in a text, and how to build your own fake news classifier. You'll also learn how to use basic libraries such as NLTK, alongside libraries which utilize deep learning to solve common NLP problems. This course will give you the foundation to process and parse text as you move forward in your Python learning."
   ]
  },
  {
   "cell_type": "markdown",
   "id": "8a250be2",
   "metadata": {},
   "source": [
    "## $\\star$ Chapter 1: Regular expressions & word tokenization\n",
    "This chapter will introduce some basic NLP concepts, such as word tokenization and regular expressions to help parse text. You'll also learn how to handle non-English text and more difficult tokenization you might find."
   ]
  },
  {
   "cell_type": "markdown",
   "id": "e216b91b",
   "metadata": {},
   "source": [
    "#### What is Natural Language Processing?\n",
    "* Massive field of study focused on making sense of language using statistics and computers\n",
    "* Some of the basics of NLP:\n",
    "    * Topic identification\n",
    "    * Text classification\n",
    "* NLP applications include:\n",
    "    * topic identification\n",
    "    * chatbots\n",
    "    * text classification\n",
    "    * translation\n",
    "    * sentiment analysis\n",
    "    * ... many, many more!\n",
    "    \n",
    "#### Regular Expressions\n",
    "* **Regular expressions** are strings you can use that have a special syntax which allows you to match patterns and find other strings\n",
    "* A **pattern** is a series of letters or symbols which can map to an actual text or words or punctuation.\n",
    "* Applications of regular expression:\n",
    "    * Find links in a a webpage or document\n",
    "    * Parse email addresses\n",
    "    * Remove unwanted strings or characters\n",
    "* Regular expressions are often referred to as **regex** and can be used easily with Python via the `re` library\n",
    "* match a substring using the `re.match()` method:"
   ]
  },
  {
   "cell_type": "code",
   "execution_count": 1,
   "id": "a0420c65",
   "metadata": {},
   "outputs": [],
   "source": [
    "import re\n",
    "import nltk\n",
    "from nltk.tokenize import word_tokenize"
   ]
  },
  {
   "cell_type": "code",
   "execution_count": 6,
   "id": "26798249",
   "metadata": {},
   "outputs": [],
   "source": [
    "#nltk.download('punkt')"
   ]
  },
  {
   "cell_type": "code",
   "execution_count": 2,
   "id": "7a84a331",
   "metadata": {},
   "outputs": [
    {
     "data": {
      "text/plain": [
       "<re.Match object; span=(0, 3), match='abc'>"
      ]
     },
     "execution_count": 2,
     "metadata": {},
     "output_type": "execute_result"
    }
   ],
   "source": [
    "re.match('abc', 'abcdef')"
   ]
  },
  {
   "cell_type": "markdown",
   "id": "19db6966",
   "metadata": {},
   "source": [
    "* `re.match()` takes the pattern as the first argument, the string as the second argument, and returns a **match object**\n",
    "* We can also use \"special\" patterns that regex understands, like the `\\w+`, which will match a word:"
   ]
  },
  {
   "cell_type": "code",
   "execution_count": 3,
   "id": "795bfe29",
   "metadata": {},
   "outputs": [
    {
     "data": {
      "text/plain": [
       "<re.Match object; span=(0, 2), match='hi'>"
      ]
     },
     "execution_count": 3,
     "metadata": {},
     "output_type": "execute_result"
    }
   ],
   "source": [
    "word_regex = '\\w+'\n",
    "re.match(word_regex, 'hi there!')"
   ]
  },
  {
   "cell_type": "markdown",
   "id": "114e3751",
   "metadata": {},
   "source": [
    "* There are hundreds of characters and patterns you can learn and memorize with regular expressions, but here we get started with a few common patterns:\n",
    "\n",
    "<img src='data/common_regex.png' width=\"300\" height=\"150\" align=\"center\"/>"
   ]
  },
  {
   "cell_type": "markdown",
   "id": "77faa283",
   "metadata": {},
   "source": [
    "#### Python's re modules\n",
    "* **`re`** module\n",
    "* **`split`**: split a string on a regex\n",
    "* **`findall`**: find all patterns in a string\n",
    "* **`search`**: search for a pattern\n",
    "* **`match`**: match an entire string or substring based on a pattern\n",
    "* Syntax for regex library is always to pass the pattern first and the string second\n",
    "* Depending on the method, it may return an iterator, a new string, or a match object"
   ]
  },
  {
   "cell_type": "code",
   "execution_count": 4,
   "id": "c8740284",
   "metadata": {},
   "outputs": [
    {
     "data": {
      "text/plain": [
       "['Split', 'on', 'spaces.']"
      ]
     },
     "execution_count": 4,
     "metadata": {},
     "output_type": "execute_result"
    }
   ],
   "source": [
    "re.split('\\s+', 'Split on spaces.')"
   ]
  },
  {
   "cell_type": "markdown",
   "id": "66026694",
   "metadata": {},
   "source": [
    "* This can be used for tokenization, so you can process text using regex while doing NLP\n",
    "\n",
    "#### Exercises: Practicing regular expressions: re.split() and re.findall()\n",
    "\n",
    "```\n",
    "# Write a pattern to match sentence endings: sentence_endings\n",
    "sentence_endings = r\"[.?!]\"\n",
    "\n",
    "# Split my_string on sentence endings and print the result\n",
    "print(re.split(sentence_endings, my_string))\n",
    "\n",
    "# Find all capitalized words in my_string and print the result\n",
    "capitalized_words = r\"[A-Z]\\w+\"\n",
    "print(re.findall(capitalized_words, my_string))\n",
    "\n",
    "# Split my_string on spaces and print the result\n",
    "spaces = r\"\\s+\"\n",
    "print(re.split(spaces, my_string))\n",
    "\n",
    "# Find all digits in my_string and print the result\n",
    "digits = r\"\\d+\"\n",
    "print(re.findall(digits, my_string))\n",
    "```\n",
    "\n",
    "### Introduction to tokenization"
   ]
  },
  {
   "cell_type": "markdown",
   "id": "651318b5",
   "metadata": {},
   "source": [
    "* **Tokenization** is the process of transforming a string or document into smaller chunks, which we call tokens.\n",
    "* One step in the process of preparing a text for NLP\n",
    "* Many different theories and rules regarding tokenization\n",
    "    * You can also create your own tokenization rules using regular expressions\n",
    "* Some examples:\n",
    "    * Breaking out words or sentences\n",
    "    * Separating punctuation\n",
    "    * Separating all hashtags in a tweet\n",
    "\n",
    "#### nltk library\n",
    "* One library that is commonly used for simple tokenization is `nltk`, the **natural language took kit** library\n",
    "* `nltk`: natural langauge toolkit"
   ]
  },
  {
   "cell_type": "code",
   "execution_count": null,
   "id": "a508055c",
   "metadata": {},
   "outputs": [],
   "source": [
    "#nltk.download('punkt')"
   ]
  },
  {
   "cell_type": "code",
   "execution_count": 5,
   "id": "969320bc",
   "metadata": {
    "scrolled": true
   },
   "outputs": [
    {
     "data": {
      "text/plain": [
       "['Hi', 'there', '!']"
      ]
     },
     "execution_count": 5,
     "metadata": {},
     "output_type": "execute_result"
    }
   ],
   "source": [
    "word_tokenize(\"Hi there!\")"
   ]
  },
  {
   "cell_type": "markdown",
   "id": "a2da01a0",
   "metadata": {},
   "source": [
    "#### Why tokenize?\n",
    "* Tokenizing can help us with some simple text processing tasks like:\n",
    "    * Mapping parts of speech\n",
    "    * Matching common words\n",
    "    * Removing unwanted tokens\n",
    "    \n",
    "#### Other nltk tokenizers\n",
    "* **`sent_tokenize`:** tokenize a document into sentences\n",
    "* **`regexp_tokenize`:** tokenize a string or document based on a regular expression pattern\n",
    "* **`TweetTokenizer`:** special class just for tweet tokenization, allowing you to separate hashtags, mentions, and lots of exclamation points\n",
    "\n",
    "#### More regex practice\n",
    "* Difference between `re.search()` and `re.match()`:\n",
    "    * When we use `search` and `match` with the same pattern and string when the pattern is at the beginning of the string, we see we find identical matches.\n",
    "    \n",
    "<img src='data/search_vs_match.png' width=\"600\" height=\"300\" align=\"center\"/>    \n",
    "\n",
    "* **Note that `match` will try and match a string from the beginning until it cannot match any longer, while `search` will go through the ENTIRE string to look for match options.**\n",
    "* So, if you need to find a patter that might not be at the beginning of the string, you should use `search`\n",
    "* If you want to be specific about the composition of the entire string, or at least the initial pattern, then you should use `match`\n",
    "\n",
    "#### Exercises: Word tokenization with NLTK\n",
    "\n",
    "```\n",
    "# Import necessary modules\n",
    "from nltk.tokenize import sent_tokenize, word_tokenize \n",
    "\n",
    "# Split scene_one into sentences: sentences\n",
    "sentences = sent_tokenize(scene_one)\n",
    "\n",
    "# Use word_tokenize to tokenize the fourth sentence: tokenized_sent\n",
    "tokenized_sent = word_tokenize(sentences[3])\n",
    "\n",
    "# Make a set of unique tokens in the entire scene: unique_tokens\n",
    "unique_tokens = set(word_tokenize(scene_one))\n",
    "\n",
    "# Print the unique tokens result\n",
    "print(unique_tokens)\n",
    "\n",
    "# Search for the first occurrence of \"coconuts\" in scene_one: match\n",
    "match = re.search(\"coconuts\", scene_one)\n",
    "\n",
    "# Print the start and end indexes of match\n",
    "print(match.start(), match.end())\n",
    "\n",
    "# Write a regular expression to search for anything in square brackets: pattern1\n",
    "pattern1 = r\"\\[.*]\"\n",
    "\n",
    "# Use re.search to find the first text in square brackets\n",
    "print(re.search(pattern1, scene_one))\n",
    "\n",
    "# Find the script notation at the beginning of the fourth sentence and print it\n",
    "pattern2 = r\"[\\w\\s]+:\"\n",
    "print(re.match(pattern2, sentences[3]))\n",
    "```\n"
   ]
  },
  {
   "cell_type": "markdown",
   "id": "a0017f9f",
   "metadata": {},
   "source": [
    "### Advanced tokenization with regex\n",
    "\n",
    "#### Regex groups using or \"|\"\n",
    "* OR is represented using **`|`**\n",
    "* Define a group using **`()`**\n",
    "    * Groups can be either a pattern or set of characters you want to match\n",
    "* You can also define explicit character classes using **`[]`**\n",
    "* Example: we want to find all digits and words using tokenization:"
   ]
  },
  {
   "cell_type": "code",
   "execution_count": 7,
   "id": "97ce0ac7",
   "metadata": {},
   "outputs": [],
   "source": [
    "# import re\n",
    "match_digits_and_words = ('(\\d+|\\w+)')"
   ]
  },
  {
   "cell_type": "code",
   "execution_count": 8,
   "id": "70014e7f",
   "metadata": {},
   "outputs": [
    {
     "data": {
      "text/plain": [
       "['He', 'has', '11', 'cats']"
      ]
     },
     "execution_count": 8,
     "metadata": {},
     "output_type": "execute_result"
    }
   ],
   "source": [
    "re.findall(match_digits_and_words, \"He has 11 cats.\")"
   ]
  },
  {
   "cell_type": "markdown",
   "id": "101db365",
   "metadata": {},
   "source": [
    "* Pseudo script: \"find all\" digits and/or words.\n",
    "\n",
    "#### Regex ranges and groups\n",
    "\n",
    "<img src='data/regex_ranges.png' width=\"600\" height=\"300\" align=\"center\"/>"
   ]
  },
  {
   "cell_type": "markdown",
   "id": "ba6be0c0",
   "metadata": {},
   "source": [
    "* **Note** that:\n",
    "    * **ranges** are marked with **`[]`**\n",
    "    * **groups** are marked with **`()`**\n",
    "* We can see in the chart above that we can use square brackets to defne a new character class\n",
    "* Note in the third row of the chart, that because the hyphen and period are special characters in regex, we must tell regex we mean an ACTUAL period or hyphen\n",
    "    * To do so we use what is called an **escape character**: in regex that means to place a backwards slash in front of our character so it knows then to look for a hyphen or period.\n",
    "* On the other hand, with groups which are designated by the parentheses, we can only match what we explicitly define in the group\n",
    "    * For example, see row four in the chart above; this regex only specifies 3 characters to match: `a`, `-`, `z` (and *not* \"all the lowercase letters between a and z).\n",
    "    * **Groups are useful when you want to define an explicit set of characters.**\n",
    "* Final example: spaces or a comma.\n",
    "* In the code example below, use `match` with a character range to match all lowercase ascii, any digits, and spaces:"
   ]
  },
  {
   "cell_type": "code",
   "execution_count": 10,
   "id": "9b4fc46d",
   "metadata": {},
   "outputs": [
    {
     "data": {
      "text/plain": [
       "<re.Match object; span=(0, 35), match='match lowercase spaces nums like 12'>"
      ]
     },
     "execution_count": 10,
     "metadata": {},
     "output_type": "execute_result"
    }
   ],
   "source": [
    "# import re\n",
    "my_str = 'match lowercase spaces nums like 12, but no commas'\n",
    "re.match('[a-z0-9 ]+', my_str)"
   ]
  },
  {
   "cell_type": "markdown",
   "id": "76ca6b12",
   "metadata": {},
   "source": [
    "* The above regex is **greedy**, marked by the **`+`** after the range definition, but once it hits the comma, it can't match any more.\n",
    "* This short example demonstrates that thinking about what regex method you use (such as `search` versus `match`) and whether you define a *group* or a *range* can have a large impact on the usefulness and readability of your patterns."
   ]
  },
  {
   "cell_type": "code",
   "execution_count": null,
   "id": "f0812766",
   "metadata": {},
   "outputs": [],
   "source": []
  },
  {
   "cell_type": "code",
   "execution_count": null,
   "id": "5611aff4",
   "metadata": {},
   "outputs": [],
   "source": []
  },
  {
   "cell_type": "code",
   "execution_count": null,
   "id": "6b0f8461",
   "metadata": {},
   "outputs": [],
   "source": []
  },
  {
   "cell_type": "code",
   "execution_count": null,
   "id": "9ee29ca7",
   "metadata": {},
   "outputs": [],
   "source": []
  },
  {
   "cell_type": "code",
   "execution_count": null,
   "id": "4fdb8bb9",
   "metadata": {},
   "outputs": [],
   "source": []
  },
  {
   "cell_type": "code",
   "execution_count": null,
   "id": "759467bb",
   "metadata": {},
   "outputs": [],
   "source": []
  },
  {
   "cell_type": "code",
   "execution_count": null,
   "id": "2bda3607",
   "metadata": {},
   "outputs": [],
   "source": []
  },
  {
   "cell_type": "markdown",
   "id": "ce0fec35",
   "metadata": {},
   "source": [
    "<img src='data/course_datasets.png' width=\"600\" height=\"300\" align=\"center\"/>"
   ]
  }
 ],
 "metadata": {
  "kernelspec": {
   "display_name": "Python 3",
   "language": "python",
   "name": "python3"
  },
  "language_info": {
   "codemirror_mode": {
    "name": "ipython",
    "version": 3
   },
   "file_extension": ".py",
   "mimetype": "text/x-python",
   "name": "python",
   "nbconvert_exporter": "python",
   "pygments_lexer": "ipython3",
   "version": "3.8.8"
  }
 },
 "nbformat": 4,
 "nbformat_minor": 5
}
