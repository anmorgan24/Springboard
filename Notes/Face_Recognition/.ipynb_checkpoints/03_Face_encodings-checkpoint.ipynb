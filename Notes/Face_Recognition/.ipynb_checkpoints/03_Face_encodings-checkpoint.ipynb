{
 "cells": [
  {
   "cell_type": "markdown",
   "id": "e27f896a",
   "metadata": {},
   "source": [
    "Note: This notebook was completed as part of Adam Geitgey's LLI course: \"Deep Learning: Face Recognition\"\n",
    "# Face Encodings"
   ]
  },
  {
   "cell_type": "code",
   "execution_count": 1,
   "id": "f8d1a24b",
   "metadata": {},
   "outputs": [],
   "source": [
    "import face_recognition"
   ]
  },
  {
   "cell_type": "code",
   "execution_count": 2,
   "id": "4aed994f",
   "metadata": {},
   "outputs": [],
   "source": [
    "# Load the jpg files into numpy arrays\n",
    "image = face_recognition.load_image_file(\"data/person.jpg\")"
   ]
  },
  {
   "cell_type": "code",
   "execution_count": 3,
   "id": "3b010dab",
   "metadata": {},
   "outputs": [
    {
     "name": "stdout",
     "output_type": "stream",
     "text": [
      "[-0.20855846  0.01845223  0.05200071 -0.01912925 -0.02748843 -0.0185511\n",
      " -0.02725517 -0.01845026  0.19835585 -0.01124564  0.19645658  0.01600676\n",
      " -0.15621802 -0.08862405 -0.00915146  0.11604421 -0.12597206 -0.14229286\n",
      " -0.03572799 -0.03505833  0.03726103  0.03980878 -0.07782649  0.07926036\n",
      " -0.14744237 -0.34706157 -0.1085614  -0.12216783  0.01723715 -0.11650687\n",
      "  0.06511284 -0.03900214 -0.18297051 -0.10930701  0.06847554  0.12637652\n",
      " -0.05037964 -0.09572257  0.13429844 -0.00703454 -0.16005875 -0.05573077\n",
      "  0.08435307  0.27441853  0.1343534   0.08523722  0.00496127 -0.11246423\n",
      "  0.16313253 -0.27373856  0.0840247   0.10128952  0.15344831  0.108321\n",
      "  0.11609222 -0.09201849  0.07474777  0.25488406 -0.30816695  0.10207555\n",
      "  0.00198589 -0.01495518  0.03411686 -0.02620041  0.21705675  0.14441349\n",
      " -0.1109333  -0.12751678  0.17208113 -0.16183107 -0.04968149  0.12839431\n",
      " -0.03207505 -0.26411194 -0.31615111  0.07128872  0.36264002  0.18028149\n",
      " -0.13117117 -0.0101326  -0.05811107 -0.00737811  0.03560947  0.03457591\n",
      " -0.0994846  -0.06623525 -0.05779978 -0.01711865  0.24389169  0.12510219\n",
      "  0.00310596  0.16942376 -0.01417203 -0.02782673  0.00143106  0.06574471\n",
      " -0.10071303  0.00664652 -0.07640252 -0.06614339  0.03114729  0.03002063\n",
      "  0.07674077  0.13323888 -0.21063033  0.15302038 -0.01548965 -0.04833615\n",
      "  0.00523046 -0.02149032 -0.06463677  0.01915041  0.14195833 -0.29341799\n",
      "  0.22209314  0.12297854  0.04837459  0.15621088  0.00215636  0.0096809\n",
      " -0.03717982 -0.11729012 -0.17494747 -0.01424961  0.05999139 -0.07590412\n",
      "  0.07595524 -0.00694481]\n"
     ]
    }
   ],
   "source": [
    "# Generate the face encodings\n",
    "face_encodings = face_recognition.face_encodings(image)\n",
    "\n",
    "if len(face_encodings) == 0:\n",
    "    # No faces found in the image.\n",
    "    print(\"No faces were found.\")\n",
    "\n",
    "else:\n",
    "    # Grab the first face encoding\n",
    "    first_face_encoding = face_encodings[0]\n",
    "\n",
    "    # Print the results\n",
    "    print(first_face_encoding)"
   ]
  },
  {
   "cell_type": "code",
   "execution_count": null,
   "id": "6f2e7076",
   "metadata": {},
   "outputs": [],
   "source": []
  }
 ],
 "metadata": {
  "kernelspec": {
   "display_name": "Python 3",
   "language": "python",
   "name": "python3"
  },
  "language_info": {
   "codemirror_mode": {
    "name": "ipython",
    "version": 3
   },
   "file_extension": ".py",
   "mimetype": "text/x-python",
   "name": "python",
   "nbconvert_exporter": "python",
   "pygments_lexer": "ipython3",
   "version": "3.8.8"
  }
 },
 "nbformat": 4,
 "nbformat_minor": 5
}
