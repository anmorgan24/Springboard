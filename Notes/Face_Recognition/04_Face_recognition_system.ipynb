{
 "cells": [
  {
   "cell_type": "markdown",
   "id": "fa4d43e3",
   "metadata": {},
   "source": [
    "Note: This notebook was completed as part of Adam Geitgey's LLI course: \"Deep Learning: Face Recognition\"\n",
    "# Face Recognition System"
   ]
  },
  {
   "cell_type": "code",
   "execution_count": 1,
   "id": "f0df65fe",
   "metadata": {},
   "outputs": [],
   "source": [
    "import face_recognition"
   ]
  },
  {
   "cell_type": "code",
   "execution_count": 3,
   "id": "6b0b3189",
   "metadata": {},
   "outputs": [],
   "source": [
    "# Load the known images\n",
    "image_of_person_1 = face_recognition.load_image_file('data/Ch06/person_1.jpg')\n",
    "image_of_person_2 = face_recognition.load_image_file('data/Ch06/person_2.jpg')\n",
    "image_of_person_3 = face_recognition.load_image_file('data/Ch06/person_3.jpg')"
   ]
  },
  {
   "cell_type": "code",
   "execution_count": 4,
   "id": "a7292588",
   "metadata": {},
   "outputs": [
    {
     "name": "stdout",
     "output_type": "stream",
     "text": [
      "Found Person 3 in the photo!\n"
     ]
    }
   ],
   "source": [
    "# Get the face encoding of each person. This can fail if no one is found in the photo.\n",
    "person_1_face_encoding = face_recognition.face_encodings(image_of_person_1)[0]\n",
    "person_2_face_encoding = face_recognition.face_encodings(image_of_person_2)[0]\n",
    "person_3_face_encoding = face_recognition.face_encodings(image_of_person_3)[0]\n",
    "\n",
    "# Create a list of all known face encodings\n",
    "known_face_encodings = [\n",
    "    person_1_face_encoding,\n",
    "    person_2_face_encoding,\n",
    "    person_3_face_encoding\n",
    "]\n",
    "\n",
    "# Load the image we want to check\n",
    "unknown_image = face_recognition.load_image_file('data/Ch06/unknown_8.jpg')\n",
    "\n",
    "# Get face encodings for any people in the picture\n",
    "unknown_face_encodings = face_recognition.face_encodings(unknown_image)\n",
    "\n",
    "# There might be more than one person in the photo, so we need to loop over each face we found\n",
    "for unknown_face_encoding in unknown_face_encodings:\n",
    "\n",
    "    # Test if this unknown face encoding matches any of the three people we know\n",
    "    results = face_recognition.compare_faces(known_face_encodings, unknown_face_encoding)\n",
    "\n",
    "    name = \"Unknown\"\n",
    "\n",
    "    if results[0]:\n",
    "        name = \"Person 1\"\n",
    "    elif results[1]:\n",
    "        name = \"Person 2\"\n",
    "    elif results[2]:\n",
    "        name = \"Person 3\"\n",
    "\n",
    "    print(f\"Found {name} in the photo!\")"
   ]
  }
 ],
 "metadata": {
  "kernelspec": {
   "display_name": "Python 3",
   "language": "python",
   "name": "python3"
  },
  "language_info": {
   "codemirror_mode": {
    "name": "ipython",
    "version": 3
   },
   "file_extension": ".py",
   "mimetype": "text/x-python",
   "name": "python",
   "nbconvert_exporter": "python",
   "pygments_lexer": "ipython3",
   "version": "3.8.8"
  }
 },
 "nbformat": 4,
 "nbformat_minor": 5
}
