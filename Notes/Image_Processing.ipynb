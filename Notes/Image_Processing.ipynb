{
 "cells": [
  {
   "cell_type": "markdown",
   "id": "78fbea9f",
   "metadata": {},
   "source": [
    "# Image Processing in Python\n",
    "Images are everywhere! We live in a time where images contain lots of information, which is sometimes difficult to obtain. This is why image pre-processing has become a highly valuable skill, applicable in many use cases. In this course, you will learn to process, transform, and manipulate images at your will, even when they come in thousands. You will also learn to restore damaged images, perform noise reduction, smart-resize images, count the number of dots on a dice, apply facial detection, and much more, using scikit-image. After completing this course, you will be able to apply your knowledge to different domains such as machine learning and artificial intelligence, machine and robotic vision, space and medical image analysis, retailing, and many more. Take the step and dive into the wonderful world that is computer vision!"
   ]
  },
  {
   "cell_type": "markdown",
   "id": "cc4dc4db",
   "metadata": {},
   "source": [
    "## Introducing Image Processing and scikit-image\n",
    "Jump into digital image structures and learn to process them! Extract data, transform and analyze images using NumPy and Scikit-image. With just a few lines of code, you will convert RGB images to grayscale, get data from them, obtain histograms containing very useful information, and separate objects from the background!"
   ]
  },
  {
   "cell_type": "markdown",
   "id": "94039ff0",
   "metadata": {},
   "source": [
    "### Make images come alive with scikit-image\n",
    "\n",
    "#### What is image processing?\n",
    "* Image processing is a method to perform operations on images, in order to **enhance them** or **extract useful information**, **analysis**, and **decision-making.**\n",
    "* By quantifying the information in images, we can make calculations.\n",
    "* **Image processing is a subset of computer vision.**\n",
    "\n",
    "#### Applications\n",
    "* Analysis of medical images\n",
    "* Artifical intelligence\n",
    "* Image restoration\n",
    "* Geospatial computing\n",
    "* Surveillance\n",
    "* Much, much more...\n",
    "\n",
    "#### Purposes\n",
    "* The purpose of image processing can be divided into five groups:\n",
    "    * **1) Visualization:**\n",
    "        * Observe objects that are not visible\n",
    "    * **2) Image sharpening and restoration:**\n",
    "        * To create a better image\n",
    "    * **3) Image retrieval:**\n",
    "        * Seek the image of interest\n",
    "    * **4) Measurement of patter:**\n",
    "        * Measure various objects\n",
    "    * **5) Image Recognition:**\n",
    "        * To distinguish objects in an image\n",
    "        \n",
    "#### Intro to scikit-image\n",
    "* East to use\n",
    "* Makes use of Machine Learning (and its built-in functions)\n",
    "* Out of the box complex algorithms\n",
    "\n",
    "#### What is an image?\n",
    "* **A digital image is an array, or a matrix, of square pixels (picture elements) arranged in columns and rows.**\n",
    "* In other words, a 2-dimensional matrix.\n",
    "* These pixels contain information about color and intensity\n",
    "* There are some testing-purpose images provided by scikit-image, in a module called `data`."
   ]
  },
  {
   "cell_type": "code",
   "execution_count": 1,
   "id": "342dde1d",
   "metadata": {},
   "outputs": [],
   "source": [
    "from skimage import data"
   ]
  },
  {
   "cell_type": "code",
   "execution_count": 2,
   "id": "ab6b639f",
   "metadata": {},
   "outputs": [],
   "source": [
    "rocket_image = data.rocket()"
   ]
  },
  {
   "cell_type": "code",
   "execution_count": 4,
   "id": "58e426d7",
   "metadata": {},
   "outputs": [
    {
     "data": {
      "text/plain": [
       "array([[[ 17,  33,  58],\n",
       "        [ 17,  33,  58],\n",
       "        [ 17,  33,  59],\n",
       "        ...,\n",
       "        [  8,  19,  37],\n",
       "        [  8,  19,  37],\n",
       "        [  7,  18,  36]],\n",
       "\n",
       "       [[ 17,  33,  58],\n",
       "        [ 17,  33,  58],\n",
       "        [ 17,  33,  59],\n",
       "        ...,\n",
       "        [  8,  19,  37],\n",
       "        [  8,  19,  37],\n",
       "        [  8,  19,  37]],\n",
       "\n",
       "       [[ 18,  34,  59],\n",
       "        [ 18,  34,  59],\n",
       "        [ 18,  34,  60],\n",
       "        ...,\n",
       "        [  8,  19,  37],\n",
       "        [  8,  19,  37],\n",
       "        [  8,  19,  37]],\n",
       "\n",
       "       ...,\n",
       "\n",
       "       [[ 27,  28,  32],\n",
       "        [ 29,  29,  37],\n",
       "        [ 20,  24,  36],\n",
       "        ...,\n",
       "        [136, 106,  82],\n",
       "        [186, 136,  85],\n",
       "        [173, 119,  81]],\n",
       "\n",
       "       [[ 26,  27,  31],\n",
       "        [ 29,  32,  39],\n",
       "        [ 30,  34,  46],\n",
       "        ...,\n",
       "        [103,  67,  45],\n",
       "        [ 97,  61,  27],\n",
       "        [ 76,  49,  20]],\n",
       "\n",
       "       [[ 26,  27,  31],\n",
       "        [ 29,  32,  39],\n",
       "        [ 40,  46,  60],\n",
       "        ...,\n",
       "        [ 82,  53,  37],\n",
       "        [ 79,  50,  32],\n",
       "        [ 83,  61,  37]]], dtype=uint8)"
      ]
     },
     "execution_count": 4,
     "metadata": {},
     "output_type": "execute_result"
    }
   ],
   "source": [
    "rocket_image"
   ]
  },
  {
   "cell_type": "code",
   "execution_count": null,
   "id": "85f019bc",
   "metadata": {},
   "outputs": [],
   "source": []
  },
  {
   "cell_type": "code",
   "execution_count": null,
   "id": "a488e97e",
   "metadata": {},
   "outputs": [],
   "source": []
  },
  {
   "cell_type": "code",
   "execution_count": null,
   "id": "e5731c02",
   "metadata": {},
   "outputs": [],
   "source": []
  },
  {
   "cell_type": "code",
   "execution_count": null,
   "id": "a85656ed",
   "metadata": {},
   "outputs": [],
   "source": []
  }
 ],
 "metadata": {
  "kernelspec": {
   "display_name": "Python 3",
   "language": "python",
   "name": "python3"
  },
  "language_info": {
   "codemirror_mode": {
    "name": "ipython",
    "version": 3
   },
   "file_extension": ".py",
   "mimetype": "text/x-python",
   "name": "python",
   "nbconvert_exporter": "python",
   "pygments_lexer": "ipython3",
   "version": "3.8.8"
  }
 },
 "nbformat": 4,
 "nbformat_minor": 5
}
