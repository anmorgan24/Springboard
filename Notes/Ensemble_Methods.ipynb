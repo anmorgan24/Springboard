{
 "cells": [
  {
   "cell_type": "markdown",
   "id": "a7cdbd26",
   "metadata": {},
   "source": [
    "# Ensemble methods"
   ]
  },
  {
   "cell_type": "markdown",
   "id": "83f073b6",
   "metadata": {},
   "source": [
    "* Pre-reqs:\n",
    "    * Linear classifiers in Python\n",
    "    * Machine Learning with Tree-Based Models in Python\n",
    "    * Supervised Learning with Scikit-Learn"
   ]
  },
  {
   "cell_type": "markdown",
   "id": "1ba1ea3a",
   "metadata": {},
   "source": [
    "### CAPSTONE TO DO: choose an evaluation metric for ensemble model: accuracy, sensitivity, specificty, other?\n",
    "* **Accuracy:** shows the percentage of the dataset instances correctly predicted by the model developed by the machine learning algorithm\n",
    "* **Sensitivity:** shows the percentage of COVID-19 positive patients correctly by the models\n",
    "* **Specificity:**  shows the percentage of COVID-19 negative patients correctly by the models\n",
    "\n",
    "* Create cross-val table of: CCI, TP, FP, Precision, Recall, F Measure/F1 Score, ROC/AUC?\n"
   ]
  },
  {
   "cell_type": "markdown",
   "id": "e6e66ef9",
   "metadata": {},
   "source": [
    "### Combining multiple models\n",
    "* When you're building a model, you want to choose the one that performs the best according to some evaluation metric\n",
    "* Ensemble methods: form a new model by combining existing ones; the combined responses of different models will likely lead to a better decision than relying on a single response.\n",
    "    * the combined model will have better performance than any of the individual models (or at least be as good as the best individual model)\n",
    "* Ensemble learning is one of the most effective techniques in machine learning\n",
    "* A useful Python library for machine learning called `mlxtend`\n",
    "* Main scikit-learn module: `sklearn.ensemble`\n"
   ]
  },
  {
   "cell_type": "markdown",
   "id": "95b41ea3",
   "metadata": {},
   "source": [
    "```\n",
    "from sklearn.ensemble import MetaEstimator\n",
    "# Base estimators\n",
    "est1 = Model1()\n",
    "est2 = Model1()\n",
    "estN = ModelN()\n",
    "# Meta estimator\n",
    "est_combined = MetaEstimator(estimators=[est1, est2,  ..., estN], \n",
    "                # Additional parameters (specific to the ensemble method)\n",
    ")\n",
    "# Train and test\n",
    "est_combined.fit(X_train, y_train)\n",
    "pred = est_combined.predict(X_test)\n",
    "```\n",
    "* The best feature of the meta estimator is that it works similarly to the scikit-learn estimators you already know, with the standard methods of fit and predict\n",
    "* Decision trees are the building block of many ensemble methods"
   ]
  },
  {
   "cell_type": "code",
   "execution_count": null,
   "id": "ac25279f",
   "metadata": {},
   "outputs": [],
   "source": []
  },
  {
   "cell_type": "code",
   "execution_count": null,
   "id": "07320566",
   "metadata": {},
   "outputs": [],
   "source": []
  },
  {
   "cell_type": "code",
   "execution_count": null,
   "id": "39754c9d",
   "metadata": {},
   "outputs": [],
   "source": []
  },
  {
   "cell_type": "code",
   "execution_count": null,
   "id": "414e0372",
   "metadata": {},
   "outputs": [],
   "source": []
  },
  {
   "cell_type": "code",
   "execution_count": null,
   "id": "0213a627",
   "metadata": {},
   "outputs": [],
   "source": []
  },
  {
   "cell_type": "code",
   "execution_count": null,
   "id": "b2b08f9a",
   "metadata": {},
   "outputs": [],
   "source": []
  },
  {
   "cell_type": "code",
   "execution_count": null,
   "id": "cb6f4169",
   "metadata": {},
   "outputs": [],
   "source": []
  },
  {
   "cell_type": "code",
   "execution_count": null,
   "id": "d4d56c23",
   "metadata": {},
   "outputs": [],
   "source": []
  }
 ],
 "metadata": {
  "kernelspec": {
   "display_name": "Python 3",
   "language": "python",
   "name": "python3"
  },
  "language_info": {
   "codemirror_mode": {
    "name": "ipython",
    "version": 3
   },
   "file_extension": ".py",
   "mimetype": "text/x-python",
   "name": "python",
   "nbconvert_exporter": "python",
   "pygments_lexer": "ipython3",
   "version": "3.8.8"
  }
 },
 "nbformat": 4,
 "nbformat_minor": 5
}
