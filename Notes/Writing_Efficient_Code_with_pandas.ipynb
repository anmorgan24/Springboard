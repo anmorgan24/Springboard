{
 "cells": [
  {
   "cell_type": "markdown",
   "id": "737b3d49",
   "metadata": {},
   "source": [
    "Note: This notebook was created along with the DataCamp course of the same name\n",
    "\n",
    "# Writing Efficient Code with pandas\n",
    "\n",
    "The ability to efficiently work with big datasets and extract valuable information is an indispensable tool for every aspiring data scientist. When working with a small amount of data, we often don’t realize how slow code execution can be. This course will build on your knowledge of Python and the pandas library and introduce you to efficient built-in pandas functions to perform tasks faster. Pandas’ built-in functions allow you to tackle the simplest tasks, like targeting specific entries and features from the data, to the most complex tasks, like applying functions on groups of entries, much faster than Python's usual methods. By the end of this course, you will be able to apply a function to data based on a feature value, iterate through big datasets rapidly, and manipulate data belonging to different groups efficiently. You will apply these methods on a variety of real-world datasets, such as poker hands or restaurant tips.\n",
    "\n",
    "**Instructor:** Leonidas Souliotis, PhD @ University of Warwick"
   ]
  },
  {
   "cell_type": "code",
   "execution_count": 2,
   "id": "82c1dc6f",
   "metadata": {},
   "outputs": [],
   "source": [
    "import time"
   ]
  },
  {
   "cell_type": "markdown",
   "id": "faeaab85",
   "metadata": {},
   "source": [
    "# $\\star$ Chapter 1: Selecting columns and rows efficiently \n",
    "This chapter will give you an overview of why efficient code matters and selecting specific and random rows and columns efficiently.\n",
    "\n",
    "### The need for efficient coding I\n",
    "* How do we measure time?\n",
    "    * For the context of this course, we will use a function which captures the current time of the computer in seconds since the 1st of January 1970, as a floating point number\n",
    "    * This function is the `time()` function from the time Python package.\n",
    "    * **`time.time()`** returns the current time in seconds since 12:00am, January 1, 1970\n",
    "    * Each time we are interested in measuring some code's execution time, we will assign the current time before execution, using the `time()` function, execute the operation we are interested in, and measure the time again right after the code's execution.\n",
    "    * In the end, we print the result in second, in a compact but meaningful message"
   ]
  },
  {
   "cell_type": "code",
   "execution_count": 3,
   "id": "6b4bc234",
   "metadata": {},
   "outputs": [
    {
     "name": "stdout",
     "output_type": "stream",
     "text": [
      "Result calculated in 9.703636169433594e-05 sec\n"
     ]
    }
   ],
   "source": [
    "# record time before execution\n",
    "start_time = time.time()\n",
    "# execute operation\n",
    "result = 5 + 2\n",
    "# record time after execution\n",
    "end_time = time.time()\n",
    "print(\"Result calculated in {} sec\".format(end_time - start_time))"
   ]
  },
  {
   "cell_type": "markdown",
   "id": "be9c4013",
   "metadata": {},
   "source": [
    "### For-loop vs. list comprehension\n",
    "* List comprehension:"
   ]
  },
  {
   "cell_type": "code",
   "execution_count": 4,
   "id": "ce150310",
   "metadata": {},
   "outputs": [
    {
     "name": "stdout",
     "output_type": "stream",
     "text": [
      "Time using the list_comprehension: 0.07631111145019531 sec\n"
     ]
    }
   ],
   "source": [
    "list_comp_start_time = time.time()\n",
    "result = [i*i for i in range(0, 1000000)]\n",
    "list_comp_end_time = time.time()\n",
    "print(\"Time using the list_comprehension: {} sec\".format(list_comp_end_time-list_comp_start_time))"
   ]
  },
  {
   "cell_type": "markdown",
   "id": "d985dcfa",
   "metadata": {},
   "source": [
    "* For loop:"
   ]
  },
  {
   "cell_type": "code",
   "execution_count": 5,
   "id": "1887a0d6",
   "metadata": {},
   "outputs": [
    {
     "name": "stdout",
     "output_type": "stream",
     "text": [
      "Time using the for loop: 0.13492989540100098 sec\n"
     ]
    }
   ],
   "source": [
    "for_loop_start_time = time.time()\n",
    "result = []\n",
    "for i in range(0, 1000000):\n",
    "    result.append(i*i)\n",
    "for_loop_end_time = time.time()\n",
    "print(\"Time using the for loop: {} sec\".format(for_loop_end_time - for_loop_start_time))"
   ]
  },
  {
   "cell_type": "markdown",
   "id": "1ca90418",
   "metadata": {},
   "source": [
    "* In the majority of cases, a list comprehension is a faster way to perform a simple operation than a for loop\n",
    "\n",
    "### Where time matters I\n",
    "* Calculate $1 + 2 + ... + 1000000$\n",
    "* The most intuitive way to do it is by brute force, adding each number to the sum one by one:"
   ]
  },
  {
   "cell_type": "code",
   "execution_count": 6,
   "id": "51cf2f12",
   "metadata": {},
   "outputs": [],
   "source": [
    "def sum_brute_force(N):\n",
    "    res = 0\n",
    "    for i in range(1, N+1):\n",
    "        res+=1\n",
    "    return res"
   ]
  },
  {
   "cell_type": "markdown",
   "id": "8398e411",
   "metadata": {},
   "source": [
    "* A more clever way to proceed is to use a well-known formula from Gauss:\n",
    "* Using $1 + 2 + ... + N = \\frac{N *(N + 1)}{2}$"
   ]
  },
  {
   "cell_type": "code",
   "execution_count": 7,
   "id": "d94e0f0a",
   "metadata": {},
   "outputs": [],
   "source": [
    "def sum_formula(N):\n",
    "    return N*(N+1)/2"
   ]
  },
  {
   "cell_type": "markdown",
   "id": "1a8f287a",
   "metadata": {},
   "source": [
    "* After running both methods, we achieve a massive improvement with a magnitude of over 160,000%, which clearly demonstrates why we need efficient and optimized code, even for simple tasks"
   ]
  },
  {
   "cell_type": "code",
   "execution_count": null,
   "id": "2b44658d",
   "metadata": {},
   "outputs": [],
   "source": []
  },
  {
   "cell_type": "code",
   "execution_count": null,
   "id": "ae904131",
   "metadata": {},
   "outputs": [],
   "source": []
  },
  {
   "cell_type": "code",
   "execution_count": null,
   "id": "545840f7",
   "metadata": {},
   "outputs": [],
   "source": []
  },
  {
   "cell_type": "code",
   "execution_count": null,
   "id": "f9c676db",
   "metadata": {},
   "outputs": [],
   "source": []
  },
  {
   "cell_type": "code",
   "execution_count": null,
   "id": "56af1f93",
   "metadata": {},
   "outputs": [],
   "source": []
  },
  {
   "cell_type": "code",
   "execution_count": null,
   "id": "e71df1cb",
   "metadata": {},
   "outputs": [],
   "source": []
  },
  {
   "cell_type": "code",
   "execution_count": null,
   "id": "74e33b8c",
   "metadata": {},
   "outputs": [],
   "source": []
  },
  {
   "cell_type": "code",
   "execution_count": null,
   "id": "fe166ee4",
   "metadata": {},
   "outputs": [],
   "source": []
  },
  {
   "cell_type": "markdown",
   "id": "90a12090",
   "metadata": {},
   "source": [
    "<img src='data/efficient26.png' width=\"600\" height=\"300\" align=\"center\"/>"
   ]
  }
 ],
 "metadata": {
  "kernelspec": {
   "display_name": "Python 3",
   "language": "python",
   "name": "python3"
  },
  "language_info": {
   "codemirror_mode": {
    "name": "ipython",
    "version": 3
   },
   "file_extension": ".py",
   "mimetype": "text/x-python",
   "name": "python",
   "nbconvert_exporter": "python",
   "pygments_lexer": "ipython3",
   "version": "3.8.8"
  }
 },
 "nbformat": 4,
 "nbformat_minor": 5
}
