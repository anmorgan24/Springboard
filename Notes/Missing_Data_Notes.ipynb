{
 "cells": [
  {
   "cell_type": "markdown",
   "id": "4f0fd30e",
   "metadata": {},
   "source": [
    "# Missing Data "
   ]
  },
  {
   "cell_type": "markdown",
   "id": "023010cb",
   "metadata": {},
   "source": [
    "* 72% of corporations believe that data quality issues hinder customer trust and perception\n",
    "\n",
    "#### Workflow for treating missing values\n",
    "* 1) Convert all missing values to null values\n",
    "* 2) Analyze the amount and type of missingness in the data\n",
    "* 3) Appropriately delete or impute missing values\n",
    "* 4) Evaluate and compare the performance of the treated/imputed dataset.\n",
    "\n",
    "#### NULL value operations\n",
    "* There are two types of null values for consideration:\n",
    "    * 1) **`None`** \n",
    "        * `None or True` #returns `True`\n",
    "        * does not support arithmetic operations\n",
    "            * returns `TypeError`\n",
    "        * `type(None)` = `NoneType`\n",
    "            * supports logical operations only\n",
    "        * `None == None` returns `True`\n",
    "        * `np.isnan(None)` returns `False`\n",
    "    * 2) **`np.nan`**\n",
    "        * `np.nan or True` #returns `np.nan`\n",
    "        * `np.nan` does not return an error with arithmetic operations (it returns `np.nan`)\n",
    "        * Note that `np.nan` is equivalent to undefined and any operation on 'undefined' is undefined\n",
    "        * `type(np.nan)` = `float` \n",
    "            * supports both logical and arithmetic operations\n",
    "        * `np.nan == np.nan` returns `False`\n",
    "            * \"an undefined number cannot be equal and therefore is false\"\n",
    "            * instead, the correct way to check for `NaN` is:\n",
    "                * `np.isnan(np.nan)`\n",
    "                \n",
    "#### Handling Missing Values"
   ]
  },
  {
   "cell_type": "code",
   "execution_count": null,
   "id": "3692cab2",
   "metadata": {},
   "outputs": [],
   "source": []
  },
  {
   "cell_type": "code",
   "execution_count": null,
   "id": "2dcc6008",
   "metadata": {},
   "outputs": [],
   "source": []
  },
  {
   "cell_type": "code",
   "execution_count": null,
   "id": "422f52d5",
   "metadata": {},
   "outputs": [],
   "source": []
  },
  {
   "cell_type": "code",
   "execution_count": null,
   "id": "efad02c9",
   "metadata": {},
   "outputs": [],
   "source": []
  },
  {
   "cell_type": "code",
   "execution_count": null,
   "id": "cc7b7a36",
   "metadata": {},
   "outputs": [],
   "source": []
  }
 ],
 "metadata": {
  "kernelspec": {
   "display_name": "Python 3",
   "language": "python",
   "name": "python3"
  },
  "language_info": {
   "codemirror_mode": {
    "name": "ipython",
    "version": 3
   },
   "file_extension": ".py",
   "mimetype": "text/x-python",
   "name": "python",
   "nbconvert_exporter": "python",
   "pygments_lexer": "ipython3",
   "version": "3.8.8"
  }
 },
 "nbformat": 4,
 "nbformat_minor": 5
}
