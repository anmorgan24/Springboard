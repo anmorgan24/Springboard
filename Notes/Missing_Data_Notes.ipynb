{
 "cells": [
  {
   "cell_type": "markdown",
   "id": "c8d1394a",
   "metadata": {},
   "source": [
    "# Missing Data "
   ]
  },
  {
   "cell_type": "markdown",
   "id": "4d1c0170",
   "metadata": {},
   "source": [
    "* 72% of corporations believe that data quality issues hinder customer trust and perception\n",
    "\n",
    "#### Workflow for treating missing values\n",
    "* 1) Convert all missing values to null values\n",
    "* 2) Analyze the amount and type of missingness in the data\n",
    "* 3) Appropriately delete or impute missing values\n",
    "* 4) Evaluate and compare the performance of the treated/imputed dataset.\n",
    "\n",
    "#### NULL value operations\n",
    "* There are two types of null values for consideration:\n",
    "    * 1) **`None`** \n",
    "        * `None or True` #returns `True`\n",
    "        * does not support arithmetic operations\n",
    "            * returns `TypeError`\n",
    "        * `type(None)` = `NoneType`\n",
    "            * supports logical operations only\n",
    "        * `None == None` returns `True`\n",
    "        * `np.isnan(None)` returns `False`\n",
    "    * 2) **`np.nan`**\n",
    "        * `np.nan or True` #returns `np.nan`\n",
    "        * `np.nan` does not return an error with arithmetic operations (it returns `np.nan`)\n",
    "        * Note that `np.nan` is equivalent to undefined and any operation on 'undefined' is undefined\n",
    "        * `type(np.nan)` = `float` \n",
    "            * supports both logical and arithmetic operations\n",
    "        * `np.nan == np.nan` returns `False`\n",
    "            * \"an undefined number cannot be equal and therefore is false\"\n",
    "            * instead, the correct way to check for `NaN` is:\n",
    "                * `np.isnan(np.nan)`\n",
    "                \n",
    "#### Handling Missing Values\n",
    "* Missing values are usually filled with dummy values like `NA`, `-`, `.`, etc.\n",
    "* Replace missing values in `read_csv()` call:\n",
    "    * `college = pd.read_csv('college.csv', na_values='.')`\n",
    "* Look for incorrect 0 values (\"hidden\" missing values):\n",
    "    * `diabetes.BMI[diabetes.BMI ==0]`\n",
    "    * Replace incorrect zero values with NaN:\n",
    "        * `diabetes.BMI[diabetes.BMI ==0] = np.nan`\n",
    "    * Re-check for NaN values:\n",
    "        * `diabetes.BMI[np.isnan(diabetes.BMI)]`\n",
    "        \n",
    "#### Analyze the amount of missingness\n",
    "* Find total numberand percentage of missing values in a column of the dataset\n",
    "* `.isnull()` = `.sina()`\n",
    "    * `airquality_nullity = airquality.isnull()` # returns a Boolean array that can be called a nullity or dummy dataframe\n",
    "    * total missing values: `.sum()`\n",
    "    * percentage missing values: `airquality_nullity.mean() * 100`\n",
    "\n",
    "* **`Missingno`** package:\n",
    "    * **Nullity bar**\n",
    "    * Package for graphical analysis of missing values\n",
    "    * `import missingno as msno`\n",
    "    * `msno.bar(air_quality)\n",
    "    * **Nullity matrix:** Visualize the locations of missing values in the dataset\n",
    "    * Allows us to quickly analyze the patterns in missing data\n",
    "    * `msno.matrix('air_quality')`\n",
    "    * The sparkline on the right summarizes the general shape of data completeness and points out the row with the minimum number of null values in the DataFrame as well as the total count of columns at the bottom.\n",
    "    * **Nullity matrix for time-series data:**\n",
    "    * `msno.matrix(airquality, freq='M')\n",
    "        * Clearly observe during which season there is a higher amount of missingness\n",
    "    * Further slice data frame to specific time period to obtain even more clarity:\n",
    "        * `msno.matrix(air_quality.loc['May-1976': 'Jul-1976'], freq='M')`\n",
    "        \n",
    "   "
   ]
  },
  {
   "cell_type": "code",
   "execution_count": null,
   "id": "2b43142c",
   "metadata": {},
   "outputs": [],
   "source": [
    "\"youre one project away from changing your job\""
   ]
  },
  {
   "cell_type": "code",
   "execution_count": null,
   "id": "1177b27e",
   "metadata": {},
   "outputs": [],
   "source": []
  },
  {
   "cell_type": "code",
   "execution_count": null,
   "id": "6c9f7882",
   "metadata": {},
   "outputs": [],
   "source": []
  },
  {
   "cell_type": "code",
   "execution_count": null,
   "id": "68e11c45",
   "metadata": {},
   "outputs": [],
   "source": []
  },
  {
   "cell_type": "code",
   "execution_count": null,
   "id": "b9f4b7c2",
   "metadata": {},
   "outputs": [],
   "source": []
  }
 ],
 "metadata": {
  "kernelspec": {
   "display_name": "Python 3",
   "language": "python",
   "name": "python3"
  },
  "language_info": {
   "codemirror_mode": {
    "name": "ipython",
    "version": 3
   },
   "file_extension": ".py",
   "mimetype": "text/x-python",
   "name": "python",
   "nbconvert_exporter": "python",
   "pygments_lexer": "ipython3",
   "version": "3.8.8"
  }
 },
 "nbformat": 4,
 "nbformat_minor": 5
}
