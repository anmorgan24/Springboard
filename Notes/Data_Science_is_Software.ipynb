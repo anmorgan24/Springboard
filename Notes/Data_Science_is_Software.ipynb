{
 "cells": [
  {
   "cell_type": "markdown",
   "id": "680997e4",
   "metadata": {},
   "source": [
    "# Data Science is Software\n",
    "From: SciPy Con 2016\n",
    "\n",
    "**Instructors:** Peter Bull and Isaac Slavitt, co-founders of DrivenData\n",
    "\n",
    "This tutorial provides vital developer lifehacks for the working Jupyter data scientist. You’ll learn the basics of writing good software, which will prepare you to be a valuable contributor to your company’s wider engineering organization. You’ll learn the following topics:\n",
    "   * How to effectively structure your project, using the `cookiecutter-datascience` package\n",
    "   * How to **set up a virtual environment**, allowing you to abstract the current project you’re working from your other projects\n",
    "   * How to use a Linux tool called **“make” to create automating parts of your project easier**\n",
    "   * How to **better write your code, so it’s reproducible**, meaning you can come back to a project six months later and easily figure out all the things you’ve done\n",
    "   * How to **modularize your code into packages** so you don’t end up writing the same things repeatedly\n"
   ]
  },
  {
   "cell_type": "code",
   "execution_count": 2,
   "id": "e172682a",
   "metadata": {},
   "outputs": [],
   "source": [
    "from tqdm import tqdm\n",
    "from time import sleep"
   ]
  },
  {
   "cell_type": "markdown",
   "id": "d9e8d820",
   "metadata": {},
   "source": [
    "* If we wrap whatever we're iterating over in `tqdm()`, then we get a progress bar automatically printed out whenever that for loop is running (also works in jupyter):"
   ]
  },
  {
   "cell_type": "code",
   "execution_count": 3,
   "id": "d9143630",
   "metadata": {},
   "outputs": [
    {
     "name": "stderr",
     "output_type": "stream",
     "text": [
      "100%|██████████| 1000/1000 [00:11<00:00, 85.70it/s]\n"
     ]
    }
   ],
   "source": [
    "for i in tqdm(range(1000)):\n",
    "    sleep(0.01)"
   ]
  },
  {
   "cell_type": "markdown",
   "id": "a39b49bb",
   "metadata": {},
   "source": [
    "#### AGENDA\n",
    "* project structure\n",
    "* environments and reproducibility\n",
    "* coding for reusability\n",
    "* testing\n",
    "* collaboration\n",
    "\n",
    "#### Intro\n",
    "* **DrivenData** runs machine learning competitions for non-profits, NGOs and government (social-impact organizations)\n",
    "* \"There's a little bit of overhead to some of these best practices, but the investment is definitely going to be worth it.\"\n",
    "* [Cookiecutter Data Science](https://drivendata.github.io/cookiecutter-data-science/)"
   ]
  },
  {
   "cell_type": "markdown",
   "id": "8574e1be",
   "metadata": {},
   "source": [
    "## Folders:\n",
    "\n",
    "<img src='data/ds_software1.png' width=\"600\" height=\"300\" align=\"center\"/>\n",
    "\n",
    "### Data:\n",
    "\n",
    "   #### Raw\n",
    "   * Untouched, original data\n",
    "   * Example: data straight from client or database\n",
    "\n",
    "   #### External \n",
    "   * Data that comes from other places\n",
    "   * Example: U.S. Census Data\n",
    "\n",
    "   #### Interim\n",
    "   * Example: If we're generating data that we might not be using for the final analysis, but may be used by other pieces of the analysis\n",
    "\n",
    "   #### Processed\n",
    "   * Processed data used for final model\n",
    "   \n",
    "<img src='data/ds_software2.png' width=\"600\" height=\"300\" align=\"center\"/>\n",
    "\n",
    "***\n",
    "***\n",
    "#### References\n",
    "* Data dictionaries\n",
    "* manuals\n",
    "* any explanatory materials\n",
    "\n",
    "#### Requirements.txt\n",
    "* where we have codified all the dependencies that our code needs to be able to run \n",
    "\n",
    "#### src\n",
    "* **Source directory**\n",
    "* If we're writing code or refactoring code from our notebooks, this is where that would live"
   ]
  },
  {
   "cell_type": "markdown",
   "id": "942cea45",
   "metadata": {},
   "source": [
    "* \"Master notebook pattern\" is fine for some projects\n",
    "\n",
    "<img src='data/ds_software3.png' width=\"600\" height=\"300\" align=\"center\"/>\n",
    "\n",
    "<img src='data/ds_software4.png' width=\"600\" height=\"300\" align=\"center\"/>\n",
    "\n",
    "<img src='data/ds_software5.png' width=\"600\" height=\"300\" align=\"center\"/>\n",
    "\n",
    "* Now we have made this data process into a directed, acyclic graph\n",
    "* packages that have given us ways to declare what tasks are and make sure that they get run in a very specific order\n",
    "    * \"make\"\n",
    "    * AirFlow\n",
    "    * Luigi\n",
    "    * joblib\n",
    "    * snakemake\n",
    "\n",
    "<img src='data/ds_software6.png' width=\"600\" height=\"300\" align=\"center\"/>\n",
    "\n",
    "* Let notebooks be what notebooks are good at, which is: exploration, experimentation, writing & sharing ideas\n",
    "* Notebooks are not good at doing thing the same way everytime"
   ]
  },
  {
   "cell_type": "markdown",
   "id": "3b19a37f",
   "metadata": {},
   "source": [
    "#### MREs (Minimal Reproducible Environment)\n",
    "* Giving someone who's using your project, or even yourself in the future, the absolute minimum they (or you) need to reproduce this (code).\n",
    "* You don't want to include every package in the whole world in every project that you have; that's going to be a huge headache for anyone that's installing things\n",
    "    * Say you have a project with complicated dependencies that you have to compile, if you don't have to include that because it's not used in your project (?), then that shouldn't be a part of your dependencies for the project that you're working on\n",
    "    \n",
    "<img src='data/ds_software7.png' width=\"600\" height=\"300\" align=\"center\"/>"
   ]
  },
  {
   "cell_type": "markdown",
   "id": "83f1027d",
   "metadata": {},
   "source": [
    "#### Tools that help you to manage a reproducible environment\n",
    "* **watermark**\n",
    "* **wonda env**\n",
    "* **wotenv**\n",
    "* **pip requirements.txt**\n",
    "\n",
    "#### Options for more complex environments\n",
    "* **docker**\n",
    "* **vagrant**\n",
    "\n",
    "#### Watermark extension\n",
    "* \"bare minimum\" way to help people reproduce your environment\n",
    "\n",
    "* Highly recommended: name your environment the same as your project root\n",
    "\n",
    "* `conda env list`\n",
    "* lists environments with star for current environment\n",
    "* `cmd + k` for mac is `cls` of Windows\n",
    "\n",
    "* The next thing to think about: What is that minimum reproducible environment for someone else that's using this project?\n",
    "* You want an explicit declaration of what all the packages are that my project will need\n",
    "\n",
    "* In Python projects, there's a convention that lives in a file called `requirements.txt`\n",
    "    * explicitly list a package name and optionally a version number with >=, ==, <=\n",
    "* Never use `pip install` and then a package name\n",
    "    * **Always** put the package name into a txt and then do `pip install -r requirements.txt`\n",
    "    * This way you can always keep track of what packages you've installed in a particular environment\n",
    "    * `pip freeze` will dump out everything that is currently in your environment\n",
    "    * You can pipe `pip freeze` into a file \n",
    "        * `pip freeze > new-requirements.txt`\n",
    "        * Only downside: will pin all requirements to exact versions (`==`)\n",
    "        * This does not work with `conda install stuff`"
   ]
  },
  {
   "cell_type": "markdown",
   "id": "3e49da12",
   "metadata": {},
   "source": [
    "\n"
   ]
  },
  {
   "cell_type": "code",
   "execution_count": null,
   "id": "6578784e",
   "metadata": {},
   "outputs": [],
   "source": []
  },
  {
   "cell_type": "code",
   "execution_count": null,
   "id": "2aaa3290",
   "metadata": {},
   "outputs": [],
   "source": []
  },
  {
   "cell_type": "markdown",
   "id": "e2d0165d",
   "metadata": {},
   "source": [
    "<img src='data/efficient26.png' width=\"600\" height=\"300\" align=\"center\"/>"
   ]
  }
 ],
 "metadata": {
  "kernelspec": {
   "display_name": "Python 3",
   "language": "python",
   "name": "python3"
  },
  "language_info": {
   "codemirror_mode": {
    "name": "ipython",
    "version": 3
   },
   "file_extension": ".py",
   "mimetype": "text/x-python",
   "name": "python",
   "nbconvert_exporter": "python",
   "pygments_lexer": "ipython3",
   "version": "3.8.8"
  }
 },
 "nbformat": 4,
 "nbformat_minor": 5
}
