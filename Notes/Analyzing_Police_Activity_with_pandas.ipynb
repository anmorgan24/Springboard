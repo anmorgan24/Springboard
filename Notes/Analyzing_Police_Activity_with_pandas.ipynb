{
 "cells": [
  {
   "cell_type": "markdown",
   "id": "c328126f",
   "metadata": {},
   "source": [
    "# Analyzing Police Activity with pandas"
   ]
  },
  {
   "cell_type": "markdown",
   "id": "a647376f",
   "metadata": {},
   "source": [
    "Exercise created by Kevin Markham, founder of Data School\n",
    "Download full dataset for any of the 31 states involved at: [https://openpolicing.stanford.edu/](https://openpolicing.stanford.edu/)\n",
    "\n",
    "**Goals:**\n",
    "* Explore the Stanford Open Policing Project dataset and analyze the impact of gender on police behavior. \n",
    "* Gain more practice cleaning messy data, creating visualizations, combining and reshaping datasets, and manipulating time series data.\n",
    "\n",
    "**About the data:**\n",
    "\n",
    "* Each row represents one traffic stop\n",
    "* `NaN` values present"
   ]
  },
  {
   "cell_type": "markdown",
   "id": "9eb7696b",
   "metadata": {},
   "source": [
    "* **`.isnull()`** : returns a boolean array; see also **`.isna()`**\n",
    "* **`.drop()`** : `ri.drop('column_name', axis = 'columns', inplace = True)`\n",
    "* **`.dropna()`** : `ri.dropna(subset=['stop_date', 'stop_time'], inplace = True)` # Only drops rows with`NaN`s specifically in the columns `stop_date` and `stop_time`\n",
    "* **`.astype()`** : to change data type\n",
    "\n",
    "* **Note:** you must use **bracket notation** on the left side of an assignment statement to create a new series or overwrite an existing one\n",
    "\n",
    "* `datetime` columns provide date-based attributes\n",
    "* **`.str.cat()`** concatenate strings (as opposed to `pd.concat()` for pd.Series); use argument `sep=' '` to separate with a space (or character of your choice)\n",
    "* **`pd.to_datetime()`** : convert a string to a datetime object; if no time is entered, defaults to midnight\n",
    "* **`.set_index()`** to set a column as the index; use `inplace = True` to avoid assignment statement\n",
    "* **Note:** When an existing column becomes the index, it is no longer considered to be one of the dataframe columns.\n",
    "* **`value_counts()`** : counts the unique values in a Series; best suited for categorical rather than numerical data; use **`normalize = True`** to express counts as proportions\n",
    "\n",
    "#### Filtering on a single condition\n",
    "`female = ri[ri.driver_gender == 'F']`\n",
    "\n",
    "\n",
    "#### Filtering on multiple conditions\n",
    "`female_and_arrested = ri[(ri.driver_gender == 'F') & (ri.is_arrested == True)]`\n",
    "* Each condition contained in parethesis\n",
    "* ampersand in between conditions (or = | )\n",
    "\n",
    "#### Other rules for filtering on multiple conditions\n",
    "* Can use more than two conditions\n",
    "* Conditions can also check for equality, inequality, greater than, less than, etc\n"
   ]
  },
  {
   "cell_type": "markdown",
   "id": "344742db",
   "metadata": {},
   "source": [
    "```\n",
    "# Create a DataFrame of female drivers stopped for speeding\n",
    "female_and_speeding = ri[(ri.driver_gender =='F') & (ri.violation == 'Speeding')]\n",
    "\n",
    "# Create a DataFrame of male drivers stopped for speeding\n",
    "male_and_speeding = ri[(ri.driver_gender =='M') & (ri.violation == 'Speeding')]\n",
    "\n",
    "# Compute the stop outcomes for female drivers (as proportions)\n",
    "print(female_and_speeding.stop_outcome.value_counts(normalize=True))\n",
    "\n",
    "# Compute the stop outcomes for male drivers (as proportions)\n",
    "print(male_and_speeding.stop_outcome.value_counts(normalize=True))\n",
    "```\n",
    "\n",
    "#### Math with boolean values\n",
    "* **`np.mean([0, 1, 0, 0])` = `np.mean([False, True, False, False])`**\n",
    "* True = 1; False = 2\n",
    "* **The mean of a boolean series represents the percentage of true values**\n",
    "* `ri.is_arrested.mean()` works because `ri.is_arrested` is type `bool`"
   ]
  },
  {
   "cell_type": "markdown",
   "id": "687efae3",
   "metadata": {},
   "source": [
    "#### Comparing groups using groupby\n",
    "* `ri.groupby('district').is_arrested.mean()`\n",
    "\n",
    "#### Grouping by multiple categories \n",
    "* `ri.groupby(['district', 'driver_gender']).is_arrested.mean()`\n",
    "    * Note that if you switch ordering of 'district' and 'driver_gender', the results will end up being the same, but the presentation will be different"
   ]
  },
  {
   "cell_type": "code",
   "execution_count": null,
   "id": "80bdc843",
   "metadata": {},
   "outputs": [],
   "source": []
  },
  {
   "cell_type": "code",
   "execution_count": null,
   "id": "deafa4ee",
   "metadata": {},
   "outputs": [],
   "source": []
  },
  {
   "cell_type": "code",
   "execution_count": null,
   "id": "7414a26c",
   "metadata": {},
   "outputs": [],
   "source": []
  },
  {
   "cell_type": "code",
   "execution_count": null,
   "id": "b86fddb3",
   "metadata": {},
   "outputs": [],
   "source": []
  }
 ],
 "metadata": {
  "kernelspec": {
   "display_name": "Python 3",
   "language": "python",
   "name": "python3"
  },
  "language_info": {
   "codemirror_mode": {
    "name": "ipython",
    "version": 3
   },
   "file_extension": ".py",
   "mimetype": "text/x-python",
   "name": "python",
   "nbconvert_exporter": "python",
   "pygments_lexer": "ipython3",
   "version": "3.8.8"
  }
 },
 "nbformat": 4,
 "nbformat_minor": 5
}
