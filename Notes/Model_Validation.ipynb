{
 "cells": [
  {
   "cell_type": "markdown",
   "id": "6029ad96",
   "metadata": {},
   "source": [
    "# Model Validation in Python"
   ]
  },
  {
   "cell_type": "markdown",
   "id": "485fcc91",
   "metadata": {},
   "source": [
    "* **Model Validation** consists of various steps and processes that ensure your model performs as expected on new data. The most common way to do this is to test your model's accuracy (or, insert evaluation metric of your choice) on data it has never seen before (called a **holdout set**). If your model's accuracy is similar for the data it was trained on and the holdout data. You can claim that your model is validated. The ultimate goal of model validation is to end up with the best performing model possible that achieves high accuracy on new data. \n",
    "\n",
    "#### Model validation consists of:\n",
    "    * Ensuring your model performs as expected on new data\n",
    "    * Testing model performance on holdout datasets\n",
    "    * Selecting the best model, parameters, and accuracy metrics\n",
    "    * Achieving the best accuracy for the data given\n",
    "    \n",
    "### Scikit-learn modeling review\n",
    "#### Basic modeling steps\n",
    "* 1. Create a model by specifying model type and its parameters\n",
    "* 2. Fit the model using the `.fit()` method\n",
    "* 3. To assess model accuracy, we generate predictions for data using the `.predict()` method. \n",
    "* 4. Look at accuracy metrics.\n",
    "\n",
    "* **The process of generating a model, fitting, predicting, and then reviewing model accuracy was introduced earlier in:**\n",
    "    * Intermediate Python\n",
    "    * Supervised Learning with scikit-learn\n",
    "\n",
    "```\n",
    "model = RandomForestRegressor(n_estimators=500, random_state=1111)\n",
    "model.fit(X= X_train, y= y_train)\n",
    "predictions = model.predict(X_test)\n",
    "print(\"{0:.2f}\".format(mae(y_true = y_test, y_pred= predictions)))\n",
    "```\n",
    "* **Model validation's main goal is to ensure that a predictive model will perform as expected on new data.**\n",
    "* Training data = seen data\n",
    "\n",
    "```\n",
    "model = RandomForestRegressor(n_estimators=500, random_state=1111)\n",
    "model.fit(X_train, y_train)\n",
    "train_predictions = model.predict(X_train)\n",
    "```\n",
    "\n",
    "* Testing data = unseen data\n",
    "\n",
    "```\n",
    "model = RandomForestRegressor(n_estimators = 500, random_state=1111)\n",
    "model.fit(X_train, y_train)\n",
    "test_predictions = model.predict(X_test)\n",
    "```\n",
    "\n",
    "* If your training and testing errors are vastly different, it may be a sign that your model is overfitted\n",
    "* Use model validation to make sure you get the best testing error possible"
   ]
  },
  {
   "cell_type": "code",
   "execution_count": null,
   "id": "6e143893",
   "metadata": {},
   "outputs": [],
   "source": []
  },
  {
   "cell_type": "code",
   "execution_count": null,
   "id": "436c8530",
   "metadata": {},
   "outputs": [],
   "source": []
  },
  {
   "cell_type": "code",
   "execution_count": null,
   "id": "f0191950",
   "metadata": {},
   "outputs": [],
   "source": []
  },
  {
   "cell_type": "code",
   "execution_count": null,
   "id": "2a165cbc",
   "metadata": {},
   "outputs": [],
   "source": []
  }
 ],
 "metadata": {
  "kernelspec": {
   "display_name": "Python 3",
   "language": "python",
   "name": "python3"
  },
  "language_info": {
   "codemirror_mode": {
    "name": "ipython",
    "version": 3
   },
   "file_extension": ".py",
   "mimetype": "text/x-python",
   "name": "python",
   "nbconvert_exporter": "python",
   "pygments_lexer": "ipython3",
   "version": "3.8.8"
  }
 },
 "nbformat": 4,
 "nbformat_minor": 5
}
