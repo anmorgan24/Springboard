{
 "cells": [
  {
   "cell_type": "markdown",
   "id": "ba825af9",
   "metadata": {},
   "source": [
    "# ARIMA models in Python"
   ]
  },
  {
   "cell_type": "markdown",
   "id": "ecce422f",
   "metadata": {},
   "source": [
    "Course Description: Have you ever tried to predict the future? What lies ahead is a mystery which is usually only solved by waiting. In this course, you will stop waiting and learn to use the powerful ARIMA class models to forecast the future. You will learn how to use the statsmodels package to analyze time series, to build tailored models, and to forecast under uncertainty. How will the stock market move in the next 24 hours? How will the levels of CO2 change in the next decade? How many earthquakes will there be next year? You will learn to solve all these problems and more."
   ]
  },
  {
   "cell_type": "markdown",
   "id": "7f7da85f",
   "metadata": {},
   "source": [
    "## ARMA models\n",
    "* Time series are everywhere:\n",
    "    * Science\n",
    "    * Technology\n",
    "    * Business\n",
    "    * Finance\n",
    "    * Policy\n",
    "* ARIMA models are one of the go-to time-series tools\n",
    "* **Trend:** a positive trend is a line that generally slopes up; a negative trend is a line that generally slopes down\n",
    "* **Seasonality:** has patterns that repeat at regular intervals, for example high sales every weekend\n",
    "* **Cyclicality:** in contrast to seasonality, has a repeating pattern but no fixed periods/time intervals.\n",
    "* **White noise:** has uncorrelated values\n",
    "\n",
    "#### Stationarity\n",
    "* To model a time series, it must be stationary\n",
    "* **Stationary:** Means that the distribution of the data doesn't change with time. For time series to be stationary, it must fulfill three criteria:\n",
    "    * **Trend stationary:** series has zero trend\n",
    "    * **Variance is constant:** the avererage distance of the data points from the zero line isn't changing\n",
    "    * **Autocorrelation is constant:** how each value in the time series is related to its neighbors stays the same.\n",
    "* For train-test split, the data must be split in time (not shuffled or reordered)\n",
    "* We train on the data earlier in the time series and test on the data that comes later\n",
    "\n",
    "\n",
    "#### Making time series stationary:\n",
    "#### Augmented Dickey-Fuller Test:\n",
    "* tests for trend non-stationarity\n",
    "* Null hypothesis is time series is non-stationary due to trend\n",
    "\n",
    "```\n",
    "from statsmodels.tsa.stattools import adfuller\n",
    "results = adfuller(df['close'])\n",
    "```\n",
    "* 0th element: test statistic\n",
    "    * More negative means more likely to be stationary\n",
    "* 1st element: p-value\n",
    "    * If p-value is small (smaller than 0.05) $\\Rightarrow$ reject null hypothesis (reject non-stationarity)\n",
    "* 4th element: dictionary of critical values of the test statistic\n",
    "    \n",
    "* **Plotting time series can stop you from making incorrect assumptions and ends up saving you time!\n",
    "\n",
    "* Remember: the Dickey Fuller test only tests for stationarity.\n",
    "\n",
    "* Making a time series stationary $\\Rightarrow$ A bit like feature engineering in classic ML.\n",
    "\n",
    "* One very common way to make a time series stationary is to **take first differences.**\n",
    "* For some time series, **we may need to take the difference more than once.**\n",
    "* **Sometimes, we will need to perform other transformations to make the time series stationary.**\n",
    "\n",
    "#### Other transformations\n",
    "* **Take the log:** `np.log(df)`\n",
    "* **Take the square root:** `np.sqrt(df)`\n",
    "* **Take the proportional change:** `df.shift(1)/df`\n",
    "\n",
    "\n"
   ]
  },
  {
   "cell_type": "code",
   "execution_count": null,
   "id": "9f621aac",
   "metadata": {},
   "outputs": [],
   "source": []
  },
  {
   "cell_type": "code",
   "execution_count": null,
   "id": "439dac80",
   "metadata": {},
   "outputs": [],
   "source": []
  },
  {
   "cell_type": "code",
   "execution_count": null,
   "id": "e6c1d030",
   "metadata": {},
   "outputs": [],
   "source": []
  },
  {
   "cell_type": "code",
   "execution_count": null,
   "id": "3aa62794",
   "metadata": {},
   "outputs": [],
   "source": []
  },
  {
   "cell_type": "code",
   "execution_count": null,
   "id": "95b26b02",
   "metadata": {},
   "outputs": [],
   "source": []
  },
  {
   "cell_type": "code",
   "execution_count": null,
   "id": "a049c1f9",
   "metadata": {},
   "outputs": [],
   "source": []
  },
  {
   "cell_type": "code",
   "execution_count": null,
   "id": "df60da07",
   "metadata": {},
   "outputs": [],
   "source": []
  },
  {
   "cell_type": "code",
   "execution_count": null,
   "id": "a8ef1b04",
   "metadata": {},
   "outputs": [],
   "source": []
  },
  {
   "cell_type": "code",
   "execution_count": null,
   "id": "91e7bd9c",
   "metadata": {},
   "outputs": [],
   "source": []
  },
  {
   "cell_type": "code",
   "execution_count": null,
   "id": "40131e81",
   "metadata": {},
   "outputs": [],
   "source": []
  },
  {
   "cell_type": "code",
   "execution_count": null,
   "id": "0ff15a1c",
   "metadata": {},
   "outputs": [],
   "source": []
  },
  {
   "cell_type": "code",
   "execution_count": null,
   "id": "ebe37701",
   "metadata": {},
   "outputs": [],
   "source": []
  },
  {
   "cell_type": "code",
   "execution_count": null,
   "id": "f059df40",
   "metadata": {},
   "outputs": [],
   "source": []
  },
  {
   "cell_type": "code",
   "execution_count": null,
   "id": "0ebee1fd",
   "metadata": {},
   "outputs": [],
   "source": []
  }
 ],
 "metadata": {
  "kernelspec": {
   "display_name": "Python 3",
   "language": "python",
   "name": "python3"
  },
  "language_info": {
   "codemirror_mode": {
    "name": "ipython",
    "version": 3
   },
   "file_extension": ".py",
   "mimetype": "text/x-python",
   "name": "python",
   "nbconvert_exporter": "python",
   "pygments_lexer": "ipython3",
   "version": "3.8.8"
  }
 },
 "nbformat": 4,
 "nbformat_minor": 5
}
