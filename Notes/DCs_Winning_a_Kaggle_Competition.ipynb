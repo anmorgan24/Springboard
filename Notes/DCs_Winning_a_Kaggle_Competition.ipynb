{
 "cells": [
  {
   "cell_type": "markdown",
   "id": "e959d9f0",
   "metadata": {},
   "source": [
    "Note: This notebook was completed as part of DataCamp's \"Winning a Kaggle Competition in Python\" course with Yauhen Babakhin\n",
    "# DataCamp's Winning a Kaggle Competition in Python\n",
    "Kaggle is the most famous platform for Data Science competitions. Taking part in such competitions allows you to work with real-world datasets, explore various machine learning problems, compete with other participants and, finally, get invaluable hands-on experience. In this course, you will learn how to approach and structure any Data Science competition. You will be able to select the correct local validation scheme and to avoid overfitting. Moreover, you will master advanced feature engineering together with model ensembling approaches. All these techniques will be practiced on Kaggle competitions datasets.\n",
    "\n",
    "**Intstructor:** Yauhen Babkhin, Kaggle Grandmaster"
   ]
  },
  {
   "cell_type": "markdown",
   "id": "ff72a337",
   "metadata": {},
   "source": [
    "## $\\star$ Chapter 1: Kaggle competitions process\n",
    "In this first chapter, you will get exposure to the Kaggle competition process. You will train a model and prepare a csv file ready for submission. You will learn the difference between Public and Private test splits, and how to prevent overfitting.\n",
    "\n",
    "#### Competition process\n",
    "\n",
    "<img src='data/kaggle_comp_process.png' width=\"600\" height=\"300\" align=\"center\"/>\n",
    "\n",
    "Data: **New York City Taxi Fare Prediction**, a past Kaggle playground competition containing the pickup and dopoff locations of taxis."
   ]
  },
  {
   "cell_type": "code",
   "execution_count": 1,
   "id": "f6fcc703",
   "metadata": {},
   "outputs": [],
   "source": [
    "import pandas as pd"
   ]
  },
  {
   "cell_type": "code",
   "execution_count": null,
   "id": "12d584d3",
   "metadata": {},
   "outputs": [],
   "source": []
  },
  {
   "cell_type": "code",
   "execution_count": null,
   "id": "10d0a3f9",
   "metadata": {},
   "outputs": [],
   "source": []
  },
  {
   "cell_type": "code",
   "execution_count": null,
   "id": "3c4487c5",
   "metadata": {},
   "outputs": [],
   "source": []
  },
  {
   "cell_type": "code",
   "execution_count": null,
   "id": "b00d51af",
   "metadata": {},
   "outputs": [],
   "source": []
  },
  {
   "cell_type": "code",
   "execution_count": null,
   "id": "ef9ade0b",
   "metadata": {},
   "outputs": [],
   "source": []
  },
  {
   "cell_type": "code",
   "execution_count": null,
   "id": "b28c73b4",
   "metadata": {},
   "outputs": [],
   "source": []
  },
  {
   "cell_type": "code",
   "execution_count": null,
   "id": "9e50382c",
   "metadata": {},
   "outputs": [],
   "source": []
  },
  {
   "cell_type": "code",
   "execution_count": null,
   "id": "9134db42",
   "metadata": {},
   "outputs": [],
   "source": []
  }
 ],
 "metadata": {
  "kernelspec": {
   "display_name": "Python 3",
   "language": "python",
   "name": "python3"
  },
  "language_info": {
   "codemirror_mode": {
    "name": "ipython",
    "version": 3
   },
   "file_extension": ".py",
   "mimetype": "text/x-python",
   "name": "python",
   "nbconvert_exporter": "python",
   "pygments_lexer": "ipython3",
   "version": "3.8.8"
  }
 },
 "nbformat": 4,
 "nbformat_minor": 5
}
