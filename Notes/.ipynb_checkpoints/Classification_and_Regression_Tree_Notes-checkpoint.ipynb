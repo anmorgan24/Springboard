{
 "cells": [
  {
   "cell_type": "markdown",
   "id": "89e0247e",
   "metadata": {},
   "source": [
    "# Classification and Regression Trees"
   ]
  },
  {
   "cell_type": "markdown",
   "id": "682809ec",
   "metadata": {},
   "source": [
    "* Decision trees are supervised learning models used for problems involving classification and regression. \n",
    "* Tree models present a high flexibility that comes at a price: on one hand, trees are able to capture complex non-linear relationships; on the other hand, they are prone to memorizing the noise present in a dataset. \n",
    "* By aggregating the predictions of trees that are trained differently, ensemble methods take advantage of the flexibility of trees while reducing their tendency to memorize noise. \n",
    "* Ensemble methods are used across a variety of fields and have a proven track record of winning many machine learning competitions. \n",
    "\n",
    "\n",
    "* **Classification and Regression Trees (CART)** are a set of supervised learning models used for problems involving classification and regression.\n",
    "* Given a labeled dataset, classification tree learns a sequence of if-else questions about individual features in order to infer the labels \n",
    "    * **Objective: infer class labels**\n",
    "* Able to capture non-linear relationships between features and labels\n",
    "* Don't require feature scaling (ex: Standardization, etc..)\n",
    "* When a classification tree is trained, the tree learns a sequence of if-else questions, with each question involving one feature and one split point.\n",
    "* The maximum number of branches separating the top from an extreme end is known as the `maximum depth`. For example, a max_depth of 2 means 2 levels of branches (and 3 levels of if-else statements).\n",
    "\n",
    "```\n",
    "from sklearn.tree import DecisionTreeClassifier\n",
    "from sklearn.model_selection import train_test_split\n",
    "from sklearn.metrics import accuracy_score\n",
    "X_train, X_test, y_train, y_test = train_test_split(X, y, test_size=0.2, stratify=y, random_state=1)\n",
    "dt = DecisionTreeClassifier(max_depth=2, random_state=1)\n",
    "dt.fit(X_train, y_train)\n",
    "y_pred = dt.predict(X_test)\n",
    "accuracy_score(X_test, y_pred)\n",
    "```\n",
    "* `stratify= y` means train and test sets to have the same proportion of class labels as the unsplit dataset.\n",
    "\n",
    "\n",
    "* **Decision Regions:** A classification model divides the feature space into regions where all instances in one region are assigned to only one class label. These regions are known as **decision regions**.\n",
    "* **Decision Boundary:** surface (line, plane, hyperplane) separating different decision regions. \n",
    "* A classification tree produces rectangular decision regions in the feature space."
   ]
  },
  {
   "cell_type": "code",
   "execution_count": null,
   "id": "ae58e94b",
   "metadata": {},
   "outputs": [],
   "source": []
  },
  {
   "cell_type": "code",
   "execution_count": null,
   "id": "0b9b7861",
   "metadata": {},
   "outputs": [],
   "source": []
  },
  {
   "cell_type": "code",
   "execution_count": null,
   "id": "f8871c85",
   "metadata": {},
   "outputs": [],
   "source": []
  },
  {
   "cell_type": "code",
   "execution_count": null,
   "id": "62947d6b",
   "metadata": {},
   "outputs": [],
   "source": []
  }
 ],
 "metadata": {
  "kernelspec": {
   "display_name": "Python 3",
   "language": "python",
   "name": "python3"
  },
  "language_info": {
   "codemirror_mode": {
    "name": "ipython",
    "version": 3
   },
   "file_extension": ".py",
   "mimetype": "text/x-python",
   "name": "python",
   "nbconvert_exporter": "python",
   "pygments_lexer": "ipython3",
   "version": "3.8.8"
  }
 },
 "nbformat": 4,
 "nbformat_minor": 5
}
