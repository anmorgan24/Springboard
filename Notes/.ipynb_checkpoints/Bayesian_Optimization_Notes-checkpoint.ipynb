{
 "cells": [
  {
   "cell_type": "markdown",
   "id": "d2a432dc",
   "metadata": {},
   "source": [
    "# Bayesian Optimization"
   ]
  },
  {
   "cell_type": "markdown",
   "id": "30f8f233",
   "metadata": {},
   "source": [
    "#### Bayesian Hyperparameter Optimization\n",
    "* Why auto-tuning matters:\n",
    "    * Humans are really bad at it\n",
    "    * Properly set parameters outperform the most complex, state-of-the-art models\n",
    "* Tuning tips:\n",
    "    * Keep an open-mind (explore the full space from the beginning)\n",
    "        * Don't prejudge hyperparameter possibilities\n",
    "    * Don't do grid search as your hyperparameter search method\n",
    "        * In practice you'll have many hyperparameters, some of them will matter, and some of them will end up being mostly irrelevant\n",
    "    * Try and eliminate irrelevant hyperparameters where possible\n",
    "        * The more parameters you have, the harder it is to tune\n",
    "    * To see a clear pattern it can take way longer than you expect\n",
    "        * If you want to have really good tuning, be prepared to spend a lot of time on it\n",
    "        \n",
    "**Bayesian parameter estimation for automatically tuning hyperparameters:**\n",
    "* Neural nets have certain hyperparameters which aren't part of the training procedure\n",
    "* You can evaluate them using a validation set, but there's still the problem of which values to try:\n",
    "    * Brute force search (e.g. grid search, random search) is very expensive and time-consuming\n",
    "* Hyperparameter tuning is a kind of black box optimization: you want to minimize a function, but you only get to query values, not compute gradients\n",
    "* Each evaluation is expensive, so we want to use few evaluations\n",
    "* You want to query a point which:\n",
    "    * you expect to be good\n",
    "    * you are uncertain about\n",
    "* $\\Rightarrow$ **Bayesian regression allows us to predict not just a value, but a distribution.** $\\Leftarrow$\n",
    "\n",
    "**Bayesian Linear Regression**\n",
    "* We're interested in the uncertainty\n",
    "* Bayesian Linear Regression considers various plausible explanations for how the data were generated \n",
    "* It makes predictions using all possible regression weights, weighted by their posterior probability\n",
    "* We can turn this into non-linear regression using basis functions (e.g. Gaussian basis functions)"
   ]
  },
  {
   "cell_type": "code",
   "execution_count": null,
   "id": "4e131c99",
   "metadata": {},
   "outputs": [],
   "source": []
  },
  {
   "cell_type": "code",
   "execution_count": null,
   "id": "67b89b6f",
   "metadata": {},
   "outputs": [],
   "source": []
  },
  {
   "cell_type": "code",
   "execution_count": null,
   "id": "2aac3ebb",
   "metadata": {},
   "outputs": [],
   "source": []
  },
  {
   "cell_type": "code",
   "execution_count": null,
   "id": "f48c9476",
   "metadata": {},
   "outputs": [],
   "source": []
  },
  {
   "cell_type": "code",
   "execution_count": null,
   "id": "27e3bbc0",
   "metadata": {},
   "outputs": [],
   "source": []
  },
  {
   "cell_type": "code",
   "execution_count": null,
   "id": "c35d4462",
   "metadata": {},
   "outputs": [],
   "source": []
  },
  {
   "cell_type": "code",
   "execution_count": null,
   "id": "9c9de71f",
   "metadata": {},
   "outputs": [],
   "source": []
  },
  {
   "cell_type": "code",
   "execution_count": null,
   "id": "b3c5f473",
   "metadata": {},
   "outputs": [],
   "source": []
  }
 ],
 "metadata": {
  "kernelspec": {
   "display_name": "Python 3",
   "language": "python",
   "name": "python3"
  },
  "language_info": {
   "codemirror_mode": {
    "name": "ipython",
    "version": 3
   },
   "file_extension": ".py",
   "mimetype": "text/x-python",
   "name": "python",
   "nbconvert_exporter": "python",
   "pygments_lexer": "ipython3",
   "version": "3.8.8"
  }
 },
 "nbformat": 4,
 "nbformat_minor": 5
}
