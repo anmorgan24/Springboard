{
 "cells": [
  {
   "cell_type": "markdown",
   "id": "2c6e8b20",
   "metadata": {},
   "source": [
    "# Data Science is Software\n",
    "From: SciPy Con 2016\n",
    "\n",
    "This tutorial provides vital developer lifehacks for the working Jupyter data scientist. You’ll learn the basics of writing good software, which will prepare you to be a valuable contributor to your company’s wider engineering organization. You’ll learn the following topics:\n",
    "   * How to effectively structure your project, using the `cookiecutter-datascience` package\n",
    "   * How to **set up a virtual environment**, allowing you to abstract the current project you’re working from your other projects\n",
    "   * How to use a Linux tool called **“make” to create automating parts of your project easier**\n",
    "   * How to **better write your code, so it’s reproducible**, meaning you can come back to a project six months later and easily figure out all the things you’ve done\n",
    "   * How to **modularize your code into packages** so you don’t end up writing the same things repeatedly\n"
   ]
  },
  {
   "cell_type": "markdown",
   "id": "459cea7a",
   "metadata": {},
   "source": []
  },
  {
   "cell_type": "markdown",
   "id": "c1534259",
   "metadata": {},
   "source": []
  },
  {
   "cell_type": "markdown",
   "id": "a0bea5d0",
   "metadata": {},
   "source": []
  },
  {
   "cell_type": "markdown",
   "id": "1b74facc",
   "metadata": {},
   "source": []
  },
  {
   "cell_type": "markdown",
   "id": "175620b9",
   "metadata": {},
   "source": []
  },
  {
   "cell_type": "markdown",
   "id": "2d423305",
   "metadata": {},
   "source": []
  },
  {
   "cell_type": "markdown",
   "id": "9ccf3c27",
   "metadata": {},
   "source": []
  },
  {
   "cell_type": "markdown",
   "id": "0de55450",
   "metadata": {},
   "source": []
  },
  {
   "cell_type": "markdown",
   "id": "7496a547",
   "metadata": {},
   "source": []
  },
  {
   "cell_type": "code",
   "execution_count": null,
   "id": "fa7cb0ce",
   "metadata": {},
   "outputs": [],
   "source": []
  },
  {
   "cell_type": "code",
   "execution_count": null,
   "id": "073de09b",
   "metadata": {},
   "outputs": [],
   "source": []
  },
  {
   "cell_type": "markdown",
   "id": "ad4df849",
   "metadata": {},
   "source": [
    "<img src='data/efficient26.png' width=\"600\" height=\"300\" align=\"center\"/>"
   ]
  }
 ],
 "metadata": {
  "kernelspec": {
   "display_name": "Python 3",
   "language": "python",
   "name": "python3"
  },
  "language_info": {
   "codemirror_mode": {
    "name": "ipython",
    "version": 3
   },
   "file_extension": ".py",
   "mimetype": "text/x-python",
   "name": "python",
   "nbconvert_exporter": "python",
   "pygments_lexer": "ipython3",
   "version": "3.8.8"
  }
 },
 "nbformat": 4,
 "nbformat_minor": 5
}
