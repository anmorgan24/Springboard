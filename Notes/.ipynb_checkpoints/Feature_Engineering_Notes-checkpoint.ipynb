{
 "cells": [
  {
   "cell_type": "markdown",
   "id": "d03c4017",
   "metadata": {},
   "source": [
    "# Feature Engineering"
   ]
  },
  {
   "cell_type": "markdown",
   "id": "4368db22",
   "metadata": {},
   "source": [
    "#### Categorical, Text, and Image Features\n",
    "* Data scientists regularly work with categorical, text, and image data. However, to execute machine learning algorithms on these data types, it's necessary to perform transformations first. \n",
    "* Categorical data, such as the neighborhood in which a property is located, does not always work well with the machine learning algorithm you're most interested in using. \n",
    "* Linear regression, for example, requires numerical inputs.\n",
    "* Options include one-hot encoding of categorical data and text and image data feature engineering (important for processes like NLP, which has applications in social media and data mining).\n",
    "* Featuer engineering with images can be very complex: the simplest of which is just using the pixel values themselves\n",
    "* HOG: Histogram of Oriented Gradients\n",
    "\n",
    "#### Handling Categorical Data\n",
    "* Creating dummy features from categorical values makes it so that you can include them in your modeling project by converting a single categorical column into many binary columns indicating the presence and absence of each categorical level (one-hot encoding)\n",
    "    * **sklearn's Category Encoders package:**\n",
    "    * **TL;DR;**\n",
    "        * Use Category Encoders to improve model performance when you have nominal or ordinal data that may provide value.\n",
    "        * For nominal columns try OneHot, Hashing, LeaveOneOut, and Target encoding. Avoid OneHot for high cardinality columns and decision tree-based algorithms.\n",
    "        * For ordinal columns try Ordinal (Integer), Binary, OneHot, LeaveOneOut, and Target. Helmert, Sum, BackwardDifference and Polynomial are less likely to be helpful, but if you have time or theoretic reason you might want to try them.\n",
    "        * For regression tasks, Target and LeaveOneOut probably won’t work well.\n",
    "        \n",
    "    * We should (arguably) classify data as 1 of 7 types to make better models faster\n",
    "        * **Useless** — useless for machine learning algorithms, that is — discrete\n",
    "        * **Nominal** — groups without order — discrete; groups do not overlap\n",
    "        * **Binary** — either/or — discrete\n",
    "        * **Ordinal** — groups with order — discrete; natural, ordered categories\n",
    "        * **Count** — the number of occurrences — discrete\n",
    "        * **Time** — cyclical numbers with a temporal component — continuous\n",
    "        * **Interval** — positive and/or negative numbers without a temporal component — continuous\n",
    "    * **Nominal Data:**\n",
    "        * Has values that cannot be ordered in any meaningful way\n",
    "        * mosst often one-hot (dummy) encoded\n",
    "    * **Ordinal Data:**\n",
    "        * Ordinal data can be rank-ordered in a meaningful way\n",
    "        * Can be encoded in one of three ways:\n",
    "            * 1) It can be assumed to be close enough to interval data — with relatively equal magnitudes between the values — to treat it as such. \n",
    "            * 2) It can be treated as nominal data, where each category has no numeric relationship to another. You can try one-hot encoding and other encodings appropriate for nominal data.\n",
    "            * 3) The magnitude of the difference between the numbers can be ignored. You can just train your model with different encodings and see which encoding works best."
   ]
  },
  {
   "cell_type": "code",
   "execution_count": null,
   "id": "b0d46eac",
   "metadata": {},
   "outputs": [],
   "source": []
  },
  {
   "cell_type": "code",
   "execution_count": null,
   "id": "693d2dfc",
   "metadata": {},
   "outputs": [],
   "source": []
  },
  {
   "cell_type": "code",
   "execution_count": null,
   "id": "56eabb25",
   "metadata": {},
   "outputs": [],
   "source": []
  },
  {
   "cell_type": "code",
   "execution_count": null,
   "id": "6fda9de8",
   "metadata": {},
   "outputs": [],
   "source": []
  },
  {
   "cell_type": "code",
   "execution_count": null,
   "id": "2b962d34",
   "metadata": {},
   "outputs": [],
   "source": []
  },
  {
   "cell_type": "code",
   "execution_count": null,
   "id": "c4a46ed2",
   "metadata": {},
   "outputs": [],
   "source": []
  }
 ],
 "metadata": {
  "kernelspec": {
   "display_name": "Python 3",
   "language": "python",
   "name": "python3"
  },
  "language_info": {
   "codemirror_mode": {
    "name": "ipython",
    "version": 3
   },
   "file_extension": ".py",
   "mimetype": "text/x-python",
   "name": "python",
   "nbconvert_exporter": "python",
   "pygments_lexer": "ipython3",
   "version": "3.8.8"
  }
 },
 "nbformat": 4,
 "nbformat_minor": 5
}
