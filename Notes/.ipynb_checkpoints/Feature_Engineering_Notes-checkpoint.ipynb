{
 "cells": [
  {
   "cell_type": "markdown",
   "id": "d03c4017",
   "metadata": {},
   "source": [
    "# Feature Engineering"
   ]
  },
  {
   "cell_type": "markdown",
   "id": "4368db22",
   "metadata": {},
   "source": [
    "#### Categorical, Text, and Image Features\n",
    "* Data scientists regularly work with categorical, text, and image data. However, to execute machine learning algorithms on these data types, it's necessary to perform transformations first. \n",
    "* Categorical data, such as the neighborhood in which a property is located, does not always work well with the machine learning algorithm you're most interested in using. \n",
    "* Linear regression, for example, requires numerical inputs.\n",
    "* Options include one-hot encoding of categorical data and text and image data feature engineering (important for processes like NLP, which has applications in social media and data mining).\n",
    "* Featuer engineering with images can be very complex: the simplest of which is just using the pixel values themselves\n",
    "* HOG: Histogram of Oriented Gradients\n",
    "   \n",
    "Feature Engineering: understand how best to preprocess and engineer features from categorical, continuous, and unstructured data. \n",
    "\n",
    "* **Feature Engineering:** the act of taking raw data and extracting features for machine learning \n",
    "* Most machine learning algorithms work with tabular data.\n",
    "* Most ML algorithms require their imput data to be represented as a vector or a matrix and many assume that the data is distributed normally\n",
    "\n",
    "* **Different Types of Data:**\n",
    "    * **Continuous:** either integers (whole numbers) or floats (decimal values)\n",
    "    * **Categorical:** one of a limited set of values, e.g. gender, country of birth\n",
    "    * **Ordinal:** ranked values, often with no detail of distance between them\n",
    "    * **Boolean:** True/False values\n",
    "    * **Datetime:** dates and times\n",
    "* in pandas, \"objects\" are columns that contain strings\n",
    "* knowing the types of each column can be very useful if you are performing analysis based on a subset of specific data types. To do this, use: `.select_dtypes()` method and pass a list of relevant data types: `only_ints = df.select_dtypes(include=['int'])`\n",
    "\n",
    "#### Categorical Variables\n",
    "* Categorical variables are used to represent groups that are qualitative in nature, like colors, country of birth\n",
    "* You will need to encode categorical values as numeric values to use them in your machine learning models \n",
    "* When categories are unordered (like colors, country of birth), assigned ordered numerical values to them may greatly penalize the effectiveness of your model.\n",
    "* Thus, you cannot allocate arbitrary numbers to each category, as that would imply some form of ordering to the categories\n",
    "* $\\Rightarrow$ **One Hot Encoding**\n",
    "* $\\Rightarrow$ **Dummy Encoding**\n",
    "    * Very similar, and often confused\n",
    "    * by default, pandas performs one hot encoding when you use the get_dummies() function\n",
    "    * difference:\n",
    "        * **One Hot Encoding:** converts *n* categories into *n* features\n",
    "            * `pd.get_dummies(df, columns=['Country'], prefix ='C')`\n",
    "            * note that specifying a prefix argument can improve readability, especially if the list of column names passed to `columns` contains more than one column.\n",
    "            * **Use for: generally creating more explainable features**\n",
    "            * **Note: one must be aware that one-hot encoding may create features that are entirely colinear due to the same information being represented multiple times. \n",
    "        * **Dummy Encoding:** creates *n* - 1 features for *n* categories\n",
    "            * `pd.get_dummies(df, columns=['Coutnry'], drop_first=True, prefix = 'C')`\n",
    "            * the dropped column (referred to as the *base column* is encoded by the absence of all other features and it's value is represented by the intercept\n",
    "            * **Use for: Necessary information without duplication.**\n",
    "            \n",
    "        * Both one-hot encoding and dummy encoding may result in a **huge** number of columns being created if there are too many different categories in a column \n",
    "        * In these cases, you may only want to create columns for the most common values:\n",
    "            * `counts = df['Country'].value_counts()` # to check occurences of a category value \n",
    "            * once you have your counts of column category occurences, you can use it to limit what values you will include by first creating a mask of values that occur less than *n* times:\n",
    "            * `mask = df['Country'].isin(counts[counts<5].index)`\n",
    "            * use the mask to replace these categories that occur less frequently with a value of your choice (for example: an umbrella category like 'Other')\n",
    "            * `df['Country'][mask] = 'Other'"
   ]
  },
  {
   "cell_type": "code",
   "execution_count": null,
   "id": "b0d46eac",
   "metadata": {},
   "outputs": [],
   "source": []
  },
  {
   "cell_type": "code",
   "execution_count": null,
   "id": "693d2dfc",
   "metadata": {},
   "outputs": [],
   "source": []
  },
  {
   "cell_type": "code",
   "execution_count": null,
   "id": "56eabb25",
   "metadata": {},
   "outputs": [],
   "source": []
  },
  {
   "cell_type": "code",
   "execution_count": null,
   "id": "6fda9de8",
   "metadata": {},
   "outputs": [],
   "source": []
  },
  {
   "cell_type": "code",
   "execution_count": null,
   "id": "2b962d34",
   "metadata": {},
   "outputs": [],
   "source": []
  },
  {
   "cell_type": "code",
   "execution_count": null,
   "id": "c4a46ed2",
   "metadata": {},
   "outputs": [],
   "source": []
  }
 ],
 "metadata": {
  "kernelspec": {
   "display_name": "Python 3",
   "language": "python",
   "name": "python3"
  },
  "language_info": {
   "codemirror_mode": {
    "name": "ipython",
    "version": 3
   },
   "file_extension": ".py",
   "mimetype": "text/x-python",
   "name": "python",
   "nbconvert_exporter": "python",
   "pygments_lexer": "ipython3",
   "version": "3.8.8"
  }
 },
 "nbformat": 4,
 "nbformat_minor": 5
}
