{
 "cells": [
  {
   "cell_type": "markdown",
   "id": "3d600734",
   "metadata": {},
   "source": [
    "# Introduction to Natural Language Processing in Python\n",
    "In this course, you'll learn natural language processing (NLP) basics, such as how to identify and separate words, how to extract topics in a text, and how to build your own fake news classifier. You'll also learn how to use basic libraries such as NLTK, alongside libraries which utilize deep learning to solve common NLP problems. This course will give you the foundation to process and parse text as you move forward in your Python learning."
   ]
  },
  {
   "cell_type": "markdown",
   "id": "6f1508f0",
   "metadata": {},
   "source": [
    "## $\\star$ Chapter 1: Regular expressions & word tokenization\n",
    "This chapter will introduce some basic NLP concepts, such as word tokenization and regular expressions to help parse text. You'll also learn how to handle non-English text and more difficult tokenization you might find."
   ]
  },
  {
   "cell_type": "markdown",
   "id": "eced6df3",
   "metadata": {},
   "source": [
    "#### What is Natural Language Processing?\n",
    "* Massive field of study focused on making sense of language using statistics and computers\n",
    "* Some of the basics of NLP:\n",
    "    * Topic identification\n",
    "    * Text classification\n",
    "* NLP applications include:\n",
    "    * topic identification\n",
    "    * chatbots\n",
    "    * text classification\n",
    "    * translation\n",
    "    * sentiment analysis\n",
    "    * ... many, many more!\n",
    "    \n",
    "#### Regular Expressions\n",
    "* **Regular expressions** are strings you can use that have a special syntax which allows you to match patterns and find other strings\n",
    "* A **pattern** is a series of letters or symbols which can map to an actual text or words or punctuation.\n",
    "* Applications of regular expression:\n",
    "    * Find links in a a webpage or document\n",
    "    * Parse email addresses\n",
    "    * Remove unwanted strings or characters\n",
    "* Regular expressions are often referred to as **regex** and can be used easily with Python via the `re` library\n",
    "* match a substring using the `re.match()` method:"
   ]
  },
  {
   "cell_type": "code",
   "execution_count": 1,
   "id": "267e0640",
   "metadata": {},
   "outputs": [],
   "source": [
    "import re"
   ]
  },
  {
   "cell_type": "code",
   "execution_count": 2,
   "id": "4fb10fc5",
   "metadata": {},
   "outputs": [
    {
     "data": {
      "text/plain": [
       "<re.Match object; span=(0, 3), match='abc'>"
      ]
     },
     "execution_count": 2,
     "metadata": {},
     "output_type": "execute_result"
    }
   ],
   "source": [
    "re.match('abc', 'abcdef')"
   ]
  },
  {
   "cell_type": "markdown",
   "id": "26196f4c",
   "metadata": {},
   "source": [
    "* `re.match()` takes the pattern as the first argument, the string as the second argument, and returns a **match object**\n",
    "* We can also use \"special\" patterns that regex understands, like the `\\w+`, which will match a word:"
   ]
  },
  {
   "cell_type": "code",
   "execution_count": 3,
   "id": "aa19b6a7",
   "metadata": {},
   "outputs": [
    {
     "data": {
      "text/plain": [
       "<re.Match object; span=(0, 2), match='hi'>"
      ]
     },
     "execution_count": 3,
     "metadata": {},
     "output_type": "execute_result"
    }
   ],
   "source": [
    "word_regex = '\\w+'\n",
    "re.match(word_regex, 'hi there!')"
   ]
  },
  {
   "cell_type": "markdown",
   "id": "877a6be0",
   "metadata": {},
   "source": [
    "* There are hundreds of characters and patterns you can learn and memorize with regular expressions, but here we get started with a few common patterns:\n",
    "\n",
    "<img src='data/common_regex.png' width=\"300\" height=\"150\" align=\"center\"/>"
   ]
  },
  {
   "cell_type": "markdown",
   "id": "bf7a5348",
   "metadata": {},
   "source": [
    "#### Python's re modules\n",
    "* **`re`** module\n",
    "* **`split`**: split a string on a regex\n",
    "* **`findall`**: find all patterns in a string\n",
    "* **`search`**: search for a pattern\n",
    "* **`match`**: match an entire string or substring based on a pattern\n",
    "* Syntax for regex library is always to pass the pattern first and the string second\n",
    "* Depending on the method, it may return an iterator, a new string, or a match object"
   ]
  },
  {
   "cell_type": "code",
   "execution_count": 4,
   "id": "49633f85",
   "metadata": {},
   "outputs": [
    {
     "data": {
      "text/plain": [
       "['Split', 'on', 'spaces.']"
      ]
     },
     "execution_count": 4,
     "metadata": {},
     "output_type": "execute_result"
    }
   ],
   "source": [
    "re.split('\\s+', 'Split on spaces.')"
   ]
  },
  {
   "cell_type": "markdown",
   "id": "5ae5785e",
   "metadata": {},
   "source": [
    "* This can be used for tokenization, so you can process text using regex while doing NLP\n",
    "\n",
    "#### Exercises: Practicing regular expressions: re.split() and re.findall()\n",
    "\n",
    "```\n",
    "# Write a pattern to match sentence endings: sentence_endings\n",
    "sentence_endings = r\"[.?!]\"\n",
    "\n",
    "# Split my_string on sentence endings and print the result\n",
    "print(re.split(sentence_endings, my_string))\n",
    "\n",
    "# Find all capitalized words in my_string and print the result\n",
    "capitalized_words = r\"[A-Z]\\w+\"\n",
    "print(re.findall(capitalized_words, my_string))\n",
    "\n",
    "# Split my_string on spaces and print the result\n",
    "spaces = r\"\\s+\"\n",
    "print(re.split(spaces, my_string))\n",
    "\n",
    "# Find all digits in my_string and print the result\n",
    "digits = r\"\\d+\"\n",
    "print(re.findall(digits, my_string))\n",
    "```\n",
    "\n",
    "### Introduction to tokenization"
   ]
  },
  {
   "cell_type": "code",
   "execution_count": null,
   "id": "f55ffbff",
   "metadata": {},
   "outputs": [],
   "source": []
  },
  {
   "cell_type": "code",
   "execution_count": null,
   "id": "650b1d1d",
   "metadata": {},
   "outputs": [],
   "source": []
  },
  {
   "cell_type": "code",
   "execution_count": null,
   "id": "5e0952e3",
   "metadata": {},
   "outputs": [],
   "source": []
  },
  {
   "cell_type": "code",
   "execution_count": null,
   "id": "51cdf2a0",
   "metadata": {},
   "outputs": [],
   "source": []
  },
  {
   "cell_type": "code",
   "execution_count": null,
   "id": "6cb9ca6f",
   "metadata": {},
   "outputs": [],
   "source": []
  },
  {
   "cell_type": "code",
   "execution_count": null,
   "id": "257d9580",
   "metadata": {},
   "outputs": [],
   "source": []
  },
  {
   "cell_type": "code",
   "execution_count": null,
   "id": "c18fa7d7",
   "metadata": {},
   "outputs": [],
   "source": []
  },
  {
   "cell_type": "code",
   "execution_count": null,
   "id": "46133167",
   "metadata": {},
   "outputs": [],
   "source": []
  },
  {
   "cell_type": "code",
   "execution_count": null,
   "id": "422f04c9",
   "metadata": {},
   "outputs": [],
   "source": []
  },
  {
   "cell_type": "code",
   "execution_count": null,
   "id": "5627c19b",
   "metadata": {},
   "outputs": [],
   "source": []
  },
  {
   "cell_type": "code",
   "execution_count": null,
   "id": "e0d61d4c",
   "metadata": {},
   "outputs": [],
   "source": []
  },
  {
   "cell_type": "code",
   "execution_count": null,
   "id": "fbcd1ed5",
   "metadata": {},
   "outputs": [],
   "source": []
  },
  {
   "cell_type": "code",
   "execution_count": null,
   "id": "1d8cd3e5",
   "metadata": {},
   "outputs": [],
   "source": []
  },
  {
   "cell_type": "code",
   "execution_count": null,
   "id": "4a7d22ed",
   "metadata": {},
   "outputs": [],
   "source": []
  },
  {
   "cell_type": "code",
   "execution_count": null,
   "id": "5bb7856b",
   "metadata": {},
   "outputs": [],
   "source": []
  },
  {
   "cell_type": "code",
   "execution_count": null,
   "id": "e89b1199",
   "metadata": {},
   "outputs": [],
   "source": []
  },
  {
   "cell_type": "code",
   "execution_count": null,
   "id": "09ed81ec",
   "metadata": {},
   "outputs": [],
   "source": []
  },
  {
   "cell_type": "markdown",
   "id": "8e546de5",
   "metadata": {},
   "source": [
    "<img src='data/course_datasets.png' width=\"600\" height=\"300\" align=\"center\"/>"
   ]
  }
 ],
 "metadata": {
  "kernelspec": {
   "display_name": "Python 3",
   "language": "python",
   "name": "python3"
  },
  "language_info": {
   "codemirror_mode": {
    "name": "ipython",
    "version": 3
   },
   "file_extension": ".py",
   "mimetype": "text/x-python",
   "name": "python",
   "nbconvert_exporter": "python",
   "pygments_lexer": "ipython3",
   "version": "3.8.8"
  }
 },
 "nbformat": 4,
 "nbformat_minor": 5
}
