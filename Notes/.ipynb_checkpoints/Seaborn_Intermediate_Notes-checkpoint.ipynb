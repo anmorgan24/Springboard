{
 "cells": [
  {
   "cell_type": "markdown",
   "id": "f857c2ba",
   "metadata": {},
   "source": [
    "# Seaborn Visualization: Intermediate"
   ]
  },
  {
   "cell_type": "markdown",
   "id": "375e5e14",
   "metadata": {},
   "source": [
    "Instrutor: Chris Moffitt: Practical Business Python\n",
    "\n",
    "* `matplotlib` provides the raw building blocks for Seaborn's visualiztions\n",
    "* Seaborn supports complex visualizations of data\n",
    "* It is built on matplotlib and works best with pandas dataframes\n",
    "* Seaborn make's reasonable assumptions about colors and other visual elements to make visualizations that look more pleasing than the standard matplotlib plots\n",
    "* Additionally, Seaborn performs statistical analysis on the data\n",
    "\n",
    "#### Seaborn's `distplot`\n",
    "* By default, generates a Gaussian Kernel Density Estimates (KDE)\n",
    "* looks somewhat like a histogram\n",
    "    * `sns.distplot(df['fmr_2'])`\n",
    "* **Customizing distribution plots:**\n",
    "* in order to plot a simple histgram: disable KDE and specify number of bins\n",
    "    * `sns.distplot(df['alcohol'], kde= False, bins=10)`\n",
    "* **rug plot**: [doc here](https://en.wikipedia.org/wiki/Rug_plot)\n",
    "    * kde curve and rug plot can be combined\n",
    "    * `sns.distplot(df['alcohol'], hist= False, rug=True)`\n",
    "* the `distplot` function uses several functions, including `kdeplot` and `rugplot`\n",
    "* It is possible to further customize a plot by passing arguments to the underlying function\n",
    "* `sns.distplot(df['alcohol'], hist=False, rug=True, kde_kws={'shade':True})`\n",
    "* `kws`: keywords"
   ]
  },
  {
   "cell_type": "markdown",
   "id": "d94b2a5e",
   "metadata": {},
   "source": [
    "#### Regression plots\n",
    "* Univariate analysis: looks at one variable\n",
    "* **Regression Analysis** is bivariate (looks for relationships between two variables)\n",
    "* **`regplot()`**\n",
    "    * `regplot()` function generates a scatterplot with a regression line\n",
    "    * Usage is similar to .distplot()\n",
    "    * Must define: `data`, `x`, `y`\n",
    "        * Since we're using a pandas DataFrame, the `x` and `y` variables refer to columns in the DataFrame\n",
    "    * **`lmplot()`**: builds on top of regplot()\n",
    "        * while regplot() is \"low level,\" lmplot() is high \"level\"\n",
    "        * lmplot() is much more flexible\n",
    "        * lmplot() faceting:\n",
    "            * organize data by colors (`hue`)\n",
    "            * organize data by columns (`col`) or rows (`row`)\n",
    "            * **Faceting:** the use of plotting multiple graphs while changing a single variable"
   ]
  },
  {
   "cell_type": "markdown",
   "id": "6a8fdb1c",
   "metadata": {},
   "source": [
    "#### Using Seaborn Styles\n",
    "* Visualization's \"aesthetics\": layouts, labels, colors\n",
    "* **`sns.set`** sets plot (pd or plt or sns) to default Seaborn style\n",
    "* Seaborn has several default configurations that can be set with **`sns.set_style`**\n",
    "    * These styles can override matplotlib and pandas styles as well\n",
    "    * built-in styles (5): `white`, `whitegrid`, `dark`, `darkgrid`, `ticks`\n",
    "* **In general, visualizations are more impactful if the amount of \"excess chart junk\" is removed\n",
    "    * Common use case: remove the lines alomg axes called `spines` with **`despine`**\n",
    "    * the default is to remove the top and right lines, but you can pass arguments specifying others\n",
    "    * `sns.despine(left=True)`\n",
    "* **`plt.clf()`** to clear a figure"
   ]
  },
  {
   "cell_type": "markdown",
   "id": "bffbcf70",
   "metadata": {},
   "source": [
    "#### Colors in Seaborn \n",
    "* Color is an extremely important component of creating effective visualizations\n",
    "* Around 8% of the population is affected by color-blindedness (around 1 in 12 men but only around 1 in 200 women).\n",
    "* Using color palettes that are colorblind-friendly can be very important\n",
    "* Seaborn has several functions for creating, viewing, and configuring color palettes\n",
    "* Because Seaborn is built on top of Matplotlib, it is able to interpret and apply Matplotlib color codes\n",
    "    * To use matplotlib color codes, use:\n",
    "    * `sns.set_style(color_codes=True)`\n",
    "    * `sns.distplot(df['Tuition'], color=g)`\n",
    "* To assign specific palette: `sns.set_palette()`\n",
    "    * cycle through colors of a palette with:\n",
    "    \n",
    "```\n",
    "for p in sns.palettes.SEABORN_PALETTES:\n",
    "    sns.set_palette(p)\n",
    "    sns.distplot(df['Tuition'])\n",
    "```\n",
    "* Seaborn has 6 default palettes, including:\n",
    "    * deep\n",
    "    * muted\n",
    "    * pastel\n",
    "    * bright\n",
    "    * dark\n",
    "    * colorblind\n",
    "    #### Displaying palettes:\n",
    "        * `sns.palplot()` function displays a palette\n",
    "        * `sns.color_palette()` returns the current palette\n",
    "\n",
    "```\n",
    "for p in sns.palettes.SEABORN_PALETTES:\n",
    "    sns.set_palette(p)\n",
    "    sns.palplot(sns.color_palette())\n",
    "    plt.show()\n",
    "```\n",
    "* There are three main types of color palettes:\n",
    "    * **Circular color palettes:** used for categorial data that is not ordered\n",
    "        * Example: `Paired`\n",
    "    * **Sequential color palettes:** useful for when the data has a consistent range from high to low\n",
    "        * Example: `Blues`\n",
    "    * **Diverging color palettes:** for when both the low and high values are interesting\n",
    "        * Example: `BrBG`\n",
    "    * To print any of the palettes of 12 colors: `sns.palplot(sns.color_palette(\"Paired\", 12))`"
   ]
  },
  {
   "cell_type": "code",
   "execution_count": null,
   "id": "de0579c1",
   "metadata": {},
   "outputs": [],
   "source": []
  },
  {
   "cell_type": "code",
   "execution_count": null,
   "id": "4299bf40",
   "metadata": {},
   "outputs": [],
   "source": []
  }
 ],
 "metadata": {
  "kernelspec": {
   "display_name": "Python 3",
   "language": "python",
   "name": "python3"
  },
  "language_info": {
   "codemirror_mode": {
    "name": "ipython",
    "version": 3
   },
   "file_extension": ".py",
   "mimetype": "text/x-python",
   "name": "python",
   "nbconvert_exporter": "python",
   "pygments_lexer": "ipython3",
   "version": "3.8.8"
  }
 },
 "nbformat": 4,
 "nbformat_minor": 5
}
