{
 "cells": [
  {
   "cell_type": "markdown",
   "id": "0ccbf21c",
   "metadata": {},
   "source": [
    "# Dimensionality Reduction in Python"
   ]
  },
  {
   "cell_type": "markdown",
   "id": "41515f70",
   "metadata": {},
   "source": [
    "High-dimensional datasets can be overwhelming and leave you not knowing where to start. Typically, you’d visually explore a new dataset first, but when you have too many dimensions the classical approaches will seem insufficient. Fortunately, there are visualization techniques designed specifically for high dimensional data. After exploring the data, you’ll often find that many features hold little information because they don’t show any variance or because they are duplicates of other features; detect these features and drop them from the dataset so that you can focus on the informative ones.  In a next step, you might want to build a model on these features, and it may turn out that some don’t have any effect on the thing you’re trying to predict. You’ll learn how to detect and drop these irrelevant features too, in order to reduce dimensionality and thus complexity. Finally, you’ll learn how feature extraction techniques can reduce dimensionality for you through the calculation of uncorrelated principal components."
   ]
  },
  {
   "cell_type": "markdown",
   "id": "26e3975f",
   "metadata": {},
   "source": [
    "### Exploring High Dimensional Data\n",
    "Learn the difference between feature selection and feature extraction and will apply both techniques for data exploration.\n",
    "* **Dimensionality:** the number of columns in your dataset (assuming that you have a tidy dataset)\n",
    "* **Tidy data set:** Every column represents a variable or feature and every row represents an observation or instance of each variable.\n",
    "* **High-dimensional:** When you have many columns, or features, in your dataset; high-dimensionality indicates complexity.\n",
    "* **Note:** by default, `.describe()` ignores the non-numeric columns in a dataset; we can tell describe to do the opposite, by passing the argument `exclude='number'`; or, `df.describe(exclude='number')`; we will then get summary statistics adapted to non-numeric data\n",
    "\n",
    "* Becoming familiar with the shape of your dataset and the properties of the features within it, is a crucial step you should take before you make the decision to reduce dimensionality\n",
    "\n",
    "#### Methods for reducing dimensionality:\n",
    "* Drop columns with little to no variance (when you are looking to determine differences among observations in a dataset)"
   ]
  },
  {
   "cell_type": "markdown",
   "id": "8533e6bc",
   "metadata": {},
   "source": [
    "#### Feature selection vs Feature Extraction\n",
    "* Reducing the number of dimensions in your dataset has multiple benefits. Your dataset will become:\n",
    "    * less complex\n",
    "    * require less disk space\n",
    "    * require less computation time\n",
    "    * have lower chance of model overfitting\n",
    "    \n",
    "* The simplest way to reduce dimensionality is to only select the features or columns that are important to you from a larger dataset\n",
    "    * If you're new to a dataset or have little background knowledge of a dataset topic, you'll likely have to do some exploring to determine which features are both relevant and useful.\n",
    "    * Seaborn's **pairplot** is excellent to visually explore small to medium sized datasets\n",
    "    \n",
    "```\n",
    "sns.pairplot(ansur_df, hue = 'gender', diag_kind='hist')\n",
    "```\n",
    "#### Pairplots\n",
    "* **sns pairplot** provides a 1x1 comparison of each numeric feature in the dataset in the form of a scatterplot. Plus, diagonally, a view of the distribution of each feature (for example, with a histogram, as specified in the above code).\n",
    "    * Pairplots make it very easy to visually spot duplicated features (such as a weight column of different units- kilogramsa and pounds), as well as unvarying features (such as a constant); both of these types of columns can typically be dropped for dimensionality reduction\n",
    "\n",
    "* Always try to minimize information loss by only removing features that are irrelevant or hold little unique information (if possible)\n",
    "\n",
    "#### Feature extraction\n",
    "* Compared to feature selection, **feature extraction** is a completely different approach but with the same goal of reducing dimensionality\n",
    "* Instead of selecting a subset of features from our initial dataset, we calculate or extract new features from the original ones (for example: PCA).\n",
    "    * These new features have as little redundant information as possible and are therefore fewer in number\n",
    "    * One downside: the newly created features are often less intuitive to understand than the original ones\n",
    "* Dimensionality of datasets with a lot of strong correlations between the different features in it, can be reduced a lot with feature extraction"
   ]
  },
  {
   "cell_type": "code",
   "execution_count": null,
   "id": "1b52344a",
   "metadata": {},
   "outputs": [],
   "source": []
  },
  {
   "cell_type": "code",
   "execution_count": null,
   "id": "3686a8d0",
   "metadata": {},
   "outputs": [],
   "source": []
  },
  {
   "cell_type": "code",
   "execution_count": null,
   "id": "9482d0d7",
   "metadata": {},
   "outputs": [],
   "source": []
  },
  {
   "cell_type": "code",
   "execution_count": null,
   "id": "be62c0a0",
   "metadata": {},
   "outputs": [],
   "source": []
  },
  {
   "cell_type": "code",
   "execution_count": null,
   "id": "3186a4a6",
   "metadata": {},
   "outputs": [],
   "source": []
  },
  {
   "cell_type": "code",
   "execution_count": null,
   "id": "aaa58b1f",
   "metadata": {},
   "outputs": [],
   "source": []
  },
  {
   "cell_type": "code",
   "execution_count": null,
   "id": "6257b3f0",
   "metadata": {},
   "outputs": [],
   "source": []
  }
 ],
 "metadata": {
  "kernelspec": {
   "display_name": "Python 3",
   "language": "python",
   "name": "python3"
  },
  "language_info": {
   "codemirror_mode": {
    "name": "ipython",
    "version": 3
   },
   "file_extension": ".py",
   "mimetype": "text/x-python",
   "name": "python",
   "nbconvert_exporter": "python",
   "pygments_lexer": "ipython3",
   "version": "3.8.8"
  }
 },
 "nbformat": 4,
 "nbformat_minor": 5
}
