{
 "cells": [
  {
   "cell_type": "markdown",
   "id": "8ad15367",
   "metadata": {},
   "source": [
    "# Writing functions in Python"
   ]
  },
  {
   "cell_type": "markdown",
   "id": "89f37a1b",
   "metadata": {},
   "source": [
    "**Intro:** Writing Functions in Python will give you a strong foundation in writing complex and beautiful functions so that you can contribute research and engineering skills to your team. You'll learn useful tricks, like how to write context managers and decorators. You'll also learn best practices around how to write maintainable reusable functions with good documentation. They say that people who can do good research and write high-quality code are unicorns. "
   ]
  },
  {
   "cell_type": "markdown",
   "id": "78667ddc",
   "metadata": {},
   "source": [
    "### Best practices\n",
    "#### Docstrings\n",
    "\n",
    "* Make your code much easier to use, reuse and maintain\n",
    "* Docstrings should: describe what the function does and explain expected inputs and outputs\n",
    "\n",
    "* **Anatomy of a docstring:**\n",
    "\n",
    "```\n",
    "def function_name(arguments):\n",
    "    \"\"\"\n",
    "    Description of what the function does.\n",
    "    \n",
    "    Description of the arguments, if any.\n",
    "    \n",
    "    Description of the return value(s), if any.\n",
    "    \n",
    "    Description of errors raised, if any. \n",
    "    \n",
    "    Optional extra notes or examples of usage.\n",
    "    \"\"\"\n",
    "```\n",
    "* All docstrings have some (though not usually all) of the five above docstrings.\n",
    "* Consistent style makes a project easier to read.\n",
    "* The Python community has evolved several standards for how to format your docstrings:\n",
    "    * **Docstring formats:**\n",
    "        * Google Style $\\Rightarrow$ *most popular*\n",
    "        * Numpydoc $\\Rightarrow$ *most popular*\n",
    "        * reStructuredText\n",
    "        * EpyText\n",
    "        \n",
    "**Google Style:**\n",
    "* 1)\n",
    "    * Concise description of what the function does\n",
    "    * In imperative language\n",
    "* 2)\n",
    "    * List each argument name, \n",
    "    * followed by its expected type in parentheses,\n",
    "    * and then what its role is.\n",
    "    * If you need to break sentence onto next line, indent, as shown below\n",
    "* 3) \n",
    "    * list expected type(s) of what gets returned\n",
    "    * Optional: you can provide comment(s) about what gets returned\n",
    "    * Extra lines not indented in this section\n",
    "* 4) \n",
    "    * If your function intentionally raises any errors, add a 'Raises' section\n",
    "* 5)\n",
    "    * Include any additional notes or usage examples\n",
    "    * Any other free-form text\n",
    "    \n",
    "\n",
    "```\n",
    "def function(arg_1, arg_2=42):\n",
    "    \"\"\"Description of what the funciton does\n",
    "    \n",
    "    Args:\n",
    "        arg_1 (str): Description of arg_1 that can break onto the next \n",
    "            line if needed.\n",
    "        arg_2 (int, optional): Write optional when an argument has a \n",
    "            default value.\n",
    "            \n",
    "    Returns:\n",
    "        bool: Optional description of the return value\n",
    "        Extra lines are not indented\n",
    "        \n",
    "    Raises:\n",
    "        ValueError: Include any error types that the funtion intentionally\n",
    "            raises.\n",
    "        \n",
    "    Notes:\n",
    "        See https://www.datacamp.com/community/tutorials/docstrings-python\n",
    "        for more info.\n",
    "    \"\"\"\n",
    "    \n",
    "```"
   ]
  },
  {
   "cell_type": "markdown",
   "id": "74938b7a",
   "metadata": {},
   "source": [
    "**Numpydoc:**\n",
    "* Very similar to Google style\n",
    "* Numpydoc is most common in scientific community\n",
    "* Looks better than Google style but takes up more vertical space\n",
    "\n",
    "```\n",
    "def function(arg_1, arg_2=42):\n",
    "    \"\"\"\n",
    "    Description of what the function does\n",
    "    \n",
    "    Parameters\n",
    "    ----------\n",
    "    arg_1 : expected type of arg_1\n",
    "        Description of arg_1.\n",
    "    arg_2 : int, optional\n",
    "        Write optional when an argument has a default value \n",
    "        Default=42\n",
    "        \n",
    "    Returns\n",
    "    -------\n",
    "    The type of the return value \n",
    "        Can include a description of the return value.\n",
    "        Replace \"Returns\" with \"Yields\" if this funciton is a generator.\n",
    "    \"\"\"\n",
    "```"
   ]
  },
  {
   "cell_type": "markdown",
   "id": "043ec38f",
   "metadata": {},
   "source": [
    "**Retrieving docstrings:**\n",
    "* Every function in Python comes with a `.__doc__` attribute that holds docstring information\n",
    "* `.__doc__` contains raw docstring, including any lines or tabs that were added to make the docstring line up visually\n",
    "* to get a cleaner version, with leading spaces removed: use `getdoc()` function:\n",
    "`import inspect`\n",
    "`print(inspect.getdoc(the_answer)`\n",
    "* the `inspect` module contains a lot of useful methods for gathering information about functions\n"
   ]
  },
  {
   "cell_type": "code",
   "execution_count": null,
   "id": "3d9d8076",
   "metadata": {},
   "outputs": [],
   "source": []
  },
  {
   "cell_type": "code",
   "execution_count": null,
   "id": "d0adb0c9",
   "metadata": {},
   "outputs": [],
   "source": []
  }
 ],
 "metadata": {
  "kernelspec": {
   "display_name": "Python 3",
   "language": "python",
   "name": "python3"
  },
  "language_info": {
   "codemirror_mode": {
    "name": "ipython",
    "version": 3
   },
   "file_extension": ".py",
   "mimetype": "text/x-python",
   "name": "python",
   "nbconvert_exporter": "python",
   "pygments_lexer": "ipython3",
   "version": "3.8.8"
  }
 },
 "nbformat": 4,
 "nbformat_minor": 5
}
