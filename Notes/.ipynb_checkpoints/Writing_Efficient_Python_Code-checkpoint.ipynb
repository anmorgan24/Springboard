{
 "cells": [
  {
   "cell_type": "markdown",
   "id": "00549a19",
   "metadata": {},
   "source": [
    "Note: This notebook was created as part of the DataCamp course of the same name\n",
    "\n",
    "# Writing Efficient Python Code\n",
    "\n",
    "As a Data Scientist, the majority of your time should be spent gleaning actionable insights from data -- not waiting for your code to finish running. Writing efficient Python code can help reduce runtime and save computational resources, ultimately freeing you up to do the things you love as a Data Scientist. In this course, you'll learn how to use Python's built-in data structures, functions, and modules to write cleaner, faster, and more efficient code. We'll explore how to time and profile code in order to find bottlenecks. Then, you'll practice eliminating these bottlenecks, and other bad design patterns, using Python's Standard Library, NumPy, and pandas. After completing this course, you'll have the necessary tools to start writing efficient Python code!\n",
    "\n",
    "**Instructor:** Logan Thomas, Scientific Software Technical Trainer @ Enthought"
   ]
  },
  {
   "cell_type": "markdown",
   "id": "29e81568",
   "metadata": {},
   "source": [
    "# $\\star$ Chapter 1: Foundations for efficiencies\n",
    "In this chapter, you'll learn what it means to write efficient Python code. You'll explore Python's Standard Library, learn about NumPy arrays, and practice using some of Python's built-in tools. This chapter builds a foundation for the concepts covered ahead."
   ]
  },
  {
   "cell_type": "markdown",
   "id": "420a76f8",
   "metadata": {},
   "source": [
    "#### Course overview\n",
    "* Write cleaner, faster, more efficient Python code\n",
    "* Time and profile your code for bottlenecks\n",
    "* Eliminate bottlenecks and bad design patterns using\n",
    "    * Python's Standard Library\n",
    "    * NumPy \n",
    "    * pandas\n",
    "#### Definining efficient\n",
    "* In the context of this course, **efficient** refers to code that satisfies two key concepts:\\\n",
    "    * Minimal completion time (*fast runtime*)\n",
    "        * Small latency between execution and returning a result\n",
    "    * Minimal resource consumption (*small memory footprint*)\n",
    "        * skillfully allocates resources without unnecessary overhead\n",
    "* **The goal of writing efficient code is to reduce both *latency* and *overhead*.**\n",
    "\n",
    "#### Defining Pythonic\n",
    "* Focus on *readability*\n",
    "* Using Python's constructs as intended (\"Pythonic\")\n",
    "* Pythonic code tends to be less verbose and easier to interpret\n",
    "* Although Python supports code that doesn't follow its guiding principles, this type of code tends to run slower\n",
    "* **Pythonic code = efficient code**"
   ]
  },
  {
   "cell_type": "markdown",
   "id": "5dd55be9",
   "metadata": {},
   "source": [
    "```\n",
    "# Non-Pythonic\n",
    "doubled_numbers = []\n",
    "\n",
    "for i in range(len(numbers)):\n",
    "    doubled_numbers.append(numbers[i]*2)\n",
    "```\n",
    "***\n",
    "\n",
    "```    \n",
    "# Pythonic\n",
    "doubled_numbers = [x *2 for x in numbers]\n",
    "```"
   ]
  },
  {
   "cell_type": "markdown",
   "id": "424ef12e",
   "metadata": {},
   "source": [
    "**The Zen of Python**- Tim Peters"
   ]
  },
  {
   "cell_type": "code",
   "execution_count": 1,
   "id": "43605d3d",
   "metadata": {
    "scrolled": true
   },
   "outputs": [
    {
     "name": "stdout",
     "output_type": "stream",
     "text": [
      "The Zen of Python, by Tim Peters\n",
      "\n",
      "Beautiful is better than ugly.\n",
      "Explicit is better than implicit.\n",
      "Simple is better than complex.\n",
      "Complex is better than complicated.\n",
      "Flat is better than nested.\n",
      "Sparse is better than dense.\n",
      "Readability counts.\n",
      "Special cases aren't special enough to break the rules.\n",
      "Although practicality beats purity.\n",
      "Errors should never pass silently.\n",
      "Unless explicitly silenced.\n",
      "In the face of ambiguity, refuse the temptation to guess.\n",
      "There should be one-- and preferably only one --obvious way to do it.\n",
      "Although that way may not be obvious at first unless you're Dutch.\n",
      "Now is better than never.\n",
      "Although never is often better than *right* now.\n",
      "If the implementation is hard to explain, it's a bad idea.\n",
      "If the implementation is easy to explain, it may be a good idea.\n",
      "Namespaces are one honking great idea -- let's do more of those!\n"
     ]
    }
   ],
   "source": [
    "import this"
   ]
  },
  {
   "cell_type": "markdown",
   "id": "6b0325fe",
   "metadata": {},
   "source": [
    "#### Pythonic vs. Non-Pythonic Looping"
   ]
  },
  {
   "cell_type": "code",
   "execution_count": 2,
   "id": "993f2268",
   "metadata": {},
   "outputs": [],
   "source": [
    "names = ['Jerry', 'Kramer', 'Elaine', 'George', 'Newman']"
   ]
  },
  {
   "cell_type": "code",
   "execution_count": 3,
   "id": "894ead96",
   "metadata": {},
   "outputs": [
    {
     "name": "stdout",
     "output_type": "stream",
     "text": [
      "['Kramer', 'Elaine', 'George', 'Newman']\n"
     ]
    }
   ],
   "source": [
    "# Print the list created using the Non-Pythonic approach\n",
    "i = 0\n",
    "new_list= []\n",
    "while i < len(names):\n",
    "    if len(names[i]) >= 6:\n",
    "        new_list.append(names[i])\n",
    "    i += 1\n",
    "print(new_list)"
   ]
  },
  {
   "cell_type": "markdown",
   "id": "e3f32108",
   "metadata": {},
   "source": [
    "A more *Pythonic* approach would loop over the contents of `names`, rather than using an index variable. Print `better_list`."
   ]
  },
  {
   "cell_type": "code",
   "execution_count": 4,
   "id": "2ecb6d7e",
   "metadata": {},
   "outputs": [
    {
     "name": "stdout",
     "output_type": "stream",
     "text": [
      "['Kramer', 'Elaine', 'George', 'Newman']\n"
     ]
    }
   ],
   "source": [
    "# Print the list created by looping over the contents of names\n",
    "better_list = []\n",
    "for name in names:\n",
    "    if len(name) >= 6:\n",
    "        better_list.append(name)\n",
    "print(better_list)"
   ]
  },
  {
   "cell_type": "markdown",
   "id": "8c59e845",
   "metadata": {},
   "source": [
    "The best *Pythonic* way of doing this is by using list comprehension. Print `best_list`."
   ]
  },
  {
   "cell_type": "code",
   "execution_count": 5,
   "id": "70a0e31b",
   "metadata": {},
   "outputs": [
    {
     "name": "stdout",
     "output_type": "stream",
     "text": [
      "['Kramer', 'Elaine', 'George', 'Newman']\n"
     ]
    }
   ],
   "source": [
    "# Print the list created by using list comprehension\n",
    "best_list = [name for name in names if len(name) >= 6]\n",
    "print(best_list)"
   ]
  },
  {
   "cell_type": "markdown",
   "id": "ceca75c9",
   "metadata": {},
   "source": [
    "### Building with built-ins\n",
    "* Python comes with a number of built-in components that you can think of as a \"batteries included\" concept\n",
    "* Built-in components are referred to as the **Python Standard Library**\n",
    "* Built-in types:\n",
    "    * `list`, `tuple`, `set`, `dict`, and others\n",
    "* Built-in functions:\n",
    "    * `print()`, `len()`, `range()`, `round()`, `enumerate()`, `map()`, `zip()`, and others\n",
    "* Built-in modules:\n",
    "    * `os`, `sys`, `itertools`, `collections`, `math`, and others\n",
    "* **Python's built-ins have been optimized to work within the Python language itself.** Therefore, we should default to using a built-in solution (if one exists), rather than developing our own.\n",
    "\n",
    "### `range(start, stop, step)`\n",
    "* Creates a range object, which we can then convert into a list and print\n",
    "* Unpack a range object with **`*`**  "
   ]
  },
  {
   "cell_type": "code",
   "execution_count": 6,
   "id": "0c836ecc",
   "metadata": {},
   "outputs": [
    {
     "name": "stdout",
     "output_type": "stream",
     "text": [
      "range(0, 11)\n"
     ]
    }
   ],
   "source": [
    "nums = range(11)\n",
    "print(nums)"
   ]
  },
  {
   "cell_type": "code",
   "execution_count": 7,
   "id": "47078777",
   "metadata": {},
   "outputs": [
    {
     "name": "stdout",
     "output_type": "stream",
     "text": [
      "[0, 1, 2, 3, 4, 5, 6, 7, 8, 9, 10]\n"
     ]
    }
   ],
   "source": [
    "print(list(nums))"
   ]
  },
  {
   "cell_type": "markdown",
   "id": "111a0c8a",
   "metadata": {},
   "source": [
    "***"
   ]
  },
  {
   "cell_type": "code",
   "execution_count": 8,
   "id": "162bd7eb",
   "metadata": {},
   "outputs": [
    {
     "name": "stdout",
     "output_type": "stream",
     "text": [
      "range(0, 11)\n"
     ]
    }
   ],
   "source": [
    "print(nums)"
   ]
  },
  {
   "cell_type": "code",
   "execution_count": 9,
   "id": "da500ac6",
   "metadata": {},
   "outputs": [
    {
     "name": "stdout",
     "output_type": "stream",
     "text": [
      "0 1 2 3 4 5 6 7 8 9 10\n"
     ]
    }
   ],
   "source": [
    "print(*nums)"
   ]
  },
  {
   "cell_type": "code",
   "execution_count": 10,
   "id": "f366f59b",
   "metadata": {},
   "outputs": [],
   "source": [
    "nums2 = [*nums]"
   ]
  },
  {
   "cell_type": "code",
   "execution_count": 11,
   "id": "e8c783f6",
   "metadata": {},
   "outputs": [
    {
     "name": "stdout",
     "output_type": "stream",
     "text": [
      "[0, 1, 2, 3, 4, 5, 6, 7, 8, 9, 10]\n"
     ]
    }
   ],
   "source": [
    "print(nums2)"
   ]
  },
  {
   "cell_type": "code",
   "execution_count": 12,
   "id": "5a7ef211",
   "metadata": {},
   "outputs": [
    {
     "name": "stdout",
     "output_type": "stream",
     "text": [
      "[1, 3, 5, 7, 9, 11]\n"
     ]
    }
   ],
   "source": [
    "print([*range(1,12,2)])"
   ]
  },
  {
   "cell_type": "markdown",
   "id": "e6c4fbef",
   "metadata": {},
   "source": [
    "### `enumerate(list, start=)`\n",
    "* creates an indexed list of objects by:\n",
    "* creates an index-item pair for each item in the object provided\n",
    "* Similar to range, **enumerate returns an enumerate object, which can also be converted into a list and printed.**"
   ]
  },
  {
   "cell_type": "code",
   "execution_count": 13,
   "id": "8c5bb15f",
   "metadata": {},
   "outputs": [],
   "source": [
    "letters = ['a', 'b', 'c', 'd']"
   ]
  },
  {
   "cell_type": "code",
   "execution_count": 14,
   "id": "ae507b1b",
   "metadata": {},
   "outputs": [],
   "source": [
    "indexed_letters = enumerate(letters)"
   ]
  },
  {
   "cell_type": "code",
   "execution_count": 15,
   "id": "84417df0",
   "metadata": {},
   "outputs": [
    {
     "name": "stdout",
     "output_type": "stream",
     "text": [
      "[(0, 'a'), (1, 'b'), (2, 'c'), (3, 'd')]\n"
     ]
    }
   ],
   "source": [
    "indexed_letters_list = list(indexed_letters)\n",
    "print(indexed_letters_list)"
   ]
  },
  {
   "cell_type": "markdown",
   "id": "8b275ab4",
   "metadata": {},
   "source": [
    "* We can also specify the starting index of `enumerate` with the keyword argument **`start`**\n",
    "* Below, we tell enumerate to start the index at five by passing `start = 5` into the function call."
   ]
  },
  {
   "cell_type": "code",
   "execution_count": 16,
   "id": "e3949309",
   "metadata": {},
   "outputs": [],
   "source": [
    "indexed_letters2 = enumerate(letters, start=5)"
   ]
  },
  {
   "cell_type": "code",
   "execution_count": 17,
   "id": "7ed1ebb2",
   "metadata": {},
   "outputs": [
    {
     "name": "stdout",
     "output_type": "stream",
     "text": [
      "[(5, 'a'), (6, 'b'), (7, 'c'), (8, 'd')]\n"
     ]
    }
   ],
   "source": [
    "indexed_letters2_list = list(indexed_letters2)\n",
    "print(indexed_letters2_list)"
   ]
  },
  {
   "cell_type": "markdown",
   "id": "f301b83f",
   "metadata": {},
   "source": [
    "### `map(function, object)`\n",
    "* Applies a function to each element in an object\n",
    "* Note that `map` also returns a map object, which can then be converted into a list and printed\n",
    "* First argument = function you'd like to apply\n",
    "* Second argument = object you'd like to apply the function on (for example: list)"
   ]
  },
  {
   "cell_type": "code",
   "execution_count": 18,
   "id": "16cd4827",
   "metadata": {},
   "outputs": [],
   "source": [
    "nums = [1.5, 2.3, 3.4, 4.6, 5.0]"
   ]
  },
  {
   "cell_type": "code",
   "execution_count": 19,
   "id": "954059dc",
   "metadata": {},
   "outputs": [],
   "source": [
    "rnd_nums = map(round, nums)"
   ]
  },
  {
   "cell_type": "code",
   "execution_count": 20,
   "id": "99387259",
   "metadata": {},
   "outputs": [
    {
     "name": "stdout",
     "output_type": "stream",
     "text": [
      "[2, 2, 3, 5, 5]\n"
     ]
    }
   ],
   "source": [
    "print(list(rnd_nums))"
   ]
  },
  {
   "cell_type": "markdown",
   "id": "727aa76e",
   "metadata": {},
   "source": [
    "#### `map()` + `lambda`\n",
    "* `map()` can also be used with a `lambda`, or anonymous, function\n",
    "* Notice below that we can use `map` and a `lambda` expression to apply a self-defined function to our original list `nums`.\n",
    "* `map` provides a quick and clean way to appy a function to an object iteratively without writing a for loop."
   ]
  },
  {
   "cell_type": "code",
   "execution_count": 21,
   "id": "55dffb44",
   "metadata": {},
   "outputs": [],
   "source": [
    "nums = [1, 2, 3, 4, 5]"
   ]
  },
  {
   "cell_type": "code",
   "execution_count": 22,
   "id": "0d793acf",
   "metadata": {},
   "outputs": [],
   "source": [
    "sqrd_nums = map(lambda x: x ** 2, nums)"
   ]
  },
  {
   "cell_type": "code",
   "execution_count": 23,
   "id": "f88cce3d",
   "metadata": {},
   "outputs": [
    {
     "name": "stdout",
     "output_type": "stream",
     "text": [
      "<map object at 0x7fccc83add00>\n"
     ]
    }
   ],
   "source": [
    "print(sqrd_nums)"
   ]
  },
  {
   "cell_type": "code",
   "execution_count": 24,
   "id": "2b13ed1e",
   "metadata": {},
   "outputs": [
    {
     "name": "stdout",
     "output_type": "stream",
     "text": [
      "[1, 4, 9, 16, 25]\n"
     ]
    }
   ],
   "source": [
    "print(list(sqrd_nums))"
   ]
  },
  {
   "cell_type": "markdown",
   "id": "c68fd2d8",
   "metadata": {},
   "source": [
    "#### Exercises: range()"
   ]
  },
  {
   "cell_type": "code",
   "execution_count": 25,
   "id": "fbb685d2",
   "metadata": {},
   "outputs": [
    {
     "name": "stdout",
     "output_type": "stream",
     "text": [
      "<class 'range'>\n",
      "[0, 1, 2, 3, 4, 5]\n",
      "[1, 3, 5, 7, 9, 11]\n"
     ]
    }
   ],
   "source": [
    "# Create a range object that goes from 0 to 5\n",
    "nums = range(6)\n",
    "print(type(nums))\n",
    "\n",
    "# Convert nums to a list\n",
    "nums_list = list(nums)\n",
    "print(nums_list)\n",
    "\n",
    "# Create a new list of odd numbers from 1 to 11 by unpacking a range object\n",
    "nums_list2 = [*range(1,12,2)]\n",
    "print(nums_list2)"
   ]
  },
  {
   "cell_type": "markdown",
   "id": "27d0f01e",
   "metadata": {},
   "source": [
    "#### Exercises: enumerate()"
   ]
  },
  {
   "cell_type": "code",
   "execution_count": 26,
   "id": "0e8be61b",
   "metadata": {},
   "outputs": [],
   "source": [
    "names = ['Jerry', 'Kramer', 'Elaine', 'George', 'Newman']"
   ]
  },
  {
   "cell_type": "markdown",
   "id": "b9a330a6",
   "metadata": {},
   "source": [
    "If you wanted to attach an index representing a person's arrival order, you could use the following for loop:\n",
    "\n",
    "```\n",
    "indexed_names = []\n",
    "for i in range(len(names)):\n",
    "    index_name = (i, names[i])\n",
    "    indexed_names.append(index_name)\n",
    "\n",
    "[(0,'Jerry'),(1,'Kramer'),(2,'Elaine'),(3,'George'),(4,'Newman')]\n",
    "```\n",
    "\n",
    "But, that's not the most efficient solution. Let's explore how to use `enumerate()` to make this more efficient."
   ]
  },
  {
   "cell_type": "code",
   "execution_count": 27,
   "id": "e9042b9d",
   "metadata": {},
   "outputs": [
    {
     "name": "stdout",
     "output_type": "stream",
     "text": [
      "[(0, 'Jerry'), (1, 'Kramer'), (2, 'Elaine'), (3, 'George'), (4, 'Newman')]\n"
     ]
    }
   ],
   "source": [
    "# Rewrite the for loop to use enumerate\n",
    "indexed_names = []\n",
    "for i, name in enumerate(names):\n",
    "    index_name = (i,name)\n",
    "    indexed_names.append(index_name) \n",
    "print(indexed_names)"
   ]
  },
  {
   "cell_type": "markdown",
   "id": "63d2361d",
   "metadata": {},
   "source": [
    "Rewrite the previous for loop using `enumerate()` and list comprehension to create a new list, `indexed_names_comp`."
   ]
  },
  {
   "cell_type": "code",
   "execution_count": 28,
   "id": "84ebdc1b",
   "metadata": {},
   "outputs": [
    {
     "name": "stdout",
     "output_type": "stream",
     "text": [
      "[(0, 'Jerry'), (1, 'Kramer'), (2, 'Elaine'), (3, 'George'), (4, 'Newman')]\n"
     ]
    }
   ],
   "source": [
    "# Rewrite the above for loop using list comprehension\n",
    "indexed_names_comp = [(i,name) for i,name in enumerate(names)]\n",
    "print(indexed_names_comp)"
   ]
  },
  {
   "cell_type": "markdown",
   "id": "f87285e9",
   "metadata": {},
   "source": [
    "Create another list (`indexed_names_unpack`) by using the star character (`*`) to unpack the *enumerate object* created from using `enumerate()` on `names`."
   ]
  },
  {
   "cell_type": "code",
   "execution_count": 29,
   "id": "569260f8",
   "metadata": {},
   "outputs": [
    {
     "name": "stdout",
     "output_type": "stream",
     "text": [
      "[(0, 'Jerry'), (1, 'Kramer'), (2, 'Elaine'), (3, 'George'), (4, 'Newman')]\n"
     ]
    }
   ],
   "source": [
    "print([*enumerate(names)])"
   ]
  },
  {
   "cell_type": "markdown",
   "id": "f0d272da",
   "metadata": {},
   "source": [
    "This time, start the index for `enumerate()` at one instead of zero."
   ]
  },
  {
   "cell_type": "code",
   "execution_count": 30,
   "id": "d8ae48d4",
   "metadata": {},
   "outputs": [
    {
     "name": "stdout",
     "output_type": "stream",
     "text": [
      "[(1, 'Jerry'), (2, 'Kramer'), (3, 'Elaine'), (4, 'George'), (5, 'Newman')]\n"
     ]
    }
   ],
   "source": [
    "print([*enumerate(names, 1)])"
   ]
  },
  {
   "cell_type": "markdown",
   "id": "079d449e",
   "metadata": {},
   "source": [
    "#### Exercises: `map()`\n",
    "Suppose you wanted to create a new list (called `names_uppercase`) that converted all the letters in each name to uppercase. you could accomplish this with the below for loop:\n",
    "\n",
    "```\n",
    "names_uppercase = []\n",
    "\n",
    "for name in names:\n",
    "  names_uppercase.append(name.upper())\n",
    "\n",
    "['JERRY', 'KRAMER', 'ELAINE', 'GEORGE', 'NEWMAN']\n",
    "```\n",
    "\n",
    "Let's explore using the `map()` function to do this more efficiently in one line of code."
   ]
  },
  {
   "cell_type": "code",
   "execution_count": 31,
   "id": "ea4560f8",
   "metadata": {},
   "outputs": [
    {
     "name": "stdout",
     "output_type": "stream",
     "text": [
      "<class 'map'>\n",
      "['JERRY', 'KRAMER', 'ELAINE', 'GEORGE', 'NEWMAN']\n"
     ]
    }
   ],
   "source": [
    "# Use map to apply str.upper to each element in names\n",
    "names_map  = map(str.upper, names)\n",
    "\n",
    "# Print the type of the names_map\n",
    "print(type(names_map))\n",
    "\n",
    "# Unpack names_map into a list\n",
    "names_uppercase = [*names_map]\n",
    "\n",
    "# Print the list created above\n",
    "print(names_uppercase)"
   ]
  },
  {
   "cell_type": "markdown",
   "id": "aa0add4b",
   "metadata": {},
   "source": [
    "### The power of NumPy arrays\n",
    "* NumPy arrays provide a fast and memory efficient alternative to Python lists\n",
    "* Numpy arrays are **homogeneous**, meaning they *must* contain elements of the same type.\n",
    "* Get type of each element using the `.dtype`. method\n",
    "* **Homogeneity allows NumPy arrays to be more memory efficient and faster than Python lists.**\n",
    "* Requiring that all elements be the same type eliminates the overhead needed for data type checking.\n",
    "\n",
    "### NumPy array broadcasting\n",
    "* When analyzing data, you'll often want to perform operations over entire collections of values quickly \n",
    "    * Python lists do *not* support broadcasting.\n",
    "* A big advantange of numpy arrays is their **broadcasting functionality.**\n",
    "* **NumPy arrays vectorize operations so they are performed on all elements of an object at once.**\n",
    "* This allows us to efficiently perform calculations over entire arrays\n",
    "\n",
    "```\n",
    "nums = [-2, -1, 0, 1, 2]\n",
    "nums ** 2\n",
    "TypeError: unsupported operand type(s) for ** or pow(): 'list' and 'int'\n",
    "```"
   ]
  },
  {
   "cell_type": "code",
   "execution_count": 32,
   "id": "8f0b4f22",
   "metadata": {},
   "outputs": [],
   "source": [
    "import numpy as np"
   ]
  },
  {
   "cell_type": "code",
   "execution_count": 33,
   "id": "2d8530ed",
   "metadata": {},
   "outputs": [
    {
     "data": {
      "text/plain": [
       "array([4, 1, 0, 1, 4])"
      ]
     },
     "execution_count": 33,
     "metadata": {},
     "output_type": "execute_result"
    }
   ],
   "source": [
    "nums_np = np.array([-2, -1, 0, 1, 2])\n",
    "nums_np ** 2"
   ]
  },
  {
   "cell_type": "markdown",
   "id": "4f4f71e0",
   "metadata": {},
   "source": [
    "* Notice that by squaring the `nums_np` array above, each **element** is square at once.\n",
    "\n",
    "#### NumPy array indexing\n",
    "* Another advantage of NumPy is its **indexing capabilities**\n",
    "* When comparing 1D lists with 1D np arrays, the indexing capabilities are identical. \n",
    "* However, when comparing 2D arrays and lists, the advantages of arrays are clear\n",
    "\n",
    "<img src='data/efficient1.png' width=\"600\" height=\"300\" align=\"center\"/>\n",
    "\n",
    "* Notice that with lists, we must use a list comprehension to return columns.\n",
    "\n",
    "#### NumPy array boolean indexing\n",
    "* Suppose we wanted to gather only positive numbers from the sequence below\n",
    "\n",
    "<img src='data/efficient2.png' width=\"600\" height=\"300\" align=\"center\"/>\n",
    "\n",
    "* To do this using a list, we need to either:\n",
    "    * Write a for loop to filter the list, or;\n",
    "    * Use a list comprehension\n",
    "* In either case, using a NumPy array to index is less verbose and has a faster runtime\n",
    "\n",
    "#### Exercises:\n",
    "\n",
    "```\n",
    "# Print second row of nums\n",
    "print(nums[1,:])\n",
    "\n",
    "# Print all elements of nums that are greater than six\n",
    "print(nums[nums > 6])\n",
    "\n",
    "# Double every element of nums\n",
    "nums_dbl = nums * 2\n",
    "print(nums_dbl)\n",
    "\n",
    "# Replace the third column of nums\n",
    "nums[:,2] = nums[:,2] + 1\n",
    "print(nums)\n",
    "```\n",
    "\n",
    "#### Exercises\n",
    "\n",
    "```\n",
    "# Create a list of arrival times\n",
    "arrival_times = [*range(10, 51, 10)]\n",
    "\n",
    "# Convert arrival_times to an array and update the times\n",
    "arrival_times_np = np.array(arrival_times)\n",
    "new_times = arrival_times_np - 3\n",
    "\n",
    "# Use list comprehension and enumerate to pair guests to new times\n",
    "guest_arrivals = [(names[guest],time) for guest,time in enumerate(new_times)]\n",
    "\n",
    "# Map the welcome_guest function to each (guest,time) pair\n",
    "welcome_map = map(welcome_guest, guest_arrivals)\n",
    "\n",
    "guest_welcomes = [*welcome_map]\n",
    "print(*guest_welcomes, sep='\\n')\n",
    "```"
   ]
  },
  {
   "cell_type": "markdown",
   "id": "2d868493",
   "metadata": {},
   "source": [
    "# $\\star$ Chapter 2: Timing and profiling code\n",
    "In this chapter, you will learn how to gather and compare runtimes between different coding approaches. You'll practice using the line_profiler and memory_profiler packages to profile your code base and spot bottlenecks. Then, you'll put your learnings to practice by replacing these bottlenecks with efficient Python code."
   ]
  },
  {
   "cell_type": "markdown",
   "id": "f0e2e3ff",
   "metadata": {},
   "source": [
    "### Examining runtime\n",
    "* Here, we will learn how to examine the runtime of our code\n",
    "* Runtime is an important consideration when thinking about efficiency\n",
    "* To compare runtimes, we need to be able to compute the runtime for a line or multiple lines of code\n",
    "* Calculate runtime with IPython magic command `%timeit`\n",
    "\n",
    "#### Magic commands\n",
    "* **Magic commands** are enhancements that have been added on top of normal Python syntax\n",
    "* These commands are prefixed with the percentage sign `%`\n",
    "* See all available magic commands with `%lsmagic`"
   ]
  },
  {
   "cell_type": "code",
   "execution_count": 34,
   "id": "85c9b5f4",
   "metadata": {},
   "outputs": [
    {
     "data": {
      "application/json": {
       "cell": {
        "!": "OSMagics",
        "HTML": "Other",
        "SVG": "Other",
        "bash": "Other",
        "capture": "ExecutionMagics",
        "debug": "ExecutionMagics",
        "file": "Other",
        "html": "DisplayMagics",
        "javascript": "DisplayMagics",
        "js": "DisplayMagics",
        "latex": "DisplayMagics",
        "markdown": "DisplayMagics",
        "perl": "Other",
        "prun": "ExecutionMagics",
        "pypy": "Other",
        "python": "Other",
        "python2": "Other",
        "python3": "Other",
        "ruby": "Other",
        "script": "ScriptMagics",
        "sh": "Other",
        "svg": "DisplayMagics",
        "sx": "OSMagics",
        "system": "OSMagics",
        "time": "ExecutionMagics",
        "timeit": "ExecutionMagics",
        "writefile": "OSMagics"
       },
       "line": {
        "alias": "OSMagics",
        "alias_magic": "BasicMagics",
        "autoawait": "AsyncMagics",
        "autocall": "AutoMagics",
        "automagic": "AutoMagics",
        "autosave": "KernelMagics",
        "bookmark": "OSMagics",
        "cat": "Other",
        "cd": "OSMagics",
        "clear": "KernelMagics",
        "colors": "BasicMagics",
        "conda": "PackagingMagics",
        "config": "ConfigMagics",
        "connect_info": "KernelMagics",
        "cp": "Other",
        "debug": "ExecutionMagics",
        "dhist": "OSMagics",
        "dirs": "OSMagics",
        "doctest_mode": "BasicMagics",
        "ed": "Other",
        "edit": "KernelMagics",
        "env": "OSMagics",
        "gui": "BasicMagics",
        "hist": "Other",
        "history": "HistoryMagics",
        "killbgscripts": "ScriptMagics",
        "ldir": "Other",
        "less": "KernelMagics",
        "lf": "Other",
        "lk": "Other",
        "ll": "Other",
        "load": "CodeMagics",
        "load_ext": "ExtensionMagics",
        "loadpy": "CodeMagics",
        "logoff": "LoggingMagics",
        "logon": "LoggingMagics",
        "logstart": "LoggingMagics",
        "logstate": "LoggingMagics",
        "logstop": "LoggingMagics",
        "ls": "Other",
        "lsmagic": "BasicMagics",
        "lx": "Other",
        "macro": "ExecutionMagics",
        "magic": "BasicMagics",
        "man": "KernelMagics",
        "matplotlib": "PylabMagics",
        "mkdir": "Other",
        "more": "KernelMagics",
        "mv": "Other",
        "notebook": "BasicMagics",
        "page": "BasicMagics",
        "pastebin": "CodeMagics",
        "pdb": "ExecutionMagics",
        "pdef": "NamespaceMagics",
        "pdoc": "NamespaceMagics",
        "pfile": "NamespaceMagics",
        "pinfo": "NamespaceMagics",
        "pinfo2": "NamespaceMagics",
        "pip": "PackagingMagics",
        "popd": "OSMagics",
        "pprint": "BasicMagics",
        "precision": "BasicMagics",
        "prun": "ExecutionMagics",
        "psearch": "NamespaceMagics",
        "psource": "NamespaceMagics",
        "pushd": "OSMagics",
        "pwd": "OSMagics",
        "pycat": "OSMagics",
        "pylab": "PylabMagics",
        "qtconsole": "KernelMagics",
        "quickref": "BasicMagics",
        "recall": "HistoryMagics",
        "rehashx": "OSMagics",
        "reload_ext": "ExtensionMagics",
        "rep": "Other",
        "rerun": "HistoryMagics",
        "reset": "NamespaceMagics",
        "reset_selective": "NamespaceMagics",
        "rm": "Other",
        "rmdir": "Other",
        "run": "ExecutionMagics",
        "save": "CodeMagics",
        "sc": "OSMagics",
        "set_env": "OSMagics",
        "store": "StoreMagics",
        "sx": "OSMagics",
        "system": "OSMagics",
        "tb": "ExecutionMagics",
        "time": "ExecutionMagics",
        "timeit": "ExecutionMagics",
        "unalias": "OSMagics",
        "unload_ext": "ExtensionMagics",
        "who": "NamespaceMagics",
        "who_ls": "NamespaceMagics",
        "whos": "NamespaceMagics",
        "xdel": "NamespaceMagics",
        "xmode": "BasicMagics"
       }
      },
      "text/plain": [
       "Available line magics:\n",
       "%alias  %alias_magic  %autoawait  %autocall  %automagic  %autosave  %bookmark  %cat  %cd  %clear  %colors  %conda  %config  %connect_info  %cp  %debug  %dhist  %dirs  %doctest_mode  %ed  %edit  %env  %gui  %hist  %history  %killbgscripts  %ldir  %less  %lf  %lk  %ll  %load  %load_ext  %loadpy  %logoff  %logon  %logstart  %logstate  %logstop  %ls  %lsmagic  %lx  %macro  %magic  %man  %matplotlib  %mkdir  %more  %mv  %notebook  %page  %pastebin  %pdb  %pdef  %pdoc  %pfile  %pinfo  %pinfo2  %pip  %popd  %pprint  %precision  %prun  %psearch  %psource  %pushd  %pwd  %pycat  %pylab  %qtconsole  %quickref  %recall  %rehashx  %reload_ext  %rep  %rerun  %reset  %reset_selective  %rm  %rmdir  %run  %save  %sc  %set_env  %store  %sx  %system  %tb  %time  %timeit  %unalias  %unload_ext  %who  %who_ls  %whos  %xdel  %xmode\n",
       "\n",
       "Available cell magics:\n",
       "%%!  %%HTML  %%SVG  %%bash  %%capture  %%debug  %%file  %%html  %%javascript  %%js  %%latex  %%markdown  %%perl  %%prun  %%pypy  %%python  %%python2  %%python3  %%ruby  %%script  %%sh  %%svg  %%sx  %%system  %%time  %%timeit  %%writefile\n",
       "\n",
       "Automagic is ON, % prefix IS NOT needed for line magics."
      ]
     },
     "execution_count": 34,
     "metadata": {},
     "output_type": "execute_result"
    }
   ],
   "source": [
    "%lsmagic"
   ]
  },
  {
   "cell_type": "markdown",
   "id": "ea9a88fe",
   "metadata": {},
   "source": [
    "* Using a magic command (like `%timeit` for example) just **requires adding the magic command before the line of code we want to analyze.**"
   ]
  },
  {
   "cell_type": "code",
   "execution_count": 35,
   "id": "af74ae17",
   "metadata": {},
   "outputs": [
    {
     "name": "stdout",
     "output_type": "stream",
     "text": [
      "5.78 µs ± 138 ns per loop (mean ± std. dev. of 7 runs, 100000 loops each)\n"
     ]
    }
   ],
   "source": [
    "%timeit rand_nums = np.random.rand(1000)"
   ]
  },
  {
   "cell_type": "code",
   "execution_count": 36,
   "id": "693644da",
   "metadata": {},
   "outputs": [
    {
     "name": "stdout",
     "output_type": "stream",
     "text": [
      "5.85 µs ± 204 ns per loop (mean ± std. dev. of 7 runs, 100000 loops each)\n"
     ]
    }
   ],
   "source": [
    "timeit rand_nums = np.random.rand(1000)"
   ]
  },
  {
   "cell_type": "markdown",
   "id": "dead7d33",
   "metadata": {},
   "source": [
    "* Note that when `Automagic` is `ON`, you don't need the `%` to run the code. $\\Uparrow$\n",
    "* One advantage to using `%timeit` is the fact that **it provides an average of timing statistics.**\n",
    "* Above, `5.86` and `5.87` $\\mu$s describe the **mean** running times, while `39.7` and `94.7` $\\mu$s describe the **standard deviations** of running times. \n",
    "* We can also see that multiple runs and loops were generated\n",
    "* `%timeit` runs through the provided code multiple times to estimate the code's execution time. \n",
    "\n",
    "#### Specifying number of runs/loops\n",
    "* Setting the number of runs(`-r`) and/or loops (`-n`) "
   ]
  },
  {
   "cell_type": "code",
   "execution_count": 37,
   "id": "8cb98bd0",
   "metadata": {},
   "outputs": [
    {
     "name": "stdout",
     "output_type": "stream",
     "text": [
      "The slowest run took 8.61 times longer than the fastest. This could mean that an intermediate result is being cached.\n",
      "28.4 µs ± 22.5 µs per loop (mean ± std. dev. of 2 runs, 10 loops each)\n"
     ]
    }
   ],
   "source": [
    "# Set number of runs to 2 (-r2)\n",
    "# Set number of loops to 10 (-n10)\n",
    "\n",
    "%timeit -r2 -n10 rand_nums = np.random.rand(1000)"
   ]
  },
  {
   "cell_type": "markdown",
   "id": "bd1fac80",
   "metadata": {},
   "source": [
    "* Regarding above message: see [Stack Overflow](https://stackoverflow.com/questions/29759883/what-does-an-intermediate-result-is-being-cached-mean)\n",
    "\n",
    "### Using `%timeit` in line magic mode\n",
    "* Another useful feature of `%timeit` is its ability to run on single *or* multiple lines of code.\n",
    "* When using `%timeit` in **line magic mode**, or with a single line of code, **one percentage sign is used.**\n",
    "\n",
    "### Using `%timeit` in cell magic mode\n",
    "* Cell magic (`%%timeit`)\n",
    "* We can also run `%timeit` in **cell magic mode** (or providing multiple lines of code) by using **two percentage signs**\n",
    "* **Note that `%%timeit` *must* be the first thing in the cell for it to run in cell magic mode (this includes comments!!)**"
   ]
  },
  {
   "cell_type": "code",
   "execution_count": 38,
   "id": "0abd77ea",
   "metadata": {},
   "outputs": [],
   "source": [
    "# timeit with multiple lines of code"
   ]
  },
  {
   "cell_type": "code",
   "execution_count": 39,
   "id": "9e35b27a",
   "metadata": {},
   "outputs": [
    {
     "name": "stdout",
     "output_type": "stream",
     "text": [
      "558 ns ± 14.6 ns per loop (mean ± std. dev. of 7 runs, 1000000 loops each)\n"
     ]
    }
   ],
   "source": [
    "%%timeit\n",
    "nums = []\n",
    "for x in range(10):\n",
    "    nums.append(x)"
   ]
  },
  {
   "cell_type": "markdown",
   "id": "6099897d",
   "metadata": {},
   "source": [
    "#### Saving output\n",
    "* We can save the output of `%timeit` into a variable using the `-o` flag\n",
    "* This allows us to dig deeper into the output and see things like:\n",
    "    * The time for each run\n",
    "    * The best time for alll runs\n",
    "    * The worst time for all runs"
   ]
  },
  {
   "cell_type": "code",
   "execution_count": 40,
   "id": "2203813b",
   "metadata": {},
   "outputs": [
    {
     "name": "stdout",
     "output_type": "stream",
     "text": [
      "5.83 µs ± 156 ns per loop (mean ± std. dev. of 7 runs, 100000 loops each)\n"
     ]
    }
   ],
   "source": [
    "times = %timeit -o rand_nums = np.random.rand(1000)"
   ]
  },
  {
   "cell_type": "code",
   "execution_count": 41,
   "id": "c25af1ba",
   "metadata": {},
   "outputs": [
    {
     "data": {
      "text/plain": [
       "[5.860627489999999e-06,\n",
       " 5.6064580500000005e-06,\n",
       " 6.008793770000053e-06,\n",
       " 5.710709280000046e-06,\n",
       " 6.083111250000002e-06,\n",
       " 5.7969191500000505e-06,\n",
       " 5.741944350000026e-06]"
      ]
     },
     "execution_count": 41,
     "metadata": {},
     "output_type": "execute_result"
    }
   ],
   "source": [
    "times.timings"
   ]
  },
  {
   "cell_type": "code",
   "execution_count": 42,
   "id": "494e2f10",
   "metadata": {},
   "outputs": [
    {
     "data": {
      "text/plain": [
       "5.6064580500000005e-06"
      ]
     },
     "execution_count": 42,
     "metadata": {},
     "output_type": "execute_result"
    }
   ],
   "source": [
    "times.best"
   ]
  },
  {
   "cell_type": "code",
   "execution_count": 43,
   "id": "531335d1",
   "metadata": {},
   "outputs": [
    {
     "data": {
      "text/plain": [
       "6.083111250000002e-06"
      ]
     },
     "execution_count": 43,
     "metadata": {},
     "output_type": "execute_result"
    }
   ],
   "source": [
    "times.worst"
   ]
  },
  {
   "cell_type": "markdown",
   "id": "b4c64c7a",
   "metadata": {},
   "source": [
    "### Comparing times\n",
    "* Python data structures can be created using **formal name** (`list()`, `dict()`, or `tuple()`), or;\n",
    "* Shorthand, called **literal syntax**"
   ]
  },
  {
   "cell_type": "markdown",
   "id": "ac171306",
   "metadata": {},
   "source": [
    "<img src='data/efficient4.png' width=\"400\" height=\"200\" align=\"center\"/>"
   ]
  },
  {
   "cell_type": "code",
   "execution_count": 44,
   "id": "0a79ef57",
   "metadata": {},
   "outputs": [],
   "source": [
    "# Formal name\n",
    "formal_list = list()\n",
    "formal_dict = dict()\n",
    "formal_tuple = tuple()\n",
    "\n",
    "# Literal syntax:\n",
    "literal_list = []\n",
    "literal_dict = {}\n",
    "literal_tuple = ()"
   ]
  },
  {
   "cell_type": "code",
   "execution_count": 46,
   "id": "5d9a5a12",
   "metadata": {},
   "outputs": [
    {
     "name": "stdout",
     "output_type": "stream",
     "text": [
      "63.8 ns ± 1.44 ns per loop (mean ± std. dev. of 7 runs, 10000000 loops each)\n"
     ]
    }
   ],
   "source": [
    "%timeit formal_dict = dict()"
   ]
  },
  {
   "cell_type": "code",
   "execution_count": 47,
   "id": "51b41c88",
   "metadata": {},
   "outputs": [
    {
     "name": "stdout",
     "output_type": "stream",
     "text": [
      "17.5 ns ± 0.27 ns per loop (mean ± std. dev. of 7 runs, 100000000 loops each)\n"
     ]
    }
   ],
   "source": [
    "%timeit literal_dict = {}"
   ]
  },
  {
   "cell_type": "markdown",
   "id": "6ae279aa",
   "metadata": {},
   "source": [
    "* As demonstrated, **literal syntax is much more efficient than formal syntax**\n",
    "* For your convenience, a reference table of time orders of magnitude is provided below (faster at the top).\n",
    "\n",
    "<img src='data/efficient3.png' width=\"400\" height=\"200\" align=\"center\"/>\n",
    "\n",
    "#### Exercises"
   ]
  },
  {
   "cell_type": "code",
   "execution_count": 48,
   "id": "1494d462",
   "metadata": {},
   "outputs": [
    {
     "name": "stdout",
     "output_type": "stream",
     "text": [
      "[0, 1, 2, 3, 4, 5, 6, 7, 8, 9, 10, 11, 12, 13, 14, 15, 16, 17, 18, 19, 20, 21, 22, 23, 24, 25, 26, 27, 28, 29, 30, 31, 32, 33, 34, 35, 36, 37, 38, 39, 40, 41, 42, 43, 44, 45, 46, 47, 48, 49, 50]\n"
     ]
    }
   ],
   "source": [
    "# Create a list of integers (0-50) using list comprehension\n",
    "nums_list_comp = [num for num in range(51)]\n",
    "print(nums_list_comp)"
   ]
  },
  {
   "cell_type": "code",
   "execution_count": 50,
   "id": "cb812b43",
   "metadata": {},
   "outputs": [
    {
     "name": "stdout",
     "output_type": "stream",
     "text": [
      "1.19 µs ± 31.5 ns per loop (mean ± std. dev. of 7 runs, 1000000 loops each)\n"
     ]
    }
   ],
   "source": [
    "%timeit nums_list_comp = [num for num in range(51)]"
   ]
  },
  {
   "cell_type": "code",
   "execution_count": 49,
   "id": "e162f7b7",
   "metadata": {},
   "outputs": [
    {
     "name": "stdout",
     "output_type": "stream",
     "text": [
      "[0, 1, 2, 3, 4, 5, 6, 7, 8, 9, 10, 11, 12, 13, 14, 15, 16, 17, 18, 19, 20, 21, 22, 23, 24, 25, 26, 27, 28, 29, 30, 31, 32, 33, 34, 35, 36, 37, 38, 39, 40, 41, 42, 43, 44, 45, 46, 47, 48, 49, 50]\n"
     ]
    }
   ],
   "source": [
    "# Create a list of integers (0-50) by unpacking range\n",
    "nums_unpack = [*range(51)]\n",
    "print(nums_unpack)"
   ]
  },
  {
   "cell_type": "code",
   "execution_count": 51,
   "id": "0c9e810b",
   "metadata": {},
   "outputs": [
    {
     "name": "stdout",
     "output_type": "stream",
     "text": [
      "442 ns ± 10.4 ns per loop (mean ± std. dev. of 7 runs, 1000000 loops each)\n"
     ]
    }
   ],
   "source": [
    "%timeit nums_unpack = [*range(51)]"
   ]
  },
  {
   "cell_type": "markdown",
   "id": "51263aa0",
   "metadata": {},
   "source": [
    "**Note that unpacking the range function was much quicker than using list comprehension** (notice units)\n",
    "\n",
    "#### Exercises"
   ]
  },
  {
   "cell_type": "code",
   "execution_count": 52,
   "id": "556e7d0e",
   "metadata": {},
   "outputs": [
    {
     "name": "stdout",
     "output_type": "stream",
     "text": [
      "[]\n",
      "[]\n"
     ]
    }
   ],
   "source": [
    "# Create a list using the formal name\n",
    "formal_list = list()\n",
    "print(formal_list)\n",
    "\n",
    "# Create a list using the literal syntax\n",
    "literal_list = []\n",
    "print(literal_list)"
   ]
  },
  {
   "cell_type": "code",
   "execution_count": 53,
   "id": "507f8962",
   "metadata": {},
   "outputs": [
    {
     "name": "stdout",
     "output_type": "stream",
     "text": [
      "9.56 ns ± 0.154 ns per loop (mean ± std. dev. of 7 runs, 100000000 loops each)\n"
     ]
    }
   ],
   "source": [
    "%timeit literal_list = ()"
   ]
  },
  {
   "cell_type": "code",
   "execution_count": 54,
   "id": "c7cc3557",
   "metadata": {},
   "outputs": [
    {
     "name": "stdout",
     "output_type": "stream",
     "text": [
      "16.7 ns ± 0.637 ns per loop (mean ± std. dev. of 7 runs, 100000000 loops each)\n"
     ]
    }
   ],
   "source": [
    "%timeit literal_list = []"
   ]
  },
  {
   "cell_type": "markdown",
   "id": "a80d3dfd",
   "metadata": {},
   "source": [
    "**Note, again, that literal syntax is faster and more efficient**"
   ]
  },
  {
   "cell_type": "markdown",
   "id": "c6721b53",
   "metadata": {},
   "source": [
    "## Code profiling for runtime\n",
    "* `%timeit` works well with bite-sized code.\n",
    "* But what if we wanted to time a large code base or see the line-by-line runtimes within a function\n",
    "* In this lesson, we'll cover a concept called **code profiling** that allows us to analyze code more efficiently\n",
    "\n",
    "### Code profiling\n",
    "* **Code profiling** is a technique used to describe how long, and how often, various parts of a program are executed\n",
    "* Detailed stats on frequency and duration of function calls\n",
    "* Line-by-line analyses\n",
    "* Package used: `line_profiler`"
   ]
  },
  {
   "cell_type": "code",
   "execution_count": 55,
   "id": "52e10508",
   "metadata": {},
   "outputs": [],
   "source": [
    "heroes = ['Batman', 'Superman', 'Wonder Woman']\n",
    "\n",
    "hts = np.array([188.0, 191, 183.0])\n",
    "\n",
    "wts = np.array([95.0, 101.0, 74.0])"
   ]
  },
  {
   "cell_type": "code",
   "execution_count": 56,
   "id": "5f7a6e64",
   "metadata": {},
   "outputs": [],
   "source": [
    "def convert_units(heroes, heights, weights):\n",
    "    \"\"\"Converts each hero's height from centimeters to inches and weight from kilograms to pounds\"\"\"\n",
    "    \n",
    "    new_hts = [ht * 0.39370 for ht in heights]\n",
    "    new_wts = [wt * 2.20462 for wt in weights]\n",
    "    \n",
    "    hero_data = {}\n",
    "    \n",
    "    for i, hero in enumerate(heroes):\n",
    "        hero_data[hero] = (new_hts[i], new_wts[i])\n",
    "        \n",
    "    return hero_data"
   ]
  },
  {
   "cell_type": "code",
   "execution_count": 57,
   "id": "646f15af",
   "metadata": {},
   "outputs": [
    {
     "data": {
      "text/plain": [
       "{'Batman': (74.01559999999999, 209.4389),\n",
       " 'Superman': (75.19669999999999, 222.66661999999997),\n",
       " 'Wonder Woman': (72.0471, 163.14188)}"
      ]
     },
     "execution_count": 57,
     "metadata": {},
     "output_type": "execute_result"
    }
   ],
   "source": [
    "convert_units(heroes, hts, wts)"
   ]
  },
  {
   "cell_type": "markdown",
   "id": "183ad919",
   "metadata": {},
   "source": [
    "### Code profiling: runtime\n",
    "* If we wanted to get an estimated runtime of this function, we could use `%timeit`, but this would only give us a *total* execution time:"
   ]
  },
  {
   "cell_type": "code",
   "execution_count": 58,
   "id": "2bdf9b6e",
   "metadata": {},
   "outputs": [
    {
     "name": "stdout",
     "output_type": "stream",
     "text": [
      "2.51 µs ± 70.7 ns per loop (mean ± std. dev. of 7 runs, 100000 loops each)\n"
     ]
    }
   ],
   "source": [
    "%timeit convert_units(heroes, hts, wts)"
   ]
  },
  {
   "cell_type": "markdown",
   "id": "46494018",
   "metadata": {},
   "source": [
    "* What if we wanted to see **how long each line within the function took to run**?\n",
    "* We would have to use `%timeit` on each individual line of our `convert_units` function\n",
    "    * But that is obviously not very efficient at all \n",
    "    \n",
    "### Code profiling: line_profiler\n",
    "* Instead, we can profile our function with the `line_profiler` package\n",
    "* To load `line_profiler`, we use the command `%load_ext line_profiler` as below $\\Downarrow$"
   ]
  },
  {
   "cell_type": "code",
   "execution_count": 59,
   "id": "00c31746",
   "metadata": {},
   "outputs": [],
   "source": [
    "%load_ext line_profiler"
   ]
  },
  {
   "cell_type": "markdown",
   "id": "9e69ac14",
   "metadata": {},
   "source": [
    "* Now we can use the magic command `%lprun` from `line_profiler`, to gather runtimes for individual lines of code within the `convert_units` function\n",
    "* **Note** that `%lprun` uses a special syntax\n",
    "    * First, we use the `-f` flag to indicate we'd like to profile a function\n",
    "    * Next, we specify the name of the function we'd like to profile\n",
    "    * **Note** that the name of the function is passed without any parentheses\n",
    "    * Finally, we provide the exact function call we'd like to profile by including any arguments that are needed"
   ]
  },
  {
   "cell_type": "code",
   "execution_count": 60,
   "id": "7263290b",
   "metadata": {},
   "outputs": [],
   "source": [
    "%lprun -f convert_units convert_units(heroes, hts, wts)"
   ]
  },
  {
   "cell_type": "markdown",
   "id": "57912c1b",
   "metadata": {},
   "source": [
    "<img src='data/efficient5.png' width=\"1000\" height=\"500\" align=\"center\"/>\n",
    "\n",
    "* **Hits**: number of times a given line was executed\n",
    "* **Time**: uses a specific timer unit that can be found in the first line of the output\n",
    "\n",
    "<img src='data/efficient6.png' width=\"500\" height=\"250\" align=\"center\"/>"
   ]
  },
  {
   "cell_type": "markdown",
   "id": "65a1577e",
   "metadata": {},
   "source": [
    "* You might have noticed that \"Total\" time reported when using `%lprun` and the time reported from using `%timeit` do not match.\n",
    "* `%timeit` uses multiple loops in order to clculate an average and standard deviation of time, so the time reported from each of these magic commands aren't expected to match exactly"
   ]
  },
  {
   "cell_type": "markdown",
   "id": "0d631f54",
   "metadata": {},
   "source": [
    "#### Exercises: Using `lprun`: spot bottlenecks\n",
    "\n",
    "Profiling a function allows you to dig deeper into the function's source code and potentially spot bottlenecks. When you see certain lines of code taking up the majority of the function's runtime, it is an indication that you may want to deploy a different, more efficient technique."
   ]
  },
  {
   "cell_type": "markdown",
   "id": "60c0b027",
   "metadata": {},
   "source": [
    "### Code profiling for memory usage\n",
    "* We've defined efficient code as code that has a minimal runtime and a small memory footprint\n",
    "* In this lesson, we'll cover a few techniques on how to evaluate our code's memory\n",
    "\n",
    "#### Quick and dirty approach\n",
    "* One basic approach for inspecting memory consumption is using Python's built-in module **`sys`**\n",
    "* Important note on `sys`: [Built-in vs imported](https://stackoverflow.com/questions/51277119/what-does-it-mean-that-the-sys-module-is-built-into-every-python-interpreter)\n",
    "* This module contains system-specific functions and contains a nice methd called **`sys.getsizeof()`** that **returns the size of an object in bytes**."
   ]
  },
  {
   "cell_type": "code",
   "execution_count": 61,
   "id": "6f47828e",
   "metadata": {},
   "outputs": [],
   "source": [
    "import sys"
   ]
  },
  {
   "cell_type": "code",
   "execution_count": 62,
   "id": "b671b4ea",
   "metadata": {},
   "outputs": [
    {
     "data": {
      "text/plain": [
       "9104"
      ]
     },
     "execution_count": 62,
     "metadata": {},
     "output_type": "execute_result"
    }
   ],
   "source": [
    "nums_list = [*range(1000)]\n",
    "sys.getsizeof(nums_list)"
   ]
  },
  {
   "cell_type": "markdown",
   "id": "3ba224f8",
   "metadata": {},
   "source": [
    "* **`sys.getsizeof()`** is a quick and dirty way to see the size of an object\n",
    "* But, this only gives us the size of an individual object\n",
    "* What if we wanted to inspect the line-by-line memory footprint of our code? $\\Rightarrow$ **code profiler**\n",
    "\n",
    "### Code profiling: memory\n",
    "* Detailed stats on memory consumption\n",
    "* Line-by-line analyses\n",
    "* Package used: **`memory_profiler`** (very similar to `line_profiler` package)"
   ]
  },
  {
   "cell_type": "code",
   "execution_count": 64,
   "id": "f96cc3b4",
   "metadata": {},
   "outputs": [],
   "source": [
    "%load_ext memory_profiler"
   ]
  },
  {
   "cell_type": "code",
   "execution_count": 65,
   "id": "0287be64",
   "metadata": {},
   "outputs": [
    {
     "name": "stdout",
     "output_type": "stream",
     "text": [
      "ERROR: Could not find file <ipython-input-56-31aefffa621a>\n",
      "NOTE: %mprun can only be used on functions defined in physical files, and not in the IPython environment.\n",
      "\n"
     ]
    }
   ],
   "source": [
    "%mprun -f convert_units convert_units(heroes, hts, wts)"
   ]
  },
  {
   "cell_type": "markdown",
   "id": "6665b0ef",
   "metadata": {},
   "source": [
    "* **NOTE** One drawback to using `%mprun` is that any function profiled for memory consumption must be defined in a file and imported. (**see above**)\n",
    "* `%mprun` can only be used on functions defined in physical files, and not in the IPython session.\n",
    "* In order to run `%mprun` on `convert_units`, the `convert_units()` function must be placed in a file (for example `hero_funcs.py`) and then imported, using `from hero_funcs import convert_units`\n",
    "\n",
    "<img src='data/efficient7.png' width=\"600\" height=\"300\" align=\"center\"/>"
   ]
  },
  {
   "cell_type": "markdown",
   "id": "d300d8b8",
   "metadata": {},
   "source": [
    "* `%mprun` output is similar to `%lprun` output\n",
    "* Profiling a function with `%mprun` allows us to see what lines are taking up a large amount of memory and possibly develop a more efficient solution\n",
    "* **Note** that the memory is reported in **mebibytes**; although one mebibyte is not exactly the same as one megabyte, for our purposes, we can assume they are close enough to mean the same thing: [full definition here](https://www.techtarget.com/searchstorage/definition/mebibyte-MiB)\n",
    "* **Note** also that small memory allocation may not show up when using `%mprun` and that is a perfectly fine result.\n",
    "\n",
    "#### `%mprun` output caveats\n",
    "* Small memory allocations could result in `0.0 MiB` output\n",
    "\n",
    "<img src='data/efficient8.png' width=\"600\" height=\"300\" align=\"center\"/>\n",
    "\n",
    "* Inspects memory by querying the operating system\n",
    "* This might be slightly different from the amount of memory that is actually used by the Python interpreter\n",
    "* Thus, results may differ between platforms and runs\n",
    "    * Can still observe how each line of code compares to others based on memory consumption\n",
    "\n",
    "```\n",
    "%load_ext memory_profiler\n",
    "\n",
    "from bmi_lists import calc_bmi_lists\n",
    "\n",
    "%mprun -f calc_bmi_lists calc_bmi_lists(sample_indices, hts, wts)\n",
    "```\n",
    "***\n",
    "\n",
    "```\n",
    "%load_ext memory_profiler\n",
    "\n",
    "from bmi_arrays import calc_bmi_arrays\n",
    "\n",
    "%mprun -f calc_bmi_arrays calc_bmi_arrays(sample_indices, hts, wts)\n",
    "```\n",
    "***\n",
    "\n",
    "```\n",
    "# Use get_publisher_heroes() to gather Star Wars heroes\n",
    "star_wars_heroes = get_publisher_heroes(heroes, publishers, 'George Lucas')\n",
    "\n",
    "print(star_wars_heroes)\n",
    "print(type(star_wars_heroes))\n",
    "\n",
    "# Use get_publisher_heroes_np() to gather Star Wars heroes\n",
    "star_wars_heroes_np = get_publisher_heroes_np(heroes, publishers, 'George Lucas')\n",
    "\n",
    "print(star_wars_heroes_np)\n",
    "print(type(star_wars_heroes_np))\n",
    "```"
   ]
  },
  {
   "cell_type": "markdown",
   "id": "a978f1ca",
   "metadata": {},
   "source": [
    "# $\\star$ Chapter 3: Gaining efficiencies\n",
    "This chapter covers more complex efficiency tips and tricks. You'll learn a few useful built-in modules for writing efficient code and practice using set theory. You'll then learn about looping patterns in Python and how to make them more efficient."
   ]
  },
  {
   "cell_type": "markdown",
   "id": "0f39d7ce",
   "metadata": {},
   "source": [
    "## Efficiently combining, counting, and iterating\n",
    "#### Combining objects"
   ]
  },
  {
   "cell_type": "code",
   "execution_count": 66,
   "id": "b81d846e",
   "metadata": {},
   "outputs": [],
   "source": [
    "names = ['Bulbasaur', 'Charmander', 'Squirtle']\n",
    "hps = [45, 39, 44]"
   ]
  },
  {
   "cell_type": "code",
   "execution_count": 67,
   "id": "15658cac",
   "metadata": {},
   "outputs": [
    {
     "name": "stdout",
     "output_type": "stream",
     "text": [
      "[('Bulbasaur', 45), ('Charmander', 39), ('Squirtle', 44)]\n"
     ]
    }
   ],
   "source": [
    "combined = []\n",
    "\n",
    "for i,pokemon in enumerate(names):\n",
    "    combined.append((pokemon, hps[i]))\n",
    "    \n",
    "print(combined)"
   ]
  },
  {
   "cell_type": "markdown",
   "id": "3d83e474",
   "metadata": {},
   "source": [
    "### Combining objects with zip\n",
    "* Python's built-in function `zip` provides a more elegant solution"
   ]
  },
  {
   "cell_type": "code",
   "execution_count": 81,
   "id": "4c8e6a7f",
   "metadata": {},
   "outputs": [],
   "source": [
    "combined_zip = zip(names, hps)"
   ]
  },
  {
   "cell_type": "code",
   "execution_count": 82,
   "id": "5a2be5c6",
   "metadata": {},
   "outputs": [
    {
     "data": {
      "text/plain": [
       "<zip at 0x7fccb898e340>"
      ]
     },
     "execution_count": 82,
     "metadata": {},
     "output_type": "execute_result"
    }
   ],
   "source": [
    "combined_zip"
   ]
  },
  {
   "cell_type": "code",
   "execution_count": 83,
   "id": "9de009a3",
   "metadata": {},
   "outputs": [
    {
     "data": {
      "text/plain": [
       "[('Bulbasaur', 45), ('Charmander', 39), ('Squirtle', 44)]"
      ]
     },
     "execution_count": 83,
     "metadata": {},
     "output_type": "execute_result"
    }
   ],
   "source": [
    "combined_list = list(combined_zip)\n",
    "combined_list"
   ]
  },
  {
   "cell_type": "markdown",
   "id": "b3969211",
   "metadata": {},
   "source": [
    "**OR unpack:**"
   ]
  },
  {
   "cell_type": "code",
   "execution_count": 88,
   "id": "cd2d8ef9",
   "metadata": {},
   "outputs": [],
   "source": [
    "combined_zip = zip(names, hps)"
   ]
  },
  {
   "cell_type": "code",
   "execution_count": 89,
   "id": "4144880c",
   "metadata": {},
   "outputs": [
    {
     "data": {
      "text/plain": [
       "[('Bulbasaur', 45), ('Charmander', 39), ('Squirtle', 44)]"
      ]
     },
     "execution_count": 89,
     "metadata": {},
     "output_type": "execute_result"
    }
   ],
   "source": [
    "combined_zip_list = [*combined_zip]\n",
    "combined_zip_list"
   ]
  },
  {
   "cell_type": "markdown",
   "id": "d0637c70",
   "metadata": {},
   "source": [
    "## The collections module\n",
    "* Part of Python's Standare Library (built-in module)\n",
    "* Specialized container datatypes\n",
    "    * Alternatives to general purpose `dict`, `list`, `set`, and `tuple`\n",
    "* **$\\star$ Notable $\\star$ :**\n",
    "    * **`namedtuple`** : tuple subclasses with named fields\n",
    "    * **`deque`** : list-like container with fast appends and pops\n",
    "    * **`Counter`** : dict for counting hashing objects\n",
    "    * **`OrderedDict`** : dict that retains order of entries\n",
    "    * **`defaultdict`** : dict that calls a factory function to supply missing values"
   ]
  },
  {
   "cell_type": "markdown",
   "id": "fcd5ca89",
   "metadata": {},
   "source": [
    "### Counting with loop\n",
    "* Recall that our Pokémon dataset describes 720 characters\n",
    "* In the example below, we have a list of each Pokémon's corresponding type\n",
    "* We'd like to create a dictionary where each key is a Pokémon type, and each value is the count of characters that belong to that type\n",
    "* Using the standard dictionary approach, we have to instantiate an empty output dictionary and then iterate over the `poke_types` list and check whether or not each `poke_type` exists within the `type_counts` dictionary\n",
    "\n",
    "<img src='data/efficient9.png' width=\"600\" height=\"300\" align=\"center\"/>"
   ]
  },
  {
   "cell_type": "markdown",
   "id": "16c4b957",
   "metadata": {},
   "source": [
    "### collections.Counter()\n",
    "* Using `Counter` from the `collections` module is a more efficient approach\n",
    "* **`Counter()`** returns a Counter dictionary of key-value pairs\n",
    "* When printed, it's ordered by highest to lowest counts\n",
    "\n",
    "<img src='data/efficient10.png' width=\"600\" height=\"300\" align=\"center\"/>\n",
    "\n",
    "* **If comparing runtime times, we'd see that using Counter takes half the time as the standard dictionary approach.**"
   ]
  },
  {
   "cell_type": "markdown",
   "id": "575dc881",
   "metadata": {},
   "source": [
    "## The itertools module\n",
    "* Part of Python's Standard Library (built-in module)\n",
    "* `itertools` contains functional tools for creating and using iterators\n",
    "* Notable subset of these tools:\n",
    "    * **Infinite iterators** : `count`, `cycle`, `repeat`\n",
    "    * **Finite iterators** : `accumulate`, `chain`, `zip_longest`, etc.\n",
    "    * **Combination generators** : `product`, `permutations`, `combinations`\n",
    "* We'll focus on one piece of this module: the **combinatoric generators**, or combination generators\n",
    "    * These generators efficiently yielf Cartesian products, permutations and combinations of objects\n",
    "    \n",
    "<img src='data/efficient11.png' width=\"600\" height=\"300\" align=\"center\"/>\n",
    "\n",
    "* **This is not very efficient**\n",
    "\n",
    "### itertools.combinations()\n",
    "* The `combinations` generator from itertools provides a more efficient solution\n",
    "* Import combinations and create a combinations object by providing the `poke_types` list and the **length of the combinations we desire** (in this case, 2).\n",
    "* `combinations()` returns a combinations object, which we unpack into a list and print to see the result\n",
    "\n",
    "<img src='data/efficient12.png' width=\"600\" height=\"300\" align=\"center\"/>"
   ]
  },
  {
   "cell_type": "code",
   "execution_count": 90,
   "id": "df1150a7",
   "metadata": {},
   "outputs": [],
   "source": [
    "from itertools import combinations"
   ]
  },
  {
   "cell_type": "code",
   "execution_count": 91,
   "id": "a07d851a",
   "metadata": {},
   "outputs": [],
   "source": [
    "poke_types = ['Bug', 'Fire', 'Ghost', 'Grass', 'Water']"
   ]
  },
  {
   "cell_type": "code",
   "execution_count": 92,
   "id": "d5c82fdd",
   "metadata": {},
   "outputs": [],
   "source": [
    "combos_obj = combinations(poke_types, 2)"
   ]
  },
  {
   "cell_type": "code",
   "execution_count": 93,
   "id": "ba13aa12",
   "metadata": {},
   "outputs": [
    {
     "name": "stdout",
     "output_type": "stream",
     "text": [
      "<class 'itertools.combinations'>\n"
     ]
    }
   ],
   "source": [
    "print(type(combos_obj))"
   ]
  },
  {
   "cell_type": "code",
   "execution_count": 94,
   "id": "4d631e0a",
   "metadata": {},
   "outputs": [
    {
     "name": "stdout",
     "output_type": "stream",
     "text": [
      "[('Bug', 'Fire'), ('Bug', 'Ghost'), ('Bug', 'Grass'), ('Bug', 'Water'), ('Fire', 'Ghost'), ('Fire', 'Grass'), ('Fire', 'Water'), ('Ghost', 'Grass'), ('Ghost', 'Water'), ('Grass', 'Water')]\n"
     ]
    }
   ],
   "source": [
    "combos = [*combos_obj]\n",
    "print(combos)"
   ]
  },
  {
   "cell_type": "markdown",
   "id": "e99d87a0",
   "metadata": {},
   "source": [
    "* **If comparing runtimes, we'd see using combinations is significantly faster than the nested loop.**"
   ]
  },
  {
   "cell_type": "markdown",
   "id": "4c9d6dec",
   "metadata": {},
   "source": [
    "#### Exercises: Combining Pokémon names and types\n",
    "\n",
    "```\n",
    "# Combine names and primary_types\n",
    "names_type1 = [*zip(names, primary_types)]\n",
    "\n",
    "print(*names_type1[:5], sep='\\n')\n",
    "\n",
    "# Combine all three lists together\n",
    "names_types = [*zip(names, primary_types, secondary_types)]\n",
    "\n",
    "print(*names_types[:5], sep='\\n')\n",
    "\n",
    "# Combine five items from names and three items from primary_types\n",
    "differing_lengths = [*zip(names[:5], primary_types[:3])]\n",
    "\n",
    "print(*differing_lengths, sep='\\n')\n",
    "```"
   ]
  },
  {
   "cell_type": "code",
   "execution_count": 95,
   "id": "09b30102",
   "metadata": {},
   "outputs": [],
   "source": [
    "name = ['Abomasnow', 'Abra', 'Absol', 'Accelgor', 'Aerodactyl']"
   ]
  },
  {
   "cell_type": "code",
   "execution_count": 96,
   "id": "63107ecd",
   "metadata": {},
   "outputs": [],
   "source": [
    "primary_types = ['Grass', 'Psychic', 'Dark', 'Bug', 'Rock']"
   ]
  },
  {
   "cell_type": "code",
   "execution_count": 98,
   "id": "988a60f7",
   "metadata": {},
   "outputs": [],
   "source": [
    "secondary_types = ['Ice', np.nan, np.nan, np.nan, 'Flying']"
   ]
  },
  {
   "cell_type": "code",
   "execution_count": 99,
   "id": "93ca145f",
   "metadata": {},
   "outputs": [],
   "source": [
    "# Combine names and primary_types\n",
    "names_type1 = [*zip(names, primary_types)]"
   ]
  },
  {
   "cell_type": "code",
   "execution_count": 100,
   "id": "e68c0fa0",
   "metadata": {},
   "outputs": [
    {
     "data": {
      "text/plain": [
       "[('Bulbasaur', 'Grass'), ('Charmander', 'Psychic'), ('Squirtle', 'Dark')]"
      ]
     },
     "execution_count": 100,
     "metadata": {},
     "output_type": "execute_result"
    }
   ],
   "source": [
    "names_type1"
   ]
  },
  {
   "cell_type": "code",
   "execution_count": 101,
   "id": "b2a6f3e0",
   "metadata": {},
   "outputs": [
    {
     "name": "stdout",
     "output_type": "stream",
     "text": [
      "('Bulbasaur', 'Grass')\n",
      "('Charmander', 'Psychic')\n",
      "('Squirtle', 'Dark')\n"
     ]
    }
   ],
   "source": [
    "print(*names_type1[:5], sep='\\n')"
   ]
  },
  {
   "cell_type": "code",
   "execution_count": 104,
   "id": "bbcd6e0a",
   "metadata": {},
   "outputs": [
    {
     "data": {
      "text/plain": [
       "[('Bulbasaur', 'Grass', 'Ice'),\n",
       " ('Charmander', 'Psychic', nan),\n",
       " ('Squirtle', 'Dark', nan)]"
      ]
     },
     "execution_count": 104,
     "metadata": {},
     "output_type": "execute_result"
    }
   ],
   "source": [
    "names_types = [*zip(names, primary_types, secondary_types)]\n",
    "names_types"
   ]
  },
  {
   "cell_type": "code",
   "execution_count": 105,
   "id": "749d80f9",
   "metadata": {},
   "outputs": [
    {
     "name": "stdout",
     "output_type": "stream",
     "text": [
      "('Bulbasaur', 'Grass')\n",
      "('Charmander', 'Psychic')\n",
      "('Squirtle', 'Dark')\n"
     ]
    }
   ],
   "source": [
    "# Combine five items from names and three items from primary_types\n",
    "differing_lengths = [*zip(names[:5], primary_types[:3])]\n",
    "\n",
    "print(*differing_lengths, sep='\\n')"
   ]
  },
  {
   "cell_type": "markdown",
   "id": "e5fb3417",
   "metadata": {},
   "source": [
    "#### Exercises: Counting Pokémon from a sample \n",
    "\n",
    "```\n",
    "# Collect the count of primary types\n",
    "type_count = Counter(primary_types)\n",
    "print(type_count, '\\n')\n",
    "\n",
    "# Collect the count of generations\n",
    "gen_count = Counter(generations)\n",
    "print(gen_count, '\\n')\n",
    "\n",
    "# Use list comprehension to get each Pokémon's starting letter\n",
    "starting_letters = [name[0] for name in names]\n",
    "\n",
    "# Collect the count of Pokémon for each starting_letter\n",
    "starting_letters_count = Counter(starting_letters)\n",
    "print(starting_letters_count)\n",
    "```\n",
    "\n",
    "#### Exercises: \n",
    "\n",
    "```\n",
    "# Import combinations from itertools\n",
    "from itertools import combinations\n",
    "\n",
    "# Create a combination object with pairs of Pokémon\n",
    "combos_obj = combinations(pokemon, 2)\n",
    "print(type(combos_obj), '\\n')\n",
    "\n",
    "# Convert combos_obj to a list by unpacking\n",
    "combos_2 = [*combos_obj]\n",
    "print(combos_2, '\\n')\n",
    "\n",
    "# Collect all possible combinations of 4 Pokémon directly into a list\n",
    "combos_4 = [*combinations(pokemon,4)]\n",
    "print(combos_4)\n",
    "```"
   ]
  },
  {
   "cell_type": "markdown",
   "id": "31b0e4dd",
   "metadata": {},
   "source": [
    "### Set theory \n",
    "* Often, we'd like to compare two objects to observe similarities and differences between their contents\n",
    "* When doing this type of comparison, it's best to leverage a branch of mathematics called set theory\n",
    "* Python has built-in `set` datatype with accompanying methods:\n",
    "    * **`intersection()`** : all elements that are in both sets\n",
    "    * **`difference()`** : all elements in one set but not the other\n",
    "    * **`symmetric_difference()`** : all elements in exactly one set\n",
    "    * **`union()`** : all elements that are in either set\n",
    "* For difference between difference and symmetric difference, see [HERE](https://stackoverflow.com/questions/50871370/python-sets-difference-vs-symmetric-difference/50871421)\n",
    "* Main takeaway: **When we'd like to compare objects multiple times and in different ways, we should consider storing our data in sets to leverage these elegant and efficient methods.**\n",
    "* Fast **membership testing**: check is a value exists in a sequence or not.\n",
    "    * Using the **`in`** operator\n",
    "* Using the `in` operator with a set is much faster than using it with a list or tuple\n",
    "* **Iterating over lists to determine common members (like this $\\Downarrow$) is very inefficient**\n",
    "\n",
    "<img src='data/efficient13.png' width=\"600\" height=\"300\" align=\"center\"/>\n",
    "\n",
    "#### Set method: intersection\n",
    "* **Instead, we should use Python's `set` type to compare the list**\n",
    "\n",
    "<img src='data/intersection.png' width=\"300\" height=\"150\" align=\"center\"/>"
   ]
  },
  {
   "cell_type": "markdown",
   "id": "550c5a90",
   "metadata": {},
   "source": [
    "list_a = ['Bulbasaur', 'Charmander', 'Squirtle']\n",
    "list_b = ['Caterpie', 'Pidgey', 'Squirtle']"
   ]
  },
  {
   "cell_type": "code",
   "execution_count": 107,
   "id": "5579bb67",
   "metadata": {},
   "outputs": [],
   "source": [
    "set_a = set(list_a)\n",
    "set_b = set(list_b)"
   ]
  },
  {
   "cell_type": "markdown",
   "id": "9a4592d4",
   "metadata": {},
   "source": [
    "**By converting each list into a set, we can use the `.intersection()` method to collect the Pokemon shared between the two sets.**"
   ]
  },
  {
   "cell_type": "code",
   "execution_count": 108,
   "id": "d0c5663c",
   "metadata": {},
   "outputs": [
    {
     "data": {
      "text/plain": [
       "{'Squirtle'}"
      ]
     },
     "execution_count": 108,
     "metadata": {},
     "output_type": "execute_result"
    }
   ],
   "source": [
    "set_a.intersection(set_b)"
   ]
  },
  {
   "cell_type": "markdown",
   "id": "0b4679d5",
   "metadata": {},
   "source": [
    "<img src='data/pok_intersection.png' width=\"500\" height=\"250\" align=\"center\"/>"
   ]
  },
  {
   "cell_type": "markdown",
   "id": "b50e90f2",
   "metadata": {},
   "source": [
    "One simple line of code, and no need for a loop!\n",
    "\n",
    "When comparing runtimes, we see that using sets is a much faster approach.\n",
    "\n",
    "#### Set method: difference\n",
    "* We can also use a set method to see Pokemon that exist in one set but not another.\n",
    "* **Note** below that to create an *empty* set you *must* use: `empty_set = set{}`\n",
    "* However, **as long as the set is not empty, you can define a set with just curly brackets.** Python detects that the syntax withn the curly braces is not a dictionary, but a set, and formats accordingly. See [here](https://stackoverflow.com/questions/17373161/use-curly-braces-to-initialize-a-set-in-python)\n",
    "\n",
    "<img src='data/set_difference.png' width=\"300\" height=\"150\" align=\"center\"/>"
   ]
  },
  {
   "cell_type": "code",
   "execution_count": 109,
   "id": "4848eef5",
   "metadata": {},
   "outputs": [],
   "source": [
    "set_a = {'Bulbasaur', 'Charmander', 'Squirtle'}\n",
    "set_b = {'Caterpie', 'Pidgey', 'Squirtle'}"
   ]
  },
  {
   "cell_type": "code",
   "execution_count": 111,
   "id": "8d25d686",
   "metadata": {},
   "outputs": [
    {
     "data": {
      "text/plain": [
       "set"
      ]
     },
     "execution_count": 111,
     "metadata": {},
     "output_type": "execute_result"
    }
   ],
   "source": [
    "type(set_a)"
   ]
  },
  {
   "cell_type": "code",
   "execution_count": 110,
   "id": "a5003f16",
   "metadata": {},
   "outputs": [
    {
     "data": {
      "text/plain": [
       "{'Bulbasaur', 'Charmander'}"
      ]
     },
     "execution_count": 110,
     "metadata": {},
     "output_type": "execute_result"
    }
   ],
   "source": [
    "set_a.difference(set_b)"
   ]
  },
  {
   "cell_type": "markdown",
   "id": "784884be",
   "metadata": {},
   "source": [
    "<img src='data/diffa.png' width=\"500\" height=\"250\" align=\"center\"/>"
   ]
  },
  {
   "cell_type": "code",
   "execution_count": 112,
   "id": "aef1ddba",
   "metadata": {},
   "outputs": [
    {
     "data": {
      "text/plain": [
       "{'Caterpie', 'Pidgey'}"
      ]
     },
     "execution_count": 112,
     "metadata": {},
     "output_type": "execute_result"
    }
   ],
   "source": [
    "set_b.difference(set_a)"
   ]
  },
  {
   "cell_type": "markdown",
   "id": "9fde8899",
   "metadata": {},
   "source": [
    "<img src='data/diffb.png' width=\"500\" height=\"250\" align=\"center\"/>"
   ]
  },
  {
   "cell_type": "markdown",
   "id": "4372021c",
   "metadata": {},
   "source": [
    "#### Set method: symmetric difference\n",
    "* To collect Pokemon that exist in *exactly one* of the sets (but *not* both), we can use the **symmetric difference.**\n",
    "\n",
    "<img src='data/symmetric_difference.png' width=\"300\" height=\"150\" align=\"center\"/>"
   ]
  },
  {
   "cell_type": "code",
   "execution_count": 113,
   "id": "88f1ad3f",
   "metadata": {},
   "outputs": [
    {
     "data": {
      "text/plain": [
       "{'Bulbasaur', 'Caterpie', 'Charmander', 'Pidgey'}"
      ]
     },
     "execution_count": 113,
     "metadata": {},
     "output_type": "execute_result"
    }
   ],
   "source": [
    "set_a.symmetric_difference(set_b)"
   ]
  },
  {
   "cell_type": "markdown",
   "id": "67a4e99b",
   "metadata": {},
   "source": [
    "<img src='data/pok_symmetric_difference.png' width=\"500\" height=\"250\" align=\"center\"/>"
   ]
  },
  {
   "cell_type": "markdown",
   "id": "d15a8106",
   "metadata": {},
   "source": [
    "#### Set method: union\n",
    "* We can combine these sets with `.union()`\n",
    "\n",
    "<img src='data/union.png' width=\"300\" height=\"150\" align=\"center\"/>"
   ]
  },
  {
   "cell_type": "code",
   "execution_count": 115,
   "id": "6c066f87",
   "metadata": {},
   "outputs": [
    {
     "data": {
      "text/plain": [
       "{'Bulbasaur', 'Caterpie', 'Charmander', 'Pidgey', 'Squirtle'}"
      ]
     },
     "execution_count": 115,
     "metadata": {},
     "output_type": "execute_result"
    }
   ],
   "source": [
    "set_a.union(set_b)"
   ]
  },
  {
   "cell_type": "markdown",
   "id": "bcaca15a",
   "metadata": {},
   "source": [
    "<img src='data/pok_union.png' width=\"500\" height=\"250\" align=\"center\"/>"
   ]
  },
  {
   "cell_type": "markdown",
   "id": "0f31a60b",
   "metadata": {},
   "source": [
    "### Membership testing with sets\n",
    "* Another nice efficiency gain when using sets is the ability to quickly check if a specific item is a member of a set's elements\n",
    "* Consider our collection of 720 Pokemon names stored as a list, typle, and set; We want to check whether or not the character Zubat, is in each of these data structures\n",
    "\n",
    "<img src='data/efficient14.png' width=\"600\" height=\"300\" align=\"center\"/>"
   ]
  },
  {
   "cell_type": "markdown",
   "id": "452d853e",
   "metadata": {},
   "source": [
    "* When comparing runtimes, it's clear that membership testing with a set is significantly faster than a list or a tuple \n",
    "\n",
    "#### Uniques with sets\n",
    "* One final efficiency gain when using sets comes from the definition of set itself; a set is defined as a collection of distint elements. Thus, we can use a set to collect unique items from an existing object.\n",
    "* If we wanted to collect the unique Pokemon in our Pokedex from earlier, we could write a for loop to iterate over the list, but this would be... yep, ineffecient.\n",
    "\n",
    "<img src='data/efficient15.png' width=\"600\" height=\"300\" align=\"center\"/>"
   ]
  },
  {
   "cell_type": "markdown",
   "id": "6672b992",
   "metadata": {},
   "source": [
    "#### Exercises: Comparing Pokedexes\n",
    "\n",
    "```\n",
    "# Convert both lists to sets\n",
    "ash_set = set(ash_pokedex)\n",
    "misty_set = set(misty_pokedex)\n",
    "\n",
    "# Find the Pokémon that exist in both sets\n",
    "both = ash_set.intersection(misty_set)\n",
    "print(both)\n",
    "\n",
    "# Find the Pokémon that Ash has and Misty does not have\n",
    "ash_only = ash_set.difference(misty_set)\n",
    "print(ash_only)\n",
    "\n",
    "# Find the Pokémon that are in only one set (not both)\n",
    "unique_to_set = ash_set.symmetric_difference(misty_set)\n",
    "print(unique_to_set)\n",
    "```\n",
    "\n",
    "#### Exercises: Searching for Pokemon\n",
    "\n",
    "```\n",
    "# Convert Brock's Pokédex to a set\n",
    "brock_pokedex_set = set(brock_pokedex)\n",
    "print(brock_pokedex_set)\n",
    "\n",
    "# Check if Psyduck is in Ash's list and Brock's set\n",
    "print('Psyduck' in ash_pokedex)\n",
    "print('Psyduck' in brock_pokedex_set)\n",
    "\n",
    "# Check if Machop is in Ash's list and Brock's set\n",
    "print('Machop' in ash_pokedex)\n",
    "print('Machop' in brock_pokedex_set)\n",
    "```\n",
    "\n",
    "#### Exercises: Gathering unique Pokemon\n",
    "\n",
    "```\n",
    "# Use find_unique_items() to collect unique Pokémon names\n",
    "uniq_names_func = find_unique_items(names)\n",
    "print(len(uniq_names_func))\n",
    "\n",
    "# Convert the names list to a set to collect unique Pokémon names\n",
    "uniq_names_set = set(uniq_names_func)\n",
    "print(len(uniq_names_set))\n",
    "\n",
    "# Check that both unique collections are equivalent\n",
    "print(sorted(uniq_names_func) == sorted(uniq_names_set))\n",
    "```\n",
    "\n",
    "```\n",
    "# Use find_unique_items() to collect unique Pokémon names\n",
    "uniq_names_func = find_unique_items(names)\n",
    "print(len(uniq_names_func))\n",
    "\n",
    "# Convert the names list to a set to collect unique Pokémon names\n",
    "uniq_names_set = set(names)\n",
    "print(len(uniq_names_set))\n",
    "\n",
    "# Check that both unique collections are equivalent\n",
    "print(sorted(uniq_names_func) == sorted(uniq_names_set))\n",
    "\n",
    "# Use the best approach to collect unique primary types and generations\n",
    "uniq_types = set(primary_types)\n",
    "uniq_gens = set(generations)\n",
    "print(uniq_types, uniq_gens, sep='\\n') \n",
    "```"
   ]
  },
  {
   "cell_type": "markdown",
   "id": "43601049",
   "metadata": {},
   "source": [
    "### Eliminating loops\n",
    "* Although using loops when writing Python code isn't necessarily a bad design patter, using extraneous loops can be **inefficient** and **costly**.\n",
    "* In this lesson we'll explore some tools that can help us eliminate the need to use loops in our code\n",
    "\n",
    "#### Looping in Python\n",
    "* Looping patterns\n",
    "    * **`for` loop:** iterate over sequence piece-by-piece\n",
    "    * **`while` loop:** repeat loop as long as condition is met\n",
    "    * **\"nested\" loops:** use one loop (or multiple loops) inside another loop\n",
    "* Although all these looping patterns are supported by Python, they are **costly** and we should be careful when using them.\n",
    "    * Because most loops are evaluated in a piece-by-piece manner, they are often an inefficient solution\n",
    "    \n",
    "#### Benefits of eliminating loops\n",
    "* We should try to avoid looping as much as possible when writing efficient code\n",
    "* Fewer lines of code\n",
    "* Better code readability\n",
    "    * \"Flat is better than nested\"\n",
    "* Efficiency gains\n",
    "\n",
    "#### Eliminating loops with built-ins"
   ]
  },
  {
   "cell_type": "code",
   "execution_count": 116,
   "id": "4de91b9d",
   "metadata": {},
   "outputs": [],
   "source": [
    "# List of HP, Attack, Defense, Speed\n",
    "poke_stats = [\n",
    "    [90, 92, 75, 60],\n",
    "    [25, 20, 15, 90],\n",
    "    [65, 130, 60, 75]\n",
    "]"
   ]
  },
  {
   "cell_type": "code",
   "execution_count": 117,
   "id": "8bb07926",
   "metadata": {},
   "outputs": [],
   "source": [
    "# For loop approach\n",
    "totals = []\n",
    "for row in poke_stats:\n",
    "    totals.append(sum(row))"
   ]
  },
  {
   "cell_type": "code",
   "execution_count": 118,
   "id": "34f480eb",
   "metadata": {},
   "outputs": [],
   "source": [
    "# List comprehension\n",
    "totals_comp = [sum(row) for row in poke_stats]"
   ]
  },
  {
   "cell_type": "code",
   "execution_count": 119,
   "id": "cb9869b0",
   "metadata": {},
   "outputs": [],
   "source": [
    "# Built-in map() function\n",
    "totals_map = [*map(sum, poke_stats)]"
   ]
  },
  {
   "cell_type": "code",
   "execution_count": 120,
   "id": "a6aa3046",
   "metadata": {},
   "outputs": [
    {
     "data": {
      "text/plain": [
       "[317, 150, 330]"
      ]
     },
     "execution_count": 120,
     "metadata": {},
     "output_type": "execute_result"
    }
   ],
   "source": [
    "totals"
   ]
  },
  {
   "cell_type": "code",
   "execution_count": 121,
   "id": "fdb0cfff",
   "metadata": {},
   "outputs": [
    {
     "data": {
      "text/plain": [
       "[317, 150, 330]"
      ]
     },
     "execution_count": 121,
     "metadata": {},
     "output_type": "execute_result"
    }
   ],
   "source": [
    "totals_comp"
   ]
  },
  {
   "cell_type": "code",
   "execution_count": 122,
   "id": "596653fb",
   "metadata": {},
   "outputs": [
    {
     "data": {
      "text/plain": [
       "[317, 150, 330]"
      ]
     },
     "execution_count": 122,
     "metadata": {},
     "output_type": "execute_result"
    }
   ],
   "source": [
    "totals_map"
   ]
  },
  {
   "cell_type": "markdown",
   "id": "802bd9ec",
   "metadata": {},
   "source": [
    "* As shown above, each of these approaches will return the samee list, but **using the list comprehension or the map functions takes one line of code, and has a faster runtime (and is therefore more efficient).**\n",
    "\n",
    "#### Eliminating loops with built-in modules"
   ]
  },
  {
   "cell_type": "code",
   "execution_count": 123,
   "id": "79c5c154",
   "metadata": {},
   "outputs": [],
   "source": [
    "poke_types = ['Bug', 'Fire', 'Ghost', 'Grass', 'Water']"
   ]
  },
  {
   "cell_type": "code",
   "execution_count": 124,
   "id": "fbbc76f0",
   "metadata": {},
   "outputs": [],
   "source": [
    "# Nested for loop approach\n",
    "combos = []\n",
    "for x in poke_types:\n",
    "    for y in poke_types:\n",
    "        if x == y:\n",
    "            continue\n",
    "        if ((x, y) not in combos) & ((y, x) not in combos):\n",
    "            combos.append((x, y))"
   ]
  },
  {
   "cell_type": "code",
   "execution_count": 125,
   "id": "6c726f78",
   "metadata": {},
   "outputs": [],
   "source": [
    "# Built-in module approach\n",
    "from itertools import combinations\n",
    "combos2 = [*combinations(poke_types, 2)]"
   ]
  },
  {
   "cell_type": "code",
   "execution_count": 126,
   "id": "09fa8155",
   "metadata": {},
   "outputs": [
    {
     "data": {
      "text/plain": [
       "[('Bug', 'Fire'),\n",
       " ('Bug', 'Ghost'),\n",
       " ('Bug', 'Grass'),\n",
       " ('Bug', 'Water'),\n",
       " ('Fire', 'Ghost'),\n",
       " ('Fire', 'Grass'),\n",
       " ('Fire', 'Water'),\n",
       " ('Ghost', 'Grass'),\n",
       " ('Ghost', 'Water'),\n",
       " ('Grass', 'Water')]"
      ]
     },
     "execution_count": 126,
     "metadata": {},
     "output_type": "execute_result"
    }
   ],
   "source": [
    "combos"
   ]
  },
  {
   "cell_type": "code",
   "execution_count": 127,
   "id": "efbb1082",
   "metadata": {},
   "outputs": [
    {
     "data": {
      "text/plain": [
       "[('Bug', 'Fire'),\n",
       " ('Bug', 'Ghost'),\n",
       " ('Bug', 'Grass'),\n",
       " ('Bug', 'Water'),\n",
       " ('Fire', 'Ghost'),\n",
       " ('Fire', 'Grass'),\n",
       " ('Fire', 'Water'),\n",
       " ('Ghost', 'Grass'),\n",
       " ('Ghost', 'Water'),\n",
       " ('Grass', 'Water')]"
      ]
     },
     "execution_count": 127,
     "metadata": {},
     "output_type": "execute_result"
    }
   ],
   "source": [
    "combos2"
   ]
  },
  {
   "cell_type": "markdown",
   "id": "3c968dfd",
   "metadata": {},
   "source": [
    "#### Eliminate loops with NumPy\n",
    "* Suppose we had the same `poke_stats` collection of statistics used above, but stored in a NumPy array instead of a list of lists"
   ]
  },
  {
   "cell_type": "code",
   "execution_count": 128,
   "id": "c1aea98a",
   "metadata": {},
   "outputs": [],
   "source": [
    "poke_stats = np.array([\n",
    "    [90, 92, 75, 60],\n",
    "    [25, 20, 15, 90],\n",
    "    [65, 130, 60, 75]\n",
    "])"
   ]
  },
  {
   "cell_type": "code",
   "execution_count": 129,
   "id": "4d8b488c",
   "metadata": {},
   "outputs": [
    {
     "name": "stdout",
     "output_type": "stream",
     "text": [
      "[79.25, 37.5, 82.5]\n"
     ]
    }
   ],
   "source": [
    "avgs = []\n",
    "for row in poke_stats:\n",
    "    avg = np.mean(row)\n",
    "    avgs.append(avg)\n",
    "print(avgs)"
   ]
  },
  {
   "cell_type": "code",
   "execution_count": 130,
   "id": "de86dbb1",
   "metadata": {},
   "outputs": [
    {
     "data": {
      "text/plain": [
       "array([79.25, 37.5 , 82.5 ])"
      ]
     },
     "execution_count": 130,
     "metadata": {},
     "output_type": "execute_result"
    }
   ],
   "source": [
    "avgs_np = poke_stats.mean(axis=1)\n",
    "avgs_np"
   ]
  },
  {
   "cell_type": "markdown",
   "id": "a4155de1",
   "metadata": {},
   "source": [
    "* This eliminates the need for a loop and is much more efficient\n",
    "\n",
    "#### Exercises: Gathering Pokemon without a loop\n",
    "\n",
    "```\n",
    "# Collect Pokémon that belong to generation 1 or generation 2\n",
    "gen1_gen2_pokemon = [name for name,gen in zip(poke_names, poke_gens) if gen < 3]\n",
    "\n",
    "# Create a map object that stores the name lengths\n",
    "name_lengths_map = map(len, gen1_gen2_pokemon)\n",
    "\n",
    "# Combine gen1_gen2_pokemon and name_lengths_map into a list\n",
    "gen1_gen2_name_lengths = [*zip(gen1_gen2_pokemon, name_lengths_map)]\n",
    "\n",
    "print(gen1_gen2_name_lengths_loop[:5])\n",
    "print(gen1_gen2_name_lengths[:5])\n",
    "```\n",
    "\n",
    "#### Exercises: Pokemon totals and averages without a loop\n",
    "\n",
    "```\n",
    "# Create a total stats array\n",
    "total_stats_np = stats.sum(axis=1)\n",
    "\n",
    "# Create an average stats array\n",
    "avg_stats_np = stats.mean(axis=1)\n",
    "\n",
    "# Combine names, total_stats_np, and avg_stats_np into a list\n",
    "poke_list_np = [*zip(names, total_stats_np, avg_stats_np)]\n",
    "\n",
    "print(poke_list_np == poke_list, '\\n')\n",
    "print(poke_list_np[:3])\n",
    "print(poke_list[:3], '\\n')\n",
    "top_3 = sorted(poke_list_np, key=lambda x: x[1], reverse=True)[:3]\n",
    "print('3 strongest Pokémon:\\n{}'.format(top_3))\n",
    "```"
   ]
  },
  {
   "cell_type": "markdown",
   "id": "6177718f",
   "metadata": {},
   "source": [
    "### Writing better loops\n",
    "* Loops can be costly and inefficient, but sometimes you can't eliminate a loop\n",
    "* In this lesson, we explore how to make loops more efficient when looping is unavoidable\n",
    "* For demonstrative purpose, we'll assume that the use cases discussed below are instances where a loop is unavoidable, although this is not always the case.\n",
    "\n",
    "#### Writing better loops\n",
    "* Understand what is being done with each loop iteration\n",
    "* **Move one-time calculations outside (above) the loop!!**\n",
    "* **Use holistic conversions outside (below) the loop**\n",
    "    * If a loop is converting data types with each iteration, it's possible that this conversion can be done outside (or below) the loop using a map function\n",
    "* **Anything that is done *once* should be moved *outside* the loop**\n",
    "\n",
    "### Moving calculations above a loop\n",
    "\n",
    "<img src='data/efficient16.png' width=\"600\" height=\"300\" align=\"center\"/>\n",
    "\n",
    "* Moving the calculation of the mean outside (above) the loop takes about half of the time.\n",
    "\n",
    "<img src='data/efficient17.png' width=\"600\" height=\"300\" align=\"center\"/>\n",
    "\n",
    "### Using holistic conversions\n",
    "\n",
    "<img src='data/efficient18.png' width=\"600\" height=\"300\" align=\"center\"/>\n",
    "\n",
    "* Moving the list converstion below the loop increases efficiency:\n",
    "\n",
    "<img src='data/efficient19.png' width=\"600\" height=\"300\" align=\"center\"/>"
   ]
  },
  {
   "cell_type": "markdown",
   "id": "ac604191",
   "metadata": {},
   "source": [
    "#### Exercises: One-time calculation loop\n",
    "\n",
    "```\n",
    "# Import Counter\n",
    "from collections import Counter\n",
    "\n",
    "# Collect the count of each generation\n",
    "gen_counts = Counter(generations)\n",
    "\n",
    "# Improve for loop by moving one calculation above the loop\n",
    "total_count = len(generations)\n",
    "\n",
    "for gen,count in gen_counts.items():\n",
    "    gen_percent = round(count/total_count *100, 2)\n",
    "    print('generation {}: count = {:3} percentage = {}'\n",
    "          .format(gen, count, gen_percent))\n",
    "```\n",
    "\n",
    "#### Exercises: Holistic conversion loop\n",
    "\n",
    "```\n",
    "# Collect all possible pairs using combinations()\n",
    "possible_pairs = [*combinations(pokemon_types, 2)]\n",
    "\n",
    "# Create an empty list called enumerated_tuples\n",
    "enumerated_tuples = []\n",
    "\n",
    "# Append each enumerated_pair_tuple to the empty list above\n",
    "for i,pair in enumerate(possible_pairs, 1):\n",
    "    enumerated_pair_tuple = (i,) + pair\n",
    "    enumerated_tuples.append(enumerated_pair_tuple)\n",
    "\n",
    "# Convert all tuples in enumerated_tuples to a list\n",
    "enumerated_pairs = [*map(list, enumerated_tuples)]\n",
    "print(enumerated_pairs)\n",
    "```\n",
    "\n",
    "#### Exercises: Bringing it all together: Pokemon z-scores\n",
    "\n",
    "```\n",
    "# Calculate the total HP avg and total HP standard deviation\n",
    "hp_avg = hps.mean()\n",
    "hp_std = hps.std()\n",
    "\n",
    "# Use NumPy to eliminate the previous for loop\n",
    "z_scores = (hps - hp_avg)/hp_std\n",
    "\n",
    "# Combine names, hps, and z_scores\n",
    "poke_zscores2 = [*zip(names, hps, z_scores)]\n",
    "print(*poke_zscores2[:3], sep='\\n')\n",
    "\n",
    "# Calculate the total HP avg and total HP standard deviation\n",
    "hp_avg = hps.mean()\n",
    "hp_std = hps.std()\n",
    "\n",
    "# Use NumPy to eliminate the previous for loop\n",
    "z_scores = (hps - hp_avg)/hp_std\n",
    "\n",
    "# Combine names, hps, and z_scores\n",
    "poke_zscores2 = [*zip(names, hps, z_scores)]\n",
    "print(*poke_zscores2[:3], sep='\\n')\n",
    "\n",
    "# Use list comprehension with the same logic as the highest_hp_pokemon code block\n",
    "highest_hp_pokemon2 = [(name, hp, zscore) for name,hp,zscore in poke_zscores2 if zscore > 2]\n",
    "print(*highest_hp_pokemon2, sep='\\n')\n",
    "```"
   ]
  },
  {
   "cell_type": "code",
   "execution_count": null,
   "id": "797235e7",
   "metadata": {},
   "outputs": [],
   "source": []
  },
  {
   "cell_type": "code",
   "execution_count": null,
   "id": "31b07e1e",
   "metadata": {},
   "outputs": [],
   "source": []
  },
  {
   "cell_type": "code",
   "execution_count": null,
   "id": "a9b8dce7",
   "metadata": {},
   "outputs": [],
   "source": []
  },
  {
   "cell_type": "code",
   "execution_count": null,
   "id": "f33d2fd2",
   "metadata": {},
   "outputs": [],
   "source": []
  },
  {
   "cell_type": "markdown",
   "id": "8c136c4d",
   "metadata": {},
   "source": [
    "<img src='data/efficient.png' width=\"600\" height=\"300\" align=\"center\"/>"
   ]
  }
 ],
 "metadata": {
  "kernelspec": {
   "display_name": "Python 3",
   "language": "python",
   "name": "python3"
  },
  "language_info": {
   "codemirror_mode": {
    "name": "ipython",
    "version": 3
   },
   "file_extension": ".py",
   "mimetype": "text/x-python",
   "name": "python",
   "nbconvert_exporter": "python",
   "pygments_lexer": "ipython3",
   "version": "3.8.8"
  }
 },
 "nbformat": 4,
 "nbformat_minor": 5
}
