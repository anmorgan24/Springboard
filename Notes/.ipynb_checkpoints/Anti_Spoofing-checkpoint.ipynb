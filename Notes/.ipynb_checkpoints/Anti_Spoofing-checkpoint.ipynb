{
 "cells": [
  {
   "cell_type": "markdown",
   "id": "d58e7287",
   "metadata": {},
   "source": [
    "# Anti-Spoofing"
   ]
  },
  {
   "cell_type": "markdown",
   "id": "8fc7a5e5",
   "metadata": {},
   "source": [
    "See article: [here](https://thakkarnidhi.com/anti-spoofing-for-face-recognition/)"
   ]
  },
  {
   "cell_type": "markdown",
   "id": "7195be25",
   "metadata": {},
   "source": [
    "In AI, **Facial Recognition (FR)** is basically identifying or verifying a person from a digital image or video. FR works by comparing selected facial features from a given image with faces within a database. An application of FR is the **anti-spoofing** of face images. Detection of spoofing from facial recognition is used in applications where people are verified by showing their face in front of a camera.\n",
    "\n",
    "Face spoofing attacks may take place either by showing a printed photo of a person in front of a camera or by showing the image of a person on a screen such as a mobile phone. Other sophisticated spoofing techniques include video attack or even a 3D mask attack. These attacks are analyzed in terms of **descriptors** and **classifiers**.\n",
    "\n",
    "The following is an overview of these descriptors:\n",
    "\n",
    "* **Texture descriptors**- Faces in mobile in front of the camera produce certain texture patterns that do not exist in real ones. These are texture descriptors. For example:- **Local Binary Patterns (LBP)**, **Histograms of oriented gradients (HOG)**, **Deep neural networks (DNN)**.\n",
    "\n",
    "* **Motion descriptors**- These detect and describe intra-face variations, such as eye blinking, facial expressions, mouth development, head rotation, etc. These help evaluate the consistency of the user interaction within the environment (Liveliness).\n",
    "\n",
    "* **Frequency descriptors**- Artifacts that occur in a spoofing attack (context based) are frequency descriptors.\n",
    "\n",
    "* **User Interaction (Other)**\n",
    "\n",
    "These descriptors help in the detection of a spoofing medium if present. These can further be used in classifying the given image as a spoofed image or not, as a machine learning problem.\n",
    "\n",
    "Alternatively, we can use **deep learning** techniques for anti-spoofing. In this technique, we provide a large number of images as examples of original and spoofed images. The features are identified by learning the patterns from these images, and can thereby spoof images can be detected. This can again be treated as a binary classification problem.\n",
    "\n",
    "## Our methodology\n",
    "\n",
    "#### 1. Collection of Dataset\n",
    "\n",
    "We started with the idea of dividing our dataset into two sets of folders. The dataset was thus categorized into *True* and *False* classes; *True* for the images that are spoofed, and *False* for the images that are original or not spoofed. For the *False* images, we used the [‘Northeastern SMILE Lab — Recognizing Faces in the Wild’](https://www.kaggle.com/c/recognizing-faces-in-the-wild) dataset of images on Kaggle, and also some other open-source images. While for the *True* images, we created a dataset of images inside a mobile frame and then capturing that image. This set was further augmented to form the complete dataset which consisted of about a thousand images each.\n",
    "\n",
    "#### 2. Split the dataset-\n",
    "\n",
    "We divided the complete dataset into the following categories:\n",
    "\n",
    "**True class datasets:**\n",
    "\n",
    "Train — (500,)\n",
    "\n",
    "Validation — (200,)\n",
    "\n",
    "Test — (200,)\n",
    "\n",
    "**False class datasets:**\n",
    "\n",
    "Train — (500,)\n",
    "\n",
    "Validation- (200,)\n",
    "\n",
    "Test — (200,)\n",
    "\n",
    "#### 3. Pre-processing-\n",
    "\n",
    "The following is the code implementation for pre-processing:"
   ]
  },
  {
   "cell_type": "code",
   "execution_count": null,
   "id": "e9679805",
   "metadata": {},
   "outputs": [],
   "source": []
  },
  {
   "cell_type": "code",
   "execution_count": null,
   "id": "5a81614b",
   "metadata": {},
   "outputs": [],
   "source": []
  },
  {
   "cell_type": "code",
   "execution_count": null,
   "id": "d7a0eea1",
   "metadata": {},
   "outputs": [],
   "source": []
  },
  {
   "cell_type": "code",
   "execution_count": null,
   "id": "52f311eb",
   "metadata": {},
   "outputs": [],
   "source": []
  },
  {
   "cell_type": "code",
   "execution_count": null,
   "id": "4e83339a",
   "metadata": {},
   "outputs": [],
   "source": []
  },
  {
   "cell_type": "code",
   "execution_count": null,
   "id": "72d88af8",
   "metadata": {},
   "outputs": [],
   "source": []
  },
  {
   "cell_type": "code",
   "execution_count": null,
   "id": "006c4d54",
   "metadata": {},
   "outputs": [],
   "source": []
  }
 ],
 "metadata": {
  "kernelspec": {
   "display_name": "Python 3",
   "language": "python",
   "name": "python3"
  },
  "language_info": {
   "codemirror_mode": {
    "name": "ipython",
    "version": 3
   },
   "file_extension": ".py",
   "mimetype": "text/x-python",
   "name": "python",
   "nbconvert_exporter": "python",
   "pygments_lexer": "ipython3",
   "version": "3.8.8"
  }
 },
 "nbformat": 4,
 "nbformat_minor": 5
}
