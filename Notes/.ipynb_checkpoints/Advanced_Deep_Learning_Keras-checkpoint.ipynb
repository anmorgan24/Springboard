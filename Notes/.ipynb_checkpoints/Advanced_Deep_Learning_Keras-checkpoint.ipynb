{
 "cells": [
  {
   "cell_type": "markdown",
   "id": "c0c67e42",
   "metadata": {},
   "source": [
    "# Advanced Deep Learning with Keras\n",
    "This course shows you how to solve a variety of problems using the versatile Keras functional API. You will start with simple, multi-layer dense networks (also known as multi-layer perceptrons), and continue on to more complicated architectures. The course will cover how to build models with multiple inputs and a single output, as well as how to share weights between layers in a model. We will also cover advanced topics such as category embeddings and multiple-output networks. If you've ever wanted to train a network that does both classification and regression, then this course is for you!\n",
    "\n",
    "**Instructor:** Zachary Deane-Mayer, VP, Data Science at DataRobot"
   ]
  },
  {
   "cell_type": "code",
   "execution_count": 1,
   "id": "11868b0b",
   "metadata": {},
   "outputs": [],
   "source": [
    "import tensorflow as tf\n",
    "import numpy as np\n",
    "import pandas as pd\n",
    "import matplotlib.pyplot as plt"
   ]
  },
  {
   "cell_type": "code",
   "execution_count": 2,
   "id": "b73e284d",
   "metadata": {},
   "outputs": [],
   "source": [
    "plt.rcParams['figure.figsize'] = (8, 8)"
   ]
  },
  {
   "cell_type": "markdown",
   "id": "dac3c6f0",
   "metadata": {},
   "source": [
    "## $\\star$ Chapter 1: The Keras Functional API\n",
    "n this chapter, you'll become familiar with the basics of the Keras functional API. You'll build a simple functional network using functional building blocks, fit it to data, and make predictions."
   ]
  },
  {
   "cell_type": "markdown",
   "id": "7147c8fb",
   "metadata": {},
   "source": [
    "### Keras input and dense layers\n",
    "* Learn how to build complex models using Keras Functional API, including using advanced topics such as **shared layers**, **categorical embeddings**, **multiple inputs**, and **multiple outputs**.\n",
    "* The **Keras Functional API** is extremely simple, yet immensely powerful.\n",
    "* By the end of this course, **you will build a model capable of solving a regression and a classification problem at the same time.**"
   ]
  },
  {
   "cell_type": "markdown",
   "id": "6fe8aef7",
   "metadata": {},
   "source": [
    "## Course Datasets\n",
    "\n",
    "<img src='data/course_datasets.png' width=\"600\" height=\"300\" align=\"center\"/>"
   ]
  },
  {
   "cell_type": "markdown",
   "id": "662d12e3",
   "metadata": {},
   "source": [
    "* The first dataset is from the regular season and has the above data.\n",
    "* For the tournament dataset, you also have the tournament \"seed\", which is a pre-tournament ranking for each team.\n",
    "    * These seeds range from 1 to 16, where the best 4 teams get a seed of 1, and the worst 4 teams get a seed of 16\n",
    "    * You will use the difference between the two teams' seeds as an input to your model.\n",
    "* The team variables are encoded as integers\n",
    "* The tournament dataset has one additional column: the difference between the tournament seeds for both teams\n",
    "* Other than the seed difference, the two datasets have identical columns \n",
    "* Within a given year, a team's roster stays relatively constant, but between years it can change a lot, as seniors graduate and freshmen start\n",
    "    * Therefore, for every year, each school is given a unique integer ID"
   ]
  },
  {
   "cell_type": "markdown",
   "id": "3c3662ca",
   "metadata": {},
   "source": [
    "### Inputs and outputs\n",
    "* Keras models, at their simplest, are fundamentally composed of 2 parts: an **input layer** and an **output layer**\n",
    "\n",
    "#### Inputs\n",
    "* Note that the `shape` argument expects a tuple\n",
    "* The `Input()` function returns a `tensor`\n",
    "\n",
    "```\n",
    "from keras.layers import Input\n",
    "input_tensor = Input(shape=(1,))\n",
    "```"
   ]
  },
  {
   "cell_type": "code",
   "execution_count": 14,
   "id": "d4293c11",
   "metadata": {},
   "outputs": [],
   "source": [
    "from tensorflow.keras.layers import Input, Dense\n",
    "from tensorflow.keras.models import Model\n",
    "from tensorflow.keras.utils import plot_model"
   ]
  },
  {
   "cell_type": "code",
   "execution_count": 4,
   "id": "da84bb3d",
   "metadata": {},
   "outputs": [
    {
     "name": "stdout",
     "output_type": "stream",
     "text": [
      "KerasTensor(type_spec=TensorSpec(shape=(None, 1), dtype=tf.float32, name='input_1'), name='input_1', description=\"created by layer 'input_1'\")\n"
     ]
    }
   ],
   "source": [
    "input_tensor = Input(shape=(1,))\n",
    "print(input_tensor)"
   ]
  },
  {
   "cell_type": "code",
   "execution_count": 5,
   "id": "2b720dc6",
   "metadata": {},
   "outputs": [
    {
     "data": {
      "text/plain": [
       "<KerasTensor: shape=(None, 1) dtype=float32 (created by layer 'input_1')>"
      ]
     },
     "execution_count": 5,
     "metadata": {},
     "output_type": "execute_result"
    }
   ],
   "source": [
    "input_tensor"
   ]
  },
  {
   "cell_type": "markdown",
   "id": "2835b221",
   "metadata": {},
   "source": [
    "* When we print the tensor, we see that it is a `tf.Tensor` object, which indicates it is ready to be used by our model as input\n",
    "\n",
    "#### Outputs\n",
    "* Outputs in Keras are most commonly a single `Dense` layer which specifies the shape of the expected input\n",
    "* In the case below, we are expecting our model to predict a single value, so we pass one unit to the dense layer \n",
    "* If you print the output layer, the result is NOT a tensorflow tensor, **it is a function, which takes a tensor as input and produces a tensor as output.**\n",
    "\n",
    "```\n",
    "from keras.layers import Dense\n",
    "output_layer = Dense(1)\n",
    "```"
   ]
  },
  {
   "cell_type": "code",
   "execution_count": 6,
   "id": "e2cac098",
   "metadata": {},
   "outputs": [],
   "source": [
    "output_layer = Dense(1)"
   ]
  },
  {
   "cell_type": "code",
   "execution_count": 7,
   "id": "6f3f2047",
   "metadata": {},
   "outputs": [
    {
     "name": "stdout",
     "output_type": "stream",
     "text": [
      "<tensorflow.python.keras.layers.core.Dense object at 0x7fa6001b3d30>\n"
     ]
    }
   ],
   "source": [
    "print(output_layer)"
   ]
  },
  {
   "cell_type": "code",
   "execution_count": 8,
   "id": "c5fee698",
   "metadata": {},
   "outputs": [
    {
     "data": {
      "text/plain": [
       "<tensorflow.python.keras.layers.core.Dense at 0x7fa6001b3d30>"
      ]
     },
     "execution_count": 8,
     "metadata": {},
     "output_type": "execute_result"
    }
   ],
   "source": [
    "output_layer"
   ]
  },
  {
   "cell_type": "markdown",
   "id": "75d1cf74",
   "metadata": {},
   "source": [
    "* **The difference between *layers* and *tensors* is key to understanding the Keras Function API.**\n",
    "* **Layers** are used to construct a deep learning model\n",
    "* **Tensors** are used to define the data flow through the model\n",
    "* In the case above (and same case below), the `input_layers` defines a tensor, which we pass to the `output_layer()` function\n",
    "\n",
    "```\n",
    "from keras.layers import Input, Dense\n",
    "input_tensor = Input(shape=(1,))\n",
    "output_layer = Dense(1)\n",
    "output_tensor = output_layer(input_tensor)\n",
    "```\n",
    "* The final output of our model is a tensor "
   ]
  },
  {
   "cell_type": "code",
   "execution_count": null,
   "id": "33382987",
   "metadata": {},
   "outputs": [],
   "source": [
    "output_tensor = output_layer(input_tensor)\n",
    "print(output_tensor)"
   ]
  },
  {
   "cell_type": "markdown",
   "id": "44165172",
   "metadata": {},
   "source": [
    "### Keras models\n",
    "* In this lesson, we'll learn how to turn the collection of layers we assembled above into an actual model that we can fit to the data and then use to predict on new data.\n",
    "\n",
    "#### Shortcut to above layer construction"
   ]
  },
  {
   "cell_type": "code",
   "execution_count": 9,
   "id": "779bd654",
   "metadata": {},
   "outputs": [
    {
     "name": "stderr",
     "output_type": "stream",
     "text": [
      "2022-01-19 15:54:54.299531: I tensorflow/compiler/jit/xla_cpu_device.cc:41] Not creating XLA devices, tf_xla_enable_xla_devices not set\n",
      "2022-01-19 15:54:54.299818: I tensorflow/core/platform/cpu_feature_guard.cc:142] This TensorFlow binary is optimized with oneAPI Deep Neural Network Library (oneDNN) to use the following CPU instructions in performance-critical operations:  AVX2 FMA\n",
      "To enable them in other operations, rebuild TensorFlow with the appropriate compiler flags.\n"
     ]
    }
   ],
   "source": [
    "# Create a dense layer and connect the dense layer to the input_tensor in one step\n",
    "# Note that we did this in 2 steps in the previous exercise, but are doing it in one step now\n",
    "output_tensor = Dense(1)(input_tensor)"
   ]
  },
  {
   "cell_type": "markdown",
   "id": "64a9e10b",
   "metadata": {},
   "source": [
    "* **Note** that there are 2 sets of parentheses in the line above, because we both create the function and then call it in the same line\n",
    "* To *build* a model, simply import the `Model()` class from keras and pass your **input and output** to this class.\n",
    "* In our case, we only have a single input and a single output, which we pass directly to the model.\n",
    "* Later in the course, we will work with multiple inputs and multiple outputs (in which case you will pass lists of input or lists of outputs to the model)."
   ]
  },
  {
   "cell_type": "code",
   "execution_count": 10,
   "id": "8d787f86",
   "metadata": {},
   "outputs": [],
   "source": [
    "model = Model(input_tensor, output_tensor)"
   ]
  },
  {
   "cell_type": "markdown",
   "id": "8be8faa2",
   "metadata": {},
   "source": [
    "#### Compile\n",
    "* Finally, you must compile the model before fitting it to the data\n",
    "* The **compilation** step finalizes the model and gets it completely ready for use in fitting and predicting\n",
    "* During compilation, select an `optimizer` and `loss` function\n",
    "* **`mae` tends to be a good general-purpose error function for keras models, as it is a little bit less sensitive to outliers.**"
   ]
  },
  {
   "cell_type": "code",
   "execution_count": 11,
   "id": "c2ec2cb5",
   "metadata": {},
   "outputs": [],
   "source": [
    "model.compile(optimizer='adam', loss='mae')"
   ]
  },
  {
   "cell_type": "markdown",
   "id": "5eefab88",
   "metadata": {},
   "source": [
    "#### Summarize the model\n",
    "* Before fitting a model, it is good practice to summarize the model"
   ]
  },
  {
   "cell_type": "code",
   "execution_count": 12,
   "id": "43883322",
   "metadata": {},
   "outputs": [
    {
     "name": "stdout",
     "output_type": "stream",
     "text": [
      "Model: \"model\"\n",
      "_________________________________________________________________\n",
      "Layer (type)                 Output Shape              Param #   \n",
      "=================================================================\n",
      "input_1 (InputLayer)         [(None, 1)]               0         \n",
      "_________________________________________________________________\n",
      "dense_1 (Dense)              (None, 1)                 2         \n",
      "=================================================================\n",
      "Total params: 2\n",
      "Trainable params: 2\n",
      "Non-trainable params: 0\n",
      "_________________________________________________________________\n"
     ]
    }
   ],
   "source": [
    "model.summary()"
   ]
  },
  {
   "cell_type": "markdown",
   "id": "05804080",
   "metadata": {},
   "source": [
    "* The model we have defined here is a **standard linear regression model**, equivalent to $y = m*x + b$\n",
    "* $m$ and $b$ are the 2 parameters (referred to in `Param #` of `Dense` layer above) of the model\n",
    "\n",
    "\n",
    "* $\\star$ $\\star$ $\\star$ $\\star$ $\\star$ $\\star$ $\\star$ $\\star$ $\\star$ $\\star$ $\\star$ $\\star$ $\\star$ $\\star$ $\\star$ $\\star$ $\\star$ $\\star$ $\\star$ $\\star$ $\\star$ $\\star$ $\\star$ $\\star$ $\\star$ $\\star$ $\\star$ $\\star$ $\\star$ $\\star$ $\\star$ $\\star$ $\\star$ $\\star$ $\\star$ $\\star$ $\\star$ $\\star$ $\\star$ $\\star$ $\\star$ $\\star$ $\\star$ $\\star$ $\\star$ $\\star$ $\\star$ $\\star$ $\\star$ $\\star$ $\\star$ $\\star$ $\\star$ $\\star$ $\\star$ $\\star$\n",
    "* In the terminology of *linear regression*, $m$ is the slope, and $b$ is the intercept.\n",
    "* In the terminology of *Keras*, $m$ is the weight of the dense layer, and $b$ is the bias of the dense layer\n",
    "* $\\star$ $\\star$ $\\star$ $\\star$ $\\star$ $\\star$ $\\star$ $\\star$ $\\star$ $\\star$ $\\star$ $\\star$ $\\star$ $\\star$ $\\star$ $\\star$ $\\star$ $\\star$ $\\star$ $\\star$ $\\star$ $\\star$ $\\star$ $\\star$ $\\star$ $\\star$ $\\star$ $\\star$ $\\star$ $\\star$ $\\star$ $\\star$ $\\star$ $\\star$ $\\star$ $\\star$ $\\star$ $\\star$ $\\star$ $\\star$ $\\star$ $\\star$ $\\star$ $\\star$ $\\star$ $\\star$ $\\star$ $\\star$ $\\star$ $\\star$ $\\star$ $\\star$ $\\star$ $\\star$ $\\star$ $\\star$"
   ]
  },
  {
   "cell_type": "markdown",
   "id": "bb99c177",
   "metadata": {},
   "source": [
    "### Plot model using keras\n",
    "* It is also useful to plot the model before fitting it \n",
    "* A plot gives you a little more information than a summary\n",
    "* It shows you how the layers connect together, visually\n",
    "* **Note** that in the example below, we've named the dense layer; **names are useful when you're looking at model plots, to help keep track of which layer in the plot is which layer in the code.**"
   ]
  },
  {
   "cell_type": "code",
   "execution_count": null,
   "id": "d2541511",
   "metadata": {},
   "outputs": [],
   "source": [
    "#pip install graphviz pip install pydot pydotplus graphviz"
   ]
  },
  {
   "cell_type": "code",
   "execution_count": 15,
   "id": "2ea296f3",
   "metadata": {},
   "outputs": [
    {
     "data": {
      "image/png": "[encoded data removed]",
      "text/plain": [
       "<IPython.core.display.Image object>"
      ]
     },
     "execution_count": 15,
     "metadata": {},
     "output_type": "execute_result"
    }
   ],
   "source": [
    "input_tensor = Input(shape=(1,))\n",
    "output_layer = Dense(1, name = 'Predicted-Score-Diff')\n",
    "output_tensor = output_layer(input_tensor)\n",
    "model = Model(input_tensor, output_tensor)\n",
    "plot_model(model, to_file = 'model.png')"
   ]
  },
  {
   "cell_type": "markdown",
   "id": "5f275cd6",
   "metadata": {},
   "source": [
    "* ** `plot_model`** saves the image to a file, which we can then display using matplotlib's `imread()` and `imshow()` functions as shown above.\n",
    "\n",
    "### Fit and evaluate a model \n",
    "* In this lesson, we'll take the model compiled in the previous lesson and fit it to college basketball data\n",
    "* Goal: predict which team will win a tournament game\n",
    "* Data available: team ratings from the tournament organizers\n",
    "* input: `seed_diff`\n",
    "* output: `score_diff`\n",
    "* Because this model has one input and one output, it is exactly the simple model we created in the last lesson\n",
    "* Seed differences will range from -15 to 15\n",
    "* A positive seed difference is usually predictive of a negative score\n",
    "* A negative seed difference is usually predictive of a positive score difference\n",
    "* Our target variable is the game's score difference and ranges from about -50 to positive 50\n",
    "    * This means there are games where team 1 lost by 50 points, as well as games where team 1 won by 50 points\n",
    "* **Note** that both the regular season and the tournament datasets have 2 rows per game, where the second row has the opposite signs of the first row (team 1 of row 1 = team 2 of row 2 and team 2 of row 1 = team 1 of row 2).\n",
    "* You could use the simple model built above for **any regression problem with a single predictor and a single outcome**\n",
    "\n",
    "#### Fit the model "
   ]
  },
  {
   "cell_type": "code",
   "execution_count": 25,
   "id": "4c27c380",
   "metadata": {},
   "outputs": [
    {
     "name": "stderr",
     "output_type": "stream",
     "text": [
      "2022-01-19 16:32:13.078141: I tensorflow/compiler/mlir/mlir_graph_optimization_pass.cc:116] None of the MLIR optimization passes are enabled (registered 2)\n"
     ]
    },
    {
     "name": "stdout",
     "output_type": "stream",
     "text": [
      "53/53 [==============================] - 0s 3ms/step - loss: 17.9076 - val_loss: 16.5687\n"
     ]
    },
    {
     "data": {
      "text/plain": [
       "<tensorflow.python.keras.callbacks.History at 0x7fa620d74c10>"
      ]
     },
     "execution_count": 25,
     "metadata": {},
     "output_type": "execute_result"
    }
   ],
   "source": [
    "games = pd.read_csv('data/games_tourney.csv')\n",
    "model.compile(optimizer='adam', loss='mae')\n",
    "model.fit(games['seed_diff'],\n",
    "          games['score_diff'],\n",
    "          batch_size=64,\n",
    "          validation_split = 0.2,\n",
    "          verbose=True)"
   ]
  },
  {
   "cell_type": "markdown",
   "id": "d644cc60",
   "metadata": {},
   "source": [
    "* Once you've fit a model, it's useful to evaluate it on new data"
   ]
  },
  {
   "cell_type": "markdown",
   "id": "1e2bc59c",
   "metadata": {},
   "source": [
    "# "
   ]
  },
  {
   "cell_type": "code",
   "execution_count": null,
   "id": "5c9c4628",
   "metadata": {},
   "outputs": [],
   "source": []
  },
  {
   "cell_type": "code",
   "execution_count": null,
   "id": "eccb7204",
   "metadata": {},
   "outputs": [],
   "source": []
  },
  {
   "cell_type": "code",
   "execution_count": null,
   "id": "b5bd8a50",
   "metadata": {},
   "outputs": [],
   "source": []
  },
  {
   "cell_type": "markdown",
   "id": "ed2258d9",
   "metadata": {},
   "source": [
    "<img src='data/visualize_parameters.png' width=\"600\" height=\"300\" align=\"center\"/>"
   ]
  }
 ],
 "metadata": {
  "kernelspec": {
   "display_name": "Python 3.8 (tensorflow)",
   "language": "python",
   "name": "tensorflow"
  },
  "language_info": {
   "codemirror_mode": {
    "name": "ipython",
    "version": 3
   },
   "file_extension": ".py",
   "mimetype": "text/x-python",
   "name": "python",
   "nbconvert_exporter": "python",
   "pygments_lexer": "ipython3",
   "version": "3.8.12"
  }
 },
 "nbformat": 4,
 "nbformat_minor": 5
}
