{
 "cells": [
  {
   "cell_type": "markdown",
   "id": "b62ed3c6",
   "metadata": {},
   "source": [
    "# sklearn's Category Encoders"
   ]
  },
  {
   "cell_type": "markdown",
   "id": "88aa2a35",
   "metadata": {},
   "source": [
    "#### sklearn's Category Encoders package\n",
    "   * largely derived from StatsModel's Patsy package\n",
    "   \n",
    "   #### Classic Encoders:\n",
    "        * Ordinal — convert string labels to integer values 1 through k. Ordinal.\n",
    "        * OneHot — one column for each value to compare vs. all other values. Nominal, ordinal.\n",
    "        * Binary — convert each integer to binary digits. Each binary digit gets one column. Some info loss but fewer dimensions. Ordinal.\n",
    "        * BaseN — Ordinal, Binary, or higher encoding. Nominal, ordinal. Doesn’t add much functionality. Probably avoid.\n",
    "        * Hashing — Like OneHot but fewer dimensions, some info loss due to collisions. Nominal, ordinal.\n",
    "        * Sum — Just like OneHot except one value is held constant and encoded as -1 across all columns.\n",
    "        \n",
    "   #### Contrast Encoders:\n",
    "        * The five contrast encoders all have multiple issues that I argue make them unlikely to be useful for machine learning. They all output one column for each value found in a column.\n",
    "        * Helmert (reverse) — The mean of the dependent variable for a level is compared to the mean of the dependent variable over all previous levels.\n",
    "        * Backward Difference — the mean of the dependent variable for a level is compared with the mean of the dependent variable for the prior level.\n",
    "        * Polynomial — orthogonal polynomial contrasts. The coefficients taken on by polynomial coding for k=4 levels are the linear, quadratic, and cubic trends in the categorical variable.\n",
    "\n",
    "   #### Bayesian Encoders:\n",
    "       * The Bayesian encoders use information from the dependent variable in their encodings. They output one column and can work well with high cardinality data.\n",
    "       * Target — use the mean of the DV, must take steps to avoid overfitting/ response leakage. Nominal, ordinal. For classification tasks.\n",
    "       * LeaveOneOut — similar to target but avoids contamination. Nominal, ordinal. For classification tasks.\n",
    "       * WeightOfEvidence — added in v1.3. Not documented in the docs as of April 11, 2019. The method is explained in this post.\n",
    "       * James-Stein — forthcoming in v1.4. Described in the code here.\n",
    "       * M-estimator — forthcoming in v1.4. Described in the code here. Simplified target encoder.\n",
    "       \n",
    "   * Note that all Category Encoders impute missing values automatically by default. However, I recommend filling missing data data yourself prior to encoding so you can test the results of several methods.\n",
    "   * **Some terminology:**\n",
    "       * *k* is the original number of unique values in your data column\n",
    "       * *High cardinality* means a lot of unique values (a large *k*)\n",
    "       * *High dimensionality* means a matrix with many dimensions; comes with Curse of Dimensionality (often results in overfitting)\n",
    "       * *Sparse* data is a matrix with lots of zeroes relative to other values. Some algorithms may not work well with sparse data\n",
    "       \n",
    "        \n",
    "        \n"
   ]
  },
  {
   "cell_type": "code",
   "execution_count": null,
   "id": "8e31928b",
   "metadata": {},
   "outputs": [],
   "source": []
  }
 ],
 "metadata": {
  "kernelspec": {
   "display_name": "Python 3",
   "language": "python",
   "name": "python3"
  },
  "language_info": {
   "codemirror_mode": {
    "name": "ipython",
    "version": 3
   },
   "file_extension": ".py",
   "mimetype": "text/x-python",
   "name": "python",
   "nbconvert_exporter": "python",
   "pygments_lexer": "ipython3",
   "version": "3.8.8"
  }
 },
 "nbformat": 4,
 "nbformat_minor": 5
}
