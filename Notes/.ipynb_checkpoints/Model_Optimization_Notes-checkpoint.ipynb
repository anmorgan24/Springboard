{
 "cells": [
  {
   "cell_type": "markdown",
   "id": "e52f2406",
   "metadata": {},
   "source": [
    "# Model Optimization"
   ]
  },
  {
   "cell_type": "markdown",
   "id": "516ba2ba",
   "metadata": {},
   "source": [
    "* This subunit is all about hyperparameters and how to optimize them. Unlike standard parameters, which are derived when training occurs, hyperparameters should be set before the learning process. There are several standard methods you can use to set hyperparameters for a model. We'll also cover one out-of-the-box method. \n",
    "\n",
    "#### Parameters vs Hyperparameters\n",
    "* **Parameters** of your model are *W* and $\\beta$\n",
    "* **Hyperparameters:** alpha (learning rate), # of iterations of gradient descent you carry out, # of hidden layers *L*, # of hidden units $n^1$, $n^2$, $n^3$, etc... choice of activation function, momentum term, mini-batch size, various regularization parameters\n",
    "* **Hyperparameters** are \"paramaters\" that control the ultimate parameter values of *W* and $\\beta$. In other words, the hyperparameters determine the final values of the parameters.\n",
    "* Note: in some \"earlier\" versions of ML, alpha $\\alpha$ has been referred to as a parameter and is sometimes still referred to as a parameter.\n",
    "\n",
    "\n",
    "* ML and deep learning are very empirical processes. \n",
    "* $\\Rightarrow$ IDEA $\\Rightarrow$ CODE $\\Rightarrow$ EXPERIMENT $\\Rightarrow$ IDEA $\\Rightarrow$\n",
    "* empirical is (arguably) a fancy word for \"trial and error\"\n",
    "\n"
   ]
  },
  {
   "cell_type": "code",
   "execution_count": null,
   "id": "4c143bb6",
   "metadata": {},
   "outputs": [],
   "source": []
  },
  {
   "cell_type": "code",
   "execution_count": null,
   "id": "42974be0",
   "metadata": {},
   "outputs": [],
   "source": []
  },
  {
   "cell_type": "code",
   "execution_count": null,
   "id": "11322feb",
   "metadata": {},
   "outputs": [],
   "source": []
  },
  {
   "cell_type": "code",
   "execution_count": null,
   "id": "f1784c8a",
   "metadata": {},
   "outputs": [],
   "source": []
  },
  {
   "cell_type": "code",
   "execution_count": null,
   "id": "43aebb67",
   "metadata": {},
   "outputs": [],
   "source": []
  },
  {
   "cell_type": "code",
   "execution_count": null,
   "id": "281804ba",
   "metadata": {},
   "outputs": [],
   "source": []
  },
  {
   "cell_type": "code",
   "execution_count": null,
   "id": "b0cc29c0",
   "metadata": {},
   "outputs": [],
   "source": []
  },
  {
   "cell_type": "code",
   "execution_count": null,
   "id": "cf10a8e4",
   "metadata": {},
   "outputs": [],
   "source": []
  }
 ],
 "metadata": {
  "kernelspec": {
   "display_name": "Python 3",
   "language": "python",
   "name": "python3"
  },
  "language_info": {
   "codemirror_mode": {
    "name": "ipython",
    "version": 3
   },
   "file_extension": ".py",
   "mimetype": "text/x-python",
   "name": "python",
   "nbconvert_exporter": "python",
   "pygments_lexer": "ipython3",
   "version": "3.8.8"
  }
 },
 "nbformat": 4,
 "nbformat_minor": 5
}
