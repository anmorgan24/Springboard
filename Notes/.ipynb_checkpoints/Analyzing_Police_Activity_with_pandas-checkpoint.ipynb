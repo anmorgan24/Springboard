{
 "cells": [
  {
   "cell_type": "markdown",
   "id": "11c7f832",
   "metadata": {},
   "source": [
    "# Analyzing Police Activity with pandas"
   ]
  },
  {
   "cell_type": "markdown",
   "id": "6e2d809c",
   "metadata": {},
   "source": [
    "Exercise created by Kevin Markham, founder of Data School\n",
    "Download full dataset for any of the 31 states involved at: [https://openpolicing.stanford.edu/](https://openpolicing.stanford.edu/)\n",
    "\n",
    "**Goals:**\n",
    "* Explore the Stanford Open Policing Project dataset and analyze the impact of gender on police behavior. \n",
    "* Gain more practice cleaning messy data, creating visualizations, combining and reshaping datasets, and manipulating time series data.\n",
    "\n",
    "**About the data:**\n",
    "\n",
    "* Each row represents one traffic stop\n",
    "* `NaN` values present"
   ]
  },
  {
   "cell_type": "markdown",
   "id": "3f24e2d3",
   "metadata": {},
   "source": [
    "* **`.isnull()`** : returns a boolean array; see also **`.isna()`**\n",
    "* **`.drop()`** : `ri.drop('column_name', axis = 'columns', inplace = True)`\n",
    "* **`.dropna()`** : `ri.dropna(subset=['stop_date', 'stop_time'], inplace = True)` # Only drops rows with`NaN`s specifically in the columns `stop_date` and `stop_time`\n",
    "* **`.astype()`** : to change data type\n",
    "\n",
    "* **Note:** you must use **bracket notation** on the left side of an assignment statement to create a new series or overwrite an existing one\n",
    "\n",
    "* `datetime` columns provide date-based attributes\n",
    "* **`.str.cat()`** concatenate strings (as opposed to `pd.concat()` for pd.Series); use argument `sep=' '` to separate with a space (or character of your choice)\n",
    "* **`pd.to_datetime()`** : convert a string to a datetime object; if no time is entered, defaults to midnight\n",
    "* **`.set_index()`** to set a column as the index; use `inplace = True` to avoid assignment statement\n",
    "* **Note:** When an existing column becomes the index, it is no longer considered to be one of the dataframe columns.\n",
    "* **`value_counts()`** : counts the unique values in a Series; best suited for categorical rather than numerical data; use **`normalize = True`** to express counts as proportions\n",
    "\n",
    "\n"
   ]
  },
  {
   "cell_type": "code",
   "execution_count": null,
   "id": "dd6cc8e6",
   "metadata": {},
   "outputs": [],
   "source": []
  },
  {
   "cell_type": "code",
   "execution_count": null,
   "id": "cceae9c9",
   "metadata": {},
   "outputs": [],
   "source": []
  },
  {
   "cell_type": "code",
   "execution_count": null,
   "id": "69ef8485",
   "metadata": {},
   "outputs": [],
   "source": []
  },
  {
   "cell_type": "code",
   "execution_count": null,
   "id": "fbc7753b",
   "metadata": {},
   "outputs": [],
   "source": []
  },
  {
   "cell_type": "code",
   "execution_count": null,
   "id": "37f748c8",
   "metadata": {},
   "outputs": [],
   "source": []
  },
  {
   "cell_type": "code",
   "execution_count": null,
   "id": "ba377b91",
   "metadata": {},
   "outputs": [],
   "source": []
  }
 ],
 "metadata": {
  "kernelspec": {
   "display_name": "Python 3",
   "language": "python",
   "name": "python3"
  },
  "language_info": {
   "codemirror_mode": {
    "name": "ipython",
    "version": 3
   },
   "file_extension": ".py",
   "mimetype": "text/x-python",
   "name": "python",
   "nbconvert_exporter": "python",
   "pygments_lexer": "ipython3",
   "version": "3.8.8"
  }
 },
 "nbformat": 4,
 "nbformat_minor": 5
}
