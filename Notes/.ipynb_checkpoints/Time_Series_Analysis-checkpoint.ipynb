{
 "cells": [
  {
   "cell_type": "markdown",
   "id": "f3f9ae14",
   "metadata": {},
   "source": [
    "# Time Series Analysis"
   ]
  },
  {
   "cell_type": "markdown",
   "id": "c6c8ef94",
   "metadata": {},
   "source": [
    "* From stock prices to climate data, time series data are found in a wide variety of domains, and being able to effectively work with such data is an increasingly important skill for data scientists.\n",
    "* Time series analysis deals with data that is ordered in time\n",
    "* Some useful pandas methods:\n",
    "    * `df['col'].pct_change()` : percent change\n",
    "    * `df['col'].diff()` : difference\n",
    "    * `df['ABC'].corr(df['XYZ'])`: correlation (for pd Series)\n",
    "* __Google Trends__ allows users to see how often a term is searched for."
   ]
  },
  {
   "cell_type": "markdown",
   "id": "41cd51da",
   "metadata": {},
   "source": [
    "* A first step when analyzing a time series is to visualize the data with a plot. \n",
    "* Stock and bond markets in the U.S. are closed on different days. For example, although the bond market is closed on Columbus Day (around Oct 12) and Veterans Day (around Nov 11), the stock market is open on those days. One way to see the dates that the stock market is open and the bond market is closed is to convert both indexes of dates into sets and take the difference in sets."
   ]
  },
  {
   "cell_type": "markdown",
   "id": "dba2f3be",
   "metadata": {},
   "source": [
    "### Two Time Series\n",
    "* Often, two time series vary together\n",
    "* __correlation coefficient:__ a measure of how much two series vary together; a correlation of 1 means two series have a perfect linear correlation with no deviations. A correlation of 0 means no correlation whatsoever.\n",
    "#### Common Mistake: Correlation of two trending series \n",
    "* Just because two time series seem to be trending together in the same direction(s) does not mean that they are correlated.\n",
    "* Example: Dow Jones and UFO sightings\n",
    "* If you're looking at the correlation of two stocks, you should look at the comparison of their returns, not their levels\n",
    "* Compute percent changes in each, then compute correlation\n",
    "* Scatter plots are also useful for visualizing the correlation between the two variables.\n",
    "\n",
    "```\n",
    "#Compute percent change using pct_change()\n",
    "returns = stocks_and_bonds.pct_change()\n",
    "#Compute correlation using corr()\n",
    "correlation = returns['SP500'].corr(returns['US10Y'])\n",
    "print(\"Correlation of stocks and interest rates: \", correlation)\n",
    "#Make scatter plot\n",
    "plt.scatter(returns['SP500'], returns['US10Y'])\n",
    "plt.show()\n",
    "```"
   ]
  },
  {
   "cell_type": "markdown",
   "id": "fc208be2",
   "metadata": {},
   "source": [
    "* Two trending series may show a strong correlation even if they are completely unrelated. This is referred to as \"spurious correlation\". That's why when you look at the correlation of say, two stocks, you should look at the correlation of their returns and not their levels.\n",
    "```\n",
    "#Compute correlation of levels\n",
    "correlation1 = levels['DJI'].corr(levels['UFO'])\n",
    "print(\"Correlation of levels: \", correlation1)\n",
    "#Compute correlation of percent changes\n",
    "changes = levels.pct_change()\n",
    "correlation2 = changes['DJI'].corr(changes['UFO'])\n",
    "print(\"Correlation of changes: \", correlation2)\n",
    "```\n",
    "### Simple Linear Regression\n",
    "\n",
    "* Linear Regression aka OLS\n",
    "* Python packages to perform regressions:\n",
    "    * In statsmodels:\n",
    "        * `sm.OLS(y, x).fit()`\n",
    "    * In numpy:\n",
    "        * `np.polyfit(x, y, deg=1)`\n",
    "    * In pandas:\n",
    "        * `pd.ols(y, x)`\n",
    "    * In scipy:\n",
    "        * `stats.lingress(x, y)`\n",
    "* __Beware:__ The order of x and y is not consistent across all packages\n",
    "* R-squared measures how closely the data fit the regression line.\n",
    "    * the R-squared in a simple regression is related to the correlation between the two variables. \n",
    "    * the magnitude of the correlation is the square root of the R-squared and the sign of the correlation is the sign of the regression coefficient.\n",
    "\n",
    "```\n",
    "#Import the statsmodels module\n",
    "import statsmodels.api as sm\n",
    "#Compute correlation of x and y\n",
    "correlation = x.corr(y)\n",
    "print(\"The correlation between x and y is %4.2f\" %(correlation))\n",
    "#Convert the Series x to a DataFrame and name the column x\n",
    "dfx = pd.DataFrame(x, columns=['x'])\n",
    "#Add a constant to the DataFrame dfx\n",
    "dfx1 = sm.add_constant(dfx)\n",
    "#Regress y on dfx1\n",
    "result = sm.OLS(y, dfx1).fit()\n",
    "#Print out the results and look at the relationship between R-squared and the correlation above\n",
    "print(result.summary())\n",
    "```"
   ]
  },
  {
   "cell_type": "markdown",
   "id": "5d2c278f",
   "metadata": {},
   "source": [
    "## Autocorrelation\n",
    "* Autocorrelation is the correlation of a single Time Series with a lagged copy of itself. \n",
    "* Aka 'Serial Correlation'\n",
    "* Often, when we refer to Autocorrelation, we mean __'Lag-one autocorrelation'__\n",
    "#### What does it mean when a Series has a positive or a negative autocorrelation?\n",
    "* __Mean Reversion:__ Negative autocorrelation\n",
    "* __Momentum__ or __Trend-Following:__ Positive autocorrelation\n",
    "* Example: Traders on Wall Street use autocorrelation to make money\n",
    "* Individual stocks have historically negative autocorrelation\n",
    "\n",
    "* `df.resample(rule= 'M', how= 'last')`\n",
    "    * 'M' = monthly \n",
    "    * how = how to do the resampling; you can use the first date, the last date, or even the average\n",
    "* __Mean reversion__ in stock prices: prices tend to bounce back, or revert, towards previous levels after large moves, which are observed over time horizons of about a week. \n",
    "* A more mathematical way to describe mean reversion is to say that stock returns are negatively autocorrelated.\n",
    "```\n",
    "#Convert the daily data to weekly data\n",
    "MSFT = MSFT.resample(rule='W', how='last')\n",
    "#Compute the percentage change of prices\n",
    "returns = MSFT.pct_change()\n",
    "#Compute and print the autocorrelation of returns\n",
    "autocorrelation = returns['Adj Close'].autocorr()\n",
    "print(\"The autocorrelation of weekly returns is %4.2f\" %(autocorrelation))\n",
    "```"
   ]
  },
  {
   "cell_type": "markdown",
   "id": "9fb4014c",
   "metadata": {},
   "source": [
    "* When you look at daily changes in interest rates, the autocorrelation is close to zero. However, if you resample the data and look at annual changes, the autocorrelation is negative. This implies that while short term changes in interest rates may be uncorrelated, long term changes in interest rates are negatively autocorrelated. \n",
    "```\n",
    "#Compute the daily change in interest rates \n",
    "daily_diff = daily_rates.diff()\n",
    "# Compute and print the autocorrelation of daily changes\n",
    "autocorrelation_daily = daily_diff['US10Y'].autocorr()\n",
    "print(\"The autocorrelation of daily interest rate changes is %4.2f\" %(autocorrelation_daily))\n",
    "#Convert the daily data to annual data\n",
    "yearly_rates = daily_rates.resample(rule='A').last()\n",
    "#Repeat above for annual data\n",
    "yearly_diff = yearly_rates.diff()\n",
    "autocorrelation_yearly = yearly_diff['US10Y'].autocorr()\n",
    "print(\"The autocorrelation of annual interest rate changes is %4.2f\" %(autocorrelation_yearly))\n",
    "```"
   ]
  },
  {
   "cell_type": "markdown",
   "id": "d4082245",
   "metadata": {},
   "source": [
    "## Autocorrelation Function\n",
    "* __ACF:__ AutoCorrelation Function; shows not only the lag 1 autocorrelation, but the entire autocorrelation function for different lags\n",
    "* Any significant non-zero correlations implies that the series can be forecast from the past \n",
    "* ACF useful for model selection\n",
    "* __Plot ACF in Python:__\n",
    "    * `from statsmodels.graphics.tsaplots import plot_acf`\n",
    "    * input x is series or array \n",
    "    * `plot_acf(x, lags=20, alpha=0.05)`\n",
    "    * the argument `lags` indicates how many lags of the autocorellation function will be plotted.\n",
    "    * the `alpha` argument sets the width of the confidence interval.\n",
    "* __Confidence Interval of ACF:__\n",
    "    * In `plot_acf` the argument `alpha` determines the width of the confidence interval.\n",
    "    * `alpha` = chance the if true autocorrelation is zero, it will fall outside blue band\n",
    "    * Example: `alpha` = 0.05 = 5% chance\n",
    "    * Confidence bands are wider if:\n",
    "        * alpha is lower\n",
    "        * fewer observations\n",
    "    * Under some simplifying observations, 95% confidence bands are +/- 2/"
   ]
  },
  {
   "cell_type": "code",
   "execution_count": null,
   "id": "0274dcd5",
   "metadata": {},
   "outputs": [],
   "source": []
  },
  {
   "cell_type": "code",
   "execution_count": null,
   "id": "ce05a386",
   "metadata": {},
   "outputs": [],
   "source": []
  },
  {
   "cell_type": "code",
   "execution_count": null,
   "id": "1969959b",
   "metadata": {},
   "outputs": [],
   "source": []
  },
  {
   "cell_type": "code",
   "execution_count": null,
   "id": "f87a6547",
   "metadata": {},
   "outputs": [],
   "source": []
  },
  {
   "cell_type": "code",
   "execution_count": null,
   "id": "0f1e231a",
   "metadata": {},
   "outputs": [],
   "source": []
  },
  {
   "cell_type": "code",
   "execution_count": null,
   "id": "85931997",
   "metadata": {},
   "outputs": [],
   "source": []
  },
  {
   "cell_type": "code",
   "execution_count": null,
   "id": "ca4609d9",
   "metadata": {},
   "outputs": [],
   "source": []
  }
 ],
 "metadata": {
  "kernelspec": {
   "display_name": "Python 3",
   "language": "python",
   "name": "python3"
  },
  "language_info": {
   "codemirror_mode": {
    "name": "ipython",
    "version": 3
   },
   "file_extension": ".py",
   "mimetype": "text/x-python",
   "name": "python",
   "nbconvert_exporter": "python",
   "pygments_lexer": "ipython3",
   "version": "3.8.8"
  }
 },
 "nbformat": 4,
 "nbformat_minor": 5
}
