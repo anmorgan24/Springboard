{
 "cells": [
  {
   "cell_type": "markdown",
   "id": "108c9f99",
   "metadata": {},
   "source": [
    "# Libs"
   ]
  },
  {
   "cell_type": "markdown",
   "id": "9ba23d05",
   "metadata": {},
   "source": [
    "* Python\n",
    "* SQL\n",
    "* jupyter\n",
    "* git\n",
    "* pandas\n",
    "* NumPy\n",
    "* matplotlib\n",
    "* Seaborn\n",
    "* plotly\n",
    "* Spark\n",
    "* PySpark\n",
    "* TensorFlow\n",
    "* Keras\n",
    "* scikit-learn\n",
    "* scikit-image \n",
    "* geopandas\n",
    "* nltk\n",
    "* PyTorch\n",
    "* SpaCy\n",
    "* NetworkX\n",
    "* graphviz\n",
    "* gensim\n",
    "* polyglot\n",
    "* pycaret\n",
    "* textatistic \n",
    "\n",
    "***\n",
    "* ggplot\n",
    "* bootstrap"
   ]
  },
  {
   "cell_type": "code",
   "execution_count": null,
   "id": "0f7adc57",
   "metadata": {},
   "outputs": [],
   "source": []
  }
 ],
 "metadata": {
  "kernelspec": {
   "display_name": "Python 3",
   "language": "python",
   "name": "python3"
  },
  "language_info": {
   "codemirror_mode": {
    "name": "ipython",
    "version": 3
   },
   "file_extension": ".py",
   "mimetype": "text/x-python",
   "name": "python",
   "nbconvert_exporter": "python",
   "pygments_lexer": "ipython3",
   "version": "3.8.8"
  }
 },
 "nbformat": 4,
 "nbformat_minor": 5
}
