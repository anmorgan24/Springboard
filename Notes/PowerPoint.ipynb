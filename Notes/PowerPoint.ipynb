{
 "cells": [
  {
   "cell_type": "markdown",
   "id": "a51af6cc",
   "metadata": {},
   "source": [
    "# PowerPoint"
   ]
  },
  {
   "cell_type": "markdown",
   "id": "b715241f",
   "metadata": {},
   "source": [
    "## LinkedIn Master Microsoft PowerPoint"
   ]
  },
  {
   "cell_type": "markdown",
   "id": "cdf32cd2",
   "metadata": {},
   "source": [
    "* 1. What is my primary message?\n",
    "* 2. What is my #1 goal in delivering this message?\n",
    "* 3. How do I best visualize this message?\n",
    "\n",
    "* **Hierarchy** in design is simply when one design element appears more important in comparison to other elements on the slide\n",
    "* **Space:** (aka whitespace or negative space) Empty places or the separation between elements on the slide\n",
    "* **Similarity and Contrast:** work together to communicate a variety of relationships\n",
    "* **Color:** Attracts viewers to important or key elements of the design\n",
    "\n",
    "* **The Three Design Pillars:**\n",
    "    * Audience\n",
    "    * Environment \n",
    "    * Message\n",
    "    \n",
    "* **Visual dissonance**: What the duck visuals\n",
    "* Not knowing where to look can be uncomfortable\n",
    "\n",
    "* Designers can manipulate how an onlooker will approach their design through:\n",
    "    * Size\n",
    "    * Shape\n",
    "    * Color\n",
    "    * Saturation\n",
    "    * Texture\n",
    "    \n",
    "* **Dominance:** When one element is **visually more important** than all the other elements on the slide, through contrast, visual weight, or direction.\n",
    "* **Focal points:** Elements or areas of emphasis within the design that draw similarities from the dominant element.\n",
    "\n",
    "* To create visual dominance, create levels of dominance and focal points (either per slide or across slides)\n",
    "* Your slides' visual hierarchy should match your content's hierarchy\n",
    "* Bullet points \"corrupt and weaken verbal and spatial thinking.\" -Tufte"
   ]
  },
  {
   "cell_type": "code",
   "execution_count": null,
   "id": "2fd12aa4",
   "metadata": {},
   "outputs": [],
   "source": []
  },
  {
   "cell_type": "code",
   "execution_count": null,
   "id": "17f12f19",
   "metadata": {},
   "outputs": [],
   "source": []
  },
  {
   "cell_type": "code",
   "execution_count": null,
   "id": "9b0dc16f",
   "metadata": {},
   "outputs": [],
   "source": []
  },
  {
   "cell_type": "code",
   "execution_count": null,
   "id": "7a331a0f",
   "metadata": {},
   "outputs": [],
   "source": []
  },
  {
   "cell_type": "code",
   "execution_count": null,
   "id": "d27a8b09",
   "metadata": {},
   "outputs": [],
   "source": []
  },
  {
   "cell_type": "code",
   "execution_count": null,
   "id": "64c45660",
   "metadata": {},
   "outputs": [],
   "source": []
  },
  {
   "cell_type": "code",
   "execution_count": null,
   "id": "db6e9e57",
   "metadata": {},
   "outputs": [],
   "source": []
  },
  {
   "cell_type": "code",
   "execution_count": null,
   "id": "0857d0a4",
   "metadata": {},
   "outputs": [],
   "source": []
  },
  {
   "cell_type": "code",
   "execution_count": null,
   "id": "96549b64",
   "metadata": {},
   "outputs": [],
   "source": []
  },
  {
   "cell_type": "code",
   "execution_count": null,
   "id": "5f491d17",
   "metadata": {},
   "outputs": [],
   "source": []
  },
  {
   "cell_type": "code",
   "execution_count": null,
   "id": "07d2022e",
   "metadata": {},
   "outputs": [],
   "source": []
  },
  {
   "cell_type": "code",
   "execution_count": null,
   "id": "9b3e6ae4",
   "metadata": {},
   "outputs": [],
   "source": []
  },
  {
   "cell_type": "code",
   "execution_count": null,
   "id": "9015b45f",
   "metadata": {},
   "outputs": [],
   "source": []
  },
  {
   "cell_type": "code",
   "execution_count": null,
   "id": "4b5c4236",
   "metadata": {},
   "outputs": [],
   "source": []
  },
  {
   "cell_type": "code",
   "execution_count": null,
   "id": "0214494f",
   "metadata": {},
   "outputs": [],
   "source": []
  },
  {
   "cell_type": "code",
   "execution_count": null,
   "id": "4eebf323",
   "metadata": {},
   "outputs": [],
   "source": []
  },
  {
   "cell_type": "code",
   "execution_count": null,
   "id": "dad1c60e",
   "metadata": {},
   "outputs": [],
   "source": []
  },
  {
   "cell_type": "code",
   "execution_count": null,
   "id": "e108c5b1",
   "metadata": {},
   "outputs": [],
   "source": []
  },
  {
   "cell_type": "code",
   "execution_count": null,
   "id": "3ff983e2",
   "metadata": {},
   "outputs": [],
   "source": []
  },
  {
   "cell_type": "code",
   "execution_count": null,
   "id": "fa4d5149",
   "metadata": {},
   "outputs": [],
   "source": []
  }
 ],
 "metadata": {
  "kernelspec": {
   "display_name": "Python 3",
   "language": "python",
   "name": "python3"
  },
  "language_info": {
   "codemirror_mode": {
    "name": "ipython",
    "version": 3
   },
   "file_extension": ".py",
   "mimetype": "text/x-python",
   "name": "python",
   "nbconvert_exporter": "python",
   "pygments_lexer": "ipython3",
   "version": "3.8.8"
  }
 },
 "nbformat": 4,
 "nbformat_minor": 5
}
