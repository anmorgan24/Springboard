{
 "cells": [
  {
   "cell_type": "markdown",
   "id": "0003b803",
   "metadata": {},
   "source": [
    "# Intermediate Network Analysis in Python"
   ]
  },
  {
   "cell_type": "markdown",
   "id": "a742cc05",
   "metadata": {},
   "source": [
    "Build on your knowledge and skills to tackle more advanced problems in network analytics! Gain the conceptual and practical skills to analyze evolving time series of networks, learn about bipartite graphs, and how to use bipartite graphs in product recommendation systems. You'll also learn about graph projections, why they're so useful in Data Science, and figure out the best ways to store and load graph data from files. You'll consolidate all of this knowledge in a final chapter case study, in which you'll analyze a forum dataset."
   ]
  },
  {
   "cell_type": "markdown",
   "id": "cbb2a7db",
   "metadata": {},
   "source": [
    "## Chapter 1: Bipartite graphs & product recommendation systems\n",
    "Learn about bipartite graphs and how they are used in recommendation systems. You will explore the GitHub dataset from the previous course, this time analyzing the underlying bipartite graph that was used to create the graph that you used earlier. Finally, you will get a chance to build the basic components of a recommendation system using the GitHub data!\n",
    "\n",
    "### Defintions & basic recap\n",
    "* Eric Ma: computation biological engineer from MIT (course instructor)\n",
    "\n",
    "* **Network** = **Graph** = (nodes/edges)\n",
    "    * A network, which is also known as a graph, is comprised of two sets: a set of nodes, and a set of edges\n",
    "    * We often draw graphs as \"circles joined by lines,\" where the circles represent some real world entity, such as individuals in a social network, and the lines denote some relationship between the entities, such as being connected as friends in a social network.\n",
    "* **Directed** or **Undirected**\n",
    "    * Facebook: Undirected (no direction is implied in \"friendship\")\n",
    "    * Twitter: Directed (directional \"Follow\")\n",
    "* **`networkx`**: API for analysis of graphs\n",
    "    * contains a library of classes and functions for the creation, analysis, and manipulation of graphs\n",
    "    \n",
    "* Using `len(G.nodes())` and `len(G.edges())`, we can start describing a graph's basic statistics.\n",
    "* Graph types include: `Graph`, `DiGraph`, `MultiGraph`, and `MultiDiGraph`\n",
    "\n",
    "#### Network visualization\n",
    "* **`nxviz`:** API for creating beautiful and rational graph viz\n",
    "* **Rational** visualizations prioritize the nodes' placement; examples:\n",
    "    * matrix\n",
    "    * arc\n",
    "    * circos\n",
    "    * hive\n",
    "    "
   ]
  },
  {
   "cell_type": "code",
   "execution_count": 43,
   "id": "95cd3f21",
   "metadata": {},
   "outputs": [],
   "source": [
    "import networkx as nx\n",
    "import nxviz as nv\n",
    "import matplotlib.pyplot as plt\n",
    "from collections import defaultdict"
   ]
  },
  {
   "cell_type": "markdown",
   "id": "431b4fc2",
   "metadata": {},
   "source": [
    "```\n",
    "ap = nv.ArcPlot(G)\n",
    "ap.draw()\n",
    "plt.show()\n",
    "```"
   ]
  },
  {
   "cell_type": "markdown",
   "id": "176c15ab",
   "metadata": {},
   "source": [
    "**Add the degree centrality score of each node to their metadata dictionary:**\n",
    "```\n",
    "# Add the degree centrality score of each node to their metadata dictionary\n",
    "dcs = nx.degree_centrality(G)\n",
    "for n in G.nodes():\n",
    "    G.nodes[n]['centrality'] = dcs[n]\n",
    "```"
   ]
  },
  {
   "cell_type": "markdown",
   "id": "6b44b1fb",
   "metadata": {},
   "source": [
    "#### Plotting using nxviz\n",
    "\n",
    "```\n",
    "# Create the CircosPlot object: c\n",
    "c = CircosPlot(G, node_color='bipartite', node_grouping='bipartite', node_order='centrality')\n",
    "\n",
    "# Draw c to the screen\n",
    "c.draw()\n",
    "\n",
    "# Display the plot\n",
    "plt.show()\n",
    "```\n",
    "\n",
    "### Bipartite graphs\n",
    "* There are two conditions for defining a **bipartite graph**:\n",
    "    * **A graph in which the nodes are partitioned into two sets.**\n",
    "    * **The nodes in one set cannot be connected to one another; they can only be connected to nodes in the other set.**\n",
    "* This is in contrast to the **unipartite** graphs we've been using thus far in the course, in which the nodes are not explicitly partitioned into two sets.\n",
    "* An example where a bipartite graph may come in handy is: modeling the purchases that a set of customers make\n",
    "    * The nodes are partitioned into two sets: the customers partition, and the products partition\n",
    "    * Edges denote that a customer has purchased a particular product.\n",
    "    * Customers cannot purchase other customers, products cannot be purchased by other products."
   ]
  },
  {
   "cell_type": "code",
   "execution_count": 2,
   "id": "c2a00f21",
   "metadata": {},
   "outputs": [],
   "source": [
    "# import networks as nx\n",
    "G= nx.Graph()\n",
    "numbers = range(3)\n",
    "G.add_nodes_from(numbers, bipartite='customers')\n",
    "letters = ['a', 'b']\n",
    "G.add_nodes_from(letters, bipartite='products')"
   ]
  },
  {
   "cell_type": "markdown",
   "id": "6477431c",
   "metadata": {},
   "source": [
    "* Though it is not required by the API, by convention, bipartite information is encoded as part of the node attributes (or metadata), using the `bipartite` keyword.\n",
    "* In the toy example above, let's say we're modeling the connectivity between a 'customers' and a 'products' partition.\n",
    "* In constructing the graph, we use the graph object's method `add_nodes_from()`, passing in the list of nodes from each partition as the first argument\n",
    "* By passing in the `bipartite='customers'` or `bipartite='products'` arguments, the method will automatically create the node's metadata dictionary with the key bipartite and the value product or customers. "
   ]
  },
  {
   "cell_type": "code",
   "execution_count": 3,
   "id": "30a98bcb",
   "metadata": {},
   "outputs": [
    {
     "data": {
      "text/plain": [
       "NodeDataView({0: {'bipartite': 'customers'}, 1: {'bipartite': 'customers'}, 2: {'bipartite': 'customers'}, 'a': {'bipartite': 'products'}, 'b': {'bipartite': 'products'}})"
      ]
     },
     "execution_count": 3,
     "metadata": {},
     "output_type": "execute_result"
    }
   ],
   "source": [
    "G.nodes(data=True)"
   ]
  },
  {
   "cell_type": "code",
   "execution_count": 4,
   "id": "660f1452",
   "metadata": {},
   "outputs": [
    {
     "data": {
      "image/png": "[encoded data removed]",
      "text/plain": [
       "<Figure size 432x288 with 1 Axes>"
      ]
     },
     "metadata": {},
     "output_type": "display_data"
    }
   ],
   "source": [
    "nx.draw(G, with_labels =True)\n",
    "plt.show()"
   ]
  },
  {
   "cell_type": "code",
   "execution_count": 5,
   "id": "cb05e8be",
   "metadata": {},
   "outputs": [],
   "source": [
    "G.add_edge(0, 'b')\n",
    "G.add_edge(1, 'b')\n",
    "G.add_edge(2, 'a')\n",
    "G.add_edge(2, 'b')"
   ]
  },
  {
   "cell_type": "code",
   "execution_count": 6,
   "id": "07384206",
   "metadata": {},
   "outputs": [
    {
     "data": {
      "image/png": "[encoded data removed]",
      "text/plain": [
       "<Figure size 432x288 with 1 Axes>"
      ]
     },
     "metadata": {},
     "output_type": "display_data"
    }
   ],
   "source": [
    "nx.draw(G, with_labels =True)\n",
    "plt.show()"
   ]
  },
  {
   "cell_type": "markdown",
   "id": "0eeeea74",
   "metadata": {},
   "source": [
    "* **Note:** the partition info stored and displayed in metadata above.\n",
    "\n",
    "#### Degree Centrality\n",
    "* **Recall** that the degree centrality metric is a measure of node importance.\n",
    "* For any graph, the degree centrality of a node in the graph is defined as the number of neighbors in the graph divided by the number of possible neighbors it could have\n",
    "    * **(number of neighbors) // (number of possible neighbors)**\n",
    "    \n",
    "* **Number of possible neighbors *depends on graph type***\n",
    "    * In a **bipartite** graph, the denominator is the number of nodes present in the *other* partition.\n",
    "\n",
    "\n",
    "#### Filtering graphs\n",
    "* Because NetworkX doesn't provide an explicit 'bipartite' graph class, you will need to learn how to filter a graph for the node set.\n",
    "* This is most commonly accomplisheed by using list comprehensions\n",
    "* For example, to get the nodes in the `'customers'` partition, use the list comprehension below:"
   ]
  },
  {
   "cell_type": "code",
   "execution_count": 7,
   "id": "6b7fb787",
   "metadata": {},
   "outputs": [],
   "source": [
    "cust_nodes = [n for n, d in G.nodes(data=True) if d['bipartite']=='customers']"
   ]
  },
  {
   "cell_type": "code",
   "execution_count": 8,
   "id": "e4815509",
   "metadata": {},
   "outputs": [
    {
     "data": {
      "text/plain": [
       "[0, 1, 2]"
      ]
     },
     "execution_count": 8,
     "metadata": {},
     "output_type": "execute_result"
    }
   ],
   "source": [
    "cust_nodes"
   ]
  },
  {
   "cell_type": "markdown",
   "id": "db8c2d94",
   "metadata": {},
   "source": [
    "* Note how there's only `'customer'` nodes contained in the above list. \n",
    "* Upcoming in the course: we can get the bipartite degree centrality of a graph by calling on the bipartite degree centrality function, which requires a graph G and a list of nodes from one partition as arguments (it can be either partition."
   ]
  },
  {
   "cell_type": "code",
   "execution_count": 9,
   "id": "f5171eb4",
   "metadata": {},
   "outputs": [
    {
     "data": {
      "text/plain": [
       "{0: 0.5, 1: 0.5, 2: 1.0, 'b': 1.0, 'a': 0.3333333333333333}"
      ]
     },
     "execution_count": 9,
     "metadata": {},
     "output_type": "execute_result"
    }
   ],
   "source": [
    "nx.bipartite.degree_centrality(G, cust_nodes)"
   ]
  },
  {
   "cell_type": "markdown",
   "id": "4e2fcd60",
   "metadata": {},
   "source": [
    "#### The 'bipartite' keyword\n",
    "* This keyword is part of a node's metadata dictionary, and can be assigned both when you add a node and after the node is added. \n",
    "* Write a function that returns the nodes from a given partition in a bipartite graph."
   ]
  },
  {
   "cell_type": "code",
   "execution_count": 10,
   "id": "6a4144cb",
   "metadata": {},
   "outputs": [],
   "source": [
    "# Define get_nodes_from_partition()\n",
    "def get_nodes_from_partition(G, partition):\n",
    "    # Initialize an empty list for nodes to be returned\n",
    "    nodes = []\n",
    "    # Iterate over each node in the graph G\n",
    "    for n in G.nodes():\n",
    "        # Check that the node belongs to the particular partition\n",
    "        if G.nodes[n]['bipartite'] == partition:\n",
    "            # If so, append it to the list of nodes\n",
    "            nodes.append(n)\n",
    "    return nodes"
   ]
  },
  {
   "cell_type": "markdown",
   "id": "c2ce9ef7",
   "metadata": {},
   "source": [
    "```\n",
    "# Print the number of nodes in the 'projects' partition\n",
    "print(len(get_nodes_from_partition(G, 'projects')))\n",
    "\n",
    "# Print the number of nodes in the 'users' partition\n",
    "print(len(get_nodes_from_partition(G, 'users')))\n",
    "```"
   ]
  },
  {
   "cell_type": "markdown",
   "id": "2852bab1",
   "metadata": {},
   "source": [
    "#### Degree centrality distribution of user nodes\n",
    "* The \"degree centrality\" is a measure of node importance \n",
    "* The \"degree centrality distribution\" is the list of degree centrality scores for all nodes in the graph. \n",
    "\n",
    "```\n",
    "# Import matplotlib\n",
    "import matplotlib.pyplot as plt\n",
    "\n",
    "# Get the 'users' nodes: user_nodes\n",
    "user_nodes = get_nodes_from_partition(G, 'users')\n",
    "\n",
    "# Compute the degree centralities: dcs\n",
    "dcs = nx.degree_centrality(G)\n",
    "\n",
    "# Get the degree centralities for user_nodes: user_dcs\n",
    "user_dcs = [dcs[n] for n in user_nodes]\n",
    "\n",
    "# Plot the degree distribution of users_dcs\n",
    "plt.yscale('log')\n",
    "plt.hist(user_dcs, bins=20)\n",
    "plt.show()\n",
    "\n",
    "# Get the 'projects' nodes: project_nodes\n",
    "project_nodes = get_nodes_from_partition(G, 'projects')\n",
    "\n",
    "# Compute the degree centralities: dcs\n",
    "dcs = nx.degree_centrality(G)\n",
    "\n",
    "# Get the degree centralities for project_nodes: project_dcs\n",
    "project_dcs = [dcs[n] for n in project_nodes]\n",
    "\n",
    "# Plot the degree distribution of project_dcs\n",
    "plt.yscale('log')\n",
    "plt.hist(project_dcs, bins=20)\n",
    "plt.show()\n",
    "```\n",
    "\n",
    "### Bipartite graphs and recommendation systems\n",
    "#### Recommendation systems\n",
    "* Previously: Recommended users to connect with one another\n",
    "    * Graph: 'unipartite' (or, users-only) version\n",
    "* Now: 'bipartite' (or, repo-users) version\n",
    "* Recommending repositories for users to work on (which is an alternative to recommending users to work with). \n",
    "    * The concept is founded on **set overlaps** between highly similar nodes on one partition."
   ]
  },
  {
   "cell_type": "code",
   "execution_count": null,
   "id": "6cf678f7",
   "metadata": {},
   "outputs": [],
   "source": [
    "#G = G.remove_nodes_from(list(G.nodes()))"
   ]
  },
  {
   "cell_type": "code",
   "execution_count": null,
   "id": "0b857cb3",
   "metadata": {},
   "outputs": [],
   "source": [
    "#G = nx.Graph.remove_edges_from(list(G.edges()))"
   ]
  },
  {
   "cell_type": "code",
   "execution_count": null,
   "id": "9e83adac",
   "metadata": {},
   "outputs": [],
   "source": [
    "#G.remove_node('a')"
   ]
  },
  {
   "cell_type": "code",
   "execution_count": null,
   "id": "83e45127",
   "metadata": {},
   "outputs": [],
   "source": [
    "#G=G.remove_node(2)"
   ]
  },
  {
   "cell_type": "code",
   "execution_count": 11,
   "id": "8deba1da",
   "metadata": {},
   "outputs": [],
   "source": [
    "# import networks as nx\n",
    "G2= nx.Graph()\n",
    "users = ['user1', 'user2', 'user3']\n",
    "G2.add_nodes_from(users, bipartite='users')\n",
    "repos = ['repo1', 'repo2', 'repo3']\n",
    "G2.add_nodes_from(repos, bipartite='repos')\n",
    "G2.add_edge('user1', 'repo2')\n",
    "G2.add_edge('user2', 'repo2')\n",
    "G2.add_edge('user3', 'repo1')\n",
    "G2.add_edge('user3', 'repo2')"
   ]
  },
  {
   "cell_type": "code",
   "execution_count": 12,
   "id": "c95562be",
   "metadata": {},
   "outputs": [
    {
     "data": {
      "image/png": "[encoded data removed]",
      "text/plain": [
       "<Figure size 432x288 with 1 Axes>"
      ]
     },
     "metadata": {},
     "output_type": "display_data"
    }
   ],
   "source": [
    "nx.draw(G2, with_labels = True)\n",
    "plt.show()"
   ]
  },
  {
   "cell_type": "markdown",
   "id": "d01c6cae",
   "metadata": {},
   "source": [
    "* `user1` is connected to `repo2` and we want to recommend repositories that `user1` might be interested in working on.\n",
    "* Which other users are connected to `repo2` (other than `user1`), which in this case are `user2` and `user3`\n",
    "* Both `user2` and `user3` are also connected, but in this case, `user3` also has another repository, `repo1`, that it's connected to.\n",
    "* In this case, we may want to thus recommend `repo1` to `user1` to contribute to.\n",
    "* One thing that may come in handy for the following exercise is the idea of using **set operations** in your code.\n",
    "\n",
    "#### Code: Node sets"
   ]
  },
  {
   "cell_type": "code",
   "execution_count": 14,
   "id": "5c2e9b54",
   "metadata": {},
   "outputs": [
    {
     "data": {
      "text/plain": [
       "NodeDataView({'user1': {'bipartite': 'users'}, 'user2': {'bipartite': 'users'}, 'user3': {'bipartite': 'users'}, 'repo1': {'bipartite': 'repos'}, 'repo2': {'bipartite': 'repos'}, 'repo3': {'bipartite': 'repos'}})"
      ]
     },
     "execution_count": 14,
     "metadata": {},
     "output_type": "execute_result"
    }
   ],
   "source": [
    "G2.nodes(data=True)"
   ]
  },
  {
   "cell_type": "code",
   "execution_count": 16,
   "id": "97f54119",
   "metadata": {},
   "outputs": [
    {
     "data": {
      "text/plain": [
       "EdgeDataView([('user1', 'repo2', {}), ('user2', 'repo2', {}), ('user3', 'repo1', {}), ('user3', 'repo2', {})])"
      ]
     },
     "execution_count": 16,
     "metadata": {},
     "output_type": "execute_result"
    }
   ],
   "source": [
    "G2.edges(data=True)"
   ]
  },
  {
   "cell_type": "markdown",
   "id": "bc82fa1c",
   "metadata": {},
   "source": [
    "* Note that the node list contains all 6 nodes, belonging to both the repositories and useres partitions, and the edge list containing the 4 edges between them.\n",
    "* Suppose we wanted to see which neighbors are shared between two nodes, `user1` and `user3`"
   ]
  },
  {
   "cell_type": "code",
   "execution_count": 36,
   "id": "366e137b",
   "metadata": {},
   "outputs": [
    {
     "data": {
      "text/plain": [
       "<dict_keyiterator at 0x7fb931184ef0>"
      ]
     },
     "execution_count": 36,
     "metadata": {},
     "output_type": "execute_result"
    }
   ],
   "source": [
    "user1_nbrs = G2.neighbors('user1')\n",
    "user1_nbrs"
   ]
  },
  {
   "cell_type": "code",
   "execution_count": 18,
   "id": "a369d6a7",
   "metadata": {},
   "outputs": [
    {
     "data": {
      "text/plain": [
       "['repo2']"
      ]
     },
     "execution_count": 18,
     "metadata": {},
     "output_type": "execute_result"
    }
   ],
   "source": [
    "#list(user1_nbrs)"
   ]
  },
  {
   "cell_type": "code",
   "execution_count": 37,
   "id": "69afd83d",
   "metadata": {},
   "outputs": [
    {
     "data": {
      "text/plain": [
       "<dict_keyiterator at 0x7fb9311841d0>"
      ]
     },
     "execution_count": 37,
     "metadata": {},
     "output_type": "execute_result"
    }
   ],
   "source": [
    "user3_nbrs = G2.neighbors('user3')\n",
    "user3_nbrs"
   ]
  },
  {
   "cell_type": "code",
   "execution_count": 21,
   "id": "fd6e99ed",
   "metadata": {},
   "outputs": [
    {
     "data": {
      "text/plain": [
       "['repo1', 'repo2']"
      ]
     },
     "execution_count": 21,
     "metadata": {},
     "output_type": "execute_result"
    }
   ],
   "source": [
    "#list(user3_nbrs)"
   ]
  },
  {
   "cell_type": "markdown",
   "id": "fc589a7f",
   "metadata": {},
   "source": [
    "* To see which neighbors are shared, we can use `set` and `.intersection()`"
   ]
  },
  {
   "cell_type": "code",
   "execution_count": 32,
   "id": "40fd9b9a",
   "metadata": {},
   "outputs": [
    {
     "data": {
      "text/plain": [
       "{'repo2'}"
      ]
     },
     "execution_count": 32,
     "metadata": {},
     "output_type": "execute_result"
    }
   ],
   "source": [
    "set(user1_nbrs).intersection(user3_nbrs)"
   ]
  },
  {
   "cell_type": "markdown",
   "id": "39a706fb",
   "metadata": {},
   "source": [
    "* Call the `intersection()` method, passing in the other container nodes, to get the common elements\n",
    "* Here, the intersection of user 1 and user 3 neighbors is `repo2`; **they both contributed to `repo2`.**\n",
    "* We can also get the difference between the two, which is the nodes that are in the left node set that are not in the right node set. In this case, a repo that `user3` contributed to that `user1` didn't contribute to is `repo1`\n",
    "* As such, this is one candidate repository that could be recommended to `user1`"
   ]
  },
  {
   "cell_type": "code",
   "execution_count": 38,
   "id": "c0a2585e",
   "metadata": {},
   "outputs": [
    {
     "data": {
      "text/plain": [
       "{'repo1'}"
      ]
     },
     "execution_count": 38,
     "metadata": {},
     "output_type": "execute_result"
    }
   ],
   "source": [
    "set(user3_nbrs).difference(user1_nbrs)"
   ]
  },
  {
   "cell_type": "markdown",
   "id": "ca4a5f8c",
   "metadata": {},
   "source": [
    "### Shared nodes in other partition\n",
    "* In order to build up your concept of recommendation systems, we are going to start with the fundamentals. The focus here is on computing user similarity in bipartite graphs.\n",
    "* Your job is to write a function that takes in two nodes, and returns the set of repository nodes that are shared between the two user nodes."
   ]
  },
  {
   "cell_type": "code",
   "execution_count": 39,
   "id": "1bc1075b",
   "metadata": {},
   "outputs": [],
   "source": [
    "def shared_partition_nodes(G, node1, node2):\n",
    "    # Check that the nodes belong to the same partition\n",
    "    assert G.nodes[node1]['bipartite'] == G.nodes[node2]['bipartite']\n",
    "\n",
    "    # Get neighbors of node 1: nbrs1\n",
    "    nbrs1 = G.neighbors(node1)\n",
    "    # Get neighbors of node 2: nbrs2\n",
    "    nbrs2 = G.neighbors(node2)\n",
    "\n",
    "    # Compute the overlap using set intersections\n",
    "    overlap = set(nbrs1).intersection(nbrs2)\n",
    "    return overlap"
   ]
  },
  {
   "cell_type": "markdown",
   "id": "6d689399",
   "metadata": {},
   "source": [
    "```\n",
    "# Print the number of shared repositories between users 'u7909' and 'u2148'\n",
    "print(len(shared_partition_nodes(G, 'u7909', 'u2148')))\n",
    "```"
   ]
  },
  {
   "cell_type": "markdown",
   "id": "8f0d5c69",
   "metadata": {},
   "source": [
    "### User similarity metric\n",
    "Having written a function to calculate the set of nodes that are shared between two nodes, you're now going to write a function to compute a metric of similarity between two users: the number of projects shared between two users divided by the total number of nodes in the other partition. This can then be used to find users that are similar to one another."
   ]
  },
  {
   "cell_type": "code",
   "execution_count": 42,
   "id": "61b83a81",
   "metadata": {},
   "outputs": [],
   "source": [
    "def user_similarity(G, user1, user2, proj_nodes):\n",
    "    # Check that the nodes belong to the 'users' partition\n",
    "    assert G.nodes[user1]['bipartite'] == 'users'\n",
    "    assert G.nodes[user2]['bipartite'] == 'users'\n",
    "\n",
    "    # Get the set of nodes shared between the two users\n",
    "    shared_nodes = shared_partition_nodes(G, user1, user2)\n",
    "\n",
    "    # Return the fraction of nodes in the projects partition\n",
    "    return len(shared_nodes) / len(proj_nodes)"
   ]
  },
  {
   "cell_type": "markdown",
   "id": "fbb88b9a",
   "metadata": {},
   "source": [
    "```\n",
    "# Compute the similarity score between users 'u4560' and 'u1880'\n",
    "project_nodes = get_nodes_from_partition(G, 'projects')\n",
    "similarity_score = user_similarity(G, 'u4560', 'u1880', 'projects')\n",
    "\n",
    "print(similarity_score)\n",
    "```"
   ]
  },
  {
   "cell_type": "markdown",
   "id": "b6dd9a04",
   "metadata": {},
   "source": [
    "### Find similar users\n",
    "You're now going to build upon what you've learned so far to write a function called most_similar_users() that finds the users most similar to another given user.\n",
    "\n",
    "A list of nodes, `user_nodes` has been created, which contains all of the users except the given user that has been passed into the function. Your task is to complete the function such that it finds the users most similar to this given user. You'll make use of your `user_similarity()` function from the previous exercise to help do this.\n",
    "\n",
    "A dictionary called `similarities` has been setup, in which the keys are the scores and the list of values are the nodes."
   ]
  },
  {
   "cell_type": "code",
   "execution_count": 47,
   "id": "17012ea7",
   "metadata": {},
   "outputs": [],
   "source": [
    "# from collections import defaultdict\n",
    "\n",
    "def most_similar_users(G, user, user_nodes, proj_nodes):\n",
    "    # Data checks\n",
    "    assert G.nodes[user]['bipartite'] == 'users'\n",
    "\n",
    "    # Get other nodes from user partition\n",
    "    user_nodes = set(user_nodes)\n",
    "    user_nodes.remove(user)\n",
    "\n",
    "    # Create the dictionary: similarities\n",
    "    similarities = defaultdict(list)\n",
    "    for n in user_nodes:\n",
    "        similarity = user_similarity(G, user, n, proj_nodes)\n",
    "        similarities[similarity].append(n)\n",
    "\n",
    "    # Compute maximum similarity score: max_similarity\n",
    "    max_similarity = max(similarities.keys())\n",
    "\n",
    "    # Return list of users that share maximal similarity\n",
    "    return similarities[max_similarity]"
   ]
  },
  {
   "cell_type": "markdown",
   "id": "e5ce592f",
   "metadata": {},
   "source": [
    "```\n",
    "user_nodes = get_nodes_from_partition(G, 'users')\n",
    "project_nodes = get_nodes_from_partition(G, 'projects')\n",
    "\n",
    "print(most_similar_users(G, 'u4560', user_nodes, project_nodes))\n",
    "```"
   ]
  },
  {
   "cell_type": "markdown",
   "id": "b7bf43c6",
   "metadata": {},
   "source": [
    "### Recommend repositories\n",
    "Here, the task is to practice using set differences, and you'll apply it to recommending repositories from a second user that the first user should contribute to."
   ]
  },
  {
   "cell_type": "code",
   "execution_count": 48,
   "id": "729c47c2",
   "metadata": {},
   "outputs": [],
   "source": [
    "def recommend_repositories(G, from_user, to_user):\n",
    "    # Get the set of repositories that from_user has contributed to\n",
    "    from_repos = set(G.neighbors(from_user))\n",
    "    # Get the set of repositories that to_user has contributed to\n",
    "    to_repos = set(G.neighbors(to_user))\n",
    "\n",
    "    # Identify repositories that the from_user is connected to that the to_user is not connected to\n",
    "    return from_repos.difference(to_repos)"
   ]
  },
  {
   "cell_type": "markdown",
   "id": "8d4d8dc6",
   "metadata": {},
   "source": [
    "```\n",
    "# Print the repositories to be recommended\n",
    "print(recommend_repositories(G, 'u7909', 'u2148'))\n",
    "```"
   ]
  },
  {
   "cell_type": "markdown",
   "id": "3f7afdaa",
   "metadata": {},
   "source": [
    "## Chapter 2: Graph Projections\n",
    "In this chapter, you will use a famous American Revolution dataset to dive deeper into exploration of bipartite graphs. Here, you will learn how to create the unipartite projection of a bipartite graph, a very useful method for simplifying a complex network for further analysis. Additionally, you will learn how to use matrices to manipulate and analyze graphs - with many computing routines optimized for matrices, you'll be able to analyze many large graphs quickly and efficiently!"
   ]
  },
  {
   "cell_type": "markdown",
   "id": "c48a0785",
   "metadata": {},
   "source": [
    "### Concept of Projection\n",
    "* In chapter 2, we'll explore bipartite graph projections and matrix operations.\n",
    "\n",
    "#### Projection\n",
    "* If you have a bipartite graph, it may be useful to investigate the relationship between nodes on one partition, conditioned on the connections to the nodes on the other partition."
   ]
  },
  {
   "cell_type": "code",
   "execution_count": 49,
   "id": "9c359dfc",
   "metadata": {},
   "outputs": [],
   "source": [
    "# import networks as nx\n",
    "G3= nx.Graph()\n",
    "customers = ['customer1', 'customer2', 'customer3']\n",
    "G3.add_nodes_from(customers, bipartite='customers')\n",
    "products = ['product1', 'product2']\n",
    "G3.add_nodes_from(products, bipartite='products')\n",
    "G3.add_edge('customer1', 'product2')\n",
    "G3.add_edge('customer2', 'product2')\n",
    "G3.add_edge('customer3', 'product1')"
   ]
  },
  {
   "cell_type": "code",
   "execution_count": 53,
   "id": "b9cf7344",
   "metadata": {},
   "outputs": [
    {
     "data": {
      "image/png": "[encoded data removed]",
      "text/plain": [
       "<Figure size 432x288 with 1 Axes>"
      ]
     },
     "metadata": {},
     "output_type": "display_data"
    }
   ],
   "source": [
    "nx.draw(G3, with_labels = True)\n",
    "plt.show()"
   ]
  },
  {
   "cell_type": "markdown",
   "id": "cef0f9c2",
   "metadata": {},
   "source": [
    "* For example, in the Graph, `G3` (above) of customers and products, let's say we wanted to see which customers were related to one another because they were connected to the same products on the other partition\n",
    "* In the above Graph, **`customer1` and `customer2` would be connected to one another on the basis of sharing a connection to `product2`.**\n",
    "* `customer3`, being only connected to `product1`, which is not connectted to any other customers, would not be connected to any other customer in this graph.\n",
    "* As such, the \"customer\" project of the bipartite graph is given by a set of 3 customer nodes, and a single edge between `customer1` and `customer2`.\n",
    "\n",
    "#### Unipartite representation of bipartite connectivity:"
   ]
  },
  {
   "cell_type": "code",
   "execution_count": 59,
   "id": "d1feec19",
   "metadata": {},
   "outputs": [],
   "source": [
    "# import networks as nx\n",
    "G4= nx.Graph()\n",
    "customers = ['customer1', 'customer2', 'customer3']\n",
    "G4.add_nodes_from(customers)\n",
    "G4.add_edge('customer1', 'customer2')"
   ]
  },
  {
   "cell_type": "code",
   "execution_count": 64,
   "id": "5c4f8a28",
   "metadata": {},
   "outputs": [
    {
     "data": {
      "image/png": "[encoded data removed]",
      "text/plain": [
       "<Figure size 432x288 with 1 Axes>"
      ]
     },
     "metadata": {},
     "output_type": "display_data"
    }
   ],
   "source": [
    "nx.draw(G4, with_labels = True)\n",
    "plt.show()"
   ]
  },
  {
   "cell_type": "markdown",
   "id": "069c16c3",
   "metadata": {},
   "source": [
    "* In the exercises that follow, we will be computing and analyzing projections of other bipartite graphs\n",
    "\n",
    "#### Graphs on Disk\n",
    "* Includes plain edge lists (without node metadata), and separate node and edge lists (each containing appropriate metadata).\n",
    "    * 1) **Flat edge lists**\n",
    "    * 2) **CSV files**: `nodelist + metadata`, `edgelist + metadata` "
   ]
  },
  {
   "cell_type": "markdown",
   "id": "6ebf04fb",
   "metadata": {},
   "source": [
    "### Reading Network Data\n",
    "* NetworkX comes with **I/O functions** that allow us to read and write edgelists\n",
    "\n",
    "#### Original text file:\n",
    "`Barrett.Samuel LondonEnemies {'weight': 1}` \\\n",
    "`Barrett.Samuel StAndrewsLodge {'weight': 1}` \\\n",
    "`Marshall.Thomas LondonEnemies {'weight': 1}` \\\n",
    "`Eaton.Joseph TeaParty {'weight': 1}` \\\n",
    "`Bass.Henry LondonEnemies {'weight': 1}` \n",
    "\n",
    "* Space-delimited file\n",
    "* First string/element of each line is the name of a person : **node**\n",
    "* Second string of each line is a club: **other node that node above is connected to**\n",
    "* Third string of each line encodes the metadata dictionary: **metadata dictionary.**\n",
    "\n",
    "\n",
    "* NetworkX's `read_edgelist` function can digest this into a graph into memory, resulting in a graph that we can query, for, say, its edges:\n",
    "\n",
    "```\n",
    "import networkx as nx\n",
    "G = nx.read_edgelist('american-revolution.txt')\n",
    "```\n",
    "\n",
    "### Bipartite projection\n",
    "* Let's say we have the toy graph G4 from earlier, connecting customers to products:"
   ]
  },
  {
   "cell_type": "code",
   "execution_count": 66,
   "id": "98b4bdf8",
   "metadata": {},
   "outputs": [],
   "source": [
    "# import networks as nx\n",
    "G5= nx.Graph()\n",
    "customers = ['customer1', 'customer2', 'customer3']\n",
    "G5.add_nodes_from(customers, bipartite='customers')\n",
    "products = ['product1', 'product2', 'product3']\n",
    "G5.add_nodes_from(products, bipartite='products')\n",
    "G5.add_edge('customer1', 'product2')\n",
    "G5.add_edge('customer2', 'product2')\n",
    "G5.add_edge('customer3', 'product1')"
   ]
  },
  {
   "cell_type": "code",
   "execution_count": 69,
   "id": "5ff2005d",
   "metadata": {},
   "outputs": [
    {
     "data": {
      "image/png": "[encoded data removed]",
      "text/plain": [
       "<Figure size 432x288 with 1 Axes>"
      ]
     },
     "metadata": {},
     "output_type": "display_data"
    }
   ],
   "source": [
    "nx.draw(G5, with_labels = True)\n",
    "plt.show()"
   ]
  },
  {
   "cell_type": "code",
   "execution_count": 71,
   "id": "be7a4dbf",
   "metadata": {},
   "outputs": [
    {
     "data": {
      "text/plain": [
       "NodeView(('customer1', 'customer2', 'customer3', 'product1', 'product2', 'product3'))"
      ]
     },
     "execution_count": 71,
     "metadata": {},
     "output_type": "execute_result"
    }
   ],
   "source": [
    "G5.nodes()"
   ]
  },
  {
   "cell_type": "code",
   "execution_count": 72,
   "id": "28069ccd",
   "metadata": {},
   "outputs": [
    {
     "data": {
      "text/plain": [
       "EdgeView([('customer1', 'product2'), ('customer2', 'product2'), ('customer3', 'product1')])"
      ]
     },
     "execution_count": 72,
     "metadata": {},
     "output_type": "execute_result"
    }
   ],
   "source": [
    "G5.edges()"
   ]
  },
  {
   "cell_type": "markdown",
   "id": "8062c694",
   "metadata": {},
   "source": [
    "* In order to get the customers projection, we'll first have to collect the customer nodes into a single container (say, `cust_nodes`) using a list comprehension"
   ]
  },
  {
   "cell_type": "code",
   "execution_count": 76,
   "id": "8167cdba",
   "metadata": {},
   "outputs": [],
   "source": [
    "cust_nodes = [n for n in G5.nodes() if G5.nodes[n]['bipartite'] == 'customers']"
   ]
  },
  {
   "cell_type": "code",
   "execution_count": 77,
   "id": "6bec4226",
   "metadata": {},
   "outputs": [
    {
     "data": {
      "text/plain": [
       "['customer1', 'customer2', 'customer3']"
      ]
     },
     "execution_count": 77,
     "metadata": {},
     "output_type": "execute_result"
    }
   ],
   "source": [
    "cust_nodes"
   ]
  },
  {
   "cell_type": "code",
   "execution_count": 79,
   "id": "6f686521",
   "metadata": {},
   "outputs": [],
   "source": [
    "G_cust = nx.bipartite.projected_graph(G5, cust_nodes)"
   ]
  },
  {
   "cell_type": "code",
   "execution_count": 80,
   "id": "0eb6f2e3",
   "metadata": {},
   "outputs": [
    {
     "data": {
      "text/plain": [
       "NodeView(('customer1', 'customer2', 'customer3'))"
      ]
     },
     "execution_count": 80,
     "metadata": {},
     "output_type": "execute_result"
    }
   ],
   "source": [
    "G_cust.nodes()"
   ]
  },
  {
   "cell_type": "code",
   "execution_count": 81,
   "id": "3bccbb44",
   "metadata": {},
   "outputs": [
    {
     "data": {
      "text/plain": [
       "EdgeView([('customer1', 'customer2')])"
      ]
     },
     "execution_count": 81,
     "metadata": {},
     "output_type": "execute_result"
    }
   ],
   "source": [
    "G_cust.edges()"
   ]
  },
  {
   "cell_type": "markdown",
   "id": "f6ffe721",
   "metadata": {},
   "source": [
    "* The above code returns a graph containing only the nodes taht belong to the `customers` partition, and the edges between them (only one edge, between `customer1` and `customer2`).\n",
    "\n",
    "#### Recall: Degree centrality\n",
    "* Degree centrality = `number of neighbors` / `number of possible neighbors`\n",
    "* The degree centrality metric, as defined for *bipartite graphs* is a bit different: \n",
    "    * **Denominator:** `number of nodes on opposite partition`\n",
    "* This explains why we have to pass in the list of nodes from one partition into, say, the NetworkX bipartite degree centrality function (as shown below)."
   ]
  },
  {
   "cell_type": "code",
   "execution_count": 82,
   "id": "4b2ce7cd",
   "metadata": {},
   "outputs": [
    {
     "data": {
      "text/plain": [
       "{'customer3': 0.3333333333333333,\n",
       " 'customer1': 0.3333333333333333,\n",
       " 'customer2': 0.3333333333333333,\n",
       " 'product2': 0.6666666666666666,\n",
       " 'product1': 0.3333333333333333,\n",
       " 'product3': 0.0}"
      ]
     },
     "execution_count": 82,
     "metadata": {},
     "output_type": "execute_result"
    }
   ],
   "source": [
    "nx.bipartite.degree_centrality(G5, cust_nodes)"
   ]
  },
  {
   "cell_type": "markdown",
   "id": "9e508905",
   "metadata": {},
   "source": [
    "* **Note** also that the bipartite degree centrality scores may very well be different from the regular degree centrality scores in the projection, as shown above and below."
   ]
  },
  {
   "cell_type": "code",
   "execution_count": 83,
   "id": "0856cfbc",
   "metadata": {},
   "outputs": [
    {
     "data": {
      "text/plain": [
       "{'customer1': 0.2,\n",
       " 'customer2': 0.2,\n",
       " 'customer3': 0.2,\n",
       " 'product1': 0.2,\n",
       " 'product2': 0.4,\n",
       " 'product3': 0.0}"
      ]
     },
     "execution_count": 83,
     "metadata": {},
     "output_type": "execute_result"
    }
   ],
   "source": [
    "nx.degree_centrality(G5)"
   ]
  },
  {
   "cell_type": "markdown",
   "id": "6ebccf5a",
   "metadata": {},
   "source": [
    "```\n",
    "# Import networkx\n",
    "import networkx as nx\n",
    "\n",
    "# Read in the data: g\n",
    "G = nx.read_edgelist('american-revolution.edgelist')\n",
    "\n",
    "# Assign nodes to 'clubs' or 'people' partitions\n",
    "for n, d in G.nodes(data=True):\n",
    "    if '.' in n:\n",
    "        G.nodes[n]['bipartite'] = 'people'\n",
    "    else:\n",
    "        G.nodes[n]['bipartite'] = 'clubs'\n",
    "        \n",
    "# Print the edges of the graph\n",
    "print(G.edges())\n",
    "```\n",
    "\n",
    "#### Computing Projection\n",
    "It's now time to try your hand at computing the projection of a bipartite graph to the nodes on one of its partitions. This will help you gain practice with converting between a bipartite version of a graph and its unipartite projections. Remember from the video that the \"projection\" of a graph onto one of its partitions is the connectivity of the nodes in that partition conditioned on connections to nodes on the other partition. Made more concretely, you can think of the \"connectivity of customers based on shared purchases\".\n",
    "\n",
    "List comprehensions can include conditions, so if you want to filter a graph for a certain type of node, you can do:\n",
    "\n",
    "`[n for n, d in G.nodes(data=True) if d['key'] == 'some_value']`\n",
    "\n",
    "```\n",
    "# Prepare the nodelists needed for computing projections: people, clubs\n",
    "# This exercise shows you two ways to do it, one with `data=True` and one without.\n",
    "people = [n for n in G.nodes() if G.nodes[n]['bipartite'] == 'people']\n",
    "clubs = [n for n, d in G.nodes(data=True) if d['bipartite'] == 'clubs']\n",
    "\n",
    "# Compute the people and clubs projections: peopleG, clubsG\n",
    "peopleG = nx.bipartite.projected_graph(G, people)\n",
    "clubsG = nx.bipartite.projected_graph(G, clubs)\n",
    "```\n",
    "\n",
    "#### Plot degree centrality on projection\n",
    "Here, you're going to compare the degree centrality distributions for each of the following graphs: the original graph G, the people graph projection peopleG, and the clubs graph projection clubsG. This will reinforce the difference in degree centrality score computation between bipartite and unipartite versions of degree centrality metrics. The node lists people and clubs have been pre-loaded for you.\n",
    "\n",
    "Recall from the video that the bipartite functions require passing in a container of nodes, but will return all degree centrality scores nonetheless. Remember also that degree centrality scores are stored as dictionaries (mapping node to score).\n",
    "\n",
    "```\n",
    "import matplotlib.pyplot as plt \n",
    "\n",
    "# Plot the degree centrality distribution of both node partitions from the original graph\n",
    "plt.figure()\n",
    "original_dc = nx.bipartite.degree_centrality(G, people)\n",
    "# Remember that you can directly plot dictionary values.\n",
    "plt.hist(original_dc.values(), alpha=0.5)\n",
    "plt.yscale('log')\n",
    "plt.title('Bipartite degree centrality')\n",
    "plt.show()\n",
    "\n",
    "\n",
    "# Plot the degree centrality distribution of the peopleG graph\n",
    "plt.figure()  \n",
    "people_dc = nx.degree_centrality(peopleG)\n",
    "plt.hist(people_dc.values())\n",
    "plt.yscale('log')\n",
    "plt.title('Degree centrality of people partition')\n",
    "plt.show()\n",
    "\n",
    "# Plot the degree centrality distribution of the clubsG graph\n",
    "plt.figure() \n",
    "clubs_dc = nx.degree_centrality(clubsG)\n",
    "plt.hist(clubs_dc.values())\n",
    "plt.yscale('log')\n",
    "plt.title('Degree centrality of clubs partition')\n",
    "plt.show()\n",
    "```"
   ]
  },
  {
   "cell_type": "markdown",
   "id": "648f48c0",
   "metadata": {},
   "source": [
    "### Bipartite graphs as matrices\n",
    "* When visualizing a graph, we can also use a **MatrixPlot**.\n",
    "* With a few modifications, we can represent *bipartite* graphs as matrices as well.\n",
    "\n",
    "#### Matrix representation\n",
    "* Firstly, rather than making each row and column a single node:\n",
    "    * **Each row represents one node in one partition.**\n",
    "    * **Each column represents one node on the other partition.**\n",
    "    * **Cells: 1 if edge present, else 0.**\n",
    "    \n",
    "#### How do we get the matrix representation of a bipartite graph?\n",
    "Example code:\n",
    "\n",
    "```\n",
    "cust_nodes = [n for n in G.nodes() if G.node[n]['bipartite'] == 'customers']\n",
    "prod_nodes = [n for n in G.nodes() if G.node[n]['bipartite'] == 'products']\n",
    "mat = nx.bipartite.biadjacency_matrix(G,\n",
    "                                      row_order = cust_nodes,\n",
    "                                      column_order = prod_nodes)\n",
    "mat\n",
    "```\n",
    "\n",
    "* As usual, we have to gather the nodes the nodes from each partition first. \n",
    "* We will then use the `biadjacency_matrix` function from the bipartite module.\n",
    "    * It takes in two mandatory arguments: \n",
    "        * **1)** the graph, `G`\n",
    "        * **2)** `row_order`, which specifies the row order of the nodes from one partition\n",
    "        * **3) (optional)** `column_order` specifies the column order of the nodes from one partition\n",
    "    * The `biadjacency_matrix` function will figure out, given the nodes from one partition, the complementary set of nodes from the other partition.\n",
    "    * However, if you have a particular ordering, you can set it by passing in a list of nodes to the `column_order` argument.\n",
    "    * What's returned is a **sparse matrix representation** of the graph\n",
    "\n",
    "#### Matrix projection\n",
    "* One thing that's really elegant about matrices is that there is a direct way to compute the projection of a graph using matrix multiplication \n",
    "    * Projection computable using matrix multiplication\n",
    "* Firstly, we transpose the matrix, which is essentially swapping the rows and columns\n",
    "* If we then take the bipartite graph and matrix multiplied by its transposed version, we get the projection onto the nodes that are the rows in the original matrix\n",
    "* **The diagonals of the projection matrix correspond exactly to the degree of the node in the original graph**\n",
    "* **The non-diagonal elements show us which nodes are connected to which other nodes, also known as the \"connectivity matrix.\"**\n",
    "* It turns out to be all-around quite elegant. \n",
    "\n",
    "#### How to do this in Python\n",
    "* Since Python 3.5, there's a new `@` operator that allows you to take two matrices and multiply them together\n",
    "    * `mat @ mat.T`\n",
    "    * Above, take a sparse matrix and multiply it by its transpose, and very easily get back the projection onto the rows of the left side matrix.\n",
    "    * `mat.T @ mat`\n",
    "  "
   ]
  },
  {
   "cell_type": "markdown",
   "id": "aad1f127",
   "metadata": {},
   "source": [
    "#### Compute adjacency matrix\n",
    "Now, you'll get some practice using matrices and sparse matrix multiplication to compute projections! In this exercise, you'll use the matrix multiplication operator @ that was introduced in Python 3.5.\n",
    "\n",
    "You'll continue working with the American Revolution graph. The two partitions of interest here are `people` and `clubs`.\n",
    "\n",
    "```\n",
    "# Get the list of people and list of clubs from the graph: people_nodes, clubs_nodes\n",
    "people_nodes = get_nodes_from_partition(G, 'people')\n",
    "clubs_nodes = get_nodes_from_partition(G, 'clubs')\n",
    "\n",
    "# Compute the biadjacency matrix: bi_matrix\n",
    "bi_matrix = nx.bipartite.biadjacency_matrix(G, row_order=people_nodes, column_order=clubs_nodes)\n",
    "\n",
    "# Compute the user-user projection: user_matrix\n",
    "user_matrix = bi_matrix @ bi_matrix.T\n",
    "\n",
    "print(user_matrix)\n",
    "```\n",
    "\n",
    "#### Find shared membership: Transposition\n",
    "As you may have observed, you lose the metadata from a graph when you go to a sparse matrix representation. You're now going to learn how to impute the metadata back so that you can learn more about shared membership.\n",
    "\n",
    "The `user_matrix` you computed in the previous exercise has been preloaded into your workspace.\n",
    "\n",
    "Here, the `np.where()` function will prove useful. This is what it does: given an array, say, `a = [1, 5, 9, 5]`, if you want to get the indices where the value is equal to `5`, you can use `idxs = np.where(a == 5)`. This gives you back an array in a tuple, `(array([1, 3]),)`. To access those indices, you would want to index into the tuple as `idxs[0]`.\n",
    "\n",
    "```\n",
    "import numpy as np\n",
    "\n",
    "# Find out the names of people who were members of the most number of clubs\n",
    "diag = user_matrix.diagonal() \n",
    "indices = np.where(diag == diag.max())[0]  \n",
    "print('Number of clubs: {0}'.format(diag.max()))\n",
    "print('People with the most number of memberships:')\n",
    "for i in indices:\n",
    "    print('- {0}'.format(people_nodes[i]))\n",
    "\n",
    "# Set the diagonal to zero and convert it to a coordinate matrix format\n",
    "user_matrix.setdiag(0)\n",
    "users_coo = user_matrix.tocoo()\n",
    "\n",
    "# Find pairs of users who shared membership in the most number of clubs\n",
    "indices2 = np.where(users_coo.data == users_coo.data.max())[0]\n",
    "print('People with most number of shared memberships:')\n",
    "for idx in indices2:\n",
    "    print('- {0}, {1}'.format(people_nodes[users_coo.row[idx]], people_nodes[users_coo.col[idx]]))  \n",
    "```"
   ]
  },
  {
   "cell_type": "markdown",
   "id": "18ec7094",
   "metadata": {},
   "source": [
    "### Representing network data with pandas\n",
    "* How to convert graphs into human-readable formats using CSV files and pandas\n",
    "\n",
    "### CSV files for network data storage\n",
    "\n",
    "`person,party,weight` \\\n",
    "`Barret.Samuel,StAndrewsLodge,1` \\\n",
    "`Marshall.Thomas,LondonEnemies,1` \\\n",
    "`Eaton.Jospeh,TeaParty,1` \\\n",
    "`Bass.Henry,LondonEnemies,1` \\\n",
    "* Above is an example of a CSV-formatted edge list. \n",
    "* Comma-delimited\n",
    "* Each row is one edge\n",
    "* Columns denote the nodes involved in an edge and their metadata\n",
    "* Advantages:\n",
    "    * Human-readable\n",
    "    * Ability to interface with pandas/ Do further analysis with pandas (without having to first instantiate a Graph object)\n",
    "* Disadvantages:\n",
    "    * the representation may not be as compact\n",
    "    * Repetetive; disk space (especially for highly connected nodes)\n",
    "    \n",
    "#### How to store graph data in its entirety?\n",
    "* We will need two lists, which will each become its own pandas DataFrame \n",
    "\n",
    "#### Node list\n",
    "    * Each row is one node\n",
    "    * The columns represent the metadata attached to that node (including the node ID itself)\n",
    "    \n",
    "#### Edge list\n",
    "    * Each row is one edge\n",
    "    * The columns represent the metadata attached to that edge (including the IDs of the nodes of interest)\n",
    "    \n",
    "* Let's say we have a graph `G` with nodes and metadata attached to it, and we want to create a CSV file for the node list. \n",
    "* The key is to create a list of dictionaries, which pandas will recognize as a \"record\"-style format (each dictionary is one record).\n",
    "\n",
    "```\n",
    "nodelist = []\n",
    "for n, d in G.nodes(data=True)\n",
    "    node_data = dict()\n",
    "    node_data['node'] = n\n",
    "    node_data.update(d)\n",
    "    nodelist.append(node_data)\n",
    "```\n",
    "\n",
    "* We start by first instantiating an empty list, say, `nodelist`\n",
    "* We can then iterate over the nodes `n` and their dictionary metadata `d`.\n",
    "* For every node, we create a new record dictionary `node_data` and we use one key, say `node`, to uniquely identify it by its ID.\n",
    "* The important thing here is to ensure that there is no overlap with the metadata keys.\n",
    "* Then, we update the record dictionary with the metadata dictionary, using `node_data.update(other_dict)`, which will take one dictionary and add in key-value pairs in the other dictionary.\n",
    "* Finally, we append the node's record dict to the nodelist.\n",
    "* The `nodelist` will now have been transformed into a list of dictionaries, rather than a list of tuples. \n",
    "* Once we have the data in that format, we cant then pass in the `nodelist` into a pandas `.DataFrame` constructor, yielding the pandas DataFrame of interest.\n",
    "* Because the keys are identical in each dictionary, each key becomes a column, and each dictionary becomes one entry in the DataFrame, with the keys being the columns and the values being the values in each row. \n",
    "\n",
    "```\n",
    "import pandas as pd\n",
    "pd.DataFrame(nodelist)\n",
    "```\n",
    "* We can then save it to disk using:\n",
    "\n",
    "```\n",
    "pd.DataFrame(nodelist).to_csv('my_file.csv')\n",
    "```"
   ]
  },
  {
   "cell_type": "markdown",
   "id": "b87f22d9",
   "metadata": {},
   "source": [
    "#### Make nodelist\n",
    "You're now going to practice converting graphs to pandas representation. If you have taken any of DataCamp's pandas courses, you will know that there is a `DataFrame.to_csv('filename.csv')` method that lets you save it as a CSV file, which is a human-readable version. The main concept we hope you take away from here is the process of converting a graph to a list of records.\n",
    "\n",
    "Start by re-familiarizing yourself with the graph data structure by calling `G.nodes(data=True)[0]` in the IPython Shell to examine one node in the graph."
   ]
  },
  {
   "cell_type": "markdown",
   "id": "c1551168",
   "metadata": {},
   "source": [
    "```\n",
    "# Initialize a list to store each edge as a record: nodelist\n",
    "nodelist = []\n",
    "for n, d in G_people.nodes(data=True):\n",
    "    # nodeinfo stores one \"record\" of data as a dict\n",
    "    nodeinfo = {'person': n} \n",
    "    \n",
    "    # Update the nodeinfo dictionary \n",
    "    nodeinfo.update(d)\n",
    "    \n",
    "    # Append the nodeinfo to the node list\n",
    "    nodelist.append(nodeinfo)\n",
    "    \n",
    "\n",
    "# Create a pandas DataFrame of the nodelist: node_df\n",
    "node_df = pd.DataFrame(nodelist)\n",
    "print(node_df.head())\n",
    "```\n",
    "\n",
    "#### Make edgelist\n",
    "Now, you're going to apply the same ideas to making an edge list. Go forth and give it a shot!\n",
    "\n",
    "As with the previous exercise, run `G.edges(data=True)[0]` in the IPython Shell to get a feel for the edge list data structure before proceeding.\n",
    "\n",
    "```\n",
    "# Initialize a list to store each edge as a record: edgelist\n",
    "edgelist = []\n",
    "for n1, n2, d in G_people.edges(data=True):\n",
    "    # Initialize a dictionary that shows edge information: edgeinfo\n",
    "    edgeinfo = {'node1':n1, 'node2':n2}\n",
    "    \n",
    "    # Update the edgeinfo data with the edge metadata\n",
    "    edgeinfo.update(d)\n",
    "    \n",
    "    # Append the edgeinfo to the edgelist\n",
    "    edgelist.append(edgeinfo)\n",
    "    \n",
    "# Create a pandas DataFrame of the edgelist: edge_df\n",
    "edge_df = pd.DataFrame(edgelist)\n",
    "print(edge_df.head())\n",
    "```"
   ]
  },
  {
   "cell_type": "markdown",
   "id": "0dc94a00",
   "metadata": {},
   "source": [
    "## Chapter 3: Comparing graphs & time-dynamic graphs\n",
    "In this chapter, you will delve into the fundamental ways that you can analyze graphs that change over time. You will explore a dataset describing messaging frequency between students, and learn how to visualize important evolving graph statistics."
   ]
  },
  {
   "cell_type": "markdown",
   "id": "e1fe4438",
   "metadata": {},
   "source": [
    "### Introduction to graph differences\n",
    "The analysis of evolving graphs & time series analysis.\n",
    "\n",
    "#### Time series analysis\n",
    "* How some number (or summary statistic) changes as a function. \n",
    "    * Is there an upward or downward trend?\n",
    "* Rate of change of things over a sliding window of time\n",
    "    * With discrete time points, that time window might be one time point and the adjacent one right after, or it might encompass a few time points at once. \n",
    "* Examples:\n",
    "    * Tracking weight over time\n",
    "    * Tracking stock investment portfolio value over time\n",
    "    \n",
    "### Evolving graphs\n",
    "* Graphs that change over time: communication networks\n",
    "* When analyzing evolving graphs, we can make one of two assumptions:\n",
    "    * 1) Only the edges are changing over time; assume nodes stay constant\n",
    "        * Easier to analyze\n",
    "    * 2) Both edges and nodes change over time\n",
    "    \n",
    "### Graph differences\n",
    "* Graph differences are an essential way to compare graphs that are changing\n",
    "* Graphs are comprised of two sets:\n",
    "    * A node set\n",
    "    * An edge set\n",
    "* If a node set doesn't change:\n",
    "    * Changing only the edge set will result in a change in the graph\n",
    "* We can thus use **set differences** to map out changes between two graphs in time. \n",
    "    * In comparing two sets, the left set of customers and the right set of customers (below), we want to know what items are present in the left set that are absent in the right set:\n",
    "    \n",
    "```\n",
    "set(c1, c2, c3).difference(set(c2, c3, c4)) = set(c1)\n",
    "set(c2, c3, c4).difference(set(c1, c2, c3)) = set(c4)\n",
    "```\n",
    "* This would be the time-series equivalent of seeing what was removed from the left timepoint set in transitioning to the right timepoint set.\n",
    "* This kind of difference in **non-symmetric**.\n",
    "* Graph differences operate using this **non-symmetric** difference. \n",
    "* In NetworkX: `.difference(G1, G2)` function\n",
    "    * Assumes `G1` and `G2` have equal node sets\n",
    "    * But that the edges might not necessarily be identical\n",
    "    \n",
    "#### Graph differences in Python:\n",
    "* If we wanted to see which edges were added to `G1` to form `G2`:\n",
    "    * `G2minusG1 = nx.difference(G2, G1)`\n",
    "* If we wanted to see which edges were removed from `G1` to form `G2`: \n",
    "    * `G1minusG2 = nx.difference(G1, G2)`"
   ]
  },
  {
   "cell_type": "code",
   "execution_count": null,
   "id": "53d8364f",
   "metadata": {},
   "outputs": [],
   "source": []
  },
  {
   "cell_type": "code",
   "execution_count": null,
   "id": "28d43d7b",
   "metadata": {},
   "outputs": [],
   "source": []
  },
  {
   "cell_type": "code",
   "execution_count": null,
   "id": "6576e52e",
   "metadata": {},
   "outputs": [],
   "source": []
  },
  {
   "cell_type": "code",
   "execution_count": null,
   "id": "3d1f39c4",
   "metadata": {},
   "outputs": [],
   "source": []
  },
  {
   "cell_type": "code",
   "execution_count": null,
   "id": "6651e912",
   "metadata": {},
   "outputs": [],
   "source": []
  },
  {
   "cell_type": "code",
   "execution_count": null,
   "id": "f0a0191d",
   "metadata": {},
   "outputs": [],
   "source": []
  }
 ],
 "metadata": {
  "kernelspec": {
   "display_name": "Python 3",
   "language": "python",
   "name": "python3"
  },
  "language_info": {
   "codemirror_mode": {
    "name": "ipython",
    "version": 3
   },
   "file_extension": ".py",
   "mimetype": "text/x-python",
   "name": "python",
   "nbconvert_exporter": "python",
   "pygments_lexer": "ipython3",
   "version": "3.8.8"
  }
 },
 "nbformat": 4,
 "nbformat_minor": 5
}
