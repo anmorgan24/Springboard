{
 "cells": [
  {
   "cell_type": "markdown",
   "id": "0003b803",
   "metadata": {},
   "source": [
    "# Intermediate Network Analysis in Python"
   ]
  },
  {
   "cell_type": "markdown",
   "id": "a742cc05",
   "metadata": {},
   "source": [
    "Build on your knowledge and skills to tackle more advanced problems in network analytics! Gain the conceptual and practical skills to analyze evolving time series of networks, learn about bipartite graphs, and how to use bipartite graphs in product recommendation systems. You'll also learn about graph projections, why they're so useful in Data Science, and figure out the best ways to store and load graph data from files. You'll consolidate all of this knowledge in a final chapter case study, in which you'll analyze a forum dataset."
   ]
  },
  {
   "cell_type": "markdown",
   "id": "cbb2a7db",
   "metadata": {},
   "source": [
    "## Chapter 1: Bipartite graphs & product recommendation systems\n",
    "Learn about bipartite graphs and how they are used in recommendation systems. You will explore the GitHub dataset from the previous course, this time analyzing the underlying bipartite graph that was used to create the graph that you used earlier. Finally, you will get a chance to build the basic components of a recommendation system using the GitHub data!\n",
    "\n",
    "### Defintions & basic recap\n",
    "* Eric Ma: computation biological engineer from MIT (course instructor)\n",
    "\n",
    "* **Network** = **Graph** = (nodes/edges)\n",
    "    * A network, which is also known as a graph, is comprised of two sets: a set of nodes, and a set of edges\n",
    "    * We often draw graphs as \"circles joined by lines,\" where the circles represent some real world entity, such as individuals in a social network, and the lines denote some relationship between the entities, such as being connected as friends in a social network.\n",
    "* **Directed** or **Undirected**\n",
    "    * Facebook: Undirected (no direction is implied in \"friendship\")\n",
    "    * Twitter: Directed (directional \"Follow\")\n",
    "* **`networkx`**: API for analysis of graphs\n",
    "    * contains a library of classes and functions for the creation, analysis, and manipulation of graphs\n",
    "    \n",
    "* Using `len(G.nodes())` and `len(G.edges())`, we can start describing a graph's basic statistics.\n",
    "* Graph types include: `Graph`, `DiGraph`, `MultiGraph`, and `MultiDiGraph`\n",
    "\n",
    "#### Network visualization\n",
    "* **`nxviz`:** API for creating beautiful and rational graph viz\n",
    "* **Rational** visualizations prioritize the nodes' placement; examples:\n",
    "    * matrix\n",
    "    * arc\n",
    "    * circos\n",
    "    * hive\n",
    "    "
   ]
  },
  {
   "cell_type": "code",
   "execution_count": 1,
   "id": "95cd3f21",
   "metadata": {},
   "outputs": [
    {
     "name": "stderr",
     "output_type": "stream",
     "text": [
      "/Users/abigailmorgan/opt/anaconda3/lib/python3.8/site-packages/nxviz/__init__.py:18: UserWarning: \n",
      "nxviz has a new API! Version 0.7.2 onwards, the old class-based API is being\n",
      "deprecated in favour of a new API focused on advancing a grammar of network\n",
      "graphics. If your plotting code depends on the old API, please consider\n",
      "pinning nxviz at version 0.7.2, as the new API will break your old code.\n",
      "\n",
      "To check out the new API, please head over to the docs at\n",
      "https://ericmjl.github.io/nxviz/ to learn more. We hope you enjoy using it!\n",
      "\n",
      "(This deprecation message will go away in version 1.0.)\n",
      "\n",
      "  warnings.warn(\n"
     ]
    }
   ],
   "source": [
    "import networkx as nx\n",
    "import nxviz as nv\n",
    "import matplotlib.pyplot as plt"
   ]
  },
  {
   "cell_type": "markdown",
   "id": "431b4fc2",
   "metadata": {},
   "source": [
    "```\n",
    "ap = nv.ArcPlot(G)\n",
    "ap.draw()\n",
    "plt.show()\n",
    "```"
   ]
  },
  {
   "cell_type": "markdown",
   "id": "176c15ab",
   "metadata": {},
   "source": [
    "**Add the degree centrality score of each node to their metadata dictionary:**\n",
    "```\n",
    "# Add the degree centrality score of each node to their metadata dictionary\n",
    "dcs = nx.degree_centrality(G)\n",
    "for n in G.nodes():\n",
    "    G.nodes[n]['centrality'] = dcs[n]\n",
    "```"
   ]
  },
  {
   "cell_type": "markdown",
   "id": "6b44b1fb",
   "metadata": {},
   "source": [
    "#### Plotting using nxviz\n",
    "\n",
    "```\n",
    "# Create the CircosPlot object: c\n",
    "c = CircosPlot(G, node_color='bipartite', node_grouping='bipartite', node_order='centrality')\n",
    "\n",
    "# Draw c to the screen\n",
    "c.draw()\n",
    "\n",
    "# Display the plot\n",
    "plt.show()\n",
    "```\n",
    "\n",
    "### Bipartite graphs\n",
    "* There are two conditions for defining a **bipartite graph**:\n",
    "    * **A graph in which the nodes are partitioned into two sets.**\n",
    "    * **The nodes in one set cannot be connected to one another; they can only be connected to nodes in the other set.**\n",
    "* This is in contrast to the **unipartite** graphs we've been using thus far in the course, in which the nodes are not explicitly partitioned into two sets.\n",
    "* An example where a bipartite graph may come in handy is: modeling the purchases that a set of customers make\n",
    "    * The nodes are partitioned into two sets: the customers partition, and the products partition\n",
    "    * Edges denote that a customer has purchased a particular product.\n",
    "    * Customers cannot purchase other customers, products cannot be purchased by other products."
   ]
  },
  {
   "cell_type": "code",
   "execution_count": 2,
   "id": "c2a00f21",
   "metadata": {},
   "outputs": [],
   "source": [
    "# import networks as nx\n",
    "G= nx.Graph()\n",
    "numbers = range(3)\n",
    "G.add_nodes_from(numbers, bipartite='customers')\n",
    "letters = ['a', 'b']\n",
    "G.add_nodes_from(letters, bipartite='products')"
   ]
  },
  {
   "cell_type": "markdown",
   "id": "6477431c",
   "metadata": {},
   "source": [
    "* Though it is not required by the API, by convention, bipartite information is encoded as part of the node attributes (or metadata), using the `bipartite` keyword.\n",
    "* In the toy example above, let's say we're modeling the connectivity between a 'customers' and a 'products' partition.\n",
    "* In constructing the graph, we use the graph object's method `add_nodes_from()`, passing in the list of nodes from each partition as the first argument\n",
    "* By passing in the `bipartite='customers'` or `bipartite='products'` arguments, the method will automatically create the node's metadata dictionary with the key bipartite and the value product or customers. "
   ]
  },
  {
   "cell_type": "code",
   "execution_count": 3,
   "id": "30a98bcb",
   "metadata": {},
   "outputs": [
    {
     "data": {
      "text/plain": [
       "NodeDataView({0: {'bipartite': 'customers'}, 1: {'bipartite': 'customers'}, 2: {'bipartite': 'customers'}, 'a': {'bipartite': 'products'}, 'b': {'bipartite': 'products'}})"
      ]
     },
     "execution_count": 3,
     "metadata": {},
     "output_type": "execute_result"
    }
   ],
   "source": [
    "G.nodes(data=True)"
   ]
  },
  {
   "cell_type": "code",
   "execution_count": 6,
   "id": "405fea9b",
   "metadata": {},
   "outputs": [
    {
     "data": {
      "image/png": "[encoded data removed]",
      "text/plain": [
       "<Figure size 432x288 with 1 Axes>"
      ]
     },
     "metadata": {},
     "output_type": "display_data"
    }
   ],
   "source": [
    "nx.draw(G, with_labels =True)\n",
    "plt.show()"
   ]
  },
  {
   "cell_type": "code",
   "execution_count": 12,
   "id": "d3dae7a5",
   "metadata": {},
   "outputs": [],
   "source": [
    "G.add_edge(0, 'b')\n",
    "G.add_edge(1, 'b')\n",
    "G.add_edge(2, 'a')\n",
    "G.add_edge(2, 'b')"
   ]
  },
  {
   "cell_type": "code",
   "execution_count": 13,
   "id": "93034a63",
   "metadata": {},
   "outputs": [
    {
     "data": {
      "image/png": "[encoded data removed]",
      "text/plain": [
       "<Figure size 432x288 with 1 Axes>"
      ]
     },
     "metadata": {},
     "output_type": "display_data"
    }
   ],
   "source": [
    "nx.draw(G, with_labels =True)\n",
    "plt.show()"
   ]
  },
  {
   "cell_type": "markdown",
   "id": "0eeeea74",
   "metadata": {},
   "source": [
    "* **Note:** the partition info stored and displayed in metadata above.\n",
    "\n",
    "#### Degree Centrality\n",
    "* **Recall** that the degree centrality metric is a measure of node importance.\n",
    "* For any graph, the degree centrality of a node in the graph is defined as the number of neighbors in the graph divided by the number of possible neighbors it could have\n",
    "    * **(number of neighbors) // (number of possible neighbors)**\n",
    "    \n",
    "* **Number of possible neighbors *depends on graph type***\n",
    "    * In a **bipartite** graph, the denominator is the number of nodes present in the *other* partition.\n",
    "\n",
    "\n",
    "#### Filtering graphs\n",
    "* Because NetworkX doesn't provide an explicit 'bipartite' graph class, you will need to learn how to filter a graph for the node set.\n",
    "* This is most commonly accomplisheed by using list comprehensions\n",
    "* For example, to get the nodes in the `'customers'` partition, use the list comprehension below:"
   ]
  },
  {
   "cell_type": "code",
   "execution_count": 14,
   "id": "6b7fb787",
   "metadata": {},
   "outputs": [],
   "source": [
    "cust_nodes = [n for n, d in G.nodes(data=True) if d['bipartite']=='customers']"
   ]
  },
  {
   "cell_type": "code",
   "execution_count": 15,
   "id": "a2e60dc7",
   "metadata": {},
   "outputs": [
    {
     "data": {
      "text/plain": [
       "[0, 1, 2]"
      ]
     },
     "execution_count": 15,
     "metadata": {},
     "output_type": "execute_result"
    }
   ],
   "source": [
    "cust_nodes"
   ]
  },
  {
   "cell_type": "markdown",
   "id": "f78593db",
   "metadata": {},
   "source": [
    "* Note how there's only `'customer'` nodes contained in the above list. \n",
    "* Upcoming in the course: we can get the bipartite degree centrality of a graph by calling on the bipartite degree centrality function, which requires a graph G and a list of nodes from one partition as arguments (it can be either partition."
   ]
  },
  {
   "cell_type": "code",
   "execution_count": 16,
   "id": "4000e4e7",
   "metadata": {},
   "outputs": [
    {
     "data": {
      "text/plain": [
       "{0: 0.5, 1: 0.5, 2: 1.0, 'b': 1.0, 'a': 0.3333333333333333}"
      ]
     },
     "execution_count": 16,
     "metadata": {},
     "output_type": "execute_result"
    }
   ],
   "source": [
    "nx.bipartite.degree_centrality(G, cust_nodes)"
   ]
  },
  {
   "cell_type": "code",
   "execution_count": null,
   "id": "2ae860a4",
   "metadata": {},
   "outputs": [],
   "source": []
  },
  {
   "cell_type": "code",
   "execution_count": null,
   "id": "ef8a78ab",
   "metadata": {},
   "outputs": [],
   "source": []
  },
  {
   "cell_type": "code",
   "execution_count": null,
   "id": "0e24e2e6",
   "metadata": {},
   "outputs": [],
   "source": []
  },
  {
   "cell_type": "code",
   "execution_count": null,
   "id": "cf768d3f",
   "metadata": {},
   "outputs": [],
   "source": []
  },
  {
   "cell_type": "code",
   "execution_count": null,
   "id": "d7ad51ac",
   "metadata": {},
   "outputs": [],
   "source": []
  }
 ],
 "metadata": {
  "kernelspec": {
   "display_name": "Python 3",
   "language": "python",
   "name": "python3"
  },
  "language_info": {
   "codemirror_mode": {
    "name": "ipython",
    "version": 3
   },
   "file_extension": ".py",
   "mimetype": "text/x-python",
   "name": "python",
   "nbconvert_exporter": "python",
   "pygments_lexer": "ipython3",
   "version": "3.8.8"
  }
 },
 "nbformat": 4,
 "nbformat_minor": 5
}
