{
 "cells": [
  {
   "cell_type": "markdown",
   "id": "0003b803",
   "metadata": {},
   "source": [
    "# Intermediate Network Analysis in Python"
   ]
  },
  {
   "cell_type": "markdown",
   "id": "a742cc05",
   "metadata": {},
   "source": [
    "Build on your knowledge and skills to tackle more advanced problems in network analytics! Gain the conceptual and practical skills to analyze evolving time series of networks, learn about bipartite graphs, and how to use bipartite graphs in product recommendation systems. You'll also learn about graph projections, why they're so useful in Data Science, and figure out the best ways to store and load graph data from files. You'll consolidate all of this knowledge in a final chapter case study, in which you'll analyze a forum dataset."
   ]
  },
  {
   "cell_type": "markdown",
   "id": "cbb2a7db",
   "metadata": {},
   "source": [
    "## Chapter 1: Bipartite graphs & product recommendation systems\n",
    "Learn about bipartite graphs and how they are used in recommendation systems. You will explore the GitHub dataset from the previous course, this time analyzing the underlying bipartite graph that was used to create the graph that you used earlier. Finally, you will get a chance to build the basic components of a recommendation system using the GitHub data!\n",
    "\n",
    "### Defintions & basic recap\n",
    "* Eric Ma: computation biological engineer from MIT (course instructor)\n",
    "\n",
    "* **Network** = **Graph** = (nodes/edges)\n",
    "    * A network, which is also known as a graph, is comprised of two sets: a set of nodes, and a set of edges\n",
    "    * We often draw graphs as \"circles joined by lines,\" where the circles represent some real world entity, such as individuals in a social network, and the lines denote some relationship between the entities, such as being connected as friends in a social network.\n",
    "* **Directed** or **Undirected**\n",
    "    * Facebook: Undirected (no direction is implied in \"friendship\")\n",
    "    * Twitter: Directed (directional \"Follow\")\n",
    "* **`networkx`**: API for analysis of graphs\n",
    "    * contains a library of classes and functions for the creation, analysis, and manipulation of graphs\n",
    "    \n",
    "* Using `len(G.nodes())` and `len(G.edges())`, we can start describing a graph's basic statistics.\n",
    "* Graph types include: `Graph`, `DiGraph`, `MultiGraph`, and `MultiDiGraph`\n",
    "\n",
    "#### Network visualization\n",
    "* **`nxviz`:** API for creating beautiful and rational graph viz\n",
    "* **Rational** visualizations prioritize the nodes' placement; examples:\n",
    "    * matrix\n",
    "    * arc\n",
    "    * circos\n",
    "    * hive\n",
    "    "
   ]
  },
  {
   "cell_type": "code",
   "execution_count": 43,
   "id": "95cd3f21",
   "metadata": {},
   "outputs": [],
   "source": [
    "import networkx as nx\n",
    "import nxviz as nv\n",
    "import matplotlib.pyplot as plt\n",
    "from collections import defaultdict"
   ]
  },
  {
   "cell_type": "markdown",
   "id": "431b4fc2",
   "metadata": {},
   "source": [
    "```\n",
    "ap = nv.ArcPlot(G)\n",
    "ap.draw()\n",
    "plt.show()\n",
    "```"
   ]
  },
  {
   "cell_type": "markdown",
   "id": "176c15ab",
   "metadata": {},
   "source": [
    "**Add the degree centrality score of each node to their metadata dictionary:**\n",
    "```\n",
    "# Add the degree centrality score of each node to their metadata dictionary\n",
    "dcs = nx.degree_centrality(G)\n",
    "for n in G.nodes():\n",
    "    G.nodes[n]['centrality'] = dcs[n]\n",
    "```"
   ]
  },
  {
   "cell_type": "markdown",
   "id": "6b44b1fb",
   "metadata": {},
   "source": [
    "#### Plotting using nxviz\n",
    "\n",
    "```\n",
    "# Create the CircosPlot object: c\n",
    "c = CircosPlot(G, node_color='bipartite', node_grouping='bipartite', node_order='centrality')\n",
    "\n",
    "# Draw c to the screen\n",
    "c.draw()\n",
    "\n",
    "# Display the plot\n",
    "plt.show()\n",
    "```\n",
    "\n",
    "### Bipartite graphs\n",
    "* There are two conditions for defining a **bipartite graph**:\n",
    "    * **A graph in which the nodes are partitioned into two sets.**\n",
    "    * **The nodes in one set cannot be connected to one another; they can only be connected to nodes in the other set.**\n",
    "* This is in contrast to the **unipartite** graphs we've been using thus far in the course, in which the nodes are not explicitly partitioned into two sets.\n",
    "* An example where a bipartite graph may come in handy is: modeling the purchases that a set of customers make\n",
    "    * The nodes are partitioned into two sets: the customers partition, and the products partition\n",
    "    * Edges denote that a customer has purchased a particular product.\n",
    "    * Customers cannot purchase other customers, products cannot be purchased by other products."
   ]
  },
  {
   "cell_type": "code",
   "execution_count": 2,
   "id": "c2a00f21",
   "metadata": {},
   "outputs": [],
   "source": [
    "# import networks as nx\n",
    "G= nx.Graph()\n",
    "numbers = range(3)\n",
    "G.add_nodes_from(numbers, bipartite='customers')\n",
    "letters = ['a', 'b']\n",
    "G.add_nodes_from(letters, bipartite='products')"
   ]
  },
  {
   "cell_type": "markdown",
   "id": "6477431c",
   "metadata": {},
   "source": [
    "* Though it is not required by the API, by convention, bipartite information is encoded as part of the node attributes (or metadata), using the `bipartite` keyword.\n",
    "* In the toy example above, let's say we're modeling the connectivity between a 'customers' and a 'products' partition.\n",
    "* In constructing the graph, we use the graph object's method `add_nodes_from()`, passing in the list of nodes from each partition as the first argument\n",
    "* By passing in the `bipartite='customers'` or `bipartite='products'` arguments, the method will automatically create the node's metadata dictionary with the key bipartite and the value product or customers. "
   ]
  },
  {
   "cell_type": "code",
   "execution_count": 3,
   "id": "30a98bcb",
   "metadata": {},
   "outputs": [
    {
     "data": {
      "text/plain": [
       "NodeDataView({0: {'bipartite': 'customers'}, 1: {'bipartite': 'customers'}, 2: {'bipartite': 'customers'}, 'a': {'bipartite': 'products'}, 'b': {'bipartite': 'products'}})"
      ]
     },
     "execution_count": 3,
     "metadata": {},
     "output_type": "execute_result"
    }
   ],
   "source": [
    "G.nodes(data=True)"
   ]
  },
  {
   "cell_type": "code",
   "execution_count": 4,
   "id": "25c5d7dc",
   "metadata": {},
   "outputs": [
    {
     "data": {
      "image/png": "[encoded data removed]",
      "text/plain": [
       "<Figure size 432x288 with 1 Axes>"
      ]
     },
     "metadata": {},
     "output_type": "display_data"
    }
   ],
   "source": [
    "nx.draw(G, with_labels =True)\n",
    "plt.show()"
   ]
  },
  {
   "cell_type": "code",
   "execution_count": 5,
   "id": "86932c48",
   "metadata": {},
   "outputs": [],
   "source": [
    "G.add_edge(0, 'b')\n",
    "G.add_edge(1, 'b')\n",
    "G.add_edge(2, 'a')\n",
    "G.add_edge(2, 'b')"
   ]
  },
  {
   "cell_type": "code",
   "execution_count": 6,
   "id": "385533d1",
   "metadata": {},
   "outputs": [
    {
     "data": {
      "image/png": "[encoded data removed]",
      "text/plain": [
       "<Figure size 432x288 with 1 Axes>"
      ]
     },
     "metadata": {},
     "output_type": "display_data"
    }
   ],
   "source": [
    "nx.draw(G, with_labels =True)\n",
    "plt.show()"
   ]
  },
  {
   "cell_type": "markdown",
   "id": "0eeeea74",
   "metadata": {},
   "source": [
    "* **Note:** the partition info stored and displayed in metadata above.\n",
    "\n",
    "#### Degree Centrality\n",
    "* **Recall** that the degree centrality metric is a measure of node importance.\n",
    "* For any graph, the degree centrality of a node in the graph is defined as the number of neighbors in the graph divided by the number of possible neighbors it could have\n",
    "    * **(number of neighbors) // (number of possible neighbors)**\n",
    "    \n",
    "* **Number of possible neighbors *depends on graph type***\n",
    "    * In a **bipartite** graph, the denominator is the number of nodes present in the *other* partition.\n",
    "\n",
    "\n",
    "#### Filtering graphs\n",
    "* Because NetworkX doesn't provide an explicit 'bipartite' graph class, you will need to learn how to filter a graph for the node set.\n",
    "* This is most commonly accomplisheed by using list comprehensions\n",
    "* For example, to get the nodes in the `'customers'` partition, use the list comprehension below:"
   ]
  },
  {
   "cell_type": "code",
   "execution_count": 7,
   "id": "6b7fb787",
   "metadata": {},
   "outputs": [],
   "source": [
    "cust_nodes = [n for n, d in G.nodes(data=True) if d['bipartite']=='customers']"
   ]
  },
  {
   "cell_type": "code",
   "execution_count": 8,
   "id": "5fc0fc27",
   "metadata": {},
   "outputs": [
    {
     "data": {
      "text/plain": [
       "[0, 1, 2]"
      ]
     },
     "execution_count": 8,
     "metadata": {},
     "output_type": "execute_result"
    }
   ],
   "source": [
    "cust_nodes"
   ]
  },
  {
   "cell_type": "markdown",
   "id": "a88b74da",
   "metadata": {},
   "source": [
    "* Note how there's only `'customer'` nodes contained in the above list. \n",
    "* Upcoming in the course: we can get the bipartite degree centrality of a graph by calling on the bipartite degree centrality function, which requires a graph G and a list of nodes from one partition as arguments (it can be either partition."
   ]
  },
  {
   "cell_type": "code",
   "execution_count": 9,
   "id": "9feb7950",
   "metadata": {},
   "outputs": [
    {
     "data": {
      "text/plain": [
       "{0: 0.5, 1: 0.5, 2: 1.0, 'b': 1.0, 'a': 0.3333333333333333}"
      ]
     },
     "execution_count": 9,
     "metadata": {},
     "output_type": "execute_result"
    }
   ],
   "source": [
    "nx.bipartite.degree_centrality(G, cust_nodes)"
   ]
  },
  {
   "cell_type": "markdown",
   "id": "7163a65b",
   "metadata": {},
   "source": [
    "#### The 'bipartite' keyword\n",
    "* This keyword is part of a node's metadata dictionary, and can be assigned both when you add a node and after the node is added. \n",
    "* Write a function that returns the nodes from a given partition in a bipartite graph."
   ]
  },
  {
   "cell_type": "code",
   "execution_count": 10,
   "id": "b313dbbc",
   "metadata": {},
   "outputs": [],
   "source": [
    "# Define get_nodes_from_partition()\n",
    "def get_nodes_from_partition(G, partition):\n",
    "    # Initialize an empty list for nodes to be returned\n",
    "    nodes = []\n",
    "    # Iterate over each node in the graph G\n",
    "    for n in G.nodes():\n",
    "        # Check that the node belongs to the particular partition\n",
    "        if G.nodes[n]['bipartite'] == partition:\n",
    "            # If so, append it to the list of nodes\n",
    "            nodes.append(n)\n",
    "    return nodes"
   ]
  },
  {
   "cell_type": "markdown",
   "id": "ee2ed966",
   "metadata": {},
   "source": [
    "```\n",
    "# Print the number of nodes in the 'projects' partition\n",
    "print(len(get_nodes_from_partition(G, 'projects')))\n",
    "\n",
    "# Print the number of nodes in the 'users' partition\n",
    "print(len(get_nodes_from_partition(G, 'users')))\n",
    "```"
   ]
  },
  {
   "cell_type": "markdown",
   "id": "f2b680b9",
   "metadata": {},
   "source": [
    "#### Degree centrality distribution of user nodes\n",
    "* The \"degree centrality\" is a measure of node importance \n",
    "* The \"degree centrality distribution\" is the list of degree centrality scores for all nodes in the graph. \n",
    "\n",
    "```\n",
    "# Import matplotlib\n",
    "import matplotlib.pyplot as plt\n",
    "\n",
    "# Get the 'users' nodes: user_nodes\n",
    "user_nodes = get_nodes_from_partition(G, 'users')\n",
    "\n",
    "# Compute the degree centralities: dcs\n",
    "dcs = nx.degree_centrality(G)\n",
    "\n",
    "# Get the degree centralities for user_nodes: user_dcs\n",
    "user_dcs = [dcs[n] for n in user_nodes]\n",
    "\n",
    "# Plot the degree distribution of users_dcs\n",
    "plt.yscale('log')\n",
    "plt.hist(user_dcs, bins=20)\n",
    "plt.show()\n",
    "\n",
    "# Get the 'projects' nodes: project_nodes\n",
    "project_nodes = get_nodes_from_partition(G, 'projects')\n",
    "\n",
    "# Compute the degree centralities: dcs\n",
    "dcs = nx.degree_centrality(G)\n",
    "\n",
    "# Get the degree centralities for project_nodes: project_dcs\n",
    "project_dcs = [dcs[n] for n in project_nodes]\n",
    "\n",
    "# Plot the degree distribution of project_dcs\n",
    "plt.yscale('log')\n",
    "plt.hist(project_dcs, bins=20)\n",
    "plt.show()\n",
    "```\n",
    "\n",
    "### Bipartite graphs and recommendation systems\n",
    "#### Recommendation systems\n",
    "* Previously: Recommended users to connect with one another\n",
    "    * Graph: 'unipartite' (or, users-only) version\n",
    "* Now: 'bipartite' (or, repo-users) version\n",
    "* Recommending repositories for users to work on (which is an alternative to recommending users to work with). \n",
    "    * The concept is founded on **set overlaps** between highly similar nodes on one partition."
   ]
  },
  {
   "cell_type": "code",
   "execution_count": null,
   "id": "3ec9beb2",
   "metadata": {},
   "outputs": [],
   "source": [
    "#G = G.remove_nodes_from(list(G.nodes()))"
   ]
  },
  {
   "cell_type": "code",
   "execution_count": null,
   "id": "b83393be",
   "metadata": {},
   "outputs": [],
   "source": [
    "#G = nx.Graph.remove_edges_from(list(G.edges()))"
   ]
  },
  {
   "cell_type": "code",
   "execution_count": null,
   "id": "48944aa6",
   "metadata": {},
   "outputs": [],
   "source": [
    "#G.remove_node('a')"
   ]
  },
  {
   "cell_type": "code",
   "execution_count": null,
   "id": "914498e0",
   "metadata": {},
   "outputs": [],
   "source": [
    "#G=G.remove_node(2)"
   ]
  },
  {
   "cell_type": "code",
   "execution_count": 11,
   "id": "aa26bf56",
   "metadata": {},
   "outputs": [],
   "source": [
    "# import networks as nx\n",
    "G2= nx.Graph()\n",
    "users = ['user1', 'user2', 'user3']\n",
    "G2.add_nodes_from(users, bipartite='users')\n",
    "repos = ['repo1', 'repo2', 'repo3']\n",
    "G2.add_nodes_from(repos, bipartite='repos')\n",
    "G2.add_edge('user1', 'repo2')\n",
    "G2.add_edge('user2', 'repo2')\n",
    "G2.add_edge('user3', 'repo1')\n",
    "G2.add_edge('user3', 'repo2')"
   ]
  },
  {
   "cell_type": "code",
   "execution_count": 12,
   "id": "553795b9",
   "metadata": {},
   "outputs": [
    {
     "data": {
      "image/png": "[encoded data removed]",
      "text/plain": [
       "<Figure size 432x288 with 1 Axes>"
      ]
     },
     "metadata": {},
     "output_type": "display_data"
    }
   ],
   "source": [
    "nx.draw(G2, with_labels = True)\n",
    "plt.show()"
   ]
  },
  {
   "cell_type": "markdown",
   "id": "43d6b3f9",
   "metadata": {},
   "source": [
    "* `user1` is connected to `repo2` and we want to recommend repositories that `user1` might be interested in working on.\n",
    "* Which other users are connected to `repo2` (other than `user1`), which in this case are `user2` and `user3`\n",
    "* Both `user2` and `user3` are also connected, but in this case, `user3` also has another repository, `repo1`, that it's connected to.\n",
    "* In this case, we may want to thus recommend `repo1` to `user1` to contribute to.\n",
    "* One thing that may come in handy for the following exercise is the idea of using **set operations** in your code.\n",
    "\n",
    "#### Code: Node sets"
   ]
  },
  {
   "cell_type": "code",
   "execution_count": 14,
   "id": "ed2dd03c",
   "metadata": {},
   "outputs": [
    {
     "data": {
      "text/plain": [
       "NodeDataView({'user1': {'bipartite': 'users'}, 'user2': {'bipartite': 'users'}, 'user3': {'bipartite': 'users'}, 'repo1': {'bipartite': 'repos'}, 'repo2': {'bipartite': 'repos'}, 'repo3': {'bipartite': 'repos'}})"
      ]
     },
     "execution_count": 14,
     "metadata": {},
     "output_type": "execute_result"
    }
   ],
   "source": [
    "G2.nodes(data=True)"
   ]
  },
  {
   "cell_type": "code",
   "execution_count": 16,
   "id": "f0607f87",
   "metadata": {},
   "outputs": [
    {
     "data": {
      "text/plain": [
       "EdgeDataView([('user1', 'repo2', {}), ('user2', 'repo2', {}), ('user3', 'repo1', {}), ('user3', 'repo2', {})])"
      ]
     },
     "execution_count": 16,
     "metadata": {},
     "output_type": "execute_result"
    }
   ],
   "source": [
    "G2.edges(data=True)"
   ]
  },
  {
   "cell_type": "markdown",
   "id": "4ffb6238",
   "metadata": {},
   "source": [
    "* Note that the node list contains all 6 nodes, belonging to both the repositories and useres partitions, and the edge list containing the 4 edges between them.\n",
    "* Suppose we wanted to see which neighbors are shared between two nodes, `user1` and `user3`"
   ]
  },
  {
   "cell_type": "code",
   "execution_count": 36,
   "id": "48b2a7b2",
   "metadata": {},
   "outputs": [
    {
     "data": {
      "text/plain": [
       "<dict_keyiterator at 0x7fb931184ef0>"
      ]
     },
     "execution_count": 36,
     "metadata": {},
     "output_type": "execute_result"
    }
   ],
   "source": [
    "user1_nbrs = G2.neighbors('user1')\n",
    "user1_nbrs"
   ]
  },
  {
   "cell_type": "code",
   "execution_count": 18,
   "id": "1b7a6743",
   "metadata": {},
   "outputs": [
    {
     "data": {
      "text/plain": [
       "['repo2']"
      ]
     },
     "execution_count": 18,
     "metadata": {},
     "output_type": "execute_result"
    }
   ],
   "source": [
    "#list(user1_nbrs)"
   ]
  },
  {
   "cell_type": "code",
   "execution_count": 37,
   "id": "6202d421",
   "metadata": {},
   "outputs": [
    {
     "data": {
      "text/plain": [
       "<dict_keyiterator at 0x7fb9311841d0>"
      ]
     },
     "execution_count": 37,
     "metadata": {},
     "output_type": "execute_result"
    }
   ],
   "source": [
    "user3_nbrs = G2.neighbors('user3')\n",
    "user3_nbrs"
   ]
  },
  {
   "cell_type": "code",
   "execution_count": 21,
   "id": "ac4a5fab",
   "metadata": {},
   "outputs": [
    {
     "data": {
      "text/plain": [
       "['repo1', 'repo2']"
      ]
     },
     "execution_count": 21,
     "metadata": {},
     "output_type": "execute_result"
    }
   ],
   "source": [
    "#list(user3_nbrs)"
   ]
  },
  {
   "cell_type": "markdown",
   "id": "2f5068d1",
   "metadata": {},
   "source": [
    "* To see which neighbors are shared, we can use `set` and `.intersection()`"
   ]
  },
  {
   "cell_type": "code",
   "execution_count": 32,
   "id": "a81ef654",
   "metadata": {},
   "outputs": [
    {
     "data": {
      "text/plain": [
       "{'repo2'}"
      ]
     },
     "execution_count": 32,
     "metadata": {},
     "output_type": "execute_result"
    }
   ],
   "source": [
    "set(user1_nbrs).intersection(user3_nbrs)"
   ]
  },
  {
   "cell_type": "markdown",
   "id": "e50e1b26",
   "metadata": {},
   "source": [
    "* Call the `intersection()` method, passing in the other container nodes, to get the common elements\n",
    "* Here, the intersection of user 1 and user 3 neighbors is `repo2`; **they both contributed to `repo2`.**\n",
    "* We can also get the difference between the two, which is the nodes that are in the left node set that are not in the right node set. In this case, a repo that `user3` contributed to that `user1` didn't contribute to is `repo1`\n",
    "* As such, this is one candidate repository that could be recommended to `user1`"
   ]
  },
  {
   "cell_type": "code",
   "execution_count": 38,
   "id": "53e3508e",
   "metadata": {},
   "outputs": [
    {
     "data": {
      "text/plain": [
       "{'repo1'}"
      ]
     },
     "execution_count": 38,
     "metadata": {},
     "output_type": "execute_result"
    }
   ],
   "source": [
    "set(user3_nbrs).difference(user1_nbrs)"
   ]
  },
  {
   "cell_type": "markdown",
   "id": "2d64658d",
   "metadata": {},
   "source": [
    "### Shared nodes in other partition\n",
    "* In order to build up your concept of recommendation systems, we are going to start with the fundamentals. The focus here is on computing user similarity in bipartite graphs.\n",
    "* Your job is to write a function that takes in two nodes, and returns the set of repository nodes that are shared between the two user nodes."
   ]
  },
  {
   "cell_type": "code",
   "execution_count": 39,
   "id": "d4a59718",
   "metadata": {},
   "outputs": [],
   "source": [
    "def shared_partition_nodes(G, node1, node2):\n",
    "    # Check that the nodes belong to the same partition\n",
    "    assert G.nodes[node1]['bipartite'] == G.nodes[node2]['bipartite']\n",
    "\n",
    "    # Get neighbors of node 1: nbrs1\n",
    "    nbrs1 = G.neighbors(node1)\n",
    "    # Get neighbors of node 2: nbrs2\n",
    "    nbrs2 = G.neighbors(node2)\n",
    "\n",
    "    # Compute the overlap using set intersections\n",
    "    overlap = set(nbrs1).intersection(nbrs2)\n",
    "    return overlap"
   ]
  },
  {
   "cell_type": "markdown",
   "id": "083ed1db",
   "metadata": {},
   "source": [
    "```\n",
    "# Print the number of shared repositories between users 'u7909' and 'u2148'\n",
    "print(len(shared_partition_nodes(G, 'u7909', 'u2148')))\n",
    "```"
   ]
  },
  {
   "cell_type": "markdown",
   "id": "7e9d3d68",
   "metadata": {},
   "source": [
    "### User similarity metric\n",
    "Having written a function to calculate the set of nodes that are shared between two nodes, you're now going to write a function to compute a metric of similarity between two users: the number of projects shared between two users divided by the total number of nodes in the other partition. This can then be used to find users that are similar to one another."
   ]
  },
  {
   "cell_type": "code",
   "execution_count": 42,
   "id": "1da8bd5e",
   "metadata": {},
   "outputs": [],
   "source": [
    "def user_similarity(G, user1, user2, proj_nodes):\n",
    "    # Check that the nodes belong to the 'users' partition\n",
    "    assert G.nodes[user1]['bipartite'] == 'users'\n",
    "    assert G.nodes[user2]['bipartite'] == 'users'\n",
    "\n",
    "    # Get the set of nodes shared between the two users\n",
    "    shared_nodes = shared_partition_nodes(G, user1, user2)\n",
    "\n",
    "    # Return the fraction of nodes in the projects partition\n",
    "    return len(shared_nodes) / len(proj_nodes)"
   ]
  },
  {
   "cell_type": "markdown",
   "id": "6d962a37",
   "metadata": {},
   "source": [
    "```\n",
    "# Compute the similarity score between users 'u4560' and 'u1880'\n",
    "project_nodes = get_nodes_from_partition(G, 'projects')\n",
    "similarity_score = user_similarity(G, 'u4560', 'u1880', 'projects')\n",
    "\n",
    "print(similarity_score)\n",
    "```"
   ]
  },
  {
   "cell_type": "markdown",
   "id": "2465645d",
   "metadata": {},
   "source": [
    "### Find similar users\n",
    "You're now going to build upon what you've learned so far to write a function called most_similar_users() that finds the users most similar to another given user.\n",
    "\n",
    "A list of nodes, `user_nodes` has been created, which contains all of the users except the given user that has been passed into the function. Your task is to complete the function such that it finds the users most similar to this given user. You'll make use of your `user_similarity()` function from the previous exercise to help do this.\n",
    "\n",
    "A dictionary called `similarities` has been setup, in which the keys are the scores and the list of values are the nodes."
   ]
  },
  {
   "cell_type": "code",
   "execution_count": 47,
   "id": "d94bce1f",
   "metadata": {},
   "outputs": [],
   "source": [
    "# from collections import defaultdict\n",
    "\n",
    "def most_similar_users(G, user, user_nodes, proj_nodes):\n",
    "    # Data checks\n",
    "    assert G.nodes[user]['bipartite'] == 'users'\n",
    "\n",
    "    # Get other nodes from user partition\n",
    "    user_nodes = set(user_nodes)\n",
    "    user_nodes.remove(user)\n",
    "\n",
    "    # Create the dictionary: similarities\n",
    "    similarities = defaultdict(list)\n",
    "    for n in user_nodes:\n",
    "        similarity = user_similarity(G, user, n, proj_nodes)\n",
    "        similarities[similarity].append(n)\n",
    "\n",
    "    # Compute maximum similarity score: max_similarity\n",
    "    max_similarity = max(similarities.keys())\n",
    "\n",
    "    # Return list of users that share maximal similarity\n",
    "    return similarities[max_similarity]"
   ]
  },
  {
   "cell_type": "markdown",
   "id": "1d159a4c",
   "metadata": {},
   "source": [
    "```\n",
    "user_nodes = get_nodes_from_partition(G, 'users')\n",
    "project_nodes = get_nodes_from_partition(G, 'projects')\n",
    "\n",
    "print(most_similar_users(G, 'u4560', user_nodes, project_nodes))\n",
    "```"
   ]
  },
  {
   "cell_type": "markdown",
   "id": "e8749689",
   "metadata": {},
   "source": [
    "### Recommend repositories\n",
    "Here, the task is to practice using set differences, and you'll apply it to recommending repositories from a second user that the first user should contribute to."
   ]
  },
  {
   "cell_type": "code",
   "execution_count": 48,
   "id": "b5e76680",
   "metadata": {},
   "outputs": [],
   "source": [
    "def recommend_repositories(G, from_user, to_user):\n",
    "    # Get the set of repositories that from_user has contributed to\n",
    "    from_repos = set(G.neighbors(from_user))\n",
    "    # Get the set of repositories that to_user has contributed to\n",
    "    to_repos = set(G.neighbors(to_user))\n",
    "\n",
    "    # Identify repositories that the from_user is connected to that the to_user is not connected to\n",
    "    return from_repos.difference(to_repos)"
   ]
  },
  {
   "cell_type": "markdown",
   "id": "8b4e5087",
   "metadata": {},
   "source": [
    "```\n",
    "# Print the repositories to be recommended\n",
    "print(recommend_repositories(G, 'u7909', 'u2148'))\n",
    "```"
   ]
  },
  {
   "cell_type": "code",
   "execution_count": null,
   "id": "30118d8f",
   "metadata": {},
   "outputs": [],
   "source": []
  },
  {
   "cell_type": "code",
   "execution_count": null,
   "id": "d83082f5",
   "metadata": {},
   "outputs": [],
   "source": []
  },
  {
   "cell_type": "code",
   "execution_count": null,
   "id": "ff93e6b6",
   "metadata": {},
   "outputs": [],
   "source": []
  },
  {
   "cell_type": "code",
   "execution_count": null,
   "id": "7806b42d",
   "metadata": {},
   "outputs": [],
   "source": []
  },
  {
   "cell_type": "code",
   "execution_count": null,
   "id": "399f44f2",
   "metadata": {},
   "outputs": [],
   "source": []
  },
  {
   "cell_type": "code",
   "execution_count": null,
   "id": "d7697407",
   "metadata": {},
   "outputs": [],
   "source": []
  }
 ],
 "metadata": {
  "kernelspec": {
   "display_name": "Python 3",
   "language": "python",
   "name": "python3"
  },
  "language_info": {
   "codemirror_mode": {
    "name": "ipython",
    "version": 3
   },
   "file_extension": ".py",
   "mimetype": "text/x-python",
   "name": "python",
   "nbconvert_exporter": "python",
   "pygments_lexer": "ipython3",
   "version": "3.8.8"
  }
 },
 "nbformat": 4,
 "nbformat_minor": 5
}
