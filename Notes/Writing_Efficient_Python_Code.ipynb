{
 "cells": [
  {
   "cell_type": "markdown",
   "id": "00549a19",
   "metadata": {},
   "source": [
    "Note: This notebook was created as part of the DataCamp course of the same name\n",
    "\n",
    "# Writing Efficient Python Code\n",
    "\n",
    "As a Data Scientist, the majority of your time should be spent gleaning actionable insights from data -- not waiting for your code to finish running. Writing efficient Python code can help reduce runtime and save computational resources, ultimately freeing you up to do the things you love as a Data Scientist. In this course, you'll learn how to use Python's built-in data structures, functions, and modules to write cleaner, faster, and more efficient code. We'll explore how to time and profile code in order to find bottlenecks. Then, you'll practice eliminating these bottlenecks, and other bad design patterns, using Python's Standard Library, NumPy, and pandas. After completing this course, you'll have the necessary tools to start writing efficient Python code!\n",
    "\n",
    "**Instructor:** Logan Thomas, Scientific Software Technical Trainer @ Enthought"
   ]
  },
  {
   "cell_type": "markdown",
   "id": "29e81568",
   "metadata": {},
   "source": [
    "# $\\star$ Chapter 1: Foundations for efficiencies\n",
    "In this chapter, you'll learn what it means to write efficient Python code. You'll explore Python's Standard Library, learn about NumPy arrays, and practice using some of Python's built-in tools. This chapter builds a foundation for the concepts covered ahead."
   ]
  },
  {
   "cell_type": "markdown",
   "id": "420a76f8",
   "metadata": {},
   "source": [
    "#### Course overview\n",
    "* Write cleaner, faster, more efficient Python code\n",
    "* Time and profile your code for bottlenecks\n",
    "* Eliminate bottlenecks and bad design patterns using\n",
    "    * Python's Standard Library\n",
    "    * NumPy \n",
    "    * pandas\n",
    "#### Definining efficient\n",
    "* In the context of this course, **efficient** refers to code that satisfies two key concepts:\\\n",
    "    * Minimal completion time (*fast runtime*)\n",
    "        * Small latency between execution and returning a result\n",
    "    * Minimal resource consumption (*small memory footprint*)\n",
    "        * skillfully allocates resources without unnecessary overhead\n",
    "* **The goal of writing efficient code is to reduce both *latency* and *overhead*.**\n",
    "\n",
    "#### Defining Pythonic\n",
    "* Focus on *readability*\n",
    "* Using Python's constructs as intended (\"Pythonic\")\n",
    "* Pythonic code tends to be less verbose and easier to interpret\n",
    "* Although Python supports code that doesn't follow its guiding principles, this type of code tends to run slower\n",
    "* **Pythonic code = efficient code**"
   ]
  },
  {
   "cell_type": "markdown",
   "id": "5dd55be9",
   "metadata": {},
   "source": [
    "```\n",
    "# Non-Pythonic\n",
    "doubled_numbers = []\n",
    "\n",
    "for i in range(len(numbers)):\n",
    "    doubled_numbers.append(numbers[i]*2)\n",
    "```\n",
    "***\n",
    "\n",
    "```    \n",
    "# Pythonic\n",
    "doubled_numbers = [x *2 for x in numbers]\n",
    "```"
   ]
  },
  {
   "cell_type": "markdown",
   "id": "424ef12e",
   "metadata": {},
   "source": [
    "**The Zen of Python**- Tim Peters"
   ]
  },
  {
   "cell_type": "code",
   "execution_count": 2,
   "id": "43605d3d",
   "metadata": {
    "scrolled": true
   },
   "outputs": [
    {
     "name": "stdout",
     "output_type": "stream",
     "text": [
      "The Zen of Python, by Tim Peters\n",
      "\n",
      "Beautiful is better than ugly.\n",
      "Explicit is better than implicit.\n",
      "Simple is better than complex.\n",
      "Complex is better than complicated.\n",
      "Flat is better than nested.\n",
      "Sparse is better than dense.\n",
      "Readability counts.\n",
      "Special cases aren't special enough to break the rules.\n",
      "Although practicality beats purity.\n",
      "Errors should never pass silently.\n",
      "Unless explicitly silenced.\n",
      "In the face of ambiguity, refuse the temptation to guess.\n",
      "There should be one-- and preferably only one --obvious way to do it.\n",
      "Although that way may not be obvious at first unless you're Dutch.\n",
      "Now is better than never.\n",
      "Although never is often better than *right* now.\n",
      "If the implementation is hard to explain, it's a bad idea.\n",
      "If the implementation is easy to explain, it may be a good idea.\n",
      "Namespaces are one honking great idea -- let's do more of those!\n"
     ]
    }
   ],
   "source": [
    "import this"
   ]
  },
  {
   "cell_type": "markdown",
   "id": "6b0325fe",
   "metadata": {},
   "source": [
    "#### Pythonic vs. Non-Pythonic Looping"
   ]
  },
  {
   "cell_type": "code",
   "execution_count": 3,
   "id": "993f2268",
   "metadata": {},
   "outputs": [],
   "source": [
    "names = ['Jerry', 'Kramer', 'Elaine', 'George', 'Newman']"
   ]
  },
  {
   "cell_type": "code",
   "execution_count": 4,
   "id": "894ead96",
   "metadata": {},
   "outputs": [
    {
     "name": "stdout",
     "output_type": "stream",
     "text": [
      "['Kramer', 'Elaine', 'George', 'Newman']\n"
     ]
    }
   ],
   "source": [
    "# Print the list created using the Non-Pythonic approach\n",
    "i = 0\n",
    "new_list= []\n",
    "while i < len(names):\n",
    "    if len(names[i]) >= 6:\n",
    "        new_list.append(names[i])\n",
    "    i += 1\n",
    "print(new_list)"
   ]
  },
  {
   "cell_type": "markdown",
   "id": "e3f32108",
   "metadata": {},
   "source": [
    "A more *Pythonic* approach would loop over the contents of `names`, rather than using an index variable. Print `better_list`."
   ]
  },
  {
   "cell_type": "code",
   "execution_count": 5,
   "id": "2ecb6d7e",
   "metadata": {},
   "outputs": [
    {
     "name": "stdout",
     "output_type": "stream",
     "text": [
      "['Kramer', 'Elaine', 'George', 'Newman']\n"
     ]
    }
   ],
   "source": [
    "# Print the list created by looping over the contents of names\n",
    "better_list = []\n",
    "for name in names:\n",
    "    if len(name) >= 6:\n",
    "        better_list.append(name)\n",
    "print(better_list)"
   ]
  },
  {
   "cell_type": "markdown",
   "id": "8c59e845",
   "metadata": {},
   "source": [
    "The best *Pythonic* way of doing this is by using list comprehension. Print `best_list`."
   ]
  },
  {
   "cell_type": "code",
   "execution_count": 6,
   "id": "70a0e31b",
   "metadata": {},
   "outputs": [
    {
     "name": "stdout",
     "output_type": "stream",
     "text": [
      "['Kramer', 'Elaine', 'George', 'Newman']\n"
     ]
    }
   ],
   "source": [
    "# Print the list created by using list comprehension\n",
    "best_list = [name for name in names if len(name) >= 6]\n",
    "print(best_list)"
   ]
  },
  {
   "cell_type": "markdown",
   "id": "ceca75c9",
   "metadata": {},
   "source": [
    "### Building with built-ins\n",
    "* Python comes with a number of built-in components that you can think of as a \"batteries included\" concept\n",
    "* Built-in components are referred to as the **Python Standard Library**\n",
    "* Built-in types:\n",
    "    * `list`, `tuple`, `set`, `dict`, and others\n",
    "* Built-in functions:\n",
    "    * `print()`, `len()`, `range()`, `round()`, `enumerate()`, `map()`, `zip()`, and others\n",
    "* Built-in modules:\n",
    "    * `os`, `sys`, `itertools`, `collections`, `math`, and others\n",
    "* **Python's built-ins have been optimized to work within the Python language itself.** Therefore, we should default to using a built-in solution (if one exists), rather than developing our own.\n",
    "\n",
    "### `range(start, stop, step)`\n",
    "* Creates a range object, which we can then convert into a list and print\n",
    "* Unpack a range object with **`*`**  "
   ]
  },
  {
   "cell_type": "code",
   "execution_count": 26,
   "id": "0c836ecc",
   "metadata": {},
   "outputs": [
    {
     "name": "stdout",
     "output_type": "stream",
     "text": [
      "range(0, 11)\n"
     ]
    }
   ],
   "source": [
    "nums = range(11)\n",
    "print(nums)"
   ]
  },
  {
   "cell_type": "code",
   "execution_count": 27,
   "id": "47078777",
   "metadata": {},
   "outputs": [
    {
     "name": "stdout",
     "output_type": "stream",
     "text": [
      "[0, 1, 2, 3, 4, 5, 6, 7, 8, 9, 10]\n"
     ]
    }
   ],
   "source": [
    "print(list(nums))"
   ]
  },
  {
   "cell_type": "markdown",
   "id": "111a0c8a",
   "metadata": {},
   "source": [
    "***"
   ]
  },
  {
   "cell_type": "code",
   "execution_count": 28,
   "id": "162bd7eb",
   "metadata": {},
   "outputs": [
    {
     "name": "stdout",
     "output_type": "stream",
     "text": [
      "range(0, 11)\n"
     ]
    }
   ],
   "source": [
    "print(nums)"
   ]
  },
  {
   "cell_type": "code",
   "execution_count": 29,
   "id": "da500ac6",
   "metadata": {},
   "outputs": [
    {
     "name": "stdout",
     "output_type": "stream",
     "text": [
      "0 1 2 3 4 5 6 7 8 9 10\n"
     ]
    }
   ],
   "source": [
    "print(*nums)"
   ]
  },
  {
   "cell_type": "code",
   "execution_count": 34,
   "id": "f366f59b",
   "metadata": {},
   "outputs": [],
   "source": [
    "nums2 = [*nums]"
   ]
  },
  {
   "cell_type": "code",
   "execution_count": 35,
   "id": "e8c783f6",
   "metadata": {},
   "outputs": [
    {
     "name": "stdout",
     "output_type": "stream",
     "text": [
      "[0, 1, 2, 3, 4, 5, 6, 7, 8, 9, 10]\n"
     ]
    }
   ],
   "source": [
    "print(nums2)"
   ]
  },
  {
   "cell_type": "code",
   "execution_count": 36,
   "id": "5a7ef211",
   "metadata": {},
   "outputs": [
    {
     "name": "stdout",
     "output_type": "stream",
     "text": [
      "[1, 3, 5, 7, 9, 11]\n"
     ]
    }
   ],
   "source": [
    "print([*range(1,12,2)])"
   ]
  },
  {
   "cell_type": "markdown",
   "id": "e6c4fbef",
   "metadata": {},
   "source": [
    "### `enumerate(list, start=)`\n",
    "* creates an indexed list of objects by:\n",
    "* creates an index-item pair for each item in the object provided\n",
    "* Similar to range, **enumerate returns an enumerate object, which can also be converted into a list and printed.**"
   ]
  },
  {
   "cell_type": "code",
   "execution_count": 9,
   "id": "8c5bb15f",
   "metadata": {},
   "outputs": [],
   "source": [
    "letters = ['a', 'b', 'c', 'd']"
   ]
  },
  {
   "cell_type": "code",
   "execution_count": 10,
   "id": "ae507b1b",
   "metadata": {},
   "outputs": [],
   "source": [
    "indexed_letters = enumerate(letters)"
   ]
  },
  {
   "cell_type": "code",
   "execution_count": 11,
   "id": "84417df0",
   "metadata": {},
   "outputs": [
    {
     "name": "stdout",
     "output_type": "stream",
     "text": [
      "[(0, 'a'), (1, 'b'), (2, 'c'), (3, 'd')]\n"
     ]
    }
   ],
   "source": [
    "indexed_letters_list = list(indexed_letters)\n",
    "print(indexed_letters_list)"
   ]
  },
  {
   "cell_type": "markdown",
   "id": "8b275ab4",
   "metadata": {},
   "source": [
    "* We can also specify the starting index of `enumerate` with the keyword argument **`start`**\n",
    "* Below, we tell enumerate to start the index at five by passing `start = 5` into the function call."
   ]
  },
  {
   "cell_type": "code",
   "execution_count": 13,
   "id": "e3949309",
   "metadata": {},
   "outputs": [],
   "source": [
    "indexed_letters2 = enumerate(letters, start=5)"
   ]
  },
  {
   "cell_type": "code",
   "execution_count": 14,
   "id": "7ed1ebb2",
   "metadata": {},
   "outputs": [
    {
     "name": "stdout",
     "output_type": "stream",
     "text": [
      "[(5, 'a'), (6, 'b'), (7, 'c'), (8, 'd')]\n"
     ]
    }
   ],
   "source": [
    "indexed_letters2_list = list(indexed_letters2)\n",
    "print(indexed_letters2_list)"
   ]
  },
  {
   "cell_type": "markdown",
   "id": "f301b83f",
   "metadata": {},
   "source": [
    "### `map(function, object)`\n",
    "* Applies a function to each element in an object\n",
    "* Note that `map` also returns a map object, which can then be converted into a list and printed\n",
    "* First argument = function you'd like to apply\n",
    "* Second argument = object you'd like to apply the function on (for example: list)"
   ]
  },
  {
   "cell_type": "code",
   "execution_count": 15,
   "id": "16cd4827",
   "metadata": {},
   "outputs": [],
   "source": [
    "nums = [1.5, 2.3, 3.4, 4.6, 5.0]"
   ]
  },
  {
   "cell_type": "code",
   "execution_count": 17,
   "id": "954059dc",
   "metadata": {},
   "outputs": [],
   "source": [
    "rnd_nums = map(round, nums)"
   ]
  },
  {
   "cell_type": "code",
   "execution_count": 18,
   "id": "99387259",
   "metadata": {},
   "outputs": [
    {
     "name": "stdout",
     "output_type": "stream",
     "text": [
      "[2, 2, 3, 5, 5]\n"
     ]
    }
   ],
   "source": [
    "print(list(rnd_nums))"
   ]
  },
  {
   "cell_type": "markdown",
   "id": "727aa76e",
   "metadata": {},
   "source": [
    "#### `map()` + `lambda`\n",
    "* `map()` can also be used with a `lambda`, or anonymous, function\n",
    "* Notice below that we can use `map` and a `lambda` expression to apply a self-defined function to our original list `nums`.\n",
    "* `map` provides a quick and clean way to appy a function to an object iteratively without writing a for loop."
   ]
  },
  {
   "cell_type": "code",
   "execution_count": 19,
   "id": "55dffb44",
   "metadata": {},
   "outputs": [],
   "source": [
    "nums = [1, 2, 3, 4, 5]"
   ]
  },
  {
   "cell_type": "code",
   "execution_count": 20,
   "id": "0d793acf",
   "metadata": {},
   "outputs": [],
   "source": [
    "sqrd_nums = map(lambda x: x ** 2, nums)"
   ]
  },
  {
   "cell_type": "code",
   "execution_count": 21,
   "id": "f88cce3d",
   "metadata": {},
   "outputs": [
    {
     "name": "stdout",
     "output_type": "stream",
     "text": [
      "<map object at 0x7fb9f0a57d00>\n"
     ]
    }
   ],
   "source": [
    "print(sqrd_nums)"
   ]
  },
  {
   "cell_type": "code",
   "execution_count": 22,
   "id": "2b13ed1e",
   "metadata": {},
   "outputs": [
    {
     "name": "stdout",
     "output_type": "stream",
     "text": [
      "[1, 4, 9, 16, 25]\n"
     ]
    }
   ],
   "source": [
    "print(list(sqrd_nums))"
   ]
  },
  {
   "cell_type": "markdown",
   "id": "c68fd2d8",
   "metadata": {},
   "source": [
    "#### Exercises: range()"
   ]
  },
  {
   "cell_type": "code",
   "execution_count": 37,
   "id": "fbb685d2",
   "metadata": {},
   "outputs": [
    {
     "name": "stdout",
     "output_type": "stream",
     "text": [
      "<class 'range'>\n",
      "[0, 1, 2, 3, 4, 5]\n",
      "[1, 3, 5, 7, 9, 11]\n"
     ]
    }
   ],
   "source": [
    "# Create a range object that goes from 0 to 5\n",
    "nums = range(6)\n",
    "print(type(nums))\n",
    "\n",
    "# Convert nums to a list\n",
    "nums_list = list(nums)\n",
    "print(nums_list)\n",
    "\n",
    "# Create a new list of odd numbers from 1 to 11 by unpacking a range object\n",
    "nums_list2 = [*range(1,12,2)]\n",
    "print(nums_list2)"
   ]
  },
  {
   "cell_type": "markdown",
   "id": "27d0f01e",
   "metadata": {},
   "source": [
    "#### Exercises: enumerate()"
   ]
  },
  {
   "cell_type": "code",
   "execution_count": 38,
   "id": "0e8be61b",
   "metadata": {},
   "outputs": [],
   "source": [
    "names = ['Jerry', 'Kramer', 'Elaine', 'George', 'Newman']"
   ]
  },
  {
   "cell_type": "markdown",
   "id": "b9a330a6",
   "metadata": {},
   "source": [
    "If you wanted to attach an index representing a person's arrival order, you could use the following for loop:\n",
    "\n",
    "```\n",
    "indexed_names = []\n",
    "for i in range(len(names)):\n",
    "    index_name = (i, names[i])\n",
    "    indexed_names.append(index_name)\n",
    "\n",
    "[(0,'Jerry'),(1,'Kramer'),(2,'Elaine'),(3,'George'),(4,'Newman')]\n",
    "```\n",
    "\n",
    "But, that's not the most efficient solution. Let's explore how to use `enumerate()` to make this more efficient."
   ]
  },
  {
   "cell_type": "code",
   "execution_count": 39,
   "id": "e9042b9d",
   "metadata": {},
   "outputs": [
    {
     "name": "stdout",
     "output_type": "stream",
     "text": [
      "[(0, 'Jerry'), (1, 'Kramer'), (2, 'Elaine'), (3, 'George'), (4, 'Newman')]\n"
     ]
    }
   ],
   "source": [
    "# Rewrite the for loop to use enumerate\n",
    "indexed_names = []\n",
    "for i, name in enumerate(names):\n",
    "    index_name = (i,name)\n",
    "    indexed_names.append(index_name) \n",
    "print(indexed_names)"
   ]
  },
  {
   "cell_type": "markdown",
   "id": "63d2361d",
   "metadata": {},
   "source": [
    "Rewrite the previous for loop using `enumerate()` and list comprehension to create a new list, `indexed_names_comp`."
   ]
  },
  {
   "cell_type": "code",
   "execution_count": 40,
   "id": "84ebdc1b",
   "metadata": {},
   "outputs": [
    {
     "name": "stdout",
     "output_type": "stream",
     "text": [
      "[(0, 'Jerry'), (1, 'Kramer'), (2, 'Elaine'), (3, 'George'), (4, 'Newman')]\n"
     ]
    }
   ],
   "source": [
    "# Rewrite the above for loop using list comprehension\n",
    "indexed_names_comp = [(i,name) for i,name in enumerate(names)]\n",
    "print(indexed_names_comp)"
   ]
  },
  {
   "cell_type": "markdown",
   "id": "f87285e9",
   "metadata": {},
   "source": [
    "Create another list (`indexed_names_unpack`) by using the star character (`*`) to unpack the *enumerate object* created from using `enumerate()` on `names`."
   ]
  },
  {
   "cell_type": "code",
   "execution_count": 42,
   "id": "569260f8",
   "metadata": {},
   "outputs": [
    {
     "name": "stdout",
     "output_type": "stream",
     "text": [
      "[(0, 'Jerry'), (1, 'Kramer'), (2, 'Elaine'), (3, 'George'), (4, 'Newman')]\n"
     ]
    }
   ],
   "source": [
    "print([*enumerate(names)])"
   ]
  },
  {
   "cell_type": "markdown",
   "id": "f0d272da",
   "metadata": {},
   "source": [
    "This time, start the index for `enumerate()` at one instead of zero."
   ]
  },
  {
   "cell_type": "code",
   "execution_count": 41,
   "id": "d8ae48d4",
   "metadata": {},
   "outputs": [
    {
     "name": "stdout",
     "output_type": "stream",
     "text": [
      "[(1, 'Jerry'), (2, 'Kramer'), (3, 'Elaine'), (4, 'George'), (5, 'Newman')]\n"
     ]
    }
   ],
   "source": [
    "print([*enumerate(names, 1)])"
   ]
  },
  {
   "cell_type": "markdown",
   "id": "079d449e",
   "metadata": {},
   "source": [
    "#### Exercises: `map()`\n",
    "Suppose you wanted to create a new list (called `names_uppercase`) that converted all the letters in each name to uppercase. you could accomplish this with the below for loop:\n",
    "\n",
    "```\n",
    "names_uppercase = []\n",
    "\n",
    "for name in names:\n",
    "  names_uppercase.append(name.upper())\n",
    "\n",
    "['JERRY', 'KRAMER', 'ELAINE', 'GEORGE', 'NEWMAN']\n",
    "```\n",
    "\n",
    "Let's explore using the `map()` function to do this more efficiently in one line of code."
   ]
  },
  {
   "cell_type": "code",
   "execution_count": 43,
   "id": "ea4560f8",
   "metadata": {},
   "outputs": [
    {
     "name": "stdout",
     "output_type": "stream",
     "text": [
      "<class 'map'>\n",
      "['JERRY', 'KRAMER', 'ELAINE', 'GEORGE', 'NEWMAN']\n"
     ]
    }
   ],
   "source": [
    "# Use map to apply str.upper to each element in names\n",
    "names_map  = map(str.upper, names)\n",
    "\n",
    "# Print the type of the names_map\n",
    "print(type(names_map))\n",
    "\n",
    "# Unpack names_map into a list\n",
    "names_uppercase = [*names_map]\n",
    "\n",
    "# Print the list created above\n",
    "print(names_uppercase)"
   ]
  },
  {
   "cell_type": "markdown",
   "id": "aa0add4b",
   "metadata": {},
   "source": [
    "### The power of NumPy arrays\n",
    "* NumPy arrays provide a fast and memory efficient alternative to Python lists\n",
    "* Numpy arrays are **homogeneous**, meaning they *must* contain elements of the same type.\n",
    "* Get type of each element using the `.dtype`. method\n",
    "* **Homogeneity allows NumPy arrays to be more memory efficient and faster than Python lists.**\n",
    "* Requiring that all elements be the same type eliminates the overhead needed for data type checking.\n",
    "\n",
    "### NumPy array broadcasting\n",
    "* When analyzing data, you'll often want to perform operations over entire collections of values quickly \n",
    "    * Python lists do *not* support broadcasting.\n",
    "* A big advantange of numpy arrays is their **broadcasting functionality.**\n",
    "* **NumPy arrays vectorize operations so they are performed on all elements of an object at once.**\n",
    "* This allows us to efficiently perform calculations over entire arrays\n",
    "\n",
    "```\n",
    "nums = [-2, -1, 0, 1, 2]\n",
    "nums ** 2\n",
    "TypeError: unsupported operand type(s) for ** or pow(): 'list' and 'int'\n",
    "```"
   ]
  },
  {
   "cell_type": "code",
   "execution_count": 45,
   "id": "8f0b4f22",
   "metadata": {},
   "outputs": [],
   "source": [
    "import numpy as np"
   ]
  },
  {
   "cell_type": "code",
   "execution_count": 46,
   "id": "2d8530ed",
   "metadata": {},
   "outputs": [
    {
     "data": {
      "text/plain": [
       "array([4, 1, 0, 1, 4])"
      ]
     },
     "execution_count": 46,
     "metadata": {},
     "output_type": "execute_result"
    }
   ],
   "source": [
    "nums_np = np.array([-2, -1, 0, 1, 2])\n",
    "nums_np ** 2"
   ]
  },
  {
   "cell_type": "markdown",
   "id": "4f4f71e0",
   "metadata": {},
   "source": [
    "* Notice that by squaring the `nums_np` array above, each **element** is square at once.\n",
    "\n",
    "#### NumPy array indexing\n",
    "* Another advantage of NumPy is its **indexing capabilities**\n",
    "* When comparing 1D lists with 1D np arrays, the indexing capabilities are identical. \n",
    "* However, when comparing 2D arrays and lists, the advantages of arrays are clear\n",
    "\n",
    "<img src='data/efficient1.png' width=\"600\" height=\"300\" align=\"center\"/>\n",
    "\n",
    "* Notice that with lists, we must use a list comprehension to return columns.\n",
    "\n",
    "#### NumPy array boolean indexing\n",
    "* Suppose we wanted to gather only positive numbers from the sequence below\n",
    "\n",
    "<img src='data/efficient2.png' width=\"600\" height=\"300\" align=\"center\"/>\n",
    "\n",
    "* To do this using a list, we need to either:\n",
    "    * Write a for loop to filter the list, or;\n",
    "    * Use a list comprehension\n",
    "* In either case, using a NumPy array to index is less verbose and has a faster runtime\n",
    "\n",
    "#### Exercises:\n",
    "\n",
    "```\n",
    "# Print second row of nums\n",
    "print(nums[1,:])\n",
    "\n",
    "# Print all elements of nums that are greater than six\n",
    "print(nums[nums > 6])\n",
    "\n",
    "# Double every element of nums\n",
    "nums_dbl = nums * 2\n",
    "print(nums_dbl)\n",
    "\n",
    "# Replace the third column of nums\n",
    "nums[:,2] = nums[:,2] + 1\n",
    "print(nums)\n",
    "```\n",
    "\n",
    "#### Exercises\n",
    "\n",
    "```\n",
    "# Create a list of arrival times\n",
    "arrival_times = [*range(10, 51, 10)]\n",
    "\n",
    "# Convert arrival_times to an array and update the times\n",
    "arrival_times_np = np.array(arrival_times)\n",
    "new_times = arrival_times_np - 3\n",
    "\n",
    "# Use list comprehension and enumerate to pair guests to new times\n",
    "guest_arrivals = [(names[guest],time) for guest,time in enumerate(new_times)]\n",
    "\n",
    "# Map the welcome_guest function to each (guest,time) pair\n",
    "welcome_map = map(welcome_guest, guest_arrivals)\n",
    "\n",
    "guest_welcomes = [*welcome_map]\n",
    "print(*guest_welcomes, sep='\\n')\n",
    "```"
   ]
  },
  {
   "cell_type": "markdown",
   "id": "2d868493",
   "metadata": {},
   "source": [
    "# $\\star$ Chapter 2: Timing and profiling code\n",
    "In this chapter, you will learn how to gather and compare runtimes between different coding approaches. You'll practice using the line_profiler and memory_profiler packages to profile your code base and spot bottlenecks. Then, you'll put your learnings to practice by replacing these bottlenecks with efficient Python code."
   ]
  },
  {
   "cell_type": "markdown",
   "id": "f0e2e3ff",
   "metadata": {},
   "source": [
    "### Examining runtime\n",
    "* Here, we will learn how to examine the runtime of our code\n",
    "* Runtime is an important consideration when thinking about efficiency\n",
    "* To compare runtimes, we need to be able to compute the runtime for a line or multiple lines of code\n",
    "* Calculate runtime with IPython magic command `%timeit`\n",
    "\n",
    "#### Magic commands\n",
    "* **Magic commands** are enhancements that have been added on top of normal Python syntax\n",
    "* These commands are prefixed with the percentage sign `%`\n",
    "* See all available magic commands with `%lsmagic`"
   ]
  },
  {
   "cell_type": "code",
   "execution_count": 47,
   "id": "85c9b5f4",
   "metadata": {},
   "outputs": [
    {
     "data": {
      "application/json": {
       "cell": {
        "!": "OSMagics",
        "HTML": "Other",
        "SVG": "Other",
        "bash": "Other",
        "capture": "ExecutionMagics",
        "debug": "ExecutionMagics",
        "file": "Other",
        "html": "DisplayMagics",
        "javascript": "DisplayMagics",
        "js": "DisplayMagics",
        "latex": "DisplayMagics",
        "markdown": "DisplayMagics",
        "perl": "Other",
        "prun": "ExecutionMagics",
        "pypy": "Other",
        "python": "Other",
        "python2": "Other",
        "python3": "Other",
        "ruby": "Other",
        "script": "ScriptMagics",
        "sh": "Other",
        "svg": "DisplayMagics",
        "sx": "OSMagics",
        "system": "OSMagics",
        "time": "ExecutionMagics",
        "timeit": "ExecutionMagics",
        "writefile": "OSMagics"
       },
       "line": {
        "alias": "OSMagics",
        "alias_magic": "BasicMagics",
        "autoawait": "AsyncMagics",
        "autocall": "AutoMagics",
        "automagic": "AutoMagics",
        "autosave": "KernelMagics",
        "bookmark": "OSMagics",
        "cat": "Other",
        "cd": "OSMagics",
        "clear": "KernelMagics",
        "colors": "BasicMagics",
        "conda": "PackagingMagics",
        "config": "ConfigMagics",
        "connect_info": "KernelMagics",
        "cp": "Other",
        "debug": "ExecutionMagics",
        "dhist": "OSMagics",
        "dirs": "OSMagics",
        "doctest_mode": "BasicMagics",
        "ed": "Other",
        "edit": "KernelMagics",
        "env": "OSMagics",
        "gui": "BasicMagics",
        "hist": "Other",
        "history": "HistoryMagics",
        "killbgscripts": "ScriptMagics",
        "ldir": "Other",
        "less": "KernelMagics",
        "lf": "Other",
        "lk": "Other",
        "ll": "Other",
        "load": "CodeMagics",
        "load_ext": "ExtensionMagics",
        "loadpy": "CodeMagics",
        "logoff": "LoggingMagics",
        "logon": "LoggingMagics",
        "logstart": "LoggingMagics",
        "logstate": "LoggingMagics",
        "logstop": "LoggingMagics",
        "ls": "Other",
        "lsmagic": "BasicMagics",
        "lx": "Other",
        "macro": "ExecutionMagics",
        "magic": "BasicMagics",
        "man": "KernelMagics",
        "matplotlib": "PylabMagics",
        "mkdir": "Other",
        "more": "KernelMagics",
        "mv": "Other",
        "notebook": "BasicMagics",
        "page": "BasicMagics",
        "pastebin": "CodeMagics",
        "pdb": "ExecutionMagics",
        "pdef": "NamespaceMagics",
        "pdoc": "NamespaceMagics",
        "pfile": "NamespaceMagics",
        "pinfo": "NamespaceMagics",
        "pinfo2": "NamespaceMagics",
        "pip": "PackagingMagics",
        "popd": "OSMagics",
        "pprint": "BasicMagics",
        "precision": "BasicMagics",
        "prun": "ExecutionMagics",
        "psearch": "NamespaceMagics",
        "psource": "NamespaceMagics",
        "pushd": "OSMagics",
        "pwd": "OSMagics",
        "pycat": "OSMagics",
        "pylab": "PylabMagics",
        "qtconsole": "KernelMagics",
        "quickref": "BasicMagics",
        "recall": "HistoryMagics",
        "rehashx": "OSMagics",
        "reload_ext": "ExtensionMagics",
        "rep": "Other",
        "rerun": "HistoryMagics",
        "reset": "NamespaceMagics",
        "reset_selective": "NamespaceMagics",
        "rm": "Other",
        "rmdir": "Other",
        "run": "ExecutionMagics",
        "save": "CodeMagics",
        "sc": "OSMagics",
        "set_env": "OSMagics",
        "store": "StoreMagics",
        "sx": "OSMagics",
        "system": "OSMagics",
        "tb": "ExecutionMagics",
        "time": "ExecutionMagics",
        "timeit": "ExecutionMagics",
        "unalias": "OSMagics",
        "unload_ext": "ExtensionMagics",
        "who": "NamespaceMagics",
        "who_ls": "NamespaceMagics",
        "whos": "NamespaceMagics",
        "xdel": "NamespaceMagics",
        "xmode": "BasicMagics"
       }
      },
      "text/plain": [
       "Available line magics:\n",
       "%alias  %alias_magic  %autoawait  %autocall  %automagic  %autosave  %bookmark  %cat  %cd  %clear  %colors  %conda  %config  %connect_info  %cp  %debug  %dhist  %dirs  %doctest_mode  %ed  %edit  %env  %gui  %hist  %history  %killbgscripts  %ldir  %less  %lf  %lk  %ll  %load  %load_ext  %loadpy  %logoff  %logon  %logstart  %logstate  %logstop  %ls  %lsmagic  %lx  %macro  %magic  %man  %matplotlib  %mkdir  %more  %mv  %notebook  %page  %pastebin  %pdb  %pdef  %pdoc  %pfile  %pinfo  %pinfo2  %pip  %popd  %pprint  %precision  %prun  %psearch  %psource  %pushd  %pwd  %pycat  %pylab  %qtconsole  %quickref  %recall  %rehashx  %reload_ext  %rep  %rerun  %reset  %reset_selective  %rm  %rmdir  %run  %save  %sc  %set_env  %store  %sx  %system  %tb  %time  %timeit  %unalias  %unload_ext  %who  %who_ls  %whos  %xdel  %xmode\n",
       "\n",
       "Available cell magics:\n",
       "%%!  %%HTML  %%SVG  %%bash  %%capture  %%debug  %%file  %%html  %%javascript  %%js  %%latex  %%markdown  %%perl  %%prun  %%pypy  %%python  %%python2  %%python3  %%ruby  %%script  %%sh  %%svg  %%sx  %%system  %%time  %%timeit  %%writefile\n",
       "\n",
       "Automagic is ON, % prefix IS NOT needed for line magics."
      ]
     },
     "execution_count": 47,
     "metadata": {},
     "output_type": "execute_result"
    }
   ],
   "source": [
    "%lsmagic"
   ]
  },
  {
   "cell_type": "code",
   "execution_count": null,
   "id": "ce6715fd",
   "metadata": {},
   "outputs": [],
   "source": []
  },
  {
   "cell_type": "code",
   "execution_count": null,
   "id": "af74ae17",
   "metadata": {},
   "outputs": [],
   "source": []
  },
  {
   "cell_type": "code",
   "execution_count": null,
   "id": "95070cfd",
   "metadata": {},
   "outputs": [],
   "source": []
  },
  {
   "cell_type": "code",
   "execution_count": null,
   "id": "693644da",
   "metadata": {},
   "outputs": [],
   "source": []
  },
  {
   "cell_type": "code",
   "execution_count": null,
   "id": "7e001490",
   "metadata": {},
   "outputs": [],
   "source": []
  },
  {
   "cell_type": "code",
   "execution_count": null,
   "id": "484ce17e",
   "metadata": {},
   "outputs": [],
   "source": []
  },
  {
   "cell_type": "code",
   "execution_count": null,
   "id": "9e35b27a",
   "metadata": {},
   "outputs": [],
   "source": []
  },
  {
   "cell_type": "code",
   "execution_count": null,
   "id": "685178bc",
   "metadata": {},
   "outputs": [],
   "source": []
  },
  {
   "cell_type": "code",
   "execution_count": null,
   "id": "2203813b",
   "metadata": {},
   "outputs": [],
   "source": []
  },
  {
   "cell_type": "code",
   "execution_count": null,
   "id": "c25af1ba",
   "metadata": {},
   "outputs": [],
   "source": []
  },
  {
   "cell_type": "code",
   "execution_count": null,
   "id": "494e2f10",
   "metadata": {},
   "outputs": [],
   "source": []
  },
  {
   "cell_type": "code",
   "execution_count": null,
   "id": "531335d1",
   "metadata": {},
   "outputs": [],
   "source": []
  },
  {
   "cell_type": "code",
   "execution_count": null,
   "id": "f33d2fd2",
   "metadata": {},
   "outputs": [],
   "source": []
  },
  {
   "cell_type": "markdown",
   "id": "8c136c4d",
   "metadata": {},
   "source": [
    "<img src='data/string23.png' width=\"600\" height=\"300\" align=\"center\"/>"
   ]
  }
 ],
 "metadata": {
  "kernelspec": {
   "display_name": "Python 3",
   "language": "python",
   "name": "python3"
  },
  "language_info": {
   "codemirror_mode": {
    "name": "ipython",
    "version": 3
   },
   "file_extension": ".py",
   "mimetype": "text/x-python",
   "name": "python",
   "nbconvert_exporter": "python",
   "pygments_lexer": "ipython3",
   "version": "3.8.8"
  }
 },
 "nbformat": 4,
 "nbformat_minor": 5
}
