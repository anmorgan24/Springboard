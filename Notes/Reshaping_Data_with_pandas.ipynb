{
 "cells": [
  {
   "cell_type": "markdown",
   "id": "93c2e3e7",
   "metadata": {},
   "source": [
    "Note: This notebook was completed alongside the DataCamp course by the same name\n",
    "# Reshaping Data with pandas\n",
    "Often data is in a human-readable format, but it’s not suitable for data analysis. This is where pandas can help—it’s a powerful tool for reshaping DataFrames into different formats. In this course, you’ll grow your data scientist and analyst skills as you learn how to wrangle string columns and nested data contained in a DataFrame. You’ll work with real-world data, including FIFA player ratings, book reviews, and churn analysis data, as you learn how to reshape a DataFrame from wide to long format, stack and unstack rows and columns, and get descriptive statistics of a multi-index DataFrame.\n",
    "\n",
    "**Instructor:** Maria Eugenia Inzaugarat, PhD Data Scientist"
   ]
  },
  {
   "cell_type": "markdown",
   "id": "451299c3",
   "metadata": {},
   "source": [
    "# $\\star$ Chapter 1: Introduction to Data Reshaping\n",
    "Let's start by understanding the concept of wide and long formats and the advantages of using each of them. You’ll then learn how to pivot data from long to a wide format, and get summary statistics from a large DataFrame."
   ]
  },
  {
   "cell_type": "markdown",
   "id": "de7d6ed6",
   "metadata": {},
   "source": [
    "* Wide and long formats\n",
    "* Long to wide transformation\n",
    "* Wide to long transformation\n",
    "* Stacking and unstacking columns\n",
    "* Reshaping and handling complex data, such as string columns or JSON data\n",
    "* Nested data\n",
    "* Statistical data formats\n",
    "* Multi-level index DataFrames\n",
    "\n",
    "### Shape of data\n",
    "* The way in which a dataset is organized into rows and columns\n",
    "\n",
    "#### Wide format\n",
    "* Each feature is in a separate column\n",
    "* Each row contains many features of the same player\n",
    "* Wide format has **no repeated records**, but this **could lead to missing values.**\n",
    "* This format is preferred to do **simple statistics and imputation**, such as calculating the mean or imputing missing values.\n",
    "\n",
    "<img src='data/wide_format.png' width=\"600\" height=\"300\" align=\"center\"/>\n",
    "\n",
    "#### Long format\n",
    "* Each row represents one feature\n",
    "* Multiple rows for each player\n",
    "* Notice that there is no row for the feature `age` for the first player\n",
    "* This happens because we had a missing value there\n",
    "* A column (`name`) that identifies the same player through the records\n",
    "* These are typical characteristics of the long format that is usually seen as the standard for a tidy dataset\n",
    "* Tidy data:\n",
    "    * Better to summarize data\n",
    "    * Key-value pairs\n",
    "    * Preferred or required for many advanced graphing and analysis techniques\n",
    "\n",
    "<img src='data/long_format.png' width=\"400\" height=\"200\" align=\"center\"/>\n",
    "\n",
    "#### Reshaping data\n",
    "* In a broad sense, reshaping data is transforming a data structure to adjust it for analysis\n",
    "* Transpose:\n",
    "    * `fifa_players.set_index('club')[['name', 'nationality']].transpose()`\n",
    "    * Alternately, `.T`\n",
    "* **In this course, we will define reshaping data as converting data from wide to long format and vice versa.**\n",
    "* To decide between using long or wide format, think about the unit of analysis:\n",
    "    * Long format $\\Rightarrow$ characteristic of a player\n",
    "    * Wide format $\\Rightarrow$ each player\n",
    "    \n",
    "#### Wide to long transformation\n",
    "* Performed using `pandas` functions, such as:\n",
    "     * `.melt()`\n",
    "     * `.wide_to_long()`\n",
    "   \n",
    "#### Long to wide format\n",
    "* Transform data using `pandas` methods, for example:\n",
    "    * `.pivot()`\n",
    "    * `.pivot_table()`\n",
    "    \n",
    "#### Exercises: Flipping players\n",
    "\n",
    "```\n",
    "# Set name as index\n",
    "fifa_transpose = fifa_players.set_index('name')\n",
    "\n",
    "# Print fifa_transpose\n",
    "print(fifa_transpose)\n",
    "\n",
    "# Modify the DataFrame to keep only height and weight columns\n",
    "fifa_transpose = fifa_players.set_index('name')[['height', 'weight']]\n",
    "# Print fifa_transpose\n",
    "print(fifa_transpose)\n",
    "\n",
    "# Change the DataFrame so rows become columns and vice versa\n",
    "fifa_transpose = fifa_players.set_index('name')[['height', 'weight']].transpose()\n",
    "\n",
    "# Print fifa_transpose\n",
    "print(fifa_transpose)\n",
    "```"
   ]
  },
  {
   "cell_type": "markdown",
   "id": "f9d11c7e",
   "metadata": {},
   "source": [
    "### Reshaping using pivot method\n",
    "* The long format is usually the most suitble to store a clean dataset\n",
    "\n",
    "#### Why go from long to WIDE format?\n",
    "* Demonstrate relationship between two (or more) columns\n",
    "* Time series operations with the variables\n",
    "* Operation that requires columns to be the unique variable\n",
    "* Wide format allows us to **discover patterns**\n",
    "* The `pivot()` method allows us to reshape the data from a long to a wide format\n",
    "\n",
    "<img src='data/pivot_method2.png' width=\"600\" height=\"300\" align=\"center\"/>\n",
    "\n",
    "* The `pivot()` method takes three arguments:\n",
    "    * **`index`:** takes the name of the column we want to have as an index in the new, pivoted DF.\n",
    "    * **`columns`:** takes the name of the column we want to have as each column in the new, pivoted DF.\n",
    "    * **`values`:** takes the name of the column of values with which we want to populate the new, pivoted DF.\n",
    "* **If the method cannot find a row and column matching the original dataframe, it will set that cell value as a missing value (see the `NaN` above).**"
   ]
  },
  {
   "cell_type": "markdown",
   "id": "dbfd3e87",
   "metadata": {},
   "source": [
    "<img src='data/pivot1.png' width=\"600\" height=\"300\" align=\"center\"/>\n",
    "\n",
    "```\n",
    "fifa.pivot(index = 'name', columns = 'variable', values='metric_system')\n",
    "```\n",
    "\n",
    "<img src='data/pivot2.png' width=\"600\" height=\"300\" align=\"center\"/>"
   ]
  },
  {
   "cell_type": "markdown",
   "id": "60a2d7ca",
   "metadata": {},
   "source": [
    "* **Note** that we can also pass a list of two values to the pivot method:\n",
    "* `fifa.pivot(index='name', columns='variable', values=['metric_system', 'imperical_system'])`\n",
    "* In this case, the resulting DataFrame has a hierarchical column index with both column names as demonstrated below:\n",
    "\n",
    "<img src='data/pivot3.png' width=\"600\" height=\"300\" align=\"center\"/>"
   ]
  },
  {
   "cell_type": "markdown",
   "id": "7939ef7b",
   "metadata": {},
   "source": [
    "***\n",
    "#### Pivoting multiple columns\n",
    "\n",
    "<img src='data/pivot4.png' width=\"600\" height=\"300\" align=\"center\"/>\n",
    "\n",
    "* What if we want to extend the pivot method to all the column values in the DataFrame instead of just one or two?\n",
    "* We can do this easily by omitting the values argument:\n",
    "* `df.pivot(index='name', columns='variable')\n",
    "* We see that we get the same result as above when we identified multiple columns as `value` columns:\n",
    "\n",
    "<img src='data/pivot5.png' width=\"600\" height=\"300\" align=\"center\"/>"
   ]
  },
  {
   "cell_type": "markdown",
   "id": "6f41142f",
   "metadata": {},
   "source": [
    "#### Duplicate entries error\n",
    "* Passing only index and column arguments to the pivot method will work in most cases\n",
    "* However, pay attention to the 3rd and 5th rows below:\n",
    "\n",
    "<img src='data/pivot6.png' width=\"600\" height=\"300\" align=\"center\"/>"
   ]
  },
  {
   "cell_type": "markdown",
   "id": "d721f011",
   "metadata": {},
   "source": [
    "* If we try to perform the same operation: `another_fifa.pivot(index='name', columns='variable')`, we get:\n",
    "\n",
    "<img src='data/pivot7.png' width=\"600\" height=\"300\" align=\"center\"/>\n",
    "\n",
    "* It doesn't know which of the two values should be the corresponding value, pandas will raise an error. \n",
    "* We could choose to delete one of the rows (for example the fifth row) and then rerun the command without raising an error."
   ]
  },
  {
   "cell_type": "code",
   "execution_count": null,
   "id": "efe0feab",
   "metadata": {},
   "outputs": [],
   "source": []
  },
  {
   "cell_type": "code",
   "execution_count": null,
   "id": "da251f73",
   "metadata": {},
   "outputs": [],
   "source": []
  },
  {
   "cell_type": "code",
   "execution_count": null,
   "id": "b381c7d6",
   "metadata": {},
   "outputs": [],
   "source": []
  },
  {
   "cell_type": "code",
   "execution_count": null,
   "id": "66c7aa67",
   "metadata": {},
   "outputs": [],
   "source": []
  },
  {
   "cell_type": "code",
   "execution_count": null,
   "id": "b56106ad",
   "metadata": {},
   "outputs": [],
   "source": []
  },
  {
   "cell_type": "code",
   "execution_count": null,
   "id": "fcdcaae7",
   "metadata": {},
   "outputs": [],
   "source": []
  },
  {
   "cell_type": "code",
   "execution_count": null,
   "id": "fd1adb42",
   "metadata": {},
   "outputs": [],
   "source": []
  },
  {
   "cell_type": "code",
   "execution_count": null,
   "id": "ed8ae545",
   "metadata": {},
   "outputs": [],
   "source": []
  },
  {
   "cell_type": "code",
   "execution_count": null,
   "id": "29e173d3",
   "metadata": {},
   "outputs": [],
   "source": []
  },
  {
   "cell_type": "code",
   "execution_count": null,
   "id": "c853b9bc",
   "metadata": {},
   "outputs": [],
   "source": []
  },
  {
   "cell_type": "code",
   "execution_count": null,
   "id": "7695975c",
   "metadata": {},
   "outputs": [],
   "source": []
  },
  {
   "cell_type": "markdown",
   "id": "76384aad",
   "metadata": {},
   "source": [
    "<img src='data/NER_example.png' width=\"600\" height=\"300\" align=\"center\"/>"
   ]
  }
 ],
 "metadata": {
  "kernelspec": {
   "display_name": "Python 3",
   "language": "python",
   "name": "python3"
  },
  "language_info": {
   "codemirror_mode": {
    "name": "ipython",
    "version": 3
   },
   "file_extension": ".py",
   "mimetype": "text/x-python",
   "name": "python",
   "nbconvert_exporter": "python",
   "pygments_lexer": "ipython3",
   "version": "3.8.8"
  }
 },
 "nbformat": 4,
 "nbformat_minor": 5
}
