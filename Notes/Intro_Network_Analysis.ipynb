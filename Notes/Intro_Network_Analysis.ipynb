{
 "cells": [
  {
   "cell_type": "markdown",
   "id": "cfe773a1",
   "metadata": {},
   "source": [
    "# Introduction to Network Analysis in Python"
   ]
  },
  {
   "cell_type": "markdown",
   "id": "06848dce",
   "metadata": {},
   "source": [
    "From online social networks such as Facebook and Twitter to transportation networks such as bike sharing systems, networks are everywhere—and knowing how to analyze them will open up a new world of possibilities for you as a data scientist. This course will equip you with the skills to analyze, visualize, and make sense of networks. You'll apply the concepts you learn to real-world network data using the powerful NetworkX library. With the knowledge gained in this course, you'll develop your network thinking skills and be able to look at your data with a fresh perspective."
   ]
  },
  {
   "cell_type": "markdown",
   "id": "95aec2e9",
   "metadata": {},
   "source": [
    "## 1. Introduction to Networks\n",
    "In this chapter, you'll be introduced to fundamental concepts in network analytics while exploring a real-world Twitter network dataset. You'll also learn about NetworkX, a library that allows you to manipulate, analyze, and model graph data. You'll learn about the different types of graphs and how to rationally visualize them."
   ]
  },
  {
   "cell_type": "markdown",
   "id": "30ea0717",
   "metadata": {},
   "source": [
    "#### Introduction to Networks\n",
    "* Eric Ma: a Data Scientist working at the intersection of biological network science and infectious disease with a deep understanding of network analytics.\n",
    "* Some examples of networks:\n",
    "    * Social networks\n",
    "        * models the relationships between people\n",
    "    * Transportation networks\n",
    "        * models the connectivity between locations, as determined by roads or flight paths connecting them\n",
    "* At their core, **networks are a useful tool for modeling relationships between entities.**\n",
    "* By modeling your data as a network, you can end up gaining insight into what entities (or nodes) are important, such as broadcasters or influencers in a social network.\n",
    "* **Insights:**\n",
    "    * **Important entities:** influencers in social network\n",
    "    * **Pathfinding:** most efficient transport path\n",
    "    * **Clustering:** finding communities\n",
    "    \n",
    "#### Network Structure\n",
    "* Networks are described by two sets of items: \n",
    "    * **Nodes**\n",
    "    * **Edges**\n",
    "* Together, these form a \"network,\" otherwise known in mathematical terms as a \"graph.\"\n",
    "* Nodes and edges can have metadata associated with them.\n",
    "* In the Python world, there is a library called NetworkX that allows us to manipulate, analyze, and model graph data.\n",
    "\n",
    "#### NetworkX API Basics\n",
    "* Using `nx.Graph()`, we can initialize an empty graph to which we can nodes and edges\n",
    "* We can add, for example, the integers 1, 2, and 3 as nodes, using the `.add_nodes_from()` method and passing in the list `[1, 2, 3]` as an argument. \n",
    "\n",
    "```\n",
    "import networkx as nx\n",
    "G = nx.Graph()\n",
    "G.add_nodes_from([1, 2, 3])\n",
    "G.nodes()\n",
    "```\n",
    "* Output:\n",
    "* `[1, 2, 3]`\n",
    "* The Graph object G has a `.nodes()` method that allows us to see what nodes are present in the graph, and returns a list of nodes. \n",
    "\n",
    "```\n",
    "G.add_edge(1,2)\n",
    "G.edges()\n",
    "```\n",
    "* Output:\n",
    "* `[(1, 2)]`\n",
    "* If we add an edge between the nodes 1 and 2, we can then use the `G.edges()` method to return a list of tuples which represent the edges, in which each tuple shows the nodes that are present on that edges.\n",
    "* Metadata can be stored on the graph as well\n",
    "* For example, add to the node 1, a 'label' key with the value 'blue', just as we would assign a value to the key of a dictionary.\n",
    "* We can then retrieve the node list **with the metadata attached** using `G.nodes()`, passing in the **`data=True`** argument\n",
    "\n",
    "```\n",
    "G.node[1]['label'] = 'blue'\n",
    "G.nodes(data=True)\n",
    "```\n",
    "* Outputs:\n",
    "* `[(1, {'label': 'blue'}), (2, {}), (3, {})]`\n",
    "* This returns a list of 2-tuples, in which the first element of each tuple is the node, and the second element is a dictionary in which the key-value pairs correspond to my metadata.\n",
    "\n",
    "* **NetworkX** also provides basic drawing functionality, using the `nx.draw()` function, which takes in a Graph, `G` as an argument.\n",
    "\n",
    "```\n",
    "nx.draw(G)\n",
    "import matplotlib.pyplot as plt\n",
    "plt.show()\n",
    "```\n",
    "* With this graph the `nx.draw()` function will draw to screen what we call a **node-link diagram rendering of the graph.**"
   ]
  },
  {
   "cell_type": "markdown",
   "id": "2b3fbcf5",
   "metadata": {},
   "source": []
  },
  {
   "cell_type": "code",
   "execution_count": null,
   "id": "ce043f3e",
   "metadata": {},
   "outputs": [],
   "source": []
  },
  {
   "cell_type": "code",
   "execution_count": null,
   "id": "42e71b80",
   "metadata": {},
   "outputs": [],
   "source": []
  },
  {
   "cell_type": "code",
   "execution_count": null,
   "id": "6911ed2f",
   "metadata": {},
   "outputs": [],
   "source": []
  },
  {
   "cell_type": "code",
   "execution_count": null,
   "id": "eaa8d348",
   "metadata": {},
   "outputs": [],
   "source": []
  },
  {
   "cell_type": "code",
   "execution_count": null,
   "id": "c9c930bb",
   "metadata": {},
   "outputs": [],
   "source": []
  },
  {
   "cell_type": "code",
   "execution_count": null,
   "id": "69a342a7",
   "metadata": {},
   "outputs": [],
   "source": []
  },
  {
   "cell_type": "code",
   "execution_count": null,
   "id": "56a5977e",
   "metadata": {},
   "outputs": [],
   "source": []
  },
  {
   "cell_type": "code",
   "execution_count": null,
   "id": "787aadf4",
   "metadata": {},
   "outputs": [],
   "source": []
  },
  {
   "cell_type": "code",
   "execution_count": null,
   "id": "b66b49f4",
   "metadata": {},
   "outputs": [],
   "source": []
  },
  {
   "cell_type": "code",
   "execution_count": null,
   "id": "a4b62fba",
   "metadata": {},
   "outputs": [],
   "source": []
  }
 ],
 "metadata": {
  "kernelspec": {
   "display_name": "Python 3",
   "language": "python",
   "name": "python3"
  },
  "language_info": {
   "codemirror_mode": {
    "name": "ipython",
    "version": 3
   },
   "file_extension": ".py",
   "mimetype": "text/x-python",
   "name": "python",
   "nbconvert_exporter": "python",
   "pygments_lexer": "ipython3",
   "version": "3.8.8"
  }
 },
 "nbformat": 4,
 "nbformat_minor": 5
}
