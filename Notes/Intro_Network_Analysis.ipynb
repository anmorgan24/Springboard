{
 "cells": [
  {
   "cell_type": "markdown",
   "id": "a5a818f1",
   "metadata": {},
   "source": [
    "# Introduction to Network Analysis in Python"
   ]
  },
  {
   "cell_type": "markdown",
   "id": "5d76cc69",
   "metadata": {},
   "source": [
    "From online social networks such as Facebook and Twitter to transportation networks such as bike sharing systems, networks are everywhere—and knowing how to analyze them will open up a new world of possibilities for you as a data scientist. This course will equip you with the skills to analyze, visualize, and make sense of networks. You'll apply the concepts you learn to real-world network data using the powerful NetworkX library. With the knowledge gained in this course, you'll develop your network thinking skills and be able to look at your data with a fresh perspective.\n",
    "\n",
    "**THOUGHT:** Any way to incorporate network analysis into a regression model (ie for COVID)?"
   ]
  },
  {
   "cell_type": "markdown",
   "id": "f291653e",
   "metadata": {},
   "source": [
    "## 1. Introduction to Networks\n",
    "In this chapter, you'll be introduced to fundamental concepts in network analytics while exploring a real-world Twitter network dataset. You'll also learn about NetworkX, a library that allows you to manipulate, analyze, and model graph data. You'll learn about the different types of graphs and how to rationally visualize them."
   ]
  },
  {
   "cell_type": "markdown",
   "id": "c66e3cfd",
   "metadata": {},
   "source": [
    "#### Introduction to Networks\n",
    "* Eric Ma: a Data Scientist working at the intersection of biological network science and infectious disease with a deep understanding of network analytics.\n",
    "* Some examples of networks:\n",
    "    * Social networks\n",
    "        * models the relationships between people\n",
    "    * Transportation networks\n",
    "        * models the connectivity between locations, as determined by roads or flight paths connecting them\n",
    "* At their core, **networks are a useful tool for modeling relationships between entities.**\n",
    "* By modeling your data as a network, you can end up gaining insight into what entities (or nodes) are important, such as broadcasters or influencers in a social network.\n",
    "* **Insights:**\n",
    "    * **Important entities:** influencers in social network\n",
    "    * **Pathfinding:** most efficient transport path\n",
    "    * **Clustering:** finding communities\n",
    "    \n",
    "#### Network Structure\n",
    "* Networks are described by two sets of items: \n",
    "    * **Nodes**\n",
    "    * **Edges**\n",
    "* Together, these form a \"network,\" otherwise known in mathematical terms as a \"graph.\"\n",
    "* Nodes and edges can have metadata associated with them.\n",
    "* In the Python world, there is a library called NetworkX that allows us to manipulate, analyze, and model graph data.\n",
    "\n",
    "#### NetworkX API Basics\n",
    "* Using `nx.Graph()`, we can initialize an empty graph to which we can nodes and edges\n",
    "* We can add, for example, the integers 1, 2, and 3 as nodes, using the `.add_nodes_from()` method and passing in the list `[1, 2, 3]` as an argument. \n",
    "\n",
    "```\n",
    "import networkx as nx\n",
    "G = nx.Graph()\n",
    "G.add_nodes_from([1, 2, 3])\n",
    "G.nodes()\n",
    "```\n",
    "* Output:\n",
    "* `[1, 2, 3]`\n",
    "* The Graph object G has a `.nodes()` method that allows us to see what nodes are present in the graph, and returns a list of nodes. \n",
    "\n",
    "```\n",
    "G.add_edge(1,2)\n",
    "G.edges()\n",
    "```\n",
    "* Output:\n",
    "* `[(1, 2)]`\n",
    "* If we add an edge between the nodes 1 and 2, we can then use the `G.edges()` method to return a list of tuples which represent the edges, in which each tuple shows the nodes that are present on that edges.\n",
    "* Metadata can be stored on the graph as well\n",
    "* For example, add to the node 1, a 'label' key with the value 'blue', just as we would assign a value to the key of a dictionary.\n",
    "* We can then retrieve the node list **with the metadata attached** using `G.nodes()`, passing in the **`data=True`** argument\n",
    "\n",
    "```\n",
    "G.node[1]['label'] = 'blue'\n",
    "G.nodes(data=True)\n",
    "```\n",
    "* Outputs:\n",
    "* `[(1, {'label': 'blue'}), (2, {}), (3, {})]`\n",
    "* This returns a list of 2-tuples, in which the first element of each tuple is the node, and the second element is a dictionary in which the key-value pairs correspond to my metadata.\n",
    "\n",
    "* **NetworkX** also provides basic drawing functionality, using the `nx.draw()` function, which takes in a Graph, `G` as an argument.\n",
    "\n",
    "```\n",
    "nx.draw(G)\n",
    "import matplotlib.pyplot as plt\n",
    "plt.show()\n",
    "```\n",
    "* With this graph the `nx.draw()` function will draw to screen what we call a **node-link diagram rendering of the graph.**"
   ]
  },
  {
   "cell_type": "markdown",
   "id": "30fa0bda",
   "metadata": {},
   "source": [
    "#### Queries on a graph\n",
    "* Now that you know some basic properties of the graph and have practiced using NetworkX's drawing facilities to visualize components of it, it's time to explore how you can query it for nodes and edges.\n",
    "* Specifically, you're going to look for **nodes of interest** and **edges of interest**.\n",
    "* To achieve this, you'll make use of the **`.nodes()`** and **`.edges()`** methods.\n",
    "    * The **`.nodes()`** method returns a list of nodes\n",
    "    * The **`.edges()`** method returns a list of tuples, in which each tuple shows the nodes that are present on that edge.\n",
    "    * Passing in the keyword argument `data = True` in these methods retrieves the corresponding metadata associated with the nodes and edges as well.\n",
    "* Write **list comprehensions** to effectively build these queries in one line.\n",
    "    * $\\star$ `[` output expression `for` iterator variable `in` iterable `if` predicate expression `]` $\\star$\n",
    "    \n",
    "```\n",
    "# Use a list comprehension to get the nodes of interest: noi\n",
    "noi = [n for n, d in T.nodes(data=True) if d['occupation'] == 'scientist']\n",
    "\n",
    "# Use a list comprehension to get the edges of interest: eoi\n",
    "eoi = [(u, v) for u, v, d in T.edges(data=True) if d['date'] < date(2010, 1,1)]\n",
    "```"
   ]
  },
  {
   "cell_type": "markdown",
   "id": "6714abb6",
   "metadata": {},
   "source": [
    "#### Types of Graphs\n",
    "* NetworkX allows us to model different types of graphs:\n",
    "\n",
    "#### Undirected Graphs\n",
    "* Facebook social graphs, for example\n",
    "* **Undirected graphs** are named as such because they are comprised of edges that don't have any inherent directionality associated with them. \n",
    "* With Facebook, for example, when one used befriends another, the two are automatically connected with an edge\n",
    "* This is most commonly drawn as a line with no arrows between two circles."
   ]
  },
  {
   "cell_type": "code",
   "execution_count": 1,
   "id": "630c8084",
   "metadata": {},
   "outputs": [],
   "source": [
    "import networkx as nx"
   ]
  },
  {
   "cell_type": "code",
   "execution_count": 2,
   "id": "6f7355f0",
   "metadata": {},
   "outputs": [
    {
     "data": {
      "text/plain": [
       "networkx.classes.graph.Graph"
      ]
     },
     "execution_count": 2,
     "metadata": {},
     "output_type": "execute_result"
    }
   ],
   "source": [
    "G = nx.Graph()\n",
    "type(G)"
   ]
  },
  {
   "cell_type": "markdown",
   "id": "a234f323",
   "metadata": {},
   "source": [
    "* Instantiate an empty graph in NetworkX using `nx.Graph` and ask for its type.\n",
    "* **Undirected graphs** have the type **Graph**.\n",
    "\n",
    "#### Directed graphs\n",
    "* For example: Twitter's social graph\n",
    "* This is because the nature of how users interact with one another.\n",
    "* For example, one user may follow another, but that user may not follow back.\n",
    "* As such, there is an inherent directionality associated with the graph.\n",
    "* Instantiate an empty directed graph:"
   ]
  },
  {
   "cell_type": "code",
   "execution_count": 3,
   "id": "f6272105",
   "metadata": {},
   "outputs": [
    {
     "data": {
      "text/plain": [
       "networkx.classes.digraph.DiGraph"
      ]
     },
     "execution_count": 3,
     "metadata": {},
     "output_type": "execute_result"
    }
   ],
   "source": [
    "D = nx.DiGraph()\n",
    "type(D)"
   ]
  },
  {
   "cell_type": "markdown",
   "id": "32be753e",
   "metadata": {},
   "source": [
    "* **Directed graphs** have the type **DiGraph**.\n",
    "\n",
    "#### Multi(Di)Graph\n",
    "* We can also have graphs in which there are multiple edges permitted between the nodes. \n",
    "* For example, we may want to model trips between bike sharing stations.\n",
    "* Each trip may be one edge between the pair of stations"
   ]
  },
  {
   "cell_type": "code",
   "execution_count": 4,
   "id": "f79a1f7d",
   "metadata": {},
   "outputs": [
    {
     "data": {
      "text/plain": [
       "networkx.classes.multigraph.MultiGraph"
      ]
     },
     "execution_count": 4,
     "metadata": {},
     "output_type": "execute_result"
    }
   ],
   "source": [
    "M = nx.MultiGraph()\n",
    "type(M)"
   ]
  },
  {
   "cell_type": "code",
   "execution_count": 5,
   "id": "3663c92f",
   "metadata": {},
   "outputs": [
    {
     "data": {
      "text/plain": [
       "networkx.classes.multidigraph.MultiDiGraph"
      ]
     },
     "execution_count": 5,
     "metadata": {},
     "output_type": "execute_result"
    }
   ],
   "source": [
    "MD = nx.MultiDiGraph()\n",
    "type(MD)"
   ]
  },
  {
   "cell_type": "markdown",
   "id": "3e1a01aa",
   "metadata": {},
   "source": [
    "#### Weights on graphs\n",
    "* Sometimes, for practical reasons, it may be too memory-intensive to model multiple edges per pair of nodes, and so one may choose to collapse the edges into a single edge that contains a metadata summary of the original.\n",
    "* **Edges** can contain **weights**.\n",
    "* For example, you may want to collapse three identical edges (identical in direction and between which nodes) into a single edge and give them a \"weight\" metadata with the value \"3,\" indicating that it was originally 3 edges between the pair of nodes.\n",
    "\n",
    "#### Self-loops\n",
    "* Nodes that are connected to themselves. \n",
    "* Self-loops can be used in certain scenarios, such as in bike sharing data, where a trip begins at a station and ends at the same station."
   ]
  },
  {
   "cell_type": "markdown",
   "id": "2cf99198",
   "metadata": {},
   "source": [
    "#### Specifying weights on edges \n",
    "Weights can be added to edges in a graph, typically indicating the \"strength\" of an edge. In NetworkX, the weight is indicated by the `weight` key in the metadata dictionary.\n",
    "\n",
    "* Refer to the following template to set an attribute of an edge: \n",
    "    * **`network_name.edges[node1, node2]['attribute'] = value`** \n",
    "    * Here, the `attribute` is `weight`\n",
    "    \n",
    "```\n",
    "# Set the weight of the edge\n",
    "T.edges[1,10]['weight'] = 2\n",
    "```\n",
    "\n",
    "* Set the weight of every edge involving node `293` to be equal to `1.1`. To do this:\n",
    "    * Using a `for` loop, iterate over all the edges of `T`, including the `metadata`.\n",
    "    * If `293` is involved in the list of nodes `[u, v]`:\n",
    "    * Set the weight of the edge between `u` and `v` to be `1.1`.\n",
    "    \n",
    "```\n",
    "# Set the weight of the edge\n",
    "T.edges[1,10]['weight'] = 2\n",
    "\n",
    "# Iterate over all the edges (with metadata)\n",
    "for u, v, d in T.edges(data=True):\n",
    "\n",
    "    # Check if node 293 is involved\n",
    "    if 293 in [u, v]:\n",
    "\n",
    "        # Set the weight to 1.1\n",
    "        T.edges[u, v]['weight'] = 1.1\n",
    "```"
   ]
  },
  {
   "cell_type": "markdown",
   "id": "a1f89092",
   "metadata": {},
   "source": [
    "#### Checking whether there are self-loops in the graph\n",
    "* NetworkX also allows edges that begin and end on the same node\n",
    "* While this would be non-intuitive for a social network graph, it is useful to model data such as trip networks, in which individuals begin at one location and end in another.\n",
    "* It is useful to check for this before proceeding with further analyses, and NetworkX graphs provide a method for this purpose: `.number_of_selfloops()`.\n",
    "* In this exercise as well as later ones, you'll find the `assert` statement useful. Each `assert`-ions checks whether the statement placed after it evaluates to `True`, otherwise it will throw an `AssertionError`.\n",
    "* Define a function that returns all nodes with self-loops in Graph G."
   ]
  },
  {
   "cell_type": "code",
   "execution_count": 7,
   "id": "6e87692e",
   "metadata": {},
   "outputs": [],
   "source": [
    "# Define find_selfloop_nodes()\n",
    "def find_selfloop_nodes(G):\n",
    "    \"\"\"\n",
    "    Finds all nodes that have self-loops in the graph G.\n",
    "    \"\"\"\n",
    "    nodes_in_selfloops = []\n",
    "\n",
    "    # Iterate over all the edges of G\n",
    "    for u, v in G.edges():\n",
    "\n",
    "    # Check if node u and node v are the same\n",
    "        if u == v:\n",
    "\n",
    "            # Append node u to nodes_in_selfloops\n",
    "            nodes_in_selfloops.append(u)\n",
    "\n",
    "    return nodes_in_selfloops"
   ]
  },
  {
   "cell_type": "markdown",
   "id": "89b3b5e8",
   "metadata": {},
   "source": [
    "```\n",
    "# Check whether number of self loops equals the number of nodes in self loops\n",
    "assert T.number_of_selfloops() == len(find_selfloop_nodes(T))\n",
    "```"
   ]
  },
  {
   "cell_type": "markdown",
   "id": "8614ed20",
   "metadata": {},
   "source": [
    "#### Network visualization\n",
    "You may have seen node-link diagrams involving more than a hundred thousand nodes. They purport to show a visual representation of the network, but in reality just show a hairball. We're going to look at alternate ways of visualizing network data that are much more rational.\n",
    "* **Matrix plots**\n",
    "* **Arc plots**\n",
    "* **Circos plots**\n",
    "\n",
    "#### Matrix plots\n",
    "* In a matrix plot, nodes are the rows and columns of a matrix, and cells are filled in according to whether an edge exissts between the pairs of nodes. \n",
    "* **Undirected matrices:**\n",
    "    * The matrix is symmetrical around the diagonal (top left $\\Rightarrow$ bottom right)\n",
    "    * The edge AB is equivalent to edge BA - because there is no directionality associated with that edge\n",
    "    * The edge AC is equivalent to edge CA - because there is no directionality associated with it\n",
    "* **Directed matrices:**\n",
    "    * The matrix representation is not necessarily going to be symmetrical.\n",
    "    * If the nodes are ordered along the rows and columns such that the neighbors are listed close to one another, then a matrix plot can be used to visualize **clusters**, or communities, of nodes. \n",
    "    \n",
    "#### Arc Plots\n",
    "* An arc plot is a transformation of the node-link diagram layout, in which nodes are ordered along one axis of the plot, and edges are drawn using circular arcs from one node to another. \n",
    "* If the nodes are ordered according to some sortable rule (**ordered axis**)-- for example, age in a social network of users-- or otherwise grouped together by geographic lovation in a map for a transportation network, then it will be possible to visualize the relationship between connectivity and the sorted (or grouped) property. \n",
    "* **Arc plots are a good starting point for visualizing a network as it forms the basis of the later plots that we'll take a look at (more complicated ones).**\n",
    "\n",
    "#### Circos Plots \n",
    "* A Circos plot is a transformation of the Arc plot, such that the two ends of the Arc plot are joined together in a circle.\n",
    "* Circos plots were originally designed for use in genomics and you can think of them as an aesthetic and compact alternative to Arc plots. \n",
    "* We will be using a plotting utility that Eric Ma (instructor) developed called `nxviz` \n",
    "\n",
    "#### nxviz API\n",
    "* Suppose we had a graph, G, in which we added nodes and edges\n",
    "* Instantiate a new `nv.ArcPlot()` object, and pass in a graph G\n",
    "* We can also order nodes by the values keyed on some \"key\""
   ]
  },
  {
   "cell_type": "code",
   "execution_count": 9,
   "id": "7743d4a7",
   "metadata": {},
   "outputs": [
    {
     "ename": "ModuleNotFoundError",
     "evalue": "No module named 'nxviz'",
     "output_type": "error",
     "traceback": [
      "\u001b[0;31m---------------------------------------------------------------------------\u001b[0m",
      "\u001b[0;31mModuleNotFoundError\u001b[0m                       Traceback (most recent call last)",
      "\u001b[0;32m<ipython-input-9-8f335a302a9f>\u001b[0m in \u001b[0;36m<module>\u001b[0;34m\u001b[0m\n\u001b[0;32m----> 1\u001b[0;31m \u001b[0;32mimport\u001b[0m \u001b[0mnxviz\u001b[0m \u001b[0;32mas\u001b[0m \u001b[0mnv\u001b[0m\u001b[0;34m\u001b[0m\u001b[0;34m\u001b[0m\u001b[0m\n\u001b[0m\u001b[1;32m      2\u001b[0m \u001b[0;32mimport\u001b[0m \u001b[0mmatplotlib\u001b[0m\u001b[0;34m.\u001b[0m\u001b[0mpyploy\u001b[0m \u001b[0;32mas\u001b[0m \u001b[0mplt\u001b[0m\u001b[0;34m\u001b[0m\u001b[0;34m\u001b[0m\u001b[0m\n\u001b[1;32m      3\u001b[0m \u001b[0map\u001b[0m \u001b[0;34m=\u001b[0m \u001b[0mnv\u001b[0m\u001b[0;34m.\u001b[0m\u001b[0mArcPlot\u001b[0m\u001b[0;34m(\u001b[0m\u001b[0mG\u001b[0m\u001b[0;34m)\u001b[0m\u001b[0;34m\u001b[0m\u001b[0;34m\u001b[0m\u001b[0m\n\u001b[1;32m      4\u001b[0m \u001b[0map\u001b[0m\u001b[0;34m.\u001b[0m\u001b[0mdraw\u001b[0m\u001b[0;34m(\u001b[0m\u001b[0;34m)\u001b[0m\u001b[0;34m\u001b[0m\u001b[0;34m\u001b[0m\u001b[0m\n\u001b[1;32m      5\u001b[0m \u001b[0mplt\u001b[0m\u001b[0;34m.\u001b[0m\u001b[0mshow\u001b[0m\u001b[0;34m(\u001b[0m\u001b[0;34m)\u001b[0m\u001b[0;34m\u001b[0m\u001b[0;34m\u001b[0m\u001b[0m\n",
      "\u001b[0;31mModuleNotFoundError\u001b[0m: No module named 'nxviz'"
     ]
    }
   ],
   "source": [
    "import nxviz as nv\n",
    "import matplotlib.pyploy as plt\n",
    "ap = nv.ArcPlot(G)\n",
    "ap.draw()\n",
    "plt.show()"
   ]
  },
  {
   "cell_type": "markdown",
   "id": "b5eca107",
   "metadata": {},
   "source": [
    "* Under the hood, the `MatrixPlot` utilizes `nx.to_numpy_matrix(G)`, which returns the matrix form of the graph.\n",
    "* Here, each node is one column and one row, and an edge between the two nodes is indicated by the value 1. In doing so, however, only the weight metadata is preserved; all other metadata is lost, as you'll verify using an assert statement.\n",
    "* A corresponding `nx.from_numpy_matrix(A)` allows one to quickly create a graph from a NumPy matrix. The default graph type is `Graph()`; if you want to make it a `DiGraph()`, that has to be specified using the `create_using` keyword argument, e.g. (`nx.from_numpy_matrix(A, create_using=nx.DiGraph)`)"
   ]
  },
  {
   "cell_type": "markdown",
   "id": "e9a815d7",
   "metadata": {},
   "source": [
    "```\n",
    "# Import nxviz\n",
    "import nxviz as nv\n",
    "\n",
    "# Create the MatrixPlot object: m\n",
    "m = nv.MatrixPlot(T)\n",
    "\n",
    "# Draw m to the screen\n",
    "m.draw()\n",
    "\n",
    "plt.show()\n",
    "\n",
    "# Convert T to a matrix format: A\n",
    "A = nx.to_numpy_matrix(T)\n",
    "\n",
    "# Convert A back to the NetworkX form as a directed graph: T_conv\n",
    "T_conv = nx.from_numpy_matrix(A, create_using=nx.DiGraph())\n",
    "\n",
    "# Check that the `category` metadata field is lost from each node\n",
    "for n, d in T_conv.nodes(data=True):\n",
    "    assert 'category' not in d.keys()\n",
    "```\n",
    "* Circos plots are a rational, non-cluttered way of visualizing graph data, in which nodes are ordered around the circumference in some fashion, and the edges are drawn within the circle that results, giving a beautiful as well as informative visualization about the structure of the network.\n",
    "\n",
    "```\n",
    "# Import necessary modules\n",
    "import matplotlib.pyplot as plt\n",
    "from nxviz import CircosPlot\n",
    "\n",
    "# Create the CircosPlot object: c\n",
    "c = CircosPlot(T)\n",
    "\n",
    "# Draw c to the screen\n",
    "c.draw()\n",
    "\n",
    "# Display the plot\n",
    "plt.show()\n",
    "```\n",
    "\n",
    "```\n",
    "# Import necessary modules\n",
    "import matplotlib.pyplot as plt\n",
    "from nxviz import ArcPlot\n",
    "\n",
    "# Create the un-customized ArcPlot object: a\n",
    "a = ArcPlot(T)\n",
    "\n",
    "# Draw a to the screen\n",
    "a.draw()\n",
    "\n",
    "# Display the plot\n",
    "plt.show()\n",
    "\n",
    "# Create the customized ArcPlot object: a2\n",
    "a2 = ArcPlot(T, node_order = 'category', node_color = 'category')\n",
    "\n",
    "# Draw a2 to the screen\n",
    "a2.draw()\n",
    "\n",
    "# Display the plot\n",
    "plt.show()\n",
    "```"
   ]
  },
  {
   "cell_type": "markdown",
   "id": "ab0914f9",
   "metadata": {},
   "source": [
    "# 2. Important nodes\n",
    "You'll learn about ways to identify nodes that are important in a network. In doing so, you'll be introduced to more advanced concepts in network analysis as well as the basics of path-finding algorithms. The chapter concludes with a deep dive into the Twitter network dataset which will reinforce the concepts you've learned, such as degree centrality and betweenness centrality."
   ]
  },
  {
   "cell_type": "markdown",
   "id": "92df7765",
   "metadata": {},
   "source": [
    "### Degree Centrality \n",
    "#### Important nodes\n",
    "* Which nodes are important?\n",
    "    * **Degree Centrality** \n",
    "    * **Betweenness Centrality**\n",
    "* In the majority of situations, we would consider a center node to be more important when it is connected to more nodes. \n",
    "* Being connected to other nodes means other nodes are considered a **neighbor** of that node. \n",
    "\n",
    "#### Deggree Centrality\n",
    "* The **degree centrality** metric is one of many metrics we can use to evaluate the importance of a node, and is simply defined as **the number of neighbors that a node has, divided by the total number of neighbors that the node could possibly have**.\n",
    "    * There are two scenarios possible here: \n",
    "        * **If self-loops are allowed**, such as in a network mapping of all bike trips in a bike sharing system, then the number of neighbors that I could possibly have is **every single node in the graph, including myself.**\n",
    "        * **If self-loops are not allowed**, such as in the Twitter social network where, by definition, my account cannot follow itself, then the number of neighbors I could possibly have is **every other node in the graph, excluding myself.**\n",
    "\n",
    "* In real life, examples of nodes in a graph that have a high degree of centrality might be:\n",
    "    * Twitter broadcasters\n",
    "        * (users that are followed by many other users)\n",
    "    * Airport transportation hubs\n",
    "    * Disease super-spreaders\n",
    "        * the individuals that epidemiologists would want to track down to help stop the spread of a disease. \n",
    "        \n",
    "#### Number of neighbors\n",
    "* NetworkX API for figuring out the number of neighbors that a node has. \n",
    "* Suppose we had a star graph, in which node 1 was connected to every other node\n",
    "* **`G.neighbors()`** allows us to get back a list of neighbors for a given node in a graph\n",
    "* `G.neighbors(1)` returns the neighbors of node 1.\n",
    "* If you pass in a node that doesn't exist in the graph, you'll get back a long error trace with a final line that reads: `NetworkX Error: The node [n] is not in the graph\n",
    "* **`nx.degree_centrality(G)`**:\n",
    "    * takes in a graph object as an argument and returns a dictionary in which the key is the node and the value is the degree centrality score for that node. \n",
    "    * with the `degree_centrality` function, self-loops are not considered."
   ]
  },
  {
   "cell_type": "code",
   "execution_count": 10,
   "id": "ba21aa89",
   "metadata": {},
   "outputs": [],
   "source": [
    "# Define nodes_with_m_nbrs()\n",
    "def nodes_with_m_nbrs(G, m):\n",
    "    \"\"\"\n",
    "    Returns all nodes in graph G that have m neighbors.\n",
    "    \"\"\"\n",
    "    nodes = set()\n",
    "\n",
    "    # Iterate over all nodes in G\n",
    "    for n in G.nodes():\n",
    "\n",
    "        # Check if the number of neighbors of n matches m\n",
    "        if len(list(G.neighbors(n))) == m:\n",
    "\n",
    "            # Add the node n to the set\n",
    "            nodes.add(n)\n",
    "    # Return the nodes with m neighbors\n",
    "    return nodes"
   ]
  },
  {
   "cell_type": "markdown",
   "id": "8fa9d755",
   "metadata": {},
   "source": [
    "```\n",
    "# Compute and print all nodes in T that have 6 neighbors\n",
    "six_nbrs = nodes_with_m_nbrs(T, 6)\n",
    "print(six_nbrs)\n",
    "```\n",
    "\n",
    "#### Compute degree distribution\n",
    "* The number of neighbors that a node has is called its **degree**.\n",
    "* It's possible to compute the degree distribution across the entire graph. "
   ]
  },
  {
   "cell_type": "markdown",
   "id": "b0a73812",
   "metadata": {},
   "source": [
    "$\\star$ `[` output expression `for` iterator variable `in` iterable `if` predicate expression `]` $\\star$"
   ]
  },
  {
   "cell_type": "markdown",
   "id": "3f6ed59b",
   "metadata": {},
   "source": [
    "```\n",
    "# Compute the degree of every node: degrees\n",
    "degrees = [len(list(T.neighbors(n))) for n in T.nodes()]\n",
    "\n",
    "# Print the degrees\n",
    "print(degrees)\n",
    "```\n",
    "\n",
    "* The **degree** of a node is the **number of neighbors** that it has.\n",
    "* The **degree centrality** is the **number of neighbors divided by all possible neighbors that it could have.**\n",
    "    *  Depending on whether self-loops are allowed, the set of possible neighbors a node could have could also include the node itself.\n",
    "    \n",
    "* The **`nx.degree_centrality(G)`** function returns a dictionary, where the keys are the nodes and the values are their degree centrality values.\n",
    "\n",
    "```\n",
    "# Import matplotlib.pyplot\n",
    "import matplotlib.pyplot as plt\n",
    "degrees = [len(list(T.neighbors(n))) for n in T.nodes()]\n",
    "\n",
    "# Compute the degree centrality of the Twitter network: deg_cent\n",
    "deg_cent = nx.degree_centrality(T)\n",
    "\n",
    "# Plot a histogram of the degree centrality distribution of the graph.\n",
    "plt.figure()\n",
    "plt.hist(list(deg_cent.values()))\n",
    "plt.show()\n",
    "\n",
    "# Plot a histogram of the degree distribution of the graph\n",
    "plt.figure()\n",
    "plt.hist(degrees)\n",
    "plt.show()\n",
    "\n",
    "# Plot a scatter plot of the centrality distribution and the degree distribution\n",
    "plt.figure()\n",
    "plt.scatter(degrees, list(deg_cent.values()))\n",
    "plt.show()\n",
    "```"
   ]
  },
  {
   "cell_type": "markdown",
   "id": "ecc446be",
   "metadata": {},
   "source": [
    "### Graph algorithms\n",
    "\n",
    "#### Finding paths \n",
    "* Pathfinding has many important applications.\n",
    "* Pathfinding is important for:\n",
    "    * **Optimization** problems, such as finding the shortest transportation path between two nodes. \n",
    "    * **Modeling**; i.e. disease spread, information spread in a social network.\n",
    "    \n",
    "* How do we find out whether there's a path between two nodes?\n",
    "* And if there is a path, how do we find out what the shorteest path is?\n",
    "* One way: **Breadth-first Search Algorithm**\n",
    "\n",
    "#### Breadth-first search (BFS)\n",
    "* In a BFS algorithm, you start from a particular node and iteratively search through its neighbors and neighbors' neighbors until you find the destination node.\n",
    "* Example: Shortest path between two nodes.\n",
    "* Pathfinding algorithms are important because they provide another way of assessing node importance.\n",
    "* First developed in the 1950's as a way of finding the shortest path out of a maze.\n",
    "* The algorithm essentially works as such:\n",
    "    * If we start at the yellow node, we first ask for the yellow node's neighbors.\n",
    "    * We then ask if the destination node is present in the set of yellow node's neighbors.\n",
    "        * If not, we continue on.\n",
    "            * Going out a second degree of separation, we ask for the neighbors of our neighbors\n",
    "            * The destination node is still not present, so we continue on.\n",
    "            * On our third degree of separation out, we see that the destination node is present\n",
    "            * At this point, we can stop and ignore the next degree of separation.\n",
    "         \n",
    "#### Recall: Nodes\n",
    "\n",
    "```\n",
    "G                               # Graph object\n",
    "len(G.edges())                  # 57\n",
    "len(G.nodes())                  # 20\n",
    "```\n",
    "* To find a path between nodes 1 and 19:\n",
    "\n",
    "```\n",
    "G.neighbors(1)                  # [10, 5, 14, 7]\n",
    "```\n",
    "* Go one degree out, to the first node in the list of node `1`'s neighbors, which is node `10`.\n",
    "\n",
    "```\n",
    "G.neighbors(10)                 # [1, 19, 5, 17, 8, 9, 13, 14]\n",
    "```\n",
    "\n",
    "* If node `19` wasn't present, we'd go on to check node 5, which was the next node in th list of node `1`'s neighbors.\n",
    "* Above we checked each node manually, but there is also an automatic version of the breadth-first search algorithm. "
   ]
  },
  {
   "cell_type": "code",
   "execution_count": 13,
   "id": "7bdb0de7",
   "metadata": {},
   "outputs": [],
   "source": [
    "# Define path_exists()\n",
    "def path_exists(G, node1, node2):\n",
    "    \"\"\"\n",
    "    This function checks whether a path exists between two nodes (node1, node2) in graph G, asserts if/that it does.\n",
    "    \"\"\"\n",
    "    visited_nodes = set()\n",
    "\n",
    "    # Initialize the queue of nodes to visit with the first node: queue\n",
    "    queue = [node1]\n",
    "\n",
    "    # Iterate over the nodes in the queue\n",
    "    for node in queue:\n",
    "\n",
    "        # Get neighbors of the node\n",
    "        neighbors = G.neighbors(node)\n",
    "\n",
    "        # Check to see if the destination node is in the set of neighbors\n",
    "        if node2 in neighbors:\n",
    "            print('Path exists between nodes {0} and {1}'.format(node1, node2))\n",
    "            return True\n",
    "            break"
   ]
  },
  {
   "cell_type": "markdown",
   "id": "99698bb5",
   "metadata": {},
   "source": [
    "* Now that you've got the code for checking whether the destination node is present in neighbors, next up, you're going to extend the same function to write the code for the condition where the destination node is not present in the neighbors."
   ]
  },
  {
   "cell_type": "code",
   "execution_count": 14,
   "id": "cfc8690b",
   "metadata": {},
   "outputs": [],
   "source": [
    "def path_exists(G, node1, node2):\n",
    "    \"\"\"\n",
    "    This function checks whether a path does not exist between two nodes (node1, node2) in graph G.\n",
    "    \"\"\"\n",
    "    visited_nodes = set()\n",
    "    queue = [node1]\n",
    "\n",
    "    for node in queue:\n",
    "        neighbors = G.neighbors(node)\n",
    "        if node2 in neighbors:\n",
    "            print('Path exists between nodes {0} and {1}'.format(node1, node2))\n",
    "            return True\n",
    "          \n",
    "        else:\n",
    "            # Add current node to visited nodes\n",
    "            visited_nodes.add(node)\n",
    "\n",
    "            # Add neighbors of current node that have not yet been visited\n",
    "            queue.extend([n for n in neighbors if n not in visited_nodes])"
   ]
  },
  {
   "cell_type": "markdown",
   "id": "46039e1b",
   "metadata": {},
   "source": [
    "You're now going to complete the problem by writing the code that returns False if there's no path between two nodes."
   ]
  },
  {
   "cell_type": "code",
   "execution_count": 16,
   "id": "019fa8a4",
   "metadata": {},
   "outputs": [],
   "source": [
    "def path_exists(G, node1, node2):\n",
    "    \"\"\"\n",
    "    This function checks whether a path exists between two nodes (node1, node2) in graph G and returns False if no path exists.\n",
    "    \"\"\"\n",
    "    visited_nodes = set()\n",
    "    queue = [node1]\n",
    "\n",
    "    for node in queue:\n",
    "        neighbors = list(G.neighbors(node))\n",
    "        if node2 in neighbors:\n",
    "            print('Path exists between nodes {0} and {1}'.format(node1, node2))\n",
    "            return True\n",
    "            break\n",
    "\n",
    "        else:\n",
    "            visited_nodes.add(node)\n",
    "            queue.extend([n for n in neighbors if n not in visited_nodes])\n",
    "\n",
    "        # Check to see if the final element of the queue has been reached\n",
    "        if node == queue[-1]:\n",
    "            print('Path does not exist between nodes {0} and {1}'.format(node1, node2))\n",
    "\n",
    "            # Place the appropriate return statement\n",
    "            return False"
   ]
  },
  {
   "cell_type": "code",
   "execution_count": null,
   "id": "a4b94899",
   "metadata": {},
   "outputs": [],
   "source": []
  },
  {
   "cell_type": "code",
   "execution_count": null,
   "id": "76de6644",
   "metadata": {},
   "outputs": [],
   "source": []
  },
  {
   "cell_type": "code",
   "execution_count": null,
   "id": "ed480f0d",
   "metadata": {},
   "outputs": [],
   "source": []
  },
  {
   "cell_type": "code",
   "execution_count": null,
   "id": "cf0a25a9",
   "metadata": {},
   "outputs": [],
   "source": []
  },
  {
   "cell_type": "code",
   "execution_count": null,
   "id": "4fb95013",
   "metadata": {},
   "outputs": [],
   "source": []
  },
  {
   "cell_type": "code",
   "execution_count": null,
   "id": "7fd9e0f1",
   "metadata": {},
   "outputs": [],
   "source": []
  },
  {
   "cell_type": "code",
   "execution_count": null,
   "id": "cc8518f4",
   "metadata": {},
   "outputs": [],
   "source": []
  }
 ],
 "metadata": {
  "kernelspec": {
   "display_name": "Python 3",
   "language": "python",
   "name": "python3"
  },
  "language_info": {
   "codemirror_mode": {
    "name": "ipython",
    "version": 3
   },
   "file_extension": ".py",
   "mimetype": "text/x-python",
   "name": "python",
   "nbconvert_exporter": "python",
   "pygments_lexer": "ipython3",
   "version": "3.8.8"
  }
 },
 "nbformat": 4,
 "nbformat_minor": 5
}
