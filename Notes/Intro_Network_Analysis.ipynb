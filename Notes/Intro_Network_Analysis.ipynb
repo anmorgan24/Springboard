{
 "cells": [
  {
   "cell_type": "markdown",
   "id": "91783fbb",
   "metadata": {},
   "source": [
    "# Introduction to Network Analysis in Python"
   ]
  },
  {
   "cell_type": "markdown",
   "id": "18b8c573",
   "metadata": {},
   "source": [
    "From online social networks such as Facebook and Twitter to transportation networks such as bike sharing systems, networks are everywhere—and knowing how to analyze them will open up a new world of possibilities for you as a data scientist. This course will equip you with the skills to analyze, visualize, and make sense of networks. You'll apply the concepts you learn to real-world network data using the powerful NetworkX library. With the knowledge gained in this course, you'll develop your network thinking skills and be able to look at your data with a fresh perspective."
   ]
  },
  {
   "cell_type": "markdown",
   "id": "510447f5",
   "metadata": {},
   "source": [
    "## 1. Introduction to Networks\n",
    "In this chapter, you'll be introduced to fundamental concepts in network analytics while exploring a real-world Twitter network dataset. You'll also learn about NetworkX, a library that allows you to manipulate, analyze, and model graph data. You'll learn about the different types of graphs and how to rationally visualize them."
   ]
  },
  {
   "cell_type": "markdown",
   "id": "37a01f7f",
   "metadata": {},
   "source": [
    "#### Introduction to Networks\n",
    "* Eric Ma: a Data Scientist working at the intersection of biological network science and infectious disease with a deep understanding of network analytics.\n",
    "* Some examples of networks:\n",
    "    * Social networks\n",
    "        * models the relationships between people\n",
    "    * Transportation networks\n",
    "        * models the connectivity between locations, as determined by roads or flight paths connecting them\n",
    "* At their core, **networks are a useful tool for modeling relationships between entities.**\n",
    "* By modeling your data as a network, you can end up gaining insight into what entities (or nodes) are important, such as broadcasters or influencers in a social network.\n",
    "* **Insights:**\n",
    "    * **Important entities:** influencers in social network\n",
    "    * **Pathfinding:** most efficient transport path\n",
    "    * **Clustering:** finding communities\n",
    "    \n",
    "#### Network Structure\n",
    "* Networks are described by two sets of items: \n",
    "    * **Nodes**\n",
    "    * **Edges**\n",
    "* Together, these form a \"network,\" otherwise known in mathematical terms as a \"graph.\"\n",
    "* Nodes and edges can have metadata associated with them.\n",
    "* In the Python world, there is a library called NetworkX that allows us to manipulate, analyze, and model graph data.\n",
    "\n",
    "#### NetworkX API Basics\n",
    "* Using `nx.Graph()`, we can initialize an empty graph to which we can nodes and edges\n",
    "* We can add, for example, the integers 1, 2, and 3 as nodes, using the `.add_nodes_from()` method and passing in the list `[1, 2, 3]` as an argument. \n",
    "\n",
    "```\n",
    "import networkx as nx\n",
    "G = nx.Graph()\n",
    "G.add_nodes_from([1, 2, 3])\n",
    "G.nodes()\n",
    "```\n",
    "* Output:\n",
    "* `[1, 2, 3]`\n",
    "* The Graph object G has a `.nodes()` method that allows us to see what nodes are present in the graph, and returns a list of nodes. \n",
    "\n",
    "```\n",
    "G.add_edge(1,2)\n",
    "G.edges()\n",
    "```\n",
    "* Output:\n",
    "* `[(1, 2)]`\n",
    "* If we add an edge between the nodes 1 and 2, we can then use the `G.edges()` method to return a list of tuples which represent the edges, in which each tuple shows the nodes that are present on that edges.\n",
    "* Metadata can be stored on the graph as well\n",
    "* For example, add to the node 1, a 'label' key with the value 'blue', just as we would assign a value to the key of a dictionary.\n",
    "* We can then retrieve the node list **with the metadata attached** using `G.nodes()`, passing in the **`data=True`** argument\n",
    "\n",
    "```\n",
    "G.node[1]['label'] = 'blue'\n",
    "G.nodes(data=True)\n",
    "```\n",
    "* Outputs:\n",
    "* `[(1, {'label': 'blue'}), (2, {}), (3, {})]`\n",
    "* This returns a list of 2-tuples, in which the first element of each tuple is the node, and the second element is a dictionary in which the key-value pairs correspond to my metadata.\n",
    "\n",
    "* **NetworkX** also provides basic drawing functionality, using the `nx.draw()` function, which takes in a Graph, `G` as an argument.\n",
    "\n",
    "```\n",
    "nx.draw(G)\n",
    "import matplotlib.pyplot as plt\n",
    "plt.show()\n",
    "```\n",
    "* With this graph the `nx.draw()` function will draw to screen what we call a **node-link diagram rendering of the graph.**"
   ]
  },
  {
   "cell_type": "markdown",
   "id": "b781ead1",
   "metadata": {},
   "source": [
    "#### Queries on a graph\n",
    "* Now that you know some basic properties of the graph and have practiced using NetworkX's drawing facilities to visualize components of it, it's time to explore how you can query it for nodes and edges.\n",
    "* Specifically, you're going to look for **nodes of interest** and **edges of interest**.\n",
    "* To achieve this, you'll make use of the **`.nodes()`** and **`.edges()`** methods.\n",
    "    * The **`.nodes()`** method returns a list of nodes\n",
    "    * The **`.edges()`** method returns a list of tuples, in which each tuple shows the nodes that are present on that edge.\n",
    "    * Passing in the keyword argument `data = True` in these methods retrieves the corresponding metadata associated with the nodes and edges as well.\n",
    "* Write **list comprehensions** to effectively build these queries in one line.\n",
    "    * $\\star$ `[` output expression `for` iterator variable `in` iterable `if` predicate expression `]` $\\star$\n",
    "    \n",
    "```\n",
    "# Use a list comprehension to get the nodes of interest: noi\n",
    "noi = [n for n, d in T.nodes(data=True) if d['occupation'] == 'scientist']\n",
    "\n",
    "# Use a list comprehension to get the edges of interest: eoi\n",
    "eoi = [(u, v) for u, v, d in T.edges(data=True) if d['date'] < date(2010, 1,1)]\n",
    "```"
   ]
  },
  {
   "cell_type": "markdown",
   "id": "e42609fe",
   "metadata": {},
   "source": [
    "#### Types of Graphs\n",
    "* NetworkX allows us to model different types of graphs:\n",
    "\n",
    "#### Undirected Graphs\n",
    "* Facebook social graphs, for example\n",
    "* **Undirected graphs** are named as such because they are comprised of edges that don't have any inherent directionality associated with them. \n",
    "* With Facebook, for example, when one used befriends another, the two are automatically connected with an edge\n",
    "* This is most commonly drawn as a line with no arrows between two circles."
   ]
  },
  {
   "cell_type": "code",
   "execution_count": 1,
   "id": "c791e819",
   "metadata": {},
   "outputs": [],
   "source": [
    "import networkx as nx"
   ]
  },
  {
   "cell_type": "code",
   "execution_count": 2,
   "id": "f3fb596e",
   "metadata": {},
   "outputs": [
    {
     "data": {
      "text/plain": [
       "networkx.classes.graph.Graph"
      ]
     },
     "execution_count": 2,
     "metadata": {},
     "output_type": "execute_result"
    }
   ],
   "source": [
    "G = nx.Graph()\n",
    "type(G)"
   ]
  },
  {
   "cell_type": "markdown",
   "id": "ba0eb47c",
   "metadata": {},
   "source": [
    "* Instantiate an empty graph in NetworkX using `nx.Graph` and ask for its type.\n",
    "* **Undirected graphs** have the type **Graph**.\n",
    "\n",
    "#### Directed graphs\n",
    "* For example: Twitter's social graph\n",
    "* This is because the nature of how users interact with one another.\n",
    "* For example, one user may follow another, but that user may not follow back.\n",
    "* As such, there is an inherent directionality associated with the graph.\n",
    "* Instantiate an empty directed graph:"
   ]
  },
  {
   "cell_type": "code",
   "execution_count": 3,
   "id": "7cf44d3b",
   "metadata": {},
   "outputs": [
    {
     "data": {
      "text/plain": [
       "networkx.classes.digraph.DiGraph"
      ]
     },
     "execution_count": 3,
     "metadata": {},
     "output_type": "execute_result"
    }
   ],
   "source": [
    "D = nx.DiGraph()\n",
    "type(D)"
   ]
  },
  {
   "cell_type": "markdown",
   "id": "e8f3f2ae",
   "metadata": {},
   "source": [
    "* **Directed graphs** have the type **DiGraph**.\n",
    "\n",
    "#### Multi(Di)Graph\n",
    "* We can also have graphs in which there are multiple edges permitted between the nodes. \n",
    "* For example, we may want to model trips between bike sharing stations.\n",
    "* Each trip may be one edge between the pair of stations"
   ]
  },
  {
   "cell_type": "code",
   "execution_count": 4,
   "id": "31ed27ff",
   "metadata": {},
   "outputs": [
    {
     "data": {
      "text/plain": [
       "networkx.classes.multigraph.MultiGraph"
      ]
     },
     "execution_count": 4,
     "metadata": {},
     "output_type": "execute_result"
    }
   ],
   "source": [
    "M = nx.MultiGraph()\n",
    "type(M)"
   ]
  },
  {
   "cell_type": "code",
   "execution_count": 5,
   "id": "37d72f5a",
   "metadata": {},
   "outputs": [
    {
     "data": {
      "text/plain": [
       "networkx.classes.multidigraph.MultiDiGraph"
      ]
     },
     "execution_count": 5,
     "metadata": {},
     "output_type": "execute_result"
    }
   ],
   "source": [
    "MD = nx.MultiDiGraph()\n",
    "type(MD)"
   ]
  },
  {
   "cell_type": "markdown",
   "id": "f1ab335a",
   "metadata": {},
   "source": [
    "#### Weights on graphs\n",
    "* Sometimes, for practical reasons, it may be too memory-intensive to model multiple edges per pair of nodes, and so one may choose to collapse the edges into a single edge that contains a metadata summary of the original.\n",
    "* **Edges** can contain **weights**.\n",
    "* For example, you may want to collapse three identical edges (identical in direction and between which nodes) into a single edge and give them a \"weight\" metadata with the value \"3,\" indicating that it was originally 3 edges between the pair of nodes.\n",
    "\n",
    "#### Self-loops\n",
    "* Nodes that are connected to themselves. \n",
    "* Self-loops can be used in certain scenarios, such as in bike sharing data, where a trip begins at a station and ends at the same station."
   ]
  },
  {
   "cell_type": "markdown",
   "id": "209541cd",
   "metadata": {},
   "source": [
    "#### Specifying weights on edges \n",
    "Weights can be added to edges in a graph, typically indicating the \"strength\" of an edge. In NetworkX, the weight is indicated by the `weight` key in the metadata dictionary.\n",
    "\n",
    "* Refer to the following template to set an attribute of an edge: \n",
    "    * **`network_name.edges[node1, node2]['attribute'] = value`** \n",
    "    * Here, the `attribute` is `weight`\n",
    "    \n",
    "```\n",
    "# Set the weight of the edge\n",
    "T.edges[1,10]['weight'] = 2\n",
    "```\n",
    "\n",
    "* Set the weight of every edge involving node `293` to be equal to `1.1`. To do this:\n",
    "    * Using a `for` loop, iterate over all the edges of `T`, including the `metadata`.\n",
    "    * If `293` is involved in the list of nodes `[u, v]`:\n",
    "    * Set the weight of the edge between `u` and `v` to be `1.1`.\n",
    "    \n",
    "```\n",
    "# Set the weight of the edge\n",
    "T.edges[1,10]['weight'] = 2\n",
    "\n",
    "# Iterate over all the edges (with metadata)\n",
    "for u, v, d in T.edges(data=True):\n",
    "\n",
    "    # Check if node 293 is involved\n",
    "    if 293 in [u, v]:\n",
    "\n",
    "        # Set the weight to 1.1\n",
    "        T.edges[u, v]['weight'] = 1.1\n",
    "```"
   ]
  },
  {
   "cell_type": "code",
   "execution_count": null,
   "id": "27cb132f",
   "metadata": {},
   "outputs": [],
   "source": []
  }
 ],
 "metadata": {
  "kernelspec": {
   "display_name": "Python 3",
   "language": "python",
   "name": "python3"
  },
  "language_info": {
   "codemirror_mode": {
    "name": "ipython",
    "version": 3
   },
   "file_extension": ".py",
   "mimetype": "text/x-python",
   "name": "python",
   "nbconvert_exporter": "python",
   "pygments_lexer": "ipython3",
   "version": "3.8.8"
  }
 },
 "nbformat": 4,
 "nbformat_minor": 5
}
