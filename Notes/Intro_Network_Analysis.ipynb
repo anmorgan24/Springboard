{
 "cells": [
  {
   "cell_type": "markdown",
   "id": "59f88d26",
   "metadata": {},
   "source": [
    "# Introduction to Network Analysis in Python"
   ]
  },
  {
   "cell_type": "markdown",
   "id": "10dfc3b8",
   "metadata": {},
   "source": [
    "From online social networks such as Facebook and Twitter to transportation networks such as bike sharing systems, networks are everywhere—and knowing how to analyze them will open up a new world of possibilities for you as a data scientist. This course will equip you with the skills to analyze, visualize, and make sense of networks. You'll apply the concepts you learn to real-world network data using the powerful NetworkX library. With the knowledge gained in this course, you'll develop your network thinking skills and be able to look at your data with a fresh perspective."
   ]
  },
  {
   "cell_type": "markdown",
   "id": "82d0e963",
   "metadata": {},
   "source": [
    "## 1. Introduction to Networks\n",
    "In this chapter, you'll be introduced to fundamental concepts in network analytics while exploring a real-world Twitter network dataset. You'll also learn about NetworkX, a library that allows you to manipulate, analyze, and model graph data. You'll learn about the different types of graphs and how to rationally visualize them."
   ]
  },
  {
   "cell_type": "markdown",
   "id": "607704eb",
   "metadata": {},
   "source": [
    "#### Introduction to Networks\n",
    "* Eric Ma: a Data Scientist working at the intersection of biological network science and infectious disease with a deep understanding of network analytics.\n",
    "* Some examples of networks:\n",
    "    * Social networks\n",
    "        * models the relationships between people\n",
    "    * Transportation networks\n",
    "        * models the connectivity between locations, as determined by roads or flight paths connecting them\n",
    "* At their core, **networks are a useful tool for modeling relationships between entities.**\n",
    "* By modeling your data as a network, you can end up gaining insight into what entities (or nodes) are important, such as broadcasters or influencers in a social network.\n",
    "* **Insights:**\n",
    "    * **Important entities:** influencers in social network\n",
    "    * **Pathfinding:** most efficient transport path\n",
    "    * **Clustering:** finding communities\n",
    "    \n",
    "#### Network Structure\n",
    "* Networks are described by two sets of items: \n",
    "    * **Nodes**\n",
    "    * **Edges**\n",
    "* Together, these form a \"network,\" otherwise known in mathematical terms as a \"graph.\"\n",
    "* Nodes and edges can have metadata associated with them.\n",
    "* In the Python world, there is a library called NetworkX that allows us to manipulate, analyze, and model graph data.\n",
    "\n",
    "#### NetworkX API Basics\n",
    "* Using `nx.Graph()`, we can initialize an empty graph to which we can nodes and edges\n",
    "* We can add, for example, the integers 1, 2, and 3 as nodes, using the `.add_nodes_from()` method and passing in the list `[1, 2, 3]` as an argument. \n",
    "\n",
    "```\n",
    "import networkx as nx\n",
    "G = nx.Graph()\n",
    "G.add_nodes_from([1, 2, 3])\n",
    "G.nodes()\n",
    "```\n",
    "* Output:\n",
    "* `[1, 2, 3]`\n",
    "* The Graph object G has a `.nodes()` method that allows us to see what nodes are present in the graph, and returns a list of nodes. \n",
    "\n",
    "```\n",
    "G.add_edge(1,2)\n",
    "G.edges()\n",
    "```\n",
    "* Output:\n",
    "* `[(1, 2)]`\n",
    "* If we add an edge between the nodes 1 and 2, we can then use the `G.edges()` method to return a list of tuples which represent the edges, in which each tuple shows the nodes that are present on that edges.\n",
    "* Metadata can be stored on the graph as well\n",
    "* For example, add to the node 1, a 'label' key with the value 'blue', just as we would assign a value to the key of a dictionary.\n",
    "* We can then retrieve the node list **with the metadata attached** using `G.nodes()`, passing in the **`data=True`** argument\n",
    "\n",
    "```\n",
    "G.node[1]['label'] = 'blue'\n",
    "G.nodes(data=True)\n",
    "```\n",
    "* Outputs:\n",
    "* `[(1, {'label': 'blue'}), (2, {}), (3, {})]`\n",
    "* This returns a list of 2-tuples, in which the first element of each tuple is the node, and the second element is a dictionary in which the key-value pairs correspond to my metadata.\n",
    "\n",
    "* **NetworkX** also provides basic drawing functionality, using the `nx.draw()` function, which takes in a Graph, `G` as an argument.\n",
    "\n",
    "```\n",
    "nx.draw(G)\n",
    "import matplotlib.pyplot as plt\n",
    "plt.show()\n",
    "```\n",
    "* With this graph the `nx.draw()` function will draw to screen what we call a **node-link diagram rendering of the graph.**"
   ]
  },
  {
   "cell_type": "markdown",
   "id": "e675eb47",
   "metadata": {},
   "source": [
    "#### Queries on a graph\n",
    "* Now that you know some basic properties of the graph and have practiced using NetworkX's drawing facilities to visualize components of it, it's time to explore how you can query it for nodes and edges.\n",
    "* Specifically, you're going to look for **nodes of interest** and **edges of interest**.\n",
    "* To achieve this, you'll make use of the **`.nodes()`** and **`.edges()`** methods.\n",
    "    * The **`.nodes()`** method returns a list of nodes\n",
    "    * The **`.edges()`** method returns a list of tuples, in which each tuple shows the nodes that are present on that edge.\n",
    "    * Passing in the keyword argument `data = True` in these methods retrieves the corresponding metadata associated with the nodes and edges as well.\n",
    "* Write **list comprehensions** to effectively build these queries in one line.\n",
    "    * $\\star$ `[` output expression `for` iterator variable `in` iterable `if` predicate expression `]` $\\star$\n",
    "    \n",
    "```\n",
    "# Use a list comprehension to get the nodes of interest: noi\n",
    "noi = [n for n, d in T.nodes(data=True) if d['occupation'] == 'scientist']\n",
    "\n",
    "# Use a list comprehension to get the edges of interest: eoi\n",
    "eoi = [(u, v) for u, v, d in T.edges(data=True) if d['date'] < date(2010, 1,1)]\n",
    "```"
   ]
  },
  {
   "cell_type": "markdown",
   "id": "9446b5fb",
   "metadata": {},
   "source": [
    "#### Types of Graphs\n",
    "* NetworkX allows us to model different types of graphs:\n",
    "\n",
    "#### Undirected Graphs\n",
    "* Facebook social graphs, for example\n",
    "* **Undirected graphs** are named as such because they are comprised of edges that don't have any inherent directionality associated with them. \n",
    "* With Facebook, for example, when one used befriends another, the two are automatically connected with an edge\n",
    "* This is most commonly drawn as a line with no arrows between two circles."
   ]
  },
  {
   "cell_type": "code",
   "execution_count": 1,
   "id": "218535ee",
   "metadata": {},
   "outputs": [],
   "source": [
    "import networkx as nx"
   ]
  },
  {
   "cell_type": "code",
   "execution_count": 2,
   "id": "a347e528",
   "metadata": {},
   "outputs": [
    {
     "data": {
      "text/plain": [
       "networkx.classes.graph.Graph"
      ]
     },
     "execution_count": 2,
     "metadata": {},
     "output_type": "execute_result"
    }
   ],
   "source": [
    "G = nx.Graph()\n",
    "type(G)"
   ]
  },
  {
   "cell_type": "markdown",
   "id": "87e0e747",
   "metadata": {},
   "source": [
    "* Instantiate an empty graph in NetworkX using `nx.Graph` and ask for its type.\n",
    "* **Undirected graphs** have the type **Graph**.\n",
    "\n",
    "#### Directed graphs\n",
    "* For example: Twitter's social graph\n",
    "* This is because the nature of how users interact with one another.\n",
    "* For example, one user may follow another, but that user may not follow back.\n",
    "* As such, there is an inherent directionality associated with the graph.\n",
    "* Instantiate an empty directed graph:"
   ]
  },
  {
   "cell_type": "code",
   "execution_count": 3,
   "id": "61b4e7a2",
   "metadata": {},
   "outputs": [
    {
     "data": {
      "text/plain": [
       "networkx.classes.digraph.DiGraph"
      ]
     },
     "execution_count": 3,
     "metadata": {},
     "output_type": "execute_result"
    }
   ],
   "source": [
    "D = nx.DiGraph()\n",
    "type(D)"
   ]
  },
  {
   "cell_type": "markdown",
   "id": "331196af",
   "metadata": {},
   "source": [
    "* **Directed graphs** have the type **DiGraph**.\n",
    "\n",
    "#### Multi(Di)Graph\n",
    "* We can also have graphs in which there are multiple edges permitted between the nodes. \n",
    "* For example, we may want to model trips between bike sharing stations.\n",
    "* Each trip may be one edge between the pair of stations"
   ]
  },
  {
   "cell_type": "code",
   "execution_count": 4,
   "id": "531eba16",
   "metadata": {},
   "outputs": [
    {
     "data": {
      "text/plain": [
       "networkx.classes.multigraph.MultiGraph"
      ]
     },
     "execution_count": 4,
     "metadata": {},
     "output_type": "execute_result"
    }
   ],
   "source": [
    "M = nx.MultiGraph()\n",
    "type(M)"
   ]
  },
  {
   "cell_type": "code",
   "execution_count": 5,
   "id": "f36b5f02",
   "metadata": {},
   "outputs": [
    {
     "data": {
      "text/plain": [
       "networkx.classes.multidigraph.MultiDiGraph"
      ]
     },
     "execution_count": 5,
     "metadata": {},
     "output_type": "execute_result"
    }
   ],
   "source": [
    "MD = nx.MultiDiGraph()\n",
    "type(MD)"
   ]
  },
  {
   "cell_type": "markdown",
   "id": "c5ec0425",
   "metadata": {},
   "source": [
    "#### Weights on graphs\n",
    "* Sometimes, for practical reasons, it may be too memory-intensive to model multiple edges per pair of nodes, and so one may choose to collapse the edges into a single edge that contains a metadata summary of the original.\n",
    "* **Edges** can contain **weights**.\n",
    "* For example, you may want to collapse three identical edges (identical in direction and between which nodes) into a single edge and give them a \"weight\" metadata with the value \"3,\" indicating that it was originally 3 edges between the pair of nodes.\n",
    "\n",
    "#### Self-loops\n",
    "* Nodes that are connected to themselves. \n",
    "* Self-loops can be used in certain scenarios, such as in bike sharing data, where a trip begins at a station and ends at the same station."
   ]
  },
  {
   "cell_type": "markdown",
   "id": "a40cd59e",
   "metadata": {},
   "source": [
    "#### Specifying weights on edges \n",
    "Weights can be added to edges in a graph, typically indicating the \"strength\" of an edge. In NetworkX, the weight is indicated by the `weight` key in the metadata dictionary.\n",
    "\n",
    "* Refer to the following template to set an attribute of an edge: \n",
    "    * **`network_name.edges[node1, node2]['attribute'] = value`** \n",
    "    * Here, the `attribute` is `weight`\n",
    "    \n",
    "```\n",
    "# Set the weight of the edge\n",
    "T.edges[1,10]['weight'] = 2\n",
    "```\n",
    "\n",
    "* Set the weight of every edge involving node `293` to be equal to `1.1`. To do this:\n",
    "    * Using a `for` loop, iterate over all the edges of `T`, including the `metadata`.\n",
    "    * If `293` is involved in the list of nodes `[u, v]`:\n",
    "    * Set the weight of the edge between `u` and `v` to be `1.1`.\n",
    "    \n",
    "```\n",
    "# Set the weight of the edge\n",
    "T.edges[1,10]['weight'] = 2\n",
    "\n",
    "# Iterate over all the edges (with metadata)\n",
    "for u, v, d in T.edges(data=True):\n",
    "\n",
    "    # Check if node 293 is involved\n",
    "    if 293 in [u, v]:\n",
    "\n",
    "        # Set the weight to 1.1\n",
    "        T.edges[u, v]['weight'] = 1.1\n",
    "```"
   ]
  },
  {
   "cell_type": "markdown",
   "id": "0b939826",
   "metadata": {},
   "source": [
    "#### Checking whether there are self-loops in the graph\n",
    "* NetworkX also allows edges that begin and end on the same node\n",
    "* While this would be non-intuitive for a social network graph, it is useful to model data such as trip networks, in which individuals begin at one location and end in another.\n",
    "* It is useful to check for this before proceeding with further analyses, and NetworkX graphs provide a method for this purpose: `.number_of_selfloops()`.\n",
    "* In this exercise as well as later ones, you'll find the `assert` statement useful. Each `assert`-ions checks whether the statement placed after it evaluates to `True`, otherwise it will throw an `AssertionError`.\n",
    "* Define a function that returns all nodes with self-loops in Graph G."
   ]
  },
  {
   "cell_type": "code",
   "execution_count": 7,
   "id": "48facd30",
   "metadata": {},
   "outputs": [],
   "source": [
    "# Define find_selfloop_nodes()\n",
    "def find_selfloop_nodes(G):\n",
    "    \"\"\"\n",
    "    Finds all nodes that have self-loops in the graph G.\n",
    "    \"\"\"\n",
    "    nodes_in_selfloops = []\n",
    "\n",
    "    # Iterate over all the edges of G\n",
    "    for u, v in G.edges():\n",
    "\n",
    "    # Check if node u and node v are the same\n",
    "        if u == v:\n",
    "\n",
    "            # Append node u to nodes_in_selfloops\n",
    "            nodes_in_selfloops.append(u)\n",
    "\n",
    "    return nodes_in_selfloops"
   ]
  },
  {
   "cell_type": "markdown",
   "id": "2fa9735b",
   "metadata": {},
   "source": [
    "```\n",
    "# Check whether number of self loops equals the number of nodes in self loops\n",
    "assert T.number_of_selfloops() == len(find_selfloop_nodes(T))\n",
    "```"
   ]
  },
  {
   "cell_type": "markdown",
   "id": "d3393de5",
   "metadata": {},
   "source": [
    "#### Network visualization\n",
    "You may have seen node-link diagrams involving more than a hundred thousand nodes. They purport to show a visual representation of the network, but in reality just show a hairball. We're going to look at alternate ways of visualizing network data that are much more rational.\n",
    "* **Matrix plots**\n",
    "* **Arc plots**\n",
    "* **Circos plots**\n",
    "\n",
    "#### Matrix plots\n",
    "* In a matrix plot, nodes are the rows and columns of a matrix, and cells are filled in according to whether an edge exissts between the pairs of nodes. \n",
    "* **Undirected matrices:**\n",
    "    * The matrix is symmetrical around the diagonal (top left $\\Rightarrow$ bottom right)\n",
    "    * The edge AB is equivalent to edge BA - because there is no directionality associated with that edge\n",
    "    * The edge AC is equivalent to edge CA - because there is no directionality associated with it\n",
    "* **Directed matrices:**\n",
    "    * The matrix representation is not necessarily going to be symmetrical.\n",
    "    * If the nodes are ordered along the rows and columns such that the neighbors are listed close to one another, then a matrix plot can be used to visualize **clusters**, or communities, of nodes. \n",
    "    \n",
    "#### Arc Plots\n",
    "* An arc plot is a transformation of the node-link diagram layout, in which nodes are ordered along one axis of the plot, and edges are drawn using circular arcs from one node to another. \n",
    "* If the nodes are ordered according to some sortable rule (**ordered axis**)-- for example, age in a social network of users-- or otherwise grouped together by geographic lovation in a map for a transportation network, then it will be possible to visualize the relationship between connectivity and the sorted (or grouped) property. \n",
    "* **Arc plots are a good starting point for visualizing a network as it forms the basis of the later plots that we'll take a look at (more complicated ones).**\n",
    "\n",
    "#### Circos Plots \n",
    "* A Circos plot is a transformation of the Arc plot, such that the two ends of the Arc plot are joined together in a circle.\n",
    "* Circos plots were originally designed for use in genomics and you can think of them as an aesthetic and compact alternative to Arc plots. \n",
    "* We will be using a plotting utility that Eric Ma (instructor) developed called `nxviz` \n",
    "\n",
    "#### nxviz API\n",
    "* Suppose we had a graph, G, in which we added nodes and edges\n",
    "* Instantiate a new `nv.ArcPlot()` object, and pass in a graph G\n",
    "* We can also order nodes by the values keyed on some \"key\""
   ]
  },
  {
   "cell_type": "code",
   "execution_count": 9,
   "id": "b2902e40",
   "metadata": {},
   "outputs": [
    {
     "ename": "ModuleNotFoundError",
     "evalue": "No module named 'nxviz'",
     "output_type": "error",
     "traceback": [
      "\u001b[0;31m---------------------------------------------------------------------------\u001b[0m",
      "\u001b[0;31mModuleNotFoundError\u001b[0m                       Traceback (most recent call last)",
      "\u001b[0;32m<ipython-input-9-8f335a302a9f>\u001b[0m in \u001b[0;36m<module>\u001b[0;34m\u001b[0m\n\u001b[0;32m----> 1\u001b[0;31m \u001b[0;32mimport\u001b[0m \u001b[0mnxviz\u001b[0m \u001b[0;32mas\u001b[0m \u001b[0mnv\u001b[0m\u001b[0;34m\u001b[0m\u001b[0;34m\u001b[0m\u001b[0m\n\u001b[0m\u001b[1;32m      2\u001b[0m \u001b[0;32mimport\u001b[0m \u001b[0mmatplotlib\u001b[0m\u001b[0;34m.\u001b[0m\u001b[0mpyploy\u001b[0m \u001b[0;32mas\u001b[0m \u001b[0mplt\u001b[0m\u001b[0;34m\u001b[0m\u001b[0;34m\u001b[0m\u001b[0m\n\u001b[1;32m      3\u001b[0m \u001b[0map\u001b[0m \u001b[0;34m=\u001b[0m \u001b[0mnv\u001b[0m\u001b[0;34m.\u001b[0m\u001b[0mArcPlot\u001b[0m\u001b[0;34m(\u001b[0m\u001b[0mG\u001b[0m\u001b[0;34m)\u001b[0m\u001b[0;34m\u001b[0m\u001b[0;34m\u001b[0m\u001b[0m\n\u001b[1;32m      4\u001b[0m \u001b[0map\u001b[0m\u001b[0;34m.\u001b[0m\u001b[0mdraw\u001b[0m\u001b[0;34m(\u001b[0m\u001b[0;34m)\u001b[0m\u001b[0;34m\u001b[0m\u001b[0;34m\u001b[0m\u001b[0m\n\u001b[1;32m      5\u001b[0m \u001b[0mplt\u001b[0m\u001b[0;34m.\u001b[0m\u001b[0mshow\u001b[0m\u001b[0;34m(\u001b[0m\u001b[0;34m)\u001b[0m\u001b[0;34m\u001b[0m\u001b[0;34m\u001b[0m\u001b[0m\n",
      "\u001b[0;31mModuleNotFoundError\u001b[0m: No module named 'nxviz'"
     ]
    }
   ],
   "source": [
    "import nxviz as nv\n",
    "import matplotlib.pyploy as plt\n",
    "ap = nv.ArcPlot(G)\n",
    "ap.draw()\n",
    "plt.show()"
   ]
  },
  {
   "cell_type": "code",
   "execution_count": null,
   "id": "d011f47d",
   "metadata": {},
   "outputs": [],
   "source": []
  }
 ],
 "metadata": {
  "kernelspec": {
   "display_name": "Python 3",
   "language": "python",
   "name": "python3"
  },
  "language_info": {
   "codemirror_mode": {
    "name": "ipython",
    "version": 3
   },
   "file_extension": ".py",
   "mimetype": "text/x-python",
   "name": "python",
   "nbconvert_exporter": "python",
   "pygments_lexer": "ipython3",
   "version": "3.8.8"
  }
 },
 "nbformat": 4,
 "nbformat_minor": 5
}
