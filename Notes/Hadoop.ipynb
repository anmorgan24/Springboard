{
 "cells": [
  {
   "cell_type": "markdown",
   "id": "ed3c4cc1",
   "metadata": {},
   "source": [
    "# Hadoop"
   ]
  },
  {
   "cell_type": "markdown",
   "id": "681be98c",
   "metadata": {},
   "source": [
    "#### RDBMS Limits\n",
    "* Scalability\n",
    "* Speed\n",
    "* Others\n",
    "    * Queryability\n",
    "    * Sophisticated processing\n",
    "* **The Hadoop ecosystem is designed to solve a different set of data problems than those of relational databases.**\n",
    "\n",
    "#### Database choices\n",
    "* File systems\n",
    "    * Other fields\n",
    "    * HDFS (Hadoop Distributed File System)\n",
    "* Databases\n",
    "    * NoSQL \n",
    "        * Key/value stores such as Redis\n",
    "        * Columnstores such as HBase\n",
    "        * Document databases, such as MongoDB\n",
    "        * Graph databases\n",
    "    * RDBMS\n",
    "        * MySQL\n",
    "        * SQL Server\n",
    "        * Oracle\n",
    "        \n",
    "#### Hadoop and HBase\n",
    "* Hadoop uses an alternative file system, which is HDFS\n",
    "* HBase is a NoSQL database (wide columnstore: a database that consists of a key and then one to N number of values; the width of the column varies dependent on the amount of information that's inserted)\n",
    "\n",
    "#### CAP Theory\n",
    "* **Consistency**: There are certain database solutions that allow for very high data consistency\n",
    "    * Transactions\n",
    "* **Availability**: have the ability to make copies of the data so that if one copy goes down in one location, your data will still be available for some or all of your users\n",
    "    * Up-time\n",
    "* **Partitioning**: split you set of data across multiple processing locations so that you can continue to grow the amount of data that you work with\n",
    "    * Scalability\n",
    "    \n",
    "* **What the CAP theory says is that you can really only have 2 of the 3 aspects of CAP theory.**\n",
    "    * This is where Hadoop comes in\n",
    "    * The data that's becoming available for businesses and other companies is growing larger and larger so partitioning, and the complexities around partitioning and the expense is causing companies to look at database solutions that support that aspect.\n",
    "\n",
    "* Number 1 user of Hadoop is Yahoo and number 2 is Facebook\n",
    "\n",
    "* Hadoop is not a replacement for a relational database, it is a supplement (for the partitioning aspect of the Cap Theory)"
   ]
  },
  {
   "cell_type": "code",
   "execution_count": null,
   "id": "92a2e4f3",
   "metadata": {},
   "outputs": [],
   "source": []
  },
  {
   "cell_type": "code",
   "execution_count": null,
   "id": "7dc33eb4",
   "metadata": {},
   "outputs": [],
   "source": []
  },
  {
   "cell_type": "code",
   "execution_count": null,
   "id": "e329dc21",
   "metadata": {},
   "outputs": [],
   "source": []
  },
  {
   "cell_type": "code",
   "execution_count": null,
   "id": "b036cab3",
   "metadata": {},
   "outputs": [],
   "source": []
  },
  {
   "cell_type": "code",
   "execution_count": null,
   "id": "2ded2c70",
   "metadata": {},
   "outputs": [],
   "source": []
  },
  {
   "cell_type": "code",
   "execution_count": null,
   "id": "00ee25f7",
   "metadata": {},
   "outputs": [],
   "source": []
  },
  {
   "cell_type": "code",
   "execution_count": null,
   "id": "d8e259ce",
   "metadata": {},
   "outputs": [],
   "source": []
  },
  {
   "cell_type": "code",
   "execution_count": null,
   "id": "6e924bd2",
   "metadata": {},
   "outputs": [],
   "source": []
  },
  {
   "cell_type": "code",
   "execution_count": null,
   "id": "3016eaf4",
   "metadata": {},
   "outputs": [],
   "source": []
  },
  {
   "cell_type": "code",
   "execution_count": null,
   "id": "ac0a8e4a",
   "metadata": {},
   "outputs": [],
   "source": []
  },
  {
   "cell_type": "code",
   "execution_count": null,
   "id": "87b6969b",
   "metadata": {},
   "outputs": [],
   "source": []
  },
  {
   "cell_type": "code",
   "execution_count": null,
   "id": "9cc25313",
   "metadata": {},
   "outputs": [],
   "source": []
  },
  {
   "cell_type": "code",
   "execution_count": null,
   "id": "ed4736cf",
   "metadata": {},
   "outputs": [],
   "source": []
  },
  {
   "cell_type": "code",
   "execution_count": null,
   "id": "92ee7d09",
   "metadata": {},
   "outputs": [],
   "source": []
  }
 ],
 "metadata": {
  "kernelspec": {
   "display_name": "Python 3",
   "language": "python",
   "name": "python3"
  },
  "language_info": {
   "codemirror_mode": {
    "name": "ipython",
    "version": 3
   },
   "file_extension": ".py",
   "mimetype": "text/x-python",
   "name": "python",
   "nbconvert_exporter": "python",
   "pygments_lexer": "ipython3",
   "version": "3.8.8"
  }
 },
 "nbformat": 4,
 "nbformat_minor": 5
}
