{
 "cells": [
  {
   "cell_type": "markdown",
   "id": "34e06712",
   "metadata": {},
   "source": [
    "# Preprocessing for Machine Learning"
   ]
  },
  {
   "cell_type": "markdown",
   "id": "a8c9c92e",
   "metadata": {},
   "source": [
    "#### Preprocessing data for machine learning\n",
    "* What is data preprocessing?\n",
    "    * Beyond cleaning and exploratory data analysis\n",
    "    * Prepping data for modeling\n",
    "    * Modeling in Python requires numerical input\n",
    "        * So if your dataset has categorical variables, you'll need to transform them.\n",
    "    * Data preprocessing is a prerequisite to modeling.\n",
    "\n",
    "* One of the first steps you can take to preprocess your data is to remove missing data\n",
    "* Drop specific rows by passing index labels to the drop function, which defaults to dropping rows \n",
    "* Usually you'll want to focus on dropping a particular column, especially if all or most of its values are missing\n",
    "    * `df.drop(\"A\", axis=1)`\n",
    "\n",
    "* drop rows where data is missing in a particular column:\n",
    "    * do this with the help of boolean indexing, which is a way to filter a dataframe based on certain values\n",
    "    * `df[df[\"B\"] == 7])`\n",
    "    \n",
    "```\n",
    "df[\"B\"].isnull().sum())\n",
    "df[df[\"B\"].notnull()])"
   ]
  },
  {
   "cell_type": "code",
   "execution_count": null,
   "id": "45b141aa",
   "metadata": {},
   "outputs": [],
   "source": []
  },
  {
   "cell_type": "code",
   "execution_count": null,
   "id": "8efc3e48",
   "metadata": {},
   "outputs": [],
   "source": []
  },
  {
   "cell_type": "code",
   "execution_count": null,
   "id": "85578c40",
   "metadata": {},
   "outputs": [],
   "source": []
  },
  {
   "cell_type": "code",
   "execution_count": null,
   "id": "65447900",
   "metadata": {},
   "outputs": [],
   "source": []
  },
  {
   "cell_type": "code",
   "execution_count": null,
   "id": "acf67cd3",
   "metadata": {},
   "outputs": [],
   "source": []
  },
  {
   "cell_type": "code",
   "execution_count": null,
   "id": "4f6121f6",
   "metadata": {},
   "outputs": [],
   "source": []
  },
  {
   "cell_type": "code",
   "execution_count": null,
   "id": "9bb405c4",
   "metadata": {},
   "outputs": [],
   "source": []
  },
  {
   "cell_type": "code",
   "execution_count": null,
   "id": "07f18b14",
   "metadata": {},
   "outputs": [],
   "source": []
  },
  {
   "cell_type": "code",
   "execution_count": null,
   "id": "a710ae6d",
   "metadata": {},
   "outputs": [],
   "source": []
  }
 ],
 "metadata": {
  "kernelspec": {
   "display_name": "Python 3",
   "language": "python",
   "name": "python3"
  },
  "language_info": {
   "codemirror_mode": {
    "name": "ipython",
    "version": 3
   },
   "file_extension": ".py",
   "mimetype": "text/x-python",
   "name": "python",
   "nbconvert_exporter": "python",
   "pygments_lexer": "ipython3",
   "version": "3.8.8"
  }
 },
 "nbformat": 4,
 "nbformat_minor": 5
}
