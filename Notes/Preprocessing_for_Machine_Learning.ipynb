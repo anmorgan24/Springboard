{
 "cells": [
  {
   "cell_type": "markdown",
   "id": "10af594d",
   "metadata": {},
   "source": [
    "# Preprocessing for Machine Learning"
   ]
  },
  {
   "cell_type": "markdown",
   "id": "8134daba",
   "metadata": {},
   "source": [
    "#### Preprocessing data for machine learning\n",
    "* What is data preprocessing?\n",
    "    * Beyond cleaning and exploratory data analysis\n",
    "    * Prepping data for modeling\n",
    "    * Modeling in Python requires numerical input\n",
    "        * So if your dataset has categorical variables, you'll need to transform them.\n",
    "    * Data preprocessing is a prerequisite to modeling.\n",
    "\n",
    "* One of the first steps you can take to preprocess your data is to remove missing data\n",
    "* Drop specific rows by passing index labels to the drop function, which defaults to dropping rows \n",
    "* Usually you'll want to focus on dropping a particular column, especially if all or most of its values are missing\n",
    "    * `df.drop(\"A\", axis=1)`\n",
    "\n",
    "* drop rows where data is missing in a particular column:\n",
    "    * do this with the help of boolean indexing, which is a way to filter a dataframe based on certain values\n",
    "    * `df[df[\"B\"] == 7])`\n",
    "    \n",
    "```\n",
    "df[\"B\"].isnull().sum())\n",
    "df[df[\"B\"].notnull()])\n",
    "```\n",
    "\n",
    "* To remove rows with **at least 3 missing values**:\n",
    "    * `volunteer2 = volunteer.dropna(axis=1, thresh=3)`"
   ]
  },
  {
   "cell_type": "markdown",
   "id": "c35a8fe6",
   "metadata": {},
   "source": [
    "#### Working with Data Types\n",
    "* Why are types important?\n",
    "    * Recall that you can check the types of a dataframe by using the `.dtypes` attribute\n",
    "* Pandas datatypes are similar to native python types, but there are a couple of things to be aware of.\n",
    "    * The `object` type is what pandas uses to refer to a column that consists of string values or is of mixed types.\n",
    "* Converting column types:\n",
    "    * `df.dtypes`\n",
    "    * `df[\"C\"] = df[\"C\"].astype(\"float\")`"
   ]
  },
  {
   "cell_type": "markdown",
   "id": "d3a27d56",
   "metadata": {},
   "source": [
    "#### Training and Test Sets\n",
    "* We split our data into training and test sets to avoid the issue of overfitting\n",
    "* Holding out a test set allows us to preserve some data the model hasn't seen yet. \n",
    "* In many scenarios, the default splitting parameters of `train_test_split()` will work well. However, if your labels have an uneven distribution, your test and training sets might not be representative samples of your dataset and could bias the model you're trying to train.\n",
    "* A good technique for sampling more accurately when you have imbalanced classes is **stratified sampling.**\n",
    "* **Stratified sampling** is a way of sampling that takes into account the distribution of classes or features in your dataset\n",
    "* We want the distribution of our training and testing samples to be on par with the distribution of the classes in the original dataset\n",
    "\n",
    "#### Stratified sampling\n",
    "* There's a really easy way to stratify samples of *classification* variables in train_test_split function:\n",
    "    * `X_train, X_test, y_train, y_test = train_test_split(X, y, stratify=y)`\n",
    "\n",
    "\n"
   ]
  },
  {
   "cell_type": "code",
   "execution_count": null,
   "id": "29f77054",
   "metadata": {},
   "outputs": [],
   "source": []
  },
  {
   "cell_type": "code",
   "execution_count": null,
   "id": "9328b0fe",
   "metadata": {},
   "outputs": [],
   "source": []
  },
  {
   "cell_type": "code",
   "execution_count": null,
   "id": "28d1204e",
   "metadata": {},
   "outputs": [],
   "source": []
  },
  {
   "cell_type": "code",
   "execution_count": null,
   "id": "cb703d26",
   "metadata": {},
   "outputs": [],
   "source": []
  },
  {
   "cell_type": "code",
   "execution_count": null,
   "id": "2e7d46a7",
   "metadata": {},
   "outputs": [],
   "source": []
  },
  {
   "cell_type": "code",
   "execution_count": null,
   "id": "85e0e5af",
   "metadata": {},
   "outputs": [],
   "source": []
  },
  {
   "cell_type": "code",
   "execution_count": null,
   "id": "43a525f1",
   "metadata": {},
   "outputs": [],
   "source": []
  }
 ],
 "metadata": {
  "kernelspec": {
   "display_name": "Python 3",
   "language": "python",
   "name": "python3"
  },
  "language_info": {
   "codemirror_mode": {
    "name": "ipython",
    "version": 3
   },
   "file_extension": ".py",
   "mimetype": "text/x-python",
   "name": "python",
   "nbconvert_exporter": "python",
   "pygments_lexer": "ipython3",
   "version": "3.8.8"
  }
 },
 "nbformat": 4,
 "nbformat_minor": 5
}
