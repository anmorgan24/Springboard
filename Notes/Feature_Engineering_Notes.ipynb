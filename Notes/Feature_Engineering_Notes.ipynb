{
 "cells": [
  {
   "cell_type": "markdown",
   "id": "d03c4017",
   "metadata": {},
   "source": [
    "# Feature Engineering"
   ]
  },
  {
   "cell_type": "markdown",
   "id": "4368db22",
   "metadata": {},
   "source": [
    "#### Categorical, Text, and Image Features\n",
    "* Data scientists regularly work with categorical, text, and image data. However, to execute machine learning algorithms on these data types, it's necessary to perform transformations first. \n",
    "* Categorical data, such as the neighborhood in which a property is located, does not always work well with the machine learning algorithm you're most interested in using. \n",
    "* Linear regression, for example, requires numerical inputs.\n",
    "* Options include one-hot encoding of categorical data and text and image data feature engineering (important for processes like NLP, which has applications in social media and data mining).\n",
    "* Featuer engineering with images can be very complex: the simplest of which is just using the pixel values themselves\n",
    "* HOG: Histogram of Oriented Gradients\n",
    "\n",
    "red. You can just train your model with different encodings and see which encoding works best.\n",
    "            \n",
    "Feature Engineering understand how best to preprocess and engineer features from categorical, continuous, and unstructured data. "
   ]
  },
  {
   "cell_type": "code",
   "execution_count": null,
   "id": "b0d46eac",
   "metadata": {},
   "outputs": [],
   "source": []
  },
  {
   "cell_type": "code",
   "execution_count": null,
   "id": "693d2dfc",
   "metadata": {},
   "outputs": [],
   "source": []
  },
  {
   "cell_type": "code",
   "execution_count": null,
   "id": "56eabb25",
   "metadata": {},
   "outputs": [],
   "source": []
  },
  {
   "cell_type": "code",
   "execution_count": null,
   "id": "6fda9de8",
   "metadata": {},
   "outputs": [],
   "source": []
  },
  {
   "cell_type": "code",
   "execution_count": null,
   "id": "2b962d34",
   "metadata": {},
   "outputs": [],
   "source": []
  },
  {
   "cell_type": "code",
   "execution_count": null,
   "id": "c4a46ed2",
   "metadata": {},
   "outputs": [],
   "source": []
  }
 ],
 "metadata": {
  "kernelspec": {
   "display_name": "Python 3",
   "language": "python",
   "name": "python3"
  },
  "language_info": {
   "codemirror_mode": {
    "name": "ipython",
    "version": 3
   },
   "file_extension": ".py",
   "mimetype": "text/x-python",
   "name": "python",
   "nbconvert_exporter": "python",
   "pygments_lexer": "ipython3",
   "version": "3.8.8"
  }
 },
 "nbformat": 4,
 "nbformat_minor": 5
}
