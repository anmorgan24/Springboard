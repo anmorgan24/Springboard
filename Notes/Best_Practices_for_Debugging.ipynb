{
 "cells": [
  {
   "cell_type": "markdown",
   "id": "70876477",
   "metadata": {},
   "source": [
    "# Best Practices for Debugging"
   ]
  },
  {
   "cell_type": "markdown",
   "id": "859de5b3",
   "metadata": {},
   "source": [
    "* One of the most basic and over-used debugging techniques: `print()` $\\Leftarrow$ guilty as charged\n",
    "* \"Using `print` for debugging is like shooting holes in a building to see if a fire is inside.\"\n",
    "\n",
    "#### Some basic debugging methods:\n",
    "1) Read error message\n",
    "\n",
    "2) `print()`\n",
    "\n",
    "3) Make a hypothesis: \n",
    "   * When you know the expected results\n",
    "   * When you have some reproducible way of checking whether your program executes correctly\n",
    "   * Test/check could be manual or automatic\n",
    "   * **Important:** Keep some sort of notes to describe what the problem actually is\n",
    "\n",
    "4) Talk to someone (rubber duck debugging)\n",
    "\n",
    "5) Clean up code \n",
    "   * Easier to spot bugs\n",
    "    \n",
    "6) Assert statements\n",
    "\n",
    "7) Interactive debugger(s)\n",
    "   * `pdb`\n",
    "   * `ipdb`"
   ]
  },
  {
   "cell_type": "markdown",
   "id": "0a5f8920",
   "metadata": {},
   "source": [
    "### `pdb`\n",
    "* Start pdb by inserting `import pdb; pbd.set_trace()` into code.py; run in command line and a `pbd` session will automatically be created\n",
    "\n",
    "\n",
    "\n",
    "* `l` : we see a portion of the program/code plus a small error that tells us where we are at this very moment; the arrow points to the line that would be executed next\n",
    "\n",
    "* `n` : for next; executes the next line; in this way we can execute our program line by line\n",
    "\n",
    "* `s` : cousin of `n`\n",
    "\n",
    "* `dir()` : see what does our namespace consist of? Which variables do I have?\n",
    "\n",
    "* `locals()` : give me all the local variables\n",
    "\n",
    "* `b` : set a break point; a **break point** means we want the program to run until a specified point in the code and then the program stops. For example: `b 68` places a break point at line 68 (inclusive)\n",
    "\n",
    "* `c` : continue; continue the program until it either ends or you reach a break point\n",
    "\n",
    "* `q` : quit\n",
    "\n",
    "* `b <line#>, cond` : conditional break points; for example: `b 69, length != sum(aa_counts)` $\\Leftarrow$ this break point will only be applied if the condition evaluates as true.\n",
    "\n",
    "\n",
    "* In example, `X` indicates missing data, equivalent to `NaN`"
   ]
  },
  {
   "cell_type": "markdown",
   "id": "d9e3c6ab",
   "metadata": {},
   "source": [
    "#### Linters\n",
    "* `pylint`\n",
    "* `pyflakes`\n",
    "* points out syntax errors, other potential errors, style issues, unused variables, variables initialized more than once...\n",
    "* Linters can be quite useful in preventing bugs from happening\n",
    "* Anaconda and PyCharm have linters already built in (pep8 issues get highlighted)"
   ]
  },
  {
   "cell_type": "markdown",
   "id": "5ae94553",
   "metadata": {},
   "source": [
    "#### Restart kernel/ container\n",
    "* Anaconda\n",
    "* jupyter\n",
    "* Docker\n",
    "* Delta debugging\n",
    "\n",
    "#### Bisection strategy\n",
    "\n",
    "#### Logging\n",
    "* We write our program in such a way that it produces some metainformation that accompanies the output\n",
    "* In addition to our primary output file, we generate some second file that allows us to see what the program is doing\n",
    "* Logging in Python is super easy to use:\n",
    "    * `import logging`\n",
    "    * `import sys`\n",
    "    * `logging.basicConfig(filename='debug.log', level=logging.WARNING)`\n",
    "* You can even build a search engine on your logs if they get big enough\n",
    "\n",
    "* **Log verbosity levels:**\n",
    "    * INFO (1): most verbose; you will see everything in your log\n",
    "    * DEBUG (2)\n",
    "    * WARNING (3)\n",
    "    * ERROR (4)\n",
    "    * CRITICAL (5)"
   ]
  },
  {
   "cell_type": "markdown",
   "id": "52e8d4ac",
   "metadata": {},
   "source": [
    "#### Summary: What we know about debugging\n",
    "* Error messages in Python are not always helpful\n",
    "* SyntaxErrors are when Python does not do anything\n",
    "* Some errors cause a program to stop with an Exception\n",
    "* Read error messages from bottom to top\n",
    "* Semantic errors: the program does not do the right thing\n",
    "* Errors are distinct from the underlying defects\n",
    "* Defects propagate through the prrogram"
   ]
  }
 ],
 "metadata": {
  "kernelspec": {
   "display_name": "Python 3",
   "language": "python",
   "name": "python3"
  },
  "language_info": {
   "codemirror_mode": {
    "name": "ipython",
    "version": 3
   },
   "file_extension": ".py",
   "mimetype": "text/x-python",
   "name": "python",
   "nbconvert_exporter": "python",
   "pygments_lexer": "ipython3",
   "version": "3.8.8"
  }
 },
 "nbformat": 4,
 "nbformat_minor": 5
}
