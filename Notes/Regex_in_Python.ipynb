{
 "cells": [
  {
   "cell_type": "markdown",
   "id": "4ba48253",
   "metadata": {},
   "source": [
    "Note: This notebook was created alongside DataCamp's course of the same name\n",
    "\n",
    "# Regular Expressions in Python\n",
    "As a data scientist, you will encounter many situations where you will need to extract key information from huge corpora of text, clean messy data containing strings, or detect and match patterns to find useful words. All of these situations are part of text mining and are an important step before applying machine learning algorithms. This course will take you through understanding compelling concepts about string manipulation and regular expressions. You will learn how to split strings, join them back together, interpolate them, as well as detect, extract, replace, and match strings using regular expressions. On the journey to master these skills, you will work with datasets containing movie reviews or streamed tweets that can be used to determine opinion, as well as with raw text scraped from the web.\n",
    "\n",
    "**Instructor:** Maria Eugenia Inzaugarat, PhD in Data Science"
   ]
  },
  {
   "cell_type": "markdown",
   "id": "17238837",
   "metadata": {},
   "source": [
    "# $\\star$ Chapter 1: Basic Concepts of String Manipulation\n",
    "Start your journey into the regular expression world! From slicing and concatenating, adjusting the case, removing spaces, to finding and replacing strings. You will learn how to master basic operation for string manipulation using a movie review dataset."
   ]
  },
  {
   "cell_type": "markdown",
   "id": "fbba1e78",
   "metadata": {},
   "source": [
    "### Introduction to string manipulation\n",
    "\n",
    "#### Why regex is important\n",
    "* Clean dataset to prepare it for text mining or sentiment analyis\n",
    "* Process email content to feed a machine learning algorithm that decides whether an email is spam\n",
    "* Parse and extract specific data from a website to build a database\n",
    "* Learning to manipulate strings and master regular expressions will allow you to perform these tasks faster and more efficiently\n",
    "\n",
    "#### String functions\n",
    "* **`str()`** returns the string representation of an object as seen in the code\n",
    "* len()\n",
    "\n",
    "#### Concatenation\n",
    "* Concatenate: `+` operator\n",
    "* Applying the plus operand to \"sum up\" both strings (specifying also the space in between), generates the output seen below:"
   ]
  },
  {
   "cell_type": "code",
   "execution_count": 1,
   "id": "8a3f4043",
   "metadata": {},
   "outputs": [
    {
     "name": "stdout",
     "output_type": "stream",
     "text": [
      "Awesome day for biking\n"
     ]
    }
   ],
   "source": [
    "my_string1 = \"Awesome day\"\n",
    "my_string2 = \"for biking\"\n",
    "print(my_string1+\" \"+my_string2)"
   ]
  },
  {
   "cell_type": "markdown",
   "id": "6f0a9bc0",
   "metadata": {},
   "source": [
    "#### Indexing\n",
    "* Individual characters of a string can be accessed directly using an index\n",
    "* **String slicing also accepts a third index: STRIDE**\n",
    "* `string[beginning : end, stride]`\n",
    "    * Stride specifies how many characters to omit before retrieving a character\n",
    "    \n",
    "<img src='data/string1.png' width=\"300\" height=\"150\" align=\"center\"/>"
   ]
  },
  {
   "cell_type": "code",
   "execution_count": 3,
   "id": "22d432bc",
   "metadata": {},
   "outputs": [
    {
     "name": "stdout",
     "output_type": "stream",
     "text": [
      "M TI\n"
     ]
    }
   ],
   "source": [
    "my_string = 'MY STRING'\n",
    "print(my_string[0:-1:2])"
   ]
  },
  {
   "cell_type": "code",
   "execution_count": 4,
   "id": "f85fb563",
   "metadata": {},
   "outputs": [
    {
     "name": "stdout",
     "output_type": "stream",
     "text": [
      "MSI\n"
     ]
    }
   ],
   "source": [
    "my_string = 'MY STRING'\n",
    "print(my_string[0:-1:3])"
   ]
  },
  {
   "cell_type": "markdown",
   "id": "c319bfee",
   "metadata": {},
   "source": [
    "* Interestingly, **omitting the first and second indices, and designating a `-1` step for stride, returns a reversed string** as shown below:"
   ]
  },
  {
   "cell_type": "code",
   "execution_count": 5,
   "id": "7f765944",
   "metadata": {},
   "outputs": [
    {
     "name": "stdout",
     "output_type": "stream",
     "text": [
      "GNIRTS YM\n"
     ]
    }
   ],
   "source": [
    "print(my_string[::-1])"
   ]
  },
  {
   "cell_type": "code",
   "execution_count": 6,
   "id": "dd7c5efc",
   "metadata": {},
   "outputs": [
    {
     "name": "stdout",
     "output_type": "stream",
     "text": [
      "GIT M\n"
     ]
    }
   ],
   "source": [
    "print(my_string[::-2])"
   ]
  },
  {
   "cell_type": "markdown",
   "id": "0c256da9",
   "metadata": {},
   "source": [
    "### String operations\n",
    "* **`.lower()`** : converts all alphabetic characters to lowercase\n",
    "* **`.upper()`** : converts all alphabetic characters to uppercase\n",
    "* **`.capitalize()`** : returns a copy of the string with the first letter capitalized (while keeping all other characters in lowercase)\n",
    "\n",
    "### Splitting\n",
    "* `my_string = \"This string will be split\"`\n",
    "* Splitting a string into a list of substrings:\n",
    "    * Both take a separating element by which we are splitting the string and a maxsplit that tells us the maximum number of substrings we want\n",
    "    * The difference between the two following methods is that `split` starts splitting at the left, while `rsplit` starts splitting from the right\n",
    "    * If `maxsplit` is not specified, both methods behave in the same way\n",
    "    * Default `sep` is whitespace (or `\" \"`); for this separator, you don't need to specify the argument\n",
    "* **`.split()`**\n",
    "    * `my_string.split(sep=\" \", maxsplit=2)`\n",
    "\n",
    "* **`.rsplit()`**\n",
    "    * `my_string.rsplit(sep=\" \", maxsplit=2)`"
   ]
  },
  {
   "cell_type": "code",
   "execution_count": 7,
   "id": "79b7d28f",
   "metadata": {},
   "outputs": [],
   "source": [
    "my_string = \"This string will be split\""
   ]
  },
  {
   "cell_type": "code",
   "execution_count": 8,
   "id": "f3fed799",
   "metadata": {},
   "outputs": [
    {
     "data": {
      "text/plain": [
       "['This', 'string', 'will be split']"
      ]
     },
     "execution_count": 8,
     "metadata": {},
     "output_type": "execute_result"
    }
   ],
   "source": [
    "my_string.split(sep=\" \", maxsplit=2)"
   ]
  },
  {
   "cell_type": "code",
   "execution_count": 9,
   "id": "675e2bc4",
   "metadata": {},
   "outputs": [
    {
     "data": {
      "text/plain": [
       "['This string will', 'be', 'split']"
      ]
     },
     "execution_count": 9,
     "metadata": {},
     "output_type": "execute_result"
    }
   ],
   "source": [
    "my_string.rsplit(sep=\" \", maxsplit=2)"
   ]
  },
  {
   "cell_type": "markdown",
   "id": "44ab22d2",
   "metadata": {},
   "source": [
    "### Escape sequences\n",
    "* There are some **escape sequences** such as `\\n` or `\\r` that indicates a line boundary\n",
    "\n",
    "<img src='data/escape_sequences.png' width=\"200\" height=\"100\" align=\"center\"/>"
   ]
  },
  {
   "cell_type": "code",
   "execution_count": 11,
   "id": "3c274910",
   "metadata": {},
   "outputs": [
    {
     "name": "stdout",
     "output_type": "stream",
     "text": [
      "This string will be split\n",
      "in two\n"
     ]
    }
   ],
   "source": [
    "my_string_n = \"This string will be split\\nin two\"\n",
    "print(my_string_n)"
   ]
  },
  {
   "cell_type": "code",
   "execution_count": 12,
   "id": "8c61d7b3",
   "metadata": {},
   "outputs": [
    {
     "name": "stdout",
     "output_type": "stream",
     "text": [
      "This string will be split\r",
      "in two\n"
     ]
    }
   ],
   "source": [
    "my_string_r = \"This string will be split\\rin two\"\n",
    "print(my_string_r)"
   ]
  },
  {
   "cell_type": "markdown",
   "id": "2ec3e258",
   "metadata": {},
   "source": [
    "* Python method **`splitlines()`** for **breaking at line boundaries**:"
   ]
  },
  {
   "cell_type": "code",
   "execution_count": 14,
   "id": "19635539",
   "metadata": {},
   "outputs": [
    {
     "data": {
      "text/plain": [
       "['This string will be split', 'in two']"
      ]
     },
     "execution_count": 14,
     "metadata": {},
     "output_type": "execute_result"
    }
   ],
   "source": [
    "my_string_n.splitlines()"
   ]
  },
  {
   "cell_type": "markdown",
   "id": "eae44801",
   "metadata": {},
   "source": [
    "* As you can se, the string is split at the `\\n` sequence, returning a list of two elements\n",
    "\n",
    "#### Joining\n",
    "* Some methods can paste or concatenate together the objects in a list or other iterable data\n",
    "* Concatenate strings from list or another iterable\n",
    "    * `sep.join(iterable)`\n",
    "    * **Syntax:** \n",
    "        * First takes the separating element (`\" \"` or `\"_\"`, for example)\n",
    "        * Inside the call, we specify the list or iterable element     \n",
    "        * The result is a single string containing all the objects in the list separated by whitespace"
   ]
  },
  {
   "cell_type": "code",
   "execution_count": 15,
   "id": "4a607ccd",
   "metadata": {},
   "outputs": [
    {
     "name": "stdout",
     "output_type": "stream",
     "text": [
      "this would be a string\n"
     ]
    }
   ],
   "source": [
    "my_list = [\"this\", \"would\", \"be\", \"a\", \"string\"]\n",
    "print(\" \".join(my_list))"
   ]
  },
  {
   "cell_type": "markdown",
   "id": "a56453c4",
   "metadata": {},
   "source": [
    "### Stripping characters\n",
    "* Methods that will trim characters from a string\n",
    "* Strips characters from left to right: `.strip()`\n",
    "    * removes both leading and trailing characters\n",
    "    * Inside the call, we specify a character to be stripped\n",
    "    * Default is whitespace"
   ]
  },
  {
   "cell_type": "code",
   "execution_count": 16,
   "id": "77723975",
   "metadata": {},
   "outputs": [],
   "source": [
    "my_string = \" This string will be stripped \""
   ]
  },
  {
   "cell_type": "code",
   "execution_count": 17,
   "id": "ab5b0568",
   "metadata": {},
   "outputs": [
    {
     "data": {
      "text/plain": [
       "'This string will be stripped'"
      ]
     },
     "execution_count": 17,
     "metadata": {},
     "output_type": "execute_result"
    }
   ],
   "source": [
    "my_string.strip()"
   ]
  },
  {
   "cell_type": "code",
   "execution_count": 18,
   "id": "2634dd08",
   "metadata": {},
   "outputs": [
    {
     "data": {
      "text/plain": [
       "'This string will be stripped'"
      ]
     },
     "execution_count": 18,
     "metadata": {},
     "output_type": "execute_result"
    }
   ],
   "source": [
    "my_string2 = \" This string will be stripped\\n\"\n",
    "my_string2.strip()"
   ]
  },
  {
   "cell_type": "markdown",
   "id": "02a23687",
   "metadata": {},
   "source": [
    "* **Notice that both leading and trailing whitespace, as well as the trailing escape sequence, were removed.**\n",
    "* We can also apply `.rsplit()` and it will return a string where the trailing whitespaces and/or trailing escape sequence is removed"
   ]
  },
  {
   "cell_type": "code",
   "execution_count": 23,
   "id": "51991c2a",
   "metadata": {},
   "outputs": [
    {
     "data": {
      "text/plain": [
       "' This string will be stripped'"
      ]
     },
     "execution_count": 23,
     "metadata": {},
     "output_type": "execute_result"
    }
   ],
   "source": [
    "my_string.rstrip()"
   ]
  },
  {
   "cell_type": "code",
   "execution_count": 20,
   "id": "72d9d171",
   "metadata": {},
   "outputs": [
    {
     "data": {
      "text/plain": [
       "' This string will be stripped'"
      ]
     },
     "execution_count": 20,
     "metadata": {},
     "output_type": "execute_result"
    }
   ],
   "source": [
    "my_string2.rstrip()"
   ]
  },
  {
   "cell_type": "markdown",
   "id": "d8f6f168",
   "metadata": {},
   "source": [
    "* **If we apply the `.lstrip()` method, we'll get a string with the *leading* whitespace eliminated**\n",
    "\n",
    "### Finding and replacing\n",
    "* Python has several built-in methods that will help you search a target strig for a specified substring:\n",
    "\n",
    "#### `.find()`\n",
    "* The `find()` method returns the lowest index in the string where it can find the substring (and then stops \"searching\")\n",
    "* If the substring is **not** found, `-1` is returned\n",
    "\n",
    "<img src='data/string2.png' width=\"600\" height=\"300\" align=\"center\"/>"
   ]
  },
  {
   "cell_type": "code",
   "execution_count": 24,
   "id": "a08d44ab",
   "metadata": {},
   "outputs": [
    {
     "data": {
      "text/plain": [
       "8"
      ]
     },
     "execution_count": 24,
     "metadata": {},
     "output_type": "execute_result"
    }
   ],
   "source": [
    "my_string = \"Where's Waldo?\"\n",
    "my_string.find(\"Waldo\")"
   ]
  },
  {
   "cell_type": "code",
   "execution_count": 25,
   "id": "c802b000",
   "metadata": {},
   "outputs": [
    {
     "data": {
      "text/plain": [
       "-1"
      ]
     },
     "execution_count": 25,
     "metadata": {},
     "output_type": "execute_result"
    }
   ],
   "source": [
    "my_string.find(\"Wenda\")"
   ]
  },
  {
   "cell_type": "code",
   "execution_count": 26,
   "id": "97e4332b",
   "metadata": {
    "scrolled": true
   },
   "outputs": [
    {
     "data": {
      "text/plain": [
       "-1"
      ]
     },
     "execution_count": 26,
     "metadata": {},
     "output_type": "execute_result"
    }
   ],
   "source": [
    "my_string.find(\"Waldo\", 0, 6)"
   ]
  },
  {
   "cell_type": "markdown",
   "id": "2fa783f2",
   "metadata": {},
   "source": [
    "* Note that substring to find must exist *completely* within the start and end indices. As shown below, it is not enough to just have *part* of the substring within the indices. "
   ]
  },
  {
   "cell_type": "code",
   "execution_count": 27,
   "id": "737e71d2",
   "metadata": {
    "scrolled": true
   },
   "outputs": [
    {
     "data": {
      "text/plain": [
       "-1"
      ]
     },
     "execution_count": 27,
     "metadata": {},
     "output_type": "execute_result"
    }
   ],
   "source": [
    "my_string.find(\"Waldo\", 6, 11)"
   ]
  },
  {
   "cell_type": "markdown",
   "id": "6cf323ef",
   "metadata": {},
   "source": [
    "#### The `.index()` method\n",
    "* Similar to `.find()`, searches target string for a specified substring\n",
    "* *However*, if we search for a substring that does not exist (within the indices provided), instead of returning `-1`, a `ValueError` will be raised"
   ]
  },
  {
   "cell_type": "code",
   "execution_count": 28,
   "id": "35651742",
   "metadata": {},
   "outputs": [
    {
     "data": {
      "text/plain": [
       "8"
      ]
     },
     "execution_count": 28,
     "metadata": {},
     "output_type": "execute_result"
    }
   ],
   "source": [
    "my_string.index(\"Waldo\")"
   ]
  },
  {
   "cell_type": "markdown",
   "id": "75008fcf",
   "metadata": {},
   "source": [
    "<img src='data/string3.png' width=\"600\" height=\"300\" align=\"center\"/>"
   ]
  },
  {
   "cell_type": "markdown",
   "id": "c7a364f9",
   "metadata": {},
   "source": [
    "* We can handle this error using a `try ` / `except` block"
   ]
  },
  {
   "cell_type": "code",
   "execution_count": 31,
   "id": "fbbc8d53",
   "metadata": {},
   "outputs": [
    {
     "name": "stdout",
     "output_type": "stream",
     "text": [
      "Not found\n"
     ]
    }
   ],
   "source": [
    "try:\n",
    "    my_string.index(\"Wenda\")\n",
    "except ValueError:\n",
    "    print(\"Not found\")    "
   ]
  },
  {
   "cell_type": "code",
   "execution_count": 32,
   "id": "0528f4a5",
   "metadata": {},
   "outputs": [
    {
     "name": "stdout",
     "output_type": "stream",
     "text": [
      "Not found\n"
     ]
    }
   ],
   "source": [
    "try:\n",
    "    my_string.index(\"Wenda\")\n",
    "except:\n",
    "    print(\"Not found\")    "
   ]
  },
  {
   "cell_type": "markdown",
   "id": "10dd4aa6",
   "metadata": {},
   "source": [
    "#### Counting occurences\n",
    "* The **`.count()`** method searches for a specified substring in the target string\n",
    "* It **returns the number of non-overlapping occurrences**; in other words, how many times the substring is present in the string\n",
    "\n",
    "<img src='data/string4.png' width=\"600\" height=\"300\" align=\"center\"/>"
   ]
  },
  {
   "cell_type": "code",
   "execution_count": 34,
   "id": "9cc2c2a0",
   "metadata": {},
   "outputs": [],
   "source": [
    "my_string = \"How many fruits do you have in your fruit basket?\""
   ]
  },
  {
   "cell_type": "code",
   "execution_count": 35,
   "id": "9a80b285",
   "metadata": {},
   "outputs": [
    {
     "data": {
      "text/plain": [
       "2"
      ]
     },
     "execution_count": 35,
     "metadata": {},
     "output_type": "execute_result"
    }
   ],
   "source": [
    "my_string.count(\"fruit\")"
   ]
  },
  {
   "cell_type": "code",
   "execution_count": 36,
   "id": "bc24957f",
   "metadata": {},
   "outputs": [
    {
     "data": {
      "text/plain": [
       "1"
      ]
     },
     "execution_count": 36,
     "metadata": {},
     "output_type": "execute_result"
    }
   ],
   "source": [
    "my_string.count(\"fruit\", 0, 16)"
   ]
  },
  {
   "cell_type": "markdown",
   "id": "0e4012fe",
   "metadata": {},
   "source": [
    "#### Replacing substrings\n",
    "* Replace occurences of substring with new substring\n",
    "* **Note:** Returns a *copy* of the string (does not reassign without reassignment of variable)\n",
    "\n",
    "<img src='data/string5.png' width=\"600\" height=\"300\" align=\"center\"/>\n",
    "\n",
    "#### Exercises: Finding a substring\n",
    "\n",
    "```\n",
    "for movie in movies:\n",
    "  \t# If actor is not found between character 37 and 41 inclusive\n",
    "    # Print word not found\n",
    "    if movie.find(\"actor\", 37, 42) == -1:\n",
    "        print(\"Word not found\")\n",
    "    # Count occurrences and replace two with one\n",
    "    elif movie.count(\"actor\") == 2:  \n",
    "        print(movie.replace(\"actor actor\", \"actor\"))\n",
    "    else:\n",
    "        # Replace three occurrences with one\n",
    "        print(movie.replace(\"actor actor actor\", \"actor\"))\n",
    "```\n",
    "\n",
    "#### Exercises: Where's the word?\n",
    "\n",
    "```\n",
    "for movie in movies:\n",
    "  # Find the first occurrence of word\n",
    "  print(movie.find(\"money\", 12, 51))\n",
    "```\n",
    "\n",
    "```\n",
    "for movie in movies:\n",
    "  try:\n",
    "    # Find the first occurrence of word\n",
    "  \tprint(movie.index(\"money\", 12, 51))\n",
    "  except ValueError:\n",
    "    print(\"substring not found\")\n",
    "```\n",
    "\n",
    "#### Exercises: Replacing negations\n",
    "\n",
    "```\n",
    "# Replace negations \n",
    "movies_no_negation = movies.replace(\"isn't\", \"is\")\n",
    "\n",
    "# Replace important\n",
    "movies_antonym = movies_no_negation.replace(\"important\", \"insignificant\")\n",
    "\n",
    "# Print out\n",
    "print(movies_antonym)\n",
    "```"
   ]
  },
  {
   "cell_type": "markdown",
   "id": "c53269e5",
   "metadata": {},
   "source": [
    "# $\\star$ Chapter 2: Formatting strings\n",
    "Following your journey, you will learn the main approaches that can be used to format or interpolate strings in python using a dataset containing information scraped from the web. You will explore the advantages and disadvantages of using positional formatting, embedding expressing inside string constants, and using the Template class."
   ]
  },
  {
   "cell_type": "markdown",
   "id": "533d1c7a",
   "metadata": {},
   "source": [
    "### Positional formatting\n",
    "#### What is string formatting?\n",
    "* **String formatting** is also called **string interpolation**\n",
    "* String formatting is **the process of inserting a custome string in a predefined text.**"
   ]
  },
  {
   "cell_type": "code",
   "execution_count": 38,
   "id": "eeb8b7f1",
   "metadata": {},
   "outputs": [
    {
     "name": "stdout",
     "output_type": "stream",
     "text": [
      "String formatting is a powerful technique\n"
     ]
    }
   ],
   "source": [
    "custom_string = \"String formatting\"\n",
    "print(f\"{custom_string} is a powerful technique\")"
   ]
  },
  {
   "cell_type": "markdown",
   "id": "9fad867d",
   "metadata": {},
   "source": [
    "#### Usage:\n",
    "* Insert a title in a graph\n",
    "* Show message or error\n",
    "* Pass a statement to a function\n",
    "* Print model outputs in sentence format\n",
    "\n",
    "## Methods for formatting\n",
    "* The modern versions of Python have three main approaches to string formatting\n",
    "    * **Positional formatting**\n",
    "    * **Formatted string literals**\n",
    "    * **Template method**\n",
    "    \n",
    "### Positional formatting\n",
    "* We put placeholders, defined by a pair of curly brackets, in a text\n",
    "* We call the string `.format()` method\n",
    "* Pass the desired value into the method\n",
    "* The method replaces the placeholders using the values in order of appearance\n",
    "\n",
    "<img src='data/string6.png' width=\"600\" height=\"300\" align=\"center\"/>"
   ]
  },
  {
   "cell_type": "code",
   "execution_count": 39,
   "id": "8a5d9692",
   "metadata": {},
   "outputs": [
    {
     "name": "stdout",
     "output_type": "stream",
     "text": [
      "Machine learning provides systems with the ability to learn automatically\n"
     ]
    }
   ],
   "source": [
    "print(\"Machine learning provides {} with the ability to learn {}\".format(\"systems\", \"automatically\"))"
   ]
  },
  {
   "cell_type": "markdown",
   "id": "d2743d9e",
   "metadata": {},
   "source": [
    "* We can also use variable for both the initial string and the values passed into the method:\n",
    "\n",
    "<img src='data/string7.png' width=\"600\" height=\"300\" align=\"center\"/>"
   ]
  },
  {
   "cell_type": "code",
   "execution_count": 40,
   "id": "ff48baee",
   "metadata": {},
   "outputs": [],
   "source": [
    "my_string = \"{} rely on {} datasets\"\n",
    "method = \"Supervised algorithms\"\n",
    "condition = \"labeled\""
   ]
  },
  {
   "cell_type": "code",
   "execution_count": 41,
   "id": "4bdb3217",
   "metadata": {},
   "outputs": [
    {
     "name": "stdout",
     "output_type": "stream",
     "text": [
      "Supervised algorithms rely on labeled datasets\n"
     ]
    }
   ],
   "source": [
    "print(my_string.format(method, condition))"
   ]
  },
  {
   "cell_type": "markdown",
   "id": "505a5cba",
   "metadata": {},
   "source": [
    "### Reordering values\n",
    "* We can add index numbers into the curly braces. \n",
    "* This affects the order in which the method replaces placeholders. \n",
    "* In the example above, we left the placeholders empty. The method replaces them with the values in the given order.\n",
    "* If we add the index numbers, the replacement order changes accordingly.\n",
    "\n",
    "* Include an index number into the placeholders to reorder values "
   ]
  },
  {
   "cell_type": "code",
   "execution_count": 42,
   "id": "4fef19b1",
   "metadata": {},
   "outputs": [
    {
     "name": "stdout",
     "output_type": "stream",
     "text": [
      "Betty has a friend called Linda and a sister called Daisy\n"
     ]
    }
   ],
   "source": [
    "print(\"{} has a friend called {} and a sister called {}\".format(\"Betty\", \"Linda\", \"Daisy\"))"
   ]
  },
  {
   "cell_type": "markdown",
   "id": "2ba55594",
   "metadata": {},
   "source": [
    "* If we add the index numbers, the replacement order changes accordingly:"
   ]
  },
  {
   "cell_type": "code",
   "execution_count": 43,
   "id": "53f6053d",
   "metadata": {},
   "outputs": [
    {
     "name": "stdout",
     "output_type": "stream",
     "text": [
      "Daisy has a friend called Betty and a sister called Linda\n"
     ]
    }
   ],
   "source": [
    "print(\"{2} has a friend called {0} and a sister called {1}\".format(\"Betty\", \"Linda\", \"Daisy\"))"
   ]
  },
  {
   "cell_type": "markdown",
   "id": "a67a6fd9",
   "metadata": {},
   "source": [
    "<img src='data/string8.png' width=\"600\" height=\"300\" align=\"center\"/>\n",
    "\n",
    "### Named placeholders\n",
    "* Specify a name for the placeholders\n",
    "\n",
    "<img src='data/string9.png' width=\"600\" height=\"300\" align=\"center\"/>"
   ]
  },
  {
   "cell_type": "code",
   "execution_count": 44,
   "id": "8e9de5e2",
   "metadata": {},
   "outputs": [],
   "source": [
    "tool = \"Unsupervised algorithms\"\n",
    "goal = \"patterns\""
   ]
  },
  {
   "cell_type": "code",
   "execution_count": 45,
   "id": "06d693c3",
   "metadata": {},
   "outputs": [
    {
     "name": "stdout",
     "output_type": "stream",
     "text": [
      "Unsupervised algorithms try to find patterns in the dataset\n"
     ]
    }
   ],
   "source": [
    "print(\"{title} try to find {aim} in the dataset\".format(title=tool, aim=goal))"
   ]
  },
  {
   "cell_type": "markdown",
   "id": "855a7b9a",
   "metadata": {},
   "source": [
    "* **We can also use dictionaries for named placeholders:**\n",
    "\n",
    "<img src='data/string10.png' width=\"600\" height=\"300\" align=\"center\"/>"
   ]
  },
  {
   "cell_type": "code",
   "execution_count": 46,
   "id": "332b24af",
   "metadata": {},
   "outputs": [],
   "source": [
    "my_methods = {\"tool\": \"Unsupervised algorithms\", \"goal\": \"patterns\"}"
   ]
  },
  {
   "cell_type": "code",
   "execution_count": 47,
   "id": "2041babb",
   "metadata": {},
   "outputs": [
    {
     "name": "stdout",
     "output_type": "stream",
     "text": [
      "Unsupervised algorithms try to find patterns in the dataset.\n"
     ]
    }
   ],
   "source": [
    "print('{data[tool]} try to find {data[goal]} in the dataset.'.format(data=my_methods))"
   ]
  },
  {
   "cell_type": "markdown",
   "id": "00ccfd57",
   "metadata": {},
   "source": [
    "* **Note above that `my_methods` is assigned to `data` in the `.format()` call.**\n",
    "* Also **note** that you need to specify the index without using quotes.\n",
    "\n",
    "### Format specifiers\n",
    "* Specify data type to be used: `{index: specifier}`\n",
    "* This defines how individual values are presented \n",
    "* **One of the most common format specifiers is *float*, represented by the letter *f*.**\n",
    "* In the code below, we specify that the value passed with index 0 will be a float\n",
    "\n",
    "<img src='data/string11.png' width=\"600\" height=\"300\" align=\"center\"/>\n",
    "\n",
    "* **We could also add `.2f` to indicate that we want the float to have 2 decimals**"
   ]
  },
  {
   "cell_type": "code",
   "execution_count": null,
   "id": "6b7f390f",
   "metadata": {},
   "outputs": [],
   "source": [
    "print(\"Only {0:f}% of the {1} produced worldwide is \")"
   ]
  },
  {
   "cell_type": "markdown",
   "id": "be3ec0c0",
   "metadata": {},
   "source": [
    "### Formatting datetime"
   ]
  },
  {
   "cell_type": "code",
   "execution_count": 48,
   "id": "8c08778d",
   "metadata": {},
   "outputs": [],
   "source": [
    "from datetime import datetime"
   ]
  },
  {
   "cell_type": "code",
   "execution_count": 49,
   "id": "fd8098e1",
   "metadata": {},
   "outputs": [
    {
     "name": "stdout",
     "output_type": "stream",
     "text": [
      "2022-01-31 12:53:43.011728\n"
     ]
    }
   ],
   "source": [
    "print(datetime.now())"
   ]
  },
  {
   "cell_type": "markdown",
   "id": "cf883706",
   "metadata": {},
   "source": [
    "* You can see that the format returned above is very particular\n",
    "* We can use **format specifiers**\n",
    "\n",
    "### Formatting datetime\n",
    "\n",
    "<img src='data/string12.png' width=\"600\" height=\"300\" align=\"center\"/>"
   ]
  },
  {
   "cell_type": "code",
   "execution_count": 50,
   "id": "7b9603eb",
   "metadata": {},
   "outputs": [
    {
     "name": "stdout",
     "output_type": "stream",
     "text": [
      "Today's date is 2022-01-31 12:55\n"
     ]
    }
   ],
   "source": [
    "print(\"Today's date is {:%Y-%m-%d %H:%M}\".format(datetime.now()))"
   ]
  },
  {
   "cell_type": "markdown",
   "id": "1f3f4e27",
   "metadata": {},
   "source": [
    "#### Exercises: Put it in order!\n",
    "\n",
    "```\n",
    "# Assign the substrings to the variables\n",
    "first_pos = wikipedia_article[3:19].lower()\n",
    "second_pos = wikipedia_article[21:44].lower()\n",
    "\n",
    "# Define string with placeholders \n",
    "my_list.append(\"The tool {} is used in {}\")\n",
    "\n",
    "# Define string with rearranged placeholders\n",
    "my_list.append(\"The tool {1} is used in {0}\")\n",
    "\n",
    "# Use format to print strings\n",
    "for my_string in my_list:\n",
    "  \tprint(my_string.format(first_pos, second_pos))\n",
    "```\n",
    "\n",
    "#### Exercises: Calling by its name\n",
    "\n",
    "```\n",
    "# Create a dictionary\n",
    "plan = {\n",
    "  \t\t\"field\": courses[0],\n",
    "        \"tool\": courses[1]\n",
    "        }\n",
    "\n",
    "# Complete the placeholders accessing elements of field and tool keys in the data dictionary\n",
    "my_message = \"If you are interested in {data[field]}, you can take the course related to {data[tool]}\"\n",
    "\n",
    "# Use the plan dictionary to replace placeholders\n",
    "print(my_message.format(data=plan))\n",
    "```\n",
    "\n",
    "#### Exercises: What day is today?\n",
    "\n",
    "```\n",
    "# Import datetime \n",
    "from datetime import datetime\n",
    "\n",
    "# Assign date to get_date\n",
    "get_date = datetime.now()\n",
    "\n",
    "# Add named placeholders with format specifiers\n",
    "message = \"Good morning. Today is {today:%B %d, %Y}. It's {today:%H:%M} ... time to work!\"\n",
    "\n",
    "# Use the format method replacing the placeholder with get_date\n",
    "print(message.format(today=get_date))\n",
    "```"
   ]
  },
  {
   "cell_type": "markdown",
   "id": "9842136c",
   "metadata": {},
   "source": [
    "## Formatted string literal (f-strings)\n",
    "* Modern versions on Python introduced a new powerful string formatting: **formatted string literal** method\n",
    "* The strings defined by this method are called **f-strings**\n",
    "\n",
    "### f-strings\n",
    "* f-string have a minimal syntax\n",
    "* To define them, add prefix `f` to string\n",
    "\n",
    "<img src='data/string13.png' width=\"600\" height=\"300\" align=\"center\"/>\n",
    "\n",
    "#### Type conversion\n",
    "* f-strings allow us to convert expressions into different types\n",
    "\n",
    "<img src='data/string14.png' width=\"600\" height=\"300\" align=\"center\"/>\n",
    "\n",
    "<img src='data/string15.png' width=\"600\" height=\"300\" align=\"center\"/>"
   ]
  },
  {
   "cell_type": "code",
   "execution_count": 51,
   "id": "798e2bbc",
   "metadata": {},
   "outputs": [],
   "source": [
    "name = \"Python\""
   ]
  },
  {
   "cell_type": "code",
   "execution_count": 52,
   "id": "9105b40b",
   "metadata": {},
   "outputs": [
    {
     "name": "stdout",
     "output_type": "stream",
     "text": [
      "Python is called 'Python' due to a comedy series\n"
     ]
    }
   ],
   "source": [
    "print(f\"Python is called {name!r} due to a comedy series\")"
   ]
  },
  {
   "cell_type": "code",
   "execution_count": 53,
   "id": "b54a7bc8",
   "metadata": {},
   "outputs": [],
   "source": [
    "number = 90.41890417471841"
   ]
  },
  {
   "cell_type": "code",
   "execution_count": 55,
   "id": "baa78da2",
   "metadata": {},
   "outputs": [
    {
     "name": "stdout",
     "output_type": "stream",
     "text": [
      "In the last 2 years, 90.42% of the data was produced worldwide!\n"
     ]
    }
   ],
   "source": [
    "print(f\"In the last 2 years,{number: .2f}% of the data was produced worldwide!\")"
   ]
  },
  {
   "cell_type": "markdown",
   "id": "f9561826",
   "metadata": {},
   "source": [
    "### Format specifiers\n",
    "* We can also format `datetime`\n",
    "* We only need to insert the variable containing the datetime object, followed by a colon and the formatting we want the datetime to be in.\n",
    "\n",
    "<img src='data/string16.png' width=\"600\" height=\"300\" align=\"center\"/>\n",
    "\n",
    "### Index lookups\n",
    "* To insert the value associated with a specific key, we specify the index without quotes\n",
    "\n",
    "<img src='data/string17.png' width=\"600\" height=\"300\" align=\"center\"/>"
   ]
  },
  {
   "cell_type": "code",
   "execution_count": 57,
   "id": "cfbe6b77",
   "metadata": {},
   "outputs": [],
   "source": [
    "family = {\"dad\" : \"John\", \"siblings\": \"Peter\"}"
   ]
  },
  {
   "cell_type": "code",
   "execution_count": 58,
   "id": "3b295ac7",
   "metadata": {},
   "outputs": [
    {
     "name": "stdout",
     "output_type": "stream",
     "text": [
      "Is your dad called John?\n"
     ]
    }
   ],
   "source": [
    "print(\"Is your dad called {family[dad]}?\".format(family=family))"
   ]
  },
  {
   "cell_type": "markdown",
   "id": "1cebda6f",
   "metadata": {},
   "source": [
    "* **Use quotes for index lookups: `family[\"dad\"]`**"
   ]
  },
  {
   "cell_type": "code",
   "execution_count": 59,
   "id": "18b8b5bc",
   "metadata": {},
   "outputs": [
    {
     "ename": "NameError",
     "evalue": "name 'dad' is not defined",
     "output_type": "error",
     "traceback": [
      "\u001b[0;31m---------------------------------------------------------------------------\u001b[0m",
      "\u001b[0;31mNameError\u001b[0m                                 Traceback (most recent call last)",
      "\u001b[0;32m<ipython-input-59-be2e298c33a5>\u001b[0m in \u001b[0;36m<module>\u001b[0;34m\u001b[0m\n\u001b[0;32m----> 1\u001b[0;31m \u001b[0mprint\u001b[0m\u001b[0;34m(\u001b[0m\u001b[0;34mf\"Is your dad called {family[dad]}?\"\u001b[0m\u001b[0;34m)\u001b[0m\u001b[0;34m\u001b[0m\u001b[0;34m\u001b[0m\u001b[0m\n\u001b[0m",
      "\u001b[0;31mNameError\u001b[0m: name 'dad' is not defined"
     ]
    }
   ],
   "source": [
    "print(f\"Is your dad called {family[dad]}?\")"
   ]
  },
  {
   "cell_type": "markdown",
   "id": "1265d31d",
   "metadata": {},
   "source": [
    "* **The error above is due to lack of quotation marks surrounding key `dad`**"
   ]
  },
  {
   "cell_type": "code",
   "execution_count": 61,
   "id": "9027b13c",
   "metadata": {},
   "outputs": [
    {
     "name": "stdout",
     "output_type": "stream",
     "text": [
      "Is your dad called John?\n"
     ]
    }
   ],
   "source": [
    "print(f'Is your dad called {family[\"dad\"]}?')"
   ]
  },
  {
   "cell_type": "code",
   "execution_count": 62,
   "id": "edd780af",
   "metadata": {},
   "outputs": [
    {
     "name": "stdout",
     "output_type": "stream",
     "text": [
      "Is your dad called John?\n"
     ]
    }
   ],
   "source": [
    "print(f\"Is your dad called {family['dad']}?\")"
   ]
  },
  {
   "cell_type": "markdown",
   "id": "1ff68c07",
   "metadata": {},
   "source": [
    "### Escape sequences\n",
    "* Escape sequences: backslashes **`\\`**"
   ]
  },
  {
   "cell_type": "code",
   "execution_count": 63,
   "id": "95311529",
   "metadata": {},
   "outputs": [
    {
     "ename": "SyntaxError",
     "evalue": "invalid syntax (<ipython-input-63-8fa3864c5339>, line 1)",
     "output_type": "error",
     "traceback": [
      "\u001b[0;36m  File \u001b[0;32m\"<ipython-input-63-8fa3864c5339>\"\u001b[0;36m, line \u001b[0;32m1\u001b[0m\n\u001b[0;31m    print(\"My dad is called \"John\"\")\u001b[0m\n\u001b[0m                             ^\u001b[0m\n\u001b[0;31mSyntaxError\u001b[0m\u001b[0;31m:\u001b[0m invalid syntax\n"
     ]
    }
   ],
   "source": [
    "print(\"My dad is called \"John\"\")"
   ]
  },
  {
   "cell_type": "markdown",
   "id": "ac125de8",
   "metadata": {},
   "source": [
    "* The above `SyntaxError` can be fixed by placing a backslash (escape sequence) before the inner quotes"
   ]
  },
  {
   "cell_type": "code",
   "execution_count": 64,
   "id": "f48eb42c",
   "metadata": {},
   "outputs": [
    {
     "name": "stdout",
     "output_type": "stream",
     "text": [
      "My dad is called \"John\"\n"
     ]
    }
   ],
   "source": [
    "print(\"My dad is called \\\"John\\\"\")"
   ]
  },
  {
   "cell_type": "markdown",
   "id": "32e9e75b",
   "metadata": {},
   "source": [
    "Or, of course:"
   ]
  },
  {
   "cell_type": "code",
   "execution_count": 65,
   "id": "b29e334c",
   "metadata": {},
   "outputs": [
    {
     "name": "stdout",
     "output_type": "stream",
     "text": [
      "My dad is called \"John\"\n"
     ]
    }
   ],
   "source": [
    "print('My dad is called \"John\"')"
   ]
  },
  {
   "cell_type": "markdown",
   "id": "6c035c7d",
   "metadata": {},
   "source": [
    "#### What does this have to do with f-strings?\n",
    "* Indexes require quotes\n",
    "* f-strings also require quotes\n",
    "* If Python finds a second quote, it understands that this is a closing matrix"
   ]
  },
  {
   "cell_type": "code",
   "execution_count": 66,
   "id": "cff8319a",
   "metadata": {},
   "outputs": [
    {
     "ename": "SyntaxError",
     "evalue": "invalid syntax (<ipython-input-66-382163316fd9>, line 1)",
     "output_type": "error",
     "traceback": [
      "\u001b[0;36m  File \u001b[0;32m\"<ipython-input-66-382163316fd9>\"\u001b[0;36m, line \u001b[0;32m1\u001b[0m\n\u001b[0;31m    print(f\"Is your dad called {family[\"dad\"]}?\")\u001b[0m\n\u001b[0m                                        ^\u001b[0m\n\u001b[0;31mSyntaxError\u001b[0m\u001b[0;31m:\u001b[0m invalid syntax\n"
     ]
    }
   ],
   "source": [
    "print(f\"Is your dad called {family[\"dad\"]}?\")"
   ]
  },
  {
   "cell_type": "code",
   "execution_count": 67,
   "id": "2a206850",
   "metadata": {},
   "outputs": [
    {
     "ename": "SyntaxError",
     "evalue": "f-string expression part cannot include a backslash (<ipython-input-67-891b946e948e>, line 1)",
     "output_type": "error",
     "traceback": [
      "\u001b[0;36m  File \u001b[0;32m\"<ipython-input-67-891b946e948e>\"\u001b[0;36m, line \u001b[0;32m1\u001b[0m\n\u001b[0;31m    print(f\"Is your dad called {family[\\\"dad\\\"]}?\")\u001b[0m\n\u001b[0m          ^\u001b[0m\n\u001b[0;31mSyntaxError\u001b[0m\u001b[0;31m:\u001b[0m f-string expression part cannot include a backslash\n"
     ]
    }
   ],
   "source": [
    "print(f\"Is your dad called {family[\\\"dad\\\"]}?\")"
   ]
  },
  {
   "cell_type": "markdown",
   "id": "e3536128",
   "metadata": {},
   "source": [
    "* However, clearly backslashes are not allowed in f-string expressions $\\Uparrow$"
   ]
  },
  {
   "cell_type": "markdown",
   "id": "bea9a7b3",
   "metadata": {},
   "source": [
    "### Inline operations\n",
    "* One of the biggest advantages of f-strings is that they allow us to perform inline operations\n",
    "* Advantage: evaluate expressions and call functions inline\n",
    "\n",
    "<img src='data/string18.png' width=\"600\" height=\"300\" align=\"center\"/>\n",
    "\n",
    "### Calling functions \n",
    "\n",
    "<img src='data/string19.png' width=\"600\" height=\"300\" align=\"center\"/>"
   ]
  },
  {
   "cell_type": "markdown",
   "id": "cbb72480",
   "metadata": {},
   "source": [
    "#### Exercises: Literally formatting\n",
    "\n",
    "```\n",
    "# Complete the f-string\n",
    "print(f\"Data science is considered {field1!r} in the {fact1}st century\")\n",
    "```\n",
    "\n",
    "```\n",
    "# Complete the f-string\n",
    "print(f\"About {fact2:e} of {field2} in the world\")\n",
    "```\n",
    "\n",
    "```\n",
    "# Complete the f-string\n",
    "print(f\"{field3} create around {fact3:.2f}% of the data but only {fact4:.1f}% is analyzed\")\n",
    "```\n",
    "\n",
    "#### Exercises: Make this function\n",
    "\n",
    "```\n",
    "# Include both variables and the result of dividing them \n",
    "print(f\"{number1} tweets were downloaded in {number2} minutes indicating a speed of {number1 / number2:.1f} tweets per min\")\n",
    "```\n",
    "\n",
    "```\n",
    "# Replace the substring https by an empty string\n",
    "print(f\"{string1.replace('https', '')}\")\n",
    "```\n",
    "\n",
    "```\n",
    "# Divide the length of list by 120 rounded to two decimals\n",
    "print(f\"Only {len(list_links)*100/120:.2f}% of the posts contain links\")\n",
    "```\n",
    "\n",
    "```\n",
    "# Access values of date and price in east dictionary\n",
    "print(f\"The price for a house in the east neighborhood was ${east['price']} in {east['date']:%m-%d-%Y}\")\n",
    "```\n",
    "\n",
    "```\n",
    "# Access values of date and price in west dictionary\n",
    "print(f\"The price for a house in the west neighborhood was ${west['price']} in {west['date']:%m-%d-%Y}.\")\n",
    "```\n"
   ]
  },
  {
   "cell_type": "code",
   "execution_count": null,
   "id": "82f85d86",
   "metadata": {},
   "outputs": [],
   "source": []
  },
  {
   "cell_type": "code",
   "execution_count": null,
   "id": "e7e3eea0",
   "metadata": {},
   "outputs": [],
   "source": []
  },
  {
   "cell_type": "code",
   "execution_count": null,
   "id": "2ae56157",
   "metadata": {},
   "outputs": [],
   "source": []
  },
  {
   "cell_type": "code",
   "execution_count": null,
   "id": "67e12ac9",
   "metadata": {},
   "outputs": [],
   "source": []
  },
  {
   "cell_type": "code",
   "execution_count": null,
   "id": "bf966d3f",
   "metadata": {},
   "outputs": [],
   "source": []
  },
  {
   "cell_type": "code",
   "execution_count": null,
   "id": "f49dec0f",
   "metadata": {},
   "outputs": [],
   "source": []
  },
  {
   "cell_type": "code",
   "execution_count": null,
   "id": "b30e5800",
   "metadata": {},
   "outputs": [],
   "source": []
  },
  {
   "cell_type": "code",
   "execution_count": null,
   "id": "aa883abe",
   "metadata": {},
   "outputs": [],
   "source": []
  },
  {
   "cell_type": "markdown",
   "id": "2418e6d7",
   "metadata": {},
   "source": [
    "<img src='data/string.png' width=\"600\" height=\"300\" align=\"center\"/>"
   ]
  }
 ],
 "metadata": {
  "kernelspec": {
   "display_name": "Python 3",
   "language": "python",
   "name": "python3"
  },
  "language_info": {
   "codemirror_mode": {
    "name": "ipython",
    "version": 3
   },
   "file_extension": ".py",
   "mimetype": "text/x-python",
   "name": "python",
   "nbconvert_exporter": "python",
   "pygments_lexer": "ipython3",
   "version": "3.8.8"
  }
 },
 "nbformat": 4,
 "nbformat_minor": 5
}
