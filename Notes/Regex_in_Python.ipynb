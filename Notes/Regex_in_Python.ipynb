{
 "cells": [
  {
   "cell_type": "markdown",
   "id": "4ba48253",
   "metadata": {},
   "source": [
    "Note: This notebook was created alongside DataCamp's course of the same name\n",
    "\n",
    "# Regular Expressions in Python\n",
    "As a data scientist, you will encounter many situations where you will need to extract key information from huge corpora of text, clean messy data containing strings, or detect and match patterns to find useful words. All of these situations are part of text mining and are an important step before applying machine learning algorithms. This course will take you through understanding compelling concepts about string manipulation and regular expressions. You will learn how to split strings, join them back together, interpolate them, as well as detect, extract, replace, and match strings using regular expressions. On the journey to master these skills, you will work with datasets containing movie reviews or streamed tweets that can be used to determine opinion, as well as with raw text scraped from the web.\n",
    "\n",
    "**Instructor:** Maria Eugenia Inzaugarat, PhD in Data Science"
   ]
  },
  {
   "cell_type": "markdown",
   "id": "a886460e",
   "metadata": {},
   "source": [
    "# $\\star$ Chapter 1: Basic Concepts of String Manipulation\n",
    "Start your journey into the regular expression world! From slicing and concatenating, adjusting the case, removing spaces, to finding and replacing strings. You will learn how to master basic operation for string manipulation using a movie review dataset."
   ]
  },
  {
   "cell_type": "markdown",
   "id": "3901ceaa",
   "metadata": {},
   "source": [
    "### Introduction to string manipulation\n",
    "\n",
    "#### Why regex is important\n",
    "* Clean dataset to prepare it for text mining or sentiment analyis\n",
    "* Process email content to feed a machine learning algorithm that decides whether an email is spam\n",
    "* Parse and extract specific data from a website to build a database\n",
    "* Learning to manipulate strings and master regular expressions will allow you to perform these tasks faster and more efficiently\n",
    "\n",
    "#### String functions\n",
    "* **`str()`** returns the string representation of an object as seen in the code\n",
    "* len()\n",
    "\n",
    "#### Concatenation\n",
    "* Concatenate: `+` operator\n",
    "* Applying the plus operand to \"sum up\" both strings (specifying also the space in between), generates the output seen below:"
   ]
  },
  {
   "cell_type": "code",
   "execution_count": 1,
   "id": "8a3f4043",
   "metadata": {},
   "outputs": [
    {
     "name": "stdout",
     "output_type": "stream",
     "text": [
      "Awesome day for biking\n"
     ]
    }
   ],
   "source": [
    "my_string1 = \"Awesome day\"\n",
    "my_string2 = \"for biking\"\n",
    "print(my_string1+\" \"+my_string2)"
   ]
  },
  {
   "cell_type": "markdown",
   "id": "fd9b4255",
   "metadata": {},
   "source": [
    "#### Indexing\n",
    "* Individual characters of a string can be accessed directly using an index\n",
    "* **String slicing also accepts a third index: STRIDE**\n",
    "* `string[beginning : end, stride]`\n",
    "    * Stride specifies how many characters to omit before retrieving a character\n",
    "    \n",
    "<img src='data/string1.png' width=\"300\" height=\"150\" align=\"center\"/>"
   ]
  },
  {
   "cell_type": "code",
   "execution_count": 3,
   "id": "4041a380",
   "metadata": {},
   "outputs": [
    {
     "name": "stdout",
     "output_type": "stream",
     "text": [
      "M TI\n"
     ]
    }
   ],
   "source": [
    "my_string = 'MY STRING'\n",
    "print(my_string[0:-1:2])"
   ]
  },
  {
   "cell_type": "code",
   "execution_count": 4,
   "id": "f85fb563",
   "metadata": {},
   "outputs": [
    {
     "name": "stdout",
     "output_type": "stream",
     "text": [
      "MSI\n"
     ]
    }
   ],
   "source": [
    "my_string = 'MY STRING'\n",
    "print(my_string[0:-1:3])"
   ]
  },
  {
   "cell_type": "markdown",
   "id": "ace0fb02",
   "metadata": {},
   "source": [
    "* Interestingly, **omitting the first and second indices, and designating a `-1` step for stride, returns a reversed string** as shown below:"
   ]
  },
  {
   "cell_type": "code",
   "execution_count": 5,
   "id": "7f765944",
   "metadata": {},
   "outputs": [
    {
     "name": "stdout",
     "output_type": "stream",
     "text": [
      "GNIRTS YM\n"
     ]
    }
   ],
   "source": [
    "print(my_string[::-1])"
   ]
  },
  {
   "cell_type": "code",
   "execution_count": 6,
   "id": "dd7c5efc",
   "metadata": {},
   "outputs": [
    {
     "name": "stdout",
     "output_type": "stream",
     "text": [
      "GIT M\n"
     ]
    }
   ],
   "source": [
    "print(my_string[::-2])"
   ]
  },
  {
   "cell_type": "markdown",
   "id": "c1f4690c",
   "metadata": {},
   "source": [
    "### String operations\n",
    "* **`.lower()`** : converts all alphabetic characters to lowercase\n",
    "* **`.upper()`** : converts all alphabetic characters to uppercase\n",
    "* **`.capitalize()`** : returns a copy of the string with the first letter capitalized (while keeping all other characters in lowercase)\n",
    "\n",
    "### Splitting\n",
    "* `my_string = \"This string will be split\"`\n",
    "* Splitting a string into a list of substrings:\n",
    "    * Both take a separating element by which we are splitting the string and a maxsplit that tells us the maximum number of substrings we want\n",
    "    * The difference between the two following methods is that `split` starts splitting at the left, while `rsplit` starts splitting from the right\n",
    "    * If `maxsplit` is not specified, both methods behave in the same way\n",
    "    * Default `sep` is whitespace (or `\" \"`); for this separator, you don't need to specify the argument\n",
    "* **`.split()`**\n",
    "    * `my_string.split(sep=\" \", maxsplit=2)`\n",
    "\n",
    "* **`.rsplit()`**\n",
    "    * `my_string.rsplit(sep=\" \", maxsplit=2)`"
   ]
  },
  {
   "cell_type": "code",
   "execution_count": 7,
   "id": "79b7d28f",
   "metadata": {},
   "outputs": [],
   "source": [
    "my_string = \"This string will be split\""
   ]
  },
  {
   "cell_type": "code",
   "execution_count": 8,
   "id": "f3fed799",
   "metadata": {},
   "outputs": [
    {
     "data": {
      "text/plain": [
       "['This', 'string', 'will be split']"
      ]
     },
     "execution_count": 8,
     "metadata": {},
     "output_type": "execute_result"
    }
   ],
   "source": [
    "my_string.split(sep=\" \", maxsplit=2)"
   ]
  },
  {
   "cell_type": "code",
   "execution_count": 9,
   "id": "675e2bc4",
   "metadata": {},
   "outputs": [
    {
     "data": {
      "text/plain": [
       "['This string will', 'be', 'split']"
      ]
     },
     "execution_count": 9,
     "metadata": {},
     "output_type": "execute_result"
    }
   ],
   "source": [
    "my_string.rsplit(sep=\" \", maxsplit=2)"
   ]
  },
  {
   "cell_type": "markdown",
   "id": "f7b0217f",
   "metadata": {},
   "source": [
    "### Escape sequences\n",
    "* There are some **escape sequences** such as `\\n` or `\\r` that indicates a line boundary\n",
    "\n",
    "<img src='data/escape_sequences.png' width=\"200\" height=\"100\" align=\"center\"/>"
   ]
  },
  {
   "cell_type": "code",
   "execution_count": 11,
   "id": "e3b09d29",
   "metadata": {},
   "outputs": [
    {
     "name": "stdout",
     "output_type": "stream",
     "text": [
      "This string will be split\n",
      "in two\n"
     ]
    }
   ],
   "source": [
    "my_string_n = \"This string will be split\\nin two\"\n",
    "print(my_string_n)"
   ]
  },
  {
   "cell_type": "code",
   "execution_count": 12,
   "id": "2b7319c0",
   "metadata": {},
   "outputs": [
    {
     "name": "stdout",
     "output_type": "stream",
     "text": [
      "This string will be split\r",
      "in two\n"
     ]
    }
   ],
   "source": [
    "my_string_r = \"This string will be split\\rin two\"\n",
    "print(my_string_r)"
   ]
  },
  {
   "cell_type": "markdown",
   "id": "37c38f5e",
   "metadata": {},
   "source": [
    "* Python method **`splitlines()`** for **breaking at line boundaries**:"
   ]
  },
  {
   "cell_type": "code",
   "execution_count": 14,
   "id": "c3418130",
   "metadata": {},
   "outputs": [
    {
     "data": {
      "text/plain": [
       "['This string will be split', 'in two']"
      ]
     },
     "execution_count": 14,
     "metadata": {},
     "output_type": "execute_result"
    }
   ],
   "source": [
    "my_string_n.splitlines()"
   ]
  },
  {
   "cell_type": "markdown",
   "id": "5df11539",
   "metadata": {},
   "source": [
    "* As you can se, the string is split at the `\\n` sequence, returning a list of two elements\n",
    "\n",
    "#### Joining\n",
    "* Some methods can paste or concatenate together the objects in a list or other iterable data\n",
    "* Concatenate strings from list or another iterable\n",
    "    * `sep.join(iterable)`\n",
    "    * **Syntax:** \n",
    "        * First takes the separating element (`\" \"` or `\"_\"`, for example)\n",
    "        * Inside the call, we specify the list or iterable element     \n",
    "        * The result is a single string containing all the objects in the list separated by whitespace"
   ]
  },
  {
   "cell_type": "code",
   "execution_count": 15,
   "id": "73c49c8d",
   "metadata": {},
   "outputs": [
    {
     "name": "stdout",
     "output_type": "stream",
     "text": [
      "this would be a string\n"
     ]
    }
   ],
   "source": [
    "my_list = [\"this\", \"would\", \"be\", \"a\", \"string\"]\n",
    "print(\" \".join(my_list))"
   ]
  },
  {
   "cell_type": "markdown",
   "id": "84e6d15c",
   "metadata": {},
   "source": [
    "### Stripping characters\n",
    "* Methods that will trim characters from a string\n",
    "* Strips characters from left to right: `.strip()`\n",
    "    * removes both leading and trailing characters\n",
    "    * Inside the call, we specify a character to be stripped\n",
    "    * Default is whitespace"
   ]
  },
  {
   "cell_type": "code",
   "execution_count": 16,
   "id": "769d3f30",
   "metadata": {},
   "outputs": [],
   "source": [
    "my_string = \" This string will be stripped \""
   ]
  },
  {
   "cell_type": "code",
   "execution_count": 17,
   "id": "409a007b",
   "metadata": {},
   "outputs": [
    {
     "data": {
      "text/plain": [
       "'This string will be stripped'"
      ]
     },
     "execution_count": 17,
     "metadata": {},
     "output_type": "execute_result"
    }
   ],
   "source": [
    "my_string.strip()"
   ]
  },
  {
   "cell_type": "code",
   "execution_count": 18,
   "id": "e6ee5973",
   "metadata": {},
   "outputs": [
    {
     "data": {
      "text/plain": [
       "'This string will be stripped'"
      ]
     },
     "execution_count": 18,
     "metadata": {},
     "output_type": "execute_result"
    }
   ],
   "source": [
    "my_string2 = \" This string will be stripped\\n\"\n",
    "my_string2.strip()"
   ]
  },
  {
   "cell_type": "markdown",
   "id": "2e11c73d",
   "metadata": {},
   "source": [
    "* **Notice that both leading and trailing whitespace, as well as the trailing escape sequence, were removed.**\n",
    "* We can also apply `.rsplit()` and it will return a string where the trailing whitespaces and/or trailing escape sequence is removed"
   ]
  },
  {
   "cell_type": "code",
   "execution_count": 23,
   "id": "20cf1bd3",
   "metadata": {},
   "outputs": [
    {
     "data": {
      "text/plain": [
       "' This string will be stripped'"
      ]
     },
     "execution_count": 23,
     "metadata": {},
     "output_type": "execute_result"
    }
   ],
   "source": [
    "my_string.rstrip()"
   ]
  },
  {
   "cell_type": "code",
   "execution_count": 20,
   "id": "04e79315",
   "metadata": {},
   "outputs": [
    {
     "data": {
      "text/plain": [
       "' This string will be stripped'"
      ]
     },
     "execution_count": 20,
     "metadata": {},
     "output_type": "execute_result"
    }
   ],
   "source": [
    "my_string2.rstrip()"
   ]
  },
  {
   "cell_type": "markdown",
   "id": "a50aab43",
   "metadata": {},
   "source": [
    "* **If we apply the `.lstrip()` method, we'll get a string with the *leading* whitespace eliminated**\n",
    "\n",
    "### Finding and replacing\n",
    "* Python has several built-in methods that will help you search a target strig for a specified substring:\n",
    "\n",
    "#### `.find()`\n",
    "* The `find()` method returns the lowest index in the string where it can find the substring (and then stops \"searching\")\n",
    "* If the substring is **not** found, `-1` is returned\n",
    "\n",
    "<img src='data/string2.png' width=\"600\" height=\"300\" align=\"center\"/>"
   ]
  },
  {
   "cell_type": "code",
   "execution_count": 24,
   "id": "f6f47150",
   "metadata": {},
   "outputs": [
    {
     "data": {
      "text/plain": [
       "8"
      ]
     },
     "execution_count": 24,
     "metadata": {},
     "output_type": "execute_result"
    }
   ],
   "source": [
    "my_string = \"Where's Waldo?\"\n",
    "my_string.find(\"Waldo\")"
   ]
  },
  {
   "cell_type": "code",
   "execution_count": 25,
   "id": "e4357dc3",
   "metadata": {},
   "outputs": [
    {
     "data": {
      "text/plain": [
       "-1"
      ]
     },
     "execution_count": 25,
     "metadata": {},
     "output_type": "execute_result"
    }
   ],
   "source": [
    "my_string.find(\"Wenda\")"
   ]
  },
  {
   "cell_type": "code",
   "execution_count": 26,
   "id": "09e482da",
   "metadata": {
    "scrolled": true
   },
   "outputs": [
    {
     "data": {
      "text/plain": [
       "-1"
      ]
     },
     "execution_count": 26,
     "metadata": {},
     "output_type": "execute_result"
    }
   ],
   "source": [
    "my_string.find(\"Waldo\", 0, 6)"
   ]
  },
  {
   "cell_type": "markdown",
   "id": "e177afde",
   "metadata": {},
   "source": [
    "* Note that substring to find must exist *completely* within the start and end indices. As shown below, it is not enough to just have *part* of the substring within the indices. "
   ]
  },
  {
   "cell_type": "code",
   "execution_count": 27,
   "id": "3a967061",
   "metadata": {
    "scrolled": true
   },
   "outputs": [
    {
     "data": {
      "text/plain": [
       "-1"
      ]
     },
     "execution_count": 27,
     "metadata": {},
     "output_type": "execute_result"
    }
   ],
   "source": [
    "my_string.find(\"Waldo\", 6, 11)"
   ]
  },
  {
   "cell_type": "markdown",
   "id": "037c73fe",
   "metadata": {},
   "source": [
    "#### The `.index()` method\n",
    "* Similar to `.find()`, searches target string for a specified substring\n",
    "* *However*, if we search for a substring that does not exist (within the indices provided), instead of returning `-1`, a `ValueError` will be raised"
   ]
  },
  {
   "cell_type": "code",
   "execution_count": 28,
   "id": "b9cb966b",
   "metadata": {},
   "outputs": [
    {
     "data": {
      "text/plain": [
       "8"
      ]
     },
     "execution_count": 28,
     "metadata": {},
     "output_type": "execute_result"
    }
   ],
   "source": [
    "my_string.index(\"Waldo\")"
   ]
  },
  {
   "cell_type": "markdown",
   "id": "4a46e14c",
   "metadata": {},
   "source": [
    "<img src='data/string3.png' width=\"600\" height=\"300\" align=\"center\"/>"
   ]
  },
  {
   "cell_type": "markdown",
   "id": "bf28bbcd",
   "metadata": {},
   "source": [
    "* We can handle this error using a `try ` / `except` block"
   ]
  },
  {
   "cell_type": "code",
   "execution_count": 31,
   "id": "32bdf81a",
   "metadata": {},
   "outputs": [
    {
     "name": "stdout",
     "output_type": "stream",
     "text": [
      "Not found\n"
     ]
    }
   ],
   "source": [
    "try:\n",
    "    my_string.index(\"Wenda\")\n",
    "except ValueError:\n",
    "    print(\"Not found\")    "
   ]
  },
  {
   "cell_type": "code",
   "execution_count": 32,
   "id": "992f6255",
   "metadata": {},
   "outputs": [
    {
     "name": "stdout",
     "output_type": "stream",
     "text": [
      "Not found\n"
     ]
    }
   ],
   "source": [
    "try:\n",
    "    my_string.index(\"Wenda\")\n",
    "except:\n",
    "    print(\"Not found\")    "
   ]
  },
  {
   "cell_type": "markdown",
   "id": "b4faa0e0",
   "metadata": {},
   "source": [
    "#### Counting occurences\n",
    "* The **`.count()`** method searches for a specified substring in the target string\n",
    "* It **returns the number of non-overlapping occurrences**; in other words, how many times the substring is present in the string\n",
    "\n",
    "<img src='data/string4.png' width=\"600\" height=\"300\" align=\"center\"/>"
   ]
  },
  {
   "cell_type": "code",
   "execution_count": 34,
   "id": "44e0ce20",
   "metadata": {},
   "outputs": [],
   "source": [
    "my_string = \"How many fruits do you have in your fruit basket?\""
   ]
  },
  {
   "cell_type": "code",
   "execution_count": 35,
   "id": "473d4f53",
   "metadata": {},
   "outputs": [
    {
     "data": {
      "text/plain": [
       "2"
      ]
     },
     "execution_count": 35,
     "metadata": {},
     "output_type": "execute_result"
    }
   ],
   "source": [
    "my_string.count(\"fruit\")"
   ]
  },
  {
   "cell_type": "code",
   "execution_count": 36,
   "id": "b615e47c",
   "metadata": {},
   "outputs": [
    {
     "data": {
      "text/plain": [
       "1"
      ]
     },
     "execution_count": 36,
     "metadata": {},
     "output_type": "execute_result"
    }
   ],
   "source": [
    "my_string.count(\"fruit\", 0, 16)"
   ]
  },
  {
   "cell_type": "markdown",
   "id": "ab3e4b8f",
   "metadata": {},
   "source": [
    "#### Replacing substrings\n",
    "* Replace occurences of substring with new substring\n",
    "* **Note:** Returns a *copy* of the string (does not reassign without reassignment of variable)\n",
    "\n",
    "<img src='data/string5.png' width=\"600\" height=\"300\" align=\"center\"/>\n",
    "\n",
    "#### Exercises: Finding a substring\n",
    "\n",
    "```\n",
    "for movie in movies:\n",
    "  \t# If actor is not found between character 37 and 41 inclusive\n",
    "    # Print word not found\n",
    "    if movie.find(\"actor\", 37, 42) == -1:\n",
    "        print(\"Word not found\")\n",
    "    # Count occurrences and replace two with one\n",
    "    elif movie.count(\"actor\") == 2:  \n",
    "        print(movie.replace(\"actor actor\", \"actor\"))\n",
    "    else:\n",
    "        # Replace three occurrences with one\n",
    "        print(movie.replace(\"actor actor actor\", \"actor\"))\n",
    "```\n",
    "\n",
    "#### Exercises: Where's the word?\n",
    "\n",
    "```\n",
    "for movie in movies:\n",
    "  # Find the first occurrence of word\n",
    "  print(movie.find(\"money\", 12, 51))\n",
    "```\n",
    "\n",
    "```\n",
    "for movie in movies:\n",
    "  try:\n",
    "    # Find the first occurrence of word\n",
    "  \tprint(movie.index(\"money\", 12, 51))\n",
    "  except ValueError:\n",
    "    print(\"substring not found\")\n",
    "```\n",
    "\n",
    "#### Exercises: Replacing negations\n",
    "\n",
    "```\n",
    "# Replace negations \n",
    "movies_no_negation = movies.replace(\"isn't\", \"is\")\n",
    "\n",
    "# Replace important\n",
    "movies_antonym = movies_no_negation.replace(\"important\", \"insignificant\")\n",
    "\n",
    "# Print out\n",
    "print(movies_antonym)\n",
    "```"
   ]
  },
  {
   "cell_type": "markdown",
   "id": "f9a24090",
   "metadata": {},
   "source": [
    "# $\\star$ Chapter 2: Formatting strings\n",
    "Following your journey, you will learn the main approaches that can be used to format or interpolate strings in python using a dataset containing information scraped from the web. You will explore the advantages and disadvantages of using positional formatting, embedding expressing inside string constants, and using the Template class."
   ]
  },
  {
   "cell_type": "markdown",
   "id": "78db9639",
   "metadata": {},
   "source": [
    "### Positional formatting\n",
    "#### What is string formatting?\n",
    "* **String formatting** is also called **string interpolation**\n",
    "* String formatting is **the process of inserting a custome string in a predefined text.**"
   ]
  },
  {
   "cell_type": "code",
   "execution_count": 38,
   "id": "09ce9419",
   "metadata": {},
   "outputs": [
    {
     "name": "stdout",
     "output_type": "stream",
     "text": [
      "String formatting is a powerful technique\n"
     ]
    }
   ],
   "source": [
    "custom_string = \"String formatting\"\n",
    "print(f\"{custom_string} is a powerful technique\")"
   ]
  },
  {
   "cell_type": "markdown",
   "id": "8f2322e5",
   "metadata": {},
   "source": [
    "#### Usage:\n",
    "* Insert a title in a graph\n",
    "* Show message or error\n",
    "* Pass a statement to a function\n",
    "* Print model outputs in sentence format\n",
    "\n",
    "## Methods for formatting\n",
    "* The modern versions of Python have three main approaches to string formatting\n",
    "    * **Positional formatting**\n",
    "    * **Formatted string literals**\n",
    "    * **Template method**\n",
    "    \n",
    "### Positional formatting\n",
    "* We put placeholders, defined by a pair of curly brackets, in a text\n",
    "* We call the string `.format()` method\n",
    "* Pass the desired value into the method\n",
    "* The method replaces the placeholders using the values in order of appearance\n",
    "\n",
    "<img src='data/string6.png' width=\"600\" height=\"300\" align=\"center\"/>"
   ]
  },
  {
   "cell_type": "code",
   "execution_count": 39,
   "id": "c5d3d4d3",
   "metadata": {},
   "outputs": [
    {
     "name": "stdout",
     "output_type": "stream",
     "text": [
      "Machine learning provides systems with the ability to learn automatically\n"
     ]
    }
   ],
   "source": [
    "print(\"Machine learning provides {} with the ability to learn {}\".format(\"systems\", \"automatically\"))"
   ]
  },
  {
   "cell_type": "markdown",
   "id": "d8757a5c",
   "metadata": {},
   "source": [
    "* We can also use variable for both the initial string and the values passed into the method:\n",
    "\n",
    "<img src='data/string7.png' width=\"600\" height=\"300\" align=\"center\"/>"
   ]
  },
  {
   "cell_type": "code",
   "execution_count": 40,
   "id": "3b58dd27",
   "metadata": {},
   "outputs": [],
   "source": [
    "my_string = \"{} rely on {} datasets\"\n",
    "method = \"Supervised algorithms\"\n",
    "condition = \"labeled\""
   ]
  },
  {
   "cell_type": "code",
   "execution_count": 41,
   "id": "dbf20ea0",
   "metadata": {},
   "outputs": [
    {
     "name": "stdout",
     "output_type": "stream",
     "text": [
      "Supervised algorithms rely on labeled datasets\n"
     ]
    }
   ],
   "source": [
    "print(my_string.format(method, condition))"
   ]
  },
  {
   "cell_type": "markdown",
   "id": "81790678",
   "metadata": {},
   "source": [
    "### Reordering values\n",
    "* We can add index numbers into the curly braces. \n",
    "* This affects the order in which the method replaces placeholders. \n",
    "* In the example above, we left the placeholders empty. The method replaces them with the values in the given order.\n",
    "* If we add the index numbers, the replacement order changes accordingly.\n",
    "\n",
    "* Include an index number into the placeholders to reorder values "
   ]
  },
  {
   "cell_type": "code",
   "execution_count": 42,
   "id": "76bf9eba",
   "metadata": {},
   "outputs": [
    {
     "name": "stdout",
     "output_type": "stream",
     "text": [
      "Betty has a friend called Linda and a sister called Daisy\n"
     ]
    }
   ],
   "source": [
    "print(\"{} has a friend called {} and a sister called {}\".format(\"Betty\", \"Linda\", \"Daisy\"))"
   ]
  },
  {
   "cell_type": "markdown",
   "id": "c2b58cc2",
   "metadata": {},
   "source": [
    "* If we add the index numbers, the replacement order changes accordingly:"
   ]
  },
  {
   "cell_type": "code",
   "execution_count": 43,
   "id": "d40964a4",
   "metadata": {},
   "outputs": [
    {
     "name": "stdout",
     "output_type": "stream",
     "text": [
      "Daisy has a friend called Betty and a sister called Linda\n"
     ]
    }
   ],
   "source": [
    "print(\"{2} has a friend called {0} and a sister called {1}\".format(\"Betty\", \"Linda\", \"Daisy\"))"
   ]
  },
  {
   "cell_type": "markdown",
   "id": "a985272c",
   "metadata": {},
   "source": [
    "<img src='data/string8.png' width=\"600\" height=\"300\" align=\"center\"/>\n",
    "\n",
    "### Named placeholders\n",
    "* Specify a name for the placeholders\n",
    "\n",
    "<img src='data/string9.png' width=\"600\" height=\"300\" align=\"center\"/>"
   ]
  },
  {
   "cell_type": "code",
   "execution_count": 44,
   "id": "18870cc9",
   "metadata": {},
   "outputs": [],
   "source": [
    "tool = \"Unsupervised algorithms\"\n",
    "goal = \"patterns\""
   ]
  },
  {
   "cell_type": "code",
   "execution_count": 45,
   "id": "24f3ff55",
   "metadata": {},
   "outputs": [
    {
     "name": "stdout",
     "output_type": "stream",
     "text": [
      "Unsupervised algorithms try to find patterns in the dataset\n"
     ]
    }
   ],
   "source": [
    "print(\"{title} try to find {aim} in the dataset\".format(title=tool, aim=goal))"
   ]
  },
  {
   "cell_type": "markdown",
   "id": "11f823ef",
   "metadata": {},
   "source": [
    "* **We can also use dictionaries for named placeholders:**\n",
    "\n",
    "<img src='data/string10.png' width=\"600\" height=\"300\" align=\"center\"/>"
   ]
  },
  {
   "cell_type": "code",
   "execution_count": 46,
   "id": "e716cc70",
   "metadata": {},
   "outputs": [],
   "source": [
    "my_methods = {\"tool\": \"Unsupervised algorithms\", \"goal\": \"patterns\"}"
   ]
  },
  {
   "cell_type": "code",
   "execution_count": 47,
   "id": "97e35c8d",
   "metadata": {},
   "outputs": [
    {
     "name": "stdout",
     "output_type": "stream",
     "text": [
      "Unsupervised algorithms try to find patterns in the dataset.\n"
     ]
    }
   ],
   "source": [
    "print('{data[tool]} try to find {data[goal]} in the dataset.'.format(data=my_methods))"
   ]
  },
  {
   "cell_type": "markdown",
   "id": "0bf7be49",
   "metadata": {},
   "source": [
    "* **Note above that `my_methods` is assigned to `data` in the `.format()` call.**\n",
    "* Also **note** that you need to specify the index without using quotes.\n",
    "\n",
    "### Format specifiers\n",
    "* Specify data type to be used: `{index: specifier}`\n",
    "* This defines how individual values are presented \n",
    "* **One of the most common format specifiers is *float*, represented by the letter *f*.**\n",
    "* In the code below, we specify that the value passed with index 0 will be a float\n",
    "\n",
    "<img src='data/string11.png' width=\"600\" height=\"300\" align=\"center\"/>\n",
    "\n",
    "* **We could also add `.2f` to indicate that we want the float to have 2 decimals**"
   ]
  },
  {
   "cell_type": "code",
   "execution_count": null,
   "id": "f647eeeb",
   "metadata": {},
   "outputs": [],
   "source": [
    "print(\"Only {0:f}% of the {1} produced worldwide is \")"
   ]
  },
  {
   "cell_type": "markdown",
   "id": "7333733d",
   "metadata": {},
   "source": [
    "### Formatting datetime"
   ]
  },
  {
   "cell_type": "code",
   "execution_count": 48,
   "id": "69df05a4",
   "metadata": {},
   "outputs": [],
   "source": [
    "from datetime import datetime"
   ]
  },
  {
   "cell_type": "code",
   "execution_count": 49,
   "id": "9542e71e",
   "metadata": {},
   "outputs": [
    {
     "name": "stdout",
     "output_type": "stream",
     "text": [
      "2022-01-31 12:53:43.011728\n"
     ]
    }
   ],
   "source": [
    "print(datetime.now())"
   ]
  },
  {
   "cell_type": "markdown",
   "id": "260a988a",
   "metadata": {},
   "source": [
    "* You can see that the format returned above is very particular\n",
    "* We can use **format specifiers**\n",
    "\n",
    "### Formatting datetime\n",
    "\n",
    "<img src='data/string12.png' width=\"600\" height=\"300\" align=\"center\"/>"
   ]
  },
  {
   "cell_type": "code",
   "execution_count": 50,
   "id": "cd568ee7",
   "metadata": {},
   "outputs": [
    {
     "name": "stdout",
     "output_type": "stream",
     "text": [
      "Today's date is 2022-01-31 12:55\n"
     ]
    }
   ],
   "source": [
    "print(\"Today's date is {:%Y-%m-%d %H:%M}\".format(datetime.now()))"
   ]
  },
  {
   "cell_type": "markdown",
   "id": "14f72eab",
   "metadata": {},
   "source": [
    "#### Exercises: Put it in order!\n",
    "\n",
    "```\n",
    "# Assign the substrings to the variables\n",
    "first_pos = wikipedia_article[3:19].lower()\n",
    "second_pos = wikipedia_article[21:44].lower()\n",
    "\n",
    "# Define string with placeholders \n",
    "my_list.append(\"The tool {} is used in {}\")\n",
    "\n",
    "# Define string with rearranged placeholders\n",
    "my_list.append(\"The tool {1} is used in {0}\")\n",
    "\n",
    "# Use format to print strings\n",
    "for my_string in my_list:\n",
    "  \tprint(my_string.format(first_pos, second_pos))\n",
    "```\n",
    "\n",
    "#### Exercises: Calling by its name\n",
    "\n",
    "```\n",
    "# Create a dictionary\n",
    "plan = {\n",
    "  \t\t\"field\": courses[0],\n",
    "        \"tool\": courses[1]\n",
    "        }\n",
    "\n",
    "# Complete the placeholders accessing elements of field and tool keys in the data dictionary\n",
    "my_message = \"If you are interested in {data[field]}, you can take the course related to {data[tool]}\"\n",
    "\n",
    "# Use the plan dictionary to replace placeholders\n",
    "print(my_message.format(data=plan))\n",
    "```\n",
    "\n",
    "#### Exercises: What day is today?\n",
    "\n",
    "```\n",
    "# Import datetime \n",
    "from datetime import datetime\n",
    "\n",
    "# Assign date to get_date\n",
    "get_date = datetime.now()\n",
    "\n",
    "# Add named placeholders with format specifiers\n",
    "message = \"Good morning. Today is {today:%B %d, %Y}. It's {today:%H:%M} ... time to work!\"\n",
    "\n",
    "# Use the format method replacing the placeholder with get_date\n",
    "print(message.format(today=get_date))\n",
    "```"
   ]
  },
  {
   "cell_type": "markdown",
   "id": "3babcf2c",
   "metadata": {},
   "source": [
    "## Formatted string literal (f-strings)\n",
    "* Modern versions on Python introduced a new powerful string formatting: **formatted string literal** method\n",
    "* The strings defined by this method are called **f-strings**\n",
    "\n",
    "### f-strings\n",
    "* f-string have a minimal syntax\n",
    "* To define them, add prefix `f` to string\n",
    "\n",
    "<img src='data/string13.png' width=\"600\" height=\"300\" align=\"center\"/>\n",
    "\n",
    "#### Type conversion\n",
    "* f-strings allow us to convert expressions into different types\n",
    "\n",
    "<img src='data/string14.png' width=\"600\" height=\"300\" align=\"center\"/>\n",
    "\n",
    "<img src='data/string15.png' width=\"600\" height=\"300\" align=\"center\"/>"
   ]
  },
  {
   "cell_type": "code",
   "execution_count": 51,
   "id": "df379b3b",
   "metadata": {},
   "outputs": [],
   "source": [
    "name = \"Python\""
   ]
  },
  {
   "cell_type": "code",
   "execution_count": 52,
   "id": "b33c4dca",
   "metadata": {},
   "outputs": [
    {
     "name": "stdout",
     "output_type": "stream",
     "text": [
      "Python is called 'Python' due to a comedy series\n"
     ]
    }
   ],
   "source": [
    "print(f\"Python is called {name!r} due to a comedy series\")"
   ]
  },
  {
   "cell_type": "code",
   "execution_count": 53,
   "id": "5d9b44cc",
   "metadata": {},
   "outputs": [],
   "source": [
    "number = 90.41890417471841"
   ]
  },
  {
   "cell_type": "code",
   "execution_count": 55,
   "id": "64696ea5",
   "metadata": {},
   "outputs": [
    {
     "name": "stdout",
     "output_type": "stream",
     "text": [
      "In the last 2 years, 90.42% of the data was produced worldwide!\n"
     ]
    }
   ],
   "source": [
    "print(f\"In the last 2 years,{number: .2f}% of the data was produced worldwide!\")"
   ]
  },
  {
   "cell_type": "markdown",
   "id": "53cb6442",
   "metadata": {},
   "source": [
    "### Format specifiers\n",
    "* We can also format `datetime`\n",
    "* We only need to insert the variable containing the datetime object, followed by a colon and the formatting we want the datetime to be in.\n",
    "\n",
    "<img src='data/string16.png' width=\"600\" height=\"300\" align=\"center\"/>\n",
    "\n",
    "### Index lookups\n",
    "* To insert the value associated with a specific key, we specify the index without quotes\n",
    "\n",
    "<img src='data/string17.png' width=\"600\" height=\"300\" align=\"center\"/>"
   ]
  },
  {
   "cell_type": "code",
   "execution_count": 57,
   "id": "96d78f7e",
   "metadata": {},
   "outputs": [],
   "source": [
    "family = {\"dad\" : \"John\", \"siblings\": \"Peter\"}"
   ]
  },
  {
   "cell_type": "code",
   "execution_count": 58,
   "id": "0b63bf67",
   "metadata": {},
   "outputs": [
    {
     "name": "stdout",
     "output_type": "stream",
     "text": [
      "Is your dad called John?\n"
     ]
    }
   ],
   "source": [
    "print(\"Is your dad called {family[dad]}?\".format(family=family))"
   ]
  },
  {
   "cell_type": "markdown",
   "id": "cf94ee74",
   "metadata": {},
   "source": [
    "* **Use quotes for index lookups: `family[\"dad\"]`**"
   ]
  },
  {
   "cell_type": "code",
   "execution_count": 93,
   "id": "be20147b",
   "metadata": {},
   "outputs": [],
   "source": [
    "# print(f\"Is your dad called {family[dad]}?\")"
   ]
  },
  {
   "cell_type": "markdown",
   "id": "f933f4c3",
   "metadata": {},
   "source": [
    "* **The error above is due to lack of quotation marks surrounding key `dad`**"
   ]
  },
  {
   "cell_type": "code",
   "execution_count": 61,
   "id": "c0d30df5",
   "metadata": {},
   "outputs": [
    {
     "name": "stdout",
     "output_type": "stream",
     "text": [
      "Is your dad called John?\n"
     ]
    }
   ],
   "source": [
    "print(f'Is your dad called {family[\"dad\"]}?')"
   ]
  },
  {
   "cell_type": "code",
   "execution_count": 62,
   "id": "b33f690b",
   "metadata": {},
   "outputs": [
    {
     "name": "stdout",
     "output_type": "stream",
     "text": [
      "Is your dad called John?\n"
     ]
    }
   ],
   "source": [
    "print(f\"Is your dad called {family['dad']}?\")"
   ]
  },
  {
   "cell_type": "markdown",
   "id": "9c10da7d",
   "metadata": {},
   "source": [
    "### Escape sequences\n",
    "* Escape sequences: backslashes **`\\`**"
   ]
  },
  {
   "cell_type": "code",
   "execution_count": 94,
   "id": "58f44f7c",
   "metadata": {},
   "outputs": [],
   "source": [
    "# print(\"My dad is called \"John\"\")"
   ]
  },
  {
   "cell_type": "markdown",
   "id": "34c1479c",
   "metadata": {},
   "source": [
    "* The above `SyntaxError` can be fixed by placing a backslash (escape sequence) before the inner quotes"
   ]
  },
  {
   "cell_type": "code",
   "execution_count": 64,
   "id": "6eadb8da",
   "metadata": {},
   "outputs": [
    {
     "name": "stdout",
     "output_type": "stream",
     "text": [
      "My dad is called \"John\"\n"
     ]
    }
   ],
   "source": [
    "print(\"My dad is called \\\"John\\\"\")"
   ]
  },
  {
   "cell_type": "markdown",
   "id": "f2d1d689",
   "metadata": {},
   "source": [
    "Or, of course:"
   ]
  },
  {
   "cell_type": "code",
   "execution_count": 65,
   "id": "882366bb",
   "metadata": {},
   "outputs": [
    {
     "name": "stdout",
     "output_type": "stream",
     "text": [
      "My dad is called \"John\"\n"
     ]
    }
   ],
   "source": [
    "print('My dad is called \"John\"')"
   ]
  },
  {
   "cell_type": "markdown",
   "id": "90372481",
   "metadata": {},
   "source": [
    "#### What does this have to do with f-strings?\n",
    "* Indexes require quotes\n",
    "* f-strings also require quotes\n",
    "* If Python finds a second quote, it understands that this is a closing matrix"
   ]
  },
  {
   "cell_type": "code",
   "execution_count": 95,
   "id": "bb816b1c",
   "metadata": {},
   "outputs": [],
   "source": [
    "# print(f\"Is your dad called {family[\"dad\"]}?\")"
   ]
  },
  {
   "cell_type": "code",
   "execution_count": 96,
   "id": "d25875b1",
   "metadata": {},
   "outputs": [],
   "source": [
    "# print(f\"Is your dad called {family[\\\"dad\\\"]}?\")"
   ]
  },
  {
   "cell_type": "markdown",
   "id": "f845d431",
   "metadata": {},
   "source": [
    "* However, clearly backslashes are not allowed in f-string expressions $\\Uparrow$"
   ]
  },
  {
   "cell_type": "markdown",
   "id": "a0812369",
   "metadata": {},
   "source": [
    "### Inline operations\n",
    "* One of the biggest advantages of f-strings is that they allow us to perform inline operations\n",
    "* Advantage: evaluate expressions and call functions inline\n",
    "\n",
    "<img src='data/string18.png' width=\"600\" height=\"300\" align=\"center\"/>\n",
    "\n",
    "### Calling functions \n",
    "\n",
    "<img src='data/string19.png' width=\"600\" height=\"300\" align=\"center\"/>"
   ]
  },
  {
   "cell_type": "markdown",
   "id": "6e2f6166",
   "metadata": {},
   "source": [
    "#### Exercises: Literally formatting\n",
    "\n",
    "```\n",
    "# Complete the f-string\n",
    "print(f\"Data science is considered {field1!r} in the {fact1}st century\")\n",
    "```\n",
    "\n",
    "```\n",
    "# Complete the f-string\n",
    "print(f\"About {fact2:e} of {field2} in the world\")\n",
    "```\n",
    "\n",
    "```\n",
    "# Complete the f-string\n",
    "print(f\"{field3} create around {fact3:.2f}% of the data but only {fact4:.1f}% is analyzed\")\n",
    "```\n",
    "\n",
    "#### Exercises: Make this function\n",
    "\n",
    "```\n",
    "# Include both variables and the result of dividing them \n",
    "print(f\"{number1} tweets were downloaded in {number2} minutes indicating a speed of {number1 / number2:.1f} tweets per min\")\n",
    "```\n",
    "\n",
    "```\n",
    "# Replace the substring https by an empty string\n",
    "print(f\"{string1.replace('https', '')}\")\n",
    "```\n",
    "\n",
    "```\n",
    "# Divide the length of list by 120 rounded to two decimals\n",
    "print(f\"Only {len(list_links)*100/120:.2f}% of the posts contain links\")\n",
    "```\n",
    "\n",
    "```\n",
    "# Access values of date and price in east dictionary\n",
    "print(f\"The price for a house in the east neighborhood was ${east['price']} in {east['date']:%m-%d-%Y}\")\n",
    "```\n",
    "\n",
    "```\n",
    "# Access values of date and price in west dictionary\n",
    "print(f\"The price for a house in the west neighborhood was ${west['price']} in {west['date']:%m-%d-%Y}.\")\n",
    "```\n"
   ]
  },
  {
   "cell_type": "markdown",
   "id": "b2280a16",
   "metadata": {},
   "source": [
    "### Template\n",
    "* **Template strings**:\n",
    "    * Have simpler syntax\n",
    "    * Are slower thn f-strings\n",
    "    * Are limited: don't allow format specifiers\n",
    "    * Are good when working with externally formatted strings\n",
    "* However, they are very suitable in some specific situations, especially when **working with externally formatted strings that you don't have control over.**\n",
    "* **Template strings do noy belong to the Python core features**; rather, you need to import the `Template` class from the string module \n",
    "* Template strings use **dollar signs** to identify placeholders or identifiers\n",
    "\n",
    "<img src='data/string20.png' width=\"600\" height=\"300\" align=\"center\"/>"
   ]
  },
  {
   "cell_type": "code",
   "execution_count": 68,
   "id": "9a514870",
   "metadata": {},
   "outputs": [],
   "source": [
    "from string import Template"
   ]
  },
  {
   "cell_type": "code",
   "execution_count": 69,
   "id": "1ddd53f6",
   "metadata": {},
   "outputs": [],
   "source": [
    "my_string = Template('Data science has been called $identifier')"
   ]
  },
  {
   "cell_type": "code",
   "execution_count": 70,
   "id": "fcdc0d8d",
   "metadata": {},
   "outputs": [
    {
     "data": {
      "text/plain": [
       "'Data science has been called sexiest job of the 21st century'"
      ]
     },
     "execution_count": 70,
     "metadata": {},
     "output_type": "execute_result"
    }
   ],
   "source": [
    "my_string.substitute(identifier=\"sexiest job of the 21st century\")"
   ]
  },
  {
   "cell_type": "code",
   "execution_count": 71,
   "id": "0582f236",
   "metadata": {},
   "outputs": [
    {
     "name": "stdout",
     "output_type": "stream",
     "text": [
      "<string.Template object at 0x7fa848ba9af0>\n"
     ]
    }
   ],
   "source": [
    "print(my_string)"
   ]
  },
  {
   "cell_type": "markdown",
   "id": "e0987154",
   "metadata": {},
   "source": [
    "### Substitution\n",
    "* Use many `$identifier` s\n",
    "* Use variables"
   ]
  },
  {
   "cell_type": "code",
   "execution_count": 72,
   "id": "362a7734",
   "metadata": {},
   "outputs": [],
   "source": [
    "job = \"Data science\"\n",
    "name = \"sexiest job of the 21st century\""
   ]
  },
  {
   "cell_type": "code",
   "execution_count": 73,
   "id": "0f00e843",
   "metadata": {},
   "outputs": [],
   "source": [
    "my_string = Template('$title has been called $description')"
   ]
  },
  {
   "cell_type": "code",
   "execution_count": 74,
   "id": "b795c223",
   "metadata": {},
   "outputs": [
    {
     "data": {
      "text/plain": [
       "'Data science has been called sexiest job of the 21st century'"
      ]
     },
     "execution_count": 74,
     "metadata": {},
     "output_type": "execute_result"
    }
   ],
   "source": [
    "my_string.substitute(title=job, description=name)"
   ]
  },
  {
   "cell_type": "markdown",
   "id": "9fae2cd4",
   "metadata": {},
   "source": [
    "<img src='data/string21.png' width=\"600\" height=\"300\" align=\"center\"/>"
   ]
  },
  {
   "cell_type": "markdown",
   "id": "940d44f7",
   "metadata": {},
   "source": [
    "* Sometimes, we need to add **extra curly braces** after the dollar sign to enclose the identifier: `${identifier}`\n",
    "* **This is required when valid characters follow the identifier but are not part of it**\n",
    "* In the example below, we need to add the ending `-ing` immediately after the first identifier\n",
    "    * We need to include curly braces or else Python believes that `-ing` belongs to the identifier name\n",
    "\n",
    "<img src='data/string22.png' width=\"600\" height=\"300\" align=\"center\"/>"
   ]
  },
  {
   "cell_type": "code",
   "execution_count": 77,
   "id": "d1347986",
   "metadata": {},
   "outputs": [],
   "source": [
    "my_string = Template('I find Python very ${noun}ing but my sister has lost ${noun}')"
   ]
  },
  {
   "cell_type": "code",
   "execution_count": 78,
   "id": "b05c9edb",
   "metadata": {},
   "outputs": [
    {
     "data": {
      "text/plain": [
       "'I find Python very interesting but my sister has lost interest'"
      ]
     },
     "execution_count": 78,
     "metadata": {},
     "output_type": "execute_result"
    }
   ],
   "source": [
    "my_string.substitute(noun=\"interest\")"
   ]
  },
  {
   "cell_type": "markdown",
   "id": "698ed380",
   "metadata": {},
   "source": [
    "* Let's now imagine that we are working with numbers and we want to include the dollar sign as part of a string\n",
    "* Use **`$$`** to escape the dollar sign:"
   ]
  },
  {
   "cell_type": "code",
   "execution_count": 85,
   "id": "74835a3c",
   "metadata": {},
   "outputs": [],
   "source": [
    "my_string = Template('I paid for the Python course for only $$ $price, amazing!')"
   ]
  },
  {
   "cell_type": "code",
   "execution_count": 86,
   "id": "d9ae273d",
   "metadata": {},
   "outputs": [
    {
     "data": {
      "text/plain": [
       "'I paid for the Python course for only $ 12.50, amazing!'"
      ]
     },
     "execution_count": 86,
     "metadata": {},
     "output_type": "execute_result"
    }
   ],
   "source": [
    "my_string.substitute(price=\"12.50\")"
   ]
  },
  {
   "cell_type": "code",
   "execution_count": 87,
   "id": "2a07db88",
   "metadata": {},
   "outputs": [],
   "source": [
    "my_string = Template('I paid for the Python course for only $$$price, amazing!')"
   ]
  },
  {
   "cell_type": "code",
   "execution_count": 88,
   "id": "202fb2b0",
   "metadata": {},
   "outputs": [
    {
     "data": {
      "text/plain": [
       "'I paid for the Python course for only $12.50, amazing!'"
      ]
     },
     "execution_count": 88,
     "metadata": {},
     "output_type": "execute_result"
    }
   ],
   "source": [
    "my_string.substitute(price=\"12.50\")"
   ]
  },
  {
   "cell_type": "markdown",
   "id": "021885ba",
   "metadata": {},
   "source": [
    "<img src='data/string23.png' width=\"600\" height=\"300\" align=\"center\"/>"
   ]
  },
  {
   "cell_type": "markdown",
   "id": "584e6ba1",
   "metadata": {},
   "source": [
    "* **Raise error when placeholder is missing**\n",
    "* Below, we defined a dictionary with only one key\n",
    "* However, when we define our template string, we include two identifiers\n",
    "* What would happen if we pass this dictionary to the method substitute"
   ]
  },
  {
   "cell_type": "code",
   "execution_count": 89,
   "id": "8f72a954",
   "metadata": {},
   "outputs": [],
   "source": [
    "favorite = dict(flavor=\"chocolate\")"
   ]
  },
  {
   "cell_type": "code",
   "execution_count": 90,
   "id": "39fb3f20",
   "metadata": {},
   "outputs": [],
   "source": [
    "my_string = Template('I love $flavor $cake very much')"
   ]
  },
  {
   "cell_type": "code",
   "execution_count": 92,
   "id": "61f044f5",
   "metadata": {},
   "outputs": [],
   "source": [
    "# my_string.substitute(favorite)"
   ]
  },
  {
   "cell_type": "markdown",
   "id": "f277f429",
   "metadata": {},
   "source": [
    "* Python raises a `KeyError`; it tries to replace every placeholder and some of them are missing"
   ]
  },
  {
   "cell_type": "code",
   "execution_count": 97,
   "id": "99db74cc",
   "metadata": {},
   "outputs": [
    {
     "name": "stdout",
     "output_type": "stream",
     "text": [
      "missing information\n"
     ]
    }
   ],
   "source": [
    "try:\n",
    "    my_string.substitute(favorite)\n",
    "except KeyError:\n",
    "    print(\"missing information\")"
   ]
  },
  {
   "cell_type": "markdown",
   "id": "3e4f488e",
   "metadata": {},
   "source": [
    "<img src='data/string24.png' width=\"600\" height=\"300\" align=\"center\"/>\n",
    "\n",
    "\n",
    "#### Safe substitution\n",
    "* A better way to handle this situation is using the safe substitute method\n",
    "* **Always tries to return a usable string**\n",
    "* Missing placeholders will appear in resulting string\n",
    "\n",
    "<img src='data/string25.png' width=\"600\" height=\"300\" align=\"center\"/>\n",
    "\n",
    "### Which formatting should I use?\n",
    "\n",
    "#### `str.format()`:\n",
    "* Good to start with; concepts apply to f-strings\n",
    "* Compatible with all versions of Python\n",
    "\n",
    "#### f-strings:\n",
    "* Always advisable above all methods\n",
    "* Only suitable if working with modern versions of Python (3.6+)\n",
    "\n",
    "#### Template strings:\n",
    "* When working with external or user-provided strings\n",
    "\n",
    "#### Exercises: Preparing a report\n",
    "\n",
    "```\n",
    "# Import Template\n",
    "from string import Template\n",
    "\n",
    "# Create a template\n",
    "wikipedia = Template(\"$tool is a $description\")\n",
    "\n",
    "# Substitute variables in template\n",
    "print(wikipedia.substitute(tool=tool1, description=description1))\n",
    "print(wikipedia.substitute(tool=tool2, description=description2))\n",
    "print(wikipedia.substitute(tool=tool3, description=description3))\n",
    "```\n",
    "\n",
    "#### Exercises: Identifying prices\n",
    "\n",
    "```\n",
    "# Import template\n",
    "from string import Template\n",
    "\n",
    "# Select variables\n",
    "our_tool = tools[0]\n",
    "our_fee = tools[1]\n",
    "our_pay = tools[2]\n",
    "\n",
    "# Create template\n",
    "course = Template(\"We are offering a 3-month beginner course on $tool just for $$ $fee ${pay}ly\")\n",
    "\n",
    "# Substitute identifiers with three variables\n",
    "print(course.substitute(tool=our_tool, fee=our_fee, pay=our_pay))\n",
    "```\n",
    "\n",
    "#### Exercises: Playing safe\n",
    "\n",
    "```\n",
    "# Import template\n",
    "from string import Template\n",
    "\n",
    "# Complete template string using identifiers\n",
    "the_answers = Template(\"Check your answer 1: $answer1, and your answer 2: $answer2\")\n",
    "\n",
    "# Use substitute to replace identifiers\n",
    "try:\n",
    "    print(the_answers.substitute(answers))\n",
    "except KeyError:\n",
    "    print(\"Missing information\")\n",
    "    \n",
    "# Use safe_substitute to replace identifiers\n",
    "try:\n",
    "    print(the_answers.safe_substitute(answers))\n",
    "except KeyError:\n",
    "    print(\"Missing information\")\n",
    "```"
   ]
  },
  {
   "cell_type": "markdown",
   "id": "82ef0c3f",
   "metadata": {},
   "source": [
    "# $\\star$ Chapter 3: Regular Expressions for Pattern Matching\n",
    "Time to discover the fundamental concepts of regular expressions! In this key chapter, you will learn to understand the basic concepts of regular expression syntax. Using a real dataset with tweets meant for sentiment analysis, you will learn how to apply pattern matching using normal and special characters, and greedy and lazy quantifiers."
   ]
  },
  {
   "cell_type": "markdown",
   "id": "550ab744",
   "metadata": {},
   "source": [
    "### Introduction to regular expressions\n",
    "#### REGular EXpression or regex:\n",
    "* A string containing a combination of normal characters and special metacharacters that describes patterns to find text or positions within a text\n",
    "* Below, we have an example of what a regulr expression looks like; in Python, the `r` at the beginning indicates a raw string. It is **always advisable to use it.**\n",
    "\n",
    "<img src='data/string26.png' width=\"600\" height=\"300\" align=\"center\"/>\n",
    "\n",
    "<img src='data/string27.png' width=\"600\" height=\"300\" align=\"center\"/>\n",
    "\n",
    "* In the example above, `st` represents **normal**, or **literal** characters\n",
    "* `\\d`, `\\s`, `\\w`, `{3,10}` are **metacharacters** and represent **types** of characters\n",
    "* **Metacharacters** are characters that represent types of characters or ideas (such as location or quantity)\n",
    "* **`\\d`** represents a **digit**\n",
    "* **`\\s`** represents a **space** or **whitespace**\n",
    "* **`\\w`** represents a **word character**\n",
    "* **`{3,10}`** indicates that the character immediately to the left (in this case `\\w`, should appear between 3 and 10 times\n",
    "\n",
    "* **Pattern:** a sequence of characters that maps to words or punctuation\n",
    "* Pattern matching usage:\n",
    "    * Find and replace specific text\n",
    "    * Validate strings (such as passwords or email addresses)\n",
    "* Why use regex?\n",
    "    * Very powerful and fast\n",
    "    * They allow you to search complex patterns that would be very difficult to find otherwise\n",
    "    \n",
    "## The re module\n",
    "* Python has a useful library, the `re` module, to handle regex\n",
    "\n",
    "#### `re.findall()`\n",
    "\n",
    "<img src='data/string28.png' width=\"600\" height=\"300\" align=\"center\"/>"
   ]
  },
  {
   "cell_type": "code",
   "execution_count": 99,
   "id": "e7d90ccc",
   "metadata": {},
   "outputs": [],
   "source": [
    "import re"
   ]
  },
  {
   "cell_type": "code",
   "execution_count": 101,
   "id": "d6471b73",
   "metadata": {},
   "outputs": [
    {
     "data": {
      "text/plain": [
       "['#movies', '#movies']"
      ]
     },
     "execution_count": 101,
     "metadata": {},
     "output_type": "execute_result"
    }
   ],
   "source": [
    "re.findall(r\"#movies\", \"Love #movies! I had fun yesterday going to the #movies\")"
   ]
  },
  {
   "cell_type": "markdown",
   "id": "0a9d94b1",
   "metadata": {},
   "source": [
    "#### `re.split()`\n",
    "\n",
    "<img src='data/string29.png' width=\"600\" height=\"300\" align=\"center\"/>"
   ]
  },
  {
   "cell_type": "code",
   "execution_count": 102,
   "id": "f0543857",
   "metadata": {},
   "outputs": [
    {
     "data": {
      "text/plain": [
       "['Nice Place to eat', \" I'll come back\", ' Excellent meat', '']"
      ]
     },
     "execution_count": 102,
     "metadata": {},
     "output_type": "execute_result"
    }
   ],
   "source": [
    "re.split(r\"!\", \"Nice Place to eat! I'll come back! Excellent meat!\")"
   ]
  },
  {
   "cell_type": "markdown",
   "id": "89795028",
   "metadata": {},
   "source": [
    "#### `re.sub()`\n",
    "* Replace one or many matches with a string\n",
    "\n",
    "<img src='data/string30.png' width=\"600\" height=\"300\" align=\"center\"/>"
   ]
  },
  {
   "cell_type": "code",
   "execution_count": 103,
   "id": "689029dc",
   "metadata": {},
   "outputs": [
    {
     "data": {
      "text/plain": [
       "'I have a nice car and a nice house in a nice neighborhood'"
      ]
     },
     "execution_count": 103,
     "metadata": {},
     "output_type": "execute_result"
    }
   ],
   "source": [
    "re.sub(r\"yellow\", \"nice\", \"I have a yellow car and a yellow house in a yellow neighborhood\")"
   ]
  },
  {
   "cell_type": "markdown",
   "id": "609d42ac",
   "metadata": {},
   "source": [
    "### Supported metacharacters\n",
    "\n",
    "<img src='data/string31.png' width=\"600\" height=\"300\" align=\"center\"/>"
   ]
  },
  {
   "cell_type": "code",
   "execution_count": 104,
   "id": "040217a2",
   "metadata": {},
   "outputs": [
    {
     "data": {
      "text/plain": [
       "['User9', 'User8']"
      ]
     },
     "execution_count": 104,
     "metadata": {},
     "output_type": "execute_result"
    }
   ],
   "source": [
    "re.findall(r\"User\\d\", \"The winners are: User9, UserN, User8\")"
   ]
  },
  {
   "cell_type": "code",
   "execution_count": 105,
   "id": "371a879c",
   "metadata": {},
   "outputs": [
    {
     "data": {
      "text/plain": [
       "['UserN']"
      ]
     },
     "execution_count": 105,
     "metadata": {},
     "output_type": "execute_result"
    }
   ],
   "source": [
    "re.findall(r\"User\\D\", \"The winners are: User9, UserN, User8\")"
   ]
  },
  {
   "cell_type": "markdown",
   "id": "e696e59b",
   "metadata": {},
   "source": [
    "* If we want to find all matchees of the pattern containing `User`, following by any digit or normal character, we can use **`\\w`**\n",
    "\n",
    "<img src='data/string32.png' width=\"600\" height=\"300\" align=\"center\"/>"
   ]
  },
  {
   "cell_type": "code",
   "execution_count": 108,
   "id": "c7054faa",
   "metadata": {},
   "outputs": [
    {
     "data": {
      "text/plain": [
       "['User9', 'UserN', 'User8']"
      ]
     },
     "execution_count": 108,
     "metadata": {},
     "output_type": "execute_result"
    }
   ],
   "source": [
    "re.findall(r\"User\\w\", \"The winners are: User9, UserN, User8\")"
   ]
  },
  {
   "cell_type": "markdown",
   "id": "0a334c7f",
   "metadata": {},
   "source": [
    "In the example below, we are looking to isolate the price. We use `\\W` to match the dollar sign (\"non-word\"), followed by `\\d` to match a digit to obtain the output."
   ]
  },
  {
   "cell_type": "code",
   "execution_count": 109,
   "id": "310a489c",
   "metadata": {},
   "outputs": [
    {
     "data": {
      "text/plain": [
       "['$5']"
      ]
     },
     "execution_count": 109,
     "metadata": {},
     "output_type": "execute_result"
    }
   ],
   "source": [
    "re.findall(r\"\\W\\d\", \"This skirt is on sale, only $5 today!\")"
   ]
  },
  {
   "cell_type": "markdown",
   "id": "73c8086d",
   "metadata": {},
   "source": [
    "<img src='data/string33.png' width=\"600\" height=\"300\" align=\"center\"/>"
   ]
  },
  {
   "cell_type": "code",
   "execution_count": 110,
   "id": "38bcb6c8",
   "metadata": {},
   "outputs": [
    {
     "data": {
      "text/plain": [
       "['Data Science']"
      ]
     },
     "execution_count": 110,
     "metadata": {},
     "output_type": "execute_result"
    }
   ],
   "source": [
    "re.findall(r\"Data\\sScience\", \"I enjoy learning Data Science\")"
   ]
  },
  {
   "cell_type": "code",
   "execution_count": 111,
   "id": "e8905609",
   "metadata": {},
   "outputs": [
    {
     "data": {
      "text/plain": [
       "'I really like ice cream'"
      ]
     },
     "execution_count": 111,
     "metadata": {},
     "output_type": "execute_result"
    }
   ],
   "source": [
    "re.sub(r\"ice\\Scream\", \"ice cream\", \"I really like ice-cream\")"
   ]
  },
  {
   "cell_type": "markdown",
   "id": "09dbfcf1",
   "metadata": {},
   "source": [
    "#### Exercises: Are they bots?\n",
    "\n",
    "```\n",
    "# Import the re module\n",
    "import re\n",
    "\n",
    "# Write the regex\n",
    "regex = r\"@robot\\d\\W\"\n",
    "\n",
    "# Find all matches of regex\n",
    "print(re.findall(regex, sentiment_analysis))\n",
    "```\n",
    "\n",
    "#### Exercises: Find the numbers\n",
    "```\n",
    "# Write a regex to obtain user mentions\n",
    "print(re.findall(r\"User_mentions:\\d\", sentiment_analysis))\n",
    "\n",
    "# Write a regex to obtain number of likes\n",
    "print(re.findall(r\"likes:\\s\\d\", sentiment_analysis))\n",
    "\n",
    "# Write a regex to obtain number of retweets\n",
    "print(re.findall(r\"number\\sof\\sretweets:\\s\\d\", sentiment_analysis))\n",
    "```\n",
    "\n",
    "#### Exercises: match and split\n",
    "\n",
    "```\n",
    "# Write a regex to match pattern separating sentences\n",
    "regex_sentence = r\"\\W\\dbreak\\W\"\n",
    "\n",
    "# Replace the regex_sentence with a space\n",
    "sentiment_sub = re.sub(regex_sentence, \" \", sentiment_analysis)\n",
    "\n",
    "# Write a regex to match pattern separating words\n",
    "regex_words = r\"\\Wnew\\w\"\n",
    "\n",
    "# Replace the regex_words and print the result\n",
    "sentiment_final = re.sub(regex_words, \" \", sentiment_sub)\n",
    "print(sentiment_final)\n",
    "```"
   ]
  },
  {
   "cell_type": "markdown",
   "id": "d7fd5567",
   "metadata": {},
   "source": [
    "### Repetitions\n",
    "* Let's imagine that we are given the task to validate a password followed by four numbers\n",
    "* **To search for a pattern, we can use the `re.search` method**, which takes the regex and string and tells us if there is a match"
   ]
  },
  {
   "cell_type": "code",
   "execution_count": 112,
   "id": "8bea2071",
   "metadata": {},
   "outputs": [],
   "source": [
    "password = \"password1234\""
   ]
  },
  {
   "cell_type": "code",
   "execution_count": 113,
   "id": "0ce8c148",
   "metadata": {},
   "outputs": [
    {
     "data": {
      "text/plain": [
       "<re.Match object; span=(0, 12), match='password1234'>"
      ]
     },
     "execution_count": 113,
     "metadata": {},
     "output_type": "execute_result"
    }
   ],
   "source": [
    "re.search(r\"\\w\\w\\w\\w\\w\\w\\w\\w\\d\\d\\d\\d\", password)"
   ]
  },
  {
   "cell_type": "markdown",
   "id": "3f37c92a",
   "metadata": {},
   "source": [
    "#### Quantifiers\n",
    "* **Quantifiers:** A metacharacter that tells the regex engine how many times to match a character immediately to its left\n",
    "* **`+`** indicates a character that appears one or more times"
   ]
  },
  {
   "cell_type": "code",
   "execution_count": 114,
   "id": "1112a5ee",
   "metadata": {},
   "outputs": [
    {
     "data": {
      "text/plain": [
       "<re.Match object; span=(0, 12), match='password1234'>"
      ]
     },
     "execution_count": 114,
     "metadata": {},
     "output_type": "execute_result"
    }
   ],
   "source": [
    "re.search(r\"\\w{8}\\d{4}\", password)"
   ]
  },
  {
   "cell_type": "markdown",
   "id": "b8944af1",
   "metadata": {},
   "source": [
    "<img src='data/string34.png' width=\"600\" height=\"300\" align=\"center\"/>\n",
    "\n",
    "<img src='data/string35.png' width=\"600\" height=\"300\" align=\"center\"/>\n",
    "\n",
    "<img src='data/string36.png' width=\"600\" height=\"300\" align=\"center\"/>\n",
    "\n",
    "<img src='data/string37.png' width=\"600\" height=\"300\" align=\"center\"/>\n",
    "\n",
    "<img src='data/string38.png' width=\"600\" height=\"300\" align=\"center\"/>\n",
    "\n",
    "<img src='data/string39.png' width=\"300\" height=\"150\" align=\"center\"/>"
   ]
  },
  {
   "cell_type": "markdown",
   "id": "238ac1e3",
   "metadata": {},
   "source": [
    "#### Exercises: Everything clean\n",
    "\n",
    "```\n",
    "# Import re module\n",
    "import re\n",
    "\n",
    "for tweet in sentiment_analysis:\n",
    "  \t# Write regex to match http links and print out result\n",
    "\tprint(re.findall(r\"http\\S+\", tweet))\n",
    "\n",
    "\t# Write regex to match user mentions and print out result\n",
    "\tprint(re.findall(r\"@\\w+\", tweet))\n",
    "```\n",
    "\n",
    "#### Exercises: Some time ago\n",
    "\n",
    "```\n",
    "# Complete the for loop with a regex to find dates\n",
    "for date in sentiment_analysis:\n",
    "\tprint(re.findall(r\"\\d{1,2}\\s\\w+\\sago\", date))\n",
    "\n",
    "# Complete the for loop with a regex to find dates\n",
    "for date in sentiment_analysis:\n",
    "\tprint(re.findall(r\"\\d{1,2}\\w{2}\\s\\w+\\s\\d{4}\", date))\n",
    "    \n",
    "# Complete the for loop with a regex to find dates\n",
    "for date in sentiment_analysis:\n",
    "\tprint(re.findall(r\"\\d{1,2}\\w{2}\\s\\w+\\s\\d{4}\\s\\d{2}:\\d{2}\", date))\n",
    "```\n",
    "\n",
    "#### Exercises: Getting tokens\n",
    "\n",
    "```\n",
    "# Write a regex matching the hashtag pattern\n",
    "regex = r\"#\\w+\"\n",
    "\n",
    "# Replace the regex by an empty string\n",
    "no_hashtag = re.sub(regex, \" \", sentiment_analysis)\n",
    "\n",
    "# Write a regex matching the hashtag pattern\n",
    "regex = r\"#\\w+\"\n",
    "\n",
    "# Replace the regex by an empty string\n",
    "no_hashtag = re.sub(regex, \"\", sentiment_analysis)\n",
    "\n",
    "# Get tokens by splitting text\n",
    "print(re.split(r\"\\s+\", no_hashtag))\n",
    "```"
   ]
  },
  {
   "cell_type": "markdown",
   "id": "993994ca",
   "metadata": {},
   "source": [
    "### Regex metacharacters\n",
    "#### Looking for patterns\n",
    "* The difference below, is that the `.match` is anchored at the beginning of the string\n",
    "* Notice in the second example `.search` finds the match, while `.match` does not.\n",
    "\n",
    "<img src='data/string40.png' width=\"600\" height=\"300\" align=\"center\"/>\n",
    "\n",
    "*** \n",
    "\n",
    "<img src='data/string41.png' width=\"600\" height=\"300\" align=\"center\"/>\n",
    "\n",
    "* The `.` character matches any character except [newline](https://en.wikipedia.org/wiki/Newline)\n",
    "\n",
    "***\n",
    "\n",
    "<img src='data/string42.png' width=\"600\" height=\"300\" align=\"center\"/>\n",
    "\n",
    "* The circumflex, `^` anchors the regex to the start of a string\n",
    "\n",
    "***\n",
    "\n",
    "<img src='data/string43.png' width=\"600\" height=\"300\" align=\"center\"/>\n",
    "\n",
    "* On the contrary, the dollar sign anchors the regex to the end of the string.\n",
    "\n",
    "***\n",
    "\n",
    "<img src='data/string44.png' width=\"600\" height=\"300\" align=\"center\"/>\n",
    "\n",
    "* To use characters like the dollar sign or dot, which also have other meanings, place `\\` first\n",
    "\n",
    "***\n",
    "\n",
    "<img src='data/string45.png' width=\"600\" height=\"300\" align=\"center\"/>\n",
    "\n",
    "* Or operator: `|`\n",
    "\n",
    "***\n",
    "\n",
    "<img src='data/string46.png' width=\"600\" height=\"300\" align=\"center\"/>\n",
    "\n",
    "* SET/RANGE of characters operator: `[ ]`\n",
    "\n",
    "<img src='data/string47.png' width=\"600\" height=\"300\" align=\"center\"/>\n",
    "\n",
    "***\n",
    "\n",
    "<img src='data/string48.png' width=\"600\" height=\"300\" align=\"center\"/>\n",
    "\n",
    "* **The circumflex *inside square brackets* transforms an expression into a negative\n",
    "\n",
    "***"
   ]
  },
  {
   "cell_type": "markdown",
   "id": "92cc23ca",
   "metadata": {},
   "source": [
    "#### Exercises: Finding Files\n",
    "\n",
    "```\n",
    "# Write a regex to match text file name\n",
    "regex = r\"^[aeiouAEIOU]{2,3}.+\\.txt\"\n",
    "\n",
    "for text in sentiment_analysis:\n",
    "\t# Find all matches of the regex\n",
    "\tprint(re.findall(regex, text))\n",
    "    \n",
    "\t# Replace all matches with empty string\n",
    "\tprint(re.sub(regex, \"\", text))\n",
    "```\n",
    "\n",
    "#### Exercises: Give me your email\n",
    "\n",
    "```\n",
    "# Write a regex to match a valid email address\n",
    "regex = r\"[a-zA-Z].+@\\w+\\.com\"\n",
    "\n",
    "for example in emails:\n",
    "  \t# Match the regex to the string\n",
    "    if re.findall(regex, example):\n",
    "        # Complete the format method to print out the result\n",
    "      \tprint(\"The email {email_example} is a valid email\".format(email_example=example))\n",
    "    else:\n",
    "      \tprint(\"The email {email_example} is invalid\".format(email_example=example)) \n",
    "````\n",
    "\n",
    "#### Exercises: Invalid password\n",
    "\n",
    "```\n",
    "# Write a regex to check if the password is valid\n",
    "regex = r\"[a-zA-Z].{8,20}\"\n",
    "\n",
    "for example in passwords:\n",
    "  \t# Scan the strings to find a match\n",
    "    if re.findall(regex, example):\n",
    "        # Complete the format method to print out the result\n",
    "      \tprint(\"The password {pass_example} is a valid password\".format(pass_example=example))\n",
    "    else:\n",
    "      \tprint(\"The password {pass_example} is invalid\".format(pass_example=example))  \n",
    "```"
   ]
  },
  {
   "cell_type": "code",
   "execution_count": null,
   "id": "65cdb37d",
   "metadata": {},
   "outputs": [],
   "source": []
  },
  {
   "cell_type": "code",
   "execution_count": null,
   "id": "59ddfbad",
   "metadata": {},
   "outputs": [],
   "source": []
  },
  {
   "cell_type": "code",
   "execution_count": null,
   "id": "3bdb1f08",
   "metadata": {},
   "outputs": [],
   "source": []
  },
  {
   "cell_type": "code",
   "execution_count": null,
   "id": "1f7cdd52",
   "metadata": {},
   "outputs": [],
   "source": []
  },
  {
   "cell_type": "code",
   "execution_count": null,
   "id": "6043de18",
   "metadata": {},
   "outputs": [],
   "source": []
  },
  {
   "cell_type": "code",
   "execution_count": null,
   "id": "0bf17a82",
   "metadata": {},
   "outputs": [],
   "source": []
  },
  {
   "cell_type": "markdown",
   "id": "2418e6d7",
   "metadata": {},
   "source": [
    "<img src='data/string.png' width=\"600\" height=\"300\" align=\"center\"/>"
   ]
  }
 ],
 "metadata": {
  "kernelspec": {
   "display_name": "Python 3",
   "language": "python",
   "name": "python3"
  },
  "language_info": {
   "codemirror_mode": {
    "name": "ipython",
    "version": 3
   },
   "file_extension": ".py",
   "mimetype": "text/x-python",
   "name": "python",
   "nbconvert_exporter": "python",
   "pygments_lexer": "ipython3",
   "version": "3.8.8"
  }
 },
 "nbformat": 4,
 "nbformat_minor": 5
}
