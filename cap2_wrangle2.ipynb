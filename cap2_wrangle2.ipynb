{
 "cells": [
  {
   "cell_type": "markdown",
   "id": "e6535a75",
   "metadata": {},
   "source": [
    "# Capstone 2: Data Wrangling"
   ]
  },
  {
   "cell_type": "code",
   "execution_count": 1,
   "id": "71c2bac2",
   "metadata": {},
   "outputs": [],
   "source": [
    "import pandas as pd\n",
    "import numpy as np"
   ]
  },
  {
   "cell_type": "markdown",
   "id": "0034de59",
   "metadata": {},
   "source": [
    "### COVID dataset:"
   ]
  },
  {
   "cell_type": "code",
   "execution_count": 2,
   "id": "615b423c",
   "metadata": {},
   "outputs": [],
   "source": [
    "train = pd.read_csv('train.csv')"
   ]
  },
  {
   "cell_type": "code",
   "execution_count": 3,
   "id": "e7b4717a",
   "metadata": {
    "scrolled": true
   },
   "outputs": [
    {
     "data": {
      "text/html": [
       "<div>\n",
       "<style scoped>\n",
       "    .dataframe tbody tr th:only-of-type {\n",
       "        vertical-align: middle;\n",
       "    }\n",
       "\n",
       "    .dataframe tbody tr th {\n",
       "        vertical-align: top;\n",
       "    }\n",
       "\n",
       "    .dataframe thead th {\n",
       "        text-align: right;\n",
       "    }\n",
       "</style>\n",
       "<table border=\"1\" class=\"dataframe\">\n",
       "  <thead>\n",
       "    <tr style=\"text-align: right;\">\n",
       "      <th></th>\n",
       "      <th>Id</th>\n",
       "      <th>Province/State</th>\n",
       "      <th>Country/Region</th>\n",
       "      <th>Lat</th>\n",
       "      <th>Long</th>\n",
       "      <th>Date</th>\n",
       "      <th>ConfirmedCases</th>\n",
       "      <th>Fatalities</th>\n",
       "    </tr>\n",
       "  </thead>\n",
       "  <tbody>\n",
       "    <tr>\n",
       "      <th>0</th>\n",
       "      <td>1</td>\n",
       "      <td>NaN</td>\n",
       "      <td>Afghanistan</td>\n",
       "      <td>33.0</td>\n",
       "      <td>65.0</td>\n",
       "      <td>2020-01-22</td>\n",
       "      <td>0.0</td>\n",
       "      <td>0.0</td>\n",
       "    </tr>\n",
       "    <tr>\n",
       "      <th>1</th>\n",
       "      <td>2</td>\n",
       "      <td>NaN</td>\n",
       "      <td>Afghanistan</td>\n",
       "      <td>33.0</td>\n",
       "      <td>65.0</td>\n",
       "      <td>2020-01-23</td>\n",
       "      <td>0.0</td>\n",
       "      <td>0.0</td>\n",
       "    </tr>\n",
       "    <tr>\n",
       "      <th>2</th>\n",
       "      <td>3</td>\n",
       "      <td>NaN</td>\n",
       "      <td>Afghanistan</td>\n",
       "      <td>33.0</td>\n",
       "      <td>65.0</td>\n",
       "      <td>2020-01-24</td>\n",
       "      <td>0.0</td>\n",
       "      <td>0.0</td>\n",
       "    </tr>\n",
       "    <tr>\n",
       "      <th>3</th>\n",
       "      <td>4</td>\n",
       "      <td>NaN</td>\n",
       "      <td>Afghanistan</td>\n",
       "      <td>33.0</td>\n",
       "      <td>65.0</td>\n",
       "      <td>2020-01-25</td>\n",
       "      <td>0.0</td>\n",
       "      <td>0.0</td>\n",
       "    </tr>\n",
       "    <tr>\n",
       "      <th>4</th>\n",
       "      <td>5</td>\n",
       "      <td>NaN</td>\n",
       "      <td>Afghanistan</td>\n",
       "      <td>33.0</td>\n",
       "      <td>65.0</td>\n",
       "      <td>2020-01-26</td>\n",
       "      <td>0.0</td>\n",
       "      <td>0.0</td>\n",
       "    </tr>\n",
       "  </tbody>\n",
       "</table>\n",
       "</div>"
      ],
      "text/plain": [
       "   Id Province/State Country/Region   Lat  Long        Date  ConfirmedCases  \\\n",
       "0   1            NaN    Afghanistan  33.0  65.0  2020-01-22             0.0   \n",
       "1   2            NaN    Afghanistan  33.0  65.0  2020-01-23             0.0   \n",
       "2   3            NaN    Afghanistan  33.0  65.0  2020-01-24             0.0   \n",
       "3   4            NaN    Afghanistan  33.0  65.0  2020-01-25             0.0   \n",
       "4   5            NaN    Afghanistan  33.0  65.0  2020-01-26             0.0   \n",
       "\n",
       "   Fatalities  \n",
       "0         0.0  \n",
       "1         0.0  \n",
       "2         0.0  \n",
       "3         0.0  \n",
       "4         0.0  "
      ]
     },
     "execution_count": 3,
     "metadata": {},
     "output_type": "execute_result"
    }
   ],
   "source": [
    "train.head()"
   ]
  },
  {
   "cell_type": "code",
   "execution_count": 4,
   "id": "8829e412",
   "metadata": {},
   "outputs": [
    {
     "data": {
      "text/plain": [
       "array(['Afghanistan', 'Albania', 'Algeria', 'Andorra',\n",
       "       'Antigua and Barbuda', 'Argentina', 'Armenia', 'Aruba',\n",
       "       'Australia', 'Austria', 'Azerbaijan', 'Bahrain', 'Bangladesh',\n",
       "       'Barbados', 'Belarus', 'Belgium', 'Benin', 'Bhutan', 'Bolivia',\n",
       "       'Bosnia and Herzegovina', 'Brazil', 'Brunei', 'Bulgaria',\n",
       "       'Burkina Faso', 'Cambodia', 'Cameroon', 'Canada',\n",
       "       'Central African Republic', 'Chile', 'China', 'Colombia',\n",
       "       'Congo (Brazzaville)', 'Congo (Kinshasa)', 'Costa Rica',\n",
       "       \"Cote d'Ivoire\", 'Croatia', 'Cruise Ship', 'Cuba', 'Cyprus',\n",
       "       'Czechia', 'Denmark', 'Djibouti', 'Dominican Republic', 'Ecuador',\n",
       "       'Egypt', 'Equatorial Guinea', 'Estonia', 'Eswatini', 'Ethiopia',\n",
       "       'Finland', 'France', 'French Guiana', 'Gabon', 'Gambia, The',\n",
       "       'Georgia', 'Germany', 'Ghana', 'Greece', 'Greenland', 'Guadeloupe',\n",
       "       'Guam', 'Guatemala', 'Guernsey', 'Guinea', 'Guyana', 'Holy See',\n",
       "       'Honduras', 'Hungary', 'Iceland', 'India', 'Indonesia', 'Iran',\n",
       "       'Iraq', 'Ireland', 'Israel', 'Italy', 'Jamaica', 'Japan', 'Jersey',\n",
       "       'Jordan', 'Kazakhstan', 'Kenya', 'Korea, South', 'Kosovo',\n",
       "       'Kuwait', 'Kyrgyzstan', 'Latvia', 'Lebanon', 'Liberia',\n",
       "       'Liechtenstein', 'Lithuania', 'Luxembourg', 'Malaysia', 'Maldives',\n",
       "       'Malta', 'Martinique', 'Mauritania', 'Mauritius', 'Mayotte',\n",
       "       'Mexico', 'Moldova', 'Monaco', 'Mongolia', 'Montenegro', 'Morocco',\n",
       "       'Namibia', 'Nepal', 'Netherlands', 'New Zealand', 'Nigeria',\n",
       "       'North Macedonia', 'Norway', 'Oman', 'Pakistan', 'Panama',\n",
       "       'Paraguay', 'Peru', 'Philippines', 'Poland', 'Portugal',\n",
       "       'Puerto Rico', 'Qatar', 'Republic of the Congo', 'Reunion',\n",
       "       'Romania', 'Russia', 'Rwanda', 'Saint Lucia',\n",
       "       'Saint Vincent and the Grenadines', 'San Marino', 'Saudi Arabia',\n",
       "       'Senegal', 'Serbia', 'Seychelles', 'Singapore', 'Slovakia',\n",
       "       'Slovenia', 'Somalia', 'South Africa', 'Spain', 'Sri Lanka',\n",
       "       'Sudan', 'Suriname', 'Sweden', 'Switzerland', 'Taiwan*',\n",
       "       'Tanzania', 'Thailand', 'The Bahamas', 'The Gambia', 'Togo',\n",
       "       'Trinidad and Tobago', 'Tunisia', 'Turkey', 'US', 'Ukraine',\n",
       "       'United Arab Emirates', 'United Kingdom', 'Uruguay', 'Uzbekistan',\n",
       "       'Venezuela', 'Vietnam', 'Zambia'], dtype=object)"
      ]
     },
     "execution_count": 4,
     "metadata": {},
     "output_type": "execute_result"
    }
   ],
   "source": [
    "#How is 'United States' written in this DataFrame? US? USA? United States of America?\n",
    "train['Country/Region'].unique()"
   ]
  },
  {
   "cell_type": "code",
   "execution_count": 5,
   "id": "36b209fa",
   "metadata": {},
   "outputs": [
    {
     "name": "stdout",
     "output_type": "stream",
     "text": [
      "(3654, 9)\n"
     ]
    },
    {
     "data": {
      "text/html": [
       "<div>\n",
       "<style scoped>\n",
       "    .dataframe tbody tr th:only-of-type {\n",
       "        vertical-align: middle;\n",
       "    }\n",
       "\n",
       "    .dataframe tbody tr th {\n",
       "        vertical-align: top;\n",
       "    }\n",
       "\n",
       "    .dataframe thead th {\n",
       "        text-align: right;\n",
       "    }\n",
       "</style>\n",
       "<table border=\"1\" class=\"dataframe\">\n",
       "  <thead>\n",
       "    <tr style=\"text-align: right;\">\n",
       "      <th></th>\n",
       "      <th>index</th>\n",
       "      <th>Id</th>\n",
       "      <th>Province/State</th>\n",
       "      <th>Country/Region</th>\n",
       "      <th>Lat</th>\n",
       "      <th>Long</th>\n",
       "      <th>Date</th>\n",
       "      <th>ConfirmedCases</th>\n",
       "      <th>Fatalities</th>\n",
       "    </tr>\n",
       "  </thead>\n",
       "  <tbody>\n",
       "    <tr>\n",
       "      <th>0</th>\n",
       "      <td>13482</td>\n",
       "      <td>19903</td>\n",
       "      <td>Alabama</td>\n",
       "      <td>US</td>\n",
       "      <td>32.3182</td>\n",
       "      <td>-86.9023</td>\n",
       "      <td>2020-01-22</td>\n",
       "      <td>0.0</td>\n",
       "      <td>0.0</td>\n",
       "    </tr>\n",
       "    <tr>\n",
       "      <th>1</th>\n",
       "      <td>13483</td>\n",
       "      <td>19904</td>\n",
       "      <td>Alabama</td>\n",
       "      <td>US</td>\n",
       "      <td>32.3182</td>\n",
       "      <td>-86.9023</td>\n",
       "      <td>2020-01-23</td>\n",
       "      <td>0.0</td>\n",
       "      <td>0.0</td>\n",
       "    </tr>\n",
       "    <tr>\n",
       "      <th>2</th>\n",
       "      <td>13484</td>\n",
       "      <td>19905</td>\n",
       "      <td>Alabama</td>\n",
       "      <td>US</td>\n",
       "      <td>32.3182</td>\n",
       "      <td>-86.9023</td>\n",
       "      <td>2020-01-24</td>\n",
       "      <td>0.0</td>\n",
       "      <td>0.0</td>\n",
       "    </tr>\n",
       "    <tr>\n",
       "      <th>3</th>\n",
       "      <td>13485</td>\n",
       "      <td>19906</td>\n",
       "      <td>Alabama</td>\n",
       "      <td>US</td>\n",
       "      <td>32.3182</td>\n",
       "      <td>-86.9023</td>\n",
       "      <td>2020-01-25</td>\n",
       "      <td>0.0</td>\n",
       "      <td>0.0</td>\n",
       "    </tr>\n",
       "    <tr>\n",
       "      <th>4</th>\n",
       "      <td>13486</td>\n",
       "      <td>19907</td>\n",
       "      <td>Alabama</td>\n",
       "      <td>US</td>\n",
       "      <td>32.3182</td>\n",
       "      <td>-86.9023</td>\n",
       "      <td>2020-01-26</td>\n",
       "      <td>0.0</td>\n",
       "      <td>0.0</td>\n",
       "    </tr>\n",
       "  </tbody>\n",
       "</table>\n",
       "</div>"
      ],
      "text/plain": [
       "   index     Id Province/State Country/Region      Lat     Long        Date  \\\n",
       "0  13482  19903        Alabama             US  32.3182 -86.9023  2020-01-22   \n",
       "1  13483  19904        Alabama             US  32.3182 -86.9023  2020-01-23   \n",
       "2  13484  19905        Alabama             US  32.3182 -86.9023  2020-01-24   \n",
       "3  13485  19906        Alabama             US  32.3182 -86.9023  2020-01-25   \n",
       "4  13486  19907        Alabama             US  32.3182 -86.9023  2020-01-26   \n",
       "\n",
       "   ConfirmedCases  Fatalities  \n",
       "0             0.0         0.0  \n",
       "1             0.0         0.0  \n",
       "2             0.0         0.0  \n",
       "3             0.0         0.0  \n",
       "4             0.0         0.0  "
      ]
     },
     "execution_count": 5,
     "metadata": {},
     "output_type": "execute_result"
    }
   ],
   "source": [
    "#Isolate rows where 'Country/Region' == 'US'\n",
    "#reset index\n",
    "#What does the new df look like?\n",
    "US_tr= train[train['Country/Region'] == 'US'].reset_index()\n",
    "print(US_tr.shape)\n",
    "US_tr.head()"
   ]
  },
  {
   "cell_type": "code",
   "execution_count": 6,
   "id": "549385cc",
   "metadata": {},
   "outputs": [
    {
     "data": {
      "text/plain": [
       "index             0\n",
       "Id                0\n",
       "Province/State    0\n",
       "Country/Region    0\n",
       "Lat               0\n",
       "Long              0\n",
       "Date              0\n",
       "ConfirmedCases    0\n",
       "Fatalities        0\n",
       "dtype: int64"
      ]
     },
     "execution_count": 6,
     "metadata": {},
     "output_type": "execute_result"
    }
   ],
   "source": [
    "#how many missing values per column?\n",
    "US_tr.isna().sum()"
   ]
  },
  {
   "cell_type": "code",
   "execution_count": 7,
   "id": "7f8127aa",
   "metadata": {},
   "outputs": [
    {
     "data": {
      "text/plain": [
       "'2020-03-24'"
      ]
     },
     "execution_count": 7,
     "metadata": {},
     "output_type": "execute_result"
    }
   ],
   "source": [
    "#Find max date in COVID dataset to determine date range to limit temp dataset to:\n",
    "max(US_tr['Date'])"
   ]
  },
  {
   "cell_type": "code",
   "execution_count": 8,
   "id": "9e690606",
   "metadata": {},
   "outputs": [
    {
     "data": {
      "text/plain": [
       "'2020-01-22'"
      ]
     },
     "execution_count": 8,
     "metadata": {},
     "output_type": "execute_result"
    }
   ],
   "source": [
    "min(US_tr['Date'])"
   ]
  },
  {
   "cell_type": "code",
   "execution_count": 9,
   "id": "df8e0ae7",
   "metadata": {},
   "outputs": [],
   "source": [
    "#Remove columns we don't need:\n",
    "US_tr = US_tr.drop(columns=['index', 'Id', 'Country/Region', 'Lat', 'Long'])"
   ]
  },
  {
   "cell_type": "code",
   "execution_count": 10,
   "id": "7ef13eb4",
   "metadata": {},
   "outputs": [],
   "source": [
    "#Rename Province/State column to 'State'\n",
    "US_tr.rename(columns = {'Province/State':'State'}, inplace = True)"
   ]
  },
  {
   "cell_type": "code",
   "execution_count": 11,
   "id": "19c683d6",
   "metadata": {},
   "outputs": [
    {
     "data": {
      "text/plain": [
       "dtype('O')"
      ]
     },
     "execution_count": 11,
     "metadata": {},
     "output_type": "execute_result"
    }
   ],
   "source": [
    "#Is Date column correct dtype?\n",
    "US_tr['Date'].dtypes"
   ]
  },
  {
   "cell_type": "code",
   "execution_count": 12,
   "id": "e702aa1c",
   "metadata": {},
   "outputs": [],
   "source": [
    "#Update Date column to datetime object:\n",
    "US_tr['Date']=pd.to_datetime(US_tr['Date'])"
   ]
  },
  {
   "cell_type": "code",
   "execution_count": 13,
   "id": "f7ce4d47",
   "metadata": {},
   "outputs": [
    {
     "data": {
      "text/plain": [
       "dtype('<M8[ns]')"
      ]
     },
     "execution_count": 13,
     "metadata": {},
     "output_type": "execute_result"
    }
   ],
   "source": [
    "US_tr['Date'].dtypes"
   ]
  },
  {
   "cell_type": "code",
   "execution_count": 14,
   "id": "906bdafc",
   "metadata": {},
   "outputs": [],
   "source": [
    "listUS_tr = US_tr['State'].unique()"
   ]
  },
  {
   "cell_type": "code",
   "execution_count": 15,
   "id": "4c2bf9fc",
   "metadata": {},
   "outputs": [
    {
     "data": {
      "text/plain": [
       "58"
      ]
     },
     "execution_count": 15,
     "metadata": {},
     "output_type": "execute_result"
    }
   ],
   "source": [
    "len(listUS_tr)"
   ]
  },
  {
   "cell_type": "code",
   "execution_count": 16,
   "id": "f97142e5",
   "metadata": {},
   "outputs": [
    {
     "data": {
      "text/plain": [
       "array(['Alabama', 'Alaska', 'Arizona', 'Arkansas', 'California',\n",
       "       'Colorado', 'Connecticut', 'Delaware', 'Diamond Princess',\n",
       "       'District of Columbia', 'Florida', 'Georgia', 'Grand Princess',\n",
       "       'Guam', 'Hawaii', 'Idaho', 'Illinois', 'Indiana', 'Iowa', 'Kansas',\n",
       "       'Kentucky', 'Louisiana', 'Maine', 'Maryland', 'Massachusetts',\n",
       "       'Michigan', 'Minnesota', 'Mississippi', 'Missouri', 'Montana',\n",
       "       'Nebraska', 'Nevada', 'New Hampshire', 'New Jersey', 'New Mexico',\n",
       "       'New York', 'North Carolina', 'North Dakota', 'Ohio', 'Oklahoma',\n",
       "       'Oregon', 'Pennsylvania', 'Puerto Rico', 'Rhode Island',\n",
       "       'South Carolina', 'South Dakota', 'Tennessee', 'Texas', 'US',\n",
       "       'United States Virgin Islands', 'Utah', 'Vermont',\n",
       "       'Virgin Islands', 'Virginia', 'Washington', 'West Virginia',\n",
       "       'Wisconsin', 'Wyoming'], dtype=object)"
      ]
     },
     "execution_count": 16,
     "metadata": {},
     "output_type": "execute_result"
    }
   ],
   "source": [
    "listUS_tr"
   ]
  },
  {
   "cell_type": "code",
   "execution_count": 17,
   "id": "e14d1f84",
   "metadata": {},
   "outputs": [
    {
     "data": {
      "text/html": [
       "<div>\n",
       "<style scoped>\n",
       "    .dataframe tbody tr th:only-of-type {\n",
       "        vertical-align: middle;\n",
       "    }\n",
       "\n",
       "    .dataframe tbody tr th {\n",
       "        vertical-align: top;\n",
       "    }\n",
       "\n",
       "    .dataframe thead th {\n",
       "        text-align: right;\n",
       "    }\n",
       "</style>\n",
       "<table border=\"1\" class=\"dataframe\">\n",
       "  <thead>\n",
       "    <tr style=\"text-align: right;\">\n",
       "      <th></th>\n",
       "      <th>State</th>\n",
       "      <th>Date</th>\n",
       "      <th>ConfirmedCases</th>\n",
       "      <th>Fatalities</th>\n",
       "    </tr>\n",
       "  </thead>\n",
       "  <tbody>\n",
       "    <tr>\n",
       "      <th>3024</th>\n",
       "      <td>US</td>\n",
       "      <td>2020-01-22</td>\n",
       "      <td>0.0</td>\n",
       "      <td>0.0</td>\n",
       "    </tr>\n",
       "    <tr>\n",
       "      <th>3025</th>\n",
       "      <td>US</td>\n",
       "      <td>2020-01-23</td>\n",
       "      <td>0.0</td>\n",
       "      <td>0.0</td>\n",
       "    </tr>\n",
       "    <tr>\n",
       "      <th>3026</th>\n",
       "      <td>US</td>\n",
       "      <td>2020-01-24</td>\n",
       "      <td>0.0</td>\n",
       "      <td>0.0</td>\n",
       "    </tr>\n",
       "    <tr>\n",
       "      <th>3027</th>\n",
       "      <td>US</td>\n",
       "      <td>2020-01-25</td>\n",
       "      <td>0.0</td>\n",
       "      <td>0.0</td>\n",
       "    </tr>\n",
       "    <tr>\n",
       "      <th>3028</th>\n",
       "      <td>US</td>\n",
       "      <td>2020-01-26</td>\n",
       "      <td>0.0</td>\n",
       "      <td>0.0</td>\n",
       "    </tr>\n",
       "    <tr>\n",
       "      <th>...</th>\n",
       "      <td>...</td>\n",
       "      <td>...</td>\n",
       "      <td>...</td>\n",
       "      <td>...</td>\n",
       "    </tr>\n",
       "    <tr>\n",
       "      <th>3082</th>\n",
       "      <td>US</td>\n",
       "      <td>2020-03-20</td>\n",
       "      <td>0.0</td>\n",
       "      <td>0.0</td>\n",
       "    </tr>\n",
       "    <tr>\n",
       "      <th>3083</th>\n",
       "      <td>US</td>\n",
       "      <td>2020-03-21</td>\n",
       "      <td>0.0</td>\n",
       "      <td>0.0</td>\n",
       "    </tr>\n",
       "    <tr>\n",
       "      <th>3084</th>\n",
       "      <td>US</td>\n",
       "      <td>2020-03-22</td>\n",
       "      <td>0.0</td>\n",
       "      <td>0.0</td>\n",
       "    </tr>\n",
       "    <tr>\n",
       "      <th>3085</th>\n",
       "      <td>US</td>\n",
       "      <td>2020-03-23</td>\n",
       "      <td>0.0</td>\n",
       "      <td>0.0</td>\n",
       "    </tr>\n",
       "    <tr>\n",
       "      <th>3086</th>\n",
       "      <td>US</td>\n",
       "      <td>2020-03-24</td>\n",
       "      <td>0.0</td>\n",
       "      <td>0.0</td>\n",
       "    </tr>\n",
       "  </tbody>\n",
       "</table>\n",
       "<p>63 rows × 4 columns</p>\n",
       "</div>"
      ],
      "text/plain": [
       "     State       Date  ConfirmedCases  Fatalities\n",
       "3024    US 2020-01-22             0.0         0.0\n",
       "3025    US 2020-01-23             0.0         0.0\n",
       "3026    US 2020-01-24             0.0         0.0\n",
       "3027    US 2020-01-25             0.0         0.0\n",
       "3028    US 2020-01-26             0.0         0.0\n",
       "...    ...        ...             ...         ...\n",
       "3082    US 2020-03-20             0.0         0.0\n",
       "3083    US 2020-03-21             0.0         0.0\n",
       "3084    US 2020-03-22             0.0         0.0\n",
       "3085    US 2020-03-23             0.0         0.0\n",
       "3086    US 2020-03-24             0.0         0.0\n",
       "\n",
       "[63 rows x 4 columns]"
      ]
     },
     "execution_count": 17,
     "metadata": {},
     "output_type": "execute_result"
    }
   ],
   "source": [
    "US_tr[US_tr['State']=='US']"
   ]
  },
  {
   "cell_type": "code",
   "execution_count": 18,
   "id": "c1de5afa",
   "metadata": {},
   "outputs": [],
   "source": [
    "US_tr= US_tr[US_tr['State'] != 'US']"
   ]
  },
  {
   "cell_type": "code",
   "execution_count": 19,
   "id": "33663482",
   "metadata": {
    "scrolled": true
   },
   "outputs": [
    {
     "data": {
      "text/plain": [
       "57"
      ]
     },
     "execution_count": 19,
     "metadata": {},
     "output_type": "execute_result"
    }
   ],
   "source": [
    "len(US_tr['State'].unique())"
   ]
  },
  {
   "cell_type": "markdown",
   "id": "a2f469f0",
   "metadata": {},
   "source": [
    "### Temperature Dataset:"
   ]
  },
  {
   "cell_type": "code",
   "execution_count": 20,
   "id": "7439f19d",
   "metadata": {},
   "outputs": [
    {
     "name": "stderr",
     "output_type": "stream",
     "text": [
      "/Users/abigailmorgan/opt/anaconda3/lib/python3.8/site-packages/IPython/core/interactiveshell.py:3165: DtypeWarning: Columns (2) have mixed types.Specify dtype option on import or set low_memory=False.\n",
      "  has_raised = await self.run_ast_nodes(code_ast.body, cell_name,\n"
     ]
    }
   ],
   "source": [
    "#Import COVID dataset:\n",
    "temp_df = pd.read_csv('city_temperature.csv')"
   ]
  },
  {
   "cell_type": "code",
   "execution_count": 21,
   "id": "0b2712f9",
   "metadata": {},
   "outputs": [
    {
     "data": {
      "text/html": [
       "<div>\n",
       "<style scoped>\n",
       "    .dataframe tbody tr th:only-of-type {\n",
       "        vertical-align: middle;\n",
       "    }\n",
       "\n",
       "    .dataframe tbody tr th {\n",
       "        vertical-align: top;\n",
       "    }\n",
       "\n",
       "    .dataframe thead th {\n",
       "        text-align: right;\n",
       "    }\n",
       "</style>\n",
       "<table border=\"1\" class=\"dataframe\">\n",
       "  <thead>\n",
       "    <tr style=\"text-align: right;\">\n",
       "      <th></th>\n",
       "      <th>Region</th>\n",
       "      <th>Country</th>\n",
       "      <th>State</th>\n",
       "      <th>City</th>\n",
       "      <th>Month</th>\n",
       "      <th>Day</th>\n",
       "      <th>Year</th>\n",
       "      <th>AvgTemperature</th>\n",
       "    </tr>\n",
       "  </thead>\n",
       "  <tbody>\n",
       "    <tr>\n",
       "      <th>0</th>\n",
       "      <td>Africa</td>\n",
       "      <td>Algeria</td>\n",
       "      <td>NaN</td>\n",
       "      <td>Algiers</td>\n",
       "      <td>1</td>\n",
       "      <td>1</td>\n",
       "      <td>1995</td>\n",
       "      <td>64.2</td>\n",
       "    </tr>\n",
       "    <tr>\n",
       "      <th>1</th>\n",
       "      <td>Africa</td>\n",
       "      <td>Algeria</td>\n",
       "      <td>NaN</td>\n",
       "      <td>Algiers</td>\n",
       "      <td>1</td>\n",
       "      <td>2</td>\n",
       "      <td>1995</td>\n",
       "      <td>49.4</td>\n",
       "    </tr>\n",
       "    <tr>\n",
       "      <th>2</th>\n",
       "      <td>Africa</td>\n",
       "      <td>Algeria</td>\n",
       "      <td>NaN</td>\n",
       "      <td>Algiers</td>\n",
       "      <td>1</td>\n",
       "      <td>3</td>\n",
       "      <td>1995</td>\n",
       "      <td>48.8</td>\n",
       "    </tr>\n",
       "    <tr>\n",
       "      <th>3</th>\n",
       "      <td>Africa</td>\n",
       "      <td>Algeria</td>\n",
       "      <td>NaN</td>\n",
       "      <td>Algiers</td>\n",
       "      <td>1</td>\n",
       "      <td>4</td>\n",
       "      <td>1995</td>\n",
       "      <td>46.4</td>\n",
       "    </tr>\n",
       "    <tr>\n",
       "      <th>4</th>\n",
       "      <td>Africa</td>\n",
       "      <td>Algeria</td>\n",
       "      <td>NaN</td>\n",
       "      <td>Algiers</td>\n",
       "      <td>1</td>\n",
       "      <td>5</td>\n",
       "      <td>1995</td>\n",
       "      <td>47.9</td>\n",
       "    </tr>\n",
       "  </tbody>\n",
       "</table>\n",
       "</div>"
      ],
      "text/plain": [
       "   Region  Country State     City  Month  Day  Year  AvgTemperature\n",
       "0  Africa  Algeria   NaN  Algiers      1    1  1995            64.2\n",
       "1  Africa  Algeria   NaN  Algiers      1    2  1995            49.4\n",
       "2  Africa  Algeria   NaN  Algiers      1    3  1995            48.8\n",
       "3  Africa  Algeria   NaN  Algiers      1    4  1995            46.4\n",
       "4  Africa  Algeria   NaN  Algiers      1    5  1995            47.9"
      ]
     },
     "execution_count": 21,
     "metadata": {},
     "output_type": "execute_result"
    }
   ],
   "source": [
    "temp_df.head()"
   ]
  },
  {
   "cell_type": "code",
   "execution_count": 22,
   "id": "1dcabe00",
   "metadata": {},
   "outputs": [
    {
     "data": {
      "text/plain": [
       "array(['Algeria', 'Burundi', 'Benin', 'Central African Republic', 'Congo',\n",
       "       'Egypt', 'Ethiopia', 'Gabon', 'Gambia', 'Guinea', 'Guinea-Bissau',\n",
       "       'Ivory Coast', 'Kenya', 'Morocco', 'Madagascar', 'Mauritania',\n",
       "       'Malawi', 'Mozambique', 'Namibia', 'Nigeria', 'Senegal',\n",
       "       'Sierra Leone', 'South Africa', 'Togo', 'Tunisia', 'Tanzania',\n",
       "       'Uganda', 'Zambia', 'Bangladesh', 'China', 'Hong Kong', 'India',\n",
       "       'Indonesia', 'Japan', 'Kazakhstan', 'Kyrgyzstan', 'Laos',\n",
       "       'Malaysia', 'Mongolia', 'Myanmar (Burma)', 'Nepal', 'North Korea',\n",
       "       'Pakistan', 'Philippines', 'Singapore', 'South Korea', 'Sri Lanka',\n",
       "       'Taiwan', 'Tajikistan', 'Thailand', 'Turkmenistan', 'Uzbekistan',\n",
       "       'Vietnam', 'Australia', 'New Zealand', 'Albania', 'Austria',\n",
       "       'Belarus', 'Belgium', 'Bulgaria', 'Croatia', 'Cyprus',\n",
       "       'Czech Republic', 'Denmark', 'Finland', 'France', 'Germany',\n",
       "       'Georgia', 'Greece', 'Hungary', 'Iceland', 'Ireland', 'Italy',\n",
       "       'Latvia', 'Macedonia', 'The Netherlands', 'Norway', 'Poland',\n",
       "       'Portugal', 'Romania', 'Russia', 'Serbia-Montenegro', 'Slovakia',\n",
       "       'Spain', 'Sweden', 'Switzerland', 'Ukraine', 'United Kingdom',\n",
       "       'Yugoslavia', 'Bahrain', 'Israel', 'Jordan', 'Kuwait', 'Lebanon',\n",
       "       'Oman', 'Qatar', 'Saudi Arabia', 'Syria', 'Turkey',\n",
       "       'United Arab Emirates', 'Canada', 'Mexico', 'Argentina', 'Bahamas',\n",
       "       'Bermuda', 'Belize', 'Bolivia', 'Barbados', 'Brazil', 'Colombia',\n",
       "       'Costa Rica', 'Cuba', 'Dominican Republic', 'Equador', 'Guatemala',\n",
       "       'Guyana', 'Haiti', 'Honduras', 'Nicaragua', 'Panama', 'Peru',\n",
       "       'Suriname', 'Uruguay', 'Venezuela', 'US'], dtype=object)"
      ]
     },
     "execution_count": 22,
     "metadata": {},
     "output_type": "execute_result"
    }
   ],
   "source": [
    "#How is 'United States' written in this DataFrame? US? USA? United States of America?\n",
    "temp_df['Country'].unique()"
   ]
  },
  {
   "cell_type": "code",
   "execution_count": 23,
   "id": "d530fac4",
   "metadata": {},
   "outputs": [
    {
     "name": "stdout",
     "output_type": "stream",
     "text": [
      "(1455337, 9)\n"
     ]
    },
    {
     "data": {
      "text/html": [
       "<div>\n",
       "<style scoped>\n",
       "    .dataframe tbody tr th:only-of-type {\n",
       "        vertical-align: middle;\n",
       "    }\n",
       "\n",
       "    .dataframe tbody tr th {\n",
       "        vertical-align: top;\n",
       "    }\n",
       "\n",
       "    .dataframe thead th {\n",
       "        text-align: right;\n",
       "    }\n",
       "</style>\n",
       "<table border=\"1\" class=\"dataframe\">\n",
       "  <thead>\n",
       "    <tr style=\"text-align: right;\">\n",
       "      <th></th>\n",
       "      <th>index</th>\n",
       "      <th>Region</th>\n",
       "      <th>Country</th>\n",
       "      <th>State</th>\n",
       "      <th>City</th>\n",
       "      <th>Month</th>\n",
       "      <th>Day</th>\n",
       "      <th>Year</th>\n",
       "      <th>AvgTemperature</th>\n",
       "    </tr>\n",
       "  </thead>\n",
       "  <tbody>\n",
       "    <tr>\n",
       "      <th>0</th>\n",
       "      <td>1450990</td>\n",
       "      <td>North America</td>\n",
       "      <td>US</td>\n",
       "      <td>Alabama</td>\n",
       "      <td>Birmingham</td>\n",
       "      <td>1</td>\n",
       "      <td>1</td>\n",
       "      <td>1995</td>\n",
       "      <td>50.7</td>\n",
       "    </tr>\n",
       "    <tr>\n",
       "      <th>1</th>\n",
       "      <td>1450991</td>\n",
       "      <td>North America</td>\n",
       "      <td>US</td>\n",
       "      <td>Alabama</td>\n",
       "      <td>Birmingham</td>\n",
       "      <td>1</td>\n",
       "      <td>2</td>\n",
       "      <td>1995</td>\n",
       "      <td>37.2</td>\n",
       "    </tr>\n",
       "    <tr>\n",
       "      <th>2</th>\n",
       "      <td>1450992</td>\n",
       "      <td>North America</td>\n",
       "      <td>US</td>\n",
       "      <td>Alabama</td>\n",
       "      <td>Birmingham</td>\n",
       "      <td>1</td>\n",
       "      <td>3</td>\n",
       "      <td>1995</td>\n",
       "      <td>33.2</td>\n",
       "    </tr>\n",
       "    <tr>\n",
       "      <th>3</th>\n",
       "      <td>1450993</td>\n",
       "      <td>North America</td>\n",
       "      <td>US</td>\n",
       "      <td>Alabama</td>\n",
       "      <td>Birmingham</td>\n",
       "      <td>1</td>\n",
       "      <td>4</td>\n",
       "      <td>1995</td>\n",
       "      <td>33.3</td>\n",
       "    </tr>\n",
       "    <tr>\n",
       "      <th>4</th>\n",
       "      <td>1450994</td>\n",
       "      <td>North America</td>\n",
       "      <td>US</td>\n",
       "      <td>Alabama</td>\n",
       "      <td>Birmingham</td>\n",
       "      <td>1</td>\n",
       "      <td>5</td>\n",
       "      <td>1995</td>\n",
       "      <td>26.4</td>\n",
       "    </tr>\n",
       "  </tbody>\n",
       "</table>\n",
       "</div>"
      ],
      "text/plain": [
       "     index         Region Country    State        City  Month  Day  Year  \\\n",
       "0  1450990  North America      US  Alabama  Birmingham      1    1  1995   \n",
       "1  1450991  North America      US  Alabama  Birmingham      1    2  1995   \n",
       "2  1450992  North America      US  Alabama  Birmingham      1    3  1995   \n",
       "3  1450993  North America      US  Alabama  Birmingham      1    4  1995   \n",
       "4  1450994  North America      US  Alabama  Birmingham      1    5  1995   \n",
       "\n",
       "   AvgTemperature  \n",
       "0            50.7  \n",
       "1            37.2  \n",
       "2            33.2  \n",
       "3            33.3  \n",
       "4            26.4  "
      ]
     },
     "execution_count": 23,
     "metadata": {},
     "output_type": "execute_result"
    }
   ],
   "source": [
    "#Isolate rows where 'Country/Region' == 'US'\n",
    "#reset index\n",
    "#What does the new df look like?\n",
    "US_temp= temp_df[temp_df['Country'] == 'US'].reset_index()\n",
    "print(US_temp.shape)\n",
    "US_temp.head()"
   ]
  },
  {
   "cell_type": "code",
   "execution_count": 24,
   "id": "8db214b5",
   "metadata": {},
   "outputs": [
    {
     "data": {
      "text/plain": [
       "index             0\n",
       "Region            0\n",
       "Country           0\n",
       "State             0\n",
       "City              0\n",
       "Month             0\n",
       "Day               0\n",
       "Year              0\n",
       "AvgTemperature    0\n",
       "dtype: int64"
      ]
     },
     "execution_count": 24,
     "metadata": {},
     "output_type": "execute_result"
    }
   ],
   "source": [
    "#how many missing values per column?\n",
    "US_temp.isna().sum()"
   ]
  },
  {
   "cell_type": "code",
   "execution_count": 25,
   "id": "fb283b5f",
   "metadata": {},
   "outputs": [
    {
     "data": {
      "text/plain": [
       "index               int64\n",
       "Region             object\n",
       "Country            object\n",
       "State              object\n",
       "City               object\n",
       "Month               int64\n",
       "Day                 int64\n",
       "Year                int64\n",
       "AvgTemperature    float64\n",
       "dtype: object"
      ]
     },
     "execution_count": 25,
     "metadata": {},
     "output_type": "execute_result"
    }
   ],
   "source": [
    "#Datatypes?\n",
    "US_temp.dtypes"
   ]
  },
  {
   "cell_type": "code",
   "execution_count": 26,
   "id": "b1316fd0",
   "metadata": {},
   "outputs": [],
   "source": [
    "#Combine month, year, day columns to single date column  \n",
    "cols=[\"Year\",\"Month\",\"Day\"]\n",
    "US_temp['Date'] = US_temp[cols].apply(lambda x: '-'.join(x.values.astype(str)), axis=\"columns\")"
   ]
  },
  {
   "cell_type": "code",
   "execution_count": 27,
   "id": "2d42701e",
   "metadata": {},
   "outputs": [],
   "source": [
    "#Convert to datetime object\n",
    "US_temp['Date']=pd.to_datetime(US_temp['Date'])"
   ]
  },
  {
   "cell_type": "code",
   "execution_count": 28,
   "id": "4713bbd5",
   "metadata": {},
   "outputs": [
    {
     "data": {
      "text/plain": [
       "dtype('<M8[ns]')"
      ]
     },
     "execution_count": 28,
     "metadata": {},
     "output_type": "execute_result"
    }
   ],
   "source": [
    "#Check dtype\n",
    "US_temp['Date'].dtypes"
   ]
  },
  {
   "cell_type": "code",
   "execution_count": 29,
   "id": "a32c294b",
   "metadata": {},
   "outputs": [],
   "source": [
    "#Remove columns we don't need\n",
    "US_temp = US_temp.drop(columns=['Region', 'Country', 'City', 'Month', 'Day', 'Year', 'index'])"
   ]
  },
  {
   "cell_type": "code",
   "execution_count": 30,
   "id": "21fe92b4",
   "metadata": {},
   "outputs": [],
   "source": [
    "#Specify date range matching COVID dataset (01/22/2020- 03/24/2020)\n",
    "US_temp_range = US_temp.loc[(US_temp['Date']>= '2020-01-22') & (US_temp['Date']<= '2020-03-24')].reset_index()"
   ]
  },
  {
   "cell_type": "code",
   "execution_count": 31,
   "id": "77f467d0",
   "metadata": {},
   "outputs": [],
   "source": [
    "#Remove US rows we don't need (Additional Territories)\n",
    "US_temp_range = US_temp_range[US_temp_range['State'] != 'Additional Territories']"
   ]
  },
  {
   "cell_type": "code",
   "execution_count": 33,
   "id": "244e2559",
   "metadata": {},
   "outputs": [],
   "source": [
    "states_list = US_temp_range['State'].unique()"
   ]
  },
  {
   "cell_type": "code",
   "execution_count": 34,
   "id": "d2fd5eb1",
   "metadata": {},
   "outputs": [
    {
     "data": {
      "text/plain": [
       "50"
      ]
     },
     "execution_count": 34,
     "metadata": {},
     "output_type": "execute_result"
    }
   ],
   "source": [
    "len(states_list)"
   ]
  },
  {
   "cell_type": "code",
   "execution_count": 35,
   "id": "c7615cbf",
   "metadata": {
    "scrolled": false
   },
   "outputs": [
    {
     "data": {
      "text/plain": [
       "array(['Alabama', 'Alaska', 'Arizona', 'Arkansas', 'California',\n",
       "       'Colorado', 'Connecticut', 'District of Columbia', 'Maryland',\n",
       "       'Florida', 'Georgia', 'Hawaii', 'Idaho', 'Illinois', 'Indiana',\n",
       "       'Iowa', 'Kansas', 'Kentucky', 'Louisiana', 'Maine',\n",
       "       'Massachusetts', 'Michigan', 'Minnesota', 'Mississippi',\n",
       "       'Missouri', 'Montana', 'Nebraska', 'Nevada', 'New Hampshire',\n",
       "       'New Jersey', 'New Mexico', 'New York', 'North Carolina',\n",
       "       'North Dakota', 'Ohio', 'Oklahoma', 'Oregon', 'Pennsylvania',\n",
       "       'Rhode Island', 'South Carolina', 'South Dakota', 'Tennessee',\n",
       "       'Texas', 'Utah', 'Vermont', 'Virginia', 'Washington',\n",
       "       'West Virginia', 'Wisconsin', 'Wyoming'], dtype=object)"
      ]
     },
     "execution_count": 35,
     "metadata": {},
     "output_type": "execute_result"
    }
   ],
   "source": [
    "states_list"
   ]
  },
  {
   "cell_type": "markdown",
   "id": "f1d51bc6",
   "metadata": {},
   "source": [
    "### Remove remaining non-matching 'States'"
   ]
  },
  {
   "cell_type": "code",
   "execution_count": 49,
   "id": "95e20e02",
   "metadata": {},
   "outputs": [],
   "source": [
    "US_cov = US_tr[US_tr['State'] != 'Delaware']\n",
    "US_cov = US_cov[US_cov['State'] != 'Diamond Princess']\n",
    "US_cov = US_cov[US_cov['State'] != 'Grand Princess']\n",
    "US_cov = US_cov[US_cov['State'] != 'Guam']\n",
    "US_cov = US_cov[US_cov['State'] != 'Puerto Rico']\n",
    "US_cov = US_cov[US_cov['State'] != 'United States Virgin Islands']\n",
    "US_cov = US_cov[US_cov['State'] != 'Virgin Islands']"
   ]
  },
  {
   "cell_type": "code",
   "execution_count": 51,
   "id": "cfb5b65e",
   "metadata": {
    "scrolled": true
   },
   "outputs": [
    {
     "data": {
      "text/plain": [
       "array(['Alabama', 'Alaska', 'Arizona', 'Arkansas', 'California',\n",
       "       'Colorado', 'Connecticut', 'District of Columbia', 'Florida',\n",
       "       'Georgia', 'Hawaii', 'Idaho', 'Illinois', 'Indiana', 'Iowa',\n",
       "       'Kansas', 'Kentucky', 'Louisiana', 'Maine', 'Maryland',\n",
       "       'Massachusetts', 'Michigan', 'Minnesota', 'Mississippi',\n",
       "       'Missouri', 'Montana', 'Nebraska', 'Nevada', 'New Hampshire',\n",
       "       'New Jersey', 'New Mexico', 'New York', 'North Carolina',\n",
       "       'North Dakota', 'Ohio', 'Oklahoma', 'Oregon', 'Pennsylvania',\n",
       "       'Rhode Island', 'South Carolina', 'South Dakota', 'Tennessee',\n",
       "       'Texas', 'Utah', 'Vermont', 'Virginia', 'Washington',\n",
       "       'West Virginia', 'Wisconsin', 'Wyoming'], dtype=object)"
      ]
     },
     "execution_count": 51,
     "metadata": {},
     "output_type": "execute_result"
    }
   ],
   "source": [
    "US_cov['State'].unique()"
   ]
  },
  {
   "cell_type": "code",
   "execution_count": 52,
   "id": "e89ac2b3",
   "metadata": {},
   "outputs": [
    {
     "data": {
      "text/plain": [
       "50"
      ]
     },
     "execution_count": 52,
     "metadata": {},
     "output_type": "execute_result"
    }
   ],
   "source": [
    "len(US_cov['State'].unique())"
   ]
  },
  {
   "cell_type": "markdown",
   "id": "7b4190e4",
   "metadata": {},
   "source": [
    "### Merge to one DataFrame:"
   ]
  },
  {
   "cell_type": "code",
   "execution_count": 53,
   "id": "0324d7f9",
   "metadata": {},
   "outputs": [],
   "source": [
    "dfnew = pd.merge(US_tr, US_temp_range, how = 'left', left_on= ['State', 'Date'], right_on= ['State', 'Date'])"
   ]
  },
  {
   "cell_type": "code",
   "execution_count": 54,
   "id": "c3aefeba",
   "metadata": {},
   "outputs": [
    {
     "data": {
      "text/html": [
       "<div>\n",
       "<style scoped>\n",
       "    .dataframe tbody tr th:only-of-type {\n",
       "        vertical-align: middle;\n",
       "    }\n",
       "\n",
       "    .dataframe tbody tr th {\n",
       "        vertical-align: top;\n",
       "    }\n",
       "\n",
       "    .dataframe thead th {\n",
       "        text-align: right;\n",
       "    }\n",
       "</style>\n",
       "<table border=\"1\" class=\"dataframe\">\n",
       "  <thead>\n",
       "    <tr style=\"text-align: right;\">\n",
       "      <th></th>\n",
       "      <th>State</th>\n",
       "      <th>Date</th>\n",
       "      <th>ConfirmedCases</th>\n",
       "      <th>Fatalities</th>\n",
       "      <th>index</th>\n",
       "      <th>AvgTemperature</th>\n",
       "    </tr>\n",
       "  </thead>\n",
       "  <tbody>\n",
       "    <tr>\n",
       "      <th>0</th>\n",
       "      <td>Alabama</td>\n",
       "      <td>2020-01-22</td>\n",
       "      <td>0.0</td>\n",
       "      <td>0.0</td>\n",
       "      <td>9152.0</td>\n",
       "      <td>35.4</td>\n",
       "    </tr>\n",
       "    <tr>\n",
       "      <th>1</th>\n",
       "      <td>Alabama</td>\n",
       "      <td>2020-01-22</td>\n",
       "      <td>0.0</td>\n",
       "      <td>0.0</td>\n",
       "      <td>18417.0</td>\n",
       "      <td>32.0</td>\n",
       "    </tr>\n",
       "    <tr>\n",
       "      <th>2</th>\n",
       "      <td>Alabama</td>\n",
       "      <td>2020-01-22</td>\n",
       "      <td>0.0</td>\n",
       "      <td>0.0</td>\n",
       "      <td>27682.0</td>\n",
       "      <td>36.1</td>\n",
       "    </tr>\n",
       "    <tr>\n",
       "      <th>3</th>\n",
       "      <td>Alabama</td>\n",
       "      <td>2020-01-22</td>\n",
       "      <td>0.0</td>\n",
       "      <td>0.0</td>\n",
       "      <td>36947.0</td>\n",
       "      <td>36.0</td>\n",
       "    </tr>\n",
       "    <tr>\n",
       "      <th>4</th>\n",
       "      <td>Alabama</td>\n",
       "      <td>2020-01-23</td>\n",
       "      <td>0.0</td>\n",
       "      <td>0.0</td>\n",
       "      <td>9153.0</td>\n",
       "      <td>43.0</td>\n",
       "    </tr>\n",
       "  </tbody>\n",
       "</table>\n",
       "</div>"
      ],
      "text/plain": [
       "     State       Date  ConfirmedCases  Fatalities    index  AvgTemperature\n",
       "0  Alabama 2020-01-22             0.0         0.0   9152.0            35.4\n",
       "1  Alabama 2020-01-22             0.0         0.0  18417.0            32.0\n",
       "2  Alabama 2020-01-22             0.0         0.0  27682.0            36.1\n",
       "3  Alabama 2020-01-22             0.0         0.0  36947.0            36.0\n",
       "4  Alabama 2020-01-23             0.0         0.0   9153.0            43.0"
      ]
     },
     "execution_count": 54,
     "metadata": {},
     "output_type": "execute_result"
    }
   ],
   "source": [
    "dfnew.head()\n"
   ]
  },
  {
   "cell_type": "code",
   "execution_count": 55,
   "id": "004fe17b",
   "metadata": {},
   "outputs": [],
   "source": [
    "#Remove Extra index column:\n",
    "dfnew = dfnew.drop(columns='index')"
   ]
  },
  {
   "cell_type": "code",
   "execution_count": 56,
   "id": "76bf2752",
   "metadata": {},
   "outputs": [
    {
     "data": {
      "text/plain": [
       "State                     object\n",
       "Date              datetime64[ns]\n",
       "ConfirmedCases           float64\n",
       "Fatalities               float64\n",
       "AvgTemperature           float64\n",
       "dtype: object"
      ]
     },
     "execution_count": 56,
     "metadata": {},
     "output_type": "execute_result"
    }
   ],
   "source": [
    "#Confirm all dtypes are appropriate\n",
    "dfnew.dtypes"
   ]
  },
  {
   "cell_type": "code",
   "execution_count": 57,
   "id": "b1c99612",
   "metadata": {},
   "outputs": [
    {
     "data": {
      "text/plain": [
       "State               0\n",
       "Date                0\n",
       "ConfirmedCases      0\n",
       "Fatalities          0\n",
       "AvgTemperature    441\n",
       "dtype: int64"
      ]
     },
     "execution_count": 57,
     "metadata": {},
     "output_type": "execute_result"
    }
   ],
   "source": [
    "#Any null values?\n",
    "dfnew.isnull().sum()"
   ]
  },
  {
   "cell_type": "markdown",
   "id": "06f33110",
   "metadata": {},
   "source": [
    "## Summary:"
   ]
  },
  {
   "cell_type": "markdown",
   "id": "a4593bf4",
   "metadata": {},
   "source": [
    "The original COVID-19 dataset was first abbreviated to only include data from the United States. The resulting dataframe was 3654 row and 9 columns. A preliminary check on Null values revealed this dataset had none. Next, in order to determine the date range of the information contained in the COVID dataset, the maximum (latest) date from the DataFrame was determined to be 2020-03-24. The startdate could be determined from viewing the first few rows of the DataFrame, with df.head(), but this starting date was confirmed by searching for the minimum date to be: 2020-01-22. This information would be used to subset the second temperature DataFrame, which contained daily temperature values from 1995 until the present day.\n",
    "\n",
    "Next, irrelevant columns were removed from the COVID-19 dataset, including: 'index', 'Id', 'Country/Region', 'Lat', 'Long'. Thus, five columns in total were removed. The name of the 'Province/State' was renamed to 'State', in order to match the column name of the second Dataframe that would be merged to it in later steps. The data type of 'Date' column was changed from object to datetime object. Lastly, a list was made of all the unique values of the 'States' column to determine if the Temperature dataset include the same list of 'States' in later steps. This list of unique states had a length of 58 (8 higher than the number of states in the US), and printing the list revealed that, in addition to the traditional 50 states, the COVID-19 dataset also provided information on 8 other regions marked as US territories (but not states):\n",
    "1. District of Columbia\n",
    "2. Diamond Princess\n",
    "3. Grand Princess\n",
    "4. Guam\n",
    "5. Puerto Rico\n",
    "6. US\n",
    "7. United States Virgin Islands\n",
    "8. Virgin Islands\n",
    "\n",
    "The 'State' listed as 'US' was further examined to see if it contained any relevant information. There were 63 rows of data for the 'State' of 'US', all of which were empty. These rows were removed, as they didn't contain any data and 'US' is not a 'State' anyways.\n",
    "\n",
    "For now, the rest of the US territories are left in the COVID-19 dataset, as they do contain data. If the temperatures dataset has data for any of those regions as well, it may be worthwhile to include. There are now 57 unique values for 'State' in the COVID-19 DataFrame (50 states and seven territories).\n",
    "\n",
    "The second dataset brought in was a Temperature dataset containing daily average temperatures in major cities across the globe. This was a very large dataset with far more information that was needed, so initial steps were to trim down the excess information. First, the DataFrame was reduced to only data pertaining the the United States. The resulting DataFrame had //1,455,337 rows , and 9 columns, and contained no Null values. In this temperature DataFrame, the dates for each record were reported in three separate columns: Month, Day, and Year, all of which were integer64. These three values were combined to create a separate 'Date' column in the format of YYYY-MM-DD to match the COVID-19 dataset. The column was then converted to datetime object type to match the 'Date' column type from the COVID-19 dataset. The irrelevant columns ('Region', 'Country', 'City', 'Month', 'Day', 'Year', 'index') from the temperature DataFrame were also dropped. A total of six columns were dropped from the Temperature DataFrame and one column was added ('Date'). The temperature DataFrame was further shorted by limiting the date range to the date range of available data in the COVID-19 DataFrame (which was previously determined to be 2020-01-22 to 2020-03-42). All rows containing temperature data outside of this timeframe were removed. At the tail of the DataFrame, values for \"Additional US territories\" were recorded, but without any further information on which territories they were, it would be impossible to match them to any COVID-19 data, so these rows were dropped.\n",
    "\n",
    "Next, the values for 'States' in the temperature DataFrame were examined. This DataFrame contained 50 unique values in the 'States' column, precisely the number of states in the US. Upon further examination of these values, however, 'District of Columbia' was included (which is not a state) and 'Delaware' was excluded. Because there is information in the COVID-19 dataset for the 'District of Columbia', rows containing that value for 'State' were retained. \n",
    "\n",
    "Before merging the datasets, each DataFrame needed to contain only information on 'States' included in both data sets. Therefore, as 'Delaware' was somehow missing from the Temperature dataset, rows pertaining to that value in the COVID-19 dataset were also dropped. As for the list of \"extra\" US Territories previously found in the COVID-19 dataset, 'District of Columbia' was included in the temperature dataset, so rows pertaining to that region were kept. All other territories, however, were removed. Now both DataFrame contained exactly 50 unique values for 'State'.\n",
    "\n",
    "Next the COVID-19 and Temperature DataFrames were merged together using a left join on both State and Date columns to match daily COVID-19 records with daily average temperatures by state. The index column was dropped as well. Datatypes were checked and appear to all be appropriate types. There are now 441 missing values for Average Temperature, which will need to be further examined in the next steps. "
   ]
  }
 ],
 "metadata": {
  "kernelspec": {
   "display_name": "Python 3",
   "language": "python",
   "name": "python3"
  },
  "language_info": {
   "codemirror_mode": {
    "name": "ipython",
    "version": 3
   },
   "file_extension": ".py",
   "mimetype": "text/x-python",
   "name": "python",
   "nbconvert_exporter": "python",
   "pygments_lexer": "ipython3",
   "version": "3.8.8"
  }
 },
 "nbformat": 4,
 "nbformat_minor": 5
}
