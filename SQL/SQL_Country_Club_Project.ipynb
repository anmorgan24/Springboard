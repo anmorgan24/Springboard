{
 "cells": [
  {
   "cell_type": "markdown",
   "id": "634968a2",
   "metadata": {},
   "source": [
    "## Country Club Case Study"
   ]
  },
  {
   "cell_type": "code",
   "execution_count": 1,
   "id": "2ab33262",
   "metadata": {},
   "outputs": [],
   "source": [
    "from sqlalchemy import create_engine\n",
    "import pandas as pd\n",
    "\n",
    "engine = create_engine('sqlite:///sqlite_db_pythonsqlite.db')"
   ]
  },
  {
   "cell_type": "markdown",
   "id": "bf63b120",
   "metadata": {},
   "source": [
    "### Questions:"
   ]
  },
  {
   "cell_type": "markdown",
   "id": "1ebbc04e",
   "metadata": {},
   "source": [
    "Q1: Some of the facilities charge a fee to members, but some do not.\n",
    "Write a SQL query to produce a list of the names of the facilities that do."
   ]
  },
  {
   "cell_type": "code",
   "execution_count": 2,
   "id": "a4241099",
   "metadata": {},
   "outputs": [],
   "source": [
    "query_1= \"SELECT name FROM Facilities WHERE membercost >0;\""
   ]
  },
  {
   "cell_type": "code",
   "execution_count": 3,
   "id": "a25a3702",
   "metadata": {},
   "outputs": [
    {
     "name": "stdout",
     "output_type": "stream",
     "text": [
      "             name\n",
      "0  Tennis Court 1\n",
      "1  Tennis Court 2\n",
      "2  Massage Room 1\n",
      "3  Massage Room 2\n",
      "4    Squash Court\n"
     ]
    }
   ],
   "source": [
    "with engine.connect() as conn:\n",
    "    q1_df = pd.read_sql_query(query_1, conn)\n",
    "    \n",
    "print(q1_df)"
   ]
  },
  {
   "cell_type": "markdown",
   "id": "79555b7f",
   "metadata": {},
   "source": [
    "Q2: How many facilities do not charge a fee to members? "
   ]
  },
  {
   "cell_type": "code",
   "execution_count": 5,
   "id": "f2d14bcc",
   "metadata": {},
   "outputs": [],
   "source": [
    "query_2 = \"SELECT COUNT(name) FROM Facilities WHERE membercost =0;\""
   ]
  },
  {
   "cell_type": "code",
   "execution_count": 6,
   "id": "051a4bc6",
   "metadata": {},
   "outputs": [
    {
     "name": "stdout",
     "output_type": "stream",
     "text": [
      "   COUNT(name)\n",
      "0            4\n"
     ]
    }
   ],
   "source": [
    "with engine.connect() as conn:\n",
    "    q2_df = pd.read_sql_query(query_2, conn)\n",
    "    \n",
    "print(q2_df)"
   ]
  },
  {
   "cell_type": "markdown",
   "id": "4823b8a8",
   "metadata": {},
   "source": [
    "Q3: Write an SQL query to show a list of facilities that charge a fee to members,\n",
    "where the fee is less than 20% of the facility's monthly maintenance cost.\n",
    "Return the facid, facility name, member cost, and monthly maintenance of the\n",
    "facilities in question. "
   ]
  },
  {
   "cell_type": "code",
   "execution_count": 7,
   "id": "8bfe71a9",
   "metadata": {},
   "outputs": [],
   "source": [
    "query_3 = \"SELECT facid, name, membercost, monthlymaintenance FROM Facilities WHERE membercost > 0 AND membercost < (0.2 * monthlymaintenance)\""
   ]
  },
  {
   "cell_type": "code",
   "execution_count": 8,
   "id": "7cbe499e",
   "metadata": {},
   "outputs": [
    {
     "name": "stdout",
     "output_type": "stream",
     "text": [
      "   facid            name  membercost  monthlymaintenance\n",
      "0      0  Tennis Court 1         5.0                 200\n",
      "1      1  Tennis Court 2         5.0                 200\n",
      "2      4  Massage Room 1         9.9                3000\n",
      "3      5  Massage Room 2         9.9                3000\n",
      "4      6    Squash Court         3.5                  80\n"
     ]
    }
   ],
   "source": [
    "with engine.connect() as conn:\n",
    "    q3_df = pd.read_sql_query(query_3, conn)\n",
    "    \n",
    "print(q3_df)"
   ]
  },
  {
   "cell_type": "markdown",
   "id": "d0f4baca",
   "metadata": {},
   "source": [
    "Q4: Write an SQL query to retrieve the details of facilities with ID 1 and 5.\n",
    "Try writing the query without using the OR operator. "
   ]
  },
  {
   "cell_type": "code",
   "execution_count": 9,
   "id": "913ea17e",
   "metadata": {},
   "outputs": [],
   "source": [
    "query_4 = \"SELECT * FROM Facilities WHERE facid IN (1,5)\""
   ]
  },
  {
   "cell_type": "code",
   "execution_count": 10,
   "id": "d37f3487",
   "metadata": {},
   "outputs": [
    {
     "name": "stdout",
     "output_type": "stream",
     "text": [
      "   facid            name  membercost  guestcost  initialoutlay  \\\n",
      "0      1  Tennis Court 2         5.0         25           8000   \n",
      "1      5  Massage Room 2         9.9         80           4000   \n",
      "\n",
      "   monthlymaintenance  \n",
      "0                 200  \n",
      "1                3000  \n"
     ]
    }
   ],
   "source": [
    "with engine.connect() as conn:\n",
    "    q4_df = pd.read_sql_query(query_4, conn)\n",
    "    \n",
    "print(q4_df)"
   ]
  },
  {
   "cell_type": "markdown",
   "id": "115a8a92",
   "metadata": {},
   "source": [
    "Q5: Produce a list of facilities, with each labelled as\n",
    "'cheap' or 'expensive', depending on if their monthly maintenance cost is\n",
    "more than $100. Return the name and monthly maintenance of the facilities\n",
    "in question."
   ]
  },
  {
   "cell_type": "code",
   "execution_count": 11,
   "id": "472459dd",
   "metadata": {},
   "outputs": [],
   "source": [
    "query_5 = \"SELECT name, monthlymaintenance, CASE WHEN monthlymaintenance < 100 THEN 'cheap'ELSE 'expensive' END AS cost FROM Facilities\""
   ]
  },
  {
   "cell_type": "code",
   "execution_count": 12,
   "id": "4cad08af",
   "metadata": {},
   "outputs": [
    {
     "name": "stdout",
     "output_type": "stream",
     "text": [
      "              name  monthlymaintenance       cost\n",
      "0   Tennis Court 1                 200  expensive\n",
      "1   Tennis Court 2                 200  expensive\n",
      "2  Badminton Court                  50      cheap\n",
      "3     Table Tennis                  10      cheap\n",
      "4   Massage Room 1                3000  expensive\n",
      "5   Massage Room 2                3000  expensive\n",
      "6     Squash Court                  80      cheap\n",
      "7    Snooker Table                  15      cheap\n",
      "8       Pool Table                  15      cheap\n"
     ]
    }
   ],
   "source": [
    "with engine.connect() as conn:\n",
    "    q5_df = pd.read_sql_query(query_5, conn)\n",
    "    \n",
    "print(q5_df)"
   ]
  },
  {
   "cell_type": "markdown",
   "id": "677ffb87",
   "metadata": {},
   "source": [
    "Q6: You'd like to get the first and last name of the last member(s)\n",
    "who signed up. Try not to use the LIMIT clause for your solution."
   ]
  },
  {
   "cell_type": "code",
   "execution_count": 13,
   "id": "690bc4c7",
   "metadata": {},
   "outputs": [],
   "source": [
    "query_6 = \"SELECT firstname, surname, joindate FROM Members WHERE joindate = (SELECT MAX(joindate) FROM Members)\""
   ]
  },
  {
   "cell_type": "code",
   "execution_count": 14,
   "id": "95ce4332",
   "metadata": {},
   "outputs": [
    {
     "name": "stdout",
     "output_type": "stream",
     "text": [
      "  firstname surname             joindate\n",
      "0    Darren   Smith  2012-09-26 18:08:45\n"
     ]
    }
   ],
   "source": [
    "with engine.connect() as conn:\n",
    "    q6_df = pd.read_sql_query(query_6, conn)\n",
    "    \n",
    "print(q6_df)"
   ]
  },
  {
   "cell_type": "markdown",
   "id": "3c4010e1",
   "metadata": {},
   "source": [
    "Q7: Produce a list of all members who have used a tennis court.\n",
    "Include in your output the name of the court, and the name of the member\n",
    "formatted as a single column. Ensure no duplicate data, and order by\n",
    "the member name. "
   ]
  },
  {
   "cell_type": "code",
   "execution_count": 19,
   "id": "7605dba0",
   "metadata": {},
   "outputs": [],
   "source": [
    "query_7= \"SELECT firstname || ' ' || surname AS Fullname, Facility_Name FROM Members LEFT JOIN (SELECT DISTINCT facid, memid, f.name AS Facility_Name FROM Bookings INNER JOIN Facilities AS f USING (facid) WHERE facid IN (0,1) ORDER BY facid, memid) AS fac_book USING (memid) WHERE Facility_Name IS NOT NULL ORDER BY surname;\""
   ]
  },
  {
   "cell_type": "code",
   "execution_count": 20,
   "id": "3781c5e8",
   "metadata": {
    "scrolled": true
   },
   "outputs": [
    {
     "name": "stdout",
     "output_type": "stream",
     "text": [
      "             Fullname   Facility_Name\n",
      "0      Florence Bader  Tennis Court 1\n",
      "1      Florence Bader  Tennis Court 2\n",
      "2          Anne Baker  Tennis Court 1\n",
      "3       Timothy Baker  Tennis Court 1\n",
      "4          Anne Baker  Tennis Court 2\n",
      "5       Timothy Baker  Tennis Court 2\n",
      "6          Tim Boothe  Tennis Court 1\n",
      "7          Tim Boothe  Tennis Court 2\n",
      "8      Gerald Butters  Tennis Court 1\n",
      "9      Gerald Butters  Tennis Court 2\n",
      "10        Joan Coplin  Tennis Court 1\n",
      "11      Erica Crumpet  Tennis Court 1\n",
      "12         Nancy Dare  Tennis Court 1\n",
      "13         Nancy Dare  Tennis Court 2\n",
      "14     Jemima Farrell  Tennis Court 1\n",
      "15      David Farrell  Tennis Court 1\n",
      "16     Jemima Farrell  Tennis Court 2\n",
      "17      David Farrell  Tennis Court 2\n",
      "18        GUEST GUEST  Tennis Court 1\n",
      "19        GUEST GUEST  Tennis Court 2\n",
      "20    Matthew Genting  Tennis Court 1\n",
      "21          John Hunt  Tennis Court 1\n",
      "22          John Hunt  Tennis Court 2\n",
      "23        David Jones  Tennis Court 1\n",
      "24      Douglas Jones  Tennis Court 1\n",
      "25        David Jones  Tennis Court 2\n",
      "26    Janice Joplette  Tennis Court 1\n",
      "27    Janice Joplette  Tennis Court 2\n",
      "28       Charles Owen  Tennis Court 1\n",
      "29       Charles Owen  Tennis Court 2\n",
      "30       David Pinker  Tennis Court 1\n",
      "31  Millicent Purview  Tennis Court 2\n",
      "32         Tim Rownam  Tennis Court 1\n",
      "33         Tim Rownam  Tennis Court 2\n",
      "34   Henrietta Rumney  Tennis Court 2\n",
      "35   Ramnaresh Sarwin  Tennis Court 1\n",
      "36   Ramnaresh Sarwin  Tennis Court 2\n",
      "37        Tracy Smith  Tennis Court 1\n",
      "38         Jack Smith  Tennis Court 1\n",
      "39       Darren Smith  Tennis Court 2\n",
      "40        Tracy Smith  Tennis Court 2\n",
      "41         Jack Smith  Tennis Court 2\n",
      "42    Ponder Stibbons  Tennis Court 1\n",
      "43    Ponder Stibbons  Tennis Court 2\n",
      "44       Burton Tracy  Tennis Court 1\n",
      "45       Burton Tracy  Tennis Court 2\n"
     ]
    }
   ],
   "source": [
    "with engine.connect() as conn:\n",
    "    q7_df = pd.read_sql_query(query_7, conn)\n",
    "    \n",
    "print(q7_df)"
   ]
  },
  {
   "cell_type": "markdown",
   "id": "fdad4307",
   "metadata": {},
   "source": [
    "Q8: Produce a list of bookings on the day of 2012-09-14 which\n",
    "will cost the member (or guest) more than $30. Remember that guests have\n",
    "different costs to members (the listed costs are per half-hour 'slot'), and\n",
    "the guest user's ID is always 0. Include in your output the name of the\n",
    "facility, the name of the member formatted as a single column, and the cost.\n",
    "Order by descending cost, and do not use any subqueries."
   ]
  },
  {
   "cell_type": "code",
   "execution_count": 85,
   "id": "45d731ef",
   "metadata": {},
   "outputs": [],
   "source": [
    "query_8 = \"SELECT firstname || ' ' || surname AS Fullname, f.name AS Facility, CASE WHEN memid = 0 THEN f.guestcost * b.slots ELSE f.membercost * b.slots END AS Cost FROM Bookings AS b INNER JOIN Members AS m USING(memid) INNER JOIN Facilities AS f USING(facid) WHERE DATE(starttime) = '2012-09-14' AND CASE WHEN memid = 0 THEN f.guestcost * b.slots ELSE f.membercost * b.slots END > 30 ORDER BY Cost DESC;\""
   ]
  },
  {
   "cell_type": "code",
   "execution_count": 86,
   "id": "6d7eb7b9",
   "metadata": {
    "scrolled": true
   },
   "outputs": [
    {
     "name": "stdout",
     "output_type": "stream",
     "text": [
      "          Fullname        Facility   Cost\n",
      "0      GUEST GUEST  Massage Room 2  320.0\n",
      "1      GUEST GUEST  Massage Room 1  160.0\n",
      "2      GUEST GUEST  Massage Room 1  160.0\n",
      "3      GUEST GUEST  Massage Room 1  160.0\n",
      "4      GUEST GUEST  Tennis Court 2  150.0\n",
      "5      GUEST GUEST  Tennis Court 1   75.0\n",
      "6      GUEST GUEST  Tennis Court 1   75.0\n",
      "7      GUEST GUEST  Tennis Court 2   75.0\n",
      "8      GUEST GUEST    Squash Court   70.0\n",
      "9   Jemima Farrell  Massage Room 1   39.6\n",
      "10     GUEST GUEST    Squash Court   35.0\n",
      "11     GUEST GUEST    Squash Court   35.0\n"
     ]
    }
   ],
   "source": [
    "with engine.connect() as conn:\n",
    "    q8_df = pd.read_sql_query(query_8, conn)\n",
    "    \n",
    "print(q8_df)"
   ]
  },
  {
   "cell_type": "markdown",
   "id": "fef8fd8a",
   "metadata": {},
   "source": [
    "Q9: This time, produce the same result as in Q8, but using a subquery."
   ]
  },
  {
   "cell_type": "code",
   "execution_count": 92,
   "id": "6808c731",
   "metadata": {},
   "outputs": [],
   "source": [
    "query_9 = \"SELECT * FROM (SELECT firstname || ' ' || surname AS Fullname, f.name AS Facility, CASE WHEN memid = 0 THEN f.guestcost * b.slots ELSE f.membercost * b.slots END AS Cost FROM Bookings AS b INNER JOIN Members AS m USING(memid) INNER JOIN Facilities AS f USING(facid) WHERE DATE(starttime) = '2012-09-14' ORDER BY Cost DESC) AS subquery WHERE Cost > 30;\""
   ]
  },
  {
   "cell_type": "code",
   "execution_count": 93,
   "id": "d94b5192",
   "metadata": {},
   "outputs": [
    {
     "name": "stdout",
     "output_type": "stream",
     "text": [
      "          Fullname        Facility   Cost\n",
      "0      GUEST GUEST  Massage Room 2  320.0\n",
      "1      GUEST GUEST  Massage Room 1  160.0\n",
      "2      GUEST GUEST  Massage Room 1  160.0\n",
      "3      GUEST GUEST  Massage Room 1  160.0\n",
      "4      GUEST GUEST  Tennis Court 2  150.0\n",
      "5      GUEST GUEST  Tennis Court 1   75.0\n",
      "6      GUEST GUEST  Tennis Court 1   75.0\n",
      "7      GUEST GUEST  Tennis Court 2   75.0\n",
      "8      GUEST GUEST    Squash Court   70.0\n",
      "9   Jemima Farrell  Massage Room 1   39.6\n",
      "10     GUEST GUEST    Squash Court   35.0\n",
      "11     GUEST GUEST    Squash Court   35.0\n"
     ]
    }
   ],
   "source": [
    "with engine.connect() as conn:\n",
    "    q9_df = pd.read_sql_query(query_9, conn)\n",
    "    \n",
    "print(q9_df)"
   ]
  },
  {
   "cell_type": "markdown",
   "id": "fe4bd12b",
   "metadata": {},
   "source": [
    "### PART 2: SQLite"
   ]
  },
  {
   "cell_type": "markdown",
   "id": "781fafcc",
   "metadata": {},
   "source": [
    "Q10: Produce a list of facilities with a total revenue less than 1000.\n",
    "The output of facility name and total revenue, sorted by revenue. Remember\n",
    "that there's a different cost for guests and members!"
   ]
  },
  {
   "cell_type": "code",
   "execution_count": 232,
   "id": "d2533280",
   "metadata": {},
   "outputs": [],
   "source": [
    "query_10 = \"\"\"\n",
    "SELECT Facility, SUM(Cost) AS Total_Revenue\n",
    "FROM (SELECT \n",
    "f.name AS Facility,\n",
    "CASE WHEN memid = 0 \n",
    "THEN f.guestcost * b.slots \n",
    "ELSE f.membercost * b.slots END AS Cost \n",
    "FROM Bookings AS b\n",
    "INNER JOIN Members AS m \n",
    "USING(memid) \n",
    "INNER JOIN Facilities  AS f \n",
    "USING(facid)) AS subquery\n",
    "GROUP BY Facility\n",
    "ORDER BY Total_Revenue;\n",
    "\"\"\"\n"
   ]
  },
  {
   "cell_type": "code",
   "execution_count": 233,
   "id": "b0d1240c",
   "metadata": {
    "scrolled": true
   },
   "outputs": [
    {
     "name": "stdout",
     "output_type": "stream",
     "text": [
      "          Facility  Total_Revenue\n",
      "0     Table Tennis          180.0\n",
      "1    Snooker Table          240.0\n",
      "2       Pool Table          270.0\n",
      "3  Badminton Court         1906.5\n",
      "4     Squash Court        13468.0\n",
      "5   Tennis Court 1        13860.0\n",
      "6   Tennis Court 2        14310.0\n",
      "7   Massage Room 2        14454.6\n",
      "8   Massage Room 1        50351.6\n"
     ]
    }
   ],
   "source": [
    "with engine.connect() as conn:\n",
    "    q10_df = pd.read_sql_query(query_10, conn)\n",
    "    \n",
    "print(q10_df)"
   ]
  },
  {
   "cell_type": "markdown",
   "id": "b3da54db",
   "metadata": {},
   "source": [
    "Q11: Produce a report of members and who recommended them in alphabetic surname,firstname order"
   ]
  },
  {
   "cell_type": "code",
   "execution_count": 178,
   "id": "c97ebcaa",
   "metadata": {},
   "outputs": [],
   "source": [
    "query_11 = \"\"\"\n",
    "SELECT m1.firstname Membername, m1.surname AS Member_surname, m2.firstname || ' ' || m2.surname AS RecommendedBy\n",
    "FROM Members AS m1\n",
    "INNER JOIN Members AS m2\n",
    "ON m1.recommendedby = m2.memid\n",
    "ORDER BY Member_surname, Membername\n",
    "\"\"\""
   ]
  },
  {
   "cell_type": "code",
   "execution_count": 179,
   "id": "58ed9fb0",
   "metadata": {},
   "outputs": [
    {
     "name": "stdout",
     "output_type": "stream",
     "text": [
      "   Membername     Member_surname      RecommendedBy\n",
      "0    Florence              Bader    Ponder Stibbons\n",
      "1        Anne              Baker    Ponder Stibbons\n",
      "2     Timothy              Baker     Jemima Farrell\n",
      "3         Tim             Boothe         Tim Rownam\n",
      "4      Gerald            Butters       Darren Smith\n",
      "5        Joan             Coplin      Timothy Baker\n",
      "6       Erica            Crumpet        Tracy Smith\n",
      "7       Nancy               Dare    Janice Joplette\n",
      "8     Matthew            Genting     Gerald Butters\n",
      "9        John               Hunt  Millicent Purview\n",
      "10      David              Jones    Janice Joplette\n",
      "11    Douglas              Jones        David Jones\n",
      "12     Janice           Joplette       Darren Smith\n",
      "13       Anna          Mackenzie       Darren Smith\n",
      "14    Charles               Owen       Darren Smith\n",
      "15      David             Pinker     Jemima Farrell\n",
      "16  Millicent            Purview        Tracy Smith\n",
      "17  Henrietta             Rumney    Matthew Genting\n",
      "18  Ramnaresh             Sarwin     Florence Bader\n",
      "19       Jack              Smith       Darren Smith\n",
      "20     Ponder           Stibbons       Burton Tracy\n",
      "21      Henry  Worthington-Smyth        Tracy Smith\n"
     ]
    }
   ],
   "source": [
    "with engine.connect() as conn:\n",
    "    q11_df = pd.read_sql_query(query_11, conn)\n",
    "    \n",
    "print(q11_df)"
   ]
  },
  {
   "cell_type": "markdown",
   "id": "ecf6ee60",
   "metadata": {},
   "source": [
    "Q12: Find the facilities with their usage by member, but not guests"
   ]
  },
  {
   "cell_type": "code",
   "execution_count": 192,
   "id": "59fbc923",
   "metadata": {},
   "outputs": [],
   "source": [
    "query_12 = \"\"\"\n",
    "SELECT f.name AS Facility, COUNT(DISTINCT b.memid) AS mems_have_used\n",
    "FROM Facilities as f\n",
    "INNER JOIN Bookings AS b \n",
    "USING(facid)\n",
    "GROUP BY Facility;\n",
    "\"\"\""
   ]
  },
  {
   "cell_type": "code",
   "execution_count": 193,
   "id": "346f3c60",
   "metadata": {},
   "outputs": [
    {
     "name": "stdout",
     "output_type": "stream",
     "text": [
      "          Facility  mems_have_used\n",
      "0  Badminton Court              25\n",
      "1   Massage Room 1              25\n",
      "2   Massage Room 2              13\n",
      "3       Pool Table              28\n",
      "4    Snooker Table              23\n",
      "5     Squash Court              25\n",
      "6     Table Tennis              26\n",
      "7   Tennis Court 1              24\n",
      "8   Tennis Court 2              22\n"
     ]
    }
   ],
   "source": [
    "with engine.connect() as conn:\n",
    "    q12_df = pd.read_sql_query(query_12, conn)\n",
    "    \n",
    "print(q12_df)"
   ]
  },
  {
   "cell_type": "markdown",
   "id": "3710856b",
   "metadata": {},
   "source": [
    "Q13: Find the facilities usage by month, but not guests "
   ]
  },
  {
   "cell_type": "code",
   "execution_count": 240,
   "id": "8cf240a9",
   "metadata": {},
   "outputs": [],
   "source": [
    "query_13 =  \"\"\" \n",
    "\n",
    "SELECT Facility, Month, SUM(Use) AS Monthly_Usage\n",
    "FROM (SELECT f.name AS Facility, strftime('%m', DATE(starttime)) as Month, \n",
    "CASE WHEN memid = 0 THEN 0\n",
    "ELSE 1 END AS Use\n",
    "FROM Facilities as f\n",
    "INNER JOIN Bookings AS b \n",
    "USING(facid)) AS subquery\n",
    "GROUP BY Facility, Month\n",
    "\n",
    "    \"\"\" "
   ]
  },
  {
   "cell_type": "code",
   "execution_count": 242,
   "id": "96ed6d80",
   "metadata": {},
   "outputs": [
    {
     "name": "stdout",
     "output_type": "stream",
     "text": [
      "           Facility Month  SUM(Use)\n",
      "0   Badminton Court    07        51\n",
      "1   Badminton Court    08       132\n",
      "2   Badminton Court    09       161\n",
      "3    Massage Room 1    07        77\n",
      "4    Massage Room 1    08       153\n",
      "5    Massage Room 1    09       191\n",
      "6    Massage Room 2    07         4\n",
      "7    Massage Room 2    08         9\n",
      "8    Massage Room 2    09        14\n",
      "9        Pool Table    07       103\n",
      "10       Pool Table    08       272\n",
      "11       Pool Table    09       408\n",
      "12    Snooker Table    07        68\n",
      "13    Snooker Table    08       154\n",
      "14    Snooker Table    09       199\n",
      "15     Squash Court    07        23\n",
      "16     Squash Court    08        85\n",
      "17     Squash Court    09        87\n",
      "18     Table Tennis    07        48\n",
      "19     Table Tennis    08       143\n",
      "20     Table Tennis    09       194\n",
      "21   Tennis Court 1    07        65\n",
      "22   Tennis Court 1    08       111\n",
      "23   Tennis Court 1    09       132\n",
      "24   Tennis Court 2    07        41\n",
      "25   Tennis Court 2    08       109\n",
      "26   Tennis Court 2    09       126\n"
     ]
    }
   ],
   "source": [
    "with engine.connect() as conn:\n",
    "    q13_df = pd.read_sql_query(query_13, conn)\n",
    "    \n",
    "print(q13_df)"
   ]
  },
  {
   "cell_type": "code",
   "execution_count": null,
   "id": "1309d246",
   "metadata": {},
   "outputs": [],
   "source": []
  },
  {
   "cell_type": "code",
   "execution_count": null,
   "id": "6f3c8e5a",
   "metadata": {},
   "outputs": [],
   "source": []
  }
 ],
 "metadata": {
  "kernelspec": {
   "display_name": "Python 3",
   "language": "python",
   "name": "python3"
  },
  "language_info": {
   "codemirror_mode": {
    "name": "ipython",
    "version": 3
   },
   "file_extension": ".py",
   "mimetype": "text/x-python",
   "name": "python",
   "nbconvert_exporter": "python",
   "pygments_lexer": "ipython3",
   "version": "3.8.8"
  }
 },
 "nbformat": 4,
 "nbformat_minor": 5
}
