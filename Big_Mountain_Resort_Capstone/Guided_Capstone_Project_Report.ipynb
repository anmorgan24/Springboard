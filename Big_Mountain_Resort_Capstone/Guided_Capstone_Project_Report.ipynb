{
 "cells": [
  {
   "cell_type": "markdown",
   "id": "63f4b378",
   "metadata": {},
   "source": [
    "Montana’s Big Mountain Ski Resort is situated in close proximity to scenic Glacier National Park and Flathead National Forest. Last year they welcomed 350,000 skiers and snowboarders onto their 105 trails. To date, their pricing strategy has been to charge a premium above the average price of resorts in their market segment, but they have realized the limitations of this approach and would like to explore a more data-driven business strategy. They are looking to gain a better understanding of which facilities are most valued by their guests, in order to maximize their investment strategies and select a better value for their ticket price. Big Mountain is open to changes that will support a higher ticket price, cut costs (without undermining ticket price), or both.\n",
    "\n",
    "Big Mountain currently charges \\\\$81.00 per Adult Weekend ticket. In our analyses, we considered Big Mountain’s current ticket price in relation to comparable resorts in the national market, as well as those specific to Montana. We found that, with the current facilities available at Big Mountain, and without any updates or changes to them, Big Mountain could reasonably raise their ticket prices by \\\\$4.48 - \\\\$14.87 per ticket. With the average Big Mountain visitor spending five days at the resort, and a total number visitors of about 350,000 per season, this price increase alone (without updating or changing any of the facilities) would amount to an additional \\\\$7.84 -\\\\$26 million per year in revenue.\n",
    "\n",
    "We also explored various ways in which Big Mountain could conceivably cut costs (without undermining their ticket price). Big Mountain compared very well with other resorts in its market share for total number of runs. Indeed, few of its competitors have more total runs than Big Mountain. Given that Big Mountain may therefore have some room to reduce costs in this area, we modelled the impact of permanently closing up to ten runs. We found that closing one run didn’t seem affect ticket price at all. Closing two to three runs did support a reduction in ticket price (of about \\\\$0.40 and \\\\$0.70 per ticket, respectively), but closing three runs didn’t seem to have any more effect on ticket price than closing four or five runs (each about \\\\$0.70/ ticket). Therefore, Big Mountain could likely close up to five runs permanently with a total price reduction of \\\\$0.70 per ticket. We did not have data regarding the operating costs of each run, and therefore cannot make a recommendation regarding whether or not Big Mountain closes any runs permanently. It may be worthwhile to examine the cost of keeping particular runs open and weighing that cost against potential lost revenue in ticket price.\n",
    "        \t\n",
    "            \n",
    "When comparing resorts from the data set, we found that the following eight features seemed to have the biggest impact on ticket price: Vertical drop, snow making, total chairs, fast quads, total runs, longest run, trams, and skiable terrain. In regards to vertical drop, Big Mountain certainly did well in the overall range of resorts. However, there were still quite a few resorts with greater drops than Big Mountain, and herein may lie an opportunity for improvement. In one scenario, we modelled the advantages of adding a run in order to increase the vertical drop by 150ft, and adding one chairlift to service that run. This scenario supported an increase in ticket price of \\\\$8.61 per ticket, or an estimated additional \\\\$15,065,471 in seasonal revenue. With a seasonal operating cost of approximately \\\\$1.54 million to operate an additional chair lift, this scenario would still substantiate a significant increase in revenue.\n",
    "        \t\n",
    "We then modelled this same scenario, but increased the Big Mountain’s snowmaking capabilities by two acres (to cover this new run). Snowmaking was another of the features that most impacted ticket price. The additional snowmaking capabilities on this run would support an increased ticket price of \\\\$9.90 per ticket, amounting to an estimated \\\\$17,322,717 per season. We do not have the data representing the cost to operate this new run, or the additional snowmaking capabilities, but this is another opportunity that we recommend exploring.\n"
   ]
  },
  {
   "cell_type": "code",
   "execution_count": null,
   "id": "f7fd89a5",
   "metadata": {},
   "outputs": [],
   "source": []
  },
  {
   "cell_type": "code",
   "execution_count": null,
   "id": "8f9f59f8",
   "metadata": {},
   "outputs": [],
   "source": []
  }
 ],
 "metadata": {
  "kernelspec": {
   "display_name": "Python 3",
   "language": "python",
   "name": "python3"
  },
  "language_info": {
   "codemirror_mode": {
    "name": "ipython",
    "version": 3
   },
   "file_extension": ".py",
   "mimetype": "text/x-python",
   "name": "python",
   "nbconvert_exporter": "python",
   "pygments_lexer": "ipython3",
   "version": "3.8.8"
  }
 },
 "nbformat": 4,
 "nbformat_minor": 5
}
