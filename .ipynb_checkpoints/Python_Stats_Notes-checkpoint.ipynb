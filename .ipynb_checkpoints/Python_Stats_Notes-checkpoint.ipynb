{
 "cells": [
  {
   "cell_type": "markdown",
   "id": "8ebd4b0b",
   "metadata": {},
   "source": [
    "# Statistical Thinking in Python Functions for Reuse:"
   ]
  },
  {
   "cell_type": "code",
   "execution_count": 2,
   "id": "1e93fa53",
   "metadata": {},
   "outputs": [],
   "source": [
    "import numpy as np"
   ]
  },
  {
   "cell_type": "markdown",
   "id": "f5bfe6a5",
   "metadata": {},
   "source": [
    "## PMF vs PDF vs CDF vs ECDF:\n",
    "__PMF__: *Distcrete* outcomes (/discrete random variables); normal/Gaussian distribution (bell-curve) \\\n",
    "__PDF__: *Continuous* outcomes (/continuous random variables); normal/Gaussian distribution (bell-curve) \\\n",
    "__CDF__: *Hypothetical* probability distribution; exponential or normal/Sigmoid \\\n",
    "__ECDF__: *Observed* probability distribution; exponential or normal/Sigmoid"
   ]
  },
  {
   "cell_type": "markdown",
   "id": "223d60dd",
   "metadata": {},
   "source": [
    "## Binomial Distribution:\n",
    "The number *r* of successes in *n* Bernoulli (success/fail) trials, with probability *p* of success, is Binomially distributed. \\\n",
    "np.random.binomial()"
   ]
  },
  {
   "cell_type": "markdown",
   "id": "d2572972",
   "metadata": {},
   "source": [
    "## ECDF\n",
    "Empirical Cumulative Distribution Function"
   ]
  },
  {
   "cell_type": "code",
   "execution_count": 29,
   "id": "e23dceb2",
   "metadata": {},
   "outputs": [],
   "source": [
    "def ecdf(data):\n",
    "    \"\"\"Compute ECDF for a one-dimensional array of measurements.\"\"\"\n",
    "    \n",
    "    #Number of data points: n\n",
    "    n = len(data)\n",
    "    # x-data for the ECDF: x\n",
    "    x = np.sort(data)\n",
    "    # y-data for the ECDF: y\n",
    "    y = np.arange(1, n+1) / n\n",
    "    \n",
    "    return x, y"
   ]
  },
  {
   "cell_type": "markdown",
   "id": "35052d6c",
   "metadata": {},
   "source": [
    "### Bernoulli Trials"
   ]
  },
  {
   "cell_type": "code",
   "execution_count": 30,
   "id": "1269cadb",
   "metadata": {},
   "outputs": [],
   "source": [
    "def perform_bernoulli_trials(n, p):\n",
    "    \"\"\"Perform n Bernoulli trials with success probability p\n",
    "    and return number of successes.\"\"\"\n",
    "    # Initialize number of successes: n_success\n",
    "    n_success = 0\n",
    "\n",
    "    # Perform trials\n",
    "    for i in range(n):\n",
    "        # Choose random number between zero and one: random_number\n",
    "        random_number = np.random.random()\n",
    "\n",
    "        # If less than p, it's a success so add one to n_success\n",
    "        if random_number < p:\n",
    "            n_success += 1\n",
    "\n",
    "    return n_success"
   ]
  },
  {
   "cell_type": "markdown",
   "id": "d6758266",
   "metadata": {},
   "source": [
    "## Poisson: \n",
    "__Poisson process:__ The timing of the next event is completely independent of when the previous event happened (ie bus arrivals in Poissonville) \\\n",
    "__Poisson distribution:__ A limit of the Binomial distribution for low probabilty of success and large number of trials (ie, for rare events):\n",
    "1) The number *r* of arrivals of a Poisson process in a given time interval with average rate of ? arrivals per interval is Poisson distributed. \\\n",
    "2) The number *r* of hits on a website in one hour with an average hit rate of 6 hits per hour is Poisson distributed.\\\n",
    "__np.random.poisson()__ \\\n",
    "\n",
    "The waiting time between arrivals of a Poisson process is Exponentially distributed. \\\n",
    "\n",
    "__successive_poisson() function:__"
   ]
  },
  {
   "cell_type": "code",
   "execution_count": 32,
   "id": "a7a81e8a",
   "metadata": {},
   "outputs": [],
   "source": [
    "def successive_poisson(tau1, tau2, size=1):\n",
    "    \"\"\"Compute time for arrival of 2 successive Poisson processes.\"\"\"\n",
    "    # Draw samples out of first exponential distribution: t1\n",
    "    t1 = np.random.exponential(tau1, size=1)\n",
    "\n",
    "    # Draw samples out of second exponential distribution: t2\n",
    "    t2 = np.random.exponential(tau2, size=1)\n",
    "\n",
    "    return t1 + t2"
   ]
  },
  {
   "cell_type": "markdown",
   "id": "53345925",
   "metadata": {},
   "source": [
    "## Exponential: \n",
    "The waiting time between arrivals of a Poisson process is Exponentially distributed. \\\n",
    "Parameters: mean (waiting time), size \\\n",
    "__np.random.exponential(scale=1.0, size=None)__"
   ]
  },
  {
   "cell_type": "code",
   "execution_count": null,
   "id": "3cb2cecf",
   "metadata": {},
   "outputs": [],
   "source": []
  },
  {
   "cell_type": "markdown",
   "id": "4220ccc7",
   "metadata": {},
   "source": [
    "## Checking normality of distribution:"
   ]
  },
  {
   "cell_type": "markdown",
   "id": "2fad6398",
   "metadata": {},
   "source": [
    "import numpy as np \\\n",
    "mean = np.mean(michelson_speed_of_light) \\\n",
    "std = np.std(michelson_speed_of_light) \\\n",
    "samples = np.random.normal(mean, std, size = 10000) \\\n",
    "x, y = ecdf(michelson_speed_of_light) \\\n",
    "x_theor, y_theor = ecdf(samples) \\\n",
    "\n",
    "Then, plot empirical and theoretical CDF's on the same plot to check for normal distribution. \\\n",
    "__This is preferrable to histogram check for normal distribution because there is no binning bias.__"
   ]
  },
  {
   "cell_type": "markdown",
   "id": "6be20bd7",
   "metadata": {},
   "source": [
    "## Computing Percentiles:\n",
    "np.percentile(df['column'], [list of percentiles])\n",
    "#### 25th, 50th, 75th percentiles: \n",
    "np.percentile(df['column'], [25, 50, 75])\n",
    "#### 95% Confidence interval:\n",
    "np.percentile(df['column'], [2.5, 97.5])\n",
    "#### 99% Confidence interval:\n",
    "np.percentile(df['column'], [0.5, 99.5])"
   ]
  },
  {
   "cell_type": "markdown",
   "id": "db1012dc",
   "metadata": {},
   "source": [
    "## Pearson Correlation Coefficient:\n",
    "Pearson correlation coefficient, $\\rho$, ranges from -1 (for complete anti-correlation) to 1 (for complete positive correlation). $\\rho$ = 0 indicates no correlation."
   ]
  },
  {
   "cell_type": "markdown",
   "id": "e135f3f9",
   "metadata": {},
   "source": [
    "__Covariance:__ a measure of how two quantities vary *together.*"
   ]
  },
  {
   "cell_type": "markdown",
   "id": "960f234a",
   "metadata": {},
   "source": [
    "$\\rho$ = covariance / [(std of x)(std of y)]"
   ]
  },
  {
   "cell_type": "markdown",
   "id": "3398391b",
   "metadata": {},
   "source": [
    "$\\rho$ = variablity due to codependence/ independent variability"
   ]
  },
  {
   "cell_type": "code",
   "execution_count": 31,
   "id": "c11a9f58",
   "metadata": {},
   "outputs": [],
   "source": [
    "def pearson_r(x, y):\n",
    "    \"\"\"Compute Pearson correlation coefficient between two arrays.\"\"\"\n",
    "    # Compute correlation matrix: corr_mat\n",
    "    corr_mat = np.corrcoef(x,y)\n",
    "\n",
    "    # Return entry [0,1]\n",
    "    return corr_mat[0,1]"
   ]
  },
  {
   "cell_type": "markdown",
   "id": "1589ffe4",
   "metadata": {},
   "source": [
    "## The np.random module:\n",
    "A suite of functions based on pseudo-random number generation."
   ]
  },
  {
   "cell_type": "markdown",
   "id": "1d9dcf4f",
   "metadata": {},
   "source": [
    "__np.random.seed()__ \\\n",
    "set the seed"
   ]
  },
  {
   "cell_type": "markdown",
   "id": "13078505",
   "metadata": {},
   "source": [
    "__np.random.random(size= )__ \\\n",
    "draw a number between 0 and 1"
   ]
  },
  {
   "cell_type": "markdown",
   "id": "b2c65762",
   "metadata": {},
   "source": [
    "__np.random.binomial(4, 0.5)__ \\\n",
    "__np.random.binomial(4, 0.5, 10)__ \\\n",
    "\n",
    "sampling from a Binomial distribution \\\n",
    "arguments: \\\n",
    "(4) = number of Bernoulli trials (coin flips) \\\n",
    "(0.5) = probability of success (50:50) \\\n",
    "(10) = how many times to repeat the (4 flip) experiment\n"
   ]
  },
  {
   "cell_type": "markdown",
   "id": "385506d4",
   "metadata": {},
   "source": [
    "__np.random.poisson(5, 10000)__ \\\n",
    "random.poisson(lam=1.0, size=None)¶"
   ]
  },
  {
   "cell_type": "markdown",
   "id": "b2cc3a17",
   "metadata": {},
   "source": [
    "__np.random.normal(mean, std, size)__ \\\n",
    "np.random.normal(np.mean(height), np.std(height), size = 10000)"
   ]
  },
  {
   "cell_type": "markdown",
   "id": "26afdf00",
   "metadata": {},
   "source": [
    "__random.exponential(scale=1.0, size=None)__  \\\n",
    "np.random.exponential(mean, 10000)"
   ]
  },
  {
   "cell_type": "code",
   "execution_count": null,
   "id": "5fe32d72",
   "metadata": {},
   "outputs": [],
   "source": []
  },
  {
   "cell_type": "markdown",
   "id": "c45e2332",
   "metadata": {},
   "source": []
  },
  {
   "cell_type": "markdown",
   "id": "083cc2c3",
   "metadata": {},
   "source": [
    "## Plots:"
   ]
  },
  {
   "cell_type": "markdown",
   "id": "df8c6b2f",
   "metadata": {},
   "source": [
    "### Bee swarm plot:\n",
    "sns.swarmplot() \\\n",
    "sns.swarmplot(x) \\\n",
    "sns.swarmplot(x, y, data) \n",
    "\n",
    "sns.swarmplot(*, x=None, y=None, hue=None, data=None, order=None, hue_order=None, dodge=False, orient=None, color=None, palette=None, size=5, edgecolor='gray', linewidth=0, ax=None, **kwargs)"
   ]
  },
  {
   "cell_type": "markdown",
   "id": "187ddf4c",
   "metadata": {},
   "source": [
    "## Other:"
   ]
  },
  {
   "cell_type": "markdown",
   "id": "021acd20",
   "metadata": {},
   "source": [
    "__np.arange()__ \\\n",
    "([start, ]stop, [step, ]dtype=None, *, like=None) \\\n",
    "Create an np array"
   ]
  },
  {
   "cell_type": "code",
   "execution_count": null,
   "id": "a61c3617",
   "metadata": {},
   "outputs": [],
   "source": []
  },
  {
   "cell_type": "code",
   "execution_count": null,
   "id": "0c28e2f7",
   "metadata": {},
   "outputs": [],
   "source": []
  },
  {
   "cell_type": "markdown",
   "id": "74d45053",
   "metadata": {},
   "source": [
    "__Simulating coin flips__:"
   ]
  },
  {
   "cell_type": "code",
   "execution_count": null,
   "id": "1c183ba1",
   "metadata": {},
   "outputs": [],
   "source": [
    "n_all_heads = 0 \n",
    "for i in range(10000): \n",
    "    heads = np.random.random(size=4) < 0.5\n",
    "    n_heads = np.sum(heads)\n",
    "    if n_heads == 4:\n",
    "        n_all_heads += 1\n",
    "n_all_heads/10000"
   ]
  }
 ],
 "metadata": {
  "kernelspec": {
   "display_name": "Python 3",
   "language": "python",
   "name": "python3"
  },
  "language_info": {
   "codemirror_mode": {
    "name": "ipython",
    "version": 3
   },
   "file_extension": ".py",
   "mimetype": "text/x-python",
   "name": "python",
   "nbconvert_exporter": "python",
   "pygments_lexer": "ipython3",
   "version": "3.8.8"
  }
 },
 "nbformat": 4,
 "nbformat_minor": 5
}
