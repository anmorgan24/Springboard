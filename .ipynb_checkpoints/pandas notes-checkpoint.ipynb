{
 "cells": [
  {
   "cell_type": "markdown",
   "id": "3656d5a2",
   "metadata": {},
   "source": [
    "# pandas"
   ]
  },
  {
   "cell_type": "markdown",
   "id": "15dd9a19",
   "metadata": {},
   "source": [
    "__`df.insert()`__ \\\n",
    "insert df column at particular location rather than at end, by default"
   ]
  },
  {
   "cell_type": "code",
   "execution_count": null,
   "id": "03c5748d",
   "metadata": {},
   "outputs": [],
   "source": []
  }
 ],
 "metadata": {
  "kernelspec": {
   "display_name": "Python 3",
   "language": "python",
   "name": "python3"
  },
  "language_info": {
   "codemirror_mode": {
    "name": "ipython",
    "version": 3
   },
   "file_extension": ".py",
   "mimetype": "text/x-python",
   "name": "python",
   "nbconvert_exporter": "python",
   "pygments_lexer": "ipython3",
   "version": "3.8.8"
  }
 },
 "nbformat": 4,
 "nbformat_minor": 5
}
