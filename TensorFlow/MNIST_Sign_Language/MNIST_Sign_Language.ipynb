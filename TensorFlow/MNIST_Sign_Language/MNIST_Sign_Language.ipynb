{
 "cells": [
  {
   "cell_type": "markdown",
   "id": "62bb1adc",
   "metadata": {},
   "source": [
    "# MNIST Sign Language"
   ]
  },
  {
   "cell_type": "code",
   "execution_count": 12,
   "id": "4212eba6",
   "metadata": {},
   "outputs": [],
   "source": [
    "import tensorflow as tf\n",
    "import pandas as pd\n",
    "import numpy as np\n",
    "import matplotlib.pyplot as plt\n",
    "from sklearn.model_selection import train_test_split"
   ]
  },
  {
   "cell_type": "code",
   "execution_count": 2,
   "id": "9be347b6",
   "metadata": {},
   "outputs": [
    {
     "data": {
      "text/plain": [
       "'2.4.0'"
      ]
     },
     "execution_count": 2,
     "metadata": {},
     "output_type": "execute_result"
    }
   ],
   "source": [
    "plt.rcParams['figure.figsize'] = (8, 8)\n",
    "tf.__version__"
   ]
  },
  {
   "cell_type": "code",
   "execution_count": 3,
   "id": "fc36633b",
   "metadata": {},
   "outputs": [],
   "source": [
    "df = pd.read_csv('slmnist.csv', header=None)\n",
    "X = df.iloc[:, 1:]\n",
    "y = df.iloc[:, 0]"
   ]
  },
  {
   "cell_type": "code",
   "execution_count": 4,
   "id": "bf5007d7",
   "metadata": {},
   "outputs": [],
   "source": [
    "sign_language_features = (X -  X.mean()) / (X.max() - X.min()).to_numpy()\n",
    "sign_language_labels = pd.get_dummies(y).astype(np.float32).to_numpy()"
   ]
  },
  {
   "cell_type": "markdown",
   "id": "2128bf96",
   "metadata": {},
   "source": [
    "#### Metrics and training with Keras"
   ]
  },
  {
   "cell_type": "code",
   "execution_count": 6,
   "id": "20e4b13d",
   "metadata": {},
   "outputs": [
    {
     "name": "stderr",
     "output_type": "stream",
     "text": [
      "2022-01-17 18:38:51.703577: I tensorflow/compiler/jit/xla_cpu_device.cc:41] Not creating XLA devices, tf_xla_enable_xla_devices not set\n",
      "2022-01-17 18:38:51.703860: I tensorflow/core/platform/cpu_feature_guard.cc:142] This TensorFlow binary is optimized with oneAPI Deep Neural Network Library (oneDNN) to use the following CPU instructions in performance-critical operations:  AVX2 FMA\n",
      "To enable them in other operations, rebuild TensorFlow with the appropriate compiler flags.\n",
      "2022-01-17 18:38:51.781255: I tensorflow/compiler/mlir/mlir_graph_optimization_pass.cc:116] None of the MLIR optimization passes are enabled (registered 2)\n"
     ]
    },
    {
     "name": "stdout",
     "output_type": "stream",
     "text": [
      "Epoch 1/5\n",
      "63/63 [==============================] - 0s 522us/step - loss: 1.3426\n",
      "Epoch 2/5\n",
      "63/63 [==============================] - 0s 512us/step - loss: 1.0639\n",
      "Epoch 3/5\n",
      "63/63 [==============================] - 0s 535us/step - loss: 0.8633\n",
      "Epoch 4/5\n",
      "63/63 [==============================] - 0s 567us/step - loss: 0.7123\n",
      "Epoch 5/5\n",
      "63/63 [==============================] - 0s 584us/step - loss: 0.5794\n"
     ]
    },
    {
     "data": {
      "text/plain": [
       "<tensorflow.python.keras.callbacks.History at 0x7fc9091597c0>"
      ]
     },
     "execution_count": 6,
     "metadata": {},
     "output_type": "execute_result"
    }
   ],
   "source": [
    "# Define a sequential model\n",
    "model = tf.keras.Sequential()\n",
    "\n",
    "# Define a hidden layer\n",
    "model.add(tf.keras.layers.Dense(16, activation='relu', input_shape=(784,)))\n",
    "\n",
    "# Define the output layer\n",
    "model.add(tf.keras.layers.Dense(4, activation='softmax'))\n",
    "\n",
    "# Compile the model\n",
    "model.compile('SGD', loss='categorical_crossentropy')\n",
    "\n",
    "# Complete the fitting operation\n",
    "model.fit(sign_language_features, sign_language_labels, epochs=5)"
   ]
  },
  {
   "cell_type": "markdown",
   "id": "996327cb",
   "metadata": {},
   "source": [
    "#### Metrics and validation with Keras"
   ]
  },
  {
   "cell_type": "code",
   "execution_count": 8,
   "id": "814ff692",
   "metadata": {},
   "outputs": [
    {
     "name": "stdout",
     "output_type": "stream",
     "text": [
      "Epoch 1/10\n",
      "57/57 [==============================] - 0s 4ms/step - loss: 1.0990 - accuracy: 0.5607 - val_loss: 0.5764 - val_accuracy: 0.9450\n",
      "Epoch 2/10\n",
      "57/57 [==============================] - 0s 1ms/step - loss: 0.4967 - accuracy: 0.9516 - val_loss: 0.3151 - val_accuracy: 0.9800\n",
      "Epoch 3/10\n",
      "57/57 [==============================] - 0s 1ms/step - loss: 0.2687 - accuracy: 0.9929 - val_loss: 0.1788 - val_accuracy: 0.9900\n",
      "Epoch 4/10\n",
      "57/57 [==============================] - 0s 1ms/step - loss: 0.1551 - accuracy: 0.9935 - val_loss: 0.1011 - val_accuracy: 1.0000\n",
      "Epoch 5/10\n",
      "57/57 [==============================] - 0s 1ms/step - loss: 0.0861 - accuracy: 0.9961 - val_loss: 0.0574 - val_accuracy: 1.0000\n",
      "Epoch 6/10\n",
      "57/57 [==============================] - 0s 1ms/step - loss: 0.0455 - accuracy: 0.9995 - val_loss: 0.0316 - val_accuracy: 1.0000\n",
      "Epoch 7/10\n",
      "57/57 [==============================] - 0s 1ms/step - loss: 0.0263 - accuracy: 1.0000 - val_loss: 0.0171 - val_accuracy: 1.0000\n",
      "Epoch 8/10\n",
      "57/57 [==============================] - 0s 1ms/step - loss: 0.0144 - accuracy: 1.0000 - val_loss: 0.0098 - val_accuracy: 1.0000\n",
      "Epoch 9/10\n",
      "57/57 [==============================] - 0s 1ms/step - loss: 0.0074 - accuracy: 1.0000 - val_loss: 0.0056 - val_accuracy: 1.0000\n",
      "Epoch 10/10\n",
      "57/57 [==============================] - 0s 1ms/step - loss: 0.0040 - accuracy: 1.0000 - val_loss: 0.0029 - val_accuracy: 1.0000\n"
     ]
    },
    {
     "data": {
      "text/plain": [
       "<tensorflow.python.keras.callbacks.History at 0x7fc9091b3340>"
      ]
     },
     "execution_count": 8,
     "metadata": {},
     "output_type": "execute_result"
    }
   ],
   "source": [
    "# Define sequential model\n",
    "model = tf.keras.Sequential()\n",
    "\n",
    "# Define the first layer\n",
    "model.add(tf.keras.layers.Dense(32, activation='sigmoid', input_shape=(784,)))\n",
    "\n",
    "# Add activation function to classifier\n",
    "model.add(tf.keras.layers.Dense(4, activation='softmax'))\n",
    "\n",
    "# Set the optimizer, loss function, and metrics\n",
    "model.compile(optimizer='RMSprop', loss='categorical_crossentropy', metrics=['accuracy'])\n",
    "\n",
    "# Add the number of epochs and the validation split\n",
    "model.fit(sign_language_features, sign_language_labels, epochs=10, validation_split=0.10)"
   ]
  },
  {
   "cell_type": "markdown",
   "id": "3a5d8d18",
   "metadata": {},
   "source": [
    "#### Overfitting detection"
   ]
  },
  {
   "cell_type": "code",
   "execution_count": 9,
   "id": "6dbf1dc7",
   "metadata": {},
   "outputs": [
    {
     "name": "stdout",
     "output_type": "stream",
     "text": [
      "Epoch 1/50\n",
      "32/32 [==============================] - 0s 8ms/step - loss: 0.5433 - accuracy: 0.8342 - val_loss: 0.0608 - val_accuracy: 0.9840\n",
      "Epoch 2/50\n",
      "32/32 [==============================] - 0s 5ms/step - loss: 0.0364 - accuracy: 0.9903 - val_loss: 0.0558 - val_accuracy: 0.9810\n",
      "Epoch 3/50\n",
      "32/32 [==============================] - 0s 5ms/step - loss: 0.0340 - accuracy: 0.9870 - val_loss: 0.0066 - val_accuracy: 1.0000\n",
      "Epoch 4/50\n",
      "32/32 [==============================] - 0s 5ms/step - loss: 0.0035 - accuracy: 1.0000 - val_loss: 0.0049 - val_accuracy: 1.0000\n",
      "Epoch 5/50\n",
      "32/32 [==============================] - 0s 5ms/step - loss: 0.0019 - accuracy: 1.0000 - val_loss: 0.0036 - val_accuracy: 1.0000\n",
      "Epoch 6/50\n",
      "32/32 [==============================] - 0s 5ms/step - loss: 0.0015 - accuracy: 1.0000 - val_loss: 0.0031 - val_accuracy: 1.0000\n",
      "Epoch 7/50\n",
      "32/32 [==============================] - 0s 5ms/step - loss: 0.0013 - accuracy: 1.0000 - val_loss: 0.0029 - val_accuracy: 1.0000\n",
      "Epoch 8/50\n",
      "32/32 [==============================] - 0s 5ms/step - loss: 9.0956e-04 - accuracy: 1.0000 - val_loss: 0.0025 - val_accuracy: 1.0000\n",
      "Epoch 9/50\n",
      "32/32 [==============================] - 0s 6ms/step - loss: 8.9476e-04 - accuracy: 1.0000 - val_loss: 0.0023 - val_accuracy: 1.0000\n",
      "Epoch 10/50\n",
      "32/32 [==============================] - 0s 6ms/step - loss: 6.9142e-04 - accuracy: 1.0000 - val_loss: 0.0020 - val_accuracy: 1.0000\n",
      "Epoch 11/50\n",
      "32/32 [==============================] - 0s 6ms/step - loss: 5.7728e-04 - accuracy: 1.0000 - val_loss: 0.0019 - val_accuracy: 1.0000\n",
      "Epoch 12/50\n",
      "32/32 [==============================] - 0s 5ms/step - loss: 5.3678e-04 - accuracy: 1.0000 - val_loss: 0.0017 - val_accuracy: 1.0000\n",
      "Epoch 13/50\n",
      "32/32 [==============================] - 0s 6ms/step - loss: 5.3595e-04 - accuracy: 1.0000 - val_loss: 0.0016 - val_accuracy: 1.0000\n",
      "Epoch 14/50\n",
      "32/32 [==============================] - 0s 6ms/step - loss: 4.1971e-04 - accuracy: 1.0000 - val_loss: 0.0015 - val_accuracy: 1.0000\n",
      "Epoch 15/50\n",
      "32/32 [==============================] - 0s 5ms/step - loss: 4.2527e-04 - accuracy: 1.0000 - val_loss: 0.0014 - val_accuracy: 1.0000\n",
      "Epoch 16/50\n",
      "32/32 [==============================] - 0s 6ms/step - loss: 3.8980e-04 - accuracy: 1.0000 - val_loss: 0.0013 - val_accuracy: 1.0000\n",
      "Epoch 17/50\n",
      "32/32 [==============================] - 0s 5ms/step - loss: 2.4896e-04 - accuracy: 1.0000 - val_loss: 0.0012 - val_accuracy: 1.0000\n",
      "Epoch 18/50\n",
      "32/32 [==============================] - 0s 6ms/step - loss: 3.1400e-04 - accuracy: 1.0000 - val_loss: 0.0012 - val_accuracy: 1.0000\n",
      "Epoch 19/50\n",
      "32/32 [==============================] - 0s 5ms/step - loss: 2.5145e-04 - accuracy: 1.0000 - val_loss: 0.0011 - val_accuracy: 1.0000\n",
      "Epoch 20/50\n",
      "32/32 [==============================] - 0s 6ms/step - loss: 2.3127e-04 - accuracy: 1.0000 - val_loss: 0.0010 - val_accuracy: 1.0000\n",
      "Epoch 21/50\n",
      "32/32 [==============================] - 0s 6ms/step - loss: 2.0838e-04 - accuracy: 1.0000 - val_loss: 9.2942e-04 - val_accuracy: 1.0000\n",
      "Epoch 22/50\n",
      "32/32 [==============================] - 0s 6ms/step - loss: 1.9224e-04 - accuracy: 1.0000 - val_loss: 9.3037e-04 - val_accuracy: 1.0000\n",
      "Epoch 23/50\n",
      "32/32 [==============================] - 0s 6ms/step - loss: 1.8316e-04 - accuracy: 1.0000 - val_loss: 8.7896e-04 - val_accuracy: 1.0000\n",
      "Epoch 24/50\n",
      "32/32 [==============================] - 0s 6ms/step - loss: 1.7724e-04 - accuracy: 1.0000 - val_loss: 8.6270e-04 - val_accuracy: 1.0000\n",
      "Epoch 25/50\n",
      "32/32 [==============================] - 0s 6ms/step - loss: 1.6579e-04 - accuracy: 1.0000 - val_loss: 7.9910e-04 - val_accuracy: 1.0000\n",
      "Epoch 26/50\n",
      "32/32 [==============================] - 0s 5ms/step - loss: 1.6820e-04 - accuracy: 1.0000 - val_loss: 7.5987e-04 - val_accuracy: 1.0000\n",
      "Epoch 27/50\n",
      "32/32 [==============================] - 0s 6ms/step - loss: 1.2263e-04 - accuracy: 1.0000 - val_loss: 7.4626e-04 - val_accuracy: 1.0000\n",
      "Epoch 28/50\n",
      "32/32 [==============================] - 0s 6ms/step - loss: 1.3686e-04 - accuracy: 1.0000 - val_loss: 7.0973e-04 - val_accuracy: 1.0000\n",
      "Epoch 29/50\n",
      "32/32 [==============================] - 0s 6ms/step - loss: 1.1716e-04 - accuracy: 1.0000 - val_loss: 6.8631e-04 - val_accuracy: 1.0000\n",
      "Epoch 30/50\n",
      "32/32 [==============================] - 0s 6ms/step - loss: 1.2529e-04 - accuracy: 1.0000 - val_loss: 6.7175e-04 - val_accuracy: 1.0000\n",
      "Epoch 31/50\n",
      "32/32 [==============================] - 0s 6ms/step - loss: 1.1150e-04 - accuracy: 1.0000 - val_loss: 6.3022e-04 - val_accuracy: 1.0000\n",
      "Epoch 32/50\n",
      "32/32 [==============================] - 0s 7ms/step - loss: 1.0120e-04 - accuracy: 1.0000 - val_loss: 6.0676e-04 - val_accuracy: 1.0000\n",
      "Epoch 33/50\n",
      "32/32 [==============================] - 0s 8ms/step - loss: 9.3380e-05 - accuracy: 1.0000 - val_loss: 5.8112e-04 - val_accuracy: 1.0000\n",
      "Epoch 34/50\n",
      "32/32 [==============================] - 0s 7ms/step - loss: 8.9330e-05 - accuracy: 1.0000 - val_loss: 5.7414e-04 - val_accuracy: 1.0000\n",
      "Epoch 35/50\n",
      "32/32 [==============================] - 0s 6ms/step - loss: 7.8752e-05 - accuracy: 1.0000 - val_loss: 5.4626e-04 - val_accuracy: 1.0000\n",
      "Epoch 36/50\n",
      "32/32 [==============================] - 0s 5ms/step - loss: 7.9537e-05 - accuracy: 1.0000 - val_loss: 5.3798e-04 - val_accuracy: 1.0000\n",
      "Epoch 37/50\n",
      "32/32 [==============================] - 0s 5ms/step - loss: 7.6553e-05 - accuracy: 1.0000 - val_loss: 5.1194e-04 - val_accuracy: 1.0000\n",
      "Epoch 38/50\n",
      "32/32 [==============================] - 0s 6ms/step - loss: 7.8778e-05 - accuracy: 1.0000 - val_loss: 4.9897e-04 - val_accuracy: 1.0000\n",
      "Epoch 39/50\n",
      "32/32 [==============================] - 0s 6ms/step - loss: 6.4773e-05 - accuracy: 1.0000 - val_loss: 4.8071e-04 - val_accuracy: 1.0000\n",
      "Epoch 40/50\n",
      "32/32 [==============================] - 0s 6ms/step - loss: 6.9864e-05 - accuracy: 1.0000 - val_loss: 4.7676e-04 - val_accuracy: 1.0000\n",
      "Epoch 41/50\n",
      "32/32 [==============================] - 0s 6ms/step - loss: 6.0746e-05 - accuracy: 1.0000 - val_loss: 4.5892e-04 - val_accuracy: 1.0000\n",
      "Epoch 42/50\n",
      "32/32 [==============================] - 0s 6ms/step - loss: 6.1266e-05 - accuracy: 1.0000 - val_loss: 4.4800e-04 - val_accuracy: 1.0000\n",
      "Epoch 43/50\n",
      "32/32 [==============================] - 0s 5ms/step - loss: 6.0084e-05 - accuracy: 1.0000 - val_loss: 4.3066e-04 - val_accuracy: 1.0000\n",
      "Epoch 44/50\n",
      "32/32 [==============================] - 0s 6ms/step - loss: 4.9706e-05 - accuracy: 1.0000 - val_loss: 4.3202e-04 - val_accuracy: 1.0000\n",
      "Epoch 45/50\n",
      "32/32 [==============================] - 0s 6ms/step - loss: 4.8688e-05 - accuracy: 1.0000 - val_loss: 4.0893e-04 - val_accuracy: 1.0000\n",
      "Epoch 46/50\n",
      "32/32 [==============================] - 0s 7ms/step - loss: 4.7408e-05 - accuracy: 1.0000 - val_loss: 3.9659e-04 - val_accuracy: 1.0000\n",
      "Epoch 47/50\n",
      "32/32 [==============================] - 0s 6ms/step - loss: 4.6919e-05 - accuracy: 1.0000 - val_loss: 3.8426e-04 - val_accuracy: 1.0000\n",
      "Epoch 48/50\n",
      "32/32 [==============================] - 0s 6ms/step - loss: 4.9526e-05 - accuracy: 1.0000 - val_loss: 3.7197e-04 - val_accuracy: 1.0000\n",
      "Epoch 49/50\n",
      "32/32 [==============================] - 0s 6ms/step - loss: 4.5602e-05 - accuracy: 1.0000 - val_loss: 3.6634e-04 - val_accuracy: 1.0000\n",
      "Epoch 50/50\n",
      "32/32 [==============================] - 0s 5ms/step - loss: 4.6717e-05 - accuracy: 1.0000 - val_loss: 3.5480e-04 - val_accuracy: 1.0000\n"
     ]
    },
    {
     "data": {
      "text/plain": [
       "<tensorflow.python.keras.callbacks.History at 0x7fc9194d3820>"
      ]
     },
     "execution_count": 9,
     "metadata": {},
     "output_type": "execute_result"
    }
   ],
   "source": [
    "# Define sequential model\n",
    "model = tf.keras.Sequential()\n",
    "\n",
    "# Define the first layer\n",
    "model.add(tf.keras.layers.Dense(1024, activation='relu', input_shape=(784,)))\n",
    "\n",
    "# Add activation function to classifier\n",
    "model.add(tf.keras.layers.Dense(4, activation='softmax'))\n",
    "\n",
    "# Finish the model compilation\n",
    "model.compile(optimizer=tf.keras.optimizers.Adam(lr=0.001), \n",
    "              loss='categorical_crossentropy', metrics=['accuracy'])\n",
    "\n",
    "# Complete the model fit operation\n",
    "model.fit(sign_language_features, sign_language_labels, epochs=50, validation_split=0.5)"
   ]
  },
  {
   "cell_type": "markdown",
   "id": "af8d0cc6",
   "metadata": {},
   "source": [
    "#### Evaluating models "
   ]
  },
  {
   "cell_type": "code",
   "execution_count": 10,
   "id": "53045e6c",
   "metadata": {},
   "outputs": [],
   "source": [
    "small_model = tf.keras.Sequential()\n",
    "\n",
    "small_model.add(tf.keras.layers.Dense(8, activation='relu', input_shape=(784,)))\n",
    "small_model.add(tf.keras.layers.Dense(4, activation='softmax'))\n",
    "\n",
    "small_model.compile(optimizer=tf.keras.optimizers.SGD(lr=0.01), \n",
    "                    loss='categorical_crossentropy', \n",
    "                    metrics=['accuracy'])"
   ]
  },
  {
   "cell_type": "code",
   "execution_count": 11,
   "id": "88c16a33",
   "metadata": {},
   "outputs": [],
   "source": [
    "large_model = tf.keras.Sequential()\n",
    "\n",
    "large_model.add(tf.keras.layers.Dense(64, activation='sigmoid', input_shape=(784,)))\n",
    "large_model.add(tf.keras.layers.Dense(4, activation='softmax'))\n",
    "\n",
    "large_model.compile(optimizer=tf.keras.optimizers.Adam(learning_rate=0.001, \n",
    "                                                       beta_1=0.9, beta_2=0.999),\n",
    "                   loss='categorical_crossentropy', metrics=['accuracy'])"
   ]
  },
  {
   "cell_type": "code",
   "execution_count": 13,
   "id": "9aeadc8b",
   "metadata": {},
   "outputs": [],
   "source": [
    "train_features, test_features, train_labels, test_labels = train_test_split(sign_language_features, \n",
    "                                                                            sign_language_labels,\n",
    "                                                                            test_size=0.5)"
   ]
  },
  {
   "cell_type": "code",
   "execution_count": 14,
   "id": "ed217873",
   "metadata": {},
   "outputs": [
    {
     "data": {
      "text/plain": [
       "<tensorflow.python.keras.callbacks.History at 0x7fc909e967c0>"
      ]
     },
     "execution_count": 14,
     "metadata": {},
     "output_type": "execute_result"
    }
   ],
   "source": [
    "small_model.fit(train_features, train_labels, epochs=30, verbose=False)\n",
    "large_model.fit(train_features, train_labels, epochs=30, verbose=False)"
   ]
  },
  {
   "cell_type": "code",
   "execution_count": 15,
   "id": "94481c78",
   "metadata": {},
   "outputs": [
    {
     "name": "stdout",
     "output_type": "stream",
     "text": [
      "32/32 [==============================] - 0s 542us/step - loss: 0.1892 - accuracy: 0.9850\n",
      "32/32 [==============================] - 0s 588us/step - loss: 0.2034 - accuracy: 0.9840\n",
      "32/32 [==============================] - 0s 647us/step - loss: 0.0081 - accuracy: 1.0000\n",
      "32/32 [==============================] - 0s 692us/step - loss: 0.0098 - accuracy: 1.0000\n",
      "\n",
      " Small - Train: [0.18916435539722443, 0.9850000143051147], Test: [0.20340892672538757, 0.984000027179718]\n",
      "Large - Train: [0.008134523406624794, 1.0], Test: [0.009812450967729092, 1.0]\n"
     ]
    }
   ],
   "source": [
    "# Evaluate the small model using the train data\n",
    "small_train = small_model.evaluate(train_features, train_labels)\n",
    "\n",
    "# Evaluate the small model using the test data\n",
    "small_test = small_model.evaluate(test_features, test_labels)\n",
    "\n",
    "# Evaluate the large model using the train data\n",
    "large_train = large_model.evaluate(train_features, train_labels)\n",
    "\n",
    "# Evaluate the large model using the test data\n",
    "large_test = large_model.evaluate(test_features, test_labels)\n",
    "\n",
    "# Print losses\n",
    "print('\\n Small - Train: {}, Test: {}'.format(small_train, small_test))\n",
    "print('Large - Train: {}, Test: {}'.format(large_train, large_test))"
   ]
  },
  {
   "cell_type": "code",
   "execution_count": null,
   "id": "823562a0",
   "metadata": {},
   "outputs": [],
   "source": []
  }
 ],
 "metadata": {
  "kernelspec": {
   "display_name": "Python 3.8 (tensorflow)",
   "language": "python",
   "name": "tensorflow"
  },
  "language_info": {
   "codemirror_mode": {
    "name": "ipython",
    "version": 3
   },
   "file_extension": ".py",
   "mimetype": "text/x-python",
   "name": "python",
   "nbconvert_exporter": "python",
   "pygments_lexer": "ipython3",
   "version": "3.8.12"
  }
 },
 "nbformat": 4,
 "nbformat_minor": 5
}
