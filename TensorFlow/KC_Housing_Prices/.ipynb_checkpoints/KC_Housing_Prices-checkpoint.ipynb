{
 "cells": [
  {
   "cell_type": "markdown",
   "id": "4dfccdae",
   "metadata": {},
   "source": [
    "# Kansas City Housing Prices"
   ]
  },
  {
   "cell_type": "code",
   "execution_count": 19,
   "id": "19dc9630",
   "metadata": {},
   "outputs": [],
   "source": [
    "import pandas as pd\n",
    "import numpy as np\n",
    "import tensorflow as tf\n",
    "from tensorflow import keras\n",
    "import matplotlib.pyplot as plt"
   ]
  },
  {
   "cell_type": "code",
   "execution_count": 2,
   "id": "ba273af4",
   "metadata": {},
   "outputs": [
    {
     "name": "stdout",
     "output_type": "stream",
     "text": [
      "0        221900.0\n",
      "1        538000.0\n",
      "2        180000.0\n",
      "3        604000.0\n",
      "4        510000.0\n",
      "           ...   \n",
      "21608    360000.0\n",
      "21609    400000.0\n",
      "21610    402101.0\n",
      "21611    400000.0\n",
      "21612    325000.0\n",
      "Name: price, Length: 21613, dtype: float64\n"
     ]
    }
   ],
   "source": [
    "# Assign the path to a string variable named data_path\n",
    "data_path = 'kc_house_data.csv'\n",
    "\n",
    "housing = pd.read_csv(data_path)\n",
    "\n",
    "# Print the price column of housing\n",
    "print(housing.price)"
   ]
  },
  {
   "cell_type": "code",
   "execution_count": 4,
   "id": "0bf056c0",
   "metadata": {},
   "outputs": [
    {
     "name": "stdout",
     "output_type": "stream",
     "text": [
      "[221900. 538000. 180000. ... 402101. 400000. 325000.]\n",
      "tf.Tensor([False False False ... False False False], shape=(21613,), dtype=bool)\n",
      "[1180. 2570.  770. ... 1020. 1600. 1020.]\n"
     ]
    }
   ],
   "source": [
    "# Use a numpy array to define price as a 32-bit float\n",
    "price = np.array(housing['price'], np.float32)\n",
    "\n",
    "# Define waterfront as a Boolean using cast\n",
    "waterfront = tf.cast(housing['waterfront'], tf.bool)\n",
    "\n",
    "# Define an additional feature, size\n",
    "size = np.array(housing['sqft_living'], np.float32)\n",
    "\n",
    "# Print price and waterfront\n",
    "print(price)\n",
    "print(waterfront)\n",
    "print(size)"
   ]
  },
  {
   "cell_type": "code",
   "execution_count": 5,
   "id": "1c3ef906",
   "metadata": {},
   "outputs": [
    {
     "name": "stdout",
     "output_type": "stream",
     "text": [
      "Index(['id', 'date', 'price', 'bedrooms', 'bathrooms', 'sqft_living',\n",
      "       'sqft_lot', 'floors', 'waterfront', 'view', 'condition', 'grade',\n",
      "       'sqft_above', 'sqft_basement', 'yr_built', 'yr_renovated', 'zipcode',\n",
      "       'lat', 'long', 'sqft_living15', 'sqft_lot15'],\n",
      "      dtype='object')\n"
     ]
    }
   ],
   "source": [
    "print(housing.columns)"
   ]
  },
  {
   "cell_type": "code",
   "execution_count": 6,
   "id": "e58f91bc",
   "metadata": {},
   "outputs": [],
   "source": [
    "# Define intercept and slope\n",
    "#intercept = tf.Variable(0.1, np.float32)\n",
    "#slope = tf.Variable(0.1, np.float32)"
   ]
  },
  {
   "cell_type": "code",
   "execution_count": null,
   "id": "073f2817",
   "metadata": {},
   "outputs": [],
   "source": [
    "# Define a linear regression model\n",
    "#def linear_regression(intercept, slope, features = size):\n",
    "    #return intercept + features * slope"
   ]
  },
  {
   "cell_type": "code",
   "execution_count": null,
   "id": "b5c85f2c",
   "metadata": {},
   "outputs": [],
   "source": [
    "# Compute the predicted values and loss\n",
    "#def loss_function(intercept, slope, targets=price, features=size):\n",
    "    #predictions = linear_regression(intercept, slope)\n",
    "    #return tf.keras.losses.mse(targets, predictions)"
   ]
  },
  {
   "cell_type": "code",
   "execution_count": null,
   "id": "42ae1320",
   "metadata": {},
   "outputs": [],
   "source": [
    "# Define an optimization operation\n",
    "#opt = tf.keras.optimizers.Adam()"
   ]
  },
  {
   "cell_type": "code",
   "execution_count": null,
   "id": "6f4bbccd",
   "metadata": {},
   "outputs": [],
   "source": [
    "# Minimize the loss function and print the loss\n",
    "#for j in range(1000):\n",
    "    #opt.minimize(lambda: loss_function(intercept, slope), var_list = [intercept, slope])\n",
    "    # Print every 10th value of the loss\n",
    "    #if j % 10 == 0:\n",
    "        #print(loss_function(intercept, slope).numpy())"
   ]
  },
  {
   "cell_type": "markdown",
   "id": "ddcf8e11",
   "metadata": {},
   "source": [
    "### Univariate linear regression: log(size) vs log(price)"
   ]
  },
  {
   "cell_type": "code",
   "execution_count": 7,
   "id": "755a746b",
   "metadata": {},
   "outputs": [],
   "source": [
    "# Use a numpy array to define log_size as log of size\n",
    "log_size = np.log(np.array(housing['sqft_living'], np.float32))"
   ]
  },
  {
   "cell_type": "code",
   "execution_count": 8,
   "id": "52052e2b",
   "metadata": {},
   "outputs": [],
   "source": [
    "# Use a numpy array to define log_price as log of price\n",
    "log_price = np.log(np.array(housing['price'], np.float32))"
   ]
  },
  {
   "cell_type": "code",
   "execution_count": 10,
   "id": "505e7af9",
   "metadata": {},
   "outputs": [
    {
     "name": "stdout",
     "output_type": "stream",
     "text": [
      "[12.309982  13.195614  12.100712  ... 12.904459  12.8992195 12.691581 ]\n",
      "[7.07327   7.851661  6.6463904 ... 6.927558  7.377759  6.927558 ]\n"
     ]
    }
   ],
   "source": [
    "print(log_price)\n",
    "print(log_size)"
   ]
  },
  {
   "cell_type": "code",
   "execution_count": 11,
   "id": "50d721f2",
   "metadata": {},
   "outputs": [],
   "source": [
    "# Define intercept and slope\n",
    "intercept = tf.Variable(0.1, np.float32)\n",
    "slope = tf.Variable(0.1, np.float32)"
   ]
  },
  {
   "cell_type": "code",
   "execution_count": 14,
   "id": "5b7db28d",
   "metadata": {},
   "outputs": [],
   "source": [
    "# Define a linear regression model\n",
    "def linear_regression(intercept, slope, features = log_size):\n",
    "    return intercept + features * slope"
   ]
  },
  {
   "cell_type": "code",
   "execution_count": 15,
   "id": "c85d81b2",
   "metadata": {},
   "outputs": [],
   "source": [
    "# Compute the predicted values and loss\n",
    "def loss_function(intercept, slope, targets=log_price, features=log_size):\n",
    "    predictions = linear_regression(intercept, slope)\n",
    "    return tf.keras.losses.mse(targets, predictions)"
   ]
  },
  {
   "cell_type": "code",
   "execution_count": 16,
   "id": "093d5804",
   "metadata": {},
   "outputs": [],
   "source": [
    "# Define an optimization operation\n",
    "opt = tf.keras.optimizers.Adam()"
   ]
  },
  {
   "cell_type": "code",
   "execution_count": 17,
   "id": "4fa5e1be",
   "metadata": {},
   "outputs": [
    {
     "name": "stdout",
     "output_type": "stream",
     "text": [
      "148.70425\n",
      "146.62596\n",
      "144.56506\n",
      "142.52335\n",
      "140.50197\n",
      "138.50153\n",
      "136.52223\n",
      "134.56409\n",
      "132.62703\n",
      "130.71097\n",
      "128.81572\n",
      "126.941185\n",
      "125.087204\n",
      "123.253624\n",
      "121.44027\n",
      "119.64704\n",
      "117.87376\n",
      "116.12031\n",
      "114.38653\n",
      "112.67228\n",
      "110.977394\n",
      "109.30174\n",
      "107.64523\n",
      "106.00764\n",
      "104.38884\n",
      "102.788765\n",
      "101.20719\n",
      "99.644035\n",
      "98.099106\n",
      "96.5723\n",
      "95.06345\n",
      "93.57244\n",
      "92.09915\n",
      "90.643394\n",
      "89.20509\n",
      "87.78405\n",
      "86.38019\n",
      "84.99334\n",
      "83.62339\n",
      "82.270164\n",
      "80.93358\n",
      "79.61347\n",
      "78.30972\n",
      "77.02219\n",
      "75.750755\n",
      "74.495255\n",
      "73.25561\n",
      "72.03166\n",
      "70.82328\n",
      "69.63032\n",
      "68.452705\n",
      "67.29025\n",
      "66.14287\n",
      "65.01039\n",
      "63.892727\n",
      "62.789745\n",
      "61.701313\n",
      "60.627308\n",
      "59.567596\n",
      "58.522057\n",
      "57.490574\n",
      "56.473026\n",
      "55.469288\n",
      "54.479225\n",
      "53.50273\n",
      "52.539665\n",
      "51.589916\n",
      "50.65337\n",
      "49.729908\n",
      "48.819386\n",
      "47.921707\n",
      "47.03677\n",
      "46.164413\n",
      "45.30454\n",
      "44.457035\n",
      "43.621784\n",
      "42.798653\n",
      "41.987545\n",
      "41.188335\n",
      "40.4009\n",
      "39.62514\n",
      "38.860943\n",
      "38.10817\n",
      "37.366737\n",
      "36.63651\n",
      "35.917393\n",
      "35.20926\n",
      "34.51199\n",
      "33.8255\n",
      "33.149666\n",
      "32.484383\n",
      "31.829517\n",
      "31.184986\n",
      "30.550678\n",
      "29.926474\n",
      "29.312265\n",
      "28.707956\n",
      "28.11343\n",
      "27.528576\n",
      "26.953304\n"
     ]
    }
   ],
   "source": [
    "# Minimize the loss function and print the loss\n",
    "for j in range(1000):\n",
    "    opt.minimize(lambda: loss_function(intercept, slope), var_list = [intercept, slope])\n",
    "    # Print every 10th value of the loss\n",
    "    if j % 10 == 0:\n",
    "        print(loss_function(intercept, slope).numpy())"
   ]
  },
  {
   "cell_type": "code",
   "execution_count": 18,
   "id": "f327208d",
   "metadata": {},
   "outputs": [
    {
     "name": "stdout",
     "output_type": "stream",
     "text": [
      "148.91295\n",
      "84.309006\n"
     ]
    }
   ],
   "source": [
    "# Compute the loss function for different slope and intercept values\n",
    "print(loss_function(0.1, 0.1).numpy())\n",
    "print(loss_function(0.1, 0.5).numpy())"
   ]
  },
  {
   "cell_type": "markdown",
   "id": "39fc3d93",
   "metadata": {},
   "source": [
    "See [plt.markers](https://matplotlib.org/stable/api/markers_api.html#module-matplotlib.markers) for more marker types."
   ]
  },
  {
   "cell_type": "code",
   "execution_count": 64,
   "id": "e4aaf974",
   "metadata": {},
   "outputs": [],
   "source": [
    "def plot_results(intercept, slope):\n",
    "    size_range = np.linspace(6,10,100)\n",
    "    price_pred = [intercept + slope * s for s in size_range]\n",
    "    plt.figure(figsize=(10, 6))\n",
    "    plt.scatter(log_size, log_price, color = 'black', alpha = 0.1, marker='o');\n",
    "    plt.plot(size_range, price_pred, linewidth=3.0, color='red');\n",
    "    plt.xlabel('log(size)', fontsize=14);\n",
    "    plt.ylabel('log(price)', fontsize=14);\n",
    "    plt.title('Scatterplot of KC housing data and fitted regression line', fontsize=18);"
   ]
  },
  {
   "cell_type": "code",
   "execution_count": 65,
   "id": "24275083",
   "metadata": {},
   "outputs": [
    {
     "name": "stdout",
     "output_type": "stream",
     "text": [
      "77.13088\n",
      "5.266532\n",
      "1.9824158\n",
      "0.64029056\n",
      "0.24174094\n",
      "0.3018\n",
      "0.36113197\n",
      "0.2938378\n",
      "0.23535958\n",
      "0.2340692\n"
     ]
    },
    {
     "data": {
      "image/png": "[encoded data removed]",
      "text/plain": [
       "<Figure size 720x432 with 1 Axes>"
      ]
     },
     "metadata": {
      "needs_background": "light"
     },
     "output_type": "display_data"
    }
   ],
   "source": [
    "intercept = tf.Variable(0.0, tf.float32)\n",
    "slope = tf.Variable(0.0, tf.float32)\n",
    "\n",
    "# Initialize an adam optimizer\n",
    "opt = tf.keras.optimizers.Adam(learning_rate=0.5)\n",
    "\n",
    "for j in range(100):\n",
    "    # Apply minimize, pass the loss function, and supply the variables\n",
    "    opt.minimize(lambda: loss_function(intercept, slope), var_list=[intercept, slope])\n",
    "    \n",
    "    # Print every 10th value of the loss\n",
    "    if j % 10 == 0:\n",
    "        print(loss_function(intercept, slope).numpy())\n",
    "        \n",
    "# Plot data and regressoin line\n",
    "plot_results(intercept, slope)"
   ]
  },
  {
   "cell_type": "markdown",
   "id": "0d122e54",
   "metadata": {},
   "source": [
    "### Multivariate linear regression\n",
    "In most cases, performing a univariate linear regression will not yield a model that is useful for making accurate predictions. In this exercise, you will perform a multiple regression, which uses more than one feature.\n",
    "\n",
    "You will use `price_log` as your target and `size_log` and `bedrooms` as your features. You will also switch from using the the mean squared error loss to the mean absolute error loss: `keras.losses.mae()`. Finally, the predicted values are computed as follows: `params[0] + feature1*params[1] + feature2*params[2]`. Note that we've defined a vector of parameters, `params`, as a variable, rather than using three variables. Here, `params[0]` is the intercept and `params[1]` and `params[2]` are the slopes."
   ]
  },
  {
   "cell_type": "code",
   "execution_count": 69,
   "id": "c6b70dc6",
   "metadata": {},
   "outputs": [],
   "source": [
    "bedrooms = np.array(housing['bedrooms'], np.float32)"
   ]
  },
  {
   "cell_type": "code",
   "execution_count": 66,
   "id": "2bf3b098",
   "metadata": {},
   "outputs": [],
   "source": [
    "params = tf.Variable([0.1, 0.05, 0.02], tf.float32)"
   ]
  },
  {
   "cell_type": "code",
   "execution_count": 76,
   "id": "9143aed1",
   "metadata": {},
   "outputs": [],
   "source": [
    "def print_results(params):\n",
    "    return print('loss: {:0.3f}, intercept: {:0.3f}, slope_1: {:0.3f}, slope_2: {:0.3f}'\n",
    "                 .format(mult_loss_function(params).numpy(), \n",
    "                         params[0].numpy(), \n",
    "                         params[1].numpy(), \n",
    "                         params[2].numpy()))"
   ]
  },
  {
   "cell_type": "code",
   "execution_count": 70,
   "id": "ceee8c39",
   "metadata": {},
   "outputs": [],
   "source": [
    "# Define the linear regression model\n",
    "def mult_linear_regression(params, feature1=log_size, feature2=bedrooms):\n",
    "    return params[0] + feature1 * params[1] + feature2 * params[2]"
   ]
  },
  {
   "cell_type": "code",
   "execution_count": 71,
   "id": "0003898c",
   "metadata": {},
   "outputs": [],
   "source": [
    "# Define the loss function\n",
    "def mult_loss_function(params, targets=log_price, feature1=log_size, feature2=bedrooms):\n",
    "    # Set the predicted values\n",
    "    predictions = mult_linear_regression(params, feature1, feature2)\n",
    "    \n",
    "    # Use the mean absolute error loss\n",
    "    return tf.keras.losses.mae(targets, predictions)"
   ]
  },
  {
   "cell_type": "code",
   "execution_count": 72,
   "id": "86d01f45",
   "metadata": {},
   "outputs": [],
   "source": [
    "# Define the optimize operation\n",
    "opt = keras.optimizers.Adam()"
   ]
  },
  {
   "cell_type": "code",
   "execution_count": 77,
   "id": "593f5460",
   "metadata": {},
   "outputs": [
    {
     "name": "stdout",
     "output_type": "stream",
     "text": [
      "loss: 12.467, intercept: 0.103, slope_1: 0.053, slope_2: 0.023\n",
      "loss: 12.455, intercept: 0.104, slope_1: 0.054, slope_2: 0.024\n",
      "loss: 12.443, intercept: 0.105, slope_1: 0.055, slope_2: 0.025\n",
      "loss: 12.431, intercept: 0.106, slope_1: 0.056, slope_2: 0.026\n",
      "loss: 12.419, intercept: 0.107, slope_1: 0.057, slope_2: 0.027\n",
      "loss: 12.408, intercept: 0.108, slope_1: 0.058, slope_2: 0.028\n",
      "loss: 12.396, intercept: 0.109, slope_1: 0.059, slope_2: 0.029\n",
      "loss: 12.384, intercept: 0.110, slope_1: 0.060, slope_2: 0.030\n",
      "loss: 12.372, intercept: 0.111, slope_1: 0.061, slope_2: 0.031\n",
      "loss: 12.360, intercept: 0.112, slope_1: 0.062, slope_2: 0.032\n"
     ]
    }
   ],
   "source": [
    "# Perform minimization and print trainable variables\n",
    "for j in range(10):\n",
    "    opt.minimize(lambda: mult_loss_function(params), var_list=[params])\n",
    "    print_results(params)"
   ]
  },
  {
   "cell_type": "code",
   "execution_count": 82,
   "id": "52cbec80",
   "metadata": {},
   "outputs": [],
   "source": [
    "def abline(slope, intercept):\n",
    "    \"\"\"Plot a line from slope and intercept\"\"\"\n",
    "    axes = plt.gca()\n",
    "    x_vals = np.array(axes.get_xlim())\n",
    "    y_vals = intercept + slope * x_vals\n",
    "    plt.plot(x_vals, y_vals, '--')"
   ]
  },
  {
   "cell_type": "code",
   "execution_count": 83,
   "id": "9c516060",
   "metadata": {},
   "outputs": [
    {
     "data": {
      "image/png": "[encoded data removed]",
      "text/plain": [
       "<Figure size 432x288 with 1 Axes>"
      ]
     },
     "metadata": {
      "needs_background": "light"
     },
     "output_type": "display_data"
    }
   ],
   "source": [
    "for j in range(10):\n",
    "    opt.minimize(lambda: mult_loss_function(params), var_list=[params])\n",
    "    abline(params[1], params[0])\n",
    "    abline(params[2], params[0])"
   ]
  }
 ],
 "metadata": {
  "kernelspec": {
   "display_name": "Python 3.8 (tensorflow)",
   "language": "python",
   "name": "tensorflow"
  },
  "language_info": {
   "codemirror_mode": {
    "name": "ipython",
    "version": 3
   },
   "file_extension": ".py",
   "mimetype": "text/x-python",
   "name": "python",
   "nbconvert_exporter": "python",
   "pygments_lexer": "ipython3",
   "version": "3.8.12"
  }
 },
 "nbformat": 4,
 "nbformat_minor": 5
}
