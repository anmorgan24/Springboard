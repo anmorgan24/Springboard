{
 "cells": [
  {
   "cell_type": "markdown",
   "id": "8806c232",
   "metadata": {},
   "source": [
    "# List of self-defined functions"
   ]
  },
  {
   "cell_type": "code",
   "execution_count": null,
   "id": "2548989c",
   "metadata": {},
   "outputs": [],
   "source": [
    "def plot_six_by_origin(cl):\n",
    "    \n",
    "    #get six random indices belonging to the selected class\n",
    "    indx = train[train['domain'] == cl].sample(6, axis=0).image_name.values\n",
    "    #print(indx)\n",
    "    \n",
    "    #plot\n",
    "    fig, axes = plt.subplots(2,3, figsize=(12,6))\n",
    "    axes = axes.flatten()\n",
    "    for i, ax in enumerate(axes):\n",
    "        ax.imshow(PIL.Image.open(data_dir / indx[i]))\n",
    "    fig.suptitle(cl, fontsize=18)\n",
    "    plt.tight_layout()\n",
    "    plt.show()"
   ]
  },
  {
   "cell_type": "code",
   "execution_count": null,
   "id": "3d75db06",
   "metadata": {},
   "outputs": [],
   "source": [
    "# Take dataframe and image_name for which we want bounding boxes and return list of x, y, w, h\n",
    "\n",
    "def get_all_bboxes(df, image_name):\n",
    "    image_bounding_boxes = df[df.image_name == image_name]\n",
    "  \n",
    "    bounding_boxes = []\n",
    "    for _, row in image_bounding_boxes.iterrows():\n",
    "        bounding_boxes.append((row.bbox_xmin, row.bbox_ymin, row.bbox_xmax-row.bbox_xmin, row.bbox_ymax-row.bbox_ymin))\n",
    "    \n",
    "    return bounding_boxes"
   ]
  },
  {
   "cell_type": "code",
   "execution_count": null,
   "id": "bd112485",
   "metadata": {},
   "outputs": [],
   "source": [
    "# Plot examples of images with their bounding boxes\n",
    "\n",
    "def plot_image_examples(dataframe, rows = 3, cols = 3, title = 'Image examples', size = (10, 10)):\n",
    "    fig, axs = plt.subplots(rows, cols, figsize=size)\n",
    "    for row in range(rows):\n",
    "        for col in range(cols):\n",
    "            idx = np.random.randint(len(dataframe), size = 1)[0]\n",
    "            img_id = dataframe.iloc[idx].image_name\n",
    "      \n",
    "            img = Image.open(data_dir / img_id)\n",
    "            axs[row, col].imshow(img)\n",
    "      \n",
    "            bboxes = get_all_bboxes(dataframe, img_id)\n",
    "      \n",
    "            for bbox in bboxes:\n",
    "                rect = patches.Rectangle((bbox[0], bbox[1]), bbox[2], bbox[3], linewidth=1, edgecolor='r', facecolor='none')\n",
    "                axs[row, col].add_patch(rect)\n",
    "        \n",
    "                axs[row, col].axis('off')    \n",
    "    plt.suptitle(title, fontsize = 18)"
   ]
  },
  {
   "cell_type": "code",
   "execution_count": null,
   "id": "039db33b",
   "metadata": {},
   "outputs": [],
   "source": [
    "def upper_rugplot(data, height=.03, ax=None, **kwargs):\n",
    "    from matplotlib.collections import LineCollection\n",
    "    ax = ax or plt.gca()\n",
    "    kwargs.setdefault(\"linewidth\", 1)\n",
    "    segs = np.stack((np.c_[data, data],\n",
    "                     np.c_[np.ones_like(data), np.ones_like(data)-height]),\n",
    "                    axis=-1)\n",
    "    lc = LineCollection(segs, transform=ax.get_xaxis_transform(), **kwargs)\n",
    "    ax.add_collection(lc)"
   ]
  },
  {
   "cell_type": "code",
   "execution_count": null,
   "id": "02be88af",
   "metadata": {},
   "outputs": [],
   "source": [
    "# Plot single image with all bounding boxes\n",
    "def plot_image_with_bboxes(dataframe, img_name, title = 'Image examples', size = (5, 5)):\n",
    "    fig, ax = plt.subplots(figsize=size)\n",
    "    img = Image.open(data_dir / img_name)\n",
    "    ax.imshow(img)\n",
    "      \n",
    "    bboxes = get_all_bboxes(dataframe, img_name)\n",
    "      \n",
    "    for bbox in bboxes:\n",
    "        rect = patches.Rectangle((bbox[0], bbox[1]), bbox[2], bbox[3], linewidth=1, edgecolor='r', facecolor='none')\n",
    "        ax.add_patch(rect)\n",
    "        \n",
    "        ax.axis('off')    \n",
    "    plt.suptitle(title, fontsize = 16)"
   ]
  },
  {
   "cell_type": "code",
   "execution_count": null,
   "id": "fe5cecf3",
   "metadata": {},
   "outputs": [],
   "source": [
    "def get_image_brightness(image):\n",
    "    # convert to grayscale\n",
    "    gray = cv2.cvtColor(image, cv2.COLOR_BGR2GRAY)\n",
    "    \n",
    "    # get average brightness\n",
    "    return np.array(gray).mean()"
   ]
  },
  {
   "cell_type": "code",
   "execution_count": null,
   "id": "6ff039fc",
   "metadata": {},
   "outputs": [],
   "source": [
    "def add_brightness_column(df):\n",
    "    brightness = []\n",
    "    for _, row in df.iterrows():\n",
    "        img_id = row.image_name\n",
    "        image = cv2.imread(str(data_dir / img_id))\n",
    "        brightness.append(get_image_brightness(image))\n",
    "        \n",
    "    brightness_df = pd.DataFrame(brightness)\n",
    "    brightness_df.columns = ['brightness']\n",
    "    df = pd.concat([df, brightness_df], ignore_index=True, axis=1)\n",
    "    df.columns = ['image_name', 'brightness']\n",
    "    \n",
    "    return df"
   ]
  },
  {
   "cell_type": "code",
   "execution_count": null,
   "id": "d5e911f7",
   "metadata": {},
   "outputs": [],
   "source": [
    "def get_percentage_of_green_pixels(image):\n",
    "    # convert to HSV\n",
    "    hsv = cv2.cvtColor(image, cv2.COLOR_BGR2HSV)\n",
    "    \n",
    "    # get the green mask\n",
    "    hsv_lower = (40, 40, 40) \n",
    "    hsv_higher = (70, 255, 255)\n",
    "    green_mask = cv2.inRange(hsv, hsv_lower, hsv_higher)\n",
    "    \n",
    "    return float(np.sum(green_mask)) / 255 / (1024 * 1024)"
   ]
  },
  {
   "cell_type": "code",
   "execution_count": null,
   "id": "f210eac5",
   "metadata": {},
   "outputs": [],
   "source": [
    "def get_percentage_of_yellow_pixels(image):\n",
    "    # convert to HSV\n",
    "    hsv = cv2.cvtColor(image, cv2.COLOR_BGR2HSV)\n",
    "    \n",
    "    # get the green mask\n",
    "    hsv_lower = (25, 40, 40) \n",
    "    hsv_higher = (35, 255, 255)\n",
    "    yellow_mask = cv2.inRange(hsv, hsv_lower, hsv_higher)\n",
    "    \n",
    "    return float(np.sum(yellow_mask)) / 255 / (1024 * 1024)"
   ]
  },
  {
   "cell_type": "code",
   "execution_count": null,
   "id": "2b006e03",
   "metadata": {},
   "outputs": [],
   "source": [
    "def add_green_pixels_percentage(df):\n",
    "    green = []\n",
    "    for _, row in df.iterrows():\n",
    "        img_id = row.image_name \n",
    "        image = cv2.imread(str(data_dir / img_id))\n",
    "        green.append(get_percentage_of_green_pixels(image))\n",
    "        \n",
    "    green_df = pd.DataFrame(green)\n",
    "    green_df.columns = ['green_pixels']\n",
    "    df = pd.concat([df, green_df], ignore_index=True, axis=1)\n",
    "    df.columns = ['image_name', 'green_pixels']\n",
    "    \n",
    "    return df"
   ]
  },
  {
   "cell_type": "code",
   "execution_count": null,
   "id": "5352d068",
   "metadata": {},
   "outputs": [],
   "source": [
    "def add_yellow_pixels_percentage(df):\n",
    "    yellow = []\n",
    "    for _, row in df.iterrows():\n",
    "        img_id = row.image_name  \n",
    "        image = cv2.imread(str(data_dir / img_id))\n",
    "        yellow.append(get_percentage_of_yellow_pixels(image))\n",
    "        \n",
    "    yellow_df = pd.DataFrame(yellow)\n",
    "    yellow_df.columns = ['yellow_pixels']\n",
    "    df = pd.concat([df, yellow_df], ignore_index=True, axis=1)\n",
    "    df.columns = ['image_name', 'yellow_pixels']\n",
    "    \n",
    "    return df"
   ]
  },
  {
   "cell_type": "code",
   "execution_count": null,
   "id": "86e257aa",
   "metadata": {},
   "outputs": [],
   "source": []
  },
  {
   "cell_type": "code",
   "execution_count": null,
   "id": "d364f357",
   "metadata": {},
   "outputs": [],
   "source": []
  },
  {
   "cell_type": "code",
   "execution_count": null,
   "id": "479463e2",
   "metadata": {},
   "outputs": [],
   "source": []
  },
  {
   "cell_type": "code",
   "execution_count": null,
   "id": "46318341",
   "metadata": {},
   "outputs": [],
   "source": []
  },
  {
   "cell_type": "code",
   "execution_count": null,
   "id": "f6ca26f1",
   "metadata": {},
   "outputs": [],
   "source": []
  }
 ],
 "metadata": {
  "kernelspec": {
   "display_name": "Python 3 (ipykernel)",
   "language": "python",
   "name": "python3"
  },
  "language_info": {
   "codemirror_mode": {
    "name": "ipython",
    "version": 3
   },
   "file_extension": ".py",
   "mimetype": "text/x-python",
   "name": "python",
   "nbconvert_exporter": "python",
   "pygments_lexer": "ipython3",
   "version": "3.8.8"
  }
 },
 "nbformat": 4,
 "nbformat_minor": 5
}
