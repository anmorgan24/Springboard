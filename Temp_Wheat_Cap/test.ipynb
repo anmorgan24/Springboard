{
 "cells": [
  {
   "cell_type": "markdown",
   "id": "4994312d",
   "metadata": {},
   "source": [
    "# Test: Global Wheat Challenge"
   ]
  },
  {
   "cell_type": "code",
   "execution_count": 1,
   "id": "2b18dd72",
   "metadata": {},
   "outputs": [],
   "source": [
    "import numpy as np\n",
    "import pandas as pd"
   ]
  },
  {
   "cell_type": "code",
   "execution_count": 2,
   "id": "04d7366b",
   "metadata": {},
   "outputs": [],
   "source": [
    "#train.info()                      "
   ]
  },
  {
   "cell_type": "code",
   "execution_count": 3,
   "id": "3831caa6",
   "metadata": {},
   "outputs": [],
   "source": [
    "#train.image_id.nunique()          "
   ]
  },
  {
   "cell_type": "code",
   "execution_count": 4,
   "id": "285a6c06",
   "metadata": {},
   "outputs": [],
   "source": [
    "#train.source.unique().tolist()"
   ]
  },
  {
   "cell_type": "markdown",
   "id": "fbd3cf76",
   "metadata": {},
   "source": [
    "#### Folders: \n",
    "* images\n",
    "\n",
    "* competition_test.csv\n",
    "\n",
    "* competition_train.csv\n",
    "\n",
    "* competition_val.csv\n",
    "\n",
    "* metadata_dataset.csv"
   ]
  },
  {
   "cell_type": "code",
   "execution_count": 5,
   "id": "97876e32",
   "metadata": {},
   "outputs": [],
   "source": [
    "metadata = pd.read_csv('gwhd_2021/metadata_dataset.csv', sep=';')"
   ]
  },
  {
   "cell_type": "code",
   "execution_count": 6,
   "id": "e50afa7e",
   "metadata": {},
   "outputs": [
    {
     "data": {
      "text/html": [
       "<div>\n",
       "<style scoped>\n",
       "    .dataframe tbody tr th:only-of-type {\n",
       "        vertical-align: middle;\n",
       "    }\n",
       "\n",
       "    .dataframe tbody tr th {\n",
       "        vertical-align: top;\n",
       "    }\n",
       "\n",
       "    .dataframe thead th {\n",
       "        text-align: right;\n",
       "    }\n",
       "</style>\n",
       "<table border=\"1\" class=\"dataframe\">\n",
       "  <thead>\n",
       "    <tr style=\"text-align: right;\">\n",
       "      <th></th>\n",
       "      <th>name</th>\n",
       "      <th>country</th>\n",
       "      <th>location</th>\n",
       "      <th>development_stage</th>\n",
       "    </tr>\n",
       "  </thead>\n",
       "  <tbody>\n",
       "    <tr>\n",
       "      <th>0</th>\n",
       "      <td>Ethz_1</td>\n",
       "      <td>Switzerland</td>\n",
       "      <td>Usask</td>\n",
       "      <td>Filling</td>\n",
       "    </tr>\n",
       "    <tr>\n",
       "      <th>1</th>\n",
       "      <td>Rres_1</td>\n",
       "      <td>UK</td>\n",
       "      <td>Rothamsted</td>\n",
       "      <td>Filling - Ripening</td>\n",
       "    </tr>\n",
       "    <tr>\n",
       "      <th>2</th>\n",
       "      <td>ULiège-GxABT_1</td>\n",
       "      <td>Belgium</td>\n",
       "      <td>Gembloux</td>\n",
       "      <td>Ripening</td>\n",
       "    </tr>\n",
       "    <tr>\n",
       "      <th>3</th>\n",
       "      <td>NMBU_1</td>\n",
       "      <td>Norway</td>\n",
       "      <td>NMBU</td>\n",
       "      <td>Filling</td>\n",
       "    </tr>\n",
       "    <tr>\n",
       "      <th>4</th>\n",
       "      <td>NMBU_2</td>\n",
       "      <td>Norway</td>\n",
       "      <td>NMBU</td>\n",
       "      <td>Ripening</td>\n",
       "    </tr>\n",
       "  </tbody>\n",
       "</table>\n",
       "</div>"
      ],
      "text/plain": [
       "             name      country    location   development_stage\n",
       "0          Ethz_1  Switzerland       Usask             Filling\n",
       "1          Rres_1           UK  Rothamsted  Filling - Ripening\n",
       "2  ULiège-GxABT_1      Belgium    Gembloux            Ripening\n",
       "3          NMBU_1       Norway        NMBU             Filling\n",
       "4          NMBU_2       Norway        NMBU            Ripening"
      ]
     },
     "execution_count": 6,
     "metadata": {},
     "output_type": "execute_result"
    }
   ],
   "source": [
    "metadata.head()"
   ]
  },
  {
   "cell_type": "code",
   "execution_count": 7,
   "id": "e90cf7fb",
   "metadata": {},
   "outputs": [
    {
     "data": {
      "text/plain": [
       "array(['Ethz_1', 'Rres_1', 'ULiège-GxABT_1', 'NMBU_1', 'NMBU_2',\n",
       "       'Arvalis_1', 'Arvalis_2', 'Arvalis_3', 'Arvalis_4', 'Arvalis_5',\n",
       "       'Arvalis_6', 'Arvalis_7', 'Arvalis_8', 'Arvalis_9', 'Arvalis_10',\n",
       "       'Arvalis_11', 'Arvalis_12', 'Inrae_1', 'Usask_1', 'KSU_1', 'KSU_2',\n",
       "       'KSU_3', 'KSU_4', 'Terraref_1', 'Terraref_2', 'CIMMYT_1',\n",
       "       'CIMMYT_2', 'CIMMYT_3', 'Utokyo_1', 'Utokyo_2', 'Utokyo_3',\n",
       "       'Ukyoto_1', 'NAU_1', 'NAU_2', 'NAU_3', 'UQ_1', 'UQ_2', 'UQ_3',\n",
       "       'UQ_4', 'UQ_5', 'UQ_6', 'UQ_7', 'UQ_8', 'UQ_9', 'UQ_10', 'UQ_11',\n",
       "       'ARC_1'], dtype=object)"
      ]
     },
     "execution_count": 7,
     "metadata": {},
     "output_type": "execute_result"
    }
   ],
   "source": [
    "metadata.name.unique()"
   ]
  },
  {
   "cell_type": "code",
   "execution_count": 8,
   "id": "fcadb894",
   "metadata": {},
   "outputs": [
    {
     "data": {
      "text/plain": [
       "array(['Switzerland', 'UK', 'Belgium', 'Norway', 'France', 'Canada', 'US',\n",
       "       'Mexico', 'Japan', 'China', 'Australia', 'Sudan'], dtype=object)"
      ]
     },
     "execution_count": 8,
     "metadata": {},
     "output_type": "execute_result"
    }
   ],
   "source": [
    "metadata.country.unique()"
   ]
  },
  {
   "cell_type": "code",
   "execution_count": 9,
   "id": "cfdc7db7",
   "metadata": {},
   "outputs": [
    {
     "data": {
      "text/plain": [
       "array(['Usask', 'Rothamsted', 'Gembloux', 'NMBU', 'Gréoux', 'VLB', 'VSC',\n",
       "       'Mons', 'Toulouse', 'Saskatchewan', 'KSU', 'Maricopa,AZ',\n",
       "       ' Maricopa,AZ', 'Ciudad Obregon', 'NARO-Tsukuba', 'NARO-Hokkaido',\n",
       "       'Kyoto', 'Baima', 'Gatton', 'McAllister', 'Brookstead',\n",
       "       'Wad Medani'], dtype=object)"
      ]
     },
     "execution_count": 9,
     "metadata": {},
     "output_type": "execute_result"
    }
   ],
   "source": [
    "metadata.location.unique()"
   ]
  },
  {
   "cell_type": "code",
   "execution_count": 10,
   "id": "2e92db97",
   "metadata": {},
   "outputs": [
    {
     "data": {
      "text/plain": [
       "array(['Filling', 'Filling - Ripening', 'Ripening', 'Post-flowering',\n",
       "       'multiple', 'Post-Flowering'], dtype=object)"
      ]
     },
     "execution_count": 10,
     "metadata": {},
     "output_type": "execute_result"
    }
   ],
   "source": [
    "metadata.development_stage.unique()"
   ]
  },
  {
   "cell_type": "code",
   "execution_count": null,
   "id": "4f887e80",
   "metadata": {},
   "outputs": [],
   "source": []
  },
  {
   "cell_type": "code",
   "execution_count": null,
   "id": "a912a80f",
   "metadata": {},
   "outputs": [],
   "source": []
  },
  {
   "cell_type": "code",
   "execution_count": null,
   "id": "4197deba",
   "metadata": {},
   "outputs": [],
   "source": []
  },
  {
   "cell_type": "code",
   "execution_count": 11,
   "id": "aa2d0a1b",
   "metadata": {},
   "outputs": [],
   "source": [
    "test = pd.read_csv('gwhd_2021/competition_test.csv')"
   ]
  },
  {
   "cell_type": "code",
   "execution_count": 12,
   "id": "3ef497e3",
   "metadata": {},
   "outputs": [
    {
     "data": {
      "text/html": [
       "<div>\n",
       "<style scoped>\n",
       "    .dataframe tbody tr th:only-of-type {\n",
       "        vertical-align: middle;\n",
       "    }\n",
       "\n",
       "    .dataframe tbody tr th {\n",
       "        vertical-align: top;\n",
       "    }\n",
       "\n",
       "    .dataframe thead th {\n",
       "        text-align: right;\n",
       "    }\n",
       "</style>\n",
       "<table border=\"1\" class=\"dataframe\">\n",
       "  <thead>\n",
       "    <tr style=\"text-align: right;\">\n",
       "      <th></th>\n",
       "      <th>image_name</th>\n",
       "      <th>BoxesString</th>\n",
       "      <th>domain</th>\n",
       "    </tr>\n",
       "  </thead>\n",
       "  <tbody>\n",
       "    <tr>\n",
       "      <th>0</th>\n",
       "      <td>255b6ca9fea63f44125e5174bc932470b604c760430715...</td>\n",
       "      <td>481 820 604 922;655 957 732 1024;930 926 1013 ...</td>\n",
       "      <td>UQ_7</td>\n",
       "    </tr>\n",
       "    <tr>\n",
       "      <th>1</th>\n",
       "      <td>7f5eb37cab658de6fd0d688bf27f16e423794fed6184d8...</td>\n",
       "      <td>896 911 977 955;800 898 821 941;770 867 804 90...</td>\n",
       "      <td>UQ_7</td>\n",
       "    </tr>\n",
       "    <tr>\n",
       "      <th>2</th>\n",
       "      <td>7bcfff43b356f4a94948367782aa704a37ff4579baf45d...</td>\n",
       "      <td>892 993 922 1024;844 943 871 965;758 926 801 9...</td>\n",
       "      <td>UQ_7</td>\n",
       "    </tr>\n",
       "    <tr>\n",
       "      <th>3</th>\n",
       "      <td>e535384eda9d0f9c6ac57dd9397d5d614e4cad48c144d8...</td>\n",
       "      <td>648 886 722 1024;392 950 507 1024;876 677 981 ...</td>\n",
       "      <td>UQ_7</td>\n",
       "    </tr>\n",
       "    <tr>\n",
       "      <th>4</th>\n",
       "      <td>66e9fa7379fd7b7fd64024ac1b03b8e56f9ad020c10635...</td>\n",
       "      <td>559 939 623 1009;775 875 829 919;853 883 888 9...</td>\n",
       "      <td>UQ_7</td>\n",
       "    </tr>\n",
       "    <tr>\n",
       "      <th>...</th>\n",
       "      <td>...</td>\n",
       "      <td>...</td>\n",
       "      <td>...</td>\n",
       "    </tr>\n",
       "    <tr>\n",
       "      <th>1377</th>\n",
       "      <td>36064fc36d5d54025c3bafcb0e061cc81347389cc85927...</td>\n",
       "      <td>88 315 166 477;242 506 288 641;131 622 180 752...</td>\n",
       "      <td>ARC_1</td>\n",
       "    </tr>\n",
       "    <tr>\n",
       "      <th>1378</th>\n",
       "      <td>92e363996758d6261726abf33f7555b4f1503306b19887...</td>\n",
       "      <td>179 420 230 497;65 379 134 422;114 281 173 358...</td>\n",
       "      <td>ARC_1</td>\n",
       "    </tr>\n",
       "    <tr>\n",
       "      <th>1379</th>\n",
       "      <td>982dfbbc5b5eca9017fe407b9befdd3e709600ce9ae446...</td>\n",
       "      <td>81 161 182 302;235 199 365 289;0 290 111 413;4...</td>\n",
       "      <td>ARC_1</td>\n",
       "    </tr>\n",
       "    <tr>\n",
       "      <th>1380</th>\n",
       "      <td>385345ab4b25350b8f2fc7ab86b258271dd35b5558b4ab...</td>\n",
       "      <td>539 636 774 711;439 732 599 865;635 847 892 94...</td>\n",
       "      <td>ARC_1</td>\n",
       "    </tr>\n",
       "    <tr>\n",
       "      <th>1381</th>\n",
       "      <td>6eeb8859956a3797f72bc8449b1c526deeacf6af3dbef1...</td>\n",
       "      <td>78 816 183 922;180 815 245 920;417 802 525 100...</td>\n",
       "      <td>ARC_1</td>\n",
       "    </tr>\n",
       "  </tbody>\n",
       "</table>\n",
       "<p>1382 rows × 3 columns</p>\n",
       "</div>"
      ],
      "text/plain": [
       "                                             image_name  \\\n",
       "0     255b6ca9fea63f44125e5174bc932470b604c760430715...   \n",
       "1     7f5eb37cab658de6fd0d688bf27f16e423794fed6184d8...   \n",
       "2     7bcfff43b356f4a94948367782aa704a37ff4579baf45d...   \n",
       "3     e535384eda9d0f9c6ac57dd9397d5d614e4cad48c144d8...   \n",
       "4     66e9fa7379fd7b7fd64024ac1b03b8e56f9ad020c10635...   \n",
       "...                                                 ...   \n",
       "1377  36064fc36d5d54025c3bafcb0e061cc81347389cc85927...   \n",
       "1378  92e363996758d6261726abf33f7555b4f1503306b19887...   \n",
       "1379  982dfbbc5b5eca9017fe407b9befdd3e709600ce9ae446...   \n",
       "1380  385345ab4b25350b8f2fc7ab86b258271dd35b5558b4ab...   \n",
       "1381  6eeb8859956a3797f72bc8449b1c526deeacf6af3dbef1...   \n",
       "\n",
       "                                            BoxesString domain  \n",
       "0     481 820 604 922;655 957 732 1024;930 926 1013 ...   UQ_7  \n",
       "1     896 911 977 955;800 898 821 941;770 867 804 90...   UQ_7  \n",
       "2     892 993 922 1024;844 943 871 965;758 926 801 9...   UQ_7  \n",
       "3     648 886 722 1024;392 950 507 1024;876 677 981 ...   UQ_7  \n",
       "4     559 939 623 1009;775 875 829 919;853 883 888 9...   UQ_7  \n",
       "...                                                 ...    ...  \n",
       "1377  88 315 166 477;242 506 288 641;131 622 180 752...  ARC_1  \n",
       "1378  179 420 230 497;65 379 134 422;114 281 173 358...  ARC_1  \n",
       "1379  81 161 182 302;235 199 365 289;0 290 111 413;4...  ARC_1  \n",
       "1380  539 636 774 711;439 732 599 865;635 847 892 94...  ARC_1  \n",
       "1381  78 816 183 922;180 815 245 920;417 802 525 100...  ARC_1  \n",
       "\n",
       "[1382 rows x 3 columns]"
      ]
     },
     "execution_count": 12,
     "metadata": {},
     "output_type": "execute_result"
    }
   ],
   "source": [
    "test"
   ]
  },
  {
   "cell_type": "code",
   "execution_count": 13,
   "id": "17489bc1",
   "metadata": {
    "scrolled": true
   },
   "outputs": [
    {
     "name": "stdout",
     "output_type": "stream",
     "text": [
      "<class 'pandas.core.frame.DataFrame'>\n",
      "RangeIndex: 1382 entries, 0 to 1381\n",
      "Data columns (total 3 columns):\n",
      " #   Column       Non-Null Count  Dtype \n",
      "---  ------       --------------  ----- \n",
      " 0   image_name   1382 non-null   object\n",
      " 1   BoxesString  1382 non-null   object\n",
      " 2   domain       1382 non-null   object\n",
      "dtypes: object(3)\n",
      "memory usage: 32.5+ KB\n"
     ]
    }
   ],
   "source": [
    "test.info()"
   ]
  },
  {
   "cell_type": "code",
   "execution_count": 21,
   "id": "7af7e6ba",
   "metadata": {},
   "outputs": [
    {
     "data": {
      "text/plain": [
       "1381"
      ]
     },
     "execution_count": 21,
     "metadata": {},
     "output_type": "execute_result"
    }
   ],
   "source": [
    "len(test.image_name.unique())"
   ]
  },
  {
   "cell_type": "code",
   "execution_count": null,
   "id": "5106b61f",
   "metadata": {},
   "outputs": [],
   "source": []
  },
  {
   "cell_type": "code",
   "execution_count": null,
   "id": "acec9a03",
   "metadata": {},
   "outputs": [],
   "source": []
  },
  {
   "cell_type": "code",
   "execution_count": null,
   "id": "a753e630",
   "metadata": {},
   "outputs": [],
   "source": []
  },
  {
   "cell_type": "code",
   "execution_count": 14,
   "id": "e9e85e96",
   "metadata": {},
   "outputs": [],
   "source": [
    "train = pd.read_csv('gwhd_2021/competition_train.csv')"
   ]
  },
  {
   "cell_type": "code",
   "execution_count": 15,
   "id": "25856537",
   "metadata": {},
   "outputs": [
    {
     "data": {
      "text/html": [
       "<div>\n",
       "<style scoped>\n",
       "    .dataframe tbody tr th:only-of-type {\n",
       "        vertical-align: middle;\n",
       "    }\n",
       "\n",
       "    .dataframe tbody tr th {\n",
       "        vertical-align: top;\n",
       "    }\n",
       "\n",
       "    .dataframe thead th {\n",
       "        text-align: right;\n",
       "    }\n",
       "</style>\n",
       "<table border=\"1\" class=\"dataframe\">\n",
       "  <thead>\n",
       "    <tr style=\"text-align: right;\">\n",
       "      <th></th>\n",
       "      <th>image_name</th>\n",
       "      <th>BoxesString</th>\n",
       "      <th>domain</th>\n",
       "    </tr>\n",
       "  </thead>\n",
       "  <tbody>\n",
       "    <tr>\n",
       "      <th>0</th>\n",
       "      <td>4563856cc6d75c670eafd86d5eb7245fbe8f273c28f9e3...</td>\n",
       "      <td>99 692 160 764;641 27 697 115;935 978 1012 102...</td>\n",
       "      <td>Arvalis_1</td>\n",
       "    </tr>\n",
       "    <tr>\n",
       "      <th>1</th>\n",
       "      <td>a2a15938845d9812de03bd44799c4b1bf856a8ad11752e...</td>\n",
       "      <td>230 143 321 222;928 929 1015 1004;485 557 604 ...</td>\n",
       "      <td>Arvalis_1</td>\n",
       "    </tr>\n",
       "    <tr>\n",
       "      <th>2</th>\n",
       "      <td>401f89a2bb6ab63e3f406bd59b9cadccfe953230feb6cd...</td>\n",
       "      <td>440 239 544 288;333 538 429 594;913 171 963 20...</td>\n",
       "      <td>Arvalis_1</td>\n",
       "    </tr>\n",
       "    <tr>\n",
       "      <th>3</th>\n",
       "      <td>0a3937653483c36dfb4d957b6f82ae96dbdc7ba36cc3d8...</td>\n",
       "      <td>112 274 188 303;892 812 958 847;0 889 67 928;1...</td>\n",
       "      <td>Arvalis_1</td>\n",
       "    </tr>\n",
       "    <tr>\n",
       "      <th>4</th>\n",
       "      <td>be1652110a44acd24b42784356e965ce84a04893c3f1bb...</td>\n",
       "      <td>810 204 863 314;360 231 425 408;452 348 510 47...</td>\n",
       "      <td>Arvalis_1</td>\n",
       "    </tr>\n",
       "  </tbody>\n",
       "</table>\n",
       "</div>"
      ],
      "text/plain": [
       "                                          image_name  \\\n",
       "0  4563856cc6d75c670eafd86d5eb7245fbe8f273c28f9e3...   \n",
       "1  a2a15938845d9812de03bd44799c4b1bf856a8ad11752e...   \n",
       "2  401f89a2bb6ab63e3f406bd59b9cadccfe953230feb6cd...   \n",
       "3  0a3937653483c36dfb4d957b6f82ae96dbdc7ba36cc3d8...   \n",
       "4  be1652110a44acd24b42784356e965ce84a04893c3f1bb...   \n",
       "\n",
       "                                         BoxesString     domain  \n",
       "0  99 692 160 764;641 27 697 115;935 978 1012 102...  Arvalis_1  \n",
       "1  230 143 321 222;928 929 1015 1004;485 557 604 ...  Arvalis_1  \n",
       "2  440 239 544 288;333 538 429 594;913 171 963 20...  Arvalis_1  \n",
       "3  112 274 188 303;892 812 958 847;0 889 67 928;1...  Arvalis_1  \n",
       "4  810 204 863 314;360 231 425 408;452 348 510 47...  Arvalis_1  "
      ]
     },
     "execution_count": 15,
     "metadata": {},
     "output_type": "execute_result"
    }
   ],
   "source": [
    "train.head()"
   ]
  },
  {
   "cell_type": "code",
   "execution_count": 16,
   "id": "3e6d8d03",
   "metadata": {},
   "outputs": [
    {
     "name": "stdout",
     "output_type": "stream",
     "text": [
      "<class 'pandas.core.frame.DataFrame'>\n",
      "RangeIndex: 3657 entries, 0 to 3656\n",
      "Data columns (total 3 columns):\n",
      " #   Column       Non-Null Count  Dtype \n",
      "---  ------       --------------  ----- \n",
      " 0   image_name   3657 non-null   object\n",
      " 1   BoxesString  3657 non-null   object\n",
      " 2   domain       3657 non-null   object\n",
      "dtypes: object(3)\n",
      "memory usage: 85.8+ KB\n"
     ]
    }
   ],
   "source": [
    "train.info()"
   ]
  },
  {
   "cell_type": "code",
   "execution_count": 22,
   "id": "2a5d3aba",
   "metadata": {},
   "outputs": [
    {
     "data": {
      "text/plain": [
       "3655"
      ]
     },
     "execution_count": 22,
     "metadata": {},
     "output_type": "execute_result"
    }
   ],
   "source": [
    "len(train.image_name.unique())"
   ]
  },
  {
   "cell_type": "code",
   "execution_count": 24,
   "id": "e2794575",
   "metadata": {},
   "outputs": [
    {
     "data": {
      "text/html": [
       "<div>\n",
       "<style scoped>\n",
       "    .dataframe tbody tr th:only-of-type {\n",
       "        vertical-align: middle;\n",
       "    }\n",
       "\n",
       "    .dataframe tbody tr th {\n",
       "        vertical-align: top;\n",
       "    }\n",
       "\n",
       "    .dataframe thead th {\n",
       "        text-align: right;\n",
       "    }\n",
       "</style>\n",
       "<table border=\"1\" class=\"dataframe\">\n",
       "  <thead>\n",
       "    <tr style=\"text-align: right;\">\n",
       "      <th></th>\n",
       "      <th>image_name</th>\n",
       "      <th>BoxesString</th>\n",
       "      <th>domain</th>\n",
       "    </tr>\n",
       "  </thead>\n",
       "  <tbody>\n",
       "  </tbody>\n",
       "</table>\n",
       "</div>"
      ],
      "text/plain": [
       "Empty DataFrame\n",
       "Columns: [image_name, BoxesString, domain]\n",
       "Index: []"
      ]
     },
     "execution_count": 24,
     "metadata": {},
     "output_type": "execute_result"
    }
   ],
   "source": [
    "train[train.duplicated()]"
   ]
  },
  {
   "cell_type": "code",
   "execution_count": 25,
   "id": "c6c3fc14",
   "metadata": {},
   "outputs": [
    {
     "data": {
      "text/plain": [
       "2070    d88963636d49127bda0597ef73f1703e92d6f111caefc4...\n",
       "2079    1961bcf453d5b2206c428c1c14fe55d1f26f3c655db0a2...\n",
       "Name: image_name, dtype: object"
      ]
     },
     "execution_count": 25,
     "metadata": {},
     "output_type": "execute_result"
    }
   ],
   "source": [
    "train.image_name[train.image_name.duplicated()]"
   ]
  },
  {
   "cell_type": "code",
   "execution_count": 26,
   "id": "ba321307",
   "metadata": {},
   "outputs": [
    {
     "data": {
      "text/html": [
       "<div>\n",
       "<style scoped>\n",
       "    .dataframe tbody tr th:only-of-type {\n",
       "        vertical-align: middle;\n",
       "    }\n",
       "\n",
       "    .dataframe tbody tr th {\n",
       "        vertical-align: top;\n",
       "    }\n",
       "\n",
       "    .dataframe thead th {\n",
       "        text-align: right;\n",
       "    }\n",
       "</style>\n",
       "<table border=\"1\" class=\"dataframe\">\n",
       "  <thead>\n",
       "    <tr style=\"text-align: right;\">\n",
       "      <th></th>\n",
       "      <th>image_name</th>\n",
       "      <th>BoxesString</th>\n",
       "      <th>domain</th>\n",
       "    </tr>\n",
       "  </thead>\n",
       "  <tbody>\n",
       "  </tbody>\n",
       "</table>\n",
       "</div>"
      ],
      "text/plain": [
       "Empty DataFrame\n",
       "Columns: [image_name, BoxesString, domain]\n",
       "Index: []"
      ]
     },
     "execution_count": 26,
     "metadata": {},
     "output_type": "execute_result"
    }
   ],
   "source": [
    "dupes = train.sort_values(\"image_name\")\n",
    "dupes[dupes.duplicated()]"
   ]
  },
  {
   "cell_type": "code",
   "execution_count": 27,
   "id": "24d22c84",
   "metadata": {},
   "outputs": [
    {
     "data": {
      "text/plain": [
       "'d88963636d49127bda0597ef73f1703e92d6f111caefc44902d5932b8cd3fa94.png'"
      ]
     },
     "execution_count": 27,
     "metadata": {},
     "output_type": "execute_result"
    }
   ],
   "source": [
    "train['image_name'].iloc[2070]"
   ]
  },
  {
   "cell_type": "code",
   "execution_count": 28,
   "id": "9f7da3ea",
   "metadata": {},
   "outputs": [
    {
     "data": {
      "text/plain": [
       "'1961bcf453d5b2206c428c1c14fe55d1f26f3c655db0a2b6a83094476e8edb5b.png'"
      ]
     },
     "execution_count": 28,
     "metadata": {},
     "output_type": "execute_result"
    }
   ],
   "source": [
    "train['image_name'].iloc[2079]"
   ]
  },
  {
   "cell_type": "code",
   "execution_count": 29,
   "id": "f12d5895",
   "metadata": {},
   "outputs": [
    {
     "data": {
      "text/plain": [
       "image_name     d88963636d49127bda0597ef73f1703e92d6f111caefc4...\n",
       "BoxesString    312 994 364 1024;177 756 296 869;88 118 147 17...\n",
       "domain                                                Arvalis_12\n",
       "Name: 2070, dtype: object"
      ]
     },
     "execution_count": 29,
     "metadata": {},
     "output_type": "execute_result"
    }
   ],
   "source": [
    "train.iloc[2070]"
   ]
  },
  {
   "cell_type": "code",
   "execution_count": 30,
   "id": "dfc963a9",
   "metadata": {},
   "outputs": [
    {
     "data": {
      "text/plain": [
       "image_name     1961bcf453d5b2206c428c1c14fe55d1f26f3c655db0a2...\n",
       "BoxesString    3 944 58 985;876 506 919 555;770 859 834 903;9...\n",
       "domain                                                Arvalis_12\n",
       "Name: 2079, dtype: object"
      ]
     },
     "execution_count": 30,
     "metadata": {},
     "output_type": "execute_result"
    }
   ],
   "source": [
    "train.iloc[2079]"
   ]
  },
  {
   "cell_type": "code",
   "execution_count": 36,
   "id": "9dbf9072",
   "metadata": {},
   "outputs": [
    {
     "data": {
      "text/html": [
       "<div>\n",
       "<style scoped>\n",
       "    .dataframe tbody tr th:only-of-type {\n",
       "        vertical-align: middle;\n",
       "    }\n",
       "\n",
       "    .dataframe tbody tr th {\n",
       "        vertical-align: top;\n",
       "    }\n",
       "\n",
       "    .dataframe thead th {\n",
       "        text-align: right;\n",
       "    }\n",
       "</style>\n",
       "<table border=\"1\" class=\"dataframe\">\n",
       "  <thead>\n",
       "    <tr style=\"text-align: right;\">\n",
       "      <th></th>\n",
       "      <th>image_name</th>\n",
       "      <th>BoxesString</th>\n",
       "      <th>domain</th>\n",
       "    </tr>\n",
       "  </thead>\n",
       "  <tbody>\n",
       "    <tr>\n",
       "      <th>1999</th>\n",
       "      <td>1961bcf453d5b2206c428c1c14fe55d1f26f3c655db0a2...</td>\n",
       "      <td>264 164 370 296;388 196 464 330;466 328 698 44...</td>\n",
       "      <td>Arvalis_10</td>\n",
       "    </tr>\n",
       "    <tr>\n",
       "      <th>2079</th>\n",
       "      <td>1961bcf453d5b2206c428c1c14fe55d1f26f3c655db0a2...</td>\n",
       "      <td>3 944 58 985;876 506 919 555;770 859 834 903;9...</td>\n",
       "      <td>Arvalis_12</td>\n",
       "    </tr>\n",
       "  </tbody>\n",
       "</table>\n",
       "</div>"
      ],
      "text/plain": [
       "                                             image_name  \\\n",
       "1999  1961bcf453d5b2206c428c1c14fe55d1f26f3c655db0a2...   \n",
       "2079  1961bcf453d5b2206c428c1c14fe55d1f26f3c655db0a2...   \n",
       "\n",
       "                                            BoxesString      domain  \n",
       "1999  264 164 370 296;388 196 464 330;466 328 698 44...  Arvalis_10  \n",
       "2079  3 944 58 985;876 506 919 555;770 859 834 903;9...  Arvalis_12  "
      ]
     },
     "execution_count": 36,
     "metadata": {},
     "output_type": "execute_result"
    }
   ],
   "source": [
    "train[train.image_name == '1961bcf453d5b2206c428c1c14fe55d1f26f3c655db0a2b6a83094476e8edb5b.png']"
   ]
  },
  {
   "cell_type": "code",
   "execution_count": 37,
   "id": "5d04d196",
   "metadata": {},
   "outputs": [
    {
     "data": {
      "text/html": [
       "<div>\n",
       "<style scoped>\n",
       "    .dataframe tbody tr th:only-of-type {\n",
       "        vertical-align: middle;\n",
       "    }\n",
       "\n",
       "    .dataframe tbody tr th {\n",
       "        vertical-align: top;\n",
       "    }\n",
       "\n",
       "    .dataframe thead th {\n",
       "        text-align: right;\n",
       "    }\n",
       "</style>\n",
       "<table border=\"1\" class=\"dataframe\">\n",
       "  <thead>\n",
       "    <tr style=\"text-align: right;\">\n",
       "      <th></th>\n",
       "      <th>image_name</th>\n",
       "      <th>BoxesString</th>\n",
       "      <th>domain</th>\n",
       "    </tr>\n",
       "  </thead>\n",
       "  <tbody>\n",
       "    <tr>\n",
       "      <th>1986</th>\n",
       "      <td>d88963636d49127bda0597ef73f1703e92d6f111caefc4...</td>\n",
       "      <td>994 8 1024 64;864 0 1012 92;642 18 772 102;616...</td>\n",
       "      <td>Arvalis_10</td>\n",
       "    </tr>\n",
       "    <tr>\n",
       "      <th>2070</th>\n",
       "      <td>d88963636d49127bda0597ef73f1703e92d6f111caefc4...</td>\n",
       "      <td>312 994 364 1024;177 756 296 869;88 118 147 17...</td>\n",
       "      <td>Arvalis_12</td>\n",
       "    </tr>\n",
       "  </tbody>\n",
       "</table>\n",
       "</div>"
      ],
      "text/plain": [
       "                                             image_name  \\\n",
       "1986  d88963636d49127bda0597ef73f1703e92d6f111caefc4...   \n",
       "2070  d88963636d49127bda0597ef73f1703e92d6f111caefc4...   \n",
       "\n",
       "                                            BoxesString      domain  \n",
       "1986  994 8 1024 64;864 0 1012 92;642 18 772 102;616...  Arvalis_10  \n",
       "2070  312 994 364 1024;177 756 296 869;88 118 147 17...  Arvalis_12  "
      ]
     },
     "execution_count": 37,
     "metadata": {},
     "output_type": "execute_result"
    }
   ],
   "source": [
    "train[train.image_name == 'd88963636d49127bda0597ef73f1703e92d6f111caefc44902d5932b8cd3fa94.png']"
   ]
  },
  {
   "cell_type": "code",
   "execution_count": null,
   "id": "01b05d2a",
   "metadata": {},
   "outputs": [],
   "source": []
  },
  {
   "cell_type": "code",
   "execution_count": null,
   "id": "b501849a",
   "metadata": {},
   "outputs": [],
   "source": []
  },
  {
   "cell_type": "code",
   "execution_count": null,
   "id": "68c9eae4",
   "metadata": {},
   "outputs": [],
   "source": []
  },
  {
   "cell_type": "code",
   "execution_count": null,
   "id": "c7b2b839",
   "metadata": {},
   "outputs": [],
   "source": []
  },
  {
   "cell_type": "code",
   "execution_count": null,
   "id": "9eee122b",
   "metadata": {},
   "outputs": [],
   "source": []
  },
  {
   "cell_type": "code",
   "execution_count": 17,
   "id": "5b606c5c",
   "metadata": {},
   "outputs": [],
   "source": [
    "val = pd.read_csv('gwhd_2021/competition_val.csv')"
   ]
  },
  {
   "cell_type": "code",
   "execution_count": 18,
   "id": "4e8314f0",
   "metadata": {},
   "outputs": [
    {
     "data": {
      "text/html": [
       "<div>\n",
       "<style scoped>\n",
       "    .dataframe tbody tr th:only-of-type {\n",
       "        vertical-align: middle;\n",
       "    }\n",
       "\n",
       "    .dataframe tbody tr th {\n",
       "        vertical-align: top;\n",
       "    }\n",
       "\n",
       "    .dataframe thead th {\n",
       "        text-align: right;\n",
       "    }\n",
       "</style>\n",
       "<table border=\"1\" class=\"dataframe\">\n",
       "  <thead>\n",
       "    <tr style=\"text-align: right;\">\n",
       "      <th></th>\n",
       "      <th>image_name</th>\n",
       "      <th>BoxesString</th>\n",
       "      <th>domain</th>\n",
       "    </tr>\n",
       "  </thead>\n",
       "  <tbody>\n",
       "    <tr>\n",
       "      <th>0</th>\n",
       "      <td>e6b6a900e5c54cd5d8b0649768c361512cff1813409319...</td>\n",
       "      <td>0 30 109 119;453 617 561 661;450 441 652 493;5...</td>\n",
       "      <td>Usask_1</td>\n",
       "    </tr>\n",
       "    <tr>\n",
       "      <th>1</th>\n",
       "      <td>53889799be1319296f102fa09a512463c27316a428bb9f...</td>\n",
       "      <td>38 370 88 443;924 824 964 874;0 191 39 265;828...</td>\n",
       "      <td>Usask_1</td>\n",
       "    </tr>\n",
       "    <tr>\n",
       "      <th>2</th>\n",
       "      <td>ec8f9365ca93eb9dab075c64e5c8b32edd4f8993e17b89...</td>\n",
       "      <td>884 932 1024 990;828 53 1024 206;607 633 681 7...</td>\n",
       "      <td>Usask_1</td>\n",
       "    </tr>\n",
       "    <tr>\n",
       "      <th>3</th>\n",
       "      <td>48bab0505514c876207b4ede1c60cc906947ca02bb4277...</td>\n",
       "      <td>284 114 352 181;421 0 533 90;910 326 954 409;8...</td>\n",
       "      <td>Usask_1</td>\n",
       "    </tr>\n",
       "    <tr>\n",
       "      <th>4</th>\n",
       "      <td>44bf4657132a886bea1b74e105c3aadfa41ba7a2ae9d7a...</td>\n",
       "      <td>94 0 241 183;173 217 318 338;401 371 606 472;3...</td>\n",
       "      <td>Usask_1</td>\n",
       "    </tr>\n",
       "  </tbody>\n",
       "</table>\n",
       "</div>"
      ],
      "text/plain": [
       "                                          image_name  \\\n",
       "0  e6b6a900e5c54cd5d8b0649768c361512cff1813409319...   \n",
       "1  53889799be1319296f102fa09a512463c27316a428bb9f...   \n",
       "2  ec8f9365ca93eb9dab075c64e5c8b32edd4f8993e17b89...   \n",
       "3  48bab0505514c876207b4ede1c60cc906947ca02bb4277...   \n",
       "4  44bf4657132a886bea1b74e105c3aadfa41ba7a2ae9d7a...   \n",
       "\n",
       "                                         BoxesString   domain  \n",
       "0  0 30 109 119;453 617 561 661;450 441 652 493;5...  Usask_1  \n",
       "1  38 370 88 443;924 824 964 874;0 191 39 265;828...  Usask_1  \n",
       "2  884 932 1024 990;828 53 1024 206;607 633 681 7...  Usask_1  \n",
       "3  284 114 352 181;421 0 533 90;910 326 954 409;8...  Usask_1  \n",
       "4  94 0 241 183;173 217 318 338;401 371 606 472;3...  Usask_1  "
      ]
     },
     "execution_count": 18,
     "metadata": {},
     "output_type": "execute_result"
    }
   ],
   "source": [
    "val.head()"
   ]
  },
  {
   "cell_type": "code",
   "execution_count": 19,
   "id": "2795556e",
   "metadata": {},
   "outputs": [
    {
     "name": "stdout",
     "output_type": "stream",
     "text": [
      "<class 'pandas.core.frame.DataFrame'>\n",
      "RangeIndex: 1476 entries, 0 to 1475\n",
      "Data columns (total 3 columns):\n",
      " #   Column       Non-Null Count  Dtype \n",
      "---  ------       --------------  ----- \n",
      " 0   image_name   1476 non-null   object\n",
      " 1   BoxesString  1476 non-null   object\n",
      " 2   domain       1476 non-null   object\n",
      "dtypes: object(3)\n",
      "memory usage: 34.7+ KB\n"
     ]
    }
   ],
   "source": [
    "val.info()"
   ]
  },
  {
   "cell_type": "code",
   "execution_count": 23,
   "id": "31f0d9e0",
   "metadata": {},
   "outputs": [
    {
     "data": {
      "text/plain": [
       "1476"
      ]
     },
     "execution_count": 23,
     "metadata": {},
     "output_type": "execute_result"
    }
   ],
   "source": [
    "len(val.image_name.unique())"
   ]
  },
  {
   "cell_type": "code",
   "execution_count": null,
   "id": "0c1e1aca",
   "metadata": {},
   "outputs": [],
   "source": []
  },
  {
   "cell_type": "code",
   "execution_count": null,
   "id": "354e69bb",
   "metadata": {},
   "outputs": [],
   "source": []
  }
 ],
 "metadata": {
  "kernelspec": {
   "display_name": "Python 3",
   "language": "python",
   "name": "python3"
  },
  "language_info": {
   "codemirror_mode": {
    "name": "ipython",
    "version": 3
   },
   "file_extension": ".py",
   "mimetype": "text/x-python",
   "name": "python",
   "nbconvert_exporter": "python",
   "pygments_lexer": "ipython3",
   "version": "3.8.8"
  }
 },
 "nbformat": 4,
 "nbformat_minor": 5
}
