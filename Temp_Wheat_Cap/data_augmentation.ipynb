{
 "cells": [
  {
   "cell_type": "markdown",
   "id": "c9790150",
   "metadata": {},
   "source": [
    "# Data Augmentation\n",
    "\n",
    "As demonstrated in the EDA notebook of this project, there are marked differences between wheat images across domains. The original challenge pre-divided the image dataset into train, test, and validation folders, with *completely distinct* sets of domains in each folder. Even if the images were apparently very similar across domains, this would not be a wise project design. But we've also demonstrated that there are clear differences between images from varying domains. To correct for this, we will combine the pre-divided train, test, and validation folders, augment the full set of data to account for any class imbalances, and then re-split into testing, training, and validation folders with even (or, as even as possible) representation across image sets. "
   ]
  },
  {
   "cell_type": "code",
   "execution_count": 42,
   "id": "17473be1",
   "metadata": {},
   "outputs": [],
   "source": [
    "import pandas as pd\n",
    "import pathlib"
   ]
  },
  {
   "cell_type": "code",
   "execution_count": 3,
   "id": "895c5046",
   "metadata": {},
   "outputs": [],
   "source": [
    "test = pd.read_csv('gwhd_2021/competition_test.csv')\n",
    "train = pd.read_csv('gwhd_2021/competition_train.csv')\n",
    "val = pd.read_csv('gwhd_2021/competition_val.csv')"
   ]
  },
  {
   "cell_type": "code",
   "execution_count": 7,
   "id": "6abe9f00",
   "metadata": {},
   "outputs": [],
   "source": [
    "full = pd.concat([train, test, val])"
   ]
  },
  {
   "cell_type": "markdown",
   "id": "37a7e9e4",
   "metadata": {},
   "source": [
    "We'll save this full dataframe to a csv file:"
   ]
  },
  {
   "cell_type": "code",
   "execution_count": 12,
   "id": "ce1cbd03",
   "metadata": {},
   "outputs": [],
   "source": [
    "# full.to_csv('transformed_data/train_test_val_concat.csv')"
   ]
  },
  {
   "cell_type": "markdown",
   "id": "43d8e6a3",
   "metadata": {},
   "source": [
    "Now, we'll need to perform the same basic transformations to this new dataframe, as we did to the original training dataset dataframe (like reformatting of bounding box coordinates, etc). We'll also want to merge the metadata information so that we can address class imbalances when performing data augmentation and when performing the new splits. "
   ]
  },
  {
   "cell_type": "code",
   "execution_count": 15,
   "id": "332196ed",
   "metadata": {},
   "outputs": [],
   "source": [
    "metadata = pd.read_csv('gwhd_2021/metadata_dataset.csv', sep=';')"
   ]
  },
  {
   "cell_type": "code",
   "execution_count": 18,
   "id": "8b4b95fd",
   "metadata": {
    "scrolled": true
   },
   "outputs": [],
   "source": [
    "# Update metadata['name'] to metadata['domain'] to match full column name\n",
    "metadata.rename(columns = {\"name\": \"domain\"}, inplace=True)"
   ]
  },
  {
   "cell_type": "code",
   "execution_count": 22,
   "id": "9a991822",
   "metadata": {},
   "outputs": [],
   "source": [
    "df = full.merge(metadata, on='domain')"
   ]
  },
  {
   "cell_type": "markdown",
   "id": "872d38ba",
   "metadata": {},
   "source": [
    "Change image name to read `.jpg` instead of `.png`:"
   ]
  },
  {
   "cell_type": "code",
   "execution_count": 28,
   "id": "6f9bb180",
   "metadata": {},
   "outputs": [],
   "source": [
    "for i, row in df.iterrows():\n",
    "    row['image_name'] = (row.image_name.split('.')[0]+'.jpg')"
   ]
  },
  {
   "cell_type": "markdown",
   "id": "65d00d8b",
   "metadata": {},
   "source": [
    "Check for duplicated images:"
   ]
  },
  {
   "cell_type": "code",
   "execution_count": 32,
   "id": "9cf7a971",
   "metadata": {},
   "outputs": [
    {
     "data": {
      "text/plain": [
       "2070    d88963636d49127bda0597ef73f1703e92d6f111caefc4...\n",
       "2079    1961bcf453d5b2206c428c1c14fe55d1f26f3c655db0a2...\n",
       "3948    da9846512ff19b8cd7278c8c973f75d36de8c4eb4e593b...\n",
       "Name: image_name, dtype: object"
      ]
     },
     "execution_count": 32,
     "metadata": {},
     "output_type": "execute_result"
    }
   ],
   "source": [
    "df.image_name[df.image_name.duplicated()]"
   ]
  },
  {
   "cell_type": "code",
   "execution_count": 35,
   "id": "bed544a4",
   "metadata": {},
   "outputs": [
    {
     "data": {
      "text/html": [
       "<div>\n",
       "<style scoped>\n",
       "    .dataframe tbody tr th:only-of-type {\n",
       "        vertical-align: middle;\n",
       "    }\n",
       "\n",
       "    .dataframe tbody tr th {\n",
       "        vertical-align: top;\n",
       "    }\n",
       "\n",
       "    .dataframe thead th {\n",
       "        text-align: right;\n",
       "    }\n",
       "</style>\n",
       "<table border=\"1\" class=\"dataframe\">\n",
       "  <thead>\n",
       "    <tr style=\"text-align: right;\">\n",
       "      <th></th>\n",
       "      <th>image_name</th>\n",
       "      <th>BoxesString</th>\n",
       "      <th>domain</th>\n",
       "      <th>country</th>\n",
       "      <th>location</th>\n",
       "      <th>development_stage</th>\n",
       "    </tr>\n",
       "  </thead>\n",
       "  <tbody>\n",
       "    <tr>\n",
       "      <th>1986</th>\n",
       "      <td>d88963636d49127bda0597ef73f1703e92d6f111caefc4...</td>\n",
       "      <td>994 8 1024 64;864 0 1012 92;642 18 772 102;616...</td>\n",
       "      <td>Arvalis_10</td>\n",
       "      <td>France</td>\n",
       "      <td>Mons</td>\n",
       "      <td>Filling</td>\n",
       "    </tr>\n",
       "    <tr>\n",
       "      <th>2070</th>\n",
       "      <td>d88963636d49127bda0597ef73f1703e92d6f111caefc4...</td>\n",
       "      <td>312 994 364 1024;177 756 296 869;88 118 147 17...</td>\n",
       "      <td>Arvalis_12</td>\n",
       "      <td>France</td>\n",
       "      <td>Gréoux</td>\n",
       "      <td>Filling</td>\n",
       "    </tr>\n",
       "  </tbody>\n",
       "</table>\n",
       "</div>"
      ],
      "text/plain": [
       "                                             image_name  \\\n",
       "1986  d88963636d49127bda0597ef73f1703e92d6f111caefc4...   \n",
       "2070  d88963636d49127bda0597ef73f1703e92d6f111caefc4...   \n",
       "\n",
       "                                            BoxesString      domain country  \\\n",
       "1986  994 8 1024 64;864 0 1012 92;642 18 772 102;616...  Arvalis_10  France   \n",
       "2070  312 994 364 1024;177 756 296 869;88 118 147 17...  Arvalis_12  France   \n",
       "\n",
       "     location development_stage  \n",
       "1986     Mons           Filling  \n",
       "2070   Gréoux           Filling  "
      ]
     },
     "execution_count": 35,
     "metadata": {},
     "output_type": "execute_result"
    }
   ],
   "source": [
    "df[df.image_name == df.iloc[2070, 0]]"
   ]
  },
  {
   "cell_type": "code",
   "execution_count": 37,
   "id": "3b622c75",
   "metadata": {},
   "outputs": [
    {
     "data": {
      "text/html": [
       "<div>\n",
       "<style scoped>\n",
       "    .dataframe tbody tr th:only-of-type {\n",
       "        vertical-align: middle;\n",
       "    }\n",
       "\n",
       "    .dataframe tbody tr th {\n",
       "        vertical-align: top;\n",
       "    }\n",
       "\n",
       "    .dataframe thead th {\n",
       "        text-align: right;\n",
       "    }\n",
       "</style>\n",
       "<table border=\"1\" class=\"dataframe\">\n",
       "  <thead>\n",
       "    <tr style=\"text-align: right;\">\n",
       "      <th></th>\n",
       "      <th>image_name</th>\n",
       "      <th>BoxesString</th>\n",
       "      <th>domain</th>\n",
       "      <th>country</th>\n",
       "      <th>location</th>\n",
       "      <th>development_stage</th>\n",
       "    </tr>\n",
       "  </thead>\n",
       "  <tbody>\n",
       "    <tr>\n",
       "      <th>1999</th>\n",
       "      <td>1961bcf453d5b2206c428c1c14fe55d1f26f3c655db0a2...</td>\n",
       "      <td>264 164 370 296;388 196 464 330;466 328 698 44...</td>\n",
       "      <td>Arvalis_10</td>\n",
       "      <td>France</td>\n",
       "      <td>Mons</td>\n",
       "      <td>Filling</td>\n",
       "    </tr>\n",
       "    <tr>\n",
       "      <th>2079</th>\n",
       "      <td>1961bcf453d5b2206c428c1c14fe55d1f26f3c655db0a2...</td>\n",
       "      <td>3 944 58 985;876 506 919 555;770 859 834 903;9...</td>\n",
       "      <td>Arvalis_12</td>\n",
       "      <td>France</td>\n",
       "      <td>Gréoux</td>\n",
       "      <td>Filling</td>\n",
       "    </tr>\n",
       "  </tbody>\n",
       "</table>\n",
       "</div>"
      ],
      "text/plain": [
       "                                             image_name  \\\n",
       "1999  1961bcf453d5b2206c428c1c14fe55d1f26f3c655db0a2...   \n",
       "2079  1961bcf453d5b2206c428c1c14fe55d1f26f3c655db0a2...   \n",
       "\n",
       "                                            BoxesString      domain country  \\\n",
       "1999  264 164 370 296;388 196 464 330;466 328 698 44...  Arvalis_10  France   \n",
       "2079  3 944 58 985;876 506 919 555;770 859 834 903;9...  Arvalis_12  France   \n",
       "\n",
       "     location development_stage  \n",
       "1999     Mons           Filling  \n",
       "2079   Gréoux           Filling  "
      ]
     },
     "execution_count": 37,
     "metadata": {},
     "output_type": "execute_result"
    }
   ],
   "source": [
    "df[df.image_name == df.iloc[2079, 0]]"
   ]
  },
  {
   "cell_type": "code",
   "execution_count": 40,
   "id": "1b1ef9be",
   "metadata": {},
   "outputs": [
    {
     "data": {
      "text/html": [
       "<div>\n",
       "<style scoped>\n",
       "    .dataframe tbody tr th:only-of-type {\n",
       "        vertical-align: middle;\n",
       "    }\n",
       "\n",
       "    .dataframe tbody tr th {\n",
       "        vertical-align: top;\n",
       "    }\n",
       "\n",
       "    .dataframe thead th {\n",
       "        text-align: right;\n",
       "    }\n",
       "</style>\n",
       "<table border=\"1\" class=\"dataframe\">\n",
       "  <thead>\n",
       "    <tr style=\"text-align: right;\">\n",
       "      <th></th>\n",
       "      <th>image_name</th>\n",
       "      <th>BoxesString</th>\n",
       "      <th>domain</th>\n",
       "      <th>country</th>\n",
       "      <th>location</th>\n",
       "      <th>development_stage</th>\n",
       "    </tr>\n",
       "  </thead>\n",
       "  <tbody>\n",
       "    <tr>\n",
       "      <th>3821</th>\n",
       "      <td>da9846512ff19b8cd7278c8c973f75d36de8c4eb4e593b...</td>\n",
       "      <td>950 39 986 165;725 2 776 226;660 31 720 92;797...</td>\n",
       "      <td>CIMMYT_1</td>\n",
       "      <td>Mexico</td>\n",
       "      <td>Ciudad Obregon</td>\n",
       "      <td>Post-flowering</td>\n",
       "    </tr>\n",
       "    <tr>\n",
       "      <th>3948</th>\n",
       "      <td>da9846512ff19b8cd7278c8c973f75d36de8c4eb4e593b...</td>\n",
       "      <td>733 0 837 49;688 96 998 196;792 433 843 461;73...</td>\n",
       "      <td>CIMMYT_3</td>\n",
       "      <td>Mexico</td>\n",
       "      <td>Ciudad Obregon</td>\n",
       "      <td>Post-flowering</td>\n",
       "    </tr>\n",
       "  </tbody>\n",
       "</table>\n",
       "</div>"
      ],
      "text/plain": [
       "                                             image_name  \\\n",
       "3821  da9846512ff19b8cd7278c8c973f75d36de8c4eb4e593b...   \n",
       "3948  da9846512ff19b8cd7278c8c973f75d36de8c4eb4e593b...   \n",
       "\n",
       "                                            BoxesString    domain country  \\\n",
       "3821  950 39 986 165;725 2 776 226;660 31 720 92;797...  CIMMYT_1  Mexico   \n",
       "3948  733 0 837 49;688 96 998 196;792 433 843 461;73...  CIMMYT_3  Mexico   \n",
       "\n",
       "            location development_stage  \n",
       "3821  Ciudad Obregon    Post-flowering  \n",
       "3948  Ciudad Obregon    Post-flowering  "
      ]
     },
     "execution_count": 40,
     "metadata": {},
     "output_type": "execute_result"
    }
   ],
   "source": [
    "df[df.image_name == df.iloc[3948, 0]]"
   ]
  },
  {
   "cell_type": "markdown",
   "id": "07261887",
   "metadata": {},
   "source": [
    "Once we define functions to display images with bounding boxes, we'll need to make sure to check out the duplicates detected above. "
   ]
  },
  {
   "cell_type": "code",
   "execution_count": 43,
   "id": "278204e3",
   "metadata": {},
   "outputs": [],
   "source": [
    "#create data directory path and count images\n",
    "data_dir = pathlib.Path('gwhd_2021/images')"
   ]
  },
  {
   "cell_type": "code",
   "execution_count": 44,
   "id": "685f5be3",
   "metadata": {},
   "outputs": [],
   "source": [
    "images = list(data_dir.glob('*.jpg'))"
   ]
  },
  {
   "cell_type": "code",
   "execution_count": null,
   "id": "332ea5b6",
   "metadata": {},
   "outputs": [],
   "source": []
  },
  {
   "cell_type": "code",
   "execution_count": null,
   "id": "44769043",
   "metadata": {},
   "outputs": [],
   "source": []
  },
  {
   "cell_type": "code",
   "execution_count": null,
   "id": "a1c6670b",
   "metadata": {},
   "outputs": [],
   "source": []
  },
  {
   "cell_type": "code",
   "execution_count": null,
   "id": "9d9c9972",
   "metadata": {},
   "outputs": [],
   "source": []
  },
  {
   "cell_type": "code",
   "execution_count": null,
   "id": "fc2805a6",
   "metadata": {},
   "outputs": [],
   "source": []
  },
  {
   "cell_type": "code",
   "execution_count": null,
   "id": "b5f0ba36",
   "metadata": {},
   "outputs": [],
   "source": []
  },
  {
   "cell_type": "code",
   "execution_count": null,
   "id": "b4a8ef29",
   "metadata": {},
   "outputs": [],
   "source": []
  }
 ],
 "metadata": {
  "kernelspec": {
   "display_name": "Python 3 (ipykernel)",
   "language": "python",
   "name": "python3"
  },
  "language_info": {
   "codemirror_mode": {
    "name": "ipython",
    "version": 3
   },
   "file_extension": ".py",
   "mimetype": "text/x-python",
   "name": "python",
   "nbconvert_exporter": "python",
   "pygments_lexer": "ipython3",
   "version": "3.8.8"
  }
 },
 "nbformat": 4,
 "nbformat_minor": 5
}
