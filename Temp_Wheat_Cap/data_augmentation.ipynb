{
 "cells": [
  {
   "cell_type": "markdown",
   "id": "c9790150",
   "metadata": {},
   "source": [
    "# Data Augmentation\n",
    "\n",
    "As demonstrated in the EDA notebook of this project, there are marked differences between wheat images across domains. The original challenge pre-divided the image dataset into train, test, and validation folders, with *completely distinct* sets of domains in each folder. Even if the images were apparently very similar across domains, this would not be a wise project design. But we've also demonstrated that there are clear differences between images from varying domains. To correct for this, we will combine the pre-divided train, test, and validation folders, augment the full set of data to account for any class imbalances, and then re-split into testing, training, and validation folders with even (or, as even as possible) representation across image sets. "
   ]
  },
  {
   "cell_type": "code",
   "execution_count": 42,
   "id": "e854babb",
   "metadata": {},
   "outputs": [],
   "source": [
    "import pandas as pd\n",
    "import pathlib"
   ]
  },
  {
   "cell_type": "code",
   "execution_count": 3,
   "id": "895c5046",
   "metadata": {},
   "outputs": [],
   "source": [
    "test = pd.read_csv('gwhd_2021/competition_test.csv')\n",
    "train = pd.read_csv('gwhd_2021/competition_train.csv')\n",
    "val = pd.read_csv('gwhd_2021/competition_val.csv')"
   ]
  },
  {
   "cell_type": "code",
   "execution_count": 7,
   "id": "6abe9f00",
   "metadata": {},
   "outputs": [],
   "source": [
    "full = pd.concat([train, test, val])"
   ]
  },
  {
   "cell_type": "markdown",
   "id": "ca57d975",
   "metadata": {},
   "source": [
    "We'll save this full dataframe to a csv file:"
   ]
  },
  {
   "cell_type": "code",
   "execution_count": 12,
   "id": "ce1cbd03",
   "metadata": {},
   "outputs": [],
   "source": [
    "# full.to_csv('transformed_data/train_test_val_concat.csv')"
   ]
  },
  {
   "cell_type": "markdown",
   "id": "a50ae053",
   "metadata": {},
   "source": [
    "Now, we'll need to perform the same basic transformations to this new dataframe, as we did to the original training dataset dataframe (like reformatting of bounding box coordinates, etc). We'll also want to merge the metadata information so that we can address class imbalances when performing data augmentation and when performing the new splits. "
   ]
  },
  {
   "cell_type": "code",
   "execution_count": 15,
   "id": "332196ed",
   "metadata": {},
   "outputs": [],
   "source": [
    "metadata = pd.read_csv('gwhd_2021/metadata_dataset.csv', sep=';')"
   ]
  },
  {
   "cell_type": "code",
   "execution_count": 18,
   "id": "8b4b95fd",
   "metadata": {
    "scrolled": true
   },
   "outputs": [],
   "source": [
    "# Update metadata['name'] to metadata['domain'] to match full column name\n",
    "metadata.rename(columns = {\"name\": \"domain\"}, inplace=True)"
   ]
  },
  {
   "cell_type": "code",
   "execution_count": 22,
   "id": "9a991822",
   "metadata": {},
   "outputs": [],
   "source": [
    "df = full.merge(metadata, on='domain')"
   ]
  },
  {
   "cell_type": "markdown",
   "id": "c375a585",
   "metadata": {},
   "source": [
    "Change image name to read `.jpg` instead of `.png`:"
   ]
  },
  {
   "cell_type": "code",
   "execution_count": 28,
   "id": "3e8b18a6",
   "metadata": {},
   "outputs": [],
   "source": [
    "for i, row in df.iterrows():\n",
    "    row['image_name'] = (row.image_name.split('.')[0]+'.jpg')"
   ]
  },
  {
   "cell_type": "markdown",
   "id": "28751880",
   "metadata": {},
   "source": [
    "Check for duplicated images:"
   ]
  },
  {
   "cell_type": "code",
   "execution_count": 32,
   "id": "479c8d58",
   "metadata": {},
   "outputs": [
    {
     "data": {
      "text/plain": [
       "2070    d88963636d49127bda0597ef73f1703e92d6f111caefc4...\n",
       "2079    1961bcf453d5b2206c428c1c14fe55d1f26f3c655db0a2...\n",
       "3948    da9846512ff19b8cd7278c8c973f75d36de8c4eb4e593b...\n",
       "Name: image_name, dtype: object"
      ]
     },
     "execution_count": 32,
     "metadata": {},
     "output_type": "execute_result"
    }
   ],
   "source": [
    "df.image_name[df.image_name.duplicated()]"
   ]
  },
  {
   "cell_type": "code",
   "execution_count": 35,
   "id": "4c16fada",
   "metadata": {},
   "outputs": [
    {
     "data": {
      "text/html": [
       "<div>\n",
       "<style scoped>\n",
       "    .dataframe tbody tr th:only-of-type {\n",
       "        vertical-align: middle;\n",
       "    }\n",
       "\n",
       "    .dataframe tbody tr th {\n",
       "        vertical-align: top;\n",
       "    }\n",
       "\n",
       "    .dataframe thead th {\n",
       "        text-align: right;\n",
       "    }\n",
       "</style>\n",
       "<table border=\"1\" class=\"dataframe\">\n",
       "  <thead>\n",
       "    <tr style=\"text-align: right;\">\n",
       "      <th></th>\n",
       "      <th>image_name</th>\n",
       "      <th>BoxesString</th>\n",
       "      <th>domain</th>\n",
       "      <th>country</th>\n",
       "      <th>location</th>\n",
       "      <th>development_stage</th>\n",
       "    </tr>\n",
       "  </thead>\n",
       "  <tbody>\n",
       "    <tr>\n",
       "      <th>1986</th>\n",
       "      <td>d88963636d49127bda0597ef73f1703e92d6f111caefc4...</td>\n",
       "      <td>994 8 1024 64;864 0 1012 92;642 18 772 102;616...</td>\n",
       "      <td>Arvalis_10</td>\n",
       "      <td>France</td>\n",
       "      <td>Mons</td>\n",
       "      <td>Filling</td>\n",
       "    </tr>\n",
       "    <tr>\n",
       "      <th>2070</th>\n",
       "      <td>d88963636d49127bda0597ef73f1703e92d6f111caefc4...</td>\n",
       "      <td>312 994 364 1024;177 756 296 869;88 118 147 17...</td>\n",
       "      <td>Arvalis_12</td>\n",
       "      <td>France</td>\n",
       "      <td>Gréoux</td>\n",
       "      <td>Filling</td>\n",
       "    </tr>\n",
       "  </tbody>\n",
       "</table>\n",
       "</div>"
      ],
      "text/plain": [
       "                                             image_name  \\\n",
       "1986  d88963636d49127bda0597ef73f1703e92d6f111caefc4...   \n",
       "2070  d88963636d49127bda0597ef73f1703e92d6f111caefc4...   \n",
       "\n",
       "                                            BoxesString      domain country  \\\n",
       "1986  994 8 1024 64;864 0 1012 92;642 18 772 102;616...  Arvalis_10  France   \n",
       "2070  312 994 364 1024;177 756 296 869;88 118 147 17...  Arvalis_12  France   \n",
       "\n",
       "     location development_stage  \n",
       "1986     Mons           Filling  \n",
       "2070   Gréoux           Filling  "
      ]
     },
     "execution_count": 35,
     "metadata": {},
     "output_type": "execute_result"
    }
   ],
   "source": [
    "df[df.image_name == df.iloc[2070, 0]]"
   ]
  },
  {
   "cell_type": "code",
   "execution_count": 37,
   "id": "ec424c4e",
   "metadata": {},
   "outputs": [
    {
     "data": {
      "text/html": [
       "<div>\n",
       "<style scoped>\n",
       "    .dataframe tbody tr th:only-of-type {\n",
       "        vertical-align: middle;\n",
       "    }\n",
       "\n",
       "    .dataframe tbody tr th {\n",
       "        vertical-align: top;\n",
       "    }\n",
       "\n",
       "    .dataframe thead th {\n",
       "        text-align: right;\n",
       "    }\n",
       "</style>\n",
       "<table border=\"1\" class=\"dataframe\">\n",
       "  <thead>\n",
       "    <tr style=\"text-align: right;\">\n",
       "      <th></th>\n",
       "      <th>image_name</th>\n",
       "      <th>BoxesString</th>\n",
       "      <th>domain</th>\n",
       "      <th>country</th>\n",
       "      <th>location</th>\n",
       "      <th>development_stage</th>\n",
       "    </tr>\n",
       "  </thead>\n",
       "  <tbody>\n",
       "    <tr>\n",
       "      <th>1999</th>\n",
       "      <td>1961bcf453d5b2206c428c1c14fe55d1f26f3c655db0a2...</td>\n",
       "      <td>264 164 370 296;388 196 464 330;466 328 698 44...</td>\n",
       "      <td>Arvalis_10</td>\n",
       "      <td>France</td>\n",
       "      <td>Mons</td>\n",
       "      <td>Filling</td>\n",
       "    </tr>\n",
       "    <tr>\n",
       "      <th>2079</th>\n",
       "      <td>1961bcf453d5b2206c428c1c14fe55d1f26f3c655db0a2...</td>\n",
       "      <td>3 944 58 985;876 506 919 555;770 859 834 903;9...</td>\n",
       "      <td>Arvalis_12</td>\n",
       "      <td>France</td>\n",
       "      <td>Gréoux</td>\n",
       "      <td>Filling</td>\n",
       "    </tr>\n",
       "  </tbody>\n",
       "</table>\n",
       "</div>"
      ],
      "text/plain": [
       "                                             image_name  \\\n",
       "1999  1961bcf453d5b2206c428c1c14fe55d1f26f3c655db0a2...   \n",
       "2079  1961bcf453d5b2206c428c1c14fe55d1f26f3c655db0a2...   \n",
       "\n",
       "                                            BoxesString      domain country  \\\n",
       "1999  264 164 370 296;388 196 464 330;466 328 698 44...  Arvalis_10  France   \n",
       "2079  3 944 58 985;876 506 919 555;770 859 834 903;9...  Arvalis_12  France   \n",
       "\n",
       "     location development_stage  \n",
       "1999     Mons           Filling  \n",
       "2079   Gréoux           Filling  "
      ]
     },
     "execution_count": 37,
     "metadata": {},
     "output_type": "execute_result"
    }
   ],
   "source": [
    "df[df.image_name == df.iloc[2079, 0]]"
   ]
  },
  {
   "cell_type": "code",
   "execution_count": 40,
   "id": "92a1d207",
   "metadata": {},
   "outputs": [
    {
     "data": {
      "text/html": [
       "<div>\n",
       "<style scoped>\n",
       "    .dataframe tbody tr th:only-of-type {\n",
       "        vertical-align: middle;\n",
       "    }\n",
       "\n",
       "    .dataframe tbody tr th {\n",
       "        vertical-align: top;\n",
       "    }\n",
       "\n",
       "    .dataframe thead th {\n",
       "        text-align: right;\n",
       "    }\n",
       "</style>\n",
       "<table border=\"1\" class=\"dataframe\">\n",
       "  <thead>\n",
       "    <tr style=\"text-align: right;\">\n",
       "      <th></th>\n",
       "      <th>image_name</th>\n",
       "      <th>BoxesString</th>\n",
       "      <th>domain</th>\n",
       "      <th>country</th>\n",
       "      <th>location</th>\n",
       "      <th>development_stage</th>\n",
       "    </tr>\n",
       "  </thead>\n",
       "  <tbody>\n",
       "    <tr>\n",
       "      <th>3821</th>\n",
       "      <td>da9846512ff19b8cd7278c8c973f75d36de8c4eb4e593b...</td>\n",
       "      <td>950 39 986 165;725 2 776 226;660 31 720 92;797...</td>\n",
       "      <td>CIMMYT_1</td>\n",
       "      <td>Mexico</td>\n",
       "      <td>Ciudad Obregon</td>\n",
       "      <td>Post-flowering</td>\n",
       "    </tr>\n",
       "    <tr>\n",
       "      <th>3948</th>\n",
       "      <td>da9846512ff19b8cd7278c8c973f75d36de8c4eb4e593b...</td>\n",
       "      <td>733 0 837 49;688 96 998 196;792 433 843 461;73...</td>\n",
       "      <td>CIMMYT_3</td>\n",
       "      <td>Mexico</td>\n",
       "      <td>Ciudad Obregon</td>\n",
       "      <td>Post-flowering</td>\n",
       "    </tr>\n",
       "  </tbody>\n",
       "</table>\n",
       "</div>"
      ],
      "text/plain": [
       "                                             image_name  \\\n",
       "3821  da9846512ff19b8cd7278c8c973f75d36de8c4eb4e593b...   \n",
       "3948  da9846512ff19b8cd7278c8c973f75d36de8c4eb4e593b...   \n",
       "\n",
       "                                            BoxesString    domain country  \\\n",
       "3821  950 39 986 165;725 2 776 226;660 31 720 92;797...  CIMMYT_1  Mexico   \n",
       "3948  733 0 837 49;688 96 998 196;792 433 843 461;73...  CIMMYT_3  Mexico   \n",
       "\n",
       "            location development_stage  \n",
       "3821  Ciudad Obregon    Post-flowering  \n",
       "3948  Ciudad Obregon    Post-flowering  "
      ]
     },
     "execution_count": 40,
     "metadata": {},
     "output_type": "execute_result"
    }
   ],
   "source": [
    "df[df.image_name == df.iloc[3948, 0]]"
   ]
  },
  {
   "cell_type": "markdown",
   "id": "8fb3d705",
   "metadata": {},
   "source": [
    "Once we define functions to display images with bounding boxes, we'll need to make sure to check out the duplicates detected above. "
   ]
  },
  {
   "cell_type": "code",
   "execution_count": 43,
   "id": "64f4cd22",
   "metadata": {},
   "outputs": [],
   "source": [
    "#create data directory path and count images\n",
    "data_dir = pathlib.Path('gwhd_2021/images')"
   ]
  },
  {
   "cell_type": "code",
   "execution_count": 44,
   "id": "2552ea53",
   "metadata": {},
   "outputs": [],
   "source": [
    "images = list(data_dir.glob('*.jpg'))"
   ]
  },
  {
   "cell_type": "code",
   "execution_count": 45,
   "id": "93c470f4",
   "metadata": {},
   "outputs": [],
   "source": [
    "df2 = df.copy()"
   ]
  },
  {
   "cell_type": "code",
   "execution_count": 46,
   "id": "919fade4",
   "metadata": {},
   "outputs": [],
   "source": [
    "for i, row in df2.iterrows():\n",
    "    row['BoxesString'] = list(row['BoxesString'].split(';'))\n",
    "    \n",
    "df2 = df2.explode('BoxesString')\n",
    "    \n",
    "for i, row in df2.iterrows():\n",
    "    row['BoxesString'] = list(row['BoxesString'].split(' '))"
   ]
  },
  {
   "cell_type": "code",
   "execution_count": 58,
   "id": "4660e656",
   "metadata": {},
   "outputs": [],
   "source": [
    "df2.BoxesString = df2.BoxesString.apply(lambda y: list('0 0 0 0'.split(\" \")) if len(y)==1 else y)"
   ]
  },
  {
   "cell_type": "code",
   "execution_count": 61,
   "id": "5e95c648",
   "metadata": {},
   "outputs": [],
   "source": [
    "bbox_xmin = []\n",
    "bbox_ymin = []\n",
    "bbox_width = []\n",
    "bbox_height = []"
   ]
  },
  {
   "cell_type": "code",
   "execution_count": 63,
   "id": "b1f29784",
   "metadata": {},
   "outputs": [],
   "source": [
    "df_lst = list(df2.BoxesString)"
   ]
  },
  {
   "cell_type": "code",
   "execution_count": 64,
   "id": "61072829",
   "metadata": {},
   "outputs": [],
   "source": [
    "for bbox_lst in df_lst:\n",
    "    bbox_xmin.append(bbox_lst[0])\n",
    "    bbox_ymin.append(bbox_lst[1])\n",
    "    bbox_width.append(bbox_lst[2])\n",
    "    bbox_height.append(bbox_lst[3])"
   ]
  },
  {
   "cell_type": "code",
   "execution_count": 66,
   "id": "00d18f26",
   "metadata": {},
   "outputs": [],
   "source": [
    "df2['bbox_xmin'] = bbox_xmin\n",
    "df2['bbox_ymin'] = bbox_ymin\n",
    "df2['bbox_xmax'] = bbox_width\n",
    "df2['bbox_ymax'] = bbox_height"
   ]
  },
  {
   "cell_type": "code",
   "execution_count": 68,
   "id": "e3da9e1f",
   "metadata": {},
   "outputs": [],
   "source": [
    "df2.reset_index(inplace=True, drop=True)"
   ]
  },
  {
   "cell_type": "code",
   "execution_count": 69,
   "id": "4e47a8c3",
   "metadata": {
    "scrolled": true
   },
   "outputs": [
    {
     "data": {
      "text/html": [
       "<div>\n",
       "<style scoped>\n",
       "    .dataframe tbody tr th:only-of-type {\n",
       "        vertical-align: middle;\n",
       "    }\n",
       "\n",
       "    .dataframe tbody tr th {\n",
       "        vertical-align: top;\n",
       "    }\n",
       "\n",
       "    .dataframe thead th {\n",
       "        text-align: right;\n",
       "    }\n",
       "</style>\n",
       "<table border=\"1\" class=\"dataframe\">\n",
       "  <thead>\n",
       "    <tr style=\"text-align: right;\">\n",
       "      <th></th>\n",
       "      <th>image_name</th>\n",
       "      <th>BoxesString</th>\n",
       "      <th>domain</th>\n",
       "      <th>country</th>\n",
       "      <th>location</th>\n",
       "      <th>development_stage</th>\n",
       "      <th>bbox_xmin</th>\n",
       "      <th>bbox_ymin</th>\n",
       "      <th>bbox_xmax</th>\n",
       "      <th>bbox_ymax</th>\n",
       "    </tr>\n",
       "  </thead>\n",
       "  <tbody>\n",
       "    <tr>\n",
       "      <th>0</th>\n",
       "      <td>4563856cc6d75c670eafd86d5eb7245fbe8f273c28f9e3...</td>\n",
       "      <td>[99, 692, 160, 764]</td>\n",
       "      <td>Arvalis_1</td>\n",
       "      <td>France</td>\n",
       "      <td>Gréoux</td>\n",
       "      <td>Post-flowering</td>\n",
       "      <td>99</td>\n",
       "      <td>692</td>\n",
       "      <td>160</td>\n",
       "      <td>764</td>\n",
       "    </tr>\n",
       "    <tr>\n",
       "      <th>1</th>\n",
       "      <td>4563856cc6d75c670eafd86d5eb7245fbe8f273c28f9e3...</td>\n",
       "      <td>[641, 27, 697, 115]</td>\n",
       "      <td>Arvalis_1</td>\n",
       "      <td>France</td>\n",
       "      <td>Gréoux</td>\n",
       "      <td>Post-flowering</td>\n",
       "      <td>641</td>\n",
       "      <td>27</td>\n",
       "      <td>697</td>\n",
       "      <td>115</td>\n",
       "    </tr>\n",
       "    <tr>\n",
       "      <th>2</th>\n",
       "      <td>4563856cc6d75c670eafd86d5eb7245fbe8f273c28f9e3...</td>\n",
       "      <td>[935, 978, 1012, 1020]</td>\n",
       "      <td>Arvalis_1</td>\n",
       "      <td>France</td>\n",
       "      <td>Gréoux</td>\n",
       "      <td>Post-flowering</td>\n",
       "      <td>935</td>\n",
       "      <td>978</td>\n",
       "      <td>1012</td>\n",
       "      <td>1020</td>\n",
       "    </tr>\n",
       "    <tr>\n",
       "      <th>3</th>\n",
       "      <td>4563856cc6d75c670eafd86d5eb7245fbe8f273c28f9e3...</td>\n",
       "      <td>[377, 834, 463, 890]</td>\n",
       "      <td>Arvalis_1</td>\n",
       "      <td>France</td>\n",
       "      <td>Gréoux</td>\n",
       "      <td>Post-flowering</td>\n",
       "      <td>377</td>\n",
       "      <td>834</td>\n",
       "      <td>463</td>\n",
       "      <td>890</td>\n",
       "    </tr>\n",
       "    <tr>\n",
       "      <th>4</th>\n",
       "      <td>4563856cc6d75c670eafd86d5eb7245fbe8f273c28f9e3...</td>\n",
       "      <td>[654, 797, 696, 837]</td>\n",
       "      <td>Arvalis_1</td>\n",
       "      <td>France</td>\n",
       "      <td>Gréoux</td>\n",
       "      <td>Post-flowering</td>\n",
       "      <td>654</td>\n",
       "      <td>797</td>\n",
       "      <td>696</td>\n",
       "      <td>837</td>\n",
       "    </tr>\n",
       "  </tbody>\n",
       "</table>\n",
       "</div>"
      ],
      "text/plain": [
       "                                          image_name             BoxesString  \\\n",
       "0  4563856cc6d75c670eafd86d5eb7245fbe8f273c28f9e3...     [99, 692, 160, 764]   \n",
       "1  4563856cc6d75c670eafd86d5eb7245fbe8f273c28f9e3...     [641, 27, 697, 115]   \n",
       "2  4563856cc6d75c670eafd86d5eb7245fbe8f273c28f9e3...  [935, 978, 1012, 1020]   \n",
       "3  4563856cc6d75c670eafd86d5eb7245fbe8f273c28f9e3...    [377, 834, 463, 890]   \n",
       "4  4563856cc6d75c670eafd86d5eb7245fbe8f273c28f9e3...    [654, 797, 696, 837]   \n",
       "\n",
       "      domain country location development_stage bbox_xmin bbox_ymin bbox_xmax  \\\n",
       "0  Arvalis_1  France   Gréoux    Post-flowering        99       692       160   \n",
       "1  Arvalis_1  France   Gréoux    Post-flowering       641        27       697   \n",
       "2  Arvalis_1  France   Gréoux    Post-flowering       935       978      1012   \n",
       "3  Arvalis_1  France   Gréoux    Post-flowering       377       834       463   \n",
       "4  Arvalis_1  France   Gréoux    Post-flowering       654       797       696   \n",
       "\n",
       "  bbox_ymax  \n",
       "0       764  \n",
       "1       115  \n",
       "2      1020  \n",
       "3       890  \n",
       "4       837  "
      ]
     },
     "execution_count": 69,
     "metadata": {},
     "output_type": "execute_result"
    }
   ],
   "source": [
    "df2.head()"
   ]
  },
  {
   "cell_type": "code",
   "execution_count": null,
   "id": "14d3a3b9",
   "metadata": {},
   "outputs": [],
   "source": []
  },
  {
   "cell_type": "code",
   "execution_count": null,
   "id": "ed2f4a2e",
   "metadata": {},
   "outputs": [],
   "source": []
  },
  {
   "cell_type": "code",
   "execution_count": null,
   "id": "f0e77de2",
   "metadata": {},
   "outputs": [],
   "source": []
  },
  {
   "cell_type": "code",
   "execution_count": null,
   "id": "ee40a59a",
   "metadata": {},
   "outputs": [],
   "source": []
  },
  {
   "cell_type": "code",
   "execution_count": null,
   "id": "290066cd",
   "metadata": {},
   "outputs": [],
   "source": []
  },
  {
   "cell_type": "code",
   "execution_count": null,
   "id": "9d9c9972",
   "metadata": {},
   "outputs": [],
   "source": []
  },
  {
   "cell_type": "code",
   "execution_count": null,
   "id": "fc2805a6",
   "metadata": {},
   "outputs": [],
   "source": []
  },
  {
   "cell_type": "code",
   "execution_count": null,
   "id": "3c8c0352",
   "metadata": {},
   "outputs": [],
   "source": []
  },
  {
   "cell_type": "code",
   "execution_count": null,
   "id": "96cd5d7e",
   "metadata": {},
   "outputs": [],
   "source": []
  },
  {
   "cell_type": "code",
   "execution_count": null,
   "id": "113ad016",
   "metadata": {},
   "outputs": [],
   "source": []
  },
  {
   "cell_type": "code",
   "execution_count": null,
   "id": "68cb4538",
   "metadata": {},
   "outputs": [],
   "source": []
  },
  {
   "cell_type": "code",
   "execution_count": null,
   "id": "336c5c42",
   "metadata": {},
   "outputs": [],
   "source": []
  },
  {
   "cell_type": "code",
   "execution_count": null,
   "id": "f47781a7",
   "metadata": {},
   "outputs": [],
   "source": []
  },
  {
   "cell_type": "code",
   "execution_count": null,
   "id": "030c3074",
   "metadata": {},
   "outputs": [],
   "source": []
  },
  {
   "cell_type": "code",
   "execution_count": null,
   "id": "ed20b69f",
   "metadata": {},
   "outputs": [],
   "source": []
  },
  {
   "cell_type": "code",
   "execution_count": null,
   "id": "4ef7c209",
   "metadata": {},
   "outputs": [],
   "source": []
  },
  {
   "cell_type": "code",
   "execution_count": null,
   "id": "a71d0500",
   "metadata": {},
   "outputs": [],
   "source": []
  },
  {
   "cell_type": "code",
   "execution_count": null,
   "id": "43c0f811",
   "metadata": {},
   "outputs": [],
   "source": []
  },
  {
   "cell_type": "code",
   "execution_count": null,
   "id": "af348411",
   "metadata": {},
   "outputs": [],
   "source": []
  },
  {
   "cell_type": "code",
   "execution_count": null,
   "id": "948734f8",
   "metadata": {},
   "outputs": [],
   "source": []
  },
  {
   "cell_type": "code",
   "execution_count": null,
   "id": "ec56eba8",
   "metadata": {},
   "outputs": [],
   "source": []
  },
  {
   "cell_type": "code",
   "execution_count": null,
   "id": "e891a9b5",
   "metadata": {},
   "outputs": [],
   "source": []
  },
  {
   "cell_type": "code",
   "execution_count": null,
   "id": "1e7b4e92",
   "metadata": {},
   "outputs": [],
   "source": []
  },
  {
   "cell_type": "code",
   "execution_count": null,
   "id": "45a3e052",
   "metadata": {},
   "outputs": [],
   "source": []
  }
 ],
 "metadata": {
  "kernelspec": {
   "display_name": "Python 3 (ipykernel)",
   "language": "python",
   "name": "python3"
  },
  "language_info": {
   "codemirror_mode": {
    "name": "ipython",
    "version": 3
   },
   "file_extension": ".py",
   "mimetype": "text/x-python",
   "name": "python",
   "nbconvert_exporter": "python",
   "pygments_lexer": "ipython3",
   "version": "3.8.8"
  }
 },
 "nbformat": 4,
 "nbformat_minor": 5
}
