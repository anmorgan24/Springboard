{
 "cells": [
  {
   "cell_type": "markdown",
   "id": "090b9035",
   "metadata": {},
   "source": [
    "# Learning the Handwritten Digits"
   ]
  },
  {
   "cell_type": "markdown",
   "id": "8f2d95f3",
   "metadata": {},
   "source": [
    "You're going to build a model on the digits dataset, a sample dataset that comes pre-loaded with scikit learn. The digits dataset consist of 8x8 pixel handwritten digits from 0 to 9:\n",
    "\n",
    "<img src='data/digs.png' width=\"600\" height=\"300\" align=\"center\"/>\n",
    "\n",
    "You want to distinguish between each of the 10 possible digits given an image, so we are dealing with multi-class classification."
   ]
  },
  {
   "cell_type": "code",
   "execution_count": 1,
   "id": "55bd6685",
   "metadata": {},
   "outputs": [],
   "source": [
    "import pandas as pd\n",
    "import numpy as np\n",
    "import tensorflow as tf\n",
    "import tensorflow.keras as keras\n",
    "from tensorflow.keras.utils import to_categorical\n",
    "from tensorflow.keras.callbacks import EarlyStopping\n",
    "from sklearn.model_selection import train_test_split\n",
    "import matplotlib.pyplot as plt\n",
    "import seaborn as sns"
   ]
  },
  {
   "cell_type": "code",
   "execution_count": 2,
   "id": "12c6b849",
   "metadata": {},
   "outputs": [],
   "source": [
    "plt.rcParams['figure.figsize'] = (10, 8)"
   ]
  },
  {
   "cell_type": "code",
   "execution_count": 3,
   "id": "7ab6f664",
   "metadata": {},
   "outputs": [],
   "source": [
    "X = np.load('Digits/digits_pixels.npy')\n",
    "y = np.load('Digits/digits_target.npy')"
   ]
  },
  {
   "cell_type": "code",
   "execution_count": 4,
   "id": "980d2ba6",
   "metadata": {},
   "outputs": [],
   "source": [
    "y = to_categorical(y)"
   ]
  },
  {
   "cell_type": "code",
   "execution_count": 5,
   "id": "417b5776",
   "metadata": {},
   "outputs": [],
   "source": [
    "X_train, X_test, y_train, y_test = train_test_split(X, y, test_size=0.3)"
   ]
  },
  {
   "cell_type": "code",
   "execution_count": 6,
   "id": "f605b8f5",
   "metadata": {},
   "outputs": [
    {
     "data": {
      "text/plain": [
       "(1257, 64)"
      ]
     },
     "execution_count": 6,
     "metadata": {},
     "output_type": "execute_result"
    }
   ],
   "source": [
    "X_train.shape"
   ]
  },
  {
   "cell_type": "code",
   "execution_count": 7,
   "id": "47bd606e",
   "metadata": {},
   "outputs": [
    {
     "data": {
      "text/plain": [
       "(1257, 10)"
      ]
     },
     "execution_count": 7,
     "metadata": {},
     "output_type": "execute_result"
    }
   ],
   "source": [
    "y_train.shape"
   ]
  },
  {
   "cell_type": "code",
   "execution_count": 8,
   "id": "1b3fef99",
   "metadata": {},
   "outputs": [
    {
     "data": {
      "text/plain": [
       "array([[ 0.,  0.,  2., ...,  6.,  0.,  0.],\n",
       "       [ 0.,  1., 12., ...,  4.,  0.,  0.],\n",
       "       [ 0.,  2., 12., ..., 15.,  3.,  0.],\n",
       "       ...,\n",
       "       [ 0.,  0., 10., ...,  0.,  0.,  0.],\n",
       "       [ 0.,  0.,  8., ...,  0.,  0.,  0.],\n",
       "       [ 0.,  0.,  5., ..., 10.,  0.,  0.]])"
      ]
     },
     "execution_count": 8,
     "metadata": {},
     "output_type": "execute_result"
    }
   ],
   "source": [
    "X_train"
   ]
  },
  {
   "cell_type": "code",
   "execution_count": 9,
   "id": "f3707e47",
   "metadata": {},
   "outputs": [
    {
     "name": "stdout",
     "output_type": "stream",
     "text": [
      "[[2.05751171e-12 1.98997711e-11 1.34604886e-06 ... 7.02296693e-11\n",
      "  8.35544267e-14 9.20600314e-07]\n",
      " [1.55926727e-09 3.18588850e-10 1.28818443e-04 ... 7.47401530e-10\n",
      "  2.11429324e-05 3.72808245e-06]\n",
      " [3.05174530e-09 1.13028116e-04 4.60032150e-02 ... 7.26054106e-10\n",
      "  5.51081136e-08 1.79474847e-03]\n",
      " ...\n",
      " [8.18240709e-16 1.13627361e-17 4.15637480e-08 ... 1.75668901e-13\n",
      "  8.19149690e-08 3.44483451e-05]\n",
      " [5.95816396e-10 2.74607059e-10 5.34245664e-05 ... 4.53113502e-09\n",
      "  1.87081710e-08 1.96563869e-05]\n",
      " [8.40130021e-10 3.63650457e-07 1.81590417e-06 ... 4.58527730e-11\n",
      "  5.30120822e-15 7.23735116e-09]]\n"
     ]
    },
    {
     "name": "stderr",
     "output_type": "stream",
     "text": [
      "2022-01-18 18:11:37.494524: I tensorflow/compiler/jit/xla_cpu_device.cc:41] Not creating XLA devices, tf_xla_enable_xla_devices not set\n",
      "2022-01-18 18:11:37.494841: I tensorflow/core/platform/cpu_feature_guard.cc:142] This TensorFlow binary is optimized with oneAPI Deep Neural Network Library (oneDNN) to use the following CPU instructions in performance-critical operations:  AVX2 FMA\n",
      "To enable them in other operations, rebuild TensorFlow with the appropriate compiler flags.\n",
      "2022-01-18 18:11:37.554862: I tensorflow/compiler/mlir/mlir_graph_optimization_pass.cc:116] None of the MLIR optimization passes are enabled (registered 2)\n"
     ]
    }
   ],
   "source": [
    "# Instantiate a Sequential model\n",
    "model = keras.Sequential()\n",
    "\n",
    "# Input and hidden layer with input_shape, 16 neurons, and relu \n",
    "model.add(keras.layers.Dense(16, input_shape = (64,), activation = 'relu'))\n",
    "\n",
    "# Output layer with 10 neurons (one per digit) and softmax\n",
    "model.add(keras.layers.Dense(10, activation='softmax'))\n",
    "\n",
    "# Compile your model\n",
    "model.compile(optimizer = 'adam', loss = 'categorical_crossentropy', metrics = ['accuracy'])\n",
    "\n",
    "# Test if your model is well assembled by predicting before training\n",
    "print(model.predict(X_train))"
   ]
  },
  {
   "cell_type": "markdown",
   "id": "b6232928",
   "metadata": {},
   "source": [
    "**Tip:** Predicting on training data inputs before training can help you quickly check that your model works as expected!"
   ]
  },
  {
   "cell_type": "markdown",
   "id": "28e2ccd0",
   "metadata": {},
   "source": [
    "### Is the model overfitting?"
   ]
  },
  {
   "cell_type": "code",
   "execution_count": 10,
   "id": "783cc0f3",
   "metadata": {},
   "outputs": [],
   "source": [
    "def plot_loss(loss,val_loss):\n",
    "    plt.figure()\n",
    "    plt.plot(loss)\n",
    "    plt.plot(val_loss)\n",
    "    plt.title('Model loss')\n",
    "    plt.ylabel('Loss')\n",
    "    plt.xlabel('Epoch')\n",
    "    plt.legend(['Train', 'Test'], loc='upper right')"
   ]
  },
  {
   "cell_type": "code",
   "execution_count": 11,
   "id": "f3c303c0",
   "metadata": {},
   "outputs": [
    {
     "data": {
      "image/png": "[encoded data removed]",
      "text/plain": [
       "<Figure size 720x576 with 1 Axes>"
      ]
     },
     "metadata": {
      "needs_background": "light"
     },
     "output_type": "display_data"
    }
   ],
   "source": [
    "# Train your model for 60 epochs, using X_test and y_test as validation data\n",
    "h_callback = model.fit(X_train, y_train, epochs = 60, validation_data = (X_test, y_test), verbose=0)\n",
    "\n",
    "# Extract from the h_callback object loss and val_loss to plot the learning curve\n",
    "plot_loss(h_callback.history['loss'], h_callback.history['val_loss'])"
   ]
  },
  {
   "cell_type": "markdown",
   "id": "48566d3e",
   "metadata": {},
   "source": [
    "We can see that while it doesn't appear that the model certainly isn't improving significantly anymore at around 60 epochs, it also does *not* appear to be overfitting. Could the model benefit from more training examples? Let's find out.\n",
    "\n",
    "### Do we need more data?\n",
    "Train your model on the different training sizes and evaluate the results on `X_test`. End by plotting the results with `plot_results()`.\n"
   ]
  },
  {
   "cell_type": "code",
   "execution_count": 12,
   "id": "b81e1f45",
   "metadata": {},
   "outputs": [],
   "source": [
    "def plot_results(train_accs,test_accs):\n",
    "    plt.plot(training_sizes, train_accs, 'o-', label=\"Training Accuracy\")\n",
    "    plt.plot(training_sizes, test_accs, 'o-', label=\"Test Accuracy\")\n",
    "    plt.title('Accuracy vs Number of training samples')\n",
    "    plt.xlabel('# of training samples')\n",
    "    plt.ylabel('Accuracy')\n",
    "    plt.legend(loc=\"best\")"
   ]
  },
  {
   "cell_type": "code",
   "execution_count": 13,
   "id": "991fb563",
   "metadata": {},
   "outputs": [],
   "source": [
    "initial_weights = model.get_weights()"
   ]
  },
  {
   "cell_type": "code",
   "execution_count": 14,
   "id": "071d35ca",
   "metadata": {},
   "outputs": [],
   "source": [
    "early_stop = EarlyStopping(monitor='loss', patience=1)\n",
    "train_accs, test_accs = [], []\n",
    "training_sizes = [125, 502, 879, 1255]"
   ]
  },
  {
   "cell_type": "code",
   "execution_count": 15,
   "id": "185a03e7",
   "metadata": {},
   "outputs": [
    {
     "name": "stdout",
     "output_type": "stream",
     "text": [
      "Epoch 1/50\n",
      "4/4 [==============================] - 0s 891us/step - loss: 0.0246 - accuracy: 1.0000\n",
      "Epoch 2/50\n",
      "4/4 [==============================] - 0s 2ms/step - loss: 0.0217 - accuracy: 1.0000\n",
      "Epoch 3/50\n",
      "4/4 [==============================] - 0s 1ms/step - loss: 0.0203 - accuracy: 1.0000\n",
      "Epoch 4/50\n",
      "4/4 [==============================] - 0s 1ms/step - loss: 0.0198 - accuracy: 1.0000\n",
      "Epoch 5/50\n",
      "4/4 [==============================] - 0s 997us/step - loss: 0.0178 - accuracy: 1.0000\n",
      "Epoch 6/50\n",
      "4/4 [==============================] - 0s 984us/step - loss: 0.0168 - accuracy: 1.0000\n",
      "Epoch 7/50\n",
      "4/4 [==============================] - 0s 1ms/step - loss: 0.0158 - accuracy: 1.0000\n",
      "Epoch 8/50\n",
      "4/4 [==============================] - 0s 1ms/step - loss: 0.0148 - accuracy: 1.0000\n",
      "Epoch 9/50\n",
      "4/4 [==============================] - 0s 1ms/step - loss: 0.0140 - accuracy: 1.0000\n",
      "Epoch 10/50\n",
      "4/4 [==============================] - 0s 1ms/step - loss: 0.0135 - accuracy: 1.0000\n",
      "Epoch 11/50\n",
      "4/4 [==============================] - 0s 1ms/step - loss: 0.0129 - accuracy: 1.0000\n",
      "Epoch 12/50\n",
      "4/4 [==============================] - 0s 1ms/step - loss: 0.0125 - accuracy: 1.0000\n",
      "Epoch 13/50\n",
      "4/4 [==============================] - 0s 1ms/step - loss: 0.0119 - accuracy: 1.0000\n",
      "Epoch 14/50\n",
      "4/4 [==============================] - 0s 1ms/step - loss: 0.0116 - accuracy: 1.0000\n",
      "Epoch 15/50\n",
      "4/4 [==============================] - 0s 1ms/step - loss: 0.0113 - accuracy: 1.0000\n",
      "Epoch 16/50\n",
      "4/4 [==============================] - 0s 2ms/step - loss: 0.0109 - accuracy: 1.0000\n",
      "Epoch 17/50\n",
      "4/4 [==============================] - 0s 1ms/step - loss: 0.0105 - accuracy: 1.0000\n",
      "Epoch 18/50\n",
      "4/4 [==============================] - 0s 1ms/step - loss: 0.0103 - accuracy: 1.0000\n",
      "Epoch 19/50\n",
      "4/4 [==============================] - 0s 973us/step - loss: 0.0101 - accuracy: 1.0000\n",
      "Epoch 20/50\n",
      "4/4 [==============================] - 0s 1ms/step - loss: 0.0098 - accuracy: 1.0000\n",
      "Epoch 21/50\n",
      "4/4 [==============================] - 0s 1ms/step - loss: 0.0096 - accuracy: 1.0000\n",
      "Epoch 22/50\n",
      "4/4 [==============================] - 0s 1ms/step - loss: 0.0093 - accuracy: 1.0000\n",
      "Epoch 23/50\n",
      "4/4 [==============================] - 0s 1ms/step - loss: 0.0092 - accuracy: 1.0000\n",
      "Epoch 24/50\n",
      "4/4 [==============================] - 0s 1ms/step - loss: 0.0089 - accuracy: 1.0000\n",
      "Epoch 25/50\n",
      "4/4 [==============================] - 0s 1ms/step - loss: 0.0087 - accuracy: 1.0000\n",
      "Epoch 26/50\n",
      "4/4 [==============================] - 0s 1ms/step - loss: 0.0086 - accuracy: 1.0000\n",
      "Epoch 27/50\n",
      "4/4 [==============================] - 0s 1ms/step - loss: 0.0084 - accuracy: 1.0000\n",
      "Epoch 28/50\n",
      "4/4 [==============================] - 0s 982us/step - loss: 0.0083 - accuracy: 1.0000\n",
      "Epoch 29/50\n",
      "4/4 [==============================] - 0s 1ms/step - loss: 0.0081 - accuracy: 1.0000\n",
      "Epoch 30/50\n",
      "4/4 [==============================] - 0s 1ms/step - loss: 0.0080 - accuracy: 1.0000\n",
      "Epoch 31/50\n",
      "4/4 [==============================] - 0s 1ms/step - loss: 0.0079 - accuracy: 1.0000\n",
      "Epoch 32/50\n",
      "4/4 [==============================] - 0s 1ms/step - loss: 0.0077 - accuracy: 1.0000\n",
      "Epoch 33/50\n",
      "4/4 [==============================] - 0s 986us/step - loss: 0.0076 - accuracy: 1.0000\n",
      "Epoch 34/50\n",
      "4/4 [==============================] - 0s 1ms/step - loss: 0.0075 - accuracy: 1.0000\n",
      "Epoch 35/50\n",
      "4/4 [==============================] - 0s 1ms/step - loss: 0.0074 - accuracy: 1.0000\n",
      "Epoch 36/50\n",
      "4/4 [==============================] - 0s 1ms/step - loss: 0.0072 - accuracy: 1.0000\n",
      "Epoch 37/50\n",
      "4/4 [==============================] - 0s 2ms/step - loss: 0.0071 - accuracy: 1.0000\n",
      "Epoch 38/50\n",
      "4/4 [==============================] - 0s 1ms/step - loss: 0.0070 - accuracy: 1.0000\n",
      "Epoch 39/50\n",
      "4/4 [==============================] - 0s 1ms/step - loss: 0.0069 - accuracy: 1.0000\n",
      "Epoch 40/50\n",
      "4/4 [==============================] - 0s 1ms/step - loss: 0.0068 - accuracy: 1.0000\n",
      "Epoch 41/50\n",
      "4/4 [==============================] - 0s 1ms/step - loss: 0.0067 - accuracy: 1.0000\n",
      "Epoch 42/50\n",
      "4/4 [==============================] - 0s 1ms/step - loss: 0.0066 - accuracy: 1.0000\n",
      "Epoch 43/50\n",
      "4/4 [==============================] - 0s 1ms/step - loss: 0.0065 - accuracy: 1.0000\n",
      "Epoch 44/50\n",
      "4/4 [==============================] - 0s 1ms/step - loss: 0.0065 - accuracy: 1.0000\n",
      "Epoch 45/50\n",
      "4/4 [==============================] - 0s 1ms/step - loss: 0.0064 - accuracy: 1.0000\n",
      "Epoch 46/50\n",
      "4/4 [==============================] - 0s 1ms/step - loss: 0.0063 - accuracy: 1.0000\n",
      "Epoch 47/50\n",
      "4/4 [==============================] - 0s 1ms/step - loss: 0.0062 - accuracy: 1.0000\n",
      "Epoch 48/50\n",
      "4/4 [==============================] - 0s 2ms/step - loss: 0.0061 - accuracy: 1.0000\n",
      "Epoch 49/50\n",
      "4/4 [==============================] - 0s 1ms/step - loss: 0.0061 - accuracy: 1.0000\n",
      "Epoch 50/50\n",
      "4/4 [==============================] - 0s 1ms/step - loss: 0.0060 - accuracy: 1.0000\n",
      "4/4 [==============================] - 0s 1ms/step - loss: 0.0059 - accuracy: 1.0000\n",
      "17/17 [==============================] - 0s 646us/step - loss: 0.1363 - accuracy: 0.9500\n",
      "Epoch 1/50\n",
      "16/16 [==============================] - 0s 765us/step - loss: 0.0423 - accuracy: 0.9940\n",
      "Epoch 2/50\n",
      "16/16 [==============================] - 0s 717us/step - loss: 0.0398 - accuracy: 0.9920\n",
      "Epoch 3/50\n",
      "16/16 [==============================] - 0s 834us/step - loss: 0.0372 - accuracy: 0.9940\n",
      "Epoch 4/50\n",
      "16/16 [==============================] - 0s 813us/step - loss: 0.0353 - accuracy: 0.9940\n",
      "Epoch 5/50\n",
      "16/16 [==============================] - 0s 784us/step - loss: 0.0345 - accuracy: 0.9940\n",
      "Epoch 6/50\n",
      "16/16 [==============================] - 0s 678us/step - loss: 0.0329 - accuracy: 0.9960\n",
      "Epoch 7/50\n",
      "16/16 [==============================] - 0s 932us/step - loss: 0.0340 - accuracy: 0.9940\n",
      "16/16 [==============================] - 0s 776us/step - loss: 0.0293 - accuracy: 0.9960\n",
      "17/17 [==============================] - 0s 1ms/step - loss: 0.1253 - accuracy: 0.9611\n",
      "Epoch 1/50\n",
      "28/28 [==============================] - 0s 710us/step - loss: 0.0412 - accuracy: 0.9943\n",
      "Epoch 2/50\n",
      "28/28 [==============================] - 0s 649us/step - loss: 0.0412 - accuracy: 0.9943\n",
      "28/28 [==============================] - 0s 516us/step - loss: 0.0374 - accuracy: 0.9954\n",
      "17/17 [==============================] - 0s 574us/step - loss: 0.1263 - accuracy: 0.9537\n",
      "Epoch 1/50\n",
      "40/40 [==============================] - 0s 640us/step - loss: 0.0374 - accuracy: 0.9936\n",
      "Epoch 2/50\n",
      "40/40 [==============================] - 0s 669us/step - loss: 0.0381 - accuracy: 0.9936\n",
      "40/40 [==============================] - 0s 490us/step - loss: 0.0327 - accuracy: 0.9960\n",
      "17/17 [==============================] - 0s 723us/step - loss: 0.1272 - accuracy: 0.9630\n"
     ]
    }
   ],
   "source": [
    "for size in training_sizes:\n",
    "  \t# Get a fraction of training data (we only care about the training data)\n",
    "    X_train_frac, y_train_frac = X_train[:size], y_train[:size]\n",
    "\n",
    "    # Reset the model to the initial weights and train it on the new training data fraction\n",
    "    model.set_weights(initial_weights)\n",
    "    model.fit(X_train_frac, y_train_frac, epochs = 50, callbacks = [early_stop])\n",
    "\n",
    "    # Evaluate and store both: the training data fraction and the complete test set results\n",
    "    train_accs.append(model.evaluate(X_train_frac, y_train_frac)[1])\n",
    "    test_accs.append(model.evaluate(X_test, y_test)[1])"
   ]
  },
  {
   "cell_type": "code",
   "execution_count": 16,
   "id": "601fa958",
   "metadata": {},
   "outputs": [
    {
     "data": {
      "image/png": "[encoded data removed]",
      "text/plain": [
       "<Figure size 720x576 with 1 Axes>"
      ]
     },
     "metadata": {
      "needs_background": "light"
     },
     "output_type": "display_data"
    }
   ],
   "source": [
    "# Plot train vs test accuracies\n",
    "plot_results(train_accs, test_accs)"
   ]
  },
  {
   "cell_type": "markdown",
   "id": "a7bd4d57",
   "metadata": {},
   "source": [
    "The results suggest that your model would not benefit much from more training data, since the test set accuracy is already starting to flatten. It's time to look at activation funtions!"
   ]
  },
  {
   "cell_type": "code",
   "execution_count": null,
   "id": "8b6fd3be",
   "metadata": {},
   "outputs": [],
   "source": []
  }
 ],
 "metadata": {
  "kernelspec": {
   "display_name": "Python 3.8 (tensorflow)",
   "language": "python",
   "name": "tensorflow"
  },
  "language_info": {
   "codemirror_mode": {
    "name": "ipython",
    "version": 3
   },
   "file_extension": ".py",
   "mimetype": "text/x-python",
   "name": "python",
   "nbconvert_exporter": "python",
   "pygments_lexer": "ipython3",
   "version": "3.8.12"
  }
 },
 "nbformat": 4,
 "nbformat_minor": 5
}
