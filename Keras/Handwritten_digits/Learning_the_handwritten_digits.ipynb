{
 "cells": [
  {
   "cell_type": "markdown",
   "id": "0abc2661",
   "metadata": {},
   "source": [
    "# Learning the Handwritten Digits"
   ]
  },
  {
   "cell_type": "markdown",
   "id": "548d99d9",
   "metadata": {},
   "source": [
    "You're going to build a model on the digits dataset, a sample dataset that comes pre-loaded with scikit learn. The digits dataset consist of 8x8 pixel handwritten digits from 0 to 9:\n",
    "\n",
    "<img src='data/digs.png' width=\"600\" height=\"300\" align=\"center\"/>\n",
    "\n",
    "You want to distinguish between each of the 10 possible digits given an image, so we are dealing with multi-class classification."
   ]
  },
  {
   "cell_type": "code",
   "execution_count": 1,
   "id": "84e27206",
   "metadata": {},
   "outputs": [],
   "source": [
    "import pandas as pd\n",
    "import numpy as np\n",
    "import tensorflow as tf\n",
    "import tensorflow.keras as keras\n",
    "from tensorflow.keras.utils import to_categorical\n",
    "from tensorflow.keras.callbacks import EarlyStopping\n",
    "from tensorflow.keras.layers import BatchNormalization\n",
    "from sklearn.model_selection import train_test_split\n",
    "import matplotlib.pyplot as plt\n",
    "import seaborn as sns"
   ]
  },
  {
   "cell_type": "code",
   "execution_count": 2,
   "id": "e454741a",
   "metadata": {},
   "outputs": [],
   "source": [
    "plt.rcParams['figure.figsize'] = (10, 8)"
   ]
  },
  {
   "cell_type": "code",
   "execution_count": 3,
   "id": "34c84f69",
   "metadata": {},
   "outputs": [],
   "source": [
    "X = np.load('Digits/digits_pixels.npy')\n",
    "y = np.load('Digits/digits_target.npy')"
   ]
  },
  {
   "cell_type": "code",
   "execution_count": 4,
   "id": "b1c3dc9e",
   "metadata": {},
   "outputs": [],
   "source": [
    "y = to_categorical(y)"
   ]
  },
  {
   "cell_type": "code",
   "execution_count": 5,
   "id": "245ab4db",
   "metadata": {},
   "outputs": [],
   "source": [
    "X_train, X_test, y_train, y_test = train_test_split(X, y, test_size=0.3)"
   ]
  },
  {
   "cell_type": "code",
   "execution_count": 6,
   "id": "9750c0c6",
   "metadata": {},
   "outputs": [
    {
     "data": {
      "text/plain": [
       "(1257, 64)"
      ]
     },
     "execution_count": 6,
     "metadata": {},
     "output_type": "execute_result"
    }
   ],
   "source": [
    "X_train.shape"
   ]
  },
  {
   "cell_type": "code",
   "execution_count": 7,
   "id": "341005d1",
   "metadata": {},
   "outputs": [
    {
     "data": {
      "text/plain": [
       "(1257, 10)"
      ]
     },
     "execution_count": 7,
     "metadata": {},
     "output_type": "execute_result"
    }
   ],
   "source": [
    "y_train.shape"
   ]
  },
  {
   "cell_type": "code",
   "execution_count": 8,
   "id": "f1e94525",
   "metadata": {},
   "outputs": [
    {
     "data": {
      "text/plain": [
       "array([[ 0.,  0.,  6., ...,  4.,  0.,  0.],\n",
       "       [ 0.,  6., 16., ...,  0.,  0.,  0.],\n",
       "       [ 0.,  0.,  0., ..., 12.,  0.,  0.],\n",
       "       ...,\n",
       "       [ 0.,  0.,  0., ..., 16.,  7.,  0.],\n",
       "       [ 0.,  2., 10., ...,  9.,  0.,  0.],\n",
       "       [ 0.,  0.,  0., ...,  0.,  0.,  0.]])"
      ]
     },
     "execution_count": 8,
     "metadata": {},
     "output_type": "execute_result"
    }
   ],
   "source": [
    "X_train"
   ]
  },
  {
   "cell_type": "code",
   "execution_count": 9,
   "id": "ca62b5c7",
   "metadata": {},
   "outputs": [
    {
     "name": "stdout",
     "output_type": "stream",
     "text": [
      "[[5.50738759e-02 9.31867421e-01 2.50925648e-22 ... 2.45171532e-06\n",
      "  2.36396651e-20 2.90336130e-20]\n",
      " [3.01743676e-05 1.55549366e-02 4.78189399e-09 ... 5.22455848e-05\n",
      "  5.15434184e-09 8.63209171e-10]\n",
      " [1.10966694e-05 5.25155067e-01 2.18392082e-09 ... 8.88825434e-06\n",
      "  8.10437772e-10 3.45739770e-09]\n",
      " ...\n",
      " [4.09615714e-05 9.99819338e-01 7.91469868e-20 ... 1.02723774e-07\n",
      "  5.59722014e-14 5.01660515e-15]\n",
      " [1.27134435e-02 9.86115336e-01 2.36730813e-09 ... 2.37556520e-07\n",
      "  9.94700741e-13 5.41875468e-11]\n",
      " [8.06561002e-05 6.98652506e-01 2.34243865e-20 ... 1.34620370e-06\n",
      "  1.18071575e-16 6.18444852e-18]]\n"
     ]
    },
    {
     "name": "stderr",
     "output_type": "stream",
     "text": [
      "2022-01-18 19:19:56.619502: I tensorflow/compiler/jit/xla_cpu_device.cc:41] Not creating XLA devices, tf_xla_enable_xla_devices not set\n",
      "2022-01-18 19:19:56.619858: I tensorflow/core/platform/cpu_feature_guard.cc:142] This TensorFlow binary is optimized with oneAPI Deep Neural Network Library (oneDNN) to use the following CPU instructions in performance-critical operations:  AVX2 FMA\n",
      "To enable them in other operations, rebuild TensorFlow with the appropriate compiler flags.\n",
      "2022-01-18 19:19:56.681294: I tensorflow/compiler/mlir/mlir_graph_optimization_pass.cc:116] None of the MLIR optimization passes are enabled (registered 2)\n"
     ]
    }
   ],
   "source": [
    "# Instantiate a Sequential model\n",
    "model = keras.Sequential()\n",
    "\n",
    "# Input and hidden layer with input_shape, 16 neurons, and relu \n",
    "model.add(keras.layers.Dense(16, input_shape = (64,), activation = 'relu'))\n",
    "\n",
    "# Output layer with 10 neurons (one per digit) and softmax\n",
    "model.add(keras.layers.Dense(10, activation='softmax'))\n",
    "\n",
    "# Compile your model\n",
    "model.compile(optimizer = 'adam', loss = 'categorical_crossentropy', metrics = ['accuracy'])\n",
    "\n",
    "# Test if your model is well assembled by predicting before training\n",
    "print(model.predict(X_train))"
   ]
  },
  {
   "cell_type": "markdown",
   "id": "f11fe45c",
   "metadata": {},
   "source": [
    "**Tip:** Predicting on training data inputs before training can help you quickly check that your model works as expected!"
   ]
  },
  {
   "cell_type": "markdown",
   "id": "1b5572f2",
   "metadata": {},
   "source": [
    "### Is the model overfitting?"
   ]
  },
  {
   "cell_type": "code",
   "execution_count": 10,
   "id": "b8ae6354",
   "metadata": {},
   "outputs": [],
   "source": [
    "def plot_loss(loss,val_loss):\n",
    "    plt.figure()\n",
    "    plt.plot(loss)\n",
    "    plt.plot(val_loss)\n",
    "    plt.title('Model loss')\n",
    "    plt.ylabel('Loss')\n",
    "    plt.xlabel('Epoch')\n",
    "    plt.legend(['Train', 'Test'], loc='upper right')"
   ]
  },
  {
   "cell_type": "code",
   "execution_count": 11,
   "id": "e1969efd",
   "metadata": {},
   "outputs": [
    {
     "data": {
      "image/png": "[encoded data removed]",
      "text/plain": [
       "<Figure size 720x576 with 1 Axes>"
      ]
     },
     "metadata": {
      "needs_background": "light"
     },
     "output_type": "display_data"
    }
   ],
   "source": [
    "# Train your model for 60 epochs, using X_test and y_test as validation data\n",
    "h_callback = model.fit(X_train, y_train, epochs = 60, validation_data = (X_test, y_test), verbose=0)\n",
    "\n",
    "# Extract from the h_callback object loss and val_loss to plot the learning curve\n",
    "plot_loss(h_callback.history['loss'], h_callback.history['val_loss'])"
   ]
  },
  {
   "cell_type": "markdown",
   "id": "3ab42306",
   "metadata": {},
   "source": [
    "We can see that while it doesn't appear that the model certainly isn't improving significantly anymore at around 60 epochs, it also does *not* appear to be overfitting. Could the model benefit from more training examples? Let's find out.\n",
    "\n",
    "### Do we need more data?\n",
    "Train your model on the different training sizes and evaluate the results on `X_test`. End by plotting the results with `plot_results()`.\n"
   ]
  },
  {
   "cell_type": "code",
   "execution_count": 12,
   "id": "4a9b717d",
   "metadata": {},
   "outputs": [],
   "source": [
    "def plot_results(train_accs,test_accs):\n",
    "    plt.plot(training_sizes, train_accs, 'o-', label=\"Training Accuracy\")\n",
    "    plt.plot(training_sizes, test_accs, 'o-', label=\"Test Accuracy\")\n",
    "    plt.title('Accuracy vs Number of training samples')\n",
    "    plt.xlabel('# of training samples')\n",
    "    plt.ylabel('Accuracy')\n",
    "    plt.legend(loc=\"best\")"
   ]
  },
  {
   "cell_type": "code",
   "execution_count": 13,
   "id": "a780285f",
   "metadata": {},
   "outputs": [],
   "source": [
    "initial_weights = model.get_weights()"
   ]
  },
  {
   "cell_type": "code",
   "execution_count": 14,
   "id": "5197fa78",
   "metadata": {},
   "outputs": [],
   "source": [
    "early_stop = EarlyStopping(monitor='loss', patience=1)\n",
    "train_accs, test_accs = [], []\n",
    "training_sizes = [125, 502, 879, 1255]"
   ]
  },
  {
   "cell_type": "code",
   "execution_count": 15,
   "id": "8da9c6a8",
   "metadata": {},
   "outputs": [
    {
     "name": "stdout",
     "output_type": "stream",
     "text": [
      "Epoch 1/50\n",
      "4/4 [==============================] - 0s 1ms/step - loss: 0.0220 - accuracy: 1.0000\n",
      "Epoch 2/50\n",
      "4/4 [==============================] - 0s 964us/step - loss: 0.0212 - accuracy: 1.0000\n",
      "Epoch 3/50\n",
      "4/4 [==============================] - 0s 1ms/step - loss: 0.0181 - accuracy: 1.0000\n",
      "Epoch 4/50\n",
      "4/4 [==============================] - 0s 1ms/step - loss: 0.0169 - accuracy: 1.0000\n",
      "Epoch 5/50\n",
      "4/4 [==============================] - 0s 1ms/step - loss: 0.0157 - accuracy: 1.0000\n",
      "Epoch 6/50\n",
      "4/4 [==============================] - 0s 1ms/step - loss: 0.0146 - accuracy: 1.0000\n",
      "Epoch 7/50\n",
      "4/4 [==============================] - 0s 2ms/step - loss: 0.0138 - accuracy: 1.0000\n",
      "Epoch 8/50\n",
      "4/4 [==============================] - 0s 1ms/step - loss: 0.0129 - accuracy: 1.0000\n",
      "Epoch 9/50\n",
      "4/4 [==============================] - 0s 1ms/step - loss: 0.0121 - accuracy: 1.0000\n",
      "Epoch 10/50\n",
      "4/4 [==============================] - 0s 1ms/step - loss: 0.0116 - accuracy: 1.0000\n",
      "Epoch 11/50\n",
      "4/4 [==============================] - 0s 1ms/step - loss: 0.0111 - accuracy: 1.0000\n",
      "Epoch 12/50\n",
      "4/4 [==============================] - 0s 2ms/step - loss: 0.0105 - accuracy: 1.0000\n",
      "Epoch 13/50\n",
      "4/4 [==============================] - 0s 1ms/step - loss: 0.0101 - accuracy: 1.0000\n",
      "Epoch 14/50\n",
      "4/4 [==============================] - 0s 1ms/step - loss: 0.0098 - accuracy: 1.0000\n",
      "Epoch 15/50\n",
      "4/4 [==============================] - 0s 2ms/step - loss: 0.0095 - accuracy: 1.0000\n",
      "Epoch 16/50\n",
      "4/4 [==============================] - 0s 951us/step - loss: 0.0092 - accuracy: 1.0000\n",
      "Epoch 17/50\n",
      "4/4 [==============================] - 0s 1ms/step - loss: 0.0089 - accuracy: 1.0000\n",
      "Epoch 18/50\n",
      "4/4 [==============================] - 0s 1ms/step - loss: 0.0086 - accuracy: 1.0000\n",
      "Epoch 19/50\n",
      "4/4 [==============================] - 0s 1ms/step - loss: 0.0084 - accuracy: 1.0000\n",
      "Epoch 20/50\n",
      "4/4 [==============================] - 0s 2ms/step - loss: 0.0083 - accuracy: 1.0000\n",
      "Epoch 21/50\n",
      "4/4 [==============================] - 0s 2ms/step - loss: 0.0081 - accuracy: 1.0000\n",
      "Epoch 22/50\n",
      "4/4 [==============================] - 0s 2ms/step - loss: 0.0079 - accuracy: 1.0000\n",
      "Epoch 23/50\n",
      "4/4 [==============================] - 0s 2ms/step - loss: 0.0077 - accuracy: 1.0000\n",
      "Epoch 24/50\n",
      "4/4 [==============================] - 0s 1ms/step - loss: 0.0076 - accuracy: 1.0000\n",
      "Epoch 25/50\n",
      "4/4 [==============================] - 0s 1ms/step - loss: 0.0074 - accuracy: 1.0000\n",
      "Epoch 26/50\n",
      "4/4 [==============================] - 0s 2ms/step - loss: 0.0073 - accuracy: 1.0000\n",
      "Epoch 27/50\n",
      "4/4 [==============================] - 0s 2ms/step - loss: 0.0071 - accuracy: 1.0000\n",
      "Epoch 28/50\n",
      "4/4 [==============================] - 0s 1ms/step - loss: 0.0070 - accuracy: 1.0000\n",
      "Epoch 29/50\n",
      "4/4 [==============================] - 0s 2ms/step - loss: 0.0069 - accuracy: 1.0000\n",
      "Epoch 30/50\n",
      "4/4 [==============================] - 0s 1ms/step - loss: 0.0068 - accuracy: 1.0000\n",
      "Epoch 31/50\n",
      "4/4 [==============================] - 0s 2ms/step - loss: 0.0066 - accuracy: 1.0000\n",
      "Epoch 32/50\n",
      "4/4 [==============================] - 0s 2ms/step - loss: 0.0065 - accuracy: 1.0000\n",
      "Epoch 33/50\n",
      "4/4 [==============================] - 0s 1ms/step - loss: 0.0065 - accuracy: 1.0000\n",
      "Epoch 34/50\n",
      "4/4 [==============================] - 0s 1ms/step - loss: 0.0064 - accuracy: 1.0000\n",
      "Epoch 35/50\n",
      "4/4 [==============================] - 0s 2ms/step - loss: 0.0062 - accuracy: 1.0000\n",
      "Epoch 36/50\n",
      "4/4 [==============================] - 0s 2ms/step - loss: 0.0062 - accuracy: 1.0000\n",
      "Epoch 37/50\n",
      "4/4 [==============================] - 0s 2ms/step - loss: 0.0061 - accuracy: 1.0000\n",
      "Epoch 38/50\n",
      "4/4 [==============================] - 0s 1ms/step - loss: 0.0060 - accuracy: 1.0000\n",
      "Epoch 39/50\n",
      "4/4 [==============================] - 0s 1ms/step - loss: 0.0059 - accuracy: 1.0000\n",
      "Epoch 40/50\n",
      "4/4 [==============================] - 0s 1ms/step - loss: 0.0058 - accuracy: 1.0000\n",
      "Epoch 41/50\n",
      "4/4 [==============================] - 0s 1ms/step - loss: 0.0058 - accuracy: 1.0000\n",
      "Epoch 42/50\n",
      "4/4 [==============================] - 0s 2ms/step - loss: 0.0057 - accuracy: 1.0000\n",
      "Epoch 43/50\n",
      "4/4 [==============================] - 0s 2ms/step - loss: 0.0056 - accuracy: 1.0000\n",
      "Epoch 44/50\n",
      "4/4 [==============================] - 0s 1ms/step - loss: 0.0055 - accuracy: 1.0000\n",
      "Epoch 45/50\n",
      "4/4 [==============================] - 0s 1ms/step - loss: 0.0055 - accuracy: 1.0000\n",
      "Epoch 46/50\n",
      "4/4 [==============================] - 0s 1ms/step - loss: 0.0054 - accuracy: 1.0000\n",
      "Epoch 47/50\n",
      "4/4 [==============================] - 0s 1ms/step - loss: 0.0053 - accuracy: 1.0000\n",
      "Epoch 48/50\n",
      "4/4 [==============================] - 0s 1ms/step - loss: 0.0053 - accuracy: 1.0000\n",
      "Epoch 49/50\n",
      "4/4 [==============================] - 0s 1ms/step - loss: 0.0052 - accuracy: 1.0000\n",
      "Epoch 50/50\n",
      "4/4 [==============================] - 0s 1ms/step - loss: 0.0052 - accuracy: 1.0000\n",
      "4/4 [==============================] - 0s 1ms/step - loss: 0.0051 - accuracy: 1.0000\n",
      "17/17 [==============================] - 0s 567us/step - loss: 0.1384 - accuracy: 0.9537\n",
      "Epoch 1/50\n",
      "16/16 [==============================] - 0s 795us/step - loss: 0.0183 - accuracy: 1.0000\n",
      "Epoch 2/50\n",
      "16/16 [==============================] - 0s 923us/step - loss: 0.0169 - accuracy: 1.0000\n",
      "Epoch 3/50\n",
      "16/16 [==============================] - 0s 810us/step - loss: 0.0154 - accuracy: 1.0000\n",
      "Epoch 4/50\n",
      "16/16 [==============================] - 0s 837us/step - loss: 0.0146 - accuracy: 1.0000\n",
      "Epoch 5/50\n",
      "16/16 [==============================] - 0s 710us/step - loss: 0.0139 - accuracy: 1.0000\n",
      "Epoch 6/50\n",
      "16/16 [==============================] - 0s 879us/step - loss: 0.0132 - accuracy: 1.0000\n",
      "Epoch 7/50\n",
      "16/16 [==============================] - 0s 812us/step - loss: 0.0131 - accuracy: 1.0000\n",
      "Epoch 8/50\n",
      "16/16 [==============================] - 0s 788us/step - loss: 0.0124 - accuracy: 1.0000\n",
      "Epoch 9/50\n",
      "16/16 [==============================] - 0s 655us/step - loss: 0.0117 - accuracy: 1.0000\n",
      "Epoch 10/50\n",
      "16/16 [==============================] - 0s 759us/step - loss: 0.0112 - accuracy: 1.0000\n",
      "Epoch 11/50\n",
      "16/16 [==============================] - 0s 672us/step - loss: 0.0108 - accuracy: 1.0000\n",
      "Epoch 12/50\n",
      "16/16 [==============================] - 0s 995us/step - loss: 0.0107 - accuracy: 1.0000\n",
      "Epoch 13/50\n",
      "16/16 [==============================] - 0s 1ms/step - loss: 0.0102 - accuracy: 1.0000\n",
      "Epoch 14/50\n",
      "16/16 [==============================] - 0s 833us/step - loss: 0.0098 - accuracy: 1.0000\n",
      "Epoch 15/50\n",
      "16/16 [==============================] - 0s 1ms/step - loss: 0.0094 - accuracy: 1.0000\n",
      "Epoch 16/50\n",
      "16/16 [==============================] - 0s 1ms/step - loss: 0.0092 - accuracy: 1.0000\n",
      "Epoch 17/50\n",
      "16/16 [==============================] - 0s 784us/step - loss: 0.0090 - accuracy: 1.0000\n",
      "Epoch 18/50\n",
      "16/16 [==============================] - 0s 815us/step - loss: 0.0087 - accuracy: 1.0000\n",
      "Epoch 19/50\n",
      "16/16 [==============================] - 0s 733us/step - loss: 0.0085 - accuracy: 1.0000\n",
      "Epoch 20/50\n",
      "16/16 [==============================] - 0s 830us/step - loss: 0.0083 - accuracy: 1.0000\n",
      "Epoch 21/50\n",
      "16/16 [==============================] - 0s 743us/step - loss: 0.0080 - accuracy: 1.0000\n",
      "Epoch 22/50\n",
      "16/16 [==============================] - 0s 749us/step - loss: 0.0079 - accuracy: 1.0000\n",
      "Epoch 23/50\n",
      "16/16 [==============================] - 0s 697us/step - loss: 0.0076 - accuracy: 1.0000\n",
      "Epoch 24/50\n",
      "16/16 [==============================] - 0s 913us/step - loss: 0.0075 - accuracy: 1.0000\n",
      "Epoch 25/50\n",
      "16/16 [==============================] - 0s 763us/step - loss: 0.0072 - accuracy: 1.0000\n",
      "Epoch 26/50\n",
      "16/16 [==============================] - 0s 967us/step - loss: 0.0071 - accuracy: 1.0000\n",
      "Epoch 27/50\n",
      "16/16 [==============================] - 0s 712us/step - loss: 0.0069 - accuracy: 1.0000\n",
      "Epoch 28/50\n",
      "16/16 [==============================] - 0s 777us/step - loss: 0.0069 - accuracy: 1.0000\n",
      "Epoch 29/50\n",
      "16/16 [==============================] - 0s 713us/step - loss: 0.0068 - accuracy: 1.0000\n",
      "Epoch 30/50\n",
      "16/16 [==============================] - 0s 735us/step - loss: 0.0065 - accuracy: 1.0000\n",
      "Epoch 31/50\n",
      "16/16 [==============================] - 0s 834us/step - loss: 0.0065 - accuracy: 1.0000\n",
      "Epoch 32/50\n"
     ]
    },
    {
     "name": "stdout",
     "output_type": "stream",
     "text": [
      "16/16 [==============================] - 0s 770us/step - loss: 0.0062 - accuracy: 1.0000\n",
      "Epoch 33/50\n",
      "16/16 [==============================] - 0s 899us/step - loss: 0.0061 - accuracy: 1.0000\n",
      "Epoch 34/50\n",
      "16/16 [==============================] - 0s 743us/step - loss: 0.0059 - accuracy: 1.0000\n",
      "Epoch 35/50\n",
      "16/16 [==============================] - 0s 874us/step - loss: 0.0059 - accuracy: 1.0000\n",
      "Epoch 36/50\n",
      "16/16 [==============================] - 0s 823us/step - loss: 0.0057 - accuracy: 1.0000\n",
      "Epoch 37/50\n",
      "16/16 [==============================] - 0s 843us/step - loss: 0.0057 - accuracy: 1.0000\n",
      "Epoch 38/50\n",
      "16/16 [==============================] - 0s 752us/step - loss: 0.0055 - accuracy: 1.0000\n",
      "Epoch 39/50\n",
      "16/16 [==============================] - 0s 910us/step - loss: 0.0054 - accuracy: 1.0000\n",
      "Epoch 40/50\n",
      "16/16 [==============================] - 0s 731us/step - loss: 0.0053 - accuracy: 1.0000\n",
      "Epoch 41/50\n",
      "16/16 [==============================] - 0s 825us/step - loss: 0.0052 - accuracy: 1.0000\n",
      "Epoch 42/50\n",
      "16/16 [==============================] - 0s 856us/step - loss: 0.0051 - accuracy: 1.0000\n",
      "Epoch 43/50\n",
      "16/16 [==============================] - 0s 910us/step - loss: 0.0050 - accuracy: 1.0000\n",
      "Epoch 44/50\n",
      "16/16 [==============================] - 0s 879us/step - loss: 0.0050 - accuracy: 1.0000\n",
      "Epoch 45/50\n",
      "16/16 [==============================] - 0s 858us/step - loss: 0.0049 - accuracy: 1.0000\n",
      "Epoch 46/50\n",
      "16/16 [==============================] - 0s 729us/step - loss: 0.0047 - accuracy: 1.0000\n",
      "Epoch 47/50\n",
      "16/16 [==============================] - 0s 833us/step - loss: 0.0047 - accuracy: 1.0000\n",
      "Epoch 48/50\n",
      "16/16 [==============================] - 0s 812us/step - loss: 0.0045 - accuracy: 1.0000\n",
      "Epoch 49/50\n",
      "16/16 [==============================] - 0s 821us/step - loss: 0.0045 - accuracy: 1.0000\n",
      "Epoch 50/50\n",
      "16/16 [==============================] - 0s 789us/step - loss: 0.0044 - accuracy: 1.0000\n",
      "16/16 [==============================] - 0s 599us/step - loss: 0.0043 - accuracy: 1.0000\n",
      "17/17 [==============================] - 0s 570us/step - loss: 0.1250 - accuracy: 0.9648\n",
      "Epoch 1/50\n",
      "28/28 [==============================] - 0s 1ms/step - loss: 0.0208 - accuracy: 0.9989\n",
      "Epoch 2/50\n",
      "28/28 [==============================] - 0s 597us/step - loss: 0.0195 - accuracy: 0.9989\n",
      "Epoch 3/50\n",
      "28/28 [==============================] - 0s 639us/step - loss: 0.0172 - accuracy: 0.9989\n",
      "Epoch 4/50\n",
      "28/28 [==============================] - 0s 700us/step - loss: 0.0165 - accuracy: 0.9977\n",
      "Epoch 5/50\n",
      "28/28 [==============================] - 0s 727us/step - loss: 0.0154 - accuracy: 0.9989\n",
      "Epoch 6/50\n",
      "28/28 [==============================] - 0s 608us/step - loss: 0.0135 - accuracy: 0.9989\n",
      "Epoch 7/50\n",
      "28/28 [==============================] - 0s 666us/step - loss: 0.0130 - accuracy: 0.9989\n",
      "Epoch 8/50\n",
      "28/28 [==============================] - 0s 680us/step - loss: 0.0116 - accuracy: 0.9989\n",
      "Epoch 9/50\n",
      "28/28 [==============================] - 0s 702us/step - loss: 0.0116 - accuracy: 0.9989\n",
      "28/28 [==============================] - 0s 538us/step - loss: 0.0102 - accuracy: 1.0000\n",
      "17/17 [==============================] - 0s 592us/step - loss: 0.1261 - accuracy: 0.9611\n",
      "Epoch 1/50\n",
      "40/40 [==============================] - 0s 668us/step - loss: 0.0239 - accuracy: 0.9976\n",
      "Epoch 2/50\n",
      "40/40 [==============================] - 0s 592us/step - loss: 0.0205 - accuracy: 0.9976\n",
      "Epoch 3/50\n",
      "40/40 [==============================] - 0s 645us/step - loss: 0.0200 - accuracy: 0.9968\n",
      "Epoch 4/50\n",
      "40/40 [==============================] - 0s 604us/step - loss: 0.0203 - accuracy: 0.9976\n",
      "40/40 [==============================] - 0s 507us/step - loss: 0.0183 - accuracy: 0.9984\n",
      "17/17 [==============================] - 0s 563us/step - loss: 0.1324 - accuracy: 0.9648\n"
     ]
    }
   ],
   "source": [
    "for size in training_sizes:\n",
    "  \t# Get a fraction of training data (we only care about the training data)\n",
    "    X_train_frac, y_train_frac = X_train[:size], y_train[:size]\n",
    "\n",
    "    # Reset the model to the initial weights and train it on the new training data fraction\n",
    "    model.set_weights(initial_weights)\n",
    "    model.fit(X_train_frac, y_train_frac, epochs = 50, callbacks = [early_stop])\n",
    "\n",
    "    # Evaluate and store both: the training data fraction and the complete test set results\n",
    "    train_accs.append(model.evaluate(X_train_frac, y_train_frac)[1])\n",
    "    test_accs.append(model.evaluate(X_test, y_test)[1])"
   ]
  },
  {
   "cell_type": "code",
   "execution_count": 16,
   "id": "5f67f746",
   "metadata": {},
   "outputs": [
    {
     "data": {
      "image/png": "[encoded data removed]",
      "text/plain": [
       "<Figure size 720x576 with 1 Axes>"
      ]
     },
     "metadata": {
      "needs_background": "light"
     },
     "output_type": "display_data"
    }
   ],
   "source": [
    "# Plot train vs test accuracies\n",
    "plot_results(train_accs, test_accs)"
   ]
  },
  {
   "cell_type": "markdown",
   "id": "96ab9cd9",
   "metadata": {},
   "source": [
    "The results suggest that your model would not benefit much from more training data, since the test set accuracy is already starting to flatten. \n",
    "\n",
    "You will now build a new deeper model consisting of 3 hidden layers of 50 neurons each, using batch normalization in between layers. The `kernel_initializer` parameter is used to initialize weights in a similar way.\n",
    "\n",
    "### Batch normalization"
   ]
  },
  {
   "cell_type": "code",
   "execution_count": 20,
   "id": "13370254",
   "metadata": {},
   "outputs": [],
   "source": [
    "# Build your deep network\n",
    "batchnorm_model = keras.Sequential()\n",
    "batchnorm_model.add(keras.layers.Dense(50, input_shape=(64,), activation='relu', kernel_initializer='normal'))\n",
    "batchnorm_model.add(keras.layers.BatchNormalization())\n",
    "batchnorm_model.add(keras.layers.Dense(50, activation='relu', kernel_initializer='normal'))\n",
    "batchnorm_model.add(keras.layers.BatchNormalization())\n",
    "batchnorm_model.add(keras.layers.Dense(50, activation='relu', kernel_initializer='normal'))\n",
    "batchnorm_model.add(keras.layers.BatchNormalization())\n",
    "batchnorm_model.add(keras.layers.Dense(10, activation='softmax', kernel_initializer='normal'))\n",
    "\n",
    "# Compile your model with sgd\n",
    "batchnorm_model.compile(optimizer='sgd', loss='categorical_crossentropy', metrics=['accuracy'])"
   ]
  },
  {
   "cell_type": "markdown",
   "id": "8bcdd727",
   "metadata": {},
   "source": [
    "Create a standard model (without batch normalization) with the exact same structure as the `batchnorm_model` above, for comparison."
   ]
  },
  {
   "cell_type": "code",
   "execution_count": 21,
   "id": "d6b643f9",
   "metadata": {},
   "outputs": [],
   "source": [
    "standard_model = keras.Sequential()\n",
    "standard_model.add(keras.layers.Dense(50, input_shape=(64, ), activation='relu', kernel_initializer='normal'))\n",
    "standard_model.add(keras.layers.Dense(50, activation='relu', kernel_initializer='normal'))\n",
    "standard_model.add(keras.layers.Dense(50, activation='relu', kernel_initializer='normal'))\n",
    "standard_model.add(keras.layers.Dense(10, activation='softmax', kernel_initializer='normal'))\n",
    "\n",
    "# Compile your model with sgd\n",
    "standard_model.compile(optimizer='sgd', loss='categorical_crossentropy', metrics=['accuracy'])"
   ]
  },
  {
   "cell_type": "markdown",
   "id": "ba2067ff",
   "metadata": {},
   "source": [
    "Define a function to easy compare the plotted results of the two models created: `batchnorm_model` and `standard_model`."
   ]
  },
  {
   "cell_type": "code",
   "execution_count": 23,
   "id": "f7c6d671",
   "metadata": {},
   "outputs": [],
   "source": [
    "def compare_histories_acc(h1,h2):\n",
    "    plt.plot(h1.history['accuracy'])\n",
    "    plt.plot(h1.history['val_accuracy'])\n",
    "    plt.plot(h2.history['accuracy'])\n",
    "    plt.plot(h2.history['val_accuracy'])\n",
    "    plt.title(\"Batch Normalization Effects\")\n",
    "    plt.xlabel('Epoch')\n",
    "    plt.ylabel('Accuracy')\n",
    "    plt.legend(['Train', 'Test', 'Train with Batch Normalization', 'Test with Batch Normalization'], loc='best')"
   ]
  },
  {
   "cell_type": "markdown",
   "id": "cf7a8d34",
   "metadata": {},
   "source": [
    "Fit each model."
   ]
  },
  {
   "cell_type": "code",
   "execution_count": 24,
   "id": "9f33cb9f",
   "metadata": {},
   "outputs": [],
   "source": [
    "# Train your standard model, storing its history callback\n",
    "h1_callback = standard_model.fit(X_train, y_train, validation_data=(X_test,y_test), epochs=10, verbose=0)\n",
    "\n",
    "# Train the batch normalized model you recently built, store its history callback\n",
    "h2_callback = batchnorm_model.fit(X_train, y_train, validation_data=(X_test, y_test), epochs=10, verbose=0)\n"
   ]
  },
  {
   "cell_type": "markdown",
   "id": "942b616e",
   "metadata": {},
   "source": [
    "Now use the function you defined above to plot the comparison of the two models."
   ]
  },
  {
   "cell_type": "code",
   "execution_count": 25,
   "id": "0bd7db0e",
   "metadata": {},
   "outputs": [
    {
     "data": {
      "image/png": "[encoded data removed]",
      "text/plain": [
       "<Figure size 720x576 with 1 Axes>"
      ]
     },
     "metadata": {
      "needs_background": "light"
     },
     "output_type": "display_data"
    }
   ],
   "source": [
    "# Call compare_histories_acc passing in both model histories\n",
    "compare_histories_acc(h1_callback, h2_callback)"
   ]
  },
  {
   "cell_type": "markdown",
   "id": "b44bd0bc",
   "metadata": {},
   "source": [
    "You can see that for this deep model batch normalization proved to be useful, helping the model obtain high accuracy values just over the first 10 training epochs."
   ]
  }
 ],
 "metadata": {
  "kernelspec": {
   "display_name": "Python 3.8 (tensorflow)",
   "language": "python",
   "name": "tensorflow"
  },
  "language_info": {
   "codemirror_mode": {
    "name": "ipython",
    "version": 3
   },
   "file_extension": ".py",
   "mimetype": "text/x-python",
   "name": "python",
   "nbconvert_exporter": "python",
   "pygments_lexer": "ipython3",
   "version": "3.8.12"
  }
 },
 "nbformat": 4,
 "nbformat_minor": 5
}
