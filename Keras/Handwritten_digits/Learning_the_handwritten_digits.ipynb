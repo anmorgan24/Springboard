{
 "cells": [
  {
   "cell_type": "markdown",
   "id": "a0bbe9ed",
   "metadata": {},
   "source": [
    "These exercises were completed as part of DataCamp's \"Intro to Deep Learning with Keras\" course."
   ]
  },
  {
   "cell_type": "markdown",
   "id": "0abc2661",
   "metadata": {},
   "source": [
    "# Learning the Handwritten Digits"
   ]
  },
  {
   "cell_type": "markdown",
   "id": "548d99d9",
   "metadata": {},
   "source": [
    "You're going to build a model on the digits dataset, a sample dataset that comes pre-loaded with scikit learn. The digits dataset consist of 8x8 pixel handwritten digits from 0 to 9:\n",
    "\n",
    "<img src='data/digs.png' width=\"600\" height=\"300\" align=\"center\"/>\n",
    "\n",
    "You want to distinguish between each of the 10 possible digits given an image, so we are dealing with multi-class classification."
   ]
  },
  {
   "cell_type": "code",
   "execution_count": 1,
   "id": "84e27206",
   "metadata": {},
   "outputs": [],
   "source": [
    "import pandas as pd\n",
    "import numpy as np\n",
    "import tensorflow as tf\n",
    "import tensorflow.keras as keras\n",
    "from tensorflow.keras.utils import to_categorical\n",
    "from tensorflow.keras.callbacks import EarlyStopping\n",
    "from tensorflow.keras.layers import BatchNormalization\n",
    "from sklearn.model_selection import train_test_split\n",
    "import matplotlib.pyplot as plt\n",
    "import seaborn as sns"
   ]
  },
  {
   "cell_type": "code",
   "execution_count": 2,
   "id": "e454741a",
   "metadata": {},
   "outputs": [],
   "source": [
    "plt.rcParams['figure.figsize'] = (10, 8)"
   ]
  },
  {
   "cell_type": "code",
   "execution_count": 3,
   "id": "34c84f69",
   "metadata": {},
   "outputs": [],
   "source": [
    "X = np.load('Digits/digits_pixels.npy')\n",
    "y = np.load('Digits/digits_target.npy')"
   ]
  },
  {
   "cell_type": "code",
   "execution_count": 4,
   "id": "b1c3dc9e",
   "metadata": {},
   "outputs": [],
   "source": [
    "y = to_categorical(y)"
   ]
  },
  {
   "cell_type": "code",
   "execution_count": 5,
   "id": "245ab4db",
   "metadata": {},
   "outputs": [],
   "source": [
    "X_train, X_test, y_train, y_test = train_test_split(X, y, test_size=0.3)"
   ]
  },
  {
   "cell_type": "code",
   "execution_count": 6,
   "id": "9750c0c6",
   "metadata": {},
   "outputs": [
    {
     "data": {
      "text/plain": [
       "(1257, 64)"
      ]
     },
     "execution_count": 6,
     "metadata": {},
     "output_type": "execute_result"
    }
   ],
   "source": [
    "X_train.shape"
   ]
  },
  {
   "cell_type": "code",
   "execution_count": 7,
   "id": "341005d1",
   "metadata": {},
   "outputs": [
    {
     "data": {
      "text/plain": [
       "(1257, 10)"
      ]
     },
     "execution_count": 7,
     "metadata": {},
     "output_type": "execute_result"
    }
   ],
   "source": [
    "y_train.shape"
   ]
  },
  {
   "cell_type": "code",
   "execution_count": 8,
   "id": "f1e94525",
   "metadata": {},
   "outputs": [
    {
     "data": {
      "text/plain": [
       "array([[ 0.,  0.,  3., ..., 12.,  0.,  0.],\n",
       "       [ 0.,  0.,  2., ..., 13.,  5.,  0.],\n",
       "       [ 0.,  0.,  1., ..., 16.,  2.,  0.],\n",
       "       ...,\n",
       "       [ 0.,  0.,  5., ...,  0.,  0.,  0.],\n",
       "       [ 0.,  0.,  0., ...,  2.,  0.,  0.],\n",
       "       [ 0.,  1., 11., ..., 12.,  8.,  0.]])"
      ]
     },
     "execution_count": 8,
     "metadata": {},
     "output_type": "execute_result"
    }
   ],
   "source": [
    "X_train"
   ]
  },
  {
   "cell_type": "code",
   "execution_count": 9,
   "id": "ca62b5c7",
   "metadata": {},
   "outputs": [
    {
     "name": "stdout",
     "output_type": "stream",
     "text": [
      "[[1.5004164e-03 5.1612315e-06 4.7960007e-06 ... 9.3739240e-05\n",
      "  7.7330053e-01 9.8057138e-04]\n",
      " [5.4650033e-01 3.3801617e-03 3.2820443e-03 ... 7.9748124e-02\n",
      "  6.3056062e-04 3.8192768e-04]\n",
      " [2.2578710e-01 3.7880965e-02 3.3324363e-03 ... 2.1419623e-03\n",
      "  3.0227059e-01 1.3399992e-02]\n",
      " ...\n",
      " [4.7320388e-02 4.4159696e-02 9.3280617e-03 ... 4.2757511e-05\n",
      "  2.1644628e-04 6.3548912e-05]\n",
      " [5.3202691e-03 1.4988352e-01 1.2652302e-03 ... 7.1798882e-04\n",
      "  3.8054117e-04 5.3998316e-04]\n",
      " [1.6512034e-03 4.5906849e-02 7.0968629e-03 ... 4.8622940e-07\n",
      "  5.8316386e-01 4.6429317e-03]]\n"
     ]
    },
    {
     "name": "stderr",
     "output_type": "stream",
     "text": [
      "2022-01-18 22:51:33.700276: I tensorflow/compiler/jit/xla_cpu_device.cc:41] Not creating XLA devices, tf_xla_enable_xla_devices not set\n",
      "2022-01-18 22:51:33.700523: I tensorflow/core/platform/cpu_feature_guard.cc:142] This TensorFlow binary is optimized with oneAPI Deep Neural Network Library (oneDNN) to use the following CPU instructions in performance-critical operations:  AVX2 FMA\n",
      "To enable them in other operations, rebuild TensorFlow with the appropriate compiler flags.\n",
      "2022-01-18 22:51:33.758248: I tensorflow/compiler/mlir/mlir_graph_optimization_pass.cc:116] None of the MLIR optimization passes are enabled (registered 2)\n"
     ]
    }
   ],
   "source": [
    "# Instantiate a Sequential model\n",
    "model = keras.Sequential()\n",
    "\n",
    "# Input and hidden layer with input_shape, 16 neurons, and relu \n",
    "model.add(keras.layers.Dense(16, input_shape = (64,), activation = 'relu'))\n",
    "\n",
    "# Output layer with 10 neurons (one per digit) and softmax\n",
    "model.add(keras.layers.Dense(10, activation='softmax'))\n",
    "\n",
    "# Compile your model\n",
    "model.compile(optimizer = 'adam', loss = 'categorical_crossentropy', metrics = ['accuracy'])\n",
    "\n",
    "# Test if your model is well assembled by predicting before training\n",
    "print(model.predict(X_train))"
   ]
  },
  {
   "cell_type": "markdown",
   "id": "f11fe45c",
   "metadata": {},
   "source": [
    "**Tip:** Predicting on training data inputs before training can help you quickly check that your model works as expected!"
   ]
  },
  {
   "cell_type": "markdown",
   "id": "1b5572f2",
   "metadata": {},
   "source": [
    "### Is the model overfitting?"
   ]
  },
  {
   "cell_type": "code",
   "execution_count": 10,
   "id": "b8ae6354",
   "metadata": {},
   "outputs": [],
   "source": [
    "def plot_loss(loss,val_loss):\n",
    "    plt.figure()\n",
    "    plt.plot(loss)\n",
    "    plt.plot(val_loss)\n",
    "    plt.title('Model loss')\n",
    "    plt.ylabel('Loss')\n",
    "    plt.xlabel('Epoch')\n",
    "    plt.legend(['Train', 'Test'], loc='upper right')"
   ]
  },
  {
   "cell_type": "code",
   "execution_count": 11,
   "id": "e1969efd",
   "metadata": {},
   "outputs": [
    {
     "data": {
      "image/png": "[encoded data removed]",
      "text/plain": [
       "<Figure size 720x576 with 1 Axes>"
      ]
     },
     "metadata": {
      "needs_background": "light"
     },
     "output_type": "display_data"
    }
   ],
   "source": [
    "# Train your model for 60 epochs, using X_test and y_test as validation data\n",
    "h_callback = model.fit(X_train, y_train, epochs = 60, validation_data = (X_test, y_test), verbose=0)\n",
    "\n",
    "# Extract from the h_callback object loss and val_loss to plot the learning curve\n",
    "plot_loss(h_callback.history['loss'], h_callback.history['val_loss'])"
   ]
  },
  {
   "cell_type": "markdown",
   "id": "3ab42306",
   "metadata": {},
   "source": [
    "We can see that while it doesn't appear that the model certainly isn't improving significantly anymore at around 60 epochs, it also does *not* appear to be overfitting. Could the model benefit from more training examples? Let's find out.\n",
    "\n",
    "### Do we need more data?\n",
    "Train your model on the different training sizes and evaluate the results on `X_test`. End by plotting the results with `plot_results()`.\n"
   ]
  },
  {
   "cell_type": "code",
   "execution_count": 12,
   "id": "4a9b717d",
   "metadata": {},
   "outputs": [],
   "source": [
    "def plot_results(train_accs,test_accs):\n",
    "    plt.plot(training_sizes, train_accs, 'o-', label=\"Training Accuracy\")\n",
    "    plt.plot(training_sizes, test_accs, 'o-', label=\"Test Accuracy\")\n",
    "    plt.title('Accuracy vs Number of training samples')\n",
    "    plt.xlabel('# of training samples')\n",
    "    plt.ylabel('Accuracy')\n",
    "    plt.legend(loc=\"best\")"
   ]
  },
  {
   "cell_type": "code",
   "execution_count": 13,
   "id": "a780285f",
   "metadata": {},
   "outputs": [],
   "source": [
    "initial_weights = model.get_weights()"
   ]
  },
  {
   "cell_type": "code",
   "execution_count": 14,
   "id": "5197fa78",
   "metadata": {},
   "outputs": [],
   "source": [
    "early_stop = EarlyStopping(monitor='loss', patience=1)\n",
    "train_accs, test_accs = [], []\n",
    "training_sizes = [125, 502, 879, 1255]"
   ]
  },
  {
   "cell_type": "code",
   "execution_count": 15,
   "id": "8da9c6a8",
   "metadata": {},
   "outputs": [
    {
     "name": "stdout",
     "output_type": "stream",
     "text": [
      "Epoch 1/50\n",
      "4/4 [==============================] - 0s 1ms/step - loss: 0.0188 - accuracy: 1.0000\n",
      "Epoch 2/50\n",
      "4/4 [==============================] - 0s 1ms/step - loss: 0.0181 - accuracy: 1.0000\n",
      "Epoch 3/50\n",
      "4/4 [==============================] - 0s 1ms/step - loss: 0.0172 - accuracy: 1.0000\n",
      "Epoch 4/50\n",
      "4/4 [==============================] - 0s 2ms/step - loss: 0.0161 - accuracy: 1.0000\n",
      "Epoch 5/50\n",
      "4/4 [==============================] - 0s 1ms/step - loss: 0.0156 - accuracy: 1.0000\n",
      "Epoch 6/50\n",
      "4/4 [==============================] - 0s 2ms/step - loss: 0.0149 - accuracy: 1.0000\n",
      "Epoch 7/50\n",
      "4/4 [==============================] - 0s 1ms/step - loss: 0.0141 - accuracy: 1.0000\n",
      "Epoch 8/50\n",
      "4/4 [==============================] - 0s 1ms/step - loss: 0.0135 - accuracy: 1.0000\n",
      "Epoch 9/50\n",
      "4/4 [==============================] - 0s 1ms/step - loss: 0.0130 - accuracy: 1.0000\n",
      "Epoch 10/50\n",
      "4/4 [==============================] - 0s 1ms/step - loss: 0.0124 - accuracy: 1.0000\n",
      "Epoch 11/50\n",
      "4/4 [==============================] - 0s 1ms/step - loss: 0.0121 - accuracy: 1.0000\n",
      "Epoch 12/50\n",
      "4/4 [==============================] - 0s 1ms/step - loss: 0.0116 - accuracy: 1.0000\n",
      "Epoch 13/50\n",
      "4/4 [==============================] - 0s 2ms/step - loss: 0.0112 - accuracy: 1.0000\n",
      "Epoch 14/50\n",
      "4/4 [==============================] - 0s 1ms/step - loss: 0.0108 - accuracy: 1.0000\n",
      "Epoch 15/50\n",
      "4/4 [==============================] - 0s 1ms/step - loss: 0.0105 - accuracy: 1.0000\n",
      "Epoch 16/50\n",
      "4/4 [==============================] - 0s 1ms/step - loss: 0.0102 - accuracy: 1.0000\n",
      "Epoch 17/50\n",
      "4/4 [==============================] - 0s 1ms/step - loss: 0.0099 - accuracy: 1.0000\n",
      "Epoch 18/50\n",
      "4/4 [==============================] - 0s 1ms/step - loss: 0.0097 - accuracy: 1.0000\n",
      "Epoch 19/50\n",
      "4/4 [==============================] - 0s 1ms/step - loss: 0.0094 - accuracy: 1.0000\n",
      "Epoch 20/50\n",
      "4/4 [==============================] - 0s 1ms/step - loss: 0.0092 - accuracy: 1.0000\n",
      "Epoch 21/50\n",
      "4/4 [==============================] - 0s 1ms/step - loss: 0.0090 - accuracy: 1.0000\n",
      "Epoch 22/50\n",
      "4/4 [==============================] - 0s 1ms/step - loss: 0.0087 - accuracy: 1.0000\n",
      "Epoch 23/50\n",
      "4/4 [==============================] - 0s 1ms/step - loss: 0.0086 - accuracy: 1.0000\n",
      "Epoch 24/50\n",
      "4/4 [==============================] - 0s 1ms/step - loss: 0.0084 - accuracy: 1.0000\n",
      "Epoch 25/50\n",
      "4/4 [==============================] - 0s 2ms/step - loss: 0.0082 - accuracy: 1.0000\n",
      "Epoch 26/50\n",
      "4/4 [==============================] - 0s 2ms/step - loss: 0.0080 - accuracy: 1.0000\n",
      "Epoch 27/50\n",
      "4/4 [==============================] - 0s 2ms/step - loss: 0.0079 - accuracy: 1.0000\n",
      "Epoch 28/50\n",
      "4/4 [==============================] - 0s 1ms/step - loss: 0.0077 - accuracy: 1.0000\n",
      "Epoch 29/50\n",
      "4/4 [==============================] - 0s 1ms/step - loss: 0.0076 - accuracy: 1.0000\n",
      "Epoch 30/50\n",
      "4/4 [==============================] - 0s 1ms/step - loss: 0.0075 - accuracy: 1.0000\n",
      "Epoch 31/50\n",
      "4/4 [==============================] - 0s 1ms/step - loss: 0.0073 - accuracy: 1.0000\n",
      "Epoch 32/50\n",
      "4/4 [==============================] - 0s 1ms/step - loss: 0.0072 - accuracy: 1.0000\n",
      "Epoch 33/50\n",
      "4/4 [==============================] - 0s 1ms/step - loss: 0.0071 - accuracy: 1.0000\n",
      "Epoch 34/50\n",
      "4/4 [==============================] - 0s 1ms/step - loss: 0.0069 - accuracy: 1.0000\n",
      "Epoch 35/50\n",
      "4/4 [==============================] - 0s 1ms/step - loss: 0.0068 - accuracy: 1.0000\n",
      "Epoch 36/50\n",
      "4/4 [==============================] - 0s 1ms/step - loss: 0.0067 - accuracy: 1.0000\n",
      "Epoch 37/50\n",
      "4/4 [==============================] - 0s 1ms/step - loss: 0.0066 - accuracy: 1.0000\n",
      "Epoch 38/50\n",
      "4/4 [==============================] - 0s 1ms/step - loss: 0.0065 - accuracy: 1.0000\n",
      "Epoch 39/50\n",
      "4/4 [==============================] - 0s 2ms/step - loss: 0.0064 - accuracy: 1.0000\n",
      "Epoch 40/50\n",
      "4/4 [==============================] - 0s 1ms/step - loss: 0.0063 - accuracy: 1.0000\n",
      "Epoch 41/50\n",
      "4/4 [==============================] - 0s 1ms/step - loss: 0.0062 - accuracy: 1.0000\n",
      "Epoch 42/50\n",
      "4/4 [==============================] - 0s 1ms/step - loss: 0.0061 - accuracy: 1.0000\n",
      "Epoch 43/50\n",
      "4/4 [==============================] - 0s 1ms/step - loss: 0.0061 - accuracy: 1.0000\n",
      "Epoch 44/50\n",
      "4/4 [==============================] - 0s 1ms/step - loss: 0.0060 - accuracy: 1.0000\n",
      "Epoch 45/50\n",
      "4/4 [==============================] - 0s 1ms/step - loss: 0.0059 - accuracy: 1.0000\n",
      "Epoch 46/50\n",
      "4/4 [==============================] - 0s 1ms/step - loss: 0.0058 - accuracy: 1.0000\n",
      "Epoch 47/50\n",
      "4/4 [==============================] - 0s 1ms/step - loss: 0.0057 - accuracy: 1.0000\n",
      "Epoch 48/50\n",
      "4/4 [==============================] - 0s 1ms/step - loss: 0.0056 - accuracy: 1.0000\n",
      "Epoch 49/50\n",
      "4/4 [==============================] - 0s 1ms/step - loss: 0.0056 - accuracy: 1.0000\n",
      "Epoch 50/50\n",
      "4/4 [==============================] - 0s 1ms/step - loss: 0.0055 - accuracy: 1.0000\n",
      "4/4 [==============================] - 0s 844us/step - loss: 0.0055 - accuracy: 1.0000\n",
      "17/17 [==============================] - 0s 614us/step - loss: 0.1292 - accuracy: 0.9630\n",
      "Epoch 1/50\n",
      "16/16 [==============================] - 0s 715us/step - loss: 0.0184 - accuracy: 1.0000\n",
      "Epoch 2/50\n",
      "16/16 [==============================] - 0s 706us/step - loss: 0.0169 - accuracy: 1.0000\n",
      "Epoch 3/50\n",
      "16/16 [==============================] - 0s 663us/step - loss: 0.0158 - accuracy: 1.0000\n",
      "Epoch 4/50\n",
      "16/16 [==============================] - 0s 677us/step - loss: 0.0148 - accuracy: 1.0000\n",
      "Epoch 5/50\n",
      "16/16 [==============================] - 0s 829us/step - loss: 0.0142 - accuracy: 1.0000\n",
      "Epoch 6/50\n",
      "16/16 [==============================] - 0s 693us/step - loss: 0.0137 - accuracy: 1.0000\n",
      "Epoch 7/50\n",
      "16/16 [==============================] - 0s 783us/step - loss: 0.0129 - accuracy: 1.0000\n",
      "Epoch 8/50\n",
      "16/16 [==============================] - 0s 631us/step - loss: 0.0128 - accuracy: 1.0000\n",
      "Epoch 9/50\n",
      "16/16 [==============================] - 0s 686us/step - loss: 0.0121 - accuracy: 1.0000\n",
      "Epoch 10/50\n",
      "16/16 [==============================] - 0s 695us/step - loss: 0.0118 - accuracy: 1.0000\n",
      "Epoch 11/50\n",
      "16/16 [==============================] - 0s 721us/step - loss: 0.0113 - accuracy: 1.0000\n",
      "Epoch 12/50\n",
      "16/16 [==============================] - 0s 606us/step - loss: 0.0110 - accuracy: 1.0000\n",
      "Epoch 13/50\n",
      "16/16 [==============================] - 0s 662us/step - loss: 0.0106 - accuracy: 1.0000\n",
      "Epoch 14/50\n",
      "16/16 [==============================] - 0s 689us/step - loss: 0.0104 - accuracy: 1.0000\n",
      "Epoch 15/50\n",
      "16/16 [==============================] - 0s 689us/step - loss: 0.0101 - accuracy: 1.0000\n",
      "Epoch 16/50\n",
      "16/16 [==============================] - 0s 689us/step - loss: 0.0098 - accuracy: 1.0000\n",
      "Epoch 17/50\n",
      "16/16 [==============================] - 0s 782us/step - loss: 0.0094 - accuracy: 1.0000\n",
      "Epoch 18/50\n",
      "16/16 [==============================] - 0s 727us/step - loss: 0.0093 - accuracy: 1.0000\n",
      "Epoch 19/50\n",
      "16/16 [==============================] - 0s 820us/step - loss: 0.0090 - accuracy: 1.0000\n",
      "Epoch 20/50\n",
      "16/16 [==============================] - 0s 661us/step - loss: 0.0087 - accuracy: 1.0000\n",
      "Epoch 21/50\n",
      "16/16 [==============================] - 0s 771us/step - loss: 0.0085 - accuracy: 1.0000\n",
      "Epoch 22/50\n",
      "16/16 [==============================] - 0s 649us/step - loss: 0.0083 - accuracy: 1.0000\n",
      "Epoch 23/50\n",
      "16/16 [==============================] - 0s 746us/step - loss: 0.0082 - accuracy: 1.0000\n",
      "Epoch 24/50\n",
      "16/16 [==============================] - 0s 686us/step - loss: 0.0080 - accuracy: 1.0000\n",
      "Epoch 25/50\n",
      "16/16 [==============================] - 0s 854us/step - loss: 0.0079 - accuracy: 1.0000\n",
      "Epoch 26/50\n",
      "16/16 [==============================] - 0s 678us/step - loss: 0.0076 - accuracy: 1.0000\n",
      "Epoch 27/50\n",
      "16/16 [==============================] - 0s 794us/step - loss: 0.0075 - accuracy: 1.0000\n",
      "Epoch 28/50\n",
      "16/16 [==============================] - 0s 688us/step - loss: 0.0072 - accuracy: 1.0000\n",
      "Epoch 29/50\n",
      "16/16 [==============================] - 0s 806us/step - loss: 0.0072 - accuracy: 1.0000\n",
      "Epoch 30/50\n",
      "16/16 [==============================] - 0s 687us/step - loss: 0.0071 - accuracy: 1.0000\n",
      "Epoch 31/50\n",
      "16/16 [==============================] - 0s 730us/step - loss: 0.0068 - accuracy: 1.0000\n",
      "Epoch 32/50\n",
      "16/16 [==============================] - 0s 641us/step - loss: 0.0066 - accuracy: 1.0000\n",
      "Epoch 33/50\n",
      "16/16 [==============================] - 0s 783us/step - loss: 0.0065 - accuracy: 1.0000\n",
      "Epoch 34/50\n",
      "16/16 [==============================] - 0s 624us/step - loss: 0.0065 - accuracy: 1.0000\n",
      "Epoch 35/50\n",
      "16/16 [==============================] - 0s 685us/step - loss: 0.0062 - accuracy: 1.0000\n",
      "Epoch 36/50\n",
      "16/16 [==============================] - 0s 734us/step - loss: 0.0061 - accuracy: 1.0000\n",
      "Epoch 37/50\n",
      "16/16 [==============================] - 0s 740us/step - loss: 0.0060 - accuracy: 1.0000\n",
      "Epoch 38/50\n",
      "16/16 [==============================] - 0s 851us/step - loss: 0.0059 - accuracy: 1.0000\n",
      "Epoch 39/50\n",
      "16/16 [==============================] - 0s 915us/step - loss: 0.0058 - accuracy: 1.0000\n",
      "Epoch 40/50\n",
      "16/16 [==============================] - 0s 704us/step - loss: 0.0057 - accuracy: 1.0000\n",
      "Epoch 41/50\n",
      "16/16 [==============================] - 0s 881us/step - loss: 0.0055 - accuracy: 1.0000\n",
      "Epoch 42/50\n",
      "16/16 [==============================] - 0s 655us/step - loss: 0.0055 - accuracy: 1.0000\n",
      "Epoch 43/50\n",
      "16/16 [==============================] - 0s 825us/step - loss: 0.0053 - accuracy: 1.0000\n",
      "Epoch 44/50\n",
      "16/16 [==============================] - 0s 809us/step - loss: 0.0052 - accuracy: 1.0000\n",
      "Epoch 45/50\n",
      "16/16 [==============================] - 0s 659us/step - loss: 0.0052 - accuracy: 1.0000\n",
      "Epoch 46/50\n",
      "16/16 [==============================] - 0s 795us/step - loss: 0.0051 - accuracy: 1.0000\n",
      "Epoch 47/50\n",
      "16/16 [==============================] - 0s 671us/step - loss: 0.0050 - accuracy: 1.0000\n",
      "Epoch 48/50\n",
      "16/16 [==============================] - 0s 873us/step - loss: 0.0049 - accuracy: 1.0000\n",
      "Epoch 49/50\n",
      "16/16 [==============================] - 0s 895us/step - loss: 0.0048 - accuracy: 1.0000\n",
      "Epoch 50/50\n",
      "16/16 [==============================] - 0s 868us/step - loss: 0.0047 - accuracy: 1.0000\n",
      "16/16 [==============================] - 0s 675us/step - loss: 0.0046 - accuracy: 1.0000\n",
      "17/17 [==============================] - 0s 570us/step - loss: 0.1332 - accuracy: 0.9685\n",
      "Epoch 1/50\n",
      "28/28 [==============================] - 0s 682us/step - loss: 0.0260 - accuracy: 0.9966\n",
      "Epoch 2/50\n",
      "28/28 [==============================] - 0s 693us/step - loss: 0.0245 - accuracy: 0.9966\n",
      "Epoch 3/50\n",
      "28/28 [==============================] - 0s 689us/step - loss: 0.0226 - accuracy: 0.9989\n",
      "Epoch 4/50\n",
      "28/28 [==============================] - 0s 634us/step - loss: 0.0225 - accuracy: 0.9977\n",
      "Epoch 5/50\n",
      "28/28 [==============================] - 0s 679us/step - loss: 0.0196 - accuracy: 0.9989\n",
      "Epoch 6/50\n",
      "28/28 [==============================] - 0s 751us/step - loss: 0.0199 - accuracy: 0.9977\n",
      "28/28 [==============================] - 0s 521us/step - loss: 0.0168 - accuracy: 0.9989\n",
      "17/17 [==============================] - 0s 504us/step - loss: 0.1349 - accuracy: 0.9611\n",
      "Epoch 1/50\n",
      "40/40 [==============================] - 0s 938us/step - loss: 0.0255 - accuracy: 0.9976\n",
      "Epoch 2/50\n",
      "40/40 [==============================] - 0s 608us/step - loss: 0.0250 - accuracy: 0.9976\n",
      "Epoch 3/50\n",
      "40/40 [==============================] - 0s 641us/step - loss: 0.0237 - accuracy: 0.9984\n",
      "Epoch 4/50\n",
      "40/40 [==============================] - 0s 637us/step - loss: 0.0209 - accuracy: 0.9976\n",
      "Epoch 5/50\n",
      "40/40 [==============================] - 0s 671us/step - loss: 0.0192 - accuracy: 0.9976\n",
      "Epoch 6/50\n",
      "40/40 [==============================] - 0s 697us/step - loss: 0.0182 - accuracy: 0.9992\n",
      "Epoch 7/50\n",
      "40/40 [==============================] - 0s 700us/step - loss: 0.0173 - accuracy: 0.9984\n",
      "Epoch 8/50\n",
      "40/40 [==============================] - 0s 636us/step - loss: 0.0169 - accuracy: 0.9992\n",
      "Epoch 9/50\n",
      "40/40 [==============================] - 0s 723us/step - loss: 0.0176 - accuracy: 0.9984\n",
      "40/40 [==============================] - 0s 440us/step - loss: 0.0154 - accuracy: 0.9992\n",
      "17/17 [==============================] - 0s 553us/step - loss: 0.1325 - accuracy: 0.9611\n"
     ]
    }
   ],
   "source": [
    "for size in training_sizes:\n",
    "  \t# Get a fraction of training data (we only care about the training data)\n",
    "    X_train_frac, y_train_frac = X_train[:size], y_train[:size]\n",
    "\n",
    "    # Reset the model to the initial weights and train it on the new training data fraction\n",
    "    model.set_weights(initial_weights)\n",
    "    model.fit(X_train_frac, y_train_frac, epochs = 50, callbacks = [early_stop])\n",
    "\n",
    "    # Evaluate and store both: the training data fraction and the complete test set results\n",
    "    train_accs.append(model.evaluate(X_train_frac, y_train_frac)[1])\n",
    "    test_accs.append(model.evaluate(X_test, y_test)[1])"
   ]
  },
  {
   "cell_type": "code",
   "execution_count": 16,
   "id": "5f67f746",
   "metadata": {},
   "outputs": [
    {
     "data": {
      "image/png": "[encoded data removed]",
      "text/plain": [
       "<Figure size 720x576 with 1 Axes>"
      ]
     },
     "metadata": {
      "needs_background": "light"
     },
     "output_type": "display_data"
    }
   ],
   "source": [
    "# Plot train vs test accuracies\n",
    "plot_results(train_accs, test_accs)"
   ]
  },
  {
   "cell_type": "markdown",
   "id": "96ab9cd9",
   "metadata": {},
   "source": [
    "The results suggest that your model would not benefit much from more training data, since the test set accuracy is already starting to flatten. \n",
    "\n",
    "You will now build a new deeper model consisting of 3 hidden layers of 50 neurons each, using batch normalization in between layers. The `kernel_initializer` parameter is used to initialize weights in a similar way.\n",
    "\n",
    "### Batch normalization"
   ]
  },
  {
   "cell_type": "code",
   "execution_count": 17,
   "id": "13370254",
   "metadata": {},
   "outputs": [],
   "source": [
    "# Build your deep network\n",
    "batchnorm_model = keras.Sequential()\n",
    "batchnorm_model.add(keras.layers.Dense(50, input_shape=(64,), activation='relu', kernel_initializer='normal'))\n",
    "batchnorm_model.add(keras.layers.BatchNormalization())\n",
    "batchnorm_model.add(keras.layers.Dense(50, activation='relu', kernel_initializer='normal'))\n",
    "batchnorm_model.add(keras.layers.BatchNormalization())\n",
    "batchnorm_model.add(keras.layers.Dense(50, activation='relu', kernel_initializer='normal'))\n",
    "batchnorm_model.add(keras.layers.BatchNormalization())\n",
    "batchnorm_model.add(keras.layers.Dense(10, activation='softmax', kernel_initializer='normal'))\n",
    "\n",
    "# Compile your model with sgd\n",
    "batchnorm_model.compile(optimizer='sgd', loss='categorical_crossentropy', metrics=['accuracy'])"
   ]
  },
  {
   "cell_type": "markdown",
   "id": "8bcdd727",
   "metadata": {},
   "source": [
    "Create a standard model (without batch normalization) with the exact same structure as the `batchnorm_model` above, for comparison."
   ]
  },
  {
   "cell_type": "code",
   "execution_count": 18,
   "id": "d6b643f9",
   "metadata": {},
   "outputs": [],
   "source": [
    "standard_model = keras.Sequential()\n",
    "standard_model.add(keras.layers.Dense(50, input_shape=(64, ), activation='relu', kernel_initializer='normal'))\n",
    "standard_model.add(keras.layers.Dense(50, activation='relu', kernel_initializer='normal'))\n",
    "standard_model.add(keras.layers.Dense(50, activation='relu', kernel_initializer='normal'))\n",
    "standard_model.add(keras.layers.Dense(10, activation='softmax', kernel_initializer='normal'))\n",
    "\n",
    "# Compile your model with sgd\n",
    "standard_model.compile(optimizer='sgd', loss='categorical_crossentropy', metrics=['accuracy'])"
   ]
  },
  {
   "cell_type": "markdown",
   "id": "ba2067ff",
   "metadata": {},
   "source": [
    "Define a function to easy compare the plotted results of the two models created: `batchnorm_model` and `standard_model`."
   ]
  },
  {
   "cell_type": "code",
   "execution_count": 19,
   "id": "f7c6d671",
   "metadata": {},
   "outputs": [],
   "source": [
    "def compare_histories_acc(h1,h2):\n",
    "    plt.plot(h1.history['accuracy'])\n",
    "    plt.plot(h1.history['val_accuracy'])\n",
    "    plt.plot(h2.history['accuracy'])\n",
    "    plt.plot(h2.history['val_accuracy'])\n",
    "    plt.title(\"Batch Normalization Effects\")\n",
    "    plt.xlabel('Epoch')\n",
    "    plt.ylabel('Accuracy')\n",
    "    plt.legend(['Train', 'Test', 'Train with Batch Normalization', 'Test with Batch Normalization'], loc='best')"
   ]
  },
  {
   "cell_type": "markdown",
   "id": "cf7a8d34",
   "metadata": {},
   "source": [
    "Fit each model."
   ]
  },
  {
   "cell_type": "code",
   "execution_count": 20,
   "id": "9f33cb9f",
   "metadata": {},
   "outputs": [],
   "source": [
    "# Train your standard model, storing its history callback\n",
    "h1_callback = standard_model.fit(X_train, y_train, validation_data=(X_test,y_test), epochs=10, verbose=0)\n",
    "\n",
    "# Train the batch normalized model you recently built, store its history callback\n",
    "h2_callback = batchnorm_model.fit(X_train, y_train, validation_data=(X_test, y_test), epochs=10, verbose=0)\n"
   ]
  },
  {
   "cell_type": "markdown",
   "id": "942b616e",
   "metadata": {},
   "source": [
    "Now use the function you defined above to plot the comparison of the two models."
   ]
  },
  {
   "cell_type": "code",
   "execution_count": 21,
   "id": "0bd7db0e",
   "metadata": {},
   "outputs": [
    {
     "data": {
      "image/png": "[encoded data removed]",
      "text/plain": [
       "<Figure size 720x576 with 1 Axes>"
      ]
     },
     "metadata": {
      "needs_background": "light"
     },
     "output_type": "display_data"
    }
   ],
   "source": [
    "# Call compare_histories_acc passing in both model histories\n",
    "compare_histories_acc(h1_callback, h2_callback)"
   ]
  },
  {
   "cell_type": "markdown",
   "id": "b44bd0bc",
   "metadata": {},
   "source": [
    "You can see that for this deep model batch normalization proved to be useful, helping the model obtain high accuracy values just over the first 10 training epochs."
   ]
  }
 ],
 "metadata": {
  "kernelspec": {
   "display_name": "Python 3.8 (tensorflow)",
   "language": "python",
   "name": "tensorflow"
  },
  "language_info": {
   "codemirror_mode": {
    "name": "ipython",
    "version": 3
   },
   "file_extension": ".py",
   "mimetype": "text/x-python",
   "name": "python",
   "nbconvert_exporter": "python",
   "pygments_lexer": "ipython3",
   "version": "3.8.12"
  }
 },
 "nbformat": 4,
 "nbformat_minor": 5
}
