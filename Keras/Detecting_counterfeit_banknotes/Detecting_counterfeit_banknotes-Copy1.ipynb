{
 "cells": [
  {
   "cell_type": "markdown",
   "id": "61d09132",
   "metadata": {},
   "source": [
    "These exercises were completed as part of DataCamp's \"Intro to Deep Learning with Keras\" course."
   ]
  },
  {
   "cell_type": "markdown",
   "id": "f66cf46d",
   "metadata": {},
   "source": [
    "# Detecting counterfeit banknotes: binary classification"
   ]
  },
  {
   "cell_type": "code",
   "execution_count": 1,
   "id": "a66883af",
   "metadata": {},
   "outputs": [],
   "source": [
    "import pandas as pd"
   ]
  },
  {
   "cell_type": "code",
   "execution_count": 6,
   "id": "769ca03b",
   "metadata": {},
   "outputs": [],
   "source": [
    "x = "
   ]
  },
  {
   "cell_type": "code",
   "execution_count": 7,
   "id": "d59562c3",
   "metadata": {},
   "outputs": [
    {
     "ename": "AttributeError",
     "evalue": "'list' object has no attribute 'astype'",
     "output_type": "error",
     "traceback": [
      "\u001b[0;31m---------------------------------------------------------------------------\u001b[0m",
      "\u001b[0;31mAttributeError\u001b[0m                            Traceback (most recent call last)",
      "\u001b[0;32m/var/folders/3w/4s56fyqn7b7ccf19g6zmx05r0000gn/T/ipykernel_97204/400198709.py\u001b[0m in \u001b[0;36m<module>\u001b[0;34m\u001b[0m\n\u001b[0;32m----> 1\u001b[0;31m \u001b[0mx\u001b[0m \u001b[0;34m=\u001b[0m \u001b[0mx\u001b[0m\u001b[0;34m.\u001b[0m\u001b[0mastype\u001b[0m\u001b[0;34m(\u001b[0m\u001b[0;34m'int32'\u001b[0m\u001b[0;34m)\u001b[0m\u001b[0;34m\u001b[0m\u001b[0;34m\u001b[0m\u001b[0m\n\u001b[0m",
      "\u001b[0;31mAttributeError\u001b[0m: 'list' object has no attribute 'astype'"
     ]
    }
   ],
   "source": [
    "x = x.astype('int32')"
   ]
  },
  {
   "cell_type": "code",
   "execution_count": null,
   "id": "0b36ad60",
   "metadata": {},
   "outputs": [],
   "source": []
  },
  {
   "cell_type": "code",
   "execution_count": null,
   "id": "4101ad60",
   "metadata": {},
   "outputs": [],
   "source": []
  },
  {
   "cell_type": "code",
   "execution_count": null,
   "id": "e1833cc8",
   "metadata": {},
   "outputs": [],
   "source": []
  },
  {
   "cell_type": "code",
   "execution_count": null,
   "id": "4478d96c",
   "metadata": {},
   "outputs": [],
   "source": []
  },
  {
   "cell_type": "code",
   "execution_count": null,
   "id": "77846e78",
   "metadata": {},
   "outputs": [],
   "source": [
    "import tensorflow as tf\n",
    "import tensorflow.keras as keras\n",
    "import tensorflow.keras.backend as K\n",
    "import numpy as np\n",
    "import pandas as pd\n",
    "import matplotlib.pyplot as plt\n",
    "import seaborn as sns\n",
    "from sklearn.model_selection import train_test_split\n",
    "from tensorflow.keras.callbacks import EarlyStopping, ModelCheckpoint\n",
    "import tensorflow.keras.backend as K"
   ]
  },
  {
   "cell_type": "code",
   "execution_count": null,
   "id": "b6638f1d",
   "metadata": {},
   "outputs": [],
   "source": [
    "plt.rcParams['figure.figsize'] = (8, 8)"
   ]
  },
  {
   "cell_type": "code",
   "execution_count": null,
   "id": "6b6441fa",
   "metadata": {},
   "outputs": [],
   "source": [
    "banknotes = pd.read_csv('banknotes.csv')\n",
    "banknotes.head()"
   ]
  },
  {
   "cell_type": "markdown",
   "id": "8b2b9dda",
   "metadata": {},
   "source": [
    "### Look at the data"
   ]
  },
  {
   "cell_type": "code",
   "execution_count": null,
   "id": "b90c2564",
   "metadata": {},
   "outputs": [],
   "source": [
    "banknotes.head()"
   ]
  },
  {
   "cell_type": "code",
   "execution_count": null,
   "id": "f446726c",
   "metadata": {
    "scrolled": true
   },
   "outputs": [],
   "source": [
    "# Describe the data\n",
    "print('Dataset stats: \\n', banknotes.describe())"
   ]
  },
  {
   "cell_type": "code",
   "execution_count": null,
   "id": "3fe9e25e",
   "metadata": {},
   "outputs": [],
   "source": [
    "# Count the number of observations per class\n",
    "print('Observations per class: \\n', banknotes['class'].value_counts())"
   ]
  },
  {
   "cell_type": "markdown",
   "id": "983ef65b",
   "metadata": {},
   "source": [
    "**Note:** `0` indicates a bill is **real** and `1` indicates a bill is **fake**."
   ]
  },
  {
   "cell_type": "markdown",
   "id": "385e674f",
   "metadata": {},
   "source": [
    "Task: Perform binary classification by using a single neuron as an output. The input layer will have 4 neurons since there are 4 features in our dataset. The model's output will be a value constrained between 0 and 1."
   ]
  },
  {
   "cell_type": "markdown",
   "id": "21a7ac97",
   "metadata": {},
   "source": [
    "### Create the model"
   ]
  },
  {
   "cell_type": "code",
   "execution_count": null,
   "id": "a9d86577",
   "metadata": {},
   "outputs": [],
   "source": [
    "# Create a sequential model\n",
    "model = tf.keras.Sequential()\n",
    "\n",
    "# Add a dense layer\n",
    "model.add(tf.keras.layers.Dense(1, input_shape=(4, ), activation='sigmoid'))\n",
    "\n",
    "# Compile your model\n",
    "model.compile(loss='binary_crossentropy', optimizer='sgd', metrics=['accuracy'])\n",
    "\n",
    "# Display a summary of your model\n",
    "model.summary()"
   ]
  },
  {
   "cell_type": "markdown",
   "id": "28b72bf7",
   "metadata": {},
   "source": [
    "### Prepare the dataset\n",
    "First, split the dataset into features (`X`) and labels (`y`). Then scale the data and convert it to a form that the model can work with. Finally, split the data into training and testing sets so that we can evaluate our model once it has been trained."
   ]
  },
  {
   "cell_type": "code",
   "execution_count": null,
   "id": "b3bd7dea",
   "metadata": {},
   "outputs": [],
   "source": [
    "# Split dataset into features and labels\n",
    "X = banknotes.iloc[:, :4]\n",
    "y = banknotes['class'].to_numpy()"
   ]
  },
  {
   "cell_type": "code",
   "execution_count": null,
   "id": "cea434f4",
   "metadata": {},
   "outputs": [],
   "source": [
    "# Scale relevant data (X, features)\n",
    "X = ((X - X.mean()) / X.std()).to_numpy()"
   ]
  },
  {
   "cell_type": "markdown",
   "id": "87154107",
   "metadata": {},
   "source": [
    "Take a look at the data with Seaborn's pairplot before feeding splitting it into training and testing sets and feeding it into the model."
   ]
  },
  {
   "cell_type": "code",
   "execution_count": null,
   "id": "09c2a2e9",
   "metadata": {},
   "outputs": [],
   "source": [
    "sns.pairplot(banknotes, hue='class')\n",
    "plt.show()"
   ]
  },
  {
   "cell_type": "code",
   "execution_count": null,
   "id": "932afe69",
   "metadata": {},
   "outputs": [],
   "source": [
    "# Split features and labels into train and test sets\n",
    "X_train, X_test, y_train, y_test = train_test_split(X, y, test_size=0.25, stratify=y)"
   ]
  },
  {
   "cell_type": "markdown",
   "id": "a632581b",
   "metadata": {},
   "source": [
    "### Train the model\n",
    "In only 1 line of code!"
   ]
  },
  {
   "cell_type": "code",
   "execution_count": null,
   "id": "09f13571",
   "metadata": {},
   "outputs": [],
   "source": [
    "model.fit(X_train, y_train, epochs=20)"
   ]
  },
  {
   "cell_type": "markdown",
   "id": "5b58e8a7",
   "metadata": {},
   "source": [
    "### Is this dollar bill fake ?\n",
    "Evaluate the model with the test set."
   ]
  },
  {
   "cell_type": "code",
   "execution_count": null,
   "id": "16d2a3c7",
   "metadata": {},
   "outputs": [],
   "source": [
    "# Evaluate your model accuracy on the test set\n",
    "accuracy = model.evaluate(X_test, y_test)[1]\n",
    "\n",
    "# Print accuracy\n",
    "print('Accuracy: ', accuracy)"
   ]
  },
  {
   "cell_type": "markdown",
   "id": "41556972",
   "metadata": {},
   "source": [
    "**Conclusion:** The model did pretty well, with an accuracy of 90%! In real-life scenarios, (and with a bit more data), it would be preferrable to do both a train test split, as well as a validation split, to ensure there isn't overfitting. For demonstration purposes though, this model worked well!"
   ]
  },
  {
   "cell_type": "markdown",
   "id": "6b03b537",
   "metadata": {},
   "source": [
    "### Early Stopping"
   ]
  },
  {
   "cell_type": "code",
   "execution_count": null,
   "id": "931f05c4",
   "metadata": {},
   "outputs": [],
   "source": [
    "# Define a callback to monitor val_acc\n",
    "monitor_val_acc = EarlyStopping(monitor='val_accuracy', \n",
    "                       patience=5)\n",
    "\n",
    "# Train your model using the early stopping callback\n",
    "model.fit(X_train, y_train, \n",
    "           epochs=1000, validation_data=(X_test, y_test),\n",
    "           callbacks= [monitor_val_acc])"
   ]
  },
  {
   "cell_type": "markdown",
   "id": "97cf09f4",
   "metadata": {},
   "source": [
    "### A combination of callbacks\n",
    "Deep learning models can take a long time to train, especially when you move to deeper architectures and bigger datasets. Saving your model every time it improves as well as stopping it when it no longer does allows you to worry less about choosing the number of epochs to train for. You can also restore a saved model anytime and resume training where you left it.\n",
    "\n",
    "Now use both the `EarlyStopping()` *and* the `ModelCheckpoint()` callbacks."
   ]
  },
  {
   "cell_type": "code",
   "execution_count": null,
   "id": "66e7d6b9",
   "metadata": {},
   "outputs": [],
   "source": [
    "# Early stop on validation accuracy\n",
    "monitor_val_acc = EarlyStopping(monitor = 'val_accuracy', patience = 3)\n",
    "\n",
    "# Save the best model as best_banknote_model.hdf5\n",
    "modelCheckpoint = ModelCheckpoint('best_banknote_model.hdf5', save_best_only = True)\n",
    "\n",
    "# Fit your model for a stupid amount of epochs\n",
    "h_callback = model.fit(X_train, y_train,\n",
    "                    epochs = 1000000000000,\n",
    "                    callbacks = [monitor_val_acc, modelCheckpoint],\n",
    "                    validation_data = (X_test, y_test))"
   ]
  },
  {
   "cell_type": "code",
   "execution_count": null,
   "id": "57843fa7",
   "metadata": {},
   "outputs": [],
   "source": [
    "!ls | grep best_banknote*"
   ]
  },
  {
   "cell_type": "markdown",
   "id": "20653887",
   "metadata": {},
   "source": [
    "**Our final model not only has a validation set accuracy of .9825, but was fit in under a second!**\n",
    "\n",
    "If you have already built a model, you can use the `model.layers` and the `tf.keras.backend` to build functions that, provided with a valid input tensor, return the corresponding output tensor.\n",
    "\n",
    "This is a useful tool when we want to obtain the output of a network at an intermediate layer.\n",
    "\n",
    "For instance, if you get the input and output from the first layer of a network, you can build an `inp_to_out` function that returns the result of carrying out forward propagation through only the first layer for a given input tensor."
   ]
  },
  {
   "cell_type": "code",
   "execution_count": null,
   "id": "d5968451",
   "metadata": {},
   "outputs": [],
   "source": [
    "X"
   ]
  },
  {
   "cell_type": "code",
   "execution_count": null,
   "id": "de503c72",
   "metadata": {},
   "outputs": [],
   "source": [
    "X_train, X_test, y_train, y_test = train_test_split(X, y, test_size=0.3)"
   ]
  },
  {
   "cell_type": "code",
   "execution_count": null,
   "id": "e2c714da",
   "metadata": {
    "scrolled": true
   },
   "outputs": [],
   "source": [
    "model = keras.Sequential()\n",
    "model.add(keras.layers.Dense(2, input_shape=(4, ), activation='relu'))\n",
    "model.add(keras.layers.Dense(1, activation='sigmoid'))\n",
    "model.summary()"
   ]
  },
  {
   "cell_type": "code",
   "execution_count": null,
   "id": "868e6c3f",
   "metadata": {},
   "outputs": [],
   "source": [
    "# Input tensor from the 1st layer of the model\n",
    "inp = model.layers[0].input\n",
    "\n",
    "# Output tensor from the 1st layer of the model\n",
    "out = model.layers[0].output\n",
    "\n",
    "# Define a function from inputs to outputs\n",
    "inp_to_out = K.function([inp], [out])\n",
    "\n",
    "# Print the results of passing X_test through the 1st layer\n",
    "print(inp_to_out([X_test]))"
   ]
  },
  {
   "cell_type": "markdown",
   "id": "1d14ef54",
   "metadata": {},
   "source": [
    "### Neural separation\n",
    "Neurons learn by updating their weights to output values that help them better distinguish between the different output classes in your dataset. You will make use of the `inp_to_out()` function you just built to visualize the output of two neurons in the first layer of the Banknote Authentication `model` as it learns."
   ]
  },
  {
   "cell_type": "code",
   "execution_count": null,
   "id": "d85c2481",
   "metadata": {},
   "outputs": [],
   "source": [
    "def plot():\n",
    "    fig, axes = plt.subplots(1, 5, figsize=(16, 8))\n",
    "    for i, a in enumerate(axes):\n",
    "        a.scatter(layer_outputs[i][:, 0], layer_outputs[i][:, 1], c=y_test, edgecolors='none');\n",
    "        a.set_title('Test Accuracy: {:3.1f} %'.format(float(test_accuracies[i]) * 100.));\n",
    "    plt.tight_layout()"
   ]
  },
  {
   "cell_type": "code",
   "execution_count": null,
   "id": "704bf08c",
   "metadata": {},
   "outputs": [],
   "source": [
    "model.compile(optimizer='sgd', loss='binary_crossentropy', metrics=['accuracy'])"
   ]
  },
  {
   "cell_type": "code",
   "execution_count": null,
   "id": "a0726d61",
   "metadata": {},
   "outputs": [],
   "source": [
    "layer_outputs = []\n",
    "test_accuracies = []\n",
    "\n",
    "for i in range(0, 21):\n",
    "    # Train model for 1 epoch\n",
    "    h = model.fit(X_train, y_train, batch_size=16, epochs=1, verbose=0)\n",
    "    if i % 4 == 0:\n",
    "        # Get the output of the first layer\n",
    "        layer_outputs.append(inp_to_out([X_test])[0])\n",
    "        \n",
    "        # Evaluate model accuracy for this epoch\n",
    "        test_accuracies.append(model.evaluate(X_test, y_test)[1])"
   ]
  },
  {
   "cell_type": "code",
   "execution_count": null,
   "id": "e9f8527f",
   "metadata": {},
   "outputs": [],
   "source": [
    "plot()"
   ]
  },
  {
   "cell_type": "markdown",
   "id": "ddbfc0f0",
   "metadata": {},
   "source": [
    "If you take a look at the graphs you can see how the neurons are learning to spread out the inputs based on whether they are fake or legit dollar bills. (A single fake dollar bill is represented as a purple dot in the graph) At the start the outputs are closer to each other, the weights are learned as epochs go by so that fake and legit dollar bills get a different, further and further apart output."
   ]
  }
 ],
 "metadata": {
  "kernelspec": {
   "display_name": "Python 3.8 (tensorflow)",
   "language": "python",
   "name": "tensorflow"
  },
  "language_info": {
   "codemirror_mode": {
    "name": "ipython",
    "version": 3
   },
   "file_extension": ".py",
   "mimetype": "text/x-python",
   "name": "python",
   "nbconvert_exporter": "python",
   "pygments_lexer": "ipython3",
   "version": "3.8.12"
  }
 },
 "nbformat": 4,
 "nbformat_minor": 5
}
