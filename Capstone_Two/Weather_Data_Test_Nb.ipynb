{
 "cells": [
  {
   "cell_type": "markdown",
   "id": "b530b142",
   "metadata": {},
   "source": [
    "## Weather Data Test Notebook:"
   ]
  },
  {
   "cell_type": "code",
   "execution_count": 1,
   "id": "e23d70e1",
   "metadata": {},
   "outputs": [],
   "source": [
    "import pandas as pd\n",
    "import numpy as np\n",
    "import requests\n",
    "import json\n",
    "import datetime\n",
    "from pandas_profiling import ProfileReport"
   ]
  },
  {
   "cell_type": "code",
   "execution_count": 2,
   "id": "41ca8f57",
   "metadata": {},
   "outputs": [],
   "source": [
    "Token= 'kwWGVZlNuVYFUheaHYiAxIsIRYCDEzvl'"
   ]
  },
  {
   "cell_type": "markdown",
   "id": "0547fba7",
   "metadata": {},
   "source": [
    "# CT: all set"
   ]
  },
  {
   "cell_type": "code",
   "execution_count": 36,
   "id": "b618f713",
   "metadata": {},
   "outputs": [
    {
     "name": "stdout",
     "output_type": "stream",
     "text": [
      "working on year 2020\n",
      "working on year 2021\n",
      "done\n"
     ]
    }
   ],
   "source": [
    "#create empty lists to store CT data\n",
    "ct_dates_temp = []\n",
    "ct_dates_prcp = []\n",
    "ct_temps = []\n",
    "ct_prcp = []\n",
    "\n",
    "#for each year from 2020-2021 ...\n",
    "for year in range(2020, 2022):\n",
    "    year = str(year)\n",
    "    print('working on year '+year)\n",
    "    \n",
    "    #make the api call\n",
    "    r = requests.get('https://www.ncdc.noaa.gov/cdo-web/api/v2/data?datasetid=GHCND&datatypeid=TAVG&datatypeid=PRCP&limit=1000&stationid=GHCND:USW00014740&startdate='+year+'-01-01&enddate='+year+'-12-31', headers={'token':Token})\n",
    "    #load the api response as a json\n",
    "    d = json.loads(r.text)\n",
    "    #get all items in the response which are average temperature readings\n",
    "    ct_avg_temps = [item for item in d['results'] if item['datatype']=='TAVG']\n",
    "    #get the date field from all average temperature readings\n",
    "    ct_dates_temp += [item['date'] for item in ct_avg_temps]\n",
    "    #get the actual average temperature from all average temperature readings\n",
    "    ct_temps += [item['value'] for item in ct_avg_temps]\n",
    "    #get all items in the response which are average precipitation readings\n",
    "    ct_avg_prcp = [item for item in d['results'] if item['datatype']=='PRCP']\n",
    "    #get the date field from all average precipitation readings\n",
    "    ct_dates_prcp += [item['date'] for item in ct_avg_prcp]\n",
    "    #get the actual average precipitation from all average precipitation readings\n",
    "    ct_prcp += [item['value'] for item in ct_avg_prcp]\n",
    "\n",
    "print('done')"
   ]
  },
  {
   "cell_type": "code",
   "execution_count": 37,
   "id": "11572e04",
   "metadata": {},
   "outputs": [
    {
     "name": "stdout",
     "output_type": "stream",
     "text": [
      "637\n"
     ]
    }
   ],
   "source": [
    "print(len(ct_dates_prcp))"
   ]
  },
  {
   "cell_type": "markdown",
   "id": "0e9186d4",
   "metadata": {},
   "source": [
    "# ME major: need 11/30/2020-12/31/2020"
   ]
  },
  {
   "cell_type": "code",
   "execution_count": 3,
   "id": "bcba16d5",
   "metadata": {},
   "outputs": [
    {
     "name": "stdout",
     "output_type": "stream",
     "text": [
      "working on year 2020\n",
      "working on year 2021\n",
      "done\n"
     ]
    }
   ],
   "source": [
    "#Create empty lists to store ME data\n",
    "#Note: avg temp not available for Maine, so will use temp min and temp max instead\n",
    "me_dates_temp_min = []\n",
    "me_dates_temp_max = []\n",
    "me_dates_prcp = []\n",
    "me_temps_min = []\n",
    "me_temps_max = []\n",
    "me_prcp = []\n",
    "\n",
    "#for each year from 2020-2021 ...\n",
    "for year in range(2020, 2022):\n",
    "    year = str(year)\n",
    "    print('working on year '+year)\n",
    "    \n",
    "    #make the api call\n",
    "    r = requests.get('https://www.ncdc.noaa.gov/cdo-web/api/v2/data?datasetid=GHCND&datatypeid=PRCP&&datatypeid=TMAX&datatypeid=TMIN&limit=1000&stationid=GHCND:USW00094626&startdate='+year+'-01-01&enddate='+year+'-12-31', headers={'token':Token})\n",
    "    #load the api response as a json\n",
    "    d = json.loads(r.text)\n",
    "    #get all items in the response which are MIN temp readings\n",
    "    me_min_temps_item = [item for item in d['results'] if item['datatype']=='TMIN']\n",
    "    #get the date field from all MIN temperature readings\n",
    "    me_dates_temp_min += [item['date'] for item in me_min_temps_item]\n",
    "    #get the actual min temperature from all MIN temperature readings\n",
    "    me_temps_min += [item['value'] for item in me_min_temps_item]\n",
    "    #get all items in the response which are MAX temperature readings\n",
    "    me_max_temp_item = [item for item in d['results'] if item['datatype']=='TMAX']\n",
    "    #get the date field from all MAX temperature readings\n",
    "    me_dates_temp_max += [item['date'] for item in me_max_temp_item]\n",
    "    #get the actual average temperature from all MAX temperature readings\n",
    "    me_temps_max += [item['value'] for item in me_max_temp_item]\n",
    "    #get all items in the response which are average PRCP readings\n",
    "    me_avg_prcp = [item for item in d['results'] if item['datatype']=='PRCP']\n",
    "    #get the date field from all average PRCP readings\n",
    "    me_dates_prcp += [item['date'] for item in me_avg_prcp]\n",
    "    #get the actual average precipitation from all average PRCP readings\n",
    "    me_prcp += [item['value'] for item in me_avg_prcp]\n",
    "    \n",
    "print('done')"
   ]
  },
  {
   "cell_type": "code",
   "execution_count": 4,
   "id": "6b49b8e6",
   "metadata": {},
   "outputs": [
    {
     "name": "stdout",
     "output_type": "stream",
     "text": [
      "['2020-01-01T00:00:00', '2020-01-02T00:00:00', '2020-01-03T00:00:00', '2020-01-04T00:00:00', '2020-01-05T00:00:00', '2020-01-06T00:00:00', '2020-01-07T00:00:00', '2020-01-08T00:00:00', '2020-01-09T00:00:00', '2020-01-10T00:00:00', '2020-01-11T00:00:00', '2020-01-12T00:00:00', '2020-01-13T00:00:00', '2020-01-14T00:00:00', '2020-01-15T00:00:00', '2020-01-16T00:00:00', '2020-01-17T00:00:00', '2020-01-18T00:00:00', '2020-01-19T00:00:00', '2020-01-20T00:00:00', '2020-01-21T00:00:00', '2020-01-22T00:00:00', '2020-01-23T00:00:00', '2020-01-24T00:00:00', '2020-01-25T00:00:00', '2020-01-26T00:00:00', '2020-01-27T00:00:00', '2020-01-28T00:00:00', '2020-01-29T00:00:00', '2020-01-30T00:00:00', '2020-01-31T00:00:00', '2020-02-01T00:00:00', '2020-02-02T00:00:00', '2020-02-03T00:00:00', '2020-02-04T00:00:00', '2020-02-05T00:00:00', '2020-02-06T00:00:00', '2020-02-07T00:00:00', '2020-02-08T00:00:00', '2020-02-09T00:00:00', '2020-02-10T00:00:00', '2020-02-11T00:00:00', '2020-02-12T00:00:00', '2020-02-13T00:00:00', '2020-02-14T00:00:00', '2020-02-15T00:00:00', '2020-02-16T00:00:00', '2020-02-17T00:00:00', '2020-02-18T00:00:00', '2020-02-19T00:00:00', '2020-02-20T00:00:00', '2020-02-21T00:00:00', '2020-02-22T00:00:00', '2020-02-23T00:00:00', '2020-02-24T00:00:00', '2020-02-25T00:00:00', '2020-02-26T00:00:00', '2020-02-27T00:00:00', '2020-02-28T00:00:00', '2020-02-29T00:00:00', '2020-03-01T00:00:00', '2020-03-02T00:00:00', '2020-03-03T00:00:00', '2020-03-04T00:00:00', '2020-03-05T00:00:00', '2020-03-06T00:00:00', '2020-03-07T00:00:00', '2020-03-08T00:00:00', '2020-03-09T00:00:00', '2020-03-10T00:00:00', '2020-03-11T00:00:00', '2020-03-12T00:00:00', '2020-03-13T00:00:00', '2020-03-14T00:00:00', '2020-03-15T00:00:00', '2020-03-16T00:00:00', '2020-03-17T00:00:00', '2020-03-18T00:00:00', '2020-03-19T00:00:00', '2020-03-20T00:00:00', '2020-03-21T00:00:00', '2020-03-22T00:00:00', '2020-03-23T00:00:00', '2020-03-24T00:00:00', '2020-03-25T00:00:00', '2020-03-26T00:00:00', '2020-03-27T00:00:00', '2020-03-28T00:00:00', '2020-03-29T00:00:00', '2020-03-30T00:00:00', '2020-03-31T00:00:00', '2020-04-01T00:00:00', '2020-04-02T00:00:00', '2020-04-03T00:00:00', '2020-04-04T00:00:00', '2020-04-05T00:00:00', '2020-04-06T00:00:00', '2020-04-07T00:00:00', '2020-04-08T00:00:00', '2020-04-09T00:00:00', '2020-04-10T00:00:00', '2020-04-11T00:00:00', '2020-04-12T00:00:00', '2020-04-13T00:00:00', '2020-04-14T00:00:00', '2020-04-15T00:00:00', '2020-04-16T00:00:00', '2020-04-17T00:00:00', '2020-04-18T00:00:00', '2020-04-19T00:00:00', '2020-04-20T00:00:00', '2020-04-21T00:00:00', '2020-04-22T00:00:00', '2020-04-23T00:00:00', '2020-04-24T00:00:00', '2020-04-25T00:00:00', '2020-04-26T00:00:00', '2020-04-27T00:00:00', '2020-04-28T00:00:00', '2020-04-29T00:00:00', '2020-04-30T00:00:00', '2020-05-01T00:00:00', '2020-05-02T00:00:00', '2020-05-03T00:00:00', '2020-05-04T00:00:00', '2020-05-05T00:00:00', '2020-05-06T00:00:00', '2020-05-07T00:00:00', '2020-05-08T00:00:00', '2020-05-09T00:00:00', '2020-05-10T00:00:00', '2020-05-11T00:00:00', '2020-05-12T00:00:00', '2020-05-13T00:00:00', '2020-05-14T00:00:00', '2020-05-15T00:00:00', '2020-05-16T00:00:00', '2020-05-17T00:00:00', '2020-05-18T00:00:00', '2020-05-19T00:00:00', '2020-05-20T00:00:00', '2020-05-21T00:00:00', '2020-05-22T00:00:00', '2020-05-23T00:00:00', '2020-05-24T00:00:00', '2020-05-25T00:00:00', '2020-05-26T00:00:00', '2020-05-27T00:00:00', '2020-05-28T00:00:00', '2020-05-29T00:00:00', '2020-05-30T00:00:00', '2020-05-31T00:00:00', '2020-06-01T00:00:00', '2020-06-02T00:00:00', '2020-06-03T00:00:00', '2020-06-04T00:00:00', '2020-06-05T00:00:00', '2020-06-06T00:00:00', '2020-06-07T00:00:00', '2020-06-08T00:00:00', '2020-06-09T00:00:00', '2020-06-10T00:00:00', '2020-06-11T00:00:00', '2020-06-12T00:00:00', '2020-06-13T00:00:00', '2020-06-14T00:00:00', '2020-06-15T00:00:00', '2020-06-16T00:00:00', '2020-06-17T00:00:00', '2020-06-18T00:00:00', '2020-06-19T00:00:00', '2020-06-20T00:00:00', '2020-06-21T00:00:00', '2020-06-22T00:00:00', '2020-06-23T00:00:00', '2020-06-24T00:00:00', '2020-06-25T00:00:00', '2020-06-26T00:00:00', '2020-06-27T00:00:00', '2020-06-28T00:00:00', '2020-06-29T00:00:00', '2020-06-30T00:00:00', '2020-07-01T00:00:00', '2020-07-02T00:00:00', '2020-07-03T00:00:00', '2020-07-04T00:00:00', '2020-07-05T00:00:00', '2020-07-06T00:00:00', '2020-07-07T00:00:00', '2020-07-08T00:00:00', '2020-07-09T00:00:00', '2020-07-10T00:00:00', '2020-07-11T00:00:00', '2020-07-12T00:00:00', '2020-07-13T00:00:00', '2020-07-14T00:00:00', '2020-07-15T00:00:00', '2020-07-16T00:00:00', '2020-07-17T00:00:00', '2020-07-18T00:00:00', '2020-07-19T00:00:00', '2020-07-20T00:00:00', '2020-07-21T00:00:00', '2020-07-22T00:00:00', '2020-07-23T00:00:00', '2020-07-24T00:00:00', '2020-07-25T00:00:00', '2020-07-26T00:00:00', '2020-07-27T00:00:00', '2020-07-28T00:00:00', '2020-07-29T00:00:00', '2020-07-30T00:00:00', '2020-07-31T00:00:00', '2020-08-01T00:00:00', '2020-08-02T00:00:00', '2020-08-03T00:00:00', '2020-08-04T00:00:00', '2020-08-05T00:00:00', '2020-08-06T00:00:00', '2020-08-07T00:00:00', '2020-08-08T00:00:00', '2020-08-09T00:00:00', '2020-08-10T00:00:00', '2020-08-11T00:00:00', '2020-08-12T00:00:00', '2020-08-13T00:00:00', '2020-08-14T00:00:00', '2020-08-15T00:00:00', '2020-08-16T00:00:00', '2020-08-17T00:00:00', '2020-08-18T00:00:00', '2020-08-19T00:00:00', '2020-08-20T00:00:00', '2020-08-21T00:00:00', '2020-08-22T00:00:00', '2020-08-23T00:00:00', '2020-08-24T00:00:00', '2020-08-25T00:00:00', '2020-08-26T00:00:00', '2020-08-27T00:00:00', '2020-08-28T00:00:00', '2020-08-29T00:00:00', '2020-08-30T00:00:00', '2020-08-31T00:00:00', '2020-09-01T00:00:00', '2020-09-02T00:00:00', '2020-09-03T00:00:00', '2020-09-04T00:00:00', '2020-09-05T00:00:00', '2020-09-06T00:00:00', '2020-09-08T00:00:00', '2020-09-09T00:00:00', '2020-09-10T00:00:00', '2020-09-11T00:00:00', '2020-09-12T00:00:00', '2020-09-13T00:00:00', '2020-09-14T00:00:00', '2020-09-15T00:00:00', '2020-09-16T00:00:00', '2020-09-17T00:00:00', '2020-09-18T00:00:00', '2020-09-19T00:00:00', '2020-09-20T00:00:00', '2020-09-21T00:00:00', '2020-09-22T00:00:00', '2020-09-23T00:00:00', '2020-09-24T00:00:00', '2020-09-25T00:00:00', '2020-09-26T00:00:00', '2020-09-27T00:00:00', '2020-09-28T00:00:00', '2020-09-29T00:00:00', '2020-09-30T00:00:00', '2020-10-01T00:00:00', '2020-10-02T00:00:00', '2020-10-03T00:00:00', '2020-10-04T00:00:00', '2020-10-05T00:00:00', '2020-10-06T00:00:00', '2020-10-07T00:00:00', '2020-10-08T00:00:00', '2020-10-09T00:00:00', '2020-10-10T00:00:00', '2020-10-11T00:00:00', '2020-10-12T00:00:00', '2020-10-13T00:00:00', '2020-10-14T00:00:00', '2020-10-15T00:00:00', '2020-10-16T00:00:00', '2020-10-17T00:00:00', '2020-10-18T00:00:00', '2020-10-19T00:00:00', '2020-10-20T00:00:00', '2020-10-21T00:00:00', '2020-10-22T00:00:00', '2020-10-23T00:00:00', '2020-10-24T00:00:00', '2020-10-25T00:00:00', '2020-10-26T00:00:00', '2020-10-27T00:00:00', '2020-10-28T00:00:00', '2020-10-29T00:00:00', '2020-10-30T00:00:00', '2020-10-31T00:00:00', '2020-11-01T00:00:00', '2020-11-02T00:00:00', '2020-11-03T00:00:00', '2020-11-04T00:00:00', '2020-11-05T00:00:00', '2020-11-06T00:00:00', '2020-11-07T00:00:00', '2020-11-08T00:00:00', '2020-11-09T00:00:00', '2020-11-10T00:00:00', '2020-11-11T00:00:00', '2020-11-12T00:00:00', '2020-11-13T00:00:00', '2020-11-14T00:00:00', '2020-11-15T00:00:00', '2020-11-16T00:00:00', '2020-11-17T00:00:00', '2020-11-18T00:00:00', '2020-11-19T00:00:00', '2020-11-20T00:00:00', '2020-11-21T00:00:00', '2020-11-22T00:00:00', '2020-11-23T00:00:00', '2020-11-24T00:00:00', '2020-11-25T00:00:00', '2020-11-26T00:00:00', '2020-11-27T00:00:00', '2020-11-28T00:00:00', '2020-11-29T00:00:00', '2021-01-01T00:00:00', '2021-01-02T00:00:00', '2021-01-03T00:00:00', '2021-01-04T00:00:00', '2021-01-05T00:00:00', '2021-01-06T00:00:00', '2021-01-07T00:00:00', '2021-01-08T00:00:00', '2021-01-09T00:00:00', '2021-01-10T00:00:00', '2021-01-11T00:00:00', '2021-01-12T00:00:00', '2021-01-13T00:00:00', '2021-01-14T00:00:00', '2021-01-15T00:00:00', '2021-01-16T00:00:00', '2021-01-17T00:00:00', '2021-01-18T00:00:00', '2021-01-19T00:00:00', '2021-01-20T00:00:00', '2021-01-21T00:00:00', '2021-01-22T00:00:00', '2021-01-23T00:00:00', '2021-01-24T00:00:00', '2021-01-25T00:00:00', '2021-01-26T00:00:00', '2021-01-27T00:00:00', '2021-01-28T00:00:00', '2021-01-29T00:00:00', '2021-01-30T00:00:00', '2021-01-31T00:00:00', '2021-02-01T00:00:00', '2021-02-02T00:00:00', '2021-02-03T00:00:00', '2021-02-04T00:00:00', '2021-02-05T00:00:00', '2021-02-06T00:00:00', '2021-02-07T00:00:00', '2021-02-08T00:00:00', '2021-02-09T00:00:00', '2021-02-10T00:00:00', '2021-02-11T00:00:00', '2021-02-12T00:00:00', '2021-02-13T00:00:00', '2021-02-14T00:00:00', '2021-02-15T00:00:00', '2021-02-16T00:00:00', '2021-02-17T00:00:00', '2021-02-18T00:00:00', '2021-02-19T00:00:00', '2021-02-20T00:00:00', '2021-02-21T00:00:00', '2021-02-22T00:00:00', '2021-02-23T00:00:00', '2021-02-24T00:00:00', '2021-02-25T00:00:00', '2021-02-26T00:00:00', '2021-02-27T00:00:00', '2021-02-28T00:00:00', '2021-03-01T00:00:00', '2021-03-02T00:00:00', '2021-03-03T00:00:00', '2021-03-04T00:00:00', '2021-03-05T00:00:00', '2021-03-06T00:00:00', '2021-03-07T00:00:00', '2021-03-08T00:00:00', '2021-03-09T00:00:00', '2021-03-10T00:00:00', '2021-03-11T00:00:00', '2021-03-12T00:00:00', '2021-03-13T00:00:00', '2021-03-14T00:00:00', '2021-03-15T00:00:00', '2021-03-16T00:00:00', '2021-03-17T00:00:00', '2021-03-18T00:00:00', '2021-03-19T00:00:00', '2021-03-20T00:00:00', '2021-03-21T00:00:00', '2021-03-22T00:00:00', '2021-03-23T00:00:00', '2021-03-24T00:00:00', '2021-03-25T00:00:00', '2021-03-26T00:00:00', '2021-03-27T00:00:00', '2021-03-28T00:00:00', '2021-03-29T00:00:00', '2021-03-30T00:00:00', '2021-03-31T00:00:00', '2021-04-01T00:00:00', '2021-04-02T00:00:00', '2021-04-03T00:00:00', '2021-04-04T00:00:00', '2021-04-05T00:00:00', '2021-04-06T00:00:00', '2021-04-07T00:00:00', '2021-04-08T00:00:00', '2021-04-09T00:00:00', '2021-04-10T00:00:00', '2021-04-11T00:00:00', '2021-04-12T00:00:00', '2021-04-13T00:00:00', '2021-04-14T00:00:00', '2021-04-15T00:00:00', '2021-04-16T00:00:00', '2021-04-17T00:00:00', '2021-04-18T00:00:00', '2021-04-19T00:00:00', '2021-04-20T00:00:00', '2021-04-21T00:00:00', '2021-04-22T00:00:00', '2021-04-23T00:00:00', '2021-04-24T00:00:00', '2021-04-25T00:00:00', '2021-04-26T00:00:00', '2021-04-27T00:00:00', '2021-04-28T00:00:00', '2021-04-29T00:00:00', '2021-04-30T00:00:00', '2021-05-01T00:00:00', '2021-05-02T00:00:00', '2021-05-03T00:00:00', '2021-05-04T00:00:00', '2021-05-05T00:00:00', '2021-05-06T00:00:00', '2021-05-07T00:00:00', '2021-05-08T00:00:00', '2021-05-09T00:00:00', '2021-05-10T00:00:00', '2021-05-11T00:00:00', '2021-05-12T00:00:00', '2021-05-13T00:00:00', '2021-05-14T00:00:00', '2021-05-15T00:00:00', '2021-05-16T00:00:00', '2021-05-17T00:00:00', '2021-05-18T00:00:00', '2021-05-19T00:00:00', '2021-05-20T00:00:00', '2021-05-21T00:00:00', '2021-05-22T00:00:00', '2021-05-23T00:00:00', '2021-05-24T00:00:00', '2021-05-25T00:00:00', '2021-05-26T00:00:00', '2021-05-27T00:00:00', '2021-05-28T00:00:00', '2021-05-29T00:00:00', '2021-05-30T00:00:00', '2021-05-31T00:00:00', '2021-06-01T00:00:00', '2021-06-02T00:00:00', '2021-06-03T00:00:00', '2021-06-04T00:00:00', '2021-06-05T00:00:00', '2021-06-06T00:00:00', '2021-06-07T00:00:00', '2021-06-08T00:00:00', '2021-06-09T00:00:00', '2021-06-10T00:00:00', '2021-06-11T00:00:00', '2021-06-12T00:00:00', '2021-06-13T00:00:00', '2021-06-14T00:00:00', '2021-06-15T00:00:00', '2021-06-16T00:00:00', '2021-06-17T00:00:00', '2021-06-18T00:00:00', '2021-06-19T00:00:00', '2021-06-20T00:00:00', '2021-06-21T00:00:00', '2021-06-22T00:00:00', '2021-06-23T00:00:00', '2021-06-24T00:00:00', '2021-06-25T00:00:00', '2021-06-26T00:00:00', '2021-06-27T00:00:00', '2021-06-28T00:00:00', '2021-06-29T00:00:00', '2021-06-30T00:00:00', '2021-07-01T00:00:00', '2021-07-02T00:00:00', '2021-07-03T00:00:00', '2021-07-04T00:00:00', '2021-07-05T00:00:00', '2021-07-06T00:00:00', '2021-07-07T00:00:00', '2021-07-08T00:00:00', '2021-07-09T00:00:00', '2021-07-10T00:00:00', '2021-07-11T00:00:00', '2021-07-12T00:00:00', '2021-07-13T00:00:00', '2021-07-14T00:00:00', '2021-07-15T00:00:00', '2021-07-16T00:00:00', '2021-07-17T00:00:00', '2021-07-18T00:00:00', '2021-07-19T00:00:00', '2021-07-20T00:00:00', '2021-07-21T00:00:00', '2021-07-22T00:00:00', '2021-07-23T00:00:00', '2021-07-24T00:00:00', '2021-07-25T00:00:00', '2021-07-26T00:00:00', '2021-07-27T00:00:00', '2021-07-28T00:00:00', '2021-07-29T00:00:00', '2021-07-30T00:00:00', '2021-07-31T00:00:00', '2021-08-01T00:00:00', '2021-08-02T00:00:00', '2021-08-03T00:00:00', '2021-08-04T00:00:00', '2021-08-05T00:00:00', '2021-08-06T00:00:00', '2021-08-07T00:00:00', '2021-08-08T00:00:00', '2021-08-09T00:00:00', '2021-08-10T00:00:00', '2021-08-11T00:00:00', '2021-08-12T00:00:00', '2021-08-13T00:00:00', '2021-08-14T00:00:00', '2021-08-15T00:00:00', '2021-08-16T00:00:00', '2021-08-17T00:00:00', '2021-08-18T00:00:00', '2021-08-19T00:00:00', '2021-08-20T00:00:00', '2021-08-21T00:00:00', '2021-08-22T00:00:00', '2021-08-23T00:00:00', '2021-08-24T00:00:00', '2021-08-25T00:00:00', '2021-08-26T00:00:00', '2021-08-27T00:00:00', '2021-08-28T00:00:00', '2021-08-29T00:00:00', '2021-08-30T00:00:00', '2021-08-31T00:00:00', '2021-09-01T00:00:00', '2021-09-02T00:00:00', '2021-09-03T00:00:00', '2021-09-04T00:00:00', '2021-09-05T00:00:00', '2021-09-06T00:00:00', '2021-09-07T00:00:00', '2021-09-08T00:00:00', '2021-09-09T00:00:00', '2021-09-10T00:00:00', '2021-09-11T00:00:00', '2021-09-12T00:00:00', '2021-09-13T00:00:00', '2021-09-14T00:00:00', '2021-09-15T00:00:00', '2021-09-16T00:00:00', '2021-09-17T00:00:00', '2021-09-18T00:00:00', '2021-09-19T00:00:00', '2021-09-20T00:00:00', '2021-09-21T00:00:00', '2021-09-22T00:00:00', '2021-09-23T00:00:00', '2021-09-24T00:00:00', '2021-09-25T00:00:00', '2021-09-26T00:00:00', '2021-09-27T00:00:00', '2021-09-28T00:00:00']\n"
     ]
    }
   ],
   "source": [
    "print(me_dates_temp_min)"
   ]
  },
  {
   "cell_type": "markdown",
   "id": "b8bfc69e",
   "metadata": {},
   "source": [
    "As we can see: Maine is missing data from 11/30-12/31"
   ]
  },
  {
   "cell_type": "markdown",
   "id": "36017d48",
   "metadata": {},
   "source": [
    "## MAINE: 11/30-12/31"
   ]
  },
  {
   "cell_type": "code",
   "execution_count": 5,
   "id": "8d155132",
   "metadata": {},
   "outputs": [
    {
     "name": "stdout",
     "output_type": "stream",
     "text": [
      "working on year 2020\n",
      "done\n"
     ]
    }
   ],
   "source": [
    "me_dates_temp_min2 = []\n",
    "me_dates_temp_max2 = []\n",
    "me_dates_prcp2 = []\n",
    "me_temps_min2 = []\n",
    "me_temps_max2 = []\n",
    "me_prcp2 = []\n",
    "\n",
    "#select only from year 2020...\n",
    "for year in range(2020, 2021):\n",
    "    year = str(year)\n",
    "    print('working on year '+year)\n",
    "    \n",
    "    #make the api call for specififc date range: 11/30/20-12/31/20\n",
    "    r = requests.get('https://www.ncdc.noaa.gov/cdo-web/api/v2/data?datasetid=GHCND&datatypeid=PRCP&&datatypeid=TMAX&datatypeid=TMIN&limit=1000&stationid=GHCND:USW00094626&startdate=2020-11-30&enddate=2020-12-31', headers={'token':Token})\n",
    "    d = json.loads(r.text)\n",
    "    #get all items in the response which are MIN temp readings\n",
    "    me_min_temps_item = [item for item in d['results'] if item['datatype']=='TMIN']\n",
    "    #get the date field from all MIN temperature readings\n",
    "    me_dates_temp_min2 += [item['date'] for item in me_min_temps_item]\n",
    "    #get the actual min temperature from all MIN temperature readings\n",
    "    me_temps_min2 += [item['value'] for item in me_min_temps_item]\n",
    "    #get all items in the response which are MAX temperature readings\n",
    "    me_max_temp_item = [item for item in d['results'] if item['datatype']=='TMAX']\n",
    "    #get the date field from all MAX temperature readings\n",
    "    me_dates_temp_max2 += [item['date'] for item in me_max_temp_item]\n",
    "    #get the actual average temperature from all MAX temperature readings\n",
    "    me_temps_max2 += [item['value'] for item in me_max_temp_item]\n",
    "    #get all items in the response which are average PRCP readings\n",
    "    me_avg_prcp2 = [item for item in d['results'] if item['datatype']=='PRCP']\n",
    "    #get the date field from all average PRCP readings\n",
    "    me_dates_prcp2 += [item['date'] for item in me_avg_prcp2]\n",
    "    #get the actual average precipitation from all average PRCP readings\n",
    "    me_prcp2 += [item['value'] for item in me_avg_prcp2]\n",
    "    \n",
    "print('done')"
   ]
  },
  {
   "cell_type": "code",
   "execution_count": 6,
   "id": "0625f30f",
   "metadata": {},
   "outputs": [],
   "source": [
    "def insert_list(base_list, inserted_list, last_pos):\n",
    "    for i in range(len(inserted_list)):\n",
    "        pos = (base_list.index(last_pos) + 1)\n",
    "        base_list.insert(i + pos, inserted_list[i])"
   ]
  },
  {
   "cell_type": "code",
   "execution_count": 10,
   "id": "c453e606",
   "metadata": {},
   "outputs": [],
   "source": [
    "def insert_state(list_of_lists, last_pos):\n",
    "    insert_list(list_of_lists[0], list_of_lists[6], (list_of_lists[0].index(last_pos)+1))\n",
    "    insert_list(list_of_lists[1], list_of_lists[7], (list_of_lists[1].index(last_pos)+1))\n",
    "    insert_list(list_of_lists[2], list_of_lists[8], (list_of_lists[2].index(last_pos)+1))\n",
    "    insert_list(list_of_lists[3], list_of_lists[9], (list_of_lists[3].index(last_pos)+1))\n",
    "    insert_list(list_of_lists[4], list_of_lists[10], (list_of_lists[4].index(last_pos)+1))\n",
    "    insert_list(list_of_lists[5], list_of_lists[11], (list_of_lists[5].index(last_pos)+1))"
   ]
  },
  {
   "cell_type": "code",
   "execution_count": 17,
   "id": "5e823ec2",
   "metadata": {},
   "outputs": [],
   "source": [
    "maine_lol = [me_dates_temp_min, me_dates_temp_max, me_dates_prcp, me_temps_min, me_temps_max, me_prcp, me_dates_temp_min2, me_dates_temp_max2,me_dates_prcp2, me_temps_min2, me_temps_max2, me_prcp2]"
   ]
  },
  {
   "cell_type": "code",
   "execution_count": null,
   "id": "1518dc8b",
   "metadata": {},
   "outputs": [],
   "source": [
    "'''insert_list(me_dates_temp_min, me_dates_temp_min2, '2020-11-29T00:00:00')'''"
   ]
  },
  {
   "cell_type": "code",
   "execution_count": null,
   "id": "b85d97ed",
   "metadata": {},
   "outputs": [],
   "source": [
    "#me_dates_temp_min"
   ]
  },
  {
   "cell_type": "code",
   "execution_count": 27,
   "id": "ce35d37d",
   "metadata": {},
   "outputs": [],
   "source": [
    "def insert_list(base_list, inserted_list, last_pos):\n",
    "    for i in range(len(inserted_list)):\n",
    "        base_list.insert(i + last_pos, inserted_list[i])"
   ]
  },
  {
   "cell_type": "code",
   "execution_count": 28,
   "id": "7f60ba09",
   "metadata": {},
   "outputs": [],
   "source": [
    "def insert_state(list_of_lists, last_date):\n",
    "    last_pos = (list_of_lists[0].index(last_date)+1)\n",
    "    insert_list(list_of_lists[0], list_of_lists[6], last_pos)\n",
    "    insert_list(list_of_lists[1], list_of_lists[7], last_pos)\n",
    "    insert_list(list_of_lists[2], list_of_lists[8], last_pos)\n",
    "    insert_list(list_of_lists[3], list_of_lists[9], last_pos)\n",
    "    insert_list(list_of_lists[4], list_of_lists[10], last_pos)\n",
    "    insert_list(list_of_lists[5], list_of_lists[11], last_pos)"
   ]
  },
  {
   "cell_type": "code",
   "execution_count": 26,
   "id": "70901a57",
   "metadata": {},
   "outputs": [
    {
     "ename": "ValueError",
     "evalue": "invalid literal for int() with base 10: '2020-11-29T00:00:00'",
     "output_type": "error",
     "traceback": [
      "\u001b[0;31m---------------------------------------------------------------------------\u001b[0m",
      "\u001b[0;31mValueError\u001b[0m                                Traceback (most recent call last)",
      "\u001b[0;32m<ipython-input-26-490807b58441>\u001b[0m in \u001b[0;36m<module>\u001b[0;34m\u001b[0m\n\u001b[0;32m----> 1\u001b[0;31m \u001b[0minsert_list\u001b[0m\u001b[0;34m(\u001b[0m\u001b[0mme_temps_min\u001b[0m\u001b[0;34m,\u001b[0m \u001b[0mme_temps_min2\u001b[0m\u001b[0;34m,\u001b[0m \u001b[0;34m'2020-11-29T00:00:00'\u001b[0m\u001b[0;34m)\u001b[0m\u001b[0;34m\u001b[0m\u001b[0;34m\u001b[0m\u001b[0m\n\u001b[0m",
      "\u001b[0;32m<ipython-input-24-ed3748dbca3d>\u001b[0m in \u001b[0;36minsert_list\u001b[0;34m(base_list, inserted_list, last_pos)\u001b[0m\n\u001b[1;32m      1\u001b[0m \u001b[0;32mdef\u001b[0m \u001b[0minsert_list\u001b[0m\u001b[0;34m(\u001b[0m\u001b[0mbase_list\u001b[0m\u001b[0;34m,\u001b[0m \u001b[0minserted_list\u001b[0m\u001b[0;34m,\u001b[0m \u001b[0mlast_pos\u001b[0m\u001b[0;34m)\u001b[0m\u001b[0;34m:\u001b[0m\u001b[0;34m\u001b[0m\u001b[0;34m\u001b[0m\u001b[0m\n\u001b[1;32m      2\u001b[0m     \u001b[0;32mfor\u001b[0m \u001b[0mi\u001b[0m \u001b[0;32min\u001b[0m \u001b[0mrange\u001b[0m\u001b[0;34m(\u001b[0m\u001b[0mlen\u001b[0m\u001b[0;34m(\u001b[0m\u001b[0minserted_list\u001b[0m\u001b[0;34m)\u001b[0m\u001b[0;34m)\u001b[0m\u001b[0;34m:\u001b[0m\u001b[0;34m\u001b[0m\u001b[0;34m\u001b[0m\u001b[0m\n\u001b[0;32m----> 3\u001b[0;31m         \u001b[0mbase_list\u001b[0m\u001b[0;34m.\u001b[0m\u001b[0minsert\u001b[0m\u001b[0;34m(\u001b[0m\u001b[0mi\u001b[0m \u001b[0;34m+\u001b[0m \u001b[0mint\u001b[0m\u001b[0;34m(\u001b[0m\u001b[0mlast_pos\u001b[0m\u001b[0;34m)\u001b[0m\u001b[0;34m,\u001b[0m \u001b[0minserted_list\u001b[0m\u001b[0;34m[\u001b[0m\u001b[0mi\u001b[0m\u001b[0;34m]\u001b[0m\u001b[0;34m)\u001b[0m\u001b[0;34m\u001b[0m\u001b[0;34m\u001b[0m\u001b[0m\n\u001b[0m",
      "\u001b[0;31mValueError\u001b[0m: invalid literal for int() with base 10: '2020-11-29T00:00:00'"
     ]
    }
   ],
   "source": [
    "#insert_list(me_temps_min, me_temps_min2, '2020-11-29T00:00:00')"
   ]
  },
  {
   "cell_type": "code",
   "execution_count": null,
   "id": "57ff491e",
   "metadata": {},
   "outputs": [],
   "source": []
  },
  {
   "cell_type": "code",
   "execution_count": 29,
   "id": "c78252ad",
   "metadata": {},
   "outputs": [],
   "source": [
    "insert_state(maine_lol,'2020-11-29T00:00:00')"
   ]
  },
  {
   "cell_type": "code",
   "execution_count": 33,
   "id": "fd65674c",
   "metadata": {},
   "outputs": [
    {
     "data": {
      "text/plain": [
       "-5"
      ]
     },
     "execution_count": 33,
     "metadata": {},
     "output_type": "execute_result"
    }
   ],
   "source": [
    "me_temps_min"
   ]
  },
  {
   "cell_type": "code",
   "execution_count": 34,
   "id": "4e7af129",
   "metadata": {},
   "outputs": [
    {
     "name": "stdout",
     "output_type": "stream",
     "text": [
      "636\n"
     ]
    }
   ],
   "source": [
    "print(len(me_temps_min))"
   ]
  },
  {
   "cell_type": "code",
   "execution_count": 13,
   "id": "7f47b316",
   "metadata": {},
   "outputs": [
    {
     "data": {
      "text/plain": [
       "'2021-01-01T00:00:00'"
      ]
     },
     "execution_count": 13,
     "metadata": {},
     "output_type": "execute_result"
    }
   ],
   "source": [
    "me_dates_temp_min[333]"
   ]
  },
  {
   "cell_type": "code",
   "execution_count": 35,
   "id": "73addd7f",
   "metadata": {},
   "outputs": [
    {
     "name": "stdout",
     "output_type": "stream",
     "text": [
      "636\n"
     ]
    }
   ],
   "source": [
    "print(len(me_dates_temp_min))"
   ]
  },
  {
   "cell_type": "code",
   "execution_count": null,
   "id": "436a8e74",
   "metadata": {},
   "outputs": [],
   "source": [
    "insert_list(me_dates_temp_min2, me_dates_temp_min, '2020-11-29T00:00:00')"
   ]
  },
  {
   "cell_type": "code",
   "execution_count": null,
   "id": "ac84dc31",
   "metadata": {},
   "outputs": [],
   "source": [
    "def insert_state(list_of_lists, last_pos):\n",
    "    insert_list(list_of_lists[0], list_of_lists[6])\n",
    "    insert_list(list_of_lists[1], list_of_lists[7])\n",
    "    insert_list(list_of_lists[2], list_of_lists[8])\n",
    "    insert_list(list_of_lists[3], list_of_lists[9])\n",
    "    insert_list(list_of_lists[4], list_of_lists[10])\n",
    "    insert_list(list_of_lists[5], list_of_lists[11])"
   ]
  },
  {
   "cell_type": "code",
   "execution_count": null,
   "id": "90ed59d5",
   "metadata": {},
   "outputs": [],
   "source": [
    "maine_lol = [me_dates_temp_min, me_dates_temp_max, me_dates_prcp, me_temps_min, me_temps_max, me_prcp, me_dates_temp_min2, me_dates_temp_max2,me_dates_prcp2, me_temps_min2, me_temps_max2, me_prcp2]\n",
    "                 \n",
    "                       "
   ]
  },
  {
   "cell_type": "code",
   "execution_count": null,
   "id": "6bc635be",
   "metadata": {},
   "outputs": [],
   "source": [
    "\n",
    "0 me_dates_temp_min, --\n",
    "1 me_dates_temp_max, --\n",
    "2 me_dates_prcp, --\n",
    "3 me_temps_min, \n",
    "4 me_temps_max, \n",
    "5 me_prcp, \n",
    "6 me_dates_temp_min2, \n",
    "7 me_dates_temp_max2,\n",
    "8 me_dates_prcp2, \n",
    "9 me_temps_min2, \n",
    "10 me_temps_max2, \n",
    "11 me_prcp2"
   ]
  },
  {
   "cell_type": "code",
   "execution_count": null,
   "id": "63755648",
   "metadata": {},
   "outputs": [],
   "source": []
  },
  {
   "cell_type": "code",
   "execution_count": null,
   "id": "aa246825",
   "metadata": {},
   "outputs": [],
   "source": []
  },
  {
   "cell_type": "code",
   "execution_count": null,
   "id": "c3f50ed6",
   "metadata": {},
   "outputs": [],
   "source": [
    "print(me_dates_temp_min)"
   ]
  },
  {
   "cell_type": "code",
   "execution_count": null,
   "id": "5ca3d55e",
   "metadata": {},
   "outputs": [],
   "source": []
  },
  {
   "cell_type": "code",
   "execution_count": null,
   "id": "fb276398",
   "metadata": {},
   "outputs": [],
   "source": []
  },
  {
   "cell_type": "code",
   "execution_count": null,
   "id": "50ef593e",
   "metadata": {},
   "outputs": [],
   "source": [
    "pos = (Xme_dates_temp_min.index(\"2020-11-29T00:00:00\"))"
   ]
  },
  {
   "cell_type": "code",
   "execution_count": null,
   "id": "75042669",
   "metadata": {},
   "outputs": [],
   "source": [
    "pos"
   ]
  },
  {
   "cell_type": "code",
   "execution_count": null,
   "id": "6bce0a53",
   "metadata": {},
   "outputs": [],
   "source": []
  },
  {
   "cell_type": "code",
   "execution_count": null,
   "id": "312e9031",
   "metadata": {},
   "outputs": [],
   "source": [
    ">>> [\"foo\", \"bar\", \"baz\"].index(\"bar\")\n",
    "1"
   ]
  },
  {
   "cell_type": "markdown",
   "id": "f36d79f0",
   "metadata": {},
   "source": [
    "# VT: need 11/29/20 -12/31/20"
   ]
  },
  {
   "cell_type": "code",
   "execution_count": 40,
   "id": "1c961a3e",
   "metadata": {},
   "outputs": [
    {
     "name": "stdout",
     "output_type": "stream",
     "text": [
      "working on year 2020\n",
      "working on year 2021\n",
      "done\n"
     ]
    }
   ],
   "source": [
    "#Create empty lists to store VT data\n",
    "#Note: avg temp not available for Vermont, so will use temp min and temp max instead\n",
    "vt_dates_temp_min = []\n",
    "vt_dates_temp_max = []\n",
    "vt_dates_prcp = []\n",
    "vt_temps_min = []\n",
    "vt_temps_max = []\n",
    "vt_prcp = []\n",
    "\n",
    "#for each year from 2020-2021 ...\n",
    "for year in range(2020, 2022):\n",
    "    year = str(year)\n",
    "    print('working on year '+year)\n",
    "    \n",
    "    #make the api call\n",
    "    r = requests.get('https://www.ncdc.noaa.gov/cdo-web/api/v2/data?datasetid=GHCND&datatypeid=PRCP&&datatypeid=TMAX&datatypeid=TMIN&limit=1000&stationid=GHCND:USW00014742&startdate='+year+'-01-01&enddate='+year+'-12-31', headers={'token':Token})\n",
    "    #load the api response as a json\n",
    "    d = json.loads(r.text)\n",
    "    #get all items in the response which are MIN temp readings\n",
    "    vt_min_temps_item = [item for item in d['results'] if item['datatype']=='TMIN']\n",
    "    #get the date field from all MIN temperature readings\n",
    "    vt_dates_temp_min += [item['date'] for item in vt_min_temps_item]\n",
    "    #get the actual min temperature from all MIN temperature readings\n",
    "    vt_temps_min += [item['value'] for item in vt_min_temps_item]\n",
    "    #get all items in the response which are MAX temperature readings\n",
    "    vt_max_temp_item = [item for item in d['results'] if item['datatype']=='TMAX']\n",
    "    #get the date field from all MAX temperature readings\n",
    "    vt_dates_temp_max += [item['date'] for item in vt_max_temp_item]\n",
    "    #get the actual average temperature from all MAX temperature readings\n",
    "    vt_temps_max += [item['value'] for item in vt_max_temp_item]\n",
    "    #get all items in the response which are average PRCP readings\n",
    "    vt_avg_prcp = [item for item in d['results'] if item['datatype']=='PRCP']\n",
    "    #get the date field from all average PRCP readings\n",
    "    vt_dates_prcp += [item['date'] for item in vt_avg_prcp]\n",
    "    #get the actual average precipitation from all average PRCP readings\n",
    "    vt_prcp += [item['value'] for item in vt_avg_prcp]\n",
    "    \n",
    "print('done')"
   ]
  },
  {
   "cell_type": "code",
   "execution_count": 41,
   "id": "46ae61b3",
   "metadata": {},
   "outputs": [
    {
     "name": "stdout",
     "output_type": "stream",
     "text": [
      "['2020-01-01T00:00:00', '2020-01-02T00:00:00', '2020-01-03T00:00:00', '2020-01-04T00:00:00', '2020-01-05T00:00:00', '2020-01-06T00:00:00', '2020-01-07T00:00:00', '2020-01-08T00:00:00', '2020-01-09T00:00:00', '2020-01-10T00:00:00', '2020-01-11T00:00:00', '2020-01-12T00:00:00', '2020-01-13T00:00:00', '2020-01-14T00:00:00', '2020-01-15T00:00:00', '2020-01-16T00:00:00', '2020-01-17T00:00:00', '2020-01-18T00:00:00', '2020-01-19T00:00:00', '2020-01-20T00:00:00', '2020-01-21T00:00:00', '2020-01-22T00:00:00', '2020-01-23T00:00:00', '2020-01-24T00:00:00', '2020-01-25T00:00:00', '2020-01-26T00:00:00', '2020-01-27T00:00:00', '2020-01-28T00:00:00', '2020-01-29T00:00:00', '2020-01-30T00:00:00', '2020-01-31T00:00:00', '2020-02-01T00:00:00', '2020-02-02T00:00:00', '2020-02-03T00:00:00', '2020-02-04T00:00:00', '2020-02-05T00:00:00', '2020-02-06T00:00:00', '2020-02-07T00:00:00', '2020-02-08T00:00:00', '2020-02-09T00:00:00', '2020-02-10T00:00:00', '2020-02-11T00:00:00', '2020-02-12T00:00:00', '2020-02-13T00:00:00', '2020-02-14T00:00:00', '2020-02-15T00:00:00', '2020-02-16T00:00:00', '2020-02-17T00:00:00', '2020-02-18T00:00:00', '2020-02-19T00:00:00', '2020-02-20T00:00:00', '2020-02-21T00:00:00', '2020-02-22T00:00:00', '2020-02-23T00:00:00', '2020-02-24T00:00:00', '2020-02-25T00:00:00', '2020-02-26T00:00:00', '2020-02-27T00:00:00', '2020-02-28T00:00:00', '2020-02-29T00:00:00', '2020-03-01T00:00:00', '2020-03-02T00:00:00', '2020-03-03T00:00:00', '2020-03-04T00:00:00', '2020-03-05T00:00:00', '2020-03-06T00:00:00', '2020-03-07T00:00:00', '2020-03-08T00:00:00', '2020-03-09T00:00:00', '2020-03-10T00:00:00', '2020-03-11T00:00:00', '2020-03-12T00:00:00', '2020-03-13T00:00:00', '2020-03-14T00:00:00', '2020-03-15T00:00:00', '2020-03-16T00:00:00', '2020-03-17T00:00:00', '2020-03-18T00:00:00', '2020-03-19T00:00:00', '2020-03-20T00:00:00', '2020-03-21T00:00:00', '2020-03-22T00:00:00', '2020-03-23T00:00:00', '2020-03-24T00:00:00', '2020-03-25T00:00:00', '2020-03-26T00:00:00', '2020-03-27T00:00:00', '2020-03-28T00:00:00', '2020-03-29T00:00:00', '2020-03-30T00:00:00', '2020-03-31T00:00:00', '2020-04-01T00:00:00', '2020-04-02T00:00:00', '2020-04-03T00:00:00', '2020-04-04T00:00:00', '2020-04-05T00:00:00', '2020-04-06T00:00:00', '2020-04-07T00:00:00', '2020-04-08T00:00:00', '2020-04-09T00:00:00', '2020-04-10T00:00:00', '2020-04-11T00:00:00', '2020-04-12T00:00:00', '2020-04-13T00:00:00', '2020-04-14T00:00:00', '2020-04-15T00:00:00', '2020-04-16T00:00:00', '2020-04-17T00:00:00', '2020-04-18T00:00:00', '2020-04-19T00:00:00', '2020-04-20T00:00:00', '2020-04-21T00:00:00', '2020-04-22T00:00:00', '2020-04-23T00:00:00', '2020-04-24T00:00:00', '2020-04-25T00:00:00', '2020-04-26T00:00:00', '2020-04-27T00:00:00', '2020-04-28T00:00:00', '2020-04-29T00:00:00', '2020-04-30T00:00:00', '2020-05-01T00:00:00', '2020-05-02T00:00:00', '2020-05-03T00:00:00', '2020-05-04T00:00:00', '2020-05-05T00:00:00', '2020-05-06T00:00:00', '2020-05-07T00:00:00', '2020-05-08T00:00:00', '2020-05-09T00:00:00', '2020-05-10T00:00:00', '2020-05-11T00:00:00', '2020-05-12T00:00:00', '2020-05-13T00:00:00', '2020-05-14T00:00:00', '2020-05-15T00:00:00', '2020-05-16T00:00:00', '2020-05-17T00:00:00', '2020-05-18T00:00:00', '2020-05-19T00:00:00', '2020-05-20T00:00:00', '2020-05-21T00:00:00', '2020-05-22T00:00:00', '2020-05-23T00:00:00', '2020-05-24T00:00:00', '2020-05-25T00:00:00', '2020-05-26T00:00:00', '2020-05-27T00:00:00', '2020-05-28T00:00:00', '2020-05-29T00:00:00', '2020-05-30T00:00:00', '2020-05-31T00:00:00', '2020-06-01T00:00:00', '2020-06-02T00:00:00', '2020-06-03T00:00:00', '2020-06-04T00:00:00', '2020-06-05T00:00:00', '2020-06-06T00:00:00', '2020-06-07T00:00:00', '2020-06-08T00:00:00', '2020-06-09T00:00:00', '2020-06-10T00:00:00', '2020-06-11T00:00:00', '2020-06-12T00:00:00', '2020-06-13T00:00:00', '2020-06-14T00:00:00', '2020-06-15T00:00:00', '2020-06-16T00:00:00', '2020-06-17T00:00:00', '2020-06-18T00:00:00', '2020-06-19T00:00:00', '2020-06-20T00:00:00', '2020-06-21T00:00:00', '2020-06-22T00:00:00', '2020-06-23T00:00:00', '2020-06-24T00:00:00', '2020-06-25T00:00:00', '2020-06-26T00:00:00', '2020-06-27T00:00:00', '2020-06-28T00:00:00', '2020-06-29T00:00:00', '2020-06-30T00:00:00', '2020-07-01T00:00:00', '2020-07-02T00:00:00', '2020-07-03T00:00:00', '2020-07-04T00:00:00', '2020-07-05T00:00:00', '2020-07-06T00:00:00', '2020-07-07T00:00:00', '2020-07-08T00:00:00', '2020-07-09T00:00:00', '2020-07-10T00:00:00', '2020-07-11T00:00:00', '2020-07-12T00:00:00', '2020-07-13T00:00:00', '2020-07-14T00:00:00', '2020-07-15T00:00:00', '2020-07-16T00:00:00', '2020-07-17T00:00:00', '2020-07-18T00:00:00', '2020-07-19T00:00:00', '2020-07-20T00:00:00', '2020-07-21T00:00:00', '2020-07-22T00:00:00', '2020-07-23T00:00:00', '2020-07-24T00:00:00', '2020-07-25T00:00:00', '2020-07-26T00:00:00', '2020-07-27T00:00:00', '2020-07-28T00:00:00', '2020-07-29T00:00:00', '2020-07-30T00:00:00', '2020-07-31T00:00:00', '2020-08-01T00:00:00', '2020-08-02T00:00:00', '2020-08-03T00:00:00', '2020-08-04T00:00:00', '2020-08-05T00:00:00', '2020-08-06T00:00:00', '2020-08-07T00:00:00', '2020-08-08T00:00:00', '2020-08-09T00:00:00', '2020-08-10T00:00:00', '2020-08-11T00:00:00', '2020-08-12T00:00:00', '2020-08-13T00:00:00', '2020-08-14T00:00:00', '2020-08-15T00:00:00', '2020-08-16T00:00:00', '2020-08-17T00:00:00', '2020-08-18T00:00:00', '2020-08-19T00:00:00', '2020-08-20T00:00:00', '2020-08-21T00:00:00', '2020-08-22T00:00:00', '2020-08-23T00:00:00', '2020-08-24T00:00:00', '2020-08-25T00:00:00', '2020-08-26T00:00:00', '2020-08-27T00:00:00', '2020-08-28T00:00:00', '2020-08-29T00:00:00', '2020-08-30T00:00:00', '2020-08-31T00:00:00', '2020-09-01T00:00:00', '2020-09-02T00:00:00', '2020-09-03T00:00:00', '2020-09-04T00:00:00', '2020-09-05T00:00:00', '2020-09-06T00:00:00', '2020-09-07T00:00:00', '2020-09-08T00:00:00', '2020-09-09T00:00:00', '2020-09-10T00:00:00', '2020-09-11T00:00:00', '2020-09-12T00:00:00', '2020-09-13T00:00:00', '2020-09-14T00:00:00', '2020-09-15T00:00:00', '2020-09-16T00:00:00', '2020-09-17T00:00:00', '2020-09-18T00:00:00', '2020-09-19T00:00:00', '2020-09-20T00:00:00', '2020-09-21T00:00:00', '2020-09-22T00:00:00', '2020-09-23T00:00:00', '2020-09-24T00:00:00', '2020-09-25T00:00:00', '2020-09-26T00:00:00', '2020-09-27T00:00:00', '2020-09-28T00:00:00', '2020-09-29T00:00:00', '2020-09-30T00:00:00', '2020-10-01T00:00:00', '2020-10-02T00:00:00', '2020-10-03T00:00:00', '2020-10-04T00:00:00', '2020-10-05T00:00:00', '2020-10-06T00:00:00', '2020-10-07T00:00:00', '2020-10-08T00:00:00', '2020-10-09T00:00:00', '2020-10-10T00:00:00', '2020-10-11T00:00:00', '2020-10-12T00:00:00', '2020-10-13T00:00:00', '2020-10-14T00:00:00', '2020-10-15T00:00:00', '2020-10-16T00:00:00', '2020-10-17T00:00:00', '2020-10-18T00:00:00', '2020-10-19T00:00:00', '2020-10-20T00:00:00', '2020-10-21T00:00:00', '2020-10-22T00:00:00', '2020-10-23T00:00:00', '2020-10-24T00:00:00', '2020-10-25T00:00:00', '2020-10-26T00:00:00', '2020-10-27T00:00:00', '2020-10-28T00:00:00', '2020-10-29T00:00:00', '2020-10-30T00:00:00', '2020-10-31T00:00:00', '2020-11-01T00:00:00', '2020-11-02T00:00:00', '2020-11-03T00:00:00', '2020-11-04T00:00:00', '2020-11-05T00:00:00', '2020-11-06T00:00:00', '2020-11-07T00:00:00', '2020-11-08T00:00:00', '2020-11-09T00:00:00', '2020-11-10T00:00:00', '2020-11-11T00:00:00', '2020-11-12T00:00:00', '2020-11-13T00:00:00', '2020-11-14T00:00:00', '2020-11-15T00:00:00', '2020-11-16T00:00:00', '2020-11-17T00:00:00', '2020-11-18T00:00:00', '2020-11-19T00:00:00', '2020-11-20T00:00:00', '2020-11-21T00:00:00', '2020-11-22T00:00:00', '2020-11-23T00:00:00', '2020-11-24T00:00:00', '2020-11-25T00:00:00', '2020-11-26T00:00:00', '2020-11-27T00:00:00', '2020-11-28T00:00:00', '2021-01-01T00:00:00', '2021-01-02T00:00:00', '2021-01-03T00:00:00', '2021-01-04T00:00:00', '2021-01-05T00:00:00', '2021-01-06T00:00:00', '2021-01-07T00:00:00', '2021-01-08T00:00:00', '2021-01-09T00:00:00', '2021-01-10T00:00:00', '2021-01-11T00:00:00', '2021-01-12T00:00:00', '2021-01-13T00:00:00', '2021-01-14T00:00:00', '2021-01-15T00:00:00', '2021-01-16T00:00:00', '2021-01-17T00:00:00', '2021-01-18T00:00:00', '2021-01-19T00:00:00', '2021-01-20T00:00:00', '2021-01-21T00:00:00', '2021-01-22T00:00:00', '2021-01-23T00:00:00', '2021-01-24T00:00:00', '2021-01-25T00:00:00', '2021-01-26T00:00:00', '2021-01-27T00:00:00', '2021-01-28T00:00:00', '2021-01-29T00:00:00', '2021-01-30T00:00:00', '2021-01-31T00:00:00', '2021-02-01T00:00:00', '2021-02-02T00:00:00', '2021-02-03T00:00:00', '2021-02-04T00:00:00', '2021-02-05T00:00:00', '2021-02-06T00:00:00', '2021-02-07T00:00:00', '2021-02-08T00:00:00', '2021-02-09T00:00:00', '2021-02-10T00:00:00', '2021-02-11T00:00:00', '2021-02-12T00:00:00', '2021-02-13T00:00:00', '2021-02-14T00:00:00', '2021-02-15T00:00:00', '2021-02-16T00:00:00', '2021-02-17T00:00:00', '2021-02-18T00:00:00', '2021-02-19T00:00:00', '2021-02-20T00:00:00', '2021-02-21T00:00:00', '2021-02-22T00:00:00', '2021-02-23T00:00:00', '2021-02-24T00:00:00', '2021-02-25T00:00:00', '2021-02-26T00:00:00', '2021-02-27T00:00:00', '2021-02-28T00:00:00', '2021-03-01T00:00:00', '2021-03-02T00:00:00', '2021-03-03T00:00:00', '2021-03-04T00:00:00', '2021-03-05T00:00:00', '2021-03-06T00:00:00', '2021-03-07T00:00:00', '2021-03-08T00:00:00', '2021-03-09T00:00:00', '2021-03-10T00:00:00', '2021-03-11T00:00:00', '2021-03-12T00:00:00', '2021-03-13T00:00:00', '2021-03-14T00:00:00', '2021-03-15T00:00:00', '2021-03-16T00:00:00', '2021-03-17T00:00:00', '2021-03-18T00:00:00', '2021-03-19T00:00:00', '2021-03-20T00:00:00', '2021-03-21T00:00:00', '2021-03-22T00:00:00', '2021-03-23T00:00:00', '2021-03-24T00:00:00', '2021-03-25T00:00:00', '2021-03-26T00:00:00', '2021-03-27T00:00:00', '2021-03-28T00:00:00', '2021-03-29T00:00:00', '2021-03-30T00:00:00', '2021-03-31T00:00:00', '2021-04-01T00:00:00', '2021-04-02T00:00:00', '2021-04-03T00:00:00', '2021-04-04T00:00:00', '2021-04-05T00:00:00', '2021-04-06T00:00:00', '2021-04-07T00:00:00', '2021-04-08T00:00:00', '2021-04-09T00:00:00', '2021-04-10T00:00:00', '2021-04-11T00:00:00', '2021-04-12T00:00:00', '2021-04-13T00:00:00', '2021-04-14T00:00:00', '2021-04-15T00:00:00', '2021-04-16T00:00:00', '2021-04-17T00:00:00', '2021-04-18T00:00:00', '2021-04-19T00:00:00', '2021-04-20T00:00:00', '2021-04-21T00:00:00', '2021-04-22T00:00:00', '2021-04-23T00:00:00', '2021-04-24T00:00:00', '2021-04-25T00:00:00', '2021-04-26T00:00:00', '2021-04-27T00:00:00', '2021-04-28T00:00:00', '2021-04-29T00:00:00', '2021-04-30T00:00:00', '2021-05-01T00:00:00', '2021-05-02T00:00:00', '2021-05-03T00:00:00', '2021-05-04T00:00:00', '2021-05-05T00:00:00', '2021-05-06T00:00:00', '2021-05-07T00:00:00', '2021-05-08T00:00:00', '2021-05-09T00:00:00', '2021-05-10T00:00:00', '2021-05-11T00:00:00', '2021-05-12T00:00:00', '2021-05-13T00:00:00', '2021-05-14T00:00:00', '2021-05-15T00:00:00', '2021-05-16T00:00:00', '2021-05-17T00:00:00', '2021-05-18T00:00:00', '2021-05-19T00:00:00', '2021-05-20T00:00:00', '2021-05-21T00:00:00', '2021-05-22T00:00:00', '2021-05-23T00:00:00', '2021-05-24T00:00:00', '2021-05-25T00:00:00', '2021-05-26T00:00:00', '2021-05-27T00:00:00', '2021-05-28T00:00:00', '2021-05-29T00:00:00', '2021-05-30T00:00:00', '2021-05-31T00:00:00', '2021-06-01T00:00:00', '2021-06-02T00:00:00', '2021-06-03T00:00:00', '2021-06-04T00:00:00', '2021-06-05T00:00:00', '2021-06-06T00:00:00', '2021-06-07T00:00:00', '2021-06-08T00:00:00', '2021-06-09T00:00:00', '2021-06-10T00:00:00', '2021-06-11T00:00:00', '2021-06-12T00:00:00', '2021-06-13T00:00:00', '2021-06-14T00:00:00', '2021-06-15T00:00:00', '2021-06-16T00:00:00', '2021-06-17T00:00:00', '2021-06-18T00:00:00', '2021-06-19T00:00:00', '2021-06-20T00:00:00', '2021-06-21T00:00:00', '2021-06-22T00:00:00', '2021-06-23T00:00:00', '2021-06-24T00:00:00', '2021-06-25T00:00:00', '2021-06-26T00:00:00', '2021-06-27T00:00:00', '2021-06-28T00:00:00', '2021-06-29T00:00:00', '2021-06-30T00:00:00', '2021-07-01T00:00:00', '2021-07-02T00:00:00', '2021-07-03T00:00:00', '2021-07-04T00:00:00', '2021-07-05T00:00:00', '2021-07-06T00:00:00', '2021-07-07T00:00:00', '2021-07-08T00:00:00', '2021-07-09T00:00:00', '2021-07-10T00:00:00', '2021-07-11T00:00:00', '2021-07-12T00:00:00', '2021-07-13T00:00:00', '2021-07-14T00:00:00', '2021-07-15T00:00:00', '2021-07-16T00:00:00', '2021-07-17T00:00:00', '2021-07-18T00:00:00', '2021-07-19T00:00:00', '2021-07-20T00:00:00', '2021-07-21T00:00:00', '2021-07-22T00:00:00', '2021-07-23T00:00:00', '2021-07-24T00:00:00', '2021-07-25T00:00:00', '2021-07-26T00:00:00', '2021-07-27T00:00:00', '2021-07-28T00:00:00', '2021-07-29T00:00:00', '2021-07-30T00:00:00', '2021-07-31T00:00:00', '2021-08-01T00:00:00', '2021-08-02T00:00:00', '2021-08-03T00:00:00', '2021-08-04T00:00:00', '2021-08-05T00:00:00', '2021-08-06T00:00:00', '2021-08-07T00:00:00', '2021-08-08T00:00:00', '2021-08-09T00:00:00', '2021-08-10T00:00:00', '2021-08-11T00:00:00', '2021-08-12T00:00:00', '2021-08-13T00:00:00', '2021-08-14T00:00:00', '2021-08-15T00:00:00', '2021-08-16T00:00:00', '2021-08-17T00:00:00', '2021-08-18T00:00:00', '2021-08-19T00:00:00', '2021-08-20T00:00:00', '2021-08-21T00:00:00', '2021-08-22T00:00:00', '2021-08-23T00:00:00', '2021-08-24T00:00:00', '2021-08-25T00:00:00', '2021-08-26T00:00:00', '2021-08-27T00:00:00', '2021-08-28T00:00:00', '2021-08-29T00:00:00', '2021-08-30T00:00:00', '2021-08-31T00:00:00', '2021-09-01T00:00:00', '2021-09-02T00:00:00', '2021-09-03T00:00:00', '2021-09-04T00:00:00', '2021-09-05T00:00:00', '2021-09-06T00:00:00', '2021-09-07T00:00:00', '2021-09-08T00:00:00', '2021-09-09T00:00:00', '2021-09-10T00:00:00', '2021-09-11T00:00:00', '2021-09-12T00:00:00', '2021-09-13T00:00:00', '2021-09-14T00:00:00', '2021-09-15T00:00:00', '2021-09-16T00:00:00', '2021-09-17T00:00:00', '2021-09-18T00:00:00', '2021-09-19T00:00:00', '2021-09-20T00:00:00', '2021-09-21T00:00:00', '2021-09-22T00:00:00', '2021-09-23T00:00:00', '2021-09-24T00:00:00', '2021-09-25T00:00:00', '2021-09-26T00:00:00', '2021-09-27T00:00:00', '2021-09-28T00:00:00', '2021-09-29T00:00:00']\n"
     ]
    }
   ],
   "source": [
    "print(vt_dates_temp_min)"
   ]
  },
  {
   "cell_type": "code",
   "execution_count": null,
   "id": "78aa9ad6",
   "metadata": {},
   "outputs": [],
   "source": []
  },
  {
   "cell_type": "markdown",
   "id": "4337c67c",
   "metadata": {},
   "source": [
    "# MA: need 11/29/20-12/31/20"
   ]
  },
  {
   "cell_type": "code",
   "execution_count": 38,
   "id": "d2e49e19",
   "metadata": {},
   "outputs": [
    {
     "name": "stdout",
     "output_type": "stream",
     "text": [
      "working on year 2020\n",
      "working on year 2021\n",
      "done\n"
     ]
    }
   ],
   "source": [
    "#Create empty lists to store MA data\n",
    "#Note: avg temp not available for Massachusetts, so will use temp min and temp max instead\n",
    "ma_dates_temp_min = []\n",
    "ma_dates_temp_max = []\n",
    "ma_dates_prcp = []\n",
    "ma_temps_min = []\n",
    "ma_temps_max = []\n",
    "ma_prcp = []\n",
    "\n",
    "#for each year from 2020-2021 ...\n",
    "for year in range(2020, 2022):\n",
    "    year = str(year)\n",
    "    print('working on year '+year)\n",
    "    \n",
    "    #make the api call\n",
    "    r = requests.get('https://www.ncdc.noaa.gov/cdo-web/api/v2/data?datasetid=GHCND&datatypeid=PRCP&&datatypeid=TMAX&datatypeid=TMIN&limit=1000&stationid=GHCND:USC00193624&startdate='+year+'-01-01&enddate='+year+'-12-31', headers={'token':Token})\n",
    "    #load the api response as a json\n",
    "    d = json.loads(r.text)\n",
    "    #get all items in the response which are MIN temp readings\n",
    "    ma_min_temps_item = [item for item in d['results'] if item['datatype']=='TMIN']\n",
    "    #get the date field from all MIN temperature readings\n",
    "    ma_dates_temp_min += [item['date'] for item in ma_min_temps_item]\n",
    "    #get the actual min temperature from all MIN temperature readings\n",
    "    ma_temps_min += [item['value'] for item in ma_min_temps_item]\n",
    "    #get all items in the response which are MAX temperature readings\n",
    "    ma_max_temp_item = [item for item in d['results'] if item['datatype']=='TMAX']\n",
    "    #get the date field from all MAX temperature readings\n",
    "    ma_dates_temp_max += [item['date'] for item in ma_max_temp_item]\n",
    "    #get the actual average temperature from all MAX temperature readings\n",
    "    ma_temps_max += [item['value'] for item in ma_max_temp_item]\n",
    "    #get all items in the response which are average PRCP readings\n",
    "    ma_avg_prcp = [item for item in d['results'] if item['datatype']=='PRCP']\n",
    "    #get the date field from all average PRCP readings\n",
    "    ma_dates_prcp += [item['date'] for item in ma_avg_prcp]\n",
    "    #get the actual average precipitation from all average PRCP readings\n",
    "    ma_prcp += [item['value'] for item in ma_avg_prcp]\n",
    "    \n",
    "print('done')\n"
   ]
  },
  {
   "cell_type": "code",
   "execution_count": 39,
   "id": "d4344393",
   "metadata": {},
   "outputs": [
    {
     "name": "stdout",
     "output_type": "stream",
     "text": [
      "['2020-01-01T00:00:00', '2020-01-02T00:00:00', '2020-01-03T00:00:00', '2020-01-04T00:00:00', '2020-01-05T00:00:00', '2020-01-06T00:00:00', '2020-01-07T00:00:00', '2020-01-08T00:00:00', '2020-01-09T00:00:00', '2020-01-10T00:00:00', '2020-01-11T00:00:00', '2020-01-12T00:00:00', '2020-01-13T00:00:00', '2020-01-14T00:00:00', '2020-01-15T00:00:00', '2020-01-16T00:00:00', '2020-01-17T00:00:00', '2020-01-18T00:00:00', '2020-01-19T00:00:00', '2020-01-20T00:00:00', '2020-01-21T00:00:00', '2020-01-22T00:00:00', '2020-01-23T00:00:00', '2020-01-24T00:00:00', '2020-01-25T00:00:00', '2020-01-26T00:00:00', '2020-01-27T00:00:00', '2020-01-28T00:00:00', '2020-01-29T00:00:00', '2020-01-30T00:00:00', '2020-01-31T00:00:00', '2020-02-01T00:00:00', '2020-02-02T00:00:00', '2020-02-03T00:00:00', '2020-02-04T00:00:00', '2020-02-05T00:00:00', '2020-02-06T00:00:00', '2020-02-07T00:00:00', '2020-02-08T00:00:00', '2020-02-09T00:00:00', '2020-02-10T00:00:00', '2020-02-11T00:00:00', '2020-02-12T00:00:00', '2020-02-13T00:00:00', '2020-02-14T00:00:00', '2020-02-15T00:00:00', '2020-02-16T00:00:00', '2020-02-17T00:00:00', '2020-02-18T00:00:00', '2020-02-19T00:00:00', '2020-02-20T00:00:00', '2020-02-21T00:00:00', '2020-02-22T00:00:00', '2020-02-23T00:00:00', '2020-02-24T00:00:00', '2020-02-25T00:00:00', '2020-02-26T00:00:00', '2020-02-27T00:00:00', '2020-02-28T00:00:00', '2020-02-29T00:00:00', '2020-03-01T00:00:00', '2020-03-02T00:00:00', '2020-03-03T00:00:00', '2020-03-04T00:00:00', '2020-03-05T00:00:00', '2020-03-06T00:00:00', '2020-03-07T00:00:00', '2020-03-08T00:00:00', '2020-03-09T00:00:00', '2020-03-10T00:00:00', '2020-03-11T00:00:00', '2020-03-12T00:00:00', '2020-03-13T00:00:00', '2020-03-14T00:00:00', '2020-03-15T00:00:00', '2020-03-16T00:00:00', '2020-03-17T00:00:00', '2020-03-18T00:00:00', '2020-03-19T00:00:00', '2020-03-20T00:00:00', '2020-03-21T00:00:00', '2020-03-22T00:00:00', '2020-03-23T00:00:00', '2020-03-24T00:00:00', '2020-03-25T00:00:00', '2020-03-26T00:00:00', '2020-03-27T00:00:00', '2020-03-28T00:00:00', '2020-03-29T00:00:00', '2020-03-30T00:00:00', '2020-03-31T00:00:00', '2020-04-01T00:00:00', '2020-04-02T00:00:00', '2020-04-03T00:00:00', '2020-04-04T00:00:00', '2020-04-05T00:00:00', '2020-04-06T00:00:00', '2020-04-07T00:00:00', '2020-04-08T00:00:00', '2020-04-09T00:00:00', '2020-04-10T00:00:00', '2020-04-11T00:00:00', '2020-04-12T00:00:00', '2020-04-13T00:00:00', '2020-04-14T00:00:00', '2020-04-15T00:00:00', '2020-04-16T00:00:00', '2020-04-17T00:00:00', '2020-04-18T00:00:00', '2020-04-19T00:00:00', '2020-04-20T00:00:00', '2020-04-21T00:00:00', '2020-04-22T00:00:00', '2020-04-23T00:00:00', '2020-04-24T00:00:00', '2020-04-25T00:00:00', '2020-04-26T00:00:00', '2020-04-27T00:00:00', '2020-04-28T00:00:00', '2020-04-29T00:00:00', '2020-04-30T00:00:00', '2020-05-01T00:00:00', '2020-05-02T00:00:00', '2020-05-03T00:00:00', '2020-05-04T00:00:00', '2020-05-05T00:00:00', '2020-05-06T00:00:00', '2020-05-07T00:00:00', '2020-05-08T00:00:00', '2020-05-09T00:00:00', '2020-05-10T00:00:00', '2020-05-11T00:00:00', '2020-05-12T00:00:00', '2020-05-13T00:00:00', '2020-05-14T00:00:00', '2020-05-15T00:00:00', '2020-05-16T00:00:00', '2020-05-17T00:00:00', '2020-05-18T00:00:00', '2020-05-19T00:00:00', '2020-05-20T00:00:00', '2020-05-21T00:00:00', '2020-05-22T00:00:00', '2020-05-23T00:00:00', '2020-05-24T00:00:00', '2020-05-25T00:00:00', '2020-05-26T00:00:00', '2020-05-27T00:00:00', '2020-05-28T00:00:00', '2020-05-29T00:00:00', '2020-05-30T00:00:00', '2020-05-31T00:00:00', '2020-06-01T00:00:00', '2020-06-02T00:00:00', '2020-06-03T00:00:00', '2020-06-04T00:00:00', '2020-06-05T00:00:00', '2020-06-06T00:00:00', '2020-06-07T00:00:00', '2020-06-08T00:00:00', '2020-06-09T00:00:00', '2020-06-10T00:00:00', '2020-06-11T00:00:00', '2020-06-12T00:00:00', '2020-06-13T00:00:00', '2020-06-14T00:00:00', '2020-06-15T00:00:00', '2020-06-16T00:00:00', '2020-06-17T00:00:00', '2020-06-18T00:00:00', '2020-06-19T00:00:00', '2020-06-20T00:00:00', '2020-06-21T00:00:00', '2020-06-22T00:00:00', '2020-06-23T00:00:00', '2020-06-24T00:00:00', '2020-06-25T00:00:00', '2020-06-26T00:00:00', '2020-06-27T00:00:00', '2020-06-28T00:00:00', '2020-06-29T00:00:00', '2020-06-30T00:00:00', '2020-07-01T00:00:00', '2020-07-02T00:00:00', '2020-07-03T00:00:00', '2020-07-04T00:00:00', '2020-07-05T00:00:00', '2020-07-06T00:00:00', '2020-07-07T00:00:00', '2020-07-08T00:00:00', '2020-07-09T00:00:00', '2020-07-10T00:00:00', '2020-07-11T00:00:00', '2020-07-12T00:00:00', '2020-07-13T00:00:00', '2020-07-14T00:00:00', '2020-07-15T00:00:00', '2020-07-16T00:00:00', '2020-07-17T00:00:00', '2020-07-18T00:00:00', '2020-07-19T00:00:00', '2020-07-20T00:00:00', '2020-07-21T00:00:00', '2020-07-22T00:00:00', '2020-07-23T00:00:00', '2020-07-24T00:00:00', '2020-07-25T00:00:00', '2020-07-26T00:00:00', '2020-07-27T00:00:00', '2020-07-28T00:00:00', '2020-07-29T00:00:00', '2020-07-30T00:00:00', '2020-07-31T00:00:00', '2020-08-01T00:00:00', '2020-08-02T00:00:00', '2020-08-03T00:00:00', '2020-08-04T00:00:00', '2020-08-05T00:00:00', '2020-08-06T00:00:00', '2020-08-07T00:00:00', '2020-08-08T00:00:00', '2020-08-09T00:00:00', '2020-08-10T00:00:00', '2020-08-11T00:00:00', '2020-08-12T00:00:00', '2020-08-13T00:00:00', '2020-08-14T00:00:00', '2020-08-15T00:00:00', '2020-08-16T00:00:00', '2020-08-17T00:00:00', '2020-08-18T00:00:00', '2020-08-19T00:00:00', '2020-08-20T00:00:00', '2020-08-21T00:00:00', '2020-08-22T00:00:00', '2020-08-23T00:00:00', '2020-08-24T00:00:00', '2020-08-25T00:00:00', '2020-08-26T00:00:00', '2020-08-27T00:00:00', '2020-08-28T00:00:00', '2020-08-29T00:00:00', '2020-08-30T00:00:00', '2020-08-31T00:00:00', '2020-09-01T00:00:00', '2020-09-02T00:00:00', '2020-09-03T00:00:00', '2020-09-04T00:00:00', '2020-09-05T00:00:00', '2020-09-06T00:00:00', '2020-09-07T00:00:00', '2020-09-08T00:00:00', '2020-09-09T00:00:00', '2020-09-10T00:00:00', '2020-09-11T00:00:00', '2020-09-12T00:00:00', '2020-09-13T00:00:00', '2020-09-14T00:00:00', '2020-09-15T00:00:00', '2020-09-16T00:00:00', '2020-09-17T00:00:00', '2020-09-18T00:00:00', '2020-09-19T00:00:00', '2020-09-20T00:00:00', '2020-09-21T00:00:00', '2020-09-22T00:00:00', '2020-09-23T00:00:00', '2020-09-24T00:00:00', '2020-09-25T00:00:00', '2020-09-26T00:00:00', '2020-09-27T00:00:00', '2020-09-28T00:00:00', '2020-09-29T00:00:00', '2020-09-30T00:00:00', '2020-10-01T00:00:00', '2020-10-02T00:00:00', '2020-10-03T00:00:00', '2020-10-04T00:00:00', '2020-10-05T00:00:00', '2020-10-06T00:00:00', '2020-10-07T00:00:00', '2020-10-08T00:00:00', '2020-10-09T00:00:00', '2020-10-10T00:00:00', '2020-10-11T00:00:00', '2020-10-12T00:00:00', '2020-10-13T00:00:00', '2020-10-14T00:00:00', '2020-10-15T00:00:00', '2020-10-16T00:00:00', '2020-10-17T00:00:00', '2020-10-18T00:00:00', '2020-10-19T00:00:00', '2020-10-20T00:00:00', '2020-10-21T00:00:00', '2020-10-22T00:00:00', '2020-10-23T00:00:00', '2020-10-24T00:00:00', '2020-10-25T00:00:00', '2020-10-26T00:00:00', '2020-10-27T00:00:00', '2020-10-28T00:00:00', '2020-10-29T00:00:00', '2020-10-30T00:00:00', '2020-10-31T00:00:00', '2020-11-01T00:00:00', '2020-11-02T00:00:00', '2020-11-03T00:00:00', '2020-11-04T00:00:00', '2020-11-05T00:00:00', '2020-11-06T00:00:00', '2020-11-07T00:00:00', '2020-11-08T00:00:00', '2020-11-09T00:00:00', '2020-11-10T00:00:00', '2020-11-11T00:00:00', '2020-11-12T00:00:00', '2020-11-13T00:00:00', '2020-11-14T00:00:00', '2020-11-15T00:00:00', '2020-11-16T00:00:00', '2020-11-17T00:00:00', '2020-11-18T00:00:00', '2020-11-19T00:00:00', '2020-11-20T00:00:00', '2020-11-21T00:00:00', '2020-11-22T00:00:00', '2020-11-23T00:00:00', '2020-11-24T00:00:00', '2020-11-25T00:00:00', '2020-11-26T00:00:00', '2020-11-27T00:00:00', '2020-11-28T00:00:00', '2021-01-01T00:00:00', '2021-01-02T00:00:00', '2021-01-03T00:00:00', '2021-01-04T00:00:00', '2021-01-05T00:00:00', '2021-01-06T00:00:00', '2021-01-07T00:00:00', '2021-01-08T00:00:00', '2021-01-09T00:00:00', '2021-01-10T00:00:00', '2021-01-11T00:00:00', '2021-01-12T00:00:00', '2021-01-13T00:00:00', '2021-01-14T00:00:00', '2021-01-15T00:00:00', '2021-01-16T00:00:00', '2021-01-17T00:00:00', '2021-01-18T00:00:00', '2021-01-19T00:00:00', '2021-01-20T00:00:00', '2021-01-21T00:00:00', '2021-01-22T00:00:00', '2021-01-23T00:00:00', '2021-01-24T00:00:00', '2021-01-25T00:00:00', '2021-01-26T00:00:00', '2021-01-27T00:00:00', '2021-01-28T00:00:00', '2021-01-29T00:00:00', '2021-01-30T00:00:00', '2021-01-31T00:00:00', '2021-02-01T00:00:00', '2021-02-02T00:00:00', '2021-02-03T00:00:00', '2021-02-04T00:00:00', '2021-02-05T00:00:00', '2021-02-06T00:00:00', '2021-02-07T00:00:00', '2021-02-08T00:00:00', '2021-02-09T00:00:00', '2021-02-10T00:00:00', '2021-02-11T00:00:00', '2021-02-12T00:00:00', '2021-02-13T00:00:00', '2021-02-14T00:00:00', '2021-02-15T00:00:00', '2021-02-16T00:00:00', '2021-02-17T00:00:00', '2021-02-18T00:00:00', '2021-02-19T00:00:00', '2021-02-20T00:00:00', '2021-02-21T00:00:00', '2021-02-22T00:00:00', '2021-02-23T00:00:00', '2021-02-24T00:00:00', '2021-02-25T00:00:00', '2021-02-26T00:00:00', '2021-02-27T00:00:00', '2021-02-28T00:00:00', '2021-03-01T00:00:00', '2021-03-02T00:00:00', '2021-03-03T00:00:00', '2021-03-04T00:00:00', '2021-03-05T00:00:00', '2021-03-06T00:00:00', '2021-03-07T00:00:00', '2021-03-08T00:00:00', '2021-03-09T00:00:00', '2021-03-10T00:00:00', '2021-03-11T00:00:00', '2021-03-12T00:00:00', '2021-03-13T00:00:00', '2021-03-14T00:00:00', '2021-03-15T00:00:00', '2021-03-16T00:00:00', '2021-03-17T00:00:00', '2021-03-18T00:00:00', '2021-03-19T00:00:00', '2021-03-20T00:00:00', '2021-03-21T00:00:00', '2021-03-22T00:00:00', '2021-03-23T00:00:00', '2021-03-24T00:00:00', '2021-03-25T00:00:00', '2021-03-26T00:00:00', '2021-03-27T00:00:00', '2021-03-28T00:00:00', '2021-03-29T00:00:00', '2021-03-30T00:00:00', '2021-03-31T00:00:00', '2021-04-01T00:00:00', '2021-04-02T00:00:00', '2021-04-03T00:00:00', '2021-04-04T00:00:00', '2021-04-05T00:00:00', '2021-04-06T00:00:00', '2021-04-07T00:00:00', '2021-04-08T00:00:00', '2021-04-09T00:00:00', '2021-04-10T00:00:00', '2021-04-11T00:00:00', '2021-04-12T00:00:00', '2021-04-13T00:00:00', '2021-04-14T00:00:00', '2021-04-15T00:00:00', '2021-04-16T00:00:00', '2021-04-17T00:00:00', '2021-04-18T00:00:00', '2021-04-19T00:00:00', '2021-04-20T00:00:00', '2021-04-21T00:00:00', '2021-04-22T00:00:00', '2021-04-23T00:00:00', '2021-04-24T00:00:00', '2021-04-25T00:00:00', '2021-04-26T00:00:00', '2021-04-27T00:00:00', '2021-04-28T00:00:00', '2021-04-29T00:00:00', '2021-04-30T00:00:00', '2021-05-01T00:00:00', '2021-05-02T00:00:00', '2021-05-03T00:00:00', '2021-05-04T00:00:00', '2021-05-05T00:00:00', '2021-05-06T00:00:00', '2021-05-07T00:00:00', '2021-05-08T00:00:00', '2021-05-09T00:00:00', '2021-05-10T00:00:00', '2021-05-11T00:00:00', '2021-05-12T00:00:00', '2021-05-13T00:00:00', '2021-05-14T00:00:00', '2021-05-15T00:00:00', '2021-05-16T00:00:00', '2021-05-17T00:00:00', '2021-05-18T00:00:00', '2021-05-19T00:00:00', '2021-05-20T00:00:00', '2021-05-21T00:00:00', '2021-05-22T00:00:00', '2021-05-23T00:00:00', '2021-05-24T00:00:00', '2021-05-25T00:00:00', '2021-05-26T00:00:00', '2021-05-27T00:00:00', '2021-05-28T00:00:00', '2021-05-29T00:00:00', '2021-05-30T00:00:00', '2021-05-31T00:00:00', '2021-06-01T00:00:00', '2021-06-02T00:00:00', '2021-06-03T00:00:00', '2021-06-04T00:00:00', '2021-06-05T00:00:00', '2021-06-06T00:00:00', '2021-06-07T00:00:00', '2021-06-08T00:00:00', '2021-06-09T00:00:00', '2021-06-10T00:00:00', '2021-06-11T00:00:00', '2021-06-12T00:00:00', '2021-06-13T00:00:00', '2021-06-14T00:00:00', '2021-06-15T00:00:00', '2021-06-16T00:00:00', '2021-06-17T00:00:00', '2021-06-18T00:00:00', '2021-06-19T00:00:00', '2021-06-20T00:00:00', '2021-06-21T00:00:00', '2021-06-22T00:00:00', '2021-06-23T00:00:00', '2021-06-24T00:00:00', '2021-06-25T00:00:00', '2021-06-26T00:00:00', '2021-06-27T00:00:00', '2021-06-28T00:00:00', '2021-06-29T00:00:00', '2021-06-30T00:00:00', '2021-07-01T00:00:00', '2021-07-02T00:00:00', '2021-07-03T00:00:00', '2021-07-04T00:00:00', '2021-07-05T00:00:00', '2021-07-06T00:00:00', '2021-07-07T00:00:00', '2021-07-08T00:00:00', '2021-07-09T00:00:00', '2021-07-10T00:00:00', '2021-07-11T00:00:00', '2021-07-12T00:00:00', '2021-07-13T00:00:00', '2021-07-14T00:00:00', '2021-07-15T00:00:00', '2021-07-16T00:00:00', '2021-07-17T00:00:00', '2021-07-18T00:00:00', '2021-07-19T00:00:00', '2021-07-20T00:00:00', '2021-07-21T00:00:00', '2021-07-22T00:00:00', '2021-07-23T00:00:00', '2021-07-24T00:00:00', '2021-07-25T00:00:00', '2021-07-26T00:00:00', '2021-07-27T00:00:00', '2021-07-28T00:00:00', '2021-07-29T00:00:00', '2021-07-30T00:00:00', '2021-07-31T00:00:00', '2021-08-01T00:00:00', '2021-08-02T00:00:00', '2021-08-03T00:00:00', '2021-08-04T00:00:00', '2021-08-05T00:00:00', '2021-08-06T00:00:00', '2021-08-07T00:00:00', '2021-08-08T00:00:00', '2021-08-09T00:00:00', '2021-08-10T00:00:00', '2021-08-11T00:00:00', '2021-08-12T00:00:00', '2021-08-13T00:00:00', '2021-08-14T00:00:00', '2021-08-15T00:00:00', '2021-08-16T00:00:00', '2021-08-17T00:00:00', '2021-08-18T00:00:00', '2021-08-19T00:00:00', '2021-08-20T00:00:00', '2021-08-21T00:00:00', '2021-08-22T00:00:00', '2021-08-23T00:00:00', '2021-08-24T00:00:00', '2021-08-25T00:00:00', '2021-08-26T00:00:00', '2021-08-27T00:00:00', '2021-08-28T00:00:00', '2021-08-29T00:00:00', '2021-08-30T00:00:00', '2021-08-31T00:00:00', '2021-09-01T00:00:00', '2021-09-02T00:00:00', '2021-09-03T00:00:00', '2021-09-04T00:00:00', '2021-09-05T00:00:00', '2021-09-06T00:00:00', '2021-09-07T00:00:00', '2021-09-08T00:00:00', '2021-09-09T00:00:00', '2021-09-10T00:00:00', '2021-09-11T00:00:00', '2021-09-12T00:00:00', '2021-09-13T00:00:00', '2021-09-14T00:00:00', '2021-09-15T00:00:00', '2021-09-16T00:00:00', '2021-09-17T00:00:00', '2021-09-18T00:00:00', '2021-09-19T00:00:00', '2021-09-20T00:00:00', '2021-09-21T00:00:00', '2021-09-22T00:00:00', '2021-09-24T00:00:00', '2021-09-26T00:00:00', '2021-09-27T00:00:00', '2021-09-28T00:00:00', '2021-09-29T00:00:00']\n"
     ]
    }
   ],
   "source": [
    "print(ma_dates_temp_min)"
   ]
  },
  {
   "cell_type": "code",
   "execution_count": null,
   "id": "b016947e",
   "metadata": {},
   "outputs": [],
   "source": []
  },
  {
   "cell_type": "code",
   "execution_count": null,
   "id": "3686beb3",
   "metadata": {},
   "outputs": [],
   "source": []
  },
  {
   "cell_type": "code",
   "execution_count": null,
   "id": "8948753d",
   "metadata": {},
   "outputs": [],
   "source": []
  },
  {
   "cell_type": "code",
   "execution_count": null,
   "id": "b1700042",
   "metadata": {},
   "outputs": [],
   "source": []
  },
  {
   "cell_type": "code",
   "execution_count": null,
   "id": "02469e3a",
   "metadata": {},
   "outputs": [],
   "source": []
  },
  {
   "cell_type": "code",
   "execution_count": null,
   "id": "ff38ce61",
   "metadata": {},
   "outputs": [],
   "source": []
  },
  {
   "cell_type": "code",
   "execution_count": null,
   "id": "db08dedf",
   "metadata": {},
   "outputs": [],
   "source": []
  },
  {
   "cell_type": "code",
   "execution_count": null,
   "id": "f47b22fe",
   "metadata": {},
   "outputs": [],
   "source": []
  },
  {
   "cell_type": "code",
   "execution_count": null,
   "id": "b9b81a0b",
   "metadata": {},
   "outputs": [],
   "source": []
  },
  {
   "cell_type": "code",
   "execution_count": null,
   "id": "8cf5bc2a",
   "metadata": {},
   "outputs": [],
   "source": []
  },
  {
   "cell_type": "code",
   "execution_count": null,
   "id": "1a3a6389",
   "metadata": {},
   "outputs": [],
   "source": []
  },
  {
   "cell_type": "code",
   "execution_count": null,
   "id": "fc6d800c",
   "metadata": {},
   "outputs": [],
   "source": []
  },
  {
   "cell_type": "code",
   "execution_count": null,
   "id": "2c5a60e6",
   "metadata": {},
   "outputs": [],
   "source": []
  },
  {
   "cell_type": "code",
   "execution_count": null,
   "id": "f8274aaa",
   "metadata": {},
   "outputs": [],
   "source": []
  },
  {
   "cell_type": "code",
   "execution_count": null,
   "id": "647a2295",
   "metadata": {},
   "outputs": [],
   "source": []
  },
  {
   "cell_type": "code",
   "execution_count": null,
   "id": "080fc624",
   "metadata": {},
   "outputs": [],
   "source": [
    "print(me_dates_temp_max)"
   ]
  },
  {
   "cell_type": "code",
   "execution_count": null,
   "id": "db1629d8",
   "metadata": {},
   "outputs": [],
   "source": [
    "r = requests.get('https://www.ncdc.noaa.gov/cdo-web/api/v2/data?datasetid=GHCND&datatypeid=PRCP&&datatypeid=TMAX&datatypeid=TMIN&limit=1000&stationid=GHCND:USW00094626&startdate=2020-11-30&enddate=2020-12-31', headers={'token':Token})\n",
    "d = json.loads(r.text)\n",
    "print(d)"
   ]
  },
  {
   "cell_type": "code",
   "execution_count": null,
   "id": "c2ab3ed2",
   "metadata": {},
   "outputs": [],
   "source": [
    "#Create empty lists to store VT data\n",
    "#Note: avg temp not available for Vermont, so will use temp min and temp max instead\n",
    "vt_dates_temp_min = []\n",
    "vt_dates_temp_max = []\n",
    "vt_dates_prcp = []\n",
    "vt_temps_min = []\n",
    "vt_temps_max = []\n",
    "vt_prcp = []\n",
    "\n",
    "#for each year from 2020-2021 ...\n",
    "for year in range(2020, 2022):\n",
    "    year = str(year)\n",
    "    print('working on year '+year)\n",
    "    \n",
    "    #make the api call\n",
    "    r = requests.get('https://www.ncdc.noaa.gov/cdo-web/api/v2/data?datasetid=GHCND&datatypeid=PRCP&&datatypeid=TMAX&datatypeid=TMIN&limit=1000&stationid=GHCND:USW00014742&startdate='+year+'-01-01&enddate='+year+'-12-31', headers={'token':Token})\n",
    "    #load the api response as a json\n",
    "    d = json.loads(r.text)\n",
    "    #get all items in the response which are MIN temp readings\n",
    "    vt_min_temps_item = [item for item in d['results'] if item['datatype']=='TMIN']\n",
    "    #get the date field from all MIN temperature readings\n",
    "    vt_dates_temp_min += [item['date'] for item in vt_min_temps_item]\n",
    "    #get the actual min temperature from all MIN temperature readings\n",
    "    vt_temps_min += [item['value'] for item in vt_min_temps_item]\n",
    "    #get all items in the response which are MAX temperature readings\n",
    "    vt_max_temp_item = [item for item in d['results'] if item['datatype']=='TMAX']\n",
    "    #get the date field from all MAX temperature readings\n",
    "    vt_dates_temp_max += [item['date'] for item in vt_max_temp_item]\n",
    "    #get the actual average temperature from all MAX temperature readings\n",
    "    vt_temps_max += [item['value'] for item in vt_max_temp_item]\n",
    "    #get all items in the response which are average PRCP readings\n",
    "    vt_avg_prcp = [item for item in d['results'] if item['datatype']=='PRCP']\n",
    "    #get the date field from all average PRCP readings\n",
    "    vt_dates_prcp += [item['date'] for item in vt_avg_prcp]\n",
    "    #get the actual average precipitation from all average PRCP readings\n",
    "    vt_prcp += [item['value'] for item in vt_avg_prcp]\n",
    "    \n",
    "print('done')"
   ]
  },
  {
   "cell_type": "code",
   "execution_count": null,
   "id": "53caf05f",
   "metadata": {},
   "outputs": [],
   "source": [
    "print(vt_dates_temp_min)"
   ]
  },
  {
   "cell_type": "code",
   "execution_count": null,
   "id": "d95c0905",
   "metadata": {},
   "outputs": [],
   "source": [
    "r = requests.get('https://www.ncdc.noaa.gov/cdo-web/api/v2/data?datasetid=GHCND&datatypeid=PRCP&&datatypeid=TMAX&datatypeid=TMIN&limit=1000&stationid=GHCND:USW00014742&startdate=2020-11-30&enddate=2020-12-31', headers={'token':Token})\n",
    "d = json.loads(r.text)\n",
    "print(d)"
   ]
  },
  {
   "cell_type": "code",
   "execution_count": null,
   "id": "3a5285ba",
   "metadata": {},
   "outputs": [],
   "source": []
  }
 ],
 "metadata": {
  "kernelspec": {
   "display_name": "Python 3",
   "language": "python",
   "name": "python3"
  },
  "language_info": {
   "codemirror_mode": {
    "name": "ipython",
    "version": 3
   },
   "file_extension": ".py",
   "mimetype": "text/x-python",
   "name": "python",
   "nbconvert_exporter": "python",
   "pygments_lexer": "ipython3",
   "version": "3.8.8"
  }
 },
 "nbformat": 4,
 "nbformat_minor": 5
}
